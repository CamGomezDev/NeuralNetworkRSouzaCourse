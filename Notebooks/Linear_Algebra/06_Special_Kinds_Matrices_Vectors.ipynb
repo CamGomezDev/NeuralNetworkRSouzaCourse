{
 "cells": [
  {
   "cell_type": "markdown",
   "metadata": {},
   "source": [
    "<h1 style=\"color:rgb(0,120,170)\">Neural Networks and Deep Learning</h1>\n",
    "<h2 style=\"color:rgb(0,120,170)\">Linear Algebra Basics</h2>\n",
    "\n",
    "[Source](https://hadrienj.github.io/posts/Deep-Learning-Book-Series-Introduction/)     \n",
    "[Github](https://github.com/hadrienj/deepLearningBook-Notes)"
   ]
  },
  {
   "cell_type": "code",
   "execution_count": 1,
   "metadata": {},
   "outputs": [],
   "source": [
    "import numpy as np\n",
    "import matplotlib.pyplot as plt\n",
    "import seaborn as sns"
   ]
  },
  {
   "cell_type": "code",
   "execution_count": 2,
   "metadata": {},
   "outputs": [
    {
     "name": "stdout",
     "output_type": "stream",
     "text": [
      "Populating the interactive namespace from numpy and matplotlib\n"
     ]
    }
   ],
   "source": [
    "# Plot parameters\n",
    "sns.set()\n",
    "%pylab inline\n",
    "pylab.rcParams['figure.figsize'] = (4, 4)\n",
    "plt.rcParams['xtick.major.size'] = 0\n",
    "plt.rcParams['ytick.major.size'] = 0\n",
    "# Avoid inaccurate floating values (for inverse matrices in dot product for instance)\n",
    "# See https://stackoverflow.com/questions/24537791/numpy-matrix-inversion-rounding-errors\n",
    "np.set_printoptions(suppress=True)"
   ]
  },
  {
   "cell_type": "code",
   "execution_count": 3,
   "metadata": {},
   "outputs": [
    {
     "data": {
      "text/html": [
       "<style>\n",
       ".pquote {\n",
       "  text-align: left;\n",
       "  margin: 40px 0 40px auto;\n",
       "  width: 70%;\n",
       "  font-size: 1.5em;\n",
       "  font-style: italic;\n",
       "  display: block;\n",
       "  line-height: 1.3em;\n",
       "  color: #5a75a7;\n",
       "  font-weight: 600;\n",
       "  border-left: 5px solid rgba(90, 117, 167, .1);\n",
       "  padding-left: 6px;\n",
       "}\n",
       ".notes {\n",
       "  font-style: italic;\n",
       "  display: block;\n",
       "  margin: 40px 10%;\n",
       "}\n",
       "img + em {\n",
       "  text-align: center;\n",
       "  display: block;\n",
       "  color: gray;\n",
       "  font-size: 0.9em;\n",
       "  font-weight: 600;\n",
       "}\n",
       "</style>\n"
      ],
      "text/plain": [
       "<IPython.core.display.HTML object>"
      ]
     },
     "metadata": {},
     "output_type": "display_data"
    }
   ],
   "source": [
    "%%html\n",
    "<style>\n",
    ".pquote {\n",
    "  text-align: left;\n",
    "  margin: 40px 0 40px auto;\n",
    "  width: 70%;\n",
    "  font-size: 1.5em;\n",
    "  font-style: italic;\n",
    "  display: block;\n",
    "  line-height: 1.3em;\n",
    "  color: #5a75a7;\n",
    "  font-weight: 600;\n",
    "  border-left: 5px solid rgba(90, 117, 167, .1);\n",
    "  padding-left: 6px;\n",
    "}\n",
    ".notes {\n",
    "  font-style: italic;\n",
    "  display: block;\n",
    "  margin: 40px 10%;\n",
    "}\n",
    "img + em {\n",
    "  text-align: center;\n",
    "  display: block;\n",
    "  color: gray;\n",
    "  font-size: 0.9em;\n",
    "  font-weight: 600;\n",
    "}\n",
    "</style>"
   ]
  },
  {
   "cell_type": "markdown",
   "metadata": {},
   "source": [
    "$$\n",
    "\\newcommand\\bs[1]{\\boldsymbol{#1}}\n",
    "$$"
   ]
  },
  {
   "cell_type": "markdown",
   "metadata": {},
   "source": [
    "<span class='notes'>\n",
    "    This content is part of a series following the chapter 2 on linear algebra from the [Deep Learning Book](http://www.deeplearningbook.org/) by Goodfellow, I., Bengio, Y., and Courville, A. (2016). It aims to provide intuitions/drawings/python code on mathematical theories and is constructed as my understanding of these concepts. You can check the syllabus in the [introduction post](https://hadrienj.github.io/posts/Deep-Learning-Book-Series-Introduction/).\n",
    "</span>"
   ]
  },
  {
   "cell_type": "markdown",
   "metadata": {},
   "source": [
    "# Introduction\n",
    "\n",
    "We have seen in [2.3](https://hadrienj.github.io/posts/Deep-Learning-Book-Series-2.3-Identity-and-Inverse-Matrices/) some interesting kind of matrices. We will see other type of vectors and matrices in this chapter. It is not a big chapter but it is important to understand the next ones.\n",
    "\n",
    "# 2.6 Special Kinds of Matrices and Vectors"
   ]
  },
  {
   "cell_type": "markdown",
   "metadata": {},
   "source": [
    "<img src=\"images/diagonal-and-symmetric-matrices.png\" width=\"400\" alt=\"Diagonal and symmetric matrices\" title=\"Diagonal and symmetric matrices\">\n",
    "<em>Example of diagonal and symmetric matrices</em>\n",
    "\n",
    "\n",
    "# Diagonal matrices"
   ]
  },
  {
   "cell_type": "markdown",
   "metadata": {},
   "source": [
    "<img src=\"images/diagonal-matrix.png\" width=\"150\" alt=\"Example of a diagonal matrix\" title=\"Diagonal matrix\">\n",
    "<em>Example of a diagonal matrix</em>\n",
    "\n",
    "A matrix $\\bs{A}_{i,j}$ is diagonal if its entries are all zeros except on the diagonal (when $i=j$).\n",
    "\n",
    "### Example 1.\n",
    "\n",
    "$$\n",
    "\\bs{D}=\n",
    "\\begin{bmatrix}\n",
    "    2 & 0 & 0 & 0\\\\\\\\\n",
    "    0 & 4 & 0 & 0\\\\\\\\\n",
    "    0 & 0 & 3 & 0\\\\\\\\\n",
    "    0 & 0 & 0 & 1\n",
    "\\end{bmatrix}\n",
    "$$\n",
    "\n",
    "In this case the matrix is also square but there can be non square diagonal matrices.\n",
    "\n",
    "### Example 2.\n",
    "\n",
    "$$\n",
    "\\bs{D}=\n",
    "\\begin{bmatrix}\n",
    "    2 & 0 & 0\\\\\\\\\n",
    "    0 & 4 & 0\\\\\\\\\n",
    "    0 & 0 & 3\\\\\\\\\n",
    "    0 & 0 & 0\n",
    "\\end{bmatrix}\n",
    "$$\n",
    "\n",
    "Or\n",
    "\n",
    "$$\n",
    "\\bs{D}=\n",
    "\\begin{bmatrix}\n",
    "    2 & 0 & 0 & 0\\\\\\\\\n",
    "    0 & 4 & 0 & 0\\\\\\\\\n",
    "    0 & 0 & 3 & 0\n",
    "\\end{bmatrix}\n",
    "$$\n",
    "\n",
    "The diagonal matrix can be denoted $diag(\\bs{v})$ where $\\bs{v}$ is the vector containing the diagonal values.\n",
    "\n",
    "### Example 3.\n",
    "\n",
    "$$\n",
    "\\bs{D}=\n",
    "\\begin{bmatrix}\n",
    "    2 & 0 & 0 & 0\\\\\\\\\n",
    "    0 & 4 & 0 & 0\\\\\\\\\n",
    "    0 & 0 & 3 & 0\\\\\\\\\n",
    "    0 & 0 & 0 & 1\n",
    "\\end{bmatrix}\n",
    "$$\n",
    "\n",
    "In this matrix, $\\bs{v}$ is the following vector:\n",
    "\n",
    "$$\n",
    "\\bs{v}=\n",
    "\\begin{bmatrix}\n",
    "    2\\\\\\\\\n",
    "    4\\\\\\\\\n",
    "    3\\\\\\\\\n",
    "    1\n",
    "\\end{bmatrix}\n",
    "$$\n",
    "\n",
    "The Numpy function `diag()` can be used to create square diagonal matrices:"
   ]
  },
  {
   "cell_type": "code",
   "execution_count": 4,
   "metadata": {},
   "outputs": [
    {
     "data": {
      "text/plain": [
       "array([[2, 0, 0, 0],\n",
       "       [0, 4, 0, 0],\n",
       "       [0, 0, 3, 0],\n",
       "       [0, 0, 0, 1]])"
      ]
     },
     "execution_count": 4,
     "metadata": {},
     "output_type": "execute_result"
    }
   ],
   "source": [
    "v = np.array([2, 4, 3, 1])\n",
    "np.diag(v)"
   ]
  },
  {
   "cell_type": "markdown",
   "metadata": {},
   "source": [
    "The mutliplication between a diagonal matrix and a vector is thus just a ponderation of each element of the vector by $v$:\n",
    "\n",
    "### Example 4.\n",
    "\n",
    "$$\n",
    "\\bs{D}=\n",
    "\\begin{bmatrix}\n",
    "    2 & 0 & 0 & 0\\\\\\\\\n",
    "    0 & 4 & 0 & 0\\\\\\\\\n",
    "    0 & 0 & 3 & 0\\\\\\\\\n",
    "    0 & 0 & 0 & 1\n",
    "\\end{bmatrix}\n",
    "$$\n",
    "\n",
    "and\n",
    "\n",
    "$$\n",
    "\\bs{x}=\n",
    "\\begin{bmatrix}\n",
    "    3\\\\\\\\\n",
    "    2\\\\\\\\\n",
    "    2\\\\\\\\\n",
    "    7\n",
    "\\end{bmatrix}\n",
    "$$\n",
    "\n",
    "$$\n",
    "\\begin{align*}\n",
    "&\\bs{Dx}=\n",
    "\\begin{bmatrix}\n",
    "    2 & 0 & 0 & 0\\\\\\\\\n",
    "    0 & 4 & 0 & 0\\\\\\\\\n",
    "    0 & 0 & 3 & 0\\\\\\\\\n",
    "    0 & 0 & 0 & 1\n",
    "\\end{bmatrix} \\times\n",
    "\\begin{bmatrix}\n",
    "    3\\\\\\\\\n",
    "    2\\\\\\\\\n",
    "    2\\\\\\\\\n",
    "    7\n",
    "\\end{bmatrix}\\\\\\\\\n",
    "&=\\begin{bmatrix}\n",
    "    2\\times3 + 0\\times2 + 0\\times2 + 0\\times7\\\\\\\\\n",
    "    0\\times3 + 4\\times2 + 0\\times2 + 0\\times7\\\\\\\\\n",
    "    0\\times3 + 0\\times2 + 3\\times2 + 0\\times7\\\\\\\\\n",
    "    0\\times3 + 0\\times2 + 0\\times2 + 1\\times7\n",
    "\\end{bmatrix}\\\\\\\\\n",
    "&=\n",
    "\\begin{bmatrix}\n",
    "    2\\times3\\\\\\\\\n",
    "    4\\times2\\\\\\\\\n",
    "    3\\times2\\\\\\\\\n",
    "    1\\times7\n",
    "\\end{bmatrix}\n",
    "\\end{align*}\n",
    "$$"
   ]
  },
  {
   "cell_type": "markdown",
   "metadata": {},
   "source": [
    "Non square matrices have the same properties:\n",
    "\n",
    "### Example 5.\n",
    "\n",
    "$$\n",
    "\\bs{D}=\n",
    "\\begin{bmatrix}\n",
    "    2 & 0 & 0\\\\\\\\\n",
    "    0 & 4 & 0\\\\\\\\\n",
    "    0 & 0 & 3\\\\\\\\\n",
    "    0 & 0 & 0\n",
    "\\end{bmatrix}\n",
    "$$\n",
    "\n",
    "and\n",
    "\n",
    "$$\n",
    "\\bs{x}=\n",
    "\\begin{bmatrix}\n",
    "    3\\\\\\\\\n",
    "    2\\\\\\\\\n",
    "    2\n",
    "\\end{bmatrix}\n",
    "$$\n",
    "\n",
    "$$\n",
    "\\bs{Dx}=\n",
    "\\begin{bmatrix}\n",
    "    2 & 0 & 0\\\\\\\\\n",
    "    0 & 4 & 0\\\\\\\\\n",
    "    0 & 0 & 3\\\\\\\\\n",
    "    0 & 0 & 0\n",
    "\\end{bmatrix}\n",
    "\\times\n",
    "\\begin{bmatrix}\n",
    "    3\\\\\\\\\n",
    "    2\\\\\\\\\n",
    "    2\n",
    "\\end{bmatrix}\n",
    "=\n",
    "\\begin{bmatrix}\n",
    "    2\\times3\\\\\\\\\n",
    "    4\\times2\\\\\\\\\n",
    "    3\\times2\\\\\\\\\n",
    "    0\n",
    "\\end{bmatrix}\n",
    "$$"
   ]
  },
  {
   "cell_type": "markdown",
   "metadata": {},
   "source": [
    "The invert of a square diagonal matrix exists if all entries of the diagonal are non-zeros. If it is the case, the invert is easy to find. Also, the inverse doen't exist if the matrix is non-square.\n",
    "\n",
    "$$\n",
    "\\bs{D}=\n",
    "\\begin{bmatrix}\n",
    "    2 & 0 & 0 & 0\\\\\\\\\n",
    "    0 & 4 & 0 & 0\\\\\\\\\n",
    "    0 & 0 & 3 & 0\\\\\\\\\n",
    "    0 & 0 & 0 & 1\n",
    "\\end{bmatrix}\n",
    "$$\n",
    "\n",
    "$$\n",
    "\\bs{D}^{-1}=\n",
    "\\begin{bmatrix}\n",
    "    \\frac{1}{2} & 0 & 0 & 0\\\\\\\\\n",
    "    0 & \\frac{1}{4} & 0 & 0\\\\\\\\\n",
    "    0 & 0 & \\frac{1}{3} & 0\\\\\\\\\n",
    "    0 & 0 & 0 & \\frac{1}{1}\n",
    "\\end{bmatrix}\n",
    "$$\n",
    "\n",
    "$$\n",
    "\\bs{D}=\n",
    "\\begin{bmatrix}\n",
    "    2 & 0 & 0 & 0\\\\\\\\\n",
    "    0 & 4 & 0 & 0\\\\\\\\\n",
    "    0 & 0 & 3 & 0\\\\\\\\\n",
    "    0 & 0 & 0 & 1\n",
    "\\end{bmatrix}\n",
    "\\begin{bmatrix}\n",
    "    \\frac{1}{2} & 0 & 0 & 0\\\\\\\\\n",
    "    0 & \\frac{1}{4} & 0 & 0\\\\\\\\\n",
    "    0 & 0 & \\frac{1}{3} & 0\\\\\\\\\n",
    "    0 & 0 & 0 & \\frac{1}{1}\n",
    "\\end{bmatrix}=\n",
    "\\begin{bmatrix}\n",
    "    1 & 0 & 0 & 0\\\\\\\\\n",
    "    0 & 1 & 0 & 0\\\\\\\\\n",
    "    0 & 0 & 1 & 0\\\\\\\\\n",
    "    0 & 0 & 0 & 1\n",
    "\\end{bmatrix}\n",
    "$$\n",
    "\n",
    "Let's check with Numpy that the multiplication of the matrix with its invert gives us the identity matrix:"
   ]
  },
  {
   "cell_type": "code",
   "execution_count": 5,
   "metadata": {},
   "outputs": [
    {
     "data": {
      "text/plain": [
       "array([[2, 0, 0, 0],\n",
       "       [0, 4, 0, 0],\n",
       "       [0, 0, 3, 0],\n",
       "       [0, 0, 0, 1]])"
      ]
     },
     "execution_count": 5,
     "metadata": {},
     "output_type": "execute_result"
    }
   ],
   "source": [
    "A = np.array([[2, 0, 0, 0], [0, 4, 0, 0], [0, 0, 3, 0], [0, 0, 0, 1]])\n",
    "A"
   ]
  },
  {
   "cell_type": "code",
   "execution_count": 6,
   "metadata": {},
   "outputs": [
    {
     "data": {
      "text/plain": [
       "array([[0.5       , 0.        , 0.        , 0.        ],\n",
       "       [0.        , 0.25      , 0.        , 0.        ],\n",
       "       [0.        , 0.        , 0.33333333, 0.        ],\n",
       "       [0.        , 0.        , 0.        , 1.        ]])"
      ]
     },
     "execution_count": 6,
     "metadata": {},
     "output_type": "execute_result"
    }
   ],
   "source": [
    "A_inv = np.array([[1/2., 0, 0, 0], [0, 1/4., 0, 0], [0, 0, 1/3., 0], [0, 0, 0, 1/1.]])\n",
    "A_inv"
   ]
  },
  {
   "cell_type": "code",
   "execution_count": 7,
   "metadata": {},
   "outputs": [
    {
     "data": {
      "text/plain": [
       "array([[1., 0., 0., 0.],\n",
       "       [0., 1., 0., 0.],\n",
       "       [0., 0., 1., 0.],\n",
       "       [0., 0., 0., 1.]])"
      ]
     },
     "execution_count": 7,
     "metadata": {},
     "output_type": "execute_result"
    }
   ],
   "source": [
    "A.dot(A_inv)"
   ]
  },
  {
   "cell_type": "markdown",
   "metadata": {},
   "source": [
    "Great! This gives the identity matrix"
   ]
  },
  {
   "cell_type": "markdown",
   "metadata": {},
   "source": [
    "# Symmetric matrices"
   ]
  },
  {
   "cell_type": "markdown",
   "metadata": {},
   "source": [
    "<img src=\"images/symmetric-matrix.png\" width=\"150\" alt=\"Illustration of a symmetric matrix\" title=\"Symmetric matrix\">\n",
    "<em>Illustration of a symmetric matrix</em>\n",
    "\n",
    "The matrix $A$ is symmetric if it is equal to its transpose:\n",
    "    \n",
    "$$\n",
    "\\bs{A} = \\bs{A}^\\text{T}\n",
    "$$\n",
    "\n",
    "This concerns only square matrices.\n",
    "\n",
    "### Example 6.\n",
    "\n",
    "$$\n",
    "\\bs{A}=\n",
    "\\begin{bmatrix}\n",
    "    2 & 4 & -1\\\\\\\\\n",
    "    4 & -8 & 0\\\\\\\\\n",
    "    -1 & 0 & 3\n",
    "\\end{bmatrix}\n",
    "$$"
   ]
  },
  {
   "cell_type": "code",
   "execution_count": 8,
   "metadata": {},
   "outputs": [
    {
     "data": {
      "text/plain": [
       "array([[ 2,  4, -1],\n",
       "       [ 4, -8,  0],\n",
       "       [-1,  0,  3]])"
      ]
     },
     "execution_count": 8,
     "metadata": {},
     "output_type": "execute_result"
    }
   ],
   "source": [
    "A = np.array([[2, 4, -1], [4, -8, 0], [-1, 0, 3]])\n",
    "A"
   ]
  },
  {
   "cell_type": "code",
   "execution_count": 9,
   "metadata": {},
   "outputs": [
    {
     "data": {
      "text/plain": [
       "array([[ 2,  4, -1],\n",
       "       [ 4, -8,  0],\n",
       "       [-1,  0,  3]])"
      ]
     },
     "execution_count": 9,
     "metadata": {},
     "output_type": "execute_result"
    }
   ],
   "source": [
    "A.T"
   ]
  },
  {
   "cell_type": "markdown",
   "metadata": {},
   "source": [
    "# Unit vectors\n",
    "\n",
    "A unit vector is a vector of length equal to 1. It can be denoted by a letter with a hat: $\\hat{u}$"
   ]
  },
  {
   "cell_type": "markdown",
   "metadata": {},
   "source": [
    "# Orthogonal vectors\n",
    "\n",
    "Two orthogonal vectors are separated by a 90° angle. The dot product of two orthogonal vectors gives 0.\n",
    "\n",
    "### Example 7."
   ]
  },
  {
   "cell_type": "code",
   "execution_count": 10,
   "metadata": {},
   "outputs": [
    {
     "data": {
      "image/png": "[encoded data removed]",
      "text/plain": [
       "<Figure size 288x288 with 1 Axes>"
      ]
     },
     "metadata": {
      "needs_background": "light"
     },
     "output_type": "display_data"
    }
   ],
   "source": [
    "x = [0,0,2,2]\n",
    "y = [0,0,2,-2]\n",
    "\n",
    "plt.quiver([x[0], y[0]],\n",
    "           [x[1], y[1]],\n",
    "           [x[2], y[2]],\n",
    "           [x[3], y[3]],\n",
    "           angles='xy', scale_units='xy', scale=1)\n",
    "\n",
    "plt.xlim(-2, 4)\n",
    "plt.ylim(-3, 3)\n",
    "plt.axvline(x=0, color='grey')\n",
    "plt.axhline(y=0, color='grey')\n",
    "\n",
    "plt.text(1, 1.5, r'$\\vec{u}$', size=18)\n",
    "plt.text(1.5, -1, r'$\\vec{v}$', size=18)\n",
    "\n",
    "plt.show()\n",
    "plt.close()"
   ]
  },
  {
   "cell_type": "markdown",
   "metadata": {},
   "source": [
    "$$\n",
    "\\bs{x}= \n",
    "\\begin{bmatrix}\n",
    "    2\\\\\\\\\n",
    "    2\n",
    "\\end{bmatrix}\n",
    "$$\n",
    "\n",
    "and\n",
    "\n",
    "$$\n",
    "\\bs{y}=\n",
    "\\begin{bmatrix}\n",
    "    2\\\\\\\\\n",
    "    -2\n",
    "\\end{bmatrix}\n",
    "$$\n",
    "\n",
    "$$\n",
    "\\bs{x^\\text{T}y}=\n",
    "\\begin{bmatrix}\n",
    "    2 & 2\n",
    "\\end{bmatrix}\n",
    "\\begin{bmatrix}\n",
    "    2\\\\\\\\\n",
    "    -2\n",
    "\\end{bmatrix}=\n",
    "\\begin{bmatrix}\n",
    "    2\\times2 + 2\\times-2\n",
    "\\end{bmatrix}=0\n",
    "$$\n",
    "\n",
    "In addition, when the norm of orthogonal vectors is the unit norm they are called **orthonormal**."
   ]
  },
  {
   "cell_type": "markdown",
   "metadata": {},
   "source": [
    "<span class='pquote'>\n",
    "    It is impossible to have more than $n$ vectors mutually orthogonal in $\\mathbb{R}^n$.\n",
    "</span>\n",
    "\n",
    "It is impossible to have more than $n$ vectors mutually orthogonal in $\\mathbb{R}^n$. For instance try to draw 3 vectors in a 2-dimensional space ($\\mathbb{R}^2$) that are mutually orthogonal...\n"
   ]
  },
  {
   "cell_type": "markdown",
   "metadata": {},
   "source": [
    "# Orthogonal matrices\n",
    "\n",
    "Orthogonal matrices are important because they have interesting properties. A matrix is orthogonal if columns are mutually orthogonal and have a unit norm (orthonormal) and rows are mutually orthonormal and have unit norm. \n",
    "\n",
    "\n",
    "<img src=\"images/orthogonal-matrix.png\" width=\"300\" alt=\"Under the hood of an orthogonal matrix\" title=\"Under the hood of an orthogonal matrix\">\n",
    "<em>Under the hood of an orthogonal matrix</em>\n",
    "\n",
    "$$\n",
    "\\bs{A}= \n",
    "\\begin{bmatrix}\n",
    "    A_{1,1} & A_{1,2}\\\\\\\\\n",
    "    A_{2,1} & A_{2,2}\n",
    "\\end{bmatrix}\n",
    "$$\n",
    "\n",
    "This means that \n",
    "\n",
    "$$\n",
    "\\begin{bmatrix}\n",
    "    A_{1,1}\\\\\\\\\n",
    "    A_{2,1}\n",
    "\\end{bmatrix}\n",
    "$$\n",
    "\n",
    "and \n",
    "\n",
    "$$\n",
    "\\begin{bmatrix}\n",
    "    A_{1,2}\\\\\\\\\n",
    "    A_{2,2}\n",
    "\\end{bmatrix}\n",
    "$$\n",
    "\n",
    "are orthogonal vectors and also that the rows\n",
    "\n",
    "$$\n",
    "\\begin{bmatrix}\n",
    "    A_{1,1} & A_{1,2}\n",
    "\\end{bmatrix}\n",
    "$$\n",
    "\n",
    "and\n",
    "\n",
    "$$\n",
    "\\begin{bmatrix}\n",
    "    A_{2,1} & A_{2,2}\n",
    "\\end{bmatrix}\n",
    "$$\n",
    "\n",
    "are orthogonal vectors (cf. above for definition of orthogonal vectors)."
   ]
  },
  {
   "cell_type": "markdown",
   "metadata": {},
   "source": [
    "## Property 1: $\\bs{A^\\text{T}A}=\\bs{I}$\n",
    "\n",
    "\n",
    "A orthogonal matrix has this property:\n",
    "\n",
    "$$\n",
    "\\bs{A^\\text{T}A}=\\bs{AA^\\text{T}}=\\bs{I}\n",
    "$$\n",
    "\n",
    "We can see that this statement is true with the following reasoning:\n",
    "\n",
    "Let's have the following matrix:\n",
    "\n",
    "$$\n",
    "\\bs{A}=\\begin{bmatrix}\n",
    "    a & b\\\\\\\\\n",
    "    c & d\n",
    "\\end{bmatrix}\n",
    "$$\n",
    "\n",
    "and thus\n",
    "\n",
    "$$\n",
    "\\bs{A}^\\text{T}=\\begin{bmatrix}\n",
    "    a & c\\\\\\\\\n",
    "    b & d\n",
    "\\end{bmatrix}\n",
    "$$\n",
    "\n",
    "Let's do the product:\n",
    "\n",
    "$$\n",
    "\\begin{align*}\n",
    "&\\bs{A^\\text{T}A}=\\begin{bmatrix}\n",
    "    a & c\\\\\\\\\n",
    "    b & d\n",
    "\\end{bmatrix}\n",
    "\\begin{bmatrix}\n",
    "    a & b\\\\\\\\\n",
    "    c & d\n",
    "\\end{bmatrix}\n",
    "=\n",
    "\\begin{bmatrix}\n",
    "    aa + cc & ab + cd\\\\\\\\\n",
    "    ab + cd & bb + dd\n",
    "\\end{bmatrix}\\\\\\\\\n",
    "&=\n",
    "\\begin{bmatrix}\n",
    "    a^2 + c^2 & ab + cd\\\\\\\\\n",
    "    ab + cd & b^2 + d^2\n",
    "\\end{bmatrix}\n",
    "\\end{align*}\n",
    "$$\n",
    "\n",
    "We saw in [2.5](https://hadrienj.github.io/posts/Deep-Learning-Book-Series-2.5-Norms/) that the norm of the vector $\\begin{bmatrix}\n",
    "    a & c\n",
    "\\end{bmatrix}$ is equal to $a^2+c^2$ ($L^2$ or squared $L^2$). In addtion, we saw that the rows of $\\bs{A}$ have a unit norm because $\\bs{A}$ is orthogonal. This means that $a^2+c^2=1$ and $b^2+d^2=1$. So we now have:\n",
    "\n",
    "$$\n",
    "\\bs{A^\\text{T}A}=\n",
    "\\begin{bmatrix}\n",
    "    1 & ab + cd\\\\\\\\\n",
    "    ab + cd & 1\n",
    "\\end{bmatrix}\n",
    "$$\n",
    "\n",
    "Also, $ab+cd$ corresponds to the product of $\\begin{bmatrix}\n",
    "    a & c\n",
    "\\end{bmatrix} and \\begin{bmatrix}\n",
    "    b & d\n",
    "\\end{bmatrix}$:\n",
    "\n",
    "$$\n",
    "\\begin{bmatrix}\n",
    "    a & c\n",
    "\\end{bmatrix}\n",
    "\\begin{bmatrix}\n",
    "    b\\\\\\\\\n",
    "    d\n",
    "\\end{bmatrix}\n",
    "=\n",
    "ab+cd\n",
    "$$\n",
    "\n",
    "And we know that the columns are orthogonal which means that:\n",
    "\n",
    "$$\n",
    "\\begin{bmatrix}\n",
    "    a & c\n",
    "\\end{bmatrix}\n",
    "\\begin{bmatrix}\n",
    "    b\\\\\\\\\n",
    "    d\n",
    "\\end{bmatrix}=0\n",
    "$$\n",
    "\n",
    "We thus have the identity matrix:\n",
    "\n",
    "$$\n",
    "\\bs{A^\\text{T}A}=\\begin{bmatrix}\n",
    "    1 & 0\\\\\\\\\n",
    "    0 & 1\n",
    "\\end{bmatrix}\n",
    "$$"
   ]
  },
  {
   "cell_type": "markdown",
   "metadata": {},
   "source": [
    "## Property 2: $\\bs{A}^\\text{T}=\\bs{A}^{-1}$\n",
    "\n",
    "We can show that if $\\bs{A^\\text{T}A}=\\bs{I}$ then $\n",
    "\\bs{A}^\\text{T}=\\bs{A}^{-1}$.\n",
    "\n",
    "If we multiply each side of the equation $\\bs{A^\\text{T}A}=\\bs{I}$ by $\\bs{A}^{-1}$ we have:\n",
    "\n",
    "$$\n",
    "(\\bs{A^\\text{T}A})\\bs{A}^{-1}=\\bs{I}\\bs{A}^{-1}\n",
    "$$\n",
    "\n",
    "Recall from [2.3](https://hadrienj.github.io/posts/Deep-Learning-Book-Series-2.3-Identity-and-Inverse-Matrices/) that a matrix or vector doesn't change when it is multiplied by the identity matrix. So we have:\n",
    "\n",
    "$$\n",
    "(\\bs{A^\\text{T}A})\\bs{A}^{-1}=\\bs{A}^{-1}\n",
    "$$\n",
    "\n",
    "We also saw in [2.2](https://hadrienj.github.io/posts/Deep-Learning-Book-Series-2.2-Multiplying-Matrices-and-Vectors/) that matrix multiplication is associative so we can remove the parenthesis:\n",
    "\n",
    "$$\n",
    "\\bs{A^\\text{T}A}\\bs{A}^{-1}=\\bs{A}^{-1}\n",
    "$$\n",
    "\n",
    "We also know that $\\bs{A}\\bs{A}^{-1}=\\bs{I}$ (see [2.3](https://hadrienj.github.io/posts/Deep-Learning-Book-Series-2.3-Identity-and-Inverse-Matrices/)) so we can replace:\n",
    "\n",
    "$$\n",
    "\\bs{A^\\text{T}}\\bs{I}=\\bs{A}^{-1}\n",
    "$$\n",
    "\n",
    "This shows that\n",
    "\n",
    "$$\\bs{A}^\\text{T}=\\bs{A}^{-1}$$\n",
    "\n",
    "You can refer to [this question](https://math.stackexchange.com/questions/1936020/why-is-the-inverse-of-an-orthogonal-matrix-equal-to-its-transpose).\n",
    "\n",
    "### Example 8.\n",
    "\n",
    "Sine and cosine are convenient to create orthogonal matrices. Let's take the following matrix:\n",
    "\n",
    "$$\n",
    "\\bs{A}= \n",
    "\\begin{bmatrix}\n",
    "    cos(50) & -sin(50)\\\\\\\\\n",
    "    sin(50) & cos(50)\n",
    "\\end{bmatrix}\n",
    "$$"
   ]
  },
  {
   "cell_type": "code",
   "execution_count": 11,
   "metadata": {},
   "outputs": [
    {
     "data": {
      "text/plain": [
       "array([[ 0.96496603,  0.26237485],\n",
       "       [-0.26237485,  0.96496603]])"
      ]
     },
     "execution_count": 11,
     "metadata": {},
     "output_type": "execute_result"
    }
   ],
   "source": [
    "A = np.array([[np.cos(50), -np.sin(50)], [np.sin(50), np.cos(50)]])\n",
    "A"
   ]
  },
  {
   "cell_type": "code",
   "execution_count": 12,
   "metadata": {},
   "outputs": [],
   "source": [
    "col0 = A[:, [0]]\n",
    "col1 = A[:, [1]]\n",
    "row0 = A[0].reshape(A.shape[1], 1)\n",
    "row1 = A[1].reshape(A.shape[1], 1)"
   ]
  },
  {
   "cell_type": "markdown",
   "metadata": {},
   "source": [
    "Let's check that rows and columns are orthogonal:"
   ]
  },
  {
   "cell_type": "code",
   "execution_count": 13,
   "metadata": {},
   "outputs": [
    {
     "data": {
      "text/plain": [
       "array([[0.]])"
      ]
     },
     "execution_count": 13,
     "metadata": {},
     "output_type": "execute_result"
    }
   ],
   "source": [
    "col0.T.dot(col1)"
   ]
  },
  {
   "cell_type": "code",
   "execution_count": 14,
   "metadata": {},
   "outputs": [
    {
     "data": {
      "text/plain": [
       "array([[0.]])"
      ]
     },
     "execution_count": 14,
     "metadata": {},
     "output_type": "execute_result"
    }
   ],
   "source": [
    "row0.T.dot(row1)"
   ]
  },
  {
   "cell_type": "markdown",
   "metadata": {},
   "source": [
    "Let's check that\n",
    "\n",
    "$$\n",
    "\\bs{A^\\text{T}A}=\\bs{AA^\\text{T}}=\\bs{I}\n",
    "$$\n",
    "\n",
    "and thus\n",
    "\n",
    "$$\n",
    "\\bs{A}^\\text{T}=\\bs{A}^{-1}\n",
    "$$"
   ]
  },
  {
   "cell_type": "code",
   "execution_count": 15,
   "metadata": {},
   "outputs": [
    {
     "data": {
      "text/plain": [
       "array([[1., 0.],\n",
       "       [0., 1.]])"
      ]
     },
     "execution_count": 15,
     "metadata": {},
     "output_type": "execute_result"
    }
   ],
   "source": [
    "A.T.dot(A)"
   ]
  },
  {
   "cell_type": "code",
   "execution_count": 16,
   "metadata": {},
   "outputs": [
    {
     "data": {
      "text/plain": [
       "array([[ 0.96496603, -0.26237485],\n",
       "       [ 0.26237485,  0.96496603]])"
      ]
     },
     "execution_count": 16,
     "metadata": {},
     "output_type": "execute_result"
    }
   ],
   "source": [
    "A.T"
   ]
  },
  {
   "cell_type": "code",
   "execution_count": 17,
   "metadata": {},
   "outputs": [
    {
     "data": {
      "text/plain": [
       "array([[ 0.96496603, -0.26237485],\n",
       "       [ 0.26237485,  0.96496603]])"
      ]
     },
     "execution_count": 17,
     "metadata": {},
     "output_type": "execute_result"
    }
   ],
   "source": [
    "numpy.linalg.inv(A)"
   ]
  },
  {
   "cell_type": "markdown",
   "metadata": {},
   "source": [
    "Everything is correct!\n",
    "\n",
    "# Conclusion\n",
    "\n",
    "In this chapter we saw different interesting type of matrices with specific properties. It is generally useful to recall them while we deal with this kind of matrices.\n",
    "\n",
    "In the next chapter we will saw a central idea in linear algebra: the eigendecomposition. Keep reading!"
   ]
  },
  {
   "cell_type": "markdown",
   "metadata": {},
   "source": [
    "# References\n",
    "\n",
    "## Inverse and transpose of orthogonal matrix\n",
    "\n",
    "- https://math.stackexchange.com/questions/1936020/why-is-the-inverse-of-an-orthogonal-matrix-equal-to-its-transpose\n",
    "\n",
    "- https://dyinglovegrape.wordpress.com/2010/11/30/the-inverse-of-an-orthogonal-matrix-is-its-transpose/"
   ]
  }
 ],
 "metadata": {
  "kernelspec": {
   "display_name": "Python 3",
   "language": "python",
   "name": "python3"
  },
  "language_info": {
   "codemirror_mode": {
    "name": "ipython",
    "version": 3
   },
   "file_extension": ".py",
   "mimetype": "text/x-python",
   "name": "python",
   "nbconvert_exporter": "python",
   "pygments_lexer": "ipython3",
   "version": "3.7.6"
  },
  "varInspector": {
   "cols": {
    "lenName": 16,
    "lenType": 16,
    "lenVar": 40
   },
   "kernels_config": {
    "python": {
     "delete_cmd_postfix": "",
     "delete_cmd_prefix": "del ",
     "library": "var_list.py",
     "varRefreshCmd": "print(var_dic_list())"
    },
    "r": {
     "delete_cmd_postfix": ") ",
     "delete_cmd_prefix": "rm(",
     "library": "var_list.r",
     "varRefreshCmd": "cat(var_dic_list()) "
    }
   },
   "types_to_exclude": [
    "module",
    "function",
    "builtin_function_or_method",
    "instance",
    "_Feature"
   ],
   "window_display": false
  }
 },
 "nbformat": 4,
 "nbformat_minor": 4
}
