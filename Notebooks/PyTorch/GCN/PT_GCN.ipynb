{
 "cells": [
  {
   "cell_type": "markdown",
   "id": "1ef6ee7b-4a53-4c1a-b76e-c9d0a72792b8",
   "metadata": {},
   "source": [
    "Based on [this](https://nato16.medium.com/use-graph-neural-network-to-predict-the-movie-rating-177475a0946f) article"
   ]
  },
  {
   "cell_type": "code",
   "execution_count": 1,
   "id": "69ec733b-3c47-4d48-a4ff-a233a3399f75",
   "metadata": {},
   "outputs": [],
   "source": [
    "#!pip install -U -q torchtext torchvision torch_geometric torch_sparse torch_scatter pip"
   ]
  },
  {
   "cell_type": "code",
   "execution_count": 2,
   "id": "5be3f696-af98-4ca3-9a99-651eb6507887",
   "metadata": {},
   "outputs": [],
   "source": [
    "import pandas as pd\n",
    "import matplotlib.pyplot as plt\n",
    "\n",
    "import torchtext\n",
    "import torch\n",
    "from torch_geometric.data import HeteroData\n",
    "import torch_geometric.transforms as T\n",
    "import torch.nn.functional as F\n",
    "from torch_geometric.nn import SAGEConv, to_hetero"
   ]
  },
  {
   "cell_type": "markdown",
   "id": "664163df-c850-41f0-9960-867bda23cdf4",
   "metadata": {},
   "source": [
    "Recommendation is quite important, since we are recommended everyday with books, movies, things that we maybe interested in. The usual way of recommending system is to use [matrix factorization method](https://en.wikipedia.org/wiki/Matrix_factorization_(recommender_systems)#:~:text=Matrix%20factorization%20is%20a%20class,two%20lower%20dimensionality%20rectangular%20matrices.)\n",
    "\n",
    "Here I would like to predict the movie rating using the Graph Neural Network (GNN). The idea is to first set up a heterogenous graph, with three different node type: User, Movie, and Genre, and the edge between User and Movie have the rating property. And I will use the GNN to predict the edge property between the User and Movie.\n",
    "So let’s start with the [MovieLens data](https://grouplens.org/datasets/movielens/)\n",
    "\n",
    "We are using the small dataset, which contains 100,000 ratings applied to 9,000 movies by 600 users.\n",
    "\n",
    "Let’s check out the movie and rating table."
   ]
  },
  {
   "cell_type": "code",
   "execution_count": 3,
   "id": "e84ae0ae-aaca-4e26-8bf6-aa353e48cef0",
   "metadata": {},
   "outputs": [
    {
     "name": "stdout",
     "output_type": "stream",
     "text": [
      "(9742, 3) (100836, 4)\n"
     ]
    }
   ],
   "source": [
    "movie_path = './ml-latest-small/movies.csv'\n",
    "rating_path = './ml-latest-small/ratings.csv'\n",
    "\n",
    "movie = pd.read_csv(movie_path)\n",
    "rating = pd.read_csv(rating_path)\n",
    "print(movie.shape,rating.shape)"
   ]
  },
  {
   "cell_type": "code",
   "execution_count": 9,
   "id": "def33490-882d-4c52-a224-fc59c05f114a",
   "metadata": {},
   "outputs": [
    {
     "data": {
      "text/html": [
       "<div>\n",
       "<style scoped>\n",
       "    .dataframe tbody tr th:only-of-type {\n",
       "        vertical-align: middle;\n",
       "    }\n",
       "\n",
       "    .dataframe tbody tr th {\n",
       "        vertical-align: top;\n",
       "    }\n",
       "\n",
       "    .dataframe thead th {\n",
       "        text-align: right;\n",
       "    }\n",
       "</style>\n",
       "<table border=\"1\" class=\"dataframe\">\n",
       "  <thead>\n",
       "    <tr style=\"text-align: right;\">\n",
       "      <th></th>\n",
       "      <th>movieId</th>\n",
       "      <th>title</th>\n",
       "      <th>genres</th>\n",
       "      <th>mid</th>\n",
       "    </tr>\n",
       "  </thead>\n",
       "  <tbody>\n",
       "    <tr>\n",
       "      <th>0</th>\n",
       "      <td>1</td>\n",
       "      <td>Toy Story (1995)</td>\n",
       "      <td>Adventure|Animation|Children|Comedy|Fantasy</td>\n",
       "      <td>0</td>\n",
       "    </tr>\n",
       "    <tr>\n",
       "      <th>1</th>\n",
       "      <td>2</td>\n",
       "      <td>Jumanji (1995)</td>\n",
       "      <td>Adventure|Children|Fantasy</td>\n",
       "      <td>1</td>\n",
       "    </tr>\n",
       "    <tr>\n",
       "      <th>2</th>\n",
       "      <td>3</td>\n",
       "      <td>Grumpier Old Men (1995)</td>\n",
       "      <td>Comedy|Romance</td>\n",
       "      <td>2</td>\n",
       "    </tr>\n",
       "    <tr>\n",
       "      <th>3</th>\n",
       "      <td>4</td>\n",
       "      <td>Waiting to Exhale (1995)</td>\n",
       "      <td>Comedy|Drama|Romance</td>\n",
       "      <td>3</td>\n",
       "    </tr>\n",
       "    <tr>\n",
       "      <th>4</th>\n",
       "      <td>5</td>\n",
       "      <td>Father of the Bride Part II (1995)</td>\n",
       "      <td>Comedy</td>\n",
       "      <td>4</td>\n",
       "    </tr>\n",
       "  </tbody>\n",
       "</table>\n",
       "</div>"
      ],
      "text/plain": [
       "   movieId                               title  \\\n",
       "0        1                    Toy Story (1995)   \n",
       "1        2                      Jumanji (1995)   \n",
       "2        3             Grumpier Old Men (1995)   \n",
       "3        4            Waiting to Exhale (1995)   \n",
       "4        5  Father of the Bride Part II (1995)   \n",
       "\n",
       "                                        genres  mid  \n",
       "0  Adventure|Animation|Children|Comedy|Fantasy    0  \n",
       "1                   Adventure|Children|Fantasy    1  \n",
       "2                               Comedy|Romance    2  \n",
       "3                         Comedy|Drama|Romance    3  \n",
       "4                                       Comedy    4  "
      ]
     },
     "execution_count": 9,
     "metadata": {},
     "output_type": "execute_result"
    }
   ],
   "source": [
    "movie.head()"
   ]
  },
  {
   "cell_type": "markdown",
   "id": "1e30e4e3-ca5d-4c17-b81a-e75f7eb0b18b",
   "metadata": {},
   "source": [
    "The shape of moviedataframe is (9742,3) , and it contains title and genre information.\n",
    "\n",
    "First we introduce a function to parse the genres column, and create an onehot vector for each genre"
   ]
  },
  {
   "cell_type": "code",
   "execution_count": 4,
   "id": "6576e418-26d4-4763-87cc-b7b3f4babec9",
   "metadata": {},
   "outputs": [],
   "source": [
    "## get genre index\n",
    "## input the list, return the dict {\"genre\":idx}\n",
    "def genres2index(genres):\n",
    "    genre_2_idx = {}\n",
    "    idx = 0\n",
    "    for x in genres:\n",
    "        for xi in x.split(\"|\"):\n",
    "            if xi not in genre_2_idx.keys():\n",
    "                genre_2_idx[xi] = idx\n",
    "                idx += 1\n",
    "    return genre_2_idx\n",
    "\n",
    "genre_index = genres2index(movie.genres.tolist()) ## use mid instead of movieid, since the movieid is not continous\n",
    "movie[\"mid\"] = movie.index\n",
    "movie_2_genre = []\n",
    "for mid, genres in movie[[\"mid\",\"genres\"]].values:\n",
    "    for gx in genres.split(\"|\"):\n",
    "        movie_2_genre.append([mid,genre_index[gx]])\n",
    "\n",
    "## prepare genre_x, onehot encode 20x20\n",
    "genre_x = []\n",
    "for k,v in genre_index.items():\n",
    "    x = [ 0 for i in range(len(genre_index))]\n",
    "    x[v] = 1\n",
    "    genre_x.append(x)"
   ]
  },
  {
   "cell_type": "markdown",
   "id": "a3465a15-acfd-428a-97ba-370752ea6c89",
   "metadata": {},
   "source": [
    "For the title column, we use pretrained Glove model to convert the title to a 300 dimension vector."
   ]
  },
  {
   "cell_type": "code",
   "execution_count": 5,
   "id": "2e79a38b-44f6-453b-83b4-47b538996101",
   "metadata": {},
   "outputs": [],
   "source": [
    "def title2vector(x):\n",
    "    x = x.split(\"(\")[0]\n",
    "    x2v = glove840b.get_vecs_by_tokens([xi.lower() for xi in x.split(\" \")])\n",
    "    if len(x2v.size()) == 2:\n",
    "        x2v = x2v.mean(dim=0)\n",
    "    return x2v.view(1,300)\n",
    "\n",
    "glove840b = torchtext.vocab.GloVe(\"840B\")\n",
    "titles = []\n",
    "\n",
    "for title in movie.title:\n",
    "    titles.append(title2vector(title))\n",
    "    \n",
    "titles_tensor = torch.cat(titles)"
   ]
  },
  {
   "cell_type": "markdown",
   "id": "36675a51-d04c-480d-a59f-08859f8211ea",
   "metadata": {},
   "source": [
    "Now we have prepared the features for Movie and Genre.\n",
    "\n",
    "And the shape of the rating dataframe is (100836,4) . The userId and the movieId with the corresponding rating is available."
   ]
  },
  {
   "cell_type": "code",
   "execution_count": 6,
   "id": "c77b5fd8-fae7-4fab-90f1-e15964aa4b49",
   "metadata": {},
   "outputs": [],
   "source": [
    "rating_m = rating.merge(movie,left_on=\"movieId\",right_on=\"movieId\")\n",
    "n_users = len(rating.userId.unique())\n",
    "user_rates_movie = torch.from_numpy(rating_m[[\"userId\",\"mid\"]].transpose().values-1)\n",
    "user_rates_movie_attr = torch.from_numpy(rating_m[\"rating\"].values).float().view(len(rating_m),1)\n",
    "user_x = []\n",
    "for i in range(610):\n",
    "    v = [0 for j in range(610)]\n",
    "    v[i] = 1\n",
    "    user_x.append(v)"
   ]
  },
  {
   "cell_type": "markdown",
   "id": "b2d405f3-7e4d-4a97-8632-a8db81c6ed9b",
   "metadata": {},
   "source": [
    "The above script convert the rating table to edges user_rates_movie and edge attributes user_rates_movie_attr .\n",
    "\n",
    "So we are roughly done with the preparation, now we can look into the GNN libarary.  \n",
    "\n",
    "### Graph Neural Network library\n",
    "\n",
    "Here we use PyG library. \n",
    "PyG (PyTorch Geometric) is a library built upon PyTorch to easily write and train Graph Neural Networks (GNNs) for a wide range of applications related to structured data.\n",
    "\n",
    "Following script put the data into the data structure."
   ]
  },
  {
   "cell_type": "code",
   "execution_count": 7,
   "id": "c07c362f-2f95-4881-86dd-474ea06f67da",
   "metadata": {},
   "outputs": [
    {
     "ename": "NameError",
     "evalue": "name 'movie_x' is not defined",
     "output_type": "error",
     "traceback": [
      "\u001b[0;31m---------------------------------------------------------------------------\u001b[0m",
      "\u001b[0;31mNameError\u001b[0m                                 Traceback (most recent call last)",
      "\u001b[0;32m/tmp/ipykernel_543552/3285677598.py\u001b[0m in \u001b[0;36m<module>\u001b[0;34m\u001b[0m\n\u001b[1;32m      3\u001b[0m \u001b[0;31m#data['user'].num_nodes = n_users  # Users do not have any features.\u001b[0m\u001b[0;34m\u001b[0m\u001b[0;34m\u001b[0m\u001b[0;34m\u001b[0m\u001b[0m\n\u001b[1;32m      4\u001b[0m \u001b[0mdata\u001b[0m\u001b[0;34m[\u001b[0m\u001b[0;34m'user'\u001b[0m\u001b[0;34m]\u001b[0m\u001b[0;34m.\u001b[0m\u001b[0mx\u001b[0m \u001b[0;34m=\u001b[0m \u001b[0muser_x\u001b[0m\u001b[0;34m\u001b[0m\u001b[0;34m\u001b[0m\u001b[0m\n\u001b[0;32m----> 5\u001b[0;31m \u001b[0mdata\u001b[0m\u001b[0;34m[\u001b[0m\u001b[0;34m'movie'\u001b[0m\u001b[0;34m]\u001b[0m\u001b[0;34m.\u001b[0m\u001b[0mx\u001b[0m \u001b[0;34m=\u001b[0m \u001b[0mmovie_x\u001b[0m\u001b[0;34m\u001b[0m\u001b[0;34m\u001b[0m\u001b[0m\n\u001b[0m\u001b[1;32m      6\u001b[0m \u001b[0mdata\u001b[0m\u001b[0;34m[\u001b[0m\u001b[0;34m'genre'\u001b[0m\u001b[0;34m]\u001b[0m\u001b[0;34m.\u001b[0m\u001b[0mx\u001b[0m \u001b[0;34m=\u001b[0m \u001b[0mgenre_x\u001b[0m\u001b[0;34m\u001b[0m\u001b[0;34m\u001b[0m\u001b[0m\n\u001b[1;32m      7\u001b[0m \u001b[0mdata\u001b[0m\u001b[0;34m[\u001b[0m\u001b[0;34m'user'\u001b[0m\u001b[0;34m,\u001b[0m \u001b[0;34m'rates'\u001b[0m\u001b[0;34m,\u001b[0m \u001b[0;34m'movie'\u001b[0m\u001b[0;34m]\u001b[0m\u001b[0;34m.\u001b[0m\u001b[0medge_index\u001b[0m \u001b[0;34m=\u001b[0m \u001b[0muser_rates_movie\u001b[0m\u001b[0;34m\u001b[0m\u001b[0;34m\u001b[0m\u001b[0m\n",
      "\u001b[0;31mNameError\u001b[0m: name 'movie_x' is not defined"
     ]
    }
   ],
   "source": [
    "data = HeteroData()\n",
    "\n",
    "#data['user'].num_nodes = n_users  # Users do not have any features.\n",
    "data['user'].x = user_x\n",
    "data['movie'].x = movie_x\n",
    "data['genre'].x = genre_x\n",
    "data['user', 'rates', 'movie'].edge_index = user_rates_movie\n",
    "data['user', 'rates', 'movie'].train_mask = train_flag\n",
    "data['user', 'rates', 'movie'].test_mask = test_flag\n",
    "data['user', 'rates', 'movie'].edge_label = user_rates_movie_attr\n",
    "data['movie', 'belongto', 'genre'].edge_index = movie_2_genre\n",
    "\n",
    "print(data)"
   ]
  },
  {
   "cell_type": "markdown",
   "id": "54d5e6fd-c199-4207-ada2-5ef2389b53cd",
   "metadata": {},
   "source": [
    "We can see from the output, the features for each node type User, Movie, Genre, and as well the edges betwen the User and the Movie.  \n",
    "The train and test mask are just simple boolean vector to distinguish which edges are used for computing loss.\n",
    "\n",
    "Now Let’s look at the GNN model, I just create a simple GNN model and convert it to a heterogenous GNN model."
   ]
  },
  {
   "cell_type": "code",
   "execution_count": null,
   "id": "3322db60-c400-49d7-9596-3de5dde0acfc",
   "metadata": {},
   "outputs": [],
   "source": [
    "class GNN(torch.nn.Module):\n",
    "    def __init__(self, hidden_channels, out_channels):\n",
    "        super().__init__()\n",
    "        self.conv1 = SAGEConv((-1, -1), hidden_channels)\n",
    "        self.conv2 = SAGEConv((-1, -1), out_channels)\n",
    "\n",
    "    def forward(self, x, edge_index):\n",
    "        x = self.conv1(x, edge_index).relu()\n",
    "        x = self.conv2(x, edge_index)\n",
    "        return x\n",
    "\n",
    "\n",
    "model = GNN(hidden_channels=128, out_channels=64)\n",
    "model = to_hetero(model, data.metadata(), aggr='sum')"
   ]
  },
  {
   "cell_type": "markdown",
   "id": "bafd5ce3-ba4b-4f9a-bbf6-94a590df2f67",
   "metadata": {},
   "source": [
    "The model will embed the node features to a size of 64 vectors, and these vectors will be fed into the following linkp model to predict the rating."
   ]
  },
  {
   "cell_type": "code",
   "execution_count": null,
   "id": "aaf31db7-d3cf-46e4-97fd-8fc926e7c641",
   "metadata": {},
   "outputs": [],
   "source": [
    "class LinkP(torch.nn.Module):\n",
    "    def __init__(self, in_channels, hidden_channels, out_channels):\n",
    "        super(LinkP, self).__init__()\n",
    "\n",
    "        self.lins = torch.nn.ModuleList()\n",
    "        self.lins.append(torch.nn.Linear(in_channels, hidden_channels))\n",
    "        self.lins.append(torch.nn.Linear(hidden_channels, out_channels))\n",
    "\n",
    "    def reset_parameters(self):\n",
    "        for lin in self.lins:\n",
    "            lin.reset_parameters()\n",
    "\n",
    "    def forward(self, x_i, x_j):\n",
    "        x = x_i * x_j\n",
    "        for lin in self.lins[:-1]:\n",
    "            x = lin(x)\n",
    "            x = F.relu(x)\n",
    "        x = self.lins[-1](x)\n",
    "        return x\n",
    "    \n",
    "linkp = LinkP(64,64,1)"
   ]
  },
  {
   "cell_type": "markdown",
   "id": "c5fed44c-4482-4b54-8ef7-f4cfb6ef0b64",
   "metadata": {},
   "source": [
    "Ideally, we have a GPU for training\n",
    "\n",
    "Now we start the training,"
   ]
  },
  {
   "cell_type": "code",
   "execution_count": null,
   "id": "59f08c39-3bfc-4d98-9c09-cb425338bf1d",
   "metadata": {},
   "outputs": [],
   "source": [
    "device = torch.device('cuda' if torch.cuda.is_available() else 'cpu')\n",
    "data = data.to(device)\n",
    "model = model.to(device)\n",
    "linkp = linkp.to(device)\n",
    "\n",
    "with torch.no_grad():  # Initialize lazy modules.\n",
    "    out = model(data.x_dict, data.edge_index_dict)\n",
    "    \n",
    "optimizer = torch.optim.Adam(list(model.parameters()) + list(linkp.parameters()),\n",
    "                             lr=0.0002)\n",
    "\n",
    "for epoch in range(1000):\n",
    "    model.train()\n",
    "    linkp.train()\n",
    "    optimizer.zero_grad()\n",
    "    out = model(data.x_dict, data.edge_index_dict)\n",
    "    p1 = linkp(out[\"user\"][uids,:],out[\"movie\"][mids,:])\n",
    "    \n",
    "    loss = lossfunc(p1,rates)\n",
    "    loss.backward()\n",
    "\n",
    "    torch.nn.utils.clip_grad_norm_(model.parameters(), 1.0)\n",
    "    torch.nn.utils.clip_grad_norm_(linkp.parameters(), 1.0)\n",
    "    \n",
    "    ## eval\n",
    "    linkp.eval()\n",
    "    p1_te = linkp(out[\"user\"][uids_te,:],out[\"movie\"][mids_te,:])\n",
    "    loss_te = lossfunc(p1_te,rates_te)\n",
    "    \n",
    "    if epoch % 50 == 0:\n",
    "        print(epoch,loss.item(), loss_te.item())\n",
    "    optimizer.step()"
   ]
  },
  {
   "cell_type": "markdown",
   "id": "8ba30279-77f3-40b1-82ab-9cc3d2300ef9",
   "metadata": {},
   "source": [
    "Now we can see how the loss curve looks\n",
    "\n",
    "And the prediction looks also good, the xlabel is the rating for testing, and ylabel is the prediction."
   ]
  },
  {
   "cell_type": "code",
   "execution_count": null,
   "id": "25235442-bd23-412e-aeb2-2fb12fca5685",
   "metadata": {},
   "outputs": [],
   "source": [
    "plt.scatter(rates_te.cpu().detach().numpy(), pl_te.cpu().dettach().view(-1).numpy()[contains])"
   ]
  },
  {
   "cell_type": "markdown",
   "id": "c3aa84c3-373e-4ef7-a58d-0fc07b88fb43",
   "metadata": {},
   "source": [
    "Some words\n",
    "\n",
    "The PyG python libraray comes very naturally to data scientists who are familiar with PyTorch, and it is very simple and easy to implement. Please feel free to leave your comments, and enjoy."
   ]
  }
 ],
 "metadata": {
  "kernelspec": {
   "display_name": "Python 3 (ipykernel)",
   "language": "python",
   "name": "python3"
  },
  "language_info": {
   "codemirror_mode": {
    "name": "ipython",
    "version": 3
   },
   "file_extension": ".py",
   "mimetype": "text/x-python",
   "name": "python",
   "nbconvert_exporter": "python",
   "pygments_lexer": "ipython3",
   "version": "3.8.10"
  }
 },
 "nbformat": 4,
 "nbformat_minor": 5
}
