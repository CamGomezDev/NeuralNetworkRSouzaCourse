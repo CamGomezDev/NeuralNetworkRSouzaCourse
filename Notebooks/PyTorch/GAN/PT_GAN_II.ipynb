{
 "cells": [
  {
   "cell_type": "markdown",
   "metadata": {},
   "source": [
    "<h1 style=\"color:rgb(0,120,170)\">Neural Networks and Deep Learning</h1>\n",
    "<h2 style=\"color:rgb(0,120,170)\">Generative Adversarial Network</h2>\n",
    "\n",
    "Based in [this post](https://towardsdatascience.com/an-easy-introduction-to-generative-adversarial-networks-6f8498dc4bcd)"
   ]
  },
  {
   "cell_type": "code",
   "execution_count": 1,
   "metadata": {},
   "outputs": [],
   "source": [
    "import os\n",
    "\n",
    "import torch\n",
    "from torch import nn, optim\n",
    "from torch.autograd.variable import Variable\n",
    "\n",
    "import torchvision\n",
    "import torchvision.transforms as transforms"
   ]
  },
  {
   "cell_type": "code",
   "execution_count": null,
   "metadata": {},
   "outputs": [],
   "source": [
    "print(torch.__version__)"
   ]
  },
  {
   "cell_type": "code",
   "execution_count": 2,
   "metadata": {},
   "outputs": [],
   "source": [
    "#torch.manual_seed(args.seed)\n",
    "\n",
    "if torch.cuda.is_available():\n",
    "    print(\"Using CUDA\")\n",
    "    \n",
    "device = torch.device('cuda' if torch.cuda.is_available() else 'cpu')"
   ]
  },
  {
   "cell_type": "code",
   "execution_count": 3,
   "metadata": {},
   "outputs": [],
   "source": [
    "# Preprocessing\n",
    "transform = transforms.Compose(\n",
    "    [transforms.ToTensor(),\n",
    "     transforms.Normalize((0.5,), (0.5,))])\n",
    "\n",
    "# Training data\n",
    "train_set = torchvision.datasets.MNIST(root=os.path.join('.','..','data'),\n",
    "                                      train=True,\n",
    "                                      download=True,\n",
    "                                      transform=transform)\n",
    "\n",
    "train_loader = torch.utils.data.DataLoader(train_set,\n",
    "                                          batch_size=32,\n",
    "                                          shuffle=True)\n",
    "\n",
    "# Labels\n",
    "classes = [str(i) for i in range(0,10)]"
   ]
  },
  {
   "cell_type": "code",
   "execution_count": 4,
   "metadata": {},
   "outputs": [],
   "source": [
    "# Our Discriminator class\n",
    "class Discriminator(nn.Module):\n",
    "    def __init__(self):\n",
    "        super().__init__()\n",
    "        self.model = nn.Sequential(\n",
    "            nn.Linear(784, 1024),\n",
    "            nn.ReLU(inplace=True),\n",
    "            nn.Dropout(0.3),\n",
    "            nn.Linear(1024, 512),\n",
    "            nn.ReLU(inplace=True),\n",
    "            nn.Dropout(0.3),\n",
    "            nn.Linear(512, 256),\n",
    "            nn.ReLU(inplace=True),\n",
    "            nn.Dropout(0.3),\n",
    "            nn.Linear(256, 1),\n",
    "            nn.Sigmoid()\n",
    "        )\n",
    "\n",
    "    def forward(self, x):\n",
    "        out = self.model(x.view(x.size(0), 784))\n",
    "        out = out.view(out.size(0), -1)\n",
    "        return out.to(device)\n",
    "        \n",
    "discriminator = Discriminator().to(device)"
   ]
  },
  {
   "cell_type": "code",
   "execution_count": 5,
   "metadata": {},
   "outputs": [],
   "source": [
    "# Our Generator class\n",
    "class Generator(nn.Module):\n",
    "    def __init__(self):\n",
    "        super().__init__()\n",
    "        self.model = nn.Sequential(\n",
    "            nn.Linear(100, 256),\n",
    "            nn.ReLU(inplace=True),\n",
    "            nn.Linear(256, 512),\n",
    "            nn.ReLU(inplace=True),\n",
    "            nn.Linear(512, 1024),\n",
    "            nn.ReLU(inplace=True),\n",
    "            nn.Linear(1024, 784),\n",
    "            nn.Tanh()\n",
    "        )\n",
    "\n",
    "    def forward(self, x):\n",
    "        x = x.view(x.size(0), 100)\n",
    "        out = self.model(x) #.cuda()\n",
    "        return out\n",
    "\n",
    "generator = Generator().to(device)"
   ]
  },
  {
   "cell_type": "code",
   "execution_count": 6,
   "metadata": {},
   "outputs": [],
   "source": [
    "# If we have a GPU with CUDA, use it\n",
    "if torch.cuda.is_available():\n",
    "    print(\"Using CUDA\")\n",
    "    discriminator.cuda()\n",
    "    generator.cuda()\n",
    "\n",
    "# Setup loss function and optimizers\n",
    "lr = 0.0001\n",
    "num_epochs = 40\n",
    "num_batches = len(train_loader)\n",
    "\n",
    "criterion = nn.BCELoss()\n",
    "d_optimizer = torch.optim.Adam(discriminator.parameters(), lr=lr)\n",
    "g_optimizer = torch.optim.Adam(generator.parameters(), lr=lr)"
   ]
  },
  {
   "cell_type": "markdown",
   "metadata": {},
   "source": [
    "1 -  We start by preparing our *real* image data for the discriminator. The input is a batch of real MNIST images. The output is a vector of all ones, since a 1 indicates that the image is real.\n",
    "\n",
    "2 - Next, we’ll prepare our input vector for the generator such that we can generate fake images. Recall that our generator network takes an input vector of length 100, so that’s what we create here. The images.size(0) is for the batch size\n",
    "\n",
    "3 - From our random noise data vector created in step (2) we can generate our fake image data bypassing the vector to the generator. This will be used in combination with our real data from step 1 to train the discriminator. Notice also that this time our labels vector is all zeros, since 0 represents the class label for fake images.\n",
    "\n",
    "4 - Given the fake and real images along with their labels, we can train our discriminator for classification. The total loss will be the loss of the fake images + the loss of the real images\n",
    "\n",
    "5 - Now that our discriminator has been updated we can use it to make predictions. The loss on those predictions will be backpropagated through the generator, such that the generator’s weights are updated specifically *according to how well it is fooling the discriminator*.  \n",
    "\n",
    "    a) generate some fake images to make predictions on\n",
    "    b) use the discriminator to make predictions on the batch of fake images and save the output.\n",
    "\n",
    "6 - Using the predictions from the discriminator, we train our generator. Notice that we use the _real_labels_ of all 1s as the target, since the target for our generator is to create images that look real and are predicted as 1! Thus a loss of 0 for the generator would correspond the discriminator predict all 1s."
   ]
  },
  {
   "cell_type": "code",
   "execution_count": null,
   "metadata": {},
   "outputs": [
    {
     "name": "stderr",
     "output_type": "stream",
     "text": [
      "/opt/conda/lib/python3.7/site-packages/torch/nn/modules/loss.py:529: UserWarning: Using a target size (torch.Size([32])) that is different to the input size (torch.Size([32, 1])) is deprecated. Please ensure they have the same size.\n",
      "  return F.binary_cross_entropy(input, target, weight=self.weight, reduction=self.reduction)\n"
     ]
    }
   ],
   "source": [
    "# Convenience function for training our Discriminator\n",
    "def train_discriminator(discriminator, real_images, real_labels, fake_images, fake_labels):\n",
    "    discriminator.zero_grad()\n",
    "\n",
    "    # Get the predictions, loss, and score of the real images\n",
    "    predictions = discriminator(real_images)\n",
    "    real_loss = criterion(predictions, real_labels)\n",
    "    real_score = predictions\n",
    "\n",
    "    # Get the predictions, loss, and score of the fake images\n",
    "    predictions = discriminator(fake_images)\n",
    "    fake_loss = criterion(predictions, fake_labels)\n",
    "    fake_score = predictions\n",
    "\n",
    "    # Calculate the total loss, update the weights, and update the optimizer\n",
    "    d_loss = real_loss + fake_loss\n",
    "    d_loss.backward()\n",
    "    d_optimizer.step()\n",
    "    return d_loss, real_score, fake_score\n",
    "\n",
    "# Convenience function for training our Generator\n",
    "def train_generator(generator, discriminator_outputs, real_labels):\n",
    "    generator.zero_grad()\n",
    "\n",
    "    # Calculate the total loss, update the weights, and update the optimizer\n",
    "    g_loss = criterion(discriminator_outputs, real_labels)\n",
    "    g_loss.backward()\n",
    "    g_optimizer.step()\n",
    "    return g_loss\n",
    "    \n",
    "for epoch in range(num_epochs):\n",
    "    for n, (images, _) in enumerate(train_loader):\n",
    "\n",
    "        # (1) Prepare the real data for the Discriminator\n",
    "        real_images = Variable(images) #.cuda()\n",
    "        real_labels = Variable(torch.ones(images.size(0))).to(device)\n",
    "\n",
    "        # (2) Prepare the random noise data for the Generator\n",
    "        noise = Variable(torch.randn(images.size(0), 100)).to(device)\n",
    "\n",
    "        # (3) Prepare the fake data for the Discriminator\n",
    "        fake_images = generator(noise)\n",
    "        fake_labels = Variable(torch.zeros(images.size(0))).to(device)\n",
    "\n",
    "        # (4) Train the discriminator on real and fake data\n",
    "        d_loss, real_score, fake_score = train_discriminator(discriminator,\n",
    "                                                             real_images, real_labels,\n",
    "                                                             fake_images, fake_labels)\n",
    "\n",
    "        # (5a) Generate some new fake images from the Generator.\n",
    "        # (5b) Get the label predictions of the Discriminator on that fake data.\n",
    "        noise = Variable(torch.randn(images.size(0), 100)).to(device)\n",
    "        fake_images = generator(noise)\n",
    "\n",
    "        outputs = discriminator(fake_images)\n",
    "\n",
    "        # (6) Train the generator\n",
    "        g_loss = train_generator(generator, outputs, real_labels)"
   ]
  },
  {
   "cell_type": "code",
   "execution_count": null,
   "metadata": {},
   "outputs": [],
   "source": []
  }
 ],
 "metadata": {
  "kernelspec": {
   "display_name": "Python 3",
   "language": "python",
   "name": "python3"
  },
  "language_info": {
   "codemirror_mode": {
    "name": "ipython",
    "version": 3
   },
   "file_extension": ".py",
   "mimetype": "text/x-python",
   "name": "python",
   "nbconvert_exporter": "python",
   "pygments_lexer": "ipython3",
   "version": "3.7.6"
  }
 },
 "nbformat": 4,
 "nbformat_minor": 4
}
