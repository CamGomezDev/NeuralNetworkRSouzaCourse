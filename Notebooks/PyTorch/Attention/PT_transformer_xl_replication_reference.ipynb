{
 "cells": [
  {
   "cell_type": "markdown",
   "metadata": {},
   "source": [
    "In this notebook, we'll be comparing our Transformer XL architecture with the official implementation.\n",
    "Note: this is a non-refactored, dirty notebook that shouldn't be used as a reference for implementation."
   ]
  },
  {
   "cell_type": "code",
   "execution_count": 1,
   "metadata": {},
   "outputs": [],
   "source": [
    "import torch\n",
    "import torch.nn as nn"
   ]
  },
  {
   "cell_type": "code",
   "execution_count": null,
   "metadata": {},
   "outputs": [],
   "source": [
    "print(torch.__version__)\n",
    "print(torch.cuda.is_available())"
   ]
  },
  {
   "cell_type": "markdown",
   "metadata": {},
   "source": [
    "Downloading the reference code"
   ]
  },
  {
   "cell_type": "code",
   "execution_count": 2,
   "metadata": {},
   "outputs": [
    {
     "name": "stdout",
     "output_type": "stream",
     "text": [
      "Transformer XL reference repo exists\n"
     ]
    }
   ],
   "source": [
    "%%bash\n",
    "if [ -d \"./transformer-xl\" ] \n",
    "then\n",
    "    echo \"Transformer XL reference repo exists\" \n",
    "else\n",
    "    echo \"Cloning Transformer XL repo\" \n",
    "    git clone https://github.com/kimiyoung/transformer-xl.git\n",
    "fi"
   ]
  },
  {
   "cell_type": "markdown",
   "metadata": {},
   "source": [
    "We'll be using the penn treebank dataset to benchmark our model."
   ]
  },
  {
   "cell_type": "code",
   "execution_count": 3,
   "metadata": {},
   "outputs": [],
   "source": [
    "from pathlib import Path\n",
    "DATASET = \"penn\"\n",
    "DATA_DIR = Path(\"../data\") / DATASET"
   ]
  },
  {
   "cell_type": "code",
   "execution_count": 4,
   "metadata": {},
   "outputs": [],
   "source": [
    "#scrap\n",
    "import sys\n",
    "from pathlib import Path \n",
    "\n",
    "DATASET = \"penn\"\n",
    "REF_PATH = Path(\"./transformer-xl\")\n",
    "DATA_DIR = Path(\"..\") / \"data\" / DATASET\n",
    "\n",
    "sys.path.append(str(REF_PATH / \"pytorch\"))\n",
    "sys.path.append(str(REF_PATH / \"pytorch\" / \"utils\"))\n",
    "\n",
    "TESTING = not IS_KAGGLE_KERNEL # Keep True for now"
   ]
  },
  {
   "cell_type": "code",
   "execution_count": 5,
   "metadata": {},
   "outputs": [],
   "source": [
    "#scrap\n",
    "from mem_transformer import RelPartialLearnableMultiHeadAttn"
   ]
  },
  {
   "cell_type": "code",
   "execution_count": 6,
   "metadata": {},
   "outputs": [],
   "source": [
    "from collections import Counter, OrderedDict\n",
    "#TODO: Clean up\n",
    "import torch\n",
    "\n",
    "class Vocab(object):\n",
    "    def __init__(self, special=[], min_freq=0, max_size=None, lower_case=True,\n",
    "                 delimiter=None, vocab_file=None):\n",
    "        self.counter = Counter()\n",
    "        self.special = special\n",
    "        self.min_freq = min_freq\n",
    "        self.max_size = max_size\n",
    "        self.lower_case = lower_case\n",
    "        self.delimiter = delimiter\n",
    "        self.vocab_file = vocab_file\n",
    "\n",
    "    def tokenize(self, line, add_eos=False, add_double_eos=False):\n",
    "        line = line.strip()\n",
    "        # convert to lower case\n",
    "        if self.lower_case:\n",
    "            line = line.lower()\n",
    "\n",
    "        # empty delimiter '' will evaluate False\n",
    "        if self.delimiter == '':\n",
    "            symbols = line\n",
    "        else:\n",
    "            symbols = line.split(self.delimiter)\n",
    "\n",
    "        if add_double_eos: # lm1b\n",
    "            return ['<S>'] + symbols + ['<S>']\n",
    "        elif add_eos:\n",
    "            return symbols + ['<eos>']\n",
    "        else:\n",
    "            return symbols\n",
    "\n",
    "    def count_file(self, path, verbose=False, add_eos=False):\n",
    "        if verbose: print('counting file {} ...'.format(path))\n",
    "        assert os.path.exists(path)\n",
    "\n",
    "        sents = []\n",
    "        with open(path, 'r', encoding='utf-8') as f:\n",
    "            for idx, line in enumerate(f):\n",
    "                if verbose and idx > 0 and idx % 500000 == 0:\n",
    "                    print('    line {}'.format(idx))\n",
    "                symbols = self.tokenize(line, add_eos=add_eos)\n",
    "                self.counter.update(symbols)\n",
    "                sents.append(symbols)\n",
    "\n",
    "        return sents\n",
    "\n",
    "    def count_sents(self, sents, verbose=False):\n",
    "        \"\"\"\n",
    "            sents : a list of sentences, each a list of tokenized symbols\n",
    "        \"\"\"\n",
    "        if verbose: print('counting {} sents ...'.format(len(sents)))\n",
    "        for idx, symbols in enumerate(sents):\n",
    "            if verbose and idx > 0 and idx % 500000 == 0:\n",
    "                print('    line {}'.format(idx))\n",
    "            self.counter.update(symbols)\n",
    "\n",
    "    def _build_from_file(self, vocab_file):\n",
    "        self.idx2sym = []\n",
    "        self.sym2idx = OrderedDict()\n",
    "\n",
    "        with open(vocab_file, 'r', encoding='utf-8') as f:\n",
    "            for line in f:\n",
    "                symb = line.strip().split()[0]\n",
    "                self.add_symbol(symb)\n",
    "        self.unk_idx = self.sym2idx['<UNK>']\n",
    "\n",
    "    def build_vocab(self):\n",
    "        if self.vocab_file:\n",
    "            print('building vocab from {}'.format(self.vocab_file))\n",
    "            self._build_from_file(self.vocab_file)\n",
    "            print('final vocab size {}'.format(len(self)))\n",
    "        else:\n",
    "            print('building vocab with min_freq={}, max_size={}'.format(\n",
    "                self.min_freq, self.max_size))\n",
    "            self.idx2sym = []\n",
    "            self.sym2idx = OrderedDict()\n",
    "\n",
    "            for sym in self.special:\n",
    "                self.add_special(sym)\n",
    "\n",
    "            for sym, cnt in self.counter.most_common(self.max_size):\n",
    "                if cnt < self.min_freq: break\n",
    "                self.add_symbol(sym)\n",
    "\n",
    "            print('final vocab size {} from {} unique tokens'.format(\n",
    "                len(self), len(self.counter)))\n",
    "\n",
    "    def encode_file(self, path, ordered=False, verbose=False, add_eos=True,\n",
    "            add_double_eos=False):\n",
    "        if verbose: print('encoding file {} ...'.format(path))\n",
    "        assert os.path.exists(path)\n",
    "        encoded = []\n",
    "        with open(path, 'r', encoding='utf-8') as f:\n",
    "            for idx, line in enumerate(f):\n",
    "                if verbose and idx > 0 and idx % 500000 == 0:\n",
    "                    print('    line {}'.format(idx))\n",
    "                symbols = self.tokenize(line, add_eos=add_eos,\n",
    "                    add_double_eos=add_double_eos)\n",
    "                encoded.append(self.convert_to_tensor(symbols))\n",
    "\n",
    "        if ordered:\n",
    "            encoded = torch.cat(encoded)\n",
    "\n",
    "        return encoded\n",
    "\n",
    "    def encode_sents(self, sents, ordered=False, verbose=False):\n",
    "        if verbose: print('encoding {} sents ...'.format(len(sents)))\n",
    "        encoded = []\n",
    "        for idx, symbols in enumerate(sents):\n",
    "            if verbose and idx > 0 and idx % 500000 == 0:\n",
    "                print('    line {}'.format(idx))\n",
    "            encoded.append(self.convert_to_tensor(symbols))\n",
    "\n",
    "        if ordered:\n",
    "            encoded = torch.cat(encoded)\n",
    "\n",
    "        return encoded\n",
    "\n",
    "    def add_special(self, sym):\n",
    "        if sym not in self.sym2idx:\n",
    "            self.idx2sym.append(sym)\n",
    "            self.sym2idx[sym] = len(self.idx2sym) - 1\n",
    "            setattr(self, '{}_idx'.format(sym.strip('<>')), self.sym2idx[sym])\n",
    "\n",
    "    def add_symbol(self, sym):\n",
    "        if sym not in self.sym2idx:\n",
    "            self.idx2sym.append(sym)\n",
    "            self.sym2idx[sym] = len(self.idx2sym) - 1\n",
    "\n",
    "    def get_sym(self, idx):\n",
    "        assert 0 <= idx < len(self), 'Index {} out of range'.format(idx)\n",
    "        return self.idx2sym[idx]\n",
    "\n",
    "    def get_idx(self, sym):\n",
    "        if sym in self.sym2idx:\n",
    "            return self.sym2idx[sym]\n",
    "        else:\n",
    "            # print('encounter unk {}'.format(sym))\n",
    "            assert '<eos>' not in sym\n",
    "            assert hasattr(self, 'unk_idx')\n",
    "            return self.sym2idx.get(sym, self.unk_idx)\n",
    "\n",
    "    def get_symbols(self, indices):\n",
    "        return [self.get_sym(idx) for idx in indices]\n",
    "\n",
    "    def get_indices(self, symbols):\n",
    "        return [self.get_idx(sym) for sym in symbols]\n",
    "\n",
    "    def convert_to_tensor(self, symbols):\n",
    "        return torch.LongTensor(self.get_indices(symbols))\n",
    "\n",
    "    def convert_to_sent(self, indices, exclude=None):\n",
    "        if exclude is None:\n",
    "            return ' '.join([self.get_sym(idx) for idx in indices])\n",
    "        else:\n",
    "            return ' '.join([self.get_sym(idx) for idx in indices if idx not in exclude])\n",
    "\n",
    "    def __len__(self):\n",
    "        return len(self.idx2sym)"
   ]
  },
  {
   "cell_type": "code",
   "execution_count": 7,
   "metadata": {},
   "outputs": [],
   "source": [
    "#scrap\n",
    "from vocabulary import Vocab"
   ]
  },
  {
   "cell_type": "code",
   "execution_count": 8,
   "metadata": {},
   "outputs": [
    {
     "data": {
      "text/plain": [
       "<torch._C.Generator at 0x11da2a7f0>"
      ]
     },
     "execution_count": 8,
     "metadata": {},
     "output_type": "execute_result"
    }
   ],
   "source": [
    "#scrap\n",
    "torch.manual_seed(10)"
   ]
  },
  {
   "cell_type": "code",
   "execution_count": 9,
   "metadata": {},
   "outputs": [],
   "source": [
    "device = torch.device(\"cpu\") if not torch.cuda.is_available() else torch.device(\"cuda:0\")"
   ]
  },
  {
   "cell_type": "code",
   "execution_count": null,
   "metadata": {},
   "outputs": [],
   "source": []
  },
  {
   "cell_type": "markdown",
   "metadata": {},
   "source": [
    "# Overview"
   ]
  },
  {
   "cell_type": "code",
   "execution_count": null,
   "metadata": {},
   "outputs": [],
   "source": []
  },
  {
   "cell_type": "markdown",
   "metadata": {},
   "source": [
    "### Attention"
   ]
  },
  {
   "cell_type": "markdown",
   "metadata": {},
   "source": [
    "Let's start off simple by imagining some word embeddings of shape `(seq=7, batch_size=3, embedding_dim=32)`"
   ]
  },
  {
   "cell_type": "code",
   "execution_count": 10,
   "metadata": {},
   "outputs": [],
   "source": [
    "seq, batch_size, embedding_dim = 7, 3, 32"
   ]
  },
  {
   "cell_type": "code",
   "execution_count": 11,
   "metadata": {},
   "outputs": [],
   "source": [
    "word_embs = torch.rand(seq, batch_size, embedding_dim)"
   ]
  },
  {
   "cell_type": "markdown",
   "metadata": {},
   "source": [
    "In the Transformer XL, we also feed the cached outputs of the model for the previous sequence. In this case, we would be feeding the word embeddings from the previous sequence as additional input to our model.\n",
    "\n",
    "To make things clearer, let's imagine our previous sequence was of length `prev_seq=6`"
   ]
  },
  {
   "cell_type": "code",
   "execution_count": 12,
   "metadata": {},
   "outputs": [],
   "source": [
    "memory = torch.rand(6, 3, 32) # hidden states from the previous "
   ]
  },
  {
   "cell_type": "code",
   "execution_count": null,
   "metadata": {},
   "outputs": [],
   "source": []
  },
  {
   "cell_type": "markdown",
   "metadata": {},
   "source": [
    "##### Relative positional embeddings"
   ]
  },
  {
   "cell_type": "code",
   "execution_count": null,
   "metadata": {},
   "outputs": [],
   "source": []
  },
  {
   "cell_type": "code",
   "execution_count": null,
   "metadata": {},
   "outputs": [],
   "source": []
  },
  {
   "cell_type": "markdown",
   "metadata": {},
   "source": [
    "There are two sources of attention: the content and position"
   ]
  },
  {
   "cell_type": "code",
   "execution_count": null,
   "metadata": {},
   "outputs": [],
   "source": []
  },
  {
   "cell_type": "code",
   "execution_count": null,
   "metadata": {},
   "outputs": [],
   "source": []
  },
  {
   "cell_type": "code",
   "execution_count": null,
   "metadata": {},
   "outputs": [],
   "source": []
  },
  {
   "cell_type": "markdown",
   "metadata": {},
   "source": [
    "### MHA: The core component"
   ]
  },
  {
   "cell_type": "markdown",
   "metadata": {},
   "source": [
    "Aggregating all the above, we get the following MultiHeadAttention module"
   ]
  },
  {
   "cell_type": "code",
   "execution_count": 13,
   "metadata": {},
   "outputs": [],
   "source": [
    "from typing import *\n",
    "\n",
    "class MultiHeadAttention(nn.Module):\n",
    "    def __init__(self, d_input: int, d_inner: int, n_heads: int=4, \n",
    "                 dropout: float=0.1, dropouta: float=0.):\n",
    "        super().__init__()\n",
    "        self.d_input = d_input\n",
    "        self.d_inner = d_inner\n",
    "        self.n_heads = n_heads\n",
    "        # this layer applies the linear transformation required\n",
    "        # for the keys and values for all heads at once for efficiency\n",
    "        self.linear_kv = nn.Linear(\n",
    "            d_input, \n",
    "            (d_inner * n_heads * 2), # 2 is for keys and values\n",
    "            bias=False, # we don't apply bias, making this a simple matrix multiplication\n",
    "        )\n",
    "        # for queries (will not be concatenated with memorized states so separate)\n",
    "        self.linear_q = nn.Linear(\n",
    "            d_input, d_inner * n_heads,\n",
    "            bias=False\n",
    "        )\n",
    "        # for positional embeddings\n",
    "        self.linear_p = nn.Linear(\n",
    "            d_input, d_inner * n_heads,\n",
    "            bias=False\n",
    "        )\n",
    "        self.scale = 1 / (d_inner ** 0.5) # for scaled dot product attention\n",
    "        self.dropa = nn.Dropout(dropouta)\n",
    "        # we will use this to project back to the input dimension\n",
    "        self.lout = nn.Linear(self.d_inner * self.n_heads, self.d_input, bias=False)\n",
    "        self.norm = nn.LayerNorm(self.d_input)\n",
    "        self.dropo = nn.Dropout(dropout)\n",
    "        \n",
    "    def _rel_shift(self, x):\n",
    "        # TODO: Understand\n",
    "        zero_pad = torch.zeros((x.size(0), 1, *x.size()[2:]),\n",
    "                               device=x.device, dtype=x.dtype)\n",
    "        x_padded = torch.cat([zero_pad, x], dim=1)\n",
    "\n",
    "        x_padded = x_padded.view(x.size(1) + 1, x.size(0), *x.size()[2:])\n",
    "\n",
    "        x = x_padded[1:].view_as(x)\n",
    "        return x\n",
    "        \n",
    "    def forward(self, input_: torch.FloatTensor, # (cur_seq, b, d_in)\n",
    "                pos_embs: torch.FloatTensor, # (cur_seq + prev_seq, d_in)\n",
    "                memory: torch.FloatTensor, # (prev_seq, b, d_in)\n",
    "                u: torch.FloatTensor, # (H, d)\n",
    "                v: torch.FloatTensor, # (H, d)\n",
    "                mask: Optional[torch.FloatTensor]=None,\n",
    "        ):\n",
    "        \"\"\"\n",
    "        pos_embs: we pass the positional embeddings in separately\n",
    "            because we need to handle relative positions\n",
    "        input shape: (seq, bs, self.d_input)\n",
    "        pos_embs shape: (seq + prev_seq, bs, self.d_input)\n",
    "        output shape: (seq, bs, self.d_input)\n",
    "        \"\"\"\n",
    "        cur_seq = input_.shape[0] #  sequence length of current segment\n",
    "        prev_seq = memory.shape[0] # sequence length of previous segment\n",
    "        H, d = self.n_heads, self.d_inner\n",
    "        input_with_memory = torch.cat([memory, input_], dim=0) # concatenate recurrent memory\n",
    "                                                               # across sequence dimension\n",
    "\n",
    "        # we will use the following symbols to represent the shape of the tensors\n",
    "        # cs: current sequence length, b: batch, H: number of heads\n",
    "        # d: inner dimension, ps: previous sequence length\n",
    "        # The key and value are now conditioned on the preceding context\n",
    "        k_tfmd, v_tfmd = \\\n",
    "            torch.chunk(self.linear_kv(input_with_memory), 2, dim=-1) # (cs + ps, b, H * d)\n",
    "        q_tfmd = self.linear_q(input_) # (cs, b, H * d)\n",
    "\n",
    "        # apply scaled dot product attention\n",
    "        # look at the following dimensions carefully, since this is the key operation\n",
    "        # in the Transformer/Transformer XL architecture\n",
    "        \n",
    "        _, bs, _ = q_tfmd.shape\n",
    "        assert bs == k_tfmd.shape[1]\n",
    "        # content-based attention term ((a) + (c) in the paper)\n",
    "        # this is the standard attention term in the original Transformer, except without positional embeddings\n",
    "        # which are handled separately in the Transformer XL (see below)\n",
    "        # here, i corresponds to the number of queries = number of current inputs/targets (seq-wise)\n",
    "        # j corresponds to the number of key/values = number of vectors that we can use to compute the \n",
    "        # vector for each query\n",
    "        content_attn = torch.einsum(\"ibhd,jbhd->ijbh\", (\n",
    "                (q_tfmd.view(cur_seq, bs, H, d) + # (a)\n",
    "                 u), # (c): u represents the global (independent of the query)\n",
    "                     # bias towards certain key/values = words\n",
    "                     # Note: maybe this could be a per-attention head parameter?\n",
    "                 k_tfmd.view(cur_seq + prev_seq, bs, H, d) # There is no positional information to be found here\n",
    "        )) # (cs, cs + ps, b, H)\n",
    "        \n",
    "        # position-based attention term ((b) + (d) in the paper)\n",
    "        # this attention is solely based on the position of the key/values\n",
    "        # (i.e. it does not take the content of the key/values into account)\n",
    "        p_tfmd = self.linear_p(pos_embs) # (cs + ps, b, H * d)\n",
    "        position_attn = torch.einsum(\"ibhd,jhd->ijbh\", (\n",
    "                (q_tfmd.view(cur_seq, bs, H, d) + # (b)\n",
    "                 v), # (d): v represents the global (independent of the query)\n",
    "                     # bias towards certain positions\n",
    "                 p_tfmd.view(cur_seq + prev_seq, H, d) # Notice there is not content information\n",
    "                                                        # regarding keys and values here!\n",
    "        )) # (cs, cs + ps, b, H)\n",
    "        \n",
    "        #  ???\n",
    "        position_attn = self._rel_shift(position_attn)\n",
    "        \n",
    "        # the attention is the sum of content-based and position-based attention\n",
    "        attn = content_attn + position_attn\n",
    "\n",
    "        if mask is not None and mask.any().item():\n",
    "            attn = attn.masked_fill(\n",
    "                mask[...,None], -float('inf'))\n",
    "        attn = torch.softmax(attn * self.scale, # rescale to prevent values from exploding\n",
    "                             dim=1) # normalize across the value sequence dimension\n",
    "        attn = self.dropa(attn)\n",
    "        \n",
    "        attn_weighted_values = (torch.einsum(\"ijbh,jbhd->ibhd\",\n",
    "                                           (attn, # (cs, cs + ps, b, H)\n",
    "                                            v_tfmd.view(cur_seq + prev_seq, bs, H, d), # (cs + ps, b, H, d)\n",
    "                                           )) # (cs, b, H, d)\n",
    "                                .contiguous() # we need to change the memory layout to make `view` work\n",
    "                                .view(cur_seq, bs, H * d)) # (cs, b, H * d)\n",
    "\n",
    "        # Project back to input dimension and add residual connection\n",
    "        output = input_ + self.dropo(self.lout(attn_weighted_values))\n",
    "        output = self.norm(output)\n",
    "        return output"
   ]
  },
  {
   "cell_type": "code",
   "execution_count": 14,
   "metadata": {},
   "outputs": [],
   "source": [
    "hoge = torch.arange(4 * 5 * 3 * 1).view(4, 5, 3, 1)"
   ]
  },
  {
   "cell_type": "code",
   "execution_count": 15,
   "metadata": {},
   "outputs": [],
   "source": [
    "x = hoge\n",
    "zero_pad = torch.zeros((x.size(0), 1, *x.size()[2:]),\n",
    "                               device=x.device, dtype=x.dtype)\n",
    "x_padded = torch.cat([zero_pad, x], dim=1)"
   ]
  },
  {
   "cell_type": "code",
   "execution_count": 16,
   "metadata": {},
   "outputs": [
    {
     "data": {
      "text/plain": [
       "<torch._C.Generator at 0x11da2a7f0>"
      ]
     },
     "execution_count": 16,
     "metadata": {},
     "output_type": "execute_result"
    }
   ],
   "source": [
    "#scrap\n",
    "torch.manual_seed(10)"
   ]
  },
  {
   "cell_type": "markdown",
   "metadata": {},
   "source": [
    "Let's test it out"
   ]
  },
  {
   "cell_type": "code",
   "execution_count": 17,
   "metadata": {},
   "outputs": [],
   "source": [
    "mha = MultiHeadAttention(32, 17, n_heads=4)"
   ]
  },
  {
   "cell_type": "code",
   "execution_count": 18,
   "metadata": {},
   "outputs": [],
   "source": [
    "inpt = torch.rand(7, 3, 32)\n",
    "pos = torch.rand(13, 32)\n",
    "mem = torch.rand(6, 3, 32)\n",
    "u, v = torch.rand(4, 17), torch.rand(4, 17)\n",
    "x1 = mha(inpt, pos, mem, u, v)"
   ]
  },
  {
   "cell_type": "code",
   "execution_count": 19,
   "metadata": {},
   "outputs": [
    {
     "data": {
      "text/plain": [
       "torch.Size([7, 3, 32])"
      ]
     },
     "execution_count": 19,
     "metadata": {},
     "output_type": "execute_result"
    }
   ],
   "source": [
    "x1.shape"
   ]
  },
  {
   "cell_type": "code",
   "execution_count": 20,
   "metadata": {},
   "outputs": [
    {
     "data": {
      "text/plain": [
       "tensor([[ 0.3604, -1.0046,  0.0095, -0.3961,  0.0042,  1.4597,  0.8075, -0.8257,\n",
       "         -2.1602, -0.6140, -0.5043, -0.5235, -1.1914, -0.0094, -0.2105,  0.2834,\n",
       "         -1.0303,  0.8815,  0.4692, -0.1531,  0.9641, -1.3044, -0.4251, -0.5490,\n",
       "         -0.6301,  1.2259,  1.4332, -1.4505,  2.0888, -0.0059,  1.5277,  1.4730],\n",
       "        [ 0.1677,  1.0228, -0.4538, -0.0862,  1.9249,  2.9601,  1.1000, -0.2760,\n",
       "         -0.0615, -0.1409, -0.2373, -1.5995, -1.1702,  1.4656, -1.3063, -0.9157,\n",
       "         -0.9066, -0.4793,  0.3760,  0.4974,  0.0229, -0.4541, -0.4813, -1.0898,\n",
       "          0.8615, -0.2514, -1.2457,  1.1001, -0.2081,  0.3905,  0.5391, -1.0650],\n",
       "        [-0.7000, -0.3955, -0.0049,  1.2113,  1.6559,  1.6313,  0.0602,  0.8077,\n",
       "         -1.4711, -0.2496, -0.3276,  0.6451,  0.7196, -0.3149, -1.3477,  1.2001,\n",
       "         -0.3195, -0.2187, -0.7321, -0.9040,  0.1070, -1.2493, -1.0409,  1.8514,\n",
       "          1.0325,  0.6299, -0.1472, -1.5695, -0.3887, -0.6763, -1.3172,  1.8227]],\n",
       "       grad_fn=<SelectBackward>)"
      ]
     },
     "execution_count": 20,
     "metadata": {},
     "output_type": "execute_result"
    }
   ],
   "source": [
    "x1[0]"
   ]
  },
  {
   "cell_type": "code",
   "execution_count": 21,
   "metadata": {},
   "outputs": [
    {
     "data": {
      "text/plain": [
       "<torch._C.Generator at 0x11da2a7f0>"
      ]
     },
     "execution_count": 21,
     "metadata": {},
     "output_type": "execute_result"
    }
   ],
   "source": [
    "torch.manual_seed(10)"
   ]
  },
  {
   "cell_type": "code",
   "execution_count": 22,
   "metadata": {},
   "outputs": [],
   "source": [
    "#scrap\n",
    "NHEADS = 4\n",
    "DMODEL = 32\n",
    "DINNER = 17"
   ]
  },
  {
   "cell_type": "code",
   "execution_count": 23,
   "metadata": {},
   "outputs": [],
   "source": [
    "#scrap\n",
    "mha = MultiHeadAttention(32, 17, n_heads=4)"
   ]
  },
  {
   "cell_type": "code",
   "execution_count": 24,
   "metadata": {},
   "outputs": [
    {
     "data": {
      "text/plain": [
       "MultiHeadAttention(\n",
       "  (linear_kv): Linear(in_features=32, out_features=136, bias=False)\n",
       "  (linear_q): Linear(in_features=32, out_features=68, bias=False)\n",
       "  (linear_p): Linear(in_features=32, out_features=68, bias=False)\n",
       "  (dropa): Dropout(p=0.0)\n",
       "  (lout): Linear(in_features=68, out_features=32, bias=False)\n",
       "  (norm): LayerNorm(torch.Size([32]), eps=1e-05, elementwise_affine=True)\n",
       "  (dropo): Dropout(p=0.1)\n",
       ")"
      ]
     },
     "execution_count": 24,
     "metadata": {},
     "output_type": "execute_result"
    }
   ],
   "source": [
    "#scrap\n",
    "mha"
   ]
  },
  {
   "cell_type": "code",
   "execution_count": 25,
   "metadata": {},
   "outputs": [],
   "source": [
    "#scrap\n",
    "inpt = torch.rand(7, 3, 32)\n",
    "pos = torch.rand(13, 32)\n",
    "mem = torch.rand(6, 3, 32)\n",
    "u, v = torch.rand(4, 17), torch.rand(4, 17)\n",
    "x2 = mha(inpt, pos, mem, u, v)"
   ]
  },
  {
   "cell_type": "code",
   "execution_count": 26,
   "metadata": {},
   "outputs": [
    {
     "data": {
      "text/plain": [
       "tensor([[ 0.3604, -1.0046,  0.0095, -0.3961,  0.0042,  1.4597,  0.8075, -0.8257,\n",
       "         -2.1602, -0.6140, -0.5043, -0.5235, -1.1914, -0.0094, -0.2105,  0.2834,\n",
       "         -1.0303,  0.8815,  0.4692, -0.1531,  0.9641, -1.3044, -0.4251, -0.5490,\n",
       "         -0.6301,  1.2259,  1.4332, -1.4505,  2.0888, -0.0059,  1.5277,  1.4730],\n",
       "        [ 0.1677,  1.0228, -0.4538, -0.0862,  1.9249,  2.9601,  1.1000, -0.2760,\n",
       "         -0.0615, -0.1409, -0.2373, -1.5995, -1.1702,  1.4656, -1.3063, -0.9157,\n",
       "         -0.9066, -0.4793,  0.3760,  0.4974,  0.0229, -0.4541, -0.4813, -1.0898,\n",
       "          0.8615, -0.2514, -1.2457,  1.1001, -0.2081,  0.3905,  0.5391, -1.0650],\n",
       "        [-0.7000, -0.3955, -0.0049,  1.2113,  1.6559,  1.6313,  0.0602,  0.8077,\n",
       "         -1.4711, -0.2496, -0.3276,  0.6451,  0.7196, -0.3149, -1.3477,  1.2001,\n",
       "         -0.3195, -0.2187, -0.7321, -0.9040,  0.1070, -1.2493, -1.0409,  1.8514,\n",
       "          1.0325,  0.6299, -0.1472, -1.5695, -0.3887, -0.6763, -1.3172,  1.8227]],\n",
       "       grad_fn=<SelectBackward>)"
      ]
     },
     "execution_count": 26,
     "metadata": {},
     "output_type": "execute_result"
    }
   ],
   "source": [
    "#scrap\n",
    "x2[0]"
   ]
  },
  {
   "cell_type": "code",
   "execution_count": 27,
   "metadata": {},
   "outputs": [
    {
     "data": {
      "text/plain": [
       "tensor(0., grad_fn=<MeanBackward1>)"
      ]
     },
     "execution_count": 27,
     "metadata": {},
     "output_type": "execute_result"
    }
   ],
   "source": [
    "#scrap\n",
    "x2.mean()"
   ]
  },
  {
   "cell_type": "code",
   "execution_count": 28,
   "metadata": {},
   "outputs": [
    {
     "data": {
      "text/plain": [
       "tensor(1.0007, grad_fn=<StdBackward0>)"
      ]
     },
     "execution_count": 28,
     "metadata": {},
     "output_type": "execute_result"
    }
   ],
   "source": [
    "#scrap\n",
    "x2.std()"
   ]
  },
  {
   "cell_type": "code",
   "execution_count": null,
   "metadata": {},
   "outputs": [],
   "source": []
  },
  {
   "cell_type": "code",
   "execution_count": 29,
   "metadata": {},
   "outputs": [
    {
     "data": {
      "text/plain": [
       "<torch._C.Generator at 0x11da2a7f0>"
      ]
     },
     "execution_count": 29,
     "metadata": {},
     "output_type": "execute_result"
    }
   ],
   "source": [
    "#scrap\n",
    "torch.manual_seed(10)"
   ]
  },
  {
   "cell_type": "code",
   "execution_count": 30,
   "metadata": {},
   "outputs": [],
   "source": [
    "#scrap\n",
    "mha_ref = RelPartialLearnableMultiHeadAttn(NHEADS, DMODEL, DINNER, 0)"
   ]
  },
  {
   "cell_type": "code",
   "execution_count": 31,
   "metadata": {},
   "outputs": [
    {
     "data": {
      "text/plain": [
       "torch.Size([7, 3, 32])"
      ]
     },
     "execution_count": 31,
     "metadata": {},
     "output_type": "execute_result"
    }
   ],
   "source": [
    "#scrap\n",
    "mha_ref(inpt, pos, u, v, mems=mem).shape"
   ]
  },
  {
   "cell_type": "code",
   "execution_count": 32,
   "metadata": {},
   "outputs": [
    {
     "data": {
      "text/plain": [
       "tensor(1.7030e-08, grad_fn=<MeanBackward1>)"
      ]
     },
     "execution_count": 32,
     "metadata": {},
     "output_type": "execute_result"
    }
   ],
   "source": [
    "#scrap\n",
    "mha_ref(inpt, pos, u, v, mems=mem).mean()"
   ]
  },
  {
   "cell_type": "code",
   "execution_count": 33,
   "metadata": {},
   "outputs": [
    {
     "data": {
      "text/plain": [
       "tensor(1.0007, grad_fn=<StdBackward0>)"
      ]
     },
     "execution_count": 33,
     "metadata": {},
     "output_type": "execute_result"
    }
   ],
   "source": [
    "#scrap\n",
    "mha_ref(inpt, pos, u, v, mems=mem).std()"
   ]
  },
  {
   "cell_type": "code",
   "execution_count": null,
   "metadata": {},
   "outputs": [],
   "source": []
  },
  {
   "cell_type": "markdown",
   "metadata": {},
   "source": [
    "### Periphereal items"
   ]
  },
  {
   "cell_type": "code",
   "execution_count": 34,
   "metadata": {},
   "outputs": [
    {
     "data": {
      "text/plain": [
       "tensor([[0, 0, 0],\n",
       "        [0, 1, 2],\n",
       "        [0, 2, 4],\n",
       "        [0, 3, 6]])"
      ]
     },
     "execution_count": 34,
     "metadata": {},
     "output_type": "execute_result"
    }
   ],
   "source": [
    "#scrap\n",
    "torch.einsum(\"i,j->ij\", torch.arange(4), torch.arange(3))"
   ]
  },
  {
   "cell_type": "code",
   "execution_count": 35,
   "metadata": {},
   "outputs": [
    {
     "data": {
      "text/plain": [
       "tensor([1.0000e+00, 5.6234e-01, 3.1623e-01, 1.7783e-01, 1.0000e-01, 5.6234e-02,\n",
       "        3.1623e-02, 1.7783e-02, 1.0000e-02, 5.6234e-03, 3.1623e-03, 1.7783e-03,\n",
       "        1.0000e-03, 5.6234e-04, 3.1623e-04, 1.7783e-04])"
      ]
     },
     "execution_count": 35,
     "metadata": {},
     "output_type": "execute_result"
    }
   ],
   "source": [
    "1 / (10000 ** (torch.arange(0.0, 32, 2.0) / 32))"
   ]
  },
  {
   "cell_type": "code",
   "execution_count": 36,
   "metadata": {},
   "outputs": [],
   "source": [
    "class PositionalEmbedding(nn.Module):\n",
    "    def __init__(self, d):\n",
    "        super().__init__()\n",
    "        self.d = d\n",
    "        inv_freq = 1 / (10000 ** (torch.arange(0.0, d, 2.0) / d))\n",
    "        self.register_buffer(\"inv_freq\", inv_freq)\n",
    "        \n",
    "    def forward(self, positions: torch.LongTensor, # (seq, )\n",
    "               ):\n",
    "        sinusoid_inp = torch.einsum(\"i,j->ij\", positions.float(), self.inv_freq)\n",
    "        pos_emb = torch.cat([sinusoid_inp.sin(), sinusoid_inp.cos()], dim=-1)\n",
    "        return pos_emb[:,None,:]"
   ]
  },
  {
   "cell_type": "code",
   "execution_count": 37,
   "metadata": {},
   "outputs": [
    {
     "data": {
      "text/plain": [
       "torch.Size([10, 1, 32])"
      ]
     },
     "execution_count": 37,
     "metadata": {},
     "output_type": "execute_result"
    }
   ],
   "source": [
    "embedding = PositionalEmbedding(32)\n",
    "embedding(torch.arange(10).float()).shape"
   ]
  },
  {
   "cell_type": "code",
   "execution_count": 38,
   "metadata": {},
   "outputs": [],
   "source": [
    "class PositionwiseFF(nn.Module):\n",
    "    def __init__(self, d_input, d_inner, dropout):\n",
    "        super().__init__()\n",
    "\n",
    "        self.d_input = d_input\n",
    "        self.d_inner = d_inner\n",
    "        self.dropout = dropout\n",
    "        self.ff = nn.Sequential(\n",
    "            nn.Linear(d_input, d_inner), nn.ReLU(inplace=True),\n",
    "            nn.Dropout(dropout),\n",
    "            nn.Linear(d_inner, d_input),\n",
    "            nn.Dropout(dropout),\n",
    "        )\n",
    "        self.layer_norm = nn.LayerNorm(d_input)\n",
    "\n",
    "    def forward(self, input_: torch.FloatTensor, # (cur_seq, bs, d_input)\n",
    "               ) -> torch.FloatTensor: # (cur_seq, bs, d_input)\n",
    "        ff_out = self.ff(input_)\n",
    "        output = self.layer_norm(input_ + ff_out)\n",
    "        return output"
   ]
  },
  {
   "cell_type": "code",
   "execution_count": 39,
   "metadata": {},
   "outputs": [],
   "source": [
    "from mem_transformer import PositionwiseFF as RefPositionwiseFF"
   ]
  },
  {
   "cell_type": "code",
   "execution_count": null,
   "metadata": {},
   "outputs": [],
   "source": []
  },
  {
   "cell_type": "markdown",
   "metadata": {},
   "source": [
    "### Building the decoder"
   ]
  },
  {
   "cell_type": "code",
   "execution_count": 40,
   "metadata": {},
   "outputs": [],
   "source": [
    "class DecoderBlock(nn.Module):\n",
    "    def __init__(self, n_heads, d_input, \n",
    "                 d_head_inner, d_ff_inner,\n",
    "                 dropout, dropouta=0.):\n",
    "        super().__init__()\n",
    "        self.mha = MultiHeadAttention(d_input, d_head_inner, n_heads=n_heads, \n",
    "                                      dropout=dropout, dropouta=dropouta)\n",
    "        self.ff = PositionwiseFF(d_input, d_ff_inner, dropout)\n",
    "            \n",
    "    def forward(self, input_: torch.FloatTensor, # (cur_seq, bs, d_input)\n",
    "                pos_embs: torch.FloatTensor, # (cur_seq + prev_seq, d_input),\n",
    "#                 memory: torch.FloatTensor, # (cur_seq ),\n",
    "                u: torch.FloatTensor, # (H, d_input),  # TODO: is this this level?\n",
    "                v: torch.FloatTensor, # (H, d_input),\n",
    "                mask=None,\n",
    "                mems=None,\n",
    "               ):\n",
    "        return self.ff(self.mha(input_, pos_embs, mems, u, v, mask=mask))"
   ]
  },
  {
   "cell_type": "code",
   "execution_count": null,
   "metadata": {},
   "outputs": [],
   "source": []
  },
  {
   "cell_type": "markdown",
   "metadata": {},
   "source": [
    "### Building the adaptive embeddings"
   ]
  },
  {
   "cell_type": "code",
   "execution_count": 41,
   "metadata": {},
   "outputs": [],
   "source": [
    "class StandardWordEmbedding(nn.Module):\n",
    "    \"\"\"\n",
    "    TODO: Implement??\n",
    "    \"\"\"\n",
    "    def __init__(self, num_embeddings, embedding_dim,\n",
    "                div_val=1, sample_softmax=False):\n",
    "        super().__init__()\n",
    "        self.num_embeddings = num_embeddings\n",
    "        self.embedding_dim = embedding_dim\n",
    "        self.embedding = nn.Embedding(num_embeddings, embedding_dim)\n",
    "        self.scale = embedding_dim ** 0.5\n",
    "\n",
    "    def forward(self, input_: torch.LongTensor):\n",
    "        return self.embedding(input_) * self.scale"
   ]
  },
  {
   "cell_type": "code",
   "execution_count": 42,
   "metadata": {},
   "outputs": [],
   "source": [
    "idxs1 = torch.randint(100, (7, 3))\n",
    "idxs2 = torch.randint(100, (6, 3))"
   ]
  },
  {
   "cell_type": "code",
   "execution_count": 43,
   "metadata": {},
   "outputs": [],
   "source": [
    "wembs = StandardWordEmbedding(100, 32)"
   ]
  },
  {
   "cell_type": "code",
   "execution_count": 44,
   "metadata": {},
   "outputs": [
    {
     "data": {
      "text/plain": [
       "torch.Size([7, 3, 32])"
      ]
     },
     "execution_count": 44,
     "metadata": {},
     "output_type": "execute_result"
    }
   ],
   "source": [
    "wembs(idxs1).shape"
   ]
  },
  {
   "cell_type": "code",
   "execution_count": 45,
   "metadata": {},
   "outputs": [],
   "source": [
    "from mem_transformer import AdaptiveEmbedding as RefAdaptiveEmbedding"
   ]
  },
  {
   "cell_type": "code",
   "execution_count": 46,
   "metadata": {},
   "outputs": [],
   "source": [
    "from mem_transformer import ProjectedAdaptiveLogSoftmax as RefProjectedAdaptiveLogSoftmax"
   ]
  },
  {
   "cell_type": "code",
   "execution_count": null,
   "metadata": {},
   "outputs": [],
   "source": []
  },
  {
   "cell_type": "markdown",
   "metadata": {},
   "source": [
    "### Building the entire model"
   ]
  },
  {
   "cell_type": "code",
   "execution_count": 47,
   "metadata": {},
   "outputs": [],
   "source": [
    "import torch.nn.functional as F"
   ]
  },
  {
   "cell_type": "markdown",
   "metadata": {},
   "source": [
    "TODO: Handle evaluation"
   ]
  },
  {
   "cell_type": "code",
   "execution_count": 48,
   "metadata": {},
   "outputs": [],
   "source": [
    "from mem_transformer import RelPartialLearnableDecoderLayer as RefDecoderLayer"
   ]
  },
  {
   "cell_type": "code",
   "execution_count": 49,
   "metadata": {},
   "outputs": [],
   "source": [
    "from typing import *\n",
    "\n",
    "class TransformerXL(nn.Module):\n",
    "    def __init__(self, num_embeddings, n_layers, n_heads, \n",
    "                 d_model, d_head_inner, d_ff_inner,\n",
    "                 dropout=0.1, dropouta=0., \n",
    "                 seq_len: int=0, mem_len: int=0):\n",
    "        super().__init__()\n",
    "        self.n_layers,self.n_heads,self.d_model,self.d_head_inner,self.d_ff_inner = \\\n",
    "            n_layers,n_heads,d_model,d_head_inner,d_ff_inner\n",
    "        # Embedding layers\n",
    "        self.word_embs = StandardWordEmbedding(num_embeddings, d_model)\n",
    "        self.pos_embs = PositionalEmbedding(d_model)\n",
    "        # Core transformer\n",
    "        self.drop = nn.Dropout(dropout)\n",
    "        self.layers = nn.ModuleList([DecoderBlock(n_heads, d_model, d_head_inner=d_head_inner,\n",
    "                                                  d_ff_inner=d_ff_inner,\n",
    "                                                  dropout=dropout, dropouta=dropouta)\n",
    "                                     for _ in range(n_layers)])\n",
    "\n",
    "        # tie weights\n",
    "        self.output_projection = nn.Linear(d_model, num_embeddings)\n",
    "        self.output_projection.weight = self.word_embs.embedding.weight\n",
    "        self.loss_fn = nn.CrossEntropyLoss() # TODO: Why do we need a special loss?\n",
    "\n",
    "        self.seq_len, self.mem_len = seq_len, mem_len # TODO: Is seq_len being used?\n",
    "        \n",
    "        # TODO: Why is this shared among the layers and heads?\n",
    "        # TODO: Better understand meaning of these parameters\n",
    "        self.u, self.v = (nn.Parameter(torch.Tensor(self.n_heads, self.d_head_inner)),\n",
    "                          nn.Parameter(torch.Tensor(self.n_heads, self.d_head_inner)))\n",
    "        \n",
    "    def init_memory(self, device=torch.device(\"cpu\")) -> torch.FloatTensor:\n",
    "        return [torch.empty(0, dtype=torch.float).to(device) for _ in range(self.n_layers+1)]\n",
    "    \n",
    "    def update_memory(self, \n",
    "            previous_memory: List[torch.FloatTensor], \n",
    "            hidden_states: List[torch.FloatTensor],\n",
    "        ):\n",
    "        assert len(hidden_states) == len(previous_memory)\n",
    "        mem_len, seq_len = previous_memory[0].size(0), hidden_states[0].size(0)\n",
    "\n",
    "        # For the updated memory, we use the most recent `self.mem_len`\n",
    "        # states, including the previous memory\n",
    "        # In other words, if `seq_len` < `self.mem_len` some of the previous memory\n",
    "        # will carry over to the next memory\n",
    "        with torch.no_grad():\n",
    "            new_memory = []\n",
    "            end_idx = mem_len + seq_len\n",
    "            beg_idx = max(0, end_idx - self.mem_len)\n",
    "            # TODO: Make this more efficient\n",
    "            for m, h in zip(previous_memory, hidden_states):\n",
    "                cat = torch.cat([m, h], dim=0) # (mem_len + seq_len, bs, d)\n",
    "                new_memory.append(cat[beg_idx:end_idx].detach()) # (self.mem_len, bs, d)\n",
    "        return new_memory\n",
    "    \n",
    "    def reset_length(self, seq_len, ext_len, mem_len):\n",
    "        self.seq_len = seq_len\n",
    "        self.mem_len = mem_len\n",
    "    \n",
    "    def forward(self, idxs: torch.LongTensor, # (cs, bs)\n",
    "                target: torch.LongTensor, # (cs, bs) -> TODO: Isn:'t this the same?\n",
    "                memory: Optional[List[torch.FloatTensor]]=None,\n",
    "               ) -> Dict[str, torch.Tensor]:\n",
    "        if memory is None: \n",
    "            memory: List[torch.FloatTensor] = self.init_memory(idxs.device)\n",
    "        assert len(memory) == len(self.layers) + 1\n",
    "        cur_seq, bs = idxs.size()\n",
    "        prev_seq = memory[0].size(0)\n",
    "        \n",
    "        # Construct attention mask (TODO: Understand)\n",
    "        dec_attn_mask = torch.triu(\n",
    "            torch.ones((cur_seq, cur_seq + prev_seq)),\n",
    "            diagonal=1 + prev_seq,\n",
    "        ).byte()[...,None].to(idxs.device)\n",
    "        \n",
    "        word_embs = self.drop(self.word_embs(idxs))\n",
    "        # TODO: Understand\n",
    "        pos_idxs = torch.arange(cur_seq + prev_seq - 1, -1, -1.0, dtype=torch.float).to(word_embs.device)\n",
    "        pos_embs = self.drop(self.pos_embs(pos_idxs))\n",
    "        \n",
    "        # Main part of forward pass\n",
    "        hidden_states = [word_embs]\n",
    "        layer_out = word_embs\n",
    "        for mem, layer in zip(memory, self.layers):\n",
    "            layer_out = layer(layer_out, pos_embs, self.u, self.v, \n",
    "                              mask=dec_attn_mask, mems=mem)\n",
    "            hidden_states.append(layer_out)\n",
    "        \n",
    "        logits = self.output_projection(self.drop(layer_out))        \n",
    "        loss = self.loss_fn(logits.view(-1, logits.size(-1)), target.view(-1))\n",
    "        \n",
    "        # Update memory \n",
    "        # Ensure the memory is treated as a constant\n",
    "        # and we do not back propagate through them\n",
    "        new_memory = self.update_memory(memory, hidden_states)\n",
    "        return {\"loss\": loss, \"logits\": logits, \"memory\": new_memory}"
   ]
  },
  {
   "cell_type": "code",
   "execution_count": 50,
   "metadata": {},
   "outputs": [
    {
     "data": {
      "text/plain": [
       "tensor(1.7030e-08, grad_fn=<MeanBackward1>)"
      ]
     },
     "execution_count": 50,
     "metadata": {},
     "output_type": "execute_result"
    }
   ],
   "source": [
    "mha_ref(inpt, pos, u, v, mems=mem).mean()"
   ]
  },
  {
   "cell_type": "code",
   "execution_count": 51,
   "metadata": {},
   "outputs": [],
   "source": [
    "transformer = TransformerXL(1000, 4, 3, 32, 17, 71, mem_len=5)"
   ]
  },
  {
   "cell_type": "code",
   "execution_count": 52,
   "metadata": {},
   "outputs": [
    {
     "data": {
      "text/plain": [
       "{'loss': tensor(22.5404, grad_fn=<NllLossBackward>),\n",
       " 'logits': tensor([[[-2.9090e+00, -6.6362e+00, -6.9902e+00,  ...,  1.0316e+00,\n",
       "            3.1874e+00,  1.3131e-01],\n",
       "          [-5.6880e+00, -3.6444e+00,  1.0460e+01,  ...,  1.1932e+00,\n",
       "           -7.6286e+00, -3.2345e+00],\n",
       "          [-2.9856e+00, -4.9486e+00,  1.1710e+01,  ..., -5.2753e+00,\n",
       "            6.9196e-01,  1.0313e+01],\n",
       "          ...,\n",
       "          [ 2.9315e+00, -1.8000e+00,  8.8548e+00,  ...,  3.9414e+00,\n",
       "           -3.2021e+00,  6.2986e-01],\n",
       "          [ 1.2698e+00,  1.6134e+00,  1.4195e+01,  ...,  7.5257e+00,\n",
       "           -2.0149e+01, -1.2188e+00],\n",
       "          [-4.9988e+00, -5.4103e+00,  1.0239e+01,  ...,  2.6494e+00,\n",
       "           -8.9913e-01,  3.5041e-01]],\n",
       " \n",
       "         [[ 5.4079e+00, -2.9023e+00,  3.8685e+00,  ..., -1.2428e+00,\n",
       "            2.6299e+00,  6.1176e+00],\n",
       "          [ 3.0582e+00, -2.8128e+00,  6.3073e+00,  ...,  6.2343e+00,\n",
       "           -5.1910e+00,  2.3591e+00],\n",
       "          [-5.1048e+00, -1.1722e+01,  1.8561e+01,  ..., -1.3006e+01,\n",
       "            3.0591e+00, -5.4180e+00],\n",
       "          ...,\n",
       "          [-1.3049e+01,  4.6116e+00,  6.4100e+00,  ..., -4.0805e+00,\n",
       "           -1.2703e+01,  3.2632e+00],\n",
       "          [-3.8291e+00,  2.6759e+00,  3.9214e+00,  ..., -1.3588e+00,\n",
       "           -1.0968e+01,  5.1822e+00],\n",
       "          [-3.6167e+00, -4.9403e-01,  2.7270e+00,  ..., -3.1145e-01,\n",
       "            3.0889e+00, -3.0946e+00]],\n",
       " \n",
       "         [[-1.1285e+01,  7.1888e-01,  1.0786e+01,  ..., -8.5734e+00,\n",
       "           -7.2422e+00,  1.1526e+00],\n",
       "          [-9.7996e+00, -2.5140e+00,  7.9750e+00,  ...,  8.8998e+00,\n",
       "           -5.7018e+00, -2.3594e+00],\n",
       "          [ 2.7738e+00, -4.5189e+00,  2.4715e+00,  ...,  2.5420e+00,\n",
       "            9.4204e+00,  7.0859e+00],\n",
       "          ...,\n",
       "          [-1.6867e+00, -6.4232e+00,  2.4668e+00,  ..., -1.2128e+01,\n",
       "            1.5371e+00, -1.1126e+01],\n",
       "          [-1.4214e+00,  4.9909e+00, -2.1618e+00,  ..., -5.4908e+00,\n",
       "           -5.0910e+00,  5.6196e+00],\n",
       "          [-3.1989e+00,  4.5923e+00,  7.6753e+00,  ...,  3.2353e+00,\n",
       "           -2.7371e+00,  1.0900e-01]],\n",
       " \n",
       "         [[ 7.2187e+00, -4.9161e+00,  1.7907e-01,  ...,  2.1525e+00,\n",
       "           -1.3839e+00, -6.0559e+00],\n",
       "          [-5.0362e-01,  2.6605e+00, -2.7521e+00,  ..., -2.9869e+00,\n",
       "           -1.7448e+00,  5.9035e+00],\n",
       "          [ 4.2782e+00, -8.0596e-03,  4.6575e+00,  ..., -5.7534e+00,\n",
       "            2.7254e+00,  2.4870e+00],\n",
       "          ...,\n",
       "          [ 7.5153e+00, -7.7140e+00, -3.4272e+00,  ..., -1.7695e+00,\n",
       "            6.9442e+00, -5.5795e+00],\n",
       "          [ 4.6189e+00,  2.0843e-01, -1.5610e+00,  ..., -8.8573e+00,\n",
       "           -9.6588e+00, -2.0796e-01],\n",
       "          [ 2.8136e+00,  5.7016e+00, -1.2385e+01,  ..., -2.0035e+00,\n",
       "            5.8413e+00,  3.3980e+00]],\n",
       " \n",
       "         [[-2.7728e+00, -8.3331e+00,  5.5866e+00,  ..., -5.6527e+00,\n",
       "            1.5887e+00, -1.2220e+01],\n",
       "          [ 2.8744e-01,  4.7797e+00, -8.1315e+00,  ...,  4.9264e+00,\n",
       "            6.8310e-02,  6.7241e+00],\n",
       "          [-3.1074e+00, -3.9053e+00,  8.5668e+00,  ..., -4.6804e+00,\n",
       "            5.5736e+00,  1.1375e+01],\n",
       "          ...,\n",
       "          [ 1.3142e+00, -1.1708e+00, -6.9842e+00,  ..., -2.1300e+00,\n",
       "           -2.3489e+00, -6.0119e-01],\n",
       "          [ 9.9028e+00,  1.0158e+01, -8.9404e+00,  ..., -5.2356e+00,\n",
       "           -2.6794e+00,  1.0648e+01],\n",
       "          [-3.6775e-01,  4.8810e+00,  6.6016e+00,  ...,  1.4048e+00,\n",
       "           -5.4985e-01,  7.5897e-01]]], grad_fn=<AddBackward0>),\n",
       " 'memory': [tensor([[[ -7.9165,   2.8472,  -6.5213,  ...,  -3.6661,   9.1968,   9.0510],\n",
       "           [ 10.8699,   3.7225,  -1.5479,  ...,   3.4311,  -4.5358,   4.6721],\n",
       "           [-12.3604,   5.1361,   1.0344,  ..., -11.3939,  -5.0266,   1.3282],\n",
       "           ...,\n",
       "           [  1.1281,  -0.0000,   3.6624,  ...,   7.7196,   4.5657,   1.1970],\n",
       "           [ -1.2241,   1.6966,   4.6039,  ...,  -4.5270,  -0.1845,   4.9344],\n",
       "           [  3.4288,  -8.8963,   5.4705,  ...,  -4.0037,  14.2677,  -7.1428]],\n",
       "  \n",
       "          [[ -0.9367,   1.0206,  -4.7811,  ...,  10.8616,  -1.4185, -10.4317],\n",
       "           [ -9.4666,   0.0000,   1.0812,  ...,   9.6719,   4.1617,   6.5190],\n",
       "           [  6.4290,  -8.0596,  -0.3519,  ..., -10.6633,  -2.7553,  -9.2060],\n",
       "           ...,\n",
       "           [-10.0291,   0.6848,   8.4795,  ...,   2.5703,  -7.9746,  -6.9063],\n",
       "           [ -0.0000,   0.0000,  -1.2143,  ...,   2.8127,   4.4696,  -4.3683],\n",
       "           [ -0.0000,   4.0421,  -0.0000,  ...,   0.0801,   0.6824,   7.2616]],\n",
       "  \n",
       "          [[  2.3131,   8.6414,  -3.8427,  ...,  -5.0005,  -4.4974, -12.0917],\n",
       "           [  0.0000,  -8.8963,   5.4705,  ...,  -4.0037,  14.2677,  -7.1428],\n",
       "           [ -5.7094,  -1.1246,  -4.6402,  ..., -11.0839,   3.2963,   1.5237],\n",
       "           ...,\n",
       "           [  8.0156, -20.6471,   1.4269,  ...,   1.1159,   2.9563,   0.6317],\n",
       "           [ -2.8927,  -3.7861,   9.6538,  ...,  -0.0000,  -9.7765,   5.5566],\n",
       "           [ -1.6402,  -9.7288,   2.9966,  ...,  -3.0852,   4.9920,  -0.2886]],\n",
       "  \n",
       "          [[  6.4607,   0.6544,   5.9023,  ...,   2.7852,  -0.0000,   5.1326],\n",
       "           [-10.9169,  -2.7434,   1.4744,  ...,   0.0000,  -2.2983,  -3.8839],\n",
       "           [  2.4380,  -3.9097,  -5.0085,  ...,  -6.1964,  -0.6191,   1.1846],\n",
       "           ...,\n",
       "           [  9.6341,  11.1961,   1.7214,  ...,  -0.0000,  -6.3014,   7.1319],\n",
       "           [ -8.2760,   2.0107,   0.0000,  ...,  -3.5534,   7.6721,  -4.8233],\n",
       "           [  0.1081,   4.0695,  -1.7937,  ...,  13.0986,  -2.7190,   4.2481]],\n",
       "  \n",
       "          [[ 14.0452,  -9.3452,  -5.6232,  ...,  -0.0000,   3.6172,   0.0000],\n",
       "           [  7.0976,   1.9510,   0.1968,  ...,  -5.9646,   9.5041,  -7.8056],\n",
       "           [ -8.6774,   0.5205,  -7.2291,  ...,  -3.7007,  -1.4914,  -3.2516],\n",
       "           ...,\n",
       "           [  6.1078,  -8.3832, -18.7803,  ...,  -5.7648,   5.0374,   1.3115],\n",
       "           [  2.0860,  -7.0435,  -3.5012,  ...,   7.8078,  -0.0000,   2.2856],\n",
       "           [  7.4281,  -5.8197,  -1.3763,  ...,  14.1871,  -9.0098,  -2.4723]]]),\n",
       "  tensor([[[-1.4075e+00,  8.6982e-01, -1.2603e+00,  ..., -4.7981e-01,\n",
       "             1.6762e+00,  8.7335e-01],\n",
       "           [ 1.8234e+00,  1.2566e-01, -1.4367e-01,  ...,  3.2705e-01,\n",
       "            -1.4974e+00,  4.6689e-01],\n",
       "           [-1.8269e+00,  9.6260e-01,  3.0105e-01,  ..., -1.2232e+00,\n",
       "            -5.0117e-01, -2.1643e-01],\n",
       "           ...,\n",
       "           [ 5.7797e-01, -6.9415e-01,  1.2242e+00,  ...,  4.9676e-01,\n",
       "             3.0435e-01, -1.9372e-01],\n",
       "           [-5.6056e-01,  2.9866e-01,  9.4531e-01,  ..., -1.1827e+00,\n",
       "            -1.1301e-02,  1.0765e+00],\n",
       "           [-2.5707e-01, -1.7380e+00,  5.2994e-01,  ..., -6.2729e-01,\n",
       "             2.9025e+00, -8.9594e-01]],\n",
       "  \n",
       "          [[-3.5124e-02,  2.0652e-01, -1.2252e+00,  ...,  1.8766e+00,\n",
       "             8.5698e-01, -1.3338e+00],\n",
       "           [-2.5701e+00, -1.1458e+00, -3.1290e-01,  ...,  5.2470e-01,\n",
       "            -1.2858e-02,  1.8325e-01],\n",
       "           [ 7.9088e-01, -1.0715e+00,  4.1837e-01,  ..., -6.5857e-01,\n",
       "            -9.4773e-01, -1.9623e+00],\n",
       "           ...,\n",
       "           [-1.8101e+00,  6.1763e-01,  2.4034e+00,  ...,  2.3469e-01,\n",
       "            -1.1505e+00, -7.4488e-01],\n",
       "           [-9.7368e-01, -5.6935e-01, -7.2813e-01,  ...,  4.2996e-01,\n",
       "             6.6966e-01, -1.0146e+00],\n",
       "           [-1.0541e-01,  6.8592e-01, -2.8538e-01,  ..., -8.2770e-01,\n",
       "             5.9636e-01,  1.0510e+00]],\n",
       "  \n",
       "          [[ 3.5516e-01,  1.2924e+00, -6.8353e-01,  ..., -4.9510e-01,\n",
       "            -1.9995e-01, -1.7844e+00],\n",
       "           [ 2.5999e-01, -1.3082e+00,  6.9291e-01,  ..., -8.8368e-01,\n",
       "             2.7950e+00, -9.3486e-01],\n",
       "           [-5.8816e-01, -3.1581e-01, -4.1483e-01,  ..., -1.5056e+00,\n",
       "             3.9830e-01,  2.5137e-01],\n",
       "           ...,\n",
       "           [-2.3666e-01, -3.0995e+00,  3.9794e-01,  ...,  3.7001e-01,\n",
       "             4.5640e-01,  2.8671e-01],\n",
       "           [-6.7484e-01, -1.1602e+00,  1.5083e+00,  ..., -7.2485e-01,\n",
       "            -1.7365e+00,  5.6122e-01],\n",
       "           [-2.9310e-01, -1.4260e+00,  6.4370e-01,  ..., -8.2309e-01,\n",
       "             8.0097e-01,  1.0626e-01]],\n",
       "  \n",
       "          [[ 3.7087e-01,  4.3359e-01,  7.8817e-01,  ..., -2.6943e-01,\n",
       "             3.1099e-01,  1.2151e+00],\n",
       "           [-1.4556e+00, -6.2030e-01,  1.1496e+00,  ..., -3.9742e-01,\n",
       "             1.3703e-01, -5.2389e-01],\n",
       "           [-4.3266e-02, -4.9883e-01, -1.9812e-01,  ...,  9.9986e-02,\n",
       "            -1.0681e+00,  1.4361e-01],\n",
       "           ...,\n",
       "           [ 1.4534e+00,  1.1003e+00,  1.1457e+00,  ..., -4.8818e-01,\n",
       "            -1.9578e+00,  2.1714e-01],\n",
       "           [-2.0940e+00,  5.3471e-01, -6.3326e-01,  ..., -1.0996e+00,\n",
       "             1.6551e+00, -1.3830e+00],\n",
       "           [-9.1824e-01,  1.1756e-01, -1.1049e+00,  ...,  8.6140e-01,\n",
       "             3.7476e-01,  5.5450e-01]],\n",
       "  \n",
       "          [[ 1.9232e+00, -1.5901e+00, -1.0685e+00,  ..., -3.3199e-01,\n",
       "             3.3837e-01,  6.4744e-01],\n",
       "           [ 8.2449e-01, -3.5109e-02,  5.0434e-01,  ..., -1.6562e+00,\n",
       "             2.3139e+00, -1.7043e-01],\n",
       "           [-1.1982e+00,  3.9173e-01, -8.7112e-01,  ...,  3.3533e-01,\n",
       "            -1.1350e+00, -2.1864e-01],\n",
       "           ...,\n",
       "           [ 1.6989e+00, -1.2475e+00, -2.2331e+00,  ..., -1.2556e+00,\n",
       "             5.1797e-01, -4.8660e-01],\n",
       "           [ 4.1342e-02, -1.2929e+00, -1.9962e-01,  ...,  1.5845e+00,\n",
       "             1.7763e-01, -7.4199e-04],\n",
       "           [ 3.2834e-01, -1.6274e+00, -8.0584e-01,  ...,  1.9202e+00,\n",
       "            -7.4953e-01, -2.1064e-01]]]),\n",
       "  tensor([[[-1.3306e+00,  1.3007e+00, -1.4306e+00,  ..., -2.7851e-01,\n",
       "             1.6702e+00,  1.8830e-01],\n",
       "           [ 2.1571e+00,  1.1651e+00, -1.9429e-01,  ..., -4.6347e-01,\n",
       "            -1.4137e+00, -1.1520e-01],\n",
       "           [-1.5468e+00,  5.7542e-01,  8.8219e-02,  ..., -1.4885e+00,\n",
       "            -4.6584e-01, -3.7478e-01],\n",
       "           ...,\n",
       "           [ 5.6825e-01, -5.7777e-01,  1.1639e+00,  ..., -5.6258e-01,\n",
       "             6.0227e-01, -9.3269e-01],\n",
       "           [-4.4351e-01,  4.5954e-01,  4.5132e-01,  ..., -1.4899e+00,\n",
       "            -7.0064e-02,  7.0350e-01],\n",
       "           [-2.1070e-04, -1.3854e+00,  3.1747e-01,  ..., -1.0702e+00,\n",
       "             2.3733e+00, -7.6241e-01]],\n",
       "  \n",
       "          [[ 1.9159e-01,  6.2174e-01, -1.4339e+00,  ...,  1.1361e+00,\n",
       "             8.3255e-01, -1.5696e+00],\n",
       "           [-2.2841e+00, -5.6383e-01, -4.6842e-01,  ...,  3.2079e-01,\n",
       "             4.5897e-01, -4.0457e-01],\n",
       "           [ 7.8848e-01, -6.8831e-01,  3.9074e-02,  ..., -1.2791e+00,\n",
       "            -9.3222e-01, -1.7748e+00],\n",
       "           ...,\n",
       "           [-1.8581e+00,  8.1504e-01,  2.2371e+00,  ..., -1.0834e+00,\n",
       "            -8.1911e-01, -1.1646e+00],\n",
       "           [-1.1125e+00, -2.1881e-01, -1.6452e+00,  ...,  1.7361e-01,\n",
       "             3.7580e-01, -7.6474e-01],\n",
       "           [ 7.3826e-01,  7.3637e-01, -1.7424e-01,  ..., -8.3447e-01,\n",
       "             3.8935e-01,  7.4248e-01]],\n",
       "  \n",
       "          [[ 7.4769e-01,  1.7709e+00, -5.0933e-01,  ..., -5.8959e-01,\n",
       "            -5.1849e-01, -2.0002e+00],\n",
       "           [ 5.6208e-01, -1.2316e+00,  5.5854e-01,  ..., -9.9534e-01,\n",
       "             2.9654e+00, -1.2353e+00],\n",
       "           [-4.1333e-01, -1.0097e+00, -6.3980e-01,  ..., -1.5157e+00,\n",
       "            -8.6407e-02,  1.7362e-01],\n",
       "           ...,\n",
       "           [-2.5177e-01, -2.6146e+00,  1.3108e-01,  ..., -5.9070e-01,\n",
       "             5.7003e-01,  2.9616e-01],\n",
       "           [-3.5587e-01, -1.1980e+00,  6.1488e-01,  ..., -8.1254e-01,\n",
       "            -1.5807e+00,  3.7188e-01],\n",
       "           [-1.2082e-01, -1.3386e+00,  2.7545e-01,  ..., -1.0739e+00,\n",
       "             4.6475e-01, -3.7650e-01]],\n",
       "  \n",
       "          [[ 4.7793e-01,  3.7573e-01,  8.5671e-01,  ...,  4.7002e-02,\n",
       "             1.4923e-02,  6.9506e-01],\n",
       "           [-1.2352e+00,  8.5222e-02,  6.1632e-01,  ..., -1.4276e+00,\n",
       "             2.8734e-01, -6.4834e-01],\n",
       "           [ 2.9819e-01, -3.8667e-01, -4.3264e-01,  ..., -3.1432e-03,\n",
       "            -8.4815e-01,  2.4908e-01],\n",
       "           ...,\n",
       "           [ 1.6693e+00,  1.0637e+00,  1.1771e+00,  ..., -1.2600e+00,\n",
       "            -1.5462e+00,  6.2565e-02],\n",
       "           [-2.1533e+00,  6.9254e-01, -7.4350e-01,  ..., -1.0564e+00,\n",
       "             1.3179e+00, -1.2193e+00],\n",
       "           [-8.8244e-01,  1.2114e-01, -1.9055e+00,  ...,  8.5794e-01,\n",
       "             3.3664e-01,  4.4276e-01]],\n",
       "  \n",
       "          [[ 1.8546e+00, -1.3480e+00, -7.5729e-01,  ..., -1.0114e+00,\n",
       "             6.6011e-01,  1.1406e-01],\n",
       "           [ 1.0778e+00, -2.4359e-01,  6.0551e-01,  ..., -2.1570e+00,\n",
       "             2.6368e+00, -6.2534e-01],\n",
       "           [-9.8032e-01,  4.4240e-02, -1.4533e+00,  ..., -6.1588e-01,\n",
       "            -9.5568e-01,  6.0436e-03],\n",
       "           ...,\n",
       "           [ 1.2994e+00, -2.1177e-01, -2.4694e+00,  ..., -1.7859e+00,\n",
       "             4.6789e-01, -1.5110e+00],\n",
       "           [-4.6290e-01, -1.2909e+00, -3.7981e-01,  ...,  1.2334e+00,\n",
       "             2.5336e-02,  1.0665e-01],\n",
       "           [ 6.0746e-01, -1.4156e+00, -6.2642e-01,  ...,  1.8899e+00,\n",
       "            -8.5231e-01, -7.4719e-01]]]),\n",
       "  tensor([[[-1.5884e+00,  6.1805e-01, -1.2781e+00,  ..., -3.9332e-01,\n",
       "             1.7109e+00,  7.0903e-01],\n",
       "           [ 1.9797e+00,  5.8025e-01,  3.1218e-01,  ..., -2.9067e-01,\n",
       "            -1.4205e+00,  5.3232e-02],\n",
       "           [-1.4291e+00, -9.4496e-04,  3.5576e-03,  ..., -1.3392e+00,\n",
       "            -4.4792e-01, -1.1582e+00],\n",
       "           ...,\n",
       "           [ 4.3028e-01, -4.3230e-01,  8.5661e-01,  ..., -8.3670e-01,\n",
       "            -2.9372e-01, -1.1582e+00],\n",
       "           [-6.4740e-01,  1.6148e+00,  4.2838e-01,  ..., -1.1808e+00,\n",
       "            -1.7271e-01,  1.5395e-01],\n",
       "           [-2.9026e-01, -1.2072e+00,  1.9272e-01,  ..., -6.3202e-01,\n",
       "             1.9062e+00, -1.0649e-01]],\n",
       "  \n",
       "          [[-1.2886e-01,  3.1420e-01, -1.7663e+00,  ...,  7.3960e-01,\n",
       "             1.2968e+00, -8.9929e-01],\n",
       "           [-2.5131e+00, -5.7835e-01, -3.2877e-01,  ...,  5.5650e-01,\n",
       "             1.0952e+00,  1.9868e-01],\n",
       "           [ 9.4452e-01, -1.0268e+00,  8.1470e-02,  ..., -8.2131e-01,\n",
       "            -5.1620e-01, -1.6072e+00],\n",
       "           ...,\n",
       "           [-2.6731e+00,  8.3889e-02,  1.7946e+00,  ..., -1.1256e+00,\n",
       "            -6.0699e-01, -1.7725e+00],\n",
       "           [-2.0159e+00,  4.4735e-01, -1.3473e+00,  ...,  5.0926e-01,\n",
       "             4.4100e-01, -1.5061e+00],\n",
       "           [ 8.7373e-01,  2.7490e-01, -1.0158e-01,  ..., -1.0099e+00,\n",
       "            -3.1954e-01,  1.0238e+00]],\n",
       "  \n",
       "          [[ 6.5599e-01,  9.3250e-01, -6.3902e-01,  ..., -1.2069e+00,\n",
       "            -2.5376e-01, -1.8317e+00],\n",
       "           [ 1.8772e-01, -1.1102e+00,  2.8304e-01,  ..., -8.6429e-01,\n",
       "             2.6687e+00, -9.5265e-01],\n",
       "           [-5.1257e-01, -9.8227e-01, -7.3705e-01,  ..., -1.2598e+00,\n",
       "            -7.6278e-01, -4.5666e-02],\n",
       "           ...,\n",
       "           [-4.7853e-01, -2.4969e+00,  2.2361e-01,  ..., -3.7042e-01,\n",
       "             6.4116e-01, -3.8228e-01],\n",
       "           [-4.7250e-01, -1.5545e+00,  5.3627e-01,  ..., -2.1755e-02,\n",
       "            -1.3120e+00,  2.1655e-01],\n",
       "           [-1.0030e-01, -2.0830e+00,  3.8006e-01,  ..., -1.5167e+00,\n",
       "             1.5243e-01,  7.1553e-01]],\n",
       "  \n",
       "          [[ 1.0350e+00, -2.2143e-01,  3.3704e-01,  ...,  3.1405e-01,\n",
       "            -5.4255e-01,  1.2838e+00],\n",
       "           [-1.4437e+00, -2.9796e-01,  8.1348e-01,  ..., -8.0408e-01,\n",
       "             2.3649e-02, -8.1959e-01],\n",
       "           [ 4.4314e-01, -3.5742e-01, -5.3478e-01,  ...,  1.0716e-01,\n",
       "            -8.2855e-01,  7.0502e-01],\n",
       "           ...,\n",
       "           [ 1.0854e+00,  7.1513e-01,  1.2091e+00,  ..., -9.9969e-01,\n",
       "            -2.0247e+00, -4.8723e-01],\n",
       "           [-2.4712e+00,  5.3765e-01, -2.8889e-01,  ..., -3.8338e-01,\n",
       "             1.0235e+00, -1.8646e+00],\n",
       "           [-1.1549e+00, -3.9668e-01, -1.5902e+00,  ...,  9.9944e-01,\n",
       "             4.1482e-01,  1.4203e+00]],\n",
       "  \n",
       "          [[ 2.2718e+00, -1.2994e+00, -8.6441e-01,  ..., -1.1788e+00,\n",
       "             7.9265e-01,  3.5393e-01],\n",
       "           [ 3.7257e-01, -1.7166e-01,  5.1031e-01,  ..., -2.1490e+00,\n",
       "             2.8111e+00, -8.5581e-01],\n",
       "           [-9.5836e-01, -6.4319e-01, -1.3975e+00,  ..., -6.2635e-01,\n",
       "            -5.8408e-01,  3.4565e-01],\n",
       "           ...,\n",
       "           [ 2.4768e-01, -6.4910e-01, -1.8707e+00,  ..., -1.6556e+00,\n",
       "             1.3497e-01, -1.4711e+00],\n",
       "           [-8.3703e-01, -1.4937e+00,  3.1808e-01,  ...,  1.0935e+00,\n",
       "            -2.4409e-02, -1.1546e-01],\n",
       "           [ 6.2538e-01, -1.4874e+00, -3.1578e-01,  ...,  1.8277e+00,\n",
       "            -1.1067e+00,  5.5813e-01]]]),\n",
       "  tensor([[[-1.1847e+00,  6.8695e-01, -1.0152e+00,  ..., -6.1173e-01,\n",
       "             1.5514e+00,  7.6128e-01],\n",
       "           [ 2.2801e+00,  7.6453e-01,  2.7315e-01,  ..., -4.1242e-01,\n",
       "            -1.7667e+00, -2.0119e-01],\n",
       "           [-1.3456e+00,  6.7236e-01, -2.3195e-01,  ..., -1.5406e+00,\n",
       "            -5.8220e-01, -1.1211e+00],\n",
       "           ...,\n",
       "           [ 7.2879e-01, -1.1032e+00,  8.7577e-01,  ..., -1.3916e+00,\n",
       "            -1.0353e+00, -7.0926e-01],\n",
       "           [-7.0845e-01,  1.5747e+00,  6.4036e-01,  ..., -1.5892e+00,\n",
       "            -5.0075e-01,  1.0418e-01],\n",
       "           [-1.0603e+00, -1.2515e+00,  8.6979e-01,  ..., -6.4899e-01,\n",
       "             1.5302e+00, -4.5006e-01]],\n",
       "  \n",
       "          [[ 4.7040e-02,  1.2195e-01, -1.6549e+00,  ...,  1.1142e-01,\n",
       "             1.1686e+00, -8.1714e-01],\n",
       "           [-2.6486e+00, -8.6591e-01,  4.5801e-01,  ...,  4.1079e-01,\n",
       "             1.4000e+00,  2.8311e-02],\n",
       "           [ 1.2563e+00, -9.8938e-02,  1.1666e-01,  ..., -1.0930e+00,\n",
       "            -1.0385e+00, -1.7736e+00],\n",
       "           ...,\n",
       "           [-2.2545e+00, -4.5535e-03,  1.2991e+00,  ..., -4.4985e-01,\n",
       "            -5.4313e-01, -1.7055e+00],\n",
       "           [-2.1233e+00,  1.0336e+00, -9.4529e-01,  ..., -1.2327e-01,\n",
       "             9.1958e-02, -1.2951e+00],\n",
       "           [ 8.3094e-01,  8.4578e-01,  2.0603e-01,  ..., -1.0601e+00,\n",
       "            -5.9665e-01,  3.9248e-01]],\n",
       "  \n",
       "          [[ 4.9504e-01,  8.7389e-01, -3.7656e-01,  ..., -1.0669e+00,\n",
       "            -4.4241e-01, -1.8652e+00],\n",
       "           [-1.0069e+00, -7.9181e-01,  1.0450e+00,  ..., -1.0018e+00,\n",
       "             2.3945e+00, -1.4237e+00],\n",
       "           [-8.0871e-01, -4.3816e-01, -4.5174e-01,  ..., -1.1247e+00,\n",
       "            -1.1417e+00, -1.0020e-02],\n",
       "           ...,\n",
       "           [-4.4592e-01, -1.9416e+00,  5.7453e-02,  ..., -3.2818e-01,\n",
       "             6.5988e-01, -7.1136e-01],\n",
       "           [-7.4762e-01, -7.0626e-01, -5.8865e-02,  ...,  4.9279e-01,\n",
       "            -1.2286e+00, -1.2655e-01],\n",
       "           [-5.4255e-01, -1.9482e+00,  1.0026e+00,  ..., -1.3278e+00,\n",
       "            -1.3875e-02,  3.7851e-01]],\n",
       "  \n",
       "          [[ 1.2816e+00, -7.1701e-02,  2.0335e-01,  ..., -2.6528e-02,\n",
       "            -9.6103e-01,  1.3490e+00],\n",
       "           [-1.8818e+00, -1.8715e-01,  1.1470e+00,  ..., -2.3958e-01,\n",
       "             3.2411e-01, -6.9995e-01],\n",
       "           [ 2.0575e-01, -4.3970e-01,  2.9533e-01,  ...,  7.0539e-02,\n",
       "            -8.7685e-01,  8.8467e-01],\n",
       "           ...,\n",
       "           [ 7.8125e-01,  8.7302e-01,  1.1469e+00,  ..., -4.3492e-01,\n",
       "            -2.0992e+00, -4.0003e-01],\n",
       "           [-2.6170e+00,  1.0163e+00, -2.6021e-01,  ...,  1.1911e-01,\n",
       "             1.0392e+00, -2.1064e+00],\n",
       "           [-1.0843e+00, -1.8318e-01, -1.4991e+00,  ...,  1.0146e+00,\n",
       "             2.2281e-01,  1.3325e+00]],\n",
       "  \n",
       "          [[ 1.9782e+00, -1.3297e+00, -4.5866e-01,  ..., -1.0480e+00,\n",
       "             4.2029e-01,  5.9025e-01],\n",
       "           [-6.8445e-01, -2.0235e-04,  1.0275e+00,  ..., -1.7569e+00,\n",
       "             2.4323e+00, -1.3304e+00],\n",
       "           [-1.1725e+00, -4.9273e-01, -9.2044e-01,  ..., -4.1798e-01,\n",
       "            -6.8016e-01,  3.5324e-01],\n",
       "           ...,\n",
       "           [ 2.4481e-01, -2.8389e-01, -1.8168e+00,  ..., -1.4905e+00,\n",
       "            -1.1919e-01, -1.2992e+00],\n",
       "           [-7.5217e-01, -7.5582e-01, -2.1934e-01,  ...,  1.3759e+00,\n",
       "            -3.5222e-01, -3.7040e-01],\n",
       "           [ 5.8493e-01, -1.3647e+00, -8.1247e-02,  ...,  2.1962e+00,\n",
       "            -1.2871e+00,  3.4107e-01]]])]}"
      ]
     },
     "execution_count": 52,
     "metadata": {},
     "output_type": "execute_result"
    }
   ],
   "source": [
    "idxs = torch.randint(1000, (5, 9))\n",
    "tgts = torch.randint(1000, (5, 9))\n",
    "transformer(idxs, tgts)"
   ]
  },
  {
   "cell_type": "code",
   "execution_count": null,
   "metadata": {},
   "outputs": [],
   "source": []
  },
  {
   "cell_type": "markdown",
   "metadata": {},
   "source": [
    "# Training"
   ]
  },
  {
   "cell_type": "code",
   "execution_count": null,
   "metadata": {},
   "outputs": [],
   "source": []
  },
  {
   "cell_type": "markdown",
   "metadata": {},
   "source": [
    "### Data Loading"
   ]
  },
  {
   "cell_type": "code",
   "execution_count": 53,
   "metadata": {},
   "outputs": [],
   "source": [
    "from torch.utils import data"
   ]
  },
  {
   "cell_type": "code",
   "execution_count": 54,
   "metadata": {},
   "outputs": [],
   "source": [
    "import math"
   ]
  },
  {
   "cell_type": "code",
   "execution_count": 55,
   "metadata": {},
   "outputs": [],
   "source": [
    "class LMDataLoader(data.DataLoader):\n",
    "    \"\"\"\n",
    "    Suppose batch size is 4 and our entire corpus looks like this:\n",
    "    'pytorch is an amazing deep learning framework that makes nlp really easy'\n",
    "    To take advantage of segment-level recurrence in the Transformer XL, we want to make sure that \n",
    "    the previous batch contains the previous segment at the same position. (TODO: Add better explanation)\n",
    "    \n",
    "    In other words, we want to iterate over this sentence like this\n",
    "    Batch 1: pytorch   amazing   framework nlp\n",
    "    Batch 2: is        deep      that      really\n",
    "    Batch 3: an        learning  makes     easy\n",
    "    Notice that you can reconstruct the original sentence by reading from top to bottom, left to right\n",
    "    instead of left to right, top to bottom\n",
    "    With a longer bptt (back propagation through time) length of 2 for example, the\n",
    "    minibatch would be of shape (batch_size, bptt) and would look like\n",
    "    Batch 1: pytorch   amazing   framework nlp\n",
    "             is        deep      that      really\n",
    "    Batch 2: an        learning  makes     easy\n",
    "    \"\"\"\n",
    "    def __init__(self, data: torch.LongTensor, batch_size: int, bptt: int,\n",
    "                 device=torch.device(\"cpu\")):\n",
    "        self.batch_size = batch_size\n",
    "        self.bptt = bptt\n",
    "        self.n_steps = data.size(0) // batch_size\n",
    "        \n",
    "        # we reshape the data here so that we can index\n",
    "        # efficiently into it while training\n",
    "        self.data = (data[:self.n_steps * batch_size] # trim off any elements that don't fit cleanly\n",
    "                     .view(batch_size, self.n_steps) # \n",
    "                     .transpose(0, 1) # \n",
    "                     .contiguous().to(device) # put on device as contiguous tensor\n",
    "                     )\n",
    "    \n",
    "    def __iter__(self):\n",
    "        for batch_start_idx in range(0, self.data.size(0) - 1, self.bptt):\n",
    "            batch_end_idx = min(batch_start_idx + self.bptt, self.data.size(0) - 1)\n",
    "            # TODO: What is `self.ext_len` in the original code?\n",
    "            batch_data = self.data[batch_start_idx:batch_end_idx]\n",
    "            target = self.data[batch_start_idx+1:batch_end_idx+1]\n",
    "            # we generate the sequence length as well for loss calculation later\n",
    "            yield batch_data, target, batch_end_idx - batch_start_idx\n",
    "    \n",
    "    def __len__(self):\n",
    "        return math.ceil(self.data.size(0) / self.bptt)"
   ]
  },
  {
   "cell_type": "markdown",
   "metadata": {},
   "source": [
    "Test"
   ]
  },
  {
   "cell_type": "code",
   "execution_count": 56,
   "metadata": {},
   "outputs": [],
   "source": [
    "test_corpus = torch.randint(1000, (1600, ))"
   ]
  },
  {
   "cell_type": "code",
   "execution_count": 57,
   "metadata": {},
   "outputs": [],
   "source": [
    "BS = 16\n",
    "BPTT = 10"
   ]
  },
  {
   "cell_type": "code",
   "execution_count": 58,
   "metadata": {},
   "outputs": [
    {
     "data": {
      "text/plain": [
       "tensor([495, 258, 302, 862, 367, 647, 251,  60, 770, 306])"
      ]
     },
     "execution_count": 58,
     "metadata": {},
     "output_type": "execute_result"
    }
   ],
   "source": [
    "test_corpus[:BPTT]"
   ]
  },
  {
   "cell_type": "code",
   "execution_count": 59,
   "metadata": {},
   "outputs": [],
   "source": [
    "loader = LMDataLoader(test_corpus, BS, BPTT)"
   ]
  },
  {
   "cell_type": "code",
   "execution_count": 60,
   "metadata": {},
   "outputs": [],
   "source": [
    "b1, *_ = next(iter(loader))"
   ]
  },
  {
   "cell_type": "code",
   "execution_count": 61,
   "metadata": {},
   "outputs": [
    {
     "data": {
      "text/plain": [
       "torch.Size([10, 16])"
      ]
     },
     "execution_count": 61,
     "metadata": {},
     "output_type": "execute_result"
    }
   ],
   "source": [
    "b1.shape"
   ]
  },
  {
   "cell_type": "code",
   "execution_count": 62,
   "metadata": {},
   "outputs": [
    {
     "data": {
      "text/plain": [
       "tensor([[495, 823, 591, 439, 717, 391, 921, 848, 826, 625, 352, 577, 559, 882,\n",
       "         340, 330],\n",
       "        [258,  53, 222, 136, 839, 357, 772, 366, 135, 635, 747, 604, 829, 550,\n",
       "         609, 504],\n",
       "        [302, 762, 395, 843, 321,  45, 263, 204, 120, 937, 682,  93, 268, 999,\n",
       "         905, 529],\n",
       "        [862, 283, 565, 346, 716, 402, 875, 630, 117, 454, 756, 144, 134, 508,\n",
       "         730, 466],\n",
       "        [367, 197, 109, 294,  83, 455, 879, 790,   9, 591, 333,  71, 329, 223,\n",
       "         893,  74],\n",
       "        [647, 550,  79, 354, 476, 528, 581, 794, 682, 313,  80, 317, 840, 373,\n",
       "         299, 616],\n",
       "        [251, 321, 985,  79, 844, 498, 423, 361,  17, 264, 373, 913, 575, 623,\n",
       "         550, 332],\n",
       "        [ 60, 334,  63, 396, 135, 498, 527, 847, 365, 316, 146, 929, 327, 341,\n",
       "          98, 763],\n",
       "        [770, 921, 551, 646, 347, 515, 946, 130, 211, 605, 924, 891, 745, 970,\n",
       "         231, 421],\n",
       "        [306, 105, 416, 760, 965, 631, 320, 275, 651, 490, 723, 680, 148, 753,\n",
       "         432, 553]])"
      ]
     },
     "execution_count": 62,
     "metadata": {},
     "output_type": "execute_result"
    }
   ],
   "source": [
    "b1"
   ]
  },
  {
   "cell_type": "code",
   "execution_count": 63,
   "metadata": {},
   "outputs": [],
   "source": [
    "b1, b2, sl = next(iter(loader))"
   ]
  },
  {
   "cell_type": "code",
   "execution_count": 64,
   "metadata": {},
   "outputs": [],
   "source": [
    "transformer_xl = TransformerXL(1000, n_layers=4, n_heads=3, \n",
    "                               d_model=32, d_head_inner=17, d_ff_inner=71)"
   ]
  },
  {
   "cell_type": "markdown",
   "metadata": {},
   "source": [
    "### Initialization"
   ]
  },
  {
   "cell_type": "code",
   "execution_count": 65,
   "metadata": {},
   "outputs": [],
   "source": [
    "def init_weight(weight):\n",
    "    nn.init.normal_(weight, 0.0, 0.02)\n",
    "\n",
    "def init_bias(bias):\n",
    "    nn.init.constant_(bias, 0.0)\n",
    "    \n",
    "# Borrowed from the transformer XL repo\n",
    "def weights_init(m):\n",
    "    classname = m.__class__.__name__\n",
    "    if classname.find('Linear') != -1:\n",
    "        if hasattr(m, 'weight') and m.weight is not None:\n",
    "            init_weight(m.weight)\n",
    "        if hasattr(m, 'bias') and m.bias is not None:\n",
    "            init_bias(m.bias)\n",
    "    elif classname.find('Embedding') != -1:\n",
    "        if hasattr(m, 'weight'):\n",
    "            init_weight(m.weight)\n",
    "    elif classname.find('LayerNorm') != -1:\n",
    "        if hasattr(m, 'weight'):\n",
    "            nn.init.normal_(m.weight, 1.0, 0.02)\n",
    "        if hasattr(m, 'bias') and m.bias is not None:\n",
    "            init_bias(m.bias)\n",
    "    else:\n",
    "        if hasattr(m, 'u'):\n",
    "            init_weight(m.u)\n",
    "        if hasattr(m, 'v'):\n",
    "            init_weight(m.v)"
   ]
  },
  {
   "cell_type": "code",
   "execution_count": null,
   "metadata": {},
   "outputs": [],
   "source": []
  },
  {
   "cell_type": "code",
   "execution_count": 66,
   "metadata": {},
   "outputs": [],
   "source": [
    "transformer_xl.apply(weights_init);"
   ]
  },
  {
   "cell_type": "code",
   "execution_count": 67,
   "metadata": {},
   "outputs": [],
   "source": [
    "def assert_nonan_params(m):\n",
    "    for nm, param in m.named_parameters():\n",
    "        if torch.isnan(param).any():\n",
    "            raise ValueError(f\"{nm} has nan weights\")"
   ]
  },
  {
   "cell_type": "code",
   "execution_count": 68,
   "metadata": {},
   "outputs": [],
   "source": [
    "assert_nonan_params(transformer_xl)"
   ]
  },
  {
   "cell_type": "code",
   "execution_count": 69,
   "metadata": {},
   "outputs": [
    {
     "data": {
      "text/plain": [
       "{'loss': tensor(6.9132, grad_fn=<NllLossBackward>),\n",
       " 'logits': tensor([[[-1.0248e-01,  1.0731e-01,  1.4011e-02,  ...,  6.9848e-02,\n",
       "            2.4726e-01,  2.2748e-01],\n",
       "          [-1.3678e-03, -4.6101e-02,  4.6903e-02,  ...,  1.5692e-01,\n",
       "           -6.4016e-02,  6.1876e-02],\n",
       "          [-4.5677e-02, -1.4621e-01,  1.3201e-02,  ...,  2.0921e-02,\n",
       "           -1.6673e-01, -6.3966e-02],\n",
       "          ...,\n",
       "          [ 1.3626e-01,  1.9220e-01, -4.0781e-02,  ..., -5.7603e-02,\n",
       "           -5.6082e-02,  4.1659e-02],\n",
       "          [-4.4718e-02,  1.5178e-02, -2.1175e-01,  ...,  1.4830e-01,\n",
       "           -7.5375e-02, -1.7004e-01],\n",
       "          [-4.6929e-02,  6.4080e-02,  3.6388e-02,  ...,  1.3949e-01,\n",
       "           -2.7204e-02, -1.4109e-01]],\n",
       " \n",
       "         [[-1.0999e-01, -1.4124e-01, -1.5175e-01,  ...,  8.1961e-02,\n",
       "           -5.8229e-02, -3.6164e-04],\n",
       "          [-1.4177e-01,  1.1944e-01, -5.5737e-02,  ..., -2.3964e-02,\n",
       "            1.8713e-01, -1.0519e-01],\n",
       "          [ 2.6806e-02,  7.5983e-02,  6.9189e-02,  ...,  8.6324e-02,\n",
       "            8.4597e-02, -2.3676e-02],\n",
       "          ...,\n",
       "          [-1.6791e-01,  8.5879e-02,  1.7494e-01,  ..., -3.3066e-02,\n",
       "           -1.5778e-01, -8.8234e-04],\n",
       "          [ 7.2104e-02,  1.2902e-01,  5.3687e-02,  ..., -1.5645e-01,\n",
       "           -7.1781e-03, -1.1068e-01],\n",
       "          [ 1.4564e-01,  3.5282e-02, -5.8816e-02,  ..., -1.1506e-01,\n",
       "            2.9478e-02,  1.8000e-01]],\n",
       " \n",
       "         [[-7.2060e-02, -8.4643e-03,  6.4367e-02,  ..., -1.3164e-01,\n",
       "           -1.3614e-01,  1.9446e-02],\n",
       "          [ 1.4124e-01,  7.9030e-02, -8.5568e-02,  ..., -1.2929e-01,\n",
       "            5.8081e-03, -8.4492e-02],\n",
       "          [-2.5493e-02,  1.2458e-01,  7.0857e-02,  ...,  3.5657e-02,\n",
       "           -8.3504e-02, -8.0807e-02],\n",
       "          ...,\n",
       "          [-3.0617e-02, -1.4736e-02, -4.8627e-02,  ...,  4.0153e-03,\n",
       "            1.6265e-01,  5.8908e-01],\n",
       "          [-9.2850e-02, -1.3584e-01,  2.3585e-01,  ..., -1.4457e-01,\n",
       "            9.7202e-03, -2.6095e-01],\n",
       "          [-8.5778e-02,  8.6147e-02,  2.1940e-02,  ...,  1.3798e-01,\n",
       "            1.7101e-02, -1.3712e-02]],\n",
       " \n",
       "         ...,\n",
       " \n",
       "         [[ 9.1503e-02, -3.7148e-02, -2.2180e-02,  ..., -7.5079e-02,\n",
       "           -2.0175e-02,  1.7088e-02],\n",
       "          [-7.6871e-02,  5.5227e-02, -1.3287e-01,  ...,  4.0191e-02,\n",
       "            1.4266e-01,  1.4642e-01],\n",
       "          [ 1.3682e-01, -9.1742e-02, -6.0162e-02,  ...,  2.3565e-02,\n",
       "           -1.3034e-01, -2.3142e-02],\n",
       "          ...,\n",
       "          [-1.6963e-01,  8.1763e-02, -3.8774e-02,  ..., -3.9358e-02,\n",
       "           -2.0138e-02, -4.5745e-03],\n",
       "          [-1.3889e-02, -4.4796e-02, -1.8235e-01,  ..., -6.2257e-03,\n",
       "            9.6230e-02, -4.3023e-02],\n",
       "          [ 6.3552e-02,  3.1558e-02, -1.2285e-01,  ...,  9.1621e-03,\n",
       "           -1.1906e-03, -8.2683e-02]],\n",
       " \n",
       "         [[ 1.3720e-01,  6.6950e-02, -7.8836e-03,  ..., -3.5002e-01,\n",
       "            7.5044e-02, -6.8420e-03],\n",
       "          [-9.4781e-02,  2.3919e-01, -2.9293e-02,  ..., -1.8158e-01,\n",
       "            1.1142e-02, -1.5246e-01],\n",
       "          [-3.8051e-02,  1.5883e-01, -2.7557e-02,  ..., -1.5475e-02,\n",
       "            7.5417e-02, -5.9191e-03],\n",
       "          ...,\n",
       "          [-9.5314e-02,  9.2642e-02, -2.6091e-01,  ..., -3.4878e-02,\n",
       "            1.1088e-01,  1.3217e-01],\n",
       "          [-8.7632e-02,  1.0678e-01,  2.4481e-01,  ..., -1.2132e-01,\n",
       "           -4.0339e-02,  1.2571e-01],\n",
       "          [-1.2485e-01,  1.1252e-01,  2.2078e-01,  ..., -1.1770e-01,\n",
       "           -8.2886e-02,  8.7156e-02]],\n",
       " \n",
       "         [[ 3.6904e-02, -3.0857e-01,  5.5182e-02,  ...,  1.7782e-03,\n",
       "           -1.5544e-01, -3.7041e-02],\n",
       "          [ 1.5587e-01, -1.8009e-02, -1.4837e-01,  ...,  1.4830e-01,\n",
       "           -8.8462e-02,  7.4064e-02],\n",
       "          [ 7.9205e-02, -5.7751e-02,  1.2568e-01,  ..., -1.5825e-01,\n",
       "            1.0375e-01,  1.2069e-01],\n",
       "          ...,\n",
       "          [ 8.7838e-02, -4.8632e-02, -1.3849e-01,  ..., -5.1900e-02,\n",
       "            2.5409e-02, -1.5170e-01],\n",
       "          [-1.6238e-01, -5.9545e-02, -2.0494e-02,  ..., -4.7279e-02,\n",
       "           -1.2305e-03,  1.3663e-01],\n",
       "          [-1.3301e-01, -1.2666e-01,  1.4380e-02,  ..., -1.0582e-01,\n",
       "            2.8081e-02,  8.3359e-02]]], grad_fn=<AddBackward0>),\n",
       " 'memory': [tensor([], size=(0, 16, 32)),\n",
       "  tensor([], size=(0, 16, 32)),\n",
       "  tensor([], size=(0, 16, 32)),\n",
       "  tensor([], size=(0, 16, 32)),\n",
       "  tensor([], size=(0, 16, 32))]}"
      ]
     },
     "execution_count": 69,
     "metadata": {},
     "output_type": "execute_result"
    }
   ],
   "source": [
    "transformer_xl(b1, b2)"
   ]
  },
  {
   "cell_type": "code",
   "execution_count": null,
   "metadata": {},
   "outputs": [],
   "source": []
  },
  {
   "cell_type": "markdown",
   "metadata": {},
   "source": [
    "Reference"
   ]
  },
  {
   "cell_type": "code",
   "execution_count": 70,
   "metadata": {},
   "outputs": [],
   "source": [
    "#scrap\n",
    "import mem_transformer"
   ]
  },
  {
   "cell_type": "code",
   "execution_count": 71,
   "metadata": {},
   "outputs": [],
   "source": [
    "#scrap\n",
    "def ref_init_weight(weight):\n",
    "    nn.init.normal_(weight, 0.0, 0.02)\n",
    "\n",
    "def ref_init_bias(bias):\n",
    "    nn.init.constant_(bias, 0.0)\n",
    "\n",
    "def ref_weights_init(m):\n",
    "    classname = m.__class__.__name__\n",
    "    if classname.find('Linear') != -1:\n",
    "        if hasattr(m, 'weight') and m.weight is not None:\n",
    "            ref_init_weight(m.weight)\n",
    "        if hasattr(m, 'bias') and m.bias is not None:\n",
    "            ref_init_bias(m.bias)\n",
    "    elif classname.find('AdaptiveEmbedding') != -1:\n",
    "        if hasattr(m, 'emb_projs'):\n",
    "            for i in range(len(m.emb_projs)):\n",
    "                if m.emb_projs[i] is not None:\n",
    "                    nn.init.normal_(m.emb_projs[i], 0.0, 0.01)\n",
    "    elif classname.find('Embedding') != -1:\n",
    "        if hasattr(m, 'weight'):\n",
    "            ref_init_weight(m.weight)\n",
    "    elif classname.find('ProjectedAdaptiveLogSoftmax') != -1:\n",
    "        if hasattr(m, 'cluster_weight') and m.cluster_weight is not None:\n",
    "            ref_init_weight(m.cluster_weight)\n",
    "        if hasattr(m, 'cluster_bias') and m.cluster_bias is not None:\n",
    "            ref_init_bias(m.cluster_bias)\n",
    "        if hasattr(m, 'out_projs'):\n",
    "            for i in range(len(m.out_projs)):\n",
    "                if m.out_projs[i] is not None:\n",
    "                    nn.init.normal_(m.out_projs[i], 0.0, 0.01)\n",
    "    elif classname.find('LayerNorm') != -1:\n",
    "        if hasattr(m, 'weight'):\n",
    "            nn.init.normal_(m.weight, 1.0, 0.02)\n",
    "        if hasattr(m, 'bias') and m.bias is not None:\n",
    "            ref_init_bias(m.bias)\n",
    "    elif classname.find('TransformerLM') != -1:\n",
    "        if hasattr(m, 'r_emb'):\n",
    "            ref_init_weight(m.r_emb)\n",
    "        if hasattr(m, 'r_w_bias'):\n",
    "            ref_init_weight(m.r_w_bias)\n",
    "        if hasattr(m, 'r_r_bias'):\n",
    "            ref_init_weight(m.r_r_bias)\n",
    "        if hasattr(m, 'r_bias'):\n",
    "            ref_init_bias(m.r_bias)"
   ]
  },
  {
   "cell_type": "code",
   "execution_count": 72,
   "metadata": {},
   "outputs": [],
   "source": [
    "#scrap\n",
    "from mem_transformer import MemTransformerLM"
   ]
  },
  {
   "cell_type": "code",
   "execution_count": 73,
   "metadata": {},
   "outputs": [],
   "source": [
    "#scrap\n",
    "ref_transformer_xl = MemTransformerLM(1000, n_layer=4, n_head=3,\n",
    "                                      d_model=32, d_head=16, d_inner=71,\n",
    "                                      dropout=0.1, dropatt=0.0,\n",
    "                                      ext_len=0, tgt_len=BPTT, mem_len=0,\n",
    "                                      d_embed=None,\n",
    "                                     )"
   ]
  },
  {
   "cell_type": "code",
   "execution_count": 74,
   "metadata": {},
   "outputs": [],
   "source": [
    "#scrap\n",
    "ref_transformer_xl.apply(ref_weights_init);"
   ]
  },
  {
   "cell_type": "code",
   "execution_count": 75,
   "metadata": {},
   "outputs": [
    {
     "data": {
      "text/plain": [
       "[tensor([[6.9353, 6.7244, 7.0216, 7.1274, 6.8613, 6.8446, 6.7964, 6.8400, 6.9778,\n",
       "          7.0077, 7.0511, 7.0855, 6.9384, 6.9447, 7.1003, 6.8852],\n",
       "         [6.7513, 6.9497, 6.9046, 6.9075, 7.0219, 6.7108, 6.6179, 6.9633, 6.7379,\n",
       "          7.1386, 6.9294, 6.9583, 6.9007, 6.9911, 6.8230, 7.0799],\n",
       "         [6.8527, 6.8001, 6.8433, 6.9002, 6.7208, 6.8161, 6.8720, 6.7424, 6.9789,\n",
       "          6.7125, 7.1070, 7.2470, 6.7621, 6.9529, 6.9121, 6.6699],\n",
       "         [6.9093, 7.1417, 6.9384, 6.5931, 6.9981, 7.0698, 6.8795, 6.9889, 6.8435,\n",
       "          6.7313, 6.9985, 6.9949, 6.9754, 6.9342, 6.9275, 6.6794],\n",
       "         [6.8482, 7.0016, 6.8612, 6.8453, 6.7217, 6.7929, 6.8630, 7.0411, 6.7353,\n",
       "          6.8853, 6.8997, 7.0121, 7.0002, 6.8065, 6.8801, 6.9877],\n",
       "         [6.7444, 6.9660, 6.9177, 7.0074, 6.9557, 6.9720, 6.8851, 6.9806, 6.9515,\n",
       "          6.9527, 6.9473, 6.7841, 6.8383, 6.7471, 6.8321, 6.7420],\n",
       "         [6.8317, 6.7776, 7.0481, 6.8136, 6.9150, 6.4084, 6.8216, 6.8444, 6.7454,\n",
       "          6.8988, 6.9479, 6.7157, 7.1792, 6.9113, 7.0349, 6.7164],\n",
       "         [7.0618, 6.9694, 6.7682, 6.8886, 6.9027, 6.7948, 6.6863, 6.8170, 6.6824,\n",
       "          6.8915, 7.1446, 6.8980, 7.0670, 6.8849, 6.8771, 6.9164],\n",
       "         [7.0025, 6.9980, 6.9389, 6.7054, 6.8321, 6.9733, 6.8588, 6.7756, 6.9654,\n",
       "          6.6358, 6.7768, 6.7941, 6.9083, 7.0183, 6.9262, 6.8640],\n",
       "         [6.7498, 7.2803, 6.7334, 6.7635, 6.6662, 7.0329, 7.0988, 6.8435, 6.9043,\n",
       "          6.7753, 6.8967, 6.8992, 6.9940, 7.0396, 6.8362, 6.9354]],\n",
       "        grad_fn=<ViewBackward>)]"
      ]
     },
     "execution_count": 75,
     "metadata": {},
     "output_type": "execute_result"
    }
   ],
   "source": [
    "#scrap\n",
    "ref_transformer_xl(b1, b2)"
   ]
  },
  {
   "cell_type": "code",
   "execution_count": 76,
   "metadata": {},
   "outputs": [
    {
     "data": {
      "text/plain": [
       "tensor([[6.8000, 6.6365, 7.0200, 7.0980, 6.6861, 6.8559, 6.8261, 6.8237, 6.9635,\n",
       "         7.0795, 7.0688, 7.0735, 6.9621, 6.9774, 7.0613, 6.8890],\n",
       "        [6.6851, 7.0286, 6.8026, 6.9284, 7.0279, 6.6342, 6.6700, 6.9929, 6.7816,\n",
       "         7.1479, 6.8753, 6.8635, 6.9053, 6.9826, 6.8304, 7.1957],\n",
       "        [6.8265, 6.8260, 6.9705, 7.0031, 6.8390, 6.7675, 6.8790, 6.8100, 6.8963,\n",
       "         6.7315, 7.0904, 7.1698, 6.8904, 7.0204, 6.9331, 6.5868],\n",
       "        [6.9183, 7.0694, 6.9417, 6.6238, 6.9771, 7.1391, 6.8853, 7.0403, 6.8509,\n",
       "         6.7267, 7.0064, 7.0531, 7.0081, 6.9838, 6.9317, 6.6311],\n",
       "        [6.8915, 6.9477, 6.8655, 6.8129, 6.8731, 6.7885, 6.7684, 6.9907, 6.7042,\n",
       "         6.8861, 6.8179, 6.9643, 7.0352, 6.8217, 6.8161, 7.0581],\n",
       "        [6.8980, 6.9834, 7.0165, 6.9784, 6.8526, 6.9986, 6.8698, 7.0037, 6.9837,\n",
       "         7.0364, 6.9384, 6.8588, 6.8577, 6.7702, 6.8438, 6.8123],\n",
       "        [6.9474, 6.8560, 6.9574, 6.8566, 6.9254, 6.4388, 6.7687, 6.8959, 6.7909,\n",
       "         7.0023, 6.9612, 6.7797, 7.0518, 6.7482, 7.0498, 6.7730],\n",
       "        [7.0244, 6.9452, 6.7149, 6.9359, 6.8671, 6.8249, 6.7241, 6.8712, 6.6352,\n",
       "         6.9809, 7.2391, 6.9532, 7.0553, 6.8603, 6.8672, 6.9049],\n",
       "        [6.9520, 7.0617, 6.8577, 6.7798, 6.8352, 6.9187, 6.8557, 6.8760, 6.9344,\n",
       "         6.5798, 6.7829, 6.6915, 6.9817, 7.1421, 6.9493, 6.9642],\n",
       "        [6.7361, 7.1144, 6.7754, 6.8073, 6.7350, 6.9979, 7.1436, 6.9174, 6.9389,\n",
       "         6.8276, 6.8532, 6.9089, 7.0572, 7.0861, 6.7977, 6.8606]],\n",
       "       grad_fn=<ViewBackward>)"
      ]
     },
     "execution_count": 76,
     "metadata": {},
     "output_type": "execute_result"
    }
   ],
   "source": [
    "#scrap\n",
    "ref_transformer_xl(b1, b2)[0]"
   ]
  },
  {
   "cell_type": "code",
   "execution_count": 77,
   "metadata": {},
   "outputs": [
    {
     "data": {
      "text/plain": [
       "tensor(6.8989, grad_fn=<MeanBackward1>)"
      ]
     },
     "execution_count": 77,
     "metadata": {},
     "output_type": "execute_result"
    }
   ],
   "source": [
    "#scrap\n",
    "ref_transformer_xl(b1, b2)[0].mean()"
   ]
  },
  {
   "cell_type": "code",
   "execution_count": null,
   "metadata": {},
   "outputs": [],
   "source": []
  },
  {
   "cell_type": "code",
   "execution_count": null,
   "metadata": {},
   "outputs": [],
   "source": []
  },
  {
   "cell_type": "markdown",
   "metadata": {},
   "source": [
    "# Actual Training"
   ]
  },
  {
   "cell_type": "code",
   "execution_count": 78,
   "metadata": {},
   "outputs": [],
   "source": [
    "# TODO: Use some better library\n",
    "class Config(dict):\n",
    "    def __init__(self, **kwargs):\n",
    "        super().__init__(**kwargs)\n",
    "        for k, v in kwargs.items():\n",
    "            setattr(self, k, v)\n",
    "    \n",
    "    def set(self, key, val):\n",
    "        self[key] = val\n",
    "        setattr(self, key, val)\n",
    "        \n",
    "    def update(self, dct):\n",
    "        for k, v in dct.items():\n",
    "            self.set(k, v)\n",
    "\n",
    "# We will use prime numbers to ensure our implementation\n",
    "# is actually correct\n",
    "config = Config(\n",
    "    use_fp16=False,\n",
    "    seed=101,\n",
    "    debug=False,\n",
    "    is_ref=False,\n",
    "    warmup_step=0,\n",
    "    # Check default params\n",
    "    min_lr=0., \n",
    "    dropouta=0.,\n",
    "    clip=0.25,\n",
    "    log_interval=200,\n",
    "    eval_interval=50,\n",
    ")\n",
    "\n",
    "if TESTING:\n",
    "    config.update(dict(\n",
    "        debug=True,\n",
    "        lr=0.00025,\n",
    "        bs=8,\n",
    "        epochs=2,\n",
    "        max_step=10000, # shorten for testing\n",
    "        n_layers=4,\n",
    "        n_heads=3,\n",
    "        d_model=32,\n",
    "        d_head_inner=17,\n",
    "        d_ff_inner=71,\n",
    "        dropout=0.1,\n",
    "        train_bptt=33,\n",
    "        eval_bptt=41,\n",
    "        mem_len=41,\n",
    "        eval_mem_len=63,\n",
    "    ))\n",
    "else:\n",
    "    config.update(dict(\n",
    "        lr=0.0025,\n",
    "        bs=22,\n",
    "        epochs=2,\n",
    "        max_step=400000,\n",
    "        n_layers=12,\n",
    "        n_heads=8,\n",
    "        d_model=512,\n",
    "        d_head_inner=64,\n",
    "        d_ff_inner=2048,\n",
    "        dropout=0.1,\n",
    "        train_bptt=512,\n",
    "        eval_bptt=128,\n",
    "        mem_len=512,\n",
    "        eval_mem_len=2100,\n",
    "    ))"
   ]
  },
  {
   "cell_type": "code",
   "execution_count": 79,
   "metadata": {},
   "outputs": [
    {
     "data": {
      "text/plain": [
       "<torch._C.Generator at 0x11da2a7f0>"
      ]
     },
     "execution_count": 79,
     "metadata": {},
     "output_type": "execute_result"
    }
   ],
   "source": [
    "torch.manual_seed(config.seed)"
   ]
  },
  {
   "cell_type": "code",
   "execution_count": null,
   "metadata": {},
   "outputs": [],
   "source": []
  },
  {
   "cell_type": "markdown",
   "metadata": {},
   "source": [
    "TODO: Implement ourselves?"
   ]
  },
  {
   "cell_type": "code",
   "execution_count": 80,
   "metadata": {},
   "outputs": [],
   "source": [
    "vocab = Vocab(special=[\"<eos>\"], lower_case=True)\n",
    "\n",
    "vocab.count_file(DATA_DIR / \"train.txt\")\n",
    "vocab.count_file(DATA_DIR / \"valid.txt\")\n",
    "vocab.count_file(DATA_DIR / \"test.txt\")\n",
    "None"
   ]
  },
  {
   "cell_type": "code",
   "execution_count": 81,
   "metadata": {},
   "outputs": [
    {
     "name": "stdout",
     "output_type": "stream",
     "text": [
      "building vocab with min_freq=0, max_size=None\n",
      "final vocab size 10000 from 9999 unique tokens\n"
     ]
    }
   ],
   "source": [
    "vocab.build_vocab()"
   ]
  },
  {
   "cell_type": "code",
   "execution_count": 82,
   "metadata": {},
   "outputs": [],
   "source": [
    "train_dataset = vocab.encode_file(DATA_DIR / \"train.txt\", ordered=True, add_eos=True)\n",
    "valid_dataset = vocab.encode_file(DATA_DIR / \"valid.txt\", ordered=True, add_eos=True)\n",
    "test_dataset = vocab.encode_file(DATA_DIR / \"test.txt\", ordered=True, add_eos=True)"
   ]
  },
  {
   "cell_type": "code",
   "execution_count": 83,
   "metadata": {},
   "outputs": [
    {
     "data": {
      "text/plain": [
       "tensor([6503, 6151, 7924, 8539, 2353, 8540, 6918, 8541, 8542, 7394, 7925, 7926,\n",
       "        6152, 8543, 6504, 6919, 6920, 8544, 5560, 6153, 8545, 8546, 8547, 7927,\n",
       "           0, 9231,    2,    3,   73,  399,   34, 2136,    1,  146,   19,    6,\n",
       "        9232,  282,  450,    3,    0,   23,    2,   13,  142,    4,    2, 5090,\n",
       "           1, 2952])"
      ]
     },
     "execution_count": 83,
     "metadata": {},
     "output_type": "execute_result"
    }
   ],
   "source": [
    "train_dataset[:50]"
   ]
  },
  {
   "cell_type": "code",
   "execution_count": null,
   "metadata": {},
   "outputs": [],
   "source": []
  },
  {
   "cell_type": "markdown",
   "metadata": {},
   "source": [
    "Prepare iterators"
   ]
  },
  {
   "cell_type": "code",
   "execution_count": 84,
   "metadata": {},
   "outputs": [],
   "source": [
    "train_iter = LMDataLoader(train_dataset, config.bs, config.train_bptt, device=device)\n",
    "valid_iter = LMDataLoader(valid_dataset, config.bs, config.eval_bptt, device=device)\n",
    "test_iter = LMDataLoader(test_dataset, config.bs, config.eval_bptt, device=device)"
   ]
  },
  {
   "cell_type": "code",
   "execution_count": 85,
   "metadata": {},
   "outputs": [
    {
     "data": {
      "text/plain": [
       "(tensor([[6503,    6,    1,    0,    5, 5485,  542,    2],\n",
       "         [6151,    2,  327,  909,    6,    7,   16,    9],\n",
       "         [7924,  225, 6798,    2, 2069,  410,  880,  157],\n",
       "         [8539,   72,  329,  380,    1,   15,    3,  299],\n",
       "         [2353,    0, 1538, 1635,  104,  495,    3,  232],\n",
       "         [8540,   29, 9744,   32,   90, 5086,    0,    6],\n",
       "         [6918,   84,   60,    2, 2392,    0,   14,    2],\n",
       "         [8541,   27, 1437,  506,    1,  112,   24,    2],\n",
       "         [8542, 2298,  105,  557,  320,  553,  195, 3524],\n",
       "         [7394,    0, 2262,   16, 1715,  497,  150,    0],\n",
       "         [7925,  495,    2,    1,    4,   68, 2440,   64],\n",
       "         [7926,    2,  885, 2978, 1046,  112,   11,   47],\n",
       "         [6152,   45,    2,    0,    8,  918,    1, 3464],\n",
       "         [8543, 1973, 5616,   39,  723,   25,  490,   14],\n",
       "         [6504,    2,    4,   13,    1, 3553,   75,  568],\n",
       "         [6919,    6,  630,  784,  284,    5, 2369,    1],\n",
       "         [6920, 2664,    0, 6171,  819,   25,    1,  569],\n",
       "         [8544,   10,   29,   20,    0,    1,    2,    4],\n",
       "         [5560,    2,   39, 2841, 8138,    2,    8,    1],\n",
       "         [6153,   21,    2,  310, 2066,   36,    2,  372],\n",
       "         [8545, 4648,    1,    3,  573,    1,    4,  160],\n",
       "         [8546,    2,   53,   18,   33, 5177, 2947,   15],\n",
       "         [8547,    0,  779,  351, 2753,   54, 1118,    2],\n",
       "         [7927,  215, 1099,  682,   18,    0,    9,    2],\n",
       "         [   0, 1193, 7123,    4,   12,   64,    2,    2],\n",
       "         [9231, 1135,    1,  156,    3,   47,    8, 1683],\n",
       "         [   2,    7, 5232,  996,   49, 5177,    4,    4],\n",
       "         [   3, 1573,    4, 3098,  151,    0,   51,  157],\n",
       "         [  73,    2,    2,    2,    3,  787,    2,  299],\n",
       "         [ 399, 4448,    0,    5,  122,  674, 4057,  232],\n",
       "         [  34,    0,   23,   32, 1226,    2,   21,    0],\n",
       "         [2136,    2, 1575,    2,  361,   72,    6,   14],\n",
       "         [   1,  586,  329, 4467,  573,    4, 2561,    9]]),\n",
       " tensor([[6151,    2,  327,  909,    6,    7,   16,    9],\n",
       "         [7924,  225, 6798,    2, 2069,  410,  880,  157],\n",
       "         [8539,   72,  329,  380,    1,   15,    3,  299],\n",
       "         [2353,    0, 1538, 1635,  104,  495,    3,  232],\n",
       "         [8540,   29, 9744,   32,   90, 5086,    0,    6],\n",
       "         [6918,   84,   60,    2, 2392,    0,   14,    2],\n",
       "         [8541,   27, 1437,  506,    1,  112,   24,    2],\n",
       "         [8542, 2298,  105,  557,  320,  553,  195, 3524],\n",
       "         [7394,    0, 2262,   16, 1715,  497,  150,    0],\n",
       "         [7925,  495,    2,    1,    4,   68, 2440,   64],\n",
       "         [7926,    2,  885, 2978, 1046,  112,   11,   47],\n",
       "         [6152,   45,    2,    0,    8,  918,    1, 3464],\n",
       "         [8543, 1973, 5616,   39,  723,   25,  490,   14],\n",
       "         [6504,    2,    4,   13,    1, 3553,   75,  568],\n",
       "         [6919,    6,  630,  784,  284,    5, 2369,    1],\n",
       "         [6920, 2664,    0, 6171,  819,   25,    1,  569],\n",
       "         [8544,   10,   29,   20,    0,    1,    2,    4],\n",
       "         [5560,    2,   39, 2841, 8138,    2,    8,    1],\n",
       "         [6153,   21,    2,  310, 2066,   36,    2,  372],\n",
       "         [8545, 4648,    1,    3,  573,    1,    4,  160],\n",
       "         [8546,    2,   53,   18,   33, 5177, 2947,   15],\n",
       "         [8547,    0,  779,  351, 2753,   54, 1118,    2],\n",
       "         [7927,  215, 1099,  682,   18,    0,    9,    2],\n",
       "         [   0, 1193, 7123,    4,   12,   64,    2,    2],\n",
       "         [9231, 1135,    1,  156,    3,   47,    8, 1683],\n",
       "         [   2,    7, 5232,  996,   49, 5177,    4,    4],\n",
       "         [   3, 1573,    4, 3098,  151,    0,   51,  157],\n",
       "         [  73,    2,    2,    2,    3,  787,    2,  299],\n",
       "         [ 399, 4448,    0,    5,  122,  674, 4057,  232],\n",
       "         [  34,    0,   23,   32, 1226,    2,   21,    0],\n",
       "         [2136,    2, 1575,    2,  361,   72,    6,   14],\n",
       "         [   1,  586,  329, 4467,  573,    4, 2561,    9],\n",
       "         [ 146,  158,   63,   17,   33,    1,    4,    1]]),\n",
       " 33)"
      ]
     },
     "execution_count": 85,
     "metadata": {},
     "output_type": "execute_result"
    }
   ],
   "source": [
    "next(iter(train_iter))"
   ]
  },
  {
   "cell_type": "code",
   "execution_count": null,
   "metadata": {},
   "outputs": [],
   "source": []
  },
  {
   "cell_type": "markdown",
   "metadata": {},
   "source": [
    "### Training Loop"
   ]
  },
  {
   "cell_type": "markdown",
   "metadata": {},
   "source": [
    "TODO: With FP16"
   ]
  },
  {
   "cell_type": "code",
   "execution_count": 86,
   "metadata": {},
   "outputs": [],
   "source": [
    "def logging(x): print(x) # temporary!"
   ]
  },
  {
   "cell_type": "code",
   "execution_count": 87,
   "metadata": {},
   "outputs": [],
   "source": [
    "import torch.optim as optim"
   ]
  },
  {
   "cell_type": "code",
   "execution_count": 88,
   "metadata": {},
   "outputs": [],
   "source": [
    "import math\n",
    "import time\n",
    "import os\n",
    "from tqdm import tqdm\n",
    "\n",
    "# TODO: Rewrite to use ignite or some cleaner framework\n",
    "loss_change = []\n",
    "val_loss_change = []\n",
    "\n",
    "def train_epoch(\n",
    "    epoch: int,\n",
    "    model: nn.Module, train_loader: data.DataLoader, \n",
    "    val_loader: data.DataLoader,\n",
    "    optimizer: optim.Optimizer,\n",
    "    scheduler,\n",
    "    train_step_start=0.,\n",
    " ):\n",
    "    # Turn on training mode which enables dropout.\n",
    "    model.train()\n",
    "    mems = tuple() if config.is_ref else None\n",
    "    train_step = train_step_start\n",
    "    train_loss = 0\n",
    "    log_start_time = time.time()\n",
    "    best_val_loss = float(\"inf\")\n",
    "    \n",
    "    pbar = tqdm(train_loader, total=min(config.max_step - train_step_start, len(train_loader)))\n",
    "    for batch_idx, (data, target, seq_len) in enumerate(pbar):\n",
    "        model.zero_grad()\n",
    "        if config.is_ref:\n",
    "            ret = model(data, target, *mems)\n",
    "            loss, mems = ret[0], ret[1:]\n",
    "            loss = loss.mean()\n",
    "        else:\n",
    "            out_dict = model(data, target, memory=mems)\n",
    "            loss, mems = out_dict[\"loss\"], out_dict[\"memory\"]\n",
    "\n",
    "        if config.use_fp16:\n",
    "            optimizer.backward(loss)\n",
    "        else:\n",
    "            loss.backward()\n",
    "        train_loss += loss.item()\n",
    "        loss_change.append(loss.item())\n",
    "\n",
    "        if config.use_fp16:\n",
    "            optimizer.clip_master_grads(config.clip)\n",
    "        else:\n",
    "            torch.nn.utils.clip_grad_norm_(model.parameters(), config.clip)\n",
    "\n",
    "        optimizer.step()\n",
    "        assert_nonan_params(model) # check for nan\n",
    "        \n",
    "        # step-wise learning rate annealing\n",
    "        train_step += 1\n",
    "        # linear warmup stage\n",
    "        if train_step < config.warmup_step:\n",
    "            curr_lr = config.lr * train_step / config.warmup_step\n",
    "            optimizer.param_groups[0]['lr'] = curr_lr\n",
    "        else:\n",
    "            scheduler.step(train_step)\n",
    "            \n",
    "        if train_step % config.log_interval == 0:\n",
    "            cur_loss = train_loss / config.log_interval\n",
    "            elapsed = time.time() - log_start_time\n",
    "            log_str = '| epoch {:3d} step {:>8d} | lr {:.3g} ' \\\n",
    "                      '| loss {:5.2f}'.format(\n",
    "                epoch, train_step, optimizer.param_groups[0]['lr'], cur_loss)\n",
    "            log_str += ' | ppl {:9.3f}'.format(math.exp(cur_loss))\n",
    "#             logging(log_str)\n",
    "            pbar.set_description(log_str)\n",
    "            train_loss = 0\n",
    "            log_start_time = time.time()\n",
    "\n",
    "        if train_step % config.eval_interval == 0:\n",
    "            val_loss = evaluate(model, val_loader)\n",
    "            val_loss_change.append(val_loss)\n",
    "            # TODO: Log appropriately\n",
    "#             logging('-' * 100)\n",
    "#             log_str = '| Eval {:3d} at step {:>8d} | time: {:5.2f}s ' \\\n",
    "#                       '| valid loss {:5.2f}'.format(\n",
    "#                 train_step // config.eval_interval, train_step,\n",
    "#                 (time.time() - eval_start_time), val_loss)\n",
    "#             log_str += ' | valid ppl {:9.3f}'.format(math.exp(val_loss))\n",
    "#             logging(log_str)\n",
    "#             logging('-' * 100)\n",
    "            # Save the model if the validation loss is the best we've seen so far.\n",
    "            if not best_val_loss or val_loss < best_val_loss:\n",
    "#                 if not config.debug:\n",
    "#                     with open(os.path.join(args.work_dir, 'model.pt'), 'wb') as f:\n",
    "#                         torch.save(model, f)\n",
    "#                     with open(os.path.join(args.work_dir, 'optimizer.pt'), 'wb') as f:\n",
    "#                         torch.save(optimizer.state_dict(), f)\n",
    "                best_val_loss = val_loss\n",
    "\n",
    "            eval_start_time = time.time()\n",
    "\n",
    "        if train_step == config.max_step:\n",
    "            return train_step\n",
    "    return train_step"
   ]
  },
  {
   "cell_type": "code",
   "execution_count": 89,
   "metadata": {},
   "outputs": [],
   "source": [
    "def evaluate(model: nn.Module, val_loader: data.DataLoader):\n",
    "    # Turn on evaluation mode which disables dropout.\n",
    "    model.eval()\n",
    "\n",
    "    # If the model does not use memory at all, make the ext_len longer.\n",
    "    # Otherwise, make the mem_len longer and keep the ext_len the same.\n",
    "    model.reset_length(config.eval_bptt,\n",
    "        0, config.eval_mem_len+config.train_bptt-config.eval_bptt)\n",
    "\n",
    "    # Evaluation\n",
    "    total_len, total_loss = 0, 0.\n",
    "    with torch.no_grad():\n",
    "        mems = tuple() if config.is_ref else None\n",
    "        for i, (data, target, seq_len) in enumerate(val_loader):\n",
    "            if config.is_ref:\n",
    "                ret = model(data, target, *mems)\n",
    "                loss, mems = ret[0], ret[1:]\n",
    "                loss = loss.mean()\n",
    "            else:\n",
    "                out_dict = model(data, target, memory=mems)\n",
    "                loss, mems = out_dict[\"loss\"], out_dict[\"memory\"]\n",
    "            total_loss += seq_len * loss.float().item()\n",
    "            total_len += seq_len\n",
    "\n",
    "    # Switch back to the training mode\n",
    "    model.reset_length(config.train_bptt, 0, config.mem_len)\n",
    "    model.train()\n",
    "\n",
    "    return total_loss / total_len"
   ]
  },
  {
   "cell_type": "code",
   "execution_count": 90,
   "metadata": {},
   "outputs": [],
   "source": [
    "def train(model, train_loader, valid_loader):\n",
    "    optimizer = optim.Adam(model.parameters(), lr=config.lr)\n",
    "    total_steps = min(config.max_step, len(train_loader) * config.epochs)\n",
    "    scheduler = optim.lr_scheduler.CosineAnnealingLR(optimizer,\n",
    "                    total_steps, eta_min=config.min_lr)\n",
    "    train_step_start = 0\n",
    "    for epoch in range(config.epochs):\n",
    "        if train_step_start >= config.max_step:\n",
    "            break\n",
    "        train_step_start = train_epoch(\n",
    "            epoch,\n",
    "            model,\n",
    "            train_iter,\n",
    "            valid_iter,\n",
    "            optimizer,\n",
    "            scheduler,\n",
    "            train_step_start,\n",
    "        )"
   ]
  },
  {
   "cell_type": "code",
   "execution_count": 91,
   "metadata": {},
   "outputs": [],
   "source": [
    "def evaluate_final(model, val_loader):\n",
    "    # Turn on evaluation mode which disables dropout.\n",
    "    model.eval()\n",
    "    total_len, total_loss = 0, 0.\n",
    "    start_time = time.time()\n",
    "    \n",
    "    model.reset_length(config.eval_bptt, 0, config.eval_mem_len + config.train_bptt - config.eval_bptt)\n",
    "    \n",
    "    with torch.no_grad():\n",
    "        mems = tuple() if config.is_ref else None\n",
    "        for i, (data, target, seq_len) in enumerate(val_loader):\n",
    "            if config.is_ref:\n",
    "                ret = model(data, target, *mems)\n",
    "                loss, mems = ret[0], ret[1:]\n",
    "                loss = loss.mean()\n",
    "            else:\n",
    "                out_dict = model(data, target, memory=mems)\n",
    "                loss, mems = out_dict[\"loss\"], out_dict[\"memory\"]\n",
    "            total_loss += seq_len * loss.item()\n",
    "            total_len += seq_len\n",
    "        total_time = time.time() - start_time\n",
    "    \n",
    "    model.reset_length(config.train_bptt, 0, config.mem_len)\n",
    "    loss_val = total_loss / total_len\n",
    "    return {\"loss\": loss_val, \"ppl\": math.exp(loss_val)}"
   ]
  },
  {
   "cell_type": "code",
   "execution_count": 92,
   "metadata": {},
   "outputs": [],
   "source": [
    "transformer_xl = TransformerXL(\n",
    "    num_embeddings=len(vocab), n_layers=config.n_layers,\n",
    "    n_heads=config.n_heads, d_model=config.d_model,\n",
    "    d_head_inner=config.d_head_inner, \n",
    "    d_ff_inner=config.d_ff_inner,\n",
    "    dropout=config.dropout,\n",
    "    dropouta=config.dropouta,\n",
    "    seq_len=config.train_bptt,\n",
    "    mem_len=config.mem_len,\n",
    ")\n",
    "if torch.cuda.is_available(): transformer_xl.cuda()\n",
    "transformer_xl.apply(weights_init);"
   ]
  },
  {
   "cell_type": "code",
   "execution_count": 93,
   "metadata": {},
   "outputs": [],
   "source": [
    "assert_nonan_params(transformer_xl)"
   ]
  },
  {
   "cell_type": "code",
   "execution_count": 94,
   "metadata": {},
   "outputs": [],
   "source": [
    "def prod(x):\n",
    "    acc = 1\n",
    "    for v in x: acc *= v\n",
    "    return acc\n",
    "\n",
    "def num_params(model: nn.Module):\n",
    "    acc = 0\n",
    "    for p in model.parameters():\n",
    "        acc += prod(p.shape)\n",
    "    return acc\n",
    "\n",
    "def num_params_per_param(model):\n",
    "    d = {}\n",
    "    for name, p in model.named_parameters():\n",
    "        d[name] = prod(p.shape)\n",
    "    return d"
   ]
  },
  {
   "cell_type": "code",
   "execution_count": 95,
   "metadata": {},
   "outputs": [
    {
     "data": {
      "text/plain": [
       "381842"
      ]
     },
     "execution_count": 95,
     "metadata": {},
     "output_type": "execute_result"
    }
   ],
   "source": [
    "num_params(transformer_xl)"
   ]
  },
  {
   "cell_type": "code",
   "execution_count": 96,
   "metadata": {},
   "outputs": [
    {
     "name": "stderr",
     "output_type": "stream",
     "text": [
      "| epoch   0 step     3400 | lr 0.000132 | loss  6.15 | ppl   469.951: 100%|██████████| 3522/3522 [17:58<00:00,  3.27it/s]  \n",
      "| epoch   1 step     7000 | lr 2.41e-08 | loss  6.07 | ppl   432.002: 100%|██████████| 3522/3522 [17:23<00:00,  3.37it/s]  \n"
     ]
    }
   ],
   "source": [
    "train(\n",
    "    transformer_xl,\n",
    "    train_iter,\n",
    "    valid_iter,\n",
    ")"
   ]
  },
  {
   "cell_type": "code",
   "execution_count": 97,
   "metadata": {},
   "outputs": [
    {
     "data": {
      "text/plain": [
       "{'loss': 5.9934049364361615, 'ppl': 400.7769092407092}"
      ]
     },
     "execution_count": 97,
     "metadata": {},
     "output_type": "execute_result"
    }
   ],
   "source": [
    "evaluate_final(transformer_xl, valid_iter)"
   ]
  },
  {
   "cell_type": "code",
   "execution_count": 98,
   "metadata": {},
   "outputs": [],
   "source": [
    "import matplotlib.pyplot as plt\n",
    "%matplotlib inline"
   ]
  },
  {
   "cell_type": "code",
   "execution_count": 99,
   "metadata": {},
   "outputs": [],
   "source": [
    "loss_change_self = [x for x in loss_change]"
   ]
  },
  {
   "cell_type": "code",
   "execution_count": 100,
   "metadata": {},
   "outputs": [
    {
     "data": {
      "text/plain": [
       "[<matplotlib.lines.Line2D at 0x125553cc0>]"
      ]
     },
     "execution_count": 100,
     "metadata": {},
     "output_type": "execute_result"
    },
    {
     "data": {
      "image/png": "[encoded data removed]",
      "text/plain": [
       "<Figure size 432x288 with 1 Axes>"
      ]
     },
     "metadata": {
      "needs_background": "light"
     },
     "output_type": "display_data"
    }
   ],
   "source": [
    "plt.plot(loss_change_self)"
   ]
  },
  {
   "cell_type": "code",
   "execution_count": 101,
   "metadata": {},
   "outputs": [],
   "source": [
    "val_loss_change_self = [x for x in val_loss_change]"
   ]
  },
  {
   "cell_type": "code",
   "execution_count": 102,
   "metadata": {},
   "outputs": [
    {
     "data": {
      "text/plain": [
       "[<matplotlib.lines.Line2D at 0x1255649b0>]"
      ]
     },
     "execution_count": 102,
     "metadata": {},
     "output_type": "execute_result"
    },
    {
     "data": {
      "image/png": "[encoded data removed]",
      "text/plain": [
       "<Figure size 432x288 with 1 Axes>"
      ]
     },
     "metadata": {
      "needs_background": "light"
     },
     "output_type": "display_data"
    }
   ],
   "source": [
    "plt.plot(val_loss_change_self)"
   ]
  },
  {
   "cell_type": "code",
   "execution_count": null,
   "metadata": {},
   "outputs": [],
   "source": []
  },
  {
   "cell_type": "markdown",
   "metadata": {},
   "source": [
    "Compare with reference"
   ]
  },
  {
   "cell_type": "code",
   "execution_count": 103,
   "metadata": {},
   "outputs": [],
   "source": [
    "#scrap\n",
    "loss_change = []\n",
    "val_loss_change = []"
   ]
  },
  {
   "cell_type": "code",
   "execution_count": 104,
   "metadata": {},
   "outputs": [],
   "source": [
    "#scrap\n",
    "config.set(\"is_ref\", True)"
   ]
  },
  {
   "cell_type": "code",
   "execution_count": 105,
   "metadata": {},
   "outputs": [],
   "source": [
    "#scrap\n",
    "transformer_xl_ref = MemTransformerLM(\n",
    "    len(vocab), n_layer=config.n_layers,\n",
    "    n_head=config.n_heads, d_model=config.d_model,\n",
    "    d_head=config.d_head_inner, d_inner=config.d_ff_inner, \n",
    "    dropout=config.dropout, dropatt=config.dropouta,\n",
    "    ext_len=0, tgt_len=config.train_bptt, mem_len=config.mem_len,\n",
    "    pre_lnorm=False,\n",
    ")\n",
    "if torch.cuda.is_available(): transformer_xl_ref.cuda()\n",
    "transformer_xl_ref.apply(ref_weights_init)\n",
    "optimizer = optim.Adam(transformer_xl_ref.parameters(), lr=config.lr)\n",
    "scheduler = scheduler = optim.lr_scheduler.CosineAnnealingLR(optimizer,\n",
    "                        config.max_step, eta_min=config.min_lr)"
   ]
  },
  {
   "cell_type": "code",
   "execution_count": 106,
   "metadata": {},
   "outputs": [
    {
     "data": {
      "text/plain": [
       "381842"
      ]
     },
     "execution_count": 106,
     "metadata": {},
     "output_type": "execute_result"
    }
   ],
   "source": [
    "#scrap\n",
    "num_params(transformer_xl_ref)"
   ]
  },
  {
   "cell_type": "code",
   "execution_count": 107,
   "metadata": {},
   "outputs": [
    {
     "name": "stderr",
     "output_type": "stream",
     "text": [
      "| epoch   0 step     3400 | lr 0.000132 | loss  6.18 | ppl   482.748: 100%|██████████| 3522/3522 [21:27<00:00,  2.74it/s]  \n",
      "| epoch   1 step     7000 | lr 2.41e-08 | loss  6.08 | ppl   438.641: 100%|██████████| 3522/3522 [20:35<00:00,  2.85it/s]  \n"
     ]
    }
   ],
   "source": [
    "#scrap\n",
    "train(\n",
    "    transformer_xl_ref,\n",
    "    train_iter,\n",
    "    valid_iter,\n",
    ")"
   ]
  },
  {
   "cell_type": "code",
   "execution_count": 108,
   "metadata": {},
   "outputs": [
    {
     "data": {
      "text/plain": [
       "{'loss': 6.006121990051998, 'ppl': 405.9061560101621}"
      ]
     },
     "execution_count": 108,
     "metadata": {},
     "output_type": "execute_result"
    }
   ],
   "source": [
    "#scrap\n",
    "evaluate_final(transformer_xl_ref, valid_iter)"
   ]
  },
  {
   "cell_type": "code",
   "execution_count": 109,
   "metadata": {},
   "outputs": [],
   "source": [
    "#scrap\n",
    "loss_change_ref = [x for x in loss_change]"
   ]
  },
  {
   "cell_type": "code",
   "execution_count": 118,
   "metadata": {},
   "outputs": [
    {
     "data": {
      "text/plain": [
       "[<matplotlib.lines.Line2D at 0x1255cad68>]"
      ]
     },
     "execution_count": 118,
     "metadata": {},
     "output_type": "execute_result"
    },
    {
     "data": {
      "image/png": "[encoded data removed]",
      "text/plain": [
       "<Figure size 432x288 with 1 Axes>"
      ]
     },
     "metadata": {
      "needs_background": "light"
     },
     "output_type": "display_data"
    }
   ],
   "source": [
    "#scrap\n",
    "plt.plot(loss_change_self)\n",
    "plt.plot(loss_change_ref)"
   ]
  },
  {
   "cell_type": "code",
   "execution_count": 115,
   "metadata": {},
   "outputs": [],
   "source": [
    "#scrap\n",
    "val_loss_change_ref = [x for x in val_loss_change]"
   ]
  },
  {
   "cell_type": "code",
   "execution_count": 117,
   "metadata": {},
   "outputs": [
    {
     "data": {
      "text/plain": [
       "[<matplotlib.lines.Line2D at 0x1255ba780>]"
      ]
     },
     "execution_count": 117,
     "metadata": {},
     "output_type": "execute_result"
    },
    {
     "data": {
      "image/png": "[encoded data removed]",
      "text/plain": [
       "<Figure size 432x288 with 1 Axes>"
      ]
     },
     "metadata": {
      "needs_background": "light"
     },
     "output_type": "display_data"
    }
   ],
   "source": [
    "#scrap\n",
    "plt.plot(val_loss_change_ref)\n",
    "plt.plot(val_loss_change_self)"
   ]
  },
  {
   "cell_type": "code",
   "execution_count": null,
   "metadata": {},
   "outputs": [],
   "source": []
  },
  {
   "cell_type": "code",
   "execution_count": 113,
   "metadata": {},
   "outputs": [
    {
     "data": {
      "text/plain": [
       "MemTransformerLM(\n",
       "  (word_emb): AdaptiveEmbedding(\n",
       "    (emb_layers): ModuleList(\n",
       "      (0): Embedding(10000, 32)\n",
       "    )\n",
       "    (emb_projs): ParameterList()\n",
       "  )\n",
       "  (drop): Dropout(p=0.1)\n",
       "  (layers): ModuleList(\n",
       "    (0): RelPartialLearnableDecoderLayer(\n",
       "      (dec_attn): RelPartialLearnableMultiHeadAttn(\n",
       "        (qkv_net): Linear(in_features=32, out_features=153, bias=False)\n",
       "        (drop): Dropout(p=0.1)\n",
       "        (dropatt): Dropout(p=0.0)\n",
       "        (o_net): Linear(in_features=51, out_features=32, bias=False)\n",
       "        (layer_norm): LayerNorm(torch.Size([32]), eps=1e-05, elementwise_affine=True)\n",
       "        (r_net): Linear(in_features=32, out_features=51, bias=False)\n",
       "      )\n",
       "      (pos_ff): PositionwiseFF(\n",
       "        (CoreNet): Sequential(\n",
       "          (0): Linear(in_features=32, out_features=71, bias=True)\n",
       "          (1): ReLU(inplace)\n",
       "          (2): Dropout(p=0.1)\n",
       "          (3): Linear(in_features=71, out_features=32, bias=True)\n",
       "          (4): Dropout(p=0.1)\n",
       "        )\n",
       "        (layer_norm): LayerNorm(torch.Size([32]), eps=1e-05, elementwise_affine=True)\n",
       "      )\n",
       "    )\n",
       "    (1): RelPartialLearnableDecoderLayer(\n",
       "      (dec_attn): RelPartialLearnableMultiHeadAttn(\n",
       "        (qkv_net): Linear(in_features=32, out_features=153, bias=False)\n",
       "        (drop): Dropout(p=0.1)\n",
       "        (dropatt): Dropout(p=0.0)\n",
       "        (o_net): Linear(in_features=51, out_features=32, bias=False)\n",
       "        (layer_norm): LayerNorm(torch.Size([32]), eps=1e-05, elementwise_affine=True)\n",
       "        (r_net): Linear(in_features=32, out_features=51, bias=False)\n",
       "      )\n",
       "      (pos_ff): PositionwiseFF(\n",
       "        (CoreNet): Sequential(\n",
       "          (0): Linear(in_features=32, out_features=71, bias=True)\n",
       "          (1): ReLU(inplace)\n",
       "          (2): Dropout(p=0.1)\n",
       "          (3): Linear(in_features=71, out_features=32, bias=True)\n",
       "          (4): Dropout(p=0.1)\n",
       "        )\n",
       "        (layer_norm): LayerNorm(torch.Size([32]), eps=1e-05, elementwise_affine=True)\n",
       "      )\n",
       "    )\n",
       "    (2): RelPartialLearnableDecoderLayer(\n",
       "      (dec_attn): RelPartialLearnableMultiHeadAttn(\n",
       "        (qkv_net): Linear(in_features=32, out_features=153, bias=False)\n",
       "        (drop): Dropout(p=0.1)\n",
       "        (dropatt): Dropout(p=0.0)\n",
       "        (o_net): Linear(in_features=51, out_features=32, bias=False)\n",
       "        (layer_norm): LayerNorm(torch.Size([32]), eps=1e-05, elementwise_affine=True)\n",
       "        (r_net): Linear(in_features=32, out_features=51, bias=False)\n",
       "      )\n",
       "      (pos_ff): PositionwiseFF(\n",
       "        (CoreNet): Sequential(\n",
       "          (0): Linear(in_features=32, out_features=71, bias=True)\n",
       "          (1): ReLU(inplace)\n",
       "          (2): Dropout(p=0.1)\n",
       "          (3): Linear(in_features=71, out_features=32, bias=True)\n",
       "          (4): Dropout(p=0.1)\n",
       "        )\n",
       "        (layer_norm): LayerNorm(torch.Size([32]), eps=1e-05, elementwise_affine=True)\n",
       "      )\n",
       "    )\n",
       "    (3): RelPartialLearnableDecoderLayer(\n",
       "      (dec_attn): RelPartialLearnableMultiHeadAttn(\n",
       "        (qkv_net): Linear(in_features=32, out_features=153, bias=False)\n",
       "        (drop): Dropout(p=0.1)\n",
       "        (dropatt): Dropout(p=0.0)\n",
       "        (o_net): Linear(in_features=51, out_features=32, bias=False)\n",
       "        (layer_norm): LayerNorm(torch.Size([32]), eps=1e-05, elementwise_affine=True)\n",
       "        (r_net): Linear(in_features=32, out_features=51, bias=False)\n",
       "      )\n",
       "      (pos_ff): PositionwiseFF(\n",
       "        (CoreNet): Sequential(\n",
       "          (0): Linear(in_features=32, out_features=71, bias=True)\n",
       "          (1): ReLU(inplace)\n",
       "          (2): Dropout(p=0.1)\n",
       "          (3): Linear(in_features=71, out_features=32, bias=True)\n",
       "          (4): Dropout(p=0.1)\n",
       "        )\n",
       "        (layer_norm): LayerNorm(torch.Size([32]), eps=1e-05, elementwise_affine=True)\n",
       "      )\n",
       "    )\n",
       "  )\n",
       "  (crit): ProjectedAdaptiveSoftmax[placeholder string]\n",
       "  (pos_emb): PositionalEmbedding()\n",
       ")"
      ]
     },
     "execution_count": 113,
     "metadata": {},
     "output_type": "execute_result"
    }
   ],
   "source": [
    "#scrap\n",
    "transformer_xl_ref"
   ]
  },
  {
   "cell_type": "code",
   "execution_count": 114,
   "metadata": {},
   "outputs": [
    {
     "data": {
      "text/plain": [
       "TransformerXL(\n",
       "  (word_embs): StandardWordEmbedding(\n",
       "    (embedding): Embedding(10000, 32)\n",
       "  )\n",
       "  (pos_embs): PositionalEmbedding()\n",
       "  (drop): Dropout(p=0.1)\n",
       "  (layers): ModuleList(\n",
       "    (0): DecoderBlock(\n",
       "      (mha): MultiHeadAttention(\n",
       "        (linear_kv): Linear(in_features=32, out_features=102, bias=False)\n",
       "        (linear_q): Linear(in_features=32, out_features=51, bias=False)\n",
       "        (linear_p): Linear(in_features=32, out_features=51, bias=False)\n",
       "        (dropa): Dropout(p=0.0)\n",
       "        (lout): Linear(in_features=51, out_features=32, bias=False)\n",
       "        (norm): LayerNorm(torch.Size([32]), eps=1e-05, elementwise_affine=True)\n",
       "        (dropo): Dropout(p=0.1)\n",
       "      )\n",
       "      (ff): PositionwiseFF(\n",
       "        (ff): Sequential(\n",
       "          (0): Linear(in_features=32, out_features=71, bias=True)\n",
       "          (1): ReLU(inplace)\n",
       "          (2): Dropout(p=0.1)\n",
       "          (3): Linear(in_features=71, out_features=32, bias=True)\n",
       "          (4): Dropout(p=0.1)\n",
       "        )\n",
       "        (layer_norm): LayerNorm(torch.Size([32]), eps=1e-05, elementwise_affine=True)\n",
       "      )\n",
       "    )\n",
       "    (1): DecoderBlock(\n",
       "      (mha): MultiHeadAttention(\n",
       "        (linear_kv): Linear(in_features=32, out_features=102, bias=False)\n",
       "        (linear_q): Linear(in_features=32, out_features=51, bias=False)\n",
       "        (linear_p): Linear(in_features=32, out_features=51, bias=False)\n",
       "        (dropa): Dropout(p=0.0)\n",
       "        (lout): Linear(in_features=51, out_features=32, bias=False)\n",
       "        (norm): LayerNorm(torch.Size([32]), eps=1e-05, elementwise_affine=True)\n",
       "        (dropo): Dropout(p=0.1)\n",
       "      )\n",
       "      (ff): PositionwiseFF(\n",
       "        (ff): Sequential(\n",
       "          (0): Linear(in_features=32, out_features=71, bias=True)\n",
       "          (1): ReLU(inplace)\n",
       "          (2): Dropout(p=0.1)\n",
       "          (3): Linear(in_features=71, out_features=32, bias=True)\n",
       "          (4): Dropout(p=0.1)\n",
       "        )\n",
       "        (layer_norm): LayerNorm(torch.Size([32]), eps=1e-05, elementwise_affine=True)\n",
       "      )\n",
       "    )\n",
       "    (2): DecoderBlock(\n",
       "      (mha): MultiHeadAttention(\n",
       "        (linear_kv): Linear(in_features=32, out_features=102, bias=False)\n",
       "        (linear_q): Linear(in_features=32, out_features=51, bias=False)\n",
       "        (linear_p): Linear(in_features=32, out_features=51, bias=False)\n",
       "        (dropa): Dropout(p=0.0)\n",
       "        (lout): Linear(in_features=51, out_features=32, bias=False)\n",
       "        (norm): LayerNorm(torch.Size([32]), eps=1e-05, elementwise_affine=True)\n",
       "        (dropo): Dropout(p=0.1)\n",
       "      )\n",
       "      (ff): PositionwiseFF(\n",
       "        (ff): Sequential(\n",
       "          (0): Linear(in_features=32, out_features=71, bias=True)\n",
       "          (1): ReLU(inplace)\n",
       "          (2): Dropout(p=0.1)\n",
       "          (3): Linear(in_features=71, out_features=32, bias=True)\n",
       "          (4): Dropout(p=0.1)\n",
       "        )\n",
       "        (layer_norm): LayerNorm(torch.Size([32]), eps=1e-05, elementwise_affine=True)\n",
       "      )\n",
       "    )\n",
       "    (3): DecoderBlock(\n",
       "      (mha): MultiHeadAttention(\n",
       "        (linear_kv): Linear(in_features=32, out_features=102, bias=False)\n",
       "        (linear_q): Linear(in_features=32, out_features=51, bias=False)\n",
       "        (linear_p): Linear(in_features=32, out_features=51, bias=False)\n",
       "        (dropa): Dropout(p=0.0)\n",
       "        (lout): Linear(in_features=51, out_features=32, bias=False)\n",
       "        (norm): LayerNorm(torch.Size([32]), eps=1e-05, elementwise_affine=True)\n",
       "        (dropo): Dropout(p=0.1)\n",
       "      )\n",
       "      (ff): PositionwiseFF(\n",
       "        (ff): Sequential(\n",
       "          (0): Linear(in_features=32, out_features=71, bias=True)\n",
       "          (1): ReLU(inplace)\n",
       "          (2): Dropout(p=0.1)\n",
       "          (3): Linear(in_features=71, out_features=32, bias=True)\n",
       "          (4): Dropout(p=0.1)\n",
       "        )\n",
       "        (layer_norm): LayerNorm(torch.Size([32]), eps=1e-05, elementwise_affine=True)\n",
       "      )\n",
       "    )\n",
       "  )\n",
       "  (output_projection): Linear(in_features=32, out_features=10000, bias=True)\n",
       "  (loss_fn): CrossEntropyLoss()\n",
       ")"
      ]
     },
     "execution_count": 114,
     "metadata": {},
     "output_type": "execute_result"
    }
   ],
   "source": [
    "#scrap\n",
    "transformer_xl"
   ]
  },
  {
   "cell_type": "code",
   "execution_count": null,
   "metadata": {},
   "outputs": [],
   "source": []
  },
  {
   "cell_type": "code",
   "execution_count": null,
   "metadata": {},
   "outputs": [],
   "source": []
  }
 ],
 "metadata": {
  "kernelspec": {
   "display_name": "Python 3",
   "language": "python",
   "name": "python3"
  },
  "language_info": {
   "codemirror_mode": {
    "name": "ipython",
    "version": 3
   },
   "file_extension": ".py",
   "mimetype": "text/x-python",
   "name": "python",
   "nbconvert_exporter": "python",
   "pygments_lexer": "ipython3",
   "version": "3.8.5"
  }
 },
 "nbformat": 4,
 "nbformat_minor": 4
}
