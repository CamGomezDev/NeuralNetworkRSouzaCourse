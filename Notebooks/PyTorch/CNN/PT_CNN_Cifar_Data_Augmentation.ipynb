{
 "cells": [
  {
   "cell_type": "code",
   "execution_count": null,
   "metadata": {},
   "outputs": [],
   "source": [
    "import numpy as np\n",
    "import torch\n",
    "import torch.nn as nn\n",
    "import torchvision\n",
    "from torchvision.datasets import CIFAR10\n",
    "from torchvision import transforms\n",
    "from torchvision.transforms import Compose\n",
    "import sys\n",
    "import os\n",
    "import matplotlib.pyplot as plt\n",
    "import seaborn as sns\n",
    "from collections import Counter\n",
    "import random\n",
    "import sys\n",
    "import time\n",
    "sys.path.append(\"../models\")\n",
    "from models.resnet import ResNet"
   ]
  },
  {
   "cell_type": "code",
   "execution_count": null,
   "metadata": {},
   "outputs": [],
   "source": [
    "print(torch.__version__)\n",
    "print(torch.cuda.is_available())"
   ]
  },
  {
   "cell_type": "code",
   "execution_count": null,
   "metadata": {},
   "outputs": [],
   "source": [
    "device = \"cpu\"\n",
    "\n",
    "if torch.cuda.is_available():\n",
    "    device = \"cuda\"\n",
    "\n",
    "print(device)"
   ]
  },
  {
   "cell_type": "code",
   "execution_count": null,
   "metadata": {},
   "outputs": [],
   "source": [
    "train_transform = Compose([transforms.RandomHorizontalFlip(p=0.5),\n",
    "                           transforms.RandomCrop(32, padding=4),\n",
    "                           transforms.ToTensor(),\n",
    "                           transforms.Normalize([0, 0, 0], [1, 1, 1])\n",
    "                          ])\n",
    "\n",
    "test_transform = Compose([transforms.ToTensor(),\n",
    "                          transforms.Normalize([0, 0, 0], [1, 1, 1])\n",
    "                         ])\n",
    "\n",
    "cifar10_train = CIFAR10(root = \"/data\", train=True, download = True, transform=train_transform)\n",
    "train_loader = torch.utils.data.DataLoader(cifar10_train, batch_size=128, shuffle=True)\n",
    "\n",
    "cifar10_test = CIFAR10(root = \"/data\", train=False, download = True, transform=test_transform)\n",
    "test_loader = torch.utils.data.DataLoader(cifar10_test, batch_size=128, shuffle=True)\n",
    "\n",
    "cifar10 = CIFAR10(root = \"/data\", train=True, download = True)\n",
    "\n",
    "y = cifar10.targets\n",
    "X = cifar10.data\n",
    "\n",
    "X_mean = torch.Tensor(np.mean(X,0))\n",
    "\n",
    "print(X.shape)"
   ]
  },
  {
   "cell_type": "code",
   "execution_count": null,
   "metadata": {},
   "outputs": [],
   "source": [
    "Counter(y)\n",
    "#uniform distribution"
   ]
  },
  {
   "cell_type": "code",
   "execution_count": null,
   "metadata": {},
   "outputs": [],
   "source": [
    "cifar10.class_to_idx"
   ]
  },
  {
   "cell_type": "code",
   "execution_count": null,
   "metadata": {},
   "outputs": [],
   "source": [
    "def show_example(X, y, label, grid = (3,3)):\n",
    "    y_label = [i for i, tag in enumerate(y) if label == tag]\n",
    "    random.shuffle(y_label)\n",
    "    \n",
    "    rows = grid[0]\n",
    "    columns = grid[1]\n",
    "    \n",
    "    fig, axes = plt.subplots(rows, columns)\n",
    "    fig.set_figheight(7)\n",
    "    fig.set_figwidth(7)\n",
    " \n",
    "    for row in axes:\n",
    "        for col in row:\n",
    "            col.imshow(X[y_label.pop()])\n",
    "    plt.show()"
   ]
  },
  {
   "cell_type": "code",
   "execution_count": null,
   "metadata": {},
   "outputs": [],
   "source": [
    "#airplane\n",
    "show_example(X, y, 0)"
   ]
  },
  {
   "cell_type": "code",
   "execution_count": null,
   "metadata": {},
   "outputs": [],
   "source": [
    "#automobile\n",
    "show_example(X, y, 1)"
   ]
  },
  {
   "cell_type": "code",
   "execution_count": null,
   "metadata": {},
   "outputs": [],
   "source": [
    "#frog\n",
    "show_example(X, y, 6)"
   ]
  },
  {
   "cell_type": "code",
   "execution_count": null,
   "metadata": {},
   "outputs": [],
   "source": [
    "#deer\n",
    "show_example(X, y, 4)"
   ]
  },
  {
   "cell_type": "code",
   "execution_count": null,
   "metadata": {},
   "outputs": [],
   "source": []
  },
  {
   "cell_type": "code",
   "execution_count": null,
   "metadata": {},
   "outputs": [],
   "source": [
    "model = ResNet(32, 10)"
   ]
  },
  {
   "cell_type": "code",
   "execution_count": null,
   "metadata": {},
   "outputs": [],
   "source": [
    "test_input = torch.FloatTensor(X[0:1]).permute(0,3,2,1)\n",
    "output = model(test_input)"
   ]
  },
  {
   "cell_type": "markdown",
   "metadata": {},
   "source": []
  },
  {
   "cell_type": "code",
   "execution_count": null,
   "metadata": {},
   "outputs": [],
   "source": [
    "model = model.to(device)\n",
    "\n",
    "loss_fn = nn.CrossEntropyLoss()\n",
    "LR = 0.001\n",
    "optim = torch.optim.Adam(model.parameters(), lr = LR, weight_decay=0.0001)"
   ]
  },
  {
   "cell_type": "code",
   "execution_count": null,
   "metadata": {},
   "outputs": [],
   "source": [
    "EPOCHS = 20\n",
    "epoch_loss = []\n",
    "val_loss = []\n",
    "acc = []\n",
    "train_time = 0"
   ]
  },
  {
   "cell_type": "code",
   "execution_count": null,
   "metadata": {},
   "outputs": [],
   "source": [
    "\n",
    "for i in range(EPOCHS):\n",
    "    start_time = time.time()\n",
    "    ep = 0\n",
    "    model.train()\n",
    "    for X_b, y_b in train_loader:\n",
    "        optim.zero_grad()\n",
    "        X_b = X_b.to(device)\n",
    "        y_b = y_b.to(device)\n",
    "\n",
    "        output = model(X_b)\n",
    "\n",
    "        loss = loss_fn(output, y_b)\n",
    "\n",
    "        loss.backward()\n",
    "        ep += loss.item()\n",
    "        optim.step()\n",
    "    print(\"Epoch {0}: {1}\".format(i+1, round(ep,2)))\n",
    "    epoch_loss.append(ep)\n",
    "    train_time += time.time() - start_time\n",
    "    print(train_time)\n",
    "    \n",
    "    correct = 0\n",
    "    total = 0\n",
    "    val = 0\n",
    "    model.eval()\n",
    "    for X_b, y_b in test_loader:\n",
    "        X_b = X_b.to(device)\n",
    "        y_b = y_b.to(device)\n",
    "        output = model(X_b)\n",
    "        loss = loss_fn(output, y_b)\n",
    "        val += loss.item()\n",
    "        probs = torch.functional.F.softmax(output, 1)\n",
    "        label = torch.argmax(probs, dim=1)\n",
    "        correct += torch.sum(label == y_b).item()\n",
    "        total += y_b.shape[0]\n",
    "    val_loss.append(val)\n",
    "    acc.append(round(correct/total,2))\n",
    "    \n",
    "    print(\"Accuracy: \", round(correct/10000,2), \"Loss: \", round(val,1))\n",
    "\n",
    "print(\"--- %s minutes ---\", train_time)"
   ]
  },
  {
   "cell_type": "code",
   "execution_count": null,
   "metadata": {},
   "outputs": [],
   "source": [
    "fig, ax = plt.subplots(figsize=(15, 8))\n",
    "plt.plot(range(EPOCHS), epoch_loss , color='r')\n",
    "plt.plot(range(EPOCHS), val_loss, color='b')\n",
    "plt.legend([\"Train Loss\", \"Validation Loss\"])\n",
    "plt.xlabel(\"Epochs\")\n",
    "plt.ylabel(\"Loss\")\n",
    "plt.title(\"No Augmentation\")\n",
    "ax.grid(True)"
   ]
  },
  {
   "cell_type": "code",
   "execution_count": null,
   "metadata": {},
   "outputs": [],
   "source": [
    "fig, ax = plt.subplots(figsize=(15, 8))\n",
    "plt.plot(range(EPOCHS), acc , color='g')\n",
    "plt.legend([\"Validation Accuracy\"])\n",
    "plt.xlabel(\"Epochs\")\n",
    "plt.ylabel(\"Accuracy\")\n",
    "plt.title(\"No Augmentation\")\n",
    "ax.grid(True)"
   ]
  },
  {
   "cell_type": "code",
   "execution_count": null,
   "metadata": {},
   "outputs": [],
   "source": [
    "no_aug = [895.7, 602.43, 490.93, 411.63, 349.29, 300.45, 256.92, 213.5, 174.24, 144.04, 117.22, 98.63, 77.69, 77.81]\n",
    "paper = [732.75, 557.27, 463.47, 339.8]"
   ]
  },
  {
   "cell_type": "code",
   "execution_count": null,
   "metadata": {},
   "outputs": [],
   "source": [
    "B.shape"
   ]
  },
  {
   "cell_type": "code",
   "execution_count": null,
   "metadata": {},
   "outputs": [],
   "source": [
    "C.shape"
   ]
  },
  {
   "cell_type": "code",
   "execution_count": null,
   "metadata": {},
   "outputs": [],
   "source": [
    "t4d = torch.empty(3, 3, 4, 2)"
   ]
  },
  {
   "cell_type": "code",
   "execution_count": null,
   "metadata": {},
   "outputs": [],
   "source": [
    "t4d[:2, :2, :, :].shape"
   ]
  },
  {
   "cell_type": "code",
   "execution_count": null,
   "metadata": {},
   "outputs": [],
   "source": [
    "torch.sub()"
   ]
  }
 ],
 "metadata": {
  "kernelspec": {
   "display_name": "Python 3",
   "language": "python",
   "name": "python3"
  },
  "language_info": {
   "codemirror_mode": {
    "name": "ipython",
    "version": 3
   },
   "file_extension": ".py",
   "mimetype": "text/x-python",
   "name": "python",
   "nbconvert_exporter": "python",
   "pygments_lexer": "ipython3",
   "version": "3.8.5"
  }
 },
 "nbformat": 4,
 "nbformat_minor": 4
}
