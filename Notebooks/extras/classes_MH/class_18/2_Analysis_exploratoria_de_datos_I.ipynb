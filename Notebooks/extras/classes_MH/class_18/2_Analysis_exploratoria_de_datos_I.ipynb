{
 "cells": [
  {
   "cell_type": "markdown",
   "source": "# 2. Analisis exploratoria de datos - EDA - I\n#### [Analisis exploratoria de datos  - introduccion](#introduction)\n#### [Elementos y funciones de Pandas para el análisis exploratorio de datos - I](#steps)\n#### [Ejemplo de analisis exploratoria de datos](#example)",
   "metadata": {
    "cell_id": "efadb3ba-6641-478b-bc9f-576916fc9753",
    "deepnote_cell_type": "markdown"
   }
  },
  {
   "cell_type": "markdown",
   "source": "<a id=\"introduction\"></a>\n## Analisis exploratoria de datos - introduccion",
   "metadata": {
    "cell_id": "00001-7c22613d-cc87-4629-9c77-c970235a14f1",
    "deepnote_cell_type": "markdown"
   }
  },
  {
   "cell_type": "markdown",
   "source": "Imaginemos que queremos predecir el precio de la casa en función de sus características como: el tamaño de la casa, el número de habitaciones, el número de banos, la localización, etc., sabiendo los precios y vendas historicas. \nEntonces necesitamos preparar estos datos para el algoritmo de aprendizaje automático. Así que el precio será el objetivo de datos (salida) y las características de la casa (número de habitaciones, tamaño, localización) serán la entrada. Como los algoritmos están ampliamente disponibles entonces el problema se reduce a preparar bien los datos.\n\nQué necesitamos de los datos:\n\n* necesitamos asegurarnos de que los datos estén completos, que no falten características que influye el precio de la casa\n* necesitamos asegurarnos de que los datos no tengan errores, valores de error tipográfico, valores extraordinario grandes o extraordinarios pequeños (valores atípicos)\n* que las filas no se repiten\n* que las columnas no se repiten\n* que no hay valores vacíos en las columnas\n* que no hay correlación entre datos de las columnas (si hay una columna con el tamaño de la casa en m^2 y otra columna con el tamaño de la casa en en pies^2 entonces una es redundante)\n* cuales variables son categóricas y cuáles son continuas\n* finalmente no podemos hacer todas esas operaciones con los ojos vendados, para entender los datos debemos visualizar los datos, ordenarlos y agruparlos.\n\nHacer todas esas operaciones se llama análisis exploratorio de datos. Este capítulo debería servir más bien como referencia que el curso completo. ",
   "metadata": {
    "cell_id": "00002-b874a5d8-651d-49ec-b1fc-3990adbd326f",
    "deepnote_cell_type": "markdown"
   }
  },
  {
   "cell_type": "markdown",
   "source": "En lenguaje mas formal...\n\nel Análisis Exploratorio de Datos o (EDA) es comprender los conjuntos de datos resumiendo sus características principales a menudo graficándolos visualmente. Este paso es muy importante sobre todo cuando llegamos a modelar los datos con el fin de aplicar machine learning. El trazado en EDA consiste en histogramas, diagrama de caja, diagrama de dispersión y muchos más. A menudo lleva mucho tiempo explorar los datos. A través del proceso de EDA, podemos pedir que se defina la declaración o definición del problema en nuestro conjunto de datos, lo cual es muy importante.",
   "metadata": {
    "cell_id": "00003-1518caf3-4bef-40f0-9e41-806d0adb7af0",
    "deepnote_cell_type": "markdown"
   }
  },
  {
   "cell_type": "markdown",
   "source": "La bibliotecas de Pandas es una herramienta clave en Python para explorar los datos. Sin embargo es muy grande y versatil y es difícil de estudiar y recordar todas las funciones. Por lo tanto, la mejor manera de aprender Pandas y EDA es analizar y comprender un ejemplo particular. Además de Pandas, que es mejor para el procesamiento de datos, necesitamos visualizar los datos usando Matplotlib o biblioteca Seaborn que es particularmente bien integrada con Pandas.",
   "metadata": {
    "cell_id": "00004-d8fdc7ff-5db7-4781-8117-3bc9448f31e4",
    "deepnote_cell_type": "markdown"
   }
  },
  {
   "cell_type": "markdown",
   "source": "<a id=\"steps\"></a>\n## Elementos y funciones de Pandas para el análisis exploratorio de datos - I",
   "metadata": {
    "cell_id": "00005-ff931deb-7567-4e76-8c8d-3fd11953fce3",
    "deepnote_cell_type": "markdown"
   }
  },
  {
   "cell_type": "markdown",
   "source": "Hay varios elementos del procedimiento exploratorio de los datos. Lo mas importante son:",
   "metadata": {
    "cell_id": "00006-ebb97b7a-7cbb-4b30-8562-ee789ca7d822",
    "deepnote_cell_type": "markdown"
   }
  },
  {
   "cell_type": "markdown",
   "source": "1. Para importar, leer e inspeccionar los datos podemos usar:\n  * `df.head(n)` - visualiza las primeras 'n' filas del conjunto de datos (por defecto n=5)\n  * `df.tail(n)` - visualiza las últimas 'n' filas del conjunto de datos (por defecto n=5)\n  * `df.columns()` - isualiza los nombres de las columnas\n  * `df.describe()` - devuelve una tabla que contiene un resumen estadístico básico de los datos.\n  * `df.info()` - devuelve informacion sobre tipos de datos en cada columna\n  * `df.loc[mascara]` - selecione filas usando \"mascara\" (ejemplo de mascara (condicion logica): `df['id']>100`), combinando los dos: `df.loc[df['id']>100]` devuelve todas las filas donde columna `id` tiene valor mas grande que `100`\n2. Para completar los datos y organizar las columnas:\n  * `df.merge()`\n  * `df[df.duplicated()] ` - visualiza filas con valores duplicadas atraves todas columnas\n  * `df.drop_duplicates(subset=['nombre_columna'])` - eliminar valor duplicadas en la columna\n  * `df.drop(['nombre_columna'], axis=1)`           - eliminar columna\n  * `df['nueva_columna']=df['nueva_columna']/10.764` añadir otros nuevos (utilizando cálculos)\n  * `df.rename(columns={'nombre_columna_vieja': 'nombre_columna_nueva'})` cambiar el nombre de las columna\n  * `df['nombre_columna'] = df['nombre_columna'].astype(str)` cambiar tipo de valores de la columna\n3. para comprobar de los tipos de datos y eliminar de los valores repetidos, y `NaN` (Not-A-Number: vacias):\n  * `df.info()` - devuelve informacion sobre tipos de datos en cada columna \n  * `df.isna().sum()`  - soma de todas valores NaN en cada columna\n  * `df['sqft_lot'].isna()` - mascara logica de todos valores `NaN` util combinando con `df[mascara]`, combinando los dos: `df[df['nombre_columna'].isna()]` devuelve todas filas NaN de columna `nombre_columna`.  \n  * `df.dropna()` - elimina valores `NaN`, parametro `axis=0` significa eliminar todas filas con valor NaN\n4. Para revisar y comprender los datos:\n  * `df['nombre_columna'].unique()`      - visualizar valores uniqas de la columna\n  * `df['nombre_columna'].value_counts()` - sumar frequencia de valores de la columna (se usa para columnas con valores discretos)\n  * `df.groupby(['nombre_columna_1']).mean()` - agrupar los datos de `nombre_columna_1` y devolver los valores promedios de todas otras columnas con respecto agrupacion\n  * `df.groupby(['nombre_columna_1','nombre_columna_2']).mean()`  - agrupar los datos de `nombre_columna_1` y `nombre_columna_2`\n  * `df['nombre_columna'].nlargest(10)` - visualiza 10 mas grandes valore numericas de la columna\n * `sns.countplot()` - visualiza las frequencia de observaciones de variable discreta \n * `sns.histplot()`  - visualiza los recuentos de observaciones de variable continua\n * `sns.scatterplot()` - visualiza relacion entre dos variables \n * `sns.jointplot()` - visualiza relacion entre dos variables junto con los distribuciones\n * `sns.pairplot()` - - visualiza relacion entre varias variables en forma de matriz \n5. Para analizar series de tiempo:\n  * `pd.to_datetime()` - convierte columna que contiene valores de fecha y tiempo a formato entendido para Pandas, por ejemplo: `df['date'] = pd.to_datetime(df['date'])` \n  * `pd.DatetimeIndex()` - permite extracion de ano, mes, dia y horario de formato de fecha,  por ejemplo: `df['year'] = pd.DatetimeIndex(df['date']).year` - crea una nueva columna que contiene el valor del año extraído de la columna con el formato de fecha completa \n  * `df.between()` - permite selecionar el rango de fechas (horas)",
   "metadata": {
    "cell_id": "00007-e04fcf0d-911f-4acf-acdb-3169771b623e",
    "deepnote_cell_type": "markdown"
   }
  },
  {
   "cell_type": "markdown",
   "source": "<a id=\"example\"></a>\n## Ejemplo de analisis exploratoria de datos",
   "metadata": {
    "cell_id": "00008-37617306-bb90-4be9-a5a7-941f85e4f323",
    "deepnote_cell_type": "markdown"
   }
  },
  {
   "cell_type": "markdown",
   "source": "En el conjunto `kc_house_data.csv'` de datos están presentes los precios de venta de las casas en el condado de King, Estados Unidos. Incluye casas vendidas entre mayo de 2014 y mayo de 2015. Primero debemos saber sobre el conjunto de datos, qué contiene, cuáles son sus características y cuál es la estructura de los datos.",
   "metadata": {
    "cell_id": "00009-6a48e00b-c4d3-492c-b66c-5e117046a146",
    "deepnote_cell_type": "markdown"
   }
  },
  {
   "cell_type": "markdown",
   "source": "## 1. Importar, leer e inspeccionar los datos",
   "metadata": {
    "cell_id": "00010-828c62eb-1a5c-4a06-b773-536a2ab613bc",
    "deepnote_cell_type": "markdown"
   }
  },
  {
   "cell_type": "markdown",
   "source": "Podemos comenzar importando todas las bibliotecas y cargar el conjunto de datos como se muestra en el módulo anterior ",
   "metadata": {
    "cell_id": "00011-d3e7e339-4c2b-4b96-ae19-68b0724ca0ff",
    "deepnote_cell_type": "markdown"
   }
  },
  {
   "cell_type": "code",
   "metadata": {
    "cell_id": "00012-c24ea08a-ad3f-41c8-9f39-43185a1796fb",
    "deepnote_to_be_reexecuted": false,
    "source_hash": "b37fc18e",
    "execution_start": 1646265102850,
    "execution_millis": 2179,
    "deepnote_cell_type": "code"
   },
   "source": "import pandas as pd\nimport numpy as np\nimport matplotlib.pyplot as plt #visualisation\nimport seaborn as sns           #visualisation",
   "outputs": [],
   "execution_count": null
  },
  {
   "cell_type": "code",
   "metadata": {
    "cell_id": "00013-f9362f23-3012-42dd-a855-fd73b59978cb",
    "deepnote_to_be_reexecuted": false,
    "source_hash": "d810b233",
    "execution_start": 1646265105038,
    "execution_millis": 53,
    "deepnote_cell_type": "code"
   },
   "source": "import pandas as pd\ndf=pd.read_csv('data/kc_house_data.csv',sep=',')",
   "outputs": [],
   "execution_count": null
  },
  {
   "cell_type": "markdown",
   "source": "Es útil para ver el tamaño del conjunto de datos, cuántas columnas y filas tiene y cuáles son los nombres de todas las columnas. ",
   "metadata": {
    "cell_id": "00014-0c2437ed-6076-4e6a-b2a0-5811386f54a8",
    "deepnote_cell_type": "markdown"
   }
  },
  {
   "cell_type": "code",
   "metadata": {
    "cell_id": "00015-fa16d104-0810-458d-bb57-cdbabd891449",
    "deepnote_to_be_reexecuted": false,
    "source_hash": "837a11d3",
    "execution_start": 1646265105102,
    "execution_millis": 9,
    "deepnote_cell_type": "code"
   },
   "source": "print('Numero de filas:',df.shape[0])\nprint('Numero de columnas:',df.shape[1])\nprint('Nombres de las columnas:',df.columns)",
   "outputs": [
    {
     "name": "stdout",
     "text": "Numero de filas: 21615\nNumero de columnas: 21\nNombres de las columnas: Index(['id', 'date', 'price', 'bedrooms', 'bathrooms', 'sqft_living',\n       'sqft_lot', 'floors', 'waterfront', 'view', 'condition', 'grade',\n       'sqft_above', 'sqft_basement', 'yr_built', 'yr_renovated', 'zipcode',\n       'lat', 'long', 'sqft_living15', 'sqft_lot15'],\n      dtype='object')\n",
     "output_type": "stream"
    }
   ],
   "execution_count": null
  },
  {
   "cell_type": "markdown",
   "source": "Podemos ver que el conjunto de datos contiene 21613 observaciones con 20 características más el precio de la vivienda. Los nombres de las columnas con descripcion es siguente:",
   "metadata": {
    "cell_id": "00016-c4aa5765-90ec-4503-8dd6-305f572f7e3e",
    "deepnote_cell_type": "markdown"
   }
  },
  {
   "cell_type": "markdown",
   "source": "    * \"id\": Numero de identificacion de la vivienda\n    * \"Date\": Fecha en que se vendió la casa\n    * \"Price\": el precio es el objetivo de predicción\n    * \"Bedrooms\": Número de Dormitorios/Casa\n    * \"Bathrooms\": Número de baños/Casa\n    * \"Sqft_Living\": pies cuadrados de la casa\n    * \"Sqft_Lot\": pies cuadrados del lote\n    * \"Floors\": Total de pisos oniveles) en casa\n    * \"Waterfront\": Casa que tiene vista a la costanera\n    * \"View\": Ha sido visto\n    * \"Condition\": Qué tan buena es la condición ogeneral)\n    * \"Grade\": calificación de vivienda, según el sistema del condado de King\n    * \"Sqft_above\": pies cuadrados de la casa aparte del sótano\n    * \"Sqft_Basement\": pies cuadrados del sótano\n    * \"Yr_Built\": año de construcción\n    * \"Yr_Renovated\": año en que se renovó la casa\n    * \"Zipcode\": código postal\n    * \"Lat\": Coordenada de latitud\n    * \"Long\": Coordenada de longitud\n    * \"Sqft_Living15\": Área de la sala de estar en 2015 oimplica algunas renovaciones)\n    * \"Sqft_Lot15\": área del tamaño del lote en 2015 oimplica algunas renovaciones) ",
   "metadata": {
    "cell_id": "00017-93710a69-e38f-4278-ac19-1cae6cb2b0a8",
    "deepnote_cell_type": "markdown"
   }
  },
  {
   "cell_type": "markdown",
   "source": "Veamos las tres primeras filas de los datos para tener una idea de cómo están organizados.",
   "metadata": {
    "cell_id": "00018-85beb622-5523-42cd-adc0-862166723396",
    "deepnote_cell_type": "markdown"
   }
  },
  {
   "cell_type": "code",
   "metadata": {
    "cell_id": "00019-1d43084d-6d1a-49c7-93e6-15edd6f91c43",
    "deepnote_to_be_reexecuted": false,
    "source_hash": "3a1ea484",
    "execution_start": 1646265105223,
    "execution_millis": 394,
    "deepnote_cell_type": "code"
   },
   "source": "df.head(3)",
   "outputs": [
    {
     "output_type": "execute_result",
     "execution_count": 5,
     "data": {
      "application/vnd.deepnote.dataframe.v3+json": {
       "column_count": 21,
       "row_count": 3,
       "columns": [
        {
         "name": "id",
         "dtype": "int64",
         "stats": {
          "unique_count": 3,
          "nan_count": 0,
          "min": "5631500400",
          "max": "7129300520",
          "histogram": [
           {
            "bin_start": 5631500400,
            "bin_end": 5781280412,
            "count": 1
           },
           {
            "bin_start": 5781280412,
            "bin_end": 5931060424,
            "count": 0
           },
           {
            "bin_start": 5931060424,
            "bin_end": 6080840436,
            "count": 0
           },
           {
            "bin_start": 6080840436,
            "bin_end": 6230620448,
            "count": 0
           },
           {
            "bin_start": 6230620448,
            "bin_end": 6380400460,
            "count": 0
           },
           {
            "bin_start": 6380400460,
            "bin_end": 6530180472,
            "count": 1
           },
           {
            "bin_start": 6530180472,
            "bin_end": 6679960484,
            "count": 0
           },
           {
            "bin_start": 6679960484,
            "bin_end": 6829740496,
            "count": 0
           },
           {
            "bin_start": 6829740496,
            "bin_end": 6979520508,
            "count": 0
           },
           {
            "bin_start": 6979520508,
            "bin_end": 7129300520,
            "count": 1
           }
          ]
         }
        },
        {
         "name": "date",
         "dtype": "object",
         "stats": {
          "unique_count": 3,
          "nan_count": 0,
          "categories": [
           {
            "name": "20141013T000000",
            "count": 1
           },
           {
            "name": "20141209T000000",
            "count": 1
           },
           {
            "name": "20150225T000000",
            "count": 1
           }
          ]
         }
        },
        {
         "name": "price",
         "dtype": "float64",
         "stats": {
          "unique_count": 3,
          "nan_count": 0,
          "min": "180000.0",
          "max": "538000.0",
          "histogram": [
           {
            "bin_start": 180000,
            "bin_end": 215800,
            "count": 1
           },
           {
            "bin_start": 215800,
            "bin_end": 251600,
            "count": 1
           },
           {
            "bin_start": 251600,
            "bin_end": 287400,
            "count": 0
           },
           {
            "bin_start": 287400,
            "bin_end": 323200,
            "count": 0
           },
           {
            "bin_start": 323200,
            "bin_end": 359000,
            "count": 0
           },
           {
            "bin_start": 359000,
            "bin_end": 394800,
            "count": 0
           },
           {
            "bin_start": 394800,
            "bin_end": 430600,
            "count": 0
           },
           {
            "bin_start": 430600,
            "bin_end": 466400,
            "count": 0
           },
           {
            "bin_start": 466400,
            "bin_end": 502200,
            "count": 0
           },
           {
            "bin_start": 502200,
            "bin_end": 538000,
            "count": 1
           }
          ]
         }
        },
        {
         "name": "bedrooms",
         "dtype": "int64",
         "stats": {
          "unique_count": 2,
          "nan_count": 0,
          "min": "2",
          "max": "3",
          "histogram": [
           {
            "bin_start": 2,
            "bin_end": 2.1,
            "count": 1
           },
           {
            "bin_start": 2.1,
            "bin_end": 2.2,
            "count": 0
           },
           {
            "bin_start": 2.2,
            "bin_end": 2.3,
            "count": 0
           },
           {
            "bin_start": 2.3,
            "bin_end": 2.4,
            "count": 0
           },
           {
            "bin_start": 2.4,
            "bin_end": 2.5,
            "count": 0
           },
           {
            "bin_start": 2.5,
            "bin_end": 2.6,
            "count": 0
           },
           {
            "bin_start": 2.6,
            "bin_end": 2.7,
            "count": 0
           },
           {
            "bin_start": 2.7,
            "bin_end": 2.8,
            "count": 0
           },
           {
            "bin_start": 2.8,
            "bin_end": 2.9,
            "count": 0
           },
           {
            "bin_start": 2.9,
            "bin_end": 3,
            "count": 2
           }
          ]
         }
        },
        {
         "name": "bathrooms",
         "dtype": "float64",
         "stats": {
          "unique_count": 2,
          "nan_count": 0,
          "min": "1.0",
          "max": "2.25",
          "histogram": [
           {
            "bin_start": 1,
            "bin_end": 1.125,
            "count": 2
           },
           {
            "bin_start": 1.125,
            "bin_end": 1.25,
            "count": 0
           },
           {
            "bin_start": 1.25,
            "bin_end": 1.375,
            "count": 0
           },
           {
            "bin_start": 1.375,
            "bin_end": 1.5,
            "count": 0
           },
           {
            "bin_start": 1.5,
            "bin_end": 1.625,
            "count": 0
           },
           {
            "bin_start": 1.625,
            "bin_end": 1.75,
            "count": 0
           },
           {
            "bin_start": 1.75,
            "bin_end": 1.875,
            "count": 0
           },
           {
            "bin_start": 1.875,
            "bin_end": 2,
            "count": 0
           },
           {
            "bin_start": 2,
            "bin_end": 2.125,
            "count": 0
           },
           {
            "bin_start": 2.125,
            "bin_end": 2.25,
            "count": 1
           }
          ]
         }
        },
        {
         "name": "sqft_living",
         "dtype": "int64",
         "stats": {
          "unique_count": 3,
          "nan_count": 0,
          "min": "770",
          "max": "2570",
          "histogram": [
           {
            "bin_start": 770,
            "bin_end": 950,
            "count": 1
           },
           {
            "bin_start": 950,
            "bin_end": 1130,
            "count": 0
           },
           {
            "bin_start": 1130,
            "bin_end": 1310,
            "count": 1
           },
           {
            "bin_start": 1310,
            "bin_end": 1490,
            "count": 0
           },
           {
            "bin_start": 1490,
            "bin_end": 1670,
            "count": 0
           },
           {
            "bin_start": 1670,
            "bin_end": 1850,
            "count": 0
           },
           {
            "bin_start": 1850,
            "bin_end": 2030,
            "count": 0
           },
           {
            "bin_start": 2030,
            "bin_end": 2210,
            "count": 0
           },
           {
            "bin_start": 2210,
            "bin_end": 2390,
            "count": 0
           },
           {
            "bin_start": 2390,
            "bin_end": 2570,
            "count": 1
           }
          ]
         }
        },
        {
         "name": "sqft_lot",
         "dtype": "float64",
         "stats": {
          "unique_count": 3,
          "nan_count": 0,
          "min": "5650.0",
          "max": "10000.0",
          "histogram": [
           {
            "bin_start": 5650,
            "bin_end": 6085,
            "count": 1
           },
           {
            "bin_start": 6085,
            "bin_end": 6520,
            "count": 0
           },
           {
            "bin_start": 6520,
            "bin_end": 6955,
            "count": 0
           },
           {
            "bin_start": 6955,
            "bin_end": 7390,
            "count": 1
           },
           {
            "bin_start": 7390,
            "bin_end": 7825,
            "count": 0
           },
           {
            "bin_start": 7825,
            "bin_end": 8260,
            "count": 0
           },
           {
            "bin_start": 8260,
            "bin_end": 8695,
            "count": 0
           },
           {
            "bin_start": 8695,
            "bin_end": 9130,
            "count": 0
           },
           {
            "bin_start": 9130,
            "bin_end": 9565,
            "count": 0
           },
           {
            "bin_start": 9565,
            "bin_end": 10000,
            "count": 1
           }
          ]
         }
        },
        {
         "name": "floors",
         "dtype": "float64",
         "stats": {
          "unique_count": 2,
          "nan_count": 0,
          "min": "1.0",
          "max": "2.0",
          "histogram": [
           {
            "bin_start": 1,
            "bin_end": 1.1,
            "count": 2
           },
           {
            "bin_start": 1.1,
            "bin_end": 1.2,
            "count": 0
           },
           {
            "bin_start": 1.2,
            "bin_end": 1.3,
            "count": 0
           },
           {
            "bin_start": 1.3,
            "bin_end": 1.4,
            "count": 0
           },
           {
            "bin_start": 1.4,
            "bin_end": 1.5,
            "count": 0
           },
           {
            "bin_start": 1.5,
            "bin_end": 1.6,
            "count": 0
           },
           {
            "bin_start": 1.6,
            "bin_end": 1.7000000000000002,
            "count": 0
           },
           {
            "bin_start": 1.7000000000000002,
            "bin_end": 1.8,
            "count": 0
           },
           {
            "bin_start": 1.8,
            "bin_end": 1.9,
            "count": 0
           },
           {
            "bin_start": 1.9,
            "bin_end": 2,
            "count": 1
           }
          ]
         }
        },
        {
         "name": "waterfront",
         "dtype": "int64",
         "stats": {
          "unique_count": 1,
          "nan_count": 0,
          "min": "0",
          "max": "0",
          "histogram": [
           {
            "bin_start": -0.5,
            "bin_end": -0.4,
            "count": 0
           },
           {
            "bin_start": -0.4,
            "bin_end": -0.3,
            "count": 0
           },
           {
            "bin_start": -0.3,
            "bin_end": -0.19999999999999996,
            "count": 0
           },
           {
            "bin_start": -0.19999999999999996,
            "bin_end": -0.09999999999999998,
            "count": 0
           },
           {
            "bin_start": -0.09999999999999998,
            "bin_end": 0,
            "count": 0
           },
           {
            "bin_start": 0,
            "bin_end": 0.10000000000000009,
            "count": 3
           },
           {
            "bin_start": 0.10000000000000009,
            "bin_end": 0.20000000000000007,
            "count": 0
           },
           {
            "bin_start": 0.20000000000000007,
            "bin_end": 0.30000000000000004,
            "count": 0
           },
           {
            "bin_start": 0.30000000000000004,
            "bin_end": 0.4,
            "count": 0
           },
           {
            "bin_start": 0.4,
            "bin_end": 0.5,
            "count": 0
           }
          ]
         }
        },
        {
         "name": "view",
         "dtype": "int64",
         "stats": {
          "unique_count": 1,
          "nan_count": 0,
          "min": "0",
          "max": "0",
          "histogram": [
           {
            "bin_start": -0.5,
            "bin_end": -0.4,
            "count": 0
           },
           {
            "bin_start": -0.4,
            "bin_end": -0.3,
            "count": 0
           },
           {
            "bin_start": -0.3,
            "bin_end": -0.19999999999999996,
            "count": 0
           },
           {
            "bin_start": -0.19999999999999996,
            "bin_end": -0.09999999999999998,
            "count": 0
           },
           {
            "bin_start": -0.09999999999999998,
            "bin_end": 0,
            "count": 0
           },
           {
            "bin_start": 0,
            "bin_end": 0.10000000000000009,
            "count": 3
           },
           {
            "bin_start": 0.10000000000000009,
            "bin_end": 0.20000000000000007,
            "count": 0
           },
           {
            "bin_start": 0.20000000000000007,
            "bin_end": 0.30000000000000004,
            "count": 0
           },
           {
            "bin_start": 0.30000000000000004,
            "bin_end": 0.4,
            "count": 0
           },
           {
            "bin_start": 0.4,
            "bin_end": 0.5,
            "count": 0
           }
          ]
         }
        },
        {
         "name": "condition",
         "dtype": "int64",
         "stats": {
          "unique_count": 1,
          "nan_count": 0,
          "min": "3",
          "max": "3",
          "histogram": [
           {
            "bin_start": 2.5,
            "bin_end": 2.6,
            "count": 0
           },
           {
            "bin_start": 2.6,
            "bin_end": 2.7,
            "count": 0
           },
           {
            "bin_start": 2.7,
            "bin_end": 2.8,
            "count": 0
           },
           {
            "bin_start": 2.8,
            "bin_end": 2.9,
            "count": 0
           },
           {
            "bin_start": 2.9,
            "bin_end": 3,
            "count": 0
           },
           {
            "bin_start": 3,
            "bin_end": 3.1,
            "count": 3
           },
           {
            "bin_start": 3.1,
            "bin_end": 3.2,
            "count": 0
           },
           {
            "bin_start": 3.2,
            "bin_end": 3.3,
            "count": 0
           },
           {
            "bin_start": 3.3,
            "bin_end": 3.4,
            "count": 0
           },
           {
            "bin_start": 3.4,
            "bin_end": 3.5,
            "count": 0
           }
          ]
         }
        },
        {
         "name": "grade",
         "dtype": "int64",
         "stats": {
          "unique_count": 2,
          "nan_count": 0,
          "min": "6",
          "max": "7",
          "histogram": [
           {
            "bin_start": 6,
            "bin_end": 6.1,
            "count": 1
           },
           {
            "bin_start": 6.1,
            "bin_end": 6.2,
            "count": 0
           },
           {
            "bin_start": 6.2,
            "bin_end": 6.3,
            "count": 0
           },
           {
            "bin_start": 6.3,
            "bin_end": 6.4,
            "count": 0
           },
           {
            "bin_start": 6.4,
            "bin_end": 6.5,
            "count": 0
           },
           {
            "bin_start": 6.5,
            "bin_end": 6.6,
            "count": 0
           },
           {
            "bin_start": 6.6,
            "bin_end": 6.7,
            "count": 0
           },
           {
            "bin_start": 6.7,
            "bin_end": 6.8,
            "count": 0
           },
           {
            "bin_start": 6.8,
            "bin_end": 6.9,
            "count": 0
           },
           {
            "bin_start": 6.9,
            "bin_end": 7,
            "count": 2
           }
          ]
         }
        },
        {
         "name": "sqft_above",
         "dtype": "int64",
         "stats": {
          "unique_count": 3,
          "nan_count": 0,
          "min": "770",
          "max": "2170",
          "histogram": [
           {
            "bin_start": 770,
            "bin_end": 910,
            "count": 1
           },
           {
            "bin_start": 910,
            "bin_end": 1050,
            "count": 0
           },
           {
            "bin_start": 1050,
            "bin_end": 1190,
            "count": 1
           },
           {
            "bin_start": 1190,
            "bin_end": 1330,
            "count": 0
           },
           {
            "bin_start": 1330,
            "bin_end": 1470,
            "count": 0
           },
           {
            "bin_start": 1470,
            "bin_end": 1610,
            "count": 0
           },
           {
            "bin_start": 1610,
            "bin_end": 1750,
            "count": 0
           },
           {
            "bin_start": 1750,
            "bin_end": 1890,
            "count": 0
           },
           {
            "bin_start": 1890,
            "bin_end": 2030,
            "count": 0
           },
           {
            "bin_start": 2030,
            "bin_end": 2170,
            "count": 1
           }
          ]
         }
        },
        {
         "name": "sqft_basement",
         "dtype": "int64",
         "stats": {
          "unique_count": 2,
          "nan_count": 0,
          "min": "0",
          "max": "400",
          "histogram": [
           {
            "bin_start": 0,
            "bin_end": 40,
            "count": 2
           },
           {
            "bin_start": 40,
            "bin_end": 80,
            "count": 0
           },
           {
            "bin_start": 80,
            "bin_end": 120,
            "count": 0
           },
           {
            "bin_start": 120,
            "bin_end": 160,
            "count": 0
           },
           {
            "bin_start": 160,
            "bin_end": 200,
            "count": 0
           },
           {
            "bin_start": 200,
            "bin_end": 240,
            "count": 0
           },
           {
            "bin_start": 240,
            "bin_end": 280,
            "count": 0
           },
           {
            "bin_start": 280,
            "bin_end": 320,
            "count": 0
           },
           {
            "bin_start": 320,
            "bin_end": 360,
            "count": 0
           },
           {
            "bin_start": 360,
            "bin_end": 400,
            "count": 1
           }
          ]
         }
        },
        {
         "name": "yr_built",
         "dtype": "int64",
         "stats": {
          "unique_count": 3,
          "nan_count": 0,
          "min": "1933",
          "max": "1955",
          "histogram": [
           {
            "bin_start": 1933,
            "bin_end": 1935.2,
            "count": 1
           },
           {
            "bin_start": 1935.2,
            "bin_end": 1937.4,
            "count": 0
           },
           {
            "bin_start": 1937.4,
            "bin_end": 1939.6,
            "count": 0
           },
           {
            "bin_start": 1939.6,
            "bin_end": 1941.8,
            "count": 0
           },
           {
            "bin_start": 1941.8,
            "bin_end": 1944,
            "count": 0
           },
           {
            "bin_start": 1944,
            "bin_end": 1946.2,
            "count": 0
           },
           {
            "bin_start": 1946.2,
            "bin_end": 1948.4,
            "count": 0
           },
           {
            "bin_start": 1948.4,
            "bin_end": 1950.6,
            "count": 0
           },
           {
            "bin_start": 1950.6,
            "bin_end": 1952.8,
            "count": 1
           },
           {
            "bin_start": 1952.8,
            "bin_end": 1955,
            "count": 1
           }
          ]
         }
        },
        {
         "name": "yr_renovated",
         "dtype": "int64",
         "stats": {
          "unique_count": 2,
          "nan_count": 0,
          "min": "0",
          "max": "1991",
          "histogram": [
           {
            "bin_start": 0,
            "bin_end": 199.1,
            "count": 2
           },
           {
            "bin_start": 199.1,
            "bin_end": 398.2,
            "count": 0
           },
           {
            "bin_start": 398.2,
            "bin_end": 597.3,
            "count": 0
           },
           {
            "bin_start": 597.3,
            "bin_end": 796.4,
            "count": 0
           },
           {
            "bin_start": 796.4,
            "bin_end": 995.5,
            "count": 0
           },
           {
            "bin_start": 995.5,
            "bin_end": 1194.6,
            "count": 0
           },
           {
            "bin_start": 1194.6,
            "bin_end": 1393.7,
            "count": 0
           },
           {
            "bin_start": 1393.7,
            "bin_end": 1592.8,
            "count": 0
           },
           {
            "bin_start": 1592.8,
            "bin_end": 1791.8999999999999,
            "count": 0
           },
           {
            "bin_start": 1791.8999999999999,
            "bin_end": 1991,
            "count": 1
           }
          ]
         }
        },
        {
         "name": "zipcode",
         "dtype": "int64",
         "stats": {
          "unique_count": 3,
          "nan_count": 0,
          "min": "98028",
          "max": "98178",
          "histogram": [
           {
            "bin_start": 98028,
            "bin_end": 98043,
            "count": 1
           },
           {
            "bin_start": 98043,
            "bin_end": 98058,
            "count": 0
           },
           {
            "bin_start": 98058,
            "bin_end": 98073,
            "count": 0
           },
           {
            "bin_start": 98073,
            "bin_end": 98088,
            "count": 0
           },
           {
            "bin_start": 98088,
            "bin_end": 98103,
            "count": 0
           },
           {
            "bin_start": 98103,
            "bin_end": 98118,
            "count": 0
           },
           {
            "bin_start": 98118,
            "bin_end": 98133,
            "count": 1
           },
           {
            "bin_start": 98133,
            "bin_end": 98148,
            "count": 0
           },
           {
            "bin_start": 98148,
            "bin_end": 98163,
            "count": 0
           },
           {
            "bin_start": 98163,
            "bin_end": 98178,
            "count": 1
           }
          ]
         }
        },
        {
         "name": "lat",
         "dtype": "float64",
         "stats": {
          "unique_count": 3,
          "nan_count": 0,
          "min": "47.5112",
          "max": "47.7379",
          "histogram": [
           {
            "bin_start": 47.5112,
            "bin_end": 47.53387,
            "count": 1
           },
           {
            "bin_start": 47.53387,
            "bin_end": 47.556540000000005,
            "count": 0
           },
           {
            "bin_start": 47.556540000000005,
            "bin_end": 47.57921,
            "count": 0
           },
           {
            "bin_start": 47.57921,
            "bin_end": 47.60188,
            "count": 0
           },
           {
            "bin_start": 47.60188,
            "bin_end": 47.62455,
            "count": 0
           },
           {
            "bin_start": 47.62455,
            "bin_end": 47.647220000000004,
            "count": 0
           },
           {
            "bin_start": 47.647220000000004,
            "bin_end": 47.66989,
            "count": 0
           },
           {
            "bin_start": 47.66989,
            "bin_end": 47.69256,
            "count": 0
           },
           {
            "bin_start": 47.69256,
            "bin_end": 47.715230000000005,
            "count": 0
           },
           {
            "bin_start": 47.715230000000005,
            "bin_end": 47.7379,
            "count": 2
           }
          ]
         }
        },
        {
         "name": "long",
         "dtype": "float64",
         "stats": {
          "unique_count": 3,
          "nan_count": 0,
          "min": "-122.319",
          "max": "-122.233",
          "histogram": [
           {
            "bin_start": -122.319,
            "bin_end": -122.3104,
            "count": 1
           },
           {
            "bin_start": -122.3104,
            "bin_end": -122.3018,
            "count": 0
           },
           {
            "bin_start": -122.3018,
            "bin_end": -122.2932,
            "count": 0
           },
           {
            "bin_start": -122.2932,
            "bin_end": -122.2846,
            "count": 0
           },
           {
            "bin_start": -122.2846,
            "bin_end": -122.27600000000001,
            "count": 0
           },
           {
            "bin_start": -122.27600000000001,
            "bin_end": -122.26740000000001,
            "count": 0
           },
           {
            "bin_start": -122.26740000000001,
            "bin_end": -122.25880000000001,
            "count": 0
           },
           {
            "bin_start": -122.25880000000001,
            "bin_end": -122.2502,
            "count": 1
           },
           {
            "bin_start": -122.2502,
            "bin_end": -122.2416,
            "count": 0
           },
           {
            "bin_start": -122.2416,
            "bin_end": -122.233,
            "count": 1
           }
          ]
         }
        },
        {
         "name": "sqft_living15",
         "dtype": "int64",
         "stats": {
          "unique_count": 3,
          "nan_count": 0,
          "min": "1340",
          "max": "2720",
          "histogram": [
           {
            "bin_start": 1340,
            "bin_end": 1478,
            "count": 1
           },
           {
            "bin_start": 1478,
            "bin_end": 1616,
            "count": 0
           },
           {
            "bin_start": 1616,
            "bin_end": 1754,
            "count": 1
           },
           {
            "bin_start": 1754,
            "bin_end": 1892,
            "count": 0
           },
           {
            "bin_start": 1892,
            "bin_end": 2030,
            "count": 0
           },
           {
            "bin_start": 2030,
            "bin_end": 2168,
            "count": 0
           },
           {
            "bin_start": 2168,
            "bin_end": 2306,
            "count": 0
           },
           {
            "bin_start": 2306,
            "bin_end": 2444,
            "count": 0
           },
           {
            "bin_start": 2444,
            "bin_end": 2582,
            "count": 0
           },
           {
            "bin_start": 2582,
            "bin_end": 2720,
            "count": 1
           }
          ]
         }
        },
        {
         "name": "sqft_lot15",
         "dtype": "int64",
         "stats": {
          "unique_count": 3,
          "nan_count": 0,
          "min": "5650",
          "max": "8062",
          "histogram": [
           {
            "bin_start": 5650,
            "bin_end": 5891.2,
            "count": 1
           },
           {
            "bin_start": 5891.2,
            "bin_end": 6132.4,
            "count": 0
           },
           {
            "bin_start": 6132.4,
            "bin_end": 6373.6,
            "count": 0
           },
           {
            "bin_start": 6373.6,
            "bin_end": 6614.8,
            "count": 0
           },
           {
            "bin_start": 6614.8,
            "bin_end": 6856,
            "count": 0
           },
           {
            "bin_start": 6856,
            "bin_end": 7097.2,
            "count": 0
           },
           {
            "bin_start": 7097.2,
            "bin_end": 7338.4,
            "count": 0
           },
           {
            "bin_start": 7338.4,
            "bin_end": 7579.6,
            "count": 0
           },
           {
            "bin_start": 7579.6,
            "bin_end": 7820.799999999999,
            "count": 1
           },
           {
            "bin_start": 7820.799999999999,
            "bin_end": 8062,
            "count": 1
           }
          ]
         }
        },
        {
         "name": "_deepnote_index_column",
         "dtype": "int64"
        }
       ],
       "rows": [
        {
         "id": 7129300520,
         "date": "20141013T000000",
         "price": 221900,
         "bedrooms": 3,
         "bathrooms": 1,
         "sqft_living": 1180,
         "sqft_lot": 5650,
         "floors": 1,
         "waterfront": 0,
         "view": 0,
         "condition": 3,
         "grade": 7,
         "sqft_above": 1180,
         "sqft_basement": 0,
         "yr_built": 1955,
         "yr_renovated": 0,
         "zipcode": 98178,
         "lat": 47.5112,
         "long": -122.257,
         "sqft_living15": 1340,
         "sqft_lot15": 5650,
         "_deepnote_index_column": 0
        },
        {
         "id": 6414100192,
         "date": "20141209T000000",
         "price": 538000,
         "bedrooms": 3,
         "bathrooms": 2.25,
         "sqft_living": 2570,
         "sqft_lot": 7242,
         "floors": 2,
         "waterfront": 0,
         "view": 0,
         "condition": 3,
         "grade": 7,
         "sqft_above": 2170,
         "sqft_basement": 400,
         "yr_built": 1951,
         "yr_renovated": 1991,
         "zipcode": 98125,
         "lat": 47.721,
         "long": -122.319,
         "sqft_living15": 1690,
         "sqft_lot15": 7639,
         "_deepnote_index_column": 1
        },
        {
         "id": 5631500400,
         "date": "20150225T000000",
         "price": 180000,
         "bedrooms": 2,
         "bathrooms": 1,
         "sqft_living": 770,
         "sqft_lot": 10000,
         "floors": 1,
         "waterfront": 0,
         "view": 0,
         "condition": 3,
         "grade": 6,
         "sqft_above": 770,
         "sqft_basement": 0,
         "yr_built": 1933,
         "yr_renovated": 0,
         "zipcode": 98028,
         "lat": 47.7379,
         "long": -122.233,
         "sqft_living15": 2720,
         "sqft_lot15": 8062,
         "_deepnote_index_column": 2
        }
       ]
      },
      "text/plain": "           id             date     price  bedrooms  bathrooms  sqft_living  \\\n0  7129300520  20141013T000000  221900.0         3       1.00         1180   \n1  6414100192  20141209T000000  538000.0         3       2.25         2570   \n2  5631500400  20150225T000000  180000.0         2       1.00          770   \n\n   sqft_lot  floors  waterfront  view  ...  grade  sqft_above  sqft_basement  \\\n0    5650.0     1.0           0     0  ...      7        1180              0   \n1    7242.0     2.0           0     0  ...      7        2170            400   \n2   10000.0     1.0           0     0  ...      6         770              0   \n\n   yr_built  yr_renovated  zipcode      lat     long  sqft_living15  \\\n0      1955             0    98178  47.5112 -122.257           1340   \n1      1951          1991    98125  47.7210 -122.319           1690   \n2      1933             0    98028  47.7379 -122.233           2720   \n\n   sqft_lot15  \n0        5650  \n1        7639  \n2        8062  \n\n[3 rows x 21 columns]",
      "text/html": "<div>\n<style scoped>\n    .dataframe tbody tr th:only-of-type {\n        vertical-align: middle;\n    }\n\n    .dataframe tbody tr th {\n        vertical-align: top;\n    }\n\n    .dataframe thead th {\n        text-align: right;\n    }\n</style>\n<table border=\"1\" class=\"dataframe\">\n  <thead>\n    <tr style=\"text-align: right;\">\n      <th></th>\n      <th>id</th>\n      <th>date</th>\n      <th>price</th>\n      <th>bedrooms</th>\n      <th>bathrooms</th>\n      <th>sqft_living</th>\n      <th>sqft_lot</th>\n      <th>floors</th>\n      <th>waterfront</th>\n      <th>view</th>\n      <th>...</th>\n      <th>grade</th>\n      <th>sqft_above</th>\n      <th>sqft_basement</th>\n      <th>yr_built</th>\n      <th>yr_renovated</th>\n      <th>zipcode</th>\n      <th>lat</th>\n      <th>long</th>\n      <th>sqft_living15</th>\n      <th>sqft_lot15</th>\n    </tr>\n  </thead>\n  <tbody>\n    <tr>\n      <th>0</th>\n      <td>7129300520</td>\n      <td>20141013T000000</td>\n      <td>221900.0</td>\n      <td>3</td>\n      <td>1.00</td>\n      <td>1180</td>\n      <td>5650.0</td>\n      <td>1.0</td>\n      <td>0</td>\n      <td>0</td>\n      <td>...</td>\n      <td>7</td>\n      <td>1180</td>\n      <td>0</td>\n      <td>1955</td>\n      <td>0</td>\n      <td>98178</td>\n      <td>47.5112</td>\n      <td>-122.257</td>\n      <td>1340</td>\n      <td>5650</td>\n    </tr>\n    <tr>\n      <th>1</th>\n      <td>6414100192</td>\n      <td>20141209T000000</td>\n      <td>538000.0</td>\n      <td>3</td>\n      <td>2.25</td>\n      <td>2570</td>\n      <td>7242.0</td>\n      <td>2.0</td>\n      <td>0</td>\n      <td>0</td>\n      <td>...</td>\n      <td>7</td>\n      <td>2170</td>\n      <td>400</td>\n      <td>1951</td>\n      <td>1991</td>\n      <td>98125</td>\n      <td>47.7210</td>\n      <td>-122.319</td>\n      <td>1690</td>\n      <td>7639</td>\n    </tr>\n    <tr>\n      <th>2</th>\n      <td>5631500400</td>\n      <td>20150225T000000</td>\n      <td>180000.0</td>\n      <td>2</td>\n      <td>1.00</td>\n      <td>770</td>\n      <td>10000.0</td>\n      <td>1.0</td>\n      <td>0</td>\n      <td>0</td>\n      <td>...</td>\n      <td>6</td>\n      <td>770</td>\n      <td>0</td>\n      <td>1933</td>\n      <td>0</td>\n      <td>98028</td>\n      <td>47.7379</td>\n      <td>-122.233</td>\n      <td>2720</td>\n      <td>8062</td>\n    </tr>\n  </tbody>\n</table>\n<p>3 rows × 21 columns</p>\n</div>"
     },
     "metadata": {}
    }
   ],
   "execution_count": null
  },
  {
   "cell_type": "markdown",
   "source": "O ultimas tres filas",
   "metadata": {
    "cell_id": "00020-a4f8692d-bb47-480c-8422-ed0f7cc73b33",
    "deepnote_cell_type": "markdown"
   }
  },
  {
   "cell_type": "code",
   "metadata": {
    "cell_id": "00021-a439e693-b128-425c-b3ad-f603ea652152",
    "deepnote_to_be_reexecuted": false,
    "source_hash": "a9dcf5c2",
    "execution_start": 1646265106481,
    "execution_millis": 91,
    "deepnote_cell_type": "code"
   },
   "source": "df.tail(3) # mostrar ultimas 3 filas del conjunto",
   "outputs": [
    {
     "output_type": "execute_result",
     "execution_count": 6,
     "data": {
      "application/vnd.deepnote.dataframe.v3+json": {
       "column_count": 21,
       "row_count": 3,
       "columns": [
        {
         "name": "id",
         "dtype": "int64",
         "stats": {
          "unique_count": 3,
          "nan_count": 0,
          "min": "291310100",
          "max": "1523300157",
          "histogram": [
           {
            "bin_start": 291310100,
            "bin_end": 414509105.7,
            "count": 1
           },
           {
            "bin_start": 414509105.7,
            "bin_end": 537708111.4,
            "count": 0
           },
           {
            "bin_start": 537708111.4,
            "bin_end": 660907117.1,
            "count": 0
           },
           {
            "bin_start": 660907117.1,
            "bin_end": 784106122.8,
            "count": 0
           },
           {
            "bin_start": 784106122.8,
            "bin_end": 907305128.5,
            "count": 0
           },
           {
            "bin_start": 907305128.5,
            "bin_end": 1030504134.2,
            "count": 0
           },
           {
            "bin_start": 1030504134.2,
            "bin_end": 1153703139.9,
            "count": 0
           },
           {
            "bin_start": 1153703139.9,
            "bin_end": 1276902145.6,
            "count": 0
           },
           {
            "bin_start": 1276902145.6,
            "bin_end": 1400101151.3,
            "count": 0
           },
           {
            "bin_start": 1400101151.3,
            "bin_end": 1523300157,
            "count": 2
           }
          ]
         }
        },
        {
         "name": "date",
         "dtype": "object",
         "stats": {
          "unique_count": 3,
          "nan_count": 0,
          "categories": [
           {
            "name": "20140623T000000",
            "count": 1
           },
           {
            "name": "20150116T000000",
            "count": 1
           },
           {
            "name": "20141015T000000",
            "count": 1
           }
          ]
         }
        },
        {
         "name": "price",
         "dtype": "float64",
         "stats": {
          "unique_count": 3,
          "nan_count": 0,
          "min": "325000.0",
          "max": "402101.0",
          "histogram": [
           {
            "bin_start": 325000,
            "bin_end": 332710.1,
            "count": 1
           },
           {
            "bin_start": 332710.1,
            "bin_end": 340420.2,
            "count": 0
           },
           {
            "bin_start": 340420.2,
            "bin_end": 348130.3,
            "count": 0
           },
           {
            "bin_start": 348130.3,
            "bin_end": 355840.4,
            "count": 0
           },
           {
            "bin_start": 355840.4,
            "bin_end": 363550.5,
            "count": 0
           },
           {
            "bin_start": 363550.5,
            "bin_end": 371260.6,
            "count": 0
           },
           {
            "bin_start": 371260.6,
            "bin_end": 378970.7,
            "count": 0
           },
           {
            "bin_start": 378970.7,
            "bin_end": 386680.8,
            "count": 0
           },
           {
            "bin_start": 386680.8,
            "bin_end": 394390.9,
            "count": 0
           },
           {
            "bin_start": 394390.9,
            "bin_end": 402101,
            "count": 2
           }
          ]
         }
        },
        {
         "name": "bedrooms",
         "dtype": "int64",
         "stats": {
          "unique_count": 2,
          "nan_count": 0,
          "min": "2",
          "max": "3",
          "histogram": [
           {
            "bin_start": 2,
            "bin_end": 2.1,
            "count": 2
           },
           {
            "bin_start": 2.1,
            "bin_end": 2.2,
            "count": 0
           },
           {
            "bin_start": 2.2,
            "bin_end": 2.3,
            "count": 0
           },
           {
            "bin_start": 2.3,
            "bin_end": 2.4,
            "count": 0
           },
           {
            "bin_start": 2.4,
            "bin_end": 2.5,
            "count": 0
           },
           {
            "bin_start": 2.5,
            "bin_end": 2.6,
            "count": 0
           },
           {
            "bin_start": 2.6,
            "bin_end": 2.7,
            "count": 0
           },
           {
            "bin_start": 2.7,
            "bin_end": 2.8,
            "count": 0
           },
           {
            "bin_start": 2.8,
            "bin_end": 2.9,
            "count": 0
           },
           {
            "bin_start": 2.9,
            "bin_end": 3,
            "count": 1
           }
          ]
         }
        },
        {
         "name": "bathrooms",
         "dtype": "float64",
         "stats": {
          "unique_count": 2,
          "nan_count": 0,
          "min": "0.75",
          "max": "2.5",
          "histogram": [
           {
            "bin_start": 0.75,
            "bin_end": 0.925,
            "count": 2
           },
           {
            "bin_start": 0.925,
            "bin_end": 1.1,
            "count": 0
           },
           {
            "bin_start": 1.1,
            "bin_end": 1.275,
            "count": 0
           },
           {
            "bin_start": 1.275,
            "bin_end": 1.45,
            "count": 0
           },
           {
            "bin_start": 1.45,
            "bin_end": 1.625,
            "count": 0
           },
           {
            "bin_start": 1.625,
            "bin_end": 1.7999999999999998,
            "count": 0
           },
           {
            "bin_start": 1.7999999999999998,
            "bin_end": 1.9749999999999999,
            "count": 0
           },
           {
            "bin_start": 1.9749999999999999,
            "bin_end": 2.15,
            "count": 0
           },
           {
            "bin_start": 2.15,
            "bin_end": 2.325,
            "count": 0
           },
           {
            "bin_start": 2.325,
            "bin_end": 2.5,
            "count": 1
           }
          ]
         }
        },
        {
         "name": "sqft_living",
         "dtype": "int64",
         "stats": {
          "unique_count": 2,
          "nan_count": 0,
          "min": "1020",
          "max": "1600",
          "histogram": [
           {
            "bin_start": 1020,
            "bin_end": 1078,
            "count": 2
           },
           {
            "bin_start": 1078,
            "bin_end": 1136,
            "count": 0
           },
           {
            "bin_start": 1136,
            "bin_end": 1194,
            "count": 0
           },
           {
            "bin_start": 1194,
            "bin_end": 1252,
            "count": 0
           },
           {
            "bin_start": 1252,
            "bin_end": 1310,
            "count": 0
           },
           {
            "bin_start": 1310,
            "bin_end": 1368,
            "count": 0
           },
           {
            "bin_start": 1368,
            "bin_end": 1426,
            "count": 0
           },
           {
            "bin_start": 1426,
            "bin_end": 1484,
            "count": 0
           },
           {
            "bin_start": 1484,
            "bin_end": 1542,
            "count": 0
           },
           {
            "bin_start": 1542,
            "bin_end": 1600,
            "count": 1
           }
          ]
         }
        },
        {
         "name": "sqft_lot",
         "dtype": "float64",
         "stats": {
          "unique_count": 3,
          "nan_count": 0,
          "min": "1076.0",
          "max": "2388.0",
          "histogram": [
           {
            "bin_start": 1076,
            "bin_end": 1207.2,
            "count": 1
           },
           {
            "bin_start": 1207.2,
            "bin_end": 1338.4,
            "count": 0
           },
           {
            "bin_start": 1338.4,
            "bin_end": 1469.6,
            "count": 1
           },
           {
            "bin_start": 1469.6,
            "bin_end": 1600.8,
            "count": 0
           },
           {
            "bin_start": 1600.8,
            "bin_end": 1732,
            "count": 0
           },
           {
            "bin_start": 1732,
            "bin_end": 1863.1999999999998,
            "count": 0
           },
           {
            "bin_start": 1863.1999999999998,
            "bin_end": 1994.3999999999999,
            "count": 0
           },
           {
            "bin_start": 1994.3999999999999,
            "bin_end": 2125.6,
            "count": 0
           },
           {
            "bin_start": 2125.6,
            "bin_end": 2256.8,
            "count": 0
           },
           {
            "bin_start": 2256.8,
            "bin_end": 2388,
            "count": 1
           }
          ]
         }
        },
        {
         "name": "floors",
         "dtype": "float64",
         "stats": {
          "unique_count": 1,
          "nan_count": 0,
          "min": "2.0",
          "max": "2.0",
          "histogram": [
           {
            "bin_start": 1.5,
            "bin_end": 1.6,
            "count": 0
           },
           {
            "bin_start": 1.6,
            "bin_end": 1.7,
            "count": 0
           },
           {
            "bin_start": 1.7,
            "bin_end": 1.8,
            "count": 0
           },
           {
            "bin_start": 1.8,
            "bin_end": 1.9,
            "count": 0
           },
           {
            "bin_start": 1.9,
            "bin_end": 2,
            "count": 0
           },
           {
            "bin_start": 2,
            "bin_end": 2.1,
            "count": 3
           },
           {
            "bin_start": 2.1,
            "bin_end": 2.2,
            "count": 0
           },
           {
            "bin_start": 2.2,
            "bin_end": 2.3,
            "count": 0
           },
           {
            "bin_start": 2.3,
            "bin_end": 2.4,
            "count": 0
           },
           {
            "bin_start": 2.4,
            "bin_end": 2.5,
            "count": 0
           }
          ]
         }
        },
        {
         "name": "waterfront",
         "dtype": "int64",
         "stats": {
          "unique_count": 1,
          "nan_count": 0,
          "min": "0",
          "max": "0",
          "histogram": [
           {
            "bin_start": -0.5,
            "bin_end": -0.4,
            "count": 0
           },
           {
            "bin_start": -0.4,
            "bin_end": -0.3,
            "count": 0
           },
           {
            "bin_start": -0.3,
            "bin_end": -0.19999999999999996,
            "count": 0
           },
           {
            "bin_start": -0.19999999999999996,
            "bin_end": -0.09999999999999998,
            "count": 0
           },
           {
            "bin_start": -0.09999999999999998,
            "bin_end": 0,
            "count": 0
           },
           {
            "bin_start": 0,
            "bin_end": 0.10000000000000009,
            "count": 3
           },
           {
            "bin_start": 0.10000000000000009,
            "bin_end": 0.20000000000000007,
            "count": 0
           },
           {
            "bin_start": 0.20000000000000007,
            "bin_end": 0.30000000000000004,
            "count": 0
           },
           {
            "bin_start": 0.30000000000000004,
            "bin_end": 0.4,
            "count": 0
           },
           {
            "bin_start": 0.4,
            "bin_end": 0.5,
            "count": 0
           }
          ]
         }
        },
        {
         "name": "view",
         "dtype": "int64",
         "stats": {
          "unique_count": 1,
          "nan_count": 0,
          "min": "0",
          "max": "0",
          "histogram": [
           {
            "bin_start": -0.5,
            "bin_end": -0.4,
            "count": 0
           },
           {
            "bin_start": -0.4,
            "bin_end": -0.3,
            "count": 0
           },
           {
            "bin_start": -0.3,
            "bin_end": -0.19999999999999996,
            "count": 0
           },
           {
            "bin_start": -0.19999999999999996,
            "bin_end": -0.09999999999999998,
            "count": 0
           },
           {
            "bin_start": -0.09999999999999998,
            "bin_end": 0,
            "count": 0
           },
           {
            "bin_start": 0,
            "bin_end": 0.10000000000000009,
            "count": 3
           },
           {
            "bin_start": 0.10000000000000009,
            "bin_end": 0.20000000000000007,
            "count": 0
           },
           {
            "bin_start": 0.20000000000000007,
            "bin_end": 0.30000000000000004,
            "count": 0
           },
           {
            "bin_start": 0.30000000000000004,
            "bin_end": 0.4,
            "count": 0
           },
           {
            "bin_start": 0.4,
            "bin_end": 0.5,
            "count": 0
           }
          ]
         }
        },
        {
         "name": "condition",
         "dtype": "int64",
         "stats": {
          "unique_count": 1,
          "nan_count": 0,
          "min": "3",
          "max": "3",
          "histogram": [
           {
            "bin_start": 2.5,
            "bin_end": 2.6,
            "count": 0
           },
           {
            "bin_start": 2.6,
            "bin_end": 2.7,
            "count": 0
           },
           {
            "bin_start": 2.7,
            "bin_end": 2.8,
            "count": 0
           },
           {
            "bin_start": 2.8,
            "bin_end": 2.9,
            "count": 0
           },
           {
            "bin_start": 2.9,
            "bin_end": 3,
            "count": 0
           },
           {
            "bin_start": 3,
            "bin_end": 3.1,
            "count": 3
           },
           {
            "bin_start": 3.1,
            "bin_end": 3.2,
            "count": 0
           },
           {
            "bin_start": 3.2,
            "bin_end": 3.3,
            "count": 0
           },
           {
            "bin_start": 3.3,
            "bin_end": 3.4,
            "count": 0
           },
           {
            "bin_start": 3.4,
            "bin_end": 3.5,
            "count": 0
           }
          ]
         }
        },
        {
         "name": "grade",
         "dtype": "int64",
         "stats": {
          "unique_count": 2,
          "nan_count": 0,
          "min": "7",
          "max": "8",
          "histogram": [
           {
            "bin_start": 7,
            "bin_end": 7.1,
            "count": 2
           },
           {
            "bin_start": 7.1,
            "bin_end": 7.2,
            "count": 0
           },
           {
            "bin_start": 7.2,
            "bin_end": 7.3,
            "count": 0
           },
           {
            "bin_start": 7.3,
            "bin_end": 7.4,
            "count": 0
           },
           {
            "bin_start": 7.4,
            "bin_end": 7.5,
            "count": 0
           },
           {
            "bin_start": 7.5,
            "bin_end": 7.6,
            "count": 0
           },
           {
            "bin_start": 7.6,
            "bin_end": 7.7,
            "count": 0
           },
           {
            "bin_start": 7.7,
            "bin_end": 7.8,
            "count": 0
           },
           {
            "bin_start": 7.8,
            "bin_end": 7.9,
            "count": 0
           },
           {
            "bin_start": 7.9,
            "bin_end": 8,
            "count": 1
           }
          ]
         }
        },
        {
         "name": "sqft_above",
         "dtype": "int64",
         "stats": {
          "unique_count": 2,
          "nan_count": 0,
          "min": "1020",
          "max": "1600",
          "histogram": [
           {
            "bin_start": 1020,
            "bin_end": 1078,
            "count": 2
           },
           {
            "bin_start": 1078,
            "bin_end": 1136,
            "count": 0
           },
           {
            "bin_start": 1136,
            "bin_end": 1194,
            "count": 0
           },
           {
            "bin_start": 1194,
            "bin_end": 1252,
            "count": 0
           },
           {
            "bin_start": 1252,
            "bin_end": 1310,
            "count": 0
           },
           {
            "bin_start": 1310,
            "bin_end": 1368,
            "count": 0
           },
           {
            "bin_start": 1368,
            "bin_end": 1426,
            "count": 0
           },
           {
            "bin_start": 1426,
            "bin_end": 1484,
            "count": 0
           },
           {
            "bin_start": 1484,
            "bin_end": 1542,
            "count": 0
           },
           {
            "bin_start": 1542,
            "bin_end": 1600,
            "count": 1
           }
          ]
         }
        },
        {
         "name": "sqft_basement",
         "dtype": "int64",
         "stats": {
          "unique_count": 1,
          "nan_count": 0,
          "min": "0",
          "max": "0",
          "histogram": [
           {
            "bin_start": -0.5,
            "bin_end": -0.4,
            "count": 0
           },
           {
            "bin_start": -0.4,
            "bin_end": -0.3,
            "count": 0
           },
           {
            "bin_start": -0.3,
            "bin_end": -0.19999999999999996,
            "count": 0
           },
           {
            "bin_start": -0.19999999999999996,
            "bin_end": -0.09999999999999998,
            "count": 0
           },
           {
            "bin_start": -0.09999999999999998,
            "bin_end": 0,
            "count": 0
           },
           {
            "bin_start": 0,
            "bin_end": 0.10000000000000009,
            "count": 3
           },
           {
            "bin_start": 0.10000000000000009,
            "bin_end": 0.20000000000000007,
            "count": 0
           },
           {
            "bin_start": 0.20000000000000007,
            "bin_end": 0.30000000000000004,
            "count": 0
           },
           {
            "bin_start": 0.30000000000000004,
            "bin_end": 0.4,
            "count": 0
           },
           {
            "bin_start": 0.4,
            "bin_end": 0.5,
            "count": 0
           }
          ]
         }
        },
        {
         "name": "yr_built",
         "dtype": "int64",
         "stats": {
          "unique_count": 3,
          "nan_count": 0,
          "min": "2004",
          "max": "2009",
          "histogram": [
           {
            "bin_start": 2004,
            "bin_end": 2004.5,
            "count": 1
           },
           {
            "bin_start": 2004.5,
            "bin_end": 2005,
            "count": 0
           },
           {
            "bin_start": 2005,
            "bin_end": 2005.5,
            "count": 0
           },
           {
            "bin_start": 2005.5,
            "bin_end": 2006,
            "count": 0
           },
           {
            "bin_start": 2006,
            "bin_end": 2006.5,
            "count": 0
           },
           {
            "bin_start": 2006.5,
            "bin_end": 2007,
            "count": 0
           },
           {
            "bin_start": 2007,
            "bin_end": 2007.5,
            "count": 0
           },
           {
            "bin_start": 2007.5,
            "bin_end": 2008,
            "count": 0
           },
           {
            "bin_start": 2008,
            "bin_end": 2008.5,
            "count": 1
           },
           {
            "bin_start": 2008.5,
            "bin_end": 2009,
            "count": 1
           }
          ]
         }
        },
        {
         "name": "yr_renovated",
         "dtype": "int64",
         "stats": {
          "unique_count": 1,
          "nan_count": 0,
          "min": "0",
          "max": "0",
          "histogram": [
           {
            "bin_start": -0.5,
            "bin_end": -0.4,
            "count": 0
           },
           {
            "bin_start": -0.4,
            "bin_end": -0.3,
            "count": 0
           },
           {
            "bin_start": -0.3,
            "bin_end": -0.19999999999999996,
            "count": 0
           },
           {
            "bin_start": -0.19999999999999996,
            "bin_end": -0.09999999999999998,
            "count": 0
           },
           {
            "bin_start": -0.09999999999999998,
            "bin_end": 0,
            "count": 0
           },
           {
            "bin_start": 0,
            "bin_end": 0.10000000000000009,
            "count": 3
           },
           {
            "bin_start": 0.10000000000000009,
            "bin_end": 0.20000000000000007,
            "count": 0
           },
           {
            "bin_start": 0.20000000000000007,
            "bin_end": 0.30000000000000004,
            "count": 0
           },
           {
            "bin_start": 0.30000000000000004,
            "bin_end": 0.4,
            "count": 0
           },
           {
            "bin_start": 0.4,
            "bin_end": 0.5,
            "count": 0
           }
          ]
         }
        },
        {
         "name": "zipcode",
         "dtype": "int64",
         "stats": {
          "unique_count": 2,
          "nan_count": 0,
          "min": "98027",
          "max": "98144",
          "histogram": [
           {
            "bin_start": 98027,
            "bin_end": 98038.7,
            "count": 1
           },
           {
            "bin_start": 98038.7,
            "bin_end": 98050.4,
            "count": 0
           },
           {
            "bin_start": 98050.4,
            "bin_end": 98062.1,
            "count": 0
           },
           {
            "bin_start": 98062.1,
            "bin_end": 98073.8,
            "count": 0
           },
           {
            "bin_start": 98073.8,
            "bin_end": 98085.5,
            "count": 0
           },
           {
            "bin_start": 98085.5,
            "bin_end": 98097.2,
            "count": 0
           },
           {
            "bin_start": 98097.2,
            "bin_end": 98108.9,
            "count": 0
           },
           {
            "bin_start": 98108.9,
            "bin_end": 98120.6,
            "count": 0
           },
           {
            "bin_start": 98120.6,
            "bin_end": 98132.3,
            "count": 0
           },
           {
            "bin_start": 98132.3,
            "bin_end": 98144,
            "count": 2
           }
          ]
         }
        },
        {
         "name": "lat",
         "dtype": "float64",
         "stats": {
          "unique_count": 3,
          "nan_count": 0,
          "min": "47.5345",
          "max": "47.5944",
          "histogram": [
           {
            "bin_start": 47.5345,
            "bin_end": 47.54049,
            "count": 1
           },
           {
            "bin_start": 47.54049,
            "bin_end": 47.54648,
            "count": 0
           },
           {
            "bin_start": 47.54648,
            "bin_end": 47.55247,
            "count": 0
           },
           {
            "bin_start": 47.55247,
            "bin_end": 47.558460000000004,
            "count": 0
           },
           {
            "bin_start": 47.558460000000004,
            "bin_end": 47.56445,
            "count": 0
           },
           {
            "bin_start": 47.56445,
            "bin_end": 47.57044,
            "count": 0
           },
           {
            "bin_start": 47.57044,
            "bin_end": 47.57643,
            "count": 0
           },
           {
            "bin_start": 47.57643,
            "bin_end": 47.58242,
            "count": 0
           },
           {
            "bin_start": 47.58242,
            "bin_end": 47.58841,
            "count": 0
           },
           {
            "bin_start": 47.58841,
            "bin_end": 47.5944,
            "count": 2
           }
          ]
         }
        },
        {
         "name": "long",
         "dtype": "float64",
         "stats": {
          "unique_count": 2,
          "nan_count": 0,
          "min": "-122.299",
          "max": "-122.069",
          "histogram": [
           {
            "bin_start": -122.299,
            "bin_end": -122.27600000000001,
            "count": 2
           },
           {
            "bin_start": -122.27600000000001,
            "bin_end": -122.253,
            "count": 0
           },
           {
            "bin_start": -122.253,
            "bin_end": -122.23,
            "count": 0
           },
           {
            "bin_start": -122.23,
            "bin_end": -122.20700000000001,
            "count": 0
           },
           {
            "bin_start": -122.20700000000001,
            "bin_end": -122.184,
            "count": 0
           },
           {
            "bin_start": -122.184,
            "bin_end": -122.161,
            "count": 0
           },
           {
            "bin_start": -122.161,
            "bin_end": -122.138,
            "count": 0
           },
           {
            "bin_start": -122.138,
            "bin_end": -122.11500000000001,
            "count": 0
           },
           {
            "bin_start": -122.11500000000001,
            "bin_end": -122.092,
            "count": 0
           },
           {
            "bin_start": -122.092,
            "bin_end": -122.069,
            "count": 1
           }
          ]
         }
        },
        {
         "name": "sqft_living15",
         "dtype": "int64",
         "stats": {
          "unique_count": 2,
          "nan_count": 0,
          "min": "1020",
          "max": "1410",
          "histogram": [
           {
            "bin_start": 1020,
            "bin_end": 1059,
            "count": 2
           },
           {
            "bin_start": 1059,
            "bin_end": 1098,
            "count": 0
           },
           {
            "bin_start": 1098,
            "bin_end": 1137,
            "count": 0
           },
           {
            "bin_start": 1137,
            "bin_end": 1176,
            "count": 0
           },
           {
            "bin_start": 1176,
            "bin_end": 1215,
            "count": 0
           },
           {
            "bin_start": 1215,
            "bin_end": 1254,
            "count": 0
           },
           {
            "bin_start": 1254,
            "bin_end": 1293,
            "count": 0
           },
           {
            "bin_start": 1293,
            "bin_end": 1332,
            "count": 0
           },
           {
            "bin_start": 1332,
            "bin_end": 1371,
            "count": 0
           },
           {
            "bin_start": 1371,
            "bin_end": 1410,
            "count": 1
           }
          ]
         }
        },
        {
         "name": "sqft_lot15",
         "dtype": "int64",
         "stats": {
          "unique_count": 3,
          "nan_count": 0,
          "min": "1287",
          "max": "2007",
          "histogram": [
           {
            "bin_start": 1287,
            "bin_end": 1359,
            "count": 2
           },
           {
            "bin_start": 1359,
            "bin_end": 1431,
            "count": 0
           },
           {
            "bin_start": 1431,
            "bin_end": 1503,
            "count": 0
           },
           {
            "bin_start": 1503,
            "bin_end": 1575,
            "count": 0
           },
           {
            "bin_start": 1575,
            "bin_end": 1647,
            "count": 0
           },
           {
            "bin_start": 1647,
            "bin_end": 1719,
            "count": 0
           },
           {
            "bin_start": 1719,
            "bin_end": 1791,
            "count": 0
           },
           {
            "bin_start": 1791,
            "bin_end": 1863,
            "count": 0
           },
           {
            "bin_start": 1863,
            "bin_end": 1935,
            "count": 0
           },
           {
            "bin_start": 1935,
            "bin_end": 2007,
            "count": 1
           }
          ]
         }
        },
        {
         "name": "_deepnote_index_column",
         "dtype": "int64"
        }
       ],
       "rows": [
        {
         "id": 1523300141,
         "date": "20140623T000000",
         "price": 402101,
         "bedrooms": 2,
         "bathrooms": 0.75,
         "sqft_living": 1020,
         "sqft_lot": 1350,
         "floors": 2,
         "waterfront": 0,
         "view": 0,
         "condition": 3,
         "grade": 7,
         "sqft_above": 1020,
         "sqft_basement": 0,
         "yr_built": 2009,
         "yr_renovated": 0,
         "zipcode": 98144,
         "lat": 47.5944,
         "long": -122.299,
         "sqft_living15": 1020,
         "sqft_lot15": 2007,
         "_deepnote_index_column": 21612
        },
        {
         "id": 291310100,
         "date": "20150116T000000",
         "price": 400000,
         "bedrooms": 3,
         "bathrooms": 2.5,
         "sqft_living": 1600,
         "sqft_lot": 2388,
         "floors": 2,
         "waterfront": 0,
         "view": 0,
         "condition": 3,
         "grade": 8,
         "sqft_above": 1600,
         "sqft_basement": 0,
         "yr_built": 2004,
         "yr_renovated": 0,
         "zipcode": 98027,
         "lat": 47.5345,
         "long": -122.069,
         "sqft_living15": 1410,
         "sqft_lot15": 1287,
         "_deepnote_index_column": 21613
        },
        {
         "id": 1523300157,
         "date": "20141015T000000",
         "price": 325000,
         "bedrooms": 2,
         "bathrooms": 0.75,
         "sqft_living": 1020,
         "sqft_lot": 1076,
         "floors": 2,
         "waterfront": 0,
         "view": 0,
         "condition": 3,
         "grade": 7,
         "sqft_above": 1020,
         "sqft_basement": 0,
         "yr_built": 2008,
         "yr_renovated": 0,
         "zipcode": 98144,
         "lat": 47.5941,
         "long": -122.299,
         "sqft_living15": 1020,
         "sqft_lot15": 1357,
         "_deepnote_index_column": 21614
        }
       ]
      },
      "text/plain": "               id             date     price  bedrooms  bathrooms  \\\n21612  1523300141  20140623T000000  402101.0         2       0.75   \n21613   291310100  20150116T000000  400000.0         3       2.50   \n21614  1523300157  20141015T000000  325000.0         2       0.75   \n\n       sqft_living  sqft_lot  floors  waterfront  view  ...  grade  \\\n21612         1020    1350.0     2.0           0     0  ...      7   \n21613         1600    2388.0     2.0           0     0  ...      8   \n21614         1020    1076.0     2.0           0     0  ...      7   \n\n       sqft_above  sqft_basement  yr_built  yr_renovated  zipcode      lat  \\\n21612        1020              0      2009             0    98144  47.5944   \n21613        1600              0      2004             0    98027  47.5345   \n21614        1020              0      2008             0    98144  47.5941   \n\n          long  sqft_living15  sqft_lot15  \n21612 -122.299           1020        2007  \n21613 -122.069           1410        1287  \n21614 -122.299           1020        1357  \n\n[3 rows x 21 columns]",
      "text/html": "<div>\n<style scoped>\n    .dataframe tbody tr th:only-of-type {\n        vertical-align: middle;\n    }\n\n    .dataframe tbody tr th {\n        vertical-align: top;\n    }\n\n    .dataframe thead th {\n        text-align: right;\n    }\n</style>\n<table border=\"1\" class=\"dataframe\">\n  <thead>\n    <tr style=\"text-align: right;\">\n      <th></th>\n      <th>id</th>\n      <th>date</th>\n      <th>price</th>\n      <th>bedrooms</th>\n      <th>bathrooms</th>\n      <th>sqft_living</th>\n      <th>sqft_lot</th>\n      <th>floors</th>\n      <th>waterfront</th>\n      <th>view</th>\n      <th>...</th>\n      <th>grade</th>\n      <th>sqft_above</th>\n      <th>sqft_basement</th>\n      <th>yr_built</th>\n      <th>yr_renovated</th>\n      <th>zipcode</th>\n      <th>lat</th>\n      <th>long</th>\n      <th>sqft_living15</th>\n      <th>sqft_lot15</th>\n    </tr>\n  </thead>\n  <tbody>\n    <tr>\n      <th>21612</th>\n      <td>1523300141</td>\n      <td>20140623T000000</td>\n      <td>402101.0</td>\n      <td>2</td>\n      <td>0.75</td>\n      <td>1020</td>\n      <td>1350.0</td>\n      <td>2.0</td>\n      <td>0</td>\n      <td>0</td>\n      <td>...</td>\n      <td>7</td>\n      <td>1020</td>\n      <td>0</td>\n      <td>2009</td>\n      <td>0</td>\n      <td>98144</td>\n      <td>47.5944</td>\n      <td>-122.299</td>\n      <td>1020</td>\n      <td>2007</td>\n    </tr>\n    <tr>\n      <th>21613</th>\n      <td>291310100</td>\n      <td>20150116T000000</td>\n      <td>400000.0</td>\n      <td>3</td>\n      <td>2.50</td>\n      <td>1600</td>\n      <td>2388.0</td>\n      <td>2.0</td>\n      <td>0</td>\n      <td>0</td>\n      <td>...</td>\n      <td>8</td>\n      <td>1600</td>\n      <td>0</td>\n      <td>2004</td>\n      <td>0</td>\n      <td>98027</td>\n      <td>47.5345</td>\n      <td>-122.069</td>\n      <td>1410</td>\n      <td>1287</td>\n    </tr>\n    <tr>\n      <th>21614</th>\n      <td>1523300157</td>\n      <td>20141015T000000</td>\n      <td>325000.0</td>\n      <td>2</td>\n      <td>0.75</td>\n      <td>1020</td>\n      <td>1076.0</td>\n      <td>2.0</td>\n      <td>0</td>\n      <td>0</td>\n      <td>...</td>\n      <td>7</td>\n      <td>1020</td>\n      <td>0</td>\n      <td>2008</td>\n      <td>0</td>\n      <td>98144</td>\n      <td>47.5941</td>\n      <td>-122.299</td>\n      <td>1020</td>\n      <td>1357</td>\n    </tr>\n  </tbody>\n</table>\n<p>3 rows × 21 columns</p>\n</div>"
     },
     "metadata": {}
    }
   ],
   "execution_count": null
  },
  {
   "cell_type": "markdown",
   "source": "Obtengamos el resumen estadístico de los conjuntos de datos. \n\nSi el DataFrame contiene datos numéricos, la descripción contiene esta información para cada columna:",
   "metadata": {
    "cell_id": "00022-1347c225-897a-489b-987f-ad17d8a7c700",
    "deepnote_cell_type": "markdown"
   }
  },
  {
   "cell_type": "code",
   "metadata": {
    "cell_id": "00023-aa5d216f-092c-4bd2-9e50-6322dedc59f1",
    "deepnote_to_be_reexecuted": false,
    "source_hash": "f88152d9",
    "execution_start": 1646265107907,
    "execution_millis": 204,
    "deepnote_cell_type": "code"
   },
   "source": "df.describe()",
   "outputs": [
    {
     "output_type": "execute_result",
     "execution_count": 7,
     "data": {
      "application/vnd.deepnote.dataframe.v3+json": {
       "column_count": 20,
       "row_count": 8,
       "columns": [
        {
         "name": "id",
         "dtype": "float64",
         "stats": {
          "unique_count": 8,
          "nan_count": 0,
          "min": "21615.0",
          "max": "9900000190.0",
          "histogram": [
           {
            "bin_start": 21615,
            "bin_end": 990019472.5,
            "count": 2
           },
           {
            "bin_start": 990019472.5,
            "bin_end": 1980017330,
            "count": 0
           },
           {
            "bin_start": 1980017330,
            "bin_end": 2970015187.5,
            "count": 2
           },
           {
            "bin_start": 2970015187.5,
            "bin_end": 3960013045,
            "count": 1
           },
           {
            "bin_start": 3960013045,
            "bin_end": 4950010902.5,
            "count": 1
           },
           {
            "bin_start": 4950010902.5,
            "bin_end": 5940008760,
            "count": 0
           },
           {
            "bin_start": 5940008760,
            "bin_end": 6930006617.5,
            "count": 0
           },
           {
            "bin_start": 6930006617.5,
            "bin_end": 7920004475,
            "count": 1
           },
           {
            "bin_start": 7920004475,
            "bin_end": 8910002332.5,
            "count": 0
           },
           {
            "bin_start": 8910002332.5,
            "bin_end": 9900000190,
            "count": 1
           }
          ]
         }
        },
        {
         "name": "price",
         "dtype": "float64",
         "stats": {
          "unique_count": 8,
          "nan_count": 0,
          "min": "21615.0",
          "max": "7700000.0",
          "histogram": [
           {
            "bin_start": 21615,
            "bin_end": 789453.5,
            "count": 7
           },
           {
            "bin_start": 789453.5,
            "bin_end": 1557292,
            "count": 0
           },
           {
            "bin_start": 1557292,
            "bin_end": 2325130.5,
            "count": 0
           },
           {
            "bin_start": 2325130.5,
            "bin_end": 3092969,
            "count": 0
           },
           {
            "bin_start": 3092969,
            "bin_end": 3860807.5,
            "count": 0
           },
           {
            "bin_start": 3860807.5,
            "bin_end": 4628646,
            "count": 0
           },
           {
            "bin_start": 4628646,
            "bin_end": 5396484.5,
            "count": 0
           },
           {
            "bin_start": 5396484.5,
            "bin_end": 6164323,
            "count": 0
           },
           {
            "bin_start": 6164323,
            "bin_end": 6932161.5,
            "count": 0
           },
           {
            "bin_start": 6932161.5,
            "bin_end": 7700000,
            "count": 1
           }
          ]
         }
        },
        {
         "name": "bedrooms",
         "dtype": "float64",
         "stats": {
          "unique_count": 7,
          "nan_count": 0,
          "min": "0.0",
          "max": "21615.0",
          "histogram": [
           {
            "bin_start": 0,
            "bin_end": 2161.5,
            "count": 7
           },
           {
            "bin_start": 2161.5,
            "bin_end": 4323,
            "count": 0
           },
           {
            "bin_start": 4323,
            "bin_end": 6484.5,
            "count": 0
           },
           {
            "bin_start": 6484.5,
            "bin_end": 8646,
            "count": 0
           },
           {
            "bin_start": 8646,
            "bin_end": 10807.5,
            "count": 0
           },
           {
            "bin_start": 10807.5,
            "bin_end": 12969,
            "count": 0
           },
           {
            "bin_start": 12969,
            "bin_end": 15130.5,
            "count": 0
           },
           {
            "bin_start": 15130.5,
            "bin_end": 17292,
            "count": 0
           },
           {
            "bin_start": 17292,
            "bin_end": 19453.5,
            "count": 0
           },
           {
            "bin_start": 19453.5,
            "bin_end": 21615,
            "count": 1
           }
          ]
         }
        },
        {
         "name": "bathrooms",
         "dtype": "float64",
         "stats": {
          "unique_count": 8,
          "nan_count": 0,
          "min": "0.0",
          "max": "21615.0",
          "histogram": [
           {
            "bin_start": 0,
            "bin_end": 2161.5,
            "count": 7
           },
           {
            "bin_start": 2161.5,
            "bin_end": 4323,
            "count": 0
           },
           {
            "bin_start": 4323,
            "bin_end": 6484.5,
            "count": 0
           },
           {
            "bin_start": 6484.5,
            "bin_end": 8646,
            "count": 0
           },
           {
            "bin_start": 8646,
            "bin_end": 10807.5,
            "count": 0
           },
           {
            "bin_start": 10807.5,
            "bin_end": 12969,
            "count": 0
           },
           {
            "bin_start": 12969,
            "bin_end": 15130.5,
            "count": 0
           },
           {
            "bin_start": 15130.5,
            "bin_end": 17292,
            "count": 0
           },
           {
            "bin_start": 17292,
            "bin_end": 19453.5,
            "count": 0
           },
           {
            "bin_start": 19453.5,
            "bin_end": 21615,
            "count": 1
           }
          ]
         }
        },
        {
         "name": "sqft_living",
         "dtype": "float64",
         "stats": {
          "unique_count": 8,
          "nan_count": 0,
          "min": "290.0",
          "max": "21615.0",
          "histogram": [
           {
            "bin_start": 290,
            "bin_end": 2422.5,
            "count": 5
           },
           {
            "bin_start": 2422.5,
            "bin_end": 4555,
            "count": 1
           },
           {
            "bin_start": 4555,
            "bin_end": 6687.5,
            "count": 0
           },
           {
            "bin_start": 6687.5,
            "bin_end": 8820,
            "count": 0
           },
           {
            "bin_start": 8820,
            "bin_end": 10952.5,
            "count": 0
           },
           {
            "bin_start": 10952.5,
            "bin_end": 13085,
            "count": 0
           },
           {
            "bin_start": 13085,
            "bin_end": 15217.5,
            "count": 1
           },
           {
            "bin_start": 15217.5,
            "bin_end": 17350,
            "count": 0
           },
           {
            "bin_start": 17350,
            "bin_end": 19482.5,
            "count": 0
           },
           {
            "bin_start": 19482.5,
            "bin_end": 21615,
            "count": 1
           }
          ]
         }
        },
        {
         "name": "sqft_lot",
         "dtype": "float64",
         "stats": {
          "unique_count": 8,
          "nan_count": 0,
          "min": "520.0",
          "max": "1651359.0",
          "histogram": [
           {
            "bin_start": 520,
            "bin_end": 165603.9,
            "count": 7
           },
           {
            "bin_start": 165603.9,
            "bin_end": 330687.8,
            "count": 0
           },
           {
            "bin_start": 330687.8,
            "bin_end": 495771.69999999995,
            "count": 0
           },
           {
            "bin_start": 495771.69999999995,
            "bin_end": 660855.6,
            "count": 0
           },
           {
            "bin_start": 660855.6,
            "bin_end": 825939.5,
            "count": 0
           },
           {
            "bin_start": 825939.5,
            "bin_end": 991023.3999999999,
            "count": 0
           },
           {
            "bin_start": 991023.3999999999,
            "bin_end": 1156107.3,
            "count": 0
           },
           {
            "bin_start": 1156107.3,
            "bin_end": 1321191.2,
            "count": 0
           },
           {
            "bin_start": 1321191.2,
            "bin_end": 1486275.0999999999,
            "count": 0
           },
           {
            "bin_start": 1486275.0999999999,
            "bin_end": 1651359,
            "count": 1
           }
          ]
         }
        },
        {
         "name": "floors",
         "dtype": "float64",
         "stats": {
          "unique_count": 7,
          "nan_count": 0,
          "min": "0.5399848450927959",
          "max": "21615.0",
          "histogram": [
           {
            "bin_start": 0.5399848450927959,
            "bin_end": 2161.9859863605834,
            "count": 7
           },
           {
            "bin_start": 2161.9859863605834,
            "bin_end": 4323.431987876073,
            "count": 0
           },
           {
            "bin_start": 4323.431987876073,
            "bin_end": 6484.8779893915635,
            "count": 0
           },
           {
            "bin_start": 6484.8779893915635,
            "bin_end": 8646.323990907054,
            "count": 0
           },
           {
            "bin_start": 8646.323990907054,
            "bin_end": 10807.769992422545,
            "count": 0
           },
           {
            "bin_start": 10807.769992422545,
            "bin_end": 12969.215993938034,
            "count": 0
           },
           {
            "bin_start": 12969.215993938034,
            "bin_end": 15130.661995453525,
            "count": 0
           },
           {
            "bin_start": 15130.661995453525,
            "bin_end": 17292.107996969018,
            "count": 0
           },
           {
            "bin_start": 17292.107996969018,
            "bin_end": 19453.55399848451,
            "count": 0
           },
           {
            "bin_start": 19453.55399848451,
            "bin_end": 21615,
            "count": 1
           }
          ]
         }
        },
        {
         "name": "waterfront",
         "dtype": "float64",
         "stats": {
          "unique_count": 5,
          "nan_count": 0,
          "min": "0.0",
          "max": "21615.0",
          "histogram": [
           {
            "bin_start": 0,
            "bin_end": 2161.5,
            "count": 7
           },
           {
            "bin_start": 2161.5,
            "bin_end": 4323,
            "count": 0
           },
           {
            "bin_start": 4323,
            "bin_end": 6484.5,
            "count": 0
           },
           {
            "bin_start": 6484.5,
            "bin_end": 8646,
            "count": 0
           },
           {
            "bin_start": 8646,
            "bin_end": 10807.5,
            "count": 0
           },
           {
            "bin_start": 10807.5,
            "bin_end": 12969,
            "count": 0
           },
           {
            "bin_start": 12969,
            "bin_end": 15130.5,
            "count": 0
           },
           {
            "bin_start": 15130.5,
            "bin_end": 17292,
            "count": 0
           },
           {
            "bin_start": 17292,
            "bin_end": 19453.5,
            "count": 0
           },
           {
            "bin_start": 19453.5,
            "bin_end": 21615,
            "count": 1
           }
          ]
         }
        },
        {
         "name": "view",
         "dtype": "float64",
         "stats": {
          "unique_count": 5,
          "nan_count": 0,
          "min": "0.0",
          "max": "21615.0",
          "histogram": [
           {
            "bin_start": 0,
            "bin_end": 2161.5,
            "count": 7
           },
           {
            "bin_start": 2161.5,
            "bin_end": 4323,
            "count": 0
           },
           {
            "bin_start": 4323,
            "bin_end": 6484.5,
            "count": 0
           },
           {
            "bin_start": 6484.5,
            "bin_end": 8646,
            "count": 0
           },
           {
            "bin_start": 8646,
            "bin_end": 10807.5,
            "count": 0
           },
           {
            "bin_start": 10807.5,
            "bin_end": 12969,
            "count": 0
           },
           {
            "bin_start": 12969,
            "bin_end": 15130.5,
            "count": 0
           },
           {
            "bin_start": 15130.5,
            "bin_end": 17292,
            "count": 0
           },
           {
            "bin_start": 17292,
            "bin_end": 19453.5,
            "count": 0
           },
           {
            "bin_start": 19453.5,
            "bin_end": 21615,
            "count": 1
           }
          ]
         }
        },
        {
         "name": "condition",
         "dtype": "float64",
         "stats": {
          "unique_count": 7,
          "nan_count": 0,
          "min": "0.6508927760223256",
          "max": "21615.0",
          "histogram": [
           {
            "bin_start": 0.6508927760223256,
            "bin_end": 2162.0858034984203,
            "count": 7
           },
           {
            "bin_start": 2162.0858034984203,
            "bin_end": 4323.520714220818,
            "count": 0
           },
           {
            "bin_start": 4323.520714220818,
            "bin_end": 6484.955624943216,
            "count": 0
           },
           {
            "bin_start": 6484.955624943216,
            "bin_end": 8646.390535665614,
            "count": 0
           },
           {
            "bin_start": 8646.390535665614,
            "bin_end": 10807.825446388011,
            "count": 0
           },
           {
            "bin_start": 10807.825446388011,
            "bin_end": 12969.26035711041,
            "count": 0
           },
           {
            "bin_start": 12969.26035711041,
            "bin_end": 15130.695267832809,
            "count": 0
           },
           {
            "bin_start": 15130.695267832809,
            "bin_end": 17292.130178555206,
            "count": 0
           },
           {
            "bin_start": 17292.130178555206,
            "bin_end": 19453.565089277603,
            "count": 0
           },
           {
            "bin_start": 19453.565089277603,
            "bin_end": 21615,
            "count": 1
           }
          ]
         }
        },
        {
         "name": "grade",
         "dtype": "float64",
         "stats": {
          "unique_count": 7,
          "nan_count": 0,
          "min": "1.0",
          "max": "21615.0",
          "histogram": [
           {
            "bin_start": 1,
            "bin_end": 2162.4,
            "count": 7
           },
           {
            "bin_start": 2162.4,
            "bin_end": 4323.8,
            "count": 0
           },
           {
            "bin_start": 4323.8,
            "bin_end": 6485.200000000001,
            "count": 0
           },
           {
            "bin_start": 6485.200000000001,
            "bin_end": 8646.6,
            "count": 0
           },
           {
            "bin_start": 8646.6,
            "bin_end": 10808,
            "count": 0
           },
           {
            "bin_start": 10808,
            "bin_end": 12969.400000000001,
            "count": 0
           },
           {
            "bin_start": 12969.400000000001,
            "bin_end": 15130.800000000001,
            "count": 0
           },
           {
            "bin_start": 15130.800000000001,
            "bin_end": 17292.2,
            "count": 0
           },
           {
            "bin_start": 17292.2,
            "bin_end": 19453.600000000002,
            "count": 0
           },
           {
            "bin_start": 19453.600000000002,
            "bin_end": 21615,
            "count": 1
           }
          ]
         }
        },
        {
         "name": "sqft_above",
         "dtype": "float64",
         "stats": {
          "unique_count": 8,
          "nan_count": 0,
          "min": "290.0",
          "max": "21615.0",
          "histogram": [
           {
            "bin_start": 290,
            "bin_end": 2422.5,
            "count": 6
           },
           {
            "bin_start": 2422.5,
            "bin_end": 4555,
            "count": 0
           },
           {
            "bin_start": 4555,
            "bin_end": 6687.5,
            "count": 0
           },
           {
            "bin_start": 6687.5,
            "bin_end": 8820,
            "count": 0
           },
           {
            "bin_start": 8820,
            "bin_end": 10952.5,
            "count": 1
           },
           {
            "bin_start": 10952.5,
            "bin_end": 13085,
            "count": 0
           },
           {
            "bin_start": 13085,
            "bin_end": 15217.5,
            "count": 0
           },
           {
            "bin_start": 15217.5,
            "bin_end": 17350,
            "count": 0
           },
           {
            "bin_start": 17350,
            "bin_end": 19482.5,
            "count": 0
           },
           {
            "bin_start": 19482.5,
            "bin_end": 21615,
            "count": 1
           }
          ]
         }
        },
        {
         "name": "sqft_basement",
         "dtype": "float64",
         "stats": {
          "unique_count": 6,
          "nan_count": 0,
          "min": "0.0",
          "max": "21615.0",
          "histogram": [
           {
            "bin_start": 0,
            "bin_end": 2161.5,
            "count": 6
           },
           {
            "bin_start": 2161.5,
            "bin_end": 4323,
            "count": 0
           },
           {
            "bin_start": 4323,
            "bin_end": 6484.5,
            "count": 1
           },
           {
            "bin_start": 6484.5,
            "bin_end": 8646,
            "count": 0
           },
           {
            "bin_start": 8646,
            "bin_end": 10807.5,
            "count": 0
           },
           {
            "bin_start": 10807.5,
            "bin_end": 12969,
            "count": 0
           },
           {
            "bin_start": 12969,
            "bin_end": 15130.5,
            "count": 0
           },
           {
            "bin_start": 15130.5,
            "bin_end": 17292,
            "count": 0
           },
           {
            "bin_start": 17292,
            "bin_end": 19453.5,
            "count": 0
           },
           {
            "bin_start": 19453.5,
            "bin_end": 21615,
            "count": 1
           }
          ]
         }
        },
        {
         "name": "yr_built",
         "dtype": "float64",
         "stats": {
          "unique_count": 8,
          "nan_count": 0,
          "min": "29.37217920369793",
          "max": "21615.0",
          "histogram": [
           {
            "bin_start": 29.37217920369793,
            "bin_end": 2187.934961283328,
            "count": 7
           },
           {
            "bin_start": 2187.934961283328,
            "bin_end": 4346.497743362957,
            "count": 0
           },
           {
            "bin_start": 4346.497743362957,
            "bin_end": 6505.060525442587,
            "count": 0
           },
           {
            "bin_start": 6505.060525442587,
            "bin_end": 8663.623307522217,
            "count": 0
           },
           {
            "bin_start": 8663.623307522217,
            "bin_end": 10822.186089601846,
            "count": 0
           },
           {
            "bin_start": 10822.186089601846,
            "bin_end": 12980.748871681477,
            "count": 0
           },
           {
            "bin_start": 12980.748871681477,
            "bin_end": 15139.311653761108,
            "count": 0
           },
           {
            "bin_start": 15139.311653761108,
            "bin_end": 17297.87443584074,
            "count": 0
           },
           {
            "bin_start": 17297.87443584074,
            "bin_end": 19456.437217920367,
            "count": 0
           },
           {
            "bin_start": 19456.437217920367,
            "bin_end": 21615,
            "count": 1
           }
          ]
         }
        },
        {
         "name": "yr_renovated",
         "dtype": "float64",
         "stats": {
          "unique_count": 5,
          "nan_count": 0,
          "min": "0.0",
          "max": "21615.0",
          "histogram": [
           {
            "bin_start": 0,
            "bin_end": 2161.5,
            "count": 7
           },
           {
            "bin_start": 2161.5,
            "bin_end": 4323,
            "count": 0
           },
           {
            "bin_start": 4323,
            "bin_end": 6484.5,
            "count": 0
           },
           {
            "bin_start": 6484.5,
            "bin_end": 8646,
            "count": 0
           },
           {
            "bin_start": 8646,
            "bin_end": 10807.5,
            "count": 0
           },
           {
            "bin_start": 10807.5,
            "bin_end": 12969,
            "count": 0
           },
           {
            "bin_start": 12969,
            "bin_end": 15130.5,
            "count": 0
           },
           {
            "bin_start": 15130.5,
            "bin_end": 17292,
            "count": 0
           },
           {
            "bin_start": 17292,
            "bin_end": 19453.5,
            "count": 0
           },
           {
            "bin_start": 19453.5,
            "bin_end": 21615,
            "count": 1
           }
          ]
         }
        },
        {
         "name": "zipcode",
         "dtype": "float64",
         "stats": {
          "unique_count": 8,
          "nan_count": 0,
          "min": "53.503930012891466",
          "max": "98199.0",
          "histogram": [
           {
            "bin_start": 53.503930012891466,
            "bin_end": 9868.053537011603,
            "count": 1
           },
           {
            "bin_start": 9868.053537011603,
            "bin_end": 19682.603144010314,
            "count": 0
           },
           {
            "bin_start": 19682.603144010314,
            "bin_end": 29497.152751009024,
            "count": 1
           },
           {
            "bin_start": 29497.152751009024,
            "bin_end": 39311.70235800774,
            "count": 0
           },
           {
            "bin_start": 39311.70235800774,
            "bin_end": 49126.25196500645,
            "count": 0
           },
           {
            "bin_start": 49126.25196500645,
            "bin_end": 58940.801572005155,
            "count": 0
           },
           {
            "bin_start": 58940.801572005155,
            "bin_end": 68755.35117900386,
            "count": 0
           },
           {
            "bin_start": 68755.35117900386,
            "bin_end": 78569.90078600257,
            "count": 0
           },
           {
            "bin_start": 78569.90078600257,
            "bin_end": 88384.45039300129,
            "count": 0
           },
           {
            "bin_start": 88384.45039300129,
            "bin_end": 98199,
            "count": 6
           }
          ]
         }
        },
        {
         "name": "lat",
         "dtype": "float64",
         "stats": {
          "unique_count": 8,
          "nan_count": 0,
          "min": "0.1385647267988466",
          "max": "21615.0",
          "histogram": [
           {
            "bin_start": 0.1385647267988466,
            "bin_end": 2161.624708254119,
            "count": 7
           },
           {
            "bin_start": 2161.624708254119,
            "bin_end": 4323.110851781439,
            "count": 0
           },
           {
            "bin_start": 4323.110851781439,
            "bin_end": 6484.59699530876,
            "count": 0
           },
           {
            "bin_start": 6484.59699530876,
            "bin_end": 8646.083138836078,
            "count": 0
           },
           {
            "bin_start": 8646.083138836078,
            "bin_end": 10807.569282363398,
            "count": 0
           },
           {
            "bin_start": 10807.569282363398,
            "bin_end": 12969.05542589072,
            "count": 0
           },
           {
            "bin_start": 12969.05542589072,
            "bin_end": 15130.54156941804,
            "count": 0
           },
           {
            "bin_start": 15130.54156941804,
            "bin_end": 17292.02771294536,
            "count": 0
           },
           {
            "bin_start": 17292.02771294536,
            "bin_end": 19453.51385647268,
            "count": 0
           },
           {
            "bin_start": 19453.51385647268,
            "bin_end": 21615,
            "count": 1
           }
          ]
         }
        },
        {
         "name": "long",
         "dtype": "float64",
         "stats": {
          "unique_count": 8,
          "nan_count": 0,
          "min": "-122.519",
          "max": "21615.0",
          "histogram": [
           {
            "bin_start": -122.519,
            "bin_end": 2051.2329,
            "count": 7
           },
           {
            "bin_start": 2051.2329,
            "bin_end": 4224.9848,
            "count": 0
           },
           {
            "bin_start": 4224.9848,
            "bin_end": 6398.7367,
            "count": 0
           },
           {
            "bin_start": 6398.7367,
            "bin_end": 8572.4886,
            "count": 0
           },
           {
            "bin_start": 8572.4886,
            "bin_end": 10746.2405,
            "count": 0
           },
           {
            "bin_start": 10746.2405,
            "bin_end": 12919.992400000001,
            "count": 0
           },
           {
            "bin_start": 12919.992400000001,
            "bin_end": 15093.744300000002,
            "count": 0
           },
           {
            "bin_start": 15093.744300000002,
            "bin_end": 17267.4962,
            "count": 0
           },
           {
            "bin_start": 17267.4962,
            "bin_end": 19441.2481,
            "count": 0
           },
           {
            "bin_start": 19441.2481,
            "bin_end": 21615,
            "count": 1
           }
          ]
         }
        },
        {
         "name": "sqft_living15",
         "dtype": "float64",
         "stats": {
          "unique_count": 8,
          "nan_count": 0,
          "min": "399.0",
          "max": "21615.0",
          "histogram": [
           {
            "bin_start": 399,
            "bin_end": 2520.6,
            "count": 6
           },
           {
            "bin_start": 2520.6,
            "bin_end": 4642.2,
            "count": 0
           },
           {
            "bin_start": 4642.2,
            "bin_end": 6763.799999999999,
            "count": 1
           },
           {
            "bin_start": 6763.799999999999,
            "bin_end": 8885.4,
            "count": 0
           },
           {
            "bin_start": 8885.4,
            "bin_end": 11007,
            "count": 0
           },
           {
            "bin_start": 11007,
            "bin_end": 13128.599999999999,
            "count": 0
           },
           {
            "bin_start": 13128.599999999999,
            "bin_end": 15250.199999999999,
            "count": 0
           },
           {
            "bin_start": 15250.199999999999,
            "bin_end": 17371.8,
            "count": 0
           },
           {
            "bin_start": 17371.8,
            "bin_end": 19493.399999999998,
            "count": 0
           },
           {
            "bin_start": 19493.399999999998,
            "bin_end": 21615,
            "count": 1
           }
          ]
         }
        },
        {
         "name": "sqft_lot15",
         "dtype": "float64",
         "stats": {
          "unique_count": 8,
          "nan_count": 0,
          "min": "651.0",
          "max": "871200.0",
          "histogram": [
           {
            "bin_start": 651,
            "bin_end": 87705.9,
            "count": 7
           },
           {
            "bin_start": 87705.9,
            "bin_end": 174760.8,
            "count": 0
           },
           {
            "bin_start": 174760.8,
            "bin_end": 261815.69999999998,
            "count": 0
           },
           {
            "bin_start": 261815.69999999998,
            "bin_end": 348870.6,
            "count": 0
           },
           {
            "bin_start": 348870.6,
            "bin_end": 435925.5,
            "count": 0
           },
           {
            "bin_start": 435925.5,
            "bin_end": 522980.39999999997,
            "count": 0
           },
           {
            "bin_start": 522980.39999999997,
            "bin_end": 610035.2999999999,
            "count": 0
           },
           {
            "bin_start": 610035.2999999999,
            "bin_end": 697090.2,
            "count": 0
           },
           {
            "bin_start": 697090.2,
            "bin_end": 784145.1,
            "count": 0
           },
           {
            "bin_start": 784145.1,
            "bin_end": 871200,
            "count": 1
           }
          ]
         }
        },
        {
         "name": "_deepnote_index_column",
         "dtype": "object"
        }
       ],
       "rows": [
        {
         "id": 21615,
         "price": 21615,
         "bedrooms": 21615,
         "bathrooms": 21615,
         "sqft_living": 21615,
         "sqft_lot": 21614,
         "floors": 21615,
         "waterfront": 21615,
         "view": 21615,
         "condition": 21615,
         "grade": 21615,
         "sqft_above": 21615,
         "sqft_basement": 21615,
         "yr_built": 21615,
         "yr_renovated": 21615,
         "zipcode": 21615,
         "lat": 21615,
         "long": 21615,
         "sqft_living15": 21615,
         "sqft_lot15": 21615,
         "_deepnote_index_column": "count"
        },
        {
         "id": 4579944525.96174,
         "price": 540067.2222068008,
         "bedrooms": 3.3708073097386073,
         "bathrooms": 2.1147235715938004,
         "sqft_living": 2079.874762896137,
         "sqft_lot": 15110.021143703156,
         "floors": 1.494263243118205,
         "waterfront": 0.007541059449456396,
         "view": 0.23428174878556557,
         "condition": 3.4095766828591256,
         "grade": 7.656812398797132,
         "sqft_above": 1788.3371732593107,
         "sqft_basement": 291.5375896368263,
         "yr_built": 1971.0059680777238,
         "yr_renovated": 84.3944482997918,
         "zipcode": 98077.93610918344,
         "lat": 47.56003871848254,
         "long": -122.21387272727273,
         "sqft_living15": 1986.5213509137172,
         "sqft_lot15": 12779.768864214666,
         "_deepnote_index_column": "mean"
        },
        {
         "id": 2876671881.696523,
         "price": 367116.6518649202,
         "bedrooms": 0.9300256404459901,
         "bathrooms": 0.7701355160137917,
         "sqft_living": 918.4020726150301,
         "sqft_lot": 41420.260215382135,
         "floors": 0.5399848450927959,
         "waterfront": 0.08651322521885874,
         "view": 0.7662854280719242,
         "condition": 0.6508927760223256,
         "grade": 1.17542135390865,
         "sqft_above": 828.0713538415006,
         "sqft_basement": 442.56451393713286,
         "yr_built": 29.37217920369793,
         "yr_renovated": 401.66147586301884,
         "zipcode": 53.503930012891466,
         "lat": 0.1385647267988466,
         "long": 0.14084333709280972,
         "sqft_living15": 685.3672385545826,
         "sqft_lot15": 27328.234763775494,
         "_deepnote_index_column": "std"
        },
        {
         "id": 1000102,
         "price": 75000,
         "bedrooms": 0,
         "bathrooms": 0,
         "sqft_living": 290,
         "sqft_lot": 520,
         "floors": 1,
         "waterfront": 0,
         "view": 0,
         "condition": 1,
         "grade": 1,
         "sqft_above": 290,
         "sqft_basement": 0,
         "yr_built": 1900,
         "yr_renovated": 0,
         "zipcode": 98001,
         "lat": 47.1559,
         "long": -122.519,
         "sqft_living15": 399,
         "sqft_lot15": 651,
         "_deepnote_index_column": "min"
        },
        {
         "id": 2123049158.5,
         "price": 321500,
         "bedrooms": 3,
         "bathrooms": 1.75,
         "sqft_living": 1428.5,
         "sqft_lot": 5040,
         "floors": 1,
         "waterfront": 0,
         "view": 0,
         "condition": 3,
         "grade": 7,
         "sqft_above": 1190,
         "sqft_basement": 0,
         "yr_built": 1951,
         "yr_renovated": 0,
         "zipcode": 98033,
         "lat": 47.47085,
         "long": -122.328,
         "sqft_living15": 1490,
         "sqft_lot15": 5100,
         "_deepnote_index_column": "25%"
        },
        {
         "id": 3904930240,
         "price": 450000,
         "bedrooms": 3,
         "bathrooms": 2.25,
         "sqft_living": 1910,
         "sqft_lot": 7620,
         "floors": 1.5,
         "waterfront": 0,
         "view": 0,
         "condition": 3,
         "grade": 7,
         "sqft_above": 1560,
         "sqft_basement": 0,
         "yr_built": 1975,
         "yr_renovated": 0,
         "zipcode": 98065,
         "lat": 47.5718,
         "long": -122.23,
         "sqft_living15": 1840,
         "sqft_lot15": 7620,
         "_deepnote_index_column": "50%"
        },
        {
         "id": 7308900272.5,
         "price": 645000,
         "bedrooms": 4,
         "bathrooms": 2.5,
         "sqft_living": 2550,
         "sqft_lot": 10693.5,
         "floors": 2,
         "waterfront": 0,
         "view": 0,
         "condition": 4,
         "grade": 8,
         "sqft_above": 2210,
         "sqft_basement": 560,
         "yr_built": 1997,
         "yr_renovated": 0,
         "zipcode": 98118,
         "lat": 47.678,
         "long": -122.125,
         "sqft_living15": 2360,
         "sqft_lot15": 10085,
         "_deepnote_index_column": "75%"
        },
        {
         "id": 9900000190,
         "price": 7700000,
         "bedrooms": 33,
         "bathrooms": 8,
         "sqft_living": 13540,
         "sqft_lot": 1651359,
         "floors": 3.5,
         "waterfront": 1,
         "view": 4,
         "condition": 5,
         "grade": 13,
         "sqft_above": 9410,
         "sqft_basement": 4820,
         "yr_built": 2015,
         "yr_renovated": 2015,
         "zipcode": 98199,
         "lat": 47.7776,
         "long": -121.315,
         "sqft_living15": 6210,
         "sqft_lot15": 871200,
         "_deepnote_index_column": "max"
        }
       ]
      },
      "text/plain": "                 id         price      bedrooms     bathrooms   sqft_living  \\\ncount  2.161500e+04  2.161500e+04  21615.000000  21615.000000  21615.000000   \nmean   4.579945e+09  5.400672e+05      3.370807      2.114724   2079.874763   \nstd    2.876672e+09  3.671167e+05      0.930026      0.770136    918.402073   \nmin    1.000102e+06  7.500000e+04      0.000000      0.000000    290.000000   \n25%    2.123049e+09  3.215000e+05      3.000000      1.750000   1428.500000   \n50%    3.904930e+09  4.500000e+05      3.000000      2.250000   1910.000000   \n75%    7.308900e+09  6.450000e+05      4.000000      2.500000   2550.000000   \nmax    9.900000e+09  7.700000e+06     33.000000      8.000000  13540.000000   \n\n           sqft_lot        floors    waterfront          view     condition  \\\ncount  2.161400e+04  21615.000000  21615.000000  21615.000000  21615.000000   \nmean   1.511002e+04      1.494263      0.007541      0.234282      3.409577   \nstd    4.142026e+04      0.539985      0.086513      0.766285      0.650893   \nmin    5.200000e+02      1.000000      0.000000      0.000000      1.000000   \n25%    5.040000e+03      1.000000      0.000000      0.000000      3.000000   \n50%    7.620000e+03      1.500000      0.000000      0.000000      3.000000   \n75%    1.069350e+04      2.000000      0.000000      0.000000      4.000000   \nmax    1.651359e+06      3.500000      1.000000      4.000000      5.000000   \n\n              grade    sqft_above  sqft_basement      yr_built  yr_renovated  \\\ncount  21615.000000  21615.000000   21615.000000  21615.000000  21615.000000   \nmean       7.656812   1788.337173     291.537590   1971.005968     84.394448   \nstd        1.175421    828.071354     442.564514     29.372179    401.661476   \nmin        1.000000    290.000000       0.000000   1900.000000      0.000000   \n25%        7.000000   1190.000000       0.000000   1951.000000      0.000000   \n50%        7.000000   1560.000000       0.000000   1975.000000      0.000000   \n75%        8.000000   2210.000000     560.000000   1997.000000      0.000000   \nmax       13.000000   9410.000000    4820.000000   2015.000000   2015.000000   \n\n            zipcode           lat          long  sqft_living15     sqft_lot15  \ncount  21615.000000  21615.000000  21615.000000   21615.000000   21615.000000  \nmean   98077.936109     47.560039   -122.213873    1986.521351   12779.768864  \nstd       53.503930      0.138565      0.140843     685.367239   27328.234764  \nmin    98001.000000     47.155900   -122.519000     399.000000     651.000000  \n25%    98033.000000     47.470850   -122.328000    1490.000000    5100.000000  \n50%    98065.000000     47.571800   -122.230000    1840.000000    7620.000000  \n75%    98118.000000     47.678000   -122.125000    2360.000000   10085.000000  \nmax    98199.000000     47.777600   -121.315000    6210.000000  871200.000000  ",
      "text/html": "<div>\n<style scoped>\n    .dataframe tbody tr th:only-of-type {\n        vertical-align: middle;\n    }\n\n    .dataframe tbody tr th {\n        vertical-align: top;\n    }\n\n    .dataframe thead th {\n        text-align: right;\n    }\n</style>\n<table border=\"1\" class=\"dataframe\">\n  <thead>\n    <tr style=\"text-align: right;\">\n      <th></th>\n      <th>id</th>\n      <th>price</th>\n      <th>bedrooms</th>\n      <th>bathrooms</th>\n      <th>sqft_living</th>\n      <th>sqft_lot</th>\n      <th>floors</th>\n      <th>waterfront</th>\n      <th>view</th>\n      <th>condition</th>\n      <th>grade</th>\n      <th>sqft_above</th>\n      <th>sqft_basement</th>\n      <th>yr_built</th>\n      <th>yr_renovated</th>\n      <th>zipcode</th>\n      <th>lat</th>\n      <th>long</th>\n      <th>sqft_living15</th>\n      <th>sqft_lot15</th>\n    </tr>\n  </thead>\n  <tbody>\n    <tr>\n      <th>count</th>\n      <td>2.161500e+04</td>\n      <td>2.161500e+04</td>\n      <td>21615.000000</td>\n      <td>21615.000000</td>\n      <td>21615.000000</td>\n      <td>2.161400e+04</td>\n      <td>21615.000000</td>\n      <td>21615.000000</td>\n      <td>21615.000000</td>\n      <td>21615.000000</td>\n      <td>21615.000000</td>\n      <td>21615.000000</td>\n      <td>21615.000000</td>\n      <td>21615.000000</td>\n      <td>21615.000000</td>\n      <td>21615.000000</td>\n      <td>21615.000000</td>\n      <td>21615.000000</td>\n      <td>21615.000000</td>\n      <td>21615.000000</td>\n    </tr>\n    <tr>\n      <th>mean</th>\n      <td>4.579945e+09</td>\n      <td>5.400672e+05</td>\n      <td>3.370807</td>\n      <td>2.114724</td>\n      <td>2079.874763</td>\n      <td>1.511002e+04</td>\n      <td>1.494263</td>\n      <td>0.007541</td>\n      <td>0.234282</td>\n      <td>3.409577</td>\n      <td>7.656812</td>\n      <td>1788.337173</td>\n      <td>291.537590</td>\n      <td>1971.005968</td>\n      <td>84.394448</td>\n      <td>98077.936109</td>\n      <td>47.560039</td>\n      <td>-122.213873</td>\n      <td>1986.521351</td>\n      <td>12779.768864</td>\n    </tr>\n    <tr>\n      <th>std</th>\n      <td>2.876672e+09</td>\n      <td>3.671167e+05</td>\n      <td>0.930026</td>\n      <td>0.770136</td>\n      <td>918.402073</td>\n      <td>4.142026e+04</td>\n      <td>0.539985</td>\n      <td>0.086513</td>\n      <td>0.766285</td>\n      <td>0.650893</td>\n      <td>1.175421</td>\n      <td>828.071354</td>\n      <td>442.564514</td>\n      <td>29.372179</td>\n      <td>401.661476</td>\n      <td>53.503930</td>\n      <td>0.138565</td>\n      <td>0.140843</td>\n      <td>685.367239</td>\n      <td>27328.234764</td>\n    </tr>\n    <tr>\n      <th>min</th>\n      <td>1.000102e+06</td>\n      <td>7.500000e+04</td>\n      <td>0.000000</td>\n      <td>0.000000</td>\n      <td>290.000000</td>\n      <td>5.200000e+02</td>\n      <td>1.000000</td>\n      <td>0.000000</td>\n      <td>0.000000</td>\n      <td>1.000000</td>\n      <td>1.000000</td>\n      <td>290.000000</td>\n      <td>0.000000</td>\n      <td>1900.000000</td>\n      <td>0.000000</td>\n      <td>98001.000000</td>\n      <td>47.155900</td>\n      <td>-122.519000</td>\n      <td>399.000000</td>\n      <td>651.000000</td>\n    </tr>\n    <tr>\n      <th>25%</th>\n      <td>2.123049e+09</td>\n      <td>3.215000e+05</td>\n      <td>3.000000</td>\n      <td>1.750000</td>\n      <td>1428.500000</td>\n      <td>5.040000e+03</td>\n      <td>1.000000</td>\n      <td>0.000000</td>\n      <td>0.000000</td>\n      <td>3.000000</td>\n      <td>7.000000</td>\n      <td>1190.000000</td>\n      <td>0.000000</td>\n      <td>1951.000000</td>\n      <td>0.000000</td>\n      <td>98033.000000</td>\n      <td>47.470850</td>\n      <td>-122.328000</td>\n      <td>1490.000000</td>\n      <td>5100.000000</td>\n    </tr>\n    <tr>\n      <th>50%</th>\n      <td>3.904930e+09</td>\n      <td>4.500000e+05</td>\n      <td>3.000000</td>\n      <td>2.250000</td>\n      <td>1910.000000</td>\n      <td>7.620000e+03</td>\n      <td>1.500000</td>\n      <td>0.000000</td>\n      <td>0.000000</td>\n      <td>3.000000</td>\n      <td>7.000000</td>\n      <td>1560.000000</td>\n      <td>0.000000</td>\n      <td>1975.000000</td>\n      <td>0.000000</td>\n      <td>98065.000000</td>\n      <td>47.571800</td>\n      <td>-122.230000</td>\n      <td>1840.000000</td>\n      <td>7620.000000</td>\n    </tr>\n    <tr>\n      <th>75%</th>\n      <td>7.308900e+09</td>\n      <td>6.450000e+05</td>\n      <td>4.000000</td>\n      <td>2.500000</td>\n      <td>2550.000000</td>\n      <td>1.069350e+04</td>\n      <td>2.000000</td>\n      <td>0.000000</td>\n      <td>0.000000</td>\n      <td>4.000000</td>\n      <td>8.000000</td>\n      <td>2210.000000</td>\n      <td>560.000000</td>\n      <td>1997.000000</td>\n      <td>0.000000</td>\n      <td>98118.000000</td>\n      <td>47.678000</td>\n      <td>-122.125000</td>\n      <td>2360.000000</td>\n      <td>10085.000000</td>\n    </tr>\n    <tr>\n      <th>max</th>\n      <td>9.900000e+09</td>\n      <td>7.700000e+06</td>\n      <td>33.000000</td>\n      <td>8.000000</td>\n      <td>13540.000000</td>\n      <td>1.651359e+06</td>\n      <td>3.500000</td>\n      <td>1.000000</td>\n      <td>4.000000</td>\n      <td>5.000000</td>\n      <td>13.000000</td>\n      <td>9410.000000</td>\n      <td>4820.000000</td>\n      <td>2015.000000</td>\n      <td>2015.000000</td>\n      <td>98199.000000</td>\n      <td>47.777600</td>\n      <td>-121.315000</td>\n      <td>6210.000000</td>\n      <td>871200.000000</td>\n    </tr>\n  </tbody>\n</table>\n</div>"
     },
     "metadata": {}
    }
   ],
   "execution_count": null
  },
  {
   "cell_type": "markdown",
   "source": "Para entender mejor 'describir' vamos a descifrar la información que devolvió",
   "metadata": {
    "cell_id": "00024-2d434ae0-8ac8-40b0-aa3b-7a6ccbb02735",
    "deepnote_cell_type": "markdown"
   }
  },
  {
   "cell_type": "markdown",
   "source": "* count - el número de valores no vacíos\n* mean - El valor promedio (por ejemplo valor promedio del precio de la casa es 5.400881e+05 USD)  \n* std - La desviación estándar (por ejemplo deviacion del precio promedio de la casa es 3.671272e+05 USD)  \n* min - el valor mínimo.  (por ejemplo valor minimo del precio de la casa es 7.500000e+04 USD)\n* 25% - (percentil) eso significa por ejemplo que 25% de los precios son menores que 3.219500e+05  \n* 50% - (percentil) eso significa por ejemplo que 50% de los precios son menores que 4.500000e+05  \n* 75% - (percentil) eso significa por ejemplo que 75% de los precios son menores que 6.450000e+05  \n* max - el valor maximo. (por ejemplo valor maximo del precio de la casa es 7.700000e+06 USD)   ",
   "metadata": {
    "cell_id": "00025-c75e95da-c918-428e-a828-d85a7d323f8b",
    "deepnote_cell_type": "markdown"
   }
  },
  {
   "cell_type": "markdown",
   "source": "`df.describe()` permite rapdio ver que el número máximo de dormitorios es 33 - eso puede indicar un error en los datos.",
   "metadata": {
    "cell_id": "00026-798b37da-d2f3-45d2-8fe9-24948a82a821",
    "deepnote_cell_type": "markdown"
   }
  },
  {
   "cell_type": "markdown",
   "source": "Permite insecto todas las filas en las que la columna `dormitorios` tiene un valor mayor que 10",
   "metadata": {
    "cell_id": "00027-e9fd2c6e-3376-4ed0-8cab-43d110a1e10d",
    "deepnote_cell_type": "markdown"
   }
  },
  {
   "cell_type": "code",
   "metadata": {
    "cell_id": "00028-6c756ac8-5582-4d6a-8cfd-444af7a19c93",
    "deepnote_to_be_reexecuted": false,
    "source_hash": "e8006f72",
    "execution_start": 1646265111656,
    "execution_millis": 85,
    "deepnote_cell_type": "code"
   },
   "source": "df.loc[df['bedrooms']>10]",
   "outputs": [
    {
     "output_type": "execute_result",
     "execution_count": 8,
     "data": {
      "application/vnd.deepnote.dataframe.v3+json": {
       "column_count": 21,
       "row_count": 2,
       "columns": [
        {
         "name": "id",
         "dtype": "int64",
         "stats": {
          "unique_count": 2,
          "nan_count": 0,
          "min": "1773100755",
          "max": "2402100895",
          "histogram": [
           {
            "bin_start": 1773100755,
            "bin_end": 1836000769,
            "count": 1
           },
           {
            "bin_start": 1836000769,
            "bin_end": 1898900783,
            "count": 0
           },
           {
            "bin_start": 1898900783,
            "bin_end": 1961800797,
            "count": 0
           },
           {
            "bin_start": 1961800797,
            "bin_end": 2024700811,
            "count": 0
           },
           {
            "bin_start": 2024700811,
            "bin_end": 2087600825,
            "count": 0
           },
           {
            "bin_start": 2087600825,
            "bin_end": 2150500839,
            "count": 0
           },
           {
            "bin_start": 2150500839,
            "bin_end": 2213400853,
            "count": 0
           },
           {
            "bin_start": 2213400853,
            "bin_end": 2276300867,
            "count": 0
           },
           {
            "bin_start": 2276300867,
            "bin_end": 2339200881,
            "count": 0
           },
           {
            "bin_start": 2339200881,
            "bin_end": 2402100895,
            "count": 1
           }
          ]
         }
        },
        {
         "name": "date",
         "dtype": "object",
         "stats": {
          "unique_count": 2,
          "nan_count": 0,
          "categories": [
           {
            "name": "20140821T000000",
            "count": 1
           },
           {
            "name": "20140625T000000",
            "count": 1
           }
          ]
         }
        },
        {
         "name": "price",
         "dtype": "float64",
         "stats": {
          "unique_count": 2,
          "nan_count": 0,
          "min": "520000.0",
          "max": "640000.0",
          "histogram": [
           {
            "bin_start": 520000,
            "bin_end": 532000,
            "count": 1
           },
           {
            "bin_start": 532000,
            "bin_end": 544000,
            "count": 0
           },
           {
            "bin_start": 544000,
            "bin_end": 556000,
            "count": 0
           },
           {
            "bin_start": 556000,
            "bin_end": 568000,
            "count": 0
           },
           {
            "bin_start": 568000,
            "bin_end": 580000,
            "count": 0
           },
           {
            "bin_start": 580000,
            "bin_end": 592000,
            "count": 0
           },
           {
            "bin_start": 592000,
            "bin_end": 604000,
            "count": 0
           },
           {
            "bin_start": 604000,
            "bin_end": 616000,
            "count": 0
           },
           {
            "bin_start": 616000,
            "bin_end": 628000,
            "count": 0
           },
           {
            "bin_start": 628000,
            "bin_end": 640000,
            "count": 1
           }
          ]
         }
        },
        {
         "name": "bedrooms",
         "dtype": "int64",
         "stats": {
          "unique_count": 2,
          "nan_count": 0,
          "min": "11",
          "max": "33",
          "histogram": [
           {
            "bin_start": 11,
            "bin_end": 13.2,
            "count": 1
           },
           {
            "bin_start": 13.2,
            "bin_end": 15.4,
            "count": 0
           },
           {
            "bin_start": 15.4,
            "bin_end": 17.6,
            "count": 0
           },
           {
            "bin_start": 17.6,
            "bin_end": 19.8,
            "count": 0
           },
           {
            "bin_start": 19.8,
            "bin_end": 22,
            "count": 0
           },
           {
            "bin_start": 22,
            "bin_end": 24.200000000000003,
            "count": 0
           },
           {
            "bin_start": 24.200000000000003,
            "bin_end": 26.400000000000002,
            "count": 0
           },
           {
            "bin_start": 26.400000000000002,
            "bin_end": 28.6,
            "count": 0
           },
           {
            "bin_start": 28.6,
            "bin_end": 30.8,
            "count": 0
           },
           {
            "bin_start": 30.8,
            "bin_end": 33,
            "count": 1
           }
          ]
         }
        },
        {
         "name": "bathrooms",
         "dtype": "float64",
         "stats": {
          "unique_count": 2,
          "nan_count": 0,
          "min": "1.75",
          "max": "3.0",
          "histogram": [
           {
            "bin_start": 1.75,
            "bin_end": 1.875,
            "count": 1
           },
           {
            "bin_start": 1.875,
            "bin_end": 2,
            "count": 0
           },
           {
            "bin_start": 2,
            "bin_end": 2.125,
            "count": 0
           },
           {
            "bin_start": 2.125,
            "bin_end": 2.25,
            "count": 0
           },
           {
            "bin_start": 2.25,
            "bin_end": 2.375,
            "count": 0
           },
           {
            "bin_start": 2.375,
            "bin_end": 2.5,
            "count": 0
           },
           {
            "bin_start": 2.5,
            "bin_end": 2.625,
            "count": 0
           },
           {
            "bin_start": 2.625,
            "bin_end": 2.75,
            "count": 0
           },
           {
            "bin_start": 2.75,
            "bin_end": 2.875,
            "count": 0
           },
           {
            "bin_start": 2.875,
            "bin_end": 3,
            "count": 1
           }
          ]
         }
        },
        {
         "name": "sqft_living",
         "dtype": "int64",
         "stats": {
          "unique_count": 2,
          "nan_count": 0,
          "min": "1620",
          "max": "3000",
          "histogram": [
           {
            "bin_start": 1620,
            "bin_end": 1758,
            "count": 1
           },
           {
            "bin_start": 1758,
            "bin_end": 1896,
            "count": 0
           },
           {
            "bin_start": 1896,
            "bin_end": 2034,
            "count": 0
           },
           {
            "bin_start": 2034,
            "bin_end": 2172,
            "count": 0
           },
           {
            "bin_start": 2172,
            "bin_end": 2310,
            "count": 0
           },
           {
            "bin_start": 2310,
            "bin_end": 2448,
            "count": 0
           },
           {
            "bin_start": 2448,
            "bin_end": 2586,
            "count": 0
           },
           {
            "bin_start": 2586,
            "bin_end": 2724,
            "count": 0
           },
           {
            "bin_start": 2724,
            "bin_end": 2862,
            "count": 0
           },
           {
            "bin_start": 2862,
            "bin_end": 3000,
            "count": 1
           }
          ]
         }
        },
        {
         "name": "sqft_lot",
         "dtype": "float64",
         "stats": {
          "unique_count": 2,
          "nan_count": 0,
          "min": "4960.0",
          "max": "6000.0",
          "histogram": [
           {
            "bin_start": 4960,
            "bin_end": 5064,
            "count": 1
           },
           {
            "bin_start": 5064,
            "bin_end": 5168,
            "count": 0
           },
           {
            "bin_start": 5168,
            "bin_end": 5272,
            "count": 0
           },
           {
            "bin_start": 5272,
            "bin_end": 5376,
            "count": 0
           },
           {
            "bin_start": 5376,
            "bin_end": 5480,
            "count": 0
           },
           {
            "bin_start": 5480,
            "bin_end": 5584,
            "count": 0
           },
           {
            "bin_start": 5584,
            "bin_end": 5688,
            "count": 0
           },
           {
            "bin_start": 5688,
            "bin_end": 5792,
            "count": 0
           },
           {
            "bin_start": 5792,
            "bin_end": 5896,
            "count": 0
           },
           {
            "bin_start": 5896,
            "bin_end": 6000,
            "count": 1
           }
          ]
         }
        },
        {
         "name": "floors",
         "dtype": "float64",
         "stats": {
          "unique_count": 2,
          "nan_count": 0,
          "min": "1.0",
          "max": "2.0",
          "histogram": [
           {
            "bin_start": 1,
            "bin_end": 1.1,
            "count": 1
           },
           {
            "bin_start": 1.1,
            "bin_end": 1.2,
            "count": 0
           },
           {
            "bin_start": 1.2,
            "bin_end": 1.3,
            "count": 0
           },
           {
            "bin_start": 1.3,
            "bin_end": 1.4,
            "count": 0
           },
           {
            "bin_start": 1.4,
            "bin_end": 1.5,
            "count": 0
           },
           {
            "bin_start": 1.5,
            "bin_end": 1.6,
            "count": 0
           },
           {
            "bin_start": 1.6,
            "bin_end": 1.7000000000000002,
            "count": 0
           },
           {
            "bin_start": 1.7000000000000002,
            "bin_end": 1.8,
            "count": 0
           },
           {
            "bin_start": 1.8,
            "bin_end": 1.9,
            "count": 0
           },
           {
            "bin_start": 1.9,
            "bin_end": 2,
            "count": 1
           }
          ]
         }
        },
        {
         "name": "waterfront",
         "dtype": "int64",
         "stats": {
          "unique_count": 1,
          "nan_count": 0,
          "min": "0",
          "max": "0",
          "histogram": [
           {
            "bin_start": -0.5,
            "bin_end": -0.4,
            "count": 0
           },
           {
            "bin_start": -0.4,
            "bin_end": -0.3,
            "count": 0
           },
           {
            "bin_start": -0.3,
            "bin_end": -0.19999999999999996,
            "count": 0
           },
           {
            "bin_start": -0.19999999999999996,
            "bin_end": -0.09999999999999998,
            "count": 0
           },
           {
            "bin_start": -0.09999999999999998,
            "bin_end": 0,
            "count": 0
           },
           {
            "bin_start": 0,
            "bin_end": 0.10000000000000009,
            "count": 2
           },
           {
            "bin_start": 0.10000000000000009,
            "bin_end": 0.20000000000000007,
            "count": 0
           },
           {
            "bin_start": 0.20000000000000007,
            "bin_end": 0.30000000000000004,
            "count": 0
           },
           {
            "bin_start": 0.30000000000000004,
            "bin_end": 0.4,
            "count": 0
           },
           {
            "bin_start": 0.4,
            "bin_end": 0.5,
            "count": 0
           }
          ]
         }
        },
        {
         "name": "view",
         "dtype": "int64",
         "stats": {
          "unique_count": 1,
          "nan_count": 0,
          "min": "0",
          "max": "0",
          "histogram": [
           {
            "bin_start": -0.5,
            "bin_end": -0.4,
            "count": 0
           },
           {
            "bin_start": -0.4,
            "bin_end": -0.3,
            "count": 0
           },
           {
            "bin_start": -0.3,
            "bin_end": -0.19999999999999996,
            "count": 0
           },
           {
            "bin_start": -0.19999999999999996,
            "bin_end": -0.09999999999999998,
            "count": 0
           },
           {
            "bin_start": -0.09999999999999998,
            "bin_end": 0,
            "count": 0
           },
           {
            "bin_start": 0,
            "bin_end": 0.10000000000000009,
            "count": 2
           },
           {
            "bin_start": 0.10000000000000009,
            "bin_end": 0.20000000000000007,
            "count": 0
           },
           {
            "bin_start": 0.20000000000000007,
            "bin_end": 0.30000000000000004,
            "count": 0
           },
           {
            "bin_start": 0.30000000000000004,
            "bin_end": 0.4,
            "count": 0
           },
           {
            "bin_start": 0.4,
            "bin_end": 0.5,
            "count": 0
           }
          ]
         }
        },
        {
         "name": "condition",
         "dtype": "int64",
         "stats": {
          "unique_count": 2,
          "nan_count": 0,
          "min": "3",
          "max": "5",
          "histogram": [
           {
            "bin_start": 3,
            "bin_end": 3.2,
            "count": 1
           },
           {
            "bin_start": 3.2,
            "bin_end": 3.4,
            "count": 0
           },
           {
            "bin_start": 3.4,
            "bin_end": 3.6,
            "count": 0
           },
           {
            "bin_start": 3.6,
            "bin_end": 3.8,
            "count": 0
           },
           {
            "bin_start": 3.8,
            "bin_end": 4,
            "count": 0
           },
           {
            "bin_start": 4,
            "bin_end": 4.2,
            "count": 0
           },
           {
            "bin_start": 4.2,
            "bin_end": 4.4,
            "count": 0
           },
           {
            "bin_start": 4.4,
            "bin_end": 4.6,
            "count": 0
           },
           {
            "bin_start": 4.6,
            "bin_end": 4.8,
            "count": 0
           },
           {
            "bin_start": 4.8,
            "bin_end": 5,
            "count": 1
           }
          ]
         }
        },
        {
         "name": "grade",
         "dtype": "int64",
         "stats": {
          "unique_count": 1,
          "nan_count": 0,
          "min": "7",
          "max": "7",
          "histogram": [
           {
            "bin_start": 6.5,
            "bin_end": 6.6,
            "count": 0
           },
           {
            "bin_start": 6.6,
            "bin_end": 6.7,
            "count": 0
           },
           {
            "bin_start": 6.7,
            "bin_end": 6.8,
            "count": 0
           },
           {
            "bin_start": 6.8,
            "bin_end": 6.9,
            "count": 0
           },
           {
            "bin_start": 6.9,
            "bin_end": 7,
            "count": 0
           },
           {
            "bin_start": 7,
            "bin_end": 7.1,
            "count": 2
           },
           {
            "bin_start": 7.1,
            "bin_end": 7.2,
            "count": 0
           },
           {
            "bin_start": 7.2,
            "bin_end": 7.3,
            "count": 0
           },
           {
            "bin_start": 7.3,
            "bin_end": 7.4,
            "count": 0
           },
           {
            "bin_start": 7.4,
            "bin_end": 7.5,
            "count": 0
           }
          ]
         }
        },
        {
         "name": "sqft_above",
         "dtype": "int64",
         "stats": {
          "unique_count": 2,
          "nan_count": 0,
          "min": "1040",
          "max": "2400",
          "histogram": [
           {
            "bin_start": 1040,
            "bin_end": 1176,
            "count": 1
           },
           {
            "bin_start": 1176,
            "bin_end": 1312,
            "count": 0
           },
           {
            "bin_start": 1312,
            "bin_end": 1448,
            "count": 0
           },
           {
            "bin_start": 1448,
            "bin_end": 1584,
            "count": 0
           },
           {
            "bin_start": 1584,
            "bin_end": 1720,
            "count": 0
           },
           {
            "bin_start": 1720,
            "bin_end": 1856,
            "count": 0
           },
           {
            "bin_start": 1856,
            "bin_end": 1992,
            "count": 0
           },
           {
            "bin_start": 1992,
            "bin_end": 2128,
            "count": 0
           },
           {
            "bin_start": 2128,
            "bin_end": 2264,
            "count": 0
           },
           {
            "bin_start": 2264,
            "bin_end": 2400,
            "count": 1
           }
          ]
         }
        },
        {
         "name": "sqft_basement",
         "dtype": "int64",
         "stats": {
          "unique_count": 2,
          "nan_count": 0,
          "min": "580",
          "max": "600",
          "histogram": [
           {
            "bin_start": 580,
            "bin_end": 582,
            "count": 1
           },
           {
            "bin_start": 582,
            "bin_end": 584,
            "count": 0
           },
           {
            "bin_start": 584,
            "bin_end": 586,
            "count": 0
           },
           {
            "bin_start": 586,
            "bin_end": 588,
            "count": 0
           },
           {
            "bin_start": 588,
            "bin_end": 590,
            "count": 0
           },
           {
            "bin_start": 590,
            "bin_end": 592,
            "count": 0
           },
           {
            "bin_start": 592,
            "bin_end": 594,
            "count": 0
           },
           {
            "bin_start": 594,
            "bin_end": 596,
            "count": 0
           },
           {
            "bin_start": 596,
            "bin_end": 598,
            "count": 0
           },
           {
            "bin_start": 598,
            "bin_end": 600,
            "count": 1
           }
          ]
         }
        },
        {
         "name": "yr_built",
         "dtype": "int64",
         "stats": {
          "unique_count": 2,
          "nan_count": 0,
          "min": "1918",
          "max": "1947",
          "histogram": [
           {
            "bin_start": 1918,
            "bin_end": 1920.9,
            "count": 1
           },
           {
            "bin_start": 1920.9,
            "bin_end": 1923.8,
            "count": 0
           },
           {
            "bin_start": 1923.8,
            "bin_end": 1926.7,
            "count": 0
           },
           {
            "bin_start": 1926.7,
            "bin_end": 1929.6,
            "count": 0
           },
           {
            "bin_start": 1929.6,
            "bin_end": 1932.5,
            "count": 0
           },
           {
            "bin_start": 1932.5,
            "bin_end": 1935.4,
            "count": 0
           },
           {
            "bin_start": 1935.4,
            "bin_end": 1938.3,
            "count": 0
           },
           {
            "bin_start": 1938.3,
            "bin_end": 1941.2,
            "count": 0
           },
           {
            "bin_start": 1941.2,
            "bin_end": 1944.1,
            "count": 0
           },
           {
            "bin_start": 1944.1,
            "bin_end": 1947,
            "count": 1
           }
          ]
         }
        },
        {
         "name": "yr_renovated",
         "dtype": "int64",
         "stats": {
          "unique_count": 2,
          "nan_count": 0,
          "min": "0",
          "max": "1999",
          "histogram": [
           {
            "bin_start": 0,
            "bin_end": 199.9,
            "count": 1
           },
           {
            "bin_start": 199.9,
            "bin_end": 399.8,
            "count": 0
           },
           {
            "bin_start": 399.8,
            "bin_end": 599.7,
            "count": 0
           },
           {
            "bin_start": 599.7,
            "bin_end": 799.6,
            "count": 0
           },
           {
            "bin_start": 799.6,
            "bin_end": 999.5,
            "count": 0
           },
           {
            "bin_start": 999.5,
            "bin_end": 1199.4,
            "count": 0
           },
           {
            "bin_start": 1199.4,
            "bin_end": 1399.3,
            "count": 0
           },
           {
            "bin_start": 1399.3,
            "bin_end": 1599.2,
            "count": 0
           },
           {
            "bin_start": 1599.2,
            "bin_end": 1799.1000000000001,
            "count": 0
           },
           {
            "bin_start": 1799.1000000000001,
            "bin_end": 1999,
            "count": 1
           }
          ]
         }
        },
        {
         "name": "zipcode",
         "dtype": "int64",
         "stats": {
          "unique_count": 2,
          "nan_count": 0,
          "min": "98103",
          "max": "98106",
          "histogram": [
           {
            "bin_start": 98103,
            "bin_end": 98103.3,
            "count": 1
           },
           {
            "bin_start": 98103.3,
            "bin_end": 98103.6,
            "count": 0
           },
           {
            "bin_start": 98103.6,
            "bin_end": 98103.9,
            "count": 0
           },
           {
            "bin_start": 98103.9,
            "bin_end": 98104.2,
            "count": 0
           },
           {
            "bin_start": 98104.2,
            "bin_end": 98104.5,
            "count": 0
           },
           {
            "bin_start": 98104.5,
            "bin_end": 98104.8,
            "count": 0
           },
           {
            "bin_start": 98104.8,
            "bin_end": 98105.1,
            "count": 0
           },
           {
            "bin_start": 98105.1,
            "bin_end": 98105.4,
            "count": 0
           },
           {
            "bin_start": 98105.4,
            "bin_end": 98105.7,
            "count": 0
           },
           {
            "bin_start": 98105.7,
            "bin_end": 98106,
            "count": 1
           }
          ]
         }
        },
        {
         "name": "lat",
         "dtype": "float64",
         "stats": {
          "unique_count": 2,
          "nan_count": 0,
          "min": "47.556",
          "max": "47.6878",
          "histogram": [
           {
            "bin_start": 47.556,
            "bin_end": 47.569179999999996,
            "count": 1
           },
           {
            "bin_start": 47.569179999999996,
            "bin_end": 47.58236,
            "count": 0
           },
           {
            "bin_start": 47.58236,
            "bin_end": 47.59554,
            "count": 0
           },
           {
            "bin_start": 47.59554,
            "bin_end": 47.60872,
            "count": 0
           },
           {
            "bin_start": 47.60872,
            "bin_end": 47.6219,
            "count": 0
           },
           {
            "bin_start": 47.6219,
            "bin_end": 47.63508,
            "count": 0
           },
           {
            "bin_start": 47.63508,
            "bin_end": 47.64826,
            "count": 0
           },
           {
            "bin_start": 47.64826,
            "bin_end": 47.66144,
            "count": 0
           },
           {
            "bin_start": 47.66144,
            "bin_end": 47.674620000000004,
            "count": 0
           },
           {
            "bin_start": 47.674620000000004,
            "bin_end": 47.6878,
            "count": 1
           }
          ]
         }
        },
        {
         "name": "long",
         "dtype": "float64",
         "stats": {
          "unique_count": 2,
          "nan_count": 0,
          "min": "-122.363",
          "max": "-122.331",
          "histogram": [
           {
            "bin_start": -122.363,
            "bin_end": -122.3598,
            "count": 1
           },
           {
            "bin_start": -122.3598,
            "bin_end": -122.3566,
            "count": 0
           },
           {
            "bin_start": -122.3566,
            "bin_end": -122.3534,
            "count": 0
           },
           {
            "bin_start": -122.3534,
            "bin_end": -122.3502,
            "count": 0
           },
           {
            "bin_start": -122.3502,
            "bin_end": -122.34700000000001,
            "count": 0
           },
           {
            "bin_start": -122.34700000000001,
            "bin_end": -122.3438,
            "count": 0
           },
           {
            "bin_start": -122.3438,
            "bin_end": -122.3406,
            "count": 0
           },
           {
            "bin_start": -122.3406,
            "bin_end": -122.3374,
            "count": 0
           },
           {
            "bin_start": -122.3374,
            "bin_end": -122.33420000000001,
            "count": 0
           },
           {
            "bin_start": -122.33420000000001,
            "bin_end": -122.331,
            "count": 1
           }
          ]
         }
        },
        {
         "name": "sqft_living15",
         "dtype": "int64",
         "stats": {
          "unique_count": 2,
          "nan_count": 0,
          "min": "1330",
          "max": "1420",
          "histogram": [
           {
            "bin_start": 1330,
            "bin_end": 1339,
            "count": 1
           },
           {
            "bin_start": 1339,
            "bin_end": 1348,
            "count": 0
           },
           {
            "bin_start": 1348,
            "bin_end": 1357,
            "count": 0
           },
           {
            "bin_start": 1357,
            "bin_end": 1366,
            "count": 0
           },
           {
            "bin_start": 1366,
            "bin_end": 1375,
            "count": 0
           },
           {
            "bin_start": 1375,
            "bin_end": 1384,
            "count": 0
           },
           {
            "bin_start": 1384,
            "bin_end": 1393,
            "count": 0
           },
           {
            "bin_start": 1393,
            "bin_end": 1402,
            "count": 0
           },
           {
            "bin_start": 1402,
            "bin_end": 1411,
            "count": 0
           },
           {
            "bin_start": 1411,
            "bin_end": 1420,
            "count": 1
           }
          ]
         }
        },
        {
         "name": "sqft_lot15",
         "dtype": "int64",
         "stats": {
          "unique_count": 2,
          "nan_count": 0,
          "min": "4700",
          "max": "4960",
          "histogram": [
           {
            "bin_start": 4700,
            "bin_end": 4726,
            "count": 1
           },
           {
            "bin_start": 4726,
            "bin_end": 4752,
            "count": 0
           },
           {
            "bin_start": 4752,
            "bin_end": 4778,
            "count": 0
           },
           {
            "bin_start": 4778,
            "bin_end": 4804,
            "count": 0
           },
           {
            "bin_start": 4804,
            "bin_end": 4830,
            "count": 0
           },
           {
            "bin_start": 4830,
            "bin_end": 4856,
            "count": 0
           },
           {
            "bin_start": 4856,
            "bin_end": 4882,
            "count": 0
           },
           {
            "bin_start": 4882,
            "bin_end": 4908,
            "count": 0
           },
           {
            "bin_start": 4908,
            "bin_end": 4934,
            "count": 0
           },
           {
            "bin_start": 4934,
            "bin_end": 4960,
            "count": 1
           }
          ]
         }
        },
        {
         "name": "_deepnote_index_column",
         "dtype": "int64"
        }
       ],
       "rows": [
        {
         "id": 1773100755,
         "date": "20140821T000000",
         "price": 520000,
         "bedrooms": 11,
         "bathrooms": 3,
         "sqft_living": 3000,
         "sqft_lot": 4960,
         "floors": 2,
         "waterfront": 0,
         "view": 0,
         "condition": 3,
         "grade": 7,
         "sqft_above": 2400,
         "sqft_basement": 600,
         "yr_built": 1918,
         "yr_renovated": 1999,
         "zipcode": 98106,
         "lat": 47.556,
         "long": -122.363,
         "sqft_living15": 1420,
         "sqft_lot15": 4960,
         "_deepnote_index_column": 8759
        },
        {
         "id": 2402100895,
         "date": "20140625T000000",
         "price": 640000,
         "bedrooms": 33,
         "bathrooms": 1.75,
         "sqft_living": 1620,
         "sqft_lot": 6000,
         "floors": 1,
         "waterfront": 0,
         "view": 0,
         "condition": 5,
         "grade": 7,
         "sqft_above": 1040,
         "sqft_basement": 580,
         "yr_built": 1947,
         "yr_renovated": 0,
         "zipcode": 98103,
         "lat": 47.6878,
         "long": -122.331,
         "sqft_living15": 1330,
         "sqft_lot15": 4700,
         "_deepnote_index_column": 15872
        }
       ]
      },
      "text/plain": "               id             date     price  bedrooms  bathrooms  \\\n8759   1773100755  20140821T000000  520000.0        11       3.00   \n15872  2402100895  20140625T000000  640000.0        33       1.75   \n\n       sqft_living  sqft_lot  floors  waterfront  view  ...  grade  \\\n8759          3000    4960.0     2.0           0     0  ...      7   \n15872         1620    6000.0     1.0           0     0  ...      7   \n\n       sqft_above  sqft_basement  yr_built  yr_renovated  zipcode      lat  \\\n8759         2400            600      1918          1999    98106  47.5560   \n15872        1040            580      1947             0    98103  47.6878   \n\n          long  sqft_living15  sqft_lot15  \n8759  -122.363           1420        4960  \n15872 -122.331           1330        4700  \n\n[2 rows x 21 columns]",
      "text/html": "<div>\n<style scoped>\n    .dataframe tbody tr th:only-of-type {\n        vertical-align: middle;\n    }\n\n    .dataframe tbody tr th {\n        vertical-align: top;\n    }\n\n    .dataframe thead th {\n        text-align: right;\n    }\n</style>\n<table border=\"1\" class=\"dataframe\">\n  <thead>\n    <tr style=\"text-align: right;\">\n      <th></th>\n      <th>id</th>\n      <th>date</th>\n      <th>price</th>\n      <th>bedrooms</th>\n      <th>bathrooms</th>\n      <th>sqft_living</th>\n      <th>sqft_lot</th>\n      <th>floors</th>\n      <th>waterfront</th>\n      <th>view</th>\n      <th>...</th>\n      <th>grade</th>\n      <th>sqft_above</th>\n      <th>sqft_basement</th>\n      <th>yr_built</th>\n      <th>yr_renovated</th>\n      <th>zipcode</th>\n      <th>lat</th>\n      <th>long</th>\n      <th>sqft_living15</th>\n      <th>sqft_lot15</th>\n    </tr>\n  </thead>\n  <tbody>\n    <tr>\n      <th>8759</th>\n      <td>1773100755</td>\n      <td>20140821T000000</td>\n      <td>520000.0</td>\n      <td>11</td>\n      <td>3.00</td>\n      <td>3000</td>\n      <td>4960.0</td>\n      <td>2.0</td>\n      <td>0</td>\n      <td>0</td>\n      <td>...</td>\n      <td>7</td>\n      <td>2400</td>\n      <td>600</td>\n      <td>1918</td>\n      <td>1999</td>\n      <td>98106</td>\n      <td>47.5560</td>\n      <td>-122.363</td>\n      <td>1420</td>\n      <td>4960</td>\n    </tr>\n    <tr>\n      <th>15872</th>\n      <td>2402100895</td>\n      <td>20140625T000000</td>\n      <td>640000.0</td>\n      <td>33</td>\n      <td>1.75</td>\n      <td>1620</td>\n      <td>6000.0</td>\n      <td>1.0</td>\n      <td>0</td>\n      <td>0</td>\n      <td>...</td>\n      <td>7</td>\n      <td>1040</td>\n      <td>580</td>\n      <td>1947</td>\n      <td>0</td>\n      <td>98103</td>\n      <td>47.6878</td>\n      <td>-122.331</td>\n      <td>1330</td>\n      <td>4700</td>\n    </tr>\n  </tbody>\n</table>\n<p>2 rows × 21 columns</p>\n</div>"
     },
     "metadata": {}
    }
   ],
   "execution_count": null
  },
  {
   "cell_type": "markdown",
   "source": "Podemos ver que hay dos casas donde hay un gran número inusual de dormitorios. Podríamos eliminar esas filas más tarde.",
   "metadata": {
    "cell_id": "00029-44f67ceb-ab4c-4a2b-ae75-29fab8fcdc02",
    "deepnote_cell_type": "markdown"
   }
  },
  {
   "cell_type": "markdown",
   "source": "## 2. Completar los datos y organizar las columnas",
   "metadata": {
    "cell_id": "00030-69dc946f-fd02-403d-8471-b6f2155e8c3c",
    "deepnote_cell_type": "markdown"
   }
  },
  {
   "cell_type": "markdown",
   "source": "El conjunto de datos tiene un código postal (`zipcode`) de columna, pero no sabemos a qué ciudad corresponde. Pero podemos usar otro conjunto de datos que contenga códigos postales y ciudades correspondientes y combinar las dos tablas. ",
   "metadata": {
    "cell_id": "00031-44319073-64d2-4eb5-82a7-b0de07ff1a12",
    "deepnote_cell_type": "markdown"
   }
  },
  {
   "cell_type": "code",
   "metadata": {
    "cell_id": "00032-ca7dcd6d-d9b7-4cc9-b49e-c9f42e707ac6",
    "deepnote_to_be_reexecuted": false,
    "source_hash": "8136990c",
    "execution_start": 1646265114869,
    "execution_millis": 3,
    "deepnote_cell_type": "code"
   },
   "source": "#df_addresses_new['zipcode'] = df_addresses_new['zipcode'].str.replace('-','')",
   "outputs": [],
   "execution_count": null
  },
  {
   "cell_type": "code",
   "metadata": {
    "cell_id": "00033-fb8e2ca8-e2b2-4dc6-9a03-28f20c45a698",
    "deepnote_to_be_reexecuted": false,
    "source_hash": "d5b90e2a",
    "execution_start": 1646265114880,
    "execution_millis": 9,
    "deepnote_cell_type": "code"
   },
   "source": "import pandas as pd\ndf_addresses=pd.read_csv('data/zipcode_city.csv',sep=',',index_col=[0])",
   "outputs": [],
   "execution_count": null
  },
  {
   "cell_type": "code",
   "metadata": {
    "cell_id": "00034-199f4956-5fab-4a3c-a14c-3a8190d47a26",
    "deepnote_to_be_reexecuted": false,
    "source_hash": "1f3263d1",
    "execution_start": 1646265116940,
    "execution_millis": 21,
    "deepnote_cell_type": "code"
   },
   "source": "df_addresses.head()",
   "outputs": [
    {
     "output_type": "execute_result",
     "execution_count": 11,
     "data": {
      "application/vnd.deepnote.dataframe.v3+json": {
       "column_count": 2,
       "row_count": 5,
       "columns": [
        {
         "name": "zipcode",
         "dtype": "int64",
         "stats": {
          "unique_count": 5,
          "nan_count": 0,
          "min": "98028",
          "max": "98178",
          "histogram": [
           {
            "bin_start": 98028,
            "bin_end": 98043,
            "count": 1
           },
           {
            "bin_start": 98043,
            "bin_end": 98058,
            "count": 0
           },
           {
            "bin_start": 98058,
            "bin_end": 98073,
            "count": 0
           },
           {
            "bin_start": 98073,
            "bin_end": 98088,
            "count": 1
           },
           {
            "bin_start": 98088,
            "bin_end": 98103,
            "count": 0
           },
           {
            "bin_start": 98103,
            "bin_end": 98118,
            "count": 0
           },
           {
            "bin_start": 98118,
            "bin_end": 98133,
            "count": 1
           },
           {
            "bin_start": 98133,
            "bin_end": 98148,
            "count": 1
           },
           {
            "bin_start": 98148,
            "bin_end": 98163,
            "count": 0
           },
           {
            "bin_start": 98163,
            "bin_end": 98178,
            "count": 1
           }
          ]
         }
        },
        {
         "name": "city",
         "dtype": "object",
         "stats": {
          "unique_count": 3,
          "nan_count": 0,
          "categories": [
           {
            "name": "Seattle",
            "count": 3
           },
           {
            "name": "Kenmore",
            "count": 1
           },
           {
            "name": "Sammamish",
            "count": 1
           }
          ]
         }
        },
        {
         "name": "_deepnote_index_column",
         "dtype": "int64"
        }
       ],
       "rows": [
        {
         "zipcode": 98178,
         "city": "Seattle",
         "_deepnote_index_column": 0
        },
        {
         "zipcode": 98125,
         "city": "Seattle",
         "_deepnote_index_column": 1
        },
        {
         "zipcode": 98028,
         "city": "Kenmore",
         "_deepnote_index_column": 2
        },
        {
         "zipcode": 98136,
         "city": "Seattle",
         "_deepnote_index_column": 3
        },
        {
         "zipcode": 98074,
         "city": "Sammamish",
         "_deepnote_index_column": 4
        }
       ]
      },
      "text/plain": "   zipcode       city\n0    98178    Seattle\n1    98125    Seattle\n2    98028    Kenmore\n3    98136    Seattle\n4    98074  Sammamish",
      "text/html": "<div>\n<style scoped>\n    .dataframe tbody tr th:only-of-type {\n        vertical-align: middle;\n    }\n\n    .dataframe tbody tr th {\n        vertical-align: top;\n    }\n\n    .dataframe thead th {\n        text-align: right;\n    }\n</style>\n<table border=\"1\" class=\"dataframe\">\n  <thead>\n    <tr style=\"text-align: right;\">\n      <th></th>\n      <th>zipcode</th>\n      <th>city</th>\n    </tr>\n  </thead>\n  <tbody>\n    <tr>\n      <th>0</th>\n      <td>98178</td>\n      <td>Seattle</td>\n    </tr>\n    <tr>\n      <th>1</th>\n      <td>98125</td>\n      <td>Seattle</td>\n    </tr>\n    <tr>\n      <th>2</th>\n      <td>98028</td>\n      <td>Kenmore</td>\n    </tr>\n    <tr>\n      <th>3</th>\n      <td>98136</td>\n      <td>Seattle</td>\n    </tr>\n    <tr>\n      <th>4</th>\n      <td>98074</td>\n      <td>Sammamish</td>\n    </tr>\n  </tbody>\n</table>\n</div>"
     },
     "metadata": {}
    }
   ],
   "execution_count": null
  },
  {
   "cell_type": "code",
   "metadata": {
    "cell_id": "00035-006dee3f-c498-4b79-b76b-38565c1ebfcc",
    "deepnote_to_be_reexecuted": false,
    "source_hash": "a128d8ac",
    "execution_start": 1646265116954,
    "execution_millis": 35,
    "deepnote_cell_type": "code"
   },
   "source": "df_addresses.shape",
   "outputs": [
    {
     "output_type": "execute_result",
     "execution_count": 12,
     "data": {
      "text/plain": "(501, 2)"
     },
     "metadata": {}
    }
   ],
   "execution_count": null
  },
  {
   "cell_type": "markdown",
   "source": "El segundo conjunto de datos `df_addresses` tiene valores repetidos del código postal (501 filas!), por lo que debemos eliminar esos valores repetidos ",
   "metadata": {
    "cell_id": "00036-abe01e8f-9821-44fd-9db7-2c2eea7a8064",
    "deepnote_cell_type": "markdown"
   }
  },
  {
   "cell_type": "code",
   "metadata": {
    "cell_id": "00037-bfa81518-b251-476e-922b-89bfe70762f2",
    "deepnote_to_be_reexecuted": false,
    "source_hash": "887742a3",
    "execution_start": 1646265116971,
    "execution_millis": 5,
    "deepnote_cell_type": "code"
   },
   "source": "df_addresses=df_addresses.drop_duplicates(subset=['zipcode'])",
   "outputs": [],
   "execution_count": null
  },
  {
   "cell_type": "code",
   "metadata": {
    "cell_id": "00038-adff4bec-e439-45c8-abe7-df89e8eb0bf7",
    "deepnote_to_be_reexecuted": false,
    "source_hash": "a128d8ac",
    "execution_start": 1646265120153,
    "execution_millis": 196,
    "deepnote_cell_type": "code"
   },
   "source": "df_addresses.shape",
   "outputs": [
    {
     "output_type": "execute_result",
     "execution_count": 14,
     "data": {
      "text/plain": "(76, 2)"
     },
     "metadata": {}
    }
   ],
   "execution_count": null
  },
  {
   "cell_type": "markdown",
   "source": "Antes de fusionar los dos conjuntos de datos `df` y `df_addresses` basados en la columna `zipcode`, es recomendable convertir esas columnas en una cadena. ",
   "metadata": {
    "cell_id": "00039-c8ec6668-f87d-4abc-a412-ab4010a46b46",
    "deepnote_cell_type": "markdown"
   }
  },
  {
   "cell_type": "code",
   "metadata": {
    "cell_id": "00040-e7783bed-fd26-4882-92f0-19636d6eb13d",
    "deepnote_to_be_reexecuted": false,
    "source_hash": "317d846e",
    "execution_start": 1646265120217,
    "execution_millis": 1,
    "deepnote_cell_type": "code"
   },
   "source": "df_addresses['zipcode'] = df_addresses['zipcode'].astype(str)\ndf['zipcode'] = df['zipcode'].astype(str)",
   "outputs": [],
   "execution_count": null
  },
  {
   "cell_type": "markdown",
   "source": "Ahora vamos a fusionar los conjuntos de datos. Parametro `left` (izquierda) significa que para cada valor en la tabla izquierda `df` vamos buscar a valor correspondiente en la tabla derecha `df_addresses`.",
   "metadata": {
    "cell_id": "00041-a42be6bc-f38d-4687-b16f-3f5d7b60d98c",
    "deepnote_cell_type": "markdown"
   }
  },
  {
   "cell_type": "code",
   "metadata": {
    "cell_id": "00042-498c75cf-901a-497f-a606-cb454710bd4d",
    "deepnote_to_be_reexecuted": false,
    "source_hash": "c7dc78",
    "execution_start": 1646265120271,
    "execution_millis": 1,
    "deepnote_cell_type": "code"
   },
   "source": "df = pd.merge(df, df_addresses, how=\"left\", on=\"zipcode\")",
   "outputs": [],
   "execution_count": null
  },
  {
   "cell_type": "code",
   "metadata": {
    "cell_id": "00043-0e51080e-c684-46e0-89a2-07119e57a607",
    "deepnote_to_be_reexecuted": false,
    "source_hash": "c085b6ba",
    "execution_start": 1646265120355,
    "execution_millis": 28,
    "deepnote_cell_type": "code"
   },
   "source": "df.head()",
   "outputs": [
    {
     "output_type": "execute_result",
     "execution_count": 17,
     "data": {
      "application/vnd.deepnote.dataframe.v3+json": {
       "column_count": 22,
       "row_count": 5,
       "columns": [
        {
         "name": "id",
         "dtype": "int64",
         "stats": {
          "unique_count": 5,
          "nan_count": 0,
          "min": "1954400510",
          "max": "7129300520",
          "histogram": [
           {
            "bin_start": 1954400510,
            "bin_end": 2471890511,
            "count": 1
           },
           {
            "bin_start": 2471890511,
            "bin_end": 2989380512,
            "count": 1
           },
           {
            "bin_start": 2989380512,
            "bin_end": 3506870513,
            "count": 0
           },
           {
            "bin_start": 3506870513,
            "bin_end": 4024360514,
            "count": 0
           },
           {
            "bin_start": 4024360514,
            "bin_end": 4541850515,
            "count": 0
           },
           {
            "bin_start": 4541850515,
            "bin_end": 5059340516,
            "count": 0
           },
           {
            "bin_start": 5059340516,
            "bin_end": 5576830517,
            "count": 0
           },
           {
            "bin_start": 5576830517,
            "bin_end": 6094320518,
            "count": 1
           },
           {
            "bin_start": 6094320518,
            "bin_end": 6611810519,
            "count": 1
           },
           {
            "bin_start": 6611810519,
            "bin_end": 7129300520,
            "count": 1
           }
          ]
         }
        },
        {
         "name": "date",
         "dtype": "object",
         "stats": {
          "unique_count": 4,
          "nan_count": 0,
          "categories": [
           {
            "name": "20141209T000000",
            "count": 2
           },
           {
            "name": "20141013T000000",
            "count": 1
           },
           {
            "name": "2 others",
            "count": 2
           }
          ]
         }
        },
        {
         "name": "price",
         "dtype": "float64",
         "stats": {
          "unique_count": 5,
          "nan_count": 0,
          "min": "180000.0",
          "max": "604000.0",
          "histogram": [
           {
            "bin_start": 180000,
            "bin_end": 222400,
            "count": 2
           },
           {
            "bin_start": 222400,
            "bin_end": 264800,
            "count": 0
           },
           {
            "bin_start": 264800,
            "bin_end": 307200,
            "count": 0
           },
           {
            "bin_start": 307200,
            "bin_end": 349600,
            "count": 0
           },
           {
            "bin_start": 349600,
            "bin_end": 392000,
            "count": 0
           },
           {
            "bin_start": 392000,
            "bin_end": 434400,
            "count": 0
           },
           {
            "bin_start": 434400,
            "bin_end": 476800,
            "count": 0
           },
           {
            "bin_start": 476800,
            "bin_end": 519200,
            "count": 1
           },
           {
            "bin_start": 519200,
            "bin_end": 561600,
            "count": 1
           },
           {
            "bin_start": 561600,
            "bin_end": 604000,
            "count": 1
           }
          ]
         }
        },
        {
         "name": "bedrooms",
         "dtype": "int64",
         "stats": {
          "unique_count": 3,
          "nan_count": 0,
          "min": "2",
          "max": "4",
          "histogram": [
           {
            "bin_start": 2,
            "bin_end": 2.2,
            "count": 1
           },
           {
            "bin_start": 2.2,
            "bin_end": 2.4,
            "count": 0
           },
           {
            "bin_start": 2.4,
            "bin_end": 2.6,
            "count": 0
           },
           {
            "bin_start": 2.6,
            "bin_end": 2.8,
            "count": 0
           },
           {
            "bin_start": 2.8,
            "bin_end": 3,
            "count": 0
           },
           {
            "bin_start": 3,
            "bin_end": 3.2,
            "count": 3
           },
           {
            "bin_start": 3.2,
            "bin_end": 3.4000000000000004,
            "count": 0
           },
           {
            "bin_start": 3.4000000000000004,
            "bin_end": 3.6,
            "count": 0
           },
           {
            "bin_start": 3.6,
            "bin_end": 3.8,
            "count": 0
           },
           {
            "bin_start": 3.8,
            "bin_end": 4,
            "count": 1
           }
          ]
         }
        },
        {
         "name": "bathrooms",
         "dtype": "float64",
         "stats": {
          "unique_count": 4,
          "nan_count": 0,
          "min": "1.0",
          "max": "3.0",
          "histogram": [
           {
            "bin_start": 1,
            "bin_end": 1.2,
            "count": 2
           },
           {
            "bin_start": 1.2,
            "bin_end": 1.4,
            "count": 0
           },
           {
            "bin_start": 1.4,
            "bin_end": 1.6,
            "count": 0
           },
           {
            "bin_start": 1.6,
            "bin_end": 1.8,
            "count": 0
           },
           {
            "bin_start": 1.8,
            "bin_end": 2,
            "count": 0
           },
           {
            "bin_start": 2,
            "bin_end": 2.2,
            "count": 1
           },
           {
            "bin_start": 2.2,
            "bin_end": 2.4000000000000004,
            "count": 1
           },
           {
            "bin_start": 2.4000000000000004,
            "bin_end": 2.6,
            "count": 0
           },
           {
            "bin_start": 2.6,
            "bin_end": 2.8,
            "count": 0
           },
           {
            "bin_start": 2.8,
            "bin_end": 3,
            "count": 1
           }
          ]
         }
        },
        {
         "name": "sqft_living",
         "dtype": "int64",
         "stats": {
          "unique_count": 5,
          "nan_count": 0,
          "min": "770",
          "max": "2570",
          "histogram": [
           {
            "bin_start": 770,
            "bin_end": 950,
            "count": 1
           },
           {
            "bin_start": 950,
            "bin_end": 1130,
            "count": 0
           },
           {
            "bin_start": 1130,
            "bin_end": 1310,
            "count": 1
           },
           {
            "bin_start": 1310,
            "bin_end": 1490,
            "count": 0
           },
           {
            "bin_start": 1490,
            "bin_end": 1670,
            "count": 0
           },
           {
            "bin_start": 1670,
            "bin_end": 1850,
            "count": 1
           },
           {
            "bin_start": 1850,
            "bin_end": 2030,
            "count": 1
           },
           {
            "bin_start": 2030,
            "bin_end": 2210,
            "count": 0
           },
           {
            "bin_start": 2210,
            "bin_end": 2390,
            "count": 0
           },
           {
            "bin_start": 2390,
            "bin_end": 2570,
            "count": 1
           }
          ]
         }
        },
        {
         "name": "sqft_lot",
         "dtype": "float64",
         "stats": {
          "unique_count": 5,
          "nan_count": 0,
          "min": "5000.0",
          "max": "10000.0",
          "histogram": [
           {
            "bin_start": 5000,
            "bin_end": 5500,
            "count": 1
           },
           {
            "bin_start": 5500,
            "bin_end": 6000,
            "count": 1
           },
           {
            "bin_start": 6000,
            "bin_end": 6500,
            "count": 0
           },
           {
            "bin_start": 6500,
            "bin_end": 7000,
            "count": 0
           },
           {
            "bin_start": 7000,
            "bin_end": 7500,
            "count": 1
           },
           {
            "bin_start": 7500,
            "bin_end": 8000,
            "count": 0
           },
           {
            "bin_start": 8000,
            "bin_end": 8500,
            "count": 1
           },
           {
            "bin_start": 8500,
            "bin_end": 9000,
            "count": 0
           },
           {
            "bin_start": 9000,
            "bin_end": 9500,
            "count": 0
           },
           {
            "bin_start": 9500,
            "bin_end": 10000,
            "count": 1
           }
          ]
         }
        },
        {
         "name": "floors",
         "dtype": "float64",
         "stats": {
          "unique_count": 2,
          "nan_count": 0,
          "min": "1.0",
          "max": "2.0",
          "histogram": [
           {
            "bin_start": 1,
            "bin_end": 1.1,
            "count": 4
           },
           {
            "bin_start": 1.1,
            "bin_end": 1.2,
            "count": 0
           },
           {
            "bin_start": 1.2,
            "bin_end": 1.3,
            "count": 0
           },
           {
            "bin_start": 1.3,
            "bin_end": 1.4,
            "count": 0
           },
           {
            "bin_start": 1.4,
            "bin_end": 1.5,
            "count": 0
           },
           {
            "bin_start": 1.5,
            "bin_end": 1.6,
            "count": 0
           },
           {
            "bin_start": 1.6,
            "bin_end": 1.7000000000000002,
            "count": 0
           },
           {
            "bin_start": 1.7000000000000002,
            "bin_end": 1.8,
            "count": 0
           },
           {
            "bin_start": 1.8,
            "bin_end": 1.9,
            "count": 0
           },
           {
            "bin_start": 1.9,
            "bin_end": 2,
            "count": 1
           }
          ]
         }
        },
        {
         "name": "waterfront",
         "dtype": "int64",
         "stats": {
          "unique_count": 1,
          "nan_count": 0,
          "min": "0",
          "max": "0",
          "histogram": [
           {
            "bin_start": -0.5,
            "bin_end": -0.4,
            "count": 0
           },
           {
            "bin_start": -0.4,
            "bin_end": -0.3,
            "count": 0
           },
           {
            "bin_start": -0.3,
            "bin_end": -0.19999999999999996,
            "count": 0
           },
           {
            "bin_start": -0.19999999999999996,
            "bin_end": -0.09999999999999998,
            "count": 0
           },
           {
            "bin_start": -0.09999999999999998,
            "bin_end": 0,
            "count": 0
           },
           {
            "bin_start": 0,
            "bin_end": 0.10000000000000009,
            "count": 5
           },
           {
            "bin_start": 0.10000000000000009,
            "bin_end": 0.20000000000000007,
            "count": 0
           },
           {
            "bin_start": 0.20000000000000007,
            "bin_end": 0.30000000000000004,
            "count": 0
           },
           {
            "bin_start": 0.30000000000000004,
            "bin_end": 0.4,
            "count": 0
           },
           {
            "bin_start": 0.4,
            "bin_end": 0.5,
            "count": 0
           }
          ]
         }
        },
        {
         "name": "view",
         "dtype": "int64",
         "stats": {
          "unique_count": 1,
          "nan_count": 0,
          "min": "0",
          "max": "0",
          "histogram": [
           {
            "bin_start": -0.5,
            "bin_end": -0.4,
            "count": 0
           },
           {
            "bin_start": -0.4,
            "bin_end": -0.3,
            "count": 0
           },
           {
            "bin_start": -0.3,
            "bin_end": -0.19999999999999996,
            "count": 0
           },
           {
            "bin_start": -0.19999999999999996,
            "bin_end": -0.09999999999999998,
            "count": 0
           },
           {
            "bin_start": -0.09999999999999998,
            "bin_end": 0,
            "count": 0
           },
           {
            "bin_start": 0,
            "bin_end": 0.10000000000000009,
            "count": 5
           },
           {
            "bin_start": 0.10000000000000009,
            "bin_end": 0.20000000000000007,
            "count": 0
           },
           {
            "bin_start": 0.20000000000000007,
            "bin_end": 0.30000000000000004,
            "count": 0
           },
           {
            "bin_start": 0.30000000000000004,
            "bin_end": 0.4,
            "count": 0
           },
           {
            "bin_start": 0.4,
            "bin_end": 0.5,
            "count": 0
           }
          ]
         }
        },
        {
         "name": "condition",
         "dtype": "int64",
         "stats": {
          "unique_count": 2,
          "nan_count": 0,
          "min": "3",
          "max": "5",
          "histogram": [
           {
            "bin_start": 3,
            "bin_end": 3.2,
            "count": 4
           },
           {
            "bin_start": 3.2,
            "bin_end": 3.4,
            "count": 0
           },
           {
            "bin_start": 3.4,
            "bin_end": 3.6,
            "count": 0
           },
           {
            "bin_start": 3.6,
            "bin_end": 3.8,
            "count": 0
           },
           {
            "bin_start": 3.8,
            "bin_end": 4,
            "count": 0
           },
           {
            "bin_start": 4,
            "bin_end": 4.2,
            "count": 0
           },
           {
            "bin_start": 4.2,
            "bin_end": 4.4,
            "count": 0
           },
           {
            "bin_start": 4.4,
            "bin_end": 4.6,
            "count": 0
           },
           {
            "bin_start": 4.6,
            "bin_end": 4.8,
            "count": 0
           },
           {
            "bin_start": 4.8,
            "bin_end": 5,
            "count": 1
           }
          ]
         }
        },
        {
         "name": "grade",
         "dtype": "int64",
         "stats": {
          "unique_count": 3,
          "nan_count": 0,
          "min": "6",
          "max": "8",
          "histogram": [
           {
            "bin_start": 6,
            "bin_end": 6.2,
            "count": 1
           },
           {
            "bin_start": 6.2,
            "bin_end": 6.4,
            "count": 0
           },
           {
            "bin_start": 6.4,
            "bin_end": 6.6,
            "count": 0
           },
           {
            "bin_start": 6.6,
            "bin_end": 6.8,
            "count": 0
           },
           {
            "bin_start": 6.8,
            "bin_end": 7,
            "count": 0
           },
           {
            "bin_start": 7,
            "bin_end": 7.2,
            "count": 3
           },
           {
            "bin_start": 7.2,
            "bin_end": 7.4,
            "count": 0
           },
           {
            "bin_start": 7.4,
            "bin_end": 7.6,
            "count": 0
           },
           {
            "bin_start": 7.6,
            "bin_end": 7.8,
            "count": 0
           },
           {
            "bin_start": 7.8,
            "bin_end": 8,
            "count": 1
           }
          ]
         }
        },
        {
         "name": "sqft_above",
         "dtype": "int64",
         "stats": {
          "unique_count": 5,
          "nan_count": 0,
          "min": "770",
          "max": "2170",
          "histogram": [
           {
            "bin_start": 770,
            "bin_end": 910,
            "count": 1
           },
           {
            "bin_start": 910,
            "bin_end": 1050,
            "count": 0
           },
           {
            "bin_start": 1050,
            "bin_end": 1190,
            "count": 2
           },
           {
            "bin_start": 1190,
            "bin_end": 1330,
            "count": 0
           },
           {
            "bin_start": 1330,
            "bin_end": 1470,
            "count": 0
           },
           {
            "bin_start": 1470,
            "bin_end": 1610,
            "count": 0
           },
           {
            "bin_start": 1610,
            "bin_end": 1750,
            "count": 1
           },
           {
            "bin_start": 1750,
            "bin_end": 1890,
            "count": 0
           },
           {
            "bin_start": 1890,
            "bin_end": 2030,
            "count": 0
           },
           {
            "bin_start": 2030,
            "bin_end": 2170,
            "count": 1
           }
          ]
         }
        },
        {
         "name": "sqft_basement",
         "dtype": "int64",
         "stats": {
          "unique_count": 3,
          "nan_count": 0,
          "min": "0",
          "max": "910",
          "histogram": [
           {
            "bin_start": 0,
            "bin_end": 91,
            "count": 3
           },
           {
            "bin_start": 91,
            "bin_end": 182,
            "count": 0
           },
           {
            "bin_start": 182,
            "bin_end": 273,
            "count": 0
           },
           {
            "bin_start": 273,
            "bin_end": 364,
            "count": 0
           },
           {
            "bin_start": 364,
            "bin_end": 455,
            "count": 1
           },
           {
            "bin_start": 455,
            "bin_end": 546,
            "count": 0
           },
           {
            "bin_start": 546,
            "bin_end": 637,
            "count": 0
           },
           {
            "bin_start": 637,
            "bin_end": 728,
            "count": 0
           },
           {
            "bin_start": 728,
            "bin_end": 819,
            "count": 0
           },
           {
            "bin_start": 819,
            "bin_end": 910,
            "count": 1
           }
          ]
         }
        },
        {
         "name": "yr_built",
         "dtype": "int64",
         "stats": {
          "unique_count": 5,
          "nan_count": 0,
          "min": "1933",
          "max": "1987",
          "histogram": [
           {
            "bin_start": 1933,
            "bin_end": 1938.4,
            "count": 1
           },
           {
            "bin_start": 1938.4,
            "bin_end": 1943.8,
            "count": 0
           },
           {
            "bin_start": 1943.8,
            "bin_end": 1949.2,
            "count": 0
           },
           {
            "bin_start": 1949.2,
            "bin_end": 1954.6,
            "count": 1
           },
           {
            "bin_start": 1954.6,
            "bin_end": 1960,
            "count": 1
           },
           {
            "bin_start": 1960,
            "bin_end": 1965.4,
            "count": 1
           },
           {
            "bin_start": 1965.4,
            "bin_end": 1970.8,
            "count": 0
           },
           {
            "bin_start": 1970.8,
            "bin_end": 1976.2,
            "count": 0
           },
           {
            "bin_start": 1976.2,
            "bin_end": 1981.6,
            "count": 0
           },
           {
            "bin_start": 1981.6,
            "bin_end": 1987,
            "count": 1
           }
          ]
         }
        },
        {
         "name": "yr_renovated",
         "dtype": "int64",
         "stats": {
          "unique_count": 2,
          "nan_count": 0,
          "min": "0",
          "max": "1991",
          "histogram": [
           {
            "bin_start": 0,
            "bin_end": 199.1,
            "count": 4
           },
           {
            "bin_start": 199.1,
            "bin_end": 398.2,
            "count": 0
           },
           {
            "bin_start": 398.2,
            "bin_end": 597.3,
            "count": 0
           },
           {
            "bin_start": 597.3,
            "bin_end": 796.4,
            "count": 0
           },
           {
            "bin_start": 796.4,
            "bin_end": 995.5,
            "count": 0
           },
           {
            "bin_start": 995.5,
            "bin_end": 1194.6,
            "count": 0
           },
           {
            "bin_start": 1194.6,
            "bin_end": 1393.7,
            "count": 0
           },
           {
            "bin_start": 1393.7,
            "bin_end": 1592.8,
            "count": 0
           },
           {
            "bin_start": 1592.8,
            "bin_end": 1791.8999999999999,
            "count": 0
           },
           {
            "bin_start": 1791.8999999999999,
            "bin_end": 1991,
            "count": 1
           }
          ]
         }
        },
        {
         "name": "zipcode",
         "dtype": "object",
         "stats": {
          "unique_count": 5,
          "nan_count": 0,
          "categories": [
           {
            "name": "98178",
            "count": 1
           },
           {
            "name": "98125",
            "count": 1
           },
           {
            "name": "3 others",
            "count": 3
           }
          ]
         }
        },
        {
         "name": "lat",
         "dtype": "float64",
         "stats": {
          "unique_count": 5,
          "nan_count": 0,
          "min": "47.5112",
          "max": "47.7379",
          "histogram": [
           {
            "bin_start": 47.5112,
            "bin_end": 47.53387,
            "count": 2
           },
           {
            "bin_start": 47.53387,
            "bin_end": 47.556540000000005,
            "count": 0
           },
           {
            "bin_start": 47.556540000000005,
            "bin_end": 47.57921,
            "count": 0
           },
           {
            "bin_start": 47.57921,
            "bin_end": 47.60188,
            "count": 0
           },
           {
            "bin_start": 47.60188,
            "bin_end": 47.62455,
            "count": 1
           },
           {
            "bin_start": 47.62455,
            "bin_end": 47.647220000000004,
            "count": 0
           },
           {
            "bin_start": 47.647220000000004,
            "bin_end": 47.66989,
            "count": 0
           },
           {
            "bin_start": 47.66989,
            "bin_end": 47.69256,
            "count": 0
           },
           {
            "bin_start": 47.69256,
            "bin_end": 47.715230000000005,
            "count": 0
           },
           {
            "bin_start": 47.715230000000005,
            "bin_end": 47.7379,
            "count": 2
           }
          ]
         }
        },
        {
         "name": "long",
         "dtype": "float64",
         "stats": {
          "unique_count": 5,
          "nan_count": 0,
          "min": "-122.393",
          "max": "-122.045",
          "histogram": [
           {
            "bin_start": -122.393,
            "bin_end": -122.3582,
            "count": 1
           },
           {
            "bin_start": -122.3582,
            "bin_end": -122.3234,
            "count": 0
           },
           {
            "bin_start": -122.3234,
            "bin_end": -122.2886,
            "count": 1
           },
           {
            "bin_start": -122.2886,
            "bin_end": -122.2538,
            "count": 1
           },
           {
            "bin_start": -122.2538,
            "bin_end": -122.219,
            "count": 1
           },
           {
            "bin_start": -122.219,
            "bin_end": -122.1842,
            "count": 0
           },
           {
            "bin_start": -122.1842,
            "bin_end": -122.1494,
            "count": 0
           },
           {
            "bin_start": -122.1494,
            "bin_end": -122.1146,
            "count": 0
           },
           {
            "bin_start": -122.1146,
            "bin_end": -122.0798,
            "count": 0
           },
           {
            "bin_start": -122.0798,
            "bin_end": -122.045,
            "count": 1
           }
          ]
         }
        },
        {
         "name": "sqft_living15",
         "dtype": "int64",
         "stats": {
          "unique_count": 5,
          "nan_count": 0,
          "min": "1340",
          "max": "2720",
          "histogram": [
           {
            "bin_start": 1340,
            "bin_end": 1478,
            "count": 2
           },
           {
            "bin_start": 1478,
            "bin_end": 1616,
            "count": 0
           },
           {
            "bin_start": 1616,
            "bin_end": 1754,
            "count": 1
           },
           {
            "bin_start": 1754,
            "bin_end": 1892,
            "count": 1
           },
           {
            "bin_start": 1892,
            "bin_end": 2030,
            "count": 0
           },
           {
            "bin_start": 2030,
            "bin_end": 2168,
            "count": 0
           },
           {
            "bin_start": 2168,
            "bin_end": 2306,
            "count": 0
           },
           {
            "bin_start": 2306,
            "bin_end": 2444,
            "count": 0
           },
           {
            "bin_start": 2444,
            "bin_end": 2582,
            "count": 0
           },
           {
            "bin_start": 2582,
            "bin_end": 2720,
            "count": 1
           }
          ]
         }
        },
        {
         "name": "sqft_lot15",
         "dtype": "int64",
         "stats": {
          "unique_count": 5,
          "nan_count": 0,
          "min": "5000",
          "max": "8062",
          "histogram": [
           {
            "bin_start": 5000,
            "bin_end": 5306.2,
            "count": 1
           },
           {
            "bin_start": 5306.2,
            "bin_end": 5612.4,
            "count": 0
           },
           {
            "bin_start": 5612.4,
            "bin_end": 5918.6,
            "count": 1
           },
           {
            "bin_start": 5918.6,
            "bin_end": 6224.8,
            "count": 0
           },
           {
            "bin_start": 6224.8,
            "bin_end": 6531,
            "count": 0
           },
           {
            "bin_start": 6531,
            "bin_end": 6837.2,
            "count": 0
           },
           {
            "bin_start": 6837.2,
            "bin_end": 7143.4,
            "count": 0
           },
           {
            "bin_start": 7143.4,
            "bin_end": 7449.6,
            "count": 0
           },
           {
            "bin_start": 7449.6,
            "bin_end": 7755.799999999999,
            "count": 2
           },
           {
            "bin_start": 7755.799999999999,
            "bin_end": 8062,
            "count": 1
           }
          ]
         }
        },
        {
         "name": "city",
         "dtype": "object",
         "stats": {
          "unique_count": 3,
          "nan_count": 0,
          "categories": [
           {
            "name": "Seattle",
            "count": 3
           },
           {
            "name": "Kenmore",
            "count": 1
           },
           {
            "name": "Sammamish",
            "count": 1
           }
          ]
         }
        },
        {
         "name": "_deepnote_index_column",
         "dtype": "int64"
        }
       ],
       "rows": [
        {
         "id": 7129300520,
         "date": "20141013T000000",
         "price": 221900,
         "bedrooms": 3,
         "bathrooms": 1,
         "sqft_living": 1180,
         "sqft_lot": 5650,
         "floors": 1,
         "waterfront": 0,
         "view": 0,
         "condition": 3,
         "grade": 7,
         "sqft_above": 1180,
         "sqft_basement": 0,
         "yr_built": 1955,
         "yr_renovated": 0,
         "zipcode": "98178",
         "lat": 47.5112,
         "long": -122.257,
         "sqft_living15": 1340,
         "sqft_lot15": 5650,
         "city": "Seattle",
         "_deepnote_index_column": 0
        },
        {
         "id": 6414100192,
         "date": "20141209T000000",
         "price": 538000,
         "bedrooms": 3,
         "bathrooms": 2.25,
         "sqft_living": 2570,
         "sqft_lot": 7242,
         "floors": 2,
         "waterfront": 0,
         "view": 0,
         "condition": 3,
         "grade": 7,
         "sqft_above": 2170,
         "sqft_basement": 400,
         "yr_built": 1951,
         "yr_renovated": 1991,
         "zipcode": "98125",
         "lat": 47.721,
         "long": -122.319,
         "sqft_living15": 1690,
         "sqft_lot15": 7639,
         "city": "Seattle",
         "_deepnote_index_column": 1
        },
        {
         "id": 5631500400,
         "date": "20150225T000000",
         "price": 180000,
         "bedrooms": 2,
         "bathrooms": 1,
         "sqft_living": 770,
         "sqft_lot": 10000,
         "floors": 1,
         "waterfront": 0,
         "view": 0,
         "condition": 3,
         "grade": 6,
         "sqft_above": 770,
         "sqft_basement": 0,
         "yr_built": 1933,
         "yr_renovated": 0,
         "zipcode": "98028",
         "lat": 47.7379,
         "long": -122.233,
         "sqft_living15": 2720,
         "sqft_lot15": 8062,
         "city": "Kenmore",
         "_deepnote_index_column": 2
        },
        {
         "id": 2487200875,
         "date": "20141209T000000",
         "price": 604000,
         "bedrooms": 4,
         "bathrooms": 3,
         "sqft_living": 1960,
         "sqft_lot": 5000,
         "floors": 1,
         "waterfront": 0,
         "view": 0,
         "condition": 5,
         "grade": 7,
         "sqft_above": 1050,
         "sqft_basement": 910,
         "yr_built": 1965,
         "yr_renovated": 0,
         "zipcode": "98136",
         "lat": 47.5208,
         "long": -122.393,
         "sqft_living15": 1360,
         "sqft_lot15": 5000,
         "city": "Seattle",
         "_deepnote_index_column": 3
        },
        {
         "id": 1954400510,
         "date": "20150218T000000",
         "price": 510000,
         "bedrooms": 3,
         "bathrooms": 2,
         "sqft_living": 1680,
         "sqft_lot": 8080,
         "floors": 1,
         "waterfront": 0,
         "view": 0,
         "condition": 3,
         "grade": 8,
         "sqft_above": 1680,
         "sqft_basement": 0,
         "yr_built": 1987,
         "yr_renovated": 0,
         "zipcode": "98074",
         "lat": 47.6168,
         "long": -122.045,
         "sqft_living15": 1800,
         "sqft_lot15": 7503,
         "city": "Sammamish",
         "_deepnote_index_column": 4
        }
       ]
      },
      "text/plain": "           id             date     price  bedrooms  bathrooms  sqft_living  \\\n0  7129300520  20141013T000000  221900.0         3       1.00         1180   \n1  6414100192  20141209T000000  538000.0         3       2.25         2570   \n2  5631500400  20150225T000000  180000.0         2       1.00          770   \n3  2487200875  20141209T000000  604000.0         4       3.00         1960   \n4  1954400510  20150218T000000  510000.0         3       2.00         1680   \n\n   sqft_lot  floors  waterfront  view  ...  sqft_above  sqft_basement  \\\n0    5650.0     1.0           0     0  ...        1180              0   \n1    7242.0     2.0           0     0  ...        2170            400   \n2   10000.0     1.0           0     0  ...         770              0   \n3    5000.0     1.0           0     0  ...        1050            910   \n4    8080.0     1.0           0     0  ...        1680              0   \n\n   yr_built  yr_renovated  zipcode      lat     long  sqft_living15  \\\n0      1955             0    98178  47.5112 -122.257           1340   \n1      1951          1991    98125  47.7210 -122.319           1690   \n2      1933             0    98028  47.7379 -122.233           2720   \n3      1965             0    98136  47.5208 -122.393           1360   \n4      1987             0    98074  47.6168 -122.045           1800   \n\n   sqft_lot15       city  \n0        5650    Seattle  \n1        7639    Seattle  \n2        8062    Kenmore  \n3        5000    Seattle  \n4        7503  Sammamish  \n\n[5 rows x 22 columns]",
      "text/html": "<div>\n<style scoped>\n    .dataframe tbody tr th:only-of-type {\n        vertical-align: middle;\n    }\n\n    .dataframe tbody tr th {\n        vertical-align: top;\n    }\n\n    .dataframe thead th {\n        text-align: right;\n    }\n</style>\n<table border=\"1\" class=\"dataframe\">\n  <thead>\n    <tr style=\"text-align: right;\">\n      <th></th>\n      <th>id</th>\n      <th>date</th>\n      <th>price</th>\n      <th>bedrooms</th>\n      <th>bathrooms</th>\n      <th>sqft_living</th>\n      <th>sqft_lot</th>\n      <th>floors</th>\n      <th>waterfront</th>\n      <th>view</th>\n      <th>...</th>\n      <th>sqft_above</th>\n      <th>sqft_basement</th>\n      <th>yr_built</th>\n      <th>yr_renovated</th>\n      <th>zipcode</th>\n      <th>lat</th>\n      <th>long</th>\n      <th>sqft_living15</th>\n      <th>sqft_lot15</th>\n      <th>city</th>\n    </tr>\n  </thead>\n  <tbody>\n    <tr>\n      <th>0</th>\n      <td>7129300520</td>\n      <td>20141013T000000</td>\n      <td>221900.0</td>\n      <td>3</td>\n      <td>1.00</td>\n      <td>1180</td>\n      <td>5650.0</td>\n      <td>1.0</td>\n      <td>0</td>\n      <td>0</td>\n      <td>...</td>\n      <td>1180</td>\n      <td>0</td>\n      <td>1955</td>\n      <td>0</td>\n      <td>98178</td>\n      <td>47.5112</td>\n      <td>-122.257</td>\n      <td>1340</td>\n      <td>5650</td>\n      <td>Seattle</td>\n    </tr>\n    <tr>\n      <th>1</th>\n      <td>6414100192</td>\n      <td>20141209T000000</td>\n      <td>538000.0</td>\n      <td>3</td>\n      <td>2.25</td>\n      <td>2570</td>\n      <td>7242.0</td>\n      <td>2.0</td>\n      <td>0</td>\n      <td>0</td>\n      <td>...</td>\n      <td>2170</td>\n      <td>400</td>\n      <td>1951</td>\n      <td>1991</td>\n      <td>98125</td>\n      <td>47.7210</td>\n      <td>-122.319</td>\n      <td>1690</td>\n      <td>7639</td>\n      <td>Seattle</td>\n    </tr>\n    <tr>\n      <th>2</th>\n      <td>5631500400</td>\n      <td>20150225T000000</td>\n      <td>180000.0</td>\n      <td>2</td>\n      <td>1.00</td>\n      <td>770</td>\n      <td>10000.0</td>\n      <td>1.0</td>\n      <td>0</td>\n      <td>0</td>\n      <td>...</td>\n      <td>770</td>\n      <td>0</td>\n      <td>1933</td>\n      <td>0</td>\n      <td>98028</td>\n      <td>47.7379</td>\n      <td>-122.233</td>\n      <td>2720</td>\n      <td>8062</td>\n      <td>Kenmore</td>\n    </tr>\n    <tr>\n      <th>3</th>\n      <td>2487200875</td>\n      <td>20141209T000000</td>\n      <td>604000.0</td>\n      <td>4</td>\n      <td>3.00</td>\n      <td>1960</td>\n      <td>5000.0</td>\n      <td>1.0</td>\n      <td>0</td>\n      <td>0</td>\n      <td>...</td>\n      <td>1050</td>\n      <td>910</td>\n      <td>1965</td>\n      <td>0</td>\n      <td>98136</td>\n      <td>47.5208</td>\n      <td>-122.393</td>\n      <td>1360</td>\n      <td>5000</td>\n      <td>Seattle</td>\n    </tr>\n    <tr>\n      <th>4</th>\n      <td>1954400510</td>\n      <td>20150218T000000</td>\n      <td>510000.0</td>\n      <td>3</td>\n      <td>2.00</td>\n      <td>1680</td>\n      <td>8080.0</td>\n      <td>1.0</td>\n      <td>0</td>\n      <td>0</td>\n      <td>...</td>\n      <td>1680</td>\n      <td>0</td>\n      <td>1987</td>\n      <td>0</td>\n      <td>98074</td>\n      <td>47.6168</td>\n      <td>-122.045</td>\n      <td>1800</td>\n      <td>7503</td>\n      <td>Sammamish</td>\n    </tr>\n  </tbody>\n</table>\n<p>5 rows × 22 columns</p>\n</div>"
     },
     "metadata": {}
    }
   ],
   "execution_count": null
  },
  {
   "cell_type": "markdown",
   "source": "Teniendo el conjunto de datos completo, eliminemos algunas columnas, por ejemplo columna: `id`, el parametro `axis=1` se refiere a columna)",
   "metadata": {
    "cell_id": "00044-9d58c630-50ca-4fc0-9d5b-610517fea039",
    "deepnote_cell_type": "markdown"
   }
  },
  {
   "cell_type": "code",
   "metadata": {
    "cell_id": "00045-eb1403c8-1b6c-4844-ae2c-174888c46c7f",
    "deepnote_to_be_reexecuted": false,
    "source_hash": "1dab8d50",
    "execution_start": 1646265120376,
    "execution_millis": 4,
    "deepnote_cell_type": "code"
   },
   "source": "df = df.drop(['id'], axis=1)",
   "outputs": [],
   "execution_count": null
  },
  {
   "cell_type": "markdown",
   "source": "Vamos a cambiar los nombres de las columnas que parecen crípticas",
   "metadata": {
    "cell_id": "00046-59a308b8-de3d-47ea-bcc7-e1e9277f1c77",
    "deepnote_cell_type": "markdown"
   }
  },
  {
   "cell_type": "code",
   "metadata": {
    "cell_id": "00047-1de7309a-189f-4c6d-a4b4-7449d78c8d3f",
    "deepnote_to_be_reexecuted": false,
    "source_hash": "71a7ec2",
    "execution_start": 1646265123524,
    "execution_millis": 3,
    "deepnote_cell_type": "code"
   },
   "source": "df = df.rename(columns={'yr_build': 'year_build', 'yr_renovated': 'year_renovated'})",
   "outputs": [],
   "execution_count": null
  },
  {
   "cell_type": "code",
   "metadata": {
    "cell_id": "00048-f2ac153f-dc6c-4d80-b3b3-5a63c46f78fe",
    "deepnote_to_be_reexecuted": false,
    "source_hash": "ff351ef2",
    "execution_start": 1646265123540,
    "execution_millis": 1,
    "deepnote_cell_type": "code"
   },
   "source": "print('Numero de columnas:',df.shape[1])",
   "outputs": [
    {
     "name": "stdout",
     "text": "Numero de columnas: 21\n",
     "output_type": "stream"
    }
   ],
   "execution_count": null
  },
  {
   "cell_type": "markdown",
   "source": "Cambiemos de nuevo el tipo del valor del código postal a entero",
   "metadata": {
    "cell_id": "00049-94b997de-a401-4719-880e-7795167c15f8",
    "deepnote_cell_type": "markdown"
   }
  },
  {
   "cell_type": "code",
   "metadata": {
    "cell_id": "00050-29fe5120-8bc2-455c-ae2a-b4d94128a78d",
    "deepnote_to_be_reexecuted": false,
    "source_hash": "8c2ba0b",
    "execution_start": 1646265123561,
    "execution_millis": 5,
    "deepnote_cell_type": "code"
   },
   "source": "df['zipcode'] = df['zipcode'].astype(int)",
   "outputs": [],
   "execution_count": null
  },
  {
   "cell_type": "code",
   "metadata": {
    "cell_id": "00051-cf614daa-f5e5-4763-8c75-c0f295d45289",
    "deepnote_to_be_reexecuted": false,
    "source_hash": "c085b6ba",
    "execution_start": 1646265127994,
    "execution_millis": 46,
    "deepnote_cell_type": "code"
   },
   "source": "df.head()",
   "outputs": [
    {
     "output_type": "execute_result",
     "execution_count": 22,
     "data": {
      "application/vnd.deepnote.dataframe.v3+json": {
       "column_count": 21,
       "row_count": 5,
       "columns": [
        {
         "name": "date",
         "dtype": "object",
         "stats": {
          "unique_count": 4,
          "nan_count": 0,
          "categories": [
           {
            "name": "20141209T000000",
            "count": 2
           },
           {
            "name": "20141013T000000",
            "count": 1
           },
           {
            "name": "2 others",
            "count": 2
           }
          ]
         }
        },
        {
         "name": "price",
         "dtype": "float64",
         "stats": {
          "unique_count": 5,
          "nan_count": 0,
          "min": "180000.0",
          "max": "604000.0",
          "histogram": [
           {
            "bin_start": 180000,
            "bin_end": 222400,
            "count": 2
           },
           {
            "bin_start": 222400,
            "bin_end": 264800,
            "count": 0
           },
           {
            "bin_start": 264800,
            "bin_end": 307200,
            "count": 0
           },
           {
            "bin_start": 307200,
            "bin_end": 349600,
            "count": 0
           },
           {
            "bin_start": 349600,
            "bin_end": 392000,
            "count": 0
           },
           {
            "bin_start": 392000,
            "bin_end": 434400,
            "count": 0
           },
           {
            "bin_start": 434400,
            "bin_end": 476800,
            "count": 0
           },
           {
            "bin_start": 476800,
            "bin_end": 519200,
            "count": 1
           },
           {
            "bin_start": 519200,
            "bin_end": 561600,
            "count": 1
           },
           {
            "bin_start": 561600,
            "bin_end": 604000,
            "count": 1
           }
          ]
         }
        },
        {
         "name": "bedrooms",
         "dtype": "int64",
         "stats": {
          "unique_count": 3,
          "nan_count": 0,
          "min": "2",
          "max": "4",
          "histogram": [
           {
            "bin_start": 2,
            "bin_end": 2.2,
            "count": 1
           },
           {
            "bin_start": 2.2,
            "bin_end": 2.4,
            "count": 0
           },
           {
            "bin_start": 2.4,
            "bin_end": 2.6,
            "count": 0
           },
           {
            "bin_start": 2.6,
            "bin_end": 2.8,
            "count": 0
           },
           {
            "bin_start": 2.8,
            "bin_end": 3,
            "count": 0
           },
           {
            "bin_start": 3,
            "bin_end": 3.2,
            "count": 3
           },
           {
            "bin_start": 3.2,
            "bin_end": 3.4000000000000004,
            "count": 0
           },
           {
            "bin_start": 3.4000000000000004,
            "bin_end": 3.6,
            "count": 0
           },
           {
            "bin_start": 3.6,
            "bin_end": 3.8,
            "count": 0
           },
           {
            "bin_start": 3.8,
            "bin_end": 4,
            "count": 1
           }
          ]
         }
        },
        {
         "name": "bathrooms",
         "dtype": "float64",
         "stats": {
          "unique_count": 4,
          "nan_count": 0,
          "min": "1.0",
          "max": "3.0",
          "histogram": [
           {
            "bin_start": 1,
            "bin_end": 1.2,
            "count": 2
           },
           {
            "bin_start": 1.2,
            "bin_end": 1.4,
            "count": 0
           },
           {
            "bin_start": 1.4,
            "bin_end": 1.6,
            "count": 0
           },
           {
            "bin_start": 1.6,
            "bin_end": 1.8,
            "count": 0
           },
           {
            "bin_start": 1.8,
            "bin_end": 2,
            "count": 0
           },
           {
            "bin_start": 2,
            "bin_end": 2.2,
            "count": 1
           },
           {
            "bin_start": 2.2,
            "bin_end": 2.4000000000000004,
            "count": 1
           },
           {
            "bin_start": 2.4000000000000004,
            "bin_end": 2.6,
            "count": 0
           },
           {
            "bin_start": 2.6,
            "bin_end": 2.8,
            "count": 0
           },
           {
            "bin_start": 2.8,
            "bin_end": 3,
            "count": 1
           }
          ]
         }
        },
        {
         "name": "sqft_living",
         "dtype": "int64",
         "stats": {
          "unique_count": 5,
          "nan_count": 0,
          "min": "770",
          "max": "2570",
          "histogram": [
           {
            "bin_start": 770,
            "bin_end": 950,
            "count": 1
           },
           {
            "bin_start": 950,
            "bin_end": 1130,
            "count": 0
           },
           {
            "bin_start": 1130,
            "bin_end": 1310,
            "count": 1
           },
           {
            "bin_start": 1310,
            "bin_end": 1490,
            "count": 0
           },
           {
            "bin_start": 1490,
            "bin_end": 1670,
            "count": 0
           },
           {
            "bin_start": 1670,
            "bin_end": 1850,
            "count": 1
           },
           {
            "bin_start": 1850,
            "bin_end": 2030,
            "count": 1
           },
           {
            "bin_start": 2030,
            "bin_end": 2210,
            "count": 0
           },
           {
            "bin_start": 2210,
            "bin_end": 2390,
            "count": 0
           },
           {
            "bin_start": 2390,
            "bin_end": 2570,
            "count": 1
           }
          ]
         }
        },
        {
         "name": "sqft_lot",
         "dtype": "float64",
         "stats": {
          "unique_count": 5,
          "nan_count": 0,
          "min": "5000.0",
          "max": "10000.0",
          "histogram": [
           {
            "bin_start": 5000,
            "bin_end": 5500,
            "count": 1
           },
           {
            "bin_start": 5500,
            "bin_end": 6000,
            "count": 1
           },
           {
            "bin_start": 6000,
            "bin_end": 6500,
            "count": 0
           },
           {
            "bin_start": 6500,
            "bin_end": 7000,
            "count": 0
           },
           {
            "bin_start": 7000,
            "bin_end": 7500,
            "count": 1
           },
           {
            "bin_start": 7500,
            "bin_end": 8000,
            "count": 0
           },
           {
            "bin_start": 8000,
            "bin_end": 8500,
            "count": 1
           },
           {
            "bin_start": 8500,
            "bin_end": 9000,
            "count": 0
           },
           {
            "bin_start": 9000,
            "bin_end": 9500,
            "count": 0
           },
           {
            "bin_start": 9500,
            "bin_end": 10000,
            "count": 1
           }
          ]
         }
        },
        {
         "name": "floors",
         "dtype": "float64",
         "stats": {
          "unique_count": 2,
          "nan_count": 0,
          "min": "1.0",
          "max": "2.0",
          "histogram": [
           {
            "bin_start": 1,
            "bin_end": 1.1,
            "count": 4
           },
           {
            "bin_start": 1.1,
            "bin_end": 1.2,
            "count": 0
           },
           {
            "bin_start": 1.2,
            "bin_end": 1.3,
            "count": 0
           },
           {
            "bin_start": 1.3,
            "bin_end": 1.4,
            "count": 0
           },
           {
            "bin_start": 1.4,
            "bin_end": 1.5,
            "count": 0
           },
           {
            "bin_start": 1.5,
            "bin_end": 1.6,
            "count": 0
           },
           {
            "bin_start": 1.6,
            "bin_end": 1.7000000000000002,
            "count": 0
           },
           {
            "bin_start": 1.7000000000000002,
            "bin_end": 1.8,
            "count": 0
           },
           {
            "bin_start": 1.8,
            "bin_end": 1.9,
            "count": 0
           },
           {
            "bin_start": 1.9,
            "bin_end": 2,
            "count": 1
           }
          ]
         }
        },
        {
         "name": "waterfront",
         "dtype": "int64",
         "stats": {
          "unique_count": 1,
          "nan_count": 0,
          "min": "0",
          "max": "0",
          "histogram": [
           {
            "bin_start": -0.5,
            "bin_end": -0.4,
            "count": 0
           },
           {
            "bin_start": -0.4,
            "bin_end": -0.3,
            "count": 0
           },
           {
            "bin_start": -0.3,
            "bin_end": -0.19999999999999996,
            "count": 0
           },
           {
            "bin_start": -0.19999999999999996,
            "bin_end": -0.09999999999999998,
            "count": 0
           },
           {
            "bin_start": -0.09999999999999998,
            "bin_end": 0,
            "count": 0
           },
           {
            "bin_start": 0,
            "bin_end": 0.10000000000000009,
            "count": 5
           },
           {
            "bin_start": 0.10000000000000009,
            "bin_end": 0.20000000000000007,
            "count": 0
           },
           {
            "bin_start": 0.20000000000000007,
            "bin_end": 0.30000000000000004,
            "count": 0
           },
           {
            "bin_start": 0.30000000000000004,
            "bin_end": 0.4,
            "count": 0
           },
           {
            "bin_start": 0.4,
            "bin_end": 0.5,
            "count": 0
           }
          ]
         }
        },
        {
         "name": "view",
         "dtype": "int64",
         "stats": {
          "unique_count": 1,
          "nan_count": 0,
          "min": "0",
          "max": "0",
          "histogram": [
           {
            "bin_start": -0.5,
            "bin_end": -0.4,
            "count": 0
           },
           {
            "bin_start": -0.4,
            "bin_end": -0.3,
            "count": 0
           },
           {
            "bin_start": -0.3,
            "bin_end": -0.19999999999999996,
            "count": 0
           },
           {
            "bin_start": -0.19999999999999996,
            "bin_end": -0.09999999999999998,
            "count": 0
           },
           {
            "bin_start": -0.09999999999999998,
            "bin_end": 0,
            "count": 0
           },
           {
            "bin_start": 0,
            "bin_end": 0.10000000000000009,
            "count": 5
           },
           {
            "bin_start": 0.10000000000000009,
            "bin_end": 0.20000000000000007,
            "count": 0
           },
           {
            "bin_start": 0.20000000000000007,
            "bin_end": 0.30000000000000004,
            "count": 0
           },
           {
            "bin_start": 0.30000000000000004,
            "bin_end": 0.4,
            "count": 0
           },
           {
            "bin_start": 0.4,
            "bin_end": 0.5,
            "count": 0
           }
          ]
         }
        },
        {
         "name": "condition",
         "dtype": "int64",
         "stats": {
          "unique_count": 2,
          "nan_count": 0,
          "min": "3",
          "max": "5",
          "histogram": [
           {
            "bin_start": 3,
            "bin_end": 3.2,
            "count": 4
           },
           {
            "bin_start": 3.2,
            "bin_end": 3.4,
            "count": 0
           },
           {
            "bin_start": 3.4,
            "bin_end": 3.6,
            "count": 0
           },
           {
            "bin_start": 3.6,
            "bin_end": 3.8,
            "count": 0
           },
           {
            "bin_start": 3.8,
            "bin_end": 4,
            "count": 0
           },
           {
            "bin_start": 4,
            "bin_end": 4.2,
            "count": 0
           },
           {
            "bin_start": 4.2,
            "bin_end": 4.4,
            "count": 0
           },
           {
            "bin_start": 4.4,
            "bin_end": 4.6,
            "count": 0
           },
           {
            "bin_start": 4.6,
            "bin_end": 4.8,
            "count": 0
           },
           {
            "bin_start": 4.8,
            "bin_end": 5,
            "count": 1
           }
          ]
         }
        },
        {
         "name": "grade",
         "dtype": "int64",
         "stats": {
          "unique_count": 3,
          "nan_count": 0,
          "min": "6",
          "max": "8",
          "histogram": [
           {
            "bin_start": 6,
            "bin_end": 6.2,
            "count": 1
           },
           {
            "bin_start": 6.2,
            "bin_end": 6.4,
            "count": 0
           },
           {
            "bin_start": 6.4,
            "bin_end": 6.6,
            "count": 0
           },
           {
            "bin_start": 6.6,
            "bin_end": 6.8,
            "count": 0
           },
           {
            "bin_start": 6.8,
            "bin_end": 7,
            "count": 0
           },
           {
            "bin_start": 7,
            "bin_end": 7.2,
            "count": 3
           },
           {
            "bin_start": 7.2,
            "bin_end": 7.4,
            "count": 0
           },
           {
            "bin_start": 7.4,
            "bin_end": 7.6,
            "count": 0
           },
           {
            "bin_start": 7.6,
            "bin_end": 7.8,
            "count": 0
           },
           {
            "bin_start": 7.8,
            "bin_end": 8,
            "count": 1
           }
          ]
         }
        },
        {
         "name": "sqft_above",
         "dtype": "int64",
         "stats": {
          "unique_count": 5,
          "nan_count": 0,
          "min": "770",
          "max": "2170",
          "histogram": [
           {
            "bin_start": 770,
            "bin_end": 910,
            "count": 1
           },
           {
            "bin_start": 910,
            "bin_end": 1050,
            "count": 0
           },
           {
            "bin_start": 1050,
            "bin_end": 1190,
            "count": 2
           },
           {
            "bin_start": 1190,
            "bin_end": 1330,
            "count": 0
           },
           {
            "bin_start": 1330,
            "bin_end": 1470,
            "count": 0
           },
           {
            "bin_start": 1470,
            "bin_end": 1610,
            "count": 0
           },
           {
            "bin_start": 1610,
            "bin_end": 1750,
            "count": 1
           },
           {
            "bin_start": 1750,
            "bin_end": 1890,
            "count": 0
           },
           {
            "bin_start": 1890,
            "bin_end": 2030,
            "count": 0
           },
           {
            "bin_start": 2030,
            "bin_end": 2170,
            "count": 1
           }
          ]
         }
        },
        {
         "name": "sqft_basement",
         "dtype": "int64",
         "stats": {
          "unique_count": 3,
          "nan_count": 0,
          "min": "0",
          "max": "910",
          "histogram": [
           {
            "bin_start": 0,
            "bin_end": 91,
            "count": 3
           },
           {
            "bin_start": 91,
            "bin_end": 182,
            "count": 0
           },
           {
            "bin_start": 182,
            "bin_end": 273,
            "count": 0
           },
           {
            "bin_start": 273,
            "bin_end": 364,
            "count": 0
           },
           {
            "bin_start": 364,
            "bin_end": 455,
            "count": 1
           },
           {
            "bin_start": 455,
            "bin_end": 546,
            "count": 0
           },
           {
            "bin_start": 546,
            "bin_end": 637,
            "count": 0
           },
           {
            "bin_start": 637,
            "bin_end": 728,
            "count": 0
           },
           {
            "bin_start": 728,
            "bin_end": 819,
            "count": 0
           },
           {
            "bin_start": 819,
            "bin_end": 910,
            "count": 1
           }
          ]
         }
        },
        {
         "name": "yr_built",
         "dtype": "int64",
         "stats": {
          "unique_count": 5,
          "nan_count": 0,
          "min": "1933",
          "max": "1987",
          "histogram": [
           {
            "bin_start": 1933,
            "bin_end": 1938.4,
            "count": 1
           },
           {
            "bin_start": 1938.4,
            "bin_end": 1943.8,
            "count": 0
           },
           {
            "bin_start": 1943.8,
            "bin_end": 1949.2,
            "count": 0
           },
           {
            "bin_start": 1949.2,
            "bin_end": 1954.6,
            "count": 1
           },
           {
            "bin_start": 1954.6,
            "bin_end": 1960,
            "count": 1
           },
           {
            "bin_start": 1960,
            "bin_end": 1965.4,
            "count": 1
           },
           {
            "bin_start": 1965.4,
            "bin_end": 1970.8,
            "count": 0
           },
           {
            "bin_start": 1970.8,
            "bin_end": 1976.2,
            "count": 0
           },
           {
            "bin_start": 1976.2,
            "bin_end": 1981.6,
            "count": 0
           },
           {
            "bin_start": 1981.6,
            "bin_end": 1987,
            "count": 1
           }
          ]
         }
        },
        {
         "name": "year_renovated",
         "dtype": "int64",
         "stats": {
          "unique_count": 2,
          "nan_count": 0,
          "min": "0",
          "max": "1991",
          "histogram": [
           {
            "bin_start": 0,
            "bin_end": 199.1,
            "count": 4
           },
           {
            "bin_start": 199.1,
            "bin_end": 398.2,
            "count": 0
           },
           {
            "bin_start": 398.2,
            "bin_end": 597.3,
            "count": 0
           },
           {
            "bin_start": 597.3,
            "bin_end": 796.4,
            "count": 0
           },
           {
            "bin_start": 796.4,
            "bin_end": 995.5,
            "count": 0
           },
           {
            "bin_start": 995.5,
            "bin_end": 1194.6,
            "count": 0
           },
           {
            "bin_start": 1194.6,
            "bin_end": 1393.7,
            "count": 0
           },
           {
            "bin_start": 1393.7,
            "bin_end": 1592.8,
            "count": 0
           },
           {
            "bin_start": 1592.8,
            "bin_end": 1791.8999999999999,
            "count": 0
           },
           {
            "bin_start": 1791.8999999999999,
            "bin_end": 1991,
            "count": 1
           }
          ]
         }
        },
        {
         "name": "zipcode",
         "dtype": "int64",
         "stats": {
          "unique_count": 5,
          "nan_count": 0,
          "min": "98028",
          "max": "98178",
          "histogram": [
           {
            "bin_start": 98028,
            "bin_end": 98043,
            "count": 1
           },
           {
            "bin_start": 98043,
            "bin_end": 98058,
            "count": 0
           },
           {
            "bin_start": 98058,
            "bin_end": 98073,
            "count": 0
           },
           {
            "bin_start": 98073,
            "bin_end": 98088,
            "count": 1
           },
           {
            "bin_start": 98088,
            "bin_end": 98103,
            "count": 0
           },
           {
            "bin_start": 98103,
            "bin_end": 98118,
            "count": 0
           },
           {
            "bin_start": 98118,
            "bin_end": 98133,
            "count": 1
           },
           {
            "bin_start": 98133,
            "bin_end": 98148,
            "count": 1
           },
           {
            "bin_start": 98148,
            "bin_end": 98163,
            "count": 0
           },
           {
            "bin_start": 98163,
            "bin_end": 98178,
            "count": 1
           }
          ]
         }
        },
        {
         "name": "lat",
         "dtype": "float64",
         "stats": {
          "unique_count": 5,
          "nan_count": 0,
          "min": "47.5112",
          "max": "47.7379",
          "histogram": [
           {
            "bin_start": 47.5112,
            "bin_end": 47.53387,
            "count": 2
           },
           {
            "bin_start": 47.53387,
            "bin_end": 47.556540000000005,
            "count": 0
           },
           {
            "bin_start": 47.556540000000005,
            "bin_end": 47.57921,
            "count": 0
           },
           {
            "bin_start": 47.57921,
            "bin_end": 47.60188,
            "count": 0
           },
           {
            "bin_start": 47.60188,
            "bin_end": 47.62455,
            "count": 1
           },
           {
            "bin_start": 47.62455,
            "bin_end": 47.647220000000004,
            "count": 0
           },
           {
            "bin_start": 47.647220000000004,
            "bin_end": 47.66989,
            "count": 0
           },
           {
            "bin_start": 47.66989,
            "bin_end": 47.69256,
            "count": 0
           },
           {
            "bin_start": 47.69256,
            "bin_end": 47.715230000000005,
            "count": 0
           },
           {
            "bin_start": 47.715230000000005,
            "bin_end": 47.7379,
            "count": 2
           }
          ]
         }
        },
        {
         "name": "long",
         "dtype": "float64",
         "stats": {
          "unique_count": 5,
          "nan_count": 0,
          "min": "-122.393",
          "max": "-122.045",
          "histogram": [
           {
            "bin_start": -122.393,
            "bin_end": -122.3582,
            "count": 1
           },
           {
            "bin_start": -122.3582,
            "bin_end": -122.3234,
            "count": 0
           },
           {
            "bin_start": -122.3234,
            "bin_end": -122.2886,
            "count": 1
           },
           {
            "bin_start": -122.2886,
            "bin_end": -122.2538,
            "count": 1
           },
           {
            "bin_start": -122.2538,
            "bin_end": -122.219,
            "count": 1
           },
           {
            "bin_start": -122.219,
            "bin_end": -122.1842,
            "count": 0
           },
           {
            "bin_start": -122.1842,
            "bin_end": -122.1494,
            "count": 0
           },
           {
            "bin_start": -122.1494,
            "bin_end": -122.1146,
            "count": 0
           },
           {
            "bin_start": -122.1146,
            "bin_end": -122.0798,
            "count": 0
           },
           {
            "bin_start": -122.0798,
            "bin_end": -122.045,
            "count": 1
           }
          ]
         }
        },
        {
         "name": "sqft_living15",
         "dtype": "int64",
         "stats": {
          "unique_count": 5,
          "nan_count": 0,
          "min": "1340",
          "max": "2720",
          "histogram": [
           {
            "bin_start": 1340,
            "bin_end": 1478,
            "count": 2
           },
           {
            "bin_start": 1478,
            "bin_end": 1616,
            "count": 0
           },
           {
            "bin_start": 1616,
            "bin_end": 1754,
            "count": 1
           },
           {
            "bin_start": 1754,
            "bin_end": 1892,
            "count": 1
           },
           {
            "bin_start": 1892,
            "bin_end": 2030,
            "count": 0
           },
           {
            "bin_start": 2030,
            "bin_end": 2168,
            "count": 0
           },
           {
            "bin_start": 2168,
            "bin_end": 2306,
            "count": 0
           },
           {
            "bin_start": 2306,
            "bin_end": 2444,
            "count": 0
           },
           {
            "bin_start": 2444,
            "bin_end": 2582,
            "count": 0
           },
           {
            "bin_start": 2582,
            "bin_end": 2720,
            "count": 1
           }
          ]
         }
        },
        {
         "name": "sqft_lot15",
         "dtype": "int64",
         "stats": {
          "unique_count": 5,
          "nan_count": 0,
          "min": "5000",
          "max": "8062",
          "histogram": [
           {
            "bin_start": 5000,
            "bin_end": 5306.2,
            "count": 1
           },
           {
            "bin_start": 5306.2,
            "bin_end": 5612.4,
            "count": 0
           },
           {
            "bin_start": 5612.4,
            "bin_end": 5918.6,
            "count": 1
           },
           {
            "bin_start": 5918.6,
            "bin_end": 6224.8,
            "count": 0
           },
           {
            "bin_start": 6224.8,
            "bin_end": 6531,
            "count": 0
           },
           {
            "bin_start": 6531,
            "bin_end": 6837.2,
            "count": 0
           },
           {
            "bin_start": 6837.2,
            "bin_end": 7143.4,
            "count": 0
           },
           {
            "bin_start": 7143.4,
            "bin_end": 7449.6,
            "count": 0
           },
           {
            "bin_start": 7449.6,
            "bin_end": 7755.799999999999,
            "count": 2
           },
           {
            "bin_start": 7755.799999999999,
            "bin_end": 8062,
            "count": 1
           }
          ]
         }
        },
        {
         "name": "city",
         "dtype": "object",
         "stats": {
          "unique_count": 3,
          "nan_count": 0,
          "categories": [
           {
            "name": "Seattle",
            "count": 3
           },
           {
            "name": "Kenmore",
            "count": 1
           },
           {
            "name": "Sammamish",
            "count": 1
           }
          ]
         }
        },
        {
         "name": "_deepnote_index_column",
         "dtype": "int64"
        }
       ],
       "rows": [
        {
         "date": "20141013T000000",
         "price": 221900,
         "bedrooms": 3,
         "bathrooms": 1,
         "sqft_living": 1180,
         "sqft_lot": 5650,
         "floors": 1,
         "waterfront": 0,
         "view": 0,
         "condition": 3,
         "grade": 7,
         "sqft_above": 1180,
         "sqft_basement": 0,
         "yr_built": 1955,
         "year_renovated": 0,
         "zipcode": 98178,
         "lat": 47.5112,
         "long": -122.257,
         "sqft_living15": 1340,
         "sqft_lot15": 5650,
         "city": "Seattle",
         "_deepnote_index_column": 0
        },
        {
         "date": "20141209T000000",
         "price": 538000,
         "bedrooms": 3,
         "bathrooms": 2.25,
         "sqft_living": 2570,
         "sqft_lot": 7242,
         "floors": 2,
         "waterfront": 0,
         "view": 0,
         "condition": 3,
         "grade": 7,
         "sqft_above": 2170,
         "sqft_basement": 400,
         "yr_built": 1951,
         "year_renovated": 1991,
         "zipcode": 98125,
         "lat": 47.721,
         "long": -122.319,
         "sqft_living15": 1690,
         "sqft_lot15": 7639,
         "city": "Seattle",
         "_deepnote_index_column": 1
        },
        {
         "date": "20150225T000000",
         "price": 180000,
         "bedrooms": 2,
         "bathrooms": 1,
         "sqft_living": 770,
         "sqft_lot": 10000,
         "floors": 1,
         "waterfront": 0,
         "view": 0,
         "condition": 3,
         "grade": 6,
         "sqft_above": 770,
         "sqft_basement": 0,
         "yr_built": 1933,
         "year_renovated": 0,
         "zipcode": 98028,
         "lat": 47.7379,
         "long": -122.233,
         "sqft_living15": 2720,
         "sqft_lot15": 8062,
         "city": "Kenmore",
         "_deepnote_index_column": 2
        },
        {
         "date": "20141209T000000",
         "price": 604000,
         "bedrooms": 4,
         "bathrooms": 3,
         "sqft_living": 1960,
         "sqft_lot": 5000,
         "floors": 1,
         "waterfront": 0,
         "view": 0,
         "condition": 5,
         "grade": 7,
         "sqft_above": 1050,
         "sqft_basement": 910,
         "yr_built": 1965,
         "year_renovated": 0,
         "zipcode": 98136,
         "lat": 47.5208,
         "long": -122.393,
         "sqft_living15": 1360,
         "sqft_lot15": 5000,
         "city": "Seattle",
         "_deepnote_index_column": 3
        },
        {
         "date": "20150218T000000",
         "price": 510000,
         "bedrooms": 3,
         "bathrooms": 2,
         "sqft_living": 1680,
         "sqft_lot": 8080,
         "floors": 1,
         "waterfront": 0,
         "view": 0,
         "condition": 3,
         "grade": 8,
         "sqft_above": 1680,
         "sqft_basement": 0,
         "yr_built": 1987,
         "year_renovated": 0,
         "zipcode": 98074,
         "lat": 47.6168,
         "long": -122.045,
         "sqft_living15": 1800,
         "sqft_lot15": 7503,
         "city": "Sammamish",
         "_deepnote_index_column": 4
        }
       ]
      },
      "text/plain": "              date     price  bedrooms  bathrooms  sqft_living  sqft_lot  \\\n0  20141013T000000  221900.0         3       1.00         1180    5650.0   \n1  20141209T000000  538000.0         3       2.25         2570    7242.0   \n2  20150225T000000  180000.0         2       1.00          770   10000.0   \n3  20141209T000000  604000.0         4       3.00         1960    5000.0   \n4  20150218T000000  510000.0         3       2.00         1680    8080.0   \n\n   floors  waterfront  view  condition  ...  sqft_above  sqft_basement  \\\n0     1.0           0     0          3  ...        1180              0   \n1     2.0           0     0          3  ...        2170            400   \n2     1.0           0     0          3  ...         770              0   \n3     1.0           0     0          5  ...        1050            910   \n4     1.0           0     0          3  ...        1680              0   \n\n   yr_built  year_renovated  zipcode      lat     long  sqft_living15  \\\n0      1955               0    98178  47.5112 -122.257           1340   \n1      1951            1991    98125  47.7210 -122.319           1690   \n2      1933               0    98028  47.7379 -122.233           2720   \n3      1965               0    98136  47.5208 -122.393           1360   \n4      1987               0    98074  47.6168 -122.045           1800   \n\n   sqft_lot15       city  \n0        5650    Seattle  \n1        7639    Seattle  \n2        8062    Kenmore  \n3        5000    Seattle  \n4        7503  Sammamish  \n\n[5 rows x 21 columns]",
      "text/html": "<div>\n<style scoped>\n    .dataframe tbody tr th:only-of-type {\n        vertical-align: middle;\n    }\n\n    .dataframe tbody tr th {\n        vertical-align: top;\n    }\n\n    .dataframe thead th {\n        text-align: right;\n    }\n</style>\n<table border=\"1\" class=\"dataframe\">\n  <thead>\n    <tr style=\"text-align: right;\">\n      <th></th>\n      <th>date</th>\n      <th>price</th>\n      <th>bedrooms</th>\n      <th>bathrooms</th>\n      <th>sqft_living</th>\n      <th>sqft_lot</th>\n      <th>floors</th>\n      <th>waterfront</th>\n      <th>view</th>\n      <th>condition</th>\n      <th>...</th>\n      <th>sqft_above</th>\n      <th>sqft_basement</th>\n      <th>yr_built</th>\n      <th>year_renovated</th>\n      <th>zipcode</th>\n      <th>lat</th>\n      <th>long</th>\n      <th>sqft_living15</th>\n      <th>sqft_lot15</th>\n      <th>city</th>\n    </tr>\n  </thead>\n  <tbody>\n    <tr>\n      <th>0</th>\n      <td>20141013T000000</td>\n      <td>221900.0</td>\n      <td>3</td>\n      <td>1.00</td>\n      <td>1180</td>\n      <td>5650.0</td>\n      <td>1.0</td>\n      <td>0</td>\n      <td>0</td>\n      <td>3</td>\n      <td>...</td>\n      <td>1180</td>\n      <td>0</td>\n      <td>1955</td>\n      <td>0</td>\n      <td>98178</td>\n      <td>47.5112</td>\n      <td>-122.257</td>\n      <td>1340</td>\n      <td>5650</td>\n      <td>Seattle</td>\n    </tr>\n    <tr>\n      <th>1</th>\n      <td>20141209T000000</td>\n      <td>538000.0</td>\n      <td>3</td>\n      <td>2.25</td>\n      <td>2570</td>\n      <td>7242.0</td>\n      <td>2.0</td>\n      <td>0</td>\n      <td>0</td>\n      <td>3</td>\n      <td>...</td>\n      <td>2170</td>\n      <td>400</td>\n      <td>1951</td>\n      <td>1991</td>\n      <td>98125</td>\n      <td>47.7210</td>\n      <td>-122.319</td>\n      <td>1690</td>\n      <td>7639</td>\n      <td>Seattle</td>\n    </tr>\n    <tr>\n      <th>2</th>\n      <td>20150225T000000</td>\n      <td>180000.0</td>\n      <td>2</td>\n      <td>1.00</td>\n      <td>770</td>\n      <td>10000.0</td>\n      <td>1.0</td>\n      <td>0</td>\n      <td>0</td>\n      <td>3</td>\n      <td>...</td>\n      <td>770</td>\n      <td>0</td>\n      <td>1933</td>\n      <td>0</td>\n      <td>98028</td>\n      <td>47.7379</td>\n      <td>-122.233</td>\n      <td>2720</td>\n      <td>8062</td>\n      <td>Kenmore</td>\n    </tr>\n    <tr>\n      <th>3</th>\n      <td>20141209T000000</td>\n      <td>604000.0</td>\n      <td>4</td>\n      <td>3.00</td>\n      <td>1960</td>\n      <td>5000.0</td>\n      <td>1.0</td>\n      <td>0</td>\n      <td>0</td>\n      <td>5</td>\n      <td>...</td>\n      <td>1050</td>\n      <td>910</td>\n      <td>1965</td>\n      <td>0</td>\n      <td>98136</td>\n      <td>47.5208</td>\n      <td>-122.393</td>\n      <td>1360</td>\n      <td>5000</td>\n      <td>Seattle</td>\n    </tr>\n    <tr>\n      <th>4</th>\n      <td>20150218T000000</td>\n      <td>510000.0</td>\n      <td>3</td>\n      <td>2.00</td>\n      <td>1680</td>\n      <td>8080.0</td>\n      <td>1.0</td>\n      <td>0</td>\n      <td>0</td>\n      <td>3</td>\n      <td>...</td>\n      <td>1680</td>\n      <td>0</td>\n      <td>1987</td>\n      <td>0</td>\n      <td>98074</td>\n      <td>47.6168</td>\n      <td>-122.045</td>\n      <td>1800</td>\n      <td>7503</td>\n      <td>Sammamish</td>\n    </tr>\n  </tbody>\n</table>\n<p>5 rows × 21 columns</p>\n</div>"
     },
     "metadata": {}
    }
   ],
   "execution_count": null
  },
  {
   "cell_type": "markdown",
   "source": "## 3. Comprobar de los tipos de datos y eliminar de los valores repetidos, y `Nan`",
   "metadata": {
    "cell_id": "00052-fdae2c0a-5213-4c52-800f-e1c778201afd",
    "deepnote_cell_type": "markdown"
   }
  },
  {
   "cell_type": "markdown",
   "source": "Despues de combinar y completar los datos vamos a revisar el conjunto en el termino de tipos de datos y valor non-numerical `NaN` (Not-A-Number)\n\nCon funcion `info()` vemos las columnas, el total de filas y la cantidad de filas sin nulos. También los tipos de datos.",
   "metadata": {
    "cell_id": "00053-2280d3ba-697e-45f3-a7de-ca21f2123faa",
    "deepnote_cell_type": "markdown"
   }
  },
  {
   "cell_type": "code",
   "metadata": {
    "cell_id": "00054-7bca7020-5717-465b-a1b1-78762461bec9",
    "deepnote_to_be_reexecuted": false,
    "source_hash": "de1e323c",
    "execution_start": 1646265128046,
    "execution_millis": 19,
    "deepnote_cell_type": "code"
   },
   "source": "df.info()",
   "outputs": [
    {
     "name": "stdout",
     "text": "<class 'pandas.core.frame.DataFrame'>\nInt64Index: 21615 entries, 0 to 21614\nData columns (total 21 columns):\n #   Column          Non-Null Count  Dtype  \n---  ------          --------------  -----  \n 0   date            21615 non-null  object \n 1   price           21615 non-null  float64\n 2   bedrooms        21615 non-null  int64  \n 3   bathrooms       21615 non-null  float64\n 4   sqft_living     21615 non-null  int64  \n 5   sqft_lot        21614 non-null  float64\n 6   floors          21615 non-null  float64\n 7   waterfront      21615 non-null  int64  \n 8   view            21615 non-null  int64  \n 9   condition       21615 non-null  int64  \n 10  grade           21615 non-null  int64  \n 11  sqft_above      21615 non-null  int64  \n 12  sqft_basement   21615 non-null  int64  \n 13  yr_built        21615 non-null  int64  \n 14  year_renovated  21615 non-null  int64  \n 15  zipcode         21615 non-null  int64  \n 16  lat             21615 non-null  float64\n 17  long            21615 non-null  float64\n 18  sqft_living15   21615 non-null  int64  \n 19  sqft_lot15      21615 non-null  int64  \n 20  city            21615 non-null  object \ndtypes: float64(6), int64(13), object(2)\nmemory usage: 3.6+ MB\n",
     "output_type": "stream"
    }
   ],
   "execution_count": null
  },
  {
   "cell_type": "markdown",
   "source": "Podemos ver que la mayoría de las columnas tienen 21615 valores no vacíos, excepto la columna `sqft_lot` que muestra 21614 valores no vacíos, lo que significa que en esta columna hay un valor no vacío. Inspeccionemos eso más de cerca. ",
   "metadata": {
    "cell_id": "00055-270ba183-f620-409e-ad20-eb735ae0deeb",
    "deepnote_cell_type": "markdown"
   }
  },
  {
   "cell_type": "code",
   "metadata": {
    "cell_id": "00056-832187e2-c796-4b11-981a-1dcfe29ebcc5",
    "deepnote_to_be_reexecuted": false,
    "source_hash": "d794f466",
    "execution_start": 1646265128071,
    "execution_millis": 8,
    "deepnote_cell_type": "code"
   },
   "source": "df.isna().sum()",
   "outputs": [
    {
     "output_type": "execute_result",
     "execution_count": 24,
     "data": {
      "text/plain": "date              0\nprice             0\nbedrooms          0\nbathrooms         0\nsqft_living       0\nsqft_lot          1\nfloors            0\nwaterfront        0\nview              0\ncondition         0\ngrade             0\nsqft_above        0\nsqft_basement     0\nyr_built          0\nyear_renovated    0\nzipcode           0\nlat               0\nlong              0\nsqft_living15     0\nsqft_lot15        0\ncity              0\ndtype: int64"
     },
     "metadata": {}
    }
   ],
   "execution_count": null
  },
  {
   "cell_type": "markdown",
   "source": "columna `sqft_lot` contiene un valor nonumerico `Nan`",
   "metadata": {
    "cell_id": "00057-df745bfa-a3a9-42b4-bec2-c49532512af6",
    "deepnote_cell_type": "markdown"
   }
  },
  {
   "cell_type": "markdown",
   "source": "Podemos visualizar esta fila en particular usando el enmascaramiento lógico.",
   "metadata": {
    "cell_id": "00058-b6f1b621-c835-4f2f-80aa-6d847d7bd930",
    "deepnote_cell_type": "markdown"
   }
  },
  {
   "cell_type": "code",
   "metadata": {
    "cell_id": "00059-241ce6e3-26d3-4f36-a192-4dfa2a566979",
    "deepnote_to_be_reexecuted": false,
    "source_hash": "c7a77282",
    "execution_start": 1646265128130,
    "execution_millis": 48,
    "deepnote_cell_type": "code"
   },
   "source": "df[df['sqft_lot'].isna()]",
   "outputs": [
    {
     "output_type": "execute_result",
     "execution_count": 25,
     "data": {
      "application/vnd.deepnote.dataframe.v3+json": {
       "column_count": 21,
       "row_count": 1,
       "columns": [
        {
         "name": "date",
         "dtype": "object",
         "stats": {
          "unique_count": 1,
          "nan_count": 0,
          "categories": [
           {
            "name": "20140723T000000",
            "count": 1
           }
          ]
         }
        },
        {
         "name": "price",
         "dtype": "float64",
         "stats": {
          "unique_count": 1,
          "nan_count": 0,
          "min": "188500.0",
          "max": "188500.0",
          "histogram": [
           {
            "bin_start": 188499.5,
            "bin_end": 188499.6,
            "count": 0
           },
           {
            "bin_start": 188499.6,
            "bin_end": 188499.7,
            "count": 0
           },
           {
            "bin_start": 188499.7,
            "bin_end": 188499.8,
            "count": 0
           },
           {
            "bin_start": 188499.8,
            "bin_end": 188499.9,
            "count": 0
           },
           {
            "bin_start": 188499.9,
            "bin_end": 188500,
            "count": 0
           },
           {
            "bin_start": 188500,
            "bin_end": 188500.1,
            "count": 1
           },
           {
            "bin_start": 188500.1,
            "bin_end": 188500.2,
            "count": 0
           },
           {
            "bin_start": 188500.2,
            "bin_end": 188500.3,
            "count": 0
           },
           {
            "bin_start": 188500.3,
            "bin_end": 188500.4,
            "count": 0
           },
           {
            "bin_start": 188500.4,
            "bin_end": 188500.5,
            "count": 0
           }
          ]
         }
        },
        {
         "name": "bedrooms",
         "dtype": "int64",
         "stats": {
          "unique_count": 1,
          "nan_count": 0,
          "min": "2",
          "max": "2",
          "histogram": [
           {
            "bin_start": 1.5,
            "bin_end": 1.6,
            "count": 0
           },
           {
            "bin_start": 1.6,
            "bin_end": 1.7,
            "count": 0
           },
           {
            "bin_start": 1.7,
            "bin_end": 1.8,
            "count": 0
           },
           {
            "bin_start": 1.8,
            "bin_end": 1.9,
            "count": 0
           },
           {
            "bin_start": 1.9,
            "bin_end": 2,
            "count": 0
           },
           {
            "bin_start": 2,
            "bin_end": 2.1,
            "count": 1
           },
           {
            "bin_start": 2.1,
            "bin_end": 2.2,
            "count": 0
           },
           {
            "bin_start": 2.2,
            "bin_end": 2.3,
            "count": 0
           },
           {
            "bin_start": 2.3,
            "bin_end": 2.4,
            "count": 0
           },
           {
            "bin_start": 2.4,
            "bin_end": 2.5,
            "count": 0
           }
          ]
         }
        },
        {
         "name": "bathrooms",
         "dtype": "float64",
         "stats": {
          "unique_count": 1,
          "nan_count": 0,
          "min": "1.75",
          "max": "1.75",
          "histogram": [
           {
            "bin_start": 1.25,
            "bin_end": 1.35,
            "count": 0
           },
           {
            "bin_start": 1.35,
            "bin_end": 1.45,
            "count": 0
           },
           {
            "bin_start": 1.45,
            "bin_end": 1.55,
            "count": 0
           },
           {
            "bin_start": 1.55,
            "bin_end": 1.65,
            "count": 0
           },
           {
            "bin_start": 1.65,
            "bin_end": 1.75,
            "count": 0
           },
           {
            "bin_start": 1.75,
            "bin_end": 1.85,
            "count": 1
           },
           {
            "bin_start": 1.85,
            "bin_end": 1.9500000000000002,
            "count": 0
           },
           {
            "bin_start": 1.9500000000000002,
            "bin_end": 2.05,
            "count": 0
           },
           {
            "bin_start": 2.05,
            "bin_end": 2.15,
            "count": 0
           },
           {
            "bin_start": 2.15,
            "bin_end": 2.25,
            "count": 0
           }
          ]
         }
        },
        {
         "name": "sqft_living",
         "dtype": "int64",
         "stats": {
          "unique_count": 1,
          "nan_count": 0,
          "min": "1240",
          "max": "1240",
          "histogram": [
           {
            "bin_start": 1239.5,
            "bin_end": 1239.6,
            "count": 0
           },
           {
            "bin_start": 1239.6,
            "bin_end": 1239.7,
            "count": 0
           },
           {
            "bin_start": 1239.7,
            "bin_end": 1239.8,
            "count": 0
           },
           {
            "bin_start": 1239.8,
            "bin_end": 1239.9,
            "count": 0
           },
           {
            "bin_start": 1239.9,
            "bin_end": 1240,
            "count": 0
           },
           {
            "bin_start": 1240,
            "bin_end": 1240.1,
            "count": 1
           },
           {
            "bin_start": 1240.1,
            "bin_end": 1240.2,
            "count": 0
           },
           {
            "bin_start": 1240.2,
            "bin_end": 1240.3,
            "count": 0
           },
           {
            "bin_start": 1240.3,
            "bin_end": 1240.4,
            "count": 0
           },
           {
            "bin_start": 1240.4,
            "bin_end": 1240.5,
            "count": 0
           }
          ]
         }
        },
        {
         "name": "sqft_lot",
         "dtype": "float64",
         "stats": {
          "unique_count": 0,
          "nan_count": 1,
          "min": null,
          "max": null,
          "histogram": [
           {
            "bin_start": 0,
            "bin_end": 0.1,
            "count": 0
           },
           {
            "bin_start": 0.1,
            "bin_end": 0.2,
            "count": 0
           },
           {
            "bin_start": 0.2,
            "bin_end": 0.30000000000000004,
            "count": 0
           },
           {
            "bin_start": 0.30000000000000004,
            "bin_end": 0.4,
            "count": 0
           },
           {
            "bin_start": 0.4,
            "bin_end": 0.5,
            "count": 0
           },
           {
            "bin_start": 0.5,
            "bin_end": 0.6000000000000001,
            "count": 0
           },
           {
            "bin_start": 0.6000000000000001,
            "bin_end": 0.7000000000000001,
            "count": 0
           },
           {
            "bin_start": 0.7000000000000001,
            "bin_end": 0.8,
            "count": 0
           },
           {
            "bin_start": 0.8,
            "bin_end": 0.9,
            "count": 0
           },
           {
            "bin_start": 0.9,
            "bin_end": 1,
            "count": 0
           }
          ]
         }
        },
        {
         "name": "floors",
         "dtype": "float64",
         "stats": {
          "unique_count": 1,
          "nan_count": 0,
          "min": "1.0",
          "max": "1.0",
          "histogram": [
           {
            "bin_start": 0.5,
            "bin_end": 0.6,
            "count": 0
           },
           {
            "bin_start": 0.6,
            "bin_end": 0.7,
            "count": 0
           },
           {
            "bin_start": 0.7,
            "bin_end": 0.8,
            "count": 0
           },
           {
            "bin_start": 0.8,
            "bin_end": 0.9,
            "count": 0
           },
           {
            "bin_start": 0.9,
            "bin_end": 1,
            "count": 0
           },
           {
            "bin_start": 1,
            "bin_end": 1.1,
            "count": 1
           },
           {
            "bin_start": 1.1,
            "bin_end": 1.2000000000000002,
            "count": 0
           },
           {
            "bin_start": 1.2000000000000002,
            "bin_end": 1.3,
            "count": 0
           },
           {
            "bin_start": 1.3,
            "bin_end": 1.4,
            "count": 0
           },
           {
            "bin_start": 1.4,
            "bin_end": 1.5,
            "count": 0
           }
          ]
         }
        },
        {
         "name": "waterfront",
         "dtype": "int64",
         "stats": {
          "unique_count": 1,
          "nan_count": 0,
          "min": "0",
          "max": "0",
          "histogram": [
           {
            "bin_start": -0.5,
            "bin_end": -0.4,
            "count": 0
           },
           {
            "bin_start": -0.4,
            "bin_end": -0.3,
            "count": 0
           },
           {
            "bin_start": -0.3,
            "bin_end": -0.19999999999999996,
            "count": 0
           },
           {
            "bin_start": -0.19999999999999996,
            "bin_end": -0.09999999999999998,
            "count": 0
           },
           {
            "bin_start": -0.09999999999999998,
            "bin_end": 0,
            "count": 0
           },
           {
            "bin_start": 0,
            "bin_end": 0.10000000000000009,
            "count": 1
           },
           {
            "bin_start": 0.10000000000000009,
            "bin_end": 0.20000000000000007,
            "count": 0
           },
           {
            "bin_start": 0.20000000000000007,
            "bin_end": 0.30000000000000004,
            "count": 0
           },
           {
            "bin_start": 0.30000000000000004,
            "bin_end": 0.4,
            "count": 0
           },
           {
            "bin_start": 0.4,
            "bin_end": 0.5,
            "count": 0
           }
          ]
         }
        },
        {
         "name": "view",
         "dtype": "int64",
         "stats": {
          "unique_count": 1,
          "nan_count": 0,
          "min": "0",
          "max": "0",
          "histogram": [
           {
            "bin_start": -0.5,
            "bin_end": -0.4,
            "count": 0
           },
           {
            "bin_start": -0.4,
            "bin_end": -0.3,
            "count": 0
           },
           {
            "bin_start": -0.3,
            "bin_end": -0.19999999999999996,
            "count": 0
           },
           {
            "bin_start": -0.19999999999999996,
            "bin_end": -0.09999999999999998,
            "count": 0
           },
           {
            "bin_start": -0.09999999999999998,
            "bin_end": 0,
            "count": 0
           },
           {
            "bin_start": 0,
            "bin_end": 0.10000000000000009,
            "count": 1
           },
           {
            "bin_start": 0.10000000000000009,
            "bin_end": 0.20000000000000007,
            "count": 0
           },
           {
            "bin_start": 0.20000000000000007,
            "bin_end": 0.30000000000000004,
            "count": 0
           },
           {
            "bin_start": 0.30000000000000004,
            "bin_end": 0.4,
            "count": 0
           },
           {
            "bin_start": 0.4,
            "bin_end": 0.5,
            "count": 0
           }
          ]
         }
        },
        {
         "name": "condition",
         "dtype": "int64",
         "stats": {
          "unique_count": 1,
          "nan_count": 0,
          "min": "4",
          "max": "4",
          "histogram": [
           {
            "bin_start": 3.5,
            "bin_end": 3.6,
            "count": 0
           },
           {
            "bin_start": 3.6,
            "bin_end": 3.7,
            "count": 0
           },
           {
            "bin_start": 3.7,
            "bin_end": 3.8,
            "count": 0
           },
           {
            "bin_start": 3.8,
            "bin_end": 3.9,
            "count": 0
           },
           {
            "bin_start": 3.9,
            "bin_end": 4,
            "count": 0
           },
           {
            "bin_start": 4,
            "bin_end": 4.1,
            "count": 1
           },
           {
            "bin_start": 4.1,
            "bin_end": 4.2,
            "count": 0
           },
           {
            "bin_start": 4.2,
            "bin_end": 4.3,
            "count": 0
           },
           {
            "bin_start": 4.3,
            "bin_end": 4.4,
            "count": 0
           },
           {
            "bin_start": 4.4,
            "bin_end": 4.5,
            "count": 0
           }
          ]
         }
        },
        {
         "name": "grade",
         "dtype": "int64",
         "stats": {
          "unique_count": 1,
          "nan_count": 0,
          "min": "8",
          "max": "8",
          "histogram": [
           {
            "bin_start": 7.5,
            "bin_end": 7.6,
            "count": 0
           },
           {
            "bin_start": 7.6,
            "bin_end": 7.7,
            "count": 0
           },
           {
            "bin_start": 7.7,
            "bin_end": 7.8,
            "count": 0
           },
           {
            "bin_start": 7.8,
            "bin_end": 7.9,
            "count": 0
           },
           {
            "bin_start": 7.9,
            "bin_end": 8,
            "count": 0
           },
           {
            "bin_start": 8,
            "bin_end": 8.1,
            "count": 1
           },
           {
            "bin_start": 8.1,
            "bin_end": 8.2,
            "count": 0
           },
           {
            "bin_start": 8.2,
            "bin_end": 8.3,
            "count": 0
           },
           {
            "bin_start": 8.3,
            "bin_end": 8.4,
            "count": 0
           },
           {
            "bin_start": 8.4,
            "bin_end": 8.5,
            "count": 0
           }
          ]
         }
        },
        {
         "name": "sqft_above",
         "dtype": "int64",
         "stats": {
          "unique_count": 1,
          "nan_count": 0,
          "min": "1240",
          "max": "1240",
          "histogram": [
           {
            "bin_start": 1239.5,
            "bin_end": 1239.6,
            "count": 0
           },
           {
            "bin_start": 1239.6,
            "bin_end": 1239.7,
            "count": 0
           },
           {
            "bin_start": 1239.7,
            "bin_end": 1239.8,
            "count": 0
           },
           {
            "bin_start": 1239.8,
            "bin_end": 1239.9,
            "count": 0
           },
           {
            "bin_start": 1239.9,
            "bin_end": 1240,
            "count": 0
           },
           {
            "bin_start": 1240,
            "bin_end": 1240.1,
            "count": 1
           },
           {
            "bin_start": 1240.1,
            "bin_end": 1240.2,
            "count": 0
           },
           {
            "bin_start": 1240.2,
            "bin_end": 1240.3,
            "count": 0
           },
           {
            "bin_start": 1240.3,
            "bin_end": 1240.4,
            "count": 0
           },
           {
            "bin_start": 1240.4,
            "bin_end": 1240.5,
            "count": 0
           }
          ]
         }
        },
        {
         "name": "sqft_basement",
         "dtype": "int64",
         "stats": {
          "unique_count": 1,
          "nan_count": 0,
          "min": "0",
          "max": "0",
          "histogram": [
           {
            "bin_start": -0.5,
            "bin_end": -0.4,
            "count": 0
           },
           {
            "bin_start": -0.4,
            "bin_end": -0.3,
            "count": 0
           },
           {
            "bin_start": -0.3,
            "bin_end": -0.19999999999999996,
            "count": 0
           },
           {
            "bin_start": -0.19999999999999996,
            "bin_end": -0.09999999999999998,
            "count": 0
           },
           {
            "bin_start": -0.09999999999999998,
            "bin_end": 0,
            "count": 0
           },
           {
            "bin_start": 0,
            "bin_end": 0.10000000000000009,
            "count": 1
           },
           {
            "bin_start": 0.10000000000000009,
            "bin_end": 0.20000000000000007,
            "count": 0
           },
           {
            "bin_start": 0.20000000000000007,
            "bin_end": 0.30000000000000004,
            "count": 0
           },
           {
            "bin_start": 0.30000000000000004,
            "bin_end": 0.4,
            "count": 0
           },
           {
            "bin_start": 0.4,
            "bin_end": 0.5,
            "count": 0
           }
          ]
         }
        },
        {
         "name": "yr_built",
         "dtype": "int64",
         "stats": {
          "unique_count": 1,
          "nan_count": 0,
          "min": "1985",
          "max": "1985",
          "histogram": [
           {
            "bin_start": 1984.5,
            "bin_end": 1984.6,
            "count": 0
           },
           {
            "bin_start": 1984.6,
            "bin_end": 1984.7,
            "count": 0
           },
           {
            "bin_start": 1984.7,
            "bin_end": 1984.8,
            "count": 0
           },
           {
            "bin_start": 1984.8,
            "bin_end": 1984.9,
            "count": 0
           },
           {
            "bin_start": 1984.9,
            "bin_end": 1985,
            "count": 0
           },
           {
            "bin_start": 1985,
            "bin_end": 1985.1,
            "count": 1
           },
           {
            "bin_start": 1985.1,
            "bin_end": 1985.2,
            "count": 0
           },
           {
            "bin_start": 1985.2,
            "bin_end": 1985.3,
            "count": 0
           },
           {
            "bin_start": 1985.3,
            "bin_end": 1985.4,
            "count": 0
           },
           {
            "bin_start": 1985.4,
            "bin_end": 1985.5,
            "count": 0
           }
          ]
         }
        },
        {
         "name": "year_renovated",
         "dtype": "int64",
         "stats": {
          "unique_count": 1,
          "nan_count": 0,
          "min": "0",
          "max": "0",
          "histogram": [
           {
            "bin_start": -0.5,
            "bin_end": -0.4,
            "count": 0
           },
           {
            "bin_start": -0.4,
            "bin_end": -0.3,
            "count": 0
           },
           {
            "bin_start": -0.3,
            "bin_end": -0.19999999999999996,
            "count": 0
           },
           {
            "bin_start": -0.19999999999999996,
            "bin_end": -0.09999999999999998,
            "count": 0
           },
           {
            "bin_start": -0.09999999999999998,
            "bin_end": 0,
            "count": 0
           },
           {
            "bin_start": 0,
            "bin_end": 0.10000000000000009,
            "count": 1
           },
           {
            "bin_start": 0.10000000000000009,
            "bin_end": 0.20000000000000007,
            "count": 0
           },
           {
            "bin_start": 0.20000000000000007,
            "bin_end": 0.30000000000000004,
            "count": 0
           },
           {
            "bin_start": 0.30000000000000004,
            "bin_end": 0.4,
            "count": 0
           },
           {
            "bin_start": 0.4,
            "bin_end": 0.5,
            "count": 0
           }
          ]
         }
        },
        {
         "name": "zipcode",
         "dtype": "int64",
         "stats": {
          "unique_count": 1,
          "nan_count": 0,
          "min": "98198",
          "max": "98198",
          "histogram": [
           {
            "bin_start": 98197.5,
            "bin_end": 98197.6,
            "count": 0
           },
           {
            "bin_start": 98197.6,
            "bin_end": 98197.7,
            "count": 0
           },
           {
            "bin_start": 98197.7,
            "bin_end": 98197.8,
            "count": 0
           },
           {
            "bin_start": 98197.8,
            "bin_end": 98197.9,
            "count": 0
           },
           {
            "bin_start": 98197.9,
            "bin_end": 98198,
            "count": 0
           },
           {
            "bin_start": 98198,
            "bin_end": 98198.1,
            "count": 1
           },
           {
            "bin_start": 98198.1,
            "bin_end": 98198.2,
            "count": 0
           },
           {
            "bin_start": 98198.2,
            "bin_end": 98198.3,
            "count": 0
           },
           {
            "bin_start": 98198.3,
            "bin_end": 98198.4,
            "count": 0
           },
           {
            "bin_start": 98198.4,
            "bin_end": 98198.5,
            "count": 0
           }
          ]
         }
        },
        {
         "name": "lat",
         "dtype": "float64",
         "stats": {
          "unique_count": 1,
          "nan_count": 0,
          "min": "47.3813",
          "max": "47.3813",
          "histogram": [
           {
            "bin_start": 46.8813,
            "bin_end": 46.981300000000005,
            "count": 0
           },
           {
            "bin_start": 46.981300000000005,
            "bin_end": 47.081300000000006,
            "count": 0
           },
           {
            "bin_start": 47.081300000000006,
            "bin_end": 47.1813,
            "count": 0
           },
           {
            "bin_start": 47.1813,
            "bin_end": 47.2813,
            "count": 0
           },
           {
            "bin_start": 47.2813,
            "bin_end": 47.3813,
            "count": 0
           },
           {
            "bin_start": 47.3813,
            "bin_end": 47.481300000000005,
            "count": 1
           },
           {
            "bin_start": 47.481300000000005,
            "bin_end": 47.581300000000006,
            "count": 0
           },
           {
            "bin_start": 47.581300000000006,
            "bin_end": 47.6813,
            "count": 0
           },
           {
            "bin_start": 47.6813,
            "bin_end": 47.7813,
            "count": 0
           },
           {
            "bin_start": 47.7813,
            "bin_end": 47.8813,
            "count": 0
           }
          ]
         }
        },
        {
         "name": "long",
         "dtype": "float64",
         "stats": {
          "unique_count": 1,
          "nan_count": 0,
          "min": "-122.322",
          "max": "-122.322",
          "histogram": [
           {
            "bin_start": -122.822,
            "bin_end": -122.72200000000001,
            "count": 0
           },
           {
            "bin_start": -122.72200000000001,
            "bin_end": -122.622,
            "count": 0
           },
           {
            "bin_start": -122.622,
            "bin_end": -122.522,
            "count": 0
           },
           {
            "bin_start": -122.522,
            "bin_end": -122.422,
            "count": 0
           },
           {
            "bin_start": -122.422,
            "bin_end": -122.322,
            "count": 0
           },
           {
            "bin_start": -122.322,
            "bin_end": -122.22200000000001,
            "count": 1
           },
           {
            "bin_start": -122.22200000000001,
            "bin_end": -122.122,
            "count": 0
           },
           {
            "bin_start": -122.122,
            "bin_end": -122.022,
            "count": 0
           },
           {
            "bin_start": -122.022,
            "bin_end": -121.922,
            "count": 0
           },
           {
            "bin_start": -121.922,
            "bin_end": -121.822,
            "count": 0
           }
          ]
         }
        },
        {
         "name": "sqft_living15",
         "dtype": "int64",
         "stats": {
          "unique_count": 1,
          "nan_count": 0,
          "min": "1270",
          "max": "1270",
          "histogram": [
           {
            "bin_start": 1269.5,
            "bin_end": 1269.6,
            "count": 0
           },
           {
            "bin_start": 1269.6,
            "bin_end": 1269.7,
            "count": 0
           },
           {
            "bin_start": 1269.7,
            "bin_end": 1269.8,
            "count": 0
           },
           {
            "bin_start": 1269.8,
            "bin_end": 1269.9,
            "count": 0
           },
           {
            "bin_start": 1269.9,
            "bin_end": 1270,
            "count": 0
           },
           {
            "bin_start": 1270,
            "bin_end": 1270.1,
            "count": 1
           },
           {
            "bin_start": 1270.1,
            "bin_end": 1270.2,
            "count": 0
           },
           {
            "bin_start": 1270.2,
            "bin_end": 1270.3,
            "count": 0
           },
           {
            "bin_start": 1270.3,
            "bin_end": 1270.4,
            "count": 0
           },
           {
            "bin_start": 1270.4,
            "bin_end": 1270.5,
            "count": 0
           }
          ]
         }
        },
        {
         "name": "sqft_lot15",
         "dtype": "int64",
         "stats": {
          "unique_count": 1,
          "nan_count": 0,
          "min": "4966",
          "max": "4966",
          "histogram": [
           {
            "bin_start": 4965.5,
            "bin_end": 4965.6,
            "count": 0
           },
           {
            "bin_start": 4965.6,
            "bin_end": 4965.7,
            "count": 0
           },
           {
            "bin_start": 4965.7,
            "bin_end": 4965.8,
            "count": 0
           },
           {
            "bin_start": 4965.8,
            "bin_end": 4965.9,
            "count": 0
           },
           {
            "bin_start": 4965.9,
            "bin_end": 4966,
            "count": 0
           },
           {
            "bin_start": 4966,
            "bin_end": 4966.1,
            "count": 1
           },
           {
            "bin_start": 4966.1,
            "bin_end": 4966.2,
            "count": 0
           },
           {
            "bin_start": 4966.2,
            "bin_end": 4966.3,
            "count": 0
           },
           {
            "bin_start": 4966.3,
            "bin_end": 4966.4,
            "count": 0
           },
           {
            "bin_start": 4966.4,
            "bin_end": 4966.5,
            "count": 0
           }
          ]
         }
        },
        {
         "name": "city",
         "dtype": "object",
         "stats": {
          "unique_count": 1,
          "nan_count": 0,
          "categories": [
           {
            "name": "Des Moines",
            "count": 1
           }
          ]
         }
        },
        {
         "name": "_deepnote_index_column",
         "dtype": "int64"
        }
       ],
       "rows": [
        {
         "date": "20140723T000000",
         "price": 188500,
         "bedrooms": 2,
         "bathrooms": 1.75,
         "sqft_living": 1240,
         "sqft_lot": "nan",
         "floors": 1,
         "waterfront": 0,
         "view": 0,
         "condition": 4,
         "grade": 8,
         "sqft_above": 1240,
         "sqft_basement": 0,
         "yr_built": 1985,
         "year_renovated": 0,
         "zipcode": 98198,
         "lat": 47.3813,
         "long": -122.322,
         "sqft_living15": 1270,
         "sqft_lot15": 4966,
         "city": "Des Moines",
         "_deepnote_index_column": 109
        }
       ]
      },
      "text/plain": "                date     price  bedrooms  bathrooms  sqft_living  sqft_lot  \\\n109  20140723T000000  188500.0         2       1.75         1240       NaN   \n\n     floors  waterfront  view  condition  ...  sqft_above  sqft_basement  \\\n109     1.0           0     0          4  ...        1240              0   \n\n     yr_built  year_renovated  zipcode      lat     long  sqft_living15  \\\n109      1985               0    98198  47.3813 -122.322           1270   \n\n     sqft_lot15        city  \n109        4966  Des Moines  \n\n[1 rows x 21 columns]",
      "text/html": "<div>\n<style scoped>\n    .dataframe tbody tr th:only-of-type {\n        vertical-align: middle;\n    }\n\n    .dataframe tbody tr th {\n        vertical-align: top;\n    }\n\n    .dataframe thead th {\n        text-align: right;\n    }\n</style>\n<table border=\"1\" class=\"dataframe\">\n  <thead>\n    <tr style=\"text-align: right;\">\n      <th></th>\n      <th>date</th>\n      <th>price</th>\n      <th>bedrooms</th>\n      <th>bathrooms</th>\n      <th>sqft_living</th>\n      <th>sqft_lot</th>\n      <th>floors</th>\n      <th>waterfront</th>\n      <th>view</th>\n      <th>condition</th>\n      <th>...</th>\n      <th>sqft_above</th>\n      <th>sqft_basement</th>\n      <th>yr_built</th>\n      <th>year_renovated</th>\n      <th>zipcode</th>\n      <th>lat</th>\n      <th>long</th>\n      <th>sqft_living15</th>\n      <th>sqft_lot15</th>\n      <th>city</th>\n    </tr>\n  </thead>\n  <tbody>\n    <tr>\n      <th>109</th>\n      <td>20140723T000000</td>\n      <td>188500.0</td>\n      <td>2</td>\n      <td>1.75</td>\n      <td>1240</td>\n      <td>NaN</td>\n      <td>1.0</td>\n      <td>0</td>\n      <td>0</td>\n      <td>4</td>\n      <td>...</td>\n      <td>1240</td>\n      <td>0</td>\n      <td>1985</td>\n      <td>0</td>\n      <td>98198</td>\n      <td>47.3813</td>\n      <td>-122.322</td>\n      <td>1270</td>\n      <td>4966</td>\n      <td>Des Moines</td>\n    </tr>\n  </tbody>\n</table>\n<p>1 rows × 21 columns</p>\n</div>"
     },
     "metadata": {}
    }
   ],
   "execution_count": null
  },
  {
   "cell_type": "markdown",
   "source": "Y eliminar esta fila con valor Nan.",
   "metadata": {
    "cell_id": "00060-b17ac9e1-e2df-46d9-b4f2-e549d1c07a9a",
    "deepnote_cell_type": "markdown"
   }
  },
  {
   "cell_type": "code",
   "metadata": {
    "cell_id": "00061-b8f30cb0-6a4c-4fc8-93f3-efce07e5c7f5",
    "deepnote_to_be_reexecuted": false,
    "source_hash": "7cbb8678",
    "execution_start": 1646265131592,
    "execution_millis": 9,
    "deepnote_cell_type": "code"
   },
   "source": "df=df.dropna()",
   "outputs": [],
   "execution_count": null
  },
  {
   "cell_type": "code",
   "metadata": {
    "cell_id": "00062-ebd42b2a-2257-44da-bb8c-87bda0828361",
    "deepnote_to_be_reexecuted": false,
    "source_hash": "14f60b8f",
    "execution_start": 1646265132796,
    "execution_millis": 291,
    "deepnote_cell_type": "code"
   },
   "source": "df.shape",
   "outputs": [
    {
     "output_type": "execute_result",
     "execution_count": 27,
     "data": {
      "text/plain": "(21614, 21)"
     },
     "metadata": {}
    }
   ],
   "execution_count": null
  },
  {
   "cell_type": "code",
   "metadata": {
    "cell_id": "00063-02165ba8-1393-4654-96ba-f5ee691fea37",
    "deepnote_to_be_reexecuted": false,
    "source_hash": "c7a77282",
    "execution_start": 1646265134055,
    "execution_millis": 72,
    "deepnote_cell_type": "code"
   },
   "source": "df[df['sqft_lot'].isna()]",
   "outputs": [
    {
     "output_type": "execute_result",
     "execution_count": 28,
     "data": {
      "application/vnd.deepnote.dataframe.v3+json": {
       "column_count": 21,
       "row_count": 0,
       "columns": [
        {
         "name": "date",
         "dtype": "object",
         "stats": {
          "unique_count": 0,
          "nan_count": 0,
          "categories": []
         }
        },
        {
         "name": "price",
         "dtype": "float64",
         "stats": {
          "unique_count": 0,
          "nan_count": 0,
          "min": null,
          "max": null,
          "histogram": [
           {
            "bin_start": 0,
            "bin_end": 0.1,
            "count": 0
           },
           {
            "bin_start": 0.1,
            "bin_end": 0.2,
            "count": 0
           },
           {
            "bin_start": 0.2,
            "bin_end": 0.30000000000000004,
            "count": 0
           },
           {
            "bin_start": 0.30000000000000004,
            "bin_end": 0.4,
            "count": 0
           },
           {
            "bin_start": 0.4,
            "bin_end": 0.5,
            "count": 0
           },
           {
            "bin_start": 0.5,
            "bin_end": 0.6000000000000001,
            "count": 0
           },
           {
            "bin_start": 0.6000000000000001,
            "bin_end": 0.7000000000000001,
            "count": 0
           },
           {
            "bin_start": 0.7000000000000001,
            "bin_end": 0.8,
            "count": 0
           },
           {
            "bin_start": 0.8,
            "bin_end": 0.9,
            "count": 0
           },
           {
            "bin_start": 0.9,
            "bin_end": 1,
            "count": 0
           }
          ]
         }
        },
        {
         "name": "bedrooms",
         "dtype": "int64",
         "stats": {
          "unique_count": 0,
          "nan_count": 0,
          "min": null,
          "max": null,
          "histogram": [
           {
            "bin_start": 0,
            "bin_end": 0.1,
            "count": 0
           },
           {
            "bin_start": 0.1,
            "bin_end": 0.2,
            "count": 0
           },
           {
            "bin_start": 0.2,
            "bin_end": 0.30000000000000004,
            "count": 0
           },
           {
            "bin_start": 0.30000000000000004,
            "bin_end": 0.4,
            "count": 0
           },
           {
            "bin_start": 0.4,
            "bin_end": 0.5,
            "count": 0
           },
           {
            "bin_start": 0.5,
            "bin_end": 0.6000000000000001,
            "count": 0
           },
           {
            "bin_start": 0.6000000000000001,
            "bin_end": 0.7000000000000001,
            "count": 0
           },
           {
            "bin_start": 0.7000000000000001,
            "bin_end": 0.8,
            "count": 0
           },
           {
            "bin_start": 0.8,
            "bin_end": 0.9,
            "count": 0
           },
           {
            "bin_start": 0.9,
            "bin_end": 1,
            "count": 0
           }
          ]
         }
        },
        {
         "name": "bathrooms",
         "dtype": "float64",
         "stats": {
          "unique_count": 0,
          "nan_count": 0,
          "min": null,
          "max": null,
          "histogram": [
           {
            "bin_start": 0,
            "bin_end": 0.1,
            "count": 0
           },
           {
            "bin_start": 0.1,
            "bin_end": 0.2,
            "count": 0
           },
           {
            "bin_start": 0.2,
            "bin_end": 0.30000000000000004,
            "count": 0
           },
           {
            "bin_start": 0.30000000000000004,
            "bin_end": 0.4,
            "count": 0
           },
           {
            "bin_start": 0.4,
            "bin_end": 0.5,
            "count": 0
           },
           {
            "bin_start": 0.5,
            "bin_end": 0.6000000000000001,
            "count": 0
           },
           {
            "bin_start": 0.6000000000000001,
            "bin_end": 0.7000000000000001,
            "count": 0
           },
           {
            "bin_start": 0.7000000000000001,
            "bin_end": 0.8,
            "count": 0
           },
           {
            "bin_start": 0.8,
            "bin_end": 0.9,
            "count": 0
           },
           {
            "bin_start": 0.9,
            "bin_end": 1,
            "count": 0
           }
          ]
         }
        },
        {
         "name": "sqft_living",
         "dtype": "int64",
         "stats": {
          "unique_count": 0,
          "nan_count": 0,
          "min": null,
          "max": null,
          "histogram": [
           {
            "bin_start": 0,
            "bin_end": 0.1,
            "count": 0
           },
           {
            "bin_start": 0.1,
            "bin_end": 0.2,
            "count": 0
           },
           {
            "bin_start": 0.2,
            "bin_end": 0.30000000000000004,
            "count": 0
           },
           {
            "bin_start": 0.30000000000000004,
            "bin_end": 0.4,
            "count": 0
           },
           {
            "bin_start": 0.4,
            "bin_end": 0.5,
            "count": 0
           },
           {
            "bin_start": 0.5,
            "bin_end": 0.6000000000000001,
            "count": 0
           },
           {
            "bin_start": 0.6000000000000001,
            "bin_end": 0.7000000000000001,
            "count": 0
           },
           {
            "bin_start": 0.7000000000000001,
            "bin_end": 0.8,
            "count": 0
           },
           {
            "bin_start": 0.8,
            "bin_end": 0.9,
            "count": 0
           },
           {
            "bin_start": 0.9,
            "bin_end": 1,
            "count": 0
           }
          ]
         }
        },
        {
         "name": "sqft_lot",
         "dtype": "float64",
         "stats": {
          "unique_count": 0,
          "nan_count": 0,
          "min": null,
          "max": null,
          "histogram": [
           {
            "bin_start": 0,
            "bin_end": 0.1,
            "count": 0
           },
           {
            "bin_start": 0.1,
            "bin_end": 0.2,
            "count": 0
           },
           {
            "bin_start": 0.2,
            "bin_end": 0.30000000000000004,
            "count": 0
           },
           {
            "bin_start": 0.30000000000000004,
            "bin_end": 0.4,
            "count": 0
           },
           {
            "bin_start": 0.4,
            "bin_end": 0.5,
            "count": 0
           },
           {
            "bin_start": 0.5,
            "bin_end": 0.6000000000000001,
            "count": 0
           },
           {
            "bin_start": 0.6000000000000001,
            "bin_end": 0.7000000000000001,
            "count": 0
           },
           {
            "bin_start": 0.7000000000000001,
            "bin_end": 0.8,
            "count": 0
           },
           {
            "bin_start": 0.8,
            "bin_end": 0.9,
            "count": 0
           },
           {
            "bin_start": 0.9,
            "bin_end": 1,
            "count": 0
           }
          ]
         }
        },
        {
         "name": "floors",
         "dtype": "float64",
         "stats": {
          "unique_count": 0,
          "nan_count": 0,
          "min": null,
          "max": null,
          "histogram": [
           {
            "bin_start": 0,
            "bin_end": 0.1,
            "count": 0
           },
           {
            "bin_start": 0.1,
            "bin_end": 0.2,
            "count": 0
           },
           {
            "bin_start": 0.2,
            "bin_end": 0.30000000000000004,
            "count": 0
           },
           {
            "bin_start": 0.30000000000000004,
            "bin_end": 0.4,
            "count": 0
           },
           {
            "bin_start": 0.4,
            "bin_end": 0.5,
            "count": 0
           },
           {
            "bin_start": 0.5,
            "bin_end": 0.6000000000000001,
            "count": 0
           },
           {
            "bin_start": 0.6000000000000001,
            "bin_end": 0.7000000000000001,
            "count": 0
           },
           {
            "bin_start": 0.7000000000000001,
            "bin_end": 0.8,
            "count": 0
           },
           {
            "bin_start": 0.8,
            "bin_end": 0.9,
            "count": 0
           },
           {
            "bin_start": 0.9,
            "bin_end": 1,
            "count": 0
           }
          ]
         }
        },
        {
         "name": "waterfront",
         "dtype": "int64",
         "stats": {
          "unique_count": 0,
          "nan_count": 0,
          "min": null,
          "max": null,
          "histogram": [
           {
            "bin_start": 0,
            "bin_end": 0.1,
            "count": 0
           },
           {
            "bin_start": 0.1,
            "bin_end": 0.2,
            "count": 0
           },
           {
            "bin_start": 0.2,
            "bin_end": 0.30000000000000004,
            "count": 0
           },
           {
            "bin_start": 0.30000000000000004,
            "bin_end": 0.4,
            "count": 0
           },
           {
            "bin_start": 0.4,
            "bin_end": 0.5,
            "count": 0
           },
           {
            "bin_start": 0.5,
            "bin_end": 0.6000000000000001,
            "count": 0
           },
           {
            "bin_start": 0.6000000000000001,
            "bin_end": 0.7000000000000001,
            "count": 0
           },
           {
            "bin_start": 0.7000000000000001,
            "bin_end": 0.8,
            "count": 0
           },
           {
            "bin_start": 0.8,
            "bin_end": 0.9,
            "count": 0
           },
           {
            "bin_start": 0.9,
            "bin_end": 1,
            "count": 0
           }
          ]
         }
        },
        {
         "name": "view",
         "dtype": "int64",
         "stats": {
          "unique_count": 0,
          "nan_count": 0,
          "min": null,
          "max": null,
          "histogram": [
           {
            "bin_start": 0,
            "bin_end": 0.1,
            "count": 0
           },
           {
            "bin_start": 0.1,
            "bin_end": 0.2,
            "count": 0
           },
           {
            "bin_start": 0.2,
            "bin_end": 0.30000000000000004,
            "count": 0
           },
           {
            "bin_start": 0.30000000000000004,
            "bin_end": 0.4,
            "count": 0
           },
           {
            "bin_start": 0.4,
            "bin_end": 0.5,
            "count": 0
           },
           {
            "bin_start": 0.5,
            "bin_end": 0.6000000000000001,
            "count": 0
           },
           {
            "bin_start": 0.6000000000000001,
            "bin_end": 0.7000000000000001,
            "count": 0
           },
           {
            "bin_start": 0.7000000000000001,
            "bin_end": 0.8,
            "count": 0
           },
           {
            "bin_start": 0.8,
            "bin_end": 0.9,
            "count": 0
           },
           {
            "bin_start": 0.9,
            "bin_end": 1,
            "count": 0
           }
          ]
         }
        },
        {
         "name": "condition",
         "dtype": "int64",
         "stats": {
          "unique_count": 0,
          "nan_count": 0,
          "min": null,
          "max": null,
          "histogram": [
           {
            "bin_start": 0,
            "bin_end": 0.1,
            "count": 0
           },
           {
            "bin_start": 0.1,
            "bin_end": 0.2,
            "count": 0
           },
           {
            "bin_start": 0.2,
            "bin_end": 0.30000000000000004,
            "count": 0
           },
           {
            "bin_start": 0.30000000000000004,
            "bin_end": 0.4,
            "count": 0
           },
           {
            "bin_start": 0.4,
            "bin_end": 0.5,
            "count": 0
           },
           {
            "bin_start": 0.5,
            "bin_end": 0.6000000000000001,
            "count": 0
           },
           {
            "bin_start": 0.6000000000000001,
            "bin_end": 0.7000000000000001,
            "count": 0
           },
           {
            "bin_start": 0.7000000000000001,
            "bin_end": 0.8,
            "count": 0
           },
           {
            "bin_start": 0.8,
            "bin_end": 0.9,
            "count": 0
           },
           {
            "bin_start": 0.9,
            "bin_end": 1,
            "count": 0
           }
          ]
         }
        },
        {
         "name": "grade",
         "dtype": "int64",
         "stats": {
          "unique_count": 0,
          "nan_count": 0,
          "min": null,
          "max": null,
          "histogram": [
           {
            "bin_start": 0,
            "bin_end": 0.1,
            "count": 0
           },
           {
            "bin_start": 0.1,
            "bin_end": 0.2,
            "count": 0
           },
           {
            "bin_start": 0.2,
            "bin_end": 0.30000000000000004,
            "count": 0
           },
           {
            "bin_start": 0.30000000000000004,
            "bin_end": 0.4,
            "count": 0
           },
           {
            "bin_start": 0.4,
            "bin_end": 0.5,
            "count": 0
           },
           {
            "bin_start": 0.5,
            "bin_end": 0.6000000000000001,
            "count": 0
           },
           {
            "bin_start": 0.6000000000000001,
            "bin_end": 0.7000000000000001,
            "count": 0
           },
           {
            "bin_start": 0.7000000000000001,
            "bin_end": 0.8,
            "count": 0
           },
           {
            "bin_start": 0.8,
            "bin_end": 0.9,
            "count": 0
           },
           {
            "bin_start": 0.9,
            "bin_end": 1,
            "count": 0
           }
          ]
         }
        },
        {
         "name": "sqft_above",
         "dtype": "int64",
         "stats": {
          "unique_count": 0,
          "nan_count": 0,
          "min": null,
          "max": null,
          "histogram": [
           {
            "bin_start": 0,
            "bin_end": 0.1,
            "count": 0
           },
           {
            "bin_start": 0.1,
            "bin_end": 0.2,
            "count": 0
           },
           {
            "bin_start": 0.2,
            "bin_end": 0.30000000000000004,
            "count": 0
           },
           {
            "bin_start": 0.30000000000000004,
            "bin_end": 0.4,
            "count": 0
           },
           {
            "bin_start": 0.4,
            "bin_end": 0.5,
            "count": 0
           },
           {
            "bin_start": 0.5,
            "bin_end": 0.6000000000000001,
            "count": 0
           },
           {
            "bin_start": 0.6000000000000001,
            "bin_end": 0.7000000000000001,
            "count": 0
           },
           {
            "bin_start": 0.7000000000000001,
            "bin_end": 0.8,
            "count": 0
           },
           {
            "bin_start": 0.8,
            "bin_end": 0.9,
            "count": 0
           },
           {
            "bin_start": 0.9,
            "bin_end": 1,
            "count": 0
           }
          ]
         }
        },
        {
         "name": "sqft_basement",
         "dtype": "int64",
         "stats": {
          "unique_count": 0,
          "nan_count": 0,
          "min": null,
          "max": null,
          "histogram": [
           {
            "bin_start": 0,
            "bin_end": 0.1,
            "count": 0
           },
           {
            "bin_start": 0.1,
            "bin_end": 0.2,
            "count": 0
           },
           {
            "bin_start": 0.2,
            "bin_end": 0.30000000000000004,
            "count": 0
           },
           {
            "bin_start": 0.30000000000000004,
            "bin_end": 0.4,
            "count": 0
           },
           {
            "bin_start": 0.4,
            "bin_end": 0.5,
            "count": 0
           },
           {
            "bin_start": 0.5,
            "bin_end": 0.6000000000000001,
            "count": 0
           },
           {
            "bin_start": 0.6000000000000001,
            "bin_end": 0.7000000000000001,
            "count": 0
           },
           {
            "bin_start": 0.7000000000000001,
            "bin_end": 0.8,
            "count": 0
           },
           {
            "bin_start": 0.8,
            "bin_end": 0.9,
            "count": 0
           },
           {
            "bin_start": 0.9,
            "bin_end": 1,
            "count": 0
           }
          ]
         }
        },
        {
         "name": "yr_built",
         "dtype": "int64",
         "stats": {
          "unique_count": 0,
          "nan_count": 0,
          "min": null,
          "max": null,
          "histogram": [
           {
            "bin_start": 0,
            "bin_end": 0.1,
            "count": 0
           },
           {
            "bin_start": 0.1,
            "bin_end": 0.2,
            "count": 0
           },
           {
            "bin_start": 0.2,
            "bin_end": 0.30000000000000004,
            "count": 0
           },
           {
            "bin_start": 0.30000000000000004,
            "bin_end": 0.4,
            "count": 0
           },
           {
            "bin_start": 0.4,
            "bin_end": 0.5,
            "count": 0
           },
           {
            "bin_start": 0.5,
            "bin_end": 0.6000000000000001,
            "count": 0
           },
           {
            "bin_start": 0.6000000000000001,
            "bin_end": 0.7000000000000001,
            "count": 0
           },
           {
            "bin_start": 0.7000000000000001,
            "bin_end": 0.8,
            "count": 0
           },
           {
            "bin_start": 0.8,
            "bin_end": 0.9,
            "count": 0
           },
           {
            "bin_start": 0.9,
            "bin_end": 1,
            "count": 0
           }
          ]
         }
        },
        {
         "name": "year_renovated",
         "dtype": "int64",
         "stats": {
          "unique_count": 0,
          "nan_count": 0,
          "min": null,
          "max": null,
          "histogram": [
           {
            "bin_start": 0,
            "bin_end": 0.1,
            "count": 0
           },
           {
            "bin_start": 0.1,
            "bin_end": 0.2,
            "count": 0
           },
           {
            "bin_start": 0.2,
            "bin_end": 0.30000000000000004,
            "count": 0
           },
           {
            "bin_start": 0.30000000000000004,
            "bin_end": 0.4,
            "count": 0
           },
           {
            "bin_start": 0.4,
            "bin_end": 0.5,
            "count": 0
           },
           {
            "bin_start": 0.5,
            "bin_end": 0.6000000000000001,
            "count": 0
           },
           {
            "bin_start": 0.6000000000000001,
            "bin_end": 0.7000000000000001,
            "count": 0
           },
           {
            "bin_start": 0.7000000000000001,
            "bin_end": 0.8,
            "count": 0
           },
           {
            "bin_start": 0.8,
            "bin_end": 0.9,
            "count": 0
           },
           {
            "bin_start": 0.9,
            "bin_end": 1,
            "count": 0
           }
          ]
         }
        },
        {
         "name": "zipcode",
         "dtype": "int64",
         "stats": {
          "unique_count": 0,
          "nan_count": 0,
          "min": null,
          "max": null,
          "histogram": [
           {
            "bin_start": 0,
            "bin_end": 0.1,
            "count": 0
           },
           {
            "bin_start": 0.1,
            "bin_end": 0.2,
            "count": 0
           },
           {
            "bin_start": 0.2,
            "bin_end": 0.30000000000000004,
            "count": 0
           },
           {
            "bin_start": 0.30000000000000004,
            "bin_end": 0.4,
            "count": 0
           },
           {
            "bin_start": 0.4,
            "bin_end": 0.5,
            "count": 0
           },
           {
            "bin_start": 0.5,
            "bin_end": 0.6000000000000001,
            "count": 0
           },
           {
            "bin_start": 0.6000000000000001,
            "bin_end": 0.7000000000000001,
            "count": 0
           },
           {
            "bin_start": 0.7000000000000001,
            "bin_end": 0.8,
            "count": 0
           },
           {
            "bin_start": 0.8,
            "bin_end": 0.9,
            "count": 0
           },
           {
            "bin_start": 0.9,
            "bin_end": 1,
            "count": 0
           }
          ]
         }
        },
        {
         "name": "lat",
         "dtype": "float64",
         "stats": {
          "unique_count": 0,
          "nan_count": 0,
          "min": null,
          "max": null,
          "histogram": [
           {
            "bin_start": 0,
            "bin_end": 0.1,
            "count": 0
           },
           {
            "bin_start": 0.1,
            "bin_end": 0.2,
            "count": 0
           },
           {
            "bin_start": 0.2,
            "bin_end": 0.30000000000000004,
            "count": 0
           },
           {
            "bin_start": 0.30000000000000004,
            "bin_end": 0.4,
            "count": 0
           },
           {
            "bin_start": 0.4,
            "bin_end": 0.5,
            "count": 0
           },
           {
            "bin_start": 0.5,
            "bin_end": 0.6000000000000001,
            "count": 0
           },
           {
            "bin_start": 0.6000000000000001,
            "bin_end": 0.7000000000000001,
            "count": 0
           },
           {
            "bin_start": 0.7000000000000001,
            "bin_end": 0.8,
            "count": 0
           },
           {
            "bin_start": 0.8,
            "bin_end": 0.9,
            "count": 0
           },
           {
            "bin_start": 0.9,
            "bin_end": 1,
            "count": 0
           }
          ]
         }
        },
        {
         "name": "long",
         "dtype": "float64",
         "stats": {
          "unique_count": 0,
          "nan_count": 0,
          "min": null,
          "max": null,
          "histogram": [
           {
            "bin_start": 0,
            "bin_end": 0.1,
            "count": 0
           },
           {
            "bin_start": 0.1,
            "bin_end": 0.2,
            "count": 0
           },
           {
            "bin_start": 0.2,
            "bin_end": 0.30000000000000004,
            "count": 0
           },
           {
            "bin_start": 0.30000000000000004,
            "bin_end": 0.4,
            "count": 0
           },
           {
            "bin_start": 0.4,
            "bin_end": 0.5,
            "count": 0
           },
           {
            "bin_start": 0.5,
            "bin_end": 0.6000000000000001,
            "count": 0
           },
           {
            "bin_start": 0.6000000000000001,
            "bin_end": 0.7000000000000001,
            "count": 0
           },
           {
            "bin_start": 0.7000000000000001,
            "bin_end": 0.8,
            "count": 0
           },
           {
            "bin_start": 0.8,
            "bin_end": 0.9,
            "count": 0
           },
           {
            "bin_start": 0.9,
            "bin_end": 1,
            "count": 0
           }
          ]
         }
        },
        {
         "name": "sqft_living15",
         "dtype": "int64",
         "stats": {
          "unique_count": 0,
          "nan_count": 0,
          "min": null,
          "max": null,
          "histogram": [
           {
            "bin_start": 0,
            "bin_end": 0.1,
            "count": 0
           },
           {
            "bin_start": 0.1,
            "bin_end": 0.2,
            "count": 0
           },
           {
            "bin_start": 0.2,
            "bin_end": 0.30000000000000004,
            "count": 0
           },
           {
            "bin_start": 0.30000000000000004,
            "bin_end": 0.4,
            "count": 0
           },
           {
            "bin_start": 0.4,
            "bin_end": 0.5,
            "count": 0
           },
           {
            "bin_start": 0.5,
            "bin_end": 0.6000000000000001,
            "count": 0
           },
           {
            "bin_start": 0.6000000000000001,
            "bin_end": 0.7000000000000001,
            "count": 0
           },
           {
            "bin_start": 0.7000000000000001,
            "bin_end": 0.8,
            "count": 0
           },
           {
            "bin_start": 0.8,
            "bin_end": 0.9,
            "count": 0
           },
           {
            "bin_start": 0.9,
            "bin_end": 1,
            "count": 0
           }
          ]
         }
        },
        {
         "name": "sqft_lot15",
         "dtype": "int64",
         "stats": {
          "unique_count": 0,
          "nan_count": 0,
          "min": null,
          "max": null,
          "histogram": [
           {
            "bin_start": 0,
            "bin_end": 0.1,
            "count": 0
           },
           {
            "bin_start": 0.1,
            "bin_end": 0.2,
            "count": 0
           },
           {
            "bin_start": 0.2,
            "bin_end": 0.30000000000000004,
            "count": 0
           },
           {
            "bin_start": 0.30000000000000004,
            "bin_end": 0.4,
            "count": 0
           },
           {
            "bin_start": 0.4,
            "bin_end": 0.5,
            "count": 0
           },
           {
            "bin_start": 0.5,
            "bin_end": 0.6000000000000001,
            "count": 0
           },
           {
            "bin_start": 0.6000000000000001,
            "bin_end": 0.7000000000000001,
            "count": 0
           },
           {
            "bin_start": 0.7000000000000001,
            "bin_end": 0.8,
            "count": 0
           },
           {
            "bin_start": 0.8,
            "bin_end": 0.9,
            "count": 0
           },
           {
            "bin_start": 0.9,
            "bin_end": 1,
            "count": 0
           }
          ]
         }
        },
        {
         "name": "city",
         "dtype": "object",
         "stats": {
          "unique_count": 0,
          "nan_count": 0,
          "categories": []
         }
        },
        {
         "name": "_deepnote_index_column",
         "dtype": "int64"
        }
       ],
       "rows": []
      },
      "text/plain": "Empty DataFrame\nColumns: [date, price, bedrooms, bathrooms, sqft_living, sqft_lot, floors, waterfront, view, condition, grade, sqft_above, sqft_basement, yr_built, year_renovated, zipcode, lat, long, sqft_living15, sqft_lot15, city]\nIndex: []\n\n[0 rows x 21 columns]",
      "text/html": "<div>\n<style scoped>\n    .dataframe tbody tr th:only-of-type {\n        vertical-align: middle;\n    }\n\n    .dataframe tbody tr th {\n        vertical-align: top;\n    }\n\n    .dataframe thead th {\n        text-align: right;\n    }\n</style>\n<table border=\"1\" class=\"dataframe\">\n  <thead>\n    <tr style=\"text-align: right;\">\n      <th></th>\n      <th>date</th>\n      <th>price</th>\n      <th>bedrooms</th>\n      <th>bathrooms</th>\n      <th>sqft_living</th>\n      <th>sqft_lot</th>\n      <th>floors</th>\n      <th>waterfront</th>\n      <th>view</th>\n      <th>condition</th>\n      <th>...</th>\n      <th>sqft_above</th>\n      <th>sqft_basement</th>\n      <th>yr_built</th>\n      <th>year_renovated</th>\n      <th>zipcode</th>\n      <th>lat</th>\n      <th>long</th>\n      <th>sqft_living15</th>\n      <th>sqft_lot15</th>\n      <th>city</th>\n    </tr>\n  </thead>\n  <tbody>\n  </tbody>\n</table>\n<p>0 rows × 21 columns</p>\n</div>"
     },
     "metadata": {}
    }
   ],
   "execution_count": null
  },
  {
   "cell_type": "markdown",
   "source": "Verifiquemos si el conjunto de datos tiene filas o columnas completamente repetidas ",
   "metadata": {
    "cell_id": "00064-e081c50e-c812-491e-b43f-035c1a4e5d34",
    "deepnote_cell_type": "markdown"
   }
  },
  {
   "cell_type": "code",
   "metadata": {
    "cell_id": "00065-530b539d-aace-425b-aa50-8288f51bdc6a",
    "deepnote_to_be_reexecuted": false,
    "source_hash": "f4a75f90",
    "execution_start": 1646265136337,
    "execution_millis": 109,
    "deepnote_cell_type": "code"
   },
   "source": "df[df.duplicated()]",
   "outputs": [
    {
     "output_type": "execute_result",
     "execution_count": 29,
     "data": {
      "application/vnd.deepnote.dataframe.v3+json": {
       "column_count": 21,
       "row_count": 2,
       "columns": [
        {
         "name": "date",
         "dtype": "object",
         "stats": {
          "unique_count": 1,
          "nan_count": 0,
          "categories": [
           {
            "name": "20140711T000000",
            "count": 2
           }
          ]
         }
        },
        {
         "name": "price",
         "dtype": "float64",
         "stats": {
          "unique_count": 1,
          "nan_count": 0,
          "min": "314000.0",
          "max": "314000.0",
          "histogram": [
           {
            "bin_start": 313999.5,
            "bin_end": 313999.6,
            "count": 0
           },
           {
            "bin_start": 313999.6,
            "bin_end": 313999.7,
            "count": 0
           },
           {
            "bin_start": 313999.7,
            "bin_end": 313999.8,
            "count": 0
           },
           {
            "bin_start": 313999.8,
            "bin_end": 313999.9,
            "count": 0
           },
           {
            "bin_start": 313999.9,
            "bin_end": 314000,
            "count": 0
           },
           {
            "bin_start": 314000,
            "bin_end": 314000.1,
            "count": 2
           },
           {
            "bin_start": 314000.1,
            "bin_end": 314000.2,
            "count": 0
           },
           {
            "bin_start": 314000.2,
            "bin_end": 314000.3,
            "count": 0
           },
           {
            "bin_start": 314000.3,
            "bin_end": 314000.4,
            "count": 0
           },
           {
            "bin_start": 314000.4,
            "bin_end": 314000.5,
            "count": 0
           }
          ]
         }
        },
        {
         "name": "bedrooms",
         "dtype": "int64",
         "stats": {
          "unique_count": 1,
          "nan_count": 0,
          "min": "3",
          "max": "3",
          "histogram": [
           {
            "bin_start": 2.5,
            "bin_end": 2.6,
            "count": 0
           },
           {
            "bin_start": 2.6,
            "bin_end": 2.7,
            "count": 0
           },
           {
            "bin_start": 2.7,
            "bin_end": 2.8,
            "count": 0
           },
           {
            "bin_start": 2.8,
            "bin_end": 2.9,
            "count": 0
           },
           {
            "bin_start": 2.9,
            "bin_end": 3,
            "count": 0
           },
           {
            "bin_start": 3,
            "bin_end": 3.1,
            "count": 2
           },
           {
            "bin_start": 3.1,
            "bin_end": 3.2,
            "count": 0
           },
           {
            "bin_start": 3.2,
            "bin_end": 3.3,
            "count": 0
           },
           {
            "bin_start": 3.3,
            "bin_end": 3.4,
            "count": 0
           },
           {
            "bin_start": 3.4,
            "bin_end": 3.5,
            "count": 0
           }
          ]
         }
        },
        {
         "name": "bathrooms",
         "dtype": "float64",
         "stats": {
          "unique_count": 1,
          "nan_count": 0,
          "min": "1.75",
          "max": "1.75",
          "histogram": [
           {
            "bin_start": 1.25,
            "bin_end": 1.35,
            "count": 0
           },
           {
            "bin_start": 1.35,
            "bin_end": 1.45,
            "count": 0
           },
           {
            "bin_start": 1.45,
            "bin_end": 1.55,
            "count": 0
           },
           {
            "bin_start": 1.55,
            "bin_end": 1.65,
            "count": 0
           },
           {
            "bin_start": 1.65,
            "bin_end": 1.75,
            "count": 0
           },
           {
            "bin_start": 1.75,
            "bin_end": 1.85,
            "count": 2
           },
           {
            "bin_start": 1.85,
            "bin_end": 1.9500000000000002,
            "count": 0
           },
           {
            "bin_start": 1.9500000000000002,
            "bin_end": 2.05,
            "count": 0
           },
           {
            "bin_start": 2.05,
            "bin_end": 2.15,
            "count": 0
           },
           {
            "bin_start": 2.15,
            "bin_end": 2.25,
            "count": 0
           }
          ]
         }
        },
        {
         "name": "sqft_living",
         "dtype": "int64",
         "stats": {
          "unique_count": 1,
          "nan_count": 0,
          "min": "1810",
          "max": "1810",
          "histogram": [
           {
            "bin_start": 1809.5,
            "bin_end": 1809.6,
            "count": 0
           },
           {
            "bin_start": 1809.6,
            "bin_end": 1809.7,
            "count": 0
           },
           {
            "bin_start": 1809.7,
            "bin_end": 1809.8,
            "count": 0
           },
           {
            "bin_start": 1809.8,
            "bin_end": 1809.9,
            "count": 0
           },
           {
            "bin_start": 1809.9,
            "bin_end": 1810,
            "count": 0
           },
           {
            "bin_start": 1810,
            "bin_end": 1810.1,
            "count": 2
           },
           {
            "bin_start": 1810.1,
            "bin_end": 1810.2,
            "count": 0
           },
           {
            "bin_start": 1810.2,
            "bin_end": 1810.3,
            "count": 0
           },
           {
            "bin_start": 1810.3,
            "bin_end": 1810.4,
            "count": 0
           },
           {
            "bin_start": 1810.4,
            "bin_end": 1810.5,
            "count": 0
           }
          ]
         }
        },
        {
         "name": "sqft_lot",
         "dtype": "float64",
         "stats": {
          "unique_count": 1,
          "nan_count": 0,
          "min": "41800.0",
          "max": "41800.0",
          "histogram": [
           {
            "bin_start": 41799.5,
            "bin_end": 41799.6,
            "count": 0
           },
           {
            "bin_start": 41799.6,
            "bin_end": 41799.7,
            "count": 0
           },
           {
            "bin_start": 41799.7,
            "bin_end": 41799.8,
            "count": 0
           },
           {
            "bin_start": 41799.8,
            "bin_end": 41799.9,
            "count": 0
           },
           {
            "bin_start": 41799.9,
            "bin_end": 41800,
            "count": 0
           },
           {
            "bin_start": 41800,
            "bin_end": 41800.1,
            "count": 2
           },
           {
            "bin_start": 41800.1,
            "bin_end": 41800.2,
            "count": 0
           },
           {
            "bin_start": 41800.2,
            "bin_end": 41800.3,
            "count": 0
           },
           {
            "bin_start": 41800.3,
            "bin_end": 41800.4,
            "count": 0
           },
           {
            "bin_start": 41800.4,
            "bin_end": 41800.5,
            "count": 0
           }
          ]
         }
        },
        {
         "name": "floors",
         "dtype": "float64",
         "stats": {
          "unique_count": 1,
          "nan_count": 0,
          "min": "1.0",
          "max": "1.0",
          "histogram": [
           {
            "bin_start": 0.5,
            "bin_end": 0.6,
            "count": 0
           },
           {
            "bin_start": 0.6,
            "bin_end": 0.7,
            "count": 0
           },
           {
            "bin_start": 0.7,
            "bin_end": 0.8,
            "count": 0
           },
           {
            "bin_start": 0.8,
            "bin_end": 0.9,
            "count": 0
           },
           {
            "bin_start": 0.9,
            "bin_end": 1,
            "count": 0
           },
           {
            "bin_start": 1,
            "bin_end": 1.1,
            "count": 2
           },
           {
            "bin_start": 1.1,
            "bin_end": 1.2000000000000002,
            "count": 0
           },
           {
            "bin_start": 1.2000000000000002,
            "bin_end": 1.3,
            "count": 0
           },
           {
            "bin_start": 1.3,
            "bin_end": 1.4,
            "count": 0
           },
           {
            "bin_start": 1.4,
            "bin_end": 1.5,
            "count": 0
           }
          ]
         }
        },
        {
         "name": "waterfront",
         "dtype": "int64",
         "stats": {
          "unique_count": 1,
          "nan_count": 0,
          "min": "0",
          "max": "0",
          "histogram": [
           {
            "bin_start": -0.5,
            "bin_end": -0.4,
            "count": 0
           },
           {
            "bin_start": -0.4,
            "bin_end": -0.3,
            "count": 0
           },
           {
            "bin_start": -0.3,
            "bin_end": -0.19999999999999996,
            "count": 0
           },
           {
            "bin_start": -0.19999999999999996,
            "bin_end": -0.09999999999999998,
            "count": 0
           },
           {
            "bin_start": -0.09999999999999998,
            "bin_end": 0,
            "count": 0
           },
           {
            "bin_start": 0,
            "bin_end": 0.10000000000000009,
            "count": 2
           },
           {
            "bin_start": 0.10000000000000009,
            "bin_end": 0.20000000000000007,
            "count": 0
           },
           {
            "bin_start": 0.20000000000000007,
            "bin_end": 0.30000000000000004,
            "count": 0
           },
           {
            "bin_start": 0.30000000000000004,
            "bin_end": 0.4,
            "count": 0
           },
           {
            "bin_start": 0.4,
            "bin_end": 0.5,
            "count": 0
           }
          ]
         }
        },
        {
         "name": "view",
         "dtype": "int64",
         "stats": {
          "unique_count": 1,
          "nan_count": 0,
          "min": "0",
          "max": "0",
          "histogram": [
           {
            "bin_start": -0.5,
            "bin_end": -0.4,
            "count": 0
           },
           {
            "bin_start": -0.4,
            "bin_end": -0.3,
            "count": 0
           },
           {
            "bin_start": -0.3,
            "bin_end": -0.19999999999999996,
            "count": 0
           },
           {
            "bin_start": -0.19999999999999996,
            "bin_end": -0.09999999999999998,
            "count": 0
           },
           {
            "bin_start": -0.09999999999999998,
            "bin_end": 0,
            "count": 0
           },
           {
            "bin_start": 0,
            "bin_end": 0.10000000000000009,
            "count": 2
           },
           {
            "bin_start": 0.10000000000000009,
            "bin_end": 0.20000000000000007,
            "count": 0
           },
           {
            "bin_start": 0.20000000000000007,
            "bin_end": 0.30000000000000004,
            "count": 0
           },
           {
            "bin_start": 0.30000000000000004,
            "bin_end": 0.4,
            "count": 0
           },
           {
            "bin_start": 0.4,
            "bin_end": 0.5,
            "count": 0
           }
          ]
         }
        },
        {
         "name": "condition",
         "dtype": "int64",
         "stats": {
          "unique_count": 1,
          "nan_count": 0,
          "min": "5",
          "max": "5",
          "histogram": [
           {
            "bin_start": 4.5,
            "bin_end": 4.6,
            "count": 0
           },
           {
            "bin_start": 4.6,
            "bin_end": 4.7,
            "count": 0
           },
           {
            "bin_start": 4.7,
            "bin_end": 4.8,
            "count": 0
           },
           {
            "bin_start": 4.8,
            "bin_end": 4.9,
            "count": 0
           },
           {
            "bin_start": 4.9,
            "bin_end": 5,
            "count": 0
           },
           {
            "bin_start": 5,
            "bin_end": 5.1,
            "count": 2
           },
           {
            "bin_start": 5.1,
            "bin_end": 5.2,
            "count": 0
           },
           {
            "bin_start": 5.2,
            "bin_end": 5.3,
            "count": 0
           },
           {
            "bin_start": 5.3,
            "bin_end": 5.4,
            "count": 0
           },
           {
            "bin_start": 5.4,
            "bin_end": 5.5,
            "count": 0
           }
          ]
         }
        },
        {
         "name": "grade",
         "dtype": "int64",
         "stats": {
          "unique_count": 1,
          "nan_count": 0,
          "min": "7",
          "max": "7",
          "histogram": [
           {
            "bin_start": 6.5,
            "bin_end": 6.6,
            "count": 0
           },
           {
            "bin_start": 6.6,
            "bin_end": 6.7,
            "count": 0
           },
           {
            "bin_start": 6.7,
            "bin_end": 6.8,
            "count": 0
           },
           {
            "bin_start": 6.8,
            "bin_end": 6.9,
            "count": 0
           },
           {
            "bin_start": 6.9,
            "bin_end": 7,
            "count": 0
           },
           {
            "bin_start": 7,
            "bin_end": 7.1,
            "count": 2
           },
           {
            "bin_start": 7.1,
            "bin_end": 7.2,
            "count": 0
           },
           {
            "bin_start": 7.2,
            "bin_end": 7.3,
            "count": 0
           },
           {
            "bin_start": 7.3,
            "bin_end": 7.4,
            "count": 0
           },
           {
            "bin_start": 7.4,
            "bin_end": 7.5,
            "count": 0
           }
          ]
         }
        },
        {
         "name": "sqft_above",
         "dtype": "int64",
         "stats": {
          "unique_count": 1,
          "nan_count": 0,
          "min": "1210",
          "max": "1210",
          "histogram": [
           {
            "bin_start": 1209.5,
            "bin_end": 1209.6,
            "count": 0
           },
           {
            "bin_start": 1209.6,
            "bin_end": 1209.7,
            "count": 0
           },
           {
            "bin_start": 1209.7,
            "bin_end": 1209.8,
            "count": 0
           },
           {
            "bin_start": 1209.8,
            "bin_end": 1209.9,
            "count": 0
           },
           {
            "bin_start": 1209.9,
            "bin_end": 1210,
            "count": 0
           },
           {
            "bin_start": 1210,
            "bin_end": 1210.1,
            "count": 2
           },
           {
            "bin_start": 1210.1,
            "bin_end": 1210.2,
            "count": 0
           },
           {
            "bin_start": 1210.2,
            "bin_end": 1210.3,
            "count": 0
           },
           {
            "bin_start": 1210.3,
            "bin_end": 1210.4,
            "count": 0
           },
           {
            "bin_start": 1210.4,
            "bin_end": 1210.5,
            "count": 0
           }
          ]
         }
        },
        {
         "name": "sqft_basement",
         "dtype": "int64",
         "stats": {
          "unique_count": 1,
          "nan_count": 0,
          "min": "600",
          "max": "600",
          "histogram": [
           {
            "bin_start": 599.5,
            "bin_end": 599.6,
            "count": 0
           },
           {
            "bin_start": 599.6,
            "bin_end": 599.7,
            "count": 0
           },
           {
            "bin_start": 599.7,
            "bin_end": 599.8,
            "count": 0
           },
           {
            "bin_start": 599.8,
            "bin_end": 599.9,
            "count": 0
           },
           {
            "bin_start": 599.9,
            "bin_end": 600,
            "count": 0
           },
           {
            "bin_start": 600,
            "bin_end": 600.1,
            "count": 2
           },
           {
            "bin_start": 600.1,
            "bin_end": 600.2,
            "count": 0
           },
           {
            "bin_start": 600.2,
            "bin_end": 600.3,
            "count": 0
           },
           {
            "bin_start": 600.3,
            "bin_end": 600.4,
            "count": 0
           },
           {
            "bin_start": 600.4,
            "bin_end": 600.5,
            "count": 0
           }
          ]
         }
        },
        {
         "name": "yr_built",
         "dtype": "int64",
         "stats": {
          "unique_count": 1,
          "nan_count": 0,
          "min": "1980",
          "max": "1980",
          "histogram": [
           {
            "bin_start": 1979.5,
            "bin_end": 1979.6,
            "count": 0
           },
           {
            "bin_start": 1979.6,
            "bin_end": 1979.7,
            "count": 0
           },
           {
            "bin_start": 1979.7,
            "bin_end": 1979.8,
            "count": 0
           },
           {
            "bin_start": 1979.8,
            "bin_end": 1979.9,
            "count": 0
           },
           {
            "bin_start": 1979.9,
            "bin_end": 1980,
            "count": 0
           },
           {
            "bin_start": 1980,
            "bin_end": 1980.1,
            "count": 2
           },
           {
            "bin_start": 1980.1,
            "bin_end": 1980.2,
            "count": 0
           },
           {
            "bin_start": 1980.2,
            "bin_end": 1980.3,
            "count": 0
           },
           {
            "bin_start": 1980.3,
            "bin_end": 1980.4,
            "count": 0
           },
           {
            "bin_start": 1980.4,
            "bin_end": 1980.5,
            "count": 0
           }
          ]
         }
        },
        {
         "name": "year_renovated",
         "dtype": "int64",
         "stats": {
          "unique_count": 1,
          "nan_count": 0,
          "min": "0",
          "max": "0",
          "histogram": [
           {
            "bin_start": -0.5,
            "bin_end": -0.4,
            "count": 0
           },
           {
            "bin_start": -0.4,
            "bin_end": -0.3,
            "count": 0
           },
           {
            "bin_start": -0.3,
            "bin_end": -0.19999999999999996,
            "count": 0
           },
           {
            "bin_start": -0.19999999999999996,
            "bin_end": -0.09999999999999998,
            "count": 0
           },
           {
            "bin_start": -0.09999999999999998,
            "bin_end": 0,
            "count": 0
           },
           {
            "bin_start": 0,
            "bin_end": 0.10000000000000009,
            "count": 2
           },
           {
            "bin_start": 0.10000000000000009,
            "bin_end": 0.20000000000000007,
            "count": 0
           },
           {
            "bin_start": 0.20000000000000007,
            "bin_end": 0.30000000000000004,
            "count": 0
           },
           {
            "bin_start": 0.30000000000000004,
            "bin_end": 0.4,
            "count": 0
           },
           {
            "bin_start": 0.4,
            "bin_end": 0.5,
            "count": 0
           }
          ]
         }
        },
        {
         "name": "zipcode",
         "dtype": "int64",
         "stats": {
          "unique_count": 1,
          "nan_count": 0,
          "min": "98038",
          "max": "98038",
          "histogram": [
           {
            "bin_start": 98037.5,
            "bin_end": 98037.6,
            "count": 0
           },
           {
            "bin_start": 98037.6,
            "bin_end": 98037.7,
            "count": 0
           },
           {
            "bin_start": 98037.7,
            "bin_end": 98037.8,
            "count": 0
           },
           {
            "bin_start": 98037.8,
            "bin_end": 98037.9,
            "count": 0
           },
           {
            "bin_start": 98037.9,
            "bin_end": 98038,
            "count": 0
           },
           {
            "bin_start": 98038,
            "bin_end": 98038.1,
            "count": 2
           },
           {
            "bin_start": 98038.1,
            "bin_end": 98038.2,
            "count": 0
           },
           {
            "bin_start": 98038.2,
            "bin_end": 98038.3,
            "count": 0
           },
           {
            "bin_start": 98038.3,
            "bin_end": 98038.4,
            "count": 0
           },
           {
            "bin_start": 98038.4,
            "bin_end": 98038.5,
            "count": 0
           }
          ]
         }
        },
        {
         "name": "lat",
         "dtype": "float64",
         "stats": {
          "unique_count": 1,
          "nan_count": 0,
          "min": "47.4109",
          "max": "47.4109",
          "histogram": [
           {
            "bin_start": 46.9109,
            "bin_end": 47.0109,
            "count": 0
           },
           {
            "bin_start": 47.0109,
            "bin_end": 47.1109,
            "count": 0
           },
           {
            "bin_start": 47.1109,
            "bin_end": 47.210899999999995,
            "count": 0
           },
           {
            "bin_start": 47.210899999999995,
            "bin_end": 47.3109,
            "count": 0
           },
           {
            "bin_start": 47.3109,
            "bin_end": 47.4109,
            "count": 0
           },
           {
            "bin_start": 47.4109,
            "bin_end": 47.5109,
            "count": 2
           },
           {
            "bin_start": 47.5109,
            "bin_end": 47.6109,
            "count": 0
           },
           {
            "bin_start": 47.6109,
            "bin_end": 47.710899999999995,
            "count": 0
           },
           {
            "bin_start": 47.710899999999995,
            "bin_end": 47.8109,
            "count": 0
           },
           {
            "bin_start": 47.8109,
            "bin_end": 47.9109,
            "count": 0
           }
          ]
         }
        },
        {
         "name": "long",
         "dtype": "float64",
         "stats": {
          "unique_count": 1,
          "nan_count": 0,
          "min": "-121.958",
          "max": "-121.958",
          "histogram": [
           {
            "bin_start": -122.458,
            "bin_end": -122.358,
            "count": 0
           },
           {
            "bin_start": -122.358,
            "bin_end": -122.258,
            "count": 0
           },
           {
            "bin_start": -122.258,
            "bin_end": -122.158,
            "count": 0
           },
           {
            "bin_start": -122.158,
            "bin_end": -122.05799999999999,
            "count": 0
           },
           {
            "bin_start": -122.05799999999999,
            "bin_end": -121.958,
            "count": 0
           },
           {
            "bin_start": -121.958,
            "bin_end": -121.858,
            "count": 2
           },
           {
            "bin_start": -121.858,
            "bin_end": -121.758,
            "count": 0
           },
           {
            "bin_start": -121.758,
            "bin_end": -121.658,
            "count": 0
           },
           {
            "bin_start": -121.658,
            "bin_end": -121.55799999999999,
            "count": 0
           },
           {
            "bin_start": -121.55799999999999,
            "bin_end": -121.458,
            "count": 0
           }
          ]
         }
        },
        {
         "name": "sqft_living15",
         "dtype": "int64",
         "stats": {
          "unique_count": 1,
          "nan_count": 0,
          "min": "1650",
          "max": "1650",
          "histogram": [
           {
            "bin_start": 1649.5,
            "bin_end": 1649.6,
            "count": 0
           },
           {
            "bin_start": 1649.6,
            "bin_end": 1649.7,
            "count": 0
           },
           {
            "bin_start": 1649.7,
            "bin_end": 1649.8,
            "count": 0
           },
           {
            "bin_start": 1649.8,
            "bin_end": 1649.9,
            "count": 0
           },
           {
            "bin_start": 1649.9,
            "bin_end": 1650,
            "count": 0
           },
           {
            "bin_start": 1650,
            "bin_end": 1650.1,
            "count": 2
           },
           {
            "bin_start": 1650.1,
            "bin_end": 1650.2,
            "count": 0
           },
           {
            "bin_start": 1650.2,
            "bin_end": 1650.3,
            "count": 0
           },
           {
            "bin_start": 1650.3,
            "bin_end": 1650.4,
            "count": 0
           },
           {
            "bin_start": 1650.4,
            "bin_end": 1650.5,
            "count": 0
           }
          ]
         }
        },
        {
         "name": "sqft_lot15",
         "dtype": "int64",
         "stats": {
          "unique_count": 1,
          "nan_count": 0,
          "min": "135036",
          "max": "135036",
          "histogram": [
           {
            "bin_start": 135035.5,
            "bin_end": 135035.6,
            "count": 0
           },
           {
            "bin_start": 135035.6,
            "bin_end": 135035.7,
            "count": 0
           },
           {
            "bin_start": 135035.7,
            "bin_end": 135035.8,
            "count": 0
           },
           {
            "bin_start": 135035.8,
            "bin_end": 135035.9,
            "count": 0
           },
           {
            "bin_start": 135035.9,
            "bin_end": 135036,
            "count": 0
           },
           {
            "bin_start": 135036,
            "bin_end": 135036.1,
            "count": 2
           },
           {
            "bin_start": 135036.1,
            "bin_end": 135036.2,
            "count": 0
           },
           {
            "bin_start": 135036.2,
            "bin_end": 135036.3,
            "count": 0
           },
           {
            "bin_start": 135036.3,
            "bin_end": 135036.4,
            "count": 0
           },
           {
            "bin_start": 135036.4,
            "bin_end": 135036.5,
            "count": 0
           }
          ]
         }
        },
        {
         "name": "city",
         "dtype": "object",
         "stats": {
          "unique_count": 1,
          "nan_count": 0,
          "categories": [
           {
            "name": "Maple Valley",
            "count": 2
           }
          ]
         }
        },
        {
         "name": "_deepnote_index_column",
         "dtype": "int64"
        }
       ],
       "rows": [
        {
         "date": "20140711T000000",
         "price": 314000,
         "bedrooms": 3,
         "bathrooms": 1.75,
         "sqft_living": 1810,
         "sqft_lot": 41800,
         "floors": 1,
         "waterfront": 0,
         "view": 0,
         "condition": 5,
         "grade": 7,
         "sqft_above": 1210,
         "sqft_basement": 600,
         "yr_built": 1980,
         "year_renovated": 0,
         "zipcode": 98038,
         "lat": 47.4109,
         "long": -121.958,
         "sqft_living15": 1650,
         "sqft_lot15": 135036,
         "city": "Maple Valley",
         "_deepnote_index_column": 99
        },
        {
         "date": "20140711T000000",
         "price": 314000,
         "bedrooms": 3,
         "bathrooms": 1.75,
         "sqft_living": 1810,
         "sqft_lot": 41800,
         "floors": 1,
         "waterfront": 0,
         "view": 0,
         "condition": 5,
         "grade": 7,
         "sqft_above": 1210,
         "sqft_basement": 600,
         "yr_built": 1980,
         "year_renovated": 0,
         "zipcode": 98038,
         "lat": 47.4109,
         "long": -121.958,
         "sqft_living15": 1650,
         "sqft_lot15": 135036,
         "city": "Maple Valley",
         "_deepnote_index_column": 100
        }
       ]
      },
      "text/plain": "                date     price  bedrooms  bathrooms  sqft_living  sqft_lot  \\\n99   20140711T000000  314000.0         3       1.75         1810   41800.0   \n100  20140711T000000  314000.0         3       1.75         1810   41800.0   \n\n     floors  waterfront  view  condition  ...  sqft_above  sqft_basement  \\\n99      1.0           0     0          5  ...        1210            600   \n100     1.0           0     0          5  ...        1210            600   \n\n     yr_built  year_renovated  zipcode      lat     long  sqft_living15  \\\n99       1980               0    98038  47.4109 -121.958           1650   \n100      1980               0    98038  47.4109 -121.958           1650   \n\n     sqft_lot15          city  \n99       135036  Maple Valley  \n100      135036  Maple Valley  \n\n[2 rows x 21 columns]",
      "text/html": "<div>\n<style scoped>\n    .dataframe tbody tr th:only-of-type {\n        vertical-align: middle;\n    }\n\n    .dataframe tbody tr th {\n        vertical-align: top;\n    }\n\n    .dataframe thead th {\n        text-align: right;\n    }\n</style>\n<table border=\"1\" class=\"dataframe\">\n  <thead>\n    <tr style=\"text-align: right;\">\n      <th></th>\n      <th>date</th>\n      <th>price</th>\n      <th>bedrooms</th>\n      <th>bathrooms</th>\n      <th>sqft_living</th>\n      <th>sqft_lot</th>\n      <th>floors</th>\n      <th>waterfront</th>\n      <th>view</th>\n      <th>condition</th>\n      <th>...</th>\n      <th>sqft_above</th>\n      <th>sqft_basement</th>\n      <th>yr_built</th>\n      <th>year_renovated</th>\n      <th>zipcode</th>\n      <th>lat</th>\n      <th>long</th>\n      <th>sqft_living15</th>\n      <th>sqft_lot15</th>\n      <th>city</th>\n    </tr>\n  </thead>\n  <tbody>\n    <tr>\n      <th>99</th>\n      <td>20140711T000000</td>\n      <td>314000.0</td>\n      <td>3</td>\n      <td>1.75</td>\n      <td>1810</td>\n      <td>41800.0</td>\n      <td>1.0</td>\n      <td>0</td>\n      <td>0</td>\n      <td>5</td>\n      <td>...</td>\n      <td>1210</td>\n      <td>600</td>\n      <td>1980</td>\n      <td>0</td>\n      <td>98038</td>\n      <td>47.4109</td>\n      <td>-121.958</td>\n      <td>1650</td>\n      <td>135036</td>\n      <td>Maple Valley</td>\n    </tr>\n    <tr>\n      <th>100</th>\n      <td>20140711T000000</td>\n      <td>314000.0</td>\n      <td>3</td>\n      <td>1.75</td>\n      <td>1810</td>\n      <td>41800.0</td>\n      <td>1.0</td>\n      <td>0</td>\n      <td>0</td>\n      <td>5</td>\n      <td>...</td>\n      <td>1210</td>\n      <td>600</td>\n      <td>1980</td>\n      <td>0</td>\n      <td>98038</td>\n      <td>47.4109</td>\n      <td>-121.958</td>\n      <td>1650</td>\n      <td>135036</td>\n      <td>Maple Valley</td>\n    </tr>\n  </tbody>\n</table>\n<p>2 rows × 21 columns</p>\n</div>"
     },
     "metadata": {}
    }
   ],
   "execution_count": null
  },
  {
   "cell_type": "code",
   "metadata": {
    "cell_id": "00066-3739047d-4c3a-4837-b2d6-189876d62490",
    "deepnote_to_be_reexecuted": false,
    "source_hash": "431be542",
    "execution_start": 1646265137725,
    "execution_millis": 26,
    "deepnote_cell_type": "code"
   },
   "source": "duplicate_rows_df = df[df.duplicated()]\nprint('number of duplicate rows: ', duplicate_rows_df.shape[0])",
   "outputs": [
    {
     "name": "stdout",
     "text": "number of duplicate rows:  2\n",
     "output_type": "stream"
    }
   ],
   "execution_count": null
  },
  {
   "cell_type": "markdown",
   "source": "Como hay filas duplicadas, eliminémoslas",
   "metadata": {
    "cell_id": "00067-bd50325f-91be-42c6-b55b-ac343ca31d13",
    "deepnote_cell_type": "markdown"
   }
  },
  {
   "cell_type": "code",
   "metadata": {
    "cell_id": "00068-c8c24660-4738-43ba-ab4d-1540b265117a",
    "deepnote_to_be_reexecuted": false,
    "source_hash": "94255abe",
    "execution_start": 1646265139083,
    "execution_millis": 15,
    "deepnote_cell_type": "code"
   },
   "source": "df = df.drop_duplicates()",
   "outputs": [],
   "execution_count": null
  },
  {
   "cell_type": "code",
   "metadata": {
    "cell_id": "00069-330aee63-44d8-4a77-86ad-5c953a792028",
    "deepnote_to_be_reexecuted": false,
    "source_hash": "14f60b8f",
    "execution_start": 1646265139696,
    "execution_millis": 5,
    "deepnote_cell_type": "code"
   },
   "source": "df.shape",
   "outputs": [
    {
     "output_type": "execute_result",
     "execution_count": 32,
     "data": {
      "text/plain": "(21612, 21)"
     },
     "metadata": {}
    }
   ],
   "execution_count": null
  },
  {
   "cell_type": "markdown",
   "source": "También podemos eliminar la fila con la casa que tiene 33 dormitorios. ",
   "metadata": {
    "cell_id": "00070-7f91aad4-fcb6-4c7e-9398-fca31e036107",
    "deepnote_cell_type": "markdown"
   }
  },
  {
   "cell_type": "code",
   "metadata": {
    "cell_id": "00071-9580d354-e62d-4042-9dde-bd162fd312fc",
    "deepnote_to_be_reexecuted": false,
    "source_hash": "f0ea734e",
    "execution_start": 1646265140697,
    "execution_millis": 1,
    "deepnote_cell_type": "code"
   },
   "source": "#df=df[df['bedrooms']<30]",
   "outputs": [],
   "execution_count": null
  },
  {
   "cell_type": "code",
   "metadata": {
    "cell_id": "00072-60e89e14-0d47-4e32-99d7-eb11f78b3494",
    "deepnote_to_be_reexecuted": false,
    "source_hash": "d12022aa",
    "execution_start": 1646265140896,
    "execution_millis": 0,
    "deepnote_cell_type": "code"
   },
   "source": "#df.shape",
   "outputs": [],
   "execution_count": null
  },
  {
   "cell_type": "markdown",
   "source": "## 4. Revisar y comprender los datos seleccionados en términos de tamaño, tipo de datos usando número y nombre de las columnas",
   "metadata": {
    "cell_id": "00073-afda5da6-0e3c-4f6a-a4bd-fc07a49049cb",
    "deepnote_cell_type": "markdown"
   }
  },
  {
   "cell_type": "markdown",
   "source": "Después de fusionarnos sabemos en qué ciudades están las casas. Veamos cuáles son esas ciudades",
   "metadata": {
    "cell_id": "00074-720bfc77-e0cc-4da9-96a2-e6eeca07ad62",
    "deepnote_cell_type": "markdown"
   }
  },
  {
   "cell_type": "code",
   "metadata": {
    "cell_id": "00075-ca4fd430-6293-427a-99ee-ff7e0bd09c11",
    "deepnote_to_be_reexecuted": false,
    "source_hash": "53271ba2",
    "execution_start": 1646265142093,
    "execution_millis": 6,
    "deepnote_cell_type": "code"
   },
   "source": "df['city'].unique()",
   "outputs": [
    {
     "output_type": "execute_result",
     "execution_count": 35,
     "data": {
      "text/plain": "array(['Seattle', 'Kenmore', 'Sammamish', 'Union Hill-Novelty Hill',\n       'Federal Way', 'Des Moines', 'Maple Valley', 'Bellevue', 'Duvall',\n       'Auburn', 'Mercer Island', 'Kent', 'Redmond', 'Issaquah', 'Renton',\n       'Newcastle', 'Normandy Park', 'Vashon', 'Covington', 'Kirkland',\n       'Black Diamond', 'North Bend', 'Woodinville', 'Burien',\n       'Snoqualmie', 'Enumclaw', 'Shoreline', 'Fall City', 'Bothell',\n       'Seatac', 'Carnation', 'Medina'], dtype=object)"
     },
     "metadata": {}
    }
   ],
   "execution_count": null
  },
  {
   "cell_type": "markdown",
   "source": "Y vamos a contarlos",
   "metadata": {
    "cell_id": "00076-fab89cd7-f3e5-4d1a-882a-fc6603cb8ba7",
    "deepnote_cell_type": "markdown"
   }
  },
  {
   "cell_type": "code",
   "metadata": {
    "cell_id": "00077-8b04db2f-0ec3-42f9-a77a-144096599ca8",
    "deepnote_to_be_reexecuted": false,
    "source_hash": "f0841286",
    "execution_start": 1646265142691,
    "execution_millis": 4,
    "deepnote_cell_type": "code"
   },
   "source": "df['city'].unique().shape\n#len(df['city'].unique())",
   "outputs": [
    {
     "output_type": "execute_result",
     "execution_count": 36,
     "data": {
      "text/plain": "(32,)"
     },
     "metadata": {}
    }
   ],
   "execution_count": null
  },
  {
   "cell_type": "markdown",
   "source": "Veamos ver cuántas de las casas se vendieron en cada ciudad",
   "metadata": {
    "cell_id": "00078-16fd20f1-9b91-4310-bb8a-652662be5eb6",
    "deepnote_cell_type": "markdown"
   }
  },
  {
   "cell_type": "code",
   "metadata": {
    "cell_id": "00079-f28fb8d8-72e8-4b83-8699-be18812bb52a",
    "deepnote_to_be_reexecuted": false,
    "source_hash": "e019132c",
    "execution_start": 1646265143547,
    "execution_millis": 5,
    "deepnote_cell_type": "code"
   },
   "source": "df['city'].value_counts()",
   "outputs": [
    {
     "output_type": "execute_result",
     "execution_count": 37,
     "data": {
      "text/plain": "Seattle                    7535\nBellevue                   1407\nRenton                     1191\nAuburn                     1037\nKirkland                    977\nSammamish                   800\nFederal Way                 779\nIssaquah                    733\nMaple Valley                590\nRedmond                     574\nCovington                   548\nKent                        530\nWoodinville                 471\nShoreline                   446\nNewcastle                   406\nUnion Hill-Novelty Hill     405\nDes Moines                  336\nSnoqualmie                  310\nKenmore                     283\nMercer Island               282\nBurien                      269\nNormandy Park               254\nEnumclaw                    234\nNorth Bend                  221\nBothell                     195\nDuvall                      190\nSeatac                      136\nCarnation                   124\nVashon                      118\nBlack Diamond               100\nFall City                    81\nMedina                       50\nName: city, dtype: int64"
     },
     "metadata": {}
    }
   ],
   "execution_count": null
  },
  {
   "cell_type": "markdown",
   "source": "Nos interesan los primeros 10 ciudades donde se vendieron mas casas.",
   "metadata": {
    "cell_id": "00080-dbe258ed-d6d7-4271-ae33-5085ea96fb0c",
    "deepnote_cell_type": "markdown"
   }
  },
  {
   "cell_type": "code",
   "metadata": {
    "cell_id": "00081-659e35ad-f659-49dd-b07d-c47e359e7bf7",
    "deepnote_to_be_reexecuted": false,
    "source_hash": "44509fb8",
    "execution_start": 1646265144528,
    "execution_millis": 4,
    "deepnote_cell_type": "code"
   },
   "source": "df['city'].value_counts().nlargest(10)",
   "outputs": [
    {
     "output_type": "execute_result",
     "execution_count": 38,
     "data": {
      "text/plain": "Seattle         7535\nBellevue        1407\nRenton          1191\nAuburn          1037\nKirkland         977\nSammamish        800\nFederal Way      779\nIssaquah         733\nMaple Valley     590\nRedmond          574\nName: city, dtype: int64"
     },
     "metadata": {}
    }
   ],
   "execution_count": null
  },
  {
   "cell_type": "markdown",
   "source": "Solamente en ciudad `Seattle`",
   "metadata": {
    "cell_id": "00082-6b3b19e5-c2e1-48e4-a0b5-ada5cca5b9a7",
    "deepnote_cell_type": "markdown"
   }
  },
  {
   "cell_type": "code",
   "metadata": {
    "cell_id": "00083-6afe5b36-8189-4952-924f-5c4635eb3666",
    "deepnote_to_be_reexecuted": false,
    "source_hash": "c7949f5e",
    "execution_start": 1646265144570,
    "execution_millis": 9,
    "deepnote_cell_type": "code"
   },
   "source": "df['city'].value_counts()['Seattle']",
   "outputs": [
    {
     "output_type": "execute_result",
     "execution_count": 39,
     "data": {
      "text/plain": "7535"
     },
     "metadata": {}
    }
   ],
   "execution_count": null
  },
  {
   "cell_type": "markdown",
   "source": "Vamos utilizar una herramienta más potente llamada `groupby` para organizar y extraer la información aún mejor. Entonces, vamos agrupar todo el conjunto de datos en términos de ciudad y encontrar valores medios - `mean` (`max` o `min`) de cada columna. ",
   "metadata": {
    "cell_id": "00084-54f664f7-9737-4cf2-b9c8-44f91a8c7c73",
    "deepnote_cell_type": "markdown"
   }
  },
  {
   "cell_type": "code",
   "metadata": {
    "cell_id": "00085-efb1044b-a589-4b6d-a4f8-151e9f4f6880",
    "deepnote_to_be_reexecuted": false,
    "source_hash": "73f9c58",
    "execution_start": 1646265144572,
    "execution_millis": 107,
    "deepnote_cell_type": "code"
   },
   "source": "df.groupby(['city']).mean()",
   "outputs": [
    {
     "output_type": "execute_result",
     "execution_count": 40,
     "data": {
      "application/vnd.deepnote.dataframe.v3+json": {
       "column_count": 19,
       "row_count": 32,
       "columns": [
        {
         "name": "price",
         "dtype": "float64",
         "stats": {
          "unique_count": 32,
          "nan_count": 0,
          "min": "240328.3717472119",
          "max": "2160606.6",
          "histogram": [
           {
            "bin_start": 240328.3717472119,
            "bin_end": 432356.1945724907,
            "count": 14
           },
           {
            "bin_start": 432356.1945724907,
            "bin_end": 624384.0173977695,
            "count": 11
           },
           {
            "bin_start": 624384.0173977695,
            "bin_end": 816411.8402230482,
            "count": 4
           },
           {
            "bin_start": 816411.8402230482,
            "bin_end": 1008439.6630483271,
            "count": 1
           },
           {
            "bin_start": 1008439.6630483271,
            "bin_end": 1200467.485873606,
            "count": 1
           },
           {
            "bin_start": 1200467.485873606,
            "bin_end": 1392495.3086988847,
            "count": 0
           },
           {
            "bin_start": 1392495.3086988847,
            "bin_end": 1584523.1315241633,
            "count": 0
           },
           {
            "bin_start": 1584523.1315241633,
            "bin_end": 1776550.9543494424,
            "count": 0
           },
           {
            "bin_start": 1776550.9543494424,
            "bin_end": 1968578.777174721,
            "count": 0
           },
           {
            "bin_start": 1968578.777174721,
            "bin_end": 2160606.6,
            "count": 1
           }
          ]
         }
        },
        {
         "name": "bedrooms",
         "dtype": "float64",
         "stats": {
          "unique_count": 32,
          "nan_count": 0,
          "min": "2.7542372881355934",
          "max": "4.06",
          "histogram": [
           {
            "bin_start": 2.7542372881355934,
            "bin_end": 2.884813559322034,
            "count": 1
           },
           {
            "bin_start": 2.884813559322034,
            "bin_end": 3.0153898305084748,
            "count": 2
           },
           {
            "bin_start": 3.0153898305084748,
            "bin_end": 3.145966101694915,
            "count": 0
           },
           {
            "bin_start": 3.145966101694915,
            "bin_end": 3.276542372881356,
            "count": 5
           },
           {
            "bin_start": 3.276542372881356,
            "bin_end": 3.4071186440677965,
            "count": 7
           },
           {
            "bin_start": 3.4071186440677965,
            "bin_end": 3.537694915254237,
            "count": 11
           },
           {
            "bin_start": 3.537694915254237,
            "bin_end": 3.668271186440678,
            "count": 2
           },
           {
            "bin_start": 3.668271186440678,
            "bin_end": 3.7988474576271183,
            "count": 1
           },
           {
            "bin_start": 3.7988474576271183,
            "bin_end": 3.9294237288135587,
            "count": 1
           },
           {
            "bin_start": 3.9294237288135587,
            "bin_end": 4.06,
            "count": 2
           }
          ]
         }
        },
        {
         "name": "bathrooms",
         "dtype": "float64",
         "stats": {
          "unique_count": 32,
          "nan_count": 0,
          "min": "1.433085501858736",
          "max": "3.2",
          "histogram": [
           {
            "bin_start": 1.433085501858736,
            "bin_end": 1.6097769516728624,
            "count": 1
           },
           {
            "bin_start": 1.6097769516728624,
            "bin_end": 1.786468401486989,
            "count": 0
           },
           {
            "bin_start": 1.786468401486989,
            "bin_end": 1.9631598513011153,
            "count": 7
           },
           {
            "bin_start": 1.9631598513011153,
            "bin_end": 2.139851301115242,
            "count": 7
           },
           {
            "bin_start": 2.139851301115242,
            "bin_end": 2.316542750929368,
            "count": 7
           },
           {
            "bin_start": 2.316542750929368,
            "bin_end": 2.4932342007434944,
            "count": 5
           },
           {
            "bin_start": 2.4932342007434944,
            "bin_end": 2.669925650557621,
            "count": 3
           },
           {
            "bin_start": 2.669925650557621,
            "bin_end": 2.8466171003717475,
            "count": 1
           },
           {
            "bin_start": 2.8466171003717475,
            "bin_end": 3.023308550185874,
            "count": 0
           },
           {
            "bin_start": 3.023308550185874,
            "bin_end": 3.2,
            "count": 1
           }
          ]
         }
        },
        {
         "name": "sqft_living",
         "dtype": "float64",
         "stats": {
          "unique_count": 32,
          "nan_count": 0,
          "min": "1468.6245353159852",
          "max": "3800.9",
          "histogram": [
           {
            "bin_start": 1468.6245353159852,
            "bin_end": 1701.8520817843867,
            "count": 1
           },
           {
            "bin_start": 1701.8520817843867,
            "bin_end": 1935.079628252788,
            "count": 7
           },
           {
            "bin_start": 1935.079628252788,
            "bin_end": 2168.3071747211898,
            "count": 12
           },
           {
            "bin_start": 2168.3071747211898,
            "bin_end": 2401.5347211895914,
            "count": 4
           },
           {
            "bin_start": 2401.5347211895914,
            "bin_end": 2634.7622676579927,
            "count": 4
           },
           {
            "bin_start": 2634.7622676579927,
            "bin_end": 2867.9898141263943,
            "count": 2
           },
           {
            "bin_start": 2867.9898141263943,
            "bin_end": 3101.2173605947955,
            "count": 0
           },
           {
            "bin_start": 3101.2173605947955,
            "bin_end": 3334.444907063197,
            "count": 1
           },
           {
            "bin_start": 3334.444907063197,
            "bin_end": 3567.672453531599,
            "count": 0
           },
           {
            "bin_start": 3567.672453531599,
            "bin_end": 3800.9,
            "count": 1
           }
          ]
         }
        },
        {
         "name": "sqft_lot",
         "dtype": "float64",
         "stats": {
          "unique_count": 32,
          "nan_count": 0,
          "min": "5578.104844061048",
          "max": "101724.81481481482",
          "histogram": [
           {
            "bin_start": 5578.104844061048,
            "bin_end": 15192.775841136425,
            "count": 15
           },
           {
            "bin_start": 15192.775841136425,
            "bin_end": 24807.4468382118,
            "count": 7
           },
           {
            "bin_start": 24807.4468382118,
            "bin_end": 34422.11783528718,
            "count": 1
           },
           {
            "bin_start": 34422.11783528718,
            "bin_end": 44036.78883236255,
            "count": 3
           },
           {
            "bin_start": 44036.78883236255,
            "bin_end": 53651.459829437925,
            "count": 1
           },
           {
            "bin_start": 53651.459829437925,
            "bin_end": 63266.130826513305,
            "count": 1
           },
           {
            "bin_start": 63266.130826513305,
            "bin_end": 72880.80182358868,
            "count": 0
           },
           {
            "bin_start": 72880.80182358868,
            "bin_end": 82495.47282066406,
            "count": 1
           },
           {
            "bin_start": 82495.47282066406,
            "bin_end": 92110.14381773943,
            "count": 0
           },
           {
            "bin_start": 92110.14381773943,
            "bin_end": 101724.81481481482,
            "count": 3
           }
          ]
         }
        },
        {
         "name": "floors",
         "dtype": "float64",
         "stats": {
          "unique_count": 32,
          "nan_count": 0,
          "min": "1.1598513011152416",
          "max": "1.8790322580645162",
          "histogram": [
           {
            "bin_start": 1.1598513011152416,
            "bin_end": 1.231769396810169,
            "count": 4
           },
           {
            "bin_start": 1.231769396810169,
            "bin_end": 1.3036874925050965,
            "count": 1
           },
           {
            "bin_start": 1.3036874925050965,
            "bin_end": 1.375605588200024,
            "count": 3
           },
           {
            "bin_start": 1.375605588200024,
            "bin_end": 1.4475236838949515,
            "count": 6
           },
           {
            "bin_start": 1.4475236838949515,
            "bin_end": 1.519441779589879,
            "count": 9
           },
           {
            "bin_start": 1.519441779589879,
            "bin_end": 1.5913598752848064,
            "count": 3
           },
           {
            "bin_start": 1.5913598752848064,
            "bin_end": 1.6632779709797338,
            "count": 1
           },
           {
            "bin_start": 1.6632779709797338,
            "bin_end": 1.7351960666746613,
            "count": 1
           },
           {
            "bin_start": 1.7351960666746613,
            "bin_end": 1.8071141623695888,
            "count": 3
           },
           {
            "bin_start": 1.8071141623695888,
            "bin_end": 1.8790322580645162,
            "count": 1
           }
          ]
         }
        },
        {
         "name": "waterfront",
         "dtype": "float64",
         "stats": {
          "unique_count": 15,
          "nan_count": 0,
          "min": "0.0",
          "max": "0.2033898305084746",
          "histogram": [
           {
            "bin_start": 0,
            "bin_end": 0.02033898305084746,
            "count": 28
           },
           {
            "bin_start": 0.02033898305084746,
            "bin_end": 0.04067796610169492,
            "count": 1
           },
           {
            "bin_start": 0.04067796610169492,
            "bin_end": 0.06101694915254238,
            "count": 2
           },
           {
            "bin_start": 0.06101694915254238,
            "bin_end": 0.08135593220338984,
            "count": 0
           },
           {
            "bin_start": 0.08135593220338984,
            "bin_end": 0.1016949152542373,
            "count": 0
           },
           {
            "bin_start": 0.1016949152542373,
            "bin_end": 0.12203389830508476,
            "count": 0
           },
           {
            "bin_start": 0.12203389830508476,
            "bin_end": 0.1423728813559322,
            "count": 0
           },
           {
            "bin_start": 0.1423728813559322,
            "bin_end": 0.16271186440677968,
            "count": 0
           },
           {
            "bin_start": 0.16271186440677968,
            "bin_end": 0.18305084745762715,
            "count": 0
           },
           {
            "bin_start": 0.18305084745762715,
            "bin_end": 0.2033898305084746,
            "count": 1
           }
          ]
         }
        },
        {
         "name": "view",
         "dtype": "float64",
         "stats": {
          "unique_count": 32,
          "nan_count": 0,
          "min": "0.01486988847583643",
          "max": "1.0847457627118644",
          "histogram": [
           {
            "bin_start": 0.01486988847583643,
            "bin_end": 0.12185747589943921,
            "count": 12
           },
           {
            "bin_start": 0.12185747589943921,
            "bin_end": 0.228845063323042,
            "count": 7
           },
           {
            "bin_start": 0.228845063323042,
            "bin_end": 0.33583265074664476,
            "count": 6
           },
           {
            "bin_start": 0.33583265074664476,
            "bin_end": 0.44282023817024757,
            "count": 2
           },
           {
            "bin_start": 0.44282023817024757,
            "bin_end": 0.5498078255938504,
            "count": 1
           },
           {
            "bin_start": 0.5498078255938504,
            "bin_end": 0.6567954130174531,
            "count": 1
           },
           {
            "bin_start": 0.6567954130174531,
            "bin_end": 0.763783000441056,
            "count": 1
           },
           {
            "bin_start": 0.763783000441056,
            "bin_end": 0.8707705878646588,
            "count": 1
           },
           {
            "bin_start": 0.8707705878646588,
            "bin_end": 0.9777581752882616,
            "count": 0
           },
           {
            "bin_start": 0.9777581752882616,
            "bin_end": 1.0847457627118644,
            "count": 1
           }
          ]
         }
        },
        {
         "name": "condition",
         "dtype": "float64",
         "stats": {
          "unique_count": 32,
          "nan_count": 0,
          "min": "3.0451612903225804",
          "max": "3.7872340425531914",
          "histogram": [
           {
            "bin_start": 3.0451612903225804,
            "bin_end": 3.1193685655456416,
            "count": 3
           },
           {
            "bin_start": 3.1193685655456416,
            "bin_end": 3.1935758407687027,
            "count": 4
           },
           {
            "bin_start": 3.1935758407687027,
            "bin_end": 3.267783115991764,
            "count": 3
           },
           {
            "bin_start": 3.267783115991764,
            "bin_end": 3.341990391214825,
            "count": 5
           },
           {
            "bin_start": 3.341990391214825,
            "bin_end": 3.4161976664378857,
            "count": 4
           },
           {
            "bin_start": 3.4161976664378857,
            "bin_end": 3.4904049416609473,
            "count": 5
           },
           {
            "bin_start": 3.4904049416609473,
            "bin_end": 3.564612216884008,
            "count": 2
           },
           {
            "bin_start": 3.564612216884008,
            "bin_end": 3.638819492107069,
            "count": 2
           },
           {
            "bin_start": 3.638819492107069,
            "bin_end": 3.7130267673301303,
            "count": 2
           },
           {
            "bin_start": 3.7130267673301303,
            "bin_end": 3.7872340425531914,
            "count": 2
           }
          ]
         }
        },
        {
         "name": "grade",
         "dtype": "float64",
         "stats": {
          "unique_count": 32,
          "nan_count": 0,
          "min": "6.5092936802973975",
          "max": "9.56",
          "histogram": [
           {
            "bin_start": 6.5092936802973975,
            "bin_end": 6.814364312267658,
            "count": 1
           },
           {
            "bin_start": 6.814364312267658,
            "bin_end": 7.119434944237918,
            "count": 2
           },
           {
            "bin_start": 7.119434944237918,
            "bin_end": 7.424505576208178,
            "count": 10
           },
           {
            "bin_start": 7.424505576208178,
            "bin_end": 7.729576208178439,
            "count": 8
           },
           {
            "bin_start": 7.729576208178439,
            "bin_end": 8.0346468401487,
            "count": 3
           },
           {
            "bin_start": 8.0346468401487,
            "bin_end": 8.33971747211896,
            "count": 3
           },
           {
            "bin_start": 8.33971747211896,
            "bin_end": 8.64478810408922,
            "count": 2
           },
           {
            "bin_start": 8.64478810408922,
            "bin_end": 8.949858736059479,
            "count": 1
           },
           {
            "bin_start": 8.949858736059479,
            "bin_end": 9.25492936802974,
            "count": 1
           },
           {
            "bin_start": 9.25492936802974,
            "bin_end": 9.56,
            "count": 1
           }
          ]
         }
        },
        {
         "name": "sqft_above",
         "dtype": "float64",
         "stats": {
          "unique_count": 32,
          "nan_count": 0,
          "min": "1234.089219330855",
          "max": "3290.9",
          "histogram": [
           {
            "bin_start": 1234.089219330855,
            "bin_end": 1439.7702973977696,
            "count": 2
           },
           {
            "bin_start": 1439.7702973977696,
            "bin_end": 1645.4513754646841,
            "count": 3
           },
           {
            "bin_start": 1645.4513754646841,
            "bin_end": 1851.1324535315985,
            "count": 10
           },
           {
            "bin_start": 1851.1324535315985,
            "bin_end": 2056.813531598513,
            "count": 7
           },
           {
            "bin_start": 2056.813531598513,
            "bin_end": 2262.4946096654276,
            "count": 4
           },
           {
            "bin_start": 2262.4946096654276,
            "bin_end": 2468.175687732342,
            "count": 2
           },
           {
            "bin_start": 2468.175687732342,
            "bin_end": 2673.856765799256,
            "count": 3
           },
           {
            "bin_start": 2673.856765799256,
            "bin_end": 2879.537843866171,
            "count": 0
           },
           {
            "bin_start": 2879.537843866171,
            "bin_end": 3085.2189219330858,
            "count": 0
           },
           {
            "bin_start": 3085.2189219330858,
            "bin_end": 3290.9,
            "count": 1
           }
          ]
         }
        },
        {
         "name": "sqft_basement",
         "dtype": "float64",
         "stats": {
          "unique_count": 32,
          "nan_count": 0,
          "min": "78.0",
          "max": "632.5035460992908",
          "histogram": [
           {
            "bin_start": 78,
            "bin_end": 133.4503546099291,
            "count": 5
           },
           {
            "bin_start": 133.4503546099291,
            "bin_end": 188.90070921985816,
            "count": 6
           },
           {
            "bin_start": 188.90070921985816,
            "bin_end": 244.35106382978722,
            "count": 6
           },
           {
            "bin_start": 244.35106382978722,
            "bin_end": 299.8014184397163,
            "count": 6
           },
           {
            "bin_start": 299.8014184397163,
            "bin_end": 355.2517730496454,
            "count": 4
           },
           {
            "bin_start": 355.2517730496454,
            "bin_end": 410.70212765957444,
            "count": 2
           },
           {
            "bin_start": 410.70212765957444,
            "bin_end": 466.15248226950354,
            "count": 0
           },
           {
            "bin_start": 466.15248226950354,
            "bin_end": 521.6028368794326,
            "count": 2
           },
           {
            "bin_start": 521.6028368794326,
            "bin_end": 577.0531914893618,
            "count": 0
           },
           {
            "bin_start": 577.0531914893618,
            "bin_end": 632.5035460992908,
            "count": 1
           }
          ]
         }
        },
        {
         "name": "yr_built",
         "dtype": "float64",
         "stats": {
          "unique_count": 32,
          "nan_count": 0,
          "min": "1952.721189591078",
          "max": "1997.8370370370371",
          "histogram": [
           {
            "bin_start": 1952.721189591078,
            "bin_end": 1957.2327743356739,
            "count": 2
           },
           {
            "bin_start": 1957.2327743356739,
            "bin_end": 1961.7443590802698,
            "count": 2
           },
           {
            "bin_start": 1961.7443590802698,
            "bin_end": 1966.2559438248657,
            "count": 2
           },
           {
            "bin_start": 1966.2559438248657,
            "bin_end": 1970.7675285694615,
            "count": 1
           },
           {
            "bin_start": 1970.7675285694615,
            "bin_end": 1975.2791133140577,
            "count": 5
           },
           {
            "bin_start": 1975.2791133140577,
            "bin_end": 1979.7906980586536,
            "count": 6
           },
           {
            "bin_start": 1979.7906980586536,
            "bin_end": 1984.3022828032495,
            "count": 5
           },
           {
            "bin_start": 1984.3022828032495,
            "bin_end": 1988.8138675478453,
            "count": 3
           },
           {
            "bin_start": 1988.8138675478453,
            "bin_end": 1993.3254522924412,
            "count": 3
           },
           {
            "bin_start": 1993.3254522924412,
            "bin_end": 1997.8370370370371,
            "count": 3
           }
          ]
         }
        },
        {
         "name": "year_renovated",
         "dtype": "float64",
         "stats": {
          "unique_count": 32,
          "nan_count": 0,
          "min": "7.494339622641509",
          "max": "398.6",
          "histogram": [
           {
            "bin_start": 7.494339622641509,
            "bin_end": 46.60490566037736,
            "count": 14
           },
           {
            "bin_start": 46.60490566037736,
            "bin_end": 85.7154716981132,
            "count": 9
           },
           {
            "bin_start": 85.7154716981132,
            "bin_end": 124.82603773584906,
            "count": 1
           },
           {
            "bin_start": 124.82603773584906,
            "bin_end": 163.93660377358492,
            "count": 2
           },
           {
            "bin_start": 163.93660377358492,
            "bin_end": 203.04716981132077,
            "count": 3
           },
           {
            "bin_start": 203.04716981132077,
            "bin_end": 242.15773584905662,
            "count": 2
           },
           {
            "bin_start": 242.15773584905662,
            "bin_end": 281.26830188679247,
            "count": 0
           },
           {
            "bin_start": 281.26830188679247,
            "bin_end": 320.3788679245283,
            "count": 0
           },
           {
            "bin_start": 320.3788679245283,
            "bin_end": 359.4894339622642,
            "count": 0
           },
           {
            "bin_start": 359.4894339622642,
            "bin_end": 398.6,
            "count": 1
           }
          ]
         }
        },
        {
         "name": "zipcode",
         "dtype": "float64",
         "stats": {
          "unique_count": 32,
          "nan_count": 0,
          "min": "98005.93248045487",
          "max": "98189.51785714286",
          "histogram": [
           {
            "bin_start": 98005.93248045487,
            "bin_end": 98024.29101812367,
            "count": 8
           },
           {
            "bin_start": 98024.29101812367,
            "bin_end": 98042.64955579246,
            "count": 9
           },
           {
            "bin_start": 98042.64955579246,
            "bin_end": 98061.00809346126,
            "count": 5
           },
           {
            "bin_start": 98061.00809346126,
            "bin_end": 98079.36663113006,
            "count": 4
           },
           {
            "bin_start": 98079.36663113006,
            "bin_end": 98097.72516879886,
            "count": 0
           },
           {
            "bin_start": 98097.72516879886,
            "bin_end": 98116.08370646766,
            "count": 0
           },
           {
            "bin_start": 98116.08370646766,
            "bin_end": 98134.44224413646,
            "count": 1
           },
           {
            "bin_start": 98134.44224413646,
            "bin_end": 98152.80078180526,
            "count": 0
           },
           {
            "bin_start": 98152.80078180526,
            "bin_end": 98171.15931947406,
            "count": 3
           },
           {
            "bin_start": 98171.15931947406,
            "bin_end": 98189.51785714286,
            "count": 2
           }
          ]
         }
        },
        {
         "name": "lat",
         "dtype": "float64",
         "stats": {
          "unique_count": 32,
          "nan_count": 0,
          "min": "47.21145042735039",
          "max": "47.75519230769231",
          "histogram": [
           {
            "bin_start": 47.21145042735039,
            "bin_end": 47.26582461538459,
            "count": 1
           },
           {
            "bin_start": 47.26582461538459,
            "bin_end": 47.320198803418776,
            "count": 2
           },
           {
            "bin_start": 47.320198803418776,
            "bin_end": 47.374572991452965,
            "count": 3
           },
           {
            "bin_start": 47.374572991452965,
            "bin_end": 47.42894717948716,
            "count": 3
           },
           {
            "bin_start": 47.42894717948716,
            "bin_end": 47.483321367521356,
            "count": 4
           },
           {
            "bin_start": 47.483321367521356,
            "bin_end": 47.537695555555544,
            "count": 3
           },
           {
            "bin_start": 47.537695555555544,
            "bin_end": 47.59206974358973,
            "count": 3
           },
           {
            "bin_start": 47.59206974358973,
            "bin_end": 47.64644393162393,
            "count": 4
           },
           {
            "bin_start": 47.64644393162393,
            "bin_end": 47.70081811965812,
            "count": 3
           },
           {
            "bin_start": 47.70081811965812,
            "bin_end": 47.75519230769231,
            "count": 6
           }
          ]
         }
        },
        {
         "name": "long",
         "dtype": "float64",
         "stats": {
          "unique_count": 32,
          "nan_count": 0,
          "min": "-122.46382203389824",
          "max": "-121.75903619909514",
          "histogram": [
           {
            "bin_start": -122.46382203389824,
            "bin_end": -122.39334345041793,
            "count": 1
           },
           {
            "bin_start": -122.39334345041793,
            "bin_end": -122.32286486693762,
            "count": 3
           },
           {
            "bin_start": -122.32286486693762,
            "bin_end": -122.25238628345731,
            "count": 4
           },
           {
            "bin_start": -122.25238628345731,
            "bin_end": -122.181907699977,
            "count": 8
           },
           {
            "bin_start": -122.181907699977,
            "bin_end": -122.11142911649668,
            "count": 4
           },
           {
            "bin_start": -122.11142911649668,
            "bin_end": -122.04095053301637,
            "count": 1
           },
           {
            "bin_start": -122.04095053301637,
            "bin_end": -121.97047194953606,
            "count": 6
           },
           {
            "bin_start": -121.97047194953606,
            "bin_end": -121.89999336605575,
            "count": 2
           },
           {
            "bin_start": -121.89999336605575,
            "bin_end": -121.82951478257544,
            "count": 2
           },
           {
            "bin_start": -121.82951478257544,
            "bin_end": -121.75903619909514,
            "count": 1
           }
          ]
         }
        },
        {
         "name": "sqft_living15",
         "dtype": "float64",
         "stats": {
          "unique_count": 32,
          "nan_count": 0,
          "min": "1471.6802973977694",
          "max": "3132.2",
          "histogram": [
           {
            "bin_start": 1471.6802973977694,
            "bin_end": 1637.7322676579925,
            "count": 2
           },
           {
            "bin_start": 1637.7322676579925,
            "bin_end": 1803.7842379182155,
            "count": 5
           },
           {
            "bin_start": 1803.7842379182155,
            "bin_end": 1969.8362081784385,
            "count": 8
           },
           {
            "bin_start": 1969.8362081784385,
            "bin_end": 2135.8881784386617,
            "count": 7
           },
           {
            "bin_start": 2135.8881784386617,
            "bin_end": 2301.9401486988845,
            "count": 1
           },
           {
            "bin_start": 2301.9401486988845,
            "bin_end": 2467.9921189591078,
            "count": 2
           },
           {
            "bin_start": 2467.9921189591078,
            "bin_end": 2634.044089219331,
            "count": 4
           },
           {
            "bin_start": 2634.044089219331,
            "bin_end": 2800.096059479554,
            "count": 1
           },
           {
            "bin_start": 2800.096059479554,
            "bin_end": 2966.1480297397766,
            "count": 1
           },
           {
            "bin_start": 2966.1480297397766,
            "bin_end": 3132.2,
            "count": 1
           }
          ]
         }
        },
        {
         "name": "sqft_lot15",
         "dtype": "float64",
         "stats": {
          "unique_count": 32,
          "nan_count": 0,
          "min": "5412.456668878567",
          "max": "81290.86440677966",
          "histogram": [
           {
            "bin_start": 5412.456668878567,
            "bin_end": 13000.297442668676,
            "count": 17
           },
           {
            "bin_start": 13000.297442668676,
            "bin_end": 20588.138216458785,
            "count": 6
           },
           {
            "bin_start": 20588.138216458785,
            "bin_end": 28175.978990248896,
            "count": 0
           },
           {
            "bin_start": 28175.978990248896,
            "bin_end": 35763.819764039,
            "count": 3
           },
           {
            "bin_start": 35763.819764039,
            "bin_end": 43351.66053782911,
            "count": 1
           },
           {
            "bin_start": 43351.66053782911,
            "bin_end": 50939.50131161923,
            "count": 1
           },
           {
            "bin_start": 50939.50131161923,
            "bin_end": 58527.34208540933,
            "count": 1
           },
           {
            "bin_start": 58527.34208540933,
            "bin_end": 66115.18285919944,
            "count": 0
           },
           {
            "bin_start": 66115.18285919944,
            "bin_end": 73703.02363298956,
            "count": 0
           },
           {
            "bin_start": 73703.02363298956,
            "bin_end": 81290.86440677966,
            "count": 3
           }
          ]
         }
        },
        {
         "name": "_deepnote_index_column",
         "dtype": "object"
        }
       ],
       "rows": [
        {
         "price": 286637.55448408873,
         "bedrooms": 3.4136933461909353,
         "bathrooms": 2.017357762777242,
         "sqft_living": 1928.6055930568948,
         "sqft_lot": 18906.8987463838,
         "floors": 1.4450337512054001,
         "waterfront": 0,
         "view": 0.0935390549662488,
         "condition": 3.4445515911282545,
         "grade": 7.350048216007715,
         "sqft_above": 1764.8621022179364,
         "sqft_basement": 163.74349083895854,
         "yr_built": 1979.3153326904533,
         "year_renovated": 42.25940212150434,
         "zipcode": 98035.7299903568,
         "lat": 47.31432160077151,
         "long": -122.22589681774336,
         "sqft_living15": 1844.3490838958535,
         "sqft_lot15": 16713.778206364514,
         "_deepnote_index_column": "Auburn"
        },
        {
         "price": 898187.6396588486,
         "bedrooms": 3.8216062544420755,
         "bathrooms": 2.4013859275053306,
         "sqft_living": 2642.7213930348257,
         "sqft_lot": 13186.778251599148,
         "floors": 1.3713574982231698,
         "waterfront": 0.009950248756218905,
         "view": 0.4036958066808813,
         "condition": 3.62544420753376,
         "grade": 8.421464108031271,
         "sqft_above": 2150.8727789623313,
         "sqft_basement": 491.8486140724947,
         "yr_built": 1972.7555081734185,
         "year_renovated": 96.6908315565032,
         "zipcode": 98005.93248045487,
         "lat": 47.59389694385218,
         "long": -122.15571144278607,
         "sqft_living15": 2514.638237384506,
         "sqft_lot15": 12251.945984363894,
         "_deepnote_index_column": "Bellevue"
        },
        {
         "price": 423665.99,
         "bedrooms": 3.29,
         "bathrooms": 2.0275,
         "sqft_living": 2137.59,
         "sqft_lot": 55465.3,
         "floors": 1.48,
         "waterfront": 0,
         "view": 0.1,
         "condition": 3.53,
         "grade": 7.4,
         "sqft_above": 2000.34,
         "sqft_basement": 137.25,
         "yr_built": 1979.18,
         "year_renovated": 218.37,
         "zipcode": 98010,
         "lat": 47.333210000000015,
         "long": -121.99947000000002,
         "sqft_living15": 2008.76,
         "sqft_lot15": 47830.27,
         "_deepnote_index_column": "Black Diamond"
        },
        {
         "price": 490351.4666666667,
         "bedrooms": 3.5487179487179485,
         "bathrooms": 2.278205128205128,
         "sqft_living": 2253.097435897436,
         "sqft_lot": 11314.138461538461,
         "floors": 1.5025641025641026,
         "waterfront": 0,
         "view": 0.06153846153846154,
         "condition": 3.2205128205128206,
         "grade": 7.774358974358974,
         "sqft_above": 1954.5589743589744,
         "sqft_basement": 298.53846153846155,
         "yr_built": 1982.148717948718,
         "year_renovated": 50.81025641025641,
         "zipcode": 98011,
         "lat": 47.75519230769231,
         "long": -122.20117435897437,
         "sqft_living15": 2248.076923076923,
         "sqft_lot15": 9512.08717948718,
         "_deepnote_index_column": "Bothell"
        },
        {
         "price": 240328.3717472119,
         "bedrooms": 2.996282527881041,
         "bathrooms": 1.433085501858736,
         "sqft_living": 1468.6245353159852,
         "sqft_lot": 11269.843866171004,
         "floors": 1.1598513011152416,
         "waterfront": 0,
         "view": 0.01486988847583643,
         "condition": 3.2453531598513012,
         "grade": 6.5092936802973975,
         "sqft_above": 1234.089219330855,
         "sqft_basement": 234.53531598513013,
         "yr_built": 1952.721189591078,
         "year_renovated": 59.05204460966543,
         "zipcode": 98168,
         "lat": 47.48969999999997,
         "long": -122.30787732342003,
         "sqft_living15": 1471.6802973977694,
         "sqft_lot15": 9744.022304832713,
         "_deepnote_index_column": "Burien"
        },
        {
         "price": 455617.1129032258,
         "bedrooms": 3,
         "bathrooms": 2.0483870967741935,
         "sqft_living": 2117.967741935484,
         "sqft_lot": 96902.8629032258,
         "floors": 1.5040322580645162,
         "waterfront": 0,
         "view": 0.18548387096774194,
         "condition": 3.153225806451613,
         "grade": 7.387096774193548,
         "sqft_above": 1983.532258064516,
         "sqft_basement": 134.43548387096774,
         "yr_built": 1980.9274193548388,
         "year_renovated": 48.37096774193548,
         "zipcode": 98014,
         "lat": 47.671487903225795,
         "long": -121.84853225806457,
         "sqft_living15": 1929.016129032258,
         "sqft_lot15": 77979.62096774194,
         "_deepnote_index_column": "Carnation"
        },
        {
         "price": 311632.10583941604,
         "bedrooms": 3.397810218978102,
         "bathrooms": 2.1268248175182483,
         "sqft_living": 1982.2591240875913,
         "sqft_lot": 18954.77189781022,
         "floors": 1.4981751824817517,
         "waterfront": 0,
         "view": 0.032846715328467155,
         "condition": 3.5182481751824817,
         "grade": 7.425182481751825,
         "sqft_above": 1847.094890510949,
         "sqft_basement": 135.16423357664235,
         "yr_built": 1986.3813868613138,
         "year_renovated": 58.35766423357664,
         "zipcode": 98042,
         "lat": 47.36566532846715,
         "long": -122.11545255474441,
         "sqft_living15": 1956.5821167883212,
         "sqft_lot15": 14702.209854014598,
         "_deepnote_index_column": "Covington"
        },
        {
         "price": 300170.76488095237,
         "bedrooms": 3.1785714285714284,
         "bathrooms": 1.7894345238095237,
         "sqft_living": 1723.9910714285713,
         "sqft_lot": 10284.35119047619,
         "floors": 1.2232142857142858,
         "waterfront": 0.02976190476190476,
         "view": 0.49404761904761907,
         "condition": 3.3779761904761907,
         "grade": 7.074404761904762,
         "sqft_above": 1478.6934523809523,
         "sqft_basement": 245.29761904761904,
         "yr_built": 1966.092261904762,
         "year_renovated": 77.11309523809524,
         "zipcode": 98189.51785714286,
         "lat": 47.39872976190478,
         "long": -122.31802678571428,
         "sqft_living15": 1695.8630952380952,
         "sqft_lot15": 9379.00892857143,
         "_deepnote_index_column": "Des Moines"
        },
        {
         "price": 424788.74736842106,
         "bedrooms": 3.363157894736842,
         "bathrooms": 2.2907894736842107,
         "sqft_living": 2171.557894736842,
         "sqft_lot": 39838.38421052632,
         "floors": 1.7210526315789474,
         "waterfront": 0,
         "view": 0.021052631578947368,
         "condition": 3.0736842105263156,
         "grade": 7.510526315789473,
         "sqft_above": 2036.2421052631578,
         "sqft_basement": 135.31578947368422,
         "yr_built": 1991.6421052631579,
         "year_renovated": 62.973684210526315,
         "zipcode": 98019,
         "lat": 47.737095789473706,
         "long": -121.95483157894733,
         "sqft_living15": 2103.721052631579,
         "sqft_lot15": 37016.51052631579,
         "_deepnote_index_column": "Duvall"
        },
        {
         "price": 315709.30341880344,
         "bedrooms": 3.1495726495726495,
         "bathrooms": 1.9102564102564104,
         "sqft_living": 1832.3247863247864,
         "sqft_lot": 74102.04700854702,
         "floors": 1.3226495726495726,
         "waterfront": 0,
         "view": 0.6282051282051282,
         "condition": 3.730769230769231,
         "grade": 7.1581196581196584,
         "sqft_above": 1723.3076923076924,
         "sqft_basement": 109.01709401709402,
         "yr_built": 1971.517094017094,
         "year_renovated": 127.75641025641026,
         "zipcode": 98022,
         "lat": 47.21145042735039,
         "long": -121.99516666666656,
         "sqft_living15": 1798.8034188034187,
         "sqft_lot15": 51451.64102564102,
         "_deepnote_index_column": "Enumclaw"
        }
       ]
      },
      "text/plain": "                                price  bedrooms  bathrooms  sqft_living  \\\ncity                                                                      \nAuburn                   2.866376e+05  3.413693   2.017358  1928.605593   \nBellevue                 8.981876e+05  3.821606   2.401386  2642.721393   \nBlack Diamond            4.236660e+05  3.290000   2.027500  2137.590000   \nBothell                  4.903515e+05  3.548718   2.278205  2253.097436   \nBurien                   2.403284e+05  2.996283   1.433086  1468.624535   \nCarnation                4.556171e+05  3.000000   2.048387  2117.967742   \nCovington                3.116321e+05  3.397810   2.126825  1982.259124   \nDes Moines               3.001708e+05  3.178571   1.789435  1723.991071   \nDuvall                   4.247887e+05  3.363158   2.290789  2171.557895   \nEnumclaw                 3.157093e+05  3.149573   1.910256  1832.324786   \nFall City                5.805268e+05  3.296296   2.163580  2337.469136   \nFederal Way              2.893849e+05  3.400513   2.056483  1967.858793   \nIssaquah                 6.150913e+05  3.488404   2.525580  2413.709413   \nKenmore                  4.624800e+05  3.480565   2.143110  2122.724382   \nKent                     2.984378e+05  3.492453   2.154717  1946.539623   \nKirkland                 6.463742e+05  3.508700   2.216479  2156.711361   \nMaple Valley             3.668676e+05  3.435593   2.375847  2147.715254   \nMedina                   2.160607e+06  4.060000   3.200000  3800.900000   \nMercer Island            1.194230e+06  4.028369   2.716312  3106.833333   \nNewcastle                4.208905e+05  3.435961   2.044951  2017.096059   \nNormandy Park            4.642318e+05  3.377953   1.911417  2067.905512   \nNorth Bend               4.394711e+05  3.230769   2.110860  2063.823529   \nRedmond                  6.452315e+05  3.616725   2.364547  2363.655052   \nRenton                   3.974952e+05  3.532326   2.159110  2129.121746   \nSammamish                7.327115e+05  3.728750   2.605625  2812.132500   \nSeatac                   2.890783e+05  3.433824   1.863971  1802.772059   \nSeattle                  5.694047e+05  3.154479   1.919608  1801.347976   \nShoreline                4.237257e+05  3.322870   1.815022  1786.614350   \nSnoqualmie               5.279612e+05  3.522581   2.545161  2571.322581   \nUnion Hill-Novelty Hill  6.781631e+05  3.212346   2.448148  2620.879012   \nVashon                   4.874796e+05  2.754237   1.900424  1880.271186   \nWoodinville              6.173845e+05  3.520170   2.336518  2575.715499   \n\n                              sqft_lot    floors  waterfront      view  \\\ncity                                                                     \nAuburn                    18906.898746  1.445034    0.000000  0.093539   \nBellevue                  13186.778252  1.371357    0.009950  0.403696   \nBlack Diamond             55465.300000  1.480000    0.000000  0.100000   \nBothell                   11314.138462  1.502564    0.000000  0.061538   \nBurien                    11269.843866  1.159851    0.000000  0.014870   \nCarnation                 96902.862903  1.504032    0.000000  0.185484   \nCovington                 18954.771898  1.498175    0.000000  0.032847   \nDes Moines                10284.351190  1.223214    0.029762  0.494048   \nDuvall                    39838.384211  1.721053    0.000000  0.021053   \nEnumclaw                  74102.047009  1.322650    0.000000  0.628205   \nFall City                101724.814815  1.419753    0.000000  0.234568   \nFederal Way               10517.973042  1.318999    0.005135  0.155327   \nIssaquah                  22269.109141  1.793315    0.002729  0.125512   \nKenmore                   11935.374558  1.420495    0.003534  0.162544   \nKent                      11940.667925  1.473585    0.000000  0.015094   \nKirkland                  10092.386899  1.396111    0.010235  0.244626   \nMaple Valley              25385.654237  1.740678    0.000000  0.027119   \nMedina                    17403.560000  1.560000    0.020000  0.440000   \nMercer Island             13704.464539  1.505319    0.042553  0.783688   \nNewcastle                  9566.492611  1.431034    0.007389  0.174877   \nNormandy Park             13609.397638  1.250000    0.059055  0.665354   \nNorth Bend                50078.054299  1.502262    0.000000  0.266968   \nRedmond                   11122.012195  1.581010    0.005226  0.064460   \nRenton                    15385.005038  1.478170    0.000000  0.048699   \nSammamish                 16532.661250  1.756250    0.020000  0.242500   \nSeatac                    10126.080882  1.227941    0.000000  0.147059   \nSeattle                    5578.104844  1.508361    0.005574  0.303119   \nShoreline                 10284.674888  1.218610    0.013453  0.170404   \nSnoqualmie                17065.183871  1.879032    0.000000  0.290323   \nUnion Hill-Novelty Hill   35547.348148  1.658025    0.000000  0.066667   \nVashon                    97262.957627  1.406780    0.203390  1.084746   \nWoodinville               40882.668790  1.542463    0.000000  0.038217   \n\n                         condition     grade   sqft_above  sqft_basement  \\\ncity                                                                       \nAuburn                    3.444552  7.350048  1764.862102     163.743491   \nBellevue                  3.625444  8.421464  2150.872779     491.848614   \nBlack Diamond             3.530000  7.400000  2000.340000     137.250000   \nBothell                   3.220513  7.774359  1954.558974     298.538462   \nBurien                    3.245353  6.509294  1234.089219     234.535316   \nCarnation                 3.153226  7.387097  1983.532258     134.435484   \nCovington                 3.518248  7.425182  1847.094891     135.164234   \nDes Moines                3.377976  7.074405  1478.693452     245.297619   \nDuvall                    3.073684  7.510526  2036.242105     135.315789   \nEnumclaw                  3.730769  7.158120  1723.307692     109.017094   \nFall City                 3.234568  7.530864  2178.395062     159.074074   \nFederal Way               3.381258  7.563543  1690.596919     277.261874   \nIssaquah                  3.278308  8.279673  2139.698499     274.010914   \nKenmore                   3.300353  7.611307  1781.098940     341.625442   \nKent                      3.398113  7.396226  1754.030189     192.509434   \nKirkland                  3.426817  7.758444  1837.976459     318.734903   \nMaple Valley              3.193220  7.596610  2054.918644      92.796610   \nMedina                    3.480000  9.560000  3290.900000     510.000000   \nMercer Island             3.787234  8.960993  2474.329787     632.503546   \nNewcastle                 3.709360  7.354680  1787.059113     230.036946   \nNormandy Park             3.574803  7.393701  1705.472441     362.433071   \nNorth Bend                3.149321  7.615385  1937.669683     126.153846   \nRedmond                   3.322300  8.191638  2102.313589     261.341463   \nRenton                    3.406381  7.595298  1937.558354     191.563392   \nSammamish                 3.166250  8.843750  2613.520000     198.612500   \nSeatac                    3.330882  7.036765  1492.154412     310.617647   \nSeattle                   3.443265  7.393630  1437.348242     363.999735   \nShoreline                 3.473094  7.170404  1478.071749     308.542601   \nSnoqualmie                3.045161  7.858065  2455.612903     115.709677   \nUnion Hill-Novelty Hill   3.059259  8.286420  2542.879012      78.000000   \nVashon                    3.686441  7.254237  1675.381356     204.889831   \nWoodinville               3.324841  8.369427  2329.269639     246.445860   \n\n                            yr_built  year_renovated       zipcode        lat  \\\ncity                                                                            \nAuburn                   1979.315333       42.259402  98035.729990  47.314322   \nBellevue                 1972.755508       96.690832  98005.932480  47.593897   \nBlack Diamond            1979.180000      218.370000  98010.000000  47.333210   \nBothell                  1982.148718       50.810256  98011.000000  47.755192   \nBurien                   1952.721190       59.052045  98168.000000  47.489700   \nCarnation                1980.927419       48.370968  98014.000000  47.671488   \nCovington                1986.381387       58.357664  98042.000000  47.365665   \nDes Moines               1966.092262       77.113095  98189.517857  47.398730   \nDuvall                   1991.642105       62.973684  98019.000000  47.737096   \nEnumclaw                 1971.517094      127.756410  98022.000000  47.211450   \nFall City                1971.358025      172.654321  98024.000000  47.558419   \nFederal Way              1978.118100       25.581515  98015.811297  47.311181   \nIssaquah                 1991.762619       19.031378  98027.875853  47.538271   \nKenmore                  1977.830389       28.173145  98028.000000  47.755138   \nKent                     1983.301887        7.494340  98030.516981  47.386996   \nKirkland                 1977.255885       61.220061  98033.557830  47.702736   \nMaple Valley             1995.811864       37.242373  98038.000000  47.370604   \nMedina                   1972.520000      398.600000  98039.000000  47.625840   \nMercer Island            1971.471631      233.574468  98040.000000  47.559846   \nNewcastle                1977.133005       34.364532  98056.000000  47.509657   \nNormandy Park            1957.622047      196.452756  98166.000000  47.455212   \nNorth Bend               1985.705882       45.095023  98045.000000  47.473359   \nRedmond                  1985.353659       27.850174  98052.000000  47.680538   \nRenton                   1980.513854       52.026868  98057.717884  47.467247   \nSammamish                1991.676250       32.516250  98074.448750  47.607663   \nSeatac                   1965.507353       43.794118  98188.000000  47.447310   \nSeattle                  1953.906038      130.352488  98126.568547  47.627408   \nShoreline                1961.136771       80.641256  98155.000000  47.754863   \nSnoqualmie               1997.132258       38.409677  98065.000000  47.531730   \nUnion Hill-Novelty Hill  1997.837037       19.703704  98053.000000  47.679901   \nVashon                   1968.025424      168.745763  98070.000000  47.417423   \nWoodinville              1982.774947       46.375796  98074.101911  47.748875   \n\n                               long  sqft_living15    sqft_lot15  \ncity                                                              \nAuburn                  -122.225897    1844.349084  16713.778206  \nBellevue                -122.155711    2514.638237  12251.945984  \nBlack Diamond           -121.999470    2008.760000  47830.270000  \nBothell                 -122.201174    2248.076923   9512.087179  \nBurien                  -122.307877    1471.680297   9744.022305  \nCarnation               -121.848532    1929.016129  77979.620968  \nCovington               -122.115453    1956.582117  14702.209854  \nDes Moines              -122.318027    1695.863095   9379.008929  \nDuvall                  -121.954832    2103.721053  37016.510526  \nEnumclaw                -121.995167    1798.803419  51451.641026  \nFall City               -121.905259    2128.222222  78785.172840  \nFederal Way             -122.344791    1932.268293   9739.277279  \nIssaquah                -122.026561    2304.991814  19068.241473  \nKenmore                 -122.246028    2091.300353  10119.706714  \nKent                    -122.189802    1915.111321   8527.128302  \nKirkland                -122.198657    2044.541453   9124.615148  \nMaple Valley            -122.031790    2118.422034  20054.767797  \nMedina                  -122.233540    3132.200000  17291.100000  \nMercer Island           -122.225592    2898.744681  12801.283688  \nNewcastle               -122.182778    1906.736453   7828.660099  \nNormandy Park           -122.350303    1886.850394  12694.322835  \nNorth Bend              -121.759036    1913.778281  32183.325792  \nRedmond                 -122.119277    2333.726481  10065.177700  \nRenton                  -122.156095    2079.863140  11942.722082  \nSammamish               -122.034795    2762.422500  14021.308750  \nSeatac                  -122.280993    1636.279412   9752.801471  \nSeattle                 -122.336013    1681.861447   5412.456669  \nShoreline               -122.303540    1716.710762   9812.881166  \nSnoqualmie              -121.861929    2518.274194  11241.748387  \nUnion Hill-Novelty Hill -122.022817    2475.049383  29086.414815  \nVashon                  -122.463822    1776.949153  81290.864407  \nWoodinville             -122.102223    2535.562633  33020.301486  ",
      "text/html": "<div>\n<style scoped>\n    .dataframe tbody tr th:only-of-type {\n        vertical-align: middle;\n    }\n\n    .dataframe tbody tr th {\n        vertical-align: top;\n    }\n\n    .dataframe thead th {\n        text-align: right;\n    }\n</style>\n<table border=\"1\" class=\"dataframe\">\n  <thead>\n    <tr style=\"text-align: right;\">\n      <th></th>\n      <th>price</th>\n      <th>bedrooms</th>\n      <th>bathrooms</th>\n      <th>sqft_living</th>\n      <th>sqft_lot</th>\n      <th>floors</th>\n      <th>waterfront</th>\n      <th>view</th>\n      <th>condition</th>\n      <th>grade</th>\n      <th>sqft_above</th>\n      <th>sqft_basement</th>\n      <th>yr_built</th>\n      <th>year_renovated</th>\n      <th>zipcode</th>\n      <th>lat</th>\n      <th>long</th>\n      <th>sqft_living15</th>\n      <th>sqft_lot15</th>\n    </tr>\n    <tr>\n      <th>city</th>\n      <th></th>\n      <th></th>\n      <th></th>\n      <th></th>\n      <th></th>\n      <th></th>\n      <th></th>\n      <th></th>\n      <th></th>\n      <th></th>\n      <th></th>\n      <th></th>\n      <th></th>\n      <th></th>\n      <th></th>\n      <th></th>\n      <th></th>\n      <th></th>\n      <th></th>\n    </tr>\n  </thead>\n  <tbody>\n    <tr>\n      <th>Auburn</th>\n      <td>2.866376e+05</td>\n      <td>3.413693</td>\n      <td>2.017358</td>\n      <td>1928.605593</td>\n      <td>18906.898746</td>\n      <td>1.445034</td>\n      <td>0.000000</td>\n      <td>0.093539</td>\n      <td>3.444552</td>\n      <td>7.350048</td>\n      <td>1764.862102</td>\n      <td>163.743491</td>\n      <td>1979.315333</td>\n      <td>42.259402</td>\n      <td>98035.729990</td>\n      <td>47.314322</td>\n      <td>-122.225897</td>\n      <td>1844.349084</td>\n      <td>16713.778206</td>\n    </tr>\n    <tr>\n      <th>Bellevue</th>\n      <td>8.981876e+05</td>\n      <td>3.821606</td>\n      <td>2.401386</td>\n      <td>2642.721393</td>\n      <td>13186.778252</td>\n      <td>1.371357</td>\n      <td>0.009950</td>\n      <td>0.403696</td>\n      <td>3.625444</td>\n      <td>8.421464</td>\n      <td>2150.872779</td>\n      <td>491.848614</td>\n      <td>1972.755508</td>\n      <td>96.690832</td>\n      <td>98005.932480</td>\n      <td>47.593897</td>\n      <td>-122.155711</td>\n      <td>2514.638237</td>\n      <td>12251.945984</td>\n    </tr>\n    <tr>\n      <th>Black Diamond</th>\n      <td>4.236660e+05</td>\n      <td>3.290000</td>\n      <td>2.027500</td>\n      <td>2137.590000</td>\n      <td>55465.300000</td>\n      <td>1.480000</td>\n      <td>0.000000</td>\n      <td>0.100000</td>\n      <td>3.530000</td>\n      <td>7.400000</td>\n      <td>2000.340000</td>\n      <td>137.250000</td>\n      <td>1979.180000</td>\n      <td>218.370000</td>\n      <td>98010.000000</td>\n      <td>47.333210</td>\n      <td>-121.999470</td>\n      <td>2008.760000</td>\n      <td>47830.270000</td>\n    </tr>\n    <tr>\n      <th>Bothell</th>\n      <td>4.903515e+05</td>\n      <td>3.548718</td>\n      <td>2.278205</td>\n      <td>2253.097436</td>\n      <td>11314.138462</td>\n      <td>1.502564</td>\n      <td>0.000000</td>\n      <td>0.061538</td>\n      <td>3.220513</td>\n      <td>7.774359</td>\n      <td>1954.558974</td>\n      <td>298.538462</td>\n      <td>1982.148718</td>\n      <td>50.810256</td>\n      <td>98011.000000</td>\n      <td>47.755192</td>\n      <td>-122.201174</td>\n      <td>2248.076923</td>\n      <td>9512.087179</td>\n    </tr>\n    <tr>\n      <th>Burien</th>\n      <td>2.403284e+05</td>\n      <td>2.996283</td>\n      <td>1.433086</td>\n      <td>1468.624535</td>\n      <td>11269.843866</td>\n      <td>1.159851</td>\n      <td>0.000000</td>\n      <td>0.014870</td>\n      <td>3.245353</td>\n      <td>6.509294</td>\n      <td>1234.089219</td>\n      <td>234.535316</td>\n      <td>1952.721190</td>\n      <td>59.052045</td>\n      <td>98168.000000</td>\n      <td>47.489700</td>\n      <td>-122.307877</td>\n      <td>1471.680297</td>\n      <td>9744.022305</td>\n    </tr>\n    <tr>\n      <th>Carnation</th>\n      <td>4.556171e+05</td>\n      <td>3.000000</td>\n      <td>2.048387</td>\n      <td>2117.967742</td>\n      <td>96902.862903</td>\n      <td>1.504032</td>\n      <td>0.000000</td>\n      <td>0.185484</td>\n      <td>3.153226</td>\n      <td>7.387097</td>\n      <td>1983.532258</td>\n      <td>134.435484</td>\n      <td>1980.927419</td>\n      <td>48.370968</td>\n      <td>98014.000000</td>\n      <td>47.671488</td>\n      <td>-121.848532</td>\n      <td>1929.016129</td>\n      <td>77979.620968</td>\n    </tr>\n    <tr>\n      <th>Covington</th>\n      <td>3.116321e+05</td>\n      <td>3.397810</td>\n      <td>2.126825</td>\n      <td>1982.259124</td>\n      <td>18954.771898</td>\n      <td>1.498175</td>\n      <td>0.000000</td>\n      <td>0.032847</td>\n      <td>3.518248</td>\n      <td>7.425182</td>\n      <td>1847.094891</td>\n      <td>135.164234</td>\n      <td>1986.381387</td>\n      <td>58.357664</td>\n      <td>98042.000000</td>\n      <td>47.365665</td>\n      <td>-122.115453</td>\n      <td>1956.582117</td>\n      <td>14702.209854</td>\n    </tr>\n    <tr>\n      <th>Des Moines</th>\n      <td>3.001708e+05</td>\n      <td>3.178571</td>\n      <td>1.789435</td>\n      <td>1723.991071</td>\n      <td>10284.351190</td>\n      <td>1.223214</td>\n      <td>0.029762</td>\n      <td>0.494048</td>\n      <td>3.377976</td>\n      <td>7.074405</td>\n      <td>1478.693452</td>\n      <td>245.297619</td>\n      <td>1966.092262</td>\n      <td>77.113095</td>\n      <td>98189.517857</td>\n      <td>47.398730</td>\n      <td>-122.318027</td>\n      <td>1695.863095</td>\n      <td>9379.008929</td>\n    </tr>\n    <tr>\n      <th>Duvall</th>\n      <td>4.247887e+05</td>\n      <td>3.363158</td>\n      <td>2.290789</td>\n      <td>2171.557895</td>\n      <td>39838.384211</td>\n      <td>1.721053</td>\n      <td>0.000000</td>\n      <td>0.021053</td>\n      <td>3.073684</td>\n      <td>7.510526</td>\n      <td>2036.242105</td>\n      <td>135.315789</td>\n      <td>1991.642105</td>\n      <td>62.973684</td>\n      <td>98019.000000</td>\n      <td>47.737096</td>\n      <td>-121.954832</td>\n      <td>2103.721053</td>\n      <td>37016.510526</td>\n    </tr>\n    <tr>\n      <th>Enumclaw</th>\n      <td>3.157093e+05</td>\n      <td>3.149573</td>\n      <td>1.910256</td>\n      <td>1832.324786</td>\n      <td>74102.047009</td>\n      <td>1.322650</td>\n      <td>0.000000</td>\n      <td>0.628205</td>\n      <td>3.730769</td>\n      <td>7.158120</td>\n      <td>1723.307692</td>\n      <td>109.017094</td>\n      <td>1971.517094</td>\n      <td>127.756410</td>\n      <td>98022.000000</td>\n      <td>47.211450</td>\n      <td>-121.995167</td>\n      <td>1798.803419</td>\n      <td>51451.641026</td>\n    </tr>\n    <tr>\n      <th>Fall City</th>\n      <td>5.805268e+05</td>\n      <td>3.296296</td>\n      <td>2.163580</td>\n      <td>2337.469136</td>\n      <td>101724.814815</td>\n      <td>1.419753</td>\n      <td>0.000000</td>\n      <td>0.234568</td>\n      <td>3.234568</td>\n      <td>7.530864</td>\n      <td>2178.395062</td>\n      <td>159.074074</td>\n      <td>1971.358025</td>\n      <td>172.654321</td>\n      <td>98024.000000</td>\n      <td>47.558419</td>\n      <td>-121.905259</td>\n      <td>2128.222222</td>\n      <td>78785.172840</td>\n    </tr>\n    <tr>\n      <th>Federal Way</th>\n      <td>2.893849e+05</td>\n      <td>3.400513</td>\n      <td>2.056483</td>\n      <td>1967.858793</td>\n      <td>10517.973042</td>\n      <td>1.318999</td>\n      <td>0.005135</td>\n      <td>0.155327</td>\n      <td>3.381258</td>\n      <td>7.563543</td>\n      <td>1690.596919</td>\n      <td>277.261874</td>\n      <td>1978.118100</td>\n      <td>25.581515</td>\n      <td>98015.811297</td>\n      <td>47.311181</td>\n      <td>-122.344791</td>\n      <td>1932.268293</td>\n      <td>9739.277279</td>\n    </tr>\n    <tr>\n      <th>Issaquah</th>\n      <td>6.150913e+05</td>\n      <td>3.488404</td>\n      <td>2.525580</td>\n      <td>2413.709413</td>\n      <td>22269.109141</td>\n      <td>1.793315</td>\n      <td>0.002729</td>\n      <td>0.125512</td>\n      <td>3.278308</td>\n      <td>8.279673</td>\n      <td>2139.698499</td>\n      <td>274.010914</td>\n      <td>1991.762619</td>\n      <td>19.031378</td>\n      <td>98027.875853</td>\n      <td>47.538271</td>\n      <td>-122.026561</td>\n      <td>2304.991814</td>\n      <td>19068.241473</td>\n    </tr>\n    <tr>\n      <th>Kenmore</th>\n      <td>4.624800e+05</td>\n      <td>3.480565</td>\n      <td>2.143110</td>\n      <td>2122.724382</td>\n      <td>11935.374558</td>\n      <td>1.420495</td>\n      <td>0.003534</td>\n      <td>0.162544</td>\n      <td>3.300353</td>\n      <td>7.611307</td>\n      <td>1781.098940</td>\n      <td>341.625442</td>\n      <td>1977.830389</td>\n      <td>28.173145</td>\n      <td>98028.000000</td>\n      <td>47.755138</td>\n      <td>-122.246028</td>\n      <td>2091.300353</td>\n      <td>10119.706714</td>\n    </tr>\n    <tr>\n      <th>Kent</th>\n      <td>2.984378e+05</td>\n      <td>3.492453</td>\n      <td>2.154717</td>\n      <td>1946.539623</td>\n      <td>11940.667925</td>\n      <td>1.473585</td>\n      <td>0.000000</td>\n      <td>0.015094</td>\n      <td>3.398113</td>\n      <td>7.396226</td>\n      <td>1754.030189</td>\n      <td>192.509434</td>\n      <td>1983.301887</td>\n      <td>7.494340</td>\n      <td>98030.516981</td>\n      <td>47.386996</td>\n      <td>-122.189802</td>\n      <td>1915.111321</td>\n      <td>8527.128302</td>\n    </tr>\n    <tr>\n      <th>Kirkland</th>\n      <td>6.463742e+05</td>\n      <td>3.508700</td>\n      <td>2.216479</td>\n      <td>2156.711361</td>\n      <td>10092.386899</td>\n      <td>1.396111</td>\n      <td>0.010235</td>\n      <td>0.244626</td>\n      <td>3.426817</td>\n      <td>7.758444</td>\n      <td>1837.976459</td>\n      <td>318.734903</td>\n      <td>1977.255885</td>\n      <td>61.220061</td>\n      <td>98033.557830</td>\n      <td>47.702736</td>\n      <td>-122.198657</td>\n      <td>2044.541453</td>\n      <td>9124.615148</td>\n    </tr>\n    <tr>\n      <th>Maple Valley</th>\n      <td>3.668676e+05</td>\n      <td>3.435593</td>\n      <td>2.375847</td>\n      <td>2147.715254</td>\n      <td>25385.654237</td>\n      <td>1.740678</td>\n      <td>0.000000</td>\n      <td>0.027119</td>\n      <td>3.193220</td>\n      <td>7.596610</td>\n      <td>2054.918644</td>\n      <td>92.796610</td>\n      <td>1995.811864</td>\n      <td>37.242373</td>\n      <td>98038.000000</td>\n      <td>47.370604</td>\n      <td>-122.031790</td>\n      <td>2118.422034</td>\n      <td>20054.767797</td>\n    </tr>\n    <tr>\n      <th>Medina</th>\n      <td>2.160607e+06</td>\n      <td>4.060000</td>\n      <td>3.200000</td>\n      <td>3800.900000</td>\n      <td>17403.560000</td>\n      <td>1.560000</td>\n      <td>0.020000</td>\n      <td>0.440000</td>\n      <td>3.480000</td>\n      <td>9.560000</td>\n      <td>3290.900000</td>\n      <td>510.000000</td>\n      <td>1972.520000</td>\n      <td>398.600000</td>\n      <td>98039.000000</td>\n      <td>47.625840</td>\n      <td>-122.233540</td>\n      <td>3132.200000</td>\n      <td>17291.100000</td>\n    </tr>\n    <tr>\n      <th>Mercer Island</th>\n      <td>1.194230e+06</td>\n      <td>4.028369</td>\n      <td>2.716312</td>\n      <td>3106.833333</td>\n      <td>13704.464539</td>\n      <td>1.505319</td>\n      <td>0.042553</td>\n      <td>0.783688</td>\n      <td>3.787234</td>\n      <td>8.960993</td>\n      <td>2474.329787</td>\n      <td>632.503546</td>\n      <td>1971.471631</td>\n      <td>233.574468</td>\n      <td>98040.000000</td>\n      <td>47.559846</td>\n      <td>-122.225592</td>\n      <td>2898.744681</td>\n      <td>12801.283688</td>\n    </tr>\n    <tr>\n      <th>Newcastle</th>\n      <td>4.208905e+05</td>\n      <td>3.435961</td>\n      <td>2.044951</td>\n      <td>2017.096059</td>\n      <td>9566.492611</td>\n      <td>1.431034</td>\n      <td>0.007389</td>\n      <td>0.174877</td>\n      <td>3.709360</td>\n      <td>7.354680</td>\n      <td>1787.059113</td>\n      <td>230.036946</td>\n      <td>1977.133005</td>\n      <td>34.364532</td>\n      <td>98056.000000</td>\n      <td>47.509657</td>\n      <td>-122.182778</td>\n      <td>1906.736453</td>\n      <td>7828.660099</td>\n    </tr>\n    <tr>\n      <th>Normandy Park</th>\n      <td>4.642318e+05</td>\n      <td>3.377953</td>\n      <td>1.911417</td>\n      <td>2067.905512</td>\n      <td>13609.397638</td>\n      <td>1.250000</td>\n      <td>0.059055</td>\n      <td>0.665354</td>\n      <td>3.574803</td>\n      <td>7.393701</td>\n      <td>1705.472441</td>\n      <td>362.433071</td>\n      <td>1957.622047</td>\n      <td>196.452756</td>\n      <td>98166.000000</td>\n      <td>47.455212</td>\n      <td>-122.350303</td>\n      <td>1886.850394</td>\n      <td>12694.322835</td>\n    </tr>\n    <tr>\n      <th>North Bend</th>\n      <td>4.394711e+05</td>\n      <td>3.230769</td>\n      <td>2.110860</td>\n      <td>2063.823529</td>\n      <td>50078.054299</td>\n      <td>1.502262</td>\n      <td>0.000000</td>\n      <td>0.266968</td>\n      <td>3.149321</td>\n      <td>7.615385</td>\n      <td>1937.669683</td>\n      <td>126.153846</td>\n      <td>1985.705882</td>\n      <td>45.095023</td>\n      <td>98045.000000</td>\n      <td>47.473359</td>\n      <td>-121.759036</td>\n      <td>1913.778281</td>\n      <td>32183.325792</td>\n    </tr>\n    <tr>\n      <th>Redmond</th>\n      <td>6.452315e+05</td>\n      <td>3.616725</td>\n      <td>2.364547</td>\n      <td>2363.655052</td>\n      <td>11122.012195</td>\n      <td>1.581010</td>\n      <td>0.005226</td>\n      <td>0.064460</td>\n      <td>3.322300</td>\n      <td>8.191638</td>\n      <td>2102.313589</td>\n      <td>261.341463</td>\n      <td>1985.353659</td>\n      <td>27.850174</td>\n      <td>98052.000000</td>\n      <td>47.680538</td>\n      <td>-122.119277</td>\n      <td>2333.726481</td>\n      <td>10065.177700</td>\n    </tr>\n    <tr>\n      <th>Renton</th>\n      <td>3.974952e+05</td>\n      <td>3.532326</td>\n      <td>2.159110</td>\n      <td>2129.121746</td>\n      <td>15385.005038</td>\n      <td>1.478170</td>\n      <td>0.000000</td>\n      <td>0.048699</td>\n      <td>3.406381</td>\n      <td>7.595298</td>\n      <td>1937.558354</td>\n      <td>191.563392</td>\n      <td>1980.513854</td>\n      <td>52.026868</td>\n      <td>98057.717884</td>\n      <td>47.467247</td>\n      <td>-122.156095</td>\n      <td>2079.863140</td>\n      <td>11942.722082</td>\n    </tr>\n    <tr>\n      <th>Sammamish</th>\n      <td>7.327115e+05</td>\n      <td>3.728750</td>\n      <td>2.605625</td>\n      <td>2812.132500</td>\n      <td>16532.661250</td>\n      <td>1.756250</td>\n      <td>0.020000</td>\n      <td>0.242500</td>\n      <td>3.166250</td>\n      <td>8.843750</td>\n      <td>2613.520000</td>\n      <td>198.612500</td>\n      <td>1991.676250</td>\n      <td>32.516250</td>\n      <td>98074.448750</td>\n      <td>47.607663</td>\n      <td>-122.034795</td>\n      <td>2762.422500</td>\n      <td>14021.308750</td>\n    </tr>\n    <tr>\n      <th>Seatac</th>\n      <td>2.890783e+05</td>\n      <td>3.433824</td>\n      <td>1.863971</td>\n      <td>1802.772059</td>\n      <td>10126.080882</td>\n      <td>1.227941</td>\n      <td>0.000000</td>\n      <td>0.147059</td>\n      <td>3.330882</td>\n      <td>7.036765</td>\n      <td>1492.154412</td>\n      <td>310.617647</td>\n      <td>1965.507353</td>\n      <td>43.794118</td>\n      <td>98188.000000</td>\n      <td>47.447310</td>\n      <td>-122.280993</td>\n      <td>1636.279412</td>\n      <td>9752.801471</td>\n    </tr>\n    <tr>\n      <th>Seattle</th>\n      <td>5.694047e+05</td>\n      <td>3.154479</td>\n      <td>1.919608</td>\n      <td>1801.347976</td>\n      <td>5578.104844</td>\n      <td>1.508361</td>\n      <td>0.005574</td>\n      <td>0.303119</td>\n      <td>3.443265</td>\n      <td>7.393630</td>\n      <td>1437.348242</td>\n      <td>363.999735</td>\n      <td>1953.906038</td>\n      <td>130.352488</td>\n      <td>98126.568547</td>\n      <td>47.627408</td>\n      <td>-122.336013</td>\n      <td>1681.861447</td>\n      <td>5412.456669</td>\n    </tr>\n    <tr>\n      <th>Shoreline</th>\n      <td>4.237257e+05</td>\n      <td>3.322870</td>\n      <td>1.815022</td>\n      <td>1786.614350</td>\n      <td>10284.674888</td>\n      <td>1.218610</td>\n      <td>0.013453</td>\n      <td>0.170404</td>\n      <td>3.473094</td>\n      <td>7.170404</td>\n      <td>1478.071749</td>\n      <td>308.542601</td>\n      <td>1961.136771</td>\n      <td>80.641256</td>\n      <td>98155.000000</td>\n      <td>47.754863</td>\n      <td>-122.303540</td>\n      <td>1716.710762</td>\n      <td>9812.881166</td>\n    </tr>\n    <tr>\n      <th>Snoqualmie</th>\n      <td>5.279612e+05</td>\n      <td>3.522581</td>\n      <td>2.545161</td>\n      <td>2571.322581</td>\n      <td>17065.183871</td>\n      <td>1.879032</td>\n      <td>0.000000</td>\n      <td>0.290323</td>\n      <td>3.045161</td>\n      <td>7.858065</td>\n      <td>2455.612903</td>\n      <td>115.709677</td>\n      <td>1997.132258</td>\n      <td>38.409677</td>\n      <td>98065.000000</td>\n      <td>47.531730</td>\n      <td>-121.861929</td>\n      <td>2518.274194</td>\n      <td>11241.748387</td>\n    </tr>\n    <tr>\n      <th>Union Hill-Novelty Hill</th>\n      <td>6.781631e+05</td>\n      <td>3.212346</td>\n      <td>2.448148</td>\n      <td>2620.879012</td>\n      <td>35547.348148</td>\n      <td>1.658025</td>\n      <td>0.000000</td>\n      <td>0.066667</td>\n      <td>3.059259</td>\n      <td>8.286420</td>\n      <td>2542.879012</td>\n      <td>78.000000</td>\n      <td>1997.837037</td>\n      <td>19.703704</td>\n      <td>98053.000000</td>\n      <td>47.679901</td>\n      <td>-122.022817</td>\n      <td>2475.049383</td>\n      <td>29086.414815</td>\n    </tr>\n    <tr>\n      <th>Vashon</th>\n      <td>4.874796e+05</td>\n      <td>2.754237</td>\n      <td>1.900424</td>\n      <td>1880.271186</td>\n      <td>97262.957627</td>\n      <td>1.406780</td>\n      <td>0.203390</td>\n      <td>1.084746</td>\n      <td>3.686441</td>\n      <td>7.254237</td>\n      <td>1675.381356</td>\n      <td>204.889831</td>\n      <td>1968.025424</td>\n      <td>168.745763</td>\n      <td>98070.000000</td>\n      <td>47.417423</td>\n      <td>-122.463822</td>\n      <td>1776.949153</td>\n      <td>81290.864407</td>\n    </tr>\n    <tr>\n      <th>Woodinville</th>\n      <td>6.173845e+05</td>\n      <td>3.520170</td>\n      <td>2.336518</td>\n      <td>2575.715499</td>\n      <td>40882.668790</td>\n      <td>1.542463</td>\n      <td>0.000000</td>\n      <td>0.038217</td>\n      <td>3.324841</td>\n      <td>8.369427</td>\n      <td>2329.269639</td>\n      <td>246.445860</td>\n      <td>1982.774947</td>\n      <td>46.375796</td>\n      <td>98074.101911</td>\n      <td>47.748875</td>\n      <td>-122.102223</td>\n      <td>2535.562633</td>\n      <td>33020.301486</td>\n    </tr>\n  </tbody>\n</table>\n</div>"
     },
     "metadata": {}
    }
   ],
   "execution_count": null
  },
  {
   "cell_type": "markdown",
   "source": "Parece demasiada información. Veamos cuál fue el precio más alto que alguien pagó en cada ciudad. ",
   "metadata": {
    "cell_id": "00086-73fcf877-4643-48d6-b568-011818d06742",
    "deepnote_cell_type": "markdown"
   }
  },
  {
   "cell_type": "code",
   "metadata": {
    "cell_id": "00087-9fa032e7-2353-48d8-b790-0ed7475d0b5c",
    "deepnote_to_be_reexecuted": false,
    "source_hash": "d89ce0ae",
    "execution_start": 1646265150010,
    "execution_millis": 43,
    "deepnote_cell_type": "code"
   },
   "source": "df.groupby(['city']).max()['price'].nlargest(10)",
   "outputs": [
    {
     "output_type": "execute_result",
     "execution_count": 41,
     "data": {
      "text/plain": "city\nSeattle          7700000.0\nBellevue         7062500.0\nMedina           6885000.0\nMercer Island    5300000.0\nKirkland         5110800.0\nShoreline        4500000.0\nSammamish        3200000.0\nNewcastle        3000000.0\nIssaquah         2700000.0\nNormandy Park    2510000.0\nName: price, dtype: float64"
     },
     "metadata": {}
    }
   ],
   "execution_count": null
  },
  {
   "cell_type": "markdown",
   "source": "En esas ciudades las casas se vendieron por más de un millón de dólares ",
   "metadata": {
    "cell_id": "00088-2d9d33b9-1682-47d8-b3f9-ce6f646ab9cf",
    "deepnote_cell_type": "markdown"
   }
  },
  {
   "cell_type": "markdown",
   "source": "Veamos cómo se distribuyeron los precios maximos entre el número de habitaciones. ",
   "metadata": {
    "cell_id": "00089-376b6ff3-45df-47ed-ab33-fbe2f84d1f16",
    "deepnote_cell_type": "markdown"
   }
  },
  {
   "cell_type": "code",
   "metadata": {
    "cell_id": "00090-374617ab-9130-430e-9720-851feab721d9",
    "deepnote_to_be_reexecuted": false,
    "source_hash": "54327a65",
    "execution_start": 1646265150057,
    "execution_millis": 78,
    "deepnote_cell_type": "code"
   },
   "source": "df.groupby(['city','bedrooms']).max()['price'].nlargest(10)",
   "outputs": [
    {
     "output_type": "execute_result",
     "execution_count": 42,
     "data": {
      "text/plain": "city           bedrooms\nSeattle        6           7700000.0\nBellevue       5           7062500.0\nMedina         6           6885000.0\n               5           5570000.0\nMercer Island  6           5300000.0\nKirkland       5           5110800.0\nMercer Island  5           4668000.0\nShoreline      5           4500000.0\nBellevue       4           4489000.0\nMedina         4           4000000.0\nName: price, dtype: float64"
     },
     "metadata": {}
    }
   ],
   "execution_count": null
  },
  {
   "cell_type": "markdown",
   "source": "Veamos las casas mas vendidas con respecto al número de habitaciones  ",
   "metadata": {
    "cell_id": "00091-bec0b5e1-9f7d-4755-a544-8957680b2ae9",
    "deepnote_cell_type": "markdown"
   }
  },
  {
   "cell_type": "code",
   "metadata": {
    "cell_id": "00092-07d81349-ae68-43e9-9d8a-5cc53bb07b7f",
    "deepnote_to_be_reexecuted": false,
    "source_hash": "3c25aa5c",
    "execution_start": 1646265150145,
    "execution_millis": 5,
    "deepnote_cell_type": "code"
   },
   "source": "df['bedrooms'].value_counts()",
   "outputs": [
    {
     "output_type": "execute_result",
     "execution_count": 43,
     "data": {
      "text/plain": "3     9824\n4     6882\n2     2759\n5     1601\n6      272\n1      199\n7       38\n0       13\n8       13\n9        6\n10       3\n33       1\n11       1\nName: bedrooms, dtype: int64"
     },
     "metadata": {}
    }
   ],
   "execution_count": null
  },
  {
   "cell_type": "markdown",
   "source": "A veces es más fácil ver las cosas visualizándolas. El paquete Seaborn es excelente para esta tarea, ya que está bien integrado con Pandas. Para mostrar la frecuencia del valor discreto, usemos seaborn countplot `sns.countplot`, los parámetros son: `data=df`, lo que significa que queremos usar todo nuestro conjunto de datos de Panda y x=`bedrooms` es el nombre de la columna",
   "metadata": {
    "cell_id": "00093-70cc7105-a4de-44fb-9a43-b76dc9bc75bf",
    "deepnote_cell_type": "markdown"
   }
  },
  {
   "cell_type": "code",
   "metadata": {
    "cell_id": "00094-20e4222d-db8d-41c1-b007-0d3c1b4a1a01",
    "deepnote_to_be_reexecuted": false,
    "source_hash": "35e10888",
    "execution_start": 1646265150197,
    "execution_millis": 698,
    "deepnote_cell_type": "code"
   },
   "source": "sns.countplot(data=df, x='bedrooms')",
   "outputs": [
    {
     "output_type": "execute_result",
     "execution_count": 44,
     "data": {
      "text/plain": "<AxesSubplot:xlabel='bedrooms', ylabel='count'>"
     },
     "metadata": {}
    },
    {
     "data": {
      "text/plain": "<Figure size 432x288 with 1 Axes>",
      "image/png": "[encoded data removed]"
     },
     "metadata": {
      "needs_background": "light",
      "image/png": {
       "width": 401,
       "height": 262
      }
     },
     "output_type": "display_data"
    }
   ],
   "execution_count": null
  },
  {
   "cell_type": "markdown",
   "source": "Veamos qué rango de precios en los que se vendieron las casas fueron los más comunes. Como los precios no son variables discretas sino continuas, podemos usar `sns.histplot`",
   "metadata": {
    "cell_id": "00095-3bc4bc0f-f0eb-4d49-bafb-1b15c70b5f9b",
    "deepnote_cell_type": "markdown"
   }
  },
  {
   "cell_type": "code",
   "metadata": {
    "cell_id": "00096-e1a9d43f-b1cd-41e1-a6f7-3a5b677d5f32",
    "deepnote_to_be_reexecuted": false,
    "source_hash": "af848abf",
    "execution_start": 1646265150546,
    "execution_millis": 386,
    "deepnote_cell_type": "code"
   },
   "source": "sns.histplot(data=df, x=\"price\", bins=30)",
   "outputs": [
    {
     "output_type": "execute_result",
     "execution_count": 45,
     "data": {
      "text/plain": "<AxesSubplot:xlabel='price', ylabel='Count'>"
     },
     "metadata": {}
    },
    {
     "data": {
      "text/plain": "<Figure size 432x288 with 1 Axes>",
      "image/png": "[encoded data removed]"
     },
     "metadata": {
      "needs_background": "light",
      "image/png": {
       "width": 395,
       "height": 262
      }
     },
     "output_type": "display_data"
    }
   ],
   "execution_count": null
  },
  {
   "cell_type": "markdown",
   "source": "Una de las características más importantes que influye en el precio de la casa es su tamaño. Visualicemos eso usando `sns.scatterplot`",
   "metadata": {
    "cell_id": "00097-d676c840-88be-44a4-b677-e631de6ea1dd",
    "deepnote_cell_type": "markdown"
   }
  },
  {
   "cell_type": "code",
   "metadata": {
    "cell_id": "00098-002224a0-180a-4973-8fec-ef9563d66174",
    "deepnote_to_be_reexecuted": false,
    "source_hash": "8c4d16e8",
    "execution_start": 1646265156150,
    "execution_millis": 306,
    "deepnote_cell_type": "code"
   },
   "source": "sns.scatterplot(data=df, x='sqft_living',y='price')",
   "outputs": [
    {
     "output_type": "execute_result",
     "execution_count": 46,
     "data": {
      "text/plain": "<AxesSubplot:xlabel='sqft_living', ylabel='price'>"
     },
     "metadata": {}
    },
    {
     "data": {
      "text/plain": "<Figure size 432x288 with 1 Axes>",
      "image/png": "[encoded data removed]"
     },
     "metadata": {
      "needs_background": "light",
      "image/png": {
       "width": 387,
       "height": 274
      }
     },
     "output_type": "display_data"
    }
   ],
   "execution_count": null
  },
  {
   "cell_type": "markdown",
   "source": "La dependencia de precio de la case de su tamano es fuerte y es casi lineal.",
   "metadata": {
    "cell_id": "00099-c83a5752-8c8d-4d3a-af60-1bc060b1db05",
    "deepnote_cell_type": "markdown"
   }
  },
  {
   "cell_type": "markdown",
   "source": "También es interesante ver cómo la ubicación geográfica de la casa influye en su popularidad. Grafiquemos la longitud frente a la latitud pero incluyendo la distribución usando `sns.jointplot()` ",
   "metadata": {
    "cell_id": "00100-a2fa5a09-7f98-4309-b0fe-85afc47bc84b",
    "deepnote_cell_type": "markdown"
   }
  },
  {
   "cell_type": "code",
   "source": "df2=df[df['price']>2000000]\n",
   "metadata": {
    "cell_id": "8a325f55-8c83-4f5b-8d2d-dde52e6b8d61",
    "tags": [],
    "deepnote_to_be_reexecuted": false,
    "source_hash": "82809b1c",
    "execution_start": 1646265205570,
    "execution_millis": 1,
    "deepnote_cell_type": "code"
   },
   "outputs": [],
   "execution_count": null
  },
  {
   "cell_type": "markdown",
   "source": "Latitude:\t\n\n47.6299489\nLongitude:\t\n\n-122.2199372\nDMS:\t\n\n47º 37' 47.8164'' N\n\n122º 13' 11.7732'' W",
   "metadata": {
    "cell_id": "98769311-d462-4c6f-9d95-cd0797c263ce",
    "tags": [],
    "deepnote_cell_type": "markdown"
   }
  },
  {
   "cell_type": "code",
   "metadata": {
    "cell_id": "00101-f29e0582-8446-403e-889b-0c9482a227b9",
    "deepnote_to_be_reexecuted": false,
    "source_hash": "e3d856f0",
    "execution_start": 1646265206228,
    "execution_millis": 709,
    "deepnote_cell_type": "code"
   },
   "source": "sns.jointplot(data=df2, x=\"lat\", y=\"long\")",
   "outputs": [
    {
     "output_type": "execute_result",
     "execution_count": 56,
     "data": {
      "text/plain": "<seaborn.axisgrid.JointGrid at 0x7f62f8fb8c90>"
     },
     "metadata": {}
    },
    {
     "data": {
      "text/plain": "<Figure size 432x432 with 3 Axes>",
      "image/png": "[encoded data removed]"
     },
     "metadata": {
      "needs_background": "light",
      "image/png": {
       "width": 446,
       "height": 424
      }
     },
     "output_type": "display_data"
    }
   ],
   "execution_count": null
  },
  {
   "cell_type": "markdown",
   "source": "Para la latitud entre -47.7 y -48.8 hay muchas casas, lo que significaría que tal vez sea una ubicación ideal. Pero cuando hablamos de longitud podemos ver que la concentración es alta entre -122.2 a -122.4. Lo que significaría que la mayoría de las compras han sido para esta ubicación en particular.",
   "metadata": {
    "cell_id": "00102-0053783a-7b83-40a1-883a-faef7062f837",
    "deepnote_cell_type": "markdown"
   }
  },
  {
   "cell_type": "markdown",
   "source": "Para ver la dependencia entre varias características de la casa, debemos seleccionar las características que nos interesan y trazar todas las combinaciones posibles usando `sns.pairplot()` ",
   "metadata": {
    "cell_id": "00103-787ed591-4ee1-4e71-ba38-00cfe37a539e",
    "deepnote_cell_type": "markdown"
   }
  },
  {
   "cell_type": "code",
   "metadata": {
    "cell_id": "00104-8537e22c-8395-4a8b-acf6-e8f4a6e7bbda",
    "deepnote_cell_type": "code"
   },
   "source": "df_selection=df[['price', 'bedrooms','sqft_living']]",
   "outputs": [],
   "execution_count": null
  },
  {
   "cell_type": "code",
   "metadata": {
    "cell_id": "00105-bc6bdf7e-e03c-4cc5-85db-14a5375da2de",
    "deepnote_cell_type": "code"
   },
   "source": "sns.pairplot(df_selection)",
   "outputs": [
    {
     "data": {
      "text/plain": "<seaborn.axisgrid.PairGrid at 0x7fd4458b35f8>"
     },
     "execution_count": 48,
     "metadata": {},
     "output_type": "execute_result"
    },
    {
     "data": {
      "image/png": "[encoded data removed]",
      "text/plain": "<Figure size 540x540 with 12 Axes>"
     },
     "metadata": {
      "needs_background": "light",
      "image/png": {
       "width": 533,
       "height": 533
      }
     },
     "output_type": "display_data"
    }
   ],
   "execution_count": null
  },
  {
   "cell_type": "markdown",
   "source": "aquí pudimos ver como cada variable depende una de la otra. Por ejemplo se ve claramente la distribución del precio de la vivienda con respecto al número de dormitorios. Pero también que el tamaño de la casa (en promedio) depende del número de dormitorios. ",
   "metadata": {
    "cell_id": "00106-5d0c6144-02f5-4843-9241-5b1bb88a81bd",
    "deepnote_cell_type": "markdown"
   }
  },
  {
   "cell_type": "markdown",
   "source": "## 5. Series de tiempo (time series)\n",
   "metadata": {
    "cell_id": "00107-56c381af-dca6-42a9-ae33-660c062240ef",
    "deepnote_cell_type": "markdown"
   }
  },
  {
   "cell_type": "markdown",
   "source": "Veamos ahora cómo influye la época del año en la venta de las casas.\nPrimero debemos convertir la columna `date` que (contiene la fecha de venta de la casa) en un formato de datos Pandas adecuado.",
   "metadata": {
    "cell_id": "00108-81c9cbbd-133f-470f-bb39-5261d63db270",
    "deepnote_cell_type": "markdown"
   }
  },
  {
   "cell_type": "code",
   "metadata": {
    "cell_id": "00109-9b86c5ea-383e-420d-aa48-d6e84e551942",
    "deepnote_cell_type": "code"
   },
   "source": "df.head()['date']",
   "outputs": [
    {
     "data": {
      "text/plain": "0    20141013T000000\n1    20141209T000000\n2    20150225T000000\n3    20141209T000000\n4    20150218T000000\nName: date, dtype: object"
     },
     "execution_count": 49,
     "metadata": {},
     "output_type": "execute_result"
    }
   ],
   "execution_count": null
  },
  {
   "cell_type": "code",
   "metadata": {
    "cell_id": "00110-ae8959b8-14a9-4972-8e7a-362d90ac9cda",
    "deepnote_cell_type": "code"
   },
   "source": "df['date'] = pd.to_datetime(df['date'])",
   "outputs": [],
   "execution_count": null
  },
  {
   "cell_type": "markdown",
   "source": "*Si la columna `date` en el conjunto de datos original contenía una hora de venta, la función pd.to_datetime() también convertiría ese valor. ",
   "metadata": {
    "cell_id": "00111-04f38a0b-c3a9-4662-bdfc-a475a922c62a",
    "deepnote_cell_type": "markdown"
   }
  },
  {
   "cell_type": "code",
   "metadata": {
    "cell_id": "00112-bf7dbe83-c144-4d79-83ad-54312ce4c195",
    "deepnote_cell_type": "code"
   },
   "source": "df.head()['date']",
   "outputs": [
    {
     "data": {
      "text/plain": "0   2014-10-13\n1   2014-12-09\n2   2015-02-25\n3   2014-12-09\n4   2015-02-18\nName: date, dtype: datetime64[ns]"
     },
     "execution_count": 51,
     "metadata": {},
     "output_type": "execute_result"
    }
   ],
   "execution_count": null
  },
  {
   "cell_type": "markdown",
   "source": "Podríamos usar de nuevo el diagrama de dispersión sns.",
   "metadata": {
    "cell_id": "00113-e8c9dce9-204c-4cfd-a7ea-12529fb4829c",
    "deepnote_cell_type": "markdown"
   }
  },
  {
   "cell_type": "code",
   "metadata": {
    "cell_id": "00114-ac9cf278-1b47-49af-b132-035bf83b47a2",
    "deepnote_cell_type": "code"
   },
   "source": "sns.scatterplot(data=df,x='date', y='price')",
   "outputs": [
    {
     "name": "stderr",
     "output_type": "stream",
     "text": "/usr/lib64/python3.7/site-packages/pandas/plotting/_matplotlib/converter.py:103: FutureWarning: Using an implicitly registered datetime converter for a matplotlib plotting method. The converter was registered by pandas on import. Future versions of pandas will require you to explicitly register matplotlib converters.\n\nTo register the converters:\n\t>>> from pandas.plotting import register_matplotlib_converters\n\t>>> register_matplotlib_converters()\n  warnings.warn(msg, FutureWarning)\n"
    },
    {
     "data": {
      "text/plain": "<AxesSubplot:xlabel='date', ylabel='price'>"
     },
     "execution_count": 52,
     "metadata": {},
     "output_type": "execute_result"
    },
    {
     "data": {
      "image/png": "[encoded data removed]",
      "text/plain": "<Figure size 432x288 with 1 Axes>"
     },
     "metadata": {
      "needs_background": "light",
      "image/png": {
       "width": 376,
       "height": 273
      }
     },
     "output_type": "display_data"
    }
   ],
   "execution_count": null
  },
  {
   "cell_type": "markdown",
   "source": "Ya tenemos los datos en el formato correcto, pero la trama no es muy significativa. Dividamos entonces la fecha en año, mes y día.",
   "metadata": {
    "cell_id": "00115-ca747657-a7f7-4da2-a97e-c9520d746253",
    "deepnote_cell_type": "markdown"
   }
  },
  {
   "cell_type": "code",
   "metadata": {
    "cell_id": "00116-0891691a-ac02-4913-9689-44a309c19bd5",
    "deepnote_cell_type": "code"
   },
   "source": "df['year'] = pd.DatetimeIndex(df['date']).year   # attribute year\ndf['month'] = pd.DatetimeIndex(df['date']).month # attribute month\ndf['day'] = pd.DatetimeIndex(df['date']).day     # attribute day",
   "outputs": [],
   "execution_count": null
  },
  {
   "cell_type": "markdown",
   "source": "Observe que hemos creado nuevas columnas llamadas `año`, `mes` y `día` en el conjunto de datos ",
   "metadata": {
    "cell_id": "00117-1d9f3172-d404-48da-8721-4c0f9a767cd7",
    "deepnote_cell_type": "markdown"
   }
  },
  {
   "cell_type": "code",
   "metadata": {
    "cell_id": "00118-097d609e-7caf-4e5e-ba8c-a302d82f2030",
    "deepnote_cell_type": "code"
   },
   "source": "df.head()",
   "outputs": [
    {
     "data": {
      "text/html": "<div>\n<style scoped>\n    .dataframe tbody tr th:only-of-type {\n        vertical-align: middle;\n    }\n\n    .dataframe tbody tr th {\n        vertical-align: top;\n    }\n\n    .dataframe thead th {\n        text-align: right;\n    }\n</style>\n<table border=\"1\" class=\"dataframe\">\n  <thead>\n    <tr style=\"text-align: right;\">\n      <th></th>\n      <th>date</th>\n      <th>price</th>\n      <th>bedrooms</th>\n      <th>bathrooms</th>\n      <th>sqft_living</th>\n      <th>sqft_lot</th>\n      <th>floors</th>\n      <th>waterfront</th>\n      <th>view</th>\n      <th>condition</th>\n      <th>...</th>\n      <th>year_renovated</th>\n      <th>zipcode</th>\n      <th>lat</th>\n      <th>long</th>\n      <th>sqft_living15</th>\n      <th>sqft_lot15</th>\n      <th>city</th>\n      <th>year</th>\n      <th>month</th>\n      <th>day</th>\n    </tr>\n  </thead>\n  <tbody>\n    <tr>\n      <th>0</th>\n      <td>2014-10-13</td>\n      <td>221900.0</td>\n      <td>3</td>\n      <td>1.00</td>\n      <td>1180</td>\n      <td>5650.0</td>\n      <td>1.0</td>\n      <td>0</td>\n      <td>0</td>\n      <td>3</td>\n      <td>...</td>\n      <td>0</td>\n      <td>98178</td>\n      <td>47.5112</td>\n      <td>-122.257</td>\n      <td>1340</td>\n      <td>5650</td>\n      <td>Seattle</td>\n      <td>2014</td>\n      <td>10</td>\n      <td>13</td>\n    </tr>\n    <tr>\n      <th>1</th>\n      <td>2014-12-09</td>\n      <td>538000.0</td>\n      <td>3</td>\n      <td>2.25</td>\n      <td>2570</td>\n      <td>7242.0</td>\n      <td>2.0</td>\n      <td>0</td>\n      <td>0</td>\n      <td>3</td>\n      <td>...</td>\n      <td>1991</td>\n      <td>98125</td>\n      <td>47.7210</td>\n      <td>-122.319</td>\n      <td>1690</td>\n      <td>7639</td>\n      <td>Seattle</td>\n      <td>2014</td>\n      <td>12</td>\n      <td>9</td>\n    </tr>\n    <tr>\n      <th>2</th>\n      <td>2015-02-25</td>\n      <td>180000.0</td>\n      <td>2</td>\n      <td>1.00</td>\n      <td>770</td>\n      <td>10000.0</td>\n      <td>1.0</td>\n      <td>0</td>\n      <td>0</td>\n      <td>3</td>\n      <td>...</td>\n      <td>0</td>\n      <td>98028</td>\n      <td>47.7379</td>\n      <td>-122.233</td>\n      <td>2720</td>\n      <td>8062</td>\n      <td>Kenmore</td>\n      <td>2015</td>\n      <td>2</td>\n      <td>25</td>\n    </tr>\n    <tr>\n      <th>3</th>\n      <td>2014-12-09</td>\n      <td>604000.0</td>\n      <td>4</td>\n      <td>3.00</td>\n      <td>1960</td>\n      <td>5000.0</td>\n      <td>1.0</td>\n      <td>0</td>\n      <td>0</td>\n      <td>5</td>\n      <td>...</td>\n      <td>0</td>\n      <td>98136</td>\n      <td>47.5208</td>\n      <td>-122.393</td>\n      <td>1360</td>\n      <td>5000</td>\n      <td>Seattle</td>\n      <td>2014</td>\n      <td>12</td>\n      <td>9</td>\n    </tr>\n    <tr>\n      <th>4</th>\n      <td>2015-02-18</td>\n      <td>510000.0</td>\n      <td>3</td>\n      <td>2.00</td>\n      <td>1680</td>\n      <td>8080.0</td>\n      <td>1.0</td>\n      <td>0</td>\n      <td>0</td>\n      <td>3</td>\n      <td>...</td>\n      <td>0</td>\n      <td>98074</td>\n      <td>47.6168</td>\n      <td>-122.045</td>\n      <td>1800</td>\n      <td>7503</td>\n      <td>Sammamish</td>\n      <td>2015</td>\n      <td>2</td>\n      <td>18</td>\n    </tr>\n  </tbody>\n</table>\n<p>5 rows × 24 columns</p>\n</div>",
      "text/plain": "        date     price  bedrooms  bathrooms  sqft_living  sqft_lot  floors  \\\n0 2014-10-13  221900.0         3       1.00         1180    5650.0     1.0   \n1 2014-12-09  538000.0         3       2.25         2570    7242.0     2.0   \n2 2015-02-25  180000.0         2       1.00          770   10000.0     1.0   \n3 2014-12-09  604000.0         4       3.00         1960    5000.0     1.0   \n4 2015-02-18  510000.0         3       2.00         1680    8080.0     1.0   \n\n   waterfront  view  condition  ...  year_renovated  zipcode      lat  \\\n0           0     0          3  ...               0    98178  47.5112   \n1           0     0          3  ...            1991    98125  47.7210   \n2           0     0          3  ...               0    98028  47.7379   \n3           0     0          5  ...               0    98136  47.5208   \n4           0     0          3  ...               0    98074  47.6168   \n\n      long  sqft_living15  sqft_lot15       city  year  month  day  \n0 -122.257           1340        5650    Seattle  2014     10   13  \n1 -122.319           1690        7639    Seattle  2014     12    9  \n2 -122.233           2720        8062    Kenmore  2015      2   25  \n3 -122.393           1360        5000    Seattle  2014     12    9  \n4 -122.045           1800        7503  Sammamish  2015      2   18  \n\n[5 rows x 24 columns]"
     },
     "execution_count": 54,
     "metadata": {},
     "output_type": "execute_result"
    }
   ],
   "execution_count": null
  },
  {
   "cell_type": "markdown",
   "source": "Vamos agrupar los datos con respecto a ano, mes y dia separadamente y calcular valor promedio de precio. ",
   "metadata": {
    "cell_id": "00119-d7372e2a-5f8a-4ad1-86ef-8860f9acf8a9",
    "deepnote_cell_type": "markdown"
   }
  },
  {
   "cell_type": "code",
   "metadata": {
    "cell_id": "00120-f3d61fc4-e696-4b8c-af51-9da963cbda7b",
    "deepnote_cell_type": "code"
   },
   "source": "#df.groupby('year').mean()['price']\ndf.groupby('month').mean()['price']\n#df.groupby('day').mean()['price']",
   "outputs": [
    {
     "data": {
      "text/plain": "month\n1     525870.889571\n2     507851.371200\n3     543977.187200\n4     561837.774989\n5     550768.785833\n6     558002.199541\n7     544949.980995\n8     536445.276804\n9     529253.821871\n10    539026.971778\n11    521961.009213\n12    524461.866757\nName: price, dtype: float64"
     },
     "execution_count": 55,
     "metadata": {},
     "output_type": "execute_result"
    }
   ],
   "execution_count": null
  },
  {
   "cell_type": "markdown",
   "source": "Vamos ahora visualizar los resultados usando matplotlib. Miramos el precio de la casa frente al año, el precio de la casa frente al mes y el precio de la casa frente al día.",
   "metadata": {
    "cell_id": "00121-05e1b6d4-a0ff-4212-afae-fca618f2be1e",
    "deepnote_cell_type": "markdown"
   }
  },
  {
   "cell_type": "code",
   "metadata": {
    "cell_id": "00122-0ebc1507-8776-4d50-b6d4-4d5b3990a431",
    "deepnote_cell_type": "code"
   },
   "source": "fig,ax = plt.subplots(1,3,figsize=(16,5))\n\nax[0].plot(df.groupby('year').mean()['price'],'.-k')\nax[0].set_title('average price vs year ')\nax[0].set_xlabel('year')\nax[0].set_ylabel('price')\nax[0].grid(True)\n\n\nax[1].plot(df.groupby('month').mean()['price'],'.-r')\nax[1].set_title('average price vs month of the year ')\nax[1].set_xlabel('month of the year')\nax[1].grid(True)\n\nax[2].plot(df.groupby('day').mean()['price'],'.-b')\nax[2].set_title('average price vs day of the month ')\nax[2].set_xlabel('day of the month')\nax[2].grid(True)\n#df2=df.groupby( 'month' ).mean()['price'].to_frame(name = 'count').reset_index()",
   "outputs": [
    {
     "data": {
      "image/png": "[encoded data removed]",
      "text/plain": "<Figure size 1152x360 with 3 Axes>"
     },
     "metadata": {
      "needs_background": "light",
      "image/png": {
       "width": 966,
       "height": 333
      }
     },
     "output_type": "display_data"
    }
   ],
   "execution_count": null
  },
  {
   "cell_type": "markdown",
   "source": "Usando series de tiempo, ahora es mucho más fácil ver que el precio promedio de la casa aumentó durante el año, también que el precio promedio de la casa fue mucho más alto en abril-junio que al final o al principio del año. Sobre todo parece (con cierta incertidumbre) que el precio medio de la vivienda fue más alto a principio del mes y mas baja en la mitad del mes.",
   "metadata": {
    "cell_id": "00123-44c56793-2a4e-4616-82f8-a01c2819ce3a",
    "deepnote_cell_type": "markdown"
   }
  },
  {
   "cell_type": "markdown",
   "source": "Las series de tiempo en Pandas permiten modificaciones muy flexibles. Si, por ejemplo, estuviéramos interesados en saber cuántas casas se vendieron en el año 2014 en comparación con 2015, simplemente podríamos seleccionar el rango de fechas que nos interesa usando 'entre':",
   "metadata": {
    "cell_id": "00124-3ae65d9f-8761-4bd8-bed6-baab38facdce",
    "deepnote_cell_type": "markdown"
   }
  },
  {
   "cell_type": "code",
   "metadata": {
    "cell_id": "00125-1f0bc635-7e36-4f80-83d4-cb002cd67b25",
    "deepnote_cell_type": "code"
   },
   "source": "df_2014=df[df['date'].between('2014-01-01', '2014-12-31')]",
   "outputs": [],
   "execution_count": null
  },
  {
   "cell_type": "code",
   "metadata": {
    "cell_id": "00126-8d8f38d1-ce40-4201-a183-4835dfa2fec1",
    "deepnote_cell_type": "code"
   },
   "source": "df_2015=df[df['date'].between('2015-01-01', '2015-12-31')]",
   "outputs": [],
   "execution_count": null
  },
  {
   "cell_type": "code",
   "metadata": {
    "cell_id": "00127-17f5844b-1b26-4cb2-827b-f3af9ad8cc64",
    "deepnote_cell_type": "code"
   },
   "source": "print(f'Pudimos ver que en 2014 se vendieron: {df_2014.shape[0]} casas y en 2015:  {df_2015.shape[0]}') ",
   "outputs": [
    {
     "name": "stdout",
     "output_type": "stream",
     "text": "Pudimos ver que en 2014 se vendieron: 14632 casas y en 2015:  6980\n"
    }
   ],
   "execution_count": null
  },
  {
   "cell_type": "markdown",
   "source": "Ahora guardemos el marco de datos actual en un nuevo archivo csv más limpio",
   "metadata": {
    "cell_id": "00128-ac3448dd-d627-4247-adbd-0fc0a11c5e65",
    "deepnote_cell_type": "markdown"
   }
  },
  {
   "cell_type": "code",
   "metadata": {
    "cell_id": "00129-b6f88790-f43d-4b3c-a131-bd2f0489ec63",
    "deepnote_cell_type": "code"
   },
   "source": "df.to_csv('data/kc_house_data_new.csv',sep=',',index=False)",
   "outputs": [],
   "execution_count": null
  },
  {
   "cell_type": "markdown",
   "source": "<a style='text-decoration:none;line-height:16px;display:flex;color:#5B5B62;padding:10px;justify-content:end;' href='https://deepnote.com?utm_source=created-in-deepnote-cell&projectId=4710cf8b-f7ec-43d1-a3bc-46d860c0e6af' target=\"_blank\">\n<img alt='Created in deepnote.com' style='display:inline;max-height:16px;margin:0px;margin-right:7.5px;' src='data:image/svg+xml;base64,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' > </img>\nCreated in <span style='font-weight:600;margin-left:4px;'>Deepnote</span></a>",
   "metadata": {
    "tags": [],
    "created_in_deepnote_cell": true,
    "deepnote_cell_type": "markdown"
   }
  }
 ],
 "nbformat": 4,
 "nbformat_minor": 5,
 "metadata": {
  "deepnote": {},
  "deepnote_execution_queue": [],
  "deepnote_notebook_id": "5acb891d-1cd9-40d5-a919-2b83b781e726",
  "kernelspec": {
   "display_name": "Python 3",
   "language": "python",
   "name": "python3"
  },
  "language_info": {
   "codemirror_mode": {
    "name": "ipython",
    "version": 3
   },
   "file_extension": ".py",
   "mimetype": "text/x-python",
   "name": "python",
   "nbconvert_exporter": "python",
   "pygments_lexer": "ipython3",
   "version": "3.7.2"
  }
 }
}