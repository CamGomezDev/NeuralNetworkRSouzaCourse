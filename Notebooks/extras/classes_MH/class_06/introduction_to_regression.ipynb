{
 "cells": [
  {
   "cell_type": "markdown",
   "id": "modified-capability",
   "metadata": {},
   "source": [
    "## Data Modelling using Neural Networks (class 6)\n",
    "* Main topic:introduction to regression"
   ]
  },
  {
   "cell_type": "markdown",
   "id": "derived-distinction",
   "metadata": {},
   "source": [
    "# Work on data first\n",
    " * Summarizing previous classes on data - the importance of data\n",
    "\n",
    "\n",
    "So all the algorithms using scikit-learn and Tensorflow are very simple to implement!\n",
    "\n",
    "That boils down the problem to... work on the data!\n",
    "\n",
    "In a famous paper published in 2001, Microsoft researchers Michele Banko and Eric Brill showed that very different Machine Learning algorithms, including fairly simple ones, performed almost identically well on a complex problem of natural language disambiguation8 once they were given enough data (as you can see in Figure 1-20).\n",
    "\n",
    "<img src=\"imgs/banco_brill.png\" width=\"400\" /> \n",
    "\n",
    "\n",
    "As the authors put it: “these results suggest that we may want to reconsider the tradeoff between spending time and money on algorithm development versus spending it on corpus development.”\n",
    "\n",
    "The idea that ***data matters more than algorithms for complex problems*** was further popularized by Peter Norvig et al. in a paper titled “The Unreasonable Effectiveness of Data” published in 2009.10 It should be noted, however, that small- and mediumsized datasets are still very common, and it is not always easy or cheap to get extra training data, so don’t abandon algorithms just yet."
   ]
  },
  {
   "cell_type": "markdown",
   "id": "historical-freedom",
   "metadata": {},
   "source": [
    "## Introduction to Regression (least-square methods, loss functions)"
   ]
  },
  {
   "cell_type": "markdown",
   "id": "guided-metadata",
   "metadata": {},
   "source": [
    "Dictionary:\n",
    "* confuse - confundir\n",
    "* fitting - ajuste\n",
    "* collapse - desplomar (colapsar?)\n",
    "* obtain - obtener\n",
    "* adjust - ajustar\n",
    "* shadow - sombra\n",
    "* loss - perdida\n",
    "* least - minimo\n",
    "* residuals - residuos\n",
    "least squares - los cuadrados minimos"
   ]
  },
  {
   "cell_type": "markdown",
   "id": "moral-savannah",
   "metadata": {},
   "source": [
    "## Clarifying last points\n",
    "* https://deeplearningjourney.com/2020/12/13/3-ways-to-build-neural-networks-in-tensorflow-with-the-keras-api/\n",
    "* default activation function is linear\n",
    "* NN is for more complex problems. Fit or regression is good for simpler problems.\n",
    "There is no need to build a NN for the data below\n",
    "<img src=\"imgs/linear_regression_data.png\" width=\"400\" /> "
   ]
  },
  {
   "cell_type": "markdown",
   "id": "usual-storm",
   "metadata": {},
   "source": [
    "<img src=\"imgs/confuse_ml.png\" width=\"500\" /> "
   ]
  },
  {
   "cell_type": "markdown",
   "id": "technological-channel",
   "metadata": {},
   "source": [
    "## Regression\n",
    "Regression is a method of modelling a target value based on independent predictors. This method is mostly used for forecasting and finding out cause and effect relationship between variables. Regression techniques mostly differ based on the number of independent variables and the type of relationship between the independent and dependent variables."
   ]
  },
  {
   "cell_type": "code",
   "execution_count": 1,
   "id": "younger-cannon",
   "metadata": {},
   "outputs": [
    {
     "data": {
      "text/plain": [
       "<matplotlib.legend.Legend at 0x7f3a4d531080>"
      ]
     },
     "execution_count": 1,
     "metadata": {},
     "output_type": "execute_result"
    },
    {
     "data": {
      "image/png": "[encoded data removed]",
      "text/plain": [
       "<Figure size 432x288 with 1 Axes>"
      ]
     },
     "metadata": {
      "needs_background": "light"
     },
     "output_type": "display_data"
    }
   ],
   "source": [
    "import numpy as np\n",
    "import matplotlib.pyplot as plt\n",
    "t=np.array([0,1.11, 2.22,3.33, 4.44, 5.55])\n",
    "v=np.array([ 33.10, 21.33, 16.57,-5.04, -11.74, -27.32])\n",
    "fig,ax=plt.subplots(1,1)\n",
    "ax.plot(t,v,'sb', label='data')\n",
    "ax.set_xlabel('t')\n",
    "ax.set_ylabel('v(t)')\n",
    "ax.legend()"
   ]
  },
  {
   "cell_type": "markdown",
   "id": "fitted-speech",
   "metadata": {},
   "source": [
    "* Given a data set, the first approach to find a function that passes through the points would be using a\n",
    "interpolation polynomial. \n",
    "* But we should take special attention to the way data set is gathered, i.e., usually is a sample obtained experimentally or in a way that has associated an intrinsic error. \n",
    "* Then, forcing that the approximate function passes through all the points would actually incur in incrementing the error. This is why it is necessary to build a different procedure to build the function that fits the data.\n",
    "\n",
    "* better approach is to use fitting functions,\n",
    "* But the fitting function is not going to take the exact value in the known points, they are going to desagree in certain tolerance value. \n",
    "\n",
    "* This type of procedure is also used to approximate functions to a simper type of function. Although the procedure\n",
    "is very similar is not going to be include because of the lack of use of it that commonly has.  "
   ]
  },
  {
   "cell_type": "markdown",
   "id": "instructional-violin",
   "metadata": {},
   "source": [
    "### What is fitting good for:\n",
    "\n",
    "* can be used to predict the values where there are no data points (similar to interpolation)\n",
    "* we can obtain analytical approximation of the data points, which coefficients correspond to physical cuantities!"
   ]
  },
  {
   "cell_type": "markdown",
   "id": "ordinary-manchester",
   "metadata": {},
   "source": [
    "## Approximating data using interpolation"
   ]
  },
  {
   "cell_type": "markdown",
   "id": "downtown-bracket",
   "metadata": {},
   "source": [
    "Lets look at a data set\n",
    "\n",
    "data: $y_i(x_i)$\n",
    "\n",
    "* $y_i$ are the data points\n",
    "\n",
    "A body is moving under the influence of an external force, the variation of the position measured for different \n",
    "times are compiled in table 1. \n",
    "\n",
    "| t(s) |  | v(m/s)         \n",
    "| :------: |:-------------: | :-------:|\n",
    "|0| 2.76 | 33.10\n",
    "| 1.11| 29.66 | 21.33\n",
    "| 2.22|46.83 | 16.57\n",
    "|3.33 | 44.08 |-5.04\n",
    "| 4.44| 37.26| -11.74\n",
    "| 5.55| 12.03| -27.32| \n",
    "\n",
    "\n",
    "\n",
    "\n",
    "the problem is that the values $y_i$ are not precise so interpolating the points inbetween wouldn't make much sense. Lets see why:"
   ]
  },
  {
   "cell_type": "code",
   "execution_count": 2,
   "id": "retained-smooth",
   "metadata": {},
   "outputs": [
    {
     "data": {
      "text/plain": [
       "<matplotlib.legend.Legend at 0x7f3a3c5bfda0>"
      ]
     },
     "execution_count": 2,
     "metadata": {},
     "output_type": "execute_result"
    },
    {
     "data": {
      "image/png": "[encoded data removed]",
      "text/plain": [
       "<Figure size 432x288 with 1 Axes>"
      ]
     },
     "metadata": {
      "needs_background": "light"
     },
     "output_type": "display_data"
    }
   ],
   "source": [
    "from scipy import interpolate\n",
    "import numpy as np\n",
    "\n",
    "v_interp = interpolate.interp1d(t,v,kind='cubic')  #Using cubic splines.\n",
    "t_mesh=np.linspace(np.min(t),np.max(t),100)\n",
    "\n",
    "fig,ax=plt.subplots(1,1)\n",
    "ax.plot(t,v,'sb', label='data')\n",
    "ax.plot(t_mesh,v_interp(t_mesh),'-r', label='interpolation')\n",
    "\n",
    "ax.set_xlabel('t')\n",
    "ax.set_ylabel('v(t)')\n",
    "ax.legend()"
   ]
  },
  {
   "cell_type": "markdown",
   "id": "conceptual-maryland",
   "metadata": {},
   "source": [
    "can we having the interpolated points predict the value of $v$ for unknown data point $t$, for example $t=1.5$? Rather not!"
   ]
  },
  {
   "cell_type": "markdown",
   "id": "marked-pressure",
   "metadata": {},
   "source": [
    "## Approximating data using least squares method (linear regression, fitting)\n",
    "\n",
    "lets visualize the problem: https://phet.colorado.edu/sims/html/least-squares-regression/latest/least-squares-regression_en.html"
   ]
  },
  {
   "cell_type": "code",
   "execution_count": 3,
   "id": "collaborative-bhutan",
   "metadata": {},
   "outputs": [
    {
     "data": {
      "text/plain": [
       "<matplotlib.legend.Legend at 0x7f3a3c542940>"
      ]
     },
     "execution_count": 3,
     "metadata": {},
     "output_type": "execute_result"
    },
    {
     "data": {
      "image/png": "[encoded data removed]",
      "text/plain": [
       "<Figure size 432x288 with 1 Axes>"
      ]
     },
     "metadata": {
      "needs_background": "light"
     },
     "output_type": "display_data"
    }
   ],
   "source": [
    "import numpy as np\n",
    "import matplotlib.pyplot as plt\n",
    "t=np.array([0,1.11, 2.22,3.33, 4.44, 5.55])\n",
    "v=np.array([ 33.10, 21.33, 16.57,-5.04, -11.74, -27.32])\n",
    "fig,ax=plt.subplots(1,1)\n",
    "ax.plot(t,v,'sb', label='data')\n",
    "ax.set_xlabel('t')\n",
    "ax.set_ylabel('v(t)')\n",
    "ax.legend()"
   ]
  },
  {
   "cell_type": "markdown",
   "id": "champion-machine",
   "metadata": {},
   "source": [
    "Then it is proposed to find the best approximating line despite of the fact it does not coincide with the data at any point using a function\n",
    "\n",
    "* we have to guess a function to which we want to approximate the points!!!\n",
    "* to do the fitting we have to understand what process we are dealing with\n",
    "* for the case of the data above the function can be: $f(x_i) = a_1x_i + a_0$\n",
    "* but there is infinite number of curves that can go through those points!\n",
    "* which one is the best?\n",
    "\n",
    "The best linear approximation in the absolute sense requires that the values of $a_0$ and $a_1$ would be found to minimize \n",
    "\n",
    "if\n",
    "\n",
    "* $y_i$ are the points\n",
    "* $m$ is the number of points\n",
    "* $f(x_i)$ is the searched function that minimizes $E$ (makes the residuals as small as possible - perfectly zero, but this is usually not possible)\n",
    "\n",
    "$$\n",
    "E = E(a_0,a_1) = \\sum_{i=1}^{m}[y_i - f(x_i)]^2 \n",
    "$$\n",
    "\n",
    "$f(x_i)$ is called hypothesis function ($\\theta(x)$)\n",
    "\n",
    "$$\n",
    "E = E(a_0,a_1) = \\sum_{i=1}^{m}[y_i - (a_1 x_i + a_0)]^2 \n",
    "$$\n",
    "where:\n",
    "\n",
    "$$S_i=y_i - (a_1 x_i + a_0)$$\n",
    "are residuals\n",
    "\n",
    "$$\n",
    "E = \\sum_{i=1}^{m}[S_i]^2 \n",
    "$$\n",
    "\n",
    "* the objective is to make the sum of the squares of the residuals to make as small as possible\n",
    "\n",
    "* why is it called ***least squares method***?\n",
    "https://phet.colorado.edu/sims/html/least-squares-regression/latest/least-squares-regression_en.html"
   ]
  },
  {
   "cell_type": "markdown",
   "id": "first-ranch",
   "metadata": {},
   "source": [
    "### MeanSquaredError / loss function (Regression problem)"
   ]
  },
  {
   "cell_type": "markdown",
   "id": "simple-medium",
   "metadata": {},
   "source": [
    "$$\n",
    "E = E(a_0,a_1) = \\sum_{i=1}^{m}[y_i - (a_1 x_i + a_0)]^2 \n",
    "$$\n",
    "\n",
    "\n",
    "So to make the $E$ (error) as small as possible means to make the sum of the squares (areas of each residual) as small as possible \n",
    "\n",
    "We can alos divide the sum by number of points considered \n",
    "\n",
    "$$\n",
    "E = \\frac{1}{m} \\sum_{i=1}^{m}[y_i - (a_1 x_i + a_0)]^2 \n",
    "$$\n",
    "\n",
    "$$\n",
    "MSE = \\frac{1}{m} \\sum_{i=1}^{m}[y_i - f_i]^2 \n",
    "$$\n",
    "\n",
    "is called loss function or more commonly Mean Squared Error (MSE)\n",
    "\n",
    "(used everywhere, also in Neural Networks: https://www.tensorflow.org/api_docs/python/tf/keras/losses/MeanSquaredError)\n",
    "\n",
    "MSE is high for large loss values and decreases as loss approaches 0. For example, if we will have a distance of 3 the MSE will be 9, and if we will have a distance of 0.5 the MSE will be 0.25 so the loss is much lower."
   ]
  },
  {
   "cell_type": "markdown",
   "id": "japanese-purple",
   "metadata": {},
   "source": [
    "### Other most common loss functions:"
   ]
  },
  {
   "cell_type": "markdown",
   "id": "attempted-apollo",
   "metadata": {},
   "source": [
    "$$\n",
    "MAE = \\frac{1}{m} \\sum_{i=1}^{m}|y_i - f_i| \n",
    "$$\n",
    "\n",
    "Since we are taking the absolute value, all of the errors will be weighted on the same linear scale. Thus, unlike the MSE, we won’t be putting too much weight on our outliers and our loss function provides a generic and even measure of how well our model is performing.\n",
    "\n",
    " ( Mean absolute error) — here all errors, big and small, are treated equally"
   ]
  },
  {
   "cell_type": "markdown",
   "id": "intellectual-stream",
   "metadata": {},
   "source": [
    "$$\n",
    "MAPE = \\frac{100}{m} \\sum_{i=1}^{m} \\left|\\frac{y_i - f_i}{y_i}\\right|\n",
    "$$\n",
    "\n",
    "Actual Value ($y_i$) and the Estimated/Forecast value ($f_i$). \n",
    "\n",
    "Also known as mean absolute percentage deviation (MAPD), it measures the size of the error in percentage terms.\n",
    "\n",
    "MAPE ( Mean Absolute Percentage Error) — Since #1 and #2 depending on the value range of the target variable, they cannot be compared across datasets. In contrast, MAPE is a percentage, hence relative. It is like accuracy in a classification problem, where everyone knows 99% accuracy is pretty good."
   ]
  },
  {
   "cell_type": "markdown",
   "id": "super-phoenix",
   "metadata": {},
   "source": [
    "$$\n",
    "RMSE = \\sqrt{\\frac{1}{m} \\sum_{i=1}^{m}[y_i - f_i]^2 }\n",
    "$$\n",
    "\n",
    "Root Mean Square Error (RMSE) — this penalizes large errors due to the squared term. For example, with errors [0.5, 0.5] and [0.1, 0.9], MSE for both will be 0.5 while RMSE is 0.5 and. 0.45."
   ]
  },
  {
   "cell_type": "markdown",
   "id": "latter-waters",
   "metadata": {},
   "source": [
    "# Classification problem: there are different loss functions\n",
    "* Binary Cross Entropy (It is used to calculate the loss of classification model where the target variable is binary like 0 and 1.)\n",
    "* Categorical Crossentropy (It is used for the classification models where the target classes are more than two. It is a generalization of binary cross-entropy) (when target classes are 1000,0100,0010,0001)\n",
    "* Sparse Categorical Crossentropy (when the target classes are 0,1,2,3,4...)\n",
    "\n",
    "... to calculate them we use logarithmic function (comes from the definition of entropy and theory of information) we will talk about them later"
   ]
  },
  {
   "cell_type": "markdown",
   "id": "short-saudi",
   "metadata": {},
   "source": [
    "### Finding the coefficients analytically:\n",
    "\n",
    "To analytically minimize the function of 2 variables \n",
    "\n",
    "$$\n",
    "E = \\frac{1}{m} \\sum_{i=1}^{m}[y_i - (a_1 x_i + a_0)]^2 \n",
    "$$\n",
    "\n",
    "it is necessary to set its partial derivatives to zero and simultaneously solve to the resulting equations. But the best procedure for determining best linear approximations is to minimize the sum of the square of the diffences between the y values on the approximating line and the given y values.\n",
    "\n",
    "This is, minimize the next expression with respect to $a_0$ and $a_1$\n",
    "i.e., a minimum to occur. Then, it is needed to take the partial derivatives with respect to $a_0$  and $a_1$ and equating them to zero.\n",
    "\n",
    "\n",
    "$$\n",
    "\\frac{\\partial E}{\\partial a_0} = 0 \\hspace{1cm} \n",
    "\\frac{\\partial E}{\\partial a_1} = 0 \n",
    "$$\n",
    "\n",
    "* its like a system of equations requied to find two unknowns - here $a_0$ and $a_1$\n",
    "\n",
    "Afterwards, \n",
    "\n",
    "$$\n",
    "0= 2\\sum_{i=1}^{m}(y_i -a_1x_i-a_0)(-1) \\hspace{1.5cm} \n",
    "0 = 2\\sum_{i=1}^{m}(y_i -a_1x_i-a_0)(-x_i) \\\\\n",
    "a_0 m + a_1\\sum_{i=1}^{m}x_i = \\sum_{i=1}^{m} y_i \\hspace{1.5cm} a_0\\sum_{i=1}^{m}x_i  + a_1\\sum_{i=1}^{m}x_i^2 = \\sum_{i=1}^{m} x_iy_i \n",
    "$$\n",
    "\n",
    "where the coefficients $a_0$ and $a_1$ can be easily obtained\n",
    "\n",
    "$$\n",
    "a_0 = \\frac{\\sum_{i=1}^{m} x_i^2\\sum_{i=1}^{m}y_i - \\sum_{i=1}^{m} x_iy_i \\sum_{i=1}^{m} x_i }\n",
    "{m\\sum_{i=1}^{m} x_i^2 - \\left(\\sum_{i=1}^{m} x_i\\right)^2} \\hspace{1.5cm}\n",
    "a_1 = \\frac{m\\sum_{i=1}^{m} x_iy_i^2 - \\sum_{i=1}^{m} x_i \\sum_{i=1}^{m} y_i }\n",
    "{m\\sum_{i=1}^{m} x_i^2 - \\left(\\sum_{i=1}^{m} x_i\\right)^2} \n",
    "$$\n",
    "\n",
    "Now, using the error definition one can find the error associated to the approximation made,\n",
    "\n",
    "since the coefficients $a_0$ and $a_1$ are already known."
   ]
  },
  {
   "cell_type": "code",
   "execution_count": 4,
   "id": "genuine-logan",
   "metadata": {},
   "outputs": [
    {
     "data": {
      "image/png": "[encoded data removed]",
      "text/plain": [
       "<Figure size 576x360 with 1 Axes>"
      ]
     },
     "metadata": {
      "needs_background": "light"
     },
     "output_type": "display_data"
    }
   ],
   "source": [
    "import numpy as np\n",
    "import matplotlib.pyplot as plt\n",
    "\n",
    "# Finding adjusting parameters \n",
    "def Linear_least_square( x,y ):\n",
    "    \n",
    "    #Finding coefficients \n",
    "    length = len(x)\n",
    "    square_x = np.sum([x[i]**2 for i in range(length)])\n",
    "    sum_xy = np.sum([x[i]*y[i] for i in range(length)])\n",
    "    sum_x = np.sum(x)\n",
    "    sum_y = np.sum(y)\n",
    "    a0 = ( square_x*sum_y - sum_xy*sum_x ) / ( length*square_x  - sum_x**2 )\n",
    "    a1 = ( length*sum_xy - sum_x*sum_y ) / ( length*square_x  - sum_x**2 )\n",
    "    \n",
    "    #Returning a_0 and a_1 coefficients\n",
    "    return np.array([a0,a1])\n",
    "\n",
    "#Line function adjusting the data set\n",
    "def Line(a0,a1,x):\n",
    "    return a0+a1*x\n",
    "\n",
    "#========================================================\n",
    "# Adjusting to a first order polynomial the data set v \n",
    "#========================================================\n",
    "#Setting figure\n",
    "plt.figure( figsize = (8,5) )\n",
    "\n",
    "#Time\n",
    "t = np.array([ 0.,  1.11,  2.22,  3.33,  4.44, 5.55])\n",
    "\n",
    "#Velocities measured for every time t[i]\n",
    "v = np.array([33.10, 21.33, 16.57, -5.04, -11.74, -27.32])\n",
    "\n",
    "#Making data adjust\n",
    "a0, a1 = Linear_least_square( t,v )\n",
    "\n",
    "#Finding error associated to linear approximation\n",
    "E = np.sum([ ( v[i] - Line(a0,a1,t[i]) )**2  for i in range(len(t))])\n",
    "\n",
    "#Plotting solution\n",
    "plt.plot( t, Line(a0,a1,t), \".-\", lw = 3.,color = \"green\",label=\"Lineal adjust\" )\n",
    "plt.plot( t, v, \".\",color = \"blue\", label = \"Data set\" )\n",
    "for i in range(len(t)):\n",
    "    plt.plot(np.array([t[i],t[i]]), np.array([v[i],Line(a0,a1,t[i])]),\"c-\")\n",
    "    \n",
    "#Format of figure\n",
    "plt.xlabel( \"$t(s)$\", fontsize = 18 )\n",
    "plt.ylabel( \"$v(m/s)$\", fontsize = 18 )\n",
    "plt.xlim( (t[0], t[-1]) )\n",
    "plt.ylim( (v[-1], v[0]) )\n",
    "plt.title(\"Linear data adjust with error %f\"%E)\n",
    "plt.legend()\n",
    "plt.grid(1)"
   ]
  },
  {
   "cell_type": "markdown",
   "id": "civil-trail",
   "metadata": {},
   "source": [
    "# Ordinary Least - square method is an analytical method"
   ]
  },
  {
   "cell_type": "markdown",
   "id": "israeli-specific",
   "metadata": {},
   "source": [
    "## How does the computer minimize the residuals?"
   ]
  },
  {
   "cell_type": "markdown",
   "id": "international-modem",
   "metadata": {},
   "source": [
    "But this is not how the functions are fitted to the points. Why?\n",
    "Because when the target function is more complex (4-space and higher 4 dimensions, or for complex systems) it may be incredibly difficult to solve an equation for zero!. Hence we should design a specific algorithm to teach computer that you can get the (global minima) optimal solution in this way. Approximation by using gradient descent may be much faster than trying to solve the problem by hand or using a computer.."
   ]
  },
  {
   "cell_type": "markdown",
   "id": "grateful-celebration",
   "metadata": {},
   "source": [
    "## Fitting using Python\n",
    "scipy.optimize.curve_fit\n",
    "https://docs.scipy.org/doc/scipy/reference/generated/scipy.optimize.curve_fit.html\n",
    "\n",
    "scipy.optimize.curve_fit(func, xdata, ydata, p0=None, method='method')\n",
    "\n",
    "parameters to pass to the function:\n",
    "\n",
    "* func - our guess function\n",
    "* xdata is $x_i$\n",
    "* ydata is $y_i$\n",
    "* p0 - initial guess (here initial guess of $a_0$ & $a_1$)\n",
    "* method: 'lm’, ‘trf’, ‘dogbox’\n",
    "  ('lm'=Levenberg-Marquardt)"
   ]
  },
  {
   "cell_type": "code",
   "execution_count": 5,
   "id": "automotive-software",
   "metadata": {},
   "outputs": [
    {
     "name": "stdout",
     "output_type": "stream",
     "text": [
      "a1=  -10.885971685971686\n",
      "a0=  34.691904761904766\n",
      "[0.82703577 2.77941242]\n"
     ]
    }
   ],
   "source": [
    "def func(x, a1, a0):\n",
    "    return a1 * x + a0\n",
    "\n",
    "#Time\n",
    "t = np.array([ 0.,  1.11,  2.22,  3.33,  4.44, 5.55])\n",
    "#Velocities measured for every time t[i]\n",
    "v = np.array([33.10, 21.33, 16.57, -5.04, -11.74, -27.32])\n",
    "xdata=t\n",
    "ydata=v\n",
    "\n",
    "p0=np.array([1.0,1.0])\n",
    "\n",
    "from scipy.optimize import curve_fit\n",
    "popt, pcov = curve_fit(func, xdata, ydata, p0, method='lm')\n",
    "perr = np.sqrt(np.diag(pcov))\n",
    "print('a1= ',popt[0])\n",
    "print('a0= ',popt[1])\n",
    "print(perr)"
   ]
  },
  {
   "cell_type": "markdown",
   "id": "anticipated-dominant",
   "metadata": {},
   "source": [
    "according to documentation, \n",
    "* popt: optimal values for the parameters so that the sum of the squared residuals of $f(xdata, *popt) - ydata$ is minimized.\n",
    "\n",
    "* pcov: the estimated covariance of popt. The diagonals provide the variance of the parameter estimate. To compute one standard deviation errors on the parameters use $perr = np.sqrt(np.diag(pcov)).$"
   ]
  },
  {
   "cell_type": "code",
   "execution_count": 6,
   "id": "brilliant-sacrifice",
   "metadata": {},
   "outputs": [
    {
     "data": {
      "text/plain": [
       "<matplotlib.legend.Legend at 0x7f3a3a1a4908>"
      ]
     },
     "execution_count": 6,
     "metadata": {},
     "output_type": "execute_result"
    },
    {
     "data": {
      "image/png": "[encoded data removed]",
      "text/plain": [
       "<Figure size 432x288 with 1 Axes>"
      ]
     },
     "metadata": {
      "needs_background": "light"
     },
     "output_type": "display_data"
    }
   ],
   "source": [
    "t_mesh=np.linspace(np.min(t),np.max(t),100)\n",
    "v_fit=popt[0]*t_mesh + popt[1]\n",
    "\n",
    "fig,ax=plt.subplots(1,1)\n",
    "ax.plot(t,v,'sb', label='data')\n",
    "ax.plot(t_mesh,v_fit,'-r', label='fitting LM')\n",
    "\n",
    "ax.set_xlabel('t')\n",
    "ax.set_ylabel('v(t)')\n",
    "ax.legend()"
   ]
  },
  {
   "cell_type": "code",
   "execution_count": 7,
   "id": "hispanic-temple",
   "metadata": {},
   "outputs": [],
   "source": [
    "import numpy as np\n",
    "\n",
    "def mse(actual, pred): \n",
    "    actual, pred = np.array(actual), np.array(pred)\n",
    "    return np.square(np.subtract(actual,pred)).mean()"
   ]
  },
  {
   "cell_type": "markdown",
   "id": "veterinary-farmer",
   "metadata": {},
   "source": [
    "# Data spread or standard error of the regression\n",
    "* The standard error of the regression $S$ provides the absolute measure of the typical distance that the data points fall from the regression line. $S$ is in the units of the dependent variable.\n",
    "\n",
    "* In other words: standard deviation of estimate or spread of data around the regression line\n",
    "\n",
    "\n",
    "<img src=\"imgs/std_regression.png\" width=\"300\" />\n",
    "\n",
    "\n",
    "$$\n",
    "E =  \\sum_{i=1}^{m}[y_i - (a_1 x_i + a_0)]^2 \n",
    "$$\n",
    "\n",
    "$$\n",
    "E = \\sum_{i=1}^{m}[S_i]^2 \n",
    "$$ \n",
    "\n",
    "Standard error of the regression:\n",
    "\n",
    "$$ S_{y/x}= \\sqrt{\\frac{E}{m-2}}$$"
   ]
  },
  {
   "cell_type": "markdown",
   "id": "tribal-conversation",
   "metadata": {},
   "source": [
    "## Machine learning algoritms using linear regression evaluate the \"score\" using so called R-squared $R^2$\n",
    "\n",
    "* R-squared is a statistical measure of the percentage of how close the data are to the fitted regression line. It is also known as the coefficient of determination, or the coefficient of multiple determination for multiple regression.\n",
    "\n",
    "The definition of R-squared is fairly straight-forward; it is the percentage of the response variable variation that is explained by a linear model. Or:\n",
    "\n",
    "R-squared = Explained variation / Total variation\n",
    "\n",
    "R-squared is always between 0 and 100%:\n",
    "\n",
    "    0% indicates that the model explains none of the variability of the response data around its mean.\n",
    "    100% indicates that the model explains all the variability of the response data around its mean.\n",
    "\n",
    "In general, the higher the R-squared, the better the model fits your data. \n",
    "\n",
    "<img src=\"imgs/R2_vs_R2.png\" width=\"600\" />\n",
    "\n",
    "* how do we calculate $R^2$:\n",
    "\n",
    "$$R^2=1 - \\frac{SS_{regression}}{SS_{total}} $$\n",
    "\n",
    "where:\n",
    "\n",
    "$SS_{regression} = $(Sum of the Squares of the regression)\n",
    "\n",
    "$$ \n",
    "SS_{regression}  = \\sum_{i=1}^{m}[y_i - (a_1 x_i + a_0)]^2 = E\n",
    "$$\n",
    "\n",
    "$SS_{total} = $(Total Sum of the Squares)\n",
    "\n",
    "$$ \n",
    "SS_{total}  = \\sum_{i=1}^{m}[y_i - \\bar{y}]^2\n",
    "$$\n",
    "where $\\bar{y}$ its just an average of all the $y's$"
   ]
  },
  {
   "cell_type": "code",
   "execution_count": 8,
   "id": "disturbed-weather",
   "metadata": {},
   "outputs": [
    {
     "name": "stdout",
     "output_type": "stream",
     "text": [
      "R_squared= 0.9774336425333997\n"
     ]
    }
   ],
   "source": [
    "# R2=1−SS_regr/SS_tot\n",
    "SS_regr=E\n",
    "SS_tot=np.sum((v-np.mean(v))**2.0)\n",
    "R_squared = 1.0 - (SS_regr)/(SS_tot) \n",
    "print('R_squared=',R_squared)"
   ]
  },
  {
   "cell_type": "code",
   "execution_count": null,
   "id": "associate-kentucky",
   "metadata": {},
   "outputs": [],
   "source": []
  },
  {
   "cell_type": "markdown",
   "id": "lesbian-graduate",
   "metadata": {},
   "source": [
    "## Full scipy-optimize code for linear regression"
   ]
  },
  {
   "cell_type": "code",
   "execution_count": 12,
   "id": "radical-illness",
   "metadata": {},
   "outputs": [],
   "source": [
    "def func(x, a1, a0):\n",
    "    return a1 * x + a0\n",
    "\n",
    "t = np.array([ 0.,  1.11,  2.22,  3.33,  4.44, 5.55])\n",
    "v = np.array([33.10, 21.33, 16.57, -5.04, -11.74, -27.32])\n",
    "xdata=t\n",
    "ydata=v\n",
    "p0=np.array([1.0,1.0])\n",
    "from scipy.optimize import curve_fit\n",
    "popt, pcov = curve_fit(func, xdata, ydata, p0, method='lm')"
   ]
  },
  {
   "cell_type": "code",
   "execution_count": 14,
   "id": "aboriginal-double",
   "metadata": {},
   "outputs": [
    {
     "name": "stdout",
     "output_type": "stream",
     "text": [
      "Linear regression details:\n",
      "a1 = -10.89 +/- 0.83\n",
      "a0 = 34.69  +/- 2.78\n",
      "R_squared = 0.98\n",
      "MSE = 9.83\n"
     ]
    }
   ],
   "source": [
    "import numpy as np\n",
    "# standard errors S:\n",
    "perr = np.sqrt(np.diag(pcov))\n",
    "\n",
    "# R-squared\n",
    "residuals = ydata- func(xdata, *popt)\n",
    "ss_res = np.sum(residuals**2)\n",
    "ss_tot = np.sum((ydata-np.mean(ydata))**2)\n",
    "R_squared = 1 - (ss_res / ss_tot)\n",
    "\n",
    "# Mean squared error\n",
    "MSE=np.sum(residuals**2)/len(t)\n",
    "\n",
    "print('Linear regression details:')\n",
    "print(f'a1 = {popt[0]:.2f} +/- {perr[0]:.2f}')\n",
    "print(f'a0 = {popt[1]:.2f}  +/- {perr[1]:.2f}')\n",
    "print(f'R_squared = {R_squared:.2f}')\n",
    "print(f'MSE = {MSE:.2f}')\n"
   ]
  },
  {
   "cell_type": "code",
   "execution_count": 11,
   "id": "amino-photograph",
   "metadata": {},
   "outputs": [
    {
     "data": {
      "text/plain": [
       "<matplotlib.legend.Legend at 0x7f3a3c4bdb00>"
      ]
     },
     "execution_count": 11,
     "metadata": {},
     "output_type": "execute_result"
    },
    {
     "data": {
      "image/png": "[encoded data removed]",
      "text/plain": [
       "<Figure size 432x288 with 1 Axes>"
      ]
     },
     "metadata": {
      "needs_background": "light"
     },
     "output_type": "display_data"
    }
   ],
   "source": [
    "t_mesh=np.linspace(np.min(t),np.max(t),100)\n",
    "v_fit=popt[0]*t_mesh + popt[1]\n",
    "\n",
    "fig,ax=plt.subplots(1,1)\n",
    "ax.plot(t,v,'sb', label='data')\n",
    "ax.plot(t_mesh,v_fit,'-r', label='fitting LM')\n",
    "\n",
    "ax.set_xlabel('t')\n",
    "ax.set_ylabel('v(t)')\n",
    "ax.legend()"
   ]
  },
  {
   "cell_type": "code",
   "execution_count": null,
   "id": "protective-scout",
   "metadata": {},
   "outputs": [],
   "source": []
  }
 ],
 "metadata": {
  "kernelspec": {
   "display_name": "Python 3",
   "language": "python",
   "name": "python3"
  },
  "language_info": {
   "codemirror_mode": {
    "name": "ipython",
    "version": 3
   },
   "file_extension": ".py",
   "mimetype": "text/x-python",
   "name": "python",
   "nbconvert_exporter": "python",
   "pygments_lexer": "ipython3",
   "version": "3.7.2"
  }
 },
 "nbformat": 4,
 "nbformat_minor": 5
}
