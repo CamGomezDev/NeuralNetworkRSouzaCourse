{
 "cells": [
  {
   "cell_type": "markdown",
   "id": "working-python",
   "metadata": {},
   "source": [
    "## Modelado de datos con Redes Neuronales class 1"
   ]
  },
  {
   "cell_type": "markdown",
   "id": "national-singapore",
   "metadata": {},
   "source": [
    "## Order of the class\n",
    "* introducion personal\n",
    "* the choice of the language https://poll-maker.com/poll4018248x9e0948dc-127\n",
    "* Semilleros\n",
    "* Exams / exercises and final notes?\n",
    "* Introduction to ML and NN\n",
    "* TF vs Keras (Keras is \"sort of\" part of Tensorflow but one can learn Keras without Tensorflow) Keras (developed originally by one of google employee) - a high level library for building ANNs. TF - a framework that can live on its own. PyTorch - a framework that can live on its own. But in Tensorflow 2.0 Keras is part of Tensorflow and thats why is so great.\n",
    "* recap on Python..."
   ]
  },
  {
   "cell_type": "markdown",
   "id": "acute-encoding",
   "metadata": {},
   "source": [
    "## Motivation\n",
    "* The use of Deep Neural Networks will only grow, and the need for skilled people will grow, too\n",
    "\n",
    "1. data science is a new discipline (Physics, Chemistry, Biology,Math...)\n",
    "2. Machine Learning is a powerfull tool for science problem solutions\n",
    "  * Physics: https://iml-wg.github.io/HEPML-LivingReview/  \n",
    "  * Chemistry, Pharmacy: https://jpjanet.io/publication/janet-2019-designing/\n",
    "  * Biology, Medicine: https://www.ncbi.nlm.nih.gov/pmc/articles/PMC7909418/\n",
    "  * Math: ... all is math!\n",
    "3. if you don't know data science you will be left behind (like a train you missed)\n",
    "<img src=\"imgs/missing_train.jpg\" width=\"300\" />\n",
    "4. we are entering (have entered) new era - you better don't miss that\n",
    "5. new job opportunity for data analysts in any discipline (the world will generate more and more data)\n",
    "<img src=\"imgs/job_trends.png\" width=\"300\" />\n",
    "6. business opportunity\n",
    "  * lot of space for innovations (for those who wants to be businessman we will invite experts in start-ups.)\n",
    "7. research opportunity\n",
    "8. its easier to catch up as soon as possible\n",
    "9. out ouf curiosity\n",
    "<img src=\"imgs/ml_cooking.png\" width=\"300\" />"
   ]
  },
  {
   "cell_type": "markdown",
   "id": "three-computer",
   "metadata": {},
   "source": [
    "## Material to study (apart from many resources in internet):\n",
    "* https://www.amazon.com/Hands-Machine-Learning-Scikit-Learn-TensorFlow/dp/1492032646\n",
    "* https://www.amazon.com/Deep-Learning-Python-Francois-Chollet/dp/1617294438\n",
    "* https://www.amazon.com/Introduction-Machine-Learning-Python-Scientists/dp/1449369413"
   ]
  },
  {
   "cell_type": "markdown",
   "id": "immune-pavilion",
   "metadata": {},
   "source": [
    "## How to learn machine learning\n",
    "* study\n",
    "* do exercices\n",
    "* read documentation\n",
    "* be curious and creative\n",
    "* university gives easily digestible material, reality is dirty os roll your sleeves\n",
    "  and join any Big Data Center project!!!"
   ]
  },
  {
   "cell_type": "markdown",
   "id": "amber-stable",
   "metadata": {},
   "source": [
    "## What is necessary to succesfully solve a problem using machine learning method\n",
    "* knowledge \n",
    "    * basic math, linear algebra! \n",
    "    * regression, gradient descent, convolutions\n",
    "    * types of the methods algorithms\n",
    "    * more than basic knowledge on \n",
    "    * bing updated on the state-of-the-art of machine learning\n",
    "    * knowing limitatin of machine learning algorithms\n",
    "* programming skills\n",
    "* Python (here) and tools\n",
    "    * numpy\n",
    "    * scipy\n",
    "    * pandas\n",
    "    * scikit-learn\n",
    "    * tensorflow/keras\n",
    "* experience!!!!    "
   ]
  },
  {
   "cell_type": "markdown",
   "id": "differential-narrow",
   "metadata": {},
   "source": [
    "## Program of the course"
   ]
  },
  {
   "cell_type": "markdown",
   "id": "scientific-arbitration",
   "metadata": {},
   "source": [
    "\t0. Recap on Python\n",
    "\t\t-Numbers, Strings, Lists\n",
    "        -numpy and Linear algebra\n",
    "        -dictionaries and Pandas\n",
    "\n",
    "    1. Machine learning, main concepts\n",
    "\t\t-supervised learning\n",
    "\t\t-classification problems\n",
    "\t\t-regression problems\n",
    "\t\t-unsupervised learning\n",
    "\n",
    "\t2. Review on ML other methods (other than NN)\n",
    "\t\t-kNN algorithm\n",
    "\t\t-Support Vector Machines\n",
    "        -Decision Trees / Random Forest\n",
    "        -PCA\n",
    "        \n",
    "\t2. Regression\n",
    "        -Least squared method\n",
    "        -linear regression (uni and multivariable)\n",
    "        -gradient descent\n",
    "\t    -logistic regression\n",
    "        - overfitting...\n",
    "\n",
    "\t3. Neural networks\n",
    "\t\t-neurons, weights, bias\n",
    "\t\t-activation functions\n",
    "\t\t-validation, evaluation, metrics\n",
    "\t\t-Convolution\n",
    "\t\t-convolutional neural network\n",
    "        -data augmentation\n",
    "\n",
    "\t4.Tensorflow / Keras - Deep learning\n",
    "\t\t-data flow in the TF\n",
    "\t\t\t*numpy arrays vs. tensors dataset (two options)\n",
    "\t\t\t*data conversion, importation and preparation \n",
    "\t\t\t*formats: TXT, CSV, images, signals (spectroscopy) (pandas), \n",
    "\t\t\t*online dataset\n",
    "\t\t-TF objects and methods\n",
    "\t\t\t*layers\n",
    "\t\t\t*activation functions\n",
    "\t\t\t*model (sequential, compile, fit)\n",
    "\t\t\t*validation, evaluation, prediction, fit\n",
    "\t\t\t*regularization and dropout\n",
    "\t\t-Examples ANN with TF\n",
    "\t\t\t*farenheight to Celsius conversion\n",
    "\t\t\t*handwriting image recognition\n",
    "\t\t\t*do NN with images - first by converting images to csv then to arrays \n",
    "\t\t\t*do NN with images - using TF image generator\n",
    "\t\t\t*classification problems images (convolution)\n",
    "\t\t-Examples CNN with TF\n",
    "\t\t\t*image recognition using CNN\n",
    "        -Autoencoders\n",
    "\t4.Course project\n",
    "    \n",
    "    \n",
    "*time series in Neural Networks    "
   ]
  },
  {
   "cell_type": "markdown",
   "id": "precise-transcription",
   "metadata": {},
   "source": [
    "https://poll-maker.com/poll4018249xd82978ff-127"
   ]
  }
 ],
 "metadata": {
  "kernelspec": {
   "display_name": "Python 3",
   "language": "python",
   "name": "python3"
  },
  "language_info": {
   "codemirror_mode": {
    "name": "ipython",
    "version": 3
   },
   "file_extension": ".py",
   "mimetype": "text/x-python",
   "name": "python",
   "nbconvert_exporter": "python",
   "pygments_lexer": "ipython3",
   "version": "3.7.2"
  }
 },
 "nbformat": 4,
 "nbformat_minor": 5
}
