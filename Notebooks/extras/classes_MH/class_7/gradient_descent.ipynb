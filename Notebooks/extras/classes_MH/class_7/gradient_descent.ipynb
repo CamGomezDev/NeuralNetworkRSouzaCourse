{
 "cells": [
  {
   "cell_type": "markdown",
   "id": "jewish-invalid",
   "metadata": {},
   "source": [
    "## Modelado de datos con Redes Neuronales (Class 7)\n",
    "### **Gradient descent"
   ]
  },
  {
   "cell_type": "markdown",
   "id": "still-wrestling",
   "metadata": {},
   "source": [
    "Last class: \n",
    "* least squares method\n",
    "* loss function MSE\n",
    "* MAE, MAPE, RMSE"
   ]
  },
  {
   "cell_type": "markdown",
   "id": "sized-composer",
   "metadata": {},
   "source": [
    "$$\n",
    "E = E(a_0,a_1) = \\sum_{i=1}^{m}[y_i - f(x_i)]^2 \n",
    "$$\n",
    "\n",
    "$f(x_i)$ is called hypothesis function ($\\theta(x)$)\n",
    "\n",
    "$$\n",
    "E = E(a_0,a_1) = \\sum_{i=1}^{m}[y_i - (a_1 x_i + a_0)]^2 \n",
    "$$\n",
    "where:\n",
    "\n",
    "$$S_i=y_i - (a_1 x_i + a_0)$$\n",
    "are residuals\n",
    "\n",
    "$$\n",
    "E = \\sum_{i=1}^{m}[S_i]^2 \n",
    "$$\n",
    "\n",
    "* the objective is to make the sum of the squares of the residuals to make as small as possible\n",
    "\n",
    "* why is it called ***least squares method***?\n",
    "https://phet.colorado.edu/sims/html/least-squares-regression/latest/least-squares-regression_en.html"
   ]
  },
  {
   "cell_type": "markdown",
   "id": "sacred-superintendent",
   "metadata": {},
   "source": [
    "MSE - loss function\n",
    "$$\n",
    "E = \\frac{1}{m} \\sum_{i=1}^{m}[y_i - (a_1 x_i + a_0)]^2 \n",
    "$$"
   ]
  },
  {
   "cell_type": "markdown",
   "id": "worst-organization",
   "metadata": {},
   "source": [
    "Most commonly written using $J$ ad $\\theta$\n",
    "$$\n",
    "J(\\theta) = \\frac{1}{m} \\sum_{i=1}^{m}[y_i - (\\theta_1 x_i + \\theta_0)]^2 \n",
    "$$"
   ]
  },
  {
   "cell_type": "code",
   "execution_count": 1,
   "id": "inappropriate-techno",
   "metadata": {},
   "outputs": [
    {
     "data": {
      "text/plain": [
       "<matplotlib.legend.Legend at 0x7f7560a54160>"
      ]
     },
     "execution_count": 1,
     "metadata": {},
     "output_type": "execute_result"
    },
    {
     "data": {
      "image/png": "[encoded data removed]",
      "text/plain": [
       "<Figure size 432x288 with 1 Axes>"
      ]
     },
     "metadata": {
      "needs_background": "light"
     },
     "output_type": "display_data"
    }
   ],
   "source": [
    "import numpy as np\n",
    "import matplotlib.pyplot as plt\n",
    "t=np.array([0,1.11, 2.22,3.33, 4.44, 5.55])\n",
    "v=np.array([ 33.10, 21.33, 16.57,-5.04, -11.74, -27.32])\n",
    "fig,ax=plt.subplots(1,1)\n",
    "ax.plot(t,v,'sb', label='data')\n",
    "ax.set_xlabel('t')\n",
    "ax.set_ylabel('v(t)')\n",
    "ax.legend()"
   ]
  },
  {
   "cell_type": "code",
   "execution_count": 2,
   "id": "coastal-proof",
   "metadata": {},
   "outputs": [
    {
     "name": "stdout",
     "output_type": "stream",
     "text": [
      "a1=  -10.885971696284402\n",
      "a0=  34.69190479052255\n",
      "[0.82703577 2.77941242]\n"
     ]
    },
    {
     "data": {
      "text/plain": [
       "<matplotlib.legend.Legend at 0x7f754e4875f8>"
      ]
     },
     "execution_count": 2,
     "metadata": {},
     "output_type": "execute_result"
    },
    {
     "data": {
      "image/png": "[encoded data removed]",
      "text/plain": [
       "<Figure size 432x288 with 1 Axes>"
      ]
     },
     "metadata": {
      "needs_background": "light"
     },
     "output_type": "display_data"
    }
   ],
   "source": [
    "def func(x, a1, a0):\n",
    "    return a1 * x + a0\n",
    "\n",
    "#Time\n",
    "t = np.array([ 0.,  1.11,  2.22,  3.33,  4.44, 5.55])\n",
    "#Velocities measured for every time t[i]\n",
    "v = np.array([33.10, 21.33, 16.57, -5.04, -11.74, -27.32])\n",
    "xdata=t\n",
    "ydata=v\n",
    "\n",
    "p0=np.array([10.0,10.0])\n",
    "from scipy.optimize import curve_fit\n",
    "popt, pcov = curve_fit(func, xdata, ydata, p0, method='lm')\n",
    "perr = np.sqrt(np.diag(pcov))\n",
    "print('a1= ',popt[0])\n",
    "print('a0= ',popt[1])\n",
    "print(perr)\n",
    "\n",
    "t_mesh=np.linspace(np.min(t),np.max(t),100)\n",
    "v_fit=popt[0]*t_mesh + popt[1]\n",
    "\n",
    "fig,ax=plt.subplots(1,1)\n",
    "ax.plot(t,v,'sb', label='data')\n",
    "ax.plot(t_mesh,v_fit,'-r', label='fitting LM')\n",
    "\n",
    "ax.set_xlabel('t')\n",
    "ax.set_ylabel('v(t)')\n",
    "ax.legend()"
   ]
  },
  {
   "cell_type": "markdown",
   "id": "critical-backing",
   "metadata": {},
   "source": [
    "### Finding the coefficients analytically:\n",
    "\n",
    "To analytically minimize the function of 2 variables \n",
    "\n",
    "$$\n",
    "E = \\frac{1}{m} \\sum_{i=1}^{m}[y_i - (a_1 x_i + a_0)]^2 \n",
    "$$\n",
    "\n",
    "it is necessary to set its partial derivatives to zero and simultaneously solve to the resulting equations. But the best procedure for determining best linear approximations is to minimize the sum of the square of the diffences between the y values on the approximating line and the given y values.\n",
    "\n",
    "This is, minimize the next expression with respect to $a_0$ and $a_1$\n",
    "i.e., a minimum to occur. Then, it is needed to take the partial derivatives with respect to $a_0$  and $a_1$ and equating them to zero.\n",
    "\n",
    "\n",
    "$$\n",
    "\\frac{\\partial E}{\\partial a_0} = 0 \\hspace{1cm} \n",
    "\\frac{\\partial E}{\\partial a_1} = 0 \n",
    "$$\n",
    "\n",
    "* its like a system of equations requied to find two unknowns - here $a_0$ and $a_1$\n",
    "\n",
    "Afterwards, \n",
    "\n",
    "$$\n",
    "0= 2\\sum_{i=1}^{m}(y_i -a_1x_i-a_0)(-1) \\hspace{1.5cm} \n",
    "0 = 2\\sum_{i=1}^{m}(y_i -a_1x_i-a_0)(-x_i) \\\\\n",
    "a_0 m + a_1\\sum_{i=1}^{m}x_i = \\sum_{i=1}^{m} y_i \\hspace{1.5cm} a_0\\sum_{i=1}^{m}x_i  + a_1\\sum_{i=1}^{m}x_i^2 = \\sum_{i=1}^{m} x_iy_i \n",
    "$$\n",
    "\n",
    "where the coefficients $a_0$ and $a_1$ can be easily obtained\n",
    "\n",
    "$$\n",
    "a_0 = \\frac{\\sum_{i=1}^{m} x_i^2\\sum_{i=1}^{m}y_i - \\sum_{i=1}^{m} x_iy_i \\sum_{i=1}^{m} x_i }\n",
    "{m\\sum_{i=1}^{m} x_i^2 - \\left(\\sum_{i=1}^{m} x_i\\right)^2} \\hspace{1.5cm}\n",
    "a_1 = \\frac{m\\sum_{i=1}^{m} x_iy_i^2 - \\sum_{i=1}^{m} x_i \\sum_{i=1}^{m} y_i }\n",
    "{m\\sum_{i=1}^{m} x_i^2 - \\left(\\sum_{i=1}^{m} x_i\\right)^2} \n",
    "$$\n",
    "\n",
    "Now, using the error definition one can find the error associated to the approximation made,\n",
    "\n",
    "since the coefficients $a_0$ and $a_1$ are already known. "
   ]
  },
  {
   "cell_type": "code",
   "execution_count": 3,
   "id": "prepared-adelaide",
   "metadata": {},
   "outputs": [],
   "source": [
    "# Finding adjusting parameters \n",
    "def Linear_least_square( x,y ):\n",
    "    \n",
    "    #Finding coefficients \n",
    "    length = len(x)\n",
    "    square_x = np.sum([x[i]**2 for i in range(length)])\n",
    "    sum_xy = np.sum([x[i]*y[i] for i in range(length)])\n",
    "    sum_x = np.sum(x)\n",
    "    sum_y = np.sum(y)\n",
    "    a0 = ( square_x*sum_y - sum_xy*sum_x ) / ( length*square_x  - sum_x**2 )\n",
    "    a1 = ( length*sum_xy - sum_x*sum_y ) / ( length*square_x  - sum_x**2 )\n",
    "    \n",
    "    #Returning a_0 and a_1 coefficients\n",
    "    return np.array([a0,a1])\n",
    "\n",
    "#Line function adjusting the data set\n",
    "def Line(a0,a1,x):\n",
    "    return a0+a1*x"
   ]
  },
  {
   "cell_type": "code",
   "execution_count": 4,
   "id": "fewer-activity",
   "metadata": {},
   "outputs": [
    {
     "data": {
      "text/plain": [
       "<matplotlib.legend.Legend at 0x7f754e3ff860>"
      ]
     },
     "execution_count": 4,
     "metadata": {},
     "output_type": "execute_result"
    },
    {
     "data": {
      "image/png": "[encoded data removed]",
      "text/plain": [
       "<Figure size 432x288 with 1 Axes>"
      ]
     },
     "metadata": {
      "needs_background": "light"
     },
     "output_type": "display_data"
    }
   ],
   "source": [
    "a0, a1 = Linear_least_square( t,v )\n",
    "\n",
    "fig,ax=plt.subplots(1,1)\n",
    "ax.plot(t,v,'sb', label='data')\n",
    "ax.plot(t,Line(a0,a1,t),'-r', label='fitting LM')\n",
    "\n",
    "ax.set_xlabel('t')\n",
    "ax.set_ylabel('v(t)')\n",
    "ax.legend()"
   ]
  },
  {
   "cell_type": "markdown",
   "id": "binding-boards",
   "metadata": {},
   "source": [
    "### Least Squares Method\n",
    "* The analytical way (above) is called ***Ordinary Least Square method***\n",
    "* But there are also numerical versions of ***Least Square Method*** (quite complex) for example Levenberg-Marquardt (LM) actually used by default in the numerical example that was shown earlier\n",
    "\n",
    "https://docs.scipy.org/doc/scipy/reference/generated/scipy.optimize.curve_fit.html"
   ]
  },
  {
   "cell_type": "markdown",
   "id": "assisted-style",
   "metadata": {},
   "source": [
    "### Problems with Least Squares Methods and the solution\n",
    "* the analytical one is very difficult to solve if the funcion target function is more complicated (4-space and higher 4 dimensions, or for complex systems) it may be incredibly difficult to solve an equation for zero!. \n",
    "* LM is very expensive in terms of memory\n",
    "\n",
    "* #### gradient descent is a very good and method commonly used in machine learning algorithms"
   ]
  },
  {
   "cell_type": "markdown",
   "id": "empty-package",
   "metadata": {},
   "source": [
    "## Comparison of most commond optimizaton algorithms\n",
    "* GD  - Gradient descent.\n",
    "* NM  - Newton method.\n",
    "* CG  - Conjugate gradient.\n",
    "* QNM - Quasi-Newton method.\n",
    "* LM  - Levenberg-Marquardt algorithm."
   ]
  },
  {
   "cell_type": "markdown",
   "id": "occupied-wilderness",
   "metadata": {},
   "source": [
    "<table><tr>\n",
    "<td> <img src=\"imgs/performance-comparison.svg\" width=\"500\" /> </td>\n",
    "</tr></table>"
   ]
  },
  {
   "cell_type": "markdown",
   "id": "attempted-category",
   "metadata": {},
   "source": [
    "* For large neural networks that has many parameters, it is recommended to use gradient descent or conjugate gradient, to save memory.\n",
    "\n",
    "* For small neural networks that has very few parameters, alternative is LM algorithm\n",
    "\n",
    "* Training a model is just minimising the loss function, and to minimise you want to move in the negative direction of the derivative. "
   ]
  },
  {
   "cell_type": "markdown",
   "id": "better-hours",
   "metadata": {},
   "source": [
    "# Gradient descent method"
   ]
  },
  {
   "cell_type": "markdown",
   "id": "unavailable-apache",
   "metadata": {},
   "source": [
    "To understand the gradient descent, as an optimization method, you need to recall some math\n",
    "\n",
    "The derivative of a function is positive when the function increases and is negative when the function decreases.\n",
    "\n",
    "\n",
    "$$\\frac{d}{dw}f(w)>0→f(w)↗$$\n",
    "$$\\frac{d}{dw}f(w)<0→f(w)↗$$\n",
    "\n",
    "This is happening because the derivative can be seen as the slope of a function’s plot at a given point."
   ]
  },
  {
   "cell_type": "markdown",
   "id": "boring-watershed",
   "metadata": {},
   "source": [
    "The gradient descent (similarly to other methods mentioned above) wants to minimize the cost function aka error function (MSE)"
   ]
  },
  {
   "cell_type": "markdown",
   "id": "satisfied-swift",
   "metadata": {},
   "source": [
    "$$\n",
    "MSE = \\frac{1}{m} \\sum_{i=1}^{m}[y_i - (a_1 x_i + a_0)]^2 \n",
    "$$\n",
    "\n",
    "in Machine Learning they use $J(\\theta)$ and will be called hypothesis function $$h_{\\theta}(x_i)=\\theta_1 x_i + \\theta_0$$\n",
    "\n",
    "$$\n",
    "MSE = \\frac{1}{m} \\sum_{i=1}^{m}[y_i - (\\theta_1 x_i + \\theta_0)]^2 \n",
    "$$\n",
    "\n",
    "$$\n",
    "J(\\theta_0,\\theta_1) = \\frac{1}{m} \\sum_{i=1}^{m}[y_i - h_{\\theta}(x_i)]^2 \n",
    "$$\n",
    "\n",
    "$$\n",
    "J(\\theta_0,\\theta_1) = \\frac{1}{m} \\sum_{i=1}^{m}[ h_{\\theta}(x_i) - y_i]^2 \n",
    "$$\n",
    "\n",
    "*Im just shifting from the computational Physics to machine learning nomenclature"
   ]
  },
  {
   "cell_type": "markdown",
   "id": "lonely-cosmetic",
   "metadata": {},
   "source": [
    "Notice that the $J(\\theta)$ (MSE) is always positive (since it’s a sum of squared values) and therefore has a known minimum, which is 0 - so it can be minimized using the this method."
   ]
  },
  {
   "cell_type": "markdown",
   "id": "affected-relation",
   "metadata": {},
   "source": [
    "<table><tr>\n",
    "<td> <img src=\"imgs/mse-slope-plot.png\" width=\"300\" /> </td>\n",
    "</tr></table>"
   ]
  },
  {
   "cell_type": "markdown",
   "id": "chemical-kingston",
   "metadata": {},
   "source": [
    "the sign of the slope provides useful information of where the minimum of the function is!!!. We can use the value of the slope (the derivative) to adjust the value of the coefficient w  \n",
    "(i.e.: $\\theta = \\theta - slope$)."
   ]
  },
  {
   "cell_type": "markdown",
   "id": "potential-marsh",
   "metadata": {},
   "source": [
    "### The role of the derivative\n",
    "\n",
    "Gradient descent is an iterative algorithm which we will run many times. On each iteration, we apply the following “update rule” (the := symbol means replace theta with the value computed on the right)\n",
    "\n",
    "We want gradient descent to find $\\theta$s that minimizes the cost function.\n",
    "\n",
    "Let’s take the much simpler function $J(\\theta)=\\theta^2$\n",
    ", and let’s say we want to find the value of $\\theta$ which minimizes $J(\\theta)$\n",
    "\n",
    "Gradient descent starts with a random value of $\\theta$,  let’s start with $\\theta=3$\n",
    "\n",
    "\n",
    "$\\alpha$ is a parameter called the learning rate which we’ll come back to, but for now we’re going to set it to 0.1. The derivative of $J(\\theta)$ is simply $2\\theta$."
   ]
  },
  {
   "cell_type": "markdown",
   "id": "experimental-knife",
   "metadata": {},
   "source": [
    "$$\\theta:=\\theta - \\alpha \\frac{d}{d\\theta}J(\\theta)$$\n",
    "$$\\theta:=3 - 0.1 *  (2*3)$$\n",
    "$$\\theta=2.4$$"
   ]
  },
  {
   "cell_type": "markdown",
   "id": "cathedral-console",
   "metadata": {},
   "source": [
    "<table><tr>\n",
    "<td> <img src=\"imgs/gradientdescenttable.png\" width=\"200\" /> </td>\n",
    "</tr></table>"
   ]
  },
  {
   "cell_type": "markdown",
   "id": "northern-english",
   "metadata": {},
   "source": [
    "<table><tr>\n",
    "<td> <img src=\"imgs/simple2dgradientdescent.png\" width=\"500\" /> </td>\n",
    "</tr></table>\n"
   ]
  },
  {
   "cell_type": "markdown",
   "id": "urban-appointment",
   "metadata": {},
   "source": [
    "## Gradient descent on MSE cost function.\n",
    "\n",
    "Taking the derivative of this equation is a little more tricky. The key thing to remember is that $x$ and $y$ are not variables for the sake of the derivative. Rather, they represent a large set of constants (your training set). So when taking the derivative of the cost function, we’ll treat $x$ and $y$ like we would any other constant.\n",
    "\n",
    "Once again, our hypothesis function for linear regression is the following:\n",
    "$$h_{\\theta}(x)=\\theta_1 x + \\theta_0$$\n",
    "\n",
    "In the previous example we had just one parameter (just to make things simple), but in the MSE we have two parameters:\n"
   ]
  },
  {
   "cell_type": "markdown",
   "id": "quality-collaboration",
   "metadata": {},
   "source": [
    "# One more small modification of the MSE\n",
    "\n",
    "In machine learning they use so called \"One Half Mean Squared Error\" but it doesnt change much, look:  \n",
    "from this\n",
    "$$\n",
    "J(\\theta_0,\\theta_1) = \\frac{1}{m} \\sum_{i=1}^{m}[ h_{\\theta}(x_i) - y_i]^2 \n",
    "$$\n",
    "\n",
    "to this  \n",
    "\n",
    "$$\n",
    "J(\\theta_0,\\theta_1) = \\frac{1}{2m} \\sum_{i=1}^{m}[ h_{\\theta}(x_i) - y_i]^2 \n",
    "$$\n",
    "\n",
    "Why? Because taking the derivative of the function $[]^2$ will simplify with $\\frac{1}{2m}$ giving $\\frac{1}{m}$"
   ]
  },
  {
   "cell_type": "markdown",
   "id": "stable-letters",
   "metadata": {},
   "source": [
    "<table><tr>\n",
    "<td> <img src=\"imgs/GradientDescentOfMSETable.png\" width=\"400\" /> </td>\n",
    "</tr></table>"
   ]
  },
  {
   "cell_type": "markdown",
   "id": "temporal-asbestos",
   "metadata": {},
   "source": [
    "* Check by yourself at home that the derivatives with respect to $\\theta_1$ and $\\theta_0$ of this cost function $J(\\theta_0,\\theta_1)$ give those results!\n",
    "* but the important part is this:\n",
    "\n",
    "$$\\theta_0:=\\theta_0 - \\alpha \\frac{d}{d\\theta_0}J(\\theta_0,\\theta_1)$$\n",
    "$$\\theta_1:=\\theta_1 - \\alpha \\frac{d}{d\\theta_1}J(\\theta_0,\\theta_1)$$\n",
    "\n",
    "finally:\n",
    "\n",
    "$$\\theta_0:=\\theta_0 - \\alpha \\frac{1}{m} \\sum_{i=1}^{m}[ h_{\\theta}(x_i) - y_i]$$\n",
    "$$\\theta_1:=\\theta_1 - \\alpha \\frac{1}{m} \\sum_{i=1}^{m}([ h_{\\theta}(x_i) - y_i]*x_i)$$\n",
    "\n",
    "## *it is important to know that $\\theta_0$ and $\\theta_1$ must be updated simultaneously!!!\n"
   ]
  },
  {
   "cell_type": "markdown",
   "id": "distinguished-australia",
   "metadata": {},
   "source": [
    "### Numerical implementation of the above code:\n",
    "* initialize thetas\n",
    "\n",
    "* calculate the hypothesis: hx=theta_1*x + theta_0\n",
    "\n",
    "* d_theta_0 = $-\\frac{1}{m} \\sum_{i=1}^{m}[ y_i - hx]$\n",
    "* d_theta_1 = $-\\frac{1}{m} \\sum_{i=1}^{m}([ y_i - hx]*x_i)$\n",
    "\n",
    "- remember that the x and y are vectors of data\n",
    "- the above in python is simple the sum is done by: sum(y-hx) as they are vectors\n",
    "\n",
    "then  \n",
    "* theta_0 = theta_0 - $\\alpha$*d_theta_0\n",
    "* theta_1 = theta_1 - $\\alpha$*d_theta_1\n",
    "\n",
    "* and update the hypothesis with the new values\n",
    "* iterative process, lets say 100 times"
   ]
  },
  {
   "cell_type": "markdown",
   "id": "wrapped-harris",
   "metadata": {},
   "source": [
    "# Homework\n",
    "Realize numerically gradient descent method on the \"data.csv\"\n",
    "which represent some linear regression problem (fitting)  \n",
    "\n",
    "Use following parameters:\n",
    "\n",
    "    theta_1 = 10     # initial values of   \n",
    "    theta_0 = 10     # y=theta_1*x + theta_0  \n",
    "    alpha = 0.0001   # The learning Rate  \n",
    "    epochs = 100     # The number of iterations  \n",
    "    \n",
    "After finding the optimal $\\theta_0$ and $\\theta_1$ that minimized the MSE function make four plots (on an array... using plt.subplots(2,2))\n",
    "\n",
    "* plot 1 the final fitting line to the data and compare it with the scipy.optimize (lm) build-in function\n",
    "* plot 2 time evolution of MSE vs number of iterations\n",
    "* plot 3 time evolution of MAE vs number of iterations\n",
    "* plot 4 time evolution of MAPE vs number of iterations\n",
    "\n",
    "\n",
    "\n",
    "to store results of for example MAPE, you can   \n",
    "create empty list: MAPE=[]  \n",
    "then inside a loop: MAPE.append(calculated mape)\n",
    "\n",
    "* play with $\\alpha$ to see how the learning rate affects the optimization \n",
    "* intenta alpha=0.0007"
   ]
  },
  {
   "cell_type": "markdown",
   "id": "weird-postcard",
   "metadata": {},
   "source": [
    "# Simpler implementation of the LSM analytical solution "
   ]
  },
  {
   "cell_type": "code",
   "execution_count": 9,
   "id": "ethical-reynolds",
   "metadata": {},
   "outputs": [
    {
     "name": "stdout",
     "output_type": "stream",
     "text": [
      "1.2873573700109395 9.90860619032614\n"
     ]
    },
    {
     "data": {
      "image/png": "[encoded data removed]",
      "text/plain": [
       "<Figure size 360x216 with 1 Axes>"
      ]
     },
     "metadata": {
      "needs_background": "light"
     },
     "output_type": "display_data"
    }
   ],
   "source": [
    "# Making the imports\n",
    "import numpy as np\n",
    "import pandas as pd\n",
    "import matplotlib.pyplot as plt\n",
    "import time\n",
    "plt.rcParams['figure.figsize'] = (12.0, 9.0)\n",
    "\n",
    "# Preprocessing Input data\n",
    "data = pd.read_csv('data.csv')\n",
    "X = data.iloc[:, 0]\n",
    "Y = data.iloc[:, 1]\n",
    "\n",
    "theta1=(np.mean(X*Y) - np.mean(X)*np.mean(Y) )/ (np.mean(X**2) - np.mean(X)**2)\n",
    "theta0= np.mean(Y) - theta_1*np.mean(X)\n",
    "\n",
    "print(theta1,theta0)\n",
    "\n",
    "\n",
    "X_fit=np.linspace(np.min(X),np.max(X),100)\n",
    "Y_fit=theta_1*X_fit + theta_0\n",
    "\n",
    "fig,ax=plt.subplots(1,1,figsize=(5,3))\n",
    "ax.plot(X,Y,'sb', label='data')\n",
    "ax.plot(X_fit,Y_fit,'-r', label='fitting LM')\n",
    "\n",
    "ax.set_xlabel('t')\n",
    "ax.set_ylabel('v(t)')\n",
    "ax.legend()\n",
    "plt.pause(10)"
   ]
  },
  {
   "cell_type": "code",
   "execution_count": null,
   "id": "referenced-sailing",
   "metadata": {},
   "outputs": [],
   "source": []
  }
 ],
 "metadata": {
  "kernelspec": {
   "display_name": "Python 3",
   "language": "python",
   "name": "python3"
  },
  "language_info": {
   "codemirror_mode": {
    "name": "ipython",
    "version": 3
   },
   "file_extension": ".py",
   "mimetype": "text/x-python",
   "name": "python",
   "nbconvert_exporter": "python",
   "pygments_lexer": "ipython3",
   "version": "3.7.2"
  }
 },
 "nbformat": 4,
 "nbformat_minor": 5
}
