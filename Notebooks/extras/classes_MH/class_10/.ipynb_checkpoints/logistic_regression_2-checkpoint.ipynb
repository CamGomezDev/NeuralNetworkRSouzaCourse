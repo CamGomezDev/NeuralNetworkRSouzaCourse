{
 "cells": [
  {
   "cell_type": "markdown",
   "id": "intermediate-devil",
   "metadata": {},
   "source": [
    "## Modelado de datos con Redes Neuronales (Class 10)\n",
    "### Topic: Logistic regression - continuation"
   ]
  },
  {
   "cell_type": "markdown",
   "id": "divine-oriental",
   "metadata": {},
   "source": [
    "## Order of the class:\n",
    "* welcome back after the holiday\n",
    "* new resolution for 2022\n",
    "* homeworks and git-hub update \n",
    "https://github.com/mhemmg/NeuralNetworkRSouzaCourse/tree/master/Notebooks/extras/HomeworksSubmissions\n",
    "  * good job!! some of you\n",
    "  * time until the end of the week to upload homework 4 (only, the rest is closed)\n",
    "  * unless someone can prove that did sent me old homeworks by mail \n",
    "* visiting guest (git again..)\n",
    "* what we have done so far"
   ]
  },
  {
   "cell_type": "markdown",
   "id": "cultural-covering",
   "metadata": {},
   "source": [
    "### Dictionary:\n",
    "* resolution: resolucion\n",
    "  * resolution of an image\n",
    "  * a promise to yourself to do or to not do something\n",
    "  * decision of a groupd of people\n",
    "* malignant/benign: maligno/benigno \n",
    "* cancer/tumor\n",
    "* keep doing/asking/working : sigue haciendo, preguntandose/trabajando\n",
    "* switch on/off: prender y apagar\n",
    "\n",
    "* to turn\n",
    "  * change direction: cambiar direcion\n",
    "  * change one thing into another: cambiar una cosa a otra"
   ]
  },
  {
   "cell_type": "markdown",
   "id": "hungarian-demand",
   "metadata": {},
   "source": [
    "### What we can do so far\n",
    "* we have general idea about machine learning\n",
    "* we know how to program in Python\n",
    "* we know how to work with the data\n",
    "  * how to manipulate and display the data from CSV, dictionary, internet link, MAT file\n",
    "* we know how the linear regression works\n",
    "  * how fitting works\n",
    "  * what is loss function (error function)\n",
    "  * we know what it means to minimize loss function\n",
    "  * what is least square method, curve-fit\n",
    "  * we know how gradient descent work - you can even write your own code!\n",
    "  * we know the metrics MSE, MAE, MAPE, RMSE, R2\n",
    "  * we know how to use the uni and multivariate regression using scikit-learn\n",
    "* logistic regression."
   ]
  },
  {
   "cell_type": "markdown",
   "id": "athletic-batman",
   "metadata": {},
   "source": [
    "# But why do we learn all those things if we want to work with Neural Network...? Lets review the above again and argue if they are necessary"
   ]
  },
  {
   "cell_type": "markdown",
   "id": "indie-growing",
   "metadata": {},
   "source": [
    "#### Repeated advice\n",
    "* close the computer\n",
    "* walk around the room and ask yourself: do I understand:\n",
    "  * eg do I understand the linear regression?\n",
    "  * do I understand why I need all this things?\n",
    "  * after todays class as yourself if I understand Logistic regression\n",
    "  * if not, why??? what doesnt make sense???\n",
    "  \n",
    "Why are we doing the logistic regression if the course is about Neural Networks? (keep asking yourself important questions) and be honest with yourself\n",
    "\n",
    "You are right not to understand those things, nothing is obvious about machine learning\n",
    "\n",
    "* ask yourself after the todays class what does \"hypothesis\" mean? "
   ]
  },
  {
   "cell_type": "markdown",
   "id": "supposed-preliminary",
   "metadata": {},
   "source": [
    "## Classification problem and logistic regression (supervised learning)\n",
    "\n",
    "* You can look at this problem from many different angles and in different order so lets try it one way."
   ]
  },
  {
   "cell_type": "markdown",
   "id": "pretty-result",
   "metadata": {},
   "source": [
    "***The logistic regression turns values into probabilities.***\n",
    "and those probabilites will be used in the Neural Networks (remember the activation function in the simple NN? can be sigmoid...)\n",
    "\n",
    "<img src=\"imgs/NN_sigmoid.jpg\" width=\"800\" /> \n",
    "\n",
    "To see this we can take a look at simple classification examples.\n",
    "\n",
    "* Classification problem: cancer malignant/benign, spam/no-spam (supervised learning)\n",
    "\n",
    "* Multi-class classification problem: fruits classification, handwritten digits classification...\n",
    "\n",
    "* Logistic regression \"switches on/off\" the neurons in the Neural Network..."
   ]
  },
  {
   "cell_type": "markdown",
   "id": "proof-elephant",
   "metadata": {},
   "source": [
    "# 1D problem, tumor classification based on one feature (radius of the tumor)"
   ]
  },
  {
   "cell_type": "markdown",
   "id": "indonesian-expense",
   "metadata": {},
   "source": [
    "Lets imagine that a doctor has to give a diagnosis of patient that has s tumor. For simplicity assume that he takes into account only the size (radius of the tumor). He has the data from different patients and the diagnosis depending of the size of the tumor. "
   ]
  },
  {
   "cell_type": "markdown",
   "id": "finite-teacher",
   "metadata": {},
   "source": [
    "<img src=\"imgs/logistic_52.png\" width=\"500\" /> "
   ]
  },
  {
   "cell_type": "markdown",
   "id": "coordinated-cookbook",
   "metadata": {},
   "source": [
    "If he tried linear regression like on the left side of the image the hypothesis would be as before:\n",
    "* linear regression hypothesis $h_{\\theta}(x)=\\theta_0+\\theta_1x$ - which is a straight line\n",
    "\n",
    "But the tumor belongs to only two classes (here 0: benign, 1: malignant) with a probability of the tumor to be let say malignant between 0 and 1. So the hypothesis of the linear regression would violate allowed range of the probabilty and could surpass value 1.\n",
    "\n",
    "What the doctor really wants is hypothesis that would lie within a range between $ 0 \\leq h_{\\theta}(x) \\leq 1$\n",
    "\n",
    "In other words the diagnosis should depend on two conditions:\n",
    "\n",
    "* if $h_{\\theta}(x) \\geq 0.5$ predict 1 (malignant cancer)\n",
    "* if $h_{\\theta}(x) < 0.5$ predict 0 (benign cancer)\n",
    "\n",
    "How to construct such hypothesis?"
   ]
  },
  {
   "cell_type": "markdown",
   "id": "taken-prairie",
   "metadata": {},
   "source": [
    "### Logistic regression\n",
    "The answer is Logistic regression. Book definition: Logistic regression is a predictive linear model that aims to explain the relationship between a dependent binary variable and one or more independent variables. The output of Logistic Regression is a number between 0 and 1 which you can think about as being the probability that a given class is true or not. \n",
    "\n",
    "The output is between 0 and 1 is because the output is transformed by a function which usually is the logistic sigmoid function.\n",
    "\n",
    "***The logistic regression turns values into probabilities.***\n",
    "\n",
    "The formula for Logistic Regression, is the following\n",
    "\n",
    "$$g(z)=\\frac{1}{1+e^{-(z)}}$$\n",
    "where $z$ can be a function\n",
    "(quite meaningless if we dont see any example)\n",
    "\n",
    "for a simple one feature (x) case, is the following:\n",
    "\n",
    "$$g(\\theta_0+\\theta_1 x)=\\frac{1}{1+e^{-(\\theta_0+\\theta_1 x)}}$$\n",
    "\n",
    "* g($\\theta_0+\\theta_1 x$)  = is an ouput between 0 and 1\n",
    "* x = feature\n",
    "* $\\theta_0$,$\\theta_1$ are learned parameters\n",
    "\n",
    "In Logistic Regression, our goal is to learn parameters $\\theta_0$ and $\\theta_1$, similar to Linear Regression. The difference being that for a given x, the resulting ($\\theta_0+\\theta_1 x$) is then changed by the sigmoid function returning a number between 0 and 1.\n",
    "\n",
    "more general \n",
    "$$g(\\theta^T X)=\\frac{1}{1+e^{-(\\theta^T X)}}*$$\n",
    "\n",
    "as we rememeber from the previous class that \n",
    "$h_{\\theta}(x)=\\theta^T X $ comes from the matrix multiplication between vector of parameters and features\n",
    "\n",
    "$$ \\theta =\n",
    "\\begin{bmatrix}\n",
    "\\theta_{0} \\\\\n",
    "\\theta_{1} \\\\\n",
    "\\theta_{2} \\\\\n",
    "\\vdots\\\\\n",
    "\\theta_{n}\n",
    "\\end{bmatrix}\n",
    "$$\n",
    "\n",
    "$$ X=\n",
    "\\begin{bmatrix}\n",
    "1 \\\\\n",
    "x_{1} \\\\\n",
    "x_{2} \\\\\n",
    "\\vdots\\\\\n",
    "x_{n}\n",
    "\\end{bmatrix}\n",
    "$$\n",
    "\n",
    "If $x_0=1$ then we can rewrite this as a matrix - matrix multiplication (if we do the transpose of the first matrix)\n"
   ]
  },
  {
   "cell_type": "markdown",
   "id": "early-receiver",
   "metadata": {},
   "source": [
    "<img src=\"imgs/logistic_52.png\" width=\"500\" /> "
   ]
  },
  {
   "cell_type": "markdown",
   "id": "later-techno",
   "metadata": {},
   "source": [
    "Sigmoid \n",
    "<img src=\"imgs/logistic_4.png\" width=\"300\" /> "
   ]
  },
  {
   "cell_type": "markdown",
   "id": "unable-tennis",
   "metadata": {},
   "source": [
    "## Hypothesis for logistic regression\n",
    "Hence the hypothesis is:\n",
    "\n",
    "$$h_{\\theta}(x)=g(\\theta^Tx)$$\n",
    "\n",
    "$$g(z)=\\frac{1}{1+e^{-(z)}}$$\n",
    "\n",
    "so for one feature case like the tumor cancer classification based on its radius: \n",
    " \n",
    "$$h_{\\theta}(x)=\\frac{1}{1+e^{-(\\theta_0+\\theta_1 x)}}$$\n",
    "\n",
    "* if $h_{\\theta}(x) \\geq 0.5$ predict 1\n",
    "* if $h_{\\theta}(x) < 0.5$ predict 0\n",
    "\n",
    "note that:\n",
    "\n",
    "* $h_{\\theta}(x) = 0.5$ ***if*** ($\\theta_0+\\theta_1 x) = 0$... why? substitute and check by yourself\n",
    "* $h_{\\theta}(x) \\geq 0.5$ ***if*** ($\\theta_0+\\theta_1 x) \\geq 0$\n",
    "* $h_{\\theta}(x) < 0.5$ ***if*** ($\\theta_0+\\theta_1 x) < 0$\n",
    "\n",
    "more generarly:\n",
    "\n",
    "* $h_{\\theta}(x) = 0.5$ ***if*** ($\\theta^T X) = 0$\n",
    "* $h_{\\theta}(x) \\geq 0.5$ ***if*** ($\\theta^T X) \\geq 0$\n",
    "* $h_{\\theta}(x) < 0.5$ ***if*** ($\\theta^T X) < 0$"
   ]
  },
  {
   "cell_type": "markdown",
   "id": "worthy-cross",
   "metadata": {},
   "source": [
    "### Simple example tumor classification based on one feature (radius)\n",
    "\n",
    "https://scikit-learn.org/stable/modules/generated/sklearn.datasets.load_breast_cancer.html"
   ]
  },
  {
   "cell_type": "code",
   "execution_count": 1,
   "id": "governmental-draft",
   "metadata": {},
   "outputs": [],
   "source": [
    "### Simple example - one feature one binary output\n",
    "import numpy as np\n",
    "import pandas as pd\n",
    "from sklearn.model_selection import train_test_split\n",
    "from sklearn.datasets import load_breast_cancer"
   ]
  },
  {
   "cell_type": "code",
   "execution_count": 2,
   "id": "difficult-trash",
   "metadata": {},
   "outputs": [],
   "source": [
    "bc = load_breast_cancer()"
   ]
  },
  {
   "cell_type": "code",
   "execution_count": 3,
   "id": "separated-sunday",
   "metadata": {},
   "outputs": [
    {
     "data": {
      "text/plain": [
       "dict_keys(['data', 'target', 'frame', 'target_names', 'DESCR', 'feature_names', 'filename'])"
      ]
     },
     "execution_count": 3,
     "metadata": {},
     "output_type": "execute_result"
    }
   ],
   "source": [
    "bc.keys()"
   ]
  },
  {
   "cell_type": "code",
   "execution_count": 4,
   "id": "responsible-input",
   "metadata": {},
   "outputs": [],
   "source": [
    "#print(bc.DESCR)\n",
    "#print(bc.target)\n",
    "X_data=bc.data\n",
    "y_data=bc.target"
   ]
  },
  {
   "cell_type": "code",
   "execution_count": 5,
   "id": "choice-filing",
   "metadata": {},
   "outputs": [
    {
     "data": {
      "text/plain": [
       "(569, 30)"
      ]
     },
     "execution_count": 5,
     "metadata": {},
     "output_type": "execute_result"
    }
   ],
   "source": [
    "X_data.shape"
   ]
  },
  {
   "cell_type": "code",
   "execution_count": 6,
   "id": "sonic-execution",
   "metadata": {},
   "outputs": [],
   "source": [
    "X_data = X_data[:,0]\n",
    "X_data = X_data.reshape(-1,1)"
   ]
  },
  {
   "cell_type": "code",
   "execution_count": 7,
   "id": "comfortable-march",
   "metadata": {},
   "outputs": [
    {
     "name": "stdout",
     "output_type": "stream",
     "text": [
      "[[17.99]\n",
      " [20.57]\n",
      " [19.69]\n",
      " [11.42]\n",
      " [20.29]\n",
      " [12.45]\n",
      " [18.25]\n",
      " [13.71]\n",
      " [13.  ]\n",
      " [12.46]]\n",
      "[0 0 0 0 0 0 0 0 0 0]\n"
     ]
    }
   ],
   "source": [
    "print(X_data[0:10])\n",
    "print(y_data[0:10])"
   ]
  },
  {
   "cell_type": "code",
   "execution_count": 8,
   "id": "chronic-arnold",
   "metadata": {},
   "outputs": [
    {
     "data": {
      "image/png": "[encoded data removed]",
      "text/plain": [
       "<Figure size 432x288 with 1 Axes>"
      ]
     },
     "metadata": {
      "needs_background": "light"
     },
     "output_type": "display_data"
    }
   ],
   "source": [
    "import matplotlib.pyplot as plt\n",
    "import numpy as np\n",
    "fig,ax=plt.subplots(1,1)\n",
    "ax.plot(X_data,y_data,'.r')\n",
    "ax.set_title(\"Tumor classification\")\n",
    "ax.set_xlabel('Size (Radius)')\n",
    "ax.set_ylabel('Status (1:Benign, 0:Malignant)')\n",
    "ax.grid(True)"
   ]
  },
  {
   "cell_type": "markdown",
   "id": "fluid-mounting",
   "metadata": {},
   "source": [
    "On the X-axis you see the size of the tumor (radius) that was measuered and on the Y-axis you see the tumor status. Our goal is to use Logistic Regression to come up with a model that generates the probability of tumor being malignant (0) or benign from any size.\n",
    "Note that it depends on who and how labeled the data to get malignant=0"
   ]
  },
  {
   "cell_type": "markdown",
   "id": "blocked-collaboration",
   "metadata": {},
   "source": [
    "## Implementing the logistic regression using scikit-learn"
   ]
  },
  {
   "cell_type": "code",
   "execution_count": 9,
   "id": "legitimate-block",
   "metadata": {},
   "outputs": [],
   "source": [
    "from sklearn.model_selection import train_test_split\n",
    "X_train, X_test, y_train, y_test = train_test_split(X_data, y_data,test_size = 0.2)"
   ]
  },
  {
   "cell_type": "code",
   "execution_count": 10,
   "id": "treated-roots",
   "metadata": {},
   "outputs": [
    {
     "data": {
      "text/plain": [
       "LogisticRegression()"
      ]
     },
     "execution_count": 10,
     "metadata": {},
     "output_type": "execute_result"
    }
   ],
   "source": [
    "from sklearn.linear_model import LogisticRegression\n",
    "logreg = LogisticRegression()\n",
    "logreg.fit(X_train, y_train)"
   ]
  },
  {
   "cell_type": "code",
   "execution_count": 11,
   "id": "veterinary-marketing",
   "metadata": {},
   "outputs": [
    {
     "data": {
      "text/plain": [
       "0.8703296703296703"
      ]
     },
     "execution_count": 11,
     "metadata": {},
     "output_type": "execute_result"
    }
   ],
   "source": [
    "logreg.score(X_train, y_train)"
   ]
  },
  {
   "cell_type": "code",
   "execution_count": 12,
   "id": "informational-complex",
   "metadata": {},
   "outputs": [
    {
     "data": {
      "text/plain": [
       "0.9210526315789473"
      ]
     },
     "execution_count": 12,
     "metadata": {},
     "output_type": "execute_result"
    }
   ],
   "source": [
    "logreg.score(X_test, y_test)"
   ]
  },
  {
   "cell_type": "code",
   "execution_count": 13,
   "id": "opened-prayer",
   "metadata": {},
   "outputs": [
    {
     "name": "stdout",
     "output_type": "stream",
     "text": [
      "Accuracy of Logistic regression classifier on training set: 0.87\n",
      "Accuracy of Logistic regression classifier on test set: 0.92\n"
     ]
    }
   ],
   "source": [
    "print(f'Accuracy of Logistic regression classifier on training set: {logreg.score(X_train, y_train):.2f}')\n",
    "print(f'Accuracy of Logistic regression classifier on test set: {logreg.score(X_test, y_test):.2f}')"
   ]
  },
  {
   "cell_type": "code",
   "execution_count": 14,
   "id": "technical-charter",
   "metadata": {},
   "outputs": [
    {
     "data": {
      "text/plain": [
       "array([0.99259224, 0.00740776])"
      ]
     },
     "execution_count": 14,
     "metadata": {},
     "output_type": "execute_result"
    }
   ],
   "source": [
    "logreg.predict_proba([[20]])[0]"
   ]
  },
  {
   "cell_type": "code",
   "execution_count": 15,
   "id": "funded-conclusion",
   "metadata": {},
   "outputs": [
    {
     "name": "stdout",
     "output_type": "stream",
     "text": [
      "0.9925922422891125 0.00740775771088755\n"
     ]
    }
   ],
   "source": [
    "p_malignant, p_benign = logreg.predict_proba([[20]])[0] # note double bracket!!\n",
    "print(p_malignant, p_benign)"
   ]
  },
  {
   "cell_type": "code",
   "execution_count": 16,
   "id": "internal-insulin",
   "metadata": {},
   "outputs": [],
   "source": [
    "sizes = np.linspace(1, 30, 100)\n",
    "probabilities= []\n",
    "for i in sizes:\n",
    "    p_loss, p_win = logreg.predict_proba([[i]])[0]\n",
    "    probabilities.append(p_win)"
   ]
  },
  {
   "cell_type": "code",
   "execution_count": 17,
   "id": "premium-specialist",
   "metadata": {},
   "outputs": [
    {
     "data": {
      "text/plain": [
       "Text(0, 0.5, 'Status (1:Benign, 0:Malignant)')"
      ]
     },
     "execution_count": 17,
     "metadata": {},
     "output_type": "execute_result"
    },
    {
     "data": {
      "image/png": "[encoded data removed]",
      "text/plain": [
       "<Figure size 432x288 with 1 Axes>"
      ]
     },
     "metadata": {
      "needs_background": "light"
     },
     "output_type": "display_data"
    }
   ],
   "source": [
    "import matplotlib.pyplot as plt\n",
    "fig,ax=plt.subplots(1,1)\n",
    "ax.scatter(sizes,probabilities)\n",
    "ax.plot(X_data,y_data,'.r')\n",
    "ax.set_xlabel('Size (Radius)')\n",
    "ax.set_ylabel('Status (1:Benign, 0:Malignant)')"
   ]
  },
  {
   "cell_type": "markdown",
   "id": "remarkable-casino",
   "metadata": {},
   "source": [
    "#### In the above problem we performed a fitting to data using the logistic function (Sigmoid function) We turned data into probability"
   ]
  },
  {
   "cell_type": "markdown",
   "id": "developed-message",
   "metadata": {},
   "source": [
    "# Lets get a bit deeper with logistc regression\n",
    "### 2D problem, decision boundary using logistic regression - two features"
   ]
  },
  {
   "cell_type": "markdown",
   "id": "technological-hollywood",
   "metadata": {},
   "source": [
    "## What does a straight line mean?\n",
    "$$y=ax+b$$\n",
    "$$y=2x+10$$"
   ]
  },
  {
   "cell_type": "code",
   "execution_count": 18,
   "id": "functioning-bicycle",
   "metadata": {},
   "outputs": [
    {
     "data": {
      "image/png": "[encoded data removed]",
      "text/plain": [
       "<Figure size 432x288 with 1 Axes>"
      ]
     },
     "metadata": {
      "needs_background": "light"
     },
     "output_type": "display_data"
    }
   ],
   "source": [
    "import numpy as np\n",
    "x=np.linspace(-10,10,9)\n",
    "y=2*x+10\n",
    "import matplotlib.pyplot as plt\n",
    "fig,ax=plt.subplots(1,1)\n",
    "ax.scatter(x,y,c='r',s=100)\n",
    "ax.set_xlabel('x')\n",
    "ax.set_ylabel('y')\n",
    "ax.grid(True)"
   ]
  },
  {
   "cell_type": "markdown",
   "id": "round-commons",
   "metadata": {},
   "source": [
    "it means that all the points we generate using this equation create a straight line or in other words they satisfy relation between $x$ and $y$ such that:\n",
    "\n",
    "$$y-ax-b=0$$\n",
    "\n",
    "$$y-2x-10=0$$\n",
    "\n",
    "for example this equation is satisfied (equal zero) if:\n",
    "* x=5 and y=20\n",
    "* x=-2.5 and y=5\n",
    "\n",
    "because:"
   ]
  },
  {
   "cell_type": "code",
   "execution_count": 19,
   "id": "psychological-projection",
   "metadata": {},
   "outputs": [
    {
     "name": "stdout",
     "output_type": "stream",
     "text": [
      "0\n",
      "0.0\n"
     ]
    }
   ],
   "source": [
    "print(20-2*5-10)\n",
    "print(5-2*(-2.5)-10)"
   ]
  },
  {
   "cell_type": "markdown",
   "id": "external-launch",
   "metadata": {},
   "source": [
    "but what if there is another point above the line:"
   ]
  },
  {
   "cell_type": "code",
   "execution_count": 20,
   "id": "forty-looking",
   "metadata": {},
   "outputs": [
    {
     "data": {
      "image/png": "[encoded data removed]",
      "text/plain": [
       "<Figure size 432x288 with 1 Axes>"
      ]
     },
     "metadata": {
      "needs_background": "light"
     },
     "output_type": "display_data"
    }
   ],
   "source": [
    "import numpy as np\n",
    "x=np.linspace(-10,10,9)\n",
    "y=2*x+10\n",
    "import matplotlib.pyplot as plt\n",
    "fig,ax=plt.subplots(1,1)\n",
    "ax.scatter(x,y,c='r',s=100)\n",
    "ax.scatter(5,25,c='b',s=100)\n",
    "ax.set_xlabel('x')\n",
    "ax.set_ylabel('y')\n",
    "ax.grid(True)"
   ]
  },
  {
   "cell_type": "markdown",
   "id": "needed-attraction",
   "metadata": {},
   "source": [
    "it means that if x=5 and y=25 then the equation is not satisfied, and in this case >0"
   ]
  },
  {
   "cell_type": "code",
   "execution_count": 21,
   "id": "vital-apache",
   "metadata": {},
   "outputs": [
    {
     "name": "stdout",
     "output_type": "stream",
     "text": [
      "5\n"
     ]
    }
   ],
   "source": [
    "print(25-2*5-10)"
   ]
  },
  {
   "cell_type": "markdown",
   "id": "accompanied-accessory",
   "metadata": {},
   "source": [
    "but what if there is another point below the line:"
   ]
  },
  {
   "cell_type": "code",
   "execution_count": 22,
   "id": "animated-louisiana",
   "metadata": {},
   "outputs": [
    {
     "data": {
      "image/png": "[encoded data removed]",
      "text/plain": [
       "<Figure size 432x288 with 1 Axes>"
      ]
     },
     "metadata": {
      "needs_background": "light"
     },
     "output_type": "display_data"
    }
   ],
   "source": [
    "import numpy as np\n",
    "x=np.linspace(-10,10,9)\n",
    "y=2*x+10\n",
    "import matplotlib.pyplot as plt\n",
    "fig,ax=plt.subplots(1,1)\n",
    "ax.scatter(x,y,c='r',s=100)\n",
    "ax.scatter(5,15,c='g',s=100)\n",
    "ax.set_xlabel('x')\n",
    "ax.set_ylabel('y')\n",
    "ax.grid(True)"
   ]
  },
  {
   "cell_type": "markdown",
   "id": "patent-oklahoma",
   "metadata": {},
   "source": [
    "it means that if x=5 and y=15 then the equation is also not satisfied, and in this case < 0"
   ]
  },
  {
   "cell_type": "code",
   "execution_count": 23,
   "id": "administrative-consumption",
   "metadata": {},
   "outputs": [
    {
     "name": "stdout",
     "output_type": "stream",
     "text": [
      "-5\n"
     ]
    }
   ],
   "source": [
    "print(15-2*5-10)"
   ]
  },
  {
   "cell_type": "markdown",
   "id": "handed-tragedy",
   "metadata": {},
   "source": [
    "## Now lets look at the example data points representing two features $x_1$ and $x_2$:"
   ]
  },
  {
   "cell_type": "markdown",
   "id": "abandoned-surname",
   "metadata": {},
   "source": [
    "<img src=\"imgs/two_groups.png\" width=\"400\" /> \n",
    "\n",
    "I can try to draw a line that separates those two groups of points.\n",
    "\n",
    "<img src=\"imgs/two_groups_boundary.png\" width=\"400\" /> \n",
    "\n",
    "Mathematically speaking:\n",
    "\n",
    "$$\\theta_0 + \\theta_1 x_1 + \\theta_2 x_2 = 0$$\n",
    "\n",
    "The above equation means that all the points lying ON the curve will satisfy the equation.  \n",
    "\n",
    "Or making it look more like a function mentioned before $y-ax-b=0$\n",
    "\n",
    "$$x_2 = -\\theta_1/\\theta_2 x_1 - \\theta_0/\\theta_2$$\n",
    "\n",
    "But what about the points above and below the line?\n",
    "For all other points we can get a value \"z\"\n",
    "\n",
    "$$\\theta_0 + \\theta_1 x_1 + \\theta_2 x_2 = z$$\n",
    "\n",
    "\n",
    "So the positive and negative points of \"z\" mean that they are above and below the line.\n",
    "So z can vary from $-\\infty$ to $\\infty$\n",
    "\n",
    "But basically if the points is in $\\infty$ means that CERTAINLY belongs to one class (above)\n",
    "and if it is $-\\infty$ means that CERTAINLY belongs to one class (below). And if a point lies on the curve is basically 50:50.. can belong to any class.\n",
    "\n",
    "And exactly logistic fuction (Sigmoid) converts those values\n",
    "$-\\infty$ 0 $\\infty$ to probabilities 0:1\n",
    "\n",
    "$$g(\\theta_0 + \\theta_1 x_1 + \\theta_2 x_2)=\\frac{1}{1+e^{-(\\theta_0 + \\theta_1 x_1 + \\theta_2 x_2)}}$$"
   ]
  },
  {
   "cell_type": "markdown",
   "id": "found-cricket",
   "metadata": {},
   "source": [
    "Depending if the points lie on the curve, below or above it we have three different cases:\n",
    "\n",
    "* points lie above the curve ***if*** ($\\theta^T X) \\geq 0$ so $h_{\\theta}(x) \\geq 0.5$ hence points belong to one group\n",
    "* points lie below the curve ***if*** ($\\theta^T X) < 0$ so $h_{\\theta}(x) < 0.5$ hence points belong to different group\n",
    "* points lie on the curve ***if*** ($\\theta^T X) = 0$ so $h_{\\theta}(x) = 0.5$ \n"
   ]
  },
  {
   "cell_type": "markdown",
   "id": "focal-heaven",
   "metadata": {},
   "source": [
    "# Tumor classification based on two features"
   ]
  },
  {
   "cell_type": "code",
   "execution_count": 24,
   "id": "terminal-stupid",
   "metadata": {},
   "outputs": [],
   "source": [
    "X_data=bc.data\n",
    "X_data=X_data[:,0:2]\n",
    "y_data=bc.target"
   ]
  },
  {
   "cell_type": "code",
   "execution_count": 25,
   "id": "cloudy-leone",
   "metadata": {},
   "outputs": [
    {
     "data": {
      "text/plain": [
       "<matplotlib.legend.Legend at 0x7f0f47720c88>"
      ]
     },
     "execution_count": 25,
     "metadata": {},
     "output_type": "execute_result"
    },
    {
     "data": {
      "image/png": "[encoded data removed]",
      "text/plain": [
       "<Figure size 432x288 with 1 Axes>"
      ]
     },
     "metadata": {
      "needs_background": "light"
     },
     "output_type": "display_data"
    }
   ],
   "source": [
    "import matplotlib.pyplot as plt\n",
    "fig,ax = plt.subplots(1,1)\n",
    "scatter=ax.scatter(X_data[:,0], X_data[:,1], c = y_data, marker = 'o', s=100)\n",
    "ax.set_xlabel('radius')\n",
    "ax.set_ylabel('texture')\n",
    "ax.legend(handles=scatter.legend_elements()[0], labels=['malignant','benign'])"
   ]
  },
  {
   "cell_type": "code",
   "execution_count": 26,
   "id": "minus-cache",
   "metadata": {},
   "outputs": [
    {
     "name": "stdout",
     "output_type": "stream",
     "text": [
      "(569, 2)\n",
      "Accuracy of Logistic regression classifier on training set: 0.89\n",
      "Accuracy of Logistic regression classifier on test set: 0.89\n"
     ]
    }
   ],
   "source": [
    "print(X_data.shape)\n",
    "from sklearn.model_selection import train_test_split\n",
    "X_train, X_test, y_train, y_test = train_test_split(X_data, y_data,test_size = 0.2)\n",
    "\n",
    "from sklearn.linear_model import LogisticRegression\n",
    "logreg = LogisticRegression()\n",
    "logreg.fit(X_train, y_train)\n",
    "\n",
    "print(f'Accuracy of Logistic regression classifier on training set: {logreg.score(X_train, y_train):.2f}')\n",
    "print(f'Accuracy of Logistic regression classifier on test set: {logreg.score(X_test, y_test):.2f}')"
   ]
  },
  {
   "cell_type": "code",
   "execution_count": 27,
   "id": "static-wildlife",
   "metadata": {},
   "outputs": [
    {
     "data": {
      "text/plain": [
       "(-5.0, 50.0)"
      ]
     },
     "execution_count": 27,
     "metadata": {},
     "output_type": "execute_result"
    },
    {
     "data": {
      "image/png": "[encoded data removed]",
      "text/plain": [
       "<Figure size 432x288 with 1 Axes>"
      ]
     },
     "metadata": {
      "needs_background": "light"
     },
     "output_type": "display_data"
    }
   ],
   "source": [
    "import matplotlib.pyplot as plt\n",
    "fig,ax = plt.subplots(1,1)\n",
    "scatter=ax.scatter(X_data[:,0], X_data[:,1], c = y_data, marker = 'o', s=100)\n",
    "ax.legend(handles=scatter.legend_elements()[0], labels=['malignant','benign'])\n",
    "ax.set_xlabel('radius')\n",
    "ax.set_ylabel('texture')\n",
    "\n",
    "import numpy as np\n",
    "# Retrieve the model parameters\n",
    "theta0 = logreg.intercept_[0]\n",
    "theta1, theta2 = logreg.coef_.T\n",
    "# Calculate the intercept and gradient of the decision boundary.\n",
    "c = -theta0/theta2\n",
    "m = -theta1/theta2\n",
    "# Plot the data and the classification with the decision boundary.\n",
    "xmin, xmax = 11, 18\n",
    "#ymin, ymax = 20, 10\n",
    "xd = np.linspace(xmin, xmax,10)\n",
    "yd = m*xd + c\n",
    "ax.plot(xd, yd, 'b', lw=2, ls='-')\n",
    "ax.grid(True)\n",
    "ax.set_ylim(-5,50)"
   ]
  },
  {
   "cell_type": "markdown",
   "id": "considerable-going",
   "metadata": {},
   "source": [
    "Having found the boundary (hypothesis) between the two group of features (radius and texture) we can now predict if a tumor is malignant or benign for any of its size and texture"
   ]
  },
  {
   "cell_type": "code",
   "execution_count": 28,
   "id": "subtle-modification",
   "metadata": {},
   "outputs": [
    {
     "name": "stdout",
     "output_type": "stream",
     "text": [
      "0.3308770095782566 0.6691229904217434\n"
     ]
    }
   ],
   "source": [
    "p_malignant, p_benign = logreg.predict_proba([[15,15]])[0]\n",
    "print(p_malignant, p_benign)"
   ]
  },
  {
   "cell_type": "markdown",
   "id": "innocent-apparel",
   "metadata": {},
   "source": [
    "## Let's look at the probability plot (notice we have two features, so its probably easier to plot P vs P(z))\n",
    "$$g(z)=\\frac{1}{1+e^{-(z)}}$$\n",
    "$$g(\\theta^T X)=\\frac{1}{1+e^{-(\\theta_0 + \\theta_1 x_1 + \\theta_2 x_2)}}$$\n",
    "* arbitrary saying if a tumor is a benign (1) or malign (0)"
   ]
  },
  {
   "cell_type": "code",
   "execution_count": 29,
   "id": "stupid-cattle",
   "metadata": {},
   "outputs": [
    {
     "data": {
      "text/plain": [
       "Text(0, 0.5, 'P(z)')"
      ]
     },
     "execution_count": 29,
     "metadata": {},
     "output_type": "execute_result"
    },
    {
     "data": {
      "image/png": "[encoded data removed]",
      "text/plain": [
       "<Figure size 432x288 with 1 Axes>"
      ]
     },
     "metadata": {
      "needs_background": "light"
     },
     "output_type": "display_data"
    }
   ],
   "source": [
    "import matplotlib.pyplot as plt\n",
    "fig,ax = plt.subplots(1,1)\n",
    "z=theta0 + theta1*X_data[:,0] + theta2*X_data[:,1]\n",
    "scatter=ax.scatter(z,1/(1+np.exp(-z)),c = y_data)\n",
    "ax.legend(handles=scatter.legend_elements()[0], labels=['malign','benign'])\n",
    "ax.set_xlabel('z')\n",
    "ax.set_ylabel('P(z)')"
   ]
  },
  {
   "cell_type": "markdown",
   "id": "russian-faith",
   "metadata": {},
   "source": [
    "### notice looking at both plots:\n",
    "\n",
    "* all points (yellow and dark) which lie close to the boundary line have have probabilites around 50% for the tumor to be malignant or benign\n",
    "\n",
    "* points that correspond to larger radius >25[mm] will have much higher probability for the tumor to be malignant\n",
    "\n",
    "* points that correspond to smaller radius <10[mm] will have much higher probability for the tumor to be benign"
   ]
  },
  {
   "cell_type": "markdown",
   "id": "rocky-freight",
   "metadata": {},
   "source": [
    "# Another 2D example fruits classification"
   ]
  },
  {
   "cell_type": "code",
   "execution_count": 30,
   "id": "trained-species",
   "metadata": {},
   "outputs": [
    {
     "data": {
      "text/html": [
       "<div>\n",
       "<style scoped>\n",
       "    .dataframe tbody tr th:only-of-type {\n",
       "        vertical-align: middle;\n",
       "    }\n",
       "\n",
       "    .dataframe tbody tr th {\n",
       "        vertical-align: top;\n",
       "    }\n",
       "\n",
       "    .dataframe thead th {\n",
       "        text-align: right;\n",
       "    }\n",
       "</style>\n",
       "<table border=\"1\" class=\"dataframe\">\n",
       "  <thead>\n",
       "    <tr style=\"text-align: right;\">\n",
       "      <th></th>\n",
       "      <th>fruit_label</th>\n",
       "      <th>fruit_name</th>\n",
       "      <th>fruit_subtype</th>\n",
       "      <th>mass</th>\n",
       "      <th>width</th>\n",
       "      <th>height</th>\n",
       "      <th>color_score</th>\n",
       "    </tr>\n",
       "  </thead>\n",
       "  <tbody>\n",
       "    <tr>\n",
       "      <th>0</th>\n",
       "      <td>1</td>\n",
       "      <td>apple</td>\n",
       "      <td>granny_smith</td>\n",
       "      <td>192</td>\n",
       "      <td>8.4</td>\n",
       "      <td>7.3</td>\n",
       "      <td>0.55</td>\n",
       "    </tr>\n",
       "    <tr>\n",
       "      <th>1</th>\n",
       "      <td>1</td>\n",
       "      <td>apple</td>\n",
       "      <td>granny_smith</td>\n",
       "      <td>180</td>\n",
       "      <td>8.0</td>\n",
       "      <td>6.8</td>\n",
       "      <td>0.59</td>\n",
       "    </tr>\n",
       "    <tr>\n",
       "      <th>2</th>\n",
       "      <td>1</td>\n",
       "      <td>apple</td>\n",
       "      <td>granny_smith</td>\n",
       "      <td>176</td>\n",
       "      <td>7.4</td>\n",
       "      <td>7.2</td>\n",
       "      <td>0.60</td>\n",
       "    </tr>\n",
       "    <tr>\n",
       "      <th>3</th>\n",
       "      <td>2</td>\n",
       "      <td>mandarin</td>\n",
       "      <td>mandarin</td>\n",
       "      <td>86</td>\n",
       "      <td>6.2</td>\n",
       "      <td>4.7</td>\n",
       "      <td>0.80</td>\n",
       "    </tr>\n",
       "    <tr>\n",
       "      <th>4</th>\n",
       "      <td>2</td>\n",
       "      <td>mandarin</td>\n",
       "      <td>mandarin</td>\n",
       "      <td>84</td>\n",
       "      <td>6.0</td>\n",
       "      <td>4.6</td>\n",
       "      <td>0.79</td>\n",
       "    </tr>\n",
       "    <tr>\n",
       "      <th>5</th>\n",
       "      <td>2</td>\n",
       "      <td>mandarin</td>\n",
       "      <td>mandarin</td>\n",
       "      <td>80</td>\n",
       "      <td>5.8</td>\n",
       "      <td>4.3</td>\n",
       "      <td>0.77</td>\n",
       "    </tr>\n",
       "    <tr>\n",
       "      <th>6</th>\n",
       "      <td>2</td>\n",
       "      <td>mandarin</td>\n",
       "      <td>mandarin</td>\n",
       "      <td>80</td>\n",
       "      <td>5.9</td>\n",
       "      <td>4.3</td>\n",
       "      <td>0.81</td>\n",
       "    </tr>\n",
       "    <tr>\n",
       "      <th>7</th>\n",
       "      <td>2</td>\n",
       "      <td>mandarin</td>\n",
       "      <td>mandarin</td>\n",
       "      <td>76</td>\n",
       "      <td>5.8</td>\n",
       "      <td>4.0</td>\n",
       "      <td>0.81</td>\n",
       "    </tr>\n",
       "    <tr>\n",
       "      <th>8</th>\n",
       "      <td>1</td>\n",
       "      <td>apple</td>\n",
       "      <td>braeburn</td>\n",
       "      <td>178</td>\n",
       "      <td>7.1</td>\n",
       "      <td>7.8</td>\n",
       "      <td>0.92</td>\n",
       "    </tr>\n",
       "    <tr>\n",
       "      <th>9</th>\n",
       "      <td>1</td>\n",
       "      <td>apple</td>\n",
       "      <td>braeburn</td>\n",
       "      <td>172</td>\n",
       "      <td>7.4</td>\n",
       "      <td>7.0</td>\n",
       "      <td>0.89</td>\n",
       "    </tr>\n",
       "  </tbody>\n",
       "</table>\n",
       "</div>"
      ],
      "text/plain": [
       "   fruit_label fruit_name  fruit_subtype  mass  width  height  color_score\n",
       "0            1     apple   granny_smith    192    8.4     7.3         0.55\n",
       "1            1     apple   granny_smith    180    8.0     6.8         0.59\n",
       "2            1     apple   granny_smith    176    7.4     7.2         0.60\n",
       "3            2  mandarin       mandarin     86    6.2     4.7         0.80\n",
       "4            2  mandarin       mandarin     84    6.0     4.6         0.79\n",
       "5            2  mandarin       mandarin     80    5.8     4.3         0.77\n",
       "6            2  mandarin       mandarin     80    5.9     4.3         0.81\n",
       "7            2  mandarin       mandarin     76    5.8     4.0         0.81\n",
       "8            1     apple       braeburn    178    7.1     7.8         0.92\n",
       "9            1     apple       braeburn    172    7.4     7.0         0.89"
      ]
     },
     "execution_count": 30,
     "metadata": {},
     "output_type": "execute_result"
    }
   ],
   "source": [
    "import pandas as pd\n",
    "df_fruits = pd.read_csv('fruit_data_with_colors.txt',sep='\\t')\n",
    "df_fruits.head(10)"
   ]
  },
  {
   "cell_type": "code",
   "execution_count": 31,
   "id": "charged-activity",
   "metadata": {},
   "outputs": [
    {
     "data": {
      "text/html": [
       "<div>\n",
       "<style scoped>\n",
       "    .dataframe tbody tr th:only-of-type {\n",
       "        vertical-align: middle;\n",
       "    }\n",
       "\n",
       "    .dataframe tbody tr th {\n",
       "        vertical-align: top;\n",
       "    }\n",
       "\n",
       "    .dataframe thead th {\n",
       "        text-align: right;\n",
       "    }\n",
       "</style>\n",
       "<table border=\"1\" class=\"dataframe\">\n",
       "  <thead>\n",
       "    <tr style=\"text-align: right;\">\n",
       "      <th></th>\n",
       "      <th>fruit_label</th>\n",
       "      <th>fruit_name</th>\n",
       "      <th>fruit_subtype</th>\n",
       "      <th>mass</th>\n",
       "      <th>width</th>\n",
       "      <th>height</th>\n",
       "      <th>color_score</th>\n",
       "    </tr>\n",
       "  </thead>\n",
       "  <tbody>\n",
       "    <tr>\n",
       "      <th>24</th>\n",
       "      <td>3</td>\n",
       "      <td>orange</td>\n",
       "      <td>spanish_jumbo</td>\n",
       "      <td>342</td>\n",
       "      <td>9.0</td>\n",
       "      <td>9.4</td>\n",
       "      <td>0.75</td>\n",
       "    </tr>\n",
       "    <tr>\n",
       "      <th>25</th>\n",
       "      <td>3</td>\n",
       "      <td>orange</td>\n",
       "      <td>spanish_jumbo</td>\n",
       "      <td>356</td>\n",
       "      <td>9.2</td>\n",
       "      <td>9.2</td>\n",
       "      <td>0.75</td>\n",
       "    </tr>\n",
       "    <tr>\n",
       "      <th>26</th>\n",
       "      <td>3</td>\n",
       "      <td>orange</td>\n",
       "      <td>spanish_jumbo</td>\n",
       "      <td>362</td>\n",
       "      <td>9.6</td>\n",
       "      <td>9.2</td>\n",
       "      <td>0.74</td>\n",
       "    </tr>\n",
       "    <tr>\n",
       "      <th>27</th>\n",
       "      <td>3</td>\n",
       "      <td>orange</td>\n",
       "      <td>selected_seconds</td>\n",
       "      <td>204</td>\n",
       "      <td>7.5</td>\n",
       "      <td>9.2</td>\n",
       "      <td>0.77</td>\n",
       "    </tr>\n",
       "    <tr>\n",
       "      <th>28</th>\n",
       "      <td>3</td>\n",
       "      <td>orange</td>\n",
       "      <td>selected_seconds</td>\n",
       "      <td>140</td>\n",
       "      <td>6.7</td>\n",
       "      <td>7.1</td>\n",
       "      <td>0.72</td>\n",
       "    </tr>\n",
       "  </tbody>\n",
       "</table>\n",
       "</div>"
      ],
      "text/plain": [
       "    fruit_label fruit_name      fruit_subtype  mass  width  height  \\\n",
       "24            3    orange      spanish_jumbo    342    9.0     9.4   \n",
       "25            3    orange      spanish_jumbo    356    9.2     9.2   \n",
       "26            3    orange      spanish_jumbo    362    9.6     9.2   \n",
       "27            3    orange   selected_seconds    204    7.5     9.2   \n",
       "28            3    orange   selected_seconds    140    6.7     7.1   \n",
       "\n",
       "    color_score  \n",
       "24         0.75  \n",
       "25         0.75  \n",
       "26         0.74  \n",
       "27         0.77  \n",
       "28         0.72  "
      ]
     },
     "execution_count": 31,
     "metadata": {},
     "output_type": "execute_result"
    }
   ],
   "source": [
    "df_fruits2 = df_fruits[(df_fruits['fruit_label'] == 3) | (df_fruits['fruit_label'] == 4)]\n",
    "df_fruits2.head()"
   ]
  },
  {
   "cell_type": "code",
   "execution_count": 32,
   "id": "political-reception",
   "metadata": {},
   "outputs": [
    {
     "data": {
      "text/plain": [
       "<matplotlib.legend.Legend at 0x7f0f4755ee48>"
      ]
     },
     "execution_count": 32,
     "metadata": {},
     "output_type": "execute_result"
    },
    {
     "data": {
      "image/png": "[encoded data removed]",
      "text/plain": [
       "<Figure size 432x288 with 1 Axes>"
      ]
     },
     "metadata": {
      "needs_background": "light"
     },
     "output_type": "display_data"
    }
   ],
   "source": [
    "import matplotlib.pyplot as plt\n",
    "fig,ax = plt.subplots(1,1)\n",
    "scatter=ax.scatter(df_fruits2['mass'], df_fruits2['height'], c = df_fruits2['fruit_label'], marker = 'o', s=100)\n",
    "ax.set_xlabel('mass')\n",
    "ax.set_ylabel('height')\n",
    "ax.legend(handles=scatter.legend_elements()[0], labels=['orange','lemon'])"
   ]
  },
  {
   "cell_type": "code",
   "execution_count": 33,
   "id": "eastern-acceptance",
   "metadata": {},
   "outputs": [
    {
     "name": "stdout",
     "output_type": "stream",
     "text": [
      "(35, 2)\n",
      "Accuracy of Logistic regression classifier on training set: 1.00\n",
      "Accuracy of Logistic regression classifier on test set: 1.00\n"
     ]
    }
   ],
   "source": [
    "X_data = df_fruits2[['mass', 'height']]\n",
    "y_data = df_fruits2['fruit_label']\n",
    "\n",
    "print(X_data.shape)\n",
    "from sklearn.model_selection import train_test_split\n",
    "X_train, X_test, y_train, y_test = train_test_split(X_data, y_data,test_size = 0.2)\n",
    "\n",
    "from sklearn.linear_model import LogisticRegression\n",
    "logreg = LogisticRegression()\n",
    "logreg.fit(X_train, y_train)\n",
    "\n",
    "print(f'Accuracy of Logistic regression classifier on training set: {logreg.score(X_train, y_train):.2f}')\n",
    "print(f'Accuracy of Logistic regression classifier on test set: {logreg.score(X_test, y_test):.2f}')"
   ]
  },
  {
   "cell_type": "code",
   "execution_count": 34,
   "id": "separated-guest",
   "metadata": {},
   "outputs": [
    {
     "data": {
      "image/png": "[encoded data removed]",
      "text/plain": [
       "<Figure size 432x288 with 1 Axes>"
      ]
     },
     "metadata": {
      "needs_background": "light"
     },
     "output_type": "display_data"
    }
   ],
   "source": [
    "df_fruits2 = df_fruits[(df_fruits['fruit_label'] == 3) | (df_fruits['fruit_label'] == 4)]\n",
    "\n",
    "import matplotlib.pyplot as plt\n",
    "fig,ax = plt.subplots(1,1)\n",
    "scatter=ax.scatter(df_fruits2['mass'], df_fruits2['height'], c = df_fruits2['fruit_label'], marker = 'o', s=100)\n",
    "ax.set_xlabel('mass')\n",
    "ax.set_ylabel('height')\n",
    "ax.legend(handles=scatter.legend_elements()[0], labels=['orange','lemon'])\n",
    "\n",
    "import numpy as np\n",
    "# Retrieve the model parameters\n",
    "theta0 = logreg.intercept_[0]\n",
    "theta1, theta2 = logreg.coef_.T\n",
    "# Calculate the intercept and gradient of the decision boundary.\n",
    "c = -theta0/theta2\n",
    "m = -theta1/theta2\n",
    "# Plot the data and the classification with the decision boundary.\n",
    "xmin, xmax = 100, 220\n",
    "ymin, ymax = 5, 11\n",
    "xd = np.linspace(xmin, xmax,10)\n",
    "yd = m*xd + c\n",
    "ax.plot(xd, yd, 'b', lw=1, ls='-')\n",
    "ax.grid(True)"
   ]
  },
  {
   "cell_type": "markdown",
   "id": "detected-basin",
   "metadata": {},
   "source": [
    "Having found the boundary (hypothesis) between two groups of the fruits we can now predict if a fruit with given mass and height is lemon or orange:"
   ]
  },
  {
   "cell_type": "code",
   "execution_count": 35,
   "id": "brutal-hayes",
   "metadata": {},
   "outputs": [
    {
     "name": "stdout",
     "output_type": "stream",
     "text": [
      "0.9999966134365575 3.3865634425047453e-06\n"
     ]
    }
   ],
   "source": [
    "p_orange, p_lemon =logreg.predict_proba([[350,8]])[0]\n",
    "print(p_orange, p_lemon)"
   ]
  },
  {
   "cell_type": "markdown",
   "id": "impressive-cyprus",
   "metadata": {},
   "source": [
    "## Let's look at the probability plot (notice we have two features, so its probably easier to plot P vs P(z))\n",
    "$$g(z)=\\frac{1}{1+e^{-(z)}}$$\n",
    "$$g(\\theta^T X)=\\frac{1}{1+e^{-(\\theta_0 + \\theta_1 x_1 + \\theta_2 x_2)}}$$\n",
    "* arbitrary saying if a fruit is a lemon (1) or not (0 hence orange)"
   ]
  },
  {
   "cell_type": "code",
   "execution_count": 36,
   "id": "white-optimization",
   "metadata": {},
   "outputs": [
    {
     "data": {
      "text/plain": [
       "Text(0, 0.5, 'P(z)')"
      ]
     },
     "execution_count": 36,
     "metadata": {},
     "output_type": "execute_result"
    },
    {
     "data": {
      "image/png": "[encoded data removed]",
      "text/plain": [
       "<Figure size 432x288 with 1 Axes>"
      ]
     },
     "metadata": {
      "needs_background": "light"
     },
     "output_type": "display_data"
    }
   ],
   "source": [
    "import matplotlib.pyplot as plt\n",
    "fig,ax = plt.subplots(1,1)\n",
    "z=theta0 + theta1*df_fruits2['mass'] + theta2*df_fruits2['height']\n",
    "scatter=ax.scatter(z,1/(1+np.exp(-z)),c = df_fruits2['fruit_label'])\n",
    "ax.legend(handles=scatter.legend_elements()[0], labels=['orange','lemon'])\n",
    "ax.set_xlabel('z')\n",
    "ax.set_ylabel('P(z)')"
   ]
  },
  {
   "cell_type": "markdown",
   "id": "laden-parking",
   "metadata": {},
   "source": [
    "### notice looking at both plots:\n",
    "\n",
    "* all points (yellow and dark) which lie close to the boundary line have have probabilites around 50% to be either lemon or orange\n",
    "\n",
    "* point that correspond to higher mass (~350g) will have much lower probability to be an lemon hence its an orange"
   ]
  },
  {
   "cell_type": "markdown",
   "id": "appropriate-seller",
   "metadata": {},
   "source": [
    "### Of course we can do three, four or five... etc features (like in multivariate regression). \n",
    "* for example we can also do image classification using logistic regression\n",
    "* the features are the pixels\n",
    "* picture 8x8 pixels has 64 features"
   ]
  },
  {
   "cell_type": "markdown",
   "id": "congressional-worcester",
   "metadata": {},
   "source": [
    "# Non-linear decision boundaries\n",
    "* boundaries can be linear - straight line\n",
    "* or nonlinear - circle or more complicated forms"
   ]
  },
  {
   "cell_type": "code",
   "execution_count": 37,
   "id": "committed-closure",
   "metadata": {},
   "outputs": [
    {
     "data": {
      "text/plain": [
       "Text(0.5, 0, 'x1')"
      ]
     },
     "execution_count": 37,
     "metadata": {},
     "output_type": "execute_result"
    },
    {
     "data": {
      "image/png": "[encoded data removed]",
      "text/plain": [
       "<Figure size 360x360 with 1 Axes>"
      ]
     },
     "metadata": {
      "needs_background": "light"
     },
     "output_type": "display_data"
    }
   ],
   "source": [
    "import matplotlib.pyplot as plt\n",
    "\n",
    "os = np.array([[0,0], [0,0.5], [0.5,0.5], [0.5,0], [-0.5,0.5], [-0.5,0], [-0.5,-0.5], [0,-0.5], [0.5, -0.5],])\n",
    "xs = np.array([[1,1], [-1,1], [1,-1], [-1,-1], [0,1.5], [-1.5,0], [0,-1.5], [1.5,0]])\n",
    "\n",
    "fig,ax = plt.subplots(1,1,figsize=(5,5))\n",
    "ax.scatter(os[:,0], os[:,1], marker = 'o', s = 100, color = 'y')\n",
    "ax.scatter(xs[:,0], xs[:,1], marker = 'o', s = 100, color = 'k')\n",
    "ax.set_ylabel('x2')\n",
    "ax.set_xlabel('x1')"
   ]
  },
  {
   "cell_type": "markdown",
   "id": "thrown-currency",
   "metadata": {},
   "source": [
    "As in the above example, the black circle points belong to the region y=1 and the red circles points belong to the region y=0. Let’s say our hypothesis looks like:\n",
    "\n",
    "$h_{\\theta}(x)=\\theta_0+\\theta_1 x_1 +\\theta_2 x_2 +\\theta_3 x_1^2 + \\theta_4 x_2^2 $\n",
    "\n",
    "Assume we end up choosing the values of parameters as:\n",
    "\n",
    "$$\\theta_0=-1$$\n",
    "$$\\theta_1=0$$\n",
    "$$\\theta_2=0$$\n",
    "$$\\theta_3=1$$\n",
    "$$\\theta_4=1$$\n",
    "\n",
    "Then our parameter vector looks like:\n"
   ]
  },
  {
   "cell_type": "markdown",
   "id": "optimum-bandwidth",
   "metadata": {},
   "source": [
    "the hypothesis will predict y=1 when:\n",
    "$$1-x_1^2 + x_2^2 \\geq 0$$\n",
    "or\n",
    "$$x_1^2 + x_2^2 \\geq 1$$\n",
    "\n",
    "We can see that the above equation corresponds to a circle of radius 1 centered at the origin."
   ]
  },
  {
   "cell_type": "code",
   "execution_count": 38,
   "id": "appreciated-sherman",
   "metadata": {},
   "outputs": [
    {
     "data": {
      "text/plain": [
       "<matplotlib.collections.PathCollection at 0x7f0f4736ce80>"
      ]
     },
     "execution_count": 38,
     "metadata": {},
     "output_type": "execute_result"
    },
    {
     "data": {
      "image/png": "[encoded data removed]",
      "text/plain": [
       "<Figure size 360x360 with 1 Axes>"
      ]
     },
     "metadata": {
      "needs_background": "light"
     },
     "output_type": "display_data"
    }
   ],
   "source": [
    "fig,ax = plt.subplots(1,1,figsize=(5,5))\n",
    "theta = np.linspace(0, 2*np.pi , 1000)\n",
    "r = np.sqrt(1)\n",
    "x = r*np.cos(theta)\n",
    "y = r*np.sin(theta)\n",
    "ax.plot(x,y, color = 'b')\n",
    "ax.scatter(os[:,0], os[:,1], marker = 'o', s = 100, color = 'y')\n",
    "ax.scatter(xs[:,0], xs[:,1], marker = 'o', s = 100, color = 'k')"
   ]
  },
  {
   "cell_type": "markdown",
   "id": "owned-aside",
   "metadata": {},
   "source": [
    "The circle is our decision boundary and the region outside the circle corresponds to y=1 and inside the circle corresponds to y=0. \n",
    "The point lying exactly on the line will have probabitly 0.5 to belong to one or the other class.\n",
    "\n",
    "We can see that the decision boundary doesn't necessarily have to be a straight line but also more complex shapes like a circle, ellipse, and any other irregular shapes. Again the decision boundary is a property of the hypothesis and its parameters and not that of the training dataset."
   ]
  },
  {
   "cell_type": "markdown",
   "id": "thick-option",
   "metadata": {},
   "source": [
    "### more realistic non-linear decision boundary (example from internet) problem unidentified"
   ]
  },
  {
   "cell_type": "markdown",
   "id": "thorough-wright",
   "metadata": {},
   "source": [
    "<img src=\"imgs/nonlinear_boundary.png\" width=\"500\" />"
   ]
  },
  {
   "cell_type": "markdown",
   "id": "auburn-asthma",
   "metadata": {},
   "source": [
    "# But how does it really work?\n",
    "\n",
    "in all the examples we performed a fitting to find the parameters $\\theta_0$, $\\theta_1$... $\\theta_n$\n",
    "\n",
    "* and the output is the probability (values between 0 and 1)\n",
    "$$g(\\theta^T X)=\\frac{1}{1+e^{-(\\theta^T X)}}$$\n",
    "\n",
    "* what is the cost function for logistic regression?\n",
    "* how is it minimized?\n",
    "* linear regression hypothesis $h_{\\theta}(x)=\\theta_0+\\theta_1x$ - which is a straight line\n",
    "* logistic regression hypothesis: $h_{\\theta}(x)=g(\\theta^T X) = \\frac{1}{1+e^{-(\\theta^T X)}}$ - more complicated function\n",
    "\n",
    "How to choose parameters $\\Theta$ with Logistic Regression? "
   ]
  },
  {
   "cell_type": "markdown",
   "id": "dietary-passport",
   "metadata": {},
   "source": [
    "Cost function for the linear regression from the last class:\n",
    "\n",
    "$$J(\\theta_0,\\theta_1,\\theta_2,,\\theta_3...) = \\frac{1}{m} \\sum_{i=1}^{m}[ h_{\\theta}(x_i) - y_i]^2 $$\n",
    "\n",
    "where $h_{\\theta}(x)=\\theta^T X$"
   ]
  },
  {
   "cell_type": "markdown",
   "id": "czech-cancellation",
   "metadata": {},
   "source": [
    "What if we use the same definition as above to find the cost of the logistic regression:\n",
    "\n",
    "$$J(\\theta_0,\\theta_1,\\theta_2,,\\theta_3...) = \\frac{1}{m} \\sum_{i=1}^{m}[ h_{\\theta}(x_i) - y_i]^2 $$\n",
    "\n",
    "must remember that now: $h_{\\theta}(x)$ is more complicated.\n",
    "\n",
    "$h_{\\theta}(x)=g(\\theta^T X) = \\frac{1}{1+e^{-(\\theta^T X)}}$"
   ]
  },
  {
   "cell_type": "markdown",
   "id": "royal-fireplace",
   "metadata": {},
   "source": [
    "Unfortunately, we cannot use the Linear Regression Cost Function for the Logistic. Sigmoid is a nonlinear function, which will make the cost function not convex (which is the the case of linear regression) and will look like this. (if we plug $h_{\\theta}(x) into the above equation and plot $J(\\theta)$ then the plot will look like following on the Left Hand Side (LHS).\n",
    "\n",
    "<img src=\"imgs/convex_nonconvex.png\" width=\"500\" /> "
   ]
  },
  {
   "cell_type": "markdown",
   "id": "herbal-florida",
   "metadata": {},
   "source": [
    "This non-convex $J(\\theta)$ is a function with many local optima. It’s not guaranteed that the Gradient descent will converge to the global minimum. What we want is a convex $J(\\theta)$, which is a function that converges to the global minimum (on the very bottom). We want a cost function to have one minima, not many. So, we have to write the Cost Function in a way that guarantees a convex $J(\\theta)$:"
   ]
  },
  {
   "cell_type": "markdown",
   "id": "stuffed-sandwich",
   "metadata": {},
   "source": [
    "$$J(\\theta_0,\\theta_1,\\theta_2,,\\theta_3...) = \\frac{1}{m} \\sum_{i=1}^{m} Cost\\left( h_{\\theta}(x_i) - y_i\\right) $$"
   ]
  },
  {
   "cell_type": "markdown",
   "id": "green-viewer",
   "metadata": {},
   "source": [
    "\\begin{equation}\n",
    "  Cost\\left( h_{\\theta}(x),y\\right)=\\begin{cases}\n",
    "    -log (h_{\\theta}(x)) , & \\text{if $y=1$}.\\\\\n",
    "    -log (1- h_{\\theta}(x)) , & \\text{if $y=0$}.\n",
    "  \\end{cases}\n",
    "\\end{equation}"
   ]
  },
  {
   "cell_type": "markdown",
   "id": "marine-electricity",
   "metadata": {},
   "source": [
    "Lets plot the logarithms..."
   ]
  },
  {
   "cell_type": "code",
   "execution_count": 39,
   "id": "egyptian-result",
   "metadata": {},
   "outputs": [
    {
     "data": {
      "text/plain": [
       "Text(0.5, 1.0, 'Cost of hx for y=0')"
      ]
     },
     "execution_count": 39,
     "metadata": {},
     "output_type": "execute_result"
    },
    {
     "data": {
      "image/png": "[encoded data removed]",
      "text/plain": [
       "<Figure size 576x288 with 2 Axes>"
      ]
     },
     "metadata": {
      "needs_background": "light"
     },
     "output_type": "display_data"
    }
   ],
   "source": [
    "import numpy as np\n",
    "hx=np.linspace(0,1,100)\n",
    "hx=hx[1:-1]\n",
    "cost_hx_y_1=-np.log(hx)\n",
    "cost_hx_y_0=-np.log(1-hx)\n",
    "import matplotlib.pyplot as plt\n",
    "fix,ax=plt.subplots(1,2,figsize=(8,4))\n",
    "\n",
    "ax[0].plot(hx,cost_hx_y_1,'-r')\n",
    "ax[0].set_xlabel('hx')\n",
    "ax[0].set_ylabel('Cost(hx,y=1)')\n",
    "ax[0].set_title('Cost of hx for y=1)')\n",
    "\n",
    "ax[1].plot(hx,cost_hx_y_0)\n",
    "ax[1].set_xlabel('hx')\n",
    "ax[1].set_ylabel('Cost of hx for y=1')\n",
    "ax[1].set_title('Cost of hx for y=0')"
   ]
  },
  {
   "cell_type": "markdown",
   "id": "vanilla-balloon",
   "metadata": {},
   "source": [
    "Lets look at each plot separately for each case:\n",
    "\n",
    "* if y=1 and $h_{\\theta}(x)$ is close to zero then the cost fuction goes to $\\infty$, and if y=1 and $h_{\\theta}(x)$ is close to one then the cost fuction goes to $0$.\n",
    "\n",
    "* if y=0 and $h_{\\theta}(x)$ is close to one then the cost fuction goes to $\\infty$, and if y=0 and $h_{\\theta}(x)$ is close to zero then the cost fuction goes to $0$."
   ]
  },
  {
   "cell_type": "markdown",
   "id": "incoming-vehicle",
   "metadata": {},
   "source": [
    "In other words:\n",
    "\n",
    "* y=1 can be only if $h_{\\theta}(x) \\geq 0.5$ so if $h_{\\theta}(x)$ is close to zero the algrithm will penalize the large cost!\n",
    "* y=0 can be only if $h_{\\theta}(x) < 0.5$ so if $h_{\\theta}(x)$ is close to one the algrithm will penalize the large cost!"
   ]
  },
  {
   "cell_type": "markdown",
   "id": "loved-plain",
   "metadata": {},
   "source": [
    "Hence we have one minimum for each case. Below the same plots as before but in colors for clarity."
   ]
  },
  {
   "cell_type": "markdown",
   "id": "blond-market",
   "metadata": {},
   "source": [
    "<img src=\"imgs/cost_function1.png\" width=\"500\" />"
   ]
  },
  {
   "cell_type": "markdown",
   "id": "elegant-rochester",
   "metadata": {},
   "source": [
    "Because we have two binary conditions for the Benign or Malignant outcome (y), the Cost Function concerning y is.\n",
    "\n",
    "If y = 1, but we predict $h_{\\theta}(x) = 0$, we will penalize the learning algorithm by a considerable cost (see the red curve in Figure) because, in this case, the cost will tend to infinite. Instead, if our prediction is $h_{\\theta}(x) = 1$, (thus equal to y), then the cost is going to be 0.\n",
    "\n",
    "In the case of y = 0, we have the opposite: if y = 0 and we predict $h_{\\theta}(x) = 0$, the cost is going to be 0, because our Hypothesis matches with y, while if our prediction is $h_{\\theta}(x) = 1$, we end up paying a very large cost.\n"
   ]
  },
  {
   "cell_type": "markdown",
   "id": "foster-technique",
   "metadata": {},
   "source": [
    "One can write the cost function in one compressed way.\n",
    "The simplified version of the Cost Function is the following:"
   ]
  },
  {
   "cell_type": "markdown",
   "id": "mature-lambda",
   "metadata": {},
   "source": [
    "$$Cost\\left( h_{\\theta}(x),y\\right)=-y log (h_{\\theta}(x)) - (1-y)(log (1- h_{\\theta}(x)))$$\n",
    "\n",
    "if $y=1$\n",
    "\n",
    "$$Cost\\left( h_{\\theta}(x),y\\right)=-log (h_{\\theta}(x))$$\n",
    "\n",
    "if $y=0$\n",
    "\n",
    "$$Cost\\left( h_{\\theta}(x),y\\right)=-log (1 - h_{\\theta}(x))$$"
   ]
  },
  {
   "cell_type": "markdown",
   "id": "national-lesson",
   "metadata": {},
   "source": [
    "### Finally after putting everything together we get:\n",
    "\n",
    "$$J(\\theta) = \\frac{1}{m} \\sum_{i=1}^{m} -y log (h_{\\theta}(x)) - (1-y)(log (1- h_{\\theta}(x))) $$\n",
    "\n",
    "or \n",
    "\n",
    "$$J(\\theta) = -\\frac{1}{m} \\left[\\sum_{i=1}^{m} y log (h_{\\theta}(x)) + (1-y)(log (1- h_{\\theta}(x))) \\right]$$\n",
    "\n",
    "which for each sample:\n",
    "\n",
    "$$J(\\theta) = -\\frac{1}{m} \\left[\\sum_{i=1}^{m} y^{(i)} log (h_{\\theta}(x^{(i)})) + (1-y^{(i)})(log (1 - h_{\\theta}(x^{(i)}))) \\right]$$\n",
    "\n",
    "* this can be derived from the principle of \"maximum likelihood estimation\"\n",
    "\n",
    "* we want to find $\\Theta$ that minimizes $J(\\Theta)$"
   ]
  },
  {
   "cell_type": "markdown",
   "id": "chemical-arcade",
   "metadata": {},
   "source": [
    "## Gradient descent"
   ]
  },
  {
   "cell_type": "markdown",
   "id": "preliminary-welsh",
   "metadata": {},
   "source": [
    "From the class on the gradient descent of the linear regression we remember that the update of each of the parameter $\\theta_j$\n",
    "we need to take the derivative of the $J(\\theta)$:\n",
    "\n",
    "$$\\theta_j:=\\theta_j - \\alpha \\frac{d}{d\\theta_j}J(\\theta_j)$$\n",
    "\n",
    "It can be shown that the derivative of the cost function $J(\\theta)$ for the logistic regression is:\n",
    "\n",
    "$$\\frac{d}{d\\theta}J(\\theta)= \\frac{1}{m} \\sum_{i=1}^{m}[ h_{\\theta}(x_i) - y_i] (x_i)  $$"
   ]
  },
  {
   "cell_type": "markdown",
   "id": "settled-hunter",
   "metadata": {},
   "source": [
    "Hence actually the Gradient descent is identical to that used for the Linear Regression. The only difference is that the definition of $h_{\\theta}(x)$ contains the sigmoid function."
   ]
  },
  {
   "cell_type": "markdown",
   "id": "efficient-sugar",
   "metadata": {},
   "source": [
    "$$\\theta_0:=\\theta_0 - \\alpha \\frac{1}{m} \\sum_{i=1}^{m}[ h_{\\theta}(x_i) - y_i]$$\n",
    "$$\\theta_1:=\\theta_1 - \\alpha \\frac{1}{m} \\sum_{i=1}^{m}([ h_{\\theta}(x_i) - y_i]*x_i)$$"
   ]
  },
  {
   "cell_type": "markdown",
   "id": "alternative-universal",
   "metadata": {},
   "source": [
    "where:\n",
    "$h_{\\theta}(x)= \\frac{1}{1+e^{-(\\theta^T X)}}$"
   ]
  }
 ],
 "metadata": {
  "kernelspec": {
   "display_name": "Python 3",
   "language": "python",
   "name": "python3"
  },
  "language_info": {
   "codemirror_mode": {
    "name": "ipython",
    "version": 3
   },
   "file_extension": ".py",
   "mimetype": "text/x-python",
   "name": "python",
   "nbconvert_exporter": "python",
   "pygments_lexer": "ipython3",
   "version": "3.7.2"
  }
 },
 "nbformat": 4,
 "nbformat_minor": 5
}
