{
 "cells": [
  {
   "cell_type": "markdown",
   "id": "intermediate-devil",
   "metadata": {},
   "source": [
    "## Modelado de datos con Redes Neuronales (Class 10)\n",
    "### Topic: Logistic regression - continuation"
   ]
  },
  {
   "cell_type": "markdown",
   "id": "developed-message",
   "metadata": {},
   "source": [
    "# Lets get a bit deeper with logistc regression\n",
    "### 2D problem, decision boundary using logistic regression - two features"
   ]
  },
  {
   "cell_type": "markdown",
   "id": "technological-hollywood",
   "metadata": {},
   "source": [
    "## What does a straight line mean?\n",
    "$$y=ax+b$$\n",
    "$$y=2x+10$$"
   ]
  },
  {
   "cell_type": "code",
   "execution_count": 1,
   "id": "functioning-bicycle",
   "metadata": {},
   "outputs": [
    {
     "data": {
      "image/png": "[encoded data removed]",
      "text/plain": [
       "<Figure size 432x288 with 1 Axes>"
      ]
     },
     "metadata": {
      "needs_background": "light"
     },
     "output_type": "display_data"
    }
   ],
   "source": [
    "import numpy as np\n",
    "x=np.linspace(-10,10,9)\n",
    "y=2*x+10\n",
    "import matplotlib.pyplot as plt\n",
    "fig,ax=plt.subplots(1,1)\n",
    "ax.scatter(x,y,c='r',s=100)\n",
    "ax.set_xlabel('x')\n",
    "ax.set_ylabel('y')\n",
    "ax.grid(True)"
   ]
  },
  {
   "cell_type": "markdown",
   "id": "round-commons",
   "metadata": {},
   "source": [
    "it means that all the points we generate using this equation create a straight line or in other words they satisfy relation between $x$ and $y$ such that:\n",
    "\n",
    "$$y-ax-b=0$$\n",
    "\n",
    "$$y-2x-10=0$$\n",
    "\n",
    "for example this equation is satisfied (equal zero) if:\n",
    "* x=5 and y=20\n",
    "* x=-2.5 and y=5\n",
    "\n",
    "because:"
   ]
  },
  {
   "cell_type": "code",
   "execution_count": 2,
   "id": "psychological-projection",
   "metadata": {},
   "outputs": [
    {
     "name": "stdout",
     "output_type": "stream",
     "text": [
      "0\n",
      "0.0\n"
     ]
    }
   ],
   "source": [
    "print(20-2*5-10)\n",
    "print(5-2*(-2.5)-10)"
   ]
  },
  {
   "cell_type": "markdown",
   "id": "external-launch",
   "metadata": {},
   "source": [
    "but what if there is another point above the line:"
   ]
  },
  {
   "cell_type": "code",
   "execution_count": 3,
   "id": "forty-looking",
   "metadata": {},
   "outputs": [
    {
     "data": {
      "image/png": "[encoded data removed]",
      "text/plain": [
       "<Figure size 432x288 with 1 Axes>"
      ]
     },
     "metadata": {
      "needs_background": "light"
     },
     "output_type": "display_data"
    }
   ],
   "source": [
    "import numpy as np\n",
    "x=np.linspace(-10,10,9)\n",
    "y=2*x+10\n",
    "import matplotlib.pyplot as plt\n",
    "fig,ax=plt.subplots(1,1)\n",
    "ax.scatter(x,y,c='r',s=100)\n",
    "ax.scatter(5,25,c='b',s=100)\n",
    "ax.set_xlabel('x')\n",
    "ax.set_ylabel('y')\n",
    "ax.grid(True)"
   ]
  },
  {
   "cell_type": "markdown",
   "id": "needed-attraction",
   "metadata": {},
   "source": [
    "it means that if x=5 and y=25 then the equation is not satisfied, and in this case >0"
   ]
  },
  {
   "cell_type": "code",
   "execution_count": 4,
   "id": "vital-apache",
   "metadata": {},
   "outputs": [
    {
     "name": "stdout",
     "output_type": "stream",
     "text": [
      "5\n"
     ]
    }
   ],
   "source": [
    "print(25-2*5-10)"
   ]
  },
  {
   "cell_type": "markdown",
   "id": "accompanied-accessory",
   "metadata": {},
   "source": [
    "but what if there is another point below the line:"
   ]
  },
  {
   "cell_type": "code",
   "execution_count": 5,
   "id": "animated-louisiana",
   "metadata": {},
   "outputs": [
    {
     "data": {
      "image/png": "[encoded data removed]",
      "text/plain": [
       "<Figure size 432x288 with 1 Axes>"
      ]
     },
     "metadata": {
      "needs_background": "light"
     },
     "output_type": "display_data"
    }
   ],
   "source": [
    "import numpy as np\n",
    "x=np.linspace(-10,10,9)\n",
    "y=2*x+10\n",
    "import matplotlib.pyplot as plt\n",
    "fig,ax=plt.subplots(1,1)\n",
    "ax.scatter(x,y,c='r',s=100)\n",
    "ax.scatter(5,15,c='g',s=100)\n",
    "ax.set_xlabel('x')\n",
    "ax.set_ylabel('y')\n",
    "ax.grid(True)"
   ]
  },
  {
   "cell_type": "markdown",
   "id": "patent-oklahoma",
   "metadata": {},
   "source": [
    "it means that if x=5 and y=15 then the equation is also not satisfied, and in this case < 0"
   ]
  },
  {
   "cell_type": "code",
   "execution_count": 6,
   "id": "administrative-consumption",
   "metadata": {},
   "outputs": [
    {
     "name": "stdout",
     "output_type": "stream",
     "text": [
      "-5\n"
     ]
    }
   ],
   "source": [
    "print(15-2*5-10)"
   ]
  },
  {
   "cell_type": "markdown",
   "id": "handed-tragedy",
   "metadata": {},
   "source": [
    "## Now lets look at the example data points representing two unspecified features $x_1$ and $x_2$:"
   ]
  },
  {
   "cell_type": "markdown",
   "id": "abandoned-surname",
   "metadata": {},
   "source": [
    "<img src=\"imgs/two_groups.png\" width=\"400\" /> \n",
    "\n",
    "I can try to draw a line that separates those two groups of points.\n",
    "\n",
    "<img src=\"imgs/two_groups_boundary.png\" width=\"400\" /> \n",
    "\n",
    "Mathematically speaking:\n",
    "\n",
    "$$\\theta_0 + \\theta_1 x_1 + \\theta_2 x_2 = 0$$\n",
    "\n",
    "The above equation means that all the points lying ON the curve will satisfy the equation.  \n",
    "\n",
    "Or making it look more like a function mentioned before $y-ax-b=0$\n",
    "\n",
    "$$x_2 = -\\theta_1/\\theta_2 x_1 - \\theta_0/\\theta_2$$\n",
    "\n",
    "But what about the points above and below the line?\n",
    "For all other points we can get a value \"z\"\n",
    "\n",
    "$$\\theta_0 + \\theta_1 x_1 + \\theta_2 x_2 = z$$\n",
    "\n",
    "\n",
    "So the positive and negative points of \"z\" mean that they are above and below the line.\n",
    "So z can vary from $-\\infty$ to $\\infty$\n",
    "\n",
    "$$g(z)=\\frac{1}{1+e^{-(z)}}$$\n",
    "\n",
    "But basically if the points is in $\\infty$ means that CERTAINLY belongs to one class (above)\n",
    "and if it is $-\\infty$ means that CERTAINLY belongs to one class (below). And if a point lies on the curve is basically 50:50.. can belong to any class.\n",
    "\n",
    "And exactly logistic fuction (Sigmoid) converts those values\n",
    "$-\\infty$ 0 $\\infty$ to probabilities 0:1\n",
    "\n",
    "$$g(\\theta_0 + \\theta_1 x_1 + \\theta_2 x_2)=\\frac{1}{1+e^{-(\\theta_0 + \\theta_1 x_1 + \\theta_2 x_2)}}$$"
   ]
  },
  {
   "cell_type": "markdown",
   "id": "found-cricket",
   "metadata": {},
   "source": [
    "Depending if the points lie on the curve, below or above it we have three different cases:\n",
    "\n",
    "* points lie above the curve ***if*** ($\\theta^T X) \\geq 0$ so $h_{\\theta}(x) \\geq 0.5$ hence points belong to one group\n",
    "* points lie below the curve ***if*** ($\\theta^T X) < 0$ so $h_{\\theta}(x) < 0.5$ hence points belong to different group\n",
    "* points lie on the curve ***if*** ($\\theta^T X) = 0$ so $h_{\\theta}(x) = 0.5$ \n"
   ]
  },
  {
   "cell_type": "markdown",
   "id": "focal-heaven",
   "metadata": {},
   "source": [
    "# Tumor classification based on two features (units?)"
   ]
  },
  {
   "cell_type": "code",
   "execution_count": 7,
   "id": "terminal-stupid",
   "metadata": {},
   "outputs": [
    {
     "ename": "NameError",
     "evalue": "name 'bc' is not defined",
     "output_type": "error",
     "traceback": [
      "\u001b[0;31m---------------------------------------------------------------------------\u001b[0m",
      "\u001b[0;31mNameError\u001b[0m                                 Traceback (most recent call last)",
      "\u001b[0;32m<ipython-input-7-3f2c6d7af421>\u001b[0m in \u001b[0;36m<module>\u001b[0;34m\u001b[0m\n\u001b[0;32m----> 1\u001b[0;31m \u001b[0mX_data\u001b[0m\u001b[0;34m=\u001b[0m\u001b[0mbc\u001b[0m\u001b[0;34m.\u001b[0m\u001b[0mdata\u001b[0m\u001b[0;34m\u001b[0m\u001b[0;34m\u001b[0m\u001b[0m\n\u001b[0m\u001b[1;32m      2\u001b[0m \u001b[0mX_data\u001b[0m\u001b[0;34m=\u001b[0m\u001b[0mX_data\u001b[0m\u001b[0;34m[\u001b[0m\u001b[0;34m:\u001b[0m\u001b[0;34m,\u001b[0m\u001b[0;36m0\u001b[0m\u001b[0;34m:\u001b[0m\u001b[0;36m2\u001b[0m\u001b[0;34m]\u001b[0m\u001b[0;34m\u001b[0m\u001b[0;34m\u001b[0m\u001b[0m\n\u001b[1;32m      3\u001b[0m \u001b[0my_data\u001b[0m\u001b[0;34m=\u001b[0m\u001b[0mbc\u001b[0m\u001b[0;34m.\u001b[0m\u001b[0mtarget\u001b[0m\u001b[0;34m\u001b[0m\u001b[0;34m\u001b[0m\u001b[0m\n",
      "\u001b[0;31mNameError\u001b[0m: name 'bc' is not defined"
     ]
    }
   ],
   "source": [
    "X_data=bc.data\n",
    "X_data=X_data[:,0:2]\n",
    "y_data=bc.target"
   ]
  },
  {
   "cell_type": "code",
   "execution_count": null,
   "id": "cloudy-leone",
   "metadata": {},
   "outputs": [],
   "source": [
    "import matplotlib.pyplot as plt\n",
    "fig,ax = plt.subplots(1,1)\n",
    "scatter=ax.scatter(X_data[:,0], X_data[:,1], c = y_data, marker = 'o', s=100)\n",
    "ax.set_xlabel('radius')\n",
    "ax.set_ylabel('texture')\n",
    "ax.legend(handles=scatter.legend_elements()[0], labels=['malignant','benign'])"
   ]
  },
  {
   "cell_type": "code",
   "execution_count": null,
   "id": "minus-cache",
   "metadata": {},
   "outputs": [],
   "source": [
    "print(X_data.shape)\n",
    "from sklearn.model_selection import train_test_split\n",
    "X_train, X_test, y_train, y_test = train_test_split(X_data, y_data,test_size = 0.2)\n",
    "\n",
    "from sklearn.linear_model import LogisticRegression\n",
    "logreg = LogisticRegression()\n",
    "logreg.fit(X_train, y_train)\n",
    "\n",
    "print(f'Accuracy of Logistic regression classifier on training set: {logreg.score(X_train, y_train):.2f}')\n",
    "print(f'Accuracy of Logistic regression classifier on test set: {logreg.score(X_test, y_test):.2f}')"
   ]
  },
  {
   "cell_type": "code",
   "execution_count": null,
   "id": "static-wildlife",
   "metadata": {},
   "outputs": [],
   "source": [
    "import matplotlib.pyplot as plt\n",
    "fig,ax = plt.subplots(1,1)\n",
    "scatter=ax.scatter(X_data[:,0], X_data[:,1], c = y_data, marker = 'o', s=100)\n",
    "ax.legend(handles=scatter.legend_elements()[0], labels=['malignant','benign'])\n",
    "ax.set_xlabel('radius [mm]')\n",
    "ax.set_ylabel('texture')\n",
    "\n",
    "import numpy as np\n",
    "# Retrieve the model parameters\n",
    "theta0 = logreg.intercept_[0]\n",
    "theta1, theta2 = logreg.coef_.T\n",
    "# Calculate the intercept and gradient of the decision boundary.\n",
    "c = -theta0/theta2\n",
    "m = -theta1/theta2\n",
    "# Plot the data and the classification with the decision boundary.\n",
    "xmin, xmax = 11, 18\n",
    "#ymin, ymax = 20, 10\n",
    "xd = np.linspace(xmin, xmax,10)\n",
    "yd = m*xd + c\n",
    "ax.plot(xd, yd, 'b', lw=2, ls='-')\n",
    "ax.grid(True)\n",
    "ax.set_ylim(-5,50)"
   ]
  },
  {
   "cell_type": "markdown",
   "id": "considerable-going",
   "metadata": {},
   "source": [
    "Having found the boundary (hypothesis) between the two group of features (radius and texture) we can now predict if a tumor is malignant or benign for any of its size and texture"
   ]
  },
  {
   "cell_type": "code",
   "execution_count": null,
   "id": "subtle-modification",
   "metadata": {},
   "outputs": [],
   "source": [
    "p_malignant, p_benign = logreg.predict_proba([[15,15]])[0]\n",
    "print(p_malignant, p_benign)"
   ]
  },
  {
   "cell_type": "markdown",
   "id": "innocent-apparel",
   "metadata": {},
   "source": [
    "## Let's look at the probability plot (notice we have two features, so its probably easier to plot P(z) vs z)\n",
    "$$g(z)=\\frac{1}{1+e^{-(z)}}$$\n",
    "$$g(\\theta^T X)=\\frac{1}{1+e^{-(\\theta_0 + \\theta_1 x_1 + \\theta_2 x_2)}}$$\n",
    "* arbitrary saying if a tumor is a benign (1) or malign (0)"
   ]
  },
  {
   "cell_type": "code",
   "execution_count": null,
   "id": "stupid-cattle",
   "metadata": {},
   "outputs": [],
   "source": [
    "import matplotlib.pyplot as plt\n",
    "fig,ax = plt.subplots(1,1)\n",
    "z=theta0 + theta1*X_data[:,0] + theta2*X_data[:,1]\n",
    "scatter=ax.scatter(z,1/(1+np.exp(-z)),c = y_data)\n",
    "ax.legend(handles=scatter.legend_elements()[0], labels=['malign','benign'])\n",
    "ax.set_xlabel('z')\n",
    "ax.set_ylabel('P(z)')"
   ]
  },
  {
   "cell_type": "markdown",
   "id": "russian-faith",
   "metadata": {},
   "source": [
    "### notice looking at both plots:\n",
    "\n",
    "* all points (yellow and dark) which lie close to the boundary line have probabilites around 50% for the tumor to be malignant or benign\n",
    "\n",
    "* points that correspond to larger radius >25[mm] will have much higher probability for the tumor to be malignant\n",
    "\n",
    "* points that correspond to smaller radius <10[mm] will have much higher probability for the tumor to be benign"
   ]
  },
  {
   "cell_type": "markdown",
   "id": "appropriate-seller",
   "metadata": {},
   "source": [
    "### Of course we can do three, four or five... etc features (like in multivariate regression). \n",
    "* for example we can also do image classification using logistic regression\n",
    "* the features are the pixels\n",
    "* picture 8x8 pixels has 64 features"
   ]
  },
  {
   "cell_type": "markdown",
   "id": "congressional-worcester",
   "metadata": {},
   "source": [
    "# Non-linear decision boundaries\n",
    "* boundaries can be linear - straight line\n",
    "* or nonlinear - circle or more complicated forms"
   ]
  },
  {
   "cell_type": "code",
   "execution_count": null,
   "id": "committed-closure",
   "metadata": {},
   "outputs": [],
   "source": [
    "import matplotlib.pyplot as plt\n",
    "\n",
    "os = np.array([[0,0], [0,0.5], [0.5,0.5], [0.5,0], [-0.5,0.5], [-0.5,0], [-0.5,-0.5], [0,-0.5], [0.5, -0.5],])\n",
    "xs = np.array([[1,1], [-1,1], [1,-1], [-1,-1], [0,1.5], [-1.5,0], [0,-1.5], [1.5,0]])\n",
    "\n",
    "fig,ax = plt.subplots(1,1,figsize=(5,5))\n",
    "ax.scatter(os[:,0], os[:,1], marker = 'o', s = 100, color = 'y')\n",
    "ax.scatter(xs[:,0], xs[:,1], marker = 'o', s = 100, color = 'k')\n",
    "ax.set_ylabel('x2')\n",
    "ax.set_xlabel('x1')"
   ]
  },
  {
   "cell_type": "markdown",
   "id": "thrown-currency",
   "metadata": {},
   "source": [
    "As in the above example, the black circle points belong to the region y=1 and the red circles points belong to the region y=0. Let’s say our hypothesis looks like:\n",
    "\n",
    "$h_{\\theta}(x)=\\theta_0+\\theta_1 x_1 +\\theta_2 x_2 +\\theta_3 x_1^2 + \\theta_4 x_2^2 $\n",
    "\n",
    "Assume we end up choosing the values of parameters as:\n",
    "\n",
    "$$\\theta_0=-1$$\n",
    "$$\\theta_1=0$$\n",
    "$$\\theta_2=0$$\n",
    "$$\\theta_3=1$$\n",
    "$$\\theta_4=1$$\n",
    "\n",
    "Then our parameter vector looks like:\n"
   ]
  },
  {
   "cell_type": "markdown",
   "id": "optimum-bandwidth",
   "metadata": {},
   "source": [
    "the hypothesis will predict y=1 when:\n",
    "$$1-x_1^2 + x_2^2 \\geq 0$$\n",
    "or\n",
    "$$x_1^2 + x_2^2 \\geq 1$$\n",
    "\n",
    "We can see that the above equation corresponds to a circle of radius 1 centered at the origin."
   ]
  },
  {
   "cell_type": "code",
   "execution_count": null,
   "id": "appreciated-sherman",
   "metadata": {},
   "outputs": [],
   "source": [
    "fig,ax = plt.subplots(1,1,figsize=(5,5))\n",
    "theta = np.linspace(0, 2*np.pi , 1000)\n",
    "r = np.sqrt(1)\n",
    "x = r*np.cos(theta)\n",
    "y = r*np.sin(theta)\n",
    "ax.plot(x,y, color = 'b')\n",
    "ax.scatter(os[:,0], os[:,1], marker = 'o', s = 100, color = 'y')\n",
    "ax.scatter(xs[:,0], xs[:,1], marker = 'o', s = 100, color = 'k')"
   ]
  },
  {
   "cell_type": "markdown",
   "id": "owned-aside",
   "metadata": {},
   "source": [
    "The circle is our decision boundary (hypothesis?) and the region outside the circle corresponds to y=1 and inside the circle corresponds to y=0. \n",
    "The point lying exactly on the line will have probabitly 0.5 to belong to one or the other class.\n",
    "\n",
    "We can see that the decision boundary doesn't necessarily have to be a straight line but also more complex shapes like a circle, ellipse, and any other irregular shapes. Again the decision boundary is a property of the hypothesis and its parameters and not that of the training dataset."
   ]
  },
  {
   "cell_type": "markdown",
   "id": "thick-option",
   "metadata": {},
   "source": [
    "### more realistic non-linear decision boundary (example from internet) problem unidentified"
   ]
  },
  {
   "cell_type": "markdown",
   "id": "thorough-wright",
   "metadata": {},
   "source": [
    "<img src=\"imgs/nonlinear_boundary.png\" width=\"500\" />"
   ]
  },
  {
   "cell_type": "markdown",
   "id": "auburn-asthma",
   "metadata": {},
   "source": [
    "# But how does it really work?\n",
    "\n",
    "in all the examples we performed a fitting to find the parameters $\\theta_0$, $\\theta_1$... $\\theta_n$\n",
    "\n",
    "* and the output is the probability (values between 0 and 1)\n",
    "$$g(\\theta^T X)=\\frac{1}{1+e^{-(\\theta^T X)}}$$\n",
    "\n",
    "* what is the cost function for logistic regression?\n",
    "* how is it minimized?\n",
    "* linear regression hypothesis $h_{\\theta}(x)=\\theta_0+\\theta_1x$ - which is a straight line\n",
    "* logistic regression hypothesis: $h_{\\theta}(x)=g(\\theta^T X) = \\frac{1}{1+e^{-(\\theta^T X)}}$ - more complicated function\n",
    "\n",
    "How to choose parameters $\\Theta$ with Logistic Regression? "
   ]
  },
  {
   "cell_type": "markdown",
   "id": "dietary-passport",
   "metadata": {},
   "source": [
    "Cost function for the linear regression from the last class:\n",
    "\n",
    "$$J(\\theta_0,\\theta_1,\\theta_2,,\\theta_3...) = \\frac{1}{m} \\sum_{i=1}^{m}[ h_{\\theta}(x_i) - y_i]^2 $$\n",
    "\n",
    "where $h_{\\theta}(x)=\\theta^T X$"
   ]
  },
  {
   "cell_type": "markdown",
   "id": "czech-cancellation",
   "metadata": {},
   "source": [
    "What if we use the same definition as above to find the cost of the logistic regression:\n",
    "\n",
    "$$J(\\theta_0,\\theta_1,\\theta_2,,\\theta_3...) = \\frac{1}{m} \\sum_{i=1}^{m}[ h_{\\theta}(x_i) - y_i]^2 $$\n",
    "\n",
    "must remember that now: $h_{\\theta}(x)$ is more complicated.\n",
    "\n",
    "$h_{\\theta}(x)=g(\\theta^T X) = \\frac{1}{1+e^{-(\\theta^T X)}}$"
   ]
  },
  {
   "cell_type": "markdown",
   "id": "royal-fireplace",
   "metadata": {},
   "source": [
    "Unfortunately, we cannot use the Linear Regression Cost Function for the Logistic. Sigmoid is a nonlinear function, which will make the cost function not convex (which is the the case of linear regression) and will look like this. (if we plug $h_{\\theta}(x)$ into the above equation and plot $J(\\theta)$ then the plot will look like following on the Left Hand Side (LHS).\n",
    "\n",
    "<img src=\"imgs/convex_nonconvex.png\" width=\"500\" /> "
   ]
  },
  {
   "cell_type": "markdown",
   "id": "herbal-florida",
   "metadata": {},
   "source": [
    "This non-convex $J(\\theta)$ is a function with many local minima. It’s not guaranteed that the Gradient descent will converge to the global minimum. What we want is a convex $J(\\theta)$, which is a function that converges to the global minimum (on the very bottom). We want a cost function to have one minima, not many. So, we have to write the Cost Function in a way that guarantees a convex $J(\\theta)$:"
   ]
  },
  {
   "cell_type": "markdown",
   "id": "stuffed-sandwich",
   "metadata": {},
   "source": [
    "$$J(\\theta_0,\\theta_1,\\theta_2,,\\theta_3...) = \\frac{1}{m} \\sum_{i=1}^{m} Cost\\left( h_{\\theta}(x_i) - y_i\\right) $$"
   ]
  },
  {
   "cell_type": "markdown",
   "id": "green-viewer",
   "metadata": {},
   "source": [
    "\\begin{equation}\n",
    "  Cost\\left( h_{\\theta}(x),y\\right)=\\begin{cases}\n",
    "    -log (h_{\\theta}(x)) , & \\text{if $y=1$}.\\\\\n",
    "    -log (1- h_{\\theta}(x)) , & \\text{if $y=0$}.\n",
    "  \\end{cases}\n",
    "\\end{equation}"
   ]
  },
  {
   "cell_type": "markdown",
   "id": "marine-electricity",
   "metadata": {},
   "source": [
    "Lets plot the logarithms..."
   ]
  },
  {
   "cell_type": "code",
   "execution_count": null,
   "id": "egyptian-result",
   "metadata": {},
   "outputs": [],
   "source": [
    "import numpy as np\n",
    "hx=np.linspace(0,1,100)\n",
    "hx=hx[1:-1]\n",
    "cost_hx_y_1=-np.log(hx)\n",
    "cost_hx_y_0=-np.log(1-hx)\n",
    "import matplotlib.pyplot as plt\n",
    "fix,ax=plt.subplots(1,2,figsize=(8,4))\n",
    "\n",
    "ax[0].plot(hx,cost_hx_y_1,'-r')\n",
    "ax[0].set_xlabel('hx')\n",
    "ax[0].set_ylabel('Cost(hx,y=1)')\n",
    "ax[0].set_title('Cost of hx for y=1)')\n",
    "\n",
    "ax[1].plot(hx,cost_hx_y_0)\n",
    "ax[1].set_xlabel('hx')\n",
    "ax[1].set_ylabel('Cost of hx for y=1')\n",
    "ax[1].set_title('Cost of hx for y=0')"
   ]
  },
  {
   "cell_type": "markdown",
   "id": "vanilla-balloon",
   "metadata": {},
   "source": [
    "Lets look at each plot separately for each case:\n",
    "\n",
    "* if y=1 and $h_{\\theta}(x)$ is close to zero then the cost fuction goes to $\\infty$, and if y=1 and $h_{\\theta}(x)$ is close to one then the cost fuction goes to $0$.\n",
    "\n",
    "* if y=0 and $h_{\\theta}(x)$ is close to one then the cost fuction goes to $\\infty$, and if y=0 and $h_{\\theta}(x)$ is close to zero then the cost fuction goes to $0$."
   ]
  },
  {
   "cell_type": "markdown",
   "id": "incoming-vehicle",
   "metadata": {},
   "source": [
    "In other words:\n",
    "\n",
    "* y=1 can be only if $h_{\\theta}(x) \\geq 0.5$ so if $h_{\\theta}(x)$ is close to zero the algrithm will penalize the large cost!\n",
    "* y=0 can be only if $h_{\\theta}(x) < 0.5$ so if $h_{\\theta}(x)$ is close to one the algrithm will penalize the large cost!"
   ]
  },
  {
   "cell_type": "markdown",
   "id": "loved-plain",
   "metadata": {},
   "source": [
    "Hence we have one minimum for each case. Below the same plots as before but in colors for clarity."
   ]
  },
  {
   "cell_type": "markdown",
   "id": "blond-market",
   "metadata": {},
   "source": [
    "<img src=\"imgs/cost_function1.png\" width=\"700\" />"
   ]
  },
  {
   "cell_type": "markdown",
   "id": "elegant-rochester",
   "metadata": {},
   "source": [
    "Because we have two binary conditions for the Benign or Malignant outcome (y), the Cost Function concerning y is.\n",
    "\n",
    "If y = 1, but we predict $h_{\\theta}(x) = 0$, we will penalize the learning algorithm by a considerable cost (see the red curve in Figure) because, in this case, the cost will tend to infinite. Instead, if our prediction is $h_{\\theta}(x) = 1$, (thus equal to y), then the cost is going to be 0.\n",
    "\n",
    "In the case of y = 0, we have the opposite: if y = 0 and we predict $h_{\\theta}(x) = 0$, the cost is going to be 0, because our Hypothesis matches with y, while if our prediction is $h_{\\theta}(x) = 1$, we end up paying a very large cost.\n"
   ]
  },
  {
   "cell_type": "markdown",
   "id": "foster-technique",
   "metadata": {},
   "source": [
    "One can write the cost function in one compressed way.\n",
    "The simplified version of the Cost Function is the following:\n",
    "\n",
    "\\begin{equation}\n",
    "  Cost\\left( h_{\\theta}(x),y\\right)=\\begin{cases}\n",
    "    -log (h_{\\theta}(x)) , & \\text{if $y=1$}.\\\\\n",
    "    -log (1- h_{\\theta}(x)) , & \\text{if $y=0$}.\n",
    "  \\end{cases}\n",
    "\\end{equation}"
   ]
  },
  {
   "cell_type": "markdown",
   "id": "mature-lambda",
   "metadata": {},
   "source": [
    "$$Cost\\left( h_{\\theta}(x),y\\right)=-y log (h_{\\theta}(x)) - (1-y)(log (1- h_{\\theta}(x)))$$\n",
    "\n",
    "if $y=1$\n",
    "\n",
    "$$Cost\\left( h_{\\theta}(x),y\\right)=-log (h_{\\theta}(x))$$\n",
    "\n",
    "if $y=0$\n",
    "\n",
    "$$Cost\\left( h_{\\theta}(x),y\\right)=-log (1 - h_{\\theta}(x))$$"
   ]
  },
  {
   "cell_type": "markdown",
   "id": "national-lesson",
   "metadata": {},
   "source": [
    "### Finally after putting everything together we get:\n",
    "\n",
    "$$J(\\theta) = \\frac{1}{m} \\sum_{i=1}^{m} -y log (h_{\\theta}(x)) - (1-y)(log (1- h_{\\theta}(x))) $$\n",
    "\n",
    "or \n",
    "\n",
    "$$J(\\theta) = -\\frac{1}{m} \\left[\\sum_{i=1}^{m} y log (h_{\\theta}(x)) + (1-y)(log (1- h_{\\theta}(x))) \\right]$$\n",
    "\n",
    "which for each sample:\n",
    "\n",
    "$$J(\\theta) = -\\frac{1}{m} \\left[\\sum_{i=1}^{m} y^{(i)} log (h_{\\theta}(x^{(i)})) + (1-y^{(i)})(log (1 - h_{\\theta}(x^{(i)}))) \\right]$$\n",
    "\n",
    "* this can be derived from the principle of \"maximum likelihood estimation\"\n",
    "\n",
    "* we want to find $\\Theta$ that minimizes $J(\\Theta)$"
   ]
  },
  {
   "cell_type": "markdown",
   "id": "chemical-arcade",
   "metadata": {},
   "source": [
    "## Gradient descent"
   ]
  },
  {
   "cell_type": "markdown",
   "id": "preliminary-welsh",
   "metadata": {},
   "source": [
    "From the class on the gradient descent of the linear regression we remember that the update of each of the parameter $\\theta_j$\n",
    "we need to take the derivative of the $J(\\theta)$:\n",
    "\n",
    "$$\\theta_j:=\\theta_j - \\alpha \\frac{d}{d\\theta_j}J(\\theta_j)$$\n",
    "\n",
    "It can be shown that the derivative of the cost function $J(\\theta)$ for the logistic regression is:\n",
    "\n",
    "$$\\frac{d}{d\\theta}J(\\theta)= \\frac{1}{m} \\sum_{i=1}^{m}[ h_{\\theta}(x_i) - y_i] (x_i)  $$"
   ]
  },
  {
   "cell_type": "markdown",
   "id": "settled-hunter",
   "metadata": {},
   "source": [
    "Hence actually the Gradient descent is identical to that used for the Linear Regression. The only difference is that the definition of $h_{\\theta}(x)$ contains the sigmoid function."
   ]
  },
  {
   "cell_type": "markdown",
   "id": "efficient-sugar",
   "metadata": {},
   "source": [
    "$$\\theta_0:=\\theta_0 - \\alpha \\frac{1}{m} \\sum_{i=1}^{m}[ h_{\\theta}(x_i) - y_i]$$\n",
    "$$\\theta_1:=\\theta_1 - \\alpha \\frac{1}{m} \\sum_{i=1}^{m}([ h_{\\theta}(x_i) - y_i]*x_i)$$"
   ]
  },
  {
   "cell_type": "markdown",
   "id": "alternative-universal",
   "metadata": {},
   "source": [
    "where:\n",
    "$h_{\\theta}(x)= \\frac{1}{1+e^{-(\\theta^T X)}}$"
   ]
  }
 ],
 "metadata": {
  "kernelspec": {
   "display_name": "Python 3",
   "language": "python",
   "name": "python3"
  },
  "language_info": {
   "codemirror_mode": {
    "name": "ipython",
    "version": 3
   },
   "file_extension": ".py",
   "mimetype": "text/x-python",
   "name": "python",
   "nbconvert_exporter": "python",
   "pygments_lexer": "ipython3",
   "version": "3.7.2"
  }
 },
 "nbformat": 4,
 "nbformat_minor": 5
}
