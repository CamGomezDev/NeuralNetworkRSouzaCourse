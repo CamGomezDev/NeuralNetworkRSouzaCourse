{
 "cells": [
  {
   "cell_type": "markdown",
   "id": "lesbian-surfing",
   "metadata": {},
   "source": [
    "## Modelado de datos con Redes Neuronales: Class 2"
   ]
  },
  {
   "cell_type": "markdown",
   "id": "biblical-nicaragua",
   "metadata": {},
   "source": [
    "## Vocabulary\n",
    "* stuff - cosas\n",
    "* staff - personel\n",
    "* remarks - comentarios\n",
    "* at least - por lo menos\n",
    "* skills - habilidades\n",
    "* give someone a credit for something - apreciar alguien por algo\n",
    "* take it easy\n",
    "* guys - chicos\n",
    "* obviously - obvio\n",
    "* hints - pistas\n",
    "* feature - caracteristica\n",
    "* creepy - miedoso\n",
    "* mentioned - mensionado"
   ]
  },
  {
   "cell_type": "markdown",
   "id": "satisfied-thunder",
   "metadata": {},
   "source": [
    "## Order of the class:\n",
    "* organization stuff \n",
    "    * remarks on language (if you are already great in NN at least you can improve you English skills)\n",
    "    * lets make it interactive\n",
    "    * github and homeworks submissions\n",
    "    * lets take it easy we have time (no strike planned)\n",
    "* from general to details\n",
    "* hints on programming and doing homeworks\n",
    "* machine learning basics\n",
    "* types of algorithms\n",
    "\n",
    "\n",
    "* visualization using Matplotlib\n",
    "* crash course on image processing "
   ]
  },
  {
   "cell_type": "markdown",
   "id": "shaped-initial",
   "metadata": {},
   "source": [
    "## How to learn things\n",
    "- avoid copy and paste\n",
    "- memorize most common commands (same as English language) - make your own \"dictionary\"\n",
    "- plan before you code (write on a piece of paper then copy) - it will give you a satisfaction if your code works\n",
    "- close your computer and reflect!\n",
    "- do your homework!!! Ask questions"
   ]
  },
  {
   "cell_type": "markdown",
   "id": "certain-samba",
   "metadata": {},
   "source": [
    "## The challenge of machine learning \n",
    "(human's world complexity)\n",
    "* example: image\n",
    "* how would you recognized a cat on an image?\n",
    "* checking if pixels form a shape of a cat * using \"if\" \"else if\" syntax???\n",
    "\n",
    "\n",
    "* example: voz\n",
    "* how would you convert human speach to text - speach recognition\n",
    "* can this be simply done using programming syntax: \"if\" \"else if\"?\n",
    "\n",
    "  <img src=\"imgs/speach_recognition.png\" width=\"500\" />\n",
    "  \n",
    "  * take into account different accents\n",
    "  * vocabulary\n",
    "  * what if there is new vocabulary?\n",
    "  * how would you define a set of complex rules if, else...\n",
    "  * to decide which word correspond to which object?\n",
    "  * ordering pizza by voice command that would result computer to take an action and call a pizzeria.... \n",
    "  * even if you could do it, it would still not be flexible enough to recognize new words!\n",
    "* machine learning allows us to automatically learn these complex rules efficiently from labeled examples - called training data\n",
    "* statistical learning (humans also make errors)"
   ]
  },
  {
   "cell_type": "markdown",
   "id": "neither-finance",
   "metadata": {},
   "source": [
    "## Machine Learning definition\n",
    "\n",
    "* The term Machine Learning was coined by Arthur Samuel in 1959, an American pioneer in the field of computer gaming and artificial intelligence, and stated that “it gives computers the ability to learn without being explicitly programmed”.\n",
    "\n",
    "\n",
    "* And in 1997, Tom Mitchell gave a “well-posed” mathematical and relational definition that “A computer program is said to learn from experience E with respect to some task T and some performance measure P, if its performance on T, as measured by P, improves with experience E.\n",
    "(Se dice que un programa de computadora aprende de la experiencia E con respecto a alguna tarea T y alguna medida de desempeño P, si su desempeño en T, medido por P, mejora con la experiencia E )\n",
    "\n",
    "\n",
    "* Wikipedia: Machine learning is the study of computer algorithms that can improve automatically through experience and by the use of data. It is seen as a part of artificial intelligence...."
   ]
  },
  {
   "cell_type": "markdown",
   "id": "attractive-columbia",
   "metadata": {},
   "source": [
    "## How the machines can learn by themselves - example\n",
    "* example: apple\n",
    "* if there was a person that has never seen an apple and you showed him an image of an apple \n",
    "\n",
    "<img src=\"imgs/apple_1.png\" width=\"300\" />\n",
    "\n",
    "* and then show him different image of an apple \n",
    "* he could most probably make a mistake because: he could even confuse it with apricot... because he $\\textbf{learned}$ that apple is red, round, has the stem \n",
    "\n",
    "<img src=\"imgs/apple_2.png\" width=\"300\" />\n",
    "\n",
    "* but if we showed that person 100 different apples and $\\textbf{label}$ them as \"apple\" he starts thinking ok, (so apple un grupo de frutas... un especie), so there is a pattern \n",
    "\n",
    "<img src=\"imgs/apples.png\" width=\"1000\" />\n",
    "\n",
    "* why? Because all apples they have something in common!!!\n",
    "\n",
    "  * skin (texture)\n",
    "  * size (smaller than watermelon)\n",
    "  * stem \n",
    "  * dimple\n",
    "  * color (red, yellow, green with shades...)\n",
    "  * feature correlation (ajuste)\n",
    "  \n",
    "<img src=\"imgs/apple_diagram.png\" width=\"400\" />\n",
    "\n",
    "* recognizing an apple can even simple animal so its not about true thinkig or inteligence (chicken)\n",
    "* so computer can find those \"correlations\"\n",
    "* computer can learn like a baby from the \"experience\"\n",
    "* sample + label is all what it needs to generalize the problem (for this particular problem)\n",
    "* how? we need to understand how fitting works\n",
    "* there is a lot of math behind all of this (convolution, correlation, regression...)\n",
    "* so the idea behind machine learning is to make computers learn by themselves\n",
    "\n",
    "\n",
    "* Apart from some creepy news on Machine Learning there are also a great things:\n",
    "\n",
    "https://news.stanford.edu/news/2008/september10/helicopter-091008.html\n",
    "\n",
    "https://www.youtube.com/watch?v=M-QUkgk3HyE\n",
    "\n",
    "https://newatlas.com/robotic-helicopter-teaches-itself-how-to-fly-aerobatics/11621/\n",
    "\n",
    "https://www.youtube.com/watch?v=W_gxLKSsSIE (... reinforced learning)\n",
    "\n",
    "https://tectales.com/bionics-robotics/self-learning-robots-go-full-steam-ahead.html\n"
   ]
  },
  {
   "cell_type": "markdown",
   "id": "dental-magnitude",
   "metadata": {},
   "source": [
    "## Different algorithm for different problem\n",
    "\n",
    "* recognizing an apple is just one type of a problem\n",
    "* not all methods are good in recognizing an apple, in this particular task CNN are the best\n",
    "* so there are different methods for different tasks\n",
    "* if something is apple or not an apple is called a clasification problem\n",
    "* the problems that the \"machines\" will encounter in human world are of different types (not only categorization, also optimization, prediction, regression, clustering): "
   ]
  },
  {
   "cell_type": "markdown",
   "id": "hungarian-channel",
   "metadata": {},
   "source": [
    "### Machine Learning by problem (or algorithm):\n",
    "\n",
    "<img src=\"imgs/machine_learning_types.png\" width=\"500\" />"
   ]
  },
  {
   "cell_type": "markdown",
   "id": "immune-budget",
   "metadata": {},
   "source": [
    "###  Difference between supervised and unsupervised learning (focus on level 1):\n",
    "\n",
    "<img src=\"imgs/machine_learning_types2.png\" width=\"500\" />"
   ]
  },
  {
   "cell_type": "markdown",
   "id": "hispanic-extension",
   "metadata": {},
   "source": [
    "###  Different types of supervised/unsupervised learning (focus on level 2):\n",
    "<img src=\"imgs/machine_learning_types4.png\" width=\"800\" />"
   ]
  },
  {
   "cell_type": "markdown",
   "id": "fifth-analyst",
   "metadata": {},
   "source": [
    "###  Examples of types of supervised/unsupervised learning (level 2):\n",
    "* Supervised learning\n",
    "  * regression (continues values: house prices predicition based on house size)\n",
    "  <img src=\"imgs/regression_problem.png\" width=\"500\" />\n",
    "  * classification (discrete values: based on many images and labels predict or classify fruits, people, but also binary: yes/no, cancer benigno/maligno? but all with labels)\n",
    " <img src=\"imgs/classification_problem.png\" width=\"700\" />\n",
    "* Unsupervised learning\n",
    "  * clustering (organizing articles based on topic, context, NO labels)\n",
    "  <img src=\"imgs/clustering_problem.png\" width=\"500\" />\n",
    "  https://news.google.com\n",
    "  https://www.niemanlab.org/2020/04/france-is-the-latest-european-country-to-demand-that-google-pay-news-orgs-for-including-their-stories-in-search/\n",
    "  * association (what people buy together: clothes and watches)\n",
    "  <img src=\"imgs/association_problem.png\" width=\"500\" />\n",
    "  * dimensionality reduction\n",
    "  autoencoders...PCA\n",
    "  <img src=\"imgs/dimensionality_reduction.png\" width=\"500\" />"
   ]
  },
  {
   "cell_type": "markdown",
   "id": "behind-heavy",
   "metadata": {},
   "source": [
    "##  How to choose the algorithm or assign the algorithm to a problem:\n",
    "\n",
    "    * are the labels necessary?\n",
    "        * yes - supervised learning\n",
    "            * are the variables continuous or discrete\n",
    "                * discrete: classification problem\n",
    "                * continuous: regression problem \n",
    "        * no  - unsupervised learning\n",
    "            * clustering\n",
    "            * dimensionality reduction\n",
    "            * association"
   ]
  },
  {
   "cell_type": "markdown",
   "id": "passive-departure",
   "metadata": {},
   "source": [
    "## Quiz\n",
    "Q1.\n",
    "https://poll-maker.com/poll3974657x5cAb877E-126\n",
    "\n",
    "Q2.\n",
    "https://poll-maker.com/poll3974653x0CA2456f-126 \n",
    "\n",
    "Q3.\n",
    "https://poll-maker.com/poll3974415x376049EF-126 \n",
    "\n",
    "Q4.\n",
    "https://poll-maker.com/poll3974356x370173b8-126 \n",
    "\n",
    "Q.5.\n",
    "https://poll-maker.com/poll3988357xC0804A00-126"
   ]
  },
  {
   "cell_type": "markdown",
   "id": "assumed-telephone",
   "metadata": {},
   "source": [
    "## What to use and when\n",
    "This is not obvious, but just for orientation... lets look at the cheat sheet:\n",
    "<img src=\"imgs/CheatSheet2.png\" width=\"1200\" />\n",
    "  https://blogs.sas.com/content/subconsciousmusings/files/2017/04/machine-learning-cheet-sheet.png"
   ]
  },
  {
   "cell_type": "markdown",
   "id": "ordered-nitrogen",
   "metadata": {},
   "source": [
    "## Machine learning is lot of data\n",
    "What data will we work with?\n",
    "\n",
    "* images - Matplotlib\n",
    "    * visualizing them\n",
    "    * checking dimensions\n",
    "    * RGB to gray scale conversion\n",
    "    * reshaping with numpy\n",
    "* tables with columns and rows of data - Pandas\n",
    "    * dictionaries\n",
    "    * creating and saving panda dataframes\n",
    "    * loading dataframes from files\n",
    "    * data manipulation\n",
    "* spectroscopy signals...\n",
    "    * Python and OS\n",
    "    * loading data from nested directories"
   ]
  },
  {
   "cell_type": "code",
   "execution_count": null,
   "id": "unexpected-biotechnology",
   "metadata": {},
   "outputs": [],
   "source": []
  },
  {
   "cell_type": "code",
   "execution_count": null,
   "id": "unlikely-profit",
   "metadata": {},
   "outputs": [],
   "source": []
  },
  {
   "cell_type": "code",
   "execution_count": null,
   "id": "cultural-uzbekistan",
   "metadata": {},
   "outputs": [],
   "source": []
  },
  {
   "cell_type": "markdown",
   "id": "efficient-platform",
   "metadata": {},
   "source": [
    "## Homework 1 (can you do this?:)\n",
    "* write on a piece of paper an algorithm that multiplies two matrices A, B (using loops only)\n",
    "\n",
    "<img src=\"imgs/matrix_multiplication.png\" width=\"500\" />\n",
    "\n",
    "* implement your code using python and check if your result is correct using A@B."
   ]
  },
  {
   "cell_type": "code",
   "execution_count": 18,
   "id": "engaged-custody",
   "metadata": {},
   "outputs": [
    {
     "data": {
      "text/plain": [
       "array([[14, 32],\n",
       "       [32, 77]])"
      ]
     },
     "execution_count": 18,
     "metadata": {},
     "output_type": "execute_result"
    }
   ],
   "source": [
    "import numpy as np\n",
    "A=np.array([[1,2,3],[4,5,6]])\n",
    "B=A.T\n",
    "A@B"
   ]
  },
  {
   "cell_type": "code",
   "execution_count": 17,
   "id": "complete-solomon",
   "metadata": {},
   "outputs": [
    {
     "name": "stdout",
     "output_type": "stream",
     "text": [
      "[[1 2 3]\n",
      " [4 5 6]]\n",
      "[[1 4]\n",
      " [2 5]\n",
      " [3 6]]\n"
     ]
    }
   ],
   "source": [
    "print(A)\n",
    "print(B)"
   ]
  }
 ],
 "metadata": {
  "kernelspec": {
   "display_name": "Python 3",
   "language": "python",
   "name": "python3"
  },
  "language_info": {
   "codemirror_mode": {
    "name": "ipython",
    "version": 3
   },
   "file_extension": ".py",
   "mimetype": "text/x-python",
   "name": "python",
   "nbconvert_exporter": "python",
   "pygments_lexer": "ipython3",
   "version": "3.7.2"
  }
 },
 "nbformat": 4,
 "nbformat_minor": 5
}
