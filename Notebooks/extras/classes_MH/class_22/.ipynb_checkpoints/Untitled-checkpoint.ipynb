{
 "cells": [
  {
   "cell_type": "code",
   "execution_count": 2,
   "id": "abandoned-happiness",
   "metadata": {},
   "outputs": [],
   "source": [
    "#import all the dependencies\n",
    "from keras.layers import Dense,Conv2D,MaxPooling2D,UpSampling2D\n",
    "from keras import Input, Model\n",
    "from keras.datasets import mnist\n",
    "import numpy as np\n",
    "import matplotlib.pyplot as plt"
   ]
  },
  {
   "cell_type": "code",
   "execution_count": 3,
   "id": "removed-function",
   "metadata": {},
   "outputs": [],
   "source": [
    "encoding_dim = 15 \n",
    "input_img = Input(shape=(784,))\n",
    "# encoded representation of input\n",
    "encoded = Dense(encoding_dim, activation='relu')(input_img)\n",
    "# decoded representation of code \n",
    "decoded = Dense(784, activation='sigmoid')(encoded)\n",
    "# Model which take input image and shows decoded images\n",
    "autoencoder = Model(input_img, decoded)"
   ]
  },
  {
   "cell_type": "code",
   "execution_count": 4,
   "id": "moved-crystal",
   "metadata": {},
   "outputs": [],
   "source": [
    "# This model shows encoded images\n",
    "encoder = Model(input_img, encoded)\n",
    "# Creating a decoder model\n",
    "encoded_input = Input(shape=(encoding_dim,))\n",
    "# last layer of the autoencoder model\n",
    "decoder_layer = autoencoder.layers[-1]\n",
    "# decoder model\n",
    "decoder = Model(encoded_input, decoder_layer(encoded_input))"
   ]
  },
  {
   "cell_type": "code",
   "execution_count": 5,
   "id": "criminal-space",
   "metadata": {},
   "outputs": [],
   "source": [
    "autoencoder.compile(optimizer='adam', loss='binary_crossentropy')"
   ]
  },
  {
   "cell_type": "code",
   "execution_count": 6,
   "id": "special-commission",
   "metadata": {},
   "outputs": [
    {
     "name": "stdout",
     "output_type": "stream",
     "text": [
      "(60000, 784)\n",
      "(10000, 784)\n"
     ]
    }
   ],
   "source": [
    "(x_train, y_train), (x_test, y_test) = mnist.load_data()\n",
    "x_train = x_train.astype('float32') / 255.\n",
    "x_test = x_test.astype('float32') / 255.\n",
    "x_train = x_train.reshape((len(x_train), np.prod(x_train.shape[1:])))\n",
    "x_test = x_test.reshape((len(x_test), np.prod(x_test.shape[1:])))\n",
    "print(x_train.shape)\n",
    "print(x_test.shape)"
   ]
  },
  {
   "cell_type": "code",
   "execution_count": 7,
   "id": "patent-publicity",
   "metadata": {},
   "outputs": [
    {
     "data": {
      "text/plain": [
       "<matplotlib.image.AxesImage at 0x7f3664495630>"
      ]
     },
     "execution_count": 7,
     "metadata": {},
     "output_type": "execute_result"
    },
    {
     "data": {
      "image/png": "[encoded data removed]",
      "text/plain": [
       "<Figure size 432x288 with 1 Axes>"
      ]
     },
     "metadata": {
      "needs_background": "light"
     },
     "output_type": "display_data"
    }
   ],
   "source": [
    "plt.imshow(x_train[0].reshape(28,28))"
   ]
  },
  {
   "cell_type": "code",
   "execution_count": 8,
   "id": "gothic-vermont",
   "metadata": {},
   "outputs": [
    {
     "name": "stdout",
     "output_type": "stream",
     "text": [
      "Epoch 1/15\n",
      "235/235 [==============================] - 14s 8ms/step - loss: 0.4153 - val_loss: 0.2287\n",
      "Epoch 2/15\n",
      "235/235 [==============================] - 1s 6ms/step - loss: 0.2151 - val_loss: 0.1841\n",
      "Epoch 3/15\n",
      "235/235 [==============================] - 2s 6ms/step - loss: 0.1800 - val_loss: 0.1664\n",
      "Epoch 4/15\n",
      "235/235 [==============================] - 2s 8ms/step - loss: 0.1649 - val_loss: 0.1552\n",
      "Epoch 5/15\n",
      "235/235 [==============================] - 2s 7ms/step - loss: 0.1548 - val_loss: 0.1489\n",
      "Epoch 6/15\n",
      "235/235 [==============================] - 2s 7ms/step - loss: 0.1488 - val_loss: 0.1458\n",
      "Epoch 7/15\n",
      "235/235 [==============================] - 2s 7ms/step - loss: 0.1462 - val_loss: 0.1433\n",
      "Epoch 8/15\n",
      "235/235 [==============================] - 2s 7ms/step - loss: 0.1440 - val_loss: 0.1416\n",
      "Epoch 9/15\n",
      "235/235 [==============================] - 2s 6ms/step - loss: 0.1424 - val_loss: 0.1400\n",
      "Epoch 10/15\n",
      "235/235 [==============================] - 2s 9ms/step - loss: 0.1405 - val_loss: 0.1387\n",
      "Epoch 11/15\n",
      "235/235 [==============================] - 2s 7ms/step - loss: 0.1389 - val_loss: 0.1374\n",
      "Epoch 12/15\n",
      "235/235 [==============================] - 1s 6ms/step - loss: 0.1380 - val_loss: 0.1363\n",
      "Epoch 13/15\n",
      "235/235 [==============================] - 1s 6ms/step - loss: 0.1371 - val_loss: 0.1354\n",
      "Epoch 14/15\n",
      "235/235 [==============================] - 2s 7ms/step - loss: 0.1361 - val_loss: 0.1348\n",
      "Epoch 15/15\n",
      "235/235 [==============================] - 2s 7ms/step - loss: 0.1357 - val_loss: 0.1341\n"
     ]
    },
    {
     "data": {
      "text/plain": [
       "<keras.callbacks.History at 0x7f360d06b400>"
      ]
     },
     "execution_count": 8,
     "metadata": {},
     "output_type": "execute_result"
    }
   ],
   "source": [
    "autoencoder.fit(x_train, x_train,\n",
    "                epochs=15,\n",
    "                batch_size=256,\n",
    "                validation_data=(x_test, x_test))"
   ]
  },
  {
   "cell_type": "code",
   "execution_count": 9,
   "id": "primary-hunter",
   "metadata": {},
   "outputs": [
    {
     "data": {
      "image/png": "[encoded data removed]",
      "text/plain": [
       "<Figure size 1440x288 with 10 Axes>"
      ]
     },
     "metadata": {
      "needs_background": "light"
     },
     "output_type": "display_data"
    }
   ],
   "source": [
    "encoded_img = encoder.predict(x_test)\n",
    "decoded_img = decoder.predict(encoded_img)\n",
    "plt.figure(figsize=(20, 4))\n",
    "for i in range(5):\n",
    "    # Display original\n",
    "    ax = plt.subplot(2, 5, i + 1)\n",
    "    plt.imshow(x_test[i].reshape(28, 28))\n",
    "    plt.gray()\n",
    "    ax.get_xaxis().set_visible(False)\n",
    "    ax.get_yaxis().set_visible(False)\n",
    "    # Display reconstruction\n",
    "    ax = plt.subplot(2, 5, i + 1 + 5)\n",
    "    plt.imshow(decoded_img[i].reshape(28, 28))\n",
    "    plt.gray()\n",
    "    ax.get_xaxis().set_visible(False)\n",
    "    ax.get_yaxis().set_visible(False)\n",
    "plt.show()"
   ]
  },
  {
   "cell_type": "code",
   "execution_count": 33,
   "id": "legislative-compilation",
   "metadata": {},
   "outputs": [],
   "source": [
    "from tensorflow.keras.models import Sequential\n",
    "from tensorflow.keras.layers import InputLayer, Dense, Flatten, Conv2D, MaxPooling2D, LeakyReLU"
   ]
  },
  {
   "cell_type": "code",
   "execution_count": 12,
   "id": "viral-semester",
   "metadata": {},
   "outputs": [],
   "source": [
    "model = Sequential()\n",
    "# encoder network\n",
    "model.add(Conv2D(30, 3, activation= 'relu', padding='same', input_shape = (28,28,1)))\n",
    "model.add(MaxPooling2D(2, padding= 'same'))\n",
    "model.add(Conv2D(15, 3, activation= 'relu', padding='same'))\n",
    "model.add(MaxPooling2D(2, padding= 'same'))\n",
    "\n",
    "#decoder network\n",
    "\n",
    "model.add(Conv2D(15, 3, activation= 'relu', padding='same'))\n",
    "model.add(UpSampling2D(2))\n",
    "model.add(Conv2D(30, 3, activation= 'relu', padding='same'))\n",
    "model.add(UpSampling2D(2))\n",
    "model.add(Conv2D(1,3,activation='sigmoid', padding= 'same')) # output layer\n",
    "model.compile(optimizer= 'adam', loss = 'binary_crossentropy')"
   ]
  },
  {
   "cell_type": "code",
   "execution_count": 13,
   "id": "resident-brass",
   "metadata": {},
   "outputs": [
    {
     "name": "stdout",
     "output_type": "stream",
     "text": [
      "Epoch 1/15\n",
      "469/469 [==============================] - 85s 180ms/step - loss: 0.1288 - val_loss: 0.0803\n",
      "Epoch 2/15\n",
      "469/469 [==============================] - 85s 181ms/step - loss: 0.0780 - val_loss: 0.0749\n",
      "Epoch 3/15\n",
      "469/469 [==============================] - 98s 209ms/step - loss: 0.0744 - val_loss: 0.0726\n",
      "Epoch 4/15\n",
      "469/469 [==============================] - 110s 234ms/step - loss: 0.0726 - val_loss: 0.0713\n",
      "Epoch 5/15\n",
      "469/469 [==============================] - 113s 240ms/step - loss: 0.0716 - val_loss: 0.0705\n",
      "Epoch 6/15\n",
      "469/469 [==============================] - 111s 237ms/step - loss: 0.0708 - val_loss: 0.0701\n",
      "Epoch 7/15\n",
      "469/469 [==============================] - 111s 238ms/step - loss: 0.0702 - val_loss: 0.0694\n",
      "Epoch 8/15\n",
      "469/469 [==============================] - 113s 242ms/step - loss: 0.0697 - val_loss: 0.0691\n",
      "Epoch 9/15\n",
      "469/469 [==============================] - 110s 234ms/step - loss: 0.0693 - val_loss: 0.0686\n",
      "Epoch 10/15\n",
      "469/469 [==============================] - 111s 237ms/step - loss: 0.0690 - val_loss: 0.0682\n",
      "Epoch 11/15\n",
      "469/469 [==============================] - 112s 240ms/step - loss: 0.0687 - val_loss: 0.0680\n",
      "Epoch 12/15\n",
      "469/469 [==============================] - 110s 234ms/step - loss: 0.0684 - val_loss: 0.0678\n",
      "Epoch 13/15\n",
      "469/469 [==============================] - 111s 237ms/step - loss: 0.0682 - val_loss: 0.0675\n",
      "Epoch 14/15\n",
      "469/469 [==============================] - 112s 238ms/step - loss: 0.0680 - val_loss: 0.0674\n",
      "Epoch 15/15\n",
      "469/469 [==============================] - 112s 239ms/step - loss: 0.0678 - val_loss: 0.0671\n"
     ]
    },
    {
     "data": {
      "text/plain": [
       "<tensorflow.python.keras.callbacks.History at 0x7f360cf962b0>"
      ]
     },
     "execution_count": 13,
     "metadata": {},
     "output_type": "execute_result"
    }
   ],
   "source": [
    "(x_train, _), (x_test, _) = mnist.load_data()\n",
    "x_train = x_train.astype('float32') / 255.\n",
    "x_test = x_test.astype('float32') / 255.\n",
    "x_train = np.reshape(x_train, (len(x_train), 28, 28, 1))\n",
    "x_test = np.reshape(x_test, (len(x_test), 28, 28, 1))\n",
    "model.fit(x_train, x_train,\n",
    "                epochs=15,\n",
    "                batch_size=128,\n",
    "                validation_data=(x_test, x_test))"
   ]
  },
  {
   "cell_type": "code",
   "execution_count": 14,
   "id": "informal-storm",
   "metadata": {},
   "outputs": [
    {
     "data": {
      "image/png": "[encoded data removed]",
      "text/plain": [
       "<Figure size 1440x288 with 10 Axes>"
      ]
     },
     "metadata": {
      "needs_background": "light"
     },
     "output_type": "display_data"
    }
   ],
   "source": [
    "pred = model.predict(x_test)\n",
    "plt.figure(figsize=(20, 4))\n",
    "for i in range(5):\n",
    "    # Display original\n",
    "    ax = plt.subplot(2, 5, i + 1)\n",
    "    plt.imshow(x_test[i].reshape(28, 28))\n",
    "    plt.gray()\n",
    "    ax.get_xaxis().set_visible(False)\n",
    "    ax.get_yaxis().set_visible(False)\n",
    "    # Display reconstruction\n",
    "    ax = plt.subplot(2, 5, i + 1 + 5)\n",
    "    plt.imshow(pred[i].reshape(28, 28))\n",
    "    plt.gray()\n",
    "    ax.get_xaxis().set_visible(False)\n",
    "    ax.get_yaxis().set_visible(False)\n",
    "plt.show()"
   ]
  },
  {
   "cell_type": "code",
   "execution_count": 16,
   "id": "biblical-witness",
   "metadata": {},
   "outputs": [
    {
     "data": {
      "image/png": "[encoded data removed]",
      "text/plain": [
       "<Figure size 1440x144 with 5 Axes>"
      ]
     },
     "metadata": {
      "needs_background": "light"
     },
     "output_type": "display_data"
    }
   ],
   "source": [
    "noise_factor = 0.7\n",
    "x_train_noisy = x_train + noise_factor * np.random.normal(loc=0.0, scale=1.0, size=x_train.shape) \n",
    "x_test_noisy = x_test + noise_factor * np.random.normal(loc=0.0, scale=1.0, size=x_test.shape) \n",
    "x_train_noisy = np.clip(x_train_noisy, 0., 1.)\n",
    "x_test_noisy = np.clip(x_test_noisy, 0., 1.)\n",
    "#Here is how the noisy images look right now.\n",
    "plt.figure(figsize=(20, 2))\n",
    "for i in range(1, 5 + 1):\n",
    "    ax = plt.subplot(1, 5, i)\n",
    "    plt.imshow(x_test_noisy[i].reshape(28, 28))\n",
    "    plt.gray()\n",
    "    ax.get_xaxis().set_visible(False)\n",
    "    ax.get_yaxis().set_visible(False)\n",
    "plt.show()"
   ]
  },
  {
   "cell_type": "code",
   "execution_count": 18,
   "id": "external-candle",
   "metadata": {},
   "outputs": [
    {
     "name": "stdout",
     "output_type": "stream",
     "text": [
      "Epoch 1/3\n",
      "469/469 [==============================] - 107s 227ms/step - loss: 0.2048 - val_loss: 0.1518\n",
      "Epoch 2/3\n",
      "469/469 [==============================] - 111s 237ms/step - loss: 0.1473 - val_loss: 0.1440\n",
      "Epoch 3/3\n",
      "469/469 [==============================] - 107s 228ms/step - loss: 0.1400 - val_loss: 0.1376\n"
     ]
    },
    {
     "data": {
      "text/plain": [
       "<tensorflow.python.keras.callbacks.History at 0x7f3655a8d4a8>"
      ]
     },
     "execution_count": 18,
     "metadata": {},
     "output_type": "execute_result"
    }
   ],
   "source": [
    "model = Sequential()\n",
    "\n",
    "\n",
    "# encoder network\n",
    "model.add(Conv2D(35, 3, activation= 'relu', padding='same', input_shape = (28,28,1)))\n",
    "model.add(MaxPooling2D(2, padding= 'same'))\n",
    "model.add(Conv2D(25, 3, activation= 'relu', padding='same'))\n",
    "model.add(MaxPooling2D(2, padding= 'same'))\n",
    "\n",
    "#decoder network\n",
    "model.add(Conv2D(25, 3, activation= 'relu', padding='same'))\n",
    "model.add(UpSampling2D(2))\n",
    "model.add(Conv2D(35, 3, activation= 'relu', padding='same'))\n",
    "model.add(UpSampling2D(2))\n",
    "model.add(Conv2D(1,3,activation='sigmoid', padding= 'same')) # output layer\n",
    "model.compile(optimizer= 'adam', loss = 'binary_crossentropy')\n",
    "model.fit(x_train_noisy, x_train,\n",
    "                epochs=3,\n",
    "                batch_size=128,\n",
    "                validation_data=(x_test_noisy, x_test))"
   ]
  },
  {
   "cell_type": "code",
   "execution_count": 19,
   "id": "foster-damage",
   "metadata": {},
   "outputs": [
    {
     "data": {
      "image/png": "[encoded data removed]",
      "text/plain": [
       "<Figure size 1440x288 with 10 Axes>"
      ]
     },
     "metadata": {
      "needs_background": "light"
     },
     "output_type": "display_data"
    }
   ],
   "source": [
    "pred = model.predict(x_test_noisy)\n",
    "plt.figure(figsize=(20, 4))\n",
    "for i in range(5):\n",
    "    # Display original\n",
    "    ax = plt.subplot(2, 5, i + 1)\n",
    "    plt.imshow(x_test_noisy[i].reshape(28, 28))\n",
    "    plt.gray()\n",
    "    ax.get_xaxis().set_visible(False)\n",
    "    ax.get_yaxis().set_visible(False)\n",
    "    # Display reconstruction\n",
    "    ax = plt.subplot(2, 5, i + 1 + 5)\n",
    "    plt.imshow(pred[i].reshape(28, 28))\n",
    "    plt.gray()\n",
    "    ax.get_xaxis().set_visible(False)\n",
    "    ax.get_yaxis().set_visible(False)\n",
    "plt.show()"
   ]
  },
  {
   "cell_type": "markdown",
   "id": "ethical-first",
   "metadata": {},
   "source": [
    "# mine"
   ]
  },
  {
   "cell_type": "code",
   "execution_count": 22,
   "id": "dietary-essex",
   "metadata": {},
   "outputs": [],
   "source": [
    "def get_model(input_shape):\n",
    "    model = Sequential([InputLayer(input_shape=input_shape),\n",
    "                        Conv2D(35, 3, activation= 'relu', padding='same'),\n",
    "                        MaxPooling2D(2, padding= 'same'),\n",
    "                        Conv2D(25, 3, activation= 'relu', padding='same'),\n",
    "                        MaxPooling2D(2, padding= 'same'),\n",
    "                        Conv2D(25, 3, activation= 'relu', padding='same'),\n",
    "                        UpSampling2D(2),\n",
    "                        Conv2D(35, 3, activation= 'relu', padding='same'),\n",
    "                        UpSampling2D(2),\n",
    "                        Conv2D(1,3,activation='sigmoid', padding= 'same')])\n",
    "    return model"
   ]
  },
  {
   "cell_type": "code",
   "execution_count": 26,
   "id": "fallen-practitioner",
   "metadata": {},
   "outputs": [],
   "source": [
    "model=get_model(x_train_noisy[0].shape)"
   ]
  },
  {
   "cell_type": "code",
   "execution_count": 27,
   "id": "sacred-penny",
   "metadata": {},
   "outputs": [],
   "source": [
    "model.compile(optimizer= 'adam', loss = 'binary_crossentropy')"
   ]
  },
  {
   "cell_type": "code",
   "execution_count": 28,
   "id": "operational-luxembourg",
   "metadata": {},
   "outputs": [
    {
     "name": "stdout",
     "output_type": "stream",
     "text": [
      "Epoch 1/3\n",
      "469/469 [==============================] - 104s 221ms/step - loss: 0.1954 - val_loss: 0.1490\n",
      "Epoch 2/3\n",
      "469/469 [==============================] - 112s 240ms/step - loss: 0.1426 - val_loss: 0.1369\n",
      "Epoch 3/3\n",
      "469/469 [==============================] - 110s 234ms/step - loss: 0.1361 - val_loss: 0.1327\n"
     ]
    },
    {
     "data": {
      "text/plain": [
       "<tensorflow.python.keras.callbacks.History at 0x7f361c61cf60>"
      ]
     },
     "execution_count": 28,
     "metadata": {},
     "output_type": "execute_result"
    }
   ],
   "source": [
    "model.fit(x_train_noisy, x_train,\n",
    "                epochs=3,\n",
    "                batch_size=128,\n",
    "                validation_data=(x_test_noisy, x_test))"
   ]
  },
  {
   "cell_type": "code",
   "execution_count": 29,
   "id": "finite-duncan",
   "metadata": {},
   "outputs": [
    {
     "data": {
      "image/png": "[encoded data removed]",
      "text/plain": [
       "<Figure size 1440x288 with 10 Axes>"
      ]
     },
     "metadata": {
      "needs_background": "light"
     },
     "output_type": "display_data"
    }
   ],
   "source": [
    "pred = model.predict(x_test_noisy)\n",
    "plt.figure(figsize=(20, 4))\n",
    "for i in range(5):\n",
    "    # Display original\n",
    "    ax = plt.subplot(2, 5, i + 1)\n",
    "    plt.imshow(x_test_noisy[i].reshape(28, 28))\n",
    "    plt.gray()\n",
    "    ax.get_xaxis().set_visible(False)\n",
    "    ax.get_yaxis().set_visible(False)\n",
    "    # Display reconstruction\n",
    "    ax = plt.subplot(2, 5, i + 1 + 5)\n",
    "    plt.imshow(pred[i].reshape(28, 28))\n",
    "    plt.gray()\n",
    "    ax.get_xaxis().set_visible(False)\n",
    "    ax.get_yaxis().set_visible(False)\n",
    "plt.show()"
   ]
  },
  {
   "cell_type": "code",
   "execution_count": null,
   "id": "czech-bradley",
   "metadata": {},
   "outputs": [],
   "source": []
  },
  {
   "cell_type": "code",
   "execution_count": null,
   "id": "upset-patent",
   "metadata": {},
   "outputs": [],
   "source": [
    "# Simple Encoder"
   ]
  },
  {
   "cell_type": "code",
   "execution_count": 52,
   "id": "inappropriate-favorite",
   "metadata": {},
   "outputs": [],
   "source": [
    "from keras.layers import Dense,Conv2D,MaxPooling2D,UpSampling2D\n",
    "from keras import Input, Model\n",
    "from keras.datasets import mnist\n",
    "import numpy as np\n",
    "import matplotlib.pyplot as plt"
   ]
  },
  {
   "cell_type": "code",
   "execution_count": 53,
   "id": "higher-controversy",
   "metadata": {},
   "outputs": [],
   "source": [
    "encoding_dim = 15 \n",
    "input_img = Input(shape=(784,))\n",
    "# encoded representation of input\n",
    "encoded = Dense(encoding_dim, activation='relu')(input_img)\n",
    "# decoded representation of code \n",
    "decoded = Dense(784, activation='sigmoid')(encoded)\n",
    "# Model which take input image and shows decoded images\n",
    "autoencoder = Model(input_img, decoded)"
   ]
  },
  {
   "cell_type": "code",
   "execution_count": 54,
   "id": "golden-identity",
   "metadata": {},
   "outputs": [],
   "source": [
    "encoding_dim = 15 \n",
    "input_img = Input(shape=(784,))\n",
    "# encoded representation of input\n",
    "encoded = Dense(encoding_dim, activation='relu')(input_img)\n",
    "# decoded representation of code \n",
    "decoded = Dense(784, activation='sigmoid')(encoded)\n",
    "# Model which take input image and shows decoded images\n",
    "autoencoder = Model(input_img, decoded)"
   ]
  },
  {
   "cell_type": "code",
   "execution_count": 55,
   "id": "virtual-bicycle",
   "metadata": {},
   "outputs": [],
   "source": [
    "# This model shows encoded images\n",
    "encoder = Model(input_img, encoded)\n",
    "# Creating a decoder model\n",
    "encoded_input = Input(shape=(encoding_dim,))\n",
    "# last layer of the autoencoder model\n",
    "decoder_layer = autoencoder.layers[-1]\n",
    "# decoder model\n",
    "decoder = Model(encoded_input, decoder_layer(encoded_input))"
   ]
  },
  {
   "cell_type": "code",
   "execution_count": 56,
   "id": "basic-harassment",
   "metadata": {},
   "outputs": [],
   "source": [
    "autoencoder.compile(optimizer='adam', loss='binary_crossentropy')"
   ]
  },
  {
   "cell_type": "code",
   "execution_count": 57,
   "id": "minute-burden",
   "metadata": {},
   "outputs": [
    {
     "name": "stdout",
     "output_type": "stream",
     "text": [
      "(60000, 784)\n",
      "(10000, 784)\n"
     ]
    }
   ],
   "source": [
    "(x_train, y_train), (x_test, y_test) = mnist.load_data()\n",
    "x_train = x_train.astype('float32') / 255.\n",
    "x_test = x_test.astype('float32') / 255.\n",
    "x_train = x_train.reshape((len(x_train), np.prod(x_train.shape[1:])))\n",
    "x_test = x_test.reshape((len(x_test), np.prod(x_test.shape[1:])))\n",
    "print(x_train.shape)\n",
    "print(x_test.shape)"
   ]
  },
  {
   "cell_type": "code",
   "execution_count": 58,
   "id": "alike-germany",
   "metadata": {},
   "outputs": [
    {
     "name": "stdout",
     "output_type": "stream",
     "text": [
      "Epoch 1/15\n",
      "235/235 [==============================] - 2s 7ms/step - loss: 0.4275 - val_loss: 0.2239\n",
      "Epoch 2/15\n",
      "235/235 [==============================] - 2s 7ms/step - loss: 0.2115 - val_loss: 0.1828\n",
      "Epoch 3/15\n",
      "235/235 [==============================] - 1s 6ms/step - loss: 0.1791 - val_loss: 0.1650\n",
      "Epoch 4/15\n",
      "235/235 [==============================] - 2s 7ms/step - loss: 0.1635 - val_loss: 0.1547\n",
      "Epoch 5/15\n",
      "235/235 [==============================] - 2s 8ms/step - loss: 0.1544 - val_loss: 0.1487\n",
      "Epoch 6/15\n",
      "235/235 [==============================] - 1s 6ms/step - loss: 0.1492 - val_loss: 0.1453\n",
      "Epoch 7/15\n",
      "235/235 [==============================] - 1s 6ms/step - loss: 0.1456 - val_loss: 0.1429\n",
      "Epoch 8/15\n",
      "235/235 [==============================] - 1s 6ms/step - loss: 0.1439 - val_loss: 0.1409\n",
      "Epoch 9/15\n",
      "235/235 [==============================] - 1s 6ms/step - loss: 0.1418 - val_loss: 0.1393\n",
      "Epoch 10/15\n",
      "235/235 [==============================] - 1s 6ms/step - loss: 0.1400 - val_loss: 0.1380\n",
      "Epoch 11/15\n",
      "235/235 [==============================] - 2s 8ms/step - loss: 0.1387 - val_loss: 0.1366\n",
      "Epoch 12/15\n",
      "235/235 [==============================] - 2s 7ms/step - loss: 0.1378 - val_loss: 0.1355\n",
      "Epoch 13/15\n",
      "235/235 [==============================] - 1s 6ms/step - loss: 0.1369 - val_loss: 0.1346\n",
      "Epoch 14/15\n",
      "235/235 [==============================] - 1s 6ms/step - loss: 0.1360 - val_loss: 0.1341\n",
      "Epoch 15/15\n",
      "235/235 [==============================] - 1s 6ms/step - loss: 0.1353 - val_loss: 0.1334\n"
     ]
    },
    {
     "data": {
      "text/plain": [
       "<keras.callbacks.History at 0x7f3656e96940>"
      ]
     },
     "execution_count": 58,
     "metadata": {},
     "output_type": "execute_result"
    }
   ],
   "source": [
    "autoencoder.fit(x_train, x_train,\n",
    "                epochs=15,\n",
    "                batch_size=256,\n",
    "                validation_data=(x_test, x_test))"
   ]
  },
  {
   "cell_type": "code",
   "execution_count": null,
   "id": "starting-colonial",
   "metadata": {},
   "outputs": [],
   "source": [
    "encoded_img = encoder.predict(x_test)\n",
    "decoded_img = decoder.predict(encoded_img)\n",
    "plt.figure(figsize=(20, 4))\n",
    "for i in range(5):\n",
    "    # Display original\n",
    "    ax = plt.subplot(2, 5, i + 1)\n",
    "    plt.imshow(x_test[i].reshape(28, 28))\n",
    "    plt.gray()\n",
    "    ax.get_xaxis().set_visible(False)\n",
    "    ax.get_yaxis().set_visible(False)\n",
    "    # Display reconstruction\n",
    "    ax = plt.subplot(2, 5, i + 1 + 5)\n",
    "    plt.imshow(decoded_img[i].reshape(28, 28))\n",
    "    plt.gray()\n",
    "    ax.get_xaxis().set_visible(False)\n",
    "    ax.get_yaxis().set_visible(False)\n",
    "plt.show()"
   ]
  },
  {
   "cell_type": "code",
   "execution_count": null,
   "id": "emerging-holder",
   "metadata": {},
   "outputs": [],
   "source": []
  }
 ],
 "metadata": {
  "kernelspec": {
   "display_name": "Python 3",
   "language": "python",
   "name": "python3"
  },
  "language_info": {
   "codemirror_mode": {
    "name": "ipython",
    "version": 3
   },
   "file_extension": ".py",
   "mimetype": "text/x-python",
   "name": "python",
   "nbconvert_exporter": "python",
   "pygments_lexer": "ipython3",
   "version": "3.7.2"
  }
 },
 "nbformat": 4,
 "nbformat_minor": 5
}
