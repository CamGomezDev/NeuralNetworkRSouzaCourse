{
 "cells": [
  {
   "cell_type": "markdown",
   "metadata": {
    "colab_type": "text",
    "id": "view-in-github"
   },
   "source": [
    "<a href=\"https://colab.research.google.com/gist/mrgrhn/575c63da0c8174714f6759ee305af66f/autoencoder_tensorflow.ipynb\" target=\"_parent\"><img src=\"https://colab.research.google.com/assets/colab-badge.svg\" alt=\"Open In Colab\"/></a>"
   ]
  },
  {
   "cell_type": "code",
   "execution_count": 1,
   "metadata": {
    "id": "bj7Q8dC7eC9i"
   },
   "outputs": [],
   "source": [
    "import tensorflow as tf\n",
    "import matplotlib.pyplot as plt\n",
    "from tensorflow.keras import datasets, layers, models, losses, Model\n",
    "from random import randint\n",
    "import numpy as np"
   ]
  },
  {
   "cell_type": "code",
   "execution_count": 2,
   "metadata": {
    "id": "FTVtr6gheH4d"
   },
   "outputs": [],
   "source": [
    "(x_train, _), (x_test, _)=tf.keras.datasets.mnist.load_data()"
   ]
  },
  {
   "cell_type": "code",
   "execution_count": 3,
   "metadata": {
    "colab": {
     "base_uri": "https://localhost:8080/"
    },
    "id": "C0A0gF3dVN2G",
    "outputId": "9315d09b-0ca0-4f1d-c0b7-1de08037416c"
   },
   "outputs": [
    {
     "name": "stdout",
     "output_type": "stream",
     "text": [
      "Model: \"encoder\"\n",
      "_________________________________________________________________\n",
      "Layer (type)                 Output Shape              Param #   \n",
      "=================================================================\n",
      "input_1 (InputLayer)         [(None, 28, 28)]          0         \n",
      "_________________________________________________________________\n",
      "flatten (Flatten)            (None, 784)               0         \n",
      "_________________________________________________________________\n",
      "dense (Dense)                (None, 100)               78500     \n",
      "_________________________________________________________________\n",
      "dense_1 (Dense)              (None, 20)                2020      \n",
      "=================================================================\n",
      "Total params: 80,520\n",
      "Trainable params: 80,520\n",
      "Non-trainable params: 0\n",
      "_________________________________________________________________\n"
     ]
    }
   ],
   "source": [
    "hidden_size = 100\n",
    "latent_size = 20\n",
    "\n",
    "input_layer = layers.Input(shape = x_train.shape[1:])\n",
    "flattened = layers.Flatten()(input_layer)\n",
    "hidden = layers.Dense(hidden_size, activation = 'relu')(flattened)\n",
    "latent = layers.Dense(latent_size, activation = 'relu')(hidden)\n",
    "encoder = Model(inputs = input_layer, outputs = latent, name = 'encoder')\n",
    "encoder.summary()"
   ]
  },
  {
   "cell_type": "code",
   "execution_count": 4,
   "metadata": {
    "colab": {
     "base_uri": "https://localhost:8080/"
    },
    "id": "rojD--dpW5HW",
    "outputId": "408b98b3-30db-414e-c16a-36d3f5a5ea6d"
   },
   "outputs": [
    {
     "name": "stdout",
     "output_type": "stream",
     "text": [
      "Model: \"decoder\"\n",
      "_________________________________________________________________\n",
      "Layer (type)                 Output Shape              Param #   \n",
      "=================================================================\n",
      "input_2 (InputLayer)         [(None, None, 20)]        0         \n",
      "_________________________________________________________________\n",
      "dense_2 (Dense)              (None, None, 100)         2100      \n",
      "_________________________________________________________________\n",
      "dense_3 (Dense)              (None, None, 784)         79184     \n",
      "_________________________________________________________________\n",
      "reshape (Reshape)            (None, 28, 28)            0         \n",
      "=================================================================\n",
      "Total params: 81,284\n",
      "Trainable params: 81,284\n",
      "Non-trainable params: 0\n",
      "_________________________________________________________________\n"
     ]
    }
   ],
   "source": [
    "input_layer_decoder = layers.Input(shape = encoder.output.shape)\n",
    "upsampled = layers.Dense(hidden_size, activation = 'relu')(input_layer_decoder)\n",
    "upsampled = layers.Dense(encoder.layers[1].output_shape[-1], activation = 'relu')(upsampled)\n",
    "constructed = layers.Reshape(x_train.shape[1:])(upsampled)\n",
    "decoder = Model(inputs = input_layer_decoder, outputs = constructed, name= 'decoder')\n",
    "decoder.summary()"
   ]
  },
  {
   "cell_type": "code",
   "execution_count": 5,
   "metadata": {
    "colab": {
     "base_uri": "https://localhost:8080/"
    },
    "id": "4f--N3yLZlBE",
    "outputId": "2c8449c6-d5e3-4b5a-d347-7370043fc322"
   },
   "outputs": [
    {
     "name": "stdout",
     "output_type": "stream",
     "text": [
      "WARNING:tensorflow:Model was constructed with shape (None, None, 20) for input KerasTensor(type_spec=TensorSpec(shape=(None, None, 20), dtype=tf.float32, name='input_2'), name='input_2', description=\"created by layer 'input_2'\"), but it was called on an input with incompatible shape (None, 20).\n",
      "Model: \"model\"\n",
      "_________________________________________________________________\n",
      "Layer (type)                 Output Shape              Param #   \n",
      "=================================================================\n",
      "input_1 (InputLayer)         [(None, 28, 28)]          0         \n",
      "_________________________________________________________________\n",
      "flatten (Flatten)            (None, 784)               0         \n",
      "_________________________________________________________________\n",
      "dense (Dense)                (None, 100)               78500     \n",
      "_________________________________________________________________\n",
      "dense_1 (Dense)              (None, 20)                2020      \n",
      "_________________________________________________________________\n",
      "decoder (Functional)         (None, 28, 28)            81284     \n",
      "=================================================================\n",
      "Total params: 161,804\n",
      "Trainable params: 161,804\n",
      "Non-trainable params: 0\n",
      "_________________________________________________________________\n"
     ]
    }
   ],
   "source": [
    "autoencoder = Model(inputs = encoder.input, outputs = decoder(encoder.output))\n",
    "autoencoder.summary()"
   ]
  },
  {
   "cell_type": "code",
   "execution_count": null,
   "metadata": {
    "colab": {
     "base_uri": "https://localhost:8080/"
    },
    "id": "aYH9867pfPC1",
    "outputId": "cf83e527-7ea0-41d1-bb27-6d4fbbd64653"
   },
   "outputs": [
    {
     "name": "stdout",
     "output_type": "stream",
     "text": [
      "Epoch 1/50\n",
      "WARNING:tensorflow:Model was constructed with shape (None, None, 20) for input KerasTensor(type_spec=TensorSpec(shape=(None, None, 20), dtype=tf.float32, name='input_2'), name='input_2', description=\"created by layer 'input_2'\"), but it was called on an input with incompatible shape (None, 20).\n",
      "WARNING:tensorflow:Model was constructed with shape (None, None, 20) for input KerasTensor(type_spec=TensorSpec(shape=(None, None, 20), dtype=tf.float32, name='input_2'), name='input_2', description=\"created by layer 'input_2'\"), but it was called on an input with incompatible shape (None, 20).\n",
      "934/938 [============================>.] - ETA: 0s - loss: 2196.1238WARNING:tensorflow:Model was constructed with shape (None, None, 20) for input KerasTensor(type_spec=TensorSpec(shape=(None, None, 20), dtype=tf.float32, name='input_2'), name='input_2', description=\"created by layer 'input_2'\"), but it was called on an input with incompatible shape (None, 20).\n",
      "938/938 [==============================] - 4s 4ms/step - loss: 2194.6418 - val_loss: 1760.4066\n",
      "Epoch 2/50\n",
      "938/938 [==============================] - 4s 4ms/step - loss: 1701.3635 - val_loss: 1633.6046\n",
      "Epoch 3/50\n",
      "938/938 [==============================] - 4s 4ms/step - loss: 1625.3621 - val_loss: 1588.6967\n",
      "Epoch 4/50\n",
      "938/938 [==============================] - 4s 4ms/step - loss: 1581.9243 - val_loss: 1540.8228\n",
      "Epoch 5/50\n",
      "938/938 [==============================] - 4s 4ms/step - loss: 1541.4709 - val_loss: 1509.7972\n",
      "Epoch 6/50\n",
      "938/938 [==============================] - 4s 4ms/step - loss: 1520.4181 - val_loss: 1497.2279\n",
      "Epoch 7/50\n",
      "938/938 [==============================] - 6s 6ms/step - loss: 1504.6652 - val_loss: 1483.7911\n",
      "Epoch 8/50\n",
      "938/938 [==============================] - 4s 4ms/step - loss: 1491.4193 - val_loss: 1475.1552\n",
      "Epoch 9/50\n",
      "938/938 [==============================] - 4s 4ms/step - loss: 1481.0363 - val_loss: 1462.1091\n",
      "Epoch 10/50\n",
      "938/938 [==============================] - 4s 4ms/step - loss: 1470.4556 - val_loss: 1454.8645\n",
      "Epoch 11/50\n",
      "938/938 [==============================] - 3s 4ms/step - loss: 1462.5006 - val_loss: 1446.8853\n",
      "Epoch 12/50\n",
      "938/938 [==============================] - 3s 3ms/step - loss: 1454.2441 - val_loss: 1448.9659\n",
      "Epoch 13/50\n",
      "938/938 [==============================] - 3s 3ms/step - loss: 1447.3265 - val_loss: 1434.0059\n",
      "Epoch 14/50\n",
      "938/938 [==============================] - 3s 4ms/step - loss: 1440.7910 - val_loss: 1429.1222\n",
      "Epoch 15/50\n",
      "938/938 [==============================] - 3s 3ms/step - loss: 1434.6180 - val_loss: 1425.8347\n",
      "Epoch 16/50\n",
      "938/938 [==============================] - 3s 4ms/step - loss: 1427.6395 - val_loss: 1417.6748\n",
      "Epoch 17/50\n",
      "938/938 [==============================] - 4s 4ms/step - loss: 1412.4122 - val_loss: 1389.9705\n",
      "Epoch 18/50\n",
      "938/938 [==============================] - 3s 3ms/step - loss: 1393.2810 - val_loss: 1354.4810\n",
      "Epoch 19/50\n",
      "938/938 [==============================] - 4s 4ms/step - loss: 1337.8594 - val_loss: 1321.3361\n",
      "Epoch 20/50\n",
      "938/938 [==============================] - 4s 4ms/step - loss: 1324.0419 - val_loss: 1308.6440\n",
      "Epoch 21/50\n",
      "938/938 [==============================] - 3s 3ms/step - loss: 1317.7316 - val_loss: 1305.8973\n",
      "Epoch 22/50\n",
      "938/938 [==============================] - 4s 4ms/step - loss: 1311.1918 - val_loss: 1309.6858\n",
      "Epoch 23/50\n",
      "938/938 [==============================] - 3s 3ms/step - loss: 1306.5330 - val_loss: 1303.8044\n",
      "Epoch 24/50\n",
      "938/938 [==============================] - 3s 3ms/step - loss: 1302.5536 - val_loss: 1289.7230\n",
      "Epoch 25/50\n",
      "938/938 [==============================] - 3s 4ms/step - loss: 1297.8922 - val_loss: 1295.8654\n",
      "Epoch 26/50\n",
      "938/938 [==============================] - 5s 5ms/step - loss: 1294.0449 - val_loss: 1285.2408\n",
      "Epoch 27/50\n",
      "938/938 [==============================] - 3s 3ms/step - loss: 1290.3636 - val_loss: 1284.2671\n",
      "Epoch 28/50\n",
      "938/938 [==============================] - 4s 4ms/step - loss: 1286.8320 - val_loss: 1276.7061\n",
      "Epoch 29/50\n",
      "938/938 [==============================] - 3s 4ms/step - loss: 1283.5883 - val_loss: 1278.7267\n",
      "Epoch 30/50\n",
      "938/938 [==============================] - 3s 3ms/step - loss: 1280.9099 - val_loss: 1277.1608\n",
      "Epoch 31/50\n",
      "313/938 [=========>....................] - ETA: 1s - loss: 1278.3402"
     ]
    }
   ],
   "source": [
    "autoencoder.compile(optimizer='adam', loss=losses.MeanSquaredError())\n",
    "history = autoencoder.fit(x_train, x_train, epochs=50, batch_size=64, validation_data = (x_test, x_test))"
   ]
  },
  {
   "cell_type": "code",
   "execution_count": null,
   "metadata": {
    "colab": {
     "base_uri": "https://localhost:8080/",
     "height": 910
    },
    "id": "GxoP7pe9gr3q",
    "outputId": "c2b88c08-3fed-4495-9080-eb36a835bf1c"
   },
   "outputs": [],
   "source": [
    "fig, axs = plt.subplots(figsize=(15,15))\n",
    "\n",
    "axs.plot(history.history['loss'])\n",
    "axs.plot(history.history['val_loss'])\n",
    "axs.title.set_text('Training Loss vs Validation Loss')\n",
    "axs.set_xlabel('Epochs')\n",
    "axs.set_ylabel('Loss')\n",
    "axs.legend(['Train','Val'])"
   ]
  },
  {
   "cell_type": "code",
   "execution_count": null,
   "metadata": {
    "colab": {
     "base_uri": "https://localhost:8080/",
     "height": 863
    },
    "id": "o9sziaCdzLWM",
    "outputId": "a02f4609-14ce-4e55-8e05-8fd0bcaad94a"
   },
   "outputs": [],
   "source": [
    "fig, axs = plt.subplots(3,2,figsize=(10,15))\n",
    "for i in range(3):\n",
    "  sample1 = x_train[randint(0,x_train.shape[0])]\n",
    "  axs[i][0].imshow(sample1, cmap = 'gray')\n",
    "  axs[i][1].imshow(autoencoder(np.expand_dims(sample1,0))[0], cmap = 'gray')"
   ]
  },
  {
   "cell_type": "code",
   "execution_count": null,
   "metadata": {
    "colab": {
     "base_uri": "https://localhost:8080/",
     "height": 587
    },
    "id": "sLEyKWkplFkv",
    "outputId": "696b9750-41f6-4923-aeff-83a9081f6ea7"
   },
   "outputs": [],
   "source": [
    "sample1_idx = randint(0,x_train.shape[0])\n",
    "sample1 = x_train[sample1_idx]\n",
    "\n",
    "sample2_idx = randint(0,x_train.shape[0])\n",
    "sample2 = x_train[sample2_idx]\n",
    "\n",
    "latent1 = encoder(np.expand_dims(sample1,0))\n",
    "latent2 = encoder(np.expand_dims(sample2,0))\n",
    "\n",
    "weights = np.arange(0.05,0.95,0.15)\n",
    "fig, axs = plt.subplots(2,4,figsize=(20,10))\n",
    "\n",
    "axs = axs.ravel()\n",
    "\n",
    "axs[0].imshow(sample2, cmap = 'gray')\n",
    "axs[-1].imshow(sample1, cmap = 'gray')\n",
    "for i in range(6):\n",
    "  latent = latent1*weights[i] + latent2*(1-weights[i])\n",
    "  constructed = decoder(latent)\n",
    "  axs[i+1].imshow(constructed[0], cmap='gray')\n"
   ]
  },
  {
   "cell_type": "code",
   "execution_count": null,
   "metadata": {},
   "outputs": [],
   "source": []
  },
  {
   "cell_type": "code",
   "execution_count": null,
   "metadata": {},
   "outputs": [],
   "source": []
  }
 ],
 "metadata": {
  "accelerator": "GPU",
  "colab": {
   "authorship_tag": "ABX9TyPVHfOfCW2PjQmruCiyyhxr",
   "collapsed_sections": [],
   "include_colab_link": true,
   "name": "Autoencoder_TensorFlow.ipynb",
   "provenance": []
  },
  "kernelspec": {
   "display_name": "Python 3",
   "language": "python",
   "name": "python3"
  },
  "language_info": {
   "codemirror_mode": {
    "name": "ipython",
    "version": 3
   },
   "file_extension": ".py",
   "mimetype": "text/x-python",
   "name": "python",
   "nbconvert_exporter": "python",
   "pygments_lexer": "ipython3",
   "version": "3.7.2"
  }
 },
 "nbformat": 4,
 "nbformat_minor": 1
}
