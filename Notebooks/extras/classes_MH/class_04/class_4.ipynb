{
 "cells": [
  {
   "cell_type": "code",
   "execution_count": 1,
   "id": "south-vault",
   "metadata": {},
   "outputs": [
    {
     "name": "stdout",
     "output_type": "stream",
     "text": [
      "class_4.ipynb  fruit_data_with_colors.txt\r\n"
     ]
    }
   ],
   "source": [
    "!ls"
   ]
  },
  {
   "cell_type": "markdown",
   "id": "proprietary-hanging",
   "metadata": {},
   "source": [
    "# Modelado de datos class: 5"
   ]
  },
  {
   "cell_type": "markdown",
   "id": "accompanied-psychology",
   "metadata": {},
   "source": [
    "## Vocabulary:\n",
    "* common - comun\n",
    "* features - caracteristicas\n",
    "* labels - etiquetas\n",
    "* targets - meta o valor previsto\n",
    "* just - solamente\n",
    "* using - usando\n",
    "* unique - unicos\n",
    "* one can get - uno puede consequir\n",
    "* lookup_table - tabla_de_conversion\n",
    "* tips - pistas\n",
    "* usually - usualmente\n",
    "\n",
    "\n",
    "\n",
    "* through - a taves\n",
    "* keys - llaves\n",
    "* values - valores\n",
    "* dictionary - dictionario"
   ]
  },
  {
   "cell_type": "markdown",
   "id": "balanced-sterling",
   "metadata": {},
   "source": [
    "# Converting input data (pandas / dictionaries) into a training data"
   ]
  },
  {
   "cell_type": "markdown",
   "id": "textile-niagara",
   "metadata": {},
   "source": [
    "usually in ML algorithms the input and output have common name:\n",
    "**X_data** - input data or features\n",
    "**y_data** - labels / targets\n",
    "data enters in three forms\n",
    "* images\n",
    "* dictionary (sklearn)\n",
    "* csv files / txt fiels - PANDAS\n",
    "* MAT (Matlab)\n",
    "  * import scipy.io\n",
    "  * dictionary = scipy.io.loadmat('data.mat')"
   ]
  },
  {
   "cell_type": "markdown",
   "id": "original-interest",
   "metadata": {},
   "source": [
    "The simples way to load data into a Neural Network is to convert the data into a numpy array"
   ]
  },
  {
   "cell_type": "markdown",
   "id": "cross-bridal",
   "metadata": {},
   "source": [
    "## Pandas\n",
    "\n",
    "1)\n",
    "* you can convert entire panda dataframe into a numpy arra:\n",
    "  df_np = df.to_numpy()\n",
    "* you can also convert some columns to to nupy\n",
    "  xvalues = df['xvalues'].to_numpy()\n",
    "  \n",
    "2) make a look up table:\n",
    "*  dict(zip(df['xvalues'].unique(),df['yvalues'].unique()))  "
   ]
  },
  {
   "cell_type": "code",
   "execution_count": 2,
   "id": "afraid-history",
   "metadata": {},
   "outputs": [],
   "source": [
    "import numpy as np\n",
    "import pandas as pd\n",
    "df_fruits = pd.read_csv('fruit_data_with_colors.txt',sep='\\t')"
   ]
  },
  {
   "cell_type": "code",
   "execution_count": 3,
   "id": "supported-stuff",
   "metadata": {},
   "outputs": [
    {
     "data": {
      "text/html": [
       "<div>\n",
       "<style scoped>\n",
       "    .dataframe tbody tr th:only-of-type {\n",
       "        vertical-align: middle;\n",
       "    }\n",
       "\n",
       "    .dataframe tbody tr th {\n",
       "        vertical-align: top;\n",
       "    }\n",
       "\n",
       "    .dataframe thead th {\n",
       "        text-align: right;\n",
       "    }\n",
       "</style>\n",
       "<table border=\"1\" class=\"dataframe\">\n",
       "  <thead>\n",
       "    <tr style=\"text-align: right;\">\n",
       "      <th></th>\n",
       "      <th>fruit_label</th>\n",
       "      <th>fruit_name</th>\n",
       "      <th>fruit_subtype</th>\n",
       "      <th>mass</th>\n",
       "      <th>width</th>\n",
       "      <th>height</th>\n",
       "      <th>color_score</th>\n",
       "    </tr>\n",
       "  </thead>\n",
       "  <tbody>\n",
       "    <tr>\n",
       "      <th>0</th>\n",
       "      <td>1</td>\n",
       "      <td>apple</td>\n",
       "      <td>granny_smith</td>\n",
       "      <td>192</td>\n",
       "      <td>8.4</td>\n",
       "      <td>7.3</td>\n",
       "      <td>0.55</td>\n",
       "    </tr>\n",
       "    <tr>\n",
       "      <th>1</th>\n",
       "      <td>1</td>\n",
       "      <td>apple</td>\n",
       "      <td>granny_smith</td>\n",
       "      <td>180</td>\n",
       "      <td>8.0</td>\n",
       "      <td>6.8</td>\n",
       "      <td>0.59</td>\n",
       "    </tr>\n",
       "    <tr>\n",
       "      <th>2</th>\n",
       "      <td>1</td>\n",
       "      <td>apple</td>\n",
       "      <td>granny_smith</td>\n",
       "      <td>176</td>\n",
       "      <td>7.4</td>\n",
       "      <td>7.2</td>\n",
       "      <td>0.60</td>\n",
       "    </tr>\n",
       "    <tr>\n",
       "      <th>3</th>\n",
       "      <td>2</td>\n",
       "      <td>mandarin</td>\n",
       "      <td>mandarin</td>\n",
       "      <td>86</td>\n",
       "      <td>6.2</td>\n",
       "      <td>4.7</td>\n",
       "      <td>0.80</td>\n",
       "    </tr>\n",
       "    <tr>\n",
       "      <th>4</th>\n",
       "      <td>2</td>\n",
       "      <td>mandarin</td>\n",
       "      <td>mandarin</td>\n",
       "      <td>84</td>\n",
       "      <td>6.0</td>\n",
       "      <td>4.6</td>\n",
       "      <td>0.79</td>\n",
       "    </tr>\n",
       "  </tbody>\n",
       "</table>\n",
       "</div>"
      ],
      "text/plain": [
       "   fruit_label fruit_name  fruit_subtype  mass  width  height  color_score\n",
       "0            1     apple   granny_smith    192    8.4     7.3         0.55\n",
       "1            1     apple   granny_smith    180    8.0     6.8         0.59\n",
       "2            1     apple   granny_smith    176    7.4     7.2         0.60\n",
       "3            2  mandarin       mandarin     86    6.2     4.7         0.80\n",
       "4            2  mandarin       mandarin     84    6.0     4.6         0.79"
      ]
     },
     "execution_count": 3,
     "metadata": {},
     "output_type": "execute_result"
    }
   ],
   "source": [
    "df_fruits.head()"
   ]
  },
  {
   "cell_type": "code",
   "execution_count": 4,
   "id": "dynamic-doctrine",
   "metadata": {},
   "outputs": [],
   "source": [
    "lookup_table=dict(zip(df_fruits['fruit_label'].unique(),df_fruits['fruit_name'].unique()))"
   ]
  },
  {
   "cell_type": "code",
   "execution_count": 5,
   "id": "tutorial-exhaust",
   "metadata": {},
   "outputs": [
    {
     "data": {
      "text/plain": [
       "'mandarin '"
      ]
     },
     "execution_count": 5,
     "metadata": {},
     "output_type": "execute_result"
    }
   ],
   "source": [
    "lookup_table[2]"
   ]
  },
  {
   "cell_type": "code",
   "execution_count": 6,
   "id": "racial-status",
   "metadata": {},
   "outputs": [
    {
     "data": {
      "text/plain": [
       "(59, 7)"
      ]
     },
     "execution_count": 6,
     "metadata": {},
     "output_type": "execute_result"
    }
   ],
   "source": [
    "df_fruits_np = df_fruits.to_numpy()\n",
    "df_fruits_np.shape"
   ]
  },
  {
   "cell_type": "code",
   "execution_count": 7,
   "id": "popular-brass",
   "metadata": {},
   "outputs": [],
   "source": [
    "X_data = df_fruits[['mass','width','height','color_score']].to_numpy()"
   ]
  },
  {
   "cell_type": "code",
   "execution_count": 8,
   "id": "arctic-genre",
   "metadata": {},
   "outputs": [
    {
     "data": {
      "text/plain": [
       "array([[192.  ,   8.4 ,   7.3 ,   0.55],\n",
       "       [180.  ,   8.  ,   6.8 ,   0.59],\n",
       "       [176.  ,   7.4 ,   7.2 ,   0.6 ],\n",
       "       [ 86.  ,   6.2 ,   4.7 ,   0.8 ]])"
      ]
     },
     "execution_count": 8,
     "metadata": {},
     "output_type": "execute_result"
    }
   ],
   "source": [
    "X_data[0:4]"
   ]
  },
  {
   "cell_type": "code",
   "execution_count": 9,
   "id": "still-occasion",
   "metadata": {},
   "outputs": [],
   "source": [
    "y_data = df_fruits[['fruit_label']].to_numpy()"
   ]
  },
  {
   "cell_type": "code",
   "execution_count": 10,
   "id": "adaptive-prediction",
   "metadata": {},
   "outputs": [
    {
     "data": {
      "text/plain": [
       "array([[1],\n",
       "       [1],\n",
       "       [1],\n",
       "       [2]])"
      ]
     },
     "execution_count": 10,
     "metadata": {},
     "output_type": "execute_result"
    }
   ],
   "source": [
    "y_data[0:4]"
   ]
  },
  {
   "cell_type": "code",
   "execution_count": 11,
   "id": "heard-jordan",
   "metadata": {},
   "outputs": [
    {
     "data": {
      "text/plain": [
       "(59, 4)"
      ]
     },
     "execution_count": 11,
     "metadata": {},
     "output_type": "execute_result"
    }
   ],
   "source": [
    "X_data.shape"
   ]
  },
  {
   "cell_type": "code",
   "execution_count": 12,
   "id": "neutral-medicine",
   "metadata": {},
   "outputs": [
    {
     "name": "stdout",
     "output_type": "stream",
     "text": [
      "59\n"
     ]
    }
   ],
   "source": [
    "num_samples = X_data.shape[0]\n",
    "print(num_samples)"
   ]
  },
  {
   "cell_type": "code",
   "execution_count": 13,
   "id": "congressional-traveler",
   "metadata": {},
   "outputs": [],
   "source": [
    "rand_idx = np.random.randint(0,num_samples,10)"
   ]
  },
  {
   "cell_type": "code",
   "execution_count": 14,
   "id": "modern-office",
   "metadata": {},
   "outputs": [
    {
     "data": {
      "text/plain": [
       "array([45, 32, 22,  6, 54, 48, 14, 55, 52, 32])"
      ]
     },
     "execution_count": 14,
     "metadata": {},
     "output_type": "execute_result"
    }
   ],
   "source": [
    "rand_idx\n"
   ]
  },
  {
   "cell_type": "code",
   "execution_count": 15,
   "id": "physical-adolescent",
   "metadata": {},
   "outputs": [
    {
     "data": {
      "text/plain": [
       "array([[186.  ,   7.2 ,   9.2 ,   0.72],\n",
       "       [164.  ,   7.2 ,   7.  ,   0.8 ],\n",
       "       [140.  ,   7.3 ,   7.1 ,   0.87],\n",
       "       [ 80.  ,   5.9 ,   4.3 ,   0.81],\n",
       "       [116.  ,   6.1 ,   8.5 ,   0.71],\n",
       "       [174.  ,   7.3 ,  10.1 ,   0.72],\n",
       "       [152.  ,   7.6 ,   7.3 ,   0.69],\n",
       "       [116.  ,   6.3 ,   7.7 ,   0.72],\n",
       "       [118.  ,   5.9 ,   8.  ,   0.72],\n",
       "       [164.  ,   7.2 ,   7.  ,   0.8 ]])"
      ]
     },
     "execution_count": 15,
     "metadata": {},
     "output_type": "execute_result"
    }
   ],
   "source": [
    "X_data[rand_idx]"
   ]
  },
  {
   "cell_type": "code",
   "execution_count": 16,
   "id": "incorrect-sleep",
   "metadata": {},
   "outputs": [
    {
     "data": {
      "text/plain": [
       "array([[4],\n",
       "       [3],\n",
       "       [1],\n",
       "       [2],\n",
       "       [4],\n",
       "       [4],\n",
       "       [1],\n",
       "       [4],\n",
       "       [4],\n",
       "       [3]])"
      ]
     },
     "execution_count": 16,
     "metadata": {},
     "output_type": "execute_result"
    }
   ],
   "source": [
    "y_data[rand_idx]"
   ]
  },
  {
   "cell_type": "code",
   "execution_count": 17,
   "id": "portable-procurement",
   "metadata": {},
   "outputs": [
    {
     "data": {
      "text/plain": [
       "'lemon '"
      ]
     },
     "execution_count": 17,
     "metadata": {},
     "output_type": "execute_result"
    }
   ],
   "source": [
    "lookup_table[4]"
   ]
  },
  {
   "cell_type": "markdown",
   "id": "medium-essay",
   "metadata": {},
   "source": [
    "# Extract data from dictionary (values are usually a numpy array)"
   ]
  },
  {
   "cell_type": "markdown",
   "id": "motivated-portable",
   "metadata": {},
   "source": [
    "* to inspect dictionary use:\n",
    "    dictionary.keys()\n",
    "* if there is ['DESCR']\n",
    "* print(dictionary['DESCR']) (scikit - always has it)\n",
    "* key: ['data'] - X_data\n",
    "* key: ['target'] - labels or **y_data**\n",
    "* key: ['target_name']\n",
    "* lookup_table will be made a different way than in Panda\n",
    "* dict(zip(np.unique(iris['target']),np.unique(iris['target_name']))\n",
    "* sklearn.utils.Bunch is extended dictionary"
   ]
  },
  {
   "cell_type": "code",
   "execution_count": 18,
   "id": "outdoor-summary",
   "metadata": {},
   "outputs": [],
   "source": [
    "# Example:\n",
    "from sklearn import datasets\n",
    "iris = datasets.load_iris()"
   ]
  },
  {
   "cell_type": "code",
   "execution_count": 19,
   "id": "conventional-letter",
   "metadata": {},
   "outputs": [
    {
     "data": {
      "text/plain": [
       "sklearn.utils.Bunch"
      ]
     },
     "execution_count": 19,
     "metadata": {},
     "output_type": "execute_result"
    }
   ],
   "source": [
    "type(iris)"
   ]
  },
  {
   "cell_type": "code",
   "execution_count": 20,
   "id": "colonial-yorkshire",
   "metadata": {},
   "outputs": [
    {
     "data": {
      "text/plain": [
       "dict_keys(['data', 'target', 'frame', 'target_names', 'DESCR', 'feature_names', 'filename'])"
      ]
     },
     "execution_count": 20,
     "metadata": {},
     "output_type": "execute_result"
    }
   ],
   "source": [
    "iris.keys()"
   ]
  },
  {
   "cell_type": "code",
   "execution_count": 21,
   "id": "authentic-distinction",
   "metadata": {},
   "outputs": [
    {
     "name": "stdout",
     "output_type": "stream",
     "text": [
      ".. _iris_dataset:\n",
      "\n",
      "Iris plants dataset\n",
      "--------------------\n",
      "\n",
      "**Data Set Characteristics:**\n",
      "\n",
      "    :Number of Instances: 150 (50 in each of three classes)\n",
      "    :Number of Attributes: 4 numeric, predictive attributes and the class\n",
      "    :Attribute Information:\n",
      "        - sepal length in cm\n",
      "        - sepal width in cm\n",
      "        - petal length in cm\n",
      "        - petal width in cm\n",
      "        - class:\n",
      "                - Iris-Setosa\n",
      "                - Iris-Versicolour\n",
      "                - Iris-Virginica\n",
      "                \n",
      "    :Summary Statistics:\n",
      "\n",
      "    ============== ==== ==== ======= ===== ====================\n",
      "                    Min  Max   Mean    SD   Class Correlation\n",
      "    ============== ==== ==== ======= ===== ====================\n",
      "    sepal length:   4.3  7.9   5.84   0.83    0.7826\n",
      "    sepal width:    2.0  4.4   3.05   0.43   -0.4194\n",
      "    petal length:   1.0  6.9   3.76   1.76    0.9490  (high!)\n",
      "    petal width:    0.1  2.5   1.20   0.76    0.9565  (high!)\n",
      "    ============== ==== ==== ======= ===== ====================\n",
      "\n",
      "    :Missing Attribute Values: None\n",
      "    :Class Distribution: 33.3% for each of 3 classes.\n",
      "    :Creator: R.A. Fisher\n",
      "    :Donor: Michael Marshall (MARSHALL%PLU@io.arc.nasa.gov)\n",
      "    :Date: July, 1988\n",
      "\n",
      "The famous Iris database, first used by Sir R.A. Fisher. The dataset is taken\n",
      "from Fisher's paper. Note that it's the same as in R, but not as in the UCI\n",
      "Machine Learning Repository, which has two wrong data points.\n",
      "\n",
      "This is perhaps the best known database to be found in the\n",
      "pattern recognition literature.  Fisher's paper is a classic in the field and\n",
      "is referenced frequently to this day.  (See Duda & Hart, for example.)  The\n",
      "data set contains 3 classes of 50 instances each, where each class refers to a\n",
      "type of iris plant.  One class is linearly separable from the other 2; the\n",
      "latter are NOT linearly separable from each other.\n",
      "\n",
      ".. topic:: References\n",
      "\n",
      "   - Fisher, R.A. \"The use of multiple measurements in taxonomic problems\"\n",
      "     Annual Eugenics, 7, Part II, 179-188 (1936); also in \"Contributions to\n",
      "     Mathematical Statistics\" (John Wiley, NY, 1950).\n",
      "   - Duda, R.O., & Hart, P.E. (1973) Pattern Classification and Scene Analysis.\n",
      "     (Q327.D83) John Wiley & Sons.  ISBN 0-471-22361-1.  See page 218.\n",
      "   - Dasarathy, B.V. (1980) \"Nosing Around the Neighborhood: A New System\n",
      "     Structure and Classification Rule for Recognition in Partially Exposed\n",
      "     Environments\".  IEEE Transactions on Pattern Analysis and Machine\n",
      "     Intelligence, Vol. PAMI-2, No. 1, 67-71.\n",
      "   - Gates, G.W. (1972) \"The Reduced Nearest Neighbor Rule\".  IEEE Transactions\n",
      "     on Information Theory, May 1972, 431-433.\n",
      "   - See also: 1988 MLC Proceedings, 54-64.  Cheeseman et al\"s AUTOCLASS II\n",
      "     conceptual clustering system finds 3 classes in the data.\n",
      "   - Many, many more ...\n"
     ]
    }
   ],
   "source": [
    "print(iris['DESCR'])"
   ]
  },
  {
   "cell_type": "code",
   "execution_count": 22,
   "id": "voluntary-syracuse",
   "metadata": {},
   "outputs": [
    {
     "data": {
      "text/plain": [
       "dict_keys(['data', 'target', 'frame', 'target_names', 'DESCR', 'feature_names', 'filename'])"
      ]
     },
     "execution_count": 22,
     "metadata": {},
     "output_type": "execute_result"
    }
   ],
   "source": [
    "iris.keys()"
   ]
  },
  {
   "cell_type": "code",
   "execution_count": 23,
   "id": "structured-tutorial",
   "metadata": {},
   "outputs": [],
   "source": [
    "lookup_table = dict(zip(np.unique(iris['target']),np.unique(iris['target_names'])))"
   ]
  },
  {
   "cell_type": "code",
   "execution_count": 24,
   "id": "outside-advice",
   "metadata": {},
   "outputs": [
    {
     "data": {
      "text/plain": [
       "'setosa'"
      ]
     },
     "execution_count": 24,
     "metadata": {},
     "output_type": "execute_result"
    }
   ],
   "source": [
    "lookup_table[0]"
   ]
  },
  {
   "cell_type": "code",
   "execution_count": 25,
   "id": "serial-hughes",
   "metadata": {},
   "outputs": [],
   "source": [
    "X_data=iris['data']"
   ]
  },
  {
   "cell_type": "code",
   "execution_count": 26,
   "id": "average-hawaiian",
   "metadata": {},
   "outputs": [],
   "source": [
    "y_data = iris['target']"
   ]
  },
  {
   "cell_type": "code",
   "execution_count": 27,
   "id": "eligible-traffic",
   "metadata": {},
   "outputs": [
    {
     "data": {
      "text/plain": [
       "array([5.1, 3.5, 1.4, 0.2])"
      ]
     },
     "execution_count": 27,
     "metadata": {},
     "output_type": "execute_result"
    }
   ],
   "source": [
    "X_data[0]"
   ]
  },
  {
   "cell_type": "code",
   "execution_count": 28,
   "id": "greatest-asian",
   "metadata": {},
   "outputs": [
    {
     "data": {
      "text/plain": [
       "0"
      ]
     },
     "execution_count": 28,
     "metadata": {},
     "output_type": "execute_result"
    }
   ],
   "source": [
    "y_data[0]"
   ]
  },
  {
   "cell_type": "code",
   "execution_count": 29,
   "id": "unlike-reach",
   "metadata": {},
   "outputs": [],
   "source": [
    "idx=np.random.randint(0,X_data.shape[0],10)"
   ]
  },
  {
   "cell_type": "code",
   "execution_count": 30,
   "id": "experimental-nutrition",
   "metadata": {},
   "outputs": [
    {
     "data": {
      "text/plain": [
       "array([62, 26, 38, 25, 84, 45, 16, 18, 84, 79])"
      ]
     },
     "execution_count": 30,
     "metadata": {},
     "output_type": "execute_result"
    }
   ],
   "source": [
    "idx"
   ]
  },
  {
   "cell_type": "code",
   "execution_count": 31,
   "id": "correct-semester",
   "metadata": {},
   "outputs": [
    {
     "data": {
      "text/plain": [
       "array([[6. , 2.2, 4. , 1. ],\n",
       "       [5. , 3.4, 1.6, 0.4],\n",
       "       [4.4, 3. , 1.3, 0.2],\n",
       "       [5. , 3. , 1.6, 0.2],\n",
       "       [5.4, 3. , 4.5, 1.5],\n",
       "       [4.8, 3. , 1.4, 0.3],\n",
       "       [5.4, 3.9, 1.3, 0.4],\n",
       "       [5.7, 3.8, 1.7, 0.3],\n",
       "       [5.4, 3. , 4.5, 1.5],\n",
       "       [5.7, 2.6, 3.5, 1. ]])"
      ]
     },
     "execution_count": 31,
     "metadata": {},
     "output_type": "execute_result"
    }
   ],
   "source": [
    "X_data[idx]"
   ]
  },
  {
   "cell_type": "code",
   "execution_count": 32,
   "id": "mexican-accused",
   "metadata": {},
   "outputs": [
    {
     "data": {
      "text/plain": [
       "array([1, 0, 0, 0, 1, 0, 0, 0, 1, 1])"
      ]
     },
     "execution_count": 32,
     "metadata": {},
     "output_type": "execute_result"
    }
   ],
   "source": [
    "y_data[idx]"
   ]
  },
  {
   "cell_type": "markdown",
   "id": "spanish-empty",
   "metadata": {},
   "source": [
    "# Once you have X_data and y_data you can separate them by different sets:\n",
    "* training set\n",
    "* test set"
   ]
  },
  {
   "cell_type": "code",
   "execution_count": 33,
   "id": "portable-craft",
   "metadata": {},
   "outputs": [],
   "source": [
    "from sklearn.model_selection import train_test_split"
   ]
  },
  {
   "cell_type": "code",
   "execution_count": 34,
   "id": "complicated-reliance",
   "metadata": {},
   "outputs": [],
   "source": [
    "X_train,X_test, y_train,y_test= train_test_split(X_data,y_data,random_state=11,test_size=0.2)"
   ]
  },
  {
   "cell_type": "code",
   "execution_count": 35,
   "id": "secondary-blackjack",
   "metadata": {},
   "outputs": [
    {
     "data": {
      "text/plain": [
       "(120, 4)"
      ]
     },
     "execution_count": 35,
     "metadata": {},
     "output_type": "execute_result"
    }
   ],
   "source": [
    "X_train.shape"
   ]
  },
  {
   "cell_type": "code",
   "execution_count": 36,
   "id": "ready-solomon",
   "metadata": {},
   "outputs": [
    {
     "data": {
      "text/plain": [
       "(120,)"
      ]
     },
     "execution_count": 36,
     "metadata": {},
     "output_type": "execute_result"
    }
   ],
   "source": [
    "y_train.shape"
   ]
  },
  {
   "cell_type": "code",
   "execution_count": 37,
   "id": "suburban-christianity",
   "metadata": {},
   "outputs": [
    {
     "data": {
      "text/plain": [
       "(30, 4)"
      ]
     },
     "execution_count": 37,
     "metadata": {},
     "output_type": "execute_result"
    }
   ],
   "source": [
    "X_test.shape"
   ]
  },
  {
   "cell_type": "code",
   "execution_count": 38,
   "id": "sitting-weather",
   "metadata": {},
   "outputs": [
    {
     "data": {
      "text/plain": [
       "array([[5.1, 3.5, 1.4, 0.2],\n",
       "       [6.9, 3.2, 5.7, 2.3],\n",
       "       [7.7, 2.8, 6.7, 2. ],\n",
       "       [5. , 3.3, 1.4, 0.2],\n",
       "       [4.7, 3.2, 1.6, 0.2],\n",
       "       [7.7, 2.6, 6.9, 2.3],\n",
       "       [7.6, 3. , 6.6, 2.1],\n",
       "       [6.7, 3. , 5. , 1.7],\n",
       "       [5.5, 3.5, 1.3, 0.2],\n",
       "       [6. , 2.7, 5.1, 1.6]])"
      ]
     },
     "execution_count": 38,
     "metadata": {},
     "output_type": "execute_result"
    }
   ],
   "source": [
    "X_train[0:10]"
   ]
  },
  {
   "cell_type": "code",
   "execution_count": 39,
   "id": "introductory-screening",
   "metadata": {},
   "outputs": [],
   "source": [
    "import tensorflow as tf"
   ]
  },
  {
   "cell_type": "code",
   "execution_count": 40,
   "id": "fatty-egypt",
   "metadata": {},
   "outputs": [],
   "source": [
    "#tf.random.set_seed(10)"
   ]
  },
  {
   "cell_type": "code",
   "execution_count": 50,
   "id": "adaptive-office",
   "metadata": {},
   "outputs": [],
   "source": [
    "np.random.seed(10)"
   ]
  },
  {
   "cell_type": "code",
   "execution_count": 72,
   "id": "accompanied-consideration",
   "metadata": {},
   "outputs": [
    {
     "data": {
      "text/plain": [
       "array([ 0, 40, 36])"
      ]
     },
     "execution_count": 72,
     "metadata": {},
     "output_type": "execute_result"
    }
   ],
   "source": [
    "#np.random.seed(10)\n",
    "np.random.randint(0,100,3)"
   ]
  },
  {
   "cell_type": "code",
   "execution_count": null,
   "id": "breeding-label",
   "metadata": {},
   "outputs": [],
   "source": []
  }
 ],
 "metadata": {
  "kernelspec": {
   "display_name": "Python 3",
   "language": "python",
   "name": "python3"
  },
  "language_info": {
   "codemirror_mode": {
    "name": "ipython",
    "version": 3
   },
   "file_extension": ".py",
   "mimetype": "text/x-python",
   "name": "python",
   "nbconvert_exporter": "python",
   "pygments_lexer": "ipython3",
   "version": "3.7.2"
  }
 },
 "nbformat": 4,
 "nbformat_minor": 5
}
