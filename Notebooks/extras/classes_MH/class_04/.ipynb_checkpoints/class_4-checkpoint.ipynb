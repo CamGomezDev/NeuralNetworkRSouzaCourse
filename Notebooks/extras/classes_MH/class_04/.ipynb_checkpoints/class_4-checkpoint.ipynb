{
 "cells": [
  {
   "cell_type": "code",
   "execution_count": 3,
   "id": "south-vault",
   "metadata": {},
   "outputs": [
    {
     "name": "stdout",
     "output_type": "stream",
     "text": [
      "Untitled.ipynb\t\t fruit_data_with_colors.txt  mytable.txt\r\n",
      "dictionary_Pandas.ipynb  mytable.csv\r\n"
     ]
    }
   ],
   "source": [
    "!ls"
   ]
  },
  {
   "cell_type": "markdown",
   "id": "proprietary-hanging",
   "metadata": {},
   "source": [
    "# Modelado de datos class: 5"
   ]
  },
  {
   "cell_type": "markdown",
   "id": "accompanied-psychology",
   "metadata": {},
   "source": [
    "## Vocabulary:\n",
    "* common - comun\n",
    "* features - caracteristicas\n",
    "* labels - etiquetas\n",
    "* targets - meta o valor previsto\n",
    "* just - solamente\n",
    "* using - usando\n",
    "* unique - unicos\n",
    "* one can get - uno puede consequir\n",
    "* lookup_table - tabla_de_conversion\n",
    "* tips - pistas\n",
    "* usually - usualmente\n",
    "\n",
    "\n",
    "\n",
    "* through - a taves\n",
    "* keys - llaves\n",
    "* values - valores\n",
    "* dictionary - dictionario"
   ]
  },
  {
   "cell_type": "code",
   "execution_count": null,
   "id": "polar-association",
   "metadata": {},
   "outputs": [],
   "source": []
  }
 ],
 "metadata": {
  "kernelspec": {
   "display_name": "Python 3",
   "language": "python",
   "name": "python3"
  },
  "language_info": {
   "codemirror_mode": {
    "name": "ipython",
    "version": 3
   },
   "file_extension": ".py",
   "mimetype": "text/x-python",
   "name": "python",
   "nbconvert_exporter": "python",
   "pygments_lexer": "ipython3",
   "version": "3.7.2"
  }
 },
 "nbformat": 4,
 "nbformat_minor": 5
}
