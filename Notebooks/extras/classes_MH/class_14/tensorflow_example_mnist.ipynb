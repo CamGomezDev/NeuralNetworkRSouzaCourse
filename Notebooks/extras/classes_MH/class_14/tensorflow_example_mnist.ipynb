{
 "cells": [
  {
   "cell_type": "code",
   "execution_count": 1,
   "metadata": {},
   "outputs": [],
   "source": [
    "# Import TensorFlow\n",
    "\n",
    "import tensorflow as tf\n",
    "from tensorflow.keras.models import Sequential\n",
    "from tensorflow.keras.layers import Dense, Flatten, Softmax, InputLayer"
   ]
  },
  {
   "cell_type": "code",
   "execution_count": 2,
   "metadata": {},
   "outputs": [
    {
     "data": {
      "text/plain": [
       "'2.5.0'"
      ]
     },
     "execution_count": 2,
     "metadata": {},
     "output_type": "execute_result"
    }
   ],
   "source": [
    "# Check its version\n",
    "\n",
    "tf.__version__"
   ]
  },
  {
   "cell_type": "code",
   "execution_count": 3,
   "metadata": {},
   "outputs": [],
   "source": [
    "#tf.random.set_seed(1234)"
   ]
  },
  {
   "cell_type": "code",
   "execution_count": 16,
   "metadata": {},
   "outputs": [
    {
     "name": "stdout",
     "output_type": "stream",
     "text": [
      "Loading data...\n",
      "\n",
      "MNIST dataset loaded.\n",
      "\n",
      "<class 'numpy.ndarray'>\n",
      "(784,)\n"
     ]
    }
   ],
   "source": [
    "# Train a feedforward neural network for image classification\n",
    "\n",
    "import numpy as np\n",
    "import pandas as pd\n",
    "print('Loading data...\\n')\n",
    "data = pd.read_csv('mnist_test.csv')\n",
    "print('MNIST dataset loaded.\\n')\n",
    "\n",
    "\n",
    "data=data.to_numpy()\n",
    "print(type(data))\n",
    "\n",
    "\n",
    "\n",
    "X_train = data[:, 1:]\n",
    "y_train = data[:, 0]\n",
    "print(X_train[0].shape)\n",
    "\n",
    "model=Sequential([InputLayer(input_shape=(784,)),\n",
    "                  Dense(16,activation='relu',name='layer_1'),\n",
    "                  Dense(16,activation='relu',name='layer_2'),\n",
    "                  Dense(10,activation='softmax',name='layer_3')\n",
    "                 ])"
   ]
  },
  {
   "cell_type": "code",
   "execution_count": 17,
   "metadata": {},
   "outputs": [
    {
     "name": "stdout",
     "output_type": "stream",
     "text": [
      "Model: \"sequential_2\"\n",
      "_________________________________________________________________\n",
      "Layer (type)                 Output Shape              Param #   \n",
      "=================================================================\n",
      "layer_1 (Dense)              (None, 16)                12560     \n",
      "_________________________________________________________________\n",
      "layer_2 (Dense)              (None, 16)                272       \n",
      "_________________________________________________________________\n",
      "layer_3 (Dense)              (None, 10)                170       \n",
      "=================================================================\n",
      "Total params: 13,002\n",
      "Trainable params: 13,002\n",
      "Non-trainable params: 0\n",
      "_________________________________________________________________\n"
     ]
    }
   ],
   "source": [
    "model.summary()"
   ]
  },
  {
   "cell_type": "code",
   "execution_count": 6,
   "metadata": {},
   "outputs": [],
   "source": [
    "model.compile(optimizer='adam',\n",
    "              loss='sparse_categorical_crossentropy',\n",
    "              metrics=['accuracy'])"
   ]
  },
  {
   "cell_type": "code",
   "execution_count": 7,
   "metadata": {},
   "outputs": [
    {
     "name": "stdout",
     "output_type": "stream",
     "text": [
      "Training model...\n",
      "\n",
      "Epoch 1/10\n",
      "313/313 - 1s - loss: 4.7451 - accuracy: 0.1689\n",
      "Epoch 2/10\n",
      "313/313 - 0s - loss: 2.1001 - accuracy: 0.1970\n",
      "Epoch 3/10\n",
      "313/313 - 0s - loss: 1.9386 - accuracy: 0.2882\n",
      "Epoch 4/10\n",
      "313/313 - 0s - loss: 1.7261 - accuracy: 0.3807\n",
      "Epoch 5/10\n",
      "313/313 - 0s - loss: 1.5848 - accuracy: 0.4138\n",
      "Epoch 6/10\n",
      "313/313 - 0s - loss: 1.5055 - accuracy: 0.4490\n",
      "Epoch 7/10\n",
      "313/313 - 0s - loss: 1.3495 - accuracy: 0.5013\n",
      "Epoch 8/10\n",
      "313/313 - 0s - loss: 1.2716 - accuracy: 0.5287\n",
      "Epoch 9/10\n",
      "313/313 - 0s - loss: 1.2012 - accuracy: 0.5567\n",
      "Epoch 10/10\n",
      "313/313 - 0s - loss: 1.1410 - accuracy: 0.5675\n"
     ]
    }
   ],
   "source": [
    "print('Training model...\\n')\n",
    "myhistory=model.fit(X_train, y_train, epochs=10, batch_size=32,verbose=2)\n",
    "\n"
   ]
  },
  {
   "cell_type": "code",
   "execution_count": 8,
   "metadata": {},
   "outputs": [
    {
     "name": "stdout",
     "output_type": "stream",
     "text": [
      "dict_keys(['loss', 'accuracy'])\n"
     ]
    }
   ],
   "source": [
    "print(myhistory.history.keys())"
   ]
  },
  {
   "cell_type": "code",
   "execution_count": 12,
   "metadata": {},
   "outputs": [
    {
     "data": {
      "image/png": "[encoded data removed]",
      "text/plain": [
       "<Figure size 432x288 with 1 Axes>"
      ]
     },
     "metadata": {
      "needs_background": "light"
     },
     "output_type": "display_data"
    }
   ],
   "source": [
    "import matplotlib.pyplot as plt\n",
    "epochs=10\n",
    "xvals=range(epochs)\n",
    "plt.plot(xvals,myhistory.history['accuracy'])\n",
    "plt.show()"
   ]
  },
  {
   "cell_type": "code",
   "execution_count": 13,
   "metadata": {},
   "outputs": [
    {
     "name": "stdout",
     "output_type": "stream",
     "text": [
      "[[9.1735810e-01 2.0557103e-08 3.0125434e-02 3.5489407e-05 5.4378906e-21\n",
      "  2.0489054e-02 3.1991869e-02 3.8437758e-15 1.1192728e-11 3.3927691e-14]]\n"
     ]
    }
   ],
   "source": [
    "pred = model.predict(X_train[10:11,:])\n",
    "print(pred)"
   ]
  },
  {
   "cell_type": "code",
   "execution_count": 14,
   "metadata": {},
   "outputs": [
    {
     "data": {
      "text/plain": [
       "array([0])"
      ]
     },
     "execution_count": 14,
     "metadata": {},
     "output_type": "execute_result"
    }
   ],
   "source": [
    "y_train[10:11]"
   ]
  },
  {
   "cell_type": "code",
   "execution_count": null,
   "metadata": {},
   "outputs": [],
   "source": []
  },
  {
   "cell_type": "code",
   "execution_count": null,
   "metadata": {},
   "outputs": [],
   "source": []
  },
  {
   "cell_type": "code",
   "execution_count": null,
   "metadata": {},
   "outputs": [],
   "source": []
  }
 ],
 "metadata": {
  "kernelspec": {
   "display_name": "Python 3",
   "language": "python",
   "name": "python3"
  },
  "language_info": {
   "codemirror_mode": {
    "name": "ipython",
    "version": 3
   },
   "file_extension": ".py",
   "mimetype": "text/x-python",
   "name": "python",
   "nbconvert_exporter": "python",
   "pygments_lexer": "ipython3",
   "version": "3.7.2"
  }
 },
 "nbformat": 4,
 "nbformat_minor": 2
}
