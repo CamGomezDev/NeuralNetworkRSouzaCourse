{
 "cells": [
  {
   "cell_type": "markdown",
   "id": "opposed-legislation",
   "metadata": {},
   "source": [
    "# Multiple Perceptron Neural Network (MLP)"
   ]
  },
  {
   "cell_type": "markdown",
   "id": "reserved-eagle",
   "metadata": {},
   "source": [
    "# Principle elements of building Neural Network using TensorFlow:\n",
    "\n",
    "* prepare the data\n",
    "  * data X_train,y_train X_test,y_test (using scikit-learn )\n",
    "  * loading images\n",
    "  * can be also \"image generator\"\n",
    "  \n",
    "* create model and execute methods on it \n",
    "  * model.compile\n",
    "  * model.fit\n",
    "  * model.evaluate\n",
    "  * model.predict"
   ]
  },
  {
   "cell_type": "markdown",
   "id": "expected-jumping",
   "metadata": {},
   "source": [
    "## MODEL\n",
    "* sequential \n",
    "  * Here we create the model layer-by-layer. It is very simple and easy to use. But sharing of layers or branching of layers is not allowed (We will see what sharing or branching means later). Also, you can’t have multiple inputs or outputs.\n",
    "* functional"
   ]
  },
  {
   "cell_type": "markdown",
   "id": "former-knitting",
   "metadata": {},
   "source": [
    "## Sequential model accepts different layers\n",
    "InputLayer, Dense, Flatten, Dropout"
   ]
  },
  {
   "cell_type": "markdown",
   "id": "latin-practice",
   "metadata": {},
   "source": [
    "* InputLayer specifies the input shape of the data (mnist)\n",
    "   * how to get the proper dimensions: X_train[0].shape\n",
    "* Dense is a standard neural network layer\n",
    "   * dense accepts number of neurons and the activation function and label "
   ]
  },
  {
   "cell_type": "code",
   "execution_count": null,
   "id": "chief-measure",
   "metadata": {},
   "outputs": [],
   "source": [
    "import tensorflow as tf"
   ]
  },
  {
   "cell_type": "code",
   "execution_count": null,
   "id": "heated-drinking",
   "metadata": {},
   "outputs": [],
   "source": [
    "from tensorflow.keras.models import Sequential"
   ]
  },
  {
   "cell_type": "code",
   "execution_count": null,
   "id": "progressive-reduction",
   "metadata": {},
   "outputs": [],
   "source": [
    "from tensorflow.keras.layers import Dense, Softmax, InputLayer"
   ]
  },
  {
   "cell_type": "markdown",
   "id": "running-belarus",
   "metadata": {},
   "source": [
    "Must read the documentation!\n",
    "type: tensorflow InputLayer"
   ]
  },
  {
   "cell_type": "code",
   "execution_count": null,
   "id": "similar-court",
   "metadata": {},
   "outputs": [],
   "source": [
    "model=Sequential([InputLayer(input_shape=(784,)),\n",
    "                  Dense(units=16,activation='relu',name='hidden_relu'),\n",
    "                  Dense(units=10,activation='softmax',name='output_softmax')\n",
    "                 ])"
   ]
  },
  {
   "cell_type": "code",
   "execution_count": null,
   "id": "lonely-candidate",
   "metadata": {},
   "outputs": [],
   "source": [
    "model.summary()"
   ]
  },
  {
   "cell_type": "markdown",
   "id": "later-radiation",
   "metadata": {},
   "source": [
    "### Compile the model with given parameters\n",
    "* optimizer (adam,sgd)\n",
    "* loss function, for mnist try: 'sparse_categorical_crossentropy'\n",
    "* metrics (most common is accuracy) (how to measure the performance of the NN)"
   ]
  },
  {
   "cell_type": "code",
   "execution_count": null,
   "id": "agricultural-indication",
   "metadata": {},
   "outputs": [],
   "source": [
    "model.compile(optimizer='adam',\n",
    "              loss='sparse_categorical_crossentropy',\n",
    "              metrics=['accuracy'])"
   ]
  },
  {
   "cell_type": "markdown",
   "id": "fifth-throat",
   "metadata": {},
   "source": [
    "### Fitting (training) the model with given parameters\n",
    "* accepts X_train,y_train (and evaluation data ... later)\n",
    "* epochs - number of passes (remember gradient descent)\n",
    "* batch_size like a size of a package (default is 32)"
   ]
  },
  {
   "cell_type": "code",
   "execution_count": null,
   "id": "laughing-volume",
   "metadata": {},
   "outputs": [],
   "source": [
    "mhistory=model.fit(X_train, y_train, epochs=10, batch_size=32)"
   ]
  },
  {
   "cell_type": "markdown",
   "id": "dominant-heart",
   "metadata": {},
   "source": [
    "myhistory is to visualize the progres (is a dictionary )"
   ]
  },
  {
   "cell_type": "code",
   "execution_count": null,
   "id": "overall-packing",
   "metadata": {},
   "outputs": [],
   "source": [
    "print(myhistory.history.keys())"
   ]
  },
  {
   "cell_type": "markdown",
   "id": "encouraging-earth",
   "metadata": {},
   "source": [
    "### Predict (check the model state of training)"
   ]
  },
  {
   "cell_type": "code",
   "execution_count": null,
   "id": "every-wells",
   "metadata": {},
   "outputs": [],
   "source": [
    "# accepts slices of data. Use X_test for prediction\n",
    "pred = model.predict(X_test[0:1,:])"
   ]
  },
  {
   "cell_type": "code",
   "execution_count": null,
   "id": "unlimited-indicator",
   "metadata": {},
   "outputs": [],
   "source": []
  }
 ],
 "metadata": {
  "kernelspec": {
   "display_name": "Python 3",
   "language": "python",
   "name": "python3"
  },
  "language_info": {
   "codemirror_mode": {
    "name": "ipython",
    "version": 3
   },
   "file_extension": ".py",
   "mimetype": "text/x-python",
   "name": "python",
   "nbconvert_exporter": "python",
   "pygments_lexer": "ipython3",
   "version": "3.7.2"
  }
 },
 "nbformat": 4,
 "nbformat_minor": 5
}
