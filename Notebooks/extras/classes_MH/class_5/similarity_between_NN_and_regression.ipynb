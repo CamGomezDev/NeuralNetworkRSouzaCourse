{
 "cells": [
  {
   "cell_type": "markdown",
   "id": "engaged-iraqi",
   "metadata": {},
   "source": [
    "## Data Modelling using Neural Networks (class 5)"
   ]
  },
  {
   "cell_type": "markdown",
   "id": "discrete-variable",
   "metadata": {},
   "source": [
    "## Dictionary:\n",
    "* fitting - ajuste\n",
    "* justification - justificativa\n",
    "* loss function - funcion de perdida\n",
    "* layer - capa\n",
    "* recognition - reconocimiento\n",
    "* weigts - ponderaciones, peso"
   ]
  },
  {
   "cell_type": "markdown",
   "id": "unlike-african",
   "metadata": {},
   "source": [
    "### this class is not an introducion to Neural Network\n",
    "* this class is a justification why one needs to understand other things before using NN:\n",
    "  * Linear regression\n",
    "  * Logistic regression\n",
    "  * Linear algebra\n",
    "  * Metrics\n",
    "  * loss funcions\n",
    "  * mean squared error MSE"
   ]
  },
  {
   "cell_type": "markdown",
   "id": "further-butterfly",
   "metadata": {},
   "source": [
    "Part of the course was from the beginning including regression... linear and logistic.\n",
    "\n",
    "    .\n",
    "    .\n",
    "    .\n",
    "    .\n",
    "    2. Regression\n",
    "        -Least squared method\n",
    "        -linear regression (uni and multivariable)\n",
    "        -gradient descent\n",
    "\t    -logistic regression\n",
    "        - overfitting...\n",
    "     .\n",
    "     .\n",
    "     .\n",
    "     ."
   ]
  },
  {
   "cell_type": "markdown",
   "id": "korean-horse",
   "metadata": {},
   "source": [
    "## There is no magic in how the NN works, \n",
    "complexity? .... oh yes!"
   ]
  },
  {
   "cell_type": "markdown",
   "id": "dress-diabetes",
   "metadata": {},
   "source": [
    "### classical computing\n",
    "* inputs                    # known\n",
    "* rule (code or algorithm)  # known\n",
    "* outputs                   # unknown"
   ]
  },
  {
   "cell_type": "markdown",
   "id": "turned-conflict",
   "metadata": {},
   "source": [
    "## machine learning\n",
    "* input     # known\n",
    "* rule      # this is to be found\n",
    "* output    # known"
   ]
  },
  {
   "cell_type": "markdown",
   "id": "biological-removal",
   "metadata": {},
   "source": [
    "\n",
    "<img src=\"imgs/rule.png\" width=\"600\" />"
   ]
  },
  {
   "cell_type": "markdown",
   "id": "valuable-danish",
   "metadata": {},
   "source": [
    "### Neural Network (Deep neural network has this misterious structure)\n"
   ]
  },
  {
   "cell_type": "markdown",
   "id": "resistant-router",
   "metadata": {},
   "source": []
  },
  {
   "cell_type": "markdown",
   "id": "weird-devil",
   "metadata": {},
   "source": [
    "# WHY do we need to study regression?\n",
    "\n",
    "<img src=\"imgs/deep_neural_network.png\" width=\"600\" /> \n",
    "\n",
    "* there are neural networks that have over 100 hidden layers (whatever it means)\n",
    "* they are better than the humans in recognizing objects\n",
    "* but there is also possible to build a simple neural network that has one one neuron and one layer!\n",
    "* how would that NN work, what problem can you solve it with it\n",
    "* the principle of operation is the same in both cases\n",
    "\n",
    "* some people say that Machine Learning is a glorified statistics... (?)"
   ]
  },
  {
   "cell_type": "markdown",
   "id": "committed-representative",
   "metadata": {},
   "source": [
    "### Lets try something simple:"
   ]
  },
  {
   "cell_type": "markdown",
   "id": "beginning-universal",
   "metadata": {},
   "source": []
  },
  {
   "cell_type": "code",
   "execution_count": null,
   "id": "treated-healthcare",
   "metadata": {},
   "outputs": [],
   "source": [
    "0   -> 32\n",
    "8   -> 46.4\n",
    "15  -> 59\n",
    "22  -> 71.6\n",
    "100 -> ?"
   ]
  },
  {
   "cell_type": "code",
   "execution_count": null,
   "id": "tired-economy",
   "metadata": {},
   "outputs": [],
   "source": [
    "# the example above is the conversion between Celsius and Farenheit"
   ]
  },
  {
   "cell_type": "code",
   "execution_count": 2,
   "id": "pointed-circumstances",
   "metadata": {},
   "outputs": [
    {
     "name": "stdout",
     "output_type": "stream",
     "text": [
      "71.6\n"
     ]
    }
   ],
   "source": [
    "C=22\n",
    "F = C * 1.8 + 32\n",
    "print(F)"
   ]
  },
  {
   "cell_type": "markdown",
   "id": "finished-spain",
   "metadata": {},
   "source": [
    "# Can we construct a neural network that can solve such a simple problem? YES.\n",
    "\n",
    "Such neural network would have \n",
    "* an input single digit\n",
    "* an output single digit"
   ]
  },
  {
   "cell_type": "markdown",
   "id": "original-passage",
   "metadata": {},
   "source": [
    "<img src=\"imgs/NN_bias.png\" width=\"600\" /> "
   ]
  },
  {
   "cell_type": "markdown",
   "id": "viral-pleasure",
   "metadata": {},
   "source": [
    "<img src=\"imgs/NN_CF.png\" width=\"400\" /> "
   ]
  },
  {
   "cell_type": "code",
   "execution_count": 3,
   "id": "drawn-booking",
   "metadata": {},
   "outputs": [],
   "source": [
    "import tensorflow as tf\n",
    "from tensorflow.keras.models import Sequential\n",
    "from tensorflow.keras.layers import InputLayer, Dense\n",
    "import numpy as np\n",
    "import matplotlib.pyplot as plt"
   ]
  },
  {
   "cell_type": "code",
   "execution_count": 18,
   "id": "beginning-abraham",
   "metadata": {},
   "outputs": [
    {
     "data": {
      "text/plain": [
       "(7,)"
      ]
     },
     "execution_count": 18,
     "metadata": {},
     "output_type": "execute_result"
    }
   ],
   "source": [
    "celsius   = np.array([-40,10,0,8,15,22,38])\n",
    "farenheit = np.array([-40,50,32,46.4,59,71.6,100.4])\n",
    "farenheit.shape"
   ]
  },
  {
   "cell_type": "code",
   "execution_count": 19,
   "id": "latest-going",
   "metadata": {},
   "outputs": [],
   "source": [
    "input_layer = InputLayer(input_shape=1)\n",
    "dense_layer = Dense(units=1)\n",
    "dense_layer2 = Dense(units=3)\n",
    "dense_layer2 = Dense(units=5)"
   ]
  },
  {
   "cell_type": "code",
   "execution_count": 20,
   "id": "persistent-party",
   "metadata": {},
   "outputs": [],
   "source": [
    "model = Sequential([input_layer,\n",
    "                    dense_layer])"
   ]
  },
  {
   "cell_type": "code",
   "execution_count": 32,
   "id": "cooperative-appendix",
   "metadata": {},
   "outputs": [],
   "source": [
    "model.compile(loss='mean_squared_error',optimizer=tf.keras.optimizers.Adam(0.1))"
   ]
  },
  {
   "cell_type": "code",
   "execution_count": 60,
   "id": "endangered-tolerance",
   "metadata": {},
   "outputs": [],
   "source": [
    "history = model.fit(celsius,farenheit,epochs=500,verbose=False)"
   ]
  },
  {
   "cell_type": "code",
   "execution_count": 37,
   "id": "civil-tender",
   "metadata": {},
   "outputs": [
    {
     "data": {
      "text/plain": [
       "dict_keys(['loss'])"
      ]
     },
     "execution_count": 37,
     "metadata": {},
     "output_type": "execute_result"
    }
   ],
   "source": [
    "history.history.keys()"
   ]
  },
  {
   "cell_type": "code",
   "execution_count": 38,
   "id": "specific-expression",
   "metadata": {},
   "outputs": [
    {
     "data": {
      "text/plain": [
       "[<matplotlib.lines.Line2D at 0x7f3330028da0>]"
      ]
     },
     "execution_count": 38,
     "metadata": {},
     "output_type": "execute_result"
    },
    {
     "data": {
      "image/png": "[encoded data removed]",
      "text/plain": [
       "<Figure size 432x288 with 1 Axes>"
      ]
     },
     "metadata": {
      "needs_background": "light"
     },
     "output_type": "display_data"
    }
   ],
   "source": [
    "fig,ax = plt.subplots(1,1)\n",
    "ax.plot(history.history['loss'])"
   ]
  },
  {
   "cell_type": "code",
   "execution_count": 39,
   "id": "challenging-screen",
   "metadata": {},
   "outputs": [
    {
     "data": {
      "text/plain": [
       "array([[212.00002],\n",
       "       [302.00006],\n",
       "       [392.00006]], dtype=float32)"
      ]
     },
     "execution_count": 39,
     "metadata": {},
     "output_type": "execute_result"
    }
   ],
   "source": [
    "model.predict([100,150,200])"
   ]
  },
  {
   "cell_type": "code",
   "execution_count": 40,
   "id": "distinct-master",
   "metadata": {},
   "outputs": [
    {
     "data": {
      "text/plain": [
       "[array([[1.8000005]], dtype=float32), array([31.999954], dtype=float32)]"
      ]
     },
     "execution_count": 40,
     "metadata": {},
     "output_type": "execute_result"
    }
   ],
   "source": [
    "dense_layer.get_weights()"
   ]
  },
  {
   "cell_type": "code",
   "execution_count": 42,
   "id": "complex-cincinnati",
   "metadata": {},
   "outputs": [],
   "source": [
    "w1 = dense_layer.get_weights()[0]\n",
    "bias = dense_layer.get_weights()[1]"
   ]
  },
  {
   "cell_type": "code",
   "execution_count": 43,
   "id": "formed-welding",
   "metadata": {},
   "outputs": [
    {
     "name": "stdout",
     "output_type": "stream",
     "text": [
      "[[212.00002]]\n"
     ]
    }
   ],
   "source": [
    "C=100\n",
    "F=C*w1+bias\n",
    "print(F)"
   ]
  },
  {
   "cell_type": "markdown",
   "id": "resident-revolution",
   "metadata": {},
   "source": [
    "## We created a simple neural network that solves a conversion problem\n",
    "<img src=\"imgs/NN_CF.png\" width=\"400\" /> "
   ]
  },
  {
   "cell_type": "markdown",
   "id": "endangered-encoding",
   "metadata": {},
   "source": [
    "## But wait a second this can be also solved much simpler way...\n",
    "* by a regression/fitting method"
   ]
  },
  {
   "cell_type": "code",
   "execution_count": null,
   "id": "aggregate-lover",
   "metadata": {},
   "outputs": [],
   "source": [
    "import numpy as np\n"
   ]
  },
  {
   "cell_type": "code",
   "execution_count": 55,
   "id": "smoking-survival",
   "metadata": {},
   "outputs": [
    {
     "data": {
      "text/plain": [
       "[<matplotlib.lines.Line2D at 0x7f33088f1198>]"
      ]
     },
     "execution_count": 55,
     "metadata": {},
     "output_type": "execute_result"
    },
    {
     "data": {
      "image/png": "[encoded data removed]",
      "text/plain": [
       "<Figure size 432x288 with 1 Axes>"
      ]
     },
     "metadata": {
      "needs_background": "light"
     },
     "output_type": "display_data"
    }
   ],
   "source": [
    "celsius   = np.array([-40,10,0,8,15,22,38])\n",
    "farenheit = np.array([-40,50,32,46.4,59,71.6,100.4])\n",
    "\n",
    "def my_function(x,a1,a0):\n",
    "    return a1*x + a0\n",
    "\n",
    "xdata = celsius\n",
    "ydata = farenheit\n",
    "p0 = np.array([1.0,1.0])\n",
    "from scipy.optimize import curve_fit\n",
    "popt,pcov = curve_fit(my_function,xdata,ydata,p0,method='lm') \n",
    "\n",
    "xfit = np.linspace(-40,100,100)\n",
    "yfit = my_function(xfit,popt[0],popt[1])\n",
    "\n",
    "fig,ax = plt.subplots(1,1)\n",
    "ax.plot(xdata,ydata,'.r',marker='o',ms=10)\n",
    "ax.plot(xfit,yfit,'-k')"
   ]
  },
  {
   "cell_type": "markdown",
   "id": "basic-comedy",
   "metadata": {},
   "source": [
    "# So part of the NN works like a regressor"
   ]
  },
  {
   "cell_type": "markdown",
   "id": "clear-terminal",
   "metadata": {},
   "source": [
    "### If one takes a single summation and single bias"
   ]
  },
  {
   "cell_type": "markdown",
   "id": "processed-chuck",
   "metadata": {},
   "source": [
    "<img src=\"imgs/NN_bias.png\" width=\"600\" /> "
   ]
  },
  {
   "cell_type": "markdown",
   "id": "infectious-briefing",
   "metadata": {},
   "source": [
    "### Many summations and biases"
   ]
  },
  {
   "cell_type": "markdown",
   "id": "bibliographic-belgium",
   "metadata": {},
   "source": [
    "<img src=\"imgs/many_weights_biases.png\" width=\"600\" />"
   ]
  },
  {
   "cell_type": "markdown",
   "id": "established-criterion",
   "metadata": {},
   "source": [
    "## This monster is more complex but the prinicple is the same?"
   ]
  },
  {
   "cell_type": "markdown",
   "id": "possible-acquisition",
   "metadata": {},
   "source": [
    "<img src=\"imgs/deep_neural_network.png\" width=\"600\" /> \n",
    "\n",
    "\n",
    "*** enourmous polynomial with an activation funcion ***\n",
    "\n",
    "#### features : input (image of apple, mango, banana)\n",
    "#### labels   : outputs (1, 0, 0), (0,1,0), (0,0,1)\n",
    "#### example  : image of an apple + apple"
   ]
  },
  {
   "cell_type": "markdown",
   "id": "mighty-brighton",
   "metadata": {},
   "source": [
    "## So the second part after the regression part is the activation funcion which is:\n",
    "... logistic regression!"
   ]
  },
  {
   "cell_type": "markdown",
   "id": "palestinian-quality",
   "metadata": {},
   "source": [
    "## Adding more layers makes the problem unreadable... but the solution is correct"
   ]
  },
  {
   "cell_type": "code",
   "execution_count": 85,
   "id": "objective-colleague",
   "metadata": {},
   "outputs": [],
   "source": [
    "input_layer = InputLayer(input_shape=1)\n",
    "dense_layer = Dense(units=1)\n",
    "dense_layer2 = Dense(units=2)\n",
    "dense_layer3 = Dense(units=1)"
   ]
  },
  {
   "cell_type": "code",
   "execution_count": 86,
   "id": "governmental-offset",
   "metadata": {},
   "outputs": [],
   "source": [
    "model = Sequential([input_layer,\n",
    "                   dense_layer,\n",
    "                   dense_layer2,\n",
    "                   dense_layer3])"
   ]
  },
  {
   "cell_type": "code",
   "execution_count": 87,
   "id": "appreciated-cuisine",
   "metadata": {},
   "outputs": [],
   "source": [
    "model.compile(loss='mse',optimizer=tf.keras.optimizers.Adam(0.1))"
   ]
  },
  {
   "cell_type": "code",
   "execution_count": 88,
   "id": "abroad-taste",
   "metadata": {},
   "outputs": [],
   "source": [
    "history = model.fit(celsius,farenheit,epochs=500,verbose=False)"
   ]
  },
  {
   "cell_type": "code",
   "execution_count": 89,
   "id": "still-sharing",
   "metadata": {},
   "outputs": [
    {
     "data": {
      "text/plain": [
       "[<matplotlib.lines.Line2D at 0x7f3300297198>]"
      ]
     },
     "execution_count": 89,
     "metadata": {},
     "output_type": "execute_result"
    },
    {
     "data": {
      "image/png": "[encoded data removed]",
      "text/plain": [
       "<Figure size 432x288 with 1 Axes>"
      ]
     },
     "metadata": {
      "needs_background": "light"
     },
     "output_type": "display_data"
    }
   ],
   "source": [
    "fig,ax = plt.subplots(1,1)\n",
    "ax.plot(history.history['loss'])"
   ]
  },
  {
   "cell_type": "code",
   "execution_count": 78,
   "id": "raising-french",
   "metadata": {},
   "outputs": [
    {
     "data": {
      "text/plain": [
       "array([[212.],\n",
       "       [302.],\n",
       "       [392.]], dtype=float32)"
      ]
     },
     "execution_count": 78,
     "metadata": {},
     "output_type": "execute_result"
    }
   ],
   "source": [
    "model.predict([100,150,200])"
   ]
  },
  {
   "cell_type": "code",
   "execution_count": 75,
   "id": "innocent-sociology",
   "metadata": {},
   "outputs": [
    {
     "data": {
      "text/plain": [
       "[array([[0.02122646, 0.95676965]], dtype=float32),\n",
       " array([ 5.7169685, -5.351739 ], dtype=float32)]"
      ]
     },
     "execution_count": 75,
     "metadata": {},
     "output_type": "execute_result"
    }
   ],
   "source": [
    "dense_layer2.get_weights()"
   ]
  },
  {
   "cell_type": "markdown",
   "id": "unlike-asthma",
   "metadata": {},
   "source": [
    "## The conclusion is, FOR A PROBLEM AS SIMPLE AS DIGIT-TO-DIGIT CONVERSION THE NEURAL NETWORK SIMPLIFIED ITSELF TO REGRESSION !!!\n",
    "\n",
    "So we need to study\n",
    "  * Linear regression\n",
    "  * Logistic regression\n",
    "  * Linear algebra\n",
    "  * Metrics\n",
    "  * loss funcions\n",
    "  * MSE"
   ]
  },
  {
   "cell_type": "code",
   "execution_count": null,
   "id": "disturbed-glance",
   "metadata": {},
   "outputs": [],
   "source": []
  }
 ],
 "metadata": {
  "kernelspec": {
   "display_name": "Python 3",
   "language": "python",
   "name": "python3"
  },
  "language_info": {
   "codemirror_mode": {
    "name": "ipython",
    "version": 3
   },
   "file_extension": ".py",
   "mimetype": "text/x-python",
   "name": "python",
   "nbconvert_exporter": "python",
   "pygments_lexer": "ipython3",
   "version": "3.7.2"
  }
 },
 "nbformat": 4,
 "nbformat_minor": 5
}
