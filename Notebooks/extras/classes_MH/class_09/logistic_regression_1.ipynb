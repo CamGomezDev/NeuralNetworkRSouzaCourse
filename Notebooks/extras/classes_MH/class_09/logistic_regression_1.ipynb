{
 "cells": [
  {
   "cell_type": "markdown",
   "id": "intermediate-devil",
   "metadata": {},
   "source": [
    "## Modelado de datos con Redes Neuronales (Class 9)\n",
    "### Topic: Logistic regression"
   ]
  },
  {
   "cell_type": "markdown",
   "id": "divine-oriental",
   "metadata": {},
   "source": [
    "## Order of the class:\n",
    "* welcome back after the holiday\n",
    "* new resolution for 2022\n",
    "* homeworks and git-hub update \n",
    "https://github.com/mhemmg/NeuralNetworkRSouzaCourse/tree/master/Notebooks/extras/HomeworksSubmissions\n",
    "  * good job!! some of you\n",
    "  * time until the end of the week to upload homework 4 (only, the rest is closed)\n",
    "  * unless someone can prove that did sent me old homeworks by mail \n",
    "* visiting guest (git again..)\n",
    "* what we have done so far"
   ]
  },
  {
   "cell_type": "markdown",
   "id": "cultural-covering",
   "metadata": {},
   "source": [
    "### Dictionary:\n",
    "* resolution: resolucion\n",
    "  * resolution of an image\n",
    "  * a promise to yourself to do or to not do something\n",
    "  * decision of a groupd of people\n",
    "* malignant/benign: maligno/benigno \n",
    "* cancer/tumor\n",
    "* keep doing/asking/working : sigue haciendo, preguntandose/trabajando\n",
    "* switch on/off: prender y apagar\n",
    "\n",
    "* to turn\n",
    "  * change direction: cambiar direcion\n",
    "  * change one thing into another: cambiar una cosa a otra"
   ]
  },
  {
   "cell_type": "markdown",
   "id": "hungarian-demand",
   "metadata": {},
   "source": [
    "### What we can do so far\n",
    "* we have general idea about machine learning\n",
    "* we know how to program in Python\n",
    "* we know how to work with the data\n",
    "  * how to manipulate and display the data from CSV, dictionary, internet link, MAT file\n",
    "* we know how the linear regression works\n",
    "  * how fitting works\n",
    "  * what is loss function (error function)\n",
    "  * we know what it means to minimize loss function\n",
    "  * what is least square method, curve-fit\n",
    "  * we know how gradient descent work - you can even write your own code!\n",
    "  * we know the metrics MSE, MAE, MAPE, RMSE, R2\n",
    "  * we know how to use the uni and multivariate regression using scikit-learn\n",
    "* logistic regression."
   ]
  },
  {
   "cell_type": "markdown",
   "id": "athletic-batman",
   "metadata": {},
   "source": [
    "# But why do we learn all those things if we want to work with Neural Network...? Lets review the above again and argue if they are necessary"
   ]
  },
  {
   "cell_type": "markdown",
   "id": "indie-growing",
   "metadata": {},
   "source": [
    "#### Repeated advice\n",
    "* close the computer\n",
    "* walk around the room and ask yourself: do I understand:\n",
    "  * eg do I understand the linear regression?\n",
    "  * do I understand why I need all this things?\n",
    "  * after todays class as yourself if I understand Logistic regression\n",
    "  * if not, why??? what doesnt make sense???\n",
    "  \n",
    "Why are we doing the logistic regression if the course is about Neural Networks? (keep asking yourself important questions) and be honest with yourself\n",
    "\n",
    "You are right not to understand those things, nothing is obvious about machine learning\n",
    "\n",
    "* ask yourself after the todays class what does \"hypothesis\" mean? "
   ]
  },
  {
   "cell_type": "markdown",
   "id": "supposed-preliminary",
   "metadata": {},
   "source": [
    "## Classification problem and logistic regression (supervised learning)\n",
    "\n",
    "* You can look at this problem from many different angles and in different order so lets try it one way."
   ]
  },
  {
   "cell_type": "markdown",
   "id": "pretty-result",
   "metadata": {},
   "source": [
    "***The logistic regression turns values into probabilities.***\n",
    "and those probabilites will be used in the Neural Networks (remember the activation function in the simple NN? can be sigmoid...)\n",
    "\n",
    "<img src=\"imgs/NN_sigmoid.jpg\" width=\"800\" /> \n",
    "\n",
    "To see this we can take a look at simple classification examples.\n",
    "\n",
    "* Classification problem: cancer malignant/benign, spam/no-spam (supervised learning)\n",
    "\n",
    "* Multi-class classification problem: fruits classification, handwritten digits classification...\n",
    "\n",
    "* Logistic regression \"switches on/off\" the neurons in the Neural Network..."
   ]
  },
  {
   "cell_type": "markdown",
   "id": "proof-elephant",
   "metadata": {},
   "source": [
    "# 1D problem, tumor classification based on one feature (radius of the tumor)"
   ]
  },
  {
   "cell_type": "markdown",
   "id": "indonesian-expense",
   "metadata": {},
   "source": [
    "Lets imagine that a doctor has to give a diagnosis of patient that has s tumor. For simplicity assume that he takes into account only the size (radius of the tumor). He has the data from different patients and the diagnosis depending of the size of the tumor. "
   ]
  },
  {
   "cell_type": "markdown",
   "id": "finite-teacher",
   "metadata": {},
   "source": [
    "<img src=\"imgs/logistic_52.png\" width=\"500\" /> "
   ]
  },
  {
   "cell_type": "markdown",
   "id": "coordinated-cookbook",
   "metadata": {},
   "source": [
    "If he tried linear regression like on the left side of the image the hypothesis would be as before:\n",
    "* linear regression hypothesis $h_{\\theta}(x)=\\theta_0+\\theta_1x$ - which is a straight line\n",
    "\n",
    "But the tumor belongs to only two classes (here 0: benign, 1: malignant) with a probability of the tumor to be let say malignant between 0 and 1. So the hypothesis of the linear regression would violate allowed range of the probabilty and could surpass value 1.\n",
    "\n",
    "What the doctor really wants is hypothesis that would lie within a range between $ 0 \\leq h_{\\theta}(x) \\leq 1$\n",
    "\n",
    "In other words the diagnosis should depend on two conditions:\n",
    "\n",
    "* if $h_{\\theta}(x) \\geq 0.5$ predict 1 (malignant cancer)\n",
    "* if $h_{\\theta}(x) < 0.5$ predict 0 (benign cancer)\n",
    "\n",
    "How to construct such hypothesis?"
   ]
  },
  {
   "cell_type": "markdown",
   "id": "taken-prairie",
   "metadata": {},
   "source": [
    "### Logistic regression\n",
    "The answer is Logistic regression. Book definition: Logistic regression is a predictive linear model that aims to explain the relationship between a dependent binary variable and one or more independent variables. The output of Logistic Regression is a number between 0 and 1 which you can think about as being the probability that a given class is true or not. \n",
    "\n",
    "The output is between 0 and 1 is because the output is transformed by a function which usually is the logistic sigmoid function.\n",
    "\n",
    "***The logistic regression turns values into probabilities.***\n",
    "\n",
    "The formula for Logistic Regression, is the following\n",
    "\n",
    "$$g(z)=\\frac{1}{1+e^{-(z)}}$$\n",
    "where $z$ can be a function\n",
    "(quite meaningless if we dont see any example)\n",
    "\n",
    "for a simple one feature (x) case, is the following:\n",
    "\n",
    "$$g(\\theta_0+\\theta_1 x)=\\frac{1}{1+e^{-(\\theta_0+\\theta_1 x)}}$$\n",
    "\n",
    "* g($\\theta_0+\\theta_1 x$)  = is an ouput between 0 and 1\n",
    "* x = feature\n",
    "* $\\theta_0$,$\\theta_1$ are learned parameters\n",
    "\n",
    "In Logistic Regression, our goal is to learn parameters $\\theta_0$ and $\\theta_1$, similar to Linear Regression. The difference being that for a given x, the resulting ($\\theta_0+\\theta_1 x$) is then changed by the sigmoid function returning a number between 0 and 1.\n",
    "\n",
    "more general \n",
    "$$g(\\theta^T X)=\\frac{1}{1+e^{-(\\theta^T X)}}*$$\n",
    "\n",
    "as we rememeber from the previous class that \n",
    "$h_{\\theta}(x)=\\theta^T X $ comes from the matrix multiplication between vector of parameters and features\n",
    "\n",
    "$$ \\theta =\n",
    "\\begin{bmatrix}\n",
    "\\theta_{0} \\\\\n",
    "\\theta_{1} \\\\\n",
    "\\theta_{2} \\\\\n",
    "\\vdots\\\\\n",
    "\\theta_{n}\n",
    "\\end{bmatrix}\n",
    "$$\n",
    "\n",
    "$$ X=\n",
    "\\begin{bmatrix}\n",
    "1 \\\\\n",
    "x_{1} \\\\\n",
    "x_{2} \\\\\n",
    "\\vdots\\\\\n",
    "x_{n}\n",
    "\\end{bmatrix}\n",
    "$$\n",
    "\n",
    "If $x_0=1$ then we can rewrite this as a matrix - matrix multiplication (if we do the transpose of the first matrix)\n"
   ]
  },
  {
   "cell_type": "markdown",
   "id": "early-receiver",
   "metadata": {},
   "source": [
    "<img src=\"imgs/logistic_52.png\" width=\"500\" /> "
   ]
  },
  {
   "cell_type": "markdown",
   "id": "later-techno",
   "metadata": {},
   "source": [
    "Sigmoid \n",
    "<img src=\"imgs/logistic_4.png\" width=\"300\" /> "
   ]
  },
  {
   "cell_type": "markdown",
   "id": "unable-tennis",
   "metadata": {},
   "source": [
    "## Hypothesis for logistic regression\n",
    "Hence the hypothesis is:\n",
    "\n",
    "$$h_{\\theta}(x)=g(\\theta^Tx)$$\n",
    "\n",
    "$$g(z)=\\frac{1}{1+e^{-(z)}}$$\n",
    "\n",
    "so for one feature case like the tumor cancer classification based on its radius: \n",
    " \n",
    "$$h_{\\theta}(x)=\\frac{1}{1+e^{-(\\theta_0+\\theta_1 x)}}$$\n",
    "\n",
    "* if $h_{\\theta}(x) \\geq 0.5$ predict 1\n",
    "* if $h_{\\theta}(x) < 0.5$ predict 0\n",
    "\n",
    "note that:\n",
    "\n",
    "* $h_{\\theta}(x) = 0.5$ ***if*** ($\\theta_0+\\theta_1 x) = 0$... why? substitute and check by yourself\n",
    "* $h_{\\theta}(x) \\geq 0.5$ ***if*** ($\\theta_0+\\theta_1 x) \\geq 0$\n",
    "* $h_{\\theta}(x) < 0.5$ ***if*** ($\\theta_0+\\theta_1 x) < 0$\n",
    "\n",
    "more generarly:\n",
    "\n",
    "* $h_{\\theta}(x) = 0.5$ ***if*** ($\\theta^T X) = 0$\n",
    "* $h_{\\theta}(x) \\geq 0.5$ ***if*** ($\\theta^T X) \\geq 0$\n",
    "* $h_{\\theta}(x) < 0.5$ ***if*** ($\\theta^T X) < 0$"
   ]
  },
  {
   "cell_type": "markdown",
   "id": "worthy-cross",
   "metadata": {},
   "source": [
    "### Simple example tumor classification based on one feature (radius)\n",
    "\n",
    "https://scikit-learn.org/stable/modules/generated/sklearn.datasets.load_breast_cancer.html"
   ]
  },
  {
   "cell_type": "code",
   "execution_count": 51,
   "id": "governmental-draft",
   "metadata": {},
   "outputs": [],
   "source": [
    "### Simple example - one feature one binary output\n",
    "import numpy as np\n",
    "import pandas as pd\n",
    "from sklearn.model_selection import train_test_split\n",
    "from sklearn.datasets import load_breast_cancer"
   ]
  },
  {
   "cell_type": "code",
   "execution_count": 52,
   "id": "difficult-trash",
   "metadata": {},
   "outputs": [],
   "source": [
    "bc = load_breast_cancer()"
   ]
  },
  {
   "cell_type": "code",
   "execution_count": 53,
   "id": "separated-sunday",
   "metadata": {},
   "outputs": [
    {
     "data": {
      "text/plain": [
       "dict_keys(['data', 'target', 'frame', 'target_names', 'DESCR', 'feature_names', 'filename'])"
      ]
     },
     "execution_count": 53,
     "metadata": {},
     "output_type": "execute_result"
    }
   ],
   "source": [
    "bc.keys()"
   ]
  },
  {
   "cell_type": "code",
   "execution_count": 87,
   "id": "responsible-input",
   "metadata": {},
   "outputs": [],
   "source": [
    "#print(bc.DESCR)\n",
    "#print(bc.target)\n",
    "X_data=bc.data\n",
    "y_data=bc.target"
   ]
  },
  {
   "cell_type": "code",
   "execution_count": 55,
   "id": "choice-filing",
   "metadata": {},
   "outputs": [
    {
     "data": {
      "text/plain": [
       "(569, 30)"
      ]
     },
     "execution_count": 55,
     "metadata": {},
     "output_type": "execute_result"
    }
   ],
   "source": [
    "X_data.shape"
   ]
  },
  {
   "cell_type": "code",
   "execution_count": 56,
   "id": "sonic-execution",
   "metadata": {},
   "outputs": [],
   "source": [
    "X_data = X_data[:,0]\n",
    "X_data = X_data.reshape(-1,1)"
   ]
  },
  {
   "cell_type": "code",
   "execution_count": 57,
   "id": "comfortable-march",
   "metadata": {},
   "outputs": [
    {
     "name": "stdout",
     "output_type": "stream",
     "text": [
      "[[17.99]\n",
      " [20.57]\n",
      " [19.69]\n",
      " [11.42]\n",
      " [20.29]\n",
      " [12.45]\n",
      " [18.25]\n",
      " [13.71]\n",
      " [13.  ]\n",
      " [12.46]]\n",
      "[0 0 0 0 0 0 0 0 0 0]\n"
     ]
    }
   ],
   "source": [
    "print(X_data[0:10])\n",
    "print(y_data[0:10])"
   ]
  },
  {
   "cell_type": "code",
   "execution_count": 58,
   "id": "chronic-arnold",
   "metadata": {},
   "outputs": [
    {
     "data": {
      "image/png": "[encoded data removed]",
      "text/plain": [
       "<Figure size 432x288 with 1 Axes>"
      ]
     },
     "metadata": {
      "needs_background": "light"
     },
     "output_type": "display_data"
    }
   ],
   "source": [
    "import matplotlib.pyplot as plt\n",
    "import numpy as np\n",
    "fig,ax=plt.subplots(1,1)\n",
    "ax.plot(X_data,y_data,'.r')\n",
    "ax.set_title(\"Tumor classification\")\n",
    "ax.set_xlabel('Size (Radius)')\n",
    "ax.set_ylabel('Status (1:Benign, 0:Malignant)')\n",
    "ax.grid(True)"
   ]
  },
  {
   "cell_type": "markdown",
   "id": "fluid-mounting",
   "metadata": {},
   "source": [
    "On the X-axis you see the size of the tumor (radius) that was measuered and on the Y-axis you see the tumor status. Our goal is to use Logistic Regression to come up with a model that generates the probability of tumor being malignant (0) or benign from any size.\n",
    "Note that it depends on who and how labeled the data to get malignant=0"
   ]
  },
  {
   "cell_type": "markdown",
   "id": "blocked-collaboration",
   "metadata": {},
   "source": [
    "## Implementing the logistic regression using scikit-learn"
   ]
  },
  {
   "cell_type": "code",
   "execution_count": 75,
   "id": "legitimate-block",
   "metadata": {},
   "outputs": [],
   "source": [
    "from sklearn.model_selection import train_test_split\n",
    "X_train, X_test, y_train, y_test = train_test_split(X_data, y_data,test_size = 0.2)"
   ]
  },
  {
   "cell_type": "code",
   "execution_count": 76,
   "id": "treated-roots",
   "metadata": {},
   "outputs": [
    {
     "data": {
      "text/plain": [
       "LogisticRegression()"
      ]
     },
     "execution_count": 76,
     "metadata": {},
     "output_type": "execute_result"
    }
   ],
   "source": [
    "from sklearn.linear_model import LogisticRegression\n",
    "logreg = LogisticRegression()\n",
    "logreg.fit(X_train, y_train)"
   ]
  },
  {
   "cell_type": "code",
   "execution_count": 77,
   "id": "veterinary-marketing",
   "metadata": {},
   "outputs": [
    {
     "data": {
      "text/plain": [
       "0.8813186813186813"
      ]
     },
     "execution_count": 77,
     "metadata": {},
     "output_type": "execute_result"
    }
   ],
   "source": [
    "logreg.score(X_train, y_train)"
   ]
  },
  {
   "cell_type": "code",
   "execution_count": 78,
   "id": "informational-complex",
   "metadata": {},
   "outputs": [
    {
     "data": {
      "text/plain": [
       "0.868421052631579"
      ]
     },
     "execution_count": 78,
     "metadata": {},
     "output_type": "execute_result"
    }
   ],
   "source": [
    "logreg.score(X_test, y_test)"
   ]
  },
  {
   "cell_type": "code",
   "execution_count": 79,
   "id": "opened-prayer",
   "metadata": {},
   "outputs": [
    {
     "name": "stdout",
     "output_type": "stream",
     "text": [
      "Accuracy of Logistic regression classifier on training set: 0.88\n",
      "Accuracy of Logistic regression classifier on test set: 0.87\n"
     ]
    }
   ],
   "source": [
    "print(f'Accuracy of Logistic regression classifier on training set: {logreg.score(X_train, y_train):.2f}')\n",
    "print(f'Accuracy of Logistic regression classifier on test set: {logreg.score(X_test, y_test):.2f}')"
   ]
  },
  {
   "cell_type": "code",
   "execution_count": 80,
   "id": "technical-charter",
   "metadata": {},
   "outputs": [
    {
     "data": {
      "text/plain": [
       "array([0.99484969, 0.00515031])"
      ]
     },
     "execution_count": 80,
     "metadata": {},
     "output_type": "execute_result"
    }
   ],
   "source": [
    "logreg.predict_proba([[20]])[0]"
   ]
  },
  {
   "cell_type": "code",
   "execution_count": 83,
   "id": "funded-conclusion",
   "metadata": {},
   "outputs": [
    {
     "name": "stdout",
     "output_type": "stream",
     "text": [
      "0.9948496882820713 0.005150311717928672\n"
     ]
    }
   ],
   "source": [
    "p_malignant, p_benign = logreg.predict_proba([[20]])[0] # note double bracket!!\n",
    "print(p_malignant, p_benign)"
   ]
  },
  {
   "cell_type": "code",
   "execution_count": 84,
   "id": "internal-insulin",
   "metadata": {},
   "outputs": [],
   "source": [
    "sizes = np.linspace(1, 30, 100)\n",
    "probabilities= []\n",
    "for i in sizes:\n",
    "    p_loss, p_win = logreg.predict_proba([[i]])[0]\n",
    "    probabilities.append(p_win)"
   ]
  },
  {
   "cell_type": "code",
   "execution_count": 85,
   "id": "premium-specialist",
   "metadata": {},
   "outputs": [
    {
     "data": {
      "text/plain": [
       "Text(0, 0.5, 'Status (1:Benign, 0:Malignant)')"
      ]
     },
     "execution_count": 85,
     "metadata": {},
     "output_type": "execute_result"
    },
    {
     "data": {
      "image/png": "[encoded data removed]",
      "text/plain": [
       "<Figure size 432x288 with 1 Axes>"
      ]
     },
     "metadata": {
      "needs_background": "light"
     },
     "output_type": "display_data"
    }
   ],
   "source": [
    "import matplotlib.pyplot as plt\n",
    "fig,ax=plt.subplots(1,1)\n",
    "ax.scatter(sizes,probabilities)\n",
    "ax.plot(X_data,y_data,'.r')\n",
    "ax.set_xlabel('Size (Radius)')\n",
    "ax.set_ylabel('Status (1:Benign, 0:Malignant)')"
   ]
  },
  {
   "cell_type": "markdown",
   "id": "remarkable-casino",
   "metadata": {},
   "source": [
    "#### In the above problem we performed a fitting to data using the logistic function (Sigmoid function) We turned data into probability"
   ]
  }
 ],
 "metadata": {
  "kernelspec": {
   "display_name": "Python 3",
   "language": "python",
   "name": "python3"
  },
  "language_info": {
   "codemirror_mode": {
    "name": "ipython",
    "version": 3
   },
   "file_extension": ".py",
   "mimetype": "text/x-python",
   "name": "python",
   "nbconvert_exporter": "python",
   "pygments_lexer": "ipython3",
   "version": "3.7.2"
  }
 },
 "nbformat": 4,
 "nbformat_minor": 5
}
