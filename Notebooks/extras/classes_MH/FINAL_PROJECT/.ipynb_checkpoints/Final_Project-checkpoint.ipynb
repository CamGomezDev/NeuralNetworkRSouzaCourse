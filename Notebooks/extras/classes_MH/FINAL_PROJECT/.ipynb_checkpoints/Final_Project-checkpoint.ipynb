{
 "cells": [
  {
   "cell_type": "markdown",
   "id": "neural-bikini",
   "metadata": {},
   "source": [
    "# Final Project of the `Modelado de Datos con Redes Neuronales` course!\n",
    "(*This final project is for all of those students who do NOT have declared their own final projects.)\n",
    "\n"
   ]
  },
  {
   "cell_type": "markdown",
   "id": "attended-april",
   "metadata": {},
   "source": [
    "\n",
    "\n",
    "Authors of this paper `https://pubmed.ncbi.nlm.nih.gov/30851853/` (PDF available in this directory) used Neural Network and spectroscopy signals to predict certain characteristics of agricultural products.\n",
    "\n",
    "Your task is to repreduce the results and possibly improve the accuracy of the predicion.\n",
    "\n",
    "Focus on the first dataset: **prediction of the protein in corn**:\n",
    "\n",
    "The document reads on page 53:  \n",
    "\n",
    "`...The first dataset consists of 80 samples of corn measured on 3\n",
    "different NIR spectrometers (M5, MP5, and MP6). We randomly\n",
    "select 27, 27, and 26 spectra samples from M5, MP5, and MP6\n",
    "respectively, and divide them in training (60 samples) and test set\n",
    "(20 samples). The spectra cover a range from 1100 to 2498 nm at\n",
    "2 nm intervals (700 channels). The protein content of the samples is\n",
    "to be predicted. The dataset is available at: www.eigenvector.com/\n",
    "Data/Corn/...`\n",
    "\n",
    "The data is in the file `corn.zip`, also in this folder."
   ]
  },
  {
   "cell_type": "code",
   "execution_count": null,
   "id": "visible-findings",
   "metadata": {},
   "outputs": [],
   "source": []
  }
 ],
 "metadata": {
  "kernelspec": {
   "display_name": "Python 3",
   "language": "python",
   "name": "python3"
  },
  "language_info": {
   "codemirror_mode": {
    "name": "ipython",
    "version": 3
   },
   "file_extension": ".py",
   "mimetype": "text/x-python",
   "name": "python",
   "nbconvert_exporter": "python",
   "pygments_lexer": "ipython3",
   "version": "3.7.2"
  }
 },
 "nbformat": 4,
 "nbformat_minor": 5
}
