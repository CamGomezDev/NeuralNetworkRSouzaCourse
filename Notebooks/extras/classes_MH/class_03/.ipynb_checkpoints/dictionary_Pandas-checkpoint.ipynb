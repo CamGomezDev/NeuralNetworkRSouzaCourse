{
 "cells": [
  {
   "cell_type": "markdown",
   "id": "british-ghana",
   "metadata": {},
   "source": [
    "# Vocabulary:\n",
    "* through - a taves\n",
    "* keys - llaves\n",
    "* values - valores\n",
    "* dictionary - dictionario"
   ]
  },
  {
   "cell_type": "markdown",
   "id": "imperial-packaging",
   "metadata": {},
   "source": [
    "# Working with data for Machine Learning\n",
    "1. images (can be loaded directly or converted into numpy arrays for the training)\n",
    "2. csv (Coma Separated Values) or txt format (loaded into Python throught Pandas)\n",
    "3. dictionary (loaded to Pandas from libraries, the data is ready)\n",
    "4. MAT file can be converted to directory"
   ]
  },
  {
   "cell_type": "markdown",
   "id": "interesting-romania",
   "metadata": {},
   "source": [
    "## Dictionary I way"
   ]
  },
  {
   "cell_type": "code",
   "execution_count": 1,
   "id": "comfortable-poker",
   "metadata": {},
   "outputs": [],
   "source": [
    "dictionary1={'a':0,'b':1,'c':2,'d':3}"
   ]
  },
  {
   "cell_type": "code",
   "execution_count": 2,
   "id": "determined-wagon",
   "metadata": {},
   "outputs": [
    {
     "name": "stdout",
     "output_type": "stream",
     "text": [
      "<class 'dict'>\n"
     ]
    }
   ],
   "source": [
    "print(type(dictionary1))"
   ]
  },
  {
   "cell_type": "code",
   "execution_count": 3,
   "id": "direct-eligibility",
   "metadata": {},
   "outputs": [],
   "source": [
    "dictionary2={0:'banana',1:'strawbery',2:'mango'}"
   ]
  },
  {
   "cell_type": "code",
   "execution_count": 4,
   "id": "marine-indonesia",
   "metadata": {},
   "outputs": [
    {
     "data": {
      "text/plain": [
       "'mango'"
      ]
     },
     "execution_count": 4,
     "metadata": {},
     "output_type": "execute_result"
    }
   ],
   "source": [
    "dictionary2[2]"
   ]
  },
  {
   "cell_type": "code",
   "execution_count": 5,
   "id": "forty-ideal",
   "metadata": {},
   "outputs": [
    {
     "data": {
      "text/plain": [
       "dict_keys([0, 1, 2])"
      ]
     },
     "execution_count": 5,
     "metadata": {},
     "output_type": "execute_result"
    }
   ],
   "source": [
    "dictionary2.keys()"
   ]
  },
  {
   "cell_type": "code",
   "execution_count": 6,
   "id": "comparative-ribbon",
   "metadata": {},
   "outputs": [
    {
     "data": {
      "text/plain": [
       "dict_values(['banana', 'strawbery', 'mango'])"
      ]
     },
     "execution_count": 6,
     "metadata": {},
     "output_type": "execute_result"
    }
   ],
   "source": [
    "dictionary2.values()"
   ]
  },
  {
   "cell_type": "code",
   "execution_count": 7,
   "id": "raised-certification",
   "metadata": {},
   "outputs": [],
   "source": [
    "import numpy as np\n",
    "x=np.linspace(-np.pi,np.pi,100)\n",
    "y1=np.sin(x)\n",
    "y2=np.cos(x)\n",
    "dictionary3={'xvalues':x,'y1values':y1,'y2values':y2}"
   ]
  },
  {
   "cell_type": "code",
   "execution_count": 8,
   "id": "thorough-greek",
   "metadata": {},
   "outputs": [
    {
     "name": "stdout",
     "output_type": "stream",
     "text": [
      "<class 'numpy.ndarray'>\n"
     ]
    }
   ],
   "source": [
    "print(type(dictionary3['xvalues']))"
   ]
  },
  {
   "cell_type": "markdown",
   "id": "every-violation",
   "metadata": {},
   "source": [
    "## Dictionary II way"
   ]
  },
  {
   "cell_type": "code",
   "execution_count": 9,
   "id": "loose-confirmation",
   "metadata": {},
   "outputs": [
    {
     "data": {
      "text/plain": [
       "{'a': 0, 'b': 1, 'c': 2, 'd': 3}"
      ]
     },
     "execution_count": 9,
     "metadata": {},
     "output_type": "execute_result"
    }
   ],
   "source": [
    "mykeys=['a','b','c','d']\n",
    "myvalues=[0,1,2,3]\n",
    "\n",
    "dict(zip(mykeys,myvalues))"
   ]
  },
  {
   "cell_type": "code",
   "execution_count": 10,
   "id": "controlled-implementation",
   "metadata": {},
   "outputs": [],
   "source": [
    "colvalues=['xvalues','y1values','y2values']\n",
    "x=np.linspace(-np.pi,np.pi,100)\n",
    "y1=np.sin(x)\n",
    "y2=np.cos(x)"
   ]
  },
  {
   "cell_type": "code",
   "execution_count": 11,
   "id": "spanish-fundamentals",
   "metadata": {},
   "outputs": [],
   "source": [
    "dictionary3=dict(zip(colvalues,[x,y1,y2]))"
   ]
  },
  {
   "cell_type": "markdown",
   "id": "allied-angel",
   "metadata": {},
   "source": [
    "## Convert dictionary into a Pandas dataframe"
   ]
  },
  {
   "cell_type": "code",
   "execution_count": 12,
   "id": "incredible-creature",
   "metadata": {},
   "outputs": [],
   "source": [
    "import pandas as pd"
   ]
  },
  {
   "cell_type": "markdown",
   "id": "interim-spirit",
   "metadata": {},
   "source": [
    "### if the values are vectors then its easy"
   ]
  },
  {
   "cell_type": "code",
   "execution_count": 13,
   "id": "atmospheric-african",
   "metadata": {},
   "outputs": [],
   "source": [
    "df3 = pd.DataFrame(dictionary3)"
   ]
  },
  {
   "cell_type": "code",
   "execution_count": 14,
   "id": "corrected-syracuse",
   "metadata": {},
   "outputs": [
    {
     "name": "stdout",
     "output_type": "stream",
     "text": [
      "<class 'pandas.core.frame.DataFrame'>\n"
     ]
    }
   ],
   "source": [
    "print(type(df3))"
   ]
  },
  {
   "cell_type": "markdown",
   "id": "mental-wallpaper",
   "metadata": {},
   "source": [
    "### if the values are scalars then put the dictionary in square brackets"
   ]
  },
  {
   "cell_type": "code",
   "execution_count": 15,
   "id": "short-strike",
   "metadata": {},
   "outputs": [],
   "source": [
    "dictionary1={'a':0,'b':1,'c':2,'d':3}"
   ]
  },
  {
   "cell_type": "code",
   "execution_count": 16,
   "id": "general-species",
   "metadata": {},
   "outputs": [],
   "source": [
    "df1 = pd.DataFrame(dictionary1,index=[0])"
   ]
  },
  {
   "cell_type": "code",
   "execution_count": 17,
   "id": "blocked-demand",
   "metadata": {},
   "outputs": [
    {
     "data": {
      "text/html": [
       "<div>\n",
       "<style scoped>\n",
       "    .dataframe tbody tr th:only-of-type {\n",
       "        vertical-align: middle;\n",
       "    }\n",
       "\n",
       "    .dataframe tbody tr th {\n",
       "        vertical-align: top;\n",
       "    }\n",
       "\n",
       "    .dataframe thead th {\n",
       "        text-align: right;\n",
       "    }\n",
       "</style>\n",
       "<table border=\"1\" class=\"dataframe\">\n",
       "  <thead>\n",
       "    <tr style=\"text-align: right;\">\n",
       "      <th></th>\n",
       "      <th>a</th>\n",
       "      <th>b</th>\n",
       "      <th>c</th>\n",
       "      <th>d</th>\n",
       "    </tr>\n",
       "  </thead>\n",
       "  <tbody>\n",
       "    <tr>\n",
       "      <th>0</th>\n",
       "      <td>0</td>\n",
       "      <td>1</td>\n",
       "      <td>2</td>\n",
       "      <td>3</td>\n",
       "    </tr>\n",
       "  </tbody>\n",
       "</table>\n",
       "</div>"
      ],
      "text/plain": [
       "   a  b  c  d\n",
       "0  0  1  2  3"
      ]
     },
     "execution_count": 17,
     "metadata": {},
     "output_type": "execute_result"
    }
   ],
   "source": [
    "df1"
   ]
  },
  {
   "cell_type": "code",
   "execution_count": 18,
   "id": "informed-grounds",
   "metadata": {},
   "outputs": [
    {
     "data": {
      "text/html": [
       "<div>\n",
       "<style scoped>\n",
       "    .dataframe tbody tr th:only-of-type {\n",
       "        vertical-align: middle;\n",
       "    }\n",
       "\n",
       "    .dataframe tbody tr th {\n",
       "        vertical-align: top;\n",
       "    }\n",
       "\n",
       "    .dataframe thead th {\n",
       "        text-align: right;\n",
       "    }\n",
       "</style>\n",
       "<table border=\"1\" class=\"dataframe\">\n",
       "  <thead>\n",
       "    <tr style=\"text-align: right;\">\n",
       "      <th></th>\n",
       "      <th>xvalues</th>\n",
       "      <th>y1values</th>\n",
       "      <th>y2values</th>\n",
       "    </tr>\n",
       "  </thead>\n",
       "  <tbody>\n",
       "    <tr>\n",
       "      <th>0</th>\n",
       "      <td>-3.141593</td>\n",
       "      <td>-1.224647e-16</td>\n",
       "      <td>-1.000000</td>\n",
       "    </tr>\n",
       "    <tr>\n",
       "      <th>1</th>\n",
       "      <td>-3.078126</td>\n",
       "      <td>-6.342392e-02</td>\n",
       "      <td>-0.997987</td>\n",
       "    </tr>\n",
       "    <tr>\n",
       "      <th>2</th>\n",
       "      <td>-3.014660</td>\n",
       "      <td>-1.265925e-01</td>\n",
       "      <td>-0.991955</td>\n",
       "    </tr>\n",
       "  </tbody>\n",
       "</table>\n",
       "</div>"
      ],
      "text/plain": [
       "    xvalues      y1values  y2values\n",
       "0 -3.141593 -1.224647e-16 -1.000000\n",
       "1 -3.078126 -6.342392e-02 -0.997987\n",
       "2 -3.014660 -1.265925e-01 -0.991955"
      ]
     },
     "execution_count": 18,
     "metadata": {},
     "output_type": "execute_result"
    }
   ],
   "source": [
    "df3.head(n=3) # por defector n=5"
   ]
  },
  {
   "cell_type": "code",
   "execution_count": 19,
   "id": "disciplinary-sugar",
   "metadata": {},
   "outputs": [
    {
     "data": {
      "text/html": [
       "<div>\n",
       "<style scoped>\n",
       "    .dataframe tbody tr th:only-of-type {\n",
       "        vertical-align: middle;\n",
       "    }\n",
       "\n",
       "    .dataframe tbody tr th {\n",
       "        vertical-align: top;\n",
       "    }\n",
       "\n",
       "    .dataframe thead th {\n",
       "        text-align: right;\n",
       "    }\n",
       "</style>\n",
       "<table border=\"1\" class=\"dataframe\">\n",
       "  <thead>\n",
       "    <tr style=\"text-align: right;\">\n",
       "      <th></th>\n",
       "      <th>xvalues</th>\n",
       "      <th>y1values</th>\n",
       "      <th>y2values</th>\n",
       "    </tr>\n",
       "  </thead>\n",
       "  <tbody>\n",
       "    <tr>\n",
       "      <th>95</th>\n",
       "      <td>2.887727</td>\n",
       "      <td>2.511480e-01</td>\n",
       "      <td>-0.967949</td>\n",
       "    </tr>\n",
       "    <tr>\n",
       "      <th>96</th>\n",
       "      <td>2.951193</td>\n",
       "      <td>1.892512e-01</td>\n",
       "      <td>-0.981929</td>\n",
       "    </tr>\n",
       "    <tr>\n",
       "      <th>97</th>\n",
       "      <td>3.014660</td>\n",
       "      <td>1.265925e-01</td>\n",
       "      <td>-0.991955</td>\n",
       "    </tr>\n",
       "    <tr>\n",
       "      <th>98</th>\n",
       "      <td>3.078126</td>\n",
       "      <td>6.342392e-02</td>\n",
       "      <td>-0.997987</td>\n",
       "    </tr>\n",
       "    <tr>\n",
       "      <th>99</th>\n",
       "      <td>3.141593</td>\n",
       "      <td>1.224647e-16</td>\n",
       "      <td>-1.000000</td>\n",
       "    </tr>\n",
       "  </tbody>\n",
       "</table>\n",
       "</div>"
      ],
      "text/plain": [
       "     xvalues      y1values  y2values\n",
       "95  2.887727  2.511480e-01 -0.967949\n",
       "96  2.951193  1.892512e-01 -0.981929\n",
       "97  3.014660  1.265925e-01 -0.991955\n",
       "98  3.078126  6.342392e-02 -0.997987\n",
       "99  3.141593  1.224647e-16 -1.000000"
      ]
     },
     "execution_count": 19,
     "metadata": {},
     "output_type": "execute_result"
    }
   ],
   "source": [
    "df3.tail()"
   ]
  },
  {
   "cell_type": "markdown",
   "id": "loved-racing",
   "metadata": {},
   "source": [
    "## saving dataframe into csv/txt file\n"
   ]
  },
  {
   "cell_type": "code",
   "execution_count": 20,
   "id": "fossil-mouth",
   "metadata": {},
   "outputs": [],
   "source": [
    "df3.to_csv('mytable.csv',sep=',')"
   ]
  },
  {
   "cell_type": "code",
   "execution_count": 21,
   "id": "absent-yacht",
   "metadata": {},
   "outputs": [],
   "source": [
    "df3.to_csv('mytable.txt',sep='\\t')"
   ]
  },
  {
   "cell_type": "code",
   "execution_count": 22,
   "id": "inner-mortality",
   "metadata": {},
   "outputs": [
    {
     "name": "stdout",
     "output_type": "stream",
     "text": [
      "dictionary_Pandas.ipynb  mytable.csv  mytable.txt\r\n"
     ]
    }
   ],
   "source": [
    "!ls"
   ]
  },
  {
   "cell_type": "markdown",
   "id": "rough-playback",
   "metadata": {},
   "source": [
    "## loading csv/txt file into a pandas dataframe"
   ]
  },
  {
   "cell_type": "code",
   "execution_count": 23,
   "id": "floating-intermediate",
   "metadata": {},
   "outputs": [],
   "source": [
    "df31 = pd.read_csv('mytable.csv',sep=',')"
   ]
  },
  {
   "cell_type": "code",
   "execution_count": 24,
   "id": "formed-sphere",
   "metadata": {},
   "outputs": [],
   "source": [
    "df32 = pd.read_csv('mytable.txt',sep='\\t')"
   ]
  },
  {
   "cell_type": "markdown",
   "id": "entire-radical",
   "metadata": {},
   "source": [
    "## some operations on pd"
   ]
  },
  {
   "cell_type": "code",
   "execution_count": 25,
   "id": "interpreted-velvet",
   "metadata": {},
   "outputs": [
    {
     "data": {
      "text/plain": [
       "Index(['xvalues', 'y1values', 'y2values'], dtype='object')"
      ]
     },
     "execution_count": 25,
     "metadata": {},
     "output_type": "execute_result"
    }
   ],
   "source": [
    "df3.columns"
   ]
  },
  {
   "cell_type": "code",
   "execution_count": 26,
   "id": "radical-exploration",
   "metadata": {},
   "outputs": [
    {
     "name": "stdout",
     "output_type": "stream",
     "text": [
      "-3.141592653589793\n",
      "-1.2246467991473532e-16\n",
      "-1.0\n"
     ]
    }
   ],
   "source": [
    "len(df3.columns)\n",
    "\n",
    "for i in range(len(df3.columns)):\n",
    "    print(df3[df3.columns[i]][0])"
   ]
  },
  {
   "cell_type": "code",
   "execution_count": 27,
   "id": "cloudy-translation",
   "metadata": {},
   "outputs": [
    {
     "data": {
      "text/plain": [
       "0    -3.141593\n",
       "1    -3.078126\n",
       "2    -3.014660\n",
       "3    -2.951193\n",
       "4    -2.887727\n",
       "        ...   \n",
       "95    2.887727\n",
       "96    2.951193\n",
       "97    3.014660\n",
       "98    3.078126\n",
       "99    3.141593\n",
       "Name: xvalues, Length: 100, dtype: float64"
      ]
     },
     "execution_count": 27,
     "metadata": {},
     "output_type": "execute_result"
    }
   ],
   "source": [
    "df3['xvalues']"
   ]
  },
  {
   "cell_type": "markdown",
   "id": "thermal-victoria",
   "metadata": {},
   "source": [
    "## Plotting from Pandas"
   ]
  },
  {
   "cell_type": "code",
   "execution_count": 28,
   "id": "wireless-wagon",
   "metadata": {},
   "outputs": [
    {
     "data": {
      "text/plain": [
       "[<matplotlib.lines.Line2D at 0x7f284eadd828>]"
      ]
     },
     "execution_count": 28,
     "metadata": {},
     "output_type": "execute_result"
    },
    {
     "data": {
      "image/png": "[encoded data removed]",
      "text/plain": [
       "<Figure size 432x288 with 1 Axes>"
      ]
     },
     "metadata": {
      "needs_background": "light"
     },
     "output_type": "display_data"
    }
   ],
   "source": [
    "import matplotlib.pyplot as plt\n",
    "fig,ax =plt.subplots(1,1)\n",
    "ax.plot(df3['xvalues'],df3['y1values'])\n",
    "y2values=df3['y2values'].to_numpy()\n",
    "ax.plot(df3['y1values'],y2values)"
   ]
  },
  {
   "cell_type": "markdown",
   "id": "respective-elizabeth",
   "metadata": {},
   "source": [
    "## iterating over Pandas dataframe\n",
    "ITS NOT RECOMMENDED!"
   ]
  },
  {
   "cell_type": "code",
   "execution_count": 29,
   "id": "acting-notice",
   "metadata": {},
   "outputs": [
    {
     "name": "stdout",
     "output_type": "stream",
     "text": [
      "0    -3.141593\n",
      "1    -3.078126\n",
      "2    -3.014660\n",
      "3    -2.951193\n",
      "4    -2.887727\n",
      "        ...   \n",
      "95    2.887727\n",
      "96    2.951193\n",
      "97    3.014660\n",
      "98    3.078126\n",
      "99    3.141593\n",
      "Name: xvalues, Length: 100, dtype: float64\n",
      "0    -1.224647e-16\n",
      "1    -6.342392e-02\n",
      "2    -1.265925e-01\n",
      "3    -1.892512e-01\n",
      "4    -2.511480e-01\n",
      "          ...     \n",
      "95    2.511480e-01\n",
      "96    1.892512e-01\n",
      "97    1.265925e-01\n",
      "98    6.342392e-02\n",
      "99    1.224647e-16\n",
      "Name: y1values, Length: 100, dtype: float64\n",
      "0    -1.000000\n",
      "1    -0.997987\n",
      "2    -0.991955\n",
      "3    -0.981929\n",
      "4    -0.967949\n",
      "        ...   \n",
      "95   -0.967949\n",
      "96   -0.981929\n",
      "97   -0.991955\n",
      "98   -0.997987\n",
      "99   -1.000000\n",
      "Name: y2values, Length: 100, dtype: float64\n"
     ]
    }
   ],
   "source": [
    "# looping through columns\n",
    "for i in range(len(df3.columns)):\n",
    "    print(df3[df3.columns[i]])"
   ]
  },
  {
   "cell_type": "code",
   "execution_count": 31,
   "id": "subsequent-reverse",
   "metadata": {},
   "outputs": [],
   "source": [
    "# looping through columns\n",
    "#import time\n",
    "#for idx, row in df3.iterrows():\n",
    "#    #print(row['xvalues'])\n",
    "#    time.sleep(0.5)"
   ]
  },
  {
   "cell_type": "markdown",
   "id": "crazy-newport",
   "metadata": {},
   "source": [
    "# Real life example"
   ]
  },
  {
   "cell_type": "code",
   "execution_count": null,
   "id": "silver-formula",
   "metadata": {},
   "outputs": [],
   "source": [
    "import pandas as pd"
   ]
  },
  {
   "cell_type": "code",
   "execution_count": null,
   "id": "stuffed-modem",
   "metadata": {},
   "outputs": [],
   "source": [
    "df_fruits = pd.read_csv('fruit_data_with_colors.txt',sep='\\t')"
   ]
  },
  {
   "cell_type": "code",
   "execution_count": null,
   "id": "global-tunnel",
   "metadata": {},
   "outputs": [],
   "source": [
    "df_fruits.head()"
   ]
  },
  {
   "cell_type": "code",
   "execution_count": null,
   "id": "adult-chicago",
   "metadata": {},
   "outputs": [],
   "source": [
    "#method unique()"
   ]
  },
  {
   "cell_type": "code",
   "execution_count": null,
   "id": "young-importance",
   "metadata": {},
   "outputs": [],
   "source": [
    "df_fruits.columns.values"
   ]
  },
  {
   "cell_type": "code",
   "execution_count": null,
   "id": "sapphire-construction",
   "metadata": {},
   "outputs": [],
   "source": []
  },
  {
   "cell_type": "code",
   "execution_count": null,
   "id": "agricultural-yesterday",
   "metadata": {},
   "outputs": [],
   "source": [
    "df_fruits['fruit_label'].unique()"
   ]
  },
  {
   "cell_type": "code",
   "execution_count": null,
   "id": "broken-machine",
   "metadata": {},
   "outputs": [],
   "source": [
    "df_fruits['fruit_name'].unique()"
   ]
  },
  {
   "cell_type": "code",
   "execution_count": null,
   "id": "aerial-watson",
   "metadata": {},
   "outputs": [],
   "source": [
    "lookup_table=dict(zip(df_fruits['fruit_label'].unique(),df_fruits['fruit_name'].unique()))"
   ]
  },
  {
   "cell_type": "code",
   "execution_count": null,
   "id": "initial-given",
   "metadata": {},
   "outputs": [],
   "source": [
    "lookup_table"
   ]
  },
  {
   "cell_type": "code",
   "execution_count": null,
   "id": "metric-climate",
   "metadata": {},
   "outputs": [],
   "source": [
    "df_fruits.describe()"
   ]
  },
  {
   "cell_type": "code",
   "execution_count": null,
   "id": "verbal-trick",
   "metadata": {},
   "outputs": [],
   "source": [
    "df3.describe()"
   ]
  },
  {
   "cell_type": "code",
   "execution_count": null,
   "id": "civic-cabinet",
   "metadata": {},
   "outputs": [],
   "source": [
    "df_fruits.groupby('fruit_name').size()"
   ]
  },
  {
   "cell_type": "markdown",
   "id": "checked-secondary",
   "metadata": {},
   "source": [
    "## Importing datasets as a dictionary"
   ]
  },
  {
   "cell_type": "code",
   "execution_count": null,
   "id": "finished-retrieval",
   "metadata": {},
   "outputs": [],
   "source": [
    "from sklearn import datasets\n",
    "digits = datasets.load_digits()"
   ]
  }
 ],
 "metadata": {
  "kernelspec": {
   "display_name": "Python 3",
   "language": "python",
   "name": "python3"
  },
  "language_info": {
   "codemirror_mode": {
    "name": "ipython",
    "version": 3
   },
   "file_extension": ".py",
   "mimetype": "text/x-python",
   "name": "python",
   "nbconvert_exporter": "python",
   "pygments_lexer": "ipython3",
   "version": "3.7.2"
  }
 },
 "nbformat": 4,
 "nbformat_minor": 5
}
