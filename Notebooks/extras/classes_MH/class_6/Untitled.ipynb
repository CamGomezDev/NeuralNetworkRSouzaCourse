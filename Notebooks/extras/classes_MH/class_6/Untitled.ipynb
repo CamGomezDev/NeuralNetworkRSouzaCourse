{
 "cells": [
  {
   "cell_type": "code",
   "execution_count": 19,
   "id": "conceptual-trinity",
   "metadata": {},
   "outputs": [
    {
     "name": "stdout",
     "output_type": "stream",
     "text": [
      "0.98\n"
     ]
    }
   ],
   "source": [
    "import math\n",
    "k=2\n",
    "x=0.2\n",
    "cos=0\n",
    "for k in range(k):\n",
    "    cos=cos+(-1)**k/math.factorial(2*k)*x**(2*k)\n",
    "print(cos)"
   ]
  },
  {
   "cell_type": "code",
   "execution_count": 20,
   "id": "accredited-wayne",
   "metadata": {},
   "outputs": [],
   "source": [
    "def costaylor(x,k):\n",
    "    cos=0\n",
    "    for k in range(k):\n",
    "        cos=cos+(-1)**k/math.factorial(2*k)*x**(2*k)\n",
    "    return cos"
   ]
  },
  {
   "cell_type": "code",
   "execution_count": 39,
   "id": "turned-citizen",
   "metadata": {},
   "outputs": [],
   "source": [
    "x=[0,0.1,0.2]\n",
    "approx=[]\n",
    "for i in x:\n",
    "    approx.append(costaylor(i,3))\n",
    "fig,ax=plt.subplots(1,1)\n"
   ]
  },
  {
   "cell_type": "code",
   "execution_count": 34,
   "id": "classical-chamber",
   "metadata": {},
   "outputs": [
    {
     "data": {
      "text/plain": [
       "0.9800666666666666"
      ]
     },
     "execution_count": 34,
     "metadata": {},
     "output_type": "execute_result"
    }
   ],
   "source": [
    "x=0.2\n",
    "costaylor(x,3)"
   ]
  },
  {
   "cell_type": "code",
   "execution_count": 31,
   "id": "aggressive-victoria",
   "metadata": {},
   "outputs": [
    {
     "name": "stdout",
     "output_type": "stream",
     "text": [
      "0.9800665777777777\n"
     ]
    }
   ],
   "source": [
    "cos2=1-x**2/math.factorial(2)+x**4/math.factorial(4)-x**6/math.factorial(6)\n",
    "print(cos2)"
   ]
  },
  {
   "cell_type": "code",
   "execution_count": null,
   "id": "undefined-height",
   "metadata": {},
   "outputs": [],
   "source": []
  }
 ],
 "metadata": {
  "kernelspec": {
   "display_name": "Python 3",
   "language": "python",
   "name": "python3"
  },
  "language_info": {
   "codemirror_mode": {
    "name": "ipython",
    "version": 3
   },
   "file_extension": ".py",
   "mimetype": "text/x-python",
   "name": "python",
   "nbconvert_exporter": "python",
   "pygments_lexer": "ipython3",
   "version": "3.7.2"
  }
 },
 "nbformat": 4,
 "nbformat_minor": 5
}
