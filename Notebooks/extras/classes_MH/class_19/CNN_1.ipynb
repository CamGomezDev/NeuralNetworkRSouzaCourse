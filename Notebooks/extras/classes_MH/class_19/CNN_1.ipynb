{
 "cells": [
  {
   "cell_type": "markdown",
   "id": "employed-september",
   "metadata": {},
   "source": [
    "## Convolutional Neural Networks - introduction"
   ]
  },
  {
   "cell_type": "markdown",
   "id": "superior-danish",
   "metadata": {},
   "source": [
    "Long time before CNN Image processing allows better extracion of the images"
   ]
  },
  {
   "cell_type": "markdown",
   "id": "decent-marathon",
   "metadata": {},
   "source": [
    "<table><tr>\n",
    "<td> <img src=\"imgs/edges_detection.jpg\" width=\"800\" /> </td>\n",
    "</tr></table>"
   ]
  },
  {
   "cell_type": "markdown",
   "id": "metropolitan-bhutan",
   "metadata": {},
   "source": [
    "- NN were already powerful (NN,CNN start dominating over other ML lagorithms)\n",
    "- The advancements in Computer Vision with Deep Learning has been constructed and perfected with time, primarily over one particular algorithm — a Convolutional Neural Network. (CNN -  breakthrough in image classification was made by CNN)"
   ]
  },
  {
   "cell_type": "markdown",
   "id": "fixed-testament",
   "metadata": {},
   "source": [
    "<table><tr>\n",
    "<td> <img src=\"imgs/CNN.jpeg\" width=\"600\" /> </td>\n",
    "</tr></table>"
   ]
  },
  {
   "cell_type": "markdown",
   "id": "ranging-madison",
   "metadata": {},
   "source": [
    "# If the input is a digit (2D, 3D array of number)\n",
    "In case of Color image we have 3D"
   ]
  },
  {
   "cell_type": "markdown",
   "id": "foreign-customer",
   "metadata": {},
   "source": [
    "<table><tr>\n",
    "<td> <img src=\"imgs/RGB.png\" width=\"600\" /> </td>\n",
    "</tr></table>"
   ]
  },
  {
   "cell_type": "markdown",
   "id": "exact-bedroom",
   "metadata": {},
   "source": [
    "## Convolution process\n",
    "* Image (6x6)\n",
    "* Filter / Kernel (3x3)\n",
    "* Pooling (2x2)\n",
    "* Output (2x2)"
   ]
  },
  {
   "cell_type": "markdown",
   "id": "detailed-legislation",
   "metadata": {},
   "source": [
    "A kernel is a small 2D matrix whose contents are based upon the operations to be performed. A kernel maps on the input image by simple matrix multiplication and addition, the output obtained is of lower dimensions and therefore easier to work with."
   ]
  },
  {
   "cell_type": "markdown",
   "id": "important-racing",
   "metadata": {},
   "source": [
    "<table><tr>\n",
    "<td> <img src=\"imgs/convolution_process.png\" width=\"1000\" /> </td>\n",
    "</tr></table>"
   ]
  },
  {
   "cell_type": "markdown",
   "id": "objective-maker",
   "metadata": {},
   "source": [
    "# Just the convolution part (gif)"
   ]
  },
  {
   "cell_type": "markdown",
   "id": "affiliated-verse",
   "metadata": {},
   "source": [
    "<table><tr>\n",
    "<td> <img src=\"imgs/kernel.gif\" width=\"400\" /> </td>\n",
    "</tr></table>"
   ]
  },
  {
   "cell_type": "markdown",
   "id": "confident-notification",
   "metadata": {},
   "source": [
    "# But the image has three layers so the kernel works on each layer"
   ]
  },
  {
   "cell_type": "markdown",
   "id": "affecting-highland",
   "metadata": {},
   "source": [
    "<table><tr>\n",
    "<td> <img src=\"imgs/kernel3D.gif\" width=\"800\" /> </td>\n",
    "</tr></table>"
   ]
  },
  {
   "cell_type": "markdown",
   "id": "forbidden-stanford",
   "metadata": {},
   "source": [
    "# Different kernels make different operations on the image"
   ]
  },
  {
   "cell_type": "markdown",
   "id": "dietary-dakota",
   "metadata": {},
   "source": [
    "<table><tr>\n",
    "<td> <img src=\"imgs/convolution_kernel_example2.png\" width=\"800\" /> </td>\n",
    "</tr></table>"
   ]
  },
  {
   "cell_type": "markdown",
   "id": "functioning-cherry",
   "metadata": {},
   "source": [
    "## In tensorflow the Convolution layer is being implemented with the following syntax\n",
    "`from tensorflow.keras.layers import Conv2D`\n",
    "`Conv2D(filters=16,  kernel_size=(3, 3), activation='relu', name='conv_1')`"
   ]
  },
  {
   "cell_type": "markdown",
   "id": "incident-jerusalem",
   "metadata": {},
   "source": [
    "# Max pooling is another operation on the image after the convolution it finds the maximum value in the given `pool size`"
   ]
  },
  {
   "cell_type": "markdown",
   "id": "jewish-public",
   "metadata": {},
   "source": [
    "<table><tr>\n",
    "<td> <img src=\"imgs/pooling.jpg\" width=\"600\" /> </td>\n",
    "</tr></table>"
   ]
  },
  {
   "cell_type": "markdown",
   "id": "narrative-tribune",
   "metadata": {},
   "source": [
    "## In tensorflow the Pooling layer is being implemented with the following syntax:\n",
    "`from tensorflow.keras.layers import MaxPooling2D`\n",
    "`MaxPooling2D(pool_size=(2, 2), name='pool_1')`"
   ]
  },
  {
   "cell_type": "markdown",
   "id": "conditional-timothy",
   "metadata": {},
   "source": [
    "# After the convolution and max pooling is done we flatten the image (or whats left from it)"
   ]
  },
  {
   "cell_type": "markdown",
   "id": "experimental-leeds",
   "metadata": {},
   "source": [
    "<table><tr>\n",
    "<td> <img src=\"imgs/flattening.png\" width=\"600\" /> </td>\n",
    "</tr></table>"
   ]
  },
  {
   "cell_type": "markdown",
   "id": "satisfactory-microphone",
   "metadata": {},
   "source": [
    "## In tensorflow the Flattening layer is being implemented with the following syntax:\n",
    "`from tensorflow.keras.layers import Flatten`\n",
    "`Flatten(name='flatten_layer')`"
   ]
  },
  {
   "cell_type": "markdown",
   "id": "foreign-cornwall",
   "metadata": {},
   "source": [
    "## The order of the layers in CNN:\n",
    "* Input layer    \n",
    "* Convolution layer\n",
    "* Pooling layer\n",
    "* Convolution layer\n",
    "* Pooling layer\n",
    "* Convolution layer\n",
    "* Pooling layer\n",
    "* Flattening layer\n",
    "* Dense layer\n",
    "* Dense layer\n",
    "* output layer ( in case of classification the activation function is: `Sigmoid`)"
   ]
  },
  {
   "cell_type": "markdown",
   "id": "operational-masters",
   "metadata": {},
   "source": [
    "# CNN with Tensorflow"
   ]
  },
  {
   "cell_type": "code",
   "execution_count": 7,
   "id": "norman-emerald",
   "metadata": {},
   "outputs": [
    {
     "name": "stdout",
     "output_type": "stream",
     "text": [
      "2.5.0\n"
     ]
    }
   ],
   "source": [
    "import tensorflow as tf\n",
    "print(tf.__version__)"
   ]
  },
  {
   "cell_type": "markdown",
   "id": "wrong-gathering",
   "metadata": {},
   "source": [
    "#### Load and inspect CIFAR-10 dataset\n",
    "The CIFAR-10 dataset consists of, in total, 60000 color images, each with one of 10 labels: airplane, automobile, bird, cat, deer, dog, frog, horse, ship, truck. For an introduction and a download, see [this link](https://www.cs.toronto.edu/~kriz/cifar.html)."
   ]
  },
  {
   "cell_type": "code",
   "execution_count": 8,
   "id": "wired-holly",
   "metadata": {},
   "outputs": [],
   "source": [
    "# Import the CIFAR-10 dataset and rescale the pixel values\n",
    "\n",
    "(X_train, y_train), (X_test, y_test) = tf.keras.datasets.cifar10.load_data()\n",
    "X_train = X_train / 255.0\n",
    "X_test = X_test / 255.0\n",
    "\n",
    "# Use smaller subset -- speeds things up\n",
    "#X_train = X_train[:10000]\n",
    "#y_train = y_train[:10000]\n",
    "#X_test = X_test[:1000]"
   ]
  },
  {
   "cell_type": "code",
   "execution_count": 9,
   "id": "dependent-fleet",
   "metadata": {},
   "outputs": [
    {
     "data": {
      "image/png": "[encoded data removed]",
      "text/plain": [
       "<Figure size 720x72 with 10 Axes>"
      ]
     },
     "metadata": {
      "needs_background": "light"
     },
     "output_type": "display_data"
    }
   ],
   "source": [
    "# Plot the first 10 CIFAR-10 images\n",
    "\n",
    "import matplotlib.pyplot as plt\n",
    "\n",
    "fig, ax = plt.subplots(1, 10, figsize=(10, 1))\n",
    "for i in range(10):\n",
    "    ax[i].set_axis_off()\n",
    "    ax[i].imshow(X_train[i])"
   ]
  },
  {
   "cell_type": "code",
   "execution_count": 10,
   "id": "structural-sullivan",
   "metadata": {},
   "outputs": [
    {
     "data": {
      "text/plain": [
       "(50000, 32, 32, 3)"
      ]
     },
     "execution_count": 10,
     "metadata": {},
     "output_type": "execute_result"
    }
   ],
   "source": [
    "X_train.shape"
   ]
  },
  {
   "cell_type": "code",
   "execution_count": 11,
   "id": "mineral-macintosh",
   "metadata": {},
   "outputs": [
    {
     "data": {
      "text/plain": [
       "(32, 32, 3)"
      ]
     },
     "execution_count": 11,
     "metadata": {},
     "output_type": "execute_result"
    }
   ],
   "source": [
    "X_train[0].shape"
   ]
  },
  {
   "cell_type": "code",
   "execution_count": 13,
   "id": "knowing-rolling",
   "metadata": {},
   "outputs": [],
   "source": [
    "from tensorflow.keras.models import Sequential\n",
    "from tensorflow.keras.layers import InputLayer, Dense, Flatten, Conv2D, MaxPooling2D, Dropout"
   ]
  },
  {
   "cell_type": "code",
   "execution_count": 14,
   "id": "advanced-characterization",
   "metadata": {},
   "outputs": [],
   "source": [
    "def get_model(input_shape):\n",
    "    model = Sequential([InputLayer(input_shape=input_shape),\n",
    "                        Conv2D(filters=16,  kernel_size=(3, 3), activation='relu', name='conv_1'),\n",
    "                        MaxPooling2D(pool_size=(2, 2), name='pool_1'),\n",
    "                        Conv2D(filters=8, kernel_size=(3, 3), activation='relu', name='conv_2'),\n",
    "                        MaxPooling2D(pool_size=(2, 2), name='pool_2'),\n",
    "                        Flatten(name='flatten'),\n",
    "                        Dense(units=32, activation='relu', name='dense_1'),\n",
    "                        Dense(units=10, activation='softmax', name='dense_2')])\n",
    "    \n",
    "    return model"
   ]
  },
  {
   "cell_type": "code",
   "execution_count": 15,
   "id": "retained-playing",
   "metadata": {},
   "outputs": [],
   "source": [
    "def compile_model(model):\n",
    "    model.compile(optimizer='adam', loss='sparse_categorical_crossentropy', metrics=['accuracy'])"
   ]
  },
  {
   "cell_type": "code",
   "execution_count": 12,
   "id": "curious-cancellation",
   "metadata": {},
   "outputs": [],
   "source": [
    "# Introduce function to test model accuracy\n",
    "\n",
    "def get_test_accuracy(model, x_test, y_test):\n",
    "    test_loss, test_acc = model.evaluate(x=x_test, y=y_test, verbose=0)\n",
    "    print('accuracy: {acc:0.3f}'.format(acc=test_acc))"
   ]
  },
  {
   "cell_type": "code",
   "execution_count": 16,
   "id": "geographic-investor",
   "metadata": {},
   "outputs": [],
   "source": [
    "# Create an instance of the model and show model summary\n",
    "model=get_model(X_train[0].shape)\n",
    "compile_model(model)\n",
    "#model = get_new_model()"
   ]
  },
  {
   "cell_type": "code",
   "execution_count": 17,
   "id": "liberal-shopping",
   "metadata": {},
   "outputs": [
    {
     "name": "stdout",
     "output_type": "stream",
     "text": [
      "Model: \"sequential\"\n",
      "_________________________________________________________________\n",
      "Layer (type)                 Output Shape              Param #   \n",
      "=================================================================\n",
      "conv_1 (Conv2D)              (None, 30, 30, 16)        448       \n",
      "_________________________________________________________________\n",
      "pool_1 (MaxPooling2D)        (None, 15, 15, 16)        0         \n",
      "_________________________________________________________________\n",
      "conv_2 (Conv2D)              (None, 13, 13, 8)         1160      \n",
      "_________________________________________________________________\n",
      "pool_2 (MaxPooling2D)        (None, 6, 6, 8)           0         \n",
      "_________________________________________________________________\n",
      "flatten (Flatten)            (None, 288)               0         \n",
      "_________________________________________________________________\n",
      "dense_1 (Dense)              (None, 32)                9248      \n",
      "_________________________________________________________________\n",
      "dense_2 (Dense)              (None, 10)                330       \n",
      "=================================================================\n",
      "Total params: 11,186\n",
      "Trainable params: 11,186\n",
      "Non-trainable params: 0\n",
      "_________________________________________________________________\n"
     ]
    }
   ],
   "source": [
    "model.summary()"
   ]
  },
  {
   "cell_type": "code",
   "execution_count": 18,
   "id": "directed-clone",
   "metadata": {},
   "outputs": [
    {
     "name": "stdout",
     "output_type": "stream",
     "text": [
      "accuracy: 0.112\n"
     ]
    }
   ],
   "source": [
    "get_test_accuracy(model,X_test,y_test)"
   ]
  },
  {
   "cell_type": "code",
   "execution_count": 19,
   "id": "mysterious-little",
   "metadata": {},
   "outputs": [
    {
     "name": "stdout",
     "output_type": "stream",
     "text": [
      "Epoch 1/10\n",
      "1407/1407 [==============================] - 17s 12ms/step - loss: 1.6925 - accuracy: 0.3830 - val_loss: 1.4580 - val_accuracy: 0.4690\n",
      "Epoch 2/10\n",
      "1407/1407 [==============================] - 16s 11ms/step - loss: 1.3928 - accuracy: 0.5016 - val_loss: 1.3115 - val_accuracy: 0.5350\n",
      "Epoch 3/10\n",
      "1407/1407 [==============================] - 16s 11ms/step - loss: 1.2951 - accuracy: 0.5396 - val_loss: 1.2480 - val_accuracy: 0.5558\n",
      "Epoch 4/10\n",
      "1407/1407 [==============================] - 18s 13ms/step - loss: 1.2409 - accuracy: 0.5616 - val_loss: 1.2204 - val_accuracy: 0.5732\n",
      "Epoch 5/10\n",
      "1407/1407 [==============================] - 17s 12ms/step - loss: 1.2054 - accuracy: 0.5746 - val_loss: 1.2337 - val_accuracy: 0.5598\n",
      "Epoch 6/10\n",
      "1407/1407 [==============================] - 17s 12ms/step - loss: 1.1769 - accuracy: 0.5835 - val_loss: 1.2096 - val_accuracy: 0.5672\n",
      "Epoch 7/10\n",
      "1407/1407 [==============================] - 16s 11ms/step - loss: 1.1556 - accuracy: 0.5915 - val_loss: 1.1819 - val_accuracy: 0.5924\n",
      "Epoch 8/10\n",
      "1407/1407 [==============================] - 16s 11ms/step - loss: 1.1357 - accuracy: 0.5982 - val_loss: 1.2009 - val_accuracy: 0.5816\n",
      "Epoch 9/10\n",
      "1407/1407 [==============================] - 16s 11ms/step - loss: 1.1146 - accuracy: 0.6078 - val_loss: 1.1245 - val_accuracy: 0.6038\n",
      "Epoch 10/10\n",
      "1407/1407 [==============================] - 16s 11ms/step - loss: 1.0967 - accuracy: 0.6149 - val_loss: 1.0995 - val_accuracy: 0.6156\n"
     ]
    }
   ],
   "source": [
    "# Fit model, with simple checkpoint which saves (and overwrites) model weights every epoch\n",
    "epochs=10\n",
    "history=model.fit(X_train,y_train,epochs=epochs,validation_split=0.1,verbose=1)"
   ]
  },
  {
   "cell_type": "code",
   "execution_count": 20,
   "id": "aggregate-scene",
   "metadata": {},
   "outputs": [
    {
     "name": "stdout",
     "output_type": "stream",
     "text": [
      "accuracy: 0.607\n"
     ]
    }
   ],
   "source": [
    "get_test_accuracy(model,X_test,y_test)"
   ]
  },
  {
   "cell_type": "code",
   "execution_count": 21,
   "id": "fifth-appeal",
   "metadata": {},
   "outputs": [
    {
     "data": {
      "text/plain": [
       "<matplotlib.legend.Legend at 0x7fadced639b0>"
      ]
     },
     "execution_count": 21,
     "metadata": {},
     "output_type": "execute_result"
    },
    {
     "data": {
      "image/png": "[encoded data removed]",
      "text/plain": [
       "<Figure size 432x288 with 1 Axes>"
      ]
     },
     "metadata": {
      "needs_background": "light"
     },
     "output_type": "display_data"
    }
   ],
   "source": [
    "import matplotlib.pyplot as plt\n",
    "xvals=range(epochs)\n",
    "fig,ax=plt.subplots(1,1)\n",
    "ax.plot(xvals, history.history['val_accuracy'],label='validation set accuracy')\n",
    "ax.plot(xvals, history.history['accuracy'],label='train set accuracy')\n",
    "ax.set_xlabel('epochs')\n",
    "ax.set_ylabel('accuracy')\n",
    "ax.legend()"
   ]
  },
  {
   "cell_type": "code",
   "execution_count": null,
   "id": "about-danish",
   "metadata": {},
   "outputs": [],
   "source": []
  }
 ],
 "metadata": {
  "kernelspec": {
   "display_name": "Python 3",
   "language": "python",
   "name": "python3"
  },
  "language_info": {
   "codemirror_mode": {
    "name": "ipython",
    "version": 3
   },
   "file_extension": ".py",
   "mimetype": "text/x-python",
   "name": "python",
   "nbconvert_exporter": "python",
   "pygments_lexer": "ipython3",
   "version": "3.7.2"
  }
 },
 "nbformat": 4,
 "nbformat_minor": 5
}
