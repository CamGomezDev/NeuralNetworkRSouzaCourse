{
 "cells": [
  {
   "cell_type": "markdown",
   "id": "operating-commissioner",
   "metadata": {},
   "source": [
    "# How we will proceed with learning NN using TensorFlow\n",
    "\n",
    "##   1. Multiple Perceptron (the simplest NN)\n",
    "      \n",
    "    * models\n",
    "      * sequential\n",
    "      * functional\n",
    "\n",
    "    * methods of a sequential model\n",
    "      * model.summary\n",
    "      * model.compile\n",
    "      * model.fit\n",
    "      * history\n",
    "      * model.evaluate\n",
    "      * model.predict\n",
    "      \n",
    "    * example classification mnist digits\n",
    "      * from CSV, TXT, \n",
    "      * importing data from Tensorflow build-in datasets\n",
    "      * optimizing parameters\n",
    "      \n",
    "    * example regression car CO2 emission \n",
    "      * from the tensorflow dataset\n",
    "      \n",
    "      \n",
    "      \n",
    "##   2. Convolutional Neuron Network CNN\n",
    "    * Convolution\n",
    "       * theory\n",
    "    * example CIFAR-100\n",
    "    * example cats and dogs\n",
    "      * import images using \"flow_from_directory\"\n",
    "      * augmentation\n",
    "      * Regularization and Dropout\n",
    "\n",
    "##   3. Saving and loading models \n",
    "    * parameters and architecture of our own trained models\n",
    "    * loading pretrained models"
   ]
  },
  {
   "cell_type": "markdown",
   "id": "quantitative-continent",
   "metadata": {},
   "source": [
    "# Perceptron - introduced in earlier class \n",
    "* single unit of operation of Neural Network\n",
    "\n",
    "<table><tr>\n",
    "<td> <img src=\"imgs/perceptron.png\" width=\"400\" /> </td>\n",
    "</tr></table>"
   ]
  },
  {
   "cell_type": "markdown",
   "id": "opposed-legislation",
   "metadata": {},
   "source": [
    "# Multi Layer Perceptron (MLP) - Neural Network \n",
    "(the simplest NN)\n",
    "Multi-layer perception is also known as MLP. It is fully connected dense layers, which transform any input dimension to the desired dimension. A multi-layer perception is a neural network that has multiple layers. To create a neural network we combine neurons together so that the outputs of some neurons are inputs of other neurons.\n",
    "\n",
    "\n",
    "MPL can have any number of hidden layers and each hidden layer can have any number of nodes. A schematic diagram of a Multi-Layer Perceptron (MLP) is depicted below.\n",
    "\n",
    "<table><tr>\n",
    "<td> <img src=\"imgs/MLP.png\" width=\"400\" /> </td>\n",
    "</tr></table>"
   ]
  },
  {
   "cell_type": "markdown",
   "id": "handed-patrol",
   "metadata": {},
   "source": [
    "# Principle elements of building Neural Network using TensorFlow:\n",
    "\n",
    "\n",
    "<table><tr>\n",
    "<td> <img src=\"imgs/TF_workflow.png\" width=\"1000\" /> </td>\n",
    "</tr></table> "
   ]
  },
  {
   "cell_type": "markdown",
   "id": "reserved-eagle",
   "metadata": {},
   "source": [
    "## Step 1 import and prepare the data\n",
    "\n",
    "  * from CSV/TXT files data \n",
    "     * import using pandas \n",
    "     * clean if necessary\n",
    "     * convert to numpy\n",
    "     * X_train,y_train X_test,y_test (using scikit-learn )\n",
    "     \n",
    "  * from dictionary \n",
    "     * X_train,y_train X_test,y_test (using scikit-learn )\n",
    "\n",
    "  * from Tensorflow \n",
    "     * (x_train, y_train), (x_test, y_test) = tf.keras.datasets.mnist.load_data()\n",
    "  \n",
    "  * loading images\n",
    "     * organize images in directories\n",
    "     * use Tensorflow flow_from_directory\n",
    "        * train_generator = train_datagen.flow_from_directory()\n",
    "\n",
    "     \n",
    "#### Notes on preparing data:\n",
    "\n",
    "In order to train a deep neural network model with\n",
    "Keras, the input data sets needs to be cleaned,\n",
    "balanced, transformed, scaled, and splitted.\n",
    "\n",
    "* convert the categorical variables using one-hot encoded variables or numerical variables\n",
    "* Extract the X (variables) and y (targets) values for the training and testing datasets.\n",
    "* Scale/normalize the variables.\n",
    "* Shuffle and split the dataset into training and testing datasets    \n"
   ]
  },
  {
   "cell_type": "markdown",
   "id": "demographic-investing",
   "metadata": {},
   "source": [
    "## Step 2-4 create model and execute methods on it \n",
    "  * create sequential model\n",
    "  * model.compile\n",
    "  * model.fit\n",
    "  * model.evaluate\n",
    "  * model.predict"
   ]
  },
  {
   "cell_type": "markdown",
   "id": "expected-jumping",
   "metadata": {},
   "source": [
    "## MODEL (we already know the principles of preparing data)\n",
    "\n",
    "### * sequential \n",
    "  * Here we create the model layer-by-layer. It is very simple and easy to use. But branching of layers is not allowed. Also, you can’t have multiple inputs or outputs.\n",
    "  \n",
    "  * A Sequential model is appropriate for a plain stack of layers where each layer has exactly one input tensor and one output tensor.\n",
    "  \n",
    "<table><tr>\n",
    "<td> <img src=\"imgs/model_sequential.png\" width=\"400\" /> </td>\n",
    "</tr></table>\n",
    "\n",
    "  * A Sequential model is not appropriate when:\n",
    "    - Your model has multiple inputs or multiple outputs\n",
    "    - Any of your layers has multiple inputs or multiple outputs\n",
    "    - You need to do layer sharing\n",
    "    - You want non-linear topology (e.g. a residual connection, a multi-branch model)\n",
    "\n",
    "\n",
    "### * functional\n",
    "  * It is more flexible than the sequential API. It is more powerful than the sequential API in the sense branching or sharing of layers is allowed here. And also it can have multiple inputs and outputs.\n",
    "  \n",
    "<table><tr>\n",
    "<td> <img src=\"imgs/model_functional.png\" width=\"400\" /> </td>\n",
    "</tr></table>\n",
    "\n",
    "  * its slightly more complex so we will focus on Sequential"
   ]
  },
  {
   "cell_type": "markdown",
   "id": "former-knitting",
   "metadata": {},
   "source": [
    "## Sequential model for simple MLP neural network\n",
    "* InputLayer, Dense, Flatten\n",
    "\n",
    "* (for more information read documentation!!!)"
   ]
  },
  {
   "cell_type": "markdown",
   "id": "stainless-panel",
   "metadata": {},
   "source": [
    "### InputLayer\n",
    "https://www.tensorflow.org/api_docs/python/tf/keras/layers/InputLayer\n",
    "\n",
    "syntax with full parameter (hardly used all)\n",
    "\n",
    "\n",
    "`tf.keras.layers.InputLayer(\n",
    "    input_shape=None, batch_size=None, dtype=None, input_tensor=None, sparse=None,\n",
    "    name=None, ragged=None, type_spec=None, **kwargs\n",
    ")`\n"
   ]
  },
  {
   "cell_type": "markdown",
   "id": "latin-practice",
   "metadata": {},
   "source": [
    "* InputLayer most typical parameters are two:\n",
    "* `tf.keras.layers.InputLayer(input_shape=tuple, name='string')`\n",
    "   * name is optional\n",
    "   * the parameter \"input_shape\" is a tuple\n",
    "     * can be given from a variable passed by a function parameter\n",
    "     * how to get the proper dimensions: X_train[0].shape\n",
    "     * why X_train[0].shape\n"
   ]
  },
  {
   "cell_type": "code",
   "execution_count": 1,
   "id": "marked-wagner",
   "metadata": {},
   "outputs": [],
   "source": [
    "import numpy as np\n",
    "import pandas as pd\n",
    "data = pd.read_csv('mnist_test.csv')\n",
    "data = data.to_numpy()\n",
    "X_data = data[:, 1:]\n",
    "y_data = data[:, 0]\n",
    "\n",
    "from sklearn.model_selection import train_test_split\n",
    "(X_train,X_test,y_train,y_test)=train_test_split(X_data,y_data,test_size=0.1, random_state=3)"
   ]
  },
  {
   "cell_type": "code",
   "execution_count": 2,
   "id": "contemporary-phenomenon",
   "metadata": {},
   "outputs": [
    {
     "name": "stdout",
     "output_type": "stream",
     "text": [
      "shape of the train dataset: (9000, 784)\n"
     ]
    }
   ],
   "source": [
    "print('shape of the train dataset:',X_train.shape)"
   ]
  },
  {
   "cell_type": "code",
   "execution_count": 3,
   "id": "equipped-annex",
   "metadata": {},
   "outputs": [
    {
     "name": "stdout",
     "output_type": "stream",
     "text": [
      "total number of samples: 9000\n"
     ]
    }
   ],
   "source": [
    "print('total number of samples:',X_train.shape[0])"
   ]
  },
  {
   "cell_type": "code",
   "execution_count": 4,
   "id": "muslim-russell",
   "metadata": {},
   "outputs": [
    {
     "name": "stdout",
     "output_type": "stream",
     "text": [
      "shape of a single dataset: (784,)\n"
     ]
    }
   ],
   "source": [
    "print('shape of a single dataset:', X_train[0].shape)"
   ]
  },
  {
   "cell_type": "markdown",
   "id": "differential-choir",
   "metadata": {},
   "source": [
    "* so the InputShape is the shape of the SINGLE element of the dataset\n",
    "* and the training will load (in the 'loop') 9000 dataset each having the shape of vector having 784 elements \n",
    "* the model.fit() training function does not care how many samples are to train\n",
    "  it cares what is the size of the sinle element from dataset"
   ]
  },
  {
   "cell_type": "markdown",
   "id": "formed-dakota",
   "metadata": {},
   "source": [
    "### Dense layer\n",
    "https://www.tensorflow.org/api_docs/python/tf/keras/layers/Dense\n",
    "\n",
    "* Dense is a standard neural network layer\n",
    "\n",
    "`tf.keras.layers.Dense(\n",
    "    units, activation=None, use_bias=True,\n",
    "    kernel_initializer='glorot_uniform',\n",
    "    bias_initializer='zeros', kernel_regularizer=None,\n",
    "    bias_regularizer=None, activity_regularizer=None, kernel_constraint=None,`\n",
    "   "
   ]
  },
  {
   "cell_type": "markdown",
   "id": "hybrid-reputation",
   "metadata": {},
   "source": [
    "   * in the simplest case `dense` accepts number of neurons, the activation function and label \n",
    "    `tf.keras.layers.Dense(units=integer, activation='string')`\n",
    "   * later on we will pass other parameters (like regularization)\n",
    "   * dense will be also the output layer\n",
    "   * optional `name`"
   ]
  },
  {
   "cell_type": "markdown",
   "id": "fresh-breakdown",
   "metadata": {},
   "source": [
    "### Flatten layer\n",
    "https://www.tensorflow.org/api_docs/python/tf/keras/layers/Flatten"
   ]
  },
  {
   "cell_type": "markdown",
   "id": "seeing-soldier",
   "metadata": {},
   "source": [
    "* Flatten()  \n",
    "   * takes usually no parameters\n",
    "   * the digits data imported from CSV file are vectors - flat data already\n",
    "   * if the data come as images 2D/3D arrays they must be flattened after the InputLayer and before the first hidden layer"
   ]
  },
  {
   "cell_type": "markdown",
   "id": "stainless-northeast",
   "metadata": {},
   "source": [
    "## Example 1 on the mnist_test.csv\n",
    "* loading the tensorflow libraries\n",
    "* creating an architecture of a sequential model"
   ]
  },
  {
   "cell_type": "code",
   "execution_count": 5,
   "id": "chief-measure",
   "metadata": {},
   "outputs": [],
   "source": [
    "import tensorflow as tf"
   ]
  },
  {
   "cell_type": "code",
   "execution_count": 6,
   "id": "heated-drinking",
   "metadata": {},
   "outputs": [],
   "source": [
    "from tensorflow.keras.models import Sequential"
   ]
  },
  {
   "cell_type": "code",
   "execution_count": 7,
   "id": "progressive-reduction",
   "metadata": {},
   "outputs": [],
   "source": [
    "from tensorflow.keras.layers import InputLayer, Dense, Flatten"
   ]
  },
  {
   "cell_type": "code",
   "execution_count": 8,
   "id": "fluid-livestock",
   "metadata": {},
   "outputs": [],
   "source": [
    "# optionally setting the seed fixed \n",
    "tf.random.set_seed(1234)\n",
    "# this is important if you want to compare performance \n",
    "# using different parameters\n",
    "# tf.random.set_seed() will make sure that the model have the same \n",
    "# initial conditions\n"
   ]
  },
  {
   "cell_type": "code",
   "execution_count": 9,
   "id": "similar-court",
   "metadata": {},
   "outputs": [],
   "source": [
    "model = Sequential([\n",
    "                  InputLayer(input_shape=(784,)),\n",
    "#                  Flatten(),\n",
    "                  Dense(units=100,activation='relu',name='layer_1'),\n",
    "                  Dense(units=10,activation='softmax',name='output_layer')\n",
    "                 ])"
   ]
  },
  {
   "cell_type": "markdown",
   "id": "palestinian-syracuse",
   "metadata": {},
   "source": [
    "### look at the syntax:\n",
    "  * object `model` is created using sequential model\n",
    "  * round brackets + square brackets\n",
    "  * each layer is specified after comma\n",
    "  * each layer is in the new line - for clarity\n",
    "### layers (here three)\n",
    "\n",
    "  * input layer\n",
    "    * here the input_shape is specified manually\n",
    "    \n",
    "    \n",
    "  * dense hidden \n",
    "    * units=number of neurons in this layer can be arbitrary (output of this layer)\n",
    "    * activation function (here is relu - most popular)\n",
    "    * name for identification\n",
    "    * we can put many other hidden layers with activation function\n",
    "    \n",
    "    \n",
    "  * dense output layer\n",
    "    * units=number of classes in the classification problem\n",
    "    * here units =10 because we have 10 different digits\n",
    "    * the activation function for the output layer is softmax (see reference for explanation and for other options)\n",
    "    * softmax will return the probability of a digit to be 0,1,2,3,4,5,6,7,8,9"
   ]
  },
  {
   "cell_type": "markdown",
   "id": "expired-estate",
   "metadata": {},
   "source": [
    "* reminder of activation funtions:\n",
    "\n",
    "http://localhost:8888/notebooks/MEGASyncWork/Universidad_de_Antioquia/CARGAS/2021-2/Electiva_Modelado_de_datos_con_redes_neuronales/NeuralNetworksRsouzaCourse/Notebooks/extras/classes_MH/class_13/how_NN_works.ipynb"
   ]
  },
  {
   "cell_type": "markdown",
   "id": "referenced-southwest",
   "metadata": {},
   "source": [
    "#### nice visualization\n",
    "https://www.cs.ryerson.ca/~aharley/vis/conv/"
   ]
  },
  {
   "cell_type": "markdown",
   "id": "numerical-brain",
   "metadata": {},
   "source": [
    "## The right way to create model is to use function!"
   ]
  },
  {
   "cell_type": "code",
   "execution_count": 10,
   "id": "pregnant-reader",
   "metadata": {},
   "outputs": [],
   "source": [
    "def get_model(input_shape):\n",
    "    model=Sequential([\n",
    "                  InputLayer(input_shape=input_shape),\n",
    "                  Dense(units=16,activation='relu',name='layer_hidden'),\n",
    "                  Dense(units=10,activation='softmax',name='output_layer')\n",
    "                 ])\n",
    "    return model"
   ]
  },
  {
   "cell_type": "code",
   "execution_count": 11,
   "id": "operational-spare",
   "metadata": {},
   "outputs": [],
   "source": [
    "model = get_model(X_train[0].shape)"
   ]
  },
  {
   "cell_type": "markdown",
   "id": "contemporary-therapy",
   "metadata": {},
   "source": [
    "##  Summary"
   ]
  },
  {
   "cell_type": "code",
   "execution_count": 12,
   "id": "lonely-candidate",
   "metadata": {},
   "outputs": [
    {
     "name": "stdout",
     "output_type": "stream",
     "text": [
      "Model: \"sequential_1\"\n",
      "_________________________________________________________________\n",
      "Layer (type)                 Output Shape              Param #   \n",
      "=================================================================\n",
      "layer_hidden (Dense)         (None, 16)                12560     \n",
      "_________________________________________________________________\n",
      "output_layer (Dense)         (None, 10)                170       \n",
      "=================================================================\n",
      "Total params: 12,730\n",
      "Trainable params: 12,730\n",
      "Non-trainable params: 0\n",
      "_________________________________________________________________\n"
     ]
    }
   ],
   "source": [
    "model.summary()"
   ]
  },
  {
   "cell_type": "markdown",
   "id": "automotive-stomach",
   "metadata": {},
   "source": [
    "# for the MLP network the number of parameters can be calculated using following formula:\n",
    "num_params = (input_size + bias) * output_size\n",
    "\n",
    "* input_size: number of features, here number of pixels is 784\n",
    "* bias = 1\n",
    "* we must calculate `num_params` of EACH layer using input and output of that layer and sum them up\n",
    "* `num_params` ~ number of connections (between each layers)\n"
   ]
  },
  {
   "cell_type": "code",
   "execution_count": 13,
   "id": "cordless-casting",
   "metadata": {},
   "outputs": [
    {
     "name": "stdout",
     "output_type": "stream",
     "text": [
      "number of trainable parameters in the first layer: 12560\n",
      "number of trainable parameters in the second layer: 170\n",
      "total number of trainable parameters (weights): 12730\n"
     ]
    }
   ],
   "source": [
    "layer1 = (784 + 1) * 16\n",
    "layer2 = (16 + 1) * 10\n",
    "print('number of trainable parameters in the first layer:',layer1)\n",
    "print('number of trainable parameters in the second layer:',layer2)\n",
    "print('total number of trainable parameters (weights):',layer1+layer2)"
   ]
  },
  {
   "cell_type": "markdown",
   "id": "collected-phenomenon",
   "metadata": {},
   "source": [
    "<table><tr>\n",
    "<td> <img src=\"imgs/number_of_parameters.png\" width=\"200\" /> </td>\n",
    "</tr></table>"
   ]
  },
  {
   "cell_type": "markdown",
   "id": "incident-adaptation",
   "metadata": {},
   "source": [
    "The bottom line is:\n",
    "\n",
    "    * The Sequential model allows us to create models layer-by-layer as we need in a multi-layer perceptron and is limited to single-input, single-output stacks of layers.\n",
    "    * Activation is for using the sigmoid activation function.\n",
    "    * The first two Dense layers are used to make a fully connected model and are the hidden layers.\n",
    "    * The last Dense layer is the output layer which contains 10 neurons that decide which category the image belongs to.\n",
    "    * Here we didnt use flatten \n",
    "      (Flatten flattens the input provided without affecting the batch size. For example, If inputs are shaped (batch_size,) without a feature axis, then flattening adds an extra channel dimension and output shape is (batch_size, 1).)"
   ]
  },
  {
   "cell_type": "markdown",
   "id": "later-radiation",
   "metadata": {},
   "source": [
    "### Compile the model with given parameters\n",
    "* optimizer (adam,sgd)\n",
    "* loss function, for mnist try: 'sparse_categorical_crossentropy'\n",
    "* metrics (most common is accuracy) (how to measure the performance of the NN)"
   ]
  },
  {
   "cell_type": "code",
   "execution_count": 14,
   "id": "agricultural-indication",
   "metadata": {},
   "outputs": [],
   "source": [
    "model.compile(optimizer='adam',\n",
    "              loss='sparse_categorical_crossentropy',\n",
    "              metrics=['accuracy'])"
   ]
  },
  {
   "cell_type": "markdown",
   "id": "blind-settlement",
   "metadata": {},
   "source": [
    "## Optimizers:"
   ]
  },
  {
   "cell_type": "markdown",
   "id": "chief-guitar",
   "metadata": {},
   "source": [
    "optimizers = [\n",
    "    'Adadelta',\n",
    "    'Adagrad',\n",
    "    'Adam',\n",
    "    'Adamax',\n",
    "    'Nadam',\n",
    "    'RMSprop',\n",
    "    'SGD'\n",
    "]"
   ]
  },
  {
   "cell_type": "markdown",
   "id": "grave-spelling",
   "metadata": {},
   "source": [
    "Most popular are:\n",
    "\n",
    "* SGD - stochastic gradient descent\n",
    "  * The king of all the optimizers and it’s very fast, robust, and flexible. \n",
    "  * Is one of the simplest optimization algorithms. It uses just one static learning rate for all parameters during the entire training phase.\n",
    "\n",
    "`tf.kears.optimizers.SGD(learning_rate = 0.01,\n",
    "                                momentum=0.0, \n",
    "                                nesterov=False, \n",
    "                                name='SGD', \n",
    "                                **kwargs)`\n",
    "* RMSprop \n",
    "  * use momentum for updating. This can be compared to rolling a ball (state of the neural network) down a hill (the graph of a cost function). The longer the ball moves in a certain direction, the faster it goes, giving the ball higher momentum. The momentum of the ball is useful because it allows the network to ‘roll over’ local minima — not getting stuck in them.\n",
    "\n",
    "\n",
    "`tf.keras.optimizers.RMSprop(learning_rate=0.001, \n",
    "                                    rho=0.9, \n",
    "                                    momentum=0.0, \n",
    "                                    epsilon=1e-07, \n",
    "                                    centered=False,\n",
    "                                    name='RMSprop', \n",
    "                                    **kwargs)`\n",
    "                                    \n",
    "* Adam - AdAptive Moment estimation,\n",
    "  * In the ball rolling down the hill analogy, Adam would be a weighty ball. \n",
    "  * also uses past learning rates like AdaGrad and RMSProp do. However, Adam doesn’t stop there—it also uses past gradients to speed up learning. When Adam moves in a certain direction, it does so with a ‘great force’— it’s not suddenly going to stop and turn around.\n",
    "\n",
    "`tf.keras.optimizers.Adam(learning_rate=0.001, \n",
    "                                 beta_1=0.9, \n",
    "                                 beta_2=0.999, \n",
    "                                 epsilon=1e-07, \n",
    "                                 amsgrad=False,\n",
    "                                 name='Adam', \n",
    "                                 **kwargs)`\n",
    "                                 \n",
    "* Each optimizer performs differently at each dataset\n",
    "  * compare them with mnist (dont forget to fix the initialization to be able to objectvely compare the optimizers)\n",
    "  * comparison: https://heartbeat.comet.ml/an-empirical-comparison-of-optimizers-for-machine-learning-models-b86f29957050"
   ]
  },
  {
   "cell_type": "markdown",
   "id": "vulnerable-surfing",
   "metadata": {},
   "source": [
    "## loss function for classification problem:\n",
    "\n",
    "1. Binary Cross-Entropy Loss:\n",
    "\n",
    "Binary cross-entropy is used to compute the cross-entropy between the true labels and predicted outputs. It’s used when two-class problems arise like cat and dog classification [1 or 0]."
   ]
  },
  {
   "cell_type": "code",
   "execution_count": 15,
   "id": "effective-celtic",
   "metadata": {},
   "outputs": [],
   "source": [
    "#y_train = [[0.,1.],\n",
    "#          [0.,0.]]\n",
    "\n",
    "#y_pred = [[0.5,0.4],\n",
    "#         [0.6,0.3]]"
   ]
  },
  {
   "cell_type": "markdown",
   "id": "least-contact",
   "metadata": {},
   "source": [
    "2. Categorical Crossentropy Loss:\n",
    "The Categorical crossentropy loss function is used to compute loss between true labels and predicted labels.\n",
    "\n",
    "It’s mainly used for ***multiclass classification*** problems. For example Image classification of animal-like cat, dog, elephant, horse, and human."
   ]
  },
  {
   "cell_type": "code",
   "execution_count": 16,
   "id": "invalid-rochester",
   "metadata": {},
   "outputs": [],
   "source": [
    "# y_train = [[0, 1, 0, 0],\n",
    "#            [0, 0, 1, 0],\n",
    "\n",
    "#y_pred = [[0.05, 0.95, 0.56], \n",
    "#          [0.1, 0.4, 0.1]]"
   ]
  },
  {
   "cell_type": "markdown",
   "id": "qualified-tourism",
   "metadata": {},
   "source": [
    "3. Sparse Categorical Crossentropy Loss:\n",
    "\n",
    "It is also used in ***multiclass classification*** problem. similarly to categorical crossentropy. But there is one minor difference, between categorical crossentropy and sparse categorical crossentropy that’s in sparse categorical cross-entropy labels are expected to be provided in integers."
   ]
  },
  {
   "cell_type": "code",
   "execution_count": 17,
   "id": "fallen-sudan",
   "metadata": {},
   "outputs": [],
   "source": [
    "# y_train = [1, \n",
    "##             2, \n",
    " #            3,\n",
    " #            7]"
   ]
  },
  {
   "cell_type": "markdown",
   "id": "specified-vegetable",
   "metadata": {},
   "source": [
    "### Multiclass classification:\n",
    "    * ***one-hot*** encoding  : use loss='categorical_crossentropy'\n",
    "    * numerical encoding: use loss='sparse_categorical_crossentropy'"
   ]
  },
  {
   "cell_type": "markdown",
   "id": "nervous-location",
   "metadata": {},
   "source": [
    "<table><tr>\n",
    "<td> <img src=\"imgs/one_hot_vs_numerical.png\" width=\"200\" /> </td>\n",
    "</tr></table>"
   ]
  },
  {
   "cell_type": "markdown",
   "id": "acting-folder",
   "metadata": {},
   "source": [
    "### We can convert numerical encoding to one-hot encoding, for example using numpy"
   ]
  },
  {
   "cell_type": "code",
   "execution_count": 18,
   "id": "provincial-sailing",
   "metadata": {},
   "outputs": [],
   "source": [
    "a = np.array([1, 0, 3])\n",
    "b = np.zeros((a.size, a.max()+1))\n",
    "b[np.arange(a.size),a] = 1"
   ]
  },
  {
   "cell_type": "code",
   "execution_count": 19,
   "id": "killing-glenn",
   "metadata": {},
   "outputs": [
    {
     "data": {
      "text/plain": [
       "array([1, 0, 3])"
      ]
     },
     "execution_count": 19,
     "metadata": {},
     "output_type": "execute_result"
    }
   ],
   "source": [
    "a"
   ]
  },
  {
   "cell_type": "code",
   "execution_count": 20,
   "id": "cultural-galaxy",
   "metadata": {},
   "outputs": [
    {
     "data": {
      "text/plain": [
       "array([[0., 1., 0., 0.],\n",
       "       [1., 0., 0., 0.],\n",
       "       [0., 0., 0., 1.]])"
      ]
     },
     "execution_count": 20,
     "metadata": {},
     "output_type": "execute_result"
    }
   ],
   "source": [
    "b"
   ]
  },
  {
   "cell_type": "markdown",
   "id": "destroyed-relation",
   "metadata": {},
   "source": [
    "## For mnist would be:"
   ]
  },
  {
   "cell_type": "code",
   "execution_count": null,
   "id": "catholic-chinese",
   "metadata": {},
   "outputs": [],
   "source": []
  },
  {
   "cell_type": "code",
   "execution_count": 21,
   "id": "conceptual-popularity",
   "metadata": {},
   "outputs": [],
   "source": [
    "y_train_one_hot = np.zeros((y_train.size, y_train.max()+1))\n",
    "y_train_one_hot[np.arange(y_train.size),y_train] = 1"
   ]
  },
  {
   "cell_type": "code",
   "execution_count": 22,
   "id": "partial-toyota",
   "metadata": {},
   "outputs": [
    {
     "data": {
      "text/plain": [
       "array([1, 4, 6, ..., 7, 6, 6])"
      ]
     },
     "execution_count": 22,
     "metadata": {},
     "output_type": "execute_result"
    }
   ],
   "source": [
    "y_train"
   ]
  },
  {
   "cell_type": "code",
   "execution_count": 23,
   "id": "polyphonic-darkness",
   "metadata": {},
   "outputs": [
    {
     "data": {
      "text/plain": [
       "array([[0., 1., 0., ..., 0., 0., 0.],\n",
       "       [0., 0., 0., ..., 0., 0., 0.],\n",
       "       [0., 0., 0., ..., 0., 0., 0.],\n",
       "       ...,\n",
       "       [0., 0., 0., ..., 1., 0., 0.],\n",
       "       [0., 0., 0., ..., 0., 0., 0.],\n",
       "       [0., 0., 0., ..., 0., 0., 0.]])"
      ]
     },
     "execution_count": 23,
     "metadata": {},
     "output_type": "execute_result"
    }
   ],
   "source": [
    "y_train_one_hot"
   ]
  },
  {
   "cell_type": "code",
   "execution_count": 24,
   "id": "graphic-asian",
   "metadata": {},
   "outputs": [
    {
     "name": "stdout",
     "output_type": "stream",
     "text": [
      "[1 0 3]\n"
     ]
    }
   ],
   "source": [
    "print(a)"
   ]
  },
  {
   "cell_type": "code",
   "execution_count": 25,
   "id": "reasonable-greece",
   "metadata": {},
   "outputs": [
    {
     "name": "stdout",
     "output_type": "stream",
     "text": [
      "[[0. 1. 0. 0.]\n",
      " [1. 0. 0. 0.]\n",
      " [0. 0. 0. 1.]]\n"
     ]
    }
   ],
   "source": [
    "print(b)"
   ]
  },
  {
   "cell_type": "code",
   "execution_count": 26,
   "id": "substantial-savings",
   "metadata": {},
   "outputs": [
    {
     "name": "stdout",
     "output_type": "stream",
     "text": [
      "[1 4 6 ... 7 6 6]\n"
     ]
    }
   ],
   "source": [
    "print(y_train)"
   ]
  },
  {
   "cell_type": "markdown",
   "id": "public-proceeding",
   "metadata": {},
   "source": [
    "### We can convert numerical encoding to one-hot encoding, for example using TensorFlow"
   ]
  },
  {
   "cell_type": "code",
   "execution_count": 27,
   "id": "nonprofit-tackle",
   "metadata": {},
   "outputs": [],
   "source": [
    "from keras.utils.np_utils import to_categorical   \n",
    "y_train_tf_one_hot = to_categorical(y_train, num_classes=10)"
   ]
  },
  {
   "cell_type": "code",
   "execution_count": 28,
   "id": "insured-earthquake",
   "metadata": {},
   "outputs": [
    {
     "data": {
      "text/plain": [
       "array([[0., 1., 0., ..., 0., 0., 0.],\n",
       "       [0., 0., 0., ..., 0., 0., 0.],\n",
       "       [0., 0., 0., ..., 0., 0., 0.],\n",
       "       ...,\n",
       "       [0., 0., 0., ..., 1., 0., 0.],\n",
       "       [0., 0., 0., ..., 0., 0., 0.],\n",
       "       [0., 0., 0., ..., 0., 0., 0.]], dtype=float32)"
      ]
     },
     "execution_count": 28,
     "metadata": {},
     "output_type": "execute_result"
    }
   ],
   "source": [
    "y_train_tf_one_hot"
   ]
  },
  {
   "cell_type": "markdown",
   "id": "alert-south",
   "metadata": {},
   "source": [
    "#### Tweaking extra parameters in the model.compile\n",
    "we can compile the model in a simple way and in an advance way (setting more parameters like learning rate)"
   ]
  },
  {
   "cell_type": "code",
   "execution_count": 29,
   "id": "ethical-belfast",
   "metadata": {},
   "outputs": [],
   "source": [
    "model.compile(optimizer='adam',\n",
    "              loss='sparse_categorical_crossentropy',\n",
    "              metrics=['accuracy'])"
   ]
  },
  {
   "cell_type": "code",
   "execution_count": 30,
   "id": "emerging-worker",
   "metadata": {},
   "outputs": [],
   "source": [
    "model.compile(optimizer=tf.keras.optimizers.Adam(learning_rate=0.001),\n",
    "              loss='sparse_categorical_crossentropy',\n",
    "              metrics=['accuracy'])"
   ]
  },
  {
   "cell_type": "markdown",
   "id": "buried-croatia",
   "metadata": {},
   "source": [
    "## Finally for compiling also use functions"
   ]
  },
  {
   "cell_type": "code",
   "execution_count": 31,
   "id": "still-musical",
   "metadata": {},
   "outputs": [],
   "source": [
    "def compile_model(model):\n",
    "        model.compile(optimizer=tf.keras.optimizers.Adam(learning_rate=0.001),\n",
    "              loss='sparse_categorical_crossentropy',\n",
    "              metrics=['accuracy'])"
   ]
  },
  {
   "cell_type": "code",
   "execution_count": 32,
   "id": "private-testament",
   "metadata": {},
   "outputs": [],
   "source": [
    "compile_model(model)"
   ]
  },
  {
   "cell_type": "markdown",
   "id": "fifth-throat",
   "metadata": {},
   "source": [
    "### Fitting (training) the model with given parameters\n",
    "* accepts X_train,y_train \n",
    "* can automatically split data into evaluation subset using `validation_split option`\n",
    "* epochs - number of passes through the data (remember gradient descent)\n",
    "* batch_size like a size of a package (default is 32)\n",
    "* verbose - to visualize the progress\n",
    "  * verbose=1 - long output with progress\n",
    "  * verbose=2 - short output without progress \n",
    "  * verbose=False  - no output"
   ]
  },
  {
   "cell_type": "code",
   "execution_count": 33,
   "id": "laughing-volume",
   "metadata": {},
   "outputs": [
    {
     "name": "stdout",
     "output_type": "stream",
     "text": [
      "Epoch 1/10\n",
      "254/254 - 1s - loss: 5.2123 - accuracy: 0.2195 - val_loss: 2.0591 - val_accuracy: 0.2478\n",
      "Epoch 2/10\n",
      "254/254 - 0s - loss: 1.8810 - accuracy: 0.3632 - val_loss: 1.7689 - val_accuracy: 0.4278\n",
      "Epoch 3/10\n",
      "254/254 - 0s - loss: 1.5802 - accuracy: 0.4662 - val_loss: 1.5552 - val_accuracy: 0.4911\n",
      "Epoch 4/10\n",
      "254/254 - 0s - loss: 1.3651 - accuracy: 0.5289 - val_loss: 1.3724 - val_accuracy: 0.5722\n",
      "Epoch 5/10\n",
      "254/254 - 0s - loss: 1.2774 - accuracy: 0.5591 - val_loss: 1.2186 - val_accuracy: 0.5833\n",
      "Epoch 6/10\n",
      "254/254 - 0s - loss: 1.1492 - accuracy: 0.6048 - val_loss: 1.1827 - val_accuracy: 0.6567\n",
      "Epoch 7/10\n",
      "254/254 - 0s - loss: 1.0202 - accuracy: 0.6486 - val_loss: 1.3418 - val_accuracy: 0.6711\n",
      "Epoch 8/10\n",
      "254/254 - 0s - loss: 0.9514 - accuracy: 0.6726 - val_loss: 0.9486 - val_accuracy: 0.7200\n",
      "Epoch 9/10\n",
      "254/254 - 0s - loss: 0.8596 - accuracy: 0.7089 - val_loss: 1.0043 - val_accuracy: 0.7400\n",
      "Epoch 10/10\n",
      "254/254 - 0s - loss: 0.8101 - accuracy: 0.7309 - val_loss: 1.1607 - val_accuracy: 0.7744\n"
     ]
    }
   ],
   "source": [
    "epochs=10\n",
    "myhistory=model.fit(X_train, y_train,  epochs=epochs, batch_size=32, validation_split=0.1, verbose=2)"
   ]
  },
  {
   "cell_type": "markdown",
   "id": "flying-bridal",
   "metadata": {},
   "source": []
  },
  {
   "cell_type": "markdown",
   "id": "dominant-heart",
   "metadata": {},
   "source": [
    "# History is to visualize the process of the learning (is a dictionary )\n",
    "* we give the object arbitrary name\n",
    "* we can check the keys myhistory.history.keys()"
   ]
  },
  {
   "cell_type": "code",
   "execution_count": 34,
   "id": "overall-packing",
   "metadata": {},
   "outputs": [
    {
     "name": "stdout",
     "output_type": "stream",
     "text": [
      "dict_keys(['loss', 'accuracy', 'val_loss', 'val_accuracy'])\n"
     ]
    }
   ],
   "source": [
    "print(myhistory.history.keys())"
   ]
  },
  {
   "cell_type": "code",
   "execution_count": 35,
   "id": "varied-people",
   "metadata": {},
   "outputs": [
    {
     "data": {
      "text/plain": [
       "<matplotlib.legend.Legend at 0x7f2166eb9748>"
      ]
     },
     "execution_count": 35,
     "metadata": {},
     "output_type": "execute_result"
    },
    {
     "data": {
      "image/png": "[encoded data removed]",
      "text/plain": [
       "<Figure size 432x288 with 1 Axes>"
      ]
     },
     "metadata": {
      "needs_background": "light"
     },
     "output_type": "display_data"
    }
   ],
   "source": [
    "import matplotlib.pyplot as plt\n",
    "xvals=range(epochs)\n",
    "fig,ax=plt.subplots(1,1)\n",
    "ax.plot(xvals, myhistory.history['val_accuracy'],label='validation set accuracy')\n",
    "ax.plot(xvals, myhistory.history['accuracy'],label='train set accuracy')\n",
    "ax.set_xlabel('epochs')\n",
    "ax.set_ylabel('accuracy')\n",
    "ax.legend()"
   ]
  },
  {
   "cell_type": "code",
   "execution_count": 36,
   "id": "banned-perception",
   "metadata": {},
   "outputs": [
    {
     "data": {
      "text/plain": [
       "<matplotlib.legend.Legend at 0x7f2166e1c828>"
      ]
     },
     "execution_count": 36,
     "metadata": {},
     "output_type": "execute_result"
    },
    {
     "data": {
      "image/png": "[encoded data removed]",
      "text/plain": [
       "<Figure size 432x288 with 1 Axes>"
      ]
     },
     "metadata": {
      "needs_background": "light"
     },
     "output_type": "display_data"
    }
   ],
   "source": [
    "import matplotlib.pyplot as plt\n",
    "xvals=range(epochs)\n",
    "fig,ax=plt.subplots(1,1)\n",
    "ax.plot(xvals, myhistory.history['val_loss'],label='validation set loss')\n",
    "ax.plot(xvals, myhistory.history['loss'],label='train set loss')\n",
    "ax.set_xlabel('epochs')\n",
    "ax.set_ylabel('loss')\n",
    "ax.legend()\n"
   ]
  },
  {
   "cell_type": "markdown",
   "id": "suspected-processor",
   "metadata": {},
   "source": [
    "#### from the graphs above one can conclude at least two things:\n",
    "* both validation and training show similar trend, so probably no overfitting \n",
    "* both validation and training sets havent reached minimimum so I can increase number of epochs "
   ]
  },
  {
   "cell_type": "markdown",
   "id": "turned-magazine",
   "metadata": {},
   "source": [
    "# Evaluate the model\n",
    "* model.evaluate will return the loss and accuracy in percentage\n",
    "* we can also evaluate the model before training"
   ]
  },
  {
   "cell_type": "code",
   "execution_count": 37,
   "id": "traditional-multiple",
   "metadata": {},
   "outputs": [
    {
     "name": "stdout",
     "output_type": "stream",
     "text": [
      "32/32 [==============================] - 0s 1ms/step - loss: 1.1071 - accuracy: 0.7630\n",
      "0.7630000114440918\n"
     ]
    }
   ],
   "source": [
    "loss, accuracy=model.evaluate(X_test, y_test)\n",
    "print(accuracy)"
   ]
  },
  {
   "cell_type": "code",
   "execution_count": 38,
   "id": "comprehensive-honolulu",
   "metadata": {},
   "outputs": [
    {
     "data": {
      "text/plain": [
       "0.7630000114440918"
      ]
     },
     "execution_count": 38,
     "metadata": {},
     "output_type": "execute_result"
    }
   ],
   "source": [
    "accuracy"
   ]
  },
  {
   "cell_type": "markdown",
   "id": "brave-sally",
   "metadata": {},
   "source": [
    "## We can also compare it with untrained model"
   ]
  },
  {
   "cell_type": "code",
   "execution_count": 39,
   "id": "recreational-participation",
   "metadata": {},
   "outputs": [],
   "source": [
    "untrained_model=get_model(X_train[0].shape)"
   ]
  },
  {
   "cell_type": "code",
   "execution_count": 40,
   "id": "acquired-geometry",
   "metadata": {},
   "outputs": [],
   "source": [
    "compile_model(untrained_model)"
   ]
  },
  {
   "cell_type": "code",
   "execution_count": 41,
   "id": "biblical-bunch",
   "metadata": {},
   "outputs": [
    {
     "name": "stdout",
     "output_type": "stream",
     "text": [
      "282/282 [==============================] - 0s 922us/step - loss: 113.3432 - accuracy: 0.1433\n",
      "0.1433333307504654\n"
     ]
    }
   ],
   "source": [
    "loss_untrained,accuracy_untrained=untrained_model.evaluate(X_train, y_train)\n",
    "print(accuracy_untrained)"
   ]
  },
  {
   "cell_type": "code",
   "execution_count": null,
   "id": "universal-activity",
   "metadata": {},
   "outputs": [],
   "source": []
  },
  {
   "cell_type": "markdown",
   "id": "encouraging-earth",
   "metadata": {},
   "source": [
    "## Predict (check the model state of training)\n",
    "`pred = model.predict()`\n",
    "* remember the size of the sample that you want to predict must have the same dimension like trainging data\n",
    "* accepts slices of data. Use X_test for prediction"
   ]
  },
  {
   "cell_type": "markdown",
   "id": "military-accommodation",
   "metadata": {},
   "source": [
    "Imagine you want to predict single digit:\n",
    "Should you use:\n",
    "    \n",
    "* X_test[0]\n",
    "* X_test[0:1]\n",
    "\n",
    "???"
   ]
  },
  {
   "cell_type": "code",
   "execution_count": 42,
   "id": "little-garage",
   "metadata": {},
   "outputs": [
    {
     "name": "stdout",
     "output_type": "stream",
     "text": [
      "(9000, 784)\n"
     ]
    }
   ],
   "source": [
    "print(X_train.shape)"
   ]
  },
  {
   "cell_type": "code",
   "execution_count": 43,
   "id": "every-wells",
   "metadata": {},
   "outputs": [
    {
     "name": "stdout",
     "output_type": "stream",
     "text": [
      "(1000, 784)\n"
     ]
    }
   ],
   "source": [
    "print(X_test.shape)"
   ]
  },
  {
   "cell_type": "code",
   "execution_count": 44,
   "id": "assumed-apparel",
   "metadata": {},
   "outputs": [
    {
     "name": "stdout",
     "output_type": "stream",
     "text": [
      "(784,)\n"
     ]
    }
   ],
   "source": [
    "print(X_test[0].shape) # this will prduce error"
   ]
  },
  {
   "cell_type": "code",
   "execution_count": 45,
   "id": "meaning-witness",
   "metadata": {},
   "outputs": [
    {
     "name": "stdout",
     "output_type": "stream",
     "text": [
      "(1, 784)\n"
     ]
    }
   ],
   "source": [
    "print(X_test[0:1].shape) # correct has same dimension (only different number of smaples)"
   ]
  },
  {
   "cell_type": "code",
   "execution_count": 46,
   "id": "available-black",
   "metadata": {},
   "outputs": [
    {
     "name": "stdout",
     "output_type": "stream",
     "text": [
      "[[0.05220655 0.03153115 0.04760565 0.13938017 0.08168406 0.23006758\n",
      "  0.04006599 0.02865542 0.248041   0.10076244]]\n"
     ]
    }
   ],
   "source": [
    "pred = model.predict(X_test[100:101,:])\n",
    "print(pred)"
   ]
  },
  {
   "cell_type": "code",
   "execution_count": 47,
   "id": "early-pulse",
   "metadata": {},
   "outputs": [
    {
     "data": {
      "text/plain": [
       "array([5])"
      ]
     },
     "execution_count": 47,
     "metadata": {},
     "output_type": "execute_result"
    }
   ],
   "source": [
    "y_test[100:101]"
   ]
  },
  {
   "cell_type": "code",
   "execution_count": 48,
   "id": "motivated-buying",
   "metadata": {},
   "outputs": [
    {
     "data": {
      "text/plain": [
       "8"
      ]
     },
     "execution_count": 48,
     "metadata": {},
     "output_type": "execute_result"
    }
   ],
   "source": [
    "np.argmax(pred)"
   ]
  },
  {
   "cell_type": "markdown",
   "id": "insured-education",
   "metadata": {},
   "source": [
    "# MNIST using Tensorflow dataset"
   ]
  },
  {
   "cell_type": "markdown",
   "id": "steady-fruit",
   "metadata": {},
   "source": [
    "https://www.cs.ryerson.ca/~aharley/vis/conv/"
   ]
  },
  {
   "cell_type": "code",
   "execution_count": 49,
   "id": "involved-database",
   "metadata": {},
   "outputs": [],
   "source": [
    "#(X_train, y_train), (X_test, y_test) = tf.keras.datasets.mnist.load_data()#"
   ]
  },
  {
   "cell_type": "code",
   "execution_count": 50,
   "id": "opened-congo",
   "metadata": {},
   "outputs": [
    {
     "data": {
      "text/plain": [
       "numpy.ndarray"
      ]
     },
     "execution_count": 50,
     "metadata": {},
     "output_type": "execute_result"
    }
   ],
   "source": [
    "type(X_train)"
   ]
  },
  {
   "cell_type": "code",
   "execution_count": 51,
   "id": "original-virtue",
   "metadata": {},
   "outputs": [
    {
     "data": {
      "text/plain": [
       "(9000, 784)"
      ]
     },
     "execution_count": 51,
     "metadata": {},
     "output_type": "execute_result"
    }
   ],
   "source": [
    "X_train.shape"
   ]
  },
  {
   "cell_type": "markdown",
   "id": "bigger-cancer",
   "metadata": {},
   "source": [
    "# Homework 6\n",
    "* classify mnist_test.csv dataset\n",
    "* what is the highest validation set accuracy you get (95%...?)\n",
    "  * consider normalizing the data\n",
    "  * changing optimizer (sgd,rmsprop,adam)...\n",
    "  * number of epochs\n",
    "  * structure of the Neural Network (number of neurons)\n",
    "  * you can convert the labels to one-hot\n",
    "* remember to fix the randomizer (maybe with the same number as I have here for comparison)"
   ]
  },
  {
   "cell_type": "code",
   "execution_count": null,
   "id": "widespread-navigator",
   "metadata": {},
   "outputs": [],
   "source": []
  }
 ],
 "metadata": {
  "kernelspec": {
   "display_name": "Python 3",
   "language": "python",
   "name": "python3"
  },
  "language_info": {
   "codemirror_mode": {
    "name": "ipython",
    "version": 3
   },
   "file_extension": ".py",
   "mimetype": "text/x-python",
   "name": "python",
   "nbconvert_exporter": "python",
   "pygments_lexer": "ipython3",
   "version": "3.7.2"
  }
 },
 "nbformat": 4,
 "nbformat_minor": 5
}
