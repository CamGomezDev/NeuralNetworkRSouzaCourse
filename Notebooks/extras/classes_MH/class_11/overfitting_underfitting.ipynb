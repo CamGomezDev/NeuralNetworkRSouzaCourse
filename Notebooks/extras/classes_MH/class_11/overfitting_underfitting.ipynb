{
 "cells": [
  {
   "cell_type": "markdown",
   "id": "resistant-comfort",
   "metadata": {},
   "source": [
    "## Modelado de datos con Redes Neuronales \n",
    "#### Topic: Overfitting, Underfitting\n",
    "\n",
    "* when training neural network using tensorflow one will have to look at the loss fuction of the training data and so called validation data and its important to understand what is happening\n",
    "* there will also be option called regularization\n",
    "* now we will try to understand what are those two things and how to use them"
   ]
  },
  {
   "cell_type": "markdown",
   "id": "serial-milwaukee",
   "metadata": {},
   "source": [
    "## Polynomial Regression:\n",
    "#### In case of linear regression:\n",
    "\n",
    "Sometimes, the trend of data is not really linear, and looks curvy. In this case we can use Polynomial regression methods. In fact, many different regressions exist that can be used to fit whatever the dataset looks like, such as quadratic, cubic, and so on, and it can go on and on to infinite degrees.\n",
    "\n",
    "In essence, we can call all of these, polynomial regression, where the relationship between the independent variable x and the dependent variable y is modeled as an nth degree polynomial in x. Lets say you want to have a polynomial regression (let's make 2 degree polynomial):\n",
    "\n",
    "$h_{\\theta}(x)=\\theta_0+\\theta_1x +\\theta_2x^2 $\n",
    "\n",
    "Now, the question is: how we can fit our data on this equation while we have only x values, such as **Engine Size**?\n",
    "Well, we can create a few additional features: 1, $x$, and $x^2$.\n",
    "\n",
    "**PolynomialFeatures()** function in Scikit-learn library, drives a new feature sets from the original feature set. That is, a matrix will be generated consisting of all polynomial combinations of the features with degree less than or equal to the specified degree. For example, lets say the original feature set has only one feature, *ENGINESIZE*. Now, if we select the degree of the polynomial to be 2, then it generates 3 features, degree=0, degree=1 and degree=2:"
   ]
  },
  {
   "cell_type": "code",
   "execution_count": 6,
   "id": "civic-barrel",
   "metadata": {},
   "outputs": [
    {
     "data": {
      "text/plain": [
       "array([[ 1.  ,  2.  ,  4.  ],\n",
       "       [ 1.  ,  2.4 ,  5.76],\n",
       "       [ 1.  ,  1.5 ,  2.25],\n",
       "       ...,\n",
       "       [ 1.  ,  3.  ,  9.  ],\n",
       "       [ 1.  ,  3.2 , 10.24],\n",
       "       [ 1.  ,  3.2 , 10.24]])"
      ]
     },
     "execution_count": 6,
     "metadata": {},
     "output_type": "execute_result"
    }
   ],
   "source": [
    "import numpy as np\n",
    "from sklearn.preprocessing import PolynomialFeatures\n",
    "from sklearn import linear_model\n",
    "import pandas as pd\n",
    "df = pd.read_csv(\"FuelConsumption.csv\")\n",
    "\n",
    "cdf = df[['ENGINESIZE','CYLINDERS','FUELCONSUMPTION_COMB','CO2EMISSIONS']]\n",
    "cdf.head(9)\n",
    "\n",
    "msk = np.random.rand(len(df)) < 0.8\n",
    "train = cdf[msk]\n",
    "test = cdf[~msk]\n",
    "\n",
    "train_x = np.asanyarray(train[['ENGINESIZE']])\n",
    "train_y = np.asanyarray(train[['CO2EMISSIONS']])\n",
    "\n",
    "test_x = np.asanyarray(test[['ENGINESIZE']])\n",
    "test_y = np.asanyarray(test[['CO2EMISSIONS']])\n",
    "\n",
    "poly = PolynomialFeatures(degree=2)\n",
    "train_x_poly = poly.fit_transform(train_x)\n",
    "train_x_poly"
   ]
  },
  {
   "cell_type": "code",
   "execution_count": 7,
   "id": "challenging-excess",
   "metadata": {},
   "outputs": [
    {
     "name": "stdout",
     "output_type": "stream",
     "text": [
      "Coefficients:  [[ 0.         48.84816808 -1.26208262]]\n",
      "Intercept:  [109.63636048]\n"
     ]
    }
   ],
   "source": [
    "clf = linear_model.LinearRegression()\n",
    "train_y_ = clf.fit(train_x_poly, train_y)\n",
    "# The coefficients\n",
    "print ('Coefficients: ', clf.coef_)\n",
    "print ('Intercept: ',clf.intercept_)"
   ]
  },
  {
   "cell_type": "code",
   "execution_count": 8,
   "id": "selected-wholesale",
   "metadata": {},
   "outputs": [
    {
     "data": {
      "text/plain": [
       "Text(0, 0.5, 'Emission')"
      ]
     },
     "execution_count": 8,
     "metadata": {},
     "output_type": "execute_result"
    },
    {
     "data": {
      "image/png": "[encoded data removed]",
      "text/plain": [
       "<Figure size 432x288 with 1 Axes>"
      ]
     },
     "metadata": {
      "needs_background": "light"
     },
     "output_type": "display_data"
    }
   ],
   "source": [
    "import matplotlib.pyplot as plt\n",
    "plt.scatter(train.ENGINESIZE, train.CO2EMISSIONS,  color='blue')\n",
    "XX = np.arange(0.0, 10.0, 0.1)\n",
    "yy = clf.intercept_[0]+ clf.coef_[0][1]*XX+ clf.coef_[0][2]*np.power(XX, 2)\n",
    "plt.plot(XX, yy, '-r' )\n",
    "plt.xlabel(\"Engine size\")\n",
    "plt.ylabel(\"Emission\")"
   ]
  },
  {
   "cell_type": "markdown",
   "id": "mysterious-elephant",
   "metadata": {},
   "source": [
    "In the above situation (a bit exagerated) we can have three cases:"
   ]
  },
  {
   "cell_type": "markdown",
   "id": "assured-jimmy",
   "metadata": {},
   "source": [
    "#### a) underfit\n",
    "* if we fit the data with a polynomial too simple for the curent situation\n",
    "$$h_{\\theta}(x)=\\theta_0+\\theta_1x_1$$\n",
    "(straight line)\n",
    "\n",
    "<img src=\"imgs/underfit.png\" width=\"200\" />\n",
    "\n",
    "* this is called underfit\n",
    "\n",
    "***high bias ***\n"
   ]
  },
  {
   "cell_type": "markdown",
   "id": "oriental-potato",
   "metadata": {},
   "source": [
    "#### b) just right\n",
    "* if we fit the data with a right polynomial \n",
    "$$h_{\\theta}(x)=\\theta_0+\\theta_1x_1 +\\theta_2x_2^2 $$\n",
    "\n",
    "<img src=\"imgs/just_right.png\" width=\"200\" />\n",
    "\n",
    "***just right ***"
   ]
  },
  {
   "cell_type": "markdown",
   "id": "cheap-arlington",
   "metadata": {},
   "source": [
    "#### c) overfit\n",
    "* * if we fit the data with a polynomial too complex for the curent situation\n",
    "$$h_{\\theta}(x)=\\theta_0+\\theta_1x_1 +\\theta_2 x_2^2 +\\theta_3x_3^3 +\\theta_4x_4^4 $$\n",
    "\n",
    "<img src=\"imgs/overfit.png\" width=\"200\" />\n",
    "* overfitting\n",
    "\n",
    "\n",
    "***high variance***"
   ]
  },
  {
   "cell_type": "markdown",
   "id": "substantial-developer",
   "metadata": {},
   "source": [
    "## In case of logistic regression:"
   ]
  },
  {
   "cell_type": "markdown",
   "id": "ordinary-mining",
   "metadata": {},
   "source": [
    "#### a) logistic underfit\n",
    "* if we fit the data with a polynomial too simple for the curent situation\n",
    "$$h_{\\theta}(x)=g(\\theta_0+\\theta_1 x_1)$$\n",
    "where g is the sigmoid function\n",
    "\n",
    "<img src=\"imgs/logistic_underfit.png\" width=\"200\" />\n",
    "\n",
    "* this is called underfit\n",
    "\n",
    "***high bias ***"
   ]
  },
  {
   "cell_type": "markdown",
   "id": "desperate-eligibility",
   "metadata": {},
   "source": [
    "#### b) logistic just right\n",
    "* if we fit the data with a right polynomial \n",
    "$$h_{\\theta}(x)=g(\\theta_0+\\theta_1 x_1 + \\theta_2 x_2^2 + \\theta_3x_3^3 + \\theta_4x_4^4 + \\theta_5x_1x_2)$$\n",
    "where g is the sigmoid function\n",
    "\n",
    "<img src=\"imgs/logistic_just_right.png\" width=\"200\" />\n",
    "\n",
    "***just right ***"
   ]
  },
  {
   "cell_type": "markdown",
   "id": "minus-strength",
   "metadata": {},
   "source": [
    "#### c) logistic overfit\n",
    "* * if we fit the data with a polynomial too complex for the curent situation\n",
    "$$h_{\\theta}(x)=g(\\theta_0+\\theta_1x_1 +\\theta_2 x_2^2 +\\theta_3x_1^2x_2 + \\theta_4x_1^2x_2^2 + \\theta_4x_1^2x_2^3  + \\theta_5x_1^3x_2  ... )$$\n",
    "\n",
    "<img src=\"imgs/logistic_overfit.png\" width=\"200\" />\n",
    "* overfitting\n",
    "\n",
    "\n",
    "***high variance***"
   ]
  },
  {
   "cell_type": "markdown",
   "id": "collected-impossible",
   "metadata": {},
   "source": [
    "### How to deal with overfitting\n",
    "\n",
    "1. Reduce number of features (eg in the case of the CO2 emission of the car or price houses)\n",
    "* Manually select which features to keep\n",
    "* Model selection algorithm (later).\n",
    "  * PCA - Principal Component Analysis\n",
    "  * Correlation Matrix\n",
    "  * Autoencoders\n",
    "\n",
    "2. Regularization.\n",
    "* Keep all the features, but reduce magnitude/values of parameters ."
   ]
  },
  {
   "cell_type": "markdown",
   "id": "skilled-arbitration",
   "metadata": {},
   "source": [
    "### But how to detect overfitting\n",
    "* answer: cross-validation or validation\n",
    "* but how can this help?"
   ]
  },
  {
   "cell_type": "markdown",
   "id": "protected-paste",
   "metadata": {},
   "source": [
    "So far we have been splitting our dataset into \n",
    "* training set (X_train,y_train)\n",
    "* testing set (X_test,y_test)\n",
    "\n",
    "using sklearn package:"
   ]
  },
  {
   "cell_type": "code",
   "execution_count": 4,
   "id": "operating-young",
   "metadata": {},
   "outputs": [],
   "source": [
    "#from sklearn.model_selection import train_test_split\n",
    "#X_train, X_test, y_train, y_test = train_test_split(X_data,y_data,test_size = 0.2)"
   ]
  },
  {
   "cell_type": "markdown",
   "id": "impossible-secretariat",
   "metadata": {},
   "source": [
    "### data sets during machine learning process:\n",
    "* training set - was to traing the algorithm\n",
    "* testing set - was to check how well we train the model\n",
    "\n",
    "but we need one more set called \n",
    "* cross-validation or validation set - to validate the training"
   ]
  },
  {
   "cell_type": "code",
   "execution_count": 5,
   "id": "induced-blond",
   "metadata": {},
   "outputs": [],
   "source": [
    "# X_train, X_test, y_train, y_test = train_test_split(X_data, y_data, test_size=0.2, random_state=1)\n",
    "# X_train, X_val, y_train, y_val  = train_test_split(X_train, y_train, test_size=0.25, random_state=1) # 0.25 x 0.8 = 0.2"
   ]
  },
  {
   "cell_type": "markdown",
   "id": "lightweight-regular",
   "metadata": {},
   "source": [
    "1) after the first command (100 total elements):\n",
    "* train set contains 80% of the data (80 elements)\n",
    "* test set contains 20% of the data (20 element)\n",
    "\n",
    "1) after the second command:\n",
    "* test set still contains 20% of the data (20 elements)\n",
    "* validation set contains 20% of the 80% of the data (20 elements)\n",
    "* training set contains 80% of the 80% of the data (60 elements)"
   ]
  },
  {
   "cell_type": "markdown",
   "id": "lesbian-requirement",
   "metadata": {},
   "source": [
    "*** *we still need the test set because the algorithm can see the validation set during training***"
   ]
  },
  {
   "cell_type": "markdown",
   "id": "twenty-details",
   "metadata": {},
   "source": [
    "## Lets look at the data that we used to test the linear regression model (you used this data to test your gradient descent algorithm)\n"
   ]
  },
  {
   "cell_type": "markdown",
   "id": "irish-columbus",
   "metadata": {},
   "source": [
    "## 1 using only training data\n",
    "* we choose a polynomial and look at loss function of the training set\n",
    "* during the training the loss function must go down"
   ]
  },
  {
   "cell_type": "markdown",
   "id": "micro-reducing",
   "metadata": {},
   "source": [
    "## 2 using training data and validation data\n",
    "\n",
    "* good model must generalize \n",
    "* we split the data lets say 50/50 \n",
    "* we choose a polynomial and look at loss function of the training set\n",
    "* during the training the loss function must go down\n",
    "\n",
    "* at the same model that is being trained using training data should also be fitting well the validation data (its the same set of data just splitted)\n",
    "\n",
    "  * if the polynomial is just right it will fit well  \n",
    "    the training data and the validation data, for both sets the loss function should go down\n",
    "    \n",
    "  * if the polynomial is too complicated it will fit well only \n",
    "    the training data so during the training the loss function will go     down (complicated polynomial is trying to minimize to the training points) but the validation points are different points so the same complicated polynomial will not be good for different points anymore"
   ]
  },
  {
   "cell_type": "markdown",
   "id": "civic-clock",
   "metadata": {},
   "source": [
    "# 2. Regularization"
   ]
  }
 ],
 "metadata": {
  "kernelspec": {
   "display_name": "Python 3",
   "language": "python",
   "name": "python3"
  },
  "language_info": {
   "codemirror_mode": {
    "name": "ipython",
    "version": 3
   },
   "file_extension": ".py",
   "mimetype": "text/x-python",
   "name": "python",
   "nbconvert_exporter": "python",
   "pygments_lexer": "ipython3",
   "version": "3.7.2"
  }
 },
 "nbformat": 4,
 "nbformat_minor": 5
}
