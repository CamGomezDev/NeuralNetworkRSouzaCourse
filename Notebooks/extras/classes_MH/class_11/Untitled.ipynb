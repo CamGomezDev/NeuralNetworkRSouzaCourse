{
 "cells": [
  {
   "cell_type": "markdown",
   "id": "superb-limit",
   "metadata": {},
   "source": [
    "## Overfitting and Regularization and"
   ]
  },
  {
   "cell_type": "markdown",
   "id": "stable-culture",
   "metadata": {},
   "source": [
    "Simple case linear regression"
   ]
  },
  {
   "cell_type": "markdown",
   "id": "alien-reminder",
   "metadata": {},
   "source": [
    "Cost function"
   ]
  },
  {
   "cell_type": "markdown",
   "id": "premier-forge",
   "metadata": {},
   "source": [
    "$$J(\\theta_0,\\theta_1,\\theta_2,,\\theta_3...) = \\frac{1}{m} \\sum_{i=1}^{m}[ h_{\\theta}(x_i) - y_i]^2 $$"
   ]
  },
  {
   "cell_type": "markdown",
   "id": "primary-hollow",
   "metadata": {},
   "source": [
    "Gradient descent"
   ]
  },
  {
   "cell_type": "markdown",
   "id": "blind-england",
   "metadata": {},
   "source": [
    "$$\\theta_0:=\\theta_0 - \\alpha \\frac{d}{d\\theta_0}J(\\theta_0,\\theta_1)$$\n",
    "$$\\theta_1:=\\theta_1 - \\alpha \\frac{d}{d\\theta_1}J(\\theta_0,\\theta_1)$$"
   ]
  },
  {
   "cell_type": "markdown",
   "id": "intellectual-china",
   "metadata": {},
   "source": [
    "$$\\theta_0:=\\theta_0 - \\alpha \\frac{1}{m} \\sum_{i=1}^{m}[ h_{\\theta}(x_i) - y_i]$$\n",
    "$$\\theta_1:=\\theta_1 - \\alpha \\frac{1}{m} \\sum_{i=1}^{m}([ h_{\\theta}(x_i) - y_i]*x_i)$$"
   ]
  },
  {
   "cell_type": "markdown",
   "id": "unlimited-pledge",
   "metadata": {},
   "source": [
    "$h_{\\theta}(x)=\\theta^T X$"
   ]
  },
  {
   "cell_type": "markdown",
   "id": "freelance-german",
   "metadata": {},
   "source": [
    "$h_{\\theta}(x):$\n",
    "\n",
    "* simple linear regression: \n",
    "\n",
    "$$h_{\\theta}(x)=\\theta_0+\\theta_1x_1$$\n",
    "\n",
    "\n",
    "* multiple linear regression: \n",
    "\n",
    "$$h_{\\theta}(x)=\\theta_0+\\theta_1x_1 +\\theta_2 x_2 +\\theta_3x_3 +\\theta_4x_4 $$\n",
    "\n",
    "\n",
    "* polynomial linear regression (\"linear\"): \n",
    "\n",
    "$$h_{\\theta}(x)=\\theta_0+\\theta_1x_1 +\\theta_2 x_2^2 +\\theta_3x_3^3 +\\theta_4x_4^4 + \\cdots \\theta_nx_n^n$$"
   ]
  },
  {
   "cell_type": "markdown",
   "id": "based-subsection",
   "metadata": {},
   "source": [
    "<img src=\"imgs/fitting_polynomials.png\" width=\"500\" />"
   ]
  },
  {
   "cell_type": "code",
   "execution_count": 4,
   "id": "seventh-bibliography",
   "metadata": {},
   "outputs": [
    {
     "name": "stdout",
     "output_type": "stream",
     "text": [
      "/home/michal/MEGASyncWork/Universidad_de_Antioquia/CARGAS/2021-2/Electiva_Modelado_de_datos_con_redes_neuronales/NeuralNetworksRsouzaCourse/Notebooks/extras/classes_MH/class_11\r\n"
     ]
    }
   ],
   "source": [
    "!pwd"
   ]
  },
  {
   "cell_type": "code",
   "execution_count": null,
   "id": "initial-property",
   "metadata": {},
   "outputs": [],
   "source": []
  }
 ],
 "metadata": {
  "kernelspec": {
   "display_name": "Python 3",
   "language": "python",
   "name": "python3"
  },
  "language_info": {
   "codemirror_mode": {
    "name": "ipython",
    "version": 3
   },
   "file_extension": ".py",
   "mimetype": "text/x-python",
   "name": "python",
   "nbconvert_exporter": "python",
   "pygments_lexer": "ipython3",
   "version": "3.7.2"
  }
 },
 "nbformat": 4,
 "nbformat_minor": 5
}
