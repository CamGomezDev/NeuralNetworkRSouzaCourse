{
 "cells": [
  {
   "cell_type": "markdown",
   "id": "suspected-panama",
   "metadata": {},
   "source": [
    "## Overfitting and Regularization and"
   ]
  },
  {
   "cell_type": "markdown",
   "id": "about-bangladesh",
   "metadata": {},
   "source": [
    "Simple case linear regression"
   ]
  },
  {
   "cell_type": "markdown",
   "id": "operational-reservoir",
   "metadata": {},
   "source": [
    "$$J(\\theta_0,\\theta_1,\\theta_2,,\\theta_3...) = \\frac{1}{m} \\sum_{i=1}^{m}[ h_{\\theta}(x_i) - y_i]^2 $$"
   ]
  },
  {
   "cell_type": "markdown",
   "id": "theoretical-hunter",
   "metadata": {},
   "source": [
    "$$\\theta_0:=\\theta_0 - \\alpha \\frac{1}{m} \\sum_{i=1}^{m}[ h_{\\theta}(x_i) - y_i]$$\n",
    "$$\\theta_1:=\\theta_1 - \\alpha \\frac{1}{m} \\sum_{i=1}^{m}([ h_{\\theta}(x_i) - y_i]*x_i)$$"
   ]
  }
 ],
 "metadata": {
  "kernelspec": {
   "display_name": "Python 3",
   "language": "python",
   "name": "python3"
  },
  "language_info": {
   "codemirror_mode": {
    "name": "ipython",
    "version": 3
   },
   "file_extension": ".py",
   "mimetype": "text/x-python",
   "name": "python",
   "nbconvert_exporter": "python",
   "pygments_lexer": "ipython3",
   "version": "3.7.2"
  }
 },
 "nbformat": 4,
 "nbformat_minor": 5
}
