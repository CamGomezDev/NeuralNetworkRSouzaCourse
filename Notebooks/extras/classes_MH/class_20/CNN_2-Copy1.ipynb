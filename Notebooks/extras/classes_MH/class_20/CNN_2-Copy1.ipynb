{
 "cells": [
  {
   "cell_type": "markdown",
   "id": "employed-september",
   "metadata": {},
   "source": [
    "## Convolutional Neural Networks - introduction"
   ]
  },
  {
   "cell_type": "markdown",
   "id": "superior-danish",
   "metadata": {},
   "source": [
    "Long time before CNN Image processing allows better extracion of the images"
   ]
  },
  {
   "cell_type": "markdown",
   "id": "decent-marathon",
   "metadata": {},
   "source": [
    "<table><tr>\n",
    "<td> <img src=\"imgs/edges_detection.jpg\" width=\"800\" /> </td>\n",
    "</tr></table>"
   ]
  },
  {
   "cell_type": "markdown",
   "id": "metropolitan-bhutan",
   "metadata": {},
   "source": [
    "- NN were already powerful (NN,CNN start dominating over other ML lagorithms)\n",
    "- The advancements in Computer Vision with Deep Learning has been constructed and perfected with time, primarily over one particular algorithm — a Convolutional Neural Network. (CNN -  breakthrough in image classification was made by CNN)"
   ]
  },
  {
   "cell_type": "markdown",
   "id": "fixed-testament",
   "metadata": {},
   "source": [
    "<table><tr>\n",
    "<td> <img src=\"imgs/CNN.jpeg\" width=\"600\" /> </td>\n",
    "</tr></table>"
   ]
  },
  {
   "cell_type": "markdown",
   "id": "material-gates",
   "metadata": {},
   "source": [
    "### What is image\n",
    "* An image is a collection of pixels. For example, a 32-by-32 image has 32×32=1024 pixels.\n",
    "* Each pixel is an intensity represented by a number in the range [0,255], 0 is black and 255 is white.\n",
    "* Color images have three dimensions: [width, height, depth] where depth is usually 3. Why is depth 3? That’s because it encodes the intensity of [Red, Green, Blue], i.e., RGB values."
   ]
  },
  {
   "cell_type": "markdown",
   "id": "rapid-functionality",
   "metadata": {},
   "source": [
    "<table><tr>\n",
    "<td> <img src=\"imgs/image_pixel.png\" width=\"600\" /> </td>\n",
    "</tr></table>"
   ]
  },
  {
   "cell_type": "markdown",
   "id": "ranging-madison",
   "metadata": {},
   "source": [
    "# If the input is a digit (2D, 3D array of number)\n",
    "In case of Color image we have 3D"
   ]
  },
  {
   "cell_type": "markdown",
   "id": "foreign-customer",
   "metadata": {},
   "source": [
    "<table><tr>\n",
    "<td> <img src=\"imgs/RGB.png\" width=\"600\" /> </td>\n",
    "</tr></table>"
   ]
  },
  {
   "cell_type": "markdown",
   "id": "exact-bedroom",
   "metadata": {},
   "source": [
    "## Convolution process\n",
    "* Image (6x6)\n",
    "* Filter / Kernel (3x3)\n",
    "* Pooling (2x2)\n",
    "* Output (2x2)"
   ]
  },
  {
   "cell_type": "markdown",
   "id": "detailed-legislation",
   "metadata": {},
   "source": [
    "A kernel is a small 2D matrix whose contents are based upon the operations to be performed. A kernel maps on the input image by simple matrix multiplication and addition, the output obtained is of lower dimensions and therefore easier to work with."
   ]
  },
  {
   "cell_type": "markdown",
   "id": "important-racing",
   "metadata": {},
   "source": [
    "<table><tr>\n",
    "<td> <img src=\"imgs/convolution_process.png\" width=\"1000\" /> </td>\n",
    "</tr></table>"
   ]
  },
  {
   "cell_type": "markdown",
   "id": "objective-maker",
   "metadata": {},
   "source": [
    "# Just the convolution part (gif)"
   ]
  },
  {
   "cell_type": "markdown",
   "id": "affiliated-verse",
   "metadata": {},
   "source": [
    "<table><tr>\n",
    "<td> <img src=\"imgs/kernel.gif\" width=\"400\" /> </td>\n",
    "</tr></table>"
   ]
  },
  {
   "cell_type": "markdown",
   "id": "confident-notification",
   "metadata": {},
   "source": [
    "### But the image has three layers so the kernel works on each layer"
   ]
  },
  {
   "cell_type": "markdown",
   "id": "affecting-highland",
   "metadata": {},
   "source": [
    "<table><tr>\n",
    "<td> <img src=\"imgs/kernel3D.gif\" width=\"800\" /> </td>\n",
    "</tr></table>"
   ]
  },
  {
   "cell_type": "markdown",
   "id": "forbidden-stanford",
   "metadata": {},
   "source": [
    "### Different kernels make different operations on the image"
   ]
  },
  {
   "cell_type": "markdown",
   "id": "dietary-dakota",
   "metadata": {},
   "source": [
    "<table><tr>\n",
    "<td> <img src=\"imgs/convolution_kernel_example2.png\" width=\"800\" /> </td>\n",
    "</tr></table>"
   ]
  },
  {
   "cell_type": "markdown",
   "id": "demanding-popularity",
   "metadata": {},
   "source": [
    "### in CNN the filter weights learn through backpropagation!!!! "
   ]
  },
  {
   "cell_type": "markdown",
   "id": "functioning-cherry",
   "metadata": {},
   "source": [
    "## In tensorflow the Convolution layer is being implemented with the following syntax\n",
    "`from tensorflow.keras.layers import Conv2D`  \n",
    "`Conv2D(filters=16,  strides=1, padding='valid', kernel_size=(3, 3), activation='relu', name='conv_1')`"
   ]
  },
  {
   "cell_type": "markdown",
   "id": "tribal-offense",
   "metadata": {},
   "source": [
    "* ***Depth***: The number of filters to use for each layer.  \n",
    "* ***Stride***: How big of a step to take when sliding the filter across the image, usually 1 (see the convolution GIF above) or 2.\n",
    "* ***Size***: Size of each convolution filter, e.g., the mean filter is 3-by-3.\n",
    "* ***Padding***: Whether to use paddings around images when doing convolution. This determines the output image size. (default padding='valid')\n",
    "  * `\"valid\"` \n",
    "  * `\"SAME\"` "
   ]
  },
  {
   "cell_type": "markdown",
   "id": "challenging-physics",
   "metadata": {},
   "source": [
    "### padding: valid (default) means no padding (as above) so the output image is smaller as input\n",
    "When padding == ”VALID”, the input image is not padded. This means that the filter window always stays inside the input image.  This type of padding is called valid because for this padding only the valid and original elements of the input image are considered. When padding == \"VALID\", there can be a loss of information. Generally, elements on the right and the bottom of the image tend to be ignored. How many elements are ignored depends on the size of the kernel and the stride."
   ]
  },
  {
   "cell_type": "markdown",
   "id": "superb-qatar",
   "metadata": {},
   "source": [
    "<table><tr>\n",
    "<td> <img src=\"imgs/conv_no_padding.gif\" width=\"800\" /> </td>\n",
    "</tr></table>"
   ]
  },
  {
   "cell_type": "markdown",
   "id": "furnished-orchestra",
   "metadata": {},
   "source": [
    "### padding: SAME means there is padding: the output image is the same as input\n",
    "When padding == “SAME”, the input is half padded. The padding type is called SAME because the output size is the same as the input size(when stride=1). Using ‘SAME’ ensures that the filter is applied to all the elements of the input. Normally, padding is set to \"SAME\" while training the model. Output size is mathematically convenient for further computation."
   ]
  },
  {
   "cell_type": "markdown",
   "id": "respiratory-genealogy",
   "metadata": {},
   "source": [
    "<table><tr>\n",
    "<td> <img src=\"imgs/conv_padding.gif\" width=\"800\" /> </td>\n",
    "</tr></table>"
   ]
  },
  {
   "cell_type": "markdown",
   "id": "incident-jerusalem",
   "metadata": {},
   "source": [
    "# Max pooling is another operation on the image after the convolution it finds the maximum value in the given `pool size`"
   ]
  },
  {
   "cell_type": "markdown",
   "id": "jewish-public",
   "metadata": {},
   "source": [
    "<table><tr>\n",
    "<td> <img src=\"imgs/pooling.jpg\" width=\"600\" /> </td>\n",
    "</tr></table>"
   ]
  },
  {
   "cell_type": "markdown",
   "id": "narrative-tribune",
   "metadata": {},
   "source": [
    "## In tensorflow the Pooling layer is being implemented with the following syntax:\n",
    "`from tensorflow.keras.layers import MaxPooling2D`  \n",
    "`MaxPooling2D(pool_size=(2, 2), name='pool_1')`"
   ]
  },
  {
   "cell_type": "markdown",
   "id": "conditional-timothy",
   "metadata": {},
   "source": [
    "# After the convolution and max pooling is done we flatten the image (or whats left from it)"
   ]
  },
  {
   "cell_type": "markdown",
   "id": "experimental-leeds",
   "metadata": {},
   "source": [
    "<table><tr>\n",
    "<td> <img src=\"imgs/flattening.png\" width=\"600\" /> </td>\n",
    "</tr></table>"
   ]
  },
  {
   "cell_type": "markdown",
   "id": "satisfactory-microphone",
   "metadata": {},
   "source": [
    "## In tensorflow the Flattening layer is being implemented with the following syntax:\n",
    "`from tensorflow.keras.layers import Flatten`  \n",
    "`Flatten(name='flatten_layer')`"
   ]
  },
  {
   "cell_type": "markdown",
   "id": "foreign-cornwall",
   "metadata": {},
   "source": [
    "## The order of the layers in CNN:\n",
    "* Input layer    \n",
    "* Convolution layer\n",
    "* Pooling layer\n",
    "* Convolution layer\n",
    "* Pooling layer\n",
    "* Flattening layer\n",
    "* Dense layer\n",
    "* output layer ( in case of classification the activation function is: `Sigmoid`)"
   ]
  },
  {
   "cell_type": "markdown",
   "id": "operational-masters",
   "metadata": {},
   "source": [
    "# CNN with Tensorflow"
   ]
  },
  {
   "cell_type": "code",
   "execution_count": 1,
   "id": "norman-emerald",
   "metadata": {},
   "outputs": [
    {
     "name": "stdout",
     "output_type": "stream",
     "text": [
      "2.5.0\n"
     ]
    }
   ],
   "source": [
    "import tensorflow as tf\n",
    "print(tf.__version__)"
   ]
  },
  {
   "cell_type": "markdown",
   "id": "wrong-gathering",
   "metadata": {},
   "source": [
    "#### Load and inspect CIFAR-10 dataset\n",
    "The CIFAR-10 dataset consists of, in total, 60000 color images, each with one of 10 labels: airplane, automobile, bird, cat, deer, dog, frog, horse, ship, truck. For an introduction and a download, see [this link](https://www.cs.toronto.edu/~kriz/cifar.html)."
   ]
  },
  {
   "cell_type": "code",
   "execution_count": 2,
   "id": "wired-holly",
   "metadata": {},
   "outputs": [],
   "source": [
    "# Import the CIFAR-10 dataset and rescale the pixel values\n",
    "(X_train,y_train),(X_test,y_test)=tf.keras.datasets.cifar10.load_data()\n",
    "\n"
   ]
  },
  {
   "cell_type": "code",
   "execution_count": 3,
   "id": "dependent-fleet",
   "metadata": {},
   "outputs": [
    {
     "data": {
      "image/png": "[encoded data removed]",
      "text/plain": [
       "<Figure size 1080x1080 with 10 Axes>"
      ]
     },
     "metadata": {
      "needs_background": "light"
     },
     "output_type": "display_data"
    }
   ],
   "source": [
    "# Plot the first 10 CIFAR-10 images\n",
    "\n",
    "import matplotlib.pyplot as plt\n",
    "fig,ax=plt.subplots(1,10,figsize=(15,15))\n",
    "for i in range(10):\n",
    "    ax[i].set_axis_off()\n",
    "    ax[i].imshow(X_train[i])"
   ]
  },
  {
   "cell_type": "code",
   "execution_count": 4,
   "id": "structural-sullivan",
   "metadata": {},
   "outputs": [
    {
     "data": {
      "text/plain": [
       "(32, 32, 3)"
      ]
     },
     "execution_count": 4,
     "metadata": {},
     "output_type": "execute_result"
    }
   ],
   "source": [
    "X_train[0].shape"
   ]
  },
  {
   "cell_type": "code",
   "execution_count": 5,
   "id": "mineral-macintosh",
   "metadata": {},
   "outputs": [],
   "source": [
    "from tensorflow.keras.models import Sequential"
   ]
  },
  {
   "cell_type": "code",
   "execution_count": 6,
   "id": "knowing-rolling",
   "metadata": {},
   "outputs": [],
   "source": [
    "from tensorflow.keras.layers import InputLayer, Dense, Flatten, Conv2D, MaxPooling2D"
   ]
  },
  {
   "cell_type": "code",
   "execution_count": 7,
   "id": "advanced-characterization",
   "metadata": {},
   "outputs": [
    {
     "ename": "SyntaxError",
     "evalue": "invalid syntax (<ipython-input-7-4184b615ceaf>, line 11)",
     "output_type": "error",
     "traceback": [
      "\u001b[0;36m  File \u001b[0;32m\"<ipython-input-7-4184b615ceaf>\"\u001b[0;36m, line \u001b[0;32m11\u001b[0m\n\u001b[0;31m    Flatten(name='flatten'),\u001b[0m\n\u001b[0m          ^\u001b[0m\n\u001b[0;31mSyntaxError\u001b[0m\u001b[0;31m:\u001b[0m invalid syntax\n"
     ]
    }
   ],
   "source": [
    "def get_model(input_shape):\n",
    "    model=Sequential([InputLayer(input_shape=input_shape),\n",
    "\n",
    "                    Conv2D(filters=8, kernel_size=(3,3), activation='relu', name='conv_1' ),\n",
    "                    MaxPooling2D(pool_size=(2,2),name='pool_1'),\n",
    "                    Conv2D(filters=16, kernel_size=(3,3), activation='relu', name='conv_2' ),\n",
    "                    MaxPooling2D(pool_size=(2,2),name='pool_2'),\n",
    "                    Conv2D(filters=32, kernel_size=(3,3), activation='relu', name='conv_3' ),\n",
    "                    MaxPooling2D(pool_size=(2,2),name='pool_3'),\n",
    "                    Dropout(0.3)\n",
    "                    Flatten(name='flatten'),\n",
    "                    Dense(units=64,activation='relu',name='dense_1'),  \n",
    "                    Dense(units=10,activation='softmax',name='dense_2') ])\n",
    "    return model"
   ]
  },
  {
   "cell_type": "code",
   "execution_count": null,
   "id": "retained-playing",
   "metadata": {},
   "outputs": [],
   "source": [
    "def compile_model(model):\n",
    "    model.compile(optimizer='adam',loss='sparse_categorical_crossentropy',metrics=['accuracy'])"
   ]
  },
  {
   "cell_type": "code",
   "execution_count": null,
   "id": "curious-cancellation",
   "metadata": {},
   "outputs": [],
   "source": [
    "def get_test_accuracy(model,X_test,y_test):\n",
    "    test_loss,test_acc=model.evaluate(x=X_test,y=y_test,verbose=0)\n",
    "    print(f'accuracy:{test_acc}')"
   ]
  },
  {
   "cell_type": "code",
   "execution_count": null,
   "id": "geographic-investor",
   "metadata": {},
   "outputs": [],
   "source": [
    "model=get_model(X_train[0].shape)"
   ]
  },
  {
   "cell_type": "code",
   "execution_count": null,
   "id": "liberal-shopping",
   "metadata": {},
   "outputs": [],
   "source": [
    "model.summary()"
   ]
  },
  {
   "cell_type": "code",
   "execution_count": null,
   "id": "directed-clone",
   "metadata": {},
   "outputs": [],
   "source": [
    "compile_model(model)"
   ]
  },
  {
   "cell_type": "code",
   "execution_count": null,
   "id": "mysterious-little",
   "metadata": {},
   "outputs": [],
   "source": [
    "get_test_accuracy(model,X_test,y_test)"
   ]
  },
  {
   "cell_type": "code",
   "execution_count": null,
   "id": "aggregate-scene",
   "metadata": {},
   "outputs": [],
   "source": [
    "epochs=5\n",
    "history=model.fit(X_train,y_train,epochs=epochs,validation_split=0.1,verbose=1)"
   ]
  },
  {
   "cell_type": "code",
   "execution_count": null,
   "id": "fifth-appeal",
   "metadata": {},
   "outputs": [],
   "source": [
    "get_test_accuracy(model,X_test,y_test)"
   ]
  },
  {
   "cell_type": "code",
   "execution_count": null,
   "id": "connected-encyclopedia",
   "metadata": {},
   "outputs": [],
   "source": [
    "xvals=range(epochs)\n",
    "fig,ax=plt.subplots(1,1)\n",
    "ax.plot(xvals,history.history['accuracy'],label='accuracy')\n",
    "ax.plot(xvals,history.history['val_accuracy'],label='val_accuracy')\n",
    "ax.set_xlabel('epochs')\n",
    "ax.set_ylabel('accuracy')\n",
    "ax.legend()"
   ]
  },
  {
   "cell_type": "markdown",
   "id": "clean-saying",
   "metadata": {},
   "source": [
    "## from_digits=True\n",
    "* loss=tf.keras.losses.SparseCategoricalCrossentropy(from_logits=True) - is another way to say normalize the output in terms of probabitlity"
   ]
  },
  {
   "cell_type": "code",
   "execution_count": null,
   "id": "about-danish",
   "metadata": {},
   "outputs": [],
   "source": [
    "def compile_model2(model):\n",
    "    model.compile(optimizer='adam', loss=tf.keras.losses.SparseCategoricalCrossentropy(from_logits=True), metrics=['accuracy'])\n",
    "# Softmax function is called when logit=True (normalized output)"
   ]
  },
  {
   "cell_type": "code",
   "execution_count": null,
   "id": "facial-granny",
   "metadata": {},
   "outputs": [],
   "source": [
    "def get_model2(input_shape):\n",
    "    model = Sequential([InputLayer(input_shape=input_shape),\n",
    "                        Conv2D(filters=32,  kernel_size=(3, 3), activation='relu', name='conv_1'),\n",
    "                        MaxPooling2D(pool_size=(2, 2), name='pool_1'),\n",
    "                        Conv2D(filters=64, kernel_size=(3, 3), activation='relu', name='conv_2'),\n",
    "                        MaxPooling2D(pool_size=(2, 2), name='pool_2'),\n",
    "                        Flatten(name='flatten'),\n",
    "                        Dense(units=64, activation='relu', name='dense_1'),\n",
    "                        Dense(units=10,  name='dense_2')])\n",
    "    \n",
    "    return model"
   ]
  },
  {
   "cell_type": "code",
   "execution_count": null,
   "id": "higher-cycle",
   "metadata": {},
   "outputs": [],
   "source": [
    "model=get_model2(X_train[0].shape)\n",
    "compile_model2(model)"
   ]
  },
  {
   "cell_type": "markdown",
   "id": "brutal-front",
   "metadata": {},
   "source": [
    "# Dataset augmentaton using TensorFlow data generator: \n",
    "(https://www.tensorflow.org/api_docs/python/tf/keras/preprocessing/image/ImageDataGenerator)"
   ]
  },
  {
   "cell_type": "code",
   "execution_count": null,
   "id": "exceptional-penalty",
   "metadata": {},
   "outputs": [],
   "source": [
    "# compute quantities required for featurewise normalization\n",
    "# (std, mean, and principal components if ZCA whitening is applied)\n",
    "datagen = tf.keras.preprocessing.image.ImageDataGenerator(\n",
    "    rotation_range=20,\n",
    "    width_shift_range=0.2,\n",
    "    height_shift_range=0.2,\n",
    "    horizontal_flip=True,\n",
    "    validation_split=0.2)"
   ]
  },
  {
   "cell_type": "code",
   "execution_count": null,
   "id": "cosmetic-offer",
   "metadata": {},
   "outputs": [],
   "source": [
    "data_train_set= datagen.flow(X_train, y_train, batch_size=32, subset='training',shuffle=False)"
   ]
  },
  {
   "cell_type": "code",
   "execution_count": null,
   "id": "every-inspector",
   "metadata": {},
   "outputs": [],
   "source": [
    "import matplotlib.pyplot as plt\n",
    "\n",
    "fig, ax = plt.subplots(1, 5, figsize=(10, 1))\n",
    "for i in range(5):\n",
    "    ax[i].set_axis_off()\n",
    "    ax[i].imshow(X_train[i])"
   ]
  },
  {
   "cell_type": "code",
   "execution_count": null,
   "id": "gentle-thirty",
   "metadata": {},
   "outputs": [],
   "source": [
    "import matplotlib.pyplot as plt\n",
    "\n",
    "fig, ax = plt.subplots(1, 5, figsize=(10, 1))\n",
    "for i in range(5):\n",
    "    ax[i].set_axis_off()\n",
    "    ax[i].imshow(data_train_set[0][0][i])"
   ]
  },
  {
   "cell_type": "code",
   "execution_count": null,
   "id": "danish-bunch",
   "metadata": {},
   "outputs": [],
   "source": [
    "epochs=5\n",
    "history=model.fit(datagen.flow(X_train, y_train, batch_size=32, subset='training'),epochs=epochs,validation_data=datagen.flow(X_train, y_train,\n",
    "         batch_size=8, subset='validation'),verbose=1)"
   ]
  },
  {
   "cell_type": "code",
   "execution_count": null,
   "id": "fiscal-anatomy",
   "metadata": {},
   "outputs": [],
   "source": []
  },
  {
   "cell_type": "code",
   "execution_count": null,
   "id": "breeding-nowhere",
   "metadata": {},
   "outputs": [],
   "source": []
  }
 ],
 "metadata": {
  "kernelspec": {
   "display_name": "Python 3",
   "language": "python",
   "name": "python3"
  },
  "language_info": {
   "codemirror_mode": {
    "name": "ipython",
    "version": 3
   },
   "file_extension": ".py",
   "mimetype": "text/x-python",
   "name": "python",
   "nbconvert_exporter": "python",
   "pygments_lexer": "ipython3",
   "version": "3.7.2"
  }
 },
 "nbformat": 4,
 "nbformat_minor": 5
}
