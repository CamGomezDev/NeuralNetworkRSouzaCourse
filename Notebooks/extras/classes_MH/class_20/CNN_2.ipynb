{
 "cells": [
  {
   "cell_type": "markdown",
   "id": "employed-september",
   "metadata": {},
   "source": [
    "## Convolutional Neural Networks - introduction"
   ]
  },
  {
   "cell_type": "markdown",
   "id": "superior-danish",
   "metadata": {},
   "source": [
    "Long time before CNN Image processing allows better extracion of the images"
   ]
  },
  {
   "cell_type": "markdown",
   "id": "decent-marathon",
   "metadata": {},
   "source": [
    "<table><tr>\n",
    "<td> <img src=\"imgs/edges_detection.jpg\" width=\"800\" /> </td>\n",
    "</tr></table>"
   ]
  },
  {
   "cell_type": "markdown",
   "id": "metropolitan-bhutan",
   "metadata": {},
   "source": [
    "- NN were already powerful (NN,CNN start dominating over other ML lagorithms)\n",
    "- The advancements in Computer Vision with Deep Learning has been constructed and perfected with time, primarily over one particular algorithm — a Convolutional Neural Network. (CNN -  breakthrough in image classification was made by CNN)"
   ]
  },
  {
   "cell_type": "markdown",
   "id": "fixed-testament",
   "metadata": {},
   "source": [
    "<table><tr>\n",
    "<td> <img src=\"imgs/CNN.jpeg\" width=\"600\" /> </td>\n",
    "</tr></table>"
   ]
  },
  {
   "cell_type": "markdown",
   "id": "material-gates",
   "metadata": {},
   "source": [
    "### What is image\n",
    "* An image is a collection of pixels. For example, a 32-by-32 image has 32×32=1024 pixels.\n",
    "* Each pixel is an intensity represented by a number in the range [0,255], 0 is black and 255 is white.\n",
    "* Color images have three dimensions: [width, height, depth] where depth is usually 3. Why is depth 3? That’s because it encodes the intensity of [Red, Green, Blue], i.e., RGB values."
   ]
  },
  {
   "cell_type": "markdown",
   "id": "rapid-functionality",
   "metadata": {},
   "source": [
    "<table><tr>\n",
    "<td> <img src=\"imgs/image_pixel.png\" width=\"600\" /> </td>\n",
    "</tr></table>"
   ]
  },
  {
   "cell_type": "markdown",
   "id": "ranging-madison",
   "metadata": {},
   "source": [
    "# If the input is a digit (2D, 3D array of number)\n",
    "In case of Color image we have 3D"
   ]
  },
  {
   "cell_type": "markdown",
   "id": "foreign-customer",
   "metadata": {},
   "source": [
    "<table><tr>\n",
    "<td> <img src=\"imgs/RGB.png\" width=\"600\" /> </td>\n",
    "</tr></table>"
   ]
  },
  {
   "cell_type": "markdown",
   "id": "exact-bedroom",
   "metadata": {},
   "source": [
    "## Convolution process\n",
    "* Image (6x6)\n",
    "* Filter / Kernel (3x3)\n",
    "* Pooling (2x2)\n",
    "* Output (2x2)"
   ]
  },
  {
   "cell_type": "markdown",
   "id": "detailed-legislation",
   "metadata": {},
   "source": [
    "A kernel is a small 2D matrix whose contents are based upon the operations to be performed. A kernel maps on the input image by simple matrix multiplication and addition, the output obtained is of lower dimensions and therefore easier to work with."
   ]
  },
  {
   "cell_type": "markdown",
   "id": "important-racing",
   "metadata": {},
   "source": [
    "<table><tr>\n",
    "<td> <img src=\"imgs/convolution_process.png\" width=\"1000\" /> </td>\n",
    "</tr></table>"
   ]
  },
  {
   "cell_type": "markdown",
   "id": "objective-maker",
   "metadata": {},
   "source": [
    "# Just the convolution part (gif)"
   ]
  },
  {
   "cell_type": "markdown",
   "id": "affiliated-verse",
   "metadata": {},
   "source": [
    "<table><tr>\n",
    "<td> <img src=\"imgs/kernel.gif\" width=\"400\" /> </td>\n",
    "</tr></table>"
   ]
  },
  {
   "cell_type": "markdown",
   "id": "confident-notification",
   "metadata": {},
   "source": [
    "### But the image has three layers so the kernel works on each layer"
   ]
  },
  {
   "cell_type": "markdown",
   "id": "affecting-highland",
   "metadata": {},
   "source": [
    "<table><tr>\n",
    "<td> <img src=\"imgs/kernel3D.gif\" width=\"800\" /> </td>\n",
    "</tr></table>"
   ]
  },
  {
   "cell_type": "markdown",
   "id": "forbidden-stanford",
   "metadata": {},
   "source": [
    "### Different kernels make different operations on the image"
   ]
  },
  {
   "cell_type": "markdown",
   "id": "dietary-dakota",
   "metadata": {},
   "source": [
    "<table><tr>\n",
    "<td> <img src=\"imgs/convolution_kernel_example2.png\" width=\"800\" /> </td>\n",
    "</tr></table>"
   ]
  },
  {
   "cell_type": "markdown",
   "id": "demanding-popularity",
   "metadata": {},
   "source": [
    "### in CNN the filter weights learn through backpropagation!!!! "
   ]
  },
  {
   "cell_type": "markdown",
   "id": "functioning-cherry",
   "metadata": {},
   "source": [
    "## In tensorflow the Convolution layer is being implemented with the following syntax\n",
    "`from tensorflow.keras.layers import Conv2D`  \n",
    "`Conv2D(filters=16,  strides=1, padding='valid', kernel_size=(3, 3), activation='relu', name='conv_1')`"
   ]
  },
  {
   "cell_type": "markdown",
   "id": "simple-hostel",
   "metadata": {},
   "source": [
    "* ***Depth***: The number of filters to use for each layer.  \n",
    "* ***Stride***: How big of a step to take when sliding the filter across the image, usually 1 (see the convolution GIF above) or 2.\n",
    "* ***Size***: Size of each convolution filter, e.g., the mean filter is 3-by-3.\n",
    "* ***Padding***: Whether to use paddings around images when doing convolution. This determines the output image size. (default padding='valid')\n",
    "  * `valid` \n",
    "  * `SAME` "
   ]
  },
  {
   "cell_type": "markdown",
   "id": "elder-projector",
   "metadata": {},
   "source": [
    "### padding: valid (default) means no padding (as above) so the output image is smaller as input\n",
    "When padding == ”VALID”, the input image is not padded. This means that the filter window always stays inside the input image.  This type of padding is called valid because for this padding only the valid and original elements of the input image are considered. When padding == \"VALID\", there can be a loss of information. Generally, elements on the right and the bottom of the image tend to be ignored. How many elements are ignored depends on the size of the kernel and the stride."
   ]
  },
  {
   "cell_type": "markdown",
   "id": "individual-serial",
   "metadata": {},
   "source": [
    "<table><tr>\n",
    "<td> <img src=\"imgs/conv_no_padding.gif\" width=\"800\" /> </td>\n",
    "</tr></table>"
   ]
  },
  {
   "cell_type": "markdown",
   "id": "prepared-amount",
   "metadata": {},
   "source": [
    "### padding: SAME (default) means there is padding: the output image is the same as input\n",
    "When padding == “SAME”, the input is half padded. The padding type is called SAME because the output size is the same as the input size(when stride=1). Using ‘SAME’ ensures that the filter is applied to all the elements of the input. Normally, padding is set to \"SAME\" while training the model. Output size is mathematically convenient for further computation."
   ]
  },
  {
   "cell_type": "markdown",
   "id": "distant-juice",
   "metadata": {},
   "source": [
    "<table><tr>\n",
    "<td> <img src=\"imgs/conv_padding.gif\" width=\"800\" /> </td>\n",
    "</tr></table>"
   ]
  },
  {
   "cell_type": "markdown",
   "id": "incident-jerusalem",
   "metadata": {},
   "source": [
    "# Max pooling is another operation on the image after the convolution it finds the maximum value in the given `pool size`"
   ]
  },
  {
   "cell_type": "markdown",
   "id": "jewish-public",
   "metadata": {},
   "source": [
    "<table><tr>\n",
    "<td> <img src=\"imgs/pooling.jpg\" width=\"600\" /> </td>\n",
    "</tr></table>"
   ]
  },
  {
   "cell_type": "markdown",
   "id": "narrative-tribune",
   "metadata": {},
   "source": [
    "## In tensorflow the Pooling layer is being implemented with the following syntax:\n",
    "`from tensorflow.keras.layers import MaxPooling2D`\n",
    "`MaxPooling2D(pool_size=(2, 2), name='pool_1')`"
   ]
  },
  {
   "cell_type": "markdown",
   "id": "conditional-timothy",
   "metadata": {},
   "source": [
    "# After the convolution and max pooling is done we flatten the image (or whats left from it)"
   ]
  },
  {
   "cell_type": "markdown",
   "id": "experimental-leeds",
   "metadata": {},
   "source": [
    "<table><tr>\n",
    "<td> <img src=\"imgs/flattening.png\" width=\"600\" /> </td>\n",
    "</tr></table>"
   ]
  },
  {
   "cell_type": "markdown",
   "id": "satisfactory-microphone",
   "metadata": {},
   "source": [
    "## In tensorflow the Flattening layer is being implemented with the following syntax:\n",
    "`from tensorflow.keras.layers import Flatten`\n",
    "`Flatten(name='flatten_layer')`"
   ]
  },
  {
   "cell_type": "markdown",
   "id": "foreign-cornwall",
   "metadata": {},
   "source": [
    "## The order of the layers in CNN:\n",
    "* Input layer    \n",
    "* Convolution layer\n",
    "* Pooling layer\n",
    "* Convolution layer\n",
    "* Pooling layer\n",
    "* Flattening layer\n",
    "* Dense layer\n",
    "* Dense layer\n",
    "* output layer ( in case of classification the activation function is: `Sigmoid`)"
   ]
  },
  {
   "cell_type": "markdown",
   "id": "operational-masters",
   "metadata": {},
   "source": [
    "# CNN with Tensorflow"
   ]
  },
  {
   "cell_type": "code",
   "execution_count": 1,
   "id": "norman-emerald",
   "metadata": {},
   "outputs": [
    {
     "name": "stdout",
     "output_type": "stream",
     "text": [
      "2.5.0\n"
     ]
    }
   ],
   "source": [
    "import tensorflow as tf\n",
    "print(tf.__version__)"
   ]
  },
  {
   "cell_type": "markdown",
   "id": "wrong-gathering",
   "metadata": {},
   "source": [
    "#### Load and inspect CIFAR-10 dataset\n",
    "The CIFAR-10 dataset consists of, in total, 60000 color images, each with one of 10 labels: airplane, automobile, bird, cat, deer, dog, frog, horse, ship, truck. For an introduction and a download, see [this link](https://www.cs.toronto.edu/~kriz/cifar.html)."
   ]
  },
  {
   "cell_type": "code",
   "execution_count": 2,
   "id": "wired-holly",
   "metadata": {},
   "outputs": [],
   "source": [
    "# Import the CIFAR-10 dataset and rescale the pixel values\n",
    "\n",
    "(X_train, y_train), (X_test, y_test) = tf.keras.datasets.cifar10.load_data()\n",
    "X_train = X_train / 255.0\n",
    "X_test = X_test / 255.0\n"
   ]
  },
  {
   "cell_type": "code",
   "execution_count": 3,
   "id": "dependent-fleet",
   "metadata": {},
   "outputs": [
    {
     "data": {
      "image/png": "[encoded data removed]",
      "text/plain": [
       "<Figure size 720x72 with 10 Axes>"
      ]
     },
     "metadata": {
      "needs_background": "light"
     },
     "output_type": "display_data"
    }
   ],
   "source": [
    "# Plot the first 10 CIFAR-10 images\n",
    "\n",
    "import matplotlib.pyplot as plt\n",
    "\n",
    "fig, ax = plt.subplots(1, 10, figsize=(10, 1))\n",
    "for i in range(10):\n",
    "    ax[i].set_axis_off()\n",
    "    ax[i].imshow(X_train[i])"
   ]
  },
  {
   "cell_type": "code",
   "execution_count": 4,
   "id": "structural-sullivan",
   "metadata": {},
   "outputs": [
    {
     "data": {
      "text/plain": [
       "(50000, 32, 32, 3)"
      ]
     },
     "execution_count": 4,
     "metadata": {},
     "output_type": "execute_result"
    }
   ],
   "source": [
    "X_train.shape"
   ]
  },
  {
   "cell_type": "code",
   "execution_count": 5,
   "id": "mineral-macintosh",
   "metadata": {},
   "outputs": [
    {
     "data": {
      "text/plain": [
       "(32, 32, 3)"
      ]
     },
     "execution_count": 5,
     "metadata": {},
     "output_type": "execute_result"
    }
   ],
   "source": [
    "X_train[0].shape"
   ]
  },
  {
   "cell_type": "code",
   "execution_count": 6,
   "id": "knowing-rolling",
   "metadata": {},
   "outputs": [],
   "source": [
    "from tensorflow.keras.models import Sequential\n",
    "from tensorflow.keras.layers import InputLayer, Dense, Flatten, Conv2D, MaxPooling2D"
   ]
  },
  {
   "cell_type": "code",
   "execution_count": 7,
   "id": "advanced-characterization",
   "metadata": {},
   "outputs": [],
   "source": [
    "def get_model(input_shape):\n",
    "    model = Sequential([InputLayer(input_shape=input_shape),\n",
    "                        Conv2D(filters=32,  kernel_size=(3, 3), activation='relu', name='conv_1'),\n",
    "                        MaxPooling2D(pool_size=(2, 2), name='pool_1'),\n",
    "                        Conv2D(filters=64, kernel_size=(3, 3), activation='relu', name='conv_2'),\n",
    "                        MaxPooling2D(pool_size=(2, 2), name='pool_2'),\n",
    "                        Flatten(name='flatten'),\n",
    "                        Dense(units=64, activation='relu', name='dense_1'),\n",
    "                        Dense(units=10, activation='softmax', name='dense_2')])\n",
    "    \n",
    "    return model"
   ]
  },
  {
   "cell_type": "code",
   "execution_count": 8,
   "id": "retained-playing",
   "metadata": {},
   "outputs": [],
   "source": [
    "def compile_model(model):\n",
    "    model.compile(optimizer='adam', loss='sparse_categorical_crossentropy', metrics=['accuracy'])"
   ]
  },
  {
   "cell_type": "code",
   "execution_count": 9,
   "id": "curious-cancellation",
   "metadata": {},
   "outputs": [],
   "source": [
    "# Introduce function to test model accuracy\n",
    "\n",
    "def get_test_accuracy(model, x_test, y_test):\n",
    "    test_loss, test_acc = model.evaluate(x=x_test, y=y_test, verbose=0)\n",
    "    print('accuracy: {acc:0.3f}'.format(acc=test_acc))"
   ]
  },
  {
   "cell_type": "code",
   "execution_count": 10,
   "id": "geographic-investor",
   "metadata": {},
   "outputs": [],
   "source": [
    "# Create an instance of the model and show model summary\n",
    "model=get_model(X_train[0].shape)\n",
    "compile_model(model)"
   ]
  },
  {
   "cell_type": "code",
   "execution_count": 11,
   "id": "liberal-shopping",
   "metadata": {},
   "outputs": [
    {
     "name": "stdout",
     "output_type": "stream",
     "text": [
      "Model: \"sequential\"\n",
      "_________________________________________________________________\n",
      "Layer (type)                 Output Shape              Param #   \n",
      "=================================================================\n",
      "conv_1 (Conv2D)              (None, 30, 30, 32)        896       \n",
      "_________________________________________________________________\n",
      "pool_1 (MaxPooling2D)        (None, 15, 15, 32)        0         \n",
      "_________________________________________________________________\n",
      "conv_2 (Conv2D)              (None, 13, 13, 64)        18496     \n",
      "_________________________________________________________________\n",
      "pool_2 (MaxPooling2D)        (None, 6, 6, 64)          0         \n",
      "_________________________________________________________________\n",
      "flatten (Flatten)            (None, 2304)              0         \n",
      "_________________________________________________________________\n",
      "dense_1 (Dense)              (None, 64)                147520    \n",
      "_________________________________________________________________\n",
      "dense_2 (Dense)              (None, 10)                650       \n",
      "=================================================================\n",
      "Total params: 167,562\n",
      "Trainable params: 167,562\n",
      "Non-trainable params: 0\n",
      "_________________________________________________________________\n"
     ]
    }
   ],
   "source": [
    "model.summary()"
   ]
  },
  {
   "cell_type": "code",
   "execution_count": 12,
   "id": "directed-clone",
   "metadata": {},
   "outputs": [
    {
     "name": "stdout",
     "output_type": "stream",
     "text": [
      "accuracy: 0.102\n"
     ]
    }
   ],
   "source": [
    "get_test_accuracy(model,X_test,y_test)"
   ]
  },
  {
   "cell_type": "code",
   "execution_count": 13,
   "id": "mysterious-little",
   "metadata": {},
   "outputs": [
    {
     "name": "stdout",
     "output_type": "stream",
     "text": [
      "Epoch 1/5\n",
      "1407/1407 [==============================] - 27s 19ms/step - loss: 1.4936 - accuracy: 0.4641 - val_loss: 1.2510 - val_accuracy: 0.5634\n",
      "Epoch 2/5\n",
      "1407/1407 [==============================] - 30s 21ms/step - loss: 1.1474 - accuracy: 0.5970 - val_loss: 1.0921 - val_accuracy: 0.6232\n",
      "Epoch 3/5\n",
      "1407/1407 [==============================] - 33s 24ms/step - loss: 1.0317 - accuracy: 0.6372 - val_loss: 1.0047 - val_accuracy: 0.6568\n",
      "Epoch 4/5\n",
      "1407/1407 [==============================] - 30s 21ms/step - loss: 0.9518 - accuracy: 0.6688 - val_loss: 0.9851 - val_accuracy: 0.6604\n",
      "Epoch 5/5\n",
      "1407/1407 [==============================] - 30s 22ms/step - loss: 0.8923 - accuracy: 0.6899 - val_loss: 0.9419 - val_accuracy: 0.6776\n"
     ]
    }
   ],
   "source": [
    "# Fit model, with simple checkpoint which saves (and overwrites) model weights every epoch\n",
    "epochs=5\n",
    "history=model.fit(X_train,y_train,epochs=epochs,validation_split=0.1,verbose=1)"
   ]
  },
  {
   "cell_type": "code",
   "execution_count": 14,
   "id": "aggregate-scene",
   "metadata": {},
   "outputs": [
    {
     "name": "stdout",
     "output_type": "stream",
     "text": [
      "accuracy: 0.673\n"
     ]
    }
   ],
   "source": [
    "get_test_accuracy(model,X_test,y_test)"
   ]
  },
  {
   "cell_type": "code",
   "execution_count": 15,
   "id": "fifth-appeal",
   "metadata": {},
   "outputs": [
    {
     "data": {
      "text/plain": [
       "<matplotlib.legend.Legend at 0x7f4d984a0d68>"
      ]
     },
     "execution_count": 15,
     "metadata": {},
     "output_type": "execute_result"
    },
    {
     "data": {
      "image/png": "[encoded data removed]",
      "text/plain": [
       "<Figure size 432x288 with 1 Axes>"
      ]
     },
     "metadata": {
      "needs_background": "light"
     },
     "output_type": "display_data"
    }
   ],
   "source": [
    "import matplotlib.pyplot as plt\n",
    "xvals=range(epochs)\n",
    "fig,ax=plt.subplots(1,1)\n",
    "ax.plot(xvals, history.history['val_accuracy'],label='validation set accuracy')\n",
    "ax.plot(xvals, history.history['accuracy'],label='train set accuracy')\n",
    "ax.set_xlabel('epochs')\n",
    "ax.set_ylabel('accuracy')\n",
    "ax.legend()"
   ]
  },
  {
   "cell_type": "markdown",
   "id": "unable-academy",
   "metadata": {},
   "source": [
    "## from_digits=True\n",
    "* loss=tf.keras.losses.SparseCategoricalCrossentropy(from_logits=True) - is another way to say normalize the output in terms of probabitlity"
   ]
  },
  {
   "cell_type": "code",
   "execution_count": 16,
   "id": "about-danish",
   "metadata": {},
   "outputs": [],
   "source": [
    "def compile_model2(model):\n",
    "    model.compile(optimizer='adam', loss=tf.keras.losses.SparseCategoricalCrossentropy(from_logits=True), metrics=['accuracy'])\n",
    "# Softmax function is called when logit=True (normalized output)"
   ]
  },
  {
   "cell_type": "code",
   "execution_count": 17,
   "id": "included-exposure",
   "metadata": {},
   "outputs": [],
   "source": [
    "def get_model2(input_shape):\n",
    "    model = Sequential([InputLayer(input_shape=input_shape),\n",
    "                        Conv2D(filters=32,  kernel_size=(3, 3), activation='relu', name='conv_1'),\n",
    "                        MaxPooling2D(pool_size=(2, 2), name='pool_1'),\n",
    "                        Conv2D(filters=64, kernel_size=(3, 3), activation='relu', name='conv_2'),\n",
    "                        MaxPooling2D(pool_size=(2, 2), name='pool_2'),\n",
    "                        Flatten(name='flatten'),\n",
    "                        Dense(units=64, activation='relu', name='dense_1'),\n",
    "                        Dense(units=10, name='dense_2')])\n",
    "    \n",
    "    return model"
   ]
  },
  {
   "cell_type": "code",
   "execution_count": 18,
   "id": "healthy-america",
   "metadata": {},
   "outputs": [],
   "source": [
    "model=get_model2(X_train[0].shape)\n",
    "compile_model2(model)"
   ]
  }
 ],
 "metadata": {
  "kernelspec": {
   "display_name": "Python 3",
   "language": "python",
   "name": "python3"
  },
  "language_info": {
   "codemirror_mode": {
    "name": "ipython",
    "version": 3
   },
   "file_extension": ".py",
   "mimetype": "text/x-python",
   "name": "python",
   "nbconvert_exporter": "python",
   "pygments_lexer": "ipython3",
   "version": "3.7.2"
  }
 },
 "nbformat": 4,
 "nbformat_minor": 5
}
