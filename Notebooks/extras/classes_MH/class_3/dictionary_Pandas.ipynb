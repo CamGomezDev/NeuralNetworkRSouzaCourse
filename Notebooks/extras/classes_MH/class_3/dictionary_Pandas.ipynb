{
 "cells": [
  {
   "cell_type": "markdown",
   "id": "british-ghana",
   "metadata": {},
   "source": [
    "# Vocabulary:\n",
    "* through - a taves\n",
    "* keys - llaves\n",
    "* values - valores\n",
    "* dictionary - dictionario"
   ]
  },
  {
   "cell_type": "markdown",
   "id": "imperial-packaging",
   "metadata": {},
   "source": [
    "# Working with data for Machine Learning\n",
    "1. images (can be loaded directly or converted into numpy arrays for the training)\n",
    "2. csv (Coma Separated Values) or txt format (loaded into Python throught Pandas)\n",
    "3. dictionary (loaded to Pandas from libraries, the data is ready)\n",
    "4. MAT file can be converted to directory"
   ]
  },
  {
   "cell_type": "markdown",
   "id": "interesting-romania",
   "metadata": {},
   "source": [
    "## Dictionary I way"
   ]
  },
  {
   "cell_type": "code",
   "execution_count": 1,
   "id": "comfortable-poker",
   "metadata": {},
   "outputs": [],
   "source": [
    "dictionary1={'a':0,'b':1,'c':2,'d':3}"
   ]
  },
  {
   "cell_type": "code",
   "execution_count": 2,
   "id": "determined-wagon",
   "metadata": {},
   "outputs": [
    {
     "name": "stdout",
     "output_type": "stream",
     "text": [
      "<class 'dict'>\n"
     ]
    }
   ],
   "source": [
    "print(type(dictionary1))"
   ]
  },
  {
   "cell_type": "code",
   "execution_count": 3,
   "id": "direct-eligibility",
   "metadata": {},
   "outputs": [],
   "source": [
    "dictionary2={0:'banana',1:'strawbery',2:'mango'}"
   ]
  },
  {
   "cell_type": "code",
   "execution_count": 4,
   "id": "marine-indonesia",
   "metadata": {},
   "outputs": [
    {
     "data": {
      "text/plain": [
       "'mango'"
      ]
     },
     "execution_count": 4,
     "metadata": {},
     "output_type": "execute_result"
    }
   ],
   "source": [
    "dictionary2[2]"
   ]
  },
  {
   "cell_type": "code",
   "execution_count": 5,
   "id": "forty-ideal",
   "metadata": {},
   "outputs": [
    {
     "data": {
      "text/plain": [
       "dict_keys([0, 1, 2])"
      ]
     },
     "execution_count": 5,
     "metadata": {},
     "output_type": "execute_result"
    }
   ],
   "source": [
    "dictionary2.keys()"
   ]
  },
  {
   "cell_type": "code",
   "execution_count": 6,
   "id": "comparative-ribbon",
   "metadata": {},
   "outputs": [
    {
     "data": {
      "text/plain": [
       "dict_values(['banana', 'strawbery', 'mango'])"
      ]
     },
     "execution_count": 6,
     "metadata": {},
     "output_type": "execute_result"
    }
   ],
   "source": [
    "dictionary2.values()"
   ]
  },
  {
   "cell_type": "code",
   "execution_count": 7,
   "id": "raised-certification",
   "metadata": {},
   "outputs": [],
   "source": [
    "import numpy as np\n",
    "x=np.linspace(-np.pi,np.pi,100)\n",
    "y1=np.sin(x)\n",
    "y2=np.cos(x)\n",
    "dictionary3={'xvalues':x,'y1values':y1,'y2values':y2}"
   ]
  },
  {
   "cell_type": "code",
   "execution_count": 8,
   "id": "thorough-greek",
   "metadata": {},
   "outputs": [
    {
     "name": "stdout",
     "output_type": "stream",
     "text": [
      "<class 'numpy.ndarray'>\n"
     ]
    }
   ],
   "source": [
    "print(type(dictionary3['xvalues']))"
   ]
  },
  {
   "cell_type": "markdown",
   "id": "every-violation",
   "metadata": {},
   "source": [
    "## Dictionary II way"
   ]
  },
  {
   "cell_type": "code",
   "execution_count": 9,
   "id": "loose-confirmation",
   "metadata": {},
   "outputs": [
    {
     "data": {
      "text/plain": [
       "{'a': 0, 'b': 1, 'c': 2, 'd': 3}"
      ]
     },
     "execution_count": 9,
     "metadata": {},
     "output_type": "execute_result"
    }
   ],
   "source": [
    "mykeys=['a','b','c','d']\n",
    "myvalues=[0,1,2,3]\n",
    "\n",
    "dict(zip(mykeys,myvalues))"
   ]
  },
  {
   "cell_type": "code",
   "execution_count": 10,
   "id": "controlled-implementation",
   "metadata": {},
   "outputs": [],
   "source": [
    "colvalues=['xvalues','y1values','y2values']\n",
    "x=np.linspace(-np.pi,np.pi,100)\n",
    "y1=np.sin(x)\n",
    "y2=np.cos(x)"
   ]
  },
  {
   "cell_type": "code",
   "execution_count": 11,
   "id": "spanish-fundamentals",
   "metadata": {},
   "outputs": [],
   "source": [
    "dictionary3=dict(zip(colvalues,[x,y1,y2]))"
   ]
  },
  {
   "cell_type": "markdown",
   "id": "allied-angel",
   "metadata": {},
   "source": [
    "## Convert dictionary into a Pandas dataframe"
   ]
  },
  {
   "cell_type": "code",
   "execution_count": 12,
   "id": "incredible-creature",
   "metadata": {},
   "outputs": [],
   "source": [
    "import pandas as pd"
   ]
  },
  {
   "cell_type": "markdown",
   "id": "interim-spirit",
   "metadata": {},
   "source": [
    "### if the values are vectors then its easy"
   ]
  },
  {
   "cell_type": "code",
   "execution_count": 13,
   "id": "atmospheric-african",
   "metadata": {},
   "outputs": [],
   "source": [
    "df3 = pd.DataFrame(dictionary3)"
   ]
  },
  {
   "cell_type": "code",
   "execution_count": 14,
   "id": "corrected-syracuse",
   "metadata": {},
   "outputs": [
    {
     "name": "stdout",
     "output_type": "stream",
     "text": [
      "<class 'pandas.core.frame.DataFrame'>\n"
     ]
    }
   ],
   "source": [
    "print(type(df3))"
   ]
  },
  {
   "cell_type": "markdown",
   "id": "mental-wallpaper",
   "metadata": {},
   "source": [
    "### if the values are scalars then put the dictionary in square brackets"
   ]
  },
  {
   "cell_type": "code",
   "execution_count": 15,
   "id": "short-strike",
   "metadata": {},
   "outputs": [],
   "source": [
    "dictionary1={'a':0,'b':1,'c':2,'d':3}"
   ]
  },
  {
   "cell_type": "code",
   "execution_count": 16,
   "id": "general-species",
   "metadata": {},
   "outputs": [],
   "source": [
    "df1 = pd.DataFrame(dictionary1,index=[0])"
   ]
  },
  {
   "cell_type": "code",
   "execution_count": 17,
   "id": "blocked-demand",
   "metadata": {},
   "outputs": [
    {
     "data": {
      "text/html": [
       "<div>\n",
       "<style scoped>\n",
       "    .dataframe tbody tr th:only-of-type {\n",
       "        vertical-align: middle;\n",
       "    }\n",
       "\n",
       "    .dataframe tbody tr th {\n",
       "        vertical-align: top;\n",
       "    }\n",
       "\n",
       "    .dataframe thead th {\n",
       "        text-align: right;\n",
       "    }\n",
       "</style>\n",
       "<table border=\"1\" class=\"dataframe\">\n",
       "  <thead>\n",
       "    <tr style=\"text-align: right;\">\n",
       "      <th></th>\n",
       "      <th>a</th>\n",
       "      <th>b</th>\n",
       "      <th>c</th>\n",
       "      <th>d</th>\n",
       "    </tr>\n",
       "  </thead>\n",
       "  <tbody>\n",
       "    <tr>\n",
       "      <th>0</th>\n",
       "      <td>0</td>\n",
       "      <td>1</td>\n",
       "      <td>2</td>\n",
       "      <td>3</td>\n",
       "    </tr>\n",
       "  </tbody>\n",
       "</table>\n",
       "</div>"
      ],
      "text/plain": [
       "   a  b  c  d\n",
       "0  0  1  2  3"
      ]
     },
     "execution_count": 17,
     "metadata": {},
     "output_type": "execute_result"
    }
   ],
   "source": [
    "df1"
   ]
  },
  {
   "cell_type": "code",
   "execution_count": 18,
   "id": "informed-grounds",
   "metadata": {},
   "outputs": [
    {
     "data": {
      "text/html": [
       "<div>\n",
       "<style scoped>\n",
       "    .dataframe tbody tr th:only-of-type {\n",
       "        vertical-align: middle;\n",
       "    }\n",
       "\n",
       "    .dataframe tbody tr th {\n",
       "        vertical-align: top;\n",
       "    }\n",
       "\n",
       "    .dataframe thead th {\n",
       "        text-align: right;\n",
       "    }\n",
       "</style>\n",
       "<table border=\"1\" class=\"dataframe\">\n",
       "  <thead>\n",
       "    <tr style=\"text-align: right;\">\n",
       "      <th></th>\n",
       "      <th>xvalues</th>\n",
       "      <th>y1values</th>\n",
       "      <th>y2values</th>\n",
       "    </tr>\n",
       "  </thead>\n",
       "  <tbody>\n",
       "    <tr>\n",
       "      <th>0</th>\n",
       "      <td>-3.141593</td>\n",
       "      <td>-1.224647e-16</td>\n",
       "      <td>-1.000000</td>\n",
       "    </tr>\n",
       "    <tr>\n",
       "      <th>1</th>\n",
       "      <td>-3.078126</td>\n",
       "      <td>-6.342392e-02</td>\n",
       "      <td>-0.997987</td>\n",
       "    </tr>\n",
       "    <tr>\n",
       "      <th>2</th>\n",
       "      <td>-3.014660</td>\n",
       "      <td>-1.265925e-01</td>\n",
       "      <td>-0.991955</td>\n",
       "    </tr>\n",
       "  </tbody>\n",
       "</table>\n",
       "</div>"
      ],
      "text/plain": [
       "    xvalues      y1values  y2values\n",
       "0 -3.141593 -1.224647e-16 -1.000000\n",
       "1 -3.078126 -6.342392e-02 -0.997987\n",
       "2 -3.014660 -1.265925e-01 -0.991955"
      ]
     },
     "execution_count": 18,
     "metadata": {},
     "output_type": "execute_result"
    }
   ],
   "source": [
    "df3.head(n=3) # por defector n=5"
   ]
  },
  {
   "cell_type": "code",
   "execution_count": 19,
   "id": "disciplinary-sugar",
   "metadata": {},
   "outputs": [
    {
     "data": {
      "text/html": [
       "<div>\n",
       "<style scoped>\n",
       "    .dataframe tbody tr th:only-of-type {\n",
       "        vertical-align: middle;\n",
       "    }\n",
       "\n",
       "    .dataframe tbody tr th {\n",
       "        vertical-align: top;\n",
       "    }\n",
       "\n",
       "    .dataframe thead th {\n",
       "        text-align: right;\n",
       "    }\n",
       "</style>\n",
       "<table border=\"1\" class=\"dataframe\">\n",
       "  <thead>\n",
       "    <tr style=\"text-align: right;\">\n",
       "      <th></th>\n",
       "      <th>xvalues</th>\n",
       "      <th>y1values</th>\n",
       "      <th>y2values</th>\n",
       "    </tr>\n",
       "  </thead>\n",
       "  <tbody>\n",
       "    <tr>\n",
       "      <th>95</th>\n",
       "      <td>2.887727</td>\n",
       "      <td>2.511480e-01</td>\n",
       "      <td>-0.967949</td>\n",
       "    </tr>\n",
       "    <tr>\n",
       "      <th>96</th>\n",
       "      <td>2.951193</td>\n",
       "      <td>1.892512e-01</td>\n",
       "      <td>-0.981929</td>\n",
       "    </tr>\n",
       "    <tr>\n",
       "      <th>97</th>\n",
       "      <td>3.014660</td>\n",
       "      <td>1.265925e-01</td>\n",
       "      <td>-0.991955</td>\n",
       "    </tr>\n",
       "    <tr>\n",
       "      <th>98</th>\n",
       "      <td>3.078126</td>\n",
       "      <td>6.342392e-02</td>\n",
       "      <td>-0.997987</td>\n",
       "    </tr>\n",
       "    <tr>\n",
       "      <th>99</th>\n",
       "      <td>3.141593</td>\n",
       "      <td>1.224647e-16</td>\n",
       "      <td>-1.000000</td>\n",
       "    </tr>\n",
       "  </tbody>\n",
       "</table>\n",
       "</div>"
      ],
      "text/plain": [
       "     xvalues      y1values  y2values\n",
       "95  2.887727  2.511480e-01 -0.967949\n",
       "96  2.951193  1.892512e-01 -0.981929\n",
       "97  3.014660  1.265925e-01 -0.991955\n",
       "98  3.078126  6.342392e-02 -0.997987\n",
       "99  3.141593  1.224647e-16 -1.000000"
      ]
     },
     "execution_count": 19,
     "metadata": {},
     "output_type": "execute_result"
    }
   ],
   "source": [
    "df3.tail()"
   ]
  },
  {
   "cell_type": "markdown",
   "id": "loved-racing",
   "metadata": {},
   "source": [
    "## saving dataframe into csv/txt file\n"
   ]
  },
  {
   "cell_type": "code",
   "execution_count": 20,
   "id": "fossil-mouth",
   "metadata": {},
   "outputs": [],
   "source": [
    "df3.to_csv('mytable.csv',sep=',')"
   ]
  },
  {
   "cell_type": "code",
   "execution_count": 21,
   "id": "absent-yacht",
   "metadata": {},
   "outputs": [],
   "source": [
    "df3.to_csv('mytable.txt',sep='\\t')"
   ]
  },
  {
   "cell_type": "code",
   "execution_count": 22,
   "id": "inner-mortality",
   "metadata": {},
   "outputs": [
    {
     "name": "stdout",
     "output_type": "stream",
     "text": [
      "dictionary_Pandas.ipynb  fruit_data_with_colors.txt  mytable.csv  mytable.txt\r\n"
     ]
    }
   ],
   "source": [
    "!ls"
   ]
  },
  {
   "cell_type": "markdown",
   "id": "rough-playback",
   "metadata": {},
   "source": [
    "## loading csv/txt file into a pandas dataframe"
   ]
  },
  {
   "cell_type": "code",
   "execution_count": 23,
   "id": "floating-intermediate",
   "metadata": {},
   "outputs": [],
   "source": [
    "df31 = pd.read_csv('mytable.csv',sep=',')"
   ]
  },
  {
   "cell_type": "code",
   "execution_count": 24,
   "id": "formed-sphere",
   "metadata": {},
   "outputs": [],
   "source": [
    "df32 = pd.read_csv('mytable.txt',sep='\\t')"
   ]
  },
  {
   "cell_type": "markdown",
   "id": "entire-radical",
   "metadata": {},
   "source": [
    "## some operations on pd"
   ]
  },
  {
   "cell_type": "code",
   "execution_count": 25,
   "id": "interpreted-velvet",
   "metadata": {},
   "outputs": [
    {
     "data": {
      "text/plain": [
       "Index(['xvalues', 'y1values', 'y2values'], dtype='object')"
      ]
     },
     "execution_count": 25,
     "metadata": {},
     "output_type": "execute_result"
    }
   ],
   "source": [
    "df3.columns"
   ]
  },
  {
   "cell_type": "code",
   "execution_count": 26,
   "id": "radical-exploration",
   "metadata": {},
   "outputs": [
    {
     "name": "stdout",
     "output_type": "stream",
     "text": [
      "-3.141592653589793\n",
      "-1.2246467991473532e-16\n",
      "-1.0\n"
     ]
    }
   ],
   "source": [
    "len(df3.columns)\n",
    "\n",
    "for i in range(len(df3.columns)):\n",
    "    print(df3[df3.columns[i]][0])"
   ]
  },
  {
   "cell_type": "code",
   "execution_count": 27,
   "id": "cloudy-translation",
   "metadata": {},
   "outputs": [
    {
     "data": {
      "text/plain": [
       "0    -3.141593\n",
       "1    -3.078126\n",
       "2    -3.014660\n",
       "3    -2.951193\n",
       "4    -2.887727\n",
       "        ...   \n",
       "95    2.887727\n",
       "96    2.951193\n",
       "97    3.014660\n",
       "98    3.078126\n",
       "99    3.141593\n",
       "Name: xvalues, Length: 100, dtype: float64"
      ]
     },
     "execution_count": 27,
     "metadata": {},
     "output_type": "execute_result"
    }
   ],
   "source": [
    "df3['xvalues']"
   ]
  },
  {
   "cell_type": "markdown",
   "id": "thermal-victoria",
   "metadata": {},
   "source": [
    "## Plotting from Pandas"
   ]
  },
  {
   "cell_type": "code",
   "execution_count": 28,
   "id": "wireless-wagon",
   "metadata": {},
   "outputs": [
    {
     "data": {
      "text/plain": [
       "[<matplotlib.lines.Line2D at 0x7f18b89994a8>]"
      ]
     },
     "execution_count": 28,
     "metadata": {},
     "output_type": "execute_result"
    },
    {
     "data": {
      "image/png": "[encoded data removed]",
      "text/plain": [
       "<Figure size 432x288 with 1 Axes>"
      ]
     },
     "metadata": {
      "needs_background": "light"
     },
     "output_type": "display_data"
    }
   ],
   "source": [
    "import matplotlib.pyplot as plt\n",
    "fig,ax =plt.subplots(1,1)\n",
    "ax.plot(df3['xvalues'],df3['y1values'])\n",
    "y2values=df3['y2values'].to_numpy()\n",
    "ax.plot(df3['y1values'],y2values)"
   ]
  },
  {
   "cell_type": "markdown",
   "id": "respective-elizabeth",
   "metadata": {},
   "source": [
    "## iterating over Pandas dataframe\n",
    "ITS NOT RECOMMENDED!"
   ]
  },
  {
   "cell_type": "code",
   "execution_count": 29,
   "id": "acting-notice",
   "metadata": {},
   "outputs": [
    {
     "name": "stdout",
     "output_type": "stream",
     "text": [
      "0    -3.141593\n",
      "1    -3.078126\n",
      "2    -3.014660\n",
      "3    -2.951193\n",
      "4    -2.887727\n",
      "        ...   \n",
      "95    2.887727\n",
      "96    2.951193\n",
      "97    3.014660\n",
      "98    3.078126\n",
      "99    3.141593\n",
      "Name: xvalues, Length: 100, dtype: float64\n",
      "0    -1.224647e-16\n",
      "1    -6.342392e-02\n",
      "2    -1.265925e-01\n",
      "3    -1.892512e-01\n",
      "4    -2.511480e-01\n",
      "          ...     \n",
      "95    2.511480e-01\n",
      "96    1.892512e-01\n",
      "97    1.265925e-01\n",
      "98    6.342392e-02\n",
      "99    1.224647e-16\n",
      "Name: y1values, Length: 100, dtype: float64\n",
      "0    -1.000000\n",
      "1    -0.997987\n",
      "2    -0.991955\n",
      "3    -0.981929\n",
      "4    -0.967949\n",
      "        ...   \n",
      "95   -0.967949\n",
      "96   -0.981929\n",
      "97   -0.991955\n",
      "98   -0.997987\n",
      "99   -1.000000\n",
      "Name: y2values, Length: 100, dtype: float64\n"
     ]
    }
   ],
   "source": [
    "# looping through columns\n",
    "for i in range(len(df3.columns)):\n",
    "    print(df3[df3.columns[i]])"
   ]
  },
  {
   "cell_type": "code",
   "execution_count": 30,
   "id": "subsequent-reverse",
   "metadata": {},
   "outputs": [],
   "source": [
    "# looping through columns\n",
    "#import time\n",
    "#for idx, row in df3.iterrows():\n",
    "#    #print(row['xvalues'])\n",
    "#    time.sleep(0.5)"
   ]
  },
  {
   "cell_type": "markdown",
   "id": "crazy-newport",
   "metadata": {},
   "source": [
    "# Real life example"
   ]
  },
  {
   "cell_type": "code",
   "execution_count": 31,
   "id": "silver-formula",
   "metadata": {},
   "outputs": [],
   "source": [
    "import pandas as pd"
   ]
  },
  {
   "cell_type": "code",
   "execution_count": 32,
   "id": "stuffed-modem",
   "metadata": {},
   "outputs": [],
   "source": [
    "df_fruits = pd.read_csv('fruit_data_with_colors.txt',sep='\\t')"
   ]
  },
  {
   "cell_type": "code",
   "execution_count": 33,
   "id": "global-tunnel",
   "metadata": {},
   "outputs": [
    {
     "data": {
      "text/html": [
       "<div>\n",
       "<style scoped>\n",
       "    .dataframe tbody tr th:only-of-type {\n",
       "        vertical-align: middle;\n",
       "    }\n",
       "\n",
       "    .dataframe tbody tr th {\n",
       "        vertical-align: top;\n",
       "    }\n",
       "\n",
       "    .dataframe thead th {\n",
       "        text-align: right;\n",
       "    }\n",
       "</style>\n",
       "<table border=\"1\" class=\"dataframe\">\n",
       "  <thead>\n",
       "    <tr style=\"text-align: right;\">\n",
       "      <th></th>\n",
       "      <th>fruit_label</th>\n",
       "      <th>fruit_name</th>\n",
       "      <th>fruit_subtype</th>\n",
       "      <th>mass</th>\n",
       "      <th>width</th>\n",
       "      <th>height</th>\n",
       "      <th>color_score</th>\n",
       "    </tr>\n",
       "  </thead>\n",
       "  <tbody>\n",
       "    <tr>\n",
       "      <th>0</th>\n",
       "      <td>1</td>\n",
       "      <td>apple</td>\n",
       "      <td>granny_smith</td>\n",
       "      <td>192</td>\n",
       "      <td>8.4</td>\n",
       "      <td>7.3</td>\n",
       "      <td>0.55</td>\n",
       "    </tr>\n",
       "    <tr>\n",
       "      <th>1</th>\n",
       "      <td>1</td>\n",
       "      <td>apple</td>\n",
       "      <td>granny_smith</td>\n",
       "      <td>180</td>\n",
       "      <td>8.0</td>\n",
       "      <td>6.8</td>\n",
       "      <td>0.59</td>\n",
       "    </tr>\n",
       "    <tr>\n",
       "      <th>2</th>\n",
       "      <td>1</td>\n",
       "      <td>apple</td>\n",
       "      <td>granny_smith</td>\n",
       "      <td>176</td>\n",
       "      <td>7.4</td>\n",
       "      <td>7.2</td>\n",
       "      <td>0.60</td>\n",
       "    </tr>\n",
       "    <tr>\n",
       "      <th>3</th>\n",
       "      <td>2</td>\n",
       "      <td>mandarin</td>\n",
       "      <td>mandarin</td>\n",
       "      <td>86</td>\n",
       "      <td>6.2</td>\n",
       "      <td>4.7</td>\n",
       "      <td>0.80</td>\n",
       "    </tr>\n",
       "    <tr>\n",
       "      <th>4</th>\n",
       "      <td>2</td>\n",
       "      <td>mandarin</td>\n",
       "      <td>mandarin</td>\n",
       "      <td>84</td>\n",
       "      <td>6.0</td>\n",
       "      <td>4.6</td>\n",
       "      <td>0.79</td>\n",
       "    </tr>\n",
       "  </tbody>\n",
       "</table>\n",
       "</div>"
      ],
      "text/plain": [
       "   fruit_label fruit_name  fruit_subtype  mass  width  height  color_score\n",
       "0            1     apple   granny_smith    192    8.4     7.3         0.55\n",
       "1            1     apple   granny_smith    180    8.0     6.8         0.59\n",
       "2            1     apple   granny_smith    176    7.4     7.2         0.60\n",
       "3            2  mandarin       mandarin     86    6.2     4.7         0.80\n",
       "4            2  mandarin       mandarin     84    6.0     4.6         0.79"
      ]
     },
     "execution_count": 33,
     "metadata": {},
     "output_type": "execute_result"
    }
   ],
   "source": [
    "df_fruits.head()"
   ]
  },
  {
   "cell_type": "code",
   "execution_count": 34,
   "id": "adult-chicago",
   "metadata": {},
   "outputs": [],
   "source": [
    "#method unique()"
   ]
  },
  {
   "cell_type": "code",
   "execution_count": 35,
   "id": "young-importance",
   "metadata": {},
   "outputs": [
    {
     "data": {
      "text/plain": [
       "array(['fruit_label', 'fruit_name', 'fruit_subtype', 'mass', 'width',\n",
       "       'height', 'color_score'], dtype=object)"
      ]
     },
     "execution_count": 35,
     "metadata": {},
     "output_type": "execute_result"
    }
   ],
   "source": [
    "df_fruits.columns.values"
   ]
  },
  {
   "cell_type": "code",
   "execution_count": 36,
   "id": "agricultural-yesterday",
   "metadata": {},
   "outputs": [
    {
     "data": {
      "text/plain": [
       "array([1, 2, 3, 4])"
      ]
     },
     "execution_count": 36,
     "metadata": {},
     "output_type": "execute_result"
    }
   ],
   "source": [
    "df_fruits['fruit_label'].unique()"
   ]
  },
  {
   "cell_type": "code",
   "execution_count": 37,
   "id": "broken-machine",
   "metadata": {},
   "outputs": [
    {
     "data": {
      "text/plain": [
       "array(['apple ', 'mandarin ', 'orange ', 'lemon '], dtype=object)"
      ]
     },
     "execution_count": 37,
     "metadata": {},
     "output_type": "execute_result"
    }
   ],
   "source": [
    "df_fruits['fruit_name'].unique()"
   ]
  },
  {
   "cell_type": "code",
   "execution_count": 38,
   "id": "aerial-watson",
   "metadata": {},
   "outputs": [],
   "source": [
    "lookup_table=dict(zip(df_fruits['fruit_label'].unique(),df_fruits['fruit_name'].unique()))"
   ]
  },
  {
   "cell_type": "code",
   "execution_count": 39,
   "id": "initial-given",
   "metadata": {},
   "outputs": [
    {
     "data": {
      "text/plain": [
       "{1: 'apple ', 2: 'mandarin ', 3: 'orange ', 4: 'lemon '}"
      ]
     },
     "execution_count": 39,
     "metadata": {},
     "output_type": "execute_result"
    }
   ],
   "source": [
    "lookup_table"
   ]
  },
  {
   "cell_type": "code",
   "execution_count": 40,
   "id": "metric-climate",
   "metadata": {},
   "outputs": [
    {
     "data": {
      "text/html": [
       "<div>\n",
       "<style scoped>\n",
       "    .dataframe tbody tr th:only-of-type {\n",
       "        vertical-align: middle;\n",
       "    }\n",
       "\n",
       "    .dataframe tbody tr th {\n",
       "        vertical-align: top;\n",
       "    }\n",
       "\n",
       "    .dataframe thead th {\n",
       "        text-align: right;\n",
       "    }\n",
       "</style>\n",
       "<table border=\"1\" class=\"dataframe\">\n",
       "  <thead>\n",
       "    <tr style=\"text-align: right;\">\n",
       "      <th></th>\n",
       "      <th>fruit_label</th>\n",
       "      <th>mass</th>\n",
       "      <th>width</th>\n",
       "      <th>height</th>\n",
       "      <th>color_score</th>\n",
       "    </tr>\n",
       "  </thead>\n",
       "  <tbody>\n",
       "    <tr>\n",
       "      <th>count</th>\n",
       "      <td>59.000000</td>\n",
       "      <td>59.000000</td>\n",
       "      <td>59.000000</td>\n",
       "      <td>59.000000</td>\n",
       "      <td>59.000000</td>\n",
       "    </tr>\n",
       "    <tr>\n",
       "      <th>mean</th>\n",
       "      <td>2.542373</td>\n",
       "      <td>163.118644</td>\n",
       "      <td>7.105085</td>\n",
       "      <td>7.693220</td>\n",
       "      <td>0.762881</td>\n",
       "    </tr>\n",
       "    <tr>\n",
       "      <th>std</th>\n",
       "      <td>1.208048</td>\n",
       "      <td>55.018832</td>\n",
       "      <td>0.816938</td>\n",
       "      <td>1.361017</td>\n",
       "      <td>0.076857</td>\n",
       "    </tr>\n",
       "    <tr>\n",
       "      <th>min</th>\n",
       "      <td>1.000000</td>\n",
       "      <td>76.000000</td>\n",
       "      <td>5.800000</td>\n",
       "      <td>4.000000</td>\n",
       "      <td>0.550000</td>\n",
       "    </tr>\n",
       "    <tr>\n",
       "      <th>25%</th>\n",
       "      <td>1.000000</td>\n",
       "      <td>140.000000</td>\n",
       "      <td>6.600000</td>\n",
       "      <td>7.200000</td>\n",
       "      <td>0.720000</td>\n",
       "    </tr>\n",
       "    <tr>\n",
       "      <th>50%</th>\n",
       "      <td>3.000000</td>\n",
       "      <td>158.000000</td>\n",
       "      <td>7.200000</td>\n",
       "      <td>7.600000</td>\n",
       "      <td>0.750000</td>\n",
       "    </tr>\n",
       "    <tr>\n",
       "      <th>75%</th>\n",
       "      <td>4.000000</td>\n",
       "      <td>177.000000</td>\n",
       "      <td>7.500000</td>\n",
       "      <td>8.200000</td>\n",
       "      <td>0.810000</td>\n",
       "    </tr>\n",
       "    <tr>\n",
       "      <th>max</th>\n",
       "      <td>4.000000</td>\n",
       "      <td>362.000000</td>\n",
       "      <td>9.600000</td>\n",
       "      <td>10.500000</td>\n",
       "      <td>0.930000</td>\n",
       "    </tr>\n",
       "  </tbody>\n",
       "</table>\n",
       "</div>"
      ],
      "text/plain": [
       "       fruit_label        mass      width     height  color_score\n",
       "count    59.000000   59.000000  59.000000  59.000000    59.000000\n",
       "mean      2.542373  163.118644   7.105085   7.693220     0.762881\n",
       "std       1.208048   55.018832   0.816938   1.361017     0.076857\n",
       "min       1.000000   76.000000   5.800000   4.000000     0.550000\n",
       "25%       1.000000  140.000000   6.600000   7.200000     0.720000\n",
       "50%       3.000000  158.000000   7.200000   7.600000     0.750000\n",
       "75%       4.000000  177.000000   7.500000   8.200000     0.810000\n",
       "max       4.000000  362.000000   9.600000  10.500000     0.930000"
      ]
     },
     "execution_count": 40,
     "metadata": {},
     "output_type": "execute_result"
    }
   ],
   "source": [
    "df_fruits.describe()"
   ]
  },
  {
   "cell_type": "code",
   "execution_count": 41,
   "id": "verbal-trick",
   "metadata": {},
   "outputs": [
    {
     "data": {
      "text/html": [
       "<div>\n",
       "<style scoped>\n",
       "    .dataframe tbody tr th:only-of-type {\n",
       "        vertical-align: middle;\n",
       "    }\n",
       "\n",
       "    .dataframe tbody tr th {\n",
       "        vertical-align: top;\n",
       "    }\n",
       "\n",
       "    .dataframe thead th {\n",
       "        text-align: right;\n",
       "    }\n",
       "</style>\n",
       "<table border=\"1\" class=\"dataframe\">\n",
       "  <thead>\n",
       "    <tr style=\"text-align: right;\">\n",
       "      <th></th>\n",
       "      <th>xvalues</th>\n",
       "      <th>y1values</th>\n",
       "      <th>y2values</th>\n",
       "    </tr>\n",
       "  </thead>\n",
       "  <tbody>\n",
       "    <tr>\n",
       "      <th>count</th>\n",
       "      <td>1.000000e+02</td>\n",
       "      <td>1.000000e+02</td>\n",
       "      <td>100.000000</td>\n",
       "    </tr>\n",
       "    <tr>\n",
       "      <th>mean</th>\n",
       "      <td>1.421085e-16</td>\n",
       "      <td>-1.334703e-17</td>\n",
       "      <td>-0.010000</td>\n",
       "    </tr>\n",
       "    <tr>\n",
       "      <th>std</th>\n",
       "      <td>1.841258e+00</td>\n",
       "      <td>7.071068e-01</td>\n",
       "      <td>0.714143</td>\n",
       "    </tr>\n",
       "    <tr>\n",
       "      <th>min</th>\n",
       "      <td>-3.141593e+00</td>\n",
       "      <td>-9.998741e-01</td>\n",
       "      <td>-1.000000</td>\n",
       "    </tr>\n",
       "    <tr>\n",
       "      <th>25%</th>\n",
       "      <td>-1.570796e+00</td>\n",
       "      <td>-6.957328e-01</td>\n",
       "      <td>-0.723734</td>\n",
       "    </tr>\n",
       "    <tr>\n",
       "      <th>50%</th>\n",
       "      <td>2.220446e-16</td>\n",
       "      <td>0.000000e+00</td>\n",
       "      <td>-0.015858</td>\n",
       "    </tr>\n",
       "    <tr>\n",
       "      <th>75%</th>\n",
       "      <td>1.570796e+00</td>\n",
       "      <td>6.957328e-01</td>\n",
       "      <td>0.701475</td>\n",
       "    </tr>\n",
       "    <tr>\n",
       "      <th>max</th>\n",
       "      <td>3.141593e+00</td>\n",
       "      <td>9.998741e-01</td>\n",
       "      <td>0.999497</td>\n",
       "    </tr>\n",
       "  </tbody>\n",
       "</table>\n",
       "</div>"
      ],
      "text/plain": [
       "            xvalues      y1values    y2values\n",
       "count  1.000000e+02  1.000000e+02  100.000000\n",
       "mean   1.421085e-16 -1.334703e-17   -0.010000\n",
       "std    1.841258e+00  7.071068e-01    0.714143\n",
       "min   -3.141593e+00 -9.998741e-01   -1.000000\n",
       "25%   -1.570796e+00 -6.957328e-01   -0.723734\n",
       "50%    2.220446e-16  0.000000e+00   -0.015858\n",
       "75%    1.570796e+00  6.957328e-01    0.701475\n",
       "max    3.141593e+00  9.998741e-01    0.999497"
      ]
     },
     "execution_count": 41,
     "metadata": {},
     "output_type": "execute_result"
    }
   ],
   "source": [
    "df3.describe()"
   ]
  },
  {
   "cell_type": "code",
   "execution_count": 42,
   "id": "civic-cabinet",
   "metadata": {},
   "outputs": [
    {
     "data": {
      "text/plain": [
       "fruit_name\n",
       "apple        19\n",
       "lemon        16\n",
       "mandarin      5\n",
       "orange       19\n",
       "dtype: int64"
      ]
     },
     "execution_count": 42,
     "metadata": {},
     "output_type": "execute_result"
    }
   ],
   "source": [
    "df_fruits.groupby('fruit_name').size()"
   ]
  },
  {
   "cell_type": "markdown",
   "id": "checked-secondary",
   "metadata": {},
   "source": [
    "## Importing datasets as a dictionary"
   ]
  },
  {
   "cell_type": "code",
   "execution_count": 45,
   "id": "finished-retrieval",
   "metadata": {},
   "outputs": [],
   "source": [
    "from sklearn import datasets\n",
    "iris = datasets.load_iris()"
   ]
  },
  {
   "cell_type": "code",
   "execution_count": 46,
   "id": "featured-laundry",
   "metadata": {},
   "outputs": [
    {
     "data": {
      "text/plain": [
       "dict_keys(['data', 'target', 'frame', 'target_names', 'DESCR', 'feature_names', 'filename'])"
      ]
     },
     "execution_count": 46,
     "metadata": {},
     "output_type": "execute_result"
    }
   ],
   "source": [
    "iris.keys()"
   ]
  },
  {
   "cell_type": "code",
   "execution_count": 48,
   "id": "prime-equity",
   "metadata": {},
   "outputs": [
    {
     "name": "stdout",
     "output_type": "stream",
     "text": [
      ".. _iris_dataset:\n",
      "\n",
      "Iris plants dataset\n",
      "--------------------\n",
      "\n",
      "**Data Set Characteristics:**\n",
      "\n",
      "    :Number of Instances: 150 (50 in each of three classes)\n",
      "    :Number of Attributes: 4 numeric, predictive attributes and the class\n",
      "    :Attribute Information:\n",
      "        - sepal length in cm\n",
      "        - sepal width in cm\n",
      "        - petal length in cm\n",
      "        - petal width in cm\n",
      "        - class:\n",
      "                - Iris-Setosa\n",
      "                - Iris-Versicolour\n",
      "                - Iris-Virginica\n",
      "                \n",
      "    :Summary Statistics:\n",
      "\n",
      "    ============== ==== ==== ======= ===== ====================\n",
      "                    Min  Max   Mean    SD   Class Correlation\n",
      "    ============== ==== ==== ======= ===== ====================\n",
      "    sepal length:   4.3  7.9   5.84   0.83    0.7826\n",
      "    sepal width:    2.0  4.4   3.05   0.43   -0.4194\n",
      "    petal length:   1.0  6.9   3.76   1.76    0.9490  (high!)\n",
      "    petal width:    0.1  2.5   1.20   0.76    0.9565  (high!)\n",
      "    ============== ==== ==== ======= ===== ====================\n",
      "\n",
      "    :Missing Attribute Values: None\n",
      "    :Class Distribution: 33.3% for each of 3 classes.\n",
      "    :Creator: R.A. Fisher\n",
      "    :Donor: Michael Marshall (MARSHALL%PLU@io.arc.nasa.gov)\n",
      "    :Date: July, 1988\n",
      "\n",
      "The famous Iris database, first used by Sir R.A. Fisher. The dataset is taken\n",
      "from Fisher's paper. Note that it's the same as in R, but not as in the UCI\n",
      "Machine Learning Repository, which has two wrong data points.\n",
      "\n",
      "This is perhaps the best known database to be found in the\n",
      "pattern recognition literature.  Fisher's paper is a classic in the field and\n",
      "is referenced frequently to this day.  (See Duda & Hart, for example.)  The\n",
      "data set contains 3 classes of 50 instances each, where each class refers to a\n",
      "type of iris plant.  One class is linearly separable from the other 2; the\n",
      "latter are NOT linearly separable from each other.\n",
      "\n",
      ".. topic:: References\n",
      "\n",
      "   - Fisher, R.A. \"The use of multiple measurements in taxonomic problems\"\n",
      "     Annual Eugenics, 7, Part II, 179-188 (1936); also in \"Contributions to\n",
      "     Mathematical Statistics\" (John Wiley, NY, 1950).\n",
      "   - Duda, R.O., & Hart, P.E. (1973) Pattern Classification and Scene Analysis.\n",
      "     (Q327.D83) John Wiley & Sons.  ISBN 0-471-22361-1.  See page 218.\n",
      "   - Dasarathy, B.V. (1980) \"Nosing Around the Neighborhood: A New System\n",
      "     Structure and Classification Rule for Recognition in Partially Exposed\n",
      "     Environments\".  IEEE Transactions on Pattern Analysis and Machine\n",
      "     Intelligence, Vol. PAMI-2, No. 1, 67-71.\n",
      "   - Gates, G.W. (1972) \"The Reduced Nearest Neighbor Rule\".  IEEE Transactions\n",
      "     on Information Theory, May 1972, 431-433.\n",
      "   - See also: 1988 MLC Proceedings, 54-64.  Cheeseman et al\"s AUTOCLASS II\n",
      "     conceptual clustering system finds 3 classes in the data.\n",
      "   - Many, many more ...\n"
     ]
    }
   ],
   "source": [
    "print(iris['DESCR'])"
   ]
  },
  {
   "cell_type": "code",
   "execution_count": 51,
   "id": "tired-shade",
   "metadata": {},
   "outputs": [
    {
     "data": {
      "text/plain": [
       "array([5.1, 3.5, 1.4, 0.2])"
      ]
     },
     "execution_count": 51,
     "metadata": {},
     "output_type": "execute_result"
    }
   ],
   "source": [
    "n_samples=\n",
    "np.random.randitn(0,)\n",
    "iris['data'][0]"
   ]
  },
  {
   "cell_type": "code",
   "execution_count": null,
   "id": "hungry-parcel",
   "metadata": {},
   "outputs": [],
   "source": []
  }
 ],
 "metadata": {
  "kernelspec": {
   "display_name": "Python 3",
   "language": "python",
   "name": "python3"
  },
  "language_info": {
   "codemirror_mode": {
    "name": "ipython",
    "version": 3
   },
   "file_extension": ".py",
   "mimetype": "text/x-python",
   "name": "python",
   "nbconvert_exporter": "python",
   "pygments_lexer": "ipython3",
   "version": "3.7.2"
  }
 },
 "nbformat": 4,
 "nbformat_minor": 5
}
