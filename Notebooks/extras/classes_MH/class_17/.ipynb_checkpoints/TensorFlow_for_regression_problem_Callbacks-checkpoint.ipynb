{
 "cells": [
  {
   "cell_type": "markdown",
   "metadata": {},
   "source": [
    "# Neural Network with TensorFlow - regression problem (extended)\n"
   ]
  },
  {
   "cell_type": "markdown",
   "metadata": {},
   "source": [
    "# Lets perform the Prediction on the diabetes progression from 10 features \n",
    "\n",
    "* (the same problem could be a classification problem if the diabetes values were descrete)"
   ]
  },
  {
   "cell_type": "markdown",
   "metadata": {},
   "source": [
    "https://medium.com/analytics-vidhya/introduction-to-linear-regression-sklearn-diabetes-dataset-f63378b0a1ee"
   ]
  },
  {
   "cell_type": "markdown",
   "metadata": {},
   "source": [
    "#### Load the data"
   ]
  },
  {
   "cell_type": "code",
   "execution_count": 36,
   "metadata": {},
   "outputs": [],
   "source": [
    "# Load the diabetes dataset\n",
    "from sklearn.datasets import load_diabetes\n",
    "data=load_diabetes()"
   ]
  },
  {
   "cell_type": "code",
   "execution_count": 37,
   "metadata": {},
   "outputs": [
    {
     "name": "stdout",
     "output_type": "stream",
     "text": [
      ".. _diabetes_dataset:\n",
      "\n",
      "Diabetes dataset\n",
      "----------------\n",
      "\n",
      "Ten baseline variables, age, sex, body mass index, average blood\n",
      "pressure, and six blood serum measurements were obtained for each of n =\n",
      "442 diabetes patients, as well as the response of interest, a\n",
      "quantitative measure of disease progression one year after baseline.\n",
      "\n",
      "**Data Set Characteristics:**\n",
      "\n",
      "  :Number of Instances: 442\n",
      "\n",
      "  :Number of Attributes: First 10 columns are numeric predictive values\n",
      "\n",
      "  :Target: Column 11 is a quantitative measure of disease progression one year after baseline\n",
      "\n",
      "  :Attribute Information:\n",
      "      - age     age in years\n",
      "      - sex\n",
      "      - bmi     body mass index\n",
      "      - bp      average blood pressure\n",
      "      - s1      tc, T-Cells (a type of white blood cells)\n",
      "      - s2      ldl, low-density lipoproteins\n",
      "      - s3      hdl, high-density lipoproteins\n",
      "      - s4      tch, thyroid stimulating hormone\n",
      "      - s5      ltg, lamotrigine\n",
      "      - s6      glu, blood sugar level\n",
      "\n",
      "Note: Each of these 10 feature variables have been mean centered and scaled by the standard deviation times `n_samples` (i.e. the sum of squares of each column totals 1).\n",
      "\n",
      "Source URL:\n",
      "https://www4.stat.ncsu.edu/~boos/var.select/diabetes.html\n",
      "\n",
      "For more information see:\n",
      "Bradley Efron, Trevor Hastie, Iain Johnstone and Robert Tibshirani (2004) \"Least Angle Regression,\" Annals of Statistics (with discussion), 407-499.\n",
      "(https://web.stanford.edu/~hastie/Papers/LARS/LeastAngle_2002.pdf)\n",
      "['DESCR', 'data', 'data_filename', 'feature_names', 'frame', 'target', 'target_filename']\n"
     ]
    }
   ],
   "source": [
    "# Save the input and target variables\n",
    "print(data['DESCR'])\n",
    "X_data=data['data']\n",
    "y_data=data['target']\n",
    "print(dir(data))"
   ]
  },
  {
   "cell_type": "code",
   "execution_count": 38,
   "metadata": {},
   "outputs": [
    {
     "data": {
      "text/plain": [
       "array([151.,  75., 141., 206., 135.,  97., 138.,  63., 110., 310.])"
      ]
     },
     "execution_count": 38,
     "metadata": {},
     "output_type": "execute_result"
    }
   ],
   "source": [
    "y_data[0:10]"
   ]
  },
  {
   "cell_type": "code",
   "execution_count": 39,
   "metadata": {},
   "outputs": [
    {
     "data": {
      "text/plain": [
       "array([[ 0.03807591,  0.05068012,  0.06169621,  0.02187235, -0.0442235 ],\n",
       "       [-0.00188202, -0.04464164, -0.05147406, -0.02632783, -0.00844872],\n",
       "       [ 0.08529891,  0.05068012,  0.04445121, -0.00567061, -0.04559945],\n",
       "       [-0.08906294, -0.04464164, -0.01159501, -0.03665645,  0.01219057],\n",
       "       [ 0.00538306, -0.04464164, -0.03638469,  0.02187235,  0.00393485]])"
      ]
     },
     "execution_count": 39,
     "metadata": {},
     "output_type": "execute_result"
    }
   ],
   "source": [
    "X_data[0:5,0:5]"
   ]
  },
  {
   "cell_type": "code",
   "execution_count": 40,
   "metadata": {},
   "outputs": [
    {
     "data": {
      "text/plain": [
       "[<matplotlib.lines.Line2D at 0x7f6bd7d2ae10>]"
      ]
     },
     "execution_count": 40,
     "metadata": {},
     "output_type": "execute_result"
    },
    {
     "data": {
      "image/png": "[encoded data removed]",
      "text/plain": [
       "<Figure size 432x288 with 1 Axes>"
      ]
     },
     "metadata": {
      "needs_background": "light"
     },
     "output_type": "display_data"
    }
   ],
   "source": [
    "import matplotlib.pyplot as plt\n",
    "fig,ax=plt.subplots(1,1)\n",
    "ax.plot(X_data[:,2],y_data[:],'.k')"
   ]
  },
  {
   "cell_type": "code",
   "execution_count": 41,
   "metadata": {},
   "outputs": [],
   "source": [
    "# Normalise the target data (this will make clearer training curves)\n",
    "#X_data=(X_data-X_data.mean())/(X_data.std())\n",
    "#y_data=(y_data-y_data.mean())/(y_data.std())"
   ]
  },
  {
   "cell_type": "code",
   "execution_count": 42,
   "metadata": {},
   "outputs": [
    {
     "data": {
      "text/plain": [
       "array([[ 0.03807591,  0.05068012,  0.06169621,  0.02187235, -0.0442235 ],\n",
       "       [-0.00188202, -0.04464164, -0.05147406, -0.02632783, -0.00844872],\n",
       "       [ 0.08529891,  0.05068012,  0.04445121, -0.00567061, -0.04559945],\n",
       "       [-0.08906294, -0.04464164, -0.01159501, -0.03665645,  0.01219057],\n",
       "       [ 0.00538306, -0.04464164, -0.03638469,  0.02187235,  0.00393485]])"
      ]
     },
     "execution_count": 42,
     "metadata": {},
     "output_type": "execute_result"
    }
   ],
   "source": [
    "X_data[0:5,0:5]"
   ]
  },
  {
   "cell_type": "code",
   "execution_count": 43,
   "metadata": {},
   "outputs": [
    {
     "data": {
      "text/plain": [
       "array([151.,  75., 141., 206., 135.,  97., 138.,  63., 110., 310.])"
      ]
     },
     "execution_count": 43,
     "metadata": {},
     "output_type": "execute_result"
    }
   ],
   "source": [
    "y_data[0:10]"
   ]
  },
  {
   "cell_type": "code",
   "execution_count": 44,
   "metadata": {},
   "outputs": [
    {
     "name": "stdout",
     "output_type": "stream",
     "text": [
      "(397, 10)\n",
      "(45, 10)\n"
     ]
    }
   ],
   "source": [
    "# Split the data into train and test sets\n",
    "from sklearn.model_selection import train_test_split\n",
    "(X_train,X_test,y_train,y_test)=train_test_split(X_data,y_data,test_size=0.1)\n",
    "print(X_train.shape)\n",
    "print(X_test.shape)"
   ]
  },
  {
   "cell_type": "code",
   "execution_count": 45,
   "metadata": {},
   "outputs": [
    {
     "name": "stdout",
     "output_type": "stream",
     "text": [
      "(10,)\n",
      "(45, 10)\n"
     ]
    }
   ],
   "source": [
    "print(X_train[0].shape)\n",
    "print(X_test.shape)"
   ]
  },
  {
   "cell_type": "markdown",
   "metadata": {},
   "source": [
    "#### Train a feedforward neural network model"
   ]
  },
  {
   "cell_type": "code",
   "execution_count": 46,
   "metadata": {},
   "outputs": [
    {
     "name": "stdout",
     "output_type": "stream",
     "text": [
      "2.5.0\n"
     ]
    }
   ],
   "source": [
    "import tensorflow as tf\n",
    "print(tf.__version__)\n",
    "#tf.random.set_seed(1234)\n",
    "\n",
    "from tensorflow.keras.models import Sequential\n",
    "from tensorflow.keras.layers import InputLayer, Dense,Dropout\n",
    "from tensorflow.keras import regularizers"
   ]
  },
  {
   "cell_type": "code",
   "execution_count": 47,
   "metadata": {},
   "outputs": [],
   "source": [
    "# Build the model\n",
    "import tensorflow as tf\n",
    "from tensorflow.keras.models import Sequential\n",
    "from tensorflow.keras.layers import InputLayer, Dense, Softmax\n",
    "from tensorflow.keras.callbacks import EarlyStopping\n",
    "\n",
    "def get_model(input_shape):\n",
    "    model=Sequential([InputLayer(input_shape=input_shape),\n",
    "                Dense(units=128,activation='relu'),\n",
    "                Dense(units=128,activation='relu'),\n",
    "                Dense(units=128,activation='relu'),\n",
    "                Dense(units=128,activation='relu'),\n",
    "                Dense(units=128,activation='relu'),\n",
    "                Dense(units=128,activation='relu'),\n",
    "                Dense(units=1)\n",
    "    ])\n",
    "    return model\n"
   ]
  },
  {
   "cell_type": "code",
   "execution_count": 48,
   "metadata": {},
   "outputs": [],
   "source": [
    "model = get_model(X_train[0].shape)"
   ]
  },
  {
   "cell_type": "code",
   "execution_count": 49,
   "metadata": {},
   "outputs": [
    {
     "name": "stdout",
     "output_type": "stream",
     "text": [
      "Model: \"sequential_4\"\n",
      "_________________________________________________________________\n",
      "Layer (type)                 Output Shape              Param #   \n",
      "=================================================================\n",
      "dense_25 (Dense)             (None, 128)               1408      \n",
      "_________________________________________________________________\n",
      "dense_26 (Dense)             (None, 128)               16512     \n",
      "_________________________________________________________________\n",
      "dense_27 (Dense)             (None, 128)               16512     \n",
      "_________________________________________________________________\n",
      "dense_28 (Dense)             (None, 128)               16512     \n",
      "_________________________________________________________________\n",
      "dense_29 (Dense)             (None, 128)               16512     \n",
      "_________________________________________________________________\n",
      "dense_30 (Dense)             (None, 128)               16512     \n",
      "_________________________________________________________________\n",
      "dense_31 (Dense)             (None, 1)                 129       \n",
      "=================================================================\n",
      "Total params: 84,097\n",
      "Trainable params: 84,097\n",
      "Non-trainable params: 0\n",
      "_________________________________________________________________\n"
     ]
    }
   ],
   "source": [
    "model.summary()"
   ]
  },
  {
   "cell_type": "code",
   "execution_count": 50,
   "metadata": {},
   "outputs": [],
   "source": [
    "def compile_model(model):\n",
    "        model.compile(optimizer='adam',loss='mse',metrics=['mae'])"
   ]
  },
  {
   "cell_type": "code",
   "execution_count": 51,
   "metadata": {},
   "outputs": [],
   "source": [
    "compile_model(model)"
   ]
  },
  {
   "cell_type": "code",
   "execution_count": 52,
   "metadata": {},
   "outputs": [],
   "source": [
    "history=model.fit(X_train,y_train,batch_size=64, epochs=100, validation_split=0.15,verbose=0)"
   ]
  },
  {
   "cell_type": "code",
   "execution_count": 53,
   "metadata": {},
   "outputs": [
    {
     "name": "stdout",
     "output_type": "stream",
     "text": [
      "2/2 [==============================] - 0s 3ms/step - loss: 3417.6770 - mae: 46.4646\n",
      "[3417.677001953125, 46.464637756347656]\n"
     ]
    }
   ],
   "source": [
    "scores=model.evaluate(X_test,y_test)\n",
    "print(scores)"
   ]
  },
  {
   "cell_type": "code",
   "execution_count": 54,
   "metadata": {},
   "outputs": [
    {
     "data": {
      "image/png": "[encoded data removed]",
      "text/plain": [
       "<Figure size 432x288 with 1 Axes>"
      ]
     },
     "metadata": {
      "needs_background": "light"
     },
     "output_type": "display_data"
    }
   ],
   "source": [
    "# Plot the training and validation loss\n",
    "import matplotlib.pyplot as plt\n",
    "%matplotlib inline\n",
    "plt.plot(history.history['loss'])\n",
    "plt.plot(history.history['val_loss'])\n",
    "plt.title('Loss vs. epochs')\n",
    "plt.ylabel('Loss')\n",
    "plt.xlabel('Epoch')\n",
    "plt.legend(['Training', 'Validation'], loc='upper right')\n",
    "plt.show()"
   ]
  },
  {
   "cell_type": "code",
   "execution_count": 55,
   "metadata": {},
   "outputs": [],
   "source": [
    "def get_regularized_model(input_shape,wd,drate):\n",
    "    model=Sequential([InputLayer(input_shape=input_shape),\n",
    "                Dense(128, kernel_regularizer = regularizers.l2(wd), activation=\"relu\"),\n",
    "                Dropout(drate),\n",
    "                Dense(128, kernel_regularizer = regularizers.l2(wd), activation=\"relu\"),\n",
    "                Dropout(drate),\n",
    "                Dense(128, kernel_regularizer = regularizers.l2(wd), activation=\"relu\"),\n",
    "                Dropout(drate),\n",
    "                Dense(128, kernel_regularizer = regularizers.l2(wd), activation=\"relu\"),\n",
    "                Dropout(drate),\n",
    "                Dense(128, kernel_regularizer = regularizers.l2(wd), activation=\"relu\"),\n",
    "                Dropout(drate),\n",
    "                Dense(128, kernel_regularizer = regularizers.l2(wd), activation=\"relu\"),\n",
    "                Dense(units=1) # by default\n",
    "    ])\n",
    "    return model"
   ]
  },
  {
   "cell_type": "code",
   "execution_count": 56,
   "metadata": {},
   "outputs": [],
   "source": [
    "model = get_regularized_model(X_train[0].shape,1e-5,0.3)"
   ]
  },
  {
   "cell_type": "code",
   "execution_count": 57,
   "metadata": {},
   "outputs": [],
   "source": [
    "def compile_model_reg(model):\n",
    "        model.compile(optimizer='adam',loss='mse',metrics=['mape'])"
   ]
  },
  {
   "cell_type": "code",
   "execution_count": 58,
   "metadata": {},
   "outputs": [],
   "source": [
    "compile_model_reg(model)"
   ]
  },
  {
   "cell_type": "code",
   "execution_count": 59,
   "metadata": {},
   "outputs": [],
   "source": [
    "history=model.fit(X_train,y_train,batch_size=64, epochs=100, validation_split=0.15, verbose=0)"
   ]
  },
  {
   "cell_type": "code",
   "execution_count": 60,
   "metadata": {},
   "outputs": [
    {
     "name": "stdout",
     "output_type": "stream",
     "text": [
      "2/2 [==============================] - 0s 5ms/step - loss: 3361.2075 - mape: 45.0782\n",
      "[3361.20751953125, 45.078224182128906]\n"
     ]
    }
   ],
   "source": [
    "scores=model.evaluate(X_test,y_test)\n",
    "print(scores)"
   ]
  },
  {
   "cell_type": "code",
   "execution_count": 61,
   "metadata": {},
   "outputs": [
    {
     "data": {
      "image/png": "[encoded data removed]",
      "text/plain": [
       "<Figure size 432x288 with 1 Axes>"
      ]
     },
     "metadata": {
      "needs_background": "light"
     },
     "output_type": "display_data"
    }
   ],
   "source": [
    "# Plot the training and validation loss\n",
    "import matplotlib.pyplot as plt\n",
    "%matplotlib inline\n",
    "plt.plot(history.history['loss'])\n",
    "plt.plot(history.history['val_loss'])\n",
    "plt.title('Loss vs. epochs')\n",
    "plt.ylabel('Loss')\n",
    "plt.xlabel('Epoch')\n",
    "plt.legend(['Training', 'Validation'], loc='upper right')\n",
    "plt.show()"
   ]
  },
  {
   "cell_type": "markdown",
   "metadata": {},
   "source": [
    "# Early Stopping Callback"
   ]
  },
  {
   "cell_type": "markdown",
   "metadata": {},
   "source": [
    "https://keras.io/api/callbacks/early_stopping/"
   ]
  },
  {
   "cell_type": "markdown",
   "metadata": {},
   "source": [
    "Too many epochs can lead to overfitting of the training dataset, whereas too few may result in an underfit model. Early stopping is a method that allows you to specify an arbitrary large number of training epochs and stop training once the model performance stops improving on a hold out validation dataset."
   ]
  },
  {
   "cell_type": "markdown",
   "metadata": {},
   "source": [
    "Callbacks provide a way to execute code and interact with the training model process automatically."
   ]
  },
  {
   "cell_type": "markdown",
   "metadata": {},
   "source": [
    "Keras supports the early stopping of training via a callback called EarlyStopping.\n",
    "\n",
    "This callback allows you to specify the performance measure to monitor, the trigger, and once triggered, it will stop the training process.\n",
    "\n",
    "The EarlyStopping callback is configured when instantiated via arguments.\n"
   ]
  },
  {
   "cell_type": "markdown",
   "metadata": {},
   "source": [
    "* The “monitor” allows you to specify the performance measure to monitor in order to end training. Recall from the previous section that the calculation of measures on the validation dataset will have the ‘val_‘ prefix, such as ‘val_loss‘ for the loss on the validation dataset.\n",
    "`es = EarlyStopping(monitor='val_loss')`\n",
    "\n",
    "* Based on the choice of performance measure, the “mode” argument will need to be specified as whether the objective of the chosen metric is to increase (maximize or ‘max‘) or to decrease (minimize or ‘min‘).\n",
    "\n",
    "* For example, we would seek a minimum for validation loss and a minimum for validation mean squared error, whereas we would seek a maximum for validation accuracy.\n",
    "`es = EarlyStopping(monitor='val_loss', mode='min')`\n",
    "\n",
    "* By default, mode is set to ‘auto‘ and knows that you want to minimize loss or maximize accuracy.\n",
    "\n",
    "* That is all that is needed for the simplest form of early stopping. Training will stop when the chosen performance measure stops improving. To discover the training epoch on which training was stopped, the “verbose” argument can be set to 1. Once stopped, the callback will print the epoch number.\n",
    "`es = EarlyStopping(monitor='val_loss', mode='min', verbose=1)`\n",
    "\n",
    "* Often, the first sign of no further improvement may not be the best time to stop training. This is because the model may coast into a plateau of no improvement or even get slightly worse before getting much better.\n",
    "\n",
    "* We can account for this by adding a delay to the trigger in terms of the number of epochs on which we would like to see no improvement. This can be done by setting the “patience” argument.\n",
    "\n",
    "* `es = EarlyStopping(monitor='val_loss', mode='min', verbose=1, patience=5)`"
   ]
  },
  {
   "cell_type": "code",
   "execution_count": 62,
   "metadata": {},
   "outputs": [],
   "source": [
    "from tensorflow.keras.callbacks import EarlyStopping"
   ]
  },
  {
   "cell_type": "code",
   "execution_count": 63,
   "metadata": {},
   "outputs": [],
   "source": [
    "def get_regularized_model2(input_shape, wd, rate):\n",
    "    model=Sequential([InputLayer(input_shape=input_shape),\n",
    "        Dense(512, kernel_regularizer = regularizers.l2(wd), activation=\"relu\"),\n",
    "        Dropout(rate),\n",
    "        Dense(512, kernel_regularizer = regularizers.l2(wd), activation=\"relu\"),\n",
    "        Dropout(rate),\n",
    "        Dense(512, kernel_regularizer = regularizers.l2(wd), activation=\"relu\"),\n",
    "        Dense(1)     \n",
    "    ])\n",
    "    return model"
   ]
  },
  {
   "cell_type": "code",
   "execution_count": 64,
   "metadata": {},
   "outputs": [],
   "source": [
    "model = get_regularized_model2(X_train[0].shape,1e-6,0.3)"
   ]
  },
  {
   "cell_type": "code",
   "execution_count": 65,
   "metadata": {},
   "outputs": [],
   "source": [
    "compile_model_reg(model)"
   ]
  },
  {
   "cell_type": "code",
   "execution_count": 66,
   "metadata": {},
   "outputs": [],
   "source": [
    "history=model.fit(X_train,y_train,batch_size=32, epochs=1000, validation_split=0.15, verbose=0, callbacks=[EarlyStopping(monitor='val_loss',patience=10)])"
   ]
  },
  {
   "cell_type": "code",
   "execution_count": 67,
   "metadata": {},
   "outputs": [
    {
     "name": "stdout",
     "output_type": "stream",
     "text": [
      "2/2 [==============================] - 0s 7ms/step - loss: 3523.0979 - mape: 44.4849\n",
      "[3523.097900390625, 44.48490524291992]\n"
     ]
    }
   ],
   "source": [
    "scores=model.evaluate(X_test,y_test)\n",
    "print(scores)"
   ]
  },
  {
   "cell_type": "code",
   "execution_count": 68,
   "metadata": {},
   "outputs": [
    {
     "data": {
      "image/png": "[encoded data removed]",
      "text/plain": [
       "<Figure size 432x288 with 1 Axes>"
      ]
     },
     "metadata": {
      "needs_background": "light"
     },
     "output_type": "display_data"
    }
   ],
   "source": [
    "# Plot the training and validation loss\n",
    "import matplotlib.pyplot as plt\n",
    "%matplotlib inline\n",
    "plt.plot(history.history['loss'])\n",
    "plt.plot(history.history['val_loss'])\n",
    "plt.title('Loss vs. epochs')\n",
    "plt.ylabel('Loss')\n",
    "plt.xlabel('Epoch')\n",
    "plt.legend(['Training', 'Validation'], loc='upper right')\n",
    "plt.show()"
   ]
  },
  {
   "cell_type": "markdown",
   "metadata": {},
   "source": [
    "# Custom Callback"
   ]
  },
  {
   "cell_type": "code",
   "execution_count": 69,
   "metadata": {},
   "outputs": [],
   "source": [
    "# Write a custom callback\n",
    "from tensorflow.keras.callbacks import Callback\n",
    "\n",
    "class MyTrainCallback(Callback):\n",
    "    def on_train_begin(self,logs=None):\n",
    "        print('Starting training')\n",
    "    def on_train_batch_begin(self,batch,logs=None):\n",
    "        print(f\"Training: Starting batch {batch}\")\n",
    "    def on_epoch_begin(self,epoch,logs=None):\n",
    "        print(f\"Training: Starting epoch {epoch}\")"
   ]
  },
  {
   "cell_type": "code",
   "execution_count": 71,
   "metadata": {},
   "outputs": [],
   "source": [
    "model = get_regularized_model2(X_train[0].shape,1e-6,0.3)"
   ]
  },
  {
   "cell_type": "code",
   "execution_count": 72,
   "metadata": {},
   "outputs": [],
   "source": [
    "compile_model_reg(model)"
   ]
  },
  {
   "cell_type": "code",
   "execution_count": 73,
   "metadata": {},
   "outputs": [
    {
     "name": "stdout",
     "output_type": "stream",
     "text": [
      "Starting training\n",
      "Training: Starting epoch 0\n",
      "Training: Starting batch 0\n",
      "Training: Starting batch 1\n",
      "Training: Starting batch 2\n",
      "Training: Starting batch 3\n",
      "Training: Starting batch 4\n",
      "Training: Starting batch 5\n",
      "Training: Starting batch 6\n",
      "Training: Starting batch 7\n",
      "Training: Starting batch 8\n",
      "Training: Starting batch 9\n",
      "Training: Starting batch 10\n",
      "Training: Starting epoch 1\n",
      "Training: Starting batch 0\n",
      "Training: Starting batch 1\n",
      "Training: Starting batch 2\n",
      "Training: Starting batch 3\n",
      "Training: Starting batch 4\n",
      "Training: Starting batch 5\n",
      "Training: Starting batch 6\n",
      "Training: Starting batch 7\n",
      "Training: Starting batch 8\n",
      "Training: Starting batch 9\n",
      "Training: Starting batch 10\n",
      "Training: Starting epoch 2\n",
      "Training: Starting batch 0\n",
      "Training: Starting batch 1\n",
      "Training: Starting batch 2\n",
      "Training: Starting batch 3\n",
      "Training: Starting batch 4\n",
      "Training: Starting batch 5\n",
      "Training: Starting batch 6\n",
      "Training: Starting batch 7\n",
      "Training: Starting batch 8\n",
      "Training: Starting batch 9\n",
      "Training: Starting batch 10\n",
      "Training: Starting epoch 3\n",
      "Training: Starting batch 0\n",
      "Training: Starting batch 1\n",
      "Training: Starting batch 2\n",
      "Training: Starting batch 3\n",
      "Training: Starting batch 4\n",
      "Training: Starting batch 5\n",
      "Training: Starting batch 6\n",
      "Training: Starting batch 7\n",
      "Training: Starting batch 8\n",
      "Training: Starting batch 9\n",
      "Training: Starting batch 10\n",
      "Training: Starting epoch 4\n",
      "Training: Starting batch 0\n",
      "Training: Starting batch 1\n",
      "Training: Starting batch 2\n",
      "Training: Starting batch 3\n",
      "Training: Starting batch 4\n",
      "Training: Starting batch 5\n",
      "Training: Starting batch 6\n",
      "Training: Starting batch 7\n",
      "Training: Starting batch 8\n",
      "Training: Starting batch 9\n",
      "Training: Starting batch 10\n",
      "Training: Starting epoch 5\n",
      "Training: Starting batch 0\n",
      "Training: Starting batch 1\n",
      "Training: Starting batch 2\n",
      "Training: Starting batch 3\n",
      "Training: Starting batch 4\n",
      "Training: Starting batch 5\n",
      "Training: Starting batch 6\n",
      "Training: Starting batch 7\n",
      "Training: Starting batch 8\n",
      "Training: Starting batch 9\n",
      "Training: Starting batch 10\n",
      "Training: Starting epoch 6\n",
      "Training: Starting batch 0\n",
      "Training: Starting batch 1\n",
      "Training: Starting batch 2\n",
      "Training: Starting batch 3\n",
      "Training: Starting batch 4\n",
      "Training: Starting batch 5\n",
      "Training: Starting batch 6\n",
      "Training: Starting batch 7\n",
      "Training: Starting batch 8\n",
      "Training: Starting batch 9\n",
      "Training: Starting batch 10\n",
      "Training: Starting epoch 7\n",
      "Training: Starting batch 0\n",
      "Training: Starting batch 1\n",
      "Training: Starting batch 2\n",
      "Training: Starting batch 3\n",
      "Training: Starting batch 4\n",
      "Training: Starting batch 5\n",
      "Training: Starting batch 6\n",
      "Training: Starting batch 7\n",
      "Training: Starting batch 8\n",
      "Training: Starting batch 9\n",
      "Training: Starting batch 10\n",
      "Training: Starting epoch 8\n",
      "Training: Starting batch 0\n",
      "Training: Starting batch 1\n",
      "Training: Starting batch 2\n",
      "Training: Starting batch 3\n",
      "Training: Starting batch 4\n",
      "Training: Starting batch 5\n",
      "Training: Starting batch 6\n",
      "Training: Starting batch 7\n",
      "Training: Starting batch 8\n",
      "Training: Starting batch 9\n",
      "Training: Starting batch 10\n",
      "Training: Starting epoch 9\n",
      "Training: Starting batch 0\n",
      "Training: Starting batch 1\n",
      "Training: Starting batch 2\n",
      "Training: Starting batch 3\n",
      "Training: Starting batch 4\n",
      "Training: Starting batch 5\n",
      "Training: Starting batch 6\n",
      "Training: Starting batch 7\n",
      "Training: Starting batch 8\n",
      "Training: Starting batch 9\n",
      "Training: Starting batch 10\n",
      "Training: Starting epoch 10\n",
      "Training: Starting batch 0\n",
      "Training: Starting batch 1\n",
      "Training: Starting batch 2\n",
      "Training: Starting batch 3\n",
      "Training: Starting batch 4\n",
      "Training: Starting batch 5\n",
      "Training: Starting batch 6\n",
      "Training: Starting batch 7\n",
      "Training: Starting batch 8\n",
      "Training: Starting batch 9\n",
      "Training: Starting batch 10\n",
      "Training: Starting epoch 11\n",
      "Training: Starting batch 0\n",
      "Training: Starting batch 1\n",
      "Training: Starting batch 2\n",
      "Training: Starting batch 3\n",
      "Training: Starting batch 4\n",
      "Training: Starting batch 5\n",
      "Training: Starting batch 6\n",
      "Training: Starting batch 7\n",
      "Training: Starting batch 8\n",
      "Training: Starting batch 9\n",
      "Training: Starting batch 10\n",
      "Training: Starting epoch 12\n",
      "Training: Starting batch 0\n",
      "Training: Starting batch 1\n",
      "Training: Starting batch 2\n",
      "Training: Starting batch 3\n",
      "Training: Starting batch 4\n",
      "Training: Starting batch 5\n",
      "Training: Starting batch 6\n",
      "Training: Starting batch 7\n",
      "Training: Starting batch 8\n",
      "Training: Starting batch 9\n",
      "Training: Starting batch 10\n",
      "Training: Starting epoch 13\n",
      "Training: Starting batch 0\n",
      "Training: Starting batch 1\n",
      "Training: Starting batch 2\n",
      "Training: Starting batch 3\n",
      "Training: Starting batch 4\n",
      "Training: Starting batch 5\n",
      "Training: Starting batch 6\n",
      "Training: Starting batch 7\n",
      "Training: Starting batch 8\n",
      "Training: Starting batch 9\n",
      "Training: Starting batch 10\n",
      "Training: Starting epoch 14\n",
      "Training: Starting batch 0\n",
      "Training: Starting batch 1\n",
      "Training: Starting batch 2\n",
      "Training: Starting batch 3\n",
      "Training: Starting batch 4\n",
      "Training: Starting batch 5\n",
      "Training: Starting batch 6\n",
      "Training: Starting batch 7\n",
      "Training: Starting batch 8\n",
      "Training: Starting batch 9\n",
      "Training: Starting batch 10\n",
      "Training: Starting epoch 15\n",
      "Training: Starting batch 0\n",
      "Training: Starting batch 1\n",
      "Training: Starting batch 2\n",
      "Training: Starting batch 3\n",
      "Training: Starting batch 4\n",
      "Training: Starting batch 5\n",
      "Training: Starting batch 6\n",
      "Training: Starting batch 7\n",
      "Training: Starting batch 8\n",
      "Training: Starting batch 9\n",
      "Training: Starting batch 10\n",
      "Training: Starting epoch 16\n",
      "Training: Starting batch 0\n",
      "Training: Starting batch 1\n",
      "Training: Starting batch 2\n",
      "Training: Starting batch 3\n",
      "Training: Starting batch 4\n",
      "Training: Starting batch 5\n",
      "Training: Starting batch 6\n",
      "Training: Starting batch 7\n",
      "Training: Starting batch 8\n",
      "Training: Starting batch 9\n",
      "Training: Starting batch 10\n",
      "Training: Starting epoch 17\n",
      "Training: Starting batch 0\n",
      "Training: Starting batch 1\n",
      "Training: Starting batch 2\n",
      "Training: Starting batch 3\n",
      "Training: Starting batch 4\n",
      "Training: Starting batch 5\n",
      "Training: Starting batch 6\n",
      "Training: Starting batch 7\n",
      "Training: Starting batch 8\n",
      "Training: Starting batch 9\n",
      "Training: Starting batch 10\n"
     ]
    }
   ],
   "source": [
    "history=model.fit(X_train,y_train,batch_size=32, epochs=1000, validation_split=0.15, verbose=0, callbacks=[EarlyStopping(monitor='val_loss',patience=5),MyTrainCallback()])"
   ]
  },
  {
   "cell_type": "code",
   "execution_count": 74,
   "metadata": {},
   "outputs": [
    {
     "name": "stdout",
     "output_type": "stream",
     "text": [
      "2/2 [==============================] - 0s 5ms/step - loss: 3574.3562 - mape: 43.5106\n",
      "[3574.356201171875, 43.5106086730957]\n"
     ]
    }
   ],
   "source": [
    "scores=model.evaluate(X_test,y_test)\n",
    "print(scores)"
   ]
  },
  {
   "cell_type": "code",
   "execution_count": 75,
   "metadata": {},
   "outputs": [
    {
     "data": {
      "image/png": "[encoded data removed]",
      "text/plain": [
       "<Figure size 432x288 with 1 Axes>"
      ]
     },
     "metadata": {
      "needs_background": "light"
     },
     "output_type": "display_data"
    }
   ],
   "source": [
    "# Plot the training and validation loss\n",
    "import matplotlib.pyplot as plt\n",
    "%matplotlib inline\n",
    "plt.plot(history.history['loss'])\n",
    "plt.plot(history.history['val_loss'])\n",
    "plt.title('Loss vs. epochs')\n",
    "plt.ylabel('Loss')\n",
    "plt.xlabel('Epoch')\n",
    "plt.legend(['Training', 'Validation'], loc='upper right')\n",
    "plt.show()"
   ]
  },
  {
   "cell_type": "markdown",
   "metadata": {},
   "source": [
    "# Checkpointing in Keras\n",
    "\n",
    "The EarlyStopping callback will stop training once triggered, but the model at the end of training may not be the model with best performance on the validation dataset.\n",
    "\n",
    "An additional callback is required that will save the best model observed during training for later use. This is the ModelCheckpoint callback.\n",
    "\n",
    "The ModelCheckpoint callback is flexible in the way it can be used, but in this case we will use it only to save the best model observed during training as defined by a chosen performance measure on the validation dataset.\n",
    "\n",
    "Saving and loading models requires that HDF5 support has been installed on your workstation. For example, using the pip Python installer, this can be achieved as follows:"
   ]
  },
  {
   "cell_type": "markdown",
   "metadata": {},
   "source": [
    "#### Hierarchical Data Formats - What is HDF5\n",
    "\n",
    "Hierarchical Structure - A file directory within a file\n",
    "\n",
    "The HDF5 format can be thought of as a file system contained and described within one single file. Think about the files and folders stored on your computer. You might have a data directory with some temperature data for multiple field sites. These temperature data are collected every minute and summarized on an hourly, daily and weekly basis. Within one HDF5 file, you can store a similar set of data organized in the same way that you might organize files and folders on your computer. However in a HDF5 file, what we call \"directories\" or \"folders\" on our computers, are called groups and what we call files on our computer are called datasets."
   ]
  },
  {
   "cell_type": "markdown",
   "metadata": {},
   "source": [
    "http://web.mit.edu/fwtools_v3.1.0/www/H5.intro.html\n",
    "https://pythonnumericalmethods.berkeley.edu/notebooks/chapter11.05-HDF5-Files.html"
   ]
  },
  {
   "cell_type": "code",
   "execution_count": 76,
   "metadata": {},
   "outputs": [],
   "source": [
    "from tensorflow.keras.callbacks import ModelCheckpoint"
   ]
  },
  {
   "cell_type": "code",
   "execution_count": 77,
   "metadata": {},
   "outputs": [],
   "source": [
    "checkpoint=ModelCheckpoint('my_keras_model.h5',\n",
    "                           save_weights_only=False,\n",
    "                           frequency='epoch',\n",
    "                           verbose=1,\n",
    "                          monitor='accuracy')"
   ]
  },
  {
   "cell_type": "code",
   "execution_count": 78,
   "metadata": {},
   "outputs": [],
   "source": [
    "# Save the model in .h5 format\n",
    "my_checkpoint=ModelCheckpoint('my_keras_model.h5',\n",
    "                           save_weights_only=False,\n",
    "                           frequency='epoch',\n",
    "                           verbose=1)\n"
   ]
  },
  {
   "cell_type": "code",
   "execution_count": 79,
   "metadata": {},
   "outputs": [
    {
     "name": "stdout",
     "output_type": "stream",
     "text": [
      "Starting training\n",
      "Training: Starting epoch 0\n",
      "Training: Starting batch 0\n",
      "Training: Starting batch 1\n",
      "Training: Starting batch 2\n",
      "Training: Starting batch 3\n",
      "Training: Starting batch 4\n",
      "Training: Starting batch 5\n",
      "Training: Starting batch 6\n",
      "Training: Starting batch 7\n",
      "Training: Starting batch 8\n",
      "Training: Starting batch 9\n",
      "Training: Starting batch 10\n",
      "\n",
      "Epoch 00001: saving model to my_keras_model.h5\n",
      "Training: Starting epoch 1\n",
      "Training: Starting batch 0\n",
      "Training: Starting batch 1\n",
      "Training: Starting batch 2\n",
      "Training: Starting batch 3\n",
      "Training: Starting batch 4\n",
      "Training: Starting batch 5\n",
      "Training: Starting batch 6\n",
      "Training: Starting batch 7\n",
      "Training: Starting batch 8\n",
      "Training: Starting batch 9\n",
      "Training: Starting batch 10\n",
      "\n",
      "Epoch 00002: saving model to my_keras_model.h5\n",
      "Training: Starting epoch 2\n",
      "Training: Starting batch 0\n",
      "Training: Starting batch 1\n",
      "Training: Starting batch 2\n",
      "Training: Starting batch 3\n",
      "Training: Starting batch 4\n",
      "Training: Starting batch 5\n",
      "Training: Starting batch 6\n",
      "Training: Starting batch 7\n",
      "Training: Starting batch 8\n",
      "Training: Starting batch 9\n",
      "Training: Starting batch 10\n",
      "\n",
      "Epoch 00003: saving model to my_keras_model.h5\n",
      "Training: Starting epoch 3\n",
      "Training: Starting batch 0\n",
      "Training: Starting batch 1\n",
      "Training: Starting batch 2\n",
      "Training: Starting batch 3\n",
      "Training: Starting batch 4\n",
      "Training: Starting batch 5\n",
      "Training: Starting batch 6\n",
      "Training: Starting batch 7\n",
      "Training: Starting batch 8\n",
      "Training: Starting batch 9\n",
      "Training: Starting batch 10\n",
      "\n",
      "Epoch 00004: saving model to my_keras_model.h5\n",
      "Training: Starting epoch 4\n",
      "Training: Starting batch 0\n",
      "Training: Starting batch 1\n",
      "Training: Starting batch 2\n",
      "Training: Starting batch 3\n",
      "Training: Starting batch 4\n",
      "Training: Starting batch 5\n",
      "Training: Starting batch 6\n",
      "Training: Starting batch 7\n",
      "Training: Starting batch 8\n",
      "Training: Starting batch 9\n",
      "Training: Starting batch 10\n",
      "\n",
      "Epoch 00005: saving model to my_keras_model.h5\n",
      "Training: Starting epoch 5\n",
      "Training: Starting batch 0\n",
      "Training: Starting batch 1\n",
      "Training: Starting batch 2\n",
      "Training: Starting batch 3\n",
      "Training: Starting batch 4\n",
      "Training: Starting batch 5\n",
      "Training: Starting batch 6\n",
      "Training: Starting batch 7\n",
      "Training: Starting batch 8\n",
      "Training: Starting batch 9\n",
      "Training: Starting batch 10\n",
      "\n",
      "Epoch 00006: saving model to my_keras_model.h5\n",
      "Training: Starting epoch 6\n",
      "Training: Starting batch 0\n",
      "Training: Starting batch 1\n",
      "Training: Starting batch 2\n",
      "Training: Starting batch 3\n",
      "Training: Starting batch 4\n",
      "Training: Starting batch 5\n",
      "Training: Starting batch 6\n",
      "Training: Starting batch 7\n",
      "Training: Starting batch 8\n",
      "Training: Starting batch 9\n",
      "Training: Starting batch 10\n",
      "\n",
      "Epoch 00007: saving model to my_keras_model.h5\n"
     ]
    }
   ],
   "source": [
    "history=model.fit(X_train,y_train,batch_size=32, epochs=1000, validation_split=0.15, verbose=0, callbacks=[EarlyStopping(monitor='val_loss',patience=5),MyTrainCallback(),my_checkpoint])"
   ]
  },
  {
   "cell_type": "code",
   "execution_count": 81,
   "metadata": {},
   "outputs": [
    {
     "name": "stdout",
     "output_type": "stream",
     "text": [
      "2/2 [==============================] - 0s 5ms/step - loss: 3518.6606 - mape: 44.4515\n",
      "[3518.66064453125, 44.451454162597656]\n"
     ]
    }
   ],
   "source": [
    "scores=model.evaluate(X_test,y_test)\n",
    "print(scores)"
   ]
  },
  {
   "cell_type": "code",
   "execution_count": 82,
   "metadata": {},
   "outputs": [
    {
     "name": "stdout",
     "output_type": "stream",
     "text": [
      "TensorFlow_for_regression_problem_Callbacks.ipynb  imgs  my_keras_model.h5\r\n"
     ]
    }
   ],
   "source": [
    "!ls"
   ]
  },
  {
   "cell_type": "markdown",
   "metadata": {},
   "source": [
    "# Loading models"
   ]
  },
  {
   "cell_type": "code",
   "execution_count": 83,
   "metadata": {},
   "outputs": [],
   "source": [
    "from tensorflow.keras.models import load_model"
   ]
  },
  {
   "cell_type": "code",
   "execution_count": 84,
   "metadata": {},
   "outputs": [],
   "source": [
    "model=load_model('my_keras_model.h5')"
   ]
  },
  {
   "cell_type": "code",
   "execution_count": 85,
   "metadata": {},
   "outputs": [
    {
     "name": "stdout",
     "output_type": "stream",
     "text": [
      "2/2 [==============================] - 0s 5ms/step - loss: 3518.6606 - mape: 44.4515\n",
      "[3518.66064453125, 44.451454162597656]\n"
     ]
    }
   ],
   "source": [
    "scores=model.evaluate(X_test,y_test)\n",
    "print(scores)"
   ]
  }
 ],
 "metadata": {
  "kernelspec": {
   "display_name": "Python 3",
   "language": "python",
   "name": "python3"
  },
  "language_info": {
   "codemirror_mode": {
    "name": "ipython",
    "version": 3
   },
   "file_extension": ".py",
   "mimetype": "text/x-python",
   "name": "python",
   "nbconvert_exporter": "python",
   "pygments_lexer": "ipython3",
   "version": "3.7.2"
  }
 },
 "nbformat": 4,
 "nbformat_minor": 2
}
