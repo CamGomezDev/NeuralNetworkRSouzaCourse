{
 "cells": [
  {
   "cell_type": "markdown",
   "id": "rubber-standard",
   "metadata": {},
   "source": [
    "## Modelado de datos con Redes Neuronales class 1"
   ]
  },
  {
   "cell_type": "markdown",
   "id": "fluid-nashville",
   "metadata": {},
   "source": [
    "# Intro to Neural Networks\n",
    "* compilation of materials + what we have done so far"
   ]
  },
  {
   "cell_type": "markdown",
   "id": "empirical-trunk",
   "metadata": {},
   "source": [
    "<table><tr>\n",
    "<td> <img src=\"imgs/neural_network.jpg\" width=\"500\" /> </td>\n",
    "</tr></table>"
   ]
  },
  {
   "cell_type": "markdown",
   "id": "bored-final",
   "metadata": {},
   "source": [
    "# How neural network works:"
   ]
  },
  {
   "cell_type": "markdown",
   "id": "fifty-constant",
   "metadata": {},
   "source": [
    "<table><tr>\n",
    "<td> <img src=\"imgs/neuron_ANN.png\" width=\"1000\" /> </td>\n",
    "</tr></table>"
   ]
  },
  {
   "cell_type": "markdown",
   "id": "utility-dover",
   "metadata": {},
   "source": [
    "# Biological Neural Network\n",
    "A neuron is a biological signal processing and transmission unit. The working of a neuron can be explained sequentially.\n",
    "\n",
    "* Firstly, it receives an electrical signal from the dendrites (input). The dendrites are connected to axon terminal of other neurons. \n",
    "* Secondly, it processes the input by measuring the total strength of the incoming signal. Incoming electrical signals all add up in soma. \n",
    "* Finally, the neuron fires along its axon if the signal strength is large enough (output). The firing of a neuron (output signal) is received by other neurons connected to the axon terminal.\n",
    "\n",
    "~100 billion neurons allows the Biological Neural Network to do complicated functions such as language, vision, motion, memory..."
   ]
  },
  {
   "cell_type": "markdown",
   "id": "express-accessory",
   "metadata": {},
   "source": [
    "# Artificial Neural Network and Biological Neural Network."
   ]
  },
  {
   "cell_type": "markdown",
   "id": "driven-cameroon",
   "metadata": {},
   "source": [
    "<table><tr>\n",
    "<td> <img src=\"imgs/neuron_analogy.svg\" width=\"500\" /> </td>\n",
    "</tr></table>"
   ]
  },
  {
   "cell_type": "markdown",
   "id": "major-azerbaijan",
   "metadata": {},
   "source": [
    "## With Artificial Neural Network we are trying to ***mimic*** the functionality of Biological Neural Network.\n",
    "\n",
    "* The incoming signals to the neuron are modelled by input variables of the neuron.\n",
    "* The dendrites are modelled by the weighted connection to the input variables. \n",
    "* The cell soma is modelled by the weighted sum of the inputs. \n",
    "* The output signal (axon firing) is given by the activation function (threshold) which outputs “1” if the weighted sum is above zero and outputs “0” otherwise."
   ]
  },
  {
   "cell_type": "markdown",
   "id": "applied-function",
   "metadata": {},
   "source": [
    "#### This can be represented mathematically as:\n",
    "\n",
    "$$z=w_0 x_0+w_1 x_1+w_2 x_2+ \\cdots +w_N x_N =\\sum_{i=0}^N w_i x_i$$\n",
    " \n",
    "* which corresponds to linear regression (I used $\\theta$ earlier)\n",
    "\n",
    "\\begin{equation}\n",
    "  y=\\begin{cases}\n",
    "    1 , & \\text{if $z>0$}.\\\\\n",
    "    0 , & \\text{otherwise}.\n",
    "  \\end{cases}\n",
    "\\end{equation}\n",
    "\n",
    "* which corresponds to the logistic regression\n",
    "\n",
    "Where: \n",
    "* $x_i$ is the ith input variable,\n",
    "* $w_i$ is the corresponding weight to the input,\n",
    "* $N$ is the total number of input variables,\n",
    "* $y$ is the output of the Neuron.\n",
    "\n",
    "The above is a single unit of NN called percepron. We can connect many perceptrons to create Neural Network"
   ]
  },
  {
   "cell_type": "markdown",
   "id": "intended-handy",
   "metadata": {},
   "source": [
    "Regarding the human neural network system, we don’t know for sure if the human brain works like the neural networks that we build in Artificial Intelligence. In fact, it has been found to be much different as neuroscience has progressed through the years. So, to answer your question, it has NO SIMPLE analogy to the human “neural network system” (if anything like that should even be named) although there would be people who would like to fantasize over this. Activation functions were introduced solely for the purpose of machine learning to model complex relationships between the input and the output."
   ]
  },
  {
   "cell_type": "markdown",
   "id": "behind-frontier",
   "metadata": {},
   "source": [
    "# A full schematic of Neural Network"
   ]
  },
  {
   "cell_type": "markdown",
   "id": "express-motion",
   "metadata": {},
   "source": [
    "<table><tr>\n",
    "<td> <img src=\"imgs/net_input_function.png\" width=\"600\" /> </td>\n",
    "</tr></table>"
   ]
  },
  {
   "cell_type": "markdown",
   "id": "colonial-graph",
   "metadata": {},
   "source": [
    "# Activation function"
   ]
  },
  {
   "cell_type": "markdown",
   "id": "worth-lunch",
   "metadata": {},
   "source": [
    "<table><tr>\n",
    "<td> <img src=\"imgs/activation_function.png\" width=\"500\" /> </td>\n",
    "</tr></table>\n",
    "\n",
    "### for example the sigmoid function that we have seen in Logistic regression class - output is between 0 and 1 - this corresponds to firing up or not the neuron\n",
    "\n",
    "### Net input function + activation function is called transfer function"
   ]
  },
  {
   "cell_type": "markdown",
   "id": "express-observation",
   "metadata": {},
   "source": [
    "In simple terms, an activation function helps capture complex relationships between the input and the output.\n",
    "\n",
    "What do you mean by “complex”?\n",
    "\n",
    "Machine learning is basically solving an equation just like we do in math like in a linear regression for example.\n",
    "\n",
    "What is linear regression?\n",
    "\n",
    "We write a linear equation describing the relationship between the input and output.\n",
    "\n",
    "$y=\\theta_1∗x+\\theta_0$\n",
    "\n",
    "Where $\\theta$s are coefficients. The goal of machine learning would be to find the optimal values of $\\theta$s such that we are able to predict most of the outputs from the input with the highest possible accuracy. Now, this is linear regression but even the most complicated neural networks work around this basic equation.\n",
    "\n",
    "As we can see, the above linear equation is very simple. In real life, we will have relationships that are much more complicated. We call them non-linear relationships (a general term).\n",
    "\n",
    "So what does an activation function do?\n",
    "\n",
    "An activation function will add a non-linear operation in this equation. For example, if sigmoi is your activation function, t is strictly non-linear.\n",
    "\n",
    "When we add this in our earlier simple equation, it would look like,\n",
    "\n",
    "y=sigmoid($\\theta_1$∗x+$\\theta_0$)\n",
    "\n",
    "We can see how the relationship is non-linear now and hence called “complex” (again a very general term).\n",
    "\n",
    "There is a variety of activation functions that have been used in the past and empirically, ReLu, tanh, and sigmoid have been found to be good for specific tasks."
   ]
  },
  {
   "cell_type": "markdown",
   "id": "great-pixel",
   "metadata": {},
   "source": [
    "### Without activation functions, outputs of NNs would always be linear"
   ]
  },
  {
   "cell_type": "markdown",
   "id": "conservative-piano",
   "metadata": {},
   "source": [
    "#### What does it mean linear or non-linear without going into math"
   ]
  },
  {
   "cell_type": "markdown",
   "id": "norwegian-investigation",
   "metadata": {},
   "source": [
    "<table><tr>\n",
    "<td> <img src=\"imgs/linearly_nonlinearly_separable_gropus.png\" width=\"500\" /> </td>\n",
    "</tr></table>\n",
    "\n",
    "* LHS groups there is a LINEAR relationship between the two gropus\n",
    "* RHS groups there is a NON-LINEAR relationship between the two gropus - you will not be able to separate the two groups without activatin function "
   ]
  },
  {
   "cell_type": "markdown",
   "id": "desperate-cooper",
   "metadata": {},
   "source": [
    "### Without activation functions, outputs of NNs would always be linear"
   ]
  },
  {
   "cell_type": "markdown",
   "id": "tutorial-forty",
   "metadata": {},
   "source": [
    "\n",
    "\n",
    "***Even if we put 100 of layers and 100 of neurons the output will be still linear**\n",
    "\n",
    "See the example\n",
    "\n",
    "Consider a very simple neural network, with just 2 layers, where the first has 2 neurons and the last 1 neuron, and the input size is 2. The inputs are $x_1$ and $x_2$.\n",
    "\n",
    "The weights of the first layer are $w_{11}$,$w_{12}$,$w_{21}$ and $w_{22}$ (we called it $\\theta$ before)\n",
    "\n",
    "We do not have activations, so the outputs of the neurons in the first layer are\n",
    "\n",
    "* $out_1=w_{11}x_1+w_{12}x_2$\n",
    "* $out_2=w_{21}x_1+w_{22}x_2$\n",
    "\n",
    "Let's calculate the output of the last layer with weights z1\n",
    "and z2\n",
    "\n",
    "* $out_{final}=z_1 out_1+z_2 out_2$\n",
    "\n",
    "If we substitute $out_1$ and $out_2$ \n",
    "\n",
    "* $out_{final}=z_1(w_{11} x_1+w_{12}x_2) + z_2 (w_{21} x_1+w_{22}x_2)$\n",
    "\n",
    "or\n",
    "\n",
    "* $out_{final}=(z_1 w_{11}+z_2 w_{21})x_1+(z_2 w_{22}+z_1 w_{12})x_2$\n",
    "\n",
    "And look at this! ***If we create NN just with one layer with weights*** $z_1w_{11}+z_2w_{21}$\n",
    "and $z_2w_{22}+z_1w_{12}$ ***it will be equivalent to our 2 layers NN***\n",
    "\n",
    "The conclusion: without nonlinearity, the computational power of a multilayer NN is equal to 1-layer NN.\n",
    "\n",
    "\n",
    "Also, you can think of the sigmoid function as differentiable ***IF*** the statement that gives a probability. And adding new layers can create new, more complex combinations of IF statements. For example, the first layer combines features and gives probabilities that there are eyes, tail, and ears on the picture, the second combines new, more complex features from the last layer and gives probability that there is a cat."
   ]
  },
  {
   "cell_type": "markdown",
   "id": "spare-vampire",
   "metadata": {},
   "source": [
    "***A neural network without an activation function is just a linear regression model.***"
   ]
  },
  {
   "cell_type": "markdown",
   "id": "instrumental-bookmark",
   "metadata": {},
   "source": [
    "# Single Layer Neural Network\n",
    "\n",
    "Perceptron (or Single Layer Neural Network) has just two layers of input layers and output layers. Often called a single-layer network on account of having 1 layer of links, between input and output."
   ]
  },
  {
   "cell_type": "markdown",
   "id": "buried-austria",
   "metadata": {},
   "source": [
    "<table><tr>\n",
    "<td> <img src=\"imgs/single_layer_NN.png\" width=\"500\" /> </td>\n",
    "</tr></table>"
   ]
  },
  {
   "cell_type": "markdown",
   "id": "confused-infection",
   "metadata": {},
   "source": [
    "# Multilayer Perceptron (MLP)\n",
    "The Multilayer Perceptron (MLP) network consists of input, output, and hidden layers. Each hidden layer consists of numerous perceptron’s which are called hidden layers or hidden unit. MLP with many hidden layers is often called Deep Neural Network"
   ]
  },
  {
   "cell_type": "markdown",
   "id": "conditional-bradford",
   "metadata": {},
   "source": [
    "<table><tr>\n",
    "<td> <img src=\"imgs/deep_NN_schematic.png\" width=\"500\" /> </td>\n",
    "</tr></table>"
   ]
  },
  {
   "cell_type": "markdown",
   "id": "centered-dancing",
   "metadata": {},
   "source": [
    "# what do layers do?"
   ]
  },
  {
   "cell_type": "markdown",
   "id": "through-georgia",
   "metadata": {},
   "source": [
    "<table><tr>\n",
    "<td> <img src=\"imgs/how_deep_NN_sees_face.png\" width=\"800\" /> </td>\n",
    "</tr></table>\n",
    "\n",
    "##  this is how activation functions of Neural Networks  provides \"IF\""
   ]
  },
  {
   "cell_type": "markdown",
   "id": "ceramic-absolute",
   "metadata": {},
   "source": [
    "<table><tr>\n",
    "<td> <img src=\"imgs/how_deep_NN_sees.png\" width=\"2000\" /> </td>\n",
    "</tr></table>\n"
   ]
  },
  {
   "cell_type": "markdown",
   "id": "bearing-woman",
   "metadata": {},
   "source": [
    "# Digit recognition by Neural Network from image to arrays"
   ]
  },
  {
   "cell_type": "markdown",
   "id": "infinite-publisher",
   "metadata": {},
   "source": [
    "<table><tr>\n",
    "<td> <img src=\"imgs/digit_recognition.gif\" width=\"500\" /> </td>\n",
    "</tr></table>\n"
   ]
  },
  {
   "cell_type": "markdown",
   "id": "confirmed-response",
   "metadata": {},
   "source": [
    "# Three stages of Neural Network learning algorithm:\n",
    "\n",
    "* Parameter Initialization\n",
    "\n",
    "      In this, parameters, i.e., weights and biases, associated with an artificial neuron are randomly initialized. After receiving the input, the network feed forwards the input and it makes associations with weights and biases to give the output. The output associated to those random values is most probably not correct. So, next, we will see feedforward propagation.\n",
    "\n",
    "* Feedforward propagation\n",
    "\n",
    "      After initialization, when the input is given to the input layer, it propagates the input into hidden units at each layer. The nodes here do their job without being aware whether results produced are accurate or not (i.e., they don’t re-adjust according to the results produced). Then, finally, the output is produced at the output layer. This is called feedforward propagation.\n",
    "\n",
    "* Back propagation\n",
    "\n",
    "      The principle behind back propagation algorithm is to reduce the error values in randomly allocated weights and biases such that it produces the correct output. The system is trained in the supervised learning method, where the error between the system’s output and a known expected output is presented to the system and used to modify its internal state. We need to update the weights such that we get the global loss minimum. This is how back propagation in neural networks works.\n"
   ]
  },
  {
   "cell_type": "markdown",
   "id": "sweet-synthesis",
   "metadata": {},
   "source": [
    "### In other words\n",
    "In neural networks, you forward propagate to get the output and compare it with the real value to get the error.\n",
    "\n",
    "Now, to minimize the error, you propagate backwards by finding the derivative of error with respect to each weight and then subtracting this value from the weight value.\n",
    "\n",
    "The basic learning that has to be done in neural networks is training neurons when to get activated. Each neuron should activate only for particular type of inputs and not all inputs. Therefore, by propagating forward you see how well your neural network is behaving and find the error. After you find out that your network has error, you back propagate and use a form of gradient descent to update new values of weights. Then, you will again forward propagate to see how well those weights are performing and then will backward propagate to update the weights. This will go on until you reach some minima for error value."
   ]
  },
  {
   "cell_type": "markdown",
   "id": "academic-syria",
   "metadata": {},
   "source": [
    "It is called back propagation because we start calculating the error from the side of the output towards input.\n",
    "If for example we have four layers Neural Network:\n",
    "\n",
    "* $y$ is the label (the value we want to compare the output)\n",
    "* $a^{(4)}$ - is the output of layer 4\n",
    "* $\\delta^{(4)}=(a^{(4)}-y)^2$ - is the output of layer 4\n",
    "* $\\delta^{(3)}=f(\\delta^{(4)})$\n",
    "* $\\delta^{(2)}=f(\\delta^{(3)})$\n",
    "* $\\delta^{(1)}=f(\\delta^{(2)})$\n",
    "\n",
    "etc..."
   ]
  },
  {
   "cell_type": "markdown",
   "id": "awful-truck",
   "metadata": {},
   "source": [
    "### Full example of a backpropagation using numerical values\n",
    "https://mattmazur.com/2015/03/17/a-step-by-step-backpropagation-example/"
   ]
  },
  {
   "cell_type": "markdown",
   "id": "mysterious-casino",
   "metadata": {},
   "source": [
    "# More on activation functions"
   ]
  },
  {
   "cell_type": "markdown",
   "id": "anonymous-assurance",
   "metadata": {},
   "source": [
    "## Activation for Output Layers\n",
    "\n",
    "The output layer is the layer in a neural network model that directly outputs a prediction.\n",
    "\n",
    "All feed-forward neural network models have an output layer.\n",
    "\n",
    "There are perhaps three activation functions you may want to consider for use in the output layer; they are:\n",
    "\n",
    "    1.Linear\n",
    "    2.Softmax\n",
    "    3.Logistic (Sigmoid) (often used for hidden layer)"
   ]
  },
  {
   "cell_type": "markdown",
   "id": "apparent-framework",
   "metadata": {},
   "source": [
    "# 1. Linear Function"
   ]
  },
  {
   "cell_type": "markdown",
   "id": "assumed-barrier",
   "metadata": {},
   "source": [
    "The linear activation function is also called “identity” (multiplied by 1.0) or “no activation.”\n",
    "\n",
    "This is because the linear activation function does not change the weighted sum of the input in any way and instead returns the value directly.\n",
    "\n",
    "We can get an intuition for the shape of this function with the worked example below.\n"
   ]
  },
  {
   "cell_type": "code",
   "execution_count": 1,
   "id": "criminal-train",
   "metadata": {},
   "outputs": [
    {
     "data": {
      "image/png": "[encoded data removed]",
      "text/plain": [
       "<Figure size 432x288 with 1 Axes>"
      ]
     },
     "metadata": {
      "needs_background": "light"
     },
     "output_type": "display_data"
    }
   ],
   "source": [
    "from matplotlib import pyplot\n",
    "import numpy as np\n",
    "\n",
    "# linear activation function\n",
    "def linear(x):\n",
    "\treturn x\n",
    " \n",
    "# define input data\n",
    "inputs = [x for x in range(-10, 10)]\n",
    "# calculate outputs\n",
    "outputs = [linear(x) for x in inputs]\n",
    "# plot inputs vs outputs\n",
    "pyplot.plot(inputs, outputs)\n",
    "pyplot.show()"
   ]
  },
  {
   "cell_type": "markdown",
   "id": "silver-current",
   "metadata": {},
   "source": [
    "# 2 Softmax\n",
    "\n",
    "Softmax function calculates the probabilities distribution of the event over ’n’ different events.\n",
    "\n",
    "The softmax function outputs a vector of values that sum to 1.0 that can be interpreted as probabilities of class membership."
   ]
  },
  {
   "cell_type": "markdown",
   "id": "greenhouse-partnership",
   "metadata": {},
   "source": [
    "    Equation: f(x) = eˣᵢ / (Σⱼ₌₀ eˣᵢ)\n",
    "    Probabilistic interpretation: Sⱼ = P(y=j|x)\n",
    "    Range: (0, 1)"
   ]
  },
  {
   "cell_type": "code",
   "execution_count": 2,
   "id": "excellent-aaron",
   "metadata": {},
   "outputs": [
    {
     "data": {
      "image/png": "[encoded data removed]",
      "text/plain": [
       "<Figure size 432x288 with 1 Axes>"
      ]
     },
     "metadata": {
      "needs_background": "light"
     },
     "output_type": "display_data"
    },
    {
     "name": "stdout",
     "output_type": "stream",
     "text": [
      "0.9999999999999998\n"
     ]
    }
   ],
   "source": [
    "import numpy as np\n",
    "import matplotlib.pylab as plt\n",
    "\n",
    "def softmax(a):\n",
    "    exp_a = np.exp(a)\n",
    "    sum_exp_a = np.sum(exp_a)\n",
    "    y = exp_a / sum_exp_a\n",
    "    return y\n",
    "\n",
    "x = np.arange(-5, 5, 0.1)\n",
    "y = softmax(x)\n",
    "plt.plot(x, y)\n",
    "plt.show()\n",
    "print(y.sum())"
   ]
  },
  {
   "cell_type": "markdown",
   "id": "august-michael",
   "metadata": {},
   "source": [
    "# Activation functions for hidden layers\n",
    "\n",
    "    Logistic (Sigmoid)\n",
    "    Rectified Linear Activation (ReLU)\n",
    "    Hyperbolic Tangent (Tanh)\n"
   ]
  },
  {
   "cell_type": "markdown",
   "id": "published-stanley",
   "metadata": {},
   "source": [
    "# 1. Sigmoid / Logistic"
   ]
  },
  {
   "cell_type": "markdown",
   "id": "uniform-spelling",
   "metadata": {},
   "source": [
    "Sigmoid function gives an ‘S’ shaped curve. In order to map predicted values to probabilities, we use the sigmoid function. The function maps any real value into another value between 0 and 1.\n",
    "\n",
    "\n",
    "    Equation: $f(x) = s= 1/(1+e⁻ˣ)$\n",
    "    Derivative: $f’(x) = s*(1-s)$\n",
    "    Range: $(0,1)$"
   ]
  },
  {
   "cell_type": "code",
   "execution_count": 3,
   "id": "measured-carroll",
   "metadata": {},
   "outputs": [
    {
     "data": {
      "image/png": "[encoded data removed]",
      "text/plain": [
       "<Figure size 432x288 with 1 Axes>"
      ]
     },
     "metadata": {
      "needs_background": "light"
     },
     "output_type": "display_data"
    }
   ],
   "source": [
    "# example plot for the sigmoid activation function\n",
    "from math import exp\n",
    "from matplotlib import pyplot\n",
    " \n",
    "# sigmoid activation function\n",
    "def sigmoid(x):\n",
    "\treturn 1.0 / (1.0 + exp(-x))\n",
    " \n",
    "# define input data\n",
    "inputs = [x for x in range(-10, 10)]\n",
    "# calculate outputs\n",
    "outputs = [sigmoid(x) for x in inputs]\n",
    "# plot inputs vs outputs\n",
    "pyplot.plot(inputs, outputs)\n",
    "pyplot.show()"
   ]
  },
  {
   "cell_type": "markdown",
   "id": "front-myanmar",
   "metadata": {},
   "source": [
    "* Advantages:\n",
    "\n",
    "     * The function is differentiable.That means, we can find the slope of the sigmoid curve at any two points.\n",
    "     * Output values bound between 0 and 1, normalizing the output of each neuron.\n",
    "\n",
    "\n",
    "* Disadvantages:\n",
    "\n",
    "     * Vanishing gradient — for very high or very low values of X, there is almost no change to the prediction, causing a vanishing gradient problem.\n",
    "     * Due to vanishing gradient problem, sigmoids have slow convergence.\n",
    "     * Outputs not zero centered.\n",
    "     * Computationally expensive."
   ]
  },
  {
   "cell_type": "markdown",
   "id": "senior-myrtle",
   "metadata": {},
   "source": [
    "# 2. ReLU (Rectified Linear Unit)\n",
    "The rectified linear activation function, or ReLU activation function, is perhaps the most common function used for hidden layers.\n",
    "\n",
    "It is common because it is both simple to implement and effective at overcoming the limitations of other previously popular activation functions, such as Sigmoid and Tanh. Specifically, it is less susceptible to vanishing gradients that prevent deep models from being trained, although it can suffer from other problems like saturated or “dead” units.\n",
    "\n",
    "The ReLU function is calculated as follows: max(0.0, x)\n",
    "\n",
    "This means that if the input value (x) is negative, then a value 0.0 is returned, otherwise, the value is returned.\n",
    "\n",
    "    Equation: f(x) = a =max(0,x)\n",
    "    Derivative: f’(x) = { 1 ; if z>0, 0; if z<0 and undefined if z=0 }\n",
    "    Range: (0, +∞)\n",
    "    \n",
    "https://machinelearningmastery.com/rectified-linear-activation-function-for-deep-learning-neural-networks/    "
   ]
  },
  {
   "cell_type": "code",
   "execution_count": 4,
   "id": "sealed-emphasis",
   "metadata": {},
   "outputs": [
    {
     "data": {
      "image/png": "[encoded data removed]",
      "text/plain": [
       "<Figure size 432x288 with 1 Axes>"
      ]
     },
     "metadata": {
      "needs_background": "light"
     },
     "output_type": "display_data"
    }
   ],
   "source": [
    "# with relu we dont want negative values\n",
    "from matplotlib import pyplot\n",
    " \n",
    "# rectified linear function\n",
    "def rectified(x):\n",
    "\treturn max(0.0, x)\n",
    " \n",
    "# define input data\n",
    "inputs = [x for x in range(-10, 10)]\n",
    "# calculate outputs\n",
    "outputs = [rectified(x) for x in inputs]\n",
    "# plot inputs vs outputs\n",
    "pyplot.plot(inputs, outputs)\n",
    "pyplot.show()"
   ]
  },
  {
   "cell_type": "markdown",
   "id": "laughing-trade",
   "metadata": {},
   "source": [
    "Advantages:\n",
    "\n",
    "    Computationally efficient — allows the network to converge very quickly\n",
    "    Non-linear — although it looks like a linear function, ReLU has a derivative function and allows for back-propagation\n",
    "\n",
    "Disadvantages:\n",
    "\n",
    "    The Dying ReLU problem — when inputs approach zero, or are negative, the gradient of the function becomes zero, the network cannot perform back-propagation and cannot learn."
   ]
  },
  {
   "cell_type": "markdown",
   "id": "impossible-potential",
   "metadata": {},
   "source": [
    "# 3. Tanh ( hyperbolic tangent)"
   ]
  },
  {
   "cell_type": "markdown",
   "id": "authorized-wrong",
   "metadata": {},
   "source": [
    "    Equation : f(x) = a =tanh(x) =(eˣ - e⁻ˣ)/(eˣ +e⁻ˣ)\n",
    "    Derivative: (1- a²)\n",
    "    Range: (-1, 1)"
   ]
  },
  {
   "cell_type": "code",
   "execution_count": 5,
   "id": "informed-intelligence",
   "metadata": {},
   "outputs": [
    {
     "data": {
      "image/png": "[encoded data removed]",
      "text/plain": [
       "<Figure size 432x288 with 1 Axes>"
      ]
     },
     "metadata": {
      "needs_background": "light"
     },
     "output_type": "display_data"
    }
   ],
   "source": [
    "from math import exp\n",
    "from matplotlib import pyplot\n",
    " \n",
    "# tanh activation function\n",
    "def tanh(x):\n",
    "\treturn (exp(x) - exp(-x)) / (exp(x) + exp(-x))\n",
    " \n",
    "# define input data\n",
    "inputs = [x for x in range(-10, 10)]\n",
    "# calculate outputs\n",
    "outputs = [tanh(x) for x in inputs]\n",
    "# plot inputs vs outputs\n",
    "pyplot.plot(inputs, outputs)\n",
    "pyplot.show()"
   ]
  },
  {
   "cell_type": "markdown",
   "id": "painted-russian",
   "metadata": {},
   "source": [
    "* Advantages:\n",
    "\n",
    "      * Zero centered — making it easier to model inputs that have strongly negative, neutral, and strongly positive values.\n",
    "      * The function and its derivative both are monotonic.\n",
    "      * Works better than sigmoid function\n",
    "\n",
    "* Disadvantage:\n",
    "\n",
    "      * It also suffers vanishing gradient problem and hence slow convergence."
   ]
  },
  {
   "cell_type": "markdown",
   "id": "starting-noise",
   "metadata": {},
   "source": [
    "*Softmax takes many inputs and has a single output. Sigmoid has a single input and a single output. So no, they are not interchangable. "
   ]
  },
  {
   "cell_type": "markdown",
   "id": "satisfactory-korea",
   "metadata": {},
   "source": [
    "### Notes on activation functions"
   ]
  },
  {
   "cell_type": "markdown",
   "id": "younger-appliance",
   "metadata": {},
   "source": [
    "* all hidden layers have ususally the same activation function, except the final layer\n",
    "\n",
    "* you should not use ReLu in the last layer because it does not allow negative output values.\n",
    "\n",
    "* for the hidden layer... the basic rule of thumb is if you really don’t know what activation function to use in a hidden layer, then simply use RELU as it is a general activation function and is used in most cases these days. \n",
    "  * If your output is for binary classification then, the sigmoid function is a very natural choice for the output layer. \n",
    "  * If your output is for linear regression then, the linear function is a very natural choice for the output layer.\n"
   ]
  },
  {
   "cell_type": "markdown",
   "id": "express-oasis",
   "metadata": {},
   "source": [
    "<table><tr>\n",
    "<td> <img src=\"imgs/activation_function_for_hidden_layer.png\" width=\"1000\" /> </td>\n",
    "</tr></table>\n"
   ]
  }
 ],
 "metadata": {
  "kernelspec": {
   "display_name": "Python 3",
   "language": "python",
   "name": "python3"
  },
  "language_info": {
   "codemirror_mode": {
    "name": "ipython",
    "version": 3
   },
   "file_extension": ".py",
   "mimetype": "text/x-python",
   "name": "python",
   "nbconvert_exporter": "python",
   "pygments_lexer": "ipython3",
   "version": "3.7.2"
  }
 },
 "nbformat": 4,
 "nbformat_minor": 5
}
