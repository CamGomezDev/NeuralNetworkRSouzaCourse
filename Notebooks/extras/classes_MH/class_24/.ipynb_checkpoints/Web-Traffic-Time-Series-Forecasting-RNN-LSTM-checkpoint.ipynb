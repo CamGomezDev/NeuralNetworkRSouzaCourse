{
 "cells": [
  {
   "cell_type": "markdown",
   "id": "9bf7b07a",
   "metadata": {},
   "source": [
    "\n",
    "# Time Series Forecasting Using RNN / LSTM Neural Networks.\n",
    "\n",
    "\n",
    "### Problem \n",
    "\n",
    "Forecasting future web traffic (view counts) for thousands of Wikipedia articles.\n",
    "We will train and fit Time Series models on a training set of 70K time series of Wikipedia article view counts and use it to forecast the future views for a single day or multiple days.\n",
    "\n",
    "We will explore RNN ( Recurrent Neural Networks ), particularly LSTM ( Long Short Term Memory ) variant of RNN to train and forecast.\n",
    "\n",
    "\n",
    "### Data Set\n",
    "\n",
    "The data set was taken from https://www.kaggle.com/c/web-traffic-time-series-forecasting/\n",
    "\n",
    "The training dataset consists of approximately 145k time series. Each of these time series represent a number of daily views of a different Wikipedia article, starting from July, 1st, 2015 up until December 31st, 2016. \n",
    "\n",
    "\n",
    "\n",
    "### Steps\n",
    "\n",
    "#### 1. Read Data\n",
    "\n",
    "\n",
    "#### 2. Data Cleaning\n",
    "\n",
    "\n",
    "#### 3. Data Preparation and Visualization\n",
    "\n",
    "##### &emsp;      3.1 Checking and Removing Outliers\n",
    "\n",
    "##### &emsp;     3.2 Scaling of Time Series Data\n",
    "\n",
    "#### 4. Modeling and Forecast ( single day )\n",
    "\n",
    "##### &emsp;     4.1 Baseline Models\n",
    "\n",
    "##### &emsp; &emsp; 4.1.1 Naive Forecast\n",
    "##### &emsp; &emsp; 4.1.1 Linear Regression Model\n",
    "\n",
    "##### &emsp;     4.2 Simple RNN\n",
    "\n",
    "##### &emsp;     4.3 Deep RNN\n",
    "\n",
    "##### &emsp;     4.4 LSTM Model\n",
    "\n",
    "#### 5. Forecasting For Several Time Steps (days) ahead\n",
    "\n",
    "##### &emsp;     5.1 Train on 'n' days values as a whole and forecast for days n+1, n+2.....\n",
    "\n",
    "##### &emsp;     5.2 Sequence-to-Sequence Model - Train on 'n' days values, forecasting next k values at each time step (day).\n",
    "\n",
    "\n",
    "\n",
    "\n"
   ]
  },
  {
   "cell_type": "code",
   "execution_count": null,
   "id": "3e2ef07b",
   "metadata": {},
   "outputs": [],
   "source": []
  },
  {
   "cell_type": "markdown",
   "id": "f55674a9",
   "metadata": {},
   "source": [
    "## 1. Read Data "
   ]
  },
  {
   "cell_type": "markdown",
   "id": "b78b0485",
   "metadata": {},
   "source": [
    "##### Import libraries"
   ]
  },
  {
   "cell_type": "code",
   "execution_count": 1,
   "id": "80493087",
   "metadata": {},
   "outputs": [],
   "source": [
    "import pandas as pd\n",
    "import numpy as np\n",
    "\n",
    "\n",
    "import matplotlib.pyplot as plt\n",
    "from datetime import datetime\n",
    "\n",
    "from pandas import Series\n",
    "%matplotlib inline\n",
    "import matplotlib as mpl\n",
    "mpl.rc('axes', labelsize=14)\n",
    "mpl.rc('xtick', labelsize=12)\n",
    "mpl.rc('ytick', labelsize=12)\n",
    "\n",
    "import tensorflow as tf\n",
    "from tensorflow import keras \n",
    "\n",
    "import warnings\n",
    "warnings.filterwarnings(\"ignore\")\n",
    "\n",
    "np.set_printoptions(suppress=True) "
   ]
  },
  {
   "cell_type": "markdown",
   "id": "4233f618",
   "metadata": {},
   "source": [
    "##### Read csv file"
   ]
  },
  {
   "cell_type": "code",
   "execution_count": 2,
   "id": "37ab0a25",
   "metadata": {},
   "outputs": [],
   "source": [
    "df=pd.read_csv('final_data.csv')"
   ]
  },
  {
   "cell_type": "code",
   "execution_count": 3,
   "id": "a74a5bfe",
   "metadata": {},
   "outputs": [
    {
     "data": {
      "text/html": [
       "<div>\n",
       "<style scoped>\n",
       "    .dataframe tbody tr th:only-of-type {\n",
       "        vertical-align: middle;\n",
       "    }\n",
       "\n",
       "    .dataframe tbody tr th {\n",
       "        vertical-align: top;\n",
       "    }\n",
       "\n",
       "    .dataframe thead th {\n",
       "        text-align: right;\n",
       "    }\n",
       "</style>\n",
       "<table border=\"1\" class=\"dataframe\">\n",
       "  <thead>\n",
       "    <tr style=\"text-align: right;\">\n",
       "      <th></th>\n",
       "      <th>Page</th>\n",
       "      <th>2015-07-01</th>\n",
       "      <th>2015-07-02</th>\n",
       "      <th>2015-07-03</th>\n",
       "      <th>2015-07-04</th>\n",
       "      <th>2015-07-05</th>\n",
       "      <th>2015-07-06</th>\n",
       "      <th>2015-07-07</th>\n",
       "      <th>2015-07-08</th>\n",
       "      <th>2015-07-09</th>\n",
       "      <th>...</th>\n",
       "      <th>2017-09-01</th>\n",
       "      <th>2017-09-02</th>\n",
       "      <th>2017-09-03</th>\n",
       "      <th>2017-09-04</th>\n",
       "      <th>2017-09-05</th>\n",
       "      <th>2017-09-06</th>\n",
       "      <th>2017-09-07</th>\n",
       "      <th>2017-09-08</th>\n",
       "      <th>2017-09-09</th>\n",
       "      <th>2017-09-10</th>\n",
       "    </tr>\n",
       "  </thead>\n",
       "  <tbody>\n",
       "    <tr>\n",
       "      <th>0</th>\n",
       "      <td>5566_zh.wikipedia.org_all-access_spider</td>\n",
       "      <td>12.0</td>\n",
       "      <td>7.0</td>\n",
       "      <td>4.0</td>\n",
       "      <td>5.0</td>\n",
       "      <td>20.0</td>\n",
       "      <td>8.0</td>\n",
       "      <td>5.0</td>\n",
       "      <td>17.0</td>\n",
       "      <td>24.0</td>\n",
       "      <td>...</td>\n",
       "      <td>13.0</td>\n",
       "      <td>13.0</td>\n",
       "      <td>45.0</td>\n",
       "      <td>4.0</td>\n",
       "      <td>13.0</td>\n",
       "      <td>20.0</td>\n",
       "      <td>18.0</td>\n",
       "      <td>17.0</td>\n",
       "      <td>14.0</td>\n",
       "      <td>11.0</td>\n",
       "    </tr>\n",
       "    <tr>\n",
       "      <th>1</th>\n",
       "      <td>Intel_80386_zh.wikipedia.org_all-access_spider</td>\n",
       "      <td>7.0</td>\n",
       "      <td>5.0</td>\n",
       "      <td>9.0</td>\n",
       "      <td>3.0</td>\n",
       "      <td>5.0</td>\n",
       "      <td>1.0</td>\n",
       "      <td>6.0</td>\n",
       "      <td>6.0</td>\n",
       "      <td>3.0</td>\n",
       "      <td>...</td>\n",
       "      <td>7.0</td>\n",
       "      <td>7.0</td>\n",
       "      <td>10.0</td>\n",
       "      <td>9.0</td>\n",
       "      <td>2.0</td>\n",
       "      <td>6.0</td>\n",
       "      <td>7.0</td>\n",
       "      <td>9.0</td>\n",
       "      <td>6.0</td>\n",
       "      <td>5.0</td>\n",
       "    </tr>\n",
       "    <tr>\n",
       "      <th>2</th>\n",
       "      <td>Kara_zh.wikipedia.org_all-access_spider</td>\n",
       "      <td>56.0</td>\n",
       "      <td>25.0</td>\n",
       "      <td>7.0</td>\n",
       "      <td>50.0</td>\n",
       "      <td>90.0</td>\n",
       "      <td>30.0</td>\n",
       "      <td>19.0</td>\n",
       "      <td>16.0</td>\n",
       "      <td>10.0</td>\n",
       "      <td>...</td>\n",
       "      <td>13.0</td>\n",
       "      <td>13.0</td>\n",
       "      <td>11.0</td>\n",
       "      <td>9.0</td>\n",
       "      <td>9.0</td>\n",
       "      <td>14.0</td>\n",
       "      <td>19.0</td>\n",
       "      <td>36.0</td>\n",
       "      <td>10.0</td>\n",
       "      <td>8.0</td>\n",
       "    </tr>\n",
       "    <tr>\n",
       "      <th>3</th>\n",
       "      <td>MAMAMOO_zh.wikipedia.org_all-access_spider</td>\n",
       "      <td>8.0</td>\n",
       "      <td>7.0</td>\n",
       "      <td>17.0</td>\n",
       "      <td>11.0</td>\n",
       "      <td>8.0</td>\n",
       "      <td>1.0</td>\n",
       "      <td>1.0</td>\n",
       "      <td>10.0</td>\n",
       "      <td>6.0</td>\n",
       "      <td>...</td>\n",
       "      <td>9.0</td>\n",
       "      <td>19.0</td>\n",
       "      <td>17.0</td>\n",
       "      <td>19.0</td>\n",
       "      <td>8.0</td>\n",
       "      <td>4.0</td>\n",
       "      <td>10.0</td>\n",
       "      <td>10.0</td>\n",
       "      <td>10.0</td>\n",
       "      <td>11.0</td>\n",
       "    </tr>\n",
       "    <tr>\n",
       "      <th>4</th>\n",
       "      <td>Netflix_zh.wikipedia.org_all-access_spider</td>\n",
       "      <td>7.0</td>\n",
       "      <td>10.0</td>\n",
       "      <td>21.0</td>\n",
       "      <td>2.0</td>\n",
       "      <td>9.0</td>\n",
       "      <td>13.0</td>\n",
       "      <td>7.0</td>\n",
       "      <td>6.0</td>\n",
       "      <td>7.0</td>\n",
       "      <td>...</td>\n",
       "      <td>23.0</td>\n",
       "      <td>37.0</td>\n",
       "      <td>38.0</td>\n",
       "      <td>21.0</td>\n",
       "      <td>35.0</td>\n",
       "      <td>29.0</td>\n",
       "      <td>35.0</td>\n",
       "      <td>25.0</td>\n",
       "      <td>24.0</td>\n",
       "      <td>22.0</td>\n",
       "    </tr>\n",
       "    <tr>\n",
       "      <th>...</th>\n",
       "      <td>...</td>\n",
       "      <td>...</td>\n",
       "      <td>...</td>\n",
       "      <td>...</td>\n",
       "      <td>...</td>\n",
       "      <td>...</td>\n",
       "      <td>...</td>\n",
       "      <td>...</td>\n",
       "      <td>...</td>\n",
       "      <td>...</td>\n",
       "      <td>...</td>\n",
       "      <td>...</td>\n",
       "      <td>...</td>\n",
       "      <td>...</td>\n",
       "      <td>...</td>\n",
       "      <td>...</td>\n",
       "      <td>...</td>\n",
       "      <td>...</td>\n",
       "      <td>...</td>\n",
       "      <td>...</td>\n",
       "      <td>...</td>\n",
       "    </tr>\n",
       "    <tr>\n",
       "      <th>9995</th>\n",
       "      <td>Juan_Domingo_Perón_es.wikipedia.org_all-access...</td>\n",
       "      <td>91.0</td>\n",
       "      <td>50.0</td>\n",
       "      <td>32.0</td>\n",
       "      <td>13.0</td>\n",
       "      <td>57.0</td>\n",
       "      <td>33.0</td>\n",
       "      <td>72.0</td>\n",
       "      <td>35.0</td>\n",
       "      <td>13.0</td>\n",
       "      <td>...</td>\n",
       "      <td>69.0</td>\n",
       "      <td>37.0</td>\n",
       "      <td>24.0</td>\n",
       "      <td>45.0</td>\n",
       "      <td>57.0</td>\n",
       "      <td>59.0</td>\n",
       "      <td>226.0</td>\n",
       "      <td>25.0</td>\n",
       "      <td>31.0</td>\n",
       "      <td>10.0</td>\n",
       "    </tr>\n",
       "    <tr>\n",
       "      <th>9996</th>\n",
       "      <td>Janucá_es.wikipedia.org_all-access_spider</td>\n",
       "      <td>9.0</td>\n",
       "      <td>8.0</td>\n",
       "      <td>8.0</td>\n",
       "      <td>7.0</td>\n",
       "      <td>5.0</td>\n",
       "      <td>4.0</td>\n",
       "      <td>5.0</td>\n",
       "      <td>3.0</td>\n",
       "      <td>15.0</td>\n",
       "      <td>...</td>\n",
       "      <td>2.0</td>\n",
       "      <td>4.0</td>\n",
       "      <td>2.0</td>\n",
       "      <td>4.0</td>\n",
       "      <td>4.0</td>\n",
       "      <td>1.0</td>\n",
       "      <td>2.0</td>\n",
       "      <td>35.0</td>\n",
       "      <td>6.0</td>\n",
       "      <td>4.0</td>\n",
       "    </tr>\n",
       "    <tr>\n",
       "      <th>9997</th>\n",
       "      <td>Generación_Y_es.wikipedia.org_all-access_spider</td>\n",
       "      <td>8.0</td>\n",
       "      <td>2.0</td>\n",
       "      <td>5.0</td>\n",
       "      <td>6.0</td>\n",
       "      <td>10.0</td>\n",
       "      <td>10.0</td>\n",
       "      <td>3.0</td>\n",
       "      <td>5.0</td>\n",
       "      <td>18.0</td>\n",
       "      <td>...</td>\n",
       "      <td>19.0</td>\n",
       "      <td>41.0</td>\n",
       "      <td>23.0</td>\n",
       "      <td>30.0</td>\n",
       "      <td>32.0</td>\n",
       "      <td>25.0</td>\n",
       "      <td>12.0</td>\n",
       "      <td>33.0</td>\n",
       "      <td>19.0</td>\n",
       "      <td>15.0</td>\n",
       "    </tr>\n",
       "    <tr>\n",
       "      <th>9998</th>\n",
       "      <td>Oxígeno_es.wikipedia.org_all-access_spider</td>\n",
       "      <td>74.0</td>\n",
       "      <td>30.0</td>\n",
       "      <td>41.0</td>\n",
       "      <td>27.0</td>\n",
       "      <td>31.0</td>\n",
       "      <td>31.0</td>\n",
       "      <td>24.0</td>\n",
       "      <td>31.0</td>\n",
       "      <td>27.0</td>\n",
       "      <td>...</td>\n",
       "      <td>37.0</td>\n",
       "      <td>50.0</td>\n",
       "      <td>50.0</td>\n",
       "      <td>45.0</td>\n",
       "      <td>57.0</td>\n",
       "      <td>49.0</td>\n",
       "      <td>39.0</td>\n",
       "      <td>49.0</td>\n",
       "      <td>49.0</td>\n",
       "      <td>27.0</td>\n",
       "    </tr>\n",
       "    <tr>\n",
       "      <th>9999</th>\n",
       "      <td>Día_Internacional_del_Libro_es.wikipedia.org_a...</td>\n",
       "      <td>8.0</td>\n",
       "      <td>4.0</td>\n",
       "      <td>5.0</td>\n",
       "      <td>4.0</td>\n",
       "      <td>12.0</td>\n",
       "      <td>3.0</td>\n",
       "      <td>9.0</td>\n",
       "      <td>11.0</td>\n",
       "      <td>8.0</td>\n",
       "      <td>...</td>\n",
       "      <td>10.0</td>\n",
       "      <td>6.0</td>\n",
       "      <td>8.0</td>\n",
       "      <td>7.0</td>\n",
       "      <td>5.0</td>\n",
       "      <td>6.0</td>\n",
       "      <td>7.0</td>\n",
       "      <td>11.0</td>\n",
       "      <td>7.0</td>\n",
       "      <td>8.0</td>\n",
       "    </tr>\n",
       "  </tbody>\n",
       "</table>\n",
       "<p>10000 rows × 804 columns</p>\n",
       "</div>"
      ],
      "text/plain": [
       "                                                   Page  2015-07-01  \\\n",
       "0               5566_zh.wikipedia.org_all-access_spider        12.0   \n",
       "1        Intel_80386_zh.wikipedia.org_all-access_spider         7.0   \n",
       "2               Kara_zh.wikipedia.org_all-access_spider        56.0   \n",
       "3            MAMAMOO_zh.wikipedia.org_all-access_spider         8.0   \n",
       "4            Netflix_zh.wikipedia.org_all-access_spider         7.0   \n",
       "...                                                 ...         ...   \n",
       "9995  Juan_Domingo_Perón_es.wikipedia.org_all-access...        91.0   \n",
       "9996          Janucá_es.wikipedia.org_all-access_spider         9.0   \n",
       "9997    Generación_Y_es.wikipedia.org_all-access_spider         8.0   \n",
       "9998         Oxígeno_es.wikipedia.org_all-access_spider        74.0   \n",
       "9999  Día_Internacional_del_Libro_es.wikipedia.org_a...         8.0   \n",
       "\n",
       "      2015-07-02  2015-07-03  2015-07-04  2015-07-05  2015-07-06  2015-07-07  \\\n",
       "0            7.0         4.0         5.0        20.0         8.0         5.0   \n",
       "1            5.0         9.0         3.0         5.0         1.0         6.0   \n",
       "2           25.0         7.0        50.0        90.0        30.0        19.0   \n",
       "3            7.0        17.0        11.0         8.0         1.0         1.0   \n",
       "4           10.0        21.0         2.0         9.0        13.0         7.0   \n",
       "...          ...         ...         ...         ...         ...         ...   \n",
       "9995        50.0        32.0        13.0        57.0        33.0        72.0   \n",
       "9996         8.0         8.0         7.0         5.0         4.0         5.0   \n",
       "9997         2.0         5.0         6.0        10.0        10.0         3.0   \n",
       "9998        30.0        41.0        27.0        31.0        31.0        24.0   \n",
       "9999         4.0         5.0         4.0        12.0         3.0         9.0   \n",
       "\n",
       "      2015-07-08  2015-07-09  ...  2017-09-01  2017-09-02  2017-09-03  \\\n",
       "0           17.0        24.0  ...        13.0        13.0        45.0   \n",
       "1            6.0         3.0  ...         7.0         7.0        10.0   \n",
       "2           16.0        10.0  ...        13.0        13.0        11.0   \n",
       "3           10.0         6.0  ...         9.0        19.0        17.0   \n",
       "4            6.0         7.0  ...        23.0        37.0        38.0   \n",
       "...          ...         ...  ...         ...         ...         ...   \n",
       "9995        35.0        13.0  ...        69.0        37.0        24.0   \n",
       "9996         3.0        15.0  ...         2.0         4.0         2.0   \n",
       "9997         5.0        18.0  ...        19.0        41.0        23.0   \n",
       "9998        31.0        27.0  ...        37.0        50.0        50.0   \n",
       "9999        11.0         8.0  ...        10.0         6.0         8.0   \n",
       "\n",
       "      2017-09-04  2017-09-05  2017-09-06  2017-09-07  2017-09-08  2017-09-09  \\\n",
       "0            4.0        13.0        20.0        18.0        17.0        14.0   \n",
       "1            9.0         2.0         6.0         7.0         9.0         6.0   \n",
       "2            9.0         9.0        14.0        19.0        36.0        10.0   \n",
       "3           19.0         8.0         4.0        10.0        10.0        10.0   \n",
       "4           21.0        35.0        29.0        35.0        25.0        24.0   \n",
       "...          ...         ...         ...         ...         ...         ...   \n",
       "9995        45.0        57.0        59.0       226.0        25.0        31.0   \n",
       "9996         4.0         4.0         1.0         2.0        35.0         6.0   \n",
       "9997        30.0        32.0        25.0        12.0        33.0        19.0   \n",
       "9998        45.0        57.0        49.0        39.0        49.0        49.0   \n",
       "9999         7.0         5.0         6.0         7.0        11.0         7.0   \n",
       "\n",
       "      2017-09-10  \n",
       "0           11.0  \n",
       "1            5.0  \n",
       "2            8.0  \n",
       "3           11.0  \n",
       "4           22.0  \n",
       "...          ...  \n",
       "9995        10.0  \n",
       "9996         4.0  \n",
       "9997        15.0  \n",
       "9998        27.0  \n",
       "9999         8.0  \n",
       "\n",
       "[10000 rows x 804 columns]"
      ]
     },
     "execution_count": 3,
     "metadata": {},
     "output_type": "execute_result"
    }
   ],
   "source": [
    "df"
   ]
  },
  {
   "cell_type": "code",
   "execution_count": 4,
   "id": "70995553",
   "metadata": {},
   "outputs": [
    {
     "data": {
      "text/plain": [
       "9999"
      ]
     },
     "execution_count": 4,
     "metadata": {},
     "output_type": "execute_result"
    }
   ],
   "source": [
    "len(df.Page.str.lower().unique())"
   ]
  },
  {
   "cell_type": "code",
   "execution_count": 5,
   "id": "b530a9ff",
   "metadata": {},
   "outputs": [
    {
     "data": {
      "text/plain": [
       "Index(['Page', '2015-07-01', '2015-07-02', '2015-07-03', '2015-07-04',\n",
       "       '2015-07-05', '2015-07-06', '2015-07-07', '2015-07-08', '2015-07-09',\n",
       "       ...\n",
       "       '2017-09-01', '2017-09-02', '2017-09-03', '2017-09-04', '2017-09-05',\n",
       "       '2017-09-06', '2017-09-07', '2017-09-08', '2017-09-09', '2017-09-10'],\n",
       "      dtype='object', length=804)"
      ]
     },
     "execution_count": 5,
     "metadata": {},
     "output_type": "execute_result"
    }
   ],
   "source": [
    "df.columns"
   ]
  },
  {
   "cell_type": "markdown",
   "id": "96603f49",
   "metadata": {},
   "source": [
    "We see that the data set contains nearly 145K rows and 551 columns. Each row is a unique time series. For each time series, you are provided the name of the article as well as the type of traffic that this time series represent (all, mobile, desktop, spider). The columns are daily dates ranging starting from 1st July 2015 to 31st December 2016. So each time series is of 550 days length. \n"
   ]
  },
  {
   "cell_type": "markdown",
   "id": "9127d37a",
   "metadata": {},
   "source": [
    "## 2. Data Cleaning "
   ]
  },
  {
   "cell_type": "markdown",
   "id": "be4c96d0",
   "metadata": {},
   "source": [
    "We see a lot of missing (NaN) values in the data set.  Unfortunately, the data source for this dataset does not distinguish between traffic values of zero and missing values. A missing value may mean the traffic was zero or that the data is not available for that day. <br>\n",
    "\n",
    "Due to the lack of clarity about the missing values, we can safely ignore those timeseries with null values as the data set is huge enough for time series modelling."
   ]
  },
  {
   "cell_type": "code",
   "execution_count": 6,
   "id": "316f6ec5",
   "metadata": {},
   "outputs": [],
   "source": [
    "new_df = df.loc[~df.isnull().any(axis=1)]"
   ]
  },
  {
   "cell_type": "code",
   "execution_count": 7,
   "id": "6bddb950",
   "metadata": {},
   "outputs": [
    {
     "data": {
      "text/plain": [
       "(10000, 804)"
      ]
     },
     "execution_count": 7,
     "metadata": {},
     "output_type": "execute_result"
    }
   ],
   "source": [
    "new_df.shape"
   ]
  },
  {
   "cell_type": "code",
   "execution_count": 8,
   "id": "d062b2fe",
   "metadata": {},
   "outputs": [
    {
     "data": {
      "text/html": [
       "<div>\n",
       "<style scoped>\n",
       "    .dataframe tbody tr th:only-of-type {\n",
       "        vertical-align: middle;\n",
       "    }\n",
       "\n",
       "    .dataframe tbody tr th {\n",
       "        vertical-align: top;\n",
       "    }\n",
       "\n",
       "    .dataframe thead th {\n",
       "        text-align: right;\n",
       "    }\n",
       "</style>\n",
       "<table border=\"1\" class=\"dataframe\">\n",
       "  <thead>\n",
       "    <tr style=\"text-align: right;\">\n",
       "      <th></th>\n",
       "      <th>Page</th>\n",
       "      <th>2015-07-01</th>\n",
       "      <th>2015-07-02</th>\n",
       "      <th>2015-07-03</th>\n",
       "      <th>2015-07-04</th>\n",
       "      <th>2015-07-05</th>\n",
       "      <th>2015-07-06</th>\n",
       "      <th>2015-07-07</th>\n",
       "      <th>2015-07-08</th>\n",
       "      <th>2015-07-09</th>\n",
       "      <th>...</th>\n",
       "      <th>2017-09-01</th>\n",
       "      <th>2017-09-02</th>\n",
       "      <th>2017-09-03</th>\n",
       "      <th>2017-09-04</th>\n",
       "      <th>2017-09-05</th>\n",
       "      <th>2017-09-06</th>\n",
       "      <th>2017-09-07</th>\n",
       "      <th>2017-09-08</th>\n",
       "      <th>2017-09-09</th>\n",
       "      <th>2017-09-10</th>\n",
       "    </tr>\n",
       "  </thead>\n",
       "  <tbody>\n",
       "    <tr>\n",
       "      <th>0</th>\n",
       "      <td>5566_zh.wikipedia.org_all-access_spider</td>\n",
       "      <td>12.0</td>\n",
       "      <td>7.0</td>\n",
       "      <td>4.0</td>\n",
       "      <td>5.0</td>\n",
       "      <td>20.0</td>\n",
       "      <td>8.0</td>\n",
       "      <td>5.0</td>\n",
       "      <td>17.0</td>\n",
       "      <td>24.0</td>\n",
       "      <td>...</td>\n",
       "      <td>13.0</td>\n",
       "      <td>13.0</td>\n",
       "      <td>45.0</td>\n",
       "      <td>4.0</td>\n",
       "      <td>13.0</td>\n",
       "      <td>20.0</td>\n",
       "      <td>18.0</td>\n",
       "      <td>17.0</td>\n",
       "      <td>14.0</td>\n",
       "      <td>11.0</td>\n",
       "    </tr>\n",
       "    <tr>\n",
       "      <th>1</th>\n",
       "      <td>Intel_80386_zh.wikipedia.org_all-access_spider</td>\n",
       "      <td>7.0</td>\n",
       "      <td>5.0</td>\n",
       "      <td>9.0</td>\n",
       "      <td>3.0</td>\n",
       "      <td>5.0</td>\n",
       "      <td>1.0</td>\n",
       "      <td>6.0</td>\n",
       "      <td>6.0</td>\n",
       "      <td>3.0</td>\n",
       "      <td>...</td>\n",
       "      <td>7.0</td>\n",
       "      <td>7.0</td>\n",
       "      <td>10.0</td>\n",
       "      <td>9.0</td>\n",
       "      <td>2.0</td>\n",
       "      <td>6.0</td>\n",
       "      <td>7.0</td>\n",
       "      <td>9.0</td>\n",
       "      <td>6.0</td>\n",
       "      <td>5.0</td>\n",
       "    </tr>\n",
       "    <tr>\n",
       "      <th>2</th>\n",
       "      <td>Kara_zh.wikipedia.org_all-access_spider</td>\n",
       "      <td>56.0</td>\n",
       "      <td>25.0</td>\n",
       "      <td>7.0</td>\n",
       "      <td>50.0</td>\n",
       "      <td>90.0</td>\n",
       "      <td>30.0</td>\n",
       "      <td>19.0</td>\n",
       "      <td>16.0</td>\n",
       "      <td>10.0</td>\n",
       "      <td>...</td>\n",
       "      <td>13.0</td>\n",
       "      <td>13.0</td>\n",
       "      <td>11.0</td>\n",
       "      <td>9.0</td>\n",
       "      <td>9.0</td>\n",
       "      <td>14.0</td>\n",
       "      <td>19.0</td>\n",
       "      <td>36.0</td>\n",
       "      <td>10.0</td>\n",
       "      <td>8.0</td>\n",
       "    </tr>\n",
       "    <tr>\n",
       "      <th>3</th>\n",
       "      <td>MAMAMOO_zh.wikipedia.org_all-access_spider</td>\n",
       "      <td>8.0</td>\n",
       "      <td>7.0</td>\n",
       "      <td>17.0</td>\n",
       "      <td>11.0</td>\n",
       "      <td>8.0</td>\n",
       "      <td>1.0</td>\n",
       "      <td>1.0</td>\n",
       "      <td>10.0</td>\n",
       "      <td>6.0</td>\n",
       "      <td>...</td>\n",
       "      <td>9.0</td>\n",
       "      <td>19.0</td>\n",
       "      <td>17.0</td>\n",
       "      <td>19.0</td>\n",
       "      <td>8.0</td>\n",
       "      <td>4.0</td>\n",
       "      <td>10.0</td>\n",
       "      <td>10.0</td>\n",
       "      <td>10.0</td>\n",
       "      <td>11.0</td>\n",
       "    </tr>\n",
       "    <tr>\n",
       "      <th>4</th>\n",
       "      <td>Netflix_zh.wikipedia.org_all-access_spider</td>\n",
       "      <td>7.0</td>\n",
       "      <td>10.0</td>\n",
       "      <td>21.0</td>\n",
       "      <td>2.0</td>\n",
       "      <td>9.0</td>\n",
       "      <td>13.0</td>\n",
       "      <td>7.0</td>\n",
       "      <td>6.0</td>\n",
       "      <td>7.0</td>\n",
       "      <td>...</td>\n",
       "      <td>23.0</td>\n",
       "      <td>37.0</td>\n",
       "      <td>38.0</td>\n",
       "      <td>21.0</td>\n",
       "      <td>35.0</td>\n",
       "      <td>29.0</td>\n",
       "      <td>35.0</td>\n",
       "      <td>25.0</td>\n",
       "      <td>24.0</td>\n",
       "      <td>22.0</td>\n",
       "    </tr>\n",
       "    <tr>\n",
       "      <th>...</th>\n",
       "      <td>...</td>\n",
       "      <td>...</td>\n",
       "      <td>...</td>\n",
       "      <td>...</td>\n",
       "      <td>...</td>\n",
       "      <td>...</td>\n",
       "      <td>...</td>\n",
       "      <td>...</td>\n",
       "      <td>...</td>\n",
       "      <td>...</td>\n",
       "      <td>...</td>\n",
       "      <td>...</td>\n",
       "      <td>...</td>\n",
       "      <td>...</td>\n",
       "      <td>...</td>\n",
       "      <td>...</td>\n",
       "      <td>...</td>\n",
       "      <td>...</td>\n",
       "      <td>...</td>\n",
       "      <td>...</td>\n",
       "      <td>...</td>\n",
       "    </tr>\n",
       "    <tr>\n",
       "      <th>9995</th>\n",
       "      <td>Juan_Domingo_Perón_es.wikipedia.org_all-access...</td>\n",
       "      <td>91.0</td>\n",
       "      <td>50.0</td>\n",
       "      <td>32.0</td>\n",
       "      <td>13.0</td>\n",
       "      <td>57.0</td>\n",
       "      <td>33.0</td>\n",
       "      <td>72.0</td>\n",
       "      <td>35.0</td>\n",
       "      <td>13.0</td>\n",
       "      <td>...</td>\n",
       "      <td>69.0</td>\n",
       "      <td>37.0</td>\n",
       "      <td>24.0</td>\n",
       "      <td>45.0</td>\n",
       "      <td>57.0</td>\n",
       "      <td>59.0</td>\n",
       "      <td>226.0</td>\n",
       "      <td>25.0</td>\n",
       "      <td>31.0</td>\n",
       "      <td>10.0</td>\n",
       "    </tr>\n",
       "    <tr>\n",
       "      <th>9996</th>\n",
       "      <td>Janucá_es.wikipedia.org_all-access_spider</td>\n",
       "      <td>9.0</td>\n",
       "      <td>8.0</td>\n",
       "      <td>8.0</td>\n",
       "      <td>7.0</td>\n",
       "      <td>5.0</td>\n",
       "      <td>4.0</td>\n",
       "      <td>5.0</td>\n",
       "      <td>3.0</td>\n",
       "      <td>15.0</td>\n",
       "      <td>...</td>\n",
       "      <td>2.0</td>\n",
       "      <td>4.0</td>\n",
       "      <td>2.0</td>\n",
       "      <td>4.0</td>\n",
       "      <td>4.0</td>\n",
       "      <td>1.0</td>\n",
       "      <td>2.0</td>\n",
       "      <td>35.0</td>\n",
       "      <td>6.0</td>\n",
       "      <td>4.0</td>\n",
       "    </tr>\n",
       "    <tr>\n",
       "      <th>9997</th>\n",
       "      <td>Generación_Y_es.wikipedia.org_all-access_spider</td>\n",
       "      <td>8.0</td>\n",
       "      <td>2.0</td>\n",
       "      <td>5.0</td>\n",
       "      <td>6.0</td>\n",
       "      <td>10.0</td>\n",
       "      <td>10.0</td>\n",
       "      <td>3.0</td>\n",
       "      <td>5.0</td>\n",
       "      <td>18.0</td>\n",
       "      <td>...</td>\n",
       "      <td>19.0</td>\n",
       "      <td>41.0</td>\n",
       "      <td>23.0</td>\n",
       "      <td>30.0</td>\n",
       "      <td>32.0</td>\n",
       "      <td>25.0</td>\n",
       "      <td>12.0</td>\n",
       "      <td>33.0</td>\n",
       "      <td>19.0</td>\n",
       "      <td>15.0</td>\n",
       "    </tr>\n",
       "    <tr>\n",
       "      <th>9998</th>\n",
       "      <td>Oxígeno_es.wikipedia.org_all-access_spider</td>\n",
       "      <td>74.0</td>\n",
       "      <td>30.0</td>\n",
       "      <td>41.0</td>\n",
       "      <td>27.0</td>\n",
       "      <td>31.0</td>\n",
       "      <td>31.0</td>\n",
       "      <td>24.0</td>\n",
       "      <td>31.0</td>\n",
       "      <td>27.0</td>\n",
       "      <td>...</td>\n",
       "      <td>37.0</td>\n",
       "      <td>50.0</td>\n",
       "      <td>50.0</td>\n",
       "      <td>45.0</td>\n",
       "      <td>57.0</td>\n",
       "      <td>49.0</td>\n",
       "      <td>39.0</td>\n",
       "      <td>49.0</td>\n",
       "      <td>49.0</td>\n",
       "      <td>27.0</td>\n",
       "    </tr>\n",
       "    <tr>\n",
       "      <th>9999</th>\n",
       "      <td>Día_Internacional_del_Libro_es.wikipedia.org_a...</td>\n",
       "      <td>8.0</td>\n",
       "      <td>4.0</td>\n",
       "      <td>5.0</td>\n",
       "      <td>4.0</td>\n",
       "      <td>12.0</td>\n",
       "      <td>3.0</td>\n",
       "      <td>9.0</td>\n",
       "      <td>11.0</td>\n",
       "      <td>8.0</td>\n",
       "      <td>...</td>\n",
       "      <td>10.0</td>\n",
       "      <td>6.0</td>\n",
       "      <td>8.0</td>\n",
       "      <td>7.0</td>\n",
       "      <td>5.0</td>\n",
       "      <td>6.0</td>\n",
       "      <td>7.0</td>\n",
       "      <td>11.0</td>\n",
       "      <td>7.0</td>\n",
       "      <td>8.0</td>\n",
       "    </tr>\n",
       "  </tbody>\n",
       "</table>\n",
       "<p>10000 rows × 804 columns</p>\n",
       "</div>"
      ],
      "text/plain": [
       "                                                   Page  2015-07-01  \\\n",
       "0               5566_zh.wikipedia.org_all-access_spider        12.0   \n",
       "1        Intel_80386_zh.wikipedia.org_all-access_spider         7.0   \n",
       "2               Kara_zh.wikipedia.org_all-access_spider        56.0   \n",
       "3            MAMAMOO_zh.wikipedia.org_all-access_spider         8.0   \n",
       "4            Netflix_zh.wikipedia.org_all-access_spider         7.0   \n",
       "...                                                 ...         ...   \n",
       "9995  Juan_Domingo_Perón_es.wikipedia.org_all-access...        91.0   \n",
       "9996          Janucá_es.wikipedia.org_all-access_spider         9.0   \n",
       "9997    Generación_Y_es.wikipedia.org_all-access_spider         8.0   \n",
       "9998         Oxígeno_es.wikipedia.org_all-access_spider        74.0   \n",
       "9999  Día_Internacional_del_Libro_es.wikipedia.org_a...         8.0   \n",
       "\n",
       "      2015-07-02  2015-07-03  2015-07-04  2015-07-05  2015-07-06  2015-07-07  \\\n",
       "0            7.0         4.0         5.0        20.0         8.0         5.0   \n",
       "1            5.0         9.0         3.0         5.0         1.0         6.0   \n",
       "2           25.0         7.0        50.0        90.0        30.0        19.0   \n",
       "3            7.0        17.0        11.0         8.0         1.0         1.0   \n",
       "4           10.0        21.0         2.0         9.0        13.0         7.0   \n",
       "...          ...         ...         ...         ...         ...         ...   \n",
       "9995        50.0        32.0        13.0        57.0        33.0        72.0   \n",
       "9996         8.0         8.0         7.0         5.0         4.0         5.0   \n",
       "9997         2.0         5.0         6.0        10.0        10.0         3.0   \n",
       "9998        30.0        41.0        27.0        31.0        31.0        24.0   \n",
       "9999         4.0         5.0         4.0        12.0         3.0         9.0   \n",
       "\n",
       "      2015-07-08  2015-07-09  ...  2017-09-01  2017-09-02  2017-09-03  \\\n",
       "0           17.0        24.0  ...        13.0        13.0        45.0   \n",
       "1            6.0         3.0  ...         7.0         7.0        10.0   \n",
       "2           16.0        10.0  ...        13.0        13.0        11.0   \n",
       "3           10.0         6.0  ...         9.0        19.0        17.0   \n",
       "4            6.0         7.0  ...        23.0        37.0        38.0   \n",
       "...          ...         ...  ...         ...         ...         ...   \n",
       "9995        35.0        13.0  ...        69.0        37.0        24.0   \n",
       "9996         3.0        15.0  ...         2.0         4.0         2.0   \n",
       "9997         5.0        18.0  ...        19.0        41.0        23.0   \n",
       "9998        31.0        27.0  ...        37.0        50.0        50.0   \n",
       "9999        11.0         8.0  ...        10.0         6.0         8.0   \n",
       "\n",
       "      2017-09-04  2017-09-05  2017-09-06  2017-09-07  2017-09-08  2017-09-09  \\\n",
       "0            4.0        13.0        20.0        18.0        17.0        14.0   \n",
       "1            9.0         2.0         6.0         7.0         9.0         6.0   \n",
       "2            9.0         9.0        14.0        19.0        36.0        10.0   \n",
       "3           19.0         8.0         4.0        10.0        10.0        10.0   \n",
       "4           21.0        35.0        29.0        35.0        25.0        24.0   \n",
       "...          ...         ...         ...         ...         ...         ...   \n",
       "9995        45.0        57.0        59.0       226.0        25.0        31.0   \n",
       "9996         4.0         4.0         1.0         2.0        35.0         6.0   \n",
       "9997        30.0        32.0        25.0        12.0        33.0        19.0   \n",
       "9998        45.0        57.0        49.0        39.0        49.0        49.0   \n",
       "9999         7.0         5.0         6.0         7.0        11.0         7.0   \n",
       "\n",
       "      2017-09-10  \n",
       "0           11.0  \n",
       "1            5.0  \n",
       "2            8.0  \n",
       "3           11.0  \n",
       "4           22.0  \n",
       "...          ...  \n",
       "9995        10.0  \n",
       "9996         4.0  \n",
       "9997        15.0  \n",
       "9998        27.0  \n",
       "9999         8.0  \n",
       "\n",
       "[10000 rows x 804 columns]"
      ]
     },
     "execution_count": 8,
     "metadata": {},
     "output_type": "execute_result"
    }
   ],
   "source": [
    "new_df"
   ]
  },
  {
   "cell_type": "code",
   "execution_count": 9,
   "id": "7e84f8ed",
   "metadata": {},
   "outputs": [
    {
     "data": {
      "text/plain": [
       "<bound method IndexOpsMixin.value_counts of 0       0\n",
       "1       0\n",
       "2       0\n",
       "3       0\n",
       "4       0\n",
       "       ..\n",
       "9995    0\n",
       "9996    0\n",
       "9997    0\n",
       "9998    0\n",
       "9999    0\n",
       "Length: 10000, dtype: int64>"
      ]
     },
     "execution_count": 9,
     "metadata": {},
     "output_type": "execute_result"
    }
   ],
   "source": [
    "new_df.isnull().sum(axis=1).value_counts"
   ]
  },
  {
   "cell_type": "code",
   "execution_count": 10,
   "id": "90dd45ed",
   "metadata": {},
   "outputs": [
    {
     "data": {
      "text/html": [
       "<div>\n",
       "<style scoped>\n",
       "    .dataframe tbody tr th:only-of-type {\n",
       "        vertical-align: middle;\n",
       "    }\n",
       "\n",
       "    .dataframe tbody tr th {\n",
       "        vertical-align: top;\n",
       "    }\n",
       "\n",
       "    .dataframe thead th {\n",
       "        text-align: right;\n",
       "    }\n",
       "</style>\n",
       "<table border=\"1\" class=\"dataframe\">\n",
       "  <thead>\n",
       "    <tr style=\"text-align: right;\">\n",
       "      <th></th>\n",
       "      <th>Page</th>\n",
       "      <th>2015-07-01</th>\n",
       "      <th>2015-07-02</th>\n",
       "      <th>2015-07-03</th>\n",
       "      <th>2015-07-04</th>\n",
       "      <th>2015-07-05</th>\n",
       "      <th>2015-07-06</th>\n",
       "      <th>2015-07-07</th>\n",
       "      <th>2015-07-08</th>\n",
       "      <th>2015-07-09</th>\n",
       "      <th>...</th>\n",
       "      <th>2017-09-01</th>\n",
       "      <th>2017-09-02</th>\n",
       "      <th>2017-09-03</th>\n",
       "      <th>2017-09-04</th>\n",
       "      <th>2017-09-05</th>\n",
       "      <th>2017-09-06</th>\n",
       "      <th>2017-09-07</th>\n",
       "      <th>2017-09-08</th>\n",
       "      <th>2017-09-09</th>\n",
       "      <th>2017-09-10</th>\n",
       "    </tr>\n",
       "  </thead>\n",
       "  <tbody>\n",
       "    <tr>\n",
       "      <th>0</th>\n",
       "      <td>5566_zh.wikipedia.org_all-access_spider</td>\n",
       "      <td>12.0</td>\n",
       "      <td>7.0</td>\n",
       "      <td>4.0</td>\n",
       "      <td>5.0</td>\n",
       "      <td>20.0</td>\n",
       "      <td>8.0</td>\n",
       "      <td>5.0</td>\n",
       "      <td>17.0</td>\n",
       "      <td>24.0</td>\n",
       "      <td>...</td>\n",
       "      <td>13.0</td>\n",
       "      <td>13.0</td>\n",
       "      <td>45.0</td>\n",
       "      <td>4.0</td>\n",
       "      <td>13.0</td>\n",
       "      <td>20.0</td>\n",
       "      <td>18.0</td>\n",
       "      <td>17.0</td>\n",
       "      <td>14.0</td>\n",
       "      <td>11.0</td>\n",
       "    </tr>\n",
       "    <tr>\n",
       "      <th>1</th>\n",
       "      <td>Intel_80386_zh.wikipedia.org_all-access_spider</td>\n",
       "      <td>7.0</td>\n",
       "      <td>5.0</td>\n",
       "      <td>9.0</td>\n",
       "      <td>3.0</td>\n",
       "      <td>5.0</td>\n",
       "      <td>1.0</td>\n",
       "      <td>6.0</td>\n",
       "      <td>6.0</td>\n",
       "      <td>3.0</td>\n",
       "      <td>...</td>\n",
       "      <td>7.0</td>\n",
       "      <td>7.0</td>\n",
       "      <td>10.0</td>\n",
       "      <td>9.0</td>\n",
       "      <td>2.0</td>\n",
       "      <td>6.0</td>\n",
       "      <td>7.0</td>\n",
       "      <td>9.0</td>\n",
       "      <td>6.0</td>\n",
       "      <td>5.0</td>\n",
       "    </tr>\n",
       "    <tr>\n",
       "      <th>2</th>\n",
       "      <td>Kara_zh.wikipedia.org_all-access_spider</td>\n",
       "      <td>56.0</td>\n",
       "      <td>25.0</td>\n",
       "      <td>7.0</td>\n",
       "      <td>50.0</td>\n",
       "      <td>90.0</td>\n",
       "      <td>30.0</td>\n",
       "      <td>19.0</td>\n",
       "      <td>16.0</td>\n",
       "      <td>10.0</td>\n",
       "      <td>...</td>\n",
       "      <td>13.0</td>\n",
       "      <td>13.0</td>\n",
       "      <td>11.0</td>\n",
       "      <td>9.0</td>\n",
       "      <td>9.0</td>\n",
       "      <td>14.0</td>\n",
       "      <td>19.0</td>\n",
       "      <td>36.0</td>\n",
       "      <td>10.0</td>\n",
       "      <td>8.0</td>\n",
       "    </tr>\n",
       "    <tr>\n",
       "      <th>3</th>\n",
       "      <td>MAMAMOO_zh.wikipedia.org_all-access_spider</td>\n",
       "      <td>8.0</td>\n",
       "      <td>7.0</td>\n",
       "      <td>17.0</td>\n",
       "      <td>11.0</td>\n",
       "      <td>8.0</td>\n",
       "      <td>1.0</td>\n",
       "      <td>1.0</td>\n",
       "      <td>10.0</td>\n",
       "      <td>6.0</td>\n",
       "      <td>...</td>\n",
       "      <td>9.0</td>\n",
       "      <td>19.0</td>\n",
       "      <td>17.0</td>\n",
       "      <td>19.0</td>\n",
       "      <td>8.0</td>\n",
       "      <td>4.0</td>\n",
       "      <td>10.0</td>\n",
       "      <td>10.0</td>\n",
       "      <td>10.0</td>\n",
       "      <td>11.0</td>\n",
       "    </tr>\n",
       "    <tr>\n",
       "      <th>4</th>\n",
       "      <td>Netflix_zh.wikipedia.org_all-access_spider</td>\n",
       "      <td>7.0</td>\n",
       "      <td>10.0</td>\n",
       "      <td>21.0</td>\n",
       "      <td>2.0</td>\n",
       "      <td>9.0</td>\n",
       "      <td>13.0</td>\n",
       "      <td>7.0</td>\n",
       "      <td>6.0</td>\n",
       "      <td>7.0</td>\n",
       "      <td>...</td>\n",
       "      <td>23.0</td>\n",
       "      <td>37.0</td>\n",
       "      <td>38.0</td>\n",
       "      <td>21.0</td>\n",
       "      <td>35.0</td>\n",
       "      <td>29.0</td>\n",
       "      <td>35.0</td>\n",
       "      <td>25.0</td>\n",
       "      <td>24.0</td>\n",
       "      <td>22.0</td>\n",
       "    </tr>\n",
       "    <tr>\n",
       "      <th>...</th>\n",
       "      <td>...</td>\n",
       "      <td>...</td>\n",
       "      <td>...</td>\n",
       "      <td>...</td>\n",
       "      <td>...</td>\n",
       "      <td>...</td>\n",
       "      <td>...</td>\n",
       "      <td>...</td>\n",
       "      <td>...</td>\n",
       "      <td>...</td>\n",
       "      <td>...</td>\n",
       "      <td>...</td>\n",
       "      <td>...</td>\n",
       "      <td>...</td>\n",
       "      <td>...</td>\n",
       "      <td>...</td>\n",
       "      <td>...</td>\n",
       "      <td>...</td>\n",
       "      <td>...</td>\n",
       "      <td>...</td>\n",
       "      <td>...</td>\n",
       "    </tr>\n",
       "    <tr>\n",
       "      <th>9995</th>\n",
       "      <td>Juan_Domingo_Perón_es.wikipedia.org_all-access...</td>\n",
       "      <td>91.0</td>\n",
       "      <td>50.0</td>\n",
       "      <td>32.0</td>\n",
       "      <td>13.0</td>\n",
       "      <td>57.0</td>\n",
       "      <td>33.0</td>\n",
       "      <td>72.0</td>\n",
       "      <td>35.0</td>\n",
       "      <td>13.0</td>\n",
       "      <td>...</td>\n",
       "      <td>69.0</td>\n",
       "      <td>37.0</td>\n",
       "      <td>24.0</td>\n",
       "      <td>45.0</td>\n",
       "      <td>57.0</td>\n",
       "      <td>59.0</td>\n",
       "      <td>226.0</td>\n",
       "      <td>25.0</td>\n",
       "      <td>31.0</td>\n",
       "      <td>10.0</td>\n",
       "    </tr>\n",
       "    <tr>\n",
       "      <th>9996</th>\n",
       "      <td>Janucá_es.wikipedia.org_all-access_spider</td>\n",
       "      <td>9.0</td>\n",
       "      <td>8.0</td>\n",
       "      <td>8.0</td>\n",
       "      <td>7.0</td>\n",
       "      <td>5.0</td>\n",
       "      <td>4.0</td>\n",
       "      <td>5.0</td>\n",
       "      <td>3.0</td>\n",
       "      <td>15.0</td>\n",
       "      <td>...</td>\n",
       "      <td>2.0</td>\n",
       "      <td>4.0</td>\n",
       "      <td>2.0</td>\n",
       "      <td>4.0</td>\n",
       "      <td>4.0</td>\n",
       "      <td>1.0</td>\n",
       "      <td>2.0</td>\n",
       "      <td>35.0</td>\n",
       "      <td>6.0</td>\n",
       "      <td>4.0</td>\n",
       "    </tr>\n",
       "    <tr>\n",
       "      <th>9997</th>\n",
       "      <td>Generación_Y_es.wikipedia.org_all-access_spider</td>\n",
       "      <td>8.0</td>\n",
       "      <td>2.0</td>\n",
       "      <td>5.0</td>\n",
       "      <td>6.0</td>\n",
       "      <td>10.0</td>\n",
       "      <td>10.0</td>\n",
       "      <td>3.0</td>\n",
       "      <td>5.0</td>\n",
       "      <td>18.0</td>\n",
       "      <td>...</td>\n",
       "      <td>19.0</td>\n",
       "      <td>41.0</td>\n",
       "      <td>23.0</td>\n",
       "      <td>30.0</td>\n",
       "      <td>32.0</td>\n",
       "      <td>25.0</td>\n",
       "      <td>12.0</td>\n",
       "      <td>33.0</td>\n",
       "      <td>19.0</td>\n",
       "      <td>15.0</td>\n",
       "    </tr>\n",
       "    <tr>\n",
       "      <th>9998</th>\n",
       "      <td>Oxígeno_es.wikipedia.org_all-access_spider</td>\n",
       "      <td>74.0</td>\n",
       "      <td>30.0</td>\n",
       "      <td>41.0</td>\n",
       "      <td>27.0</td>\n",
       "      <td>31.0</td>\n",
       "      <td>31.0</td>\n",
       "      <td>24.0</td>\n",
       "      <td>31.0</td>\n",
       "      <td>27.0</td>\n",
       "      <td>...</td>\n",
       "      <td>37.0</td>\n",
       "      <td>50.0</td>\n",
       "      <td>50.0</td>\n",
       "      <td>45.0</td>\n",
       "      <td>57.0</td>\n",
       "      <td>49.0</td>\n",
       "      <td>39.0</td>\n",
       "      <td>49.0</td>\n",
       "      <td>49.0</td>\n",
       "      <td>27.0</td>\n",
       "    </tr>\n",
       "    <tr>\n",
       "      <th>9999</th>\n",
       "      <td>Día_Internacional_del_Libro_es.wikipedia.org_a...</td>\n",
       "      <td>8.0</td>\n",
       "      <td>4.0</td>\n",
       "      <td>5.0</td>\n",
       "      <td>4.0</td>\n",
       "      <td>12.0</td>\n",
       "      <td>3.0</td>\n",
       "      <td>9.0</td>\n",
       "      <td>11.0</td>\n",
       "      <td>8.0</td>\n",
       "      <td>...</td>\n",
       "      <td>10.0</td>\n",
       "      <td>6.0</td>\n",
       "      <td>8.0</td>\n",
       "      <td>7.0</td>\n",
       "      <td>5.0</td>\n",
       "      <td>6.0</td>\n",
       "      <td>7.0</td>\n",
       "      <td>11.0</td>\n",
       "      <td>7.0</td>\n",
       "      <td>8.0</td>\n",
       "    </tr>\n",
       "  </tbody>\n",
       "</table>\n",
       "<p>10000 rows × 804 columns</p>\n",
       "</div>"
      ],
      "text/plain": [
       "                                                   Page  2015-07-01  \\\n",
       "0               5566_zh.wikipedia.org_all-access_spider        12.0   \n",
       "1        Intel_80386_zh.wikipedia.org_all-access_spider         7.0   \n",
       "2               Kara_zh.wikipedia.org_all-access_spider        56.0   \n",
       "3            MAMAMOO_zh.wikipedia.org_all-access_spider         8.0   \n",
       "4            Netflix_zh.wikipedia.org_all-access_spider         7.0   \n",
       "...                                                 ...         ...   \n",
       "9995  Juan_Domingo_Perón_es.wikipedia.org_all-access...        91.0   \n",
       "9996          Janucá_es.wikipedia.org_all-access_spider         9.0   \n",
       "9997    Generación_Y_es.wikipedia.org_all-access_spider         8.0   \n",
       "9998         Oxígeno_es.wikipedia.org_all-access_spider        74.0   \n",
       "9999  Día_Internacional_del_Libro_es.wikipedia.org_a...         8.0   \n",
       "\n",
       "      2015-07-02  2015-07-03  2015-07-04  2015-07-05  2015-07-06  2015-07-07  \\\n",
       "0            7.0         4.0         5.0        20.0         8.0         5.0   \n",
       "1            5.0         9.0         3.0         5.0         1.0         6.0   \n",
       "2           25.0         7.0        50.0        90.0        30.0        19.0   \n",
       "3            7.0        17.0        11.0         8.0         1.0         1.0   \n",
       "4           10.0        21.0         2.0         9.0        13.0         7.0   \n",
       "...          ...         ...         ...         ...         ...         ...   \n",
       "9995        50.0        32.0        13.0        57.0        33.0        72.0   \n",
       "9996         8.0         8.0         7.0         5.0         4.0         5.0   \n",
       "9997         2.0         5.0         6.0        10.0        10.0         3.0   \n",
       "9998        30.0        41.0        27.0        31.0        31.0        24.0   \n",
       "9999         4.0         5.0         4.0        12.0         3.0         9.0   \n",
       "\n",
       "      2015-07-08  2015-07-09  ...  2017-09-01  2017-09-02  2017-09-03  \\\n",
       "0           17.0        24.0  ...        13.0        13.0        45.0   \n",
       "1            6.0         3.0  ...         7.0         7.0        10.0   \n",
       "2           16.0        10.0  ...        13.0        13.0        11.0   \n",
       "3           10.0         6.0  ...         9.0        19.0        17.0   \n",
       "4            6.0         7.0  ...        23.0        37.0        38.0   \n",
       "...          ...         ...  ...         ...         ...         ...   \n",
       "9995        35.0        13.0  ...        69.0        37.0        24.0   \n",
       "9996         3.0        15.0  ...         2.0         4.0         2.0   \n",
       "9997         5.0        18.0  ...        19.0        41.0        23.0   \n",
       "9998        31.0        27.0  ...        37.0        50.0        50.0   \n",
       "9999        11.0         8.0  ...        10.0         6.0         8.0   \n",
       "\n",
       "      2017-09-04  2017-09-05  2017-09-06  2017-09-07  2017-09-08  2017-09-09  \\\n",
       "0            4.0        13.0        20.0        18.0        17.0        14.0   \n",
       "1            9.0         2.0         6.0         7.0         9.0         6.0   \n",
       "2            9.0         9.0        14.0        19.0        36.0        10.0   \n",
       "3           19.0         8.0         4.0        10.0        10.0        10.0   \n",
       "4           21.0        35.0        29.0        35.0        25.0        24.0   \n",
       "...          ...         ...         ...         ...         ...         ...   \n",
       "9995        45.0        57.0        59.0       226.0        25.0        31.0   \n",
       "9996         4.0         4.0         1.0         2.0        35.0         6.0   \n",
       "9997        30.0        32.0        25.0        12.0        33.0        19.0   \n",
       "9998        45.0        57.0        49.0        39.0        49.0        49.0   \n",
       "9999         7.0         5.0         6.0         7.0        11.0         7.0   \n",
       "\n",
       "      2017-09-10  \n",
       "0           11.0  \n",
       "1            5.0  \n",
       "2            8.0  \n",
       "3           11.0  \n",
       "4           22.0  \n",
       "...          ...  \n",
       "9995        10.0  \n",
       "9996         4.0  \n",
       "9997        15.0  \n",
       "9998        27.0  \n",
       "9999         8.0  \n",
       "\n",
       "[10000 rows x 804 columns]"
      ]
     },
     "execution_count": 10,
     "metadata": {},
     "output_type": "execute_result"
    }
   ],
   "source": [
    "new_df = new_df.reset_index().drop(['index'], axis=1)\n",
    "new_df"
   ]
  },
  {
   "cell_type": "markdown",
   "id": "4972e6a7",
   "metadata": {},
   "source": [
    "##### We have removed the NaN values and still left with over 100K time series data. <br>\n",
    "Let us take a backup of the df"
   ]
  },
  {
   "cell_type": "code",
   "execution_count": 11,
   "id": "66aecc46",
   "metadata": {},
   "outputs": [],
   "source": [
    "new_df_copy = new_df.copy()"
   ]
  },
  {
   "cell_type": "markdown",
   "id": "e103e3cf",
   "metadata": {},
   "source": [
    "##### Drop the Page column as it is not necessary"
   ]
  },
  {
   "cell_type": "code",
   "execution_count": 12,
   "id": "08dceb40",
   "metadata": {},
   "outputs": [],
   "source": [
    "new_df = new_df.drop(['Page'], axis=1)"
   ]
  },
  {
   "cell_type": "code",
   "execution_count": 13,
   "id": "79fab9fc",
   "metadata": {},
   "outputs": [
    {
     "data": {
      "text/html": [
       "<div>\n",
       "<style scoped>\n",
       "    .dataframe tbody tr th:only-of-type {\n",
       "        vertical-align: middle;\n",
       "    }\n",
       "\n",
       "    .dataframe tbody tr th {\n",
       "        vertical-align: top;\n",
       "    }\n",
       "\n",
       "    .dataframe thead th {\n",
       "        text-align: right;\n",
       "    }\n",
       "</style>\n",
       "<table border=\"1\" class=\"dataframe\">\n",
       "  <thead>\n",
       "    <tr style=\"text-align: right;\">\n",
       "      <th></th>\n",
       "      <th>2015-07-01</th>\n",
       "      <th>2015-07-02</th>\n",
       "      <th>2015-07-03</th>\n",
       "      <th>2015-07-04</th>\n",
       "      <th>2015-07-05</th>\n",
       "      <th>2015-07-06</th>\n",
       "      <th>2015-07-07</th>\n",
       "      <th>2015-07-08</th>\n",
       "      <th>2015-07-09</th>\n",
       "      <th>2015-07-10</th>\n",
       "      <th>...</th>\n",
       "      <th>2017-09-01</th>\n",
       "      <th>2017-09-02</th>\n",
       "      <th>2017-09-03</th>\n",
       "      <th>2017-09-04</th>\n",
       "      <th>2017-09-05</th>\n",
       "      <th>2017-09-06</th>\n",
       "      <th>2017-09-07</th>\n",
       "      <th>2017-09-08</th>\n",
       "      <th>2017-09-09</th>\n",
       "      <th>2017-09-10</th>\n",
       "    </tr>\n",
       "  </thead>\n",
       "  <tbody>\n",
       "    <tr>\n",
       "      <th>0</th>\n",
       "      <td>12.0</td>\n",
       "      <td>7.0</td>\n",
       "      <td>4.0</td>\n",
       "      <td>5.0</td>\n",
       "      <td>20.0</td>\n",
       "      <td>8.0</td>\n",
       "      <td>5.0</td>\n",
       "      <td>17.0</td>\n",
       "      <td>24.0</td>\n",
       "      <td>7.0</td>\n",
       "      <td>...</td>\n",
       "      <td>13.0</td>\n",
       "      <td>13.0</td>\n",
       "      <td>45.0</td>\n",
       "      <td>4.0</td>\n",
       "      <td>13.0</td>\n",
       "      <td>20.0</td>\n",
       "      <td>18.0</td>\n",
       "      <td>17.0</td>\n",
       "      <td>14.0</td>\n",
       "      <td>11.0</td>\n",
       "    </tr>\n",
       "    <tr>\n",
       "      <th>1</th>\n",
       "      <td>7.0</td>\n",
       "      <td>5.0</td>\n",
       "      <td>9.0</td>\n",
       "      <td>3.0</td>\n",
       "      <td>5.0</td>\n",
       "      <td>1.0</td>\n",
       "      <td>6.0</td>\n",
       "      <td>6.0</td>\n",
       "      <td>3.0</td>\n",
       "      <td>3.0</td>\n",
       "      <td>...</td>\n",
       "      <td>7.0</td>\n",
       "      <td>7.0</td>\n",
       "      <td>10.0</td>\n",
       "      <td>9.0</td>\n",
       "      <td>2.0</td>\n",
       "      <td>6.0</td>\n",
       "      <td>7.0</td>\n",
       "      <td>9.0</td>\n",
       "      <td>6.0</td>\n",
       "      <td>5.0</td>\n",
       "    </tr>\n",
       "    <tr>\n",
       "      <th>2</th>\n",
       "      <td>56.0</td>\n",
       "      <td>25.0</td>\n",
       "      <td>7.0</td>\n",
       "      <td>50.0</td>\n",
       "      <td>90.0</td>\n",
       "      <td>30.0</td>\n",
       "      <td>19.0</td>\n",
       "      <td>16.0</td>\n",
       "      <td>10.0</td>\n",
       "      <td>12.0</td>\n",
       "      <td>...</td>\n",
       "      <td>13.0</td>\n",
       "      <td>13.0</td>\n",
       "      <td>11.0</td>\n",
       "      <td>9.0</td>\n",
       "      <td>9.0</td>\n",
       "      <td>14.0</td>\n",
       "      <td>19.0</td>\n",
       "      <td>36.0</td>\n",
       "      <td>10.0</td>\n",
       "      <td>8.0</td>\n",
       "    </tr>\n",
       "    <tr>\n",
       "      <th>3</th>\n",
       "      <td>8.0</td>\n",
       "      <td>7.0</td>\n",
       "      <td>17.0</td>\n",
       "      <td>11.0</td>\n",
       "      <td>8.0</td>\n",
       "      <td>1.0</td>\n",
       "      <td>1.0</td>\n",
       "      <td>10.0</td>\n",
       "      <td>6.0</td>\n",
       "      <td>8.0</td>\n",
       "      <td>...</td>\n",
       "      <td>9.0</td>\n",
       "      <td>19.0</td>\n",
       "      <td>17.0</td>\n",
       "      <td>19.0</td>\n",
       "      <td>8.0</td>\n",
       "      <td>4.0</td>\n",
       "      <td>10.0</td>\n",
       "      <td>10.0</td>\n",
       "      <td>10.0</td>\n",
       "      <td>11.0</td>\n",
       "    </tr>\n",
       "    <tr>\n",
       "      <th>4</th>\n",
       "      <td>7.0</td>\n",
       "      <td>10.0</td>\n",
       "      <td>21.0</td>\n",
       "      <td>2.0</td>\n",
       "      <td>9.0</td>\n",
       "      <td>13.0</td>\n",
       "      <td>7.0</td>\n",
       "      <td>6.0</td>\n",
       "      <td>7.0</td>\n",
       "      <td>23.0</td>\n",
       "      <td>...</td>\n",
       "      <td>23.0</td>\n",
       "      <td>37.0</td>\n",
       "      <td>38.0</td>\n",
       "      <td>21.0</td>\n",
       "      <td>35.0</td>\n",
       "      <td>29.0</td>\n",
       "      <td>35.0</td>\n",
       "      <td>25.0</td>\n",
       "      <td>24.0</td>\n",
       "      <td>22.0</td>\n",
       "    </tr>\n",
       "    <tr>\n",
       "      <th>5</th>\n",
       "      <td>37.0</td>\n",
       "      <td>21.0</td>\n",
       "      <td>24.0</td>\n",
       "      <td>27.0</td>\n",
       "      <td>35.0</td>\n",
       "      <td>9.0</td>\n",
       "      <td>14.0</td>\n",
       "      <td>18.0</td>\n",
       "      <td>22.0</td>\n",
       "      <td>20.0</td>\n",
       "      <td>...</td>\n",
       "      <td>26.0</td>\n",
       "      <td>23.0</td>\n",
       "      <td>20.0</td>\n",
       "      <td>7.0</td>\n",
       "      <td>19.0</td>\n",
       "      <td>18.0</td>\n",
       "      <td>26.0</td>\n",
       "      <td>27.0</td>\n",
       "      <td>47.0</td>\n",
       "      <td>12.0</td>\n",
       "    </tr>\n",
       "    <tr>\n",
       "      <th>6</th>\n",
       "      <td>8.0</td>\n",
       "      <td>6.0</td>\n",
       "      <td>15.0</td>\n",
       "      <td>6.0</td>\n",
       "      <td>7.0</td>\n",
       "      <td>4.0</td>\n",
       "      <td>10.0</td>\n",
       "      <td>9.0</td>\n",
       "      <td>52.0</td>\n",
       "      <td>52.0</td>\n",
       "      <td>...</td>\n",
       "      <td>9.0</td>\n",
       "      <td>18.0</td>\n",
       "      <td>19.0</td>\n",
       "      <td>24.0</td>\n",
       "      <td>36.0</td>\n",
       "      <td>16.0</td>\n",
       "      <td>25.0</td>\n",
       "      <td>17.0</td>\n",
       "      <td>31.0</td>\n",
       "      <td>8.0</td>\n",
       "    </tr>\n",
       "    <tr>\n",
       "      <th>7</th>\n",
       "      <td>12.0</td>\n",
       "      <td>70.0</td>\n",
       "      <td>30.0</td>\n",
       "      <td>13.0</td>\n",
       "      <td>9.0</td>\n",
       "      <td>44.0</td>\n",
       "      <td>61.0</td>\n",
       "      <td>6.0</td>\n",
       "      <td>27.0</td>\n",
       "      <td>22.0</td>\n",
       "      <td>...</td>\n",
       "      <td>20.0</td>\n",
       "      <td>23.0</td>\n",
       "      <td>18.0</td>\n",
       "      <td>12.0</td>\n",
       "      <td>17.0</td>\n",
       "      <td>22.0</td>\n",
       "      <td>26.0</td>\n",
       "      <td>17.0</td>\n",
       "      <td>18.0</td>\n",
       "      <td>16.0</td>\n",
       "    </tr>\n",
       "    <tr>\n",
       "      <th>8</th>\n",
       "      <td>9.0</td>\n",
       "      <td>12.0</td>\n",
       "      <td>11.0</td>\n",
       "      <td>16.0</td>\n",
       "      <td>14.0</td>\n",
       "      <td>1.0</td>\n",
       "      <td>18.0</td>\n",
       "      <td>7.0</td>\n",
       "      <td>9.0</td>\n",
       "      <td>10.0</td>\n",
       "      <td>...</td>\n",
       "      <td>7.0</td>\n",
       "      <td>9.0</td>\n",
       "      <td>10.0</td>\n",
       "      <td>4.0</td>\n",
       "      <td>14.0</td>\n",
       "      <td>14.0</td>\n",
       "      <td>7.0</td>\n",
       "      <td>10.0</td>\n",
       "      <td>8.0</td>\n",
       "      <td>8.0</td>\n",
       "    </tr>\n",
       "    <tr>\n",
       "      <th>9</th>\n",
       "      <td>17.0</td>\n",
       "      <td>3.0</td>\n",
       "      <td>21.0</td>\n",
       "      <td>16.0</td>\n",
       "      <td>9.0</td>\n",
       "      <td>4.0</td>\n",
       "      <td>3.0</td>\n",
       "      <td>6.0</td>\n",
       "      <td>4.0</td>\n",
       "      <td>9.0</td>\n",
       "      <td>...</td>\n",
       "      <td>14.0</td>\n",
       "      <td>9.0</td>\n",
       "      <td>11.0</td>\n",
       "      <td>14.0</td>\n",
       "      <td>13.0</td>\n",
       "      <td>16.0</td>\n",
       "      <td>10.0</td>\n",
       "      <td>9.0</td>\n",
       "      <td>13.0</td>\n",
       "      <td>6.0</td>\n",
       "    </tr>\n",
       "  </tbody>\n",
       "</table>\n",
       "<p>10 rows × 803 columns</p>\n",
       "</div>"
      ],
      "text/plain": [
       "   2015-07-01  2015-07-02  2015-07-03  2015-07-04  2015-07-05  2015-07-06  \\\n",
       "0        12.0         7.0         4.0         5.0        20.0         8.0   \n",
       "1         7.0         5.0         9.0         3.0         5.0         1.0   \n",
       "2        56.0        25.0         7.0        50.0        90.0        30.0   \n",
       "3         8.0         7.0        17.0        11.0         8.0         1.0   \n",
       "4         7.0        10.0        21.0         2.0         9.0        13.0   \n",
       "5        37.0        21.0        24.0        27.0        35.0         9.0   \n",
       "6         8.0         6.0        15.0         6.0         7.0         4.0   \n",
       "7        12.0        70.0        30.0        13.0         9.0        44.0   \n",
       "8         9.0        12.0        11.0        16.0        14.0         1.0   \n",
       "9        17.0         3.0        21.0        16.0         9.0         4.0   \n",
       "\n",
       "   2015-07-07  2015-07-08  2015-07-09  2015-07-10  ...  2017-09-01  \\\n",
       "0         5.0        17.0        24.0         7.0  ...        13.0   \n",
       "1         6.0         6.0         3.0         3.0  ...         7.0   \n",
       "2        19.0        16.0        10.0        12.0  ...        13.0   \n",
       "3         1.0        10.0         6.0         8.0  ...         9.0   \n",
       "4         7.0         6.0         7.0        23.0  ...        23.0   \n",
       "5        14.0        18.0        22.0        20.0  ...        26.0   \n",
       "6        10.0         9.0        52.0        52.0  ...         9.0   \n",
       "7        61.0         6.0        27.0        22.0  ...        20.0   \n",
       "8        18.0         7.0         9.0        10.0  ...         7.0   \n",
       "9         3.0         6.0         4.0         9.0  ...        14.0   \n",
       "\n",
       "   2017-09-02  2017-09-03  2017-09-04  2017-09-05  2017-09-06  2017-09-07  \\\n",
       "0        13.0        45.0         4.0        13.0        20.0        18.0   \n",
       "1         7.0        10.0         9.0         2.0         6.0         7.0   \n",
       "2        13.0        11.0         9.0         9.0        14.0        19.0   \n",
       "3        19.0        17.0        19.0         8.0         4.0        10.0   \n",
       "4        37.0        38.0        21.0        35.0        29.0        35.0   \n",
       "5        23.0        20.0         7.0        19.0        18.0        26.0   \n",
       "6        18.0        19.0        24.0        36.0        16.0        25.0   \n",
       "7        23.0        18.0        12.0        17.0        22.0        26.0   \n",
       "8         9.0        10.0         4.0        14.0        14.0         7.0   \n",
       "9         9.0        11.0        14.0        13.0        16.0        10.0   \n",
       "\n",
       "   2017-09-08  2017-09-09  2017-09-10  \n",
       "0        17.0        14.0        11.0  \n",
       "1         9.0         6.0         5.0  \n",
       "2        36.0        10.0         8.0  \n",
       "3        10.0        10.0        11.0  \n",
       "4        25.0        24.0        22.0  \n",
       "5        27.0        47.0        12.0  \n",
       "6        17.0        31.0         8.0  \n",
       "7        17.0        18.0        16.0  \n",
       "8        10.0         8.0         8.0  \n",
       "9         9.0        13.0         6.0  \n",
       "\n",
       "[10 rows x 803 columns]"
      ]
     },
     "execution_count": 13,
     "metadata": {},
     "output_type": "execute_result"
    }
   ],
   "source": [
    "new_df.head(10)"
   ]
  },
  {
   "cell_type": "markdown",
   "id": "68465e1e",
   "metadata": {},
   "source": [
    "Change the column names from dates to time steps which will help us to manipulate the data later"
   ]
  },
  {
   "cell_type": "code",
   "execution_count": 14,
   "id": "d540082b",
   "metadata": {},
   "outputs": [
    {
     "data": {
      "text/html": [
       "<div>\n",
       "<style scoped>\n",
       "    .dataframe tbody tr th:only-of-type {\n",
       "        vertical-align: middle;\n",
       "    }\n",
       "\n",
       "    .dataframe tbody tr th {\n",
       "        vertical-align: top;\n",
       "    }\n",
       "\n",
       "    .dataframe thead th {\n",
       "        text-align: right;\n",
       "    }\n",
       "</style>\n",
       "<table border=\"1\" class=\"dataframe\">\n",
       "  <thead>\n",
       "    <tr style=\"text-align: right;\">\n",
       "      <th></th>\n",
       "      <th>0</th>\n",
       "      <th>1</th>\n",
       "      <th>2</th>\n",
       "      <th>3</th>\n",
       "      <th>4</th>\n",
       "      <th>5</th>\n",
       "      <th>6</th>\n",
       "      <th>7</th>\n",
       "      <th>8</th>\n",
       "      <th>9</th>\n",
       "      <th>...</th>\n",
       "      <th>793</th>\n",
       "      <th>794</th>\n",
       "      <th>795</th>\n",
       "      <th>796</th>\n",
       "      <th>797</th>\n",
       "      <th>798</th>\n",
       "      <th>799</th>\n",
       "      <th>800</th>\n",
       "      <th>801</th>\n",
       "      <th>802</th>\n",
       "    </tr>\n",
       "  </thead>\n",
       "  <tbody>\n",
       "    <tr>\n",
       "      <th>0</th>\n",
       "      <td>12.0</td>\n",
       "      <td>7.0</td>\n",
       "      <td>4.0</td>\n",
       "      <td>5.0</td>\n",
       "      <td>20.0</td>\n",
       "      <td>8.0</td>\n",
       "      <td>5.0</td>\n",
       "      <td>17.0</td>\n",
       "      <td>24.0</td>\n",
       "      <td>7.0</td>\n",
       "      <td>...</td>\n",
       "      <td>13.0</td>\n",
       "      <td>13.0</td>\n",
       "      <td>45.0</td>\n",
       "      <td>4.0</td>\n",
       "      <td>13.0</td>\n",
       "      <td>20.0</td>\n",
       "      <td>18.0</td>\n",
       "      <td>17.0</td>\n",
       "      <td>14.0</td>\n",
       "      <td>11.0</td>\n",
       "    </tr>\n",
       "    <tr>\n",
       "      <th>1</th>\n",
       "      <td>7.0</td>\n",
       "      <td>5.0</td>\n",
       "      <td>9.0</td>\n",
       "      <td>3.0</td>\n",
       "      <td>5.0</td>\n",
       "      <td>1.0</td>\n",
       "      <td>6.0</td>\n",
       "      <td>6.0</td>\n",
       "      <td>3.0</td>\n",
       "      <td>3.0</td>\n",
       "      <td>...</td>\n",
       "      <td>7.0</td>\n",
       "      <td>7.0</td>\n",
       "      <td>10.0</td>\n",
       "      <td>9.0</td>\n",
       "      <td>2.0</td>\n",
       "      <td>6.0</td>\n",
       "      <td>7.0</td>\n",
       "      <td>9.0</td>\n",
       "      <td>6.0</td>\n",
       "      <td>5.0</td>\n",
       "    </tr>\n",
       "    <tr>\n",
       "      <th>2</th>\n",
       "      <td>56.0</td>\n",
       "      <td>25.0</td>\n",
       "      <td>7.0</td>\n",
       "      <td>50.0</td>\n",
       "      <td>90.0</td>\n",
       "      <td>30.0</td>\n",
       "      <td>19.0</td>\n",
       "      <td>16.0</td>\n",
       "      <td>10.0</td>\n",
       "      <td>12.0</td>\n",
       "      <td>...</td>\n",
       "      <td>13.0</td>\n",
       "      <td>13.0</td>\n",
       "      <td>11.0</td>\n",
       "      <td>9.0</td>\n",
       "      <td>9.0</td>\n",
       "      <td>14.0</td>\n",
       "      <td>19.0</td>\n",
       "      <td>36.0</td>\n",
       "      <td>10.0</td>\n",
       "      <td>8.0</td>\n",
       "    </tr>\n",
       "    <tr>\n",
       "      <th>3</th>\n",
       "      <td>8.0</td>\n",
       "      <td>7.0</td>\n",
       "      <td>17.0</td>\n",
       "      <td>11.0</td>\n",
       "      <td>8.0</td>\n",
       "      <td>1.0</td>\n",
       "      <td>1.0</td>\n",
       "      <td>10.0</td>\n",
       "      <td>6.0</td>\n",
       "      <td>8.0</td>\n",
       "      <td>...</td>\n",
       "      <td>9.0</td>\n",
       "      <td>19.0</td>\n",
       "      <td>17.0</td>\n",
       "      <td>19.0</td>\n",
       "      <td>8.0</td>\n",
       "      <td>4.0</td>\n",
       "      <td>10.0</td>\n",
       "      <td>10.0</td>\n",
       "      <td>10.0</td>\n",
       "      <td>11.0</td>\n",
       "    </tr>\n",
       "    <tr>\n",
       "      <th>4</th>\n",
       "      <td>7.0</td>\n",
       "      <td>10.0</td>\n",
       "      <td>21.0</td>\n",
       "      <td>2.0</td>\n",
       "      <td>9.0</td>\n",
       "      <td>13.0</td>\n",
       "      <td>7.0</td>\n",
       "      <td>6.0</td>\n",
       "      <td>7.0</td>\n",
       "      <td>23.0</td>\n",
       "      <td>...</td>\n",
       "      <td>23.0</td>\n",
       "      <td>37.0</td>\n",
       "      <td>38.0</td>\n",
       "      <td>21.0</td>\n",
       "      <td>35.0</td>\n",
       "      <td>29.0</td>\n",
       "      <td>35.0</td>\n",
       "      <td>25.0</td>\n",
       "      <td>24.0</td>\n",
       "      <td>22.0</td>\n",
       "    </tr>\n",
       "    <tr>\n",
       "      <th>5</th>\n",
       "      <td>37.0</td>\n",
       "      <td>21.0</td>\n",
       "      <td>24.0</td>\n",
       "      <td>27.0</td>\n",
       "      <td>35.0</td>\n",
       "      <td>9.0</td>\n",
       "      <td>14.0</td>\n",
       "      <td>18.0</td>\n",
       "      <td>22.0</td>\n",
       "      <td>20.0</td>\n",
       "      <td>...</td>\n",
       "      <td>26.0</td>\n",
       "      <td>23.0</td>\n",
       "      <td>20.0</td>\n",
       "      <td>7.0</td>\n",
       "      <td>19.0</td>\n",
       "      <td>18.0</td>\n",
       "      <td>26.0</td>\n",
       "      <td>27.0</td>\n",
       "      <td>47.0</td>\n",
       "      <td>12.0</td>\n",
       "    </tr>\n",
       "    <tr>\n",
       "      <th>6</th>\n",
       "      <td>8.0</td>\n",
       "      <td>6.0</td>\n",
       "      <td>15.0</td>\n",
       "      <td>6.0</td>\n",
       "      <td>7.0</td>\n",
       "      <td>4.0</td>\n",
       "      <td>10.0</td>\n",
       "      <td>9.0</td>\n",
       "      <td>52.0</td>\n",
       "      <td>52.0</td>\n",
       "      <td>...</td>\n",
       "      <td>9.0</td>\n",
       "      <td>18.0</td>\n",
       "      <td>19.0</td>\n",
       "      <td>24.0</td>\n",
       "      <td>36.0</td>\n",
       "      <td>16.0</td>\n",
       "      <td>25.0</td>\n",
       "      <td>17.0</td>\n",
       "      <td>31.0</td>\n",
       "      <td>8.0</td>\n",
       "    </tr>\n",
       "    <tr>\n",
       "      <th>7</th>\n",
       "      <td>12.0</td>\n",
       "      <td>70.0</td>\n",
       "      <td>30.0</td>\n",
       "      <td>13.0</td>\n",
       "      <td>9.0</td>\n",
       "      <td>44.0</td>\n",
       "      <td>61.0</td>\n",
       "      <td>6.0</td>\n",
       "      <td>27.0</td>\n",
       "      <td>22.0</td>\n",
       "      <td>...</td>\n",
       "      <td>20.0</td>\n",
       "      <td>23.0</td>\n",
       "      <td>18.0</td>\n",
       "      <td>12.0</td>\n",
       "      <td>17.0</td>\n",
       "      <td>22.0</td>\n",
       "      <td>26.0</td>\n",
       "      <td>17.0</td>\n",
       "      <td>18.0</td>\n",
       "      <td>16.0</td>\n",
       "    </tr>\n",
       "    <tr>\n",
       "      <th>8</th>\n",
       "      <td>9.0</td>\n",
       "      <td>12.0</td>\n",
       "      <td>11.0</td>\n",
       "      <td>16.0</td>\n",
       "      <td>14.0</td>\n",
       "      <td>1.0</td>\n",
       "      <td>18.0</td>\n",
       "      <td>7.0</td>\n",
       "      <td>9.0</td>\n",
       "      <td>10.0</td>\n",
       "      <td>...</td>\n",
       "      <td>7.0</td>\n",
       "      <td>9.0</td>\n",
       "      <td>10.0</td>\n",
       "      <td>4.0</td>\n",
       "      <td>14.0</td>\n",
       "      <td>14.0</td>\n",
       "      <td>7.0</td>\n",
       "      <td>10.0</td>\n",
       "      <td>8.0</td>\n",
       "      <td>8.0</td>\n",
       "    </tr>\n",
       "    <tr>\n",
       "      <th>9</th>\n",
       "      <td>17.0</td>\n",
       "      <td>3.0</td>\n",
       "      <td>21.0</td>\n",
       "      <td>16.0</td>\n",
       "      <td>9.0</td>\n",
       "      <td>4.0</td>\n",
       "      <td>3.0</td>\n",
       "      <td>6.0</td>\n",
       "      <td>4.0</td>\n",
       "      <td>9.0</td>\n",
       "      <td>...</td>\n",
       "      <td>14.0</td>\n",
       "      <td>9.0</td>\n",
       "      <td>11.0</td>\n",
       "      <td>14.0</td>\n",
       "      <td>13.0</td>\n",
       "      <td>16.0</td>\n",
       "      <td>10.0</td>\n",
       "      <td>9.0</td>\n",
       "      <td>13.0</td>\n",
       "      <td>6.0</td>\n",
       "    </tr>\n",
       "  </tbody>\n",
       "</table>\n",
       "<p>10 rows × 803 columns</p>\n",
       "</div>"
      ],
      "text/plain": [
       "    0     1     2     3     4     5     6     7     8     9    ...   793  \\\n",
       "0  12.0   7.0   4.0   5.0  20.0   8.0   5.0  17.0  24.0   7.0  ...  13.0   \n",
       "1   7.0   5.0   9.0   3.0   5.0   1.0   6.0   6.0   3.0   3.0  ...   7.0   \n",
       "2  56.0  25.0   7.0  50.0  90.0  30.0  19.0  16.0  10.0  12.0  ...  13.0   \n",
       "3   8.0   7.0  17.0  11.0   8.0   1.0   1.0  10.0   6.0   8.0  ...   9.0   \n",
       "4   7.0  10.0  21.0   2.0   9.0  13.0   7.0   6.0   7.0  23.0  ...  23.0   \n",
       "5  37.0  21.0  24.0  27.0  35.0   9.0  14.0  18.0  22.0  20.0  ...  26.0   \n",
       "6   8.0   6.0  15.0   6.0   7.0   4.0  10.0   9.0  52.0  52.0  ...   9.0   \n",
       "7  12.0  70.0  30.0  13.0   9.0  44.0  61.0   6.0  27.0  22.0  ...  20.0   \n",
       "8   9.0  12.0  11.0  16.0  14.0   1.0  18.0   7.0   9.0  10.0  ...   7.0   \n",
       "9  17.0   3.0  21.0  16.0   9.0   4.0   3.0   6.0   4.0   9.0  ...  14.0   \n",
       "\n",
       "    794   795   796   797   798   799   800   801   802  \n",
       "0  13.0  45.0   4.0  13.0  20.0  18.0  17.0  14.0  11.0  \n",
       "1   7.0  10.0   9.0   2.0   6.0   7.0   9.0   6.0   5.0  \n",
       "2  13.0  11.0   9.0   9.0  14.0  19.0  36.0  10.0   8.0  \n",
       "3  19.0  17.0  19.0   8.0   4.0  10.0  10.0  10.0  11.0  \n",
       "4  37.0  38.0  21.0  35.0  29.0  35.0  25.0  24.0  22.0  \n",
       "5  23.0  20.0   7.0  19.0  18.0  26.0  27.0  47.0  12.0  \n",
       "6  18.0  19.0  24.0  36.0  16.0  25.0  17.0  31.0   8.0  \n",
       "7  23.0  18.0  12.0  17.0  22.0  26.0  17.0  18.0  16.0  \n",
       "8   9.0  10.0   4.0  14.0  14.0   7.0  10.0   8.0   8.0  \n",
       "9   9.0  11.0  14.0  13.0  16.0  10.0   9.0  13.0   6.0  \n",
       "\n",
       "[10 rows x 803 columns]"
      ]
     },
     "execution_count": 14,
     "metadata": {},
     "output_type": "execute_result"
    }
   ],
   "source": [
    "new_df.columns = [ i for i,x in enumerate(new_df.columns)]\n",
    "    \n",
    "new_df.head(10)"
   ]
  },
  {
   "cell_type": "code",
   "execution_count": 15,
   "id": "c5c76992",
   "metadata": {},
   "outputs": [
    {
     "data": {
      "text/plain": [
       "(10000, 803)"
      ]
     },
     "execution_count": 15,
     "metadata": {},
     "output_type": "execute_result"
    }
   ],
   "source": [
    "new_df = new_df.dropna()\n",
    "new_df.shape"
   ]
  },
  {
   "cell_type": "code",
   "execution_count": 16,
   "id": "324eb226",
   "metadata": {},
   "outputs": [
    {
     "name": "stdout",
     "output_type": "stream",
     "text": [
      "<class 'pandas.core.frame.DataFrame'>\n",
      "Int64Index: 10000 entries, 0 to 9999\n",
      "Columns: 803 entries, 0 to 802\n",
      "dtypes: float64(803)\n",
      "memory usage: 61.3 MB\n"
     ]
    }
   ],
   "source": [
    "new_df.info()"
   ]
  },
  {
   "cell_type": "markdown",
   "id": "f19918d8",
   "metadata": {},
   "source": [
    "## 3. Data Preparation and Visualization"
   ]
  },
  {
   "cell_type": "markdown",
   "id": "da713f62",
   "metadata": {},
   "source": [
    "##### Let us take maximum time steps as 160 ( 160 days ). <br>\n",
    "\n",
    "RNNs require data to be fed in 3-dimensions - [ batch-size, Time-Steps, Number of elements in a single timestep ]\n",
    "\n",
    "So we first convert all the data in to 3-D array.\n",
    "\n"
   ]
  },
  {
   "cell_type": "code",
   "execution_count": 17,
   "id": "97f02ac4",
   "metadata": {},
   "outputs": [],
   "source": [
    "#max_steps = 160\n",
    "\n",
    "#master_series = new_df.values[:, 0:max_steps]\n",
    "\n",
    "#master_series = master_series[~np.all(master_series == 0, axis=1)]\n",
    "\n",
    "#master_series = master_series[..., np.newaxis].astype(np.float32)\n",
    "\n",
    "#master_series.shape"
   ]
  },
  {
   "cell_type": "code",
   "execution_count": 18,
   "id": "81cac077",
   "metadata": {},
   "outputs": [
    {
     "data": {
      "text/plain": [
       "(10000, 160, 1)"
      ]
     },
     "execution_count": 18,
     "metadata": {},
     "output_type": "execute_result"
    }
   ],
   "source": [
    "\n",
    "max_steps = 160\n",
    "\n",
    "master_series = []\n",
    "\n",
    "for i in range(len(new_df)):\n",
    "    \n",
    "    ### Skip the time series if it has all values as 0\n",
    "    if (max(new_df.iloc[i, 0:max_steps]) == 0 ):\n",
    "        continue\n",
    "    \n",
    "      \n",
    "    myseries = np.array(new_df.iloc[i][0:max_steps])\n",
    "    master_series.append(myseries)\n",
    "    \n",
    "master_series = np.array(master_series) \n",
    "master_series = master_series[..., np.newaxis].astype(np.float32)\n",
    "\n",
    "master_series.shape"
   ]
  },
  {
   "cell_type": "markdown",
   "id": "81d3dad0",
   "metadata": {},
   "source": [
    "### 3.1 Checking and Removing Outliers"
   ]
  },
  {
   "cell_type": "code",
   "execution_count": 19,
   "id": "6d30d004",
   "metadata": {},
   "outputs": [
    {
     "name": "stdout",
     "output_type": "stream",
     "text": [
      "[    2.     5.    39.   209.   751.  3673.  6952. 10699.]\n",
      "1382.8212\n",
      "7493416.0\n"
     ]
    }
   ],
   "source": [
    "master_series_values = master_series.reshape(-1,1)\n",
    "\n",
    "print(np.percentile(master_series_values, [1, 5, 25, 50, 75, 95, 98, 99]))\n",
    "print(master_series_values.mean())\n",
    "print(master_series_values.max())\n"
   ]
  },
  {
   "cell_type": "markdown",
   "id": "655331fb",
   "metadata": {},
   "source": [
    "We see that there are extremely high values in our time series like the max value seen above. <br>\n",
    "And the value at 99th percentile is just 9883. \n",
    "So there are clearly some outliers and they are somewhere beyond 99th percentile. <br>\n",
    "Let us take only till 99th percentile for our analysis."
   ]
  },
  {
   "cell_type": "code",
   "execution_count": 20,
   "id": "93441ff2",
   "metadata": {},
   "outputs": [
    {
     "name": "stdout",
     "output_type": "stream",
     "text": [
      "(8643, 160, 1)\n",
      "[   0.   29.  151.  538. 3065. 4014.]\n",
      "10696.0\n"
     ]
    }
   ],
   "source": [
    "perc_99 = np.percentile(master_series_values,99)\n",
    "\n",
    "### Master series has 117273 time series samples. \n",
    "### Check each individual time series sample and include it only if it has values less than 99th percentile of whole data.\n",
    "\n",
    "master_wo_outliers = [master_series[i] for i in range(0, master_series.shape[0]) \\\n",
    "                      if (max(master_series[i,:]) <= perc_99)]\n",
    "\n",
    "### Convert list to array\n",
    "master_wo_outliers = np.array(master_wo_outliers)\n",
    "\n",
    "print(master_wo_outliers.shape)\n",
    "\n",
    "### Check outliers again\n",
    "print(np.percentile(master_wo_outliers, [0, 25, 50, 75, 98, 99]))\n",
    "print(master_wo_outliers.max())"
   ]
  },
  {
   "cell_type": "code",
   "execution_count": 21,
   "id": "97c206a4",
   "metadata": {},
   "outputs": [
    {
     "name": "stdout",
     "output_type": "stream",
     "text": [
      "[[12.]\n",
      " [ 7.]\n",
      " [ 4.]\n",
      " [ 5.]\n",
      " [20.]]\n",
      "\n",
      "[[12.]\n",
      " [ 7.]\n",
      " [ 4.]\n",
      " [ 5.]\n",
      " [20.]]\n",
      "\n",
      "[[13.]\n",
      " [ 4.]\n",
      " [ 4.]\n",
      " [ 8.]\n",
      " [ 5.]]\n",
      "\n",
      "[[13.]\n",
      " [ 4.]\n",
      " [ 4.]\n",
      " [ 8.]\n",
      " [ 5.]]\n"
     ]
    }
   ],
   "source": [
    "### Check the sanity of the time series dimensions after removal of outliers\n",
    "print(master_wo_outliers[0, :5])\n",
    "print()\n",
    "print(master_series[0, :5])\n",
    "print()\n",
    "print(master_wo_outliers[10, :5])\n",
    "print()\n",
    "print(master_series[10, :5])"
   ]
  },
  {
   "cell_type": "markdown",
   "id": "f36380aa",
   "metadata": {},
   "source": [
    "Now we have 102220 time series samples after removal of outliers."
   ]
  },
  {
   "cell_type": "code",
   "execution_count": 22,
   "id": "68a8b198",
   "metadata": {},
   "outputs": [],
   "source": [
    "master_series_orig = master_series.copy()\n",
    "master_wo_outliers_copy = master_wo_outliers.copy()"
   ]
  },
  {
   "cell_type": "code",
   "execution_count": 23,
   "id": "911cdf8b",
   "metadata": {},
   "outputs": [],
   "source": [
    "master_series = master_wo_outliers"
   ]
  },
  {
   "cell_type": "code",
   "execution_count": 24,
   "id": "c8842a90",
   "metadata": {},
   "outputs": [
    {
     "data": {
      "text/plain": [
       "array([[[12.],\n",
       "        [ 7.],\n",
       "        [ 4.],\n",
       "        [ 5.],\n",
       "        [20.]],\n",
       "\n",
       "       [[ 7.],\n",
       "        [ 5.],\n",
       "        [ 9.],\n",
       "        [ 3.],\n",
       "        [ 5.]],\n",
       "\n",
       "       [[56.],\n",
       "        [25.],\n",
       "        [ 7.],\n",
       "        [50.],\n",
       "        [90.]]], dtype=float32)"
      ]
     },
     "execution_count": 24,
     "metadata": {},
     "output_type": "execute_result"
    }
   ],
   "source": [
    "master_series[0:3, 0:5]"
   ]
  },
  {
   "cell_type": "code",
   "execution_count": 25,
   "id": "b8227aa0",
   "metadata": {},
   "outputs": [
    {
     "data": {
      "text/plain": [
       "array([[[142.],\n",
       "        [112.],\n",
       "        [ 84.],\n",
       "        [ 68.],\n",
       "        [ 69.]],\n",
       "\n",
       "       [[  6.],\n",
       "        [  8.],\n",
       "        [  5.],\n",
       "        [  6.],\n",
       "        [  7.]],\n",
       "\n",
       "       [[120.],\n",
       "        [147.],\n",
       "        [143.],\n",
       "        [100.],\n",
       "        [ 91.]]], dtype=float32)"
      ]
     },
     "execution_count": 25,
     "metadata": {},
     "output_type": "execute_result"
    }
   ],
   "source": [
    "### Shuffle the data set\n",
    "np.random.seed(42)\n",
    "np.random.shuffle(master_series)\n",
    "\n",
    "master_series[0:3, 0:5]"
   ]
  },
  {
   "cell_type": "markdown",
   "id": "489f422d",
   "metadata": {},
   "source": [
    "##### Plot a sample time series"
   ]
  },
  {
   "cell_type": "code",
   "execution_count": 26,
   "id": "4f84aa9f",
   "metadata": {},
   "outputs": [
    {
     "data": {
      "text/plain": [
       "<matplotlib.legend.Legend at 0x7fc53af52d30>"
      ]
     },
     "execution_count": 26,
     "metadata": {},
     "output_type": "execute_result"
    },
    {
     "data": {
      "image/png": "[encoded data removed]",
      "text/plain": [
       "<Figure size 1152x576 with 1 Axes>"
      ]
     },
     "metadata": {
      "needs_background": "light"
     },
     "output_type": "display_data"
    }
   ],
   "source": [
    "plt.figure(figsize=(16,8))\n",
    "sample = 200\n",
    "\n",
    "plt.plot(master_series[sample,:], label = 'Views')\n",
    "plt.title('Time Series')\n",
    "plt.xlabel(\"Time\")\n",
    "plt.ylabel(\"Views\")\n",
    "plt.legend(loc = 'best')"
   ]
  },
  {
   "cell_type": "markdown",
   "id": "66159ff3",
   "metadata": {},
   "source": [
    "We see a high range of values in the time series above. So, there is a need to do scaling on the data set."
   ]
  },
  {
   "cell_type": "markdown",
   "id": "e94f4027",
   "metadata": {},
   "source": [
    "### 3.2 Scaling of Time Series Data\n",
    "\n",
    "##### We will first log transform the entire data."
   ]
  },
  {
   "cell_type": "code",
   "execution_count": 27,
   "id": "3ff07ea1",
   "metadata": {},
   "outputs": [
    {
     "name": "stdout",
     "output_type": "stream",
     "text": [
      "[[4.962845 ]\n",
      " [4.727388 ]\n",
      " [4.4426513]\n",
      " [4.2341065]\n",
      " [4.248495 ]\n",
      " [4.6821313]\n",
      " [4.394449 ]\n",
      " [4.356709 ]\n",
      " [4.564348 ]\n",
      " [4.5108595]]\n"
     ]
    },
    {
     "data": {
      "text/plain": [
       "(8643, 160, 1)"
      ]
     },
     "execution_count": 27,
     "metadata": {},
     "output_type": "execute_result"
    }
   ],
   "source": [
    "\n",
    "log_master_series = []\n",
    "\n",
    "\n",
    "for i in range(master_series.shape[0]):\n",
    "    \n",
    "    ### There are a lot of 0s in the data. We add 1 to each data point so that log transformation will be proper with even 0s.\n",
    "    temp_series = np.array(np.log(master_series[i][0:] + 1))\n",
    "    log_master_series.append(temp_series)\n",
    "    \n",
    "log_master_series = np.array(log_master_series) \n",
    "\n",
    "print(log_master_series[0,0:10])\n",
    "\n",
    "log_master_series.shape"
   ]
  },
  {
   "cell_type": "markdown",
   "id": "49bde5c0",
   "metadata": {},
   "source": [
    "Check the sanity of log transformation done on a sample data"
   ]
  },
  {
   "cell_type": "code",
   "execution_count": 28,
   "id": "0c795f78",
   "metadata": {},
   "outputs": [
    {
     "data": {
      "text/plain": [
       "(array([4.962845 , 4.727388 , 4.4426513, 4.2341065, 4.248495 , 4.6821313,\n",
       "        4.394449 , 4.356709 , 4.564348 , 4.5108595, 4.0775375, 4.158883 ,\n",
       "        4.0943446, 4.465908 , 4.3307333, 4.6051702, 4.5849676, 3.871201 ,\n",
       "        3.637586 , 3.8066626, 4.248495 , 4.26268  , 3.912023 , 3.7841897,\n",
       "        3.9512436, 4.1108737, 4.543295 , 5.57973  , 6.104793 , 5.0106354,\n",
       "        4.406719 , 4.6728287, 5.241747 , 4.304065 , 4.4886365, 4.5108595,\n",
       "        4.4308167, 4.2341065, 4.2195077, 4.317488 , 4.7791233, 4.8675346,\n",
       "        4.7004805, 4.912655 , 4.5325994, 4.0943446, 4.0430512, 4.1743875,\n",
       "        4.3438053, 4.3820267, 4.304065 , 4.564348 , 4.060443 , 4.2341065,\n",
       "        4.7791233, 4.6821313, 4.65396  , 4.6051702, 4.5217886, 4.1108737,\n",
       "        3.988984 , 4.8202815, 4.7361984, 4.836282 , 4.553877 , 4.2341065,\n",
       "        3.9702919, 3.7376697, 4.59512  , 4.7957907, 4.4998097, 5.613128 ,\n",
       "        6.4361506, 5.398163 , 5.1059456, 5.3612924, 5.3033047, 4.762174 ,\n",
       "        4.94876  , 4.6821313, 4.6728287, 4.4308167, 4.624973 , 4.828314 ,\n",
       "        4.644391 , 4.7791233, 4.564348 , 3.9512436, 4.0073333, 5.192957 ,\n",
       "        5.351858 , 5.209486 , 5.056246 , 4.4308167, 4.394449 , 4.4886365,\n",
       "        5.3375382, 5.236442 , 5.0998664, 4.9767337, 4.836282 , 4.394449 ,\n",
       "        5.0369525, 4.454347 , 4.7791233, 5.0689044, 4.7004805, 5.1416636,\n",
       "        4.8598123, 4.454347 , 4.7957907, 4.9698133, 4.9972124, 5.2522736,\n",
       "        5.0369525, 4.6821313, 5.117994 , 5.9558372, 5.811141 , 5.8998976,\n",
       "        5.771441 , 5.6347895, 5.2983174, 5.3375382, 5.42495  , 5.398163 ,\n",
       "        5.476464 , 5.192957 , 5.4553213, 4.744932 , 4.8121843, 5.4424176,\n",
       "        5.5412636, 5.365976 , 5.420535 , 5.3844953, 4.744932 , 4.5108595,\n",
       "        6.504288 , 5.9814143, 5.655992 , 5.7203116, 5.590987 , 5.1532917,\n",
       "        5.5451775, 6.3885612, 6.0234475, 5.6869755, 5.572154 , 5.0998664,\n",
       "        5.556828 , 5.241747 , 5.056246 , 4.9904327, 4.7184987, 4.94876  ,\n",
       "        4.5217886, 4.8751974, 4.477337 , 4.5108595], dtype=float32),\n",
       " 4.5108595)"
      ]
     },
     "execution_count": 28,
     "metadata": {},
     "output_type": "execute_result"
    }
   ],
   "source": [
    "log_master_series[0, :max_steps, 0], log_master_series[0, max_steps - 1 , 0]"
   ]
  },
  {
   "cell_type": "markdown",
   "id": "af8d2393",
   "metadata": {},
   "source": [
    "#### We will further normalize the data set to bring the values between 0 and 1 ( MinMax Scaling )."
   ]
  },
  {
   "cell_type": "markdown",
   "id": "ca656ad7",
   "metadata": {},
   "source": [
    "###### Before that we will split the data in to train, test and validation sets.\n",
    "\n",
    "First we will train on 150 time steps and forecast the value of 151th time step.\n",
    "\n",
    "Train Set = 70K time series <br>\n",
    "Valid Set = 20K time series <br>\n",
    "Test Set = 10K time series  <br>"
   ]
  },
  {
   "cell_type": "code",
   "execution_count": 29,
   "id": "4b0205a1",
   "metadata": {},
   "outputs": [],
   "source": [
    "np.random.seed(42)\n",
    "\n",
    "n_steps = 150\n",
    "\n",
    "predicted_day = n_steps + 1\n",
    "\n",
    "X_train, y_train = log_master_series[:70000, :n_steps], log_master_series[:70000, n_steps]\n",
    "X_valid, y_valid = log_master_series[70000:90000, :n_steps], log_master_series[70000:90000, n_steps]\n",
    "X_test, y_test = log_master_series[90000:100000, :n_steps], log_master_series[90000:100000, n_steps]"
   ]
  },
  {
   "cell_type": "code",
   "execution_count": 30,
   "id": "29396d09",
   "metadata": {},
   "outputs": [
    {
     "data": {
      "text/plain": [
       "((8643, 150, 1), (8643, 1))"
      ]
     },
     "execution_count": 30,
     "metadata": {},
     "output_type": "execute_result"
    }
   ],
   "source": [
    "X_train.shape, y_train.shape"
   ]
  },
  {
   "cell_type": "markdown",
   "id": "4dc224e9",
   "metadata": {},
   "source": [
    "Let us understand the dimensions of X_train and y_train\n",
    "\n",
    "X_train: <br>\n",
    "    \n",
    "70000 - Number of individual time series ( Total batch size ). <br>\n",
    "150 - Number of successive days ( time steps ) used for training, in each of the 70K train data. <br>\n",
    "1   - Number of values ( Here it is univariate, only one variable i.e. view count on that particular day). <br>\n",
    "\n",
    "y_train: <br>\n",
    "    \n",
    "70000 - Number of individual time series ( Total batch size ) <br>\n",
    "1 - Number of target values for each time series ( We forecast the value for 151th day )\n"
   ]
  },
  {
   "cell_type": "code",
   "execution_count": 31,
   "id": "07f42593",
   "metadata": {},
   "outputs": [
    {
     "data": {
      "text/plain": [
       "((0, 150, 1), (0, 1))"
      ]
     },
     "execution_count": 31,
     "metadata": {},
     "output_type": "execute_result"
    }
   ],
   "source": [
    "X_valid.shape, y_valid.shape"
   ]
  },
  {
   "cell_type": "markdown",
   "id": "520bcb49",
   "metadata": {},
   "source": [
    "Before we proceed, let us check one sample of y_valid if it contains the right value from the time series.\n",
    "\n",
    "70000 was the start of the validation data split from the log_master_series. <br>\n",
    "So 151th data of 70003th sample from log_master_series should be same as y_valid[3] "
   ]
  },
  {
   "cell_type": "code",
   "execution_count": 32,
   "id": "07f349b4",
   "metadata": {},
   "outputs": [
    {
     "name": "stdout",
     "output_type": "stream",
     "text": [
      "151\n"
     ]
    },
    {
     "ename": "IndexError",
     "evalue": "index 70003 is out of bounds for axis 0 with size 8643",
     "output_type": "error",
     "traceback": [
      "\u001b[0;31m---------------------------------------------------------------------------\u001b[0m",
      "\u001b[0;31mIndexError\u001b[0m                                Traceback (most recent call last)",
      "\u001b[0;32m<ipython-input-32-091fcc86f22e>\u001b[0m in \u001b[0;36m<module>\u001b[0;34m\u001b[0m\n\u001b[1;32m      1\u001b[0m \u001b[0mprint\u001b[0m\u001b[0;34m(\u001b[0m\u001b[0mpredicted_day\u001b[0m\u001b[0;34m)\u001b[0m\u001b[0;34m\u001b[0m\u001b[0;34m\u001b[0m\u001b[0m\n\u001b[1;32m      2\u001b[0m \u001b[0;34m\u001b[0m\u001b[0m\n\u001b[0;32m----> 3\u001b[0;31m \u001b[0mprint\u001b[0m\u001b[0;34m(\u001b[0m\u001b[0mlog_master_series\u001b[0m\u001b[0;34m[\u001b[0m\u001b[0;36m70003\u001b[0m\u001b[0;34m,\u001b[0m \u001b[0mpredicted_day\u001b[0m\u001b[0;34m-\u001b[0m\u001b[0;36m1\u001b[0m\u001b[0;34m,\u001b[0m \u001b[0;36m0\u001b[0m\u001b[0;34m]\u001b[0m\u001b[0;34m)\u001b[0m\u001b[0;34m\u001b[0m\u001b[0;34m\u001b[0m\u001b[0m\n\u001b[0m\u001b[1;32m      4\u001b[0m \u001b[0;34m\u001b[0m\u001b[0m\n\u001b[1;32m      5\u001b[0m \u001b[0mprint\u001b[0m\u001b[0;34m(\u001b[0m\u001b[0my_valid\u001b[0m\u001b[0;34m[\u001b[0m\u001b[0;36m3\u001b[0m\u001b[0;34m,\u001b[0m\u001b[0;36m0\u001b[0m\u001b[0;34m]\u001b[0m\u001b[0;34m)\u001b[0m\u001b[0;34m\u001b[0m\u001b[0;34m\u001b[0m\u001b[0m\n",
      "\u001b[0;31mIndexError\u001b[0m: index 70003 is out of bounds for axis 0 with size 8643"
     ]
    }
   ],
   "source": [
    "print(predicted_day)\n",
    "\n",
    "print(log_master_series[70003, predicted_day-1, 0])\n",
    "\n",
    "print(y_valid[3,0])"
   ]
  },
  {
   "cell_type": "markdown",
   "id": "9ec56234",
   "metadata": {},
   "source": [
    "#### MINMAX NORMALIZATION "
   ]
  },
  {
   "cell_type": "code",
   "execution_count": 33,
   "id": "246c1944",
   "metadata": {},
   "outputs": [
    {
     "name": "stdout",
     "output_type": "stream",
     "text": [
      "(1296450, 1)\n",
      "[0.]\n",
      "[9.277719]\n"
     ]
    }
   ],
   "source": [
    "\n",
    "# Get X_train values reshaped in to 2D for scaler\n",
    "X_train_values = X_train.reshape(-1, 1)\n",
    "\n",
    "print(X_train_values.shape)\n",
    "\n",
    "print(min(X_train_values))\n",
    "print(max(X_train_values))"
   ]
  },
  {
   "cell_type": "code",
   "execution_count": 34,
   "id": "7933e2fb",
   "metadata": {},
   "outputs": [
    {
     "data": {
      "text/plain": [
       "<AxesSubplot:ylabel='Density'>"
      ]
     },
     "execution_count": 34,
     "metadata": {},
     "output_type": "execute_result"
    },
    {
     "data": {
      "image/png": "[encoded data removed]",
      "text/plain": [
       "<Figure size 432x288 with 1 Axes>"
      ]
     },
     "metadata": {
      "needs_background": "light"
     },
     "output_type": "display_data"
    }
   ],
   "source": [
    "import matplotlib.pyplot as plt\n",
    "import seaborn as sns\n",
    "\n",
    "sns.distplot(X_train_values)"
   ]
  },
  {
   "cell_type": "markdown",
   "id": "b1375fc9",
   "metadata": {},
   "source": [
    "The minimum value of log transformed train data set is 0 and maximum is around 9. <br>\n",
    "We will fit a minmax scaler over this log transformed train data set to further scaled down all data points in the range of 0-1."
   ]
  },
  {
   "cell_type": "code",
   "execution_count": 35,
   "id": "28dc4012",
   "metadata": {},
   "outputs": [
    {
     "ename": "ValueError",
     "evalue": "Found array with 0 sample(s) (shape=(0, 1)) while a minimum of 1 is required.",
     "output_type": "error",
     "traceback": [
      "\u001b[0;31m---------------------------------------------------------------------------\u001b[0m",
      "\u001b[0;31mValueError\u001b[0m                                Traceback (most recent call last)",
      "\u001b[0;32m<ipython-input-35-4151cb8f6c9e>\u001b[0m in \u001b[0;36m<module>\u001b[0;34m\u001b[0m\n\u001b[1;32m     16\u001b[0m \u001b[0;31m### Transform X_Valid\u001b[0m\u001b[0;34m\u001b[0m\u001b[0;34m\u001b[0m\u001b[0;34m\u001b[0m\u001b[0m\n\u001b[1;32m     17\u001b[0m \u001b[0mX_valid_values\u001b[0m \u001b[0;34m=\u001b[0m \u001b[0mX_valid\u001b[0m\u001b[0;34m.\u001b[0m\u001b[0mreshape\u001b[0m\u001b[0;34m(\u001b[0m\u001b[0;34m-\u001b[0m\u001b[0;36m1\u001b[0m\u001b[0;34m,\u001b[0m \u001b[0;36m1\u001b[0m\u001b[0;34m)\u001b[0m\u001b[0;34m\u001b[0m\u001b[0;34m\u001b[0m\u001b[0m\n\u001b[0;32m---> 18\u001b[0;31m \u001b[0mX_valid_normalized\u001b[0m \u001b[0;34m=\u001b[0m \u001b[0mscaler\u001b[0m\u001b[0;34m.\u001b[0m\u001b[0mtransform\u001b[0m\u001b[0;34m(\u001b[0m\u001b[0mX_valid_values\u001b[0m\u001b[0;34m)\u001b[0m\u001b[0;34m\u001b[0m\u001b[0;34m\u001b[0m\u001b[0m\n\u001b[0m\u001b[1;32m     19\u001b[0m \u001b[0;34m\u001b[0m\u001b[0m\n\u001b[1;32m     20\u001b[0m \u001b[0;31m### Transform y_valid\u001b[0m\u001b[0;34m\u001b[0m\u001b[0;34m\u001b[0m\u001b[0;34m\u001b[0m\u001b[0m\n",
      "\u001b[0;32m/usr/lib64/python3.7/site-packages/sklearn/preprocessing/_data.py\u001b[0m in \u001b[0;36mtransform\u001b[0;34m(self, X)\u001b[0m\n\u001b[1;32m    433\u001b[0m \u001b[0;34m\u001b[0m\u001b[0m\n\u001b[1;32m    434\u001b[0m         X = self._validate_data(X, copy=self.copy, dtype=FLOAT_DTYPES,\n\u001b[0;32m--> 435\u001b[0;31m                                 force_all_finite=\"allow-nan\", reset=False)\n\u001b[0m\u001b[1;32m    436\u001b[0m \u001b[0;34m\u001b[0m\u001b[0m\n\u001b[1;32m    437\u001b[0m         \u001b[0mX\u001b[0m \u001b[0;34m*=\u001b[0m \u001b[0mself\u001b[0m\u001b[0;34m.\u001b[0m\u001b[0mscale_\u001b[0m\u001b[0;34m\u001b[0m\u001b[0;34m\u001b[0m\u001b[0m\n",
      "\u001b[0;32m/usr/lib64/python3.7/site-packages/sklearn/base.py\u001b[0m in \u001b[0;36m_validate_data\u001b[0;34m(self, X, y, reset, validate_separately, **check_params)\u001b[0m\n\u001b[1;32m    419\u001b[0m             \u001b[0mout\u001b[0m \u001b[0;34m=\u001b[0m \u001b[0mX\u001b[0m\u001b[0;34m\u001b[0m\u001b[0;34m\u001b[0m\u001b[0m\n\u001b[1;32m    420\u001b[0m         \u001b[0;32melif\u001b[0m \u001b[0misinstance\u001b[0m\u001b[0;34m(\u001b[0m\u001b[0my\u001b[0m\u001b[0;34m,\u001b[0m \u001b[0mstr\u001b[0m\u001b[0;34m)\u001b[0m \u001b[0;32mand\u001b[0m \u001b[0my\u001b[0m \u001b[0;34m==\u001b[0m \u001b[0;34m'no_validation'\u001b[0m\u001b[0;34m:\u001b[0m\u001b[0;34m\u001b[0m\u001b[0;34m\u001b[0m\u001b[0m\n\u001b[0;32m--> 421\u001b[0;31m             \u001b[0mX\u001b[0m \u001b[0;34m=\u001b[0m \u001b[0mcheck_array\u001b[0m\u001b[0;34m(\u001b[0m\u001b[0mX\u001b[0m\u001b[0;34m,\u001b[0m \u001b[0;34m**\u001b[0m\u001b[0mcheck_params\u001b[0m\u001b[0;34m)\u001b[0m\u001b[0;34m\u001b[0m\u001b[0;34m\u001b[0m\u001b[0m\n\u001b[0m\u001b[1;32m    422\u001b[0m             \u001b[0mout\u001b[0m \u001b[0;34m=\u001b[0m \u001b[0mX\u001b[0m\u001b[0;34m\u001b[0m\u001b[0;34m\u001b[0m\u001b[0m\n\u001b[1;32m    423\u001b[0m         \u001b[0;32melse\u001b[0m\u001b[0;34m:\u001b[0m\u001b[0;34m\u001b[0m\u001b[0;34m\u001b[0m\u001b[0m\n",
      "\u001b[0;32m/usr/lib64/python3.7/site-packages/sklearn/utils/validation.py\u001b[0m in \u001b[0;36minner_f\u001b[0;34m(*args, **kwargs)\u001b[0m\n\u001b[1;32m     61\u001b[0m             \u001b[0mextra_args\u001b[0m \u001b[0;34m=\u001b[0m \u001b[0mlen\u001b[0m\u001b[0;34m(\u001b[0m\u001b[0margs\u001b[0m\u001b[0;34m)\u001b[0m \u001b[0;34m-\u001b[0m \u001b[0mlen\u001b[0m\u001b[0;34m(\u001b[0m\u001b[0mall_args\u001b[0m\u001b[0;34m)\u001b[0m\u001b[0;34m\u001b[0m\u001b[0;34m\u001b[0m\u001b[0m\n\u001b[1;32m     62\u001b[0m             \u001b[0;32mif\u001b[0m \u001b[0mextra_args\u001b[0m \u001b[0;34m<=\u001b[0m \u001b[0;36m0\u001b[0m\u001b[0;34m:\u001b[0m\u001b[0;34m\u001b[0m\u001b[0;34m\u001b[0m\u001b[0m\n\u001b[0;32m---> 63\u001b[0;31m                 \u001b[0;32mreturn\u001b[0m \u001b[0mf\u001b[0m\u001b[0;34m(\u001b[0m\u001b[0;34m*\u001b[0m\u001b[0margs\u001b[0m\u001b[0;34m,\u001b[0m \u001b[0;34m**\u001b[0m\u001b[0mkwargs\u001b[0m\u001b[0;34m)\u001b[0m\u001b[0;34m\u001b[0m\u001b[0;34m\u001b[0m\u001b[0m\n\u001b[0m\u001b[1;32m     64\u001b[0m \u001b[0;34m\u001b[0m\u001b[0m\n\u001b[1;32m     65\u001b[0m             \u001b[0;31m# extra_args > 0\u001b[0m\u001b[0;34m\u001b[0m\u001b[0;34m\u001b[0m\u001b[0;34m\u001b[0m\u001b[0m\n",
      "\u001b[0;32m/usr/lib64/python3.7/site-packages/sklearn/utils/validation.py\u001b[0m in \u001b[0;36mcheck_array\u001b[0;34m(array, accept_sparse, accept_large_sparse, dtype, order, copy, force_all_finite, ensure_2d, allow_nd, ensure_min_samples, ensure_min_features, estimator)\u001b[0m\n\u001b[1;32m    670\u001b[0m                              \u001b[0;34m\" minimum of %d is required%s.\"\u001b[0m\u001b[0;34m\u001b[0m\u001b[0;34m\u001b[0m\u001b[0m\n\u001b[1;32m    671\u001b[0m                              % (n_samples, array.shape, ensure_min_samples,\n\u001b[0;32m--> 672\u001b[0;31m                                 context))\n\u001b[0m\u001b[1;32m    673\u001b[0m \u001b[0;34m\u001b[0m\u001b[0m\n\u001b[1;32m    674\u001b[0m     \u001b[0;32mif\u001b[0m \u001b[0mensure_min_features\u001b[0m \u001b[0;34m>\u001b[0m \u001b[0;36m0\u001b[0m \u001b[0;32mand\u001b[0m \u001b[0marray\u001b[0m\u001b[0;34m.\u001b[0m\u001b[0mndim\u001b[0m \u001b[0;34m==\u001b[0m \u001b[0;36m2\u001b[0m\u001b[0;34m:\u001b[0m\u001b[0;34m\u001b[0m\u001b[0;34m\u001b[0m\u001b[0m\n",
      "\u001b[0;31mValueError\u001b[0m: Found array with 0 sample(s) (shape=(0, 1)) while a minimum of 1 is required."
     ]
    }
   ],
   "source": [
    "#### MIN MAX NORMALIZATION\n",
    "\n",
    "from sklearn.preprocessing import MinMaxScaler\n",
    "\n",
    "scaler = MinMaxScaler()\n",
    "\n",
    "\n",
    "### Fit on X_train_values and transform \n",
    "X_train_normalized = scaler.fit_transform(X_train_values)\n",
    "#print('Min: %f, Max: %f' % (scaler.data_min_, scaler.data_max_))\n",
    "\n",
    "### Transform y_train\n",
    "y_train_normalized = scaler.transform(y_train)\n",
    "\n",
    "\n",
    "### Transform X_Valid\n",
    "X_valid_values = X_valid.reshape(-1, 1)\n",
    "X_valid_normalized = scaler.transform(X_valid_values)\n",
    "\n",
    "### Transform y_valid\n",
    "y_valid_normalized = scaler.transform(y_valid)\n",
    "\n",
    "\n",
    "### Transform X_test\n",
    "X_test_values = X_test.reshape(-1, 1)\n",
    "X_test_normalized = scaler.transform(X_test_values)\n",
    "\n",
    "### Transform y_test\n",
    "y_test_normalized = scaler.transform(y_test)\n",
    "\n",
    "\n",
    "# Reshape normalized values back to 3-D\n",
    "X_train = X_train_normalized.reshape(X_train.shape[0] , X_train.shape[1] , X_train.shape[2])\n",
    "X_valid = X_valid_normalized.reshape(X_valid.shape[0] ,X_valid.shape[1] , X_valid.shape[2])\n",
    "X_test = X_test_normalized.reshape(X_test.shape[0] ,X_test.shape[1] , X_test.shape[2])\n",
    "\n",
    "y_train = y_train_normalized.reshape(y_train.shape[0], y_train.shape[1] )\n",
    "y_valid = y_valid_normalized.reshape(y_valid.shape[0], y_valid.shape[1] )\n",
    "y_test =  y_test_normalized.reshape(y_test.shape[0], y_test.shape[1] )\n",
    "\n",
    "X_train.shape, y_train.shape, X_valid.shape, y_valid.shape, X_test.shape, y_test.shape\n"
   ]
  },
  {
   "cell_type": "code",
   "execution_count": null,
   "id": "217b8a73",
   "metadata": {},
   "outputs": [],
   "source": [
    "### Just a sanity check if any training data is Inf due to normalization..\n",
    "### that will lead to exploding gradients issue while training\n",
    "\n",
    "for i in range(9999):\n",
    "   for j in range(21):\n",
    "      if (np.isfinite(X_train[i,j,0]) == False):\n",
    "        print(i)"
   ]
  },
  {
   "cell_type": "code",
   "execution_count": null,
   "id": "cacc778a",
   "metadata": {},
   "outputs": [],
   "source": [
    "print(X_train[10, 0:5])"
   ]
  },
  {
   "cell_type": "code",
   "execution_count": null,
   "id": "a42c0eb4",
   "metadata": {},
   "outputs": [],
   "source": [
    "print(y_train[0:5])"
   ]
  },
  {
   "cell_type": "markdown",
   "id": "b2113dbc",
   "metadata": {},
   "source": [
    "We see values look transformed in range 0-1"
   ]
  },
  {
   "cell_type": "code",
   "execution_count": null,
   "id": "178a0282",
   "metadata": {},
   "outputs": [],
   "source": [
    "#### Function to rescale whatever transformations we have done, \n",
    "#### this will be used to retransform the values to original values after forecast.\n",
    "\n",
    "def reverse_transform(arr):\n",
    "    \n",
    "    #print(arr.shape)\n",
    "    arr = arr.reshape(-1,1)\n",
    "    \n",
    "    ## First reverse the minmax scaling\n",
    "    arr_inv_normal = scaler.inverse_transform(arr)\n",
    "    #print(arr_inv_normal.shape)\n",
    "    \n",
    "    ## Reverse the log transformation and subtract 1 ( Note, we had added 1 earlier)\n",
    "    arr_reverse = np.exp(arr_inv_normal ) - 1\n",
    "    #print(arr_reverse.shape)\n",
    "    return (arr_reverse)"
   ]
  },
  {
   "cell_type": "markdown",
   "id": "34852806",
   "metadata": {},
   "source": [
    "##### Check if reverse_transform works fine by comparing it with the original values of a sample stored in master series"
   ]
  },
  {
   "cell_type": "code",
   "execution_count": null,
   "id": "8cabb70e",
   "metadata": {},
   "outputs": [],
   "source": [
    "reverse_transform(X_train[0,0:5])"
   ]
  },
  {
   "cell_type": "code",
   "execution_count": null,
   "id": "62e517e9",
   "metadata": {},
   "outputs": [],
   "source": [
    "#new_df.iloc[0][:5]\n",
    "master_series[0,:5]"
   ]
  },
  {
   "cell_type": "code",
   "execution_count": null,
   "id": "af8f7c16",
   "metadata": {},
   "outputs": [],
   "source": [
    "reverse_transform(y_valid[0:5])"
   ]
  },
  {
   "cell_type": "code",
   "execution_count": null,
   "id": "558efffc",
   "metadata": {},
   "outputs": [],
   "source": [
    "master_series[70000:70005, n_steps, 0]"
   ]
  },
  {
   "cell_type": "code",
   "execution_count": null,
   "id": "218c03c5",
   "metadata": {},
   "outputs": [],
   "source": [
    "X_valid.shape, n_steps"
   ]
  },
  {
   "cell_type": "markdown",
   "id": "76652d31",
   "metadata": {},
   "source": [
    "#### Plot the last few time steps of X_valid"
   ]
  },
  {
   "cell_type": "code",
   "execution_count": null,
   "id": "0b071c38",
   "metadata": {},
   "outputs": [],
   "source": [
    "\n",
    "def plot_series(series, y=None, y_pred=None, lag=n_steps, x_label=\"time steps\", y_label=\"value\"):\n",
    "    \n",
    "    plt.figure(figsize=(14,7))\n",
    "    plt.plot(np.arange(n_steps-lag, n_steps), series, \".-\")\n",
    "    \n",
    "    if y is not None:\n",
    "        # plot actual y\n",
    "        plt.plot(n_steps, y, \"bX\", markersize=10)\n",
    "        \n",
    "    if y_pred is not None:\n",
    "        # plot predicted y\n",
    "        plt.plot(n_steps, y_pred, \"ro\")\n",
    "        \n",
    "        \n",
    "    plt.grid(True)\n",
    "    \n",
    "    if x_label:\n",
    "        plt.xlabel(x_label, fontsize=12)\n",
    "    if y_label:\n",
    "        plt.ylabel(y_label, fontsize=12, rotation=90)\n",
    "    \n",
    "    #plt.axis([0, n_steps, 0, 1])\n",
    "    \n",
    "    plt.axis([n_steps-lag, n_steps+1 , 0, 1])\n",
    "    plt.xticks(np.arange(n_steps-lag, n_steps+1, 1))\n",
    "    plt.yticks(np.arange(0, 1, 0.1))\n",
    "\n",
    "for i in range(3):\n",
    "    plot_series(X_valid[i, n_steps-20 : , 0], y_valid[i, 0],\n",
    "                lag=20, x_label=\"Last 20 time steps\", y_label=(\"value\"))\n",
    "    \n",
    "plt.show()"
   ]
  },
  {
   "cell_type": "markdown",
   "id": "beebbf1c",
   "metadata": {},
   "source": [
    "Now that we have the train data, valid data etc. ready, we are now ready for building models on the time series"
   ]
  },
  {
   "cell_type": "markdown",
   "id": "7317e45b",
   "metadata": {},
   "source": [
    "## 4. Modeling and Forecast ( single day )"
   ]
  },
  {
   "cell_type": "markdown",
   "id": "ee2b5a80",
   "metadata": {},
   "source": [
    "### 4.1 Baseline Models"
   ]
  },
  {
   "cell_type": "markdown",
   "id": "fb00f55e",
   "metadata": {},
   "source": [
    "#### 4.1.1 Naive Forecast\n",
    "\n",
    "Just predict the last observed value, i.e forecast the value at time step t+1 to be the same value as at time step t."
   ]
  },
  {
   "cell_type": "code",
   "execution_count": null,
   "id": "b1a40b70",
   "metadata": {},
   "outputs": [],
   "source": [
    "#print(y_pred.shape)"
   ]
  },
  {
   "cell_type": "code",
   "execution_count": null,
   "id": "ddc54e9b",
   "metadata": {},
   "outputs": [],
   "source": [
    "\n",
    "### Set y_pred equal to the last time step's value.\n",
    "\n",
    "y_pred = X_valid[:, -1]\n",
    "\n",
    "### Calculate the MSE of the forecast\n",
    "naive_mse = round(np.mean(keras.losses.mean_squared_error(y_valid, y_pred)), 7)\n",
    "naive_mse"
   ]
  },
  {
   "cell_type": "markdown",
   "id": "6180dec2",
   "metadata": {},
   "source": [
    "##### We get a baseline mean square error of 0.0029608"
   ]
  },
  {
   "cell_type": "code",
   "execution_count": null,
   "id": "83d3735b",
   "metadata": {},
   "outputs": [],
   "source": [
    "\n",
    "### Function to plot a single step forecast\n",
    "\n",
    "def plot_single_forecast(series, y, y_pred, sample, lag = n_steps, x_label = \"Time steps\", y_label = \"Value\"):\n",
    "\n",
    "    plt.figure(figsize=(16,8))\n",
    "\n",
    "    #plt.plot(np.arange(n_steps-lag, n_steps), reverse_transform(X_valid[i, n_steps-20 : , 0]), \".-\", label = 'Original Views')\n",
    "    plt.plot(np.arange(n_steps - lag, n_steps), series, \".-\", label = 'Past ' + str(lag) + ' View Counts')\n",
    "    plt.plot(n_steps, y, \"ro\", label = 'Actual = ' + str(y[0,0]))\n",
    "    plt.plot(n_steps, y_pred, \"gx\",  label = 'Forecast = '+ str(y_pred[0,0]))\n",
    "    plt.xticks(np.arange(n_steps - lag, n_steps + 1, 1))\n",
    "    \n",
    "    plt.title('Page views count forecast for sample ' + str(sample) + \\\n",
    "              ', for ' + 'day ' + str(n_steps + 1))\n",
    "\n",
    "    plt.xlabel(x_label)\n",
    "    plt.ylabel(y_label)\n",
    "    plt.legend(loc = 'best')"
   ]
  },
  {
   "cell_type": "markdown",
   "id": "ac2dc975",
   "metadata": {},
   "source": [
    "##### Plot the naive forecast for a sample time series"
   ]
  },
  {
   "cell_type": "code",
   "execution_count": null,
   "id": "514e27a0",
   "metadata": {},
   "outputs": [],
   "source": [
    "sample=50\n",
    "lag=20\n",
    "\n",
    "plot_single_forecast(reverse_transform(X_valid[sample, n_steps - lag : , 0]), \\\n",
    "                     reverse_transform(y_valid[sample]), reverse_transform(y_pred[sample]), \\\n",
    "                     sample = sample, lag = lag, x_label = \"Days\", y_label = \"Views Count\")"
   ]
  },
  {
   "cell_type": "markdown",
   "id": "b2e401a8",
   "metadata": {},
   "source": [
    "##### Let us next build a linear regression model using keras "
   ]
  },
  {
   "cell_type": "markdown",
   "id": "a616164e",
   "metadata": {},
   "source": [
    "#### 4.1.2 Linear Model\n",
    "\n",
    "We use flat layer and a dense output layer to achieve a linear regression model.\n",
    "\n",
    "Recall that input dimension = batch_size, n_steps, 1\n",
    "\n",
    "Flat layer flattens the input which consists of n_steps (150 time steps in our case) and feeds those 150 elements to the dense layer with one neuron. So 150 feedforward weights + one bias are involved which is equivalent to a regression equation\n",
    "\n",
    "y = (W0 * t0) + (W1 * t1) +.......(W149 * t149) + b\n"
   ]
  },
  {
   "cell_type": "code",
   "execution_count": null,
   "id": "4d920d5b",
   "metadata": {},
   "outputs": [],
   "source": [
    "np.random.seed(42)\n",
    "tf.random.set_seed(42)\n",
    "\n",
    "lin_model = keras.models.Sequential([\n",
    "    keras.layers.Flatten(input_shape=[n_steps, 1]),\n",
    "    keras.layers.Dense(1)\n",
    "])\n",
    "\n",
    "optimizer = keras.optimizers.Adam(lr=0.0001)\n",
    "\n",
    "lin_model.compile(loss=\"mse\", optimizer=optimizer)\n",
    "lin_model.summary()\n",
    "\n",
    "history_lin = lin_model.fit(X_train, y_train, epochs=50,  batch_size=32,\n",
    "                    validation_data=(X_valid, y_valid))"
   ]
  },
  {
   "cell_type": "markdown",
   "id": "407eebf7",
   "metadata": {},
   "source": [
    "Plot the learning curve"
   ]
  },
  {
   "cell_type": "code",
   "execution_count": null,
   "id": "1a79f0e4",
   "metadata": {},
   "outputs": [],
   "source": [
    "def plot_learning_curves(loss, val_loss):\n",
    "    plt.plot(np.arange(len(loss)), loss, \"b.-\", label=\"Training loss\")\n",
    "    plt.plot(np.arange(len(val_loss)), val_loss, \"r.-\", label=\"Validation loss\")\n",
    "    plt.gca().xaxis.set_major_locator(mpl.ticker.MaxNLocator(integer=True))\n",
    "    #plt.axis([0, 50, 0, 0.6])\n",
    "    plt.legend(fontsize=14)\n",
    "    plt.xlabel(\"Epochs\")\n",
    "    plt.ylabel(\"Loss\")\n",
    "    plt.grid(True)\n"
   ]
  },
  {
   "cell_type": "code",
   "execution_count": null,
   "id": "96161b11",
   "metadata": {},
   "outputs": [],
   "source": [
    "\n",
    "plot_learning_curves(history_lin.history[\"loss\"], history_lin.history[\"val_loss\"])\n",
    "plt.show()"
   ]
  },
  {
   "cell_type": "code",
   "execution_count": null,
   "id": "05fa5d58",
   "metadata": {},
   "outputs": [],
   "source": [
    "linear_mse = round(lin_model.evaluate(X_valid, y_valid), 7)\n",
    "linear_mse"
   ]
  },
  {
   "cell_type": "markdown",
   "id": "bbe6e8f7",
   "metadata": {},
   "source": [
    "##### We get a mean square error of  0.0017274 from linear model which is better than the naive forecast which was 0.0029608"
   ]
  },
  {
   "cell_type": "code",
   "execution_count": null,
   "id": "8ad6d4b2",
   "metadata": {},
   "outputs": [],
   "source": [
    "y_pred_lin = lin_model.predict(X_valid)\n",
    "\n",
    "sample=50\n",
    "lag=20\n",
    "\n",
    "plot_single_forecast(reverse_transform(X_valid[sample, n_steps - lag : , 0]), \\\n",
    "                     reverse_transform(y_valid[sample]), reverse_transform(y_pred_lin[sample]), \\\n",
    "                     sample = sample, lag = lag, x_label = \"Days\", y_label = \"Views Count\")"
   ]
  },
  {
   "cell_type": "markdown",
   "id": "46ba952c",
   "metadata": {},
   "source": [
    "We can see that Linear model built by keras NN has given a better closer forecast than the naive forecast model. <br>\n",
    "\n",
    "Now we will try advanced models, we will start with a simple RNN architecture."
   ]
  },
  {
   "cell_type": "markdown",
   "id": "39cabdb3",
   "metadata": {},
   "source": [
    "### 4.2 Simple RNN\n",
    "\n",
    "We will try the simplest RNN with a single layer and a single neuron in it. "
   ]
  },
  {
   "cell_type": "code",
   "execution_count": null,
   "id": "1f6ef678",
   "metadata": {},
   "outputs": [],
   "source": [
    "np.random.seed(42)\n",
    "tf.random.set_seed(42)\n",
    "\n",
    "simp_rnn_model = keras.models.Sequential([\n",
    "        keras.layers.SimpleRNN(1, input_shape=[None, 1]) #### RNN with just one neuron ( One day predicted )\n",
    "])\n",
    "\n",
    "simp_rnn_model.summary()\n",
    "\n",
    "optimizer = keras.optimizers.Adam(lr=0.0001)\n",
    "\n",
    "simp_rnn_model.compile(loss=\"mse\", optimizer=optimizer)\n",
    "\n",
    "#### Early stop the training if there is no improvement in val_loss for 5 epochs.\n",
    "early_stopping = keras.callbacks.EarlyStopping(monitor='val_loss', patience=5, min_delta=0.0001, verbose=1)\n",
    "\n",
    "history_srnn = simp_rnn_model.fit(X_train, y_train, epochs=50, batch_size=32,\n",
    "                    validation_data=(X_valid, y_valid), callbacks=[early_stopping])"
   ]
  },
  {
   "cell_type": "code",
   "execution_count": null,
   "id": "bad80b7a",
   "metadata": {},
   "outputs": [],
   "source": [
    "plot_learning_curves(history_srnn.history[\"loss\"][1:], history_srnn.history[\"val_loss\"][1:])\n",
    "plt.show()"
   ]
  },
  {
   "cell_type": "code",
   "execution_count": null,
   "id": "9b8bb864",
   "metadata": {},
   "outputs": [],
   "source": [
    "simp_rnn_mse = round(simp_rnn_model.evaluate(X_valid, y_valid), 7)\n",
    "simp_rnn_mse"
   ]
  },
  {
   "cell_type": "markdown",
   "id": "8b472c86",
   "metadata": {},
   "source": [
    "##### We get a mean square error of 0.0037434 from Simple RNN model which is worse than 0.0017274 from linear model."
   ]
  },
  {
   "cell_type": "code",
   "execution_count": null,
   "id": "5ae4df3f",
   "metadata": {},
   "outputs": [],
   "source": [
    "y_pred_srnn = simp_rnn_model.predict(X_valid)\n",
    "\n",
    "sample=50\n",
    "lag=20\n",
    "\n",
    "plot_single_forecast(reverse_transform(X_valid[sample, n_steps - lag : , 0]), \\\n",
    "                     reverse_transform(y_valid[sample]), reverse_transform(y_pred_srnn[sample]), \\\n",
    "                     sample = sample, lag = lag, x_label = \"Days\", y_label = \"Views Count\")\n"
   ]
  },
  {
   "cell_type": "markdown",
   "id": "6399e6e6",
   "metadata": {},
   "source": [
    "##### The forecast for sample 50 by Simple RNN is not as good as that was by Linear Regression Model..\n",
    "\n",
    "Let us try a slightly deeper RNN ( add one more layer )"
   ]
  },
  {
   "cell_type": "markdown",
   "id": "af7d6247",
   "metadata": {},
   "source": [
    "### 4.3 Deep RNN"
   ]
  },
  {
   "cell_type": "code",
   "execution_count": null,
   "id": "a3d3e350",
   "metadata": {},
   "outputs": [],
   "source": [
    "np.random.seed(42)\n",
    "tf.random.set_seed(42)\n",
    "\n",
    "\n",
    "d_rnn_model = keras.models.Sequential([\n",
    "    keras.layers.SimpleRNN(20, return_sequences=True, input_shape=[None, 1]),\n",
    "    keras.layers.Dropout(rate=0.2),   ### Otherwise validation loss fluctuates too much\n",
    "    keras.layers.SimpleRNN(20),\n",
    "    keras.layers.Dense(1)       ### Note dense layer with one output (One day prediction)\n",
    "])\n",
    "\n",
    "\n",
    "optimizer = keras.optimizers.Adam(lr=0.0001)\n",
    "\n",
    "d_rnn_model.compile(loss=\"mse\", optimizer=optimizer)\n",
    "\n",
    "d_rnn_model.summary()\n",
    "print()\n",
    "\n",
    "#### Early stop the training if there is no improvement in val_loss for 5 epochs. Save the best model based on val_loss.\n",
    "early_stopping = keras.callbacks.EarlyStopping(monitor='val_loss', patience=5, verbose=1)\n",
    "mc = keras.callbacks.ModelCheckpoint('best_model_drnn.h5', monitor='val_loss', mode='min', verbose=1, save_best_only=True)\n",
    "\n",
    "\n",
    "history_drnn = d_rnn_model.fit(X_train, y_train, epochs=50, batch_size=32,\n",
    "                    validation_data=(X_valid, y_valid), callbacks=[early_stopping, mc])"
   ]
  },
  {
   "cell_type": "code",
   "execution_count": null,
   "id": "c38017b6",
   "metadata": {},
   "outputs": [],
   "source": [
    "plot_learning_curves(history_drnn.history[\"loss\"][1:], history_drnn.history[\"val_loss\"][1:])\n",
    "plt.show()"
   ]
  },
  {
   "cell_type": "code",
   "execution_count": null,
   "id": "e078b134",
   "metadata": {},
   "outputs": [],
   "source": [
    "d_rnn_model = keras.models.load_model('best_model_drnn.h5')"
   ]
  },
  {
   "cell_type": "code",
   "execution_count": null,
   "id": "15a4904e",
   "metadata": {},
   "outputs": [],
   "source": [
    "round(d_rnn_model.evaluate(X_valid, y_valid), 7)"
   ]
  },
  {
   "cell_type": "markdown",
   "id": "f1d8c665",
   "metadata": {},
   "source": [
    "##### We got a mean square error of 0.0016934 from Deep RNN model which is better than simple RNN."
   ]
  },
  {
   "cell_type": "code",
   "execution_count": null,
   "id": "d59669d2",
   "metadata": {},
   "outputs": [],
   "source": [
    "y_pred_drnn = d_rnn_model.predict(X_valid)"
   ]
  },
  {
   "cell_type": "code",
   "execution_count": null,
   "id": "e76bf692",
   "metadata": {},
   "outputs": [],
   "source": [
    "#y_valid.shape, y_pred.shape, y_pred_drnn.shape"
   ]
  },
  {
   "cell_type": "code",
   "execution_count": null,
   "id": "9b84f571",
   "metadata": {},
   "outputs": [],
   "source": [
    "## Comparison of MSEs of linear regression model, Simple RNN and Deep RNN\n",
    "print(lin_model.evaluate(X_valid, y_valid))\n",
    "print(simp_rnn_model.evaluate(X_valid, y_valid))\n",
    "print(d_rnn_model.evaluate(X_valid, y_valid))"
   ]
  },
  {
   "cell_type": "markdown",
   "id": "7e04781f",
   "metadata": {},
   "source": [
    "##### Plot the forecasts of Simple RNN and Deep RNN vs Original values for some time series samples."
   ]
  },
  {
   "cell_type": "code",
   "execution_count": null,
   "id": "d4a43ae5",
   "metadata": {},
   "outputs": [],
   "source": [
    "\n",
    "plt.figure(figsize=(16,8))\n",
    "\n",
    "num_samples = 40\n",
    "\n",
    "plt.plot(reverse_transform(y_valid[0:num_samples]), '.-', label = 'Original Views')\n",
    "#plt.plot(reverse_transform(y_pred_lin[0:num_samples]), '.-', label = 'Linear Model Forecast')\n",
    "plt.plot(reverse_transform(y_pred_srnn[0:num_samples]), 'o-', label = 'Simple RNN Predictions')\n",
    "plt.plot(reverse_transform(y_pred_drnn[0:num_samples]), 'X-', label = 'Deep RNN Predictions')\n",
    "plt.title('Page Views Count Forecast for ' + str(num_samples) + ' samples, for the day ' + str(predicted_day))\n",
    "plt.xlabel(\"Time Series Samples\")\n",
    "plt.ylabel(\"Views Count\")\n",
    "plt.legend(loc = 'best')\n"
   ]
  },
  {
   "cell_type": "markdown",
   "id": "f6aa0057",
   "metadata": {},
   "source": [
    "We plotted the forecast for 151st day for 40 different time series in the validation set. <br>\n",
    "We see that Deep RNN forecast is almost closely following the original counts and fares better than simple RNN. <br>\n",
    "###### So RNNs do a very good job in the forecast."
   ]
  },
  {
   "cell_type": "markdown",
   "id": "1747b327",
   "metadata": {},
   "source": [
    "##### Let us plot the forecast by Deep RNN for a particular sample "
   ]
  },
  {
   "cell_type": "code",
   "execution_count": null,
   "id": "510fbda6",
   "metadata": {},
   "outputs": [],
   "source": [
    "sample=50\n",
    "lag=20\n",
    "\n",
    "plot_single_forecast(reverse_transform(X_valid[sample, n_steps - lag : , 0]), \\\n",
    "                     reverse_transform(y_valid[sample]), reverse_transform(y_pred_drnn[sample]), \\\n",
    "                     sample = sample, lag = lag, x_label = \"Days\", y_label = \"Views Count\")\n"
   ]
  },
  {
   "cell_type": "markdown",
   "id": "0b459a99",
   "metadata": {},
   "source": [
    "##### The forecast for sample 50, is much better and closer to the original value than simple RNN.\n",
    "\n",
    "Let us go for a LSTM model now."
   ]
  },
  {
   "cell_type": "code",
   "execution_count": null,
   "id": "621733b0",
   "metadata": {},
   "outputs": [],
   "source": []
  },
  {
   "cell_type": "markdown",
   "id": "6ea64914",
   "metadata": {},
   "source": [
    "### 4.4 LSTM Model"
   ]
  },
  {
   "cell_type": "code",
   "execution_count": null,
   "id": "d2e1238f",
   "metadata": {},
   "outputs": [],
   "source": [
    "X_train.shape, y_train.shape, X_valid.shape, y_valid.shape"
   ]
  },
  {
   "cell_type": "code",
   "execution_count": null,
   "id": "13ccc2ad",
   "metadata": {},
   "outputs": [],
   "source": [
    "np.random.seed(42)\n",
    "tf.random.set_seed(42)\n",
    "\n",
    "lstm_model = keras.models.Sequential([\n",
    "    keras.layers.LSTM(20, return_sequences=True, input_shape=[None, 1]),\n",
    "    keras.layers.LSTM(20, return_sequences=True),   ###\n",
    "    keras.layers.LSTM(20),\n",
    "    keras.layers.Dense(1)   #### Note - Dense layer with one output ( One day prediction )\n",
    "])\n",
    "\n",
    "optimizer = keras.optimizers.Adam(lr=0.0005)\n",
    "\n",
    "lstm_model.compile(loss=\"mse\", optimizer=optimizer)\n",
    "lstm_model.summary()\n",
    "\n",
    "#### Early stop the training if there is no improvement in val_loss for 5 epochs. Save the best model based on val_loss.\n",
    "early_stopping = keras.callbacks.EarlyStopping(monitor='val_loss', patience=5, verbose=1)\n",
    "mc = keras.callbacks.ModelCheckpoint('best_model_lstm.h5', monitor='val_loss', mode='min', verbose=1, save_best_only=True)\n",
    "\n",
    "\n",
    "history_lstm = lstm_model.fit(X_train, y_train, epochs=80, batch_size=32,\n",
    "                    validation_data=(X_valid, y_valid), callbacks=[early_stopping, mc])\n"
   ]
  },
  {
   "cell_type": "markdown",
   "id": "7b6108b0",
   "metadata": {},
   "source": [
    "Load the best model saved during the training"
   ]
  },
  {
   "cell_type": "code",
   "execution_count": null,
   "id": "3a7cdd3f",
   "metadata": {},
   "outputs": [],
   "source": [
    "lstm_model = keras.models.load_model('best_model_lstm.h5')"
   ]
  },
  {
   "cell_type": "code",
   "execution_count": null,
   "id": "8ea931fd",
   "metadata": {},
   "outputs": [],
   "source": [
    "round(lstm_model.evaluate(X_valid, y_valid), 7)"
   ]
  },
  {
   "cell_type": "markdown",
   "id": "76290b1d",
   "metadata": {},
   "source": [
    "##### We have got a MSE of 0.0016625 with LSTM which looks slightly better than Deep RNN ."
   ]
  },
  {
   "cell_type": "code",
   "execution_count": null,
   "id": "c4bb19e4",
   "metadata": {},
   "outputs": [],
   "source": [
    "plot_learning_curves(history_lstm.history[\"loss\"][1:], history_lstm.history[\"val_loss\"][1:])\n",
    "plt.show()"
   ]
  },
  {
   "cell_type": "markdown",
   "id": "c2149c7d",
   "metadata": {},
   "source": [
    "Predict on the validation set"
   ]
  },
  {
   "cell_type": "code",
   "execution_count": null,
   "id": "34859ffc",
   "metadata": {},
   "outputs": [],
   "source": [
    "y_pred_lstm = lstm_model.predict(X_valid)"
   ]
  },
  {
   "cell_type": "code",
   "execution_count": null,
   "id": "c663258a",
   "metadata": {},
   "outputs": [],
   "source": [
    "y_pred_lstm.shape, y_pred_drnn.shape"
   ]
  },
  {
   "cell_type": "code",
   "execution_count": null,
   "id": "d15bf5b4",
   "metadata": {},
   "outputs": [],
   "source": [
    "#### Compare the MSE (loss) of the various models we have trained so far\n",
    "\n",
    "print(lin_model.evaluate(X_valid, y_valid))\n",
    "print(simp_rnn_model.evaluate(X_valid, y_valid))\n",
    "print(d_rnn_model.evaluate(X_valid, y_valid))\n",
    "print(lstm_model.evaluate(X_valid, y_valid))"
   ]
  },
  {
   "cell_type": "markdown",
   "id": "cbdeb3fa",
   "metadata": {},
   "source": [
    "##### Plot the forecasts of LSTM vs Original values for some time series samples."
   ]
  },
  {
   "cell_type": "code",
   "execution_count": null,
   "id": "b1a7c2fc",
   "metadata": {},
   "outputs": [],
   "source": [
    "\n",
    "plt.figure(figsize=(16,8))\n",
    "\n",
    "num_samples = 40\n",
    "\n",
    "plt.plot(reverse_transform(y_valid[0:num_samples]), 'r.-', label = 'Original Views')\n",
    "#plt.plot(np.exp(y_pred_srnn[0:num_samples]), label = 'Simple RNN Predictions')\n",
    "#plt.plot(reverse_transform(y_pred_drnn[0:num_samples]), 'o-', label = 'Deep RNN Predictions')\n",
    "plt.plot(reverse_transform(y_pred_lstm[0:num_samples]), 'gx-', label = 'LSTM Forecast')\n",
    "\n",
    "\n",
    "plt.title('Page Views Count Forecast for ' + str(num_samples) + ' time series samples, for the day ' + str(predicted_day))\n",
    "plt.xlabel(\"Time Series Samples\")\n",
    "plt.ylabel(\"Views Count\")\n",
    "plt.legend(loc = 'best')\n"
   ]
  },
  {
   "cell_type": "markdown",
   "id": "6a9649de",
   "metadata": {},
   "source": [
    "#### Above plot of original values vs Forecast values show that LSTM has done a very good job in forecasting the values for the 151st day across different time series samples."
   ]
  },
  {
   "cell_type": "markdown",
   "id": "268aff57",
   "metadata": {},
   "source": [
    "Let us examine the forecast for a particular time series by LSTM."
   ]
  },
  {
   "cell_type": "code",
   "execution_count": null,
   "id": "d9d6049b",
   "metadata": {},
   "outputs": [],
   "source": [
    "sample=50\n",
    "lag=20\n",
    "\n",
    "plot_single_forecast(reverse_transform(X_valid[sample, n_steps - lag : , 0]), \\\n",
    "                     reverse_transform(y_valid[sample]), reverse_transform(y_pred_lstm[sample]), \\\n",
    "                     sample = sample, lag = lag, x_label = \"Days\", y_label = \"Views Count\")"
   ]
  },
  {
   "cell_type": "markdown",
   "id": "908dec8a",
   "metadata": {},
   "source": [
    "##### The forecast for sample 50 by LSTM , is the closest to the actual value compared to all the models we tried so far !"
   ]
  },
  {
   "cell_type": "code",
   "execution_count": null,
   "id": "4c5417ba",
   "metadata": {},
   "outputs": [],
   "source": []
  },
  {
   "cell_type": "markdown",
   "id": "f487177d",
   "metadata": {},
   "source": [
    "## 5. Forecasting For Several Time Steps (days) ahead\n",
    "\n",
    "We will now forecast for multiple number of days (k days in one go) i.e days n+1, n+2....n+k by training on the first n days data."
   ]
  },
  {
   "cell_type": "markdown",
   "id": "318943c1",
   "metadata": {},
   "source": [
    "### 5.1 Train on 'n' days values as a whole and forecast for days n+1, n+2....."
   ]
  },
  {
   "cell_type": "code",
   "execution_count": null,
   "id": "eef8a736",
   "metadata": {},
   "outputs": [],
   "source": [
    "log_master_series.shape"
   ]
  },
  {
   "cell_type": "markdown",
   "id": "df099f6c",
   "metadata": {},
   "source": [
    "For this, y_train, y_valid and y_test have to have multiple days values as target instead of one day "
   ]
  },
  {
   "cell_type": "code",
   "execution_count": null,
   "id": "100bff4d",
   "metadata": {},
   "outputs": [],
   "source": [
    "\n",
    "np.random.seed(42)\n",
    "\n",
    "num_days_predicted = 3\n",
    "\n",
    "##### Take from log_master_series as we have to do min max scaling on the target (y) values.\n",
    "\n",
    "series = log_master_series[:, : n_steps + num_days_predicted, :]\n",
    "series.shape\n",
    "\n",
    "y_train_mult = series[:70000, -num_days_predicted:, 0]\n",
    "\n",
    "y_valid_mult = series[70000:90000, -num_days_predicted:, 0]\n",
    "\n",
    "y_test_mult =  series[90000:100000, -num_days_predicted:, 0]\n",
    "\n",
    "print(y_train_mult.shape)"
   ]
  },
  {
   "cell_type": "markdown",
   "id": "388e0a29",
   "metadata": {},
   "source": [
    "##### As we see above, we will predict for 3 days - days 151, 152, 153. So each time series will have 3 values as target"
   ]
  },
  {
   "cell_type": "code",
   "execution_count": null,
   "id": "07d46527",
   "metadata": {},
   "outputs": [],
   "source": [
    "### Min max scaler transformation over the log transformation.\n",
    "\n",
    "y_train_normalized = scaler.transform(y_train_mult.reshape(-1,1))\n",
    "y_train_mult = y_train_normalized.reshape(y_train_mult.shape[0], y_train_mult.shape[1])\n",
    "print(y_train_mult.max())\n",
    "print(y_train_mult.min())\n",
    "print()\n",
    "\n",
    "y_valid_normalized = scaler.transform(y_valid_mult.reshape(-1,1))\n",
    "y_valid_mult = y_valid_normalized.reshape(y_valid_mult.shape[0], y_valid_mult.shape[1])\n",
    "print(y_valid_mult.max())\n",
    "print(y_valid_mult.min())\n",
    "print()\n",
    "\n",
    "\n",
    "y_test_normalized = scaler.transform(y_test_mult.reshape(-1,1))\n",
    "y_test_mult = y_test_normalized.reshape(y_test_mult.shape[0], y_test_mult.shape[1])\n",
    "print(y_test_mult.max())\n",
    "print(y_test_mult.min())\n",
    "print()"
   ]
  },
  {
   "cell_type": "markdown",
   "id": "a139249c",
   "metadata": {},
   "source": [
    "Check the sanity of transformations"
   ]
  },
  {
   "cell_type": "code",
   "execution_count": null,
   "id": "021af511",
   "metadata": {},
   "outputs": [],
   "source": [
    "master_series[70035, n_steps:n_steps + num_days_predicted, 0]"
   ]
  },
  {
   "cell_type": "code",
   "execution_count": null,
   "id": "3b3bfa6f",
   "metadata": {},
   "outputs": [],
   "source": [
    "reverse_transform(y_valid_mult[35,:])"
   ]
  },
  {
   "cell_type": "markdown",
   "id": "94441532",
   "metadata": {},
   "source": [
    "#### Train a LSTM model "
   ]
  },
  {
   "cell_type": "code",
   "execution_count": null,
   "id": "c5717d17",
   "metadata": {},
   "outputs": [],
   "source": [
    "np.random.seed(42)\n",
    "tf.random.set_seed(42)\n",
    "\n",
    "lstm_mult_model1 = keras.models.Sequential([\n",
    "    keras.layers.LSTM(20, return_sequences=True, input_shape=[None, 1]),\n",
    "    keras.layers.LSTM(20, return_sequences=True), ####\n",
    "    keras.layers.Dropout(rate=0.2), ####\n",
    "    keras.layers.LSTM(20),\n",
    "    keras.layers.Dense(num_days_predicted)   #### Note - Number of Output = Number of days predicted.\n",
    "])\n",
    "\n",
    "optimizer = keras.optimizers.Adam(lr=0.0005)\n",
    "lstm_mult_model1.compile(loss=\"mse\", optimizer = optimizer)\n",
    "\n",
    "lstm_mult_model1.summary()\n",
    "print()\n",
    "\n",
    "#### Early stop the training if there is no improvement in val_loss for 5 epochs. Save the best model based on val_loss.\n",
    "early_stopping = keras.callbacks.EarlyStopping(monitor='val_loss', patience=5, verbose=1)\n",
    "mc = keras.callbacks.ModelCheckpoint('best_model_mult_lstm.h5', monitor='val_loss', mode='min', verbose=1, save_best_only=True)\n",
    "\n",
    "\n",
    "history_mult_lstm1 = lstm_mult_model1.fit(X_train, y_train_mult, epochs=80, batch_size=32,\n",
    "                    validation_data=(X_valid, y_valid_mult), callbacks=[early_stopping, mc])\n"
   ]
  },
  {
   "cell_type": "markdown",
   "id": "1202d302",
   "metadata": {},
   "source": [
    "Load the best model saved during training"
   ]
  },
  {
   "cell_type": "code",
   "execution_count": null,
   "id": "132bc0ca",
   "metadata": {},
   "outputs": [],
   "source": [
    "lstm_mult_model1 = keras.models.load_model('best_model_mult_lstm.h5')"
   ]
  },
  {
   "cell_type": "markdown",
   "id": "d526e86b",
   "metadata": {},
   "source": [
    "##### Evaluate the MSE on the validation set"
   ]
  },
  {
   "cell_type": "code",
   "execution_count": null,
   "id": "198e22a4",
   "metadata": {},
   "outputs": [],
   "source": [
    "lstm_mult_model1.evaluate(X_valid, y_valid_mult)"
   ]
  },
  {
   "cell_type": "code",
   "execution_count": null,
   "id": "ea8c05bf",
   "metadata": {},
   "outputs": [],
   "source": [
    "plot_learning_curves(history_mult_lstm1.history[\"loss\"][1:], history_mult_lstm1.history[\"val_loss\"][1:])\n",
    "plt.show()"
   ]
  },
  {
   "cell_type": "markdown",
   "id": "d47452d2",
   "metadata": {},
   "source": [
    "##### Predict on the validation set and check on one of the samples."
   ]
  },
  {
   "cell_type": "code",
   "execution_count": null,
   "id": "0cbe8c54",
   "metadata": {},
   "outputs": [],
   "source": [
    "y_pred_mult_lstm = lstm_mult_model1.predict(X_valid)"
   ]
  },
  {
   "cell_type": "code",
   "execution_count": null,
   "id": "057eb369",
   "metadata": {},
   "outputs": [],
   "source": [
    "y_pred_mult_lstm.shape"
   ]
  },
  {
   "cell_type": "code",
   "execution_count": null,
   "id": "04ce874a",
   "metadata": {},
   "outputs": [],
   "source": [
    "sample_tested = 1000\n",
    "reverse_transform(y_valid_mult[sample_tested])"
   ]
  },
  {
   "cell_type": "code",
   "execution_count": null,
   "id": "58a409f5",
   "metadata": {},
   "outputs": [],
   "source": [
    "reverse_transform(y_pred_mult_lstm[sample_tested])"
   ]
  },
  {
   "cell_type": "code",
   "execution_count": null,
   "id": "936dc0cb",
   "metadata": {},
   "outputs": [],
   "source": [
    "plt.figure(figsize=(8,4))\n",
    "\n",
    "\n",
    "plt.plot(reverse_transform(y_valid_mult[sample_tested]),  \".-\", label = 'Original Views')\n",
    "plt.plot(reverse_transform(y_pred_mult_lstm[sample_tested]),  \".-\", label = 'LSTM Predictions')\n",
    "\n",
    "plt.xlabel(\"Days\")\n",
    "plt.ylabel(\"Views\")\n",
    "plt.legend(loc = 'best')"
   ]
  },
  {
   "cell_type": "code",
   "execution_count": null,
   "id": "9dd730ac",
   "metadata": {},
   "outputs": [],
   "source": [
    "    \n",
    "#### Function to plot multiple days forecast\n",
    "\n",
    "def plot_multiple_forecast(series, y, y_pred, sample, lag = n_steps, num_days_predicted =3, \\\n",
    "                           x_label = \"Time steps\", y_label = \"Value\"):\n",
    "\n",
    "    plt.figure(figsize=(16,8))\n",
    "\n",
    "    plt.plot(np.arange(n_steps - lag, n_steps), series, \".-\", label = 'Past ' + str(lag) + ' View Counts')\n",
    "    \n",
    "    plt.plot(np.arange(n_steps, n_steps + num_days_predicted), y, \"ro-\", label = 'Actual')\n",
    "    \n",
    "    plt.plot(np.arange(n_steps, n_steps + num_days_predicted),y_pred, \"gx-\",  label = 'LSTM Forecasts')\n",
    "\n",
    "    plt.xticks(np.arange(n_steps - lag, n_steps + num_days_predicted + 1, 1))\n",
    "    \n",
    "    plt.title('Page views count forecast for sample ' + str(sample) + \\\n",
    "              ', for ' + 'days ' + str(n_steps + 1) + \" to \"+ str(n_steps + num_days_predicted))\n",
    "\n",
    "    plt.xlabel(x_label)\n",
    "    plt.ylabel(y_label)\n",
    "    plt.legend(loc = 'best')"
   ]
  },
  {
   "cell_type": "code",
   "execution_count": null,
   "id": "c2838444",
   "metadata": {},
   "outputs": [],
   "source": [
    "plot_multiple_forecast( reverse_transform(X_valid[sample_tested, n_steps-lag:, 0]), \n",
    "                       reverse_transform( y_valid_mult[sample_tested] ),\n",
    "                       reverse_transform( y_pred_mult_lstm[sample_tested] ),\n",
    "                       sample=sample_tested, lag=lag, x_label = \"Days\", y_label = \"Views Count\")"
   ]
  },
  {
   "cell_type": "markdown",
   "id": "f1b657ca",
   "metadata": {},
   "source": [
    "##### We see that LSTM has done a nice job of forecasting values close to the actuals !"
   ]
  },
  {
   "cell_type": "code",
   "execution_count": null,
   "id": "a08f6104",
   "metadata": {},
   "outputs": [],
   "source": [
    "y_valid_mult.shape, y_pred_mult_lstm.shape"
   ]
  },
  {
   "cell_type": "code",
   "execution_count": null,
   "id": "57ade476",
   "metadata": {},
   "outputs": [],
   "source": [
    "num_samples = 40\n",
    "step_ahead = 1"
   ]
  },
  {
   "cell_type": "code",
   "execution_count": null,
   "id": "62255a58",
   "metadata": {},
   "outputs": [],
   "source": [
    "plt.figure(figsize=(16,8))\n",
    "\n",
    "\n",
    "assert step_ahead < num_days_predicted\n",
    "     \n",
    "predicted_day = n_steps + step_ahead + 1\n",
    "\n",
    "plt.plot(np.exp(y_valid_mult[0:num_samples, step_ahead]), \"r.-\", label = 'Original Views')\n",
    "plt.plot(np.exp(y_pred_mult_lstm[0:num_samples, step_ahead]), \"gx-\", label = 'LSTM Predictions')\n",
    "\n",
    "plt.title('Page Views Count Forecasts for ' + str(num_samples) + ' samples, for the day ' + str(predicted_day))\n",
    "plt.xlabel(\"Time Series Samples\")\n",
    "plt.ylabel(\"Views Count\")\n",
    "plt.legend(loc = 'best')"
   ]
  },
  {
   "cell_type": "code",
   "execution_count": null,
   "id": "0d6e2f4b",
   "metadata": {},
   "outputs": [],
   "source": []
  },
  {
   "cell_type": "markdown",
   "id": "1b921903",
   "metadata": {},
   "source": [
    "### 5.2 Sequence-to-Sequence Model - Train on 'n' days values, forecasting next k values at each time step (day).\n",
    "\n",
    "Here, we will train the LSTM in the following way.\n",
    "\n",
    "1. For each time step t starting from t=0, pass the value to LSTM and forecast values for next 3 time steps. i.e t+1,t+2,t+3.\n",
    "2. Do (1) for time steps till time step 150.\n",
    "3. After training the model, forecast the values for days 151, 152 and 153.\n",
    "\n",
    "This model architecture will be different from preceding models. Instead of training the model to forecast next 3 values only at the very last time step, we train it to forecast the next 3 values at each and every time step. \n",
    "\n",
    "#### So, the preceding models were sequence-to-vector RNNs while this will be a sequence-to-sequence RNN.\n",
    "\n",
    "The advantage of this technique is that the loss will contain a term for the output at each and every time step, not only at the last time step. So there will be more error gradients flowing through the model. They will also flow from the output of each time step. This can stabilise the training process."
   ]
  },
  {
   "cell_type": "code",
   "execution_count": null,
   "id": "b79f89a2",
   "metadata": {},
   "outputs": [],
   "source": [
    "samples_count = 100000"
   ]
  },
  {
   "cell_type": "markdown",
   "id": "1a7bca86",
   "metadata": {},
   "source": [
    "Each target in the training set ( we have 70K time series in the training set, so 70K targets ) must be a sequence of same length as the input sequence (i.e. 150) containing a 3-dimensional vector at each step."
   ]
  },
  {
   "cell_type": "code",
   "execution_count": null,
   "id": "bda40acc",
   "metadata": {},
   "outputs": [],
   "source": [
    "\n",
    "series.shape\n",
    "Y = np.empty((samples_count, n_steps, num_days_predicted))\n",
    "\n",
    "for step_ahead in range(1, num_days_predicted + 1):\n",
    "   Y[..., step_ahead - 1] = series[:samples_count, step_ahead:step_ahead + n_steps, 0]\n",
    "    \n",
    "\n",
    "\n",
    "Y_train = Y[:70000]\n",
    "Y_valid = Y[70000:90000]\n",
    "Y_test = Y[90000:100000]\n",
    "\n",
    "\n",
    "Y_train_normalized = scaler.transform(Y_train.reshape(-1,1))\n",
    "Y_train_mult = Y_train_normalized.reshape(Y_train.shape[0], Y_train.shape[1], Y_train.shape[2])\n",
    "print(Y_train_mult.max())\n",
    "print(Y_train_mult.min())\n",
    "print()\n",
    "\n",
    "\n",
    "Y_valid_normalized = scaler.transform(Y_valid.reshape(-1,1))\n",
    "Y_valid_mult = Y_valid_normalized.reshape(Y_valid.shape[0], Y_valid.shape[1], Y_valid.shape[2])\n",
    "print(Y_valid_mult.max())\n",
    "print(Y_valid_mult.min())\n",
    "print()\n",
    "\n",
    "\n",
    "Y_test_normalized = scaler.transform(Y_test.reshape(-1,1))\n",
    "Y_test_mult = Y_test_normalized.reshape(Y_test.shape[0], Y_test.shape[1], Y_test.shape[2])\n",
    "print(Y_test_mult.max())\n",
    "print(Y_test_mult.min())\n",
    "print()\n",
    "\n",
    "\n"
   ]
  },
  {
   "cell_type": "code",
   "execution_count": null,
   "id": "0bba079c",
   "metadata": {},
   "outputs": [],
   "source": [
    "Y_train_mult.shape, X_valid.shape, Y_valid_mult.shape"
   ]
  },
  {
   "cell_type": "markdown",
   "id": "b914963e",
   "metadata": {},
   "source": [
    "Check the sanity of the transformations"
   ]
  },
  {
   "cell_type": "code",
   "execution_count": null,
   "id": "72360c5a",
   "metadata": {},
   "outputs": [],
   "source": [
    "reverse_transform(Y_valid_mult[50,0])"
   ]
  },
  {
   "cell_type": "code",
   "execution_count": null,
   "id": "f4265822",
   "metadata": {},
   "outputs": [],
   "source": [
    "reverse_transform(X_valid[50,1]), reverse_transform(X_valid[50,2]), reverse_transform(X_valid[50,3])"
   ]
  },
  {
   "cell_type": "markdown",
   "id": "c39e45ae",
   "metadata": {},
   "source": [
    "#### Train a LSTM model\n",
    "\n",
    "To turn the model into a sequence-to-sequence model, we must set return_sequence=True in all recurrent layers including the last one and we must apply the last layer (output) at every time step. So we use Keras TimeDistributed layer for this purpose."
   ]
  },
  {
   "cell_type": "code",
   "execution_count": null,
   "id": "bede574d",
   "metadata": {},
   "outputs": [],
   "source": [
    "np.random.seed(42)\n",
    "tf.random.set_seed(42)\n",
    "\n",
    "lstm_mult_model2 = keras.models.Sequential([\n",
    "    keras.layers.LSTM(20, return_sequences=True, input_shape=[None, 1]),\n",
    "    keras.layers.LSTM(20, return_sequences=True),\n",
    "    keras.layers.Dropout(rate=0.2),\n",
    "    keras.layers.LSTM(20, return_sequences=True),\n",
    "    keras.layers.TimeDistributed(keras.layers.Dense(num_days_predicted))\n",
    "])\n",
    "\n",
    "def last_time_step_mse(y_true_my, y_pred_my):\n",
    "    return keras.metrics.mean_squared_error(y_true_my[:, -1], y_pred_my[:, -1])\n",
    "\n",
    "optimizer = keras.optimizers.Adam(lr=0.0005)\n",
    "\n",
    "lstm_mult_model2.compile(loss=\"mse\", optimizer= optimizer, metrics=[last_time_step_mse])\n",
    "\n",
    "lstm_mult_model2.summary()\n",
    "\n",
    "#early_stopping = keras.callbacks.EarlyStopping(monitor='val_loss', min_delta=0.000005, patience=5, verbose=1)\n",
    "early_stopping = keras.callbacks.EarlyStopping(monitor='val_loss', patience=5, verbose=1)\n",
    "mc = keras.callbacks.ModelCheckpoint('best_model_mult_lstm2.h5', monitor='val_last_time_step_mse', mode='min', verbose=1, save_best_only=True)\n",
    "\n",
    "history_mult_lstm2 = lstm_mult_model2.fit(X_train, Y_train_mult, epochs=80, batch_size=32,\n",
    "                    validation_data=(X_valid, Y_valid_mult), callbacks=[early_stopping, mc])\n"
   ]
  },
  {
   "cell_type": "code",
   "execution_count": null,
   "id": "d0f8de62",
   "metadata": {},
   "outputs": [],
   "source": [
    "plot_learning_curves(history_mult_lstm2.history[\"loss\"][1:], history_mult_lstm2.history[\"val_loss\"][1:])\n",
    "plt.show()"
   ]
  },
  {
   "cell_type": "markdown",
   "id": "bfb002b1",
   "metadata": {},
   "source": [
    "Looks like training was more stable without much fluctuations in this model "
   ]
  },
  {
   "cell_type": "code",
   "execution_count": null,
   "id": "a6b43d5d",
   "metadata": {},
   "outputs": [],
   "source": [
    "dependencies = {\n",
    "    'last_time_step_mse': last_time_step_mse\n",
    "}\n",
    "\n",
    "lstm_mult_model2 = keras.models.load_model('best_model_mult_lstm2.h5', custom_objects=dependencies)"
   ]
  },
  {
   "cell_type": "code",
   "execution_count": null,
   "id": "bd1326bb",
   "metadata": {},
   "outputs": [],
   "source": [
    "lstm_mult_model2.evaluate(X_valid, Y_valid_mult)"
   ]
  },
  {
   "cell_type": "code",
   "execution_count": null,
   "id": "2ef04324",
   "metadata": {},
   "outputs": [],
   "source": [
    "y_pred_mult_lstm2 = lstm_mult_model2.predict(X_valid)"
   ]
  },
  {
   "cell_type": "code",
   "execution_count": null,
   "id": "e46636b1",
   "metadata": {},
   "outputs": [],
   "source": [
    "y_pred_mult_lstm2.shape"
   ]
  },
  {
   "cell_type": "code",
   "execution_count": null,
   "id": "33b4744e",
   "metadata": {},
   "outputs": [],
   "source": [
    "#sample_tested = 800\n",
    "reverse_transform(Y_valid_mult[sample_tested, n_steps-1])"
   ]
  },
  {
   "cell_type": "code",
   "execution_count": null,
   "id": "bd8bc108",
   "metadata": {},
   "outputs": [],
   "source": [
    "reverse_transform(y_pred_mult_lstm2[sample_tested, n_steps-1])"
   ]
  },
  {
   "cell_type": "code",
   "execution_count": null,
   "id": "ac886adb",
   "metadata": {},
   "outputs": [],
   "source": [
    "plt.figure(figsize=(8,4))\n",
    "plt.plot(reverse_transform(Y_valid_mult[sample_tested, n_steps-1]),  \".-\", label = 'Original Views')\n",
    "\n",
    "plt.plot(reverse_transform(y_pred_mult_lstm2[sample_tested, n_steps-1]),  \".-\", label = 'LSTM Multi Step Forecast')\n",
    "\n",
    "plt.xlabel(\"Days\")\n",
    "plt.ylabel(\"Views\")\n",
    "plt.legend(loc = 'best')"
   ]
  },
  {
   "cell_type": "code",
   "execution_count": null,
   "id": "c684d8b9",
   "metadata": {},
   "outputs": [],
   "source": [
    "plot_multiple_forecast( reverse_transform(X_valid[sample_tested, n_steps-lag:, 0]), \n",
    "                       reverse_transform( Y_valid_mult[sample_tested, n_steps-1]),\n",
    "                       reverse_transform( y_pred_mult_lstm2[sample_tested, n_steps-1]),\n",
    "                       sample=sample_tested, lag=lag, x_label = \"Days\", y_label = \"Views Count\")\n"
   ]
  },
  {
   "cell_type": "code",
   "execution_count": null,
   "id": "f0fd4ef9",
   "metadata": {},
   "outputs": [],
   "source": [
    "num_samples = 40\n",
    "step_ahead = 1"
   ]
  },
  {
   "cell_type": "code",
   "execution_count": null,
   "id": "8608108b",
   "metadata": {},
   "outputs": [],
   "source": [
    "plt.figure(figsize=(16,8))\n",
    "\n",
    "assert step_ahead < num_days_predicted\n",
    "     \n",
    "predicted_day = n_steps + step_ahead + 1\n",
    "\n",
    "plt.plot(reverse_transform(Y_valid_mult[0:num_samples, n_steps - 1, step_ahead]), \"r.-\", label = 'Original Views')\n",
    "plt.plot(reverse_transform(y_pred_mult_lstm2[0:num_samples, n_steps - 1, step_ahead]), \"gx-\", label = 'LSTM Predictions')\n",
    "\n",
    "plt.title('Page Views Predictions for ' + str(num_samples) + ' samples, for the day ' + str(predicted_day))\n",
    "plt.xlabel(\"Sample Topics\")\n",
    "plt.ylabel(\"Number of Views\")\n",
    "plt.legend(loc = 'best')"
   ]
  },
  {
   "cell_type": "code",
   "execution_count": null,
   "id": "dd147158",
   "metadata": {},
   "outputs": [],
   "source": []
  }
 ],
 "metadata": {
  "kernelspec": {
   "display_name": "Python 3",
   "language": "python",
   "name": "python3"
  },
  "language_info": {
   "codemirror_mode": {
    "name": "ipython",
    "version": 3
   },
   "file_extension": ".py",
   "mimetype": "text/x-python",
   "name": "python",
   "nbconvert_exporter": "python",
   "pygments_lexer": "ipython3",
   "version": "3.7.2"
  }
 },
 "nbformat": 4,
 "nbformat_minor": 5
}
