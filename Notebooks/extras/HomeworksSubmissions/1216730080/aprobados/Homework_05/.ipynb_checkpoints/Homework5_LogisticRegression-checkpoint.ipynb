{
 "cells": [
  {
   "cell_type": "code",
   "execution_count": 3,
   "metadata": {},
   "outputs": [
    {
     "name": "stdout",
     "output_type": "stream",
     "text": [
      "Populating the interactive namespace from numpy and matplotlib\n"
     ]
    }
   ],
   "source": [
    "%pylab inline\n",
    "import pandas as pd\n",
    "from sklearn.model_selection import train_test_split\n",
    "from sklearn.linear_model import LogisticRegression"
   ]
  },
  {
   "cell_type": "markdown",
   "metadata": {},
   "source": [
    "## Logistic Regression.\n",
    "\n",
    "Here we will use the Logistic Regression model to try to predict the digit in an image by passing it to the model. Later we will compare this way with the Neural Network model."
   ]
  },
  {
   "cell_type": "code",
   "execution_count": 5,
   "metadata": {},
   "outputs": [],
   "source": [
    "#loading the data.\n",
    "images=pd.read_csv(\"mnist_test.csv\")\n",
    "\n",
    "#converting to numpy array.\n",
    "images_np=images.to_numpy()"
   ]
  },
  {
   "cell_type": "code",
   "execution_count": 6,
   "metadata": {},
   "outputs": [],
   "source": [
    "#X data contains the pixels of the image.\n",
    "X_data=images.loc[:,\"1x1\":\"28x28\"].to_numpy()\n",
    "\n",
    "#y data contains the label of the image.\n",
    "y_data=images[\"label\"].to_numpy()"
   ]
  },
  {
   "cell_type": "markdown",
   "metadata": {},
   "source": [
    "After loading the data, we split it into tho sets: training and test set."
   ]
  },
  {
   "cell_type": "code",
   "execution_count": 7,
   "metadata": {},
   "outputs": [],
   "source": [
    "#Split data into training and test sets.\n",
    "X_train, X_test, y_train, y_test = train_test_split(X_data, \n",
    "                                                    y_data, \n",
    "                                                    test_size=0.2)"
   ]
  },
  {
   "cell_type": "markdown",
   "metadata": {},
   "source": [
    "Now, we create the model, since we want to classify into 10 classes we use the argument *multi_class*. Then we use our train set to fit."
   ]
  },
  {
   "cell_type": "code",
   "execution_count": 8,
   "metadata": {},
   "outputs": [
    {
     "data": {
      "text/plain": [
       "LogisticRegression(max_iter=8000)"
      ]
     },
     "execution_count": 8,
     "metadata": {},
     "output_type": "execute_result"
    }
   ],
   "source": [
    "logreg=LogisticRegression(multi_class='auto',max_iter=8000)\n",
    "logreg.fit(X_train, y_train)"
   ]
  },
  {
   "cell_type": "code",
   "execution_count": 9,
   "metadata": {},
   "outputs": [
    {
     "name": "stdout",
     "output_type": "stream",
     "text": [
      "Accuracy of Logistic regression classifier on training set: 1.00\n",
      "Accuracy of Logistic regression classifier on test set: 0.87\n"
     ]
    }
   ],
   "source": [
    "print(f'Accuracy of Logistic regression classifier on training set: {logreg.score(X_train, y_train):.2f}')\n",
    "print(f'Accuracy of Logistic regression classifier on test set: {logreg.score(X_test, y_test):.2f}')"
   ]
  },
  {
   "cell_type": "markdown",
   "metadata": {},
   "source": [
    "*logreg* is a class with some attributes, for instance, the classes where data is classified."
   ]
  },
  {
   "cell_type": "code",
   "execution_count": 10,
   "metadata": {},
   "outputs": [
    {
     "data": {
      "text/plain": [
       "array([0, 1, 2, 3, 4, 5, 6, 7, 8, 9], dtype=int64)"
      ]
     },
     "execution_count": 10,
     "metadata": {},
     "output_type": "execute_result"
    }
   ],
   "source": [
    "logreg.classes_"
   ]
  },
  {
   "cell_type": "markdown",
   "metadata": {},
   "source": [
    "Or, if we take a random sample from the test set..."
   ]
  },
  {
   "cell_type": "code",
   "execution_count": 11,
   "metadata": {},
   "outputs": [],
   "source": [
    "n_samples=np.random.randint(0,X_test.shape[0],16)"
   ]
  },
  {
   "cell_type": "markdown",
   "metadata": {},
   "source": [
    "The model could predict the category in which and image shoul go."
   ]
  },
  {
   "cell_type": "code",
   "execution_count": 12,
   "metadata": {},
   "outputs": [
    {
     "data": {
      "image/png": "[encoded data removed]",
      "text/plain": [
       "<matplotlib.figure.Figure at 0x2152124c048>"
      ]
     },
     "metadata": {},
     "output_type": "display_data"
    }
   ],
   "source": [
    "index=np.reshape(n_samples,(4,4))\n",
    "fig,ax=plt.subplots(4,4,figsize=(8,8))\n",
    "for i in range(0,index.shape[0]):\n",
    "    for j in range(0,index.shape[1]):\n",
    "        #the ij entry of this matrix is the random index of the image.\n",
    "        k=index[i,j]\n",
    "        \n",
    "        #converting the 1D array of pixels into a 2D array of 28x28 image.\n",
    "        b=X_test[k].reshape(28,28)\n",
    "        \n",
    "        #ploting the image.\n",
    "        ax[i,j].imshow(b)\n",
    "        title=\"Predicted:\"+str(logreg.predict(X_test[k].reshape(1, -1))[0])+\"  \"+\"Actual:\"+str(y_test[k])\n",
    "        ax[i,j].set_title(title)\n",
    "        ax[i,j].set_axis_off()\n",
    "        \n",
    "#setting the separation between subplots.        \n",
    "fig.tight_layout()"
   ]
  },
  {
   "cell_type": "markdown",
   "metadata": {},
   "source": [
    "After a few repetitions of the creating and training model process, I could notice that there were some images that this model does not classifyes well; $9$ and $4$ were the usual errors in the clasification, along with some cases of $2$ and $1$.\n",
    "\n",
    "Despite the errors, the Logstic Regression model worked well in the task of classification of these digits images."
   ]
  },
  {
   "cell_type": "code",
   "execution_count": null,
   "metadata": {},
   "outputs": [],
   "source": []
  }
 ],
 "metadata": {
  "kernelspec": {
   "display_name": "Python 3",
   "language": "python",
   "name": "python3"
  },
  "language_info": {
   "codemirror_mode": {
    "name": "ipython",
    "version": 3
   },
   "file_extension": ".py",
   "mimetype": "text/x-python",
   "name": "python",
   "nbconvert_exporter": "python",
   "pygments_lexer": "ipython3",
   "version": "3.6.4"
  }
 },
 "nbformat": 4,
 "nbformat_minor": 2
}
