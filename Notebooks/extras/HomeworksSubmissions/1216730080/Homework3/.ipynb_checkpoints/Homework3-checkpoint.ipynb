{
 "cells": [
  {
   "cell_type": "code",
   "execution_count": 1,
   "metadata": {},
   "outputs": [
    {
     "name": "stdout",
     "output_type": "stream",
     "text": [
      "Populating the interactive namespace from numpy and matplotlib\n"
     ]
    }
   ],
   "source": [
    "%pylab inline\n",
    "from scipy import optimize\n",
    "import pandas as pd\n",
    "\n",
    "data=pd.read_csv(\"data.csv\", header=None)"
   ]
  },
  {
   "cell_type": "markdown",
   "metadata": {},
   "source": [
    "### Cargando los datos."
   ]
  },
  {
   "cell_type": "code",
   "execution_count": 2,
   "metadata": {},
   "outputs": [],
   "source": [
    "X_data=data[0]\n",
    "y_data=data[1]"
   ]
  },
  {
   "cell_type": "code",
   "execution_count": 3,
   "metadata": {},
   "outputs": [
    {
     "data": {
      "text/plain": [
       "[<matplotlib.lines.Line2D at 0x7f31e057b518>]"
      ]
     },
     "execution_count": 3,
     "metadata": {},
     "output_type": "execute_result"
    },
    {
     "data": {
      "image/png": "[encoded data removed]",
      "text/plain": [
       "<Figure size 432x288 with 1 Axes>"
      ]
     },
     "metadata": {
      "needs_background": "light"
     },
     "output_type": "display_data"
    }
   ],
   "source": [
    "plt.plot(X_data,y_data,\"ro\")"
   ]
  },
  {
   "cell_type": "markdown",
   "metadata": {},
   "source": [
    "### Fitting using scipy.optimize"
   ]
  },
  {
   "cell_type": "code",
   "execution_count": 4,
   "metadata": {},
   "outputs": [],
   "source": [
    "def Linear(x,m,b):\n",
    "    return m*x+b\n",
    "\n",
    "guess=[10,10]\n",
    "\n",
    "params,cov=optimize.curve_fit(Linear,X_data,y_data,guess)"
   ]
  },
  {
   "cell_type": "code",
   "execution_count": 5,
   "metadata": {},
   "outputs": [
    {
     "data": {
      "text/plain": [
       "[<matplotlib.lines.Line2D at 0x7f31d84e86a0>]"
      ]
     },
     "execution_count": 5,
     "metadata": {},
     "output_type": "execute_result"
    },
    {
     "data": {
      "image/png": "[encoded data removed]",
      "text/plain": [
       "<Figure size 432x288 with 1 Axes>"
      ]
     },
     "metadata": {
      "needs_background": "light"
     },
     "output_type": "display_data"
    }
   ],
   "source": [
    "plt.plot(X_data,y_data,\"ro\")\n",
    "plt.plot(X_data,Linear(X_data,*params))"
   ]
  },
  {
   "cell_type": "markdown",
   "metadata": {},
   "source": [
    "### Fitting using Gradient Descent."
   ]
  },
  {
   "cell_type": "code",
   "execution_count": 6,
   "metadata": {},
   "outputs": [],
   "source": [
    "#Hypothesis function.\n",
    "def Hypothesis(θ,X):\n",
    "    return θ[1]*X+θ[0]\n",
    "\n",
    "#Error functions: MSE, MAE and MAPE.\n",
    "\n",
    "def MSE_func(θ,X,Y):\n",
    "    m=len(Y)\n",
    "    return 1/(2*m)*((Hypothesis(θ,X)-Y)@(Hypothesis(θ,X)-Y).T)\n",
    "\n",
    "def MAE_func(θ,X,Y):\n",
    "    m=len(Y)\n",
    "    return sum(abs(Hypothesis(θ,X)-Y))\n",
    "\n",
    "def MAPE_func(θ,X,Y):\n",
    "    m=len(Y)\n",
    "    return 100/m*abs(Hypothesis(θ,X)-Y)@abs(1/Y)\n",
    "\n",
    "\n",
    "#Jacobian of the error function J.\n",
    "def dJ(θ,X,Y):\n",
    "    m=len(Y)\n",
    "    dJ=1/m*np.array([sum(Hypothesis(θ,X)-Y),(Hypothesis(θ,X)-Y)@X.T])\n",
    "    return dJ"
   ]
  },
  {
   "cell_type": "code",
   "execution_count": 7,
   "metadata": {},
   "outputs": [],
   "source": [
    "θ_guess = [10,10]     # initial values of y=theta_1*x + theta_0  \n",
    "α = 0.0001            # The learning Rate  "
   ]
  },
  {
   "cell_type": "code",
   "execution_count": 8,
   "metadata": {},
   "outputs": [],
   "source": [
    "#Implementing Gradient Descent.\n",
    "def GradientDescent(X,Y,guess,lr,epochs=100):\n",
    "    \n",
    "    θ=guess\n",
    "    \n",
    "    #Arrays to store error function for each iteration.\n",
    "    MSE=[]\n",
    "    MAE=[]\n",
    "    MAPE=[]\n",
    "    \n",
    "\n",
    "    #Updating the θ parameters and error functions according to GD.\n",
    "    for i in range(epochs):\n",
    "        θ=θ-lr*dJ(θ,X,Y)\n",
    "        MSE.append(MSE_func(θ,X,Y))\n",
    "        MAE.append(MAE_func(θ,X,Y))\n",
    "        MAPE.append(MAPE_func(θ,X,Y))\n",
    "    return [θ,MSE,MAE,MAPE]"
   ]
  },
  {
   "cell_type": "code",
   "execution_count": 9,
   "metadata": {},
   "outputs": [],
   "source": [
    "GD_params,mse0,mae0,mape0=GradientDescent(X_data,y_data,θ_guess,α)"
   ]
  },
  {
   "cell_type": "code",
   "execution_count": 10,
   "metadata": {
    "scrolled": false
   },
   "outputs": [
    {
     "ename": "NameError",
     "evalue": "name 'epochs' is not defined",
     "output_type": "error",
     "traceback": [
      "\u001b[0;31m---------------------------------------------------------------------------\u001b[0m",
      "\u001b[0;31mNameError\u001b[0m                                 Traceback (most recent call last)",
      "\u001b[0;32m<ipython-input-10-0ac9492d019f>\u001b[0m in \u001b[0;36m<module>\u001b[0;34m\u001b[0m\n\u001b[0;32m----> 1\u001b[0;31m \u001b[0mt\u001b[0m\u001b[0;34m=\u001b[0m\u001b[0mnp\u001b[0m\u001b[0;34m.\u001b[0m\u001b[0mlinspace\u001b[0m\u001b[0;34m(\u001b[0m\u001b[0;36m0\u001b[0m\u001b[0;34m,\u001b[0m\u001b[0mepochs\u001b[0m\u001b[0;34m,\u001b[0m\u001b[0mnum\u001b[0m\u001b[0;34m=\u001b[0m\u001b[0mepochs\u001b[0m\u001b[0;34m)\u001b[0m\u001b[0;34m\u001b[0m\u001b[0;34m\u001b[0m\u001b[0m\n\u001b[0m\u001b[1;32m      2\u001b[0m \u001b[0;34m\u001b[0m\u001b[0m\n\u001b[1;32m      3\u001b[0m \u001b[0mfig\u001b[0m\u001b[0;34m,\u001b[0m\u001b[0max\u001b[0m\u001b[0;34m=\u001b[0m\u001b[0msubplots\u001b[0m\u001b[0;34m(\u001b[0m\u001b[0;36m2\u001b[0m\u001b[0;34m,\u001b[0m\u001b[0;36m2\u001b[0m\u001b[0;34m,\u001b[0m\u001b[0mfigsize\u001b[0m\u001b[0;34m=\u001b[0m\u001b[0;34m(\u001b[0m\u001b[0;36m9\u001b[0m\u001b[0;34m,\u001b[0m\u001b[0;36m9\u001b[0m\u001b[0;34m)\u001b[0m\u001b[0;34m)\u001b[0m\u001b[0;34m\u001b[0m\u001b[0;34m\u001b[0m\u001b[0m\n\u001b[1;32m      4\u001b[0m \u001b[0;34m\u001b[0m\u001b[0m\n\u001b[1;32m      5\u001b[0m \u001b[0max\u001b[0m\u001b[0;34m[\u001b[0m\u001b[0;36m0\u001b[0m\u001b[0;34m,\u001b[0m\u001b[0;36m0\u001b[0m\u001b[0;34m]\u001b[0m\u001b[0;34m.\u001b[0m\u001b[0mplot\u001b[0m\u001b[0;34m(\u001b[0m\u001b[0mX_data\u001b[0m\u001b[0;34m,\u001b[0m\u001b[0my_data\u001b[0m\u001b[0;34m,\u001b[0m\u001b[0;34m\"ro\"\u001b[0m\u001b[0;34m,\u001b[0m\u001b[0mlabel\u001b[0m\u001b[0;34m=\u001b[0m\u001b[0;34m\"Data\"\u001b[0m\u001b[0;34m)\u001b[0m\u001b[0;34m\u001b[0m\u001b[0;34m\u001b[0m\u001b[0m\n",
      "\u001b[0;31mNameError\u001b[0m: name 'epochs' is not defined"
     ]
    }
   ],
   "source": [
    "t=np.linspace(0,epochs,num=epochs)\n",
    "\n",
    "fig,ax=subplots(2,2,figsize=(9,9))\n",
    "\n",
    "ax[0,0].plot(X_data,y_data,\"ro\",label=\"Data\")\n",
    "ax[0,0].plot(X_data,Linear(X_data,*GD_params[::-1]),\"b\",label=\"Gradient Descent\")\n",
    "ax[0,0].plot(X_data,Linear(X_data,*params),\"g\",label=\"Curve_fit\")\n",
    "ax[0,0].set_xlabel(\"X_data\")\n",
    "ax[0,0].set_ylabel(\"y_data\")\n",
    "ax[0,0].legend()\n",
    "\n",
    "ax[0,1].plot(t,mse0)\n",
    "ax[0,1].set_xlabel(\"Epochs\")\n",
    "ax[0,1].set_ylabel(\"MSE\")\n",
    "\n",
    "ax[1,0].plot(t,mae0,\"y\")\n",
    "ax[1,0].set_xlabel(\"Epochs\")\n",
    "ax[1,0].set_ylabel(\"MAE\")\n",
    "\n",
    "ax[1,1].plot(t,mape0,\"k\")\n",
    "ax[1,1].set_xlabel(\"Epochs\")\n",
    "ax[1,1].set_ylabel(\"MAPE\")\n",
    "\n",
    "fig.tight_layout(pad=3)"
   ]
  },
  {
   "cell_type": "markdown",
   "metadata": {},
   "source": [
    "### Changing the learning rate $\\alpha$."
   ]
  },
  {
   "cell_type": "code",
   "execution_count": null,
   "metadata": {},
   "outputs": [],
   "source": [
    "# Array of different values of alpha.\n",
    "α_vect=np.array([2,3,4,5,6,7])/10000\n",
    "\n",
    "#COnverting the array into a matrix of 2x3.\n",
    "α_matx=α_vect.reshape(2,3)"
   ]
  },
  {
   "cell_type": "code",
   "execution_count": null,
   "metadata": {},
   "outputs": [],
   "source": [
    "fig2,ax2=subplots(2,3,figsize=(12,8))\n",
    "\n",
    "for i in range(2):\n",
    "    for j in range(3):\n",
    "        labl=\"Learning Rate = \"+str(α_matx[i,j])\n",
    "        ax2[i,j].plot(t,GradientDescent(X_data,y_data,θ_guess,α_matx[i,j])[1])\n",
    "        ax2[i,j].set_xlabel(\"Epochs\")\n",
    "        ax2[i,j].set_ylabel(\"MSE\")\n",
    "        ax2[i,j].set_title(labl)\n",
    "        \n",
    "fig2.tight_layout(pad=3.0)"
   ]
  },
  {
   "cell_type": "code",
   "execution_count": null,
   "metadata": {},
   "outputs": [],
   "source": [
    "# MH comments\n",
    "# notebook doesnt compile: NameError: name 'epochs' is not defined"
   ]
  }
 ],
 "metadata": {
  "kernelspec": {
   "display_name": "Python 3",
   "language": "python",
   "name": "python3"
  },
  "language_info": {
   "codemirror_mode": {
    "name": "ipython",
    "version": 3
   },
   "file_extension": ".py",
   "mimetype": "text/x-python",
   "name": "python",
   "nbconvert_exporter": "python",
   "pygments_lexer": "ipython3",
   "version": "3.7.2"
  }
 },
 "nbformat": 4,
 "nbformat_minor": 4
}
