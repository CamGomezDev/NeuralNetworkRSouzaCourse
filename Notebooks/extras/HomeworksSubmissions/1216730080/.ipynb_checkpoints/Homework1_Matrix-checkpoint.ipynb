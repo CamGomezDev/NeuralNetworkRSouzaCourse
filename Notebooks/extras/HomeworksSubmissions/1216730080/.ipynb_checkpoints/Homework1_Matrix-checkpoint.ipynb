{
 "cells": [
  {
   "cell_type": "code",
   "execution_count": 38,
   "metadata": {},
   "outputs": [],
   "source": [
    "def Mdot(A,B,in_order=True):\n",
    "    \"\"\"\n",
    "    This function computes the product AB of two compatible matrices in the given order.\n",
    "    \n",
    "    Parameters\n",
    "    ----------\n",
    "    \n",
    "    A : array-like\n",
    "        The first matrix to compute the multiplication.\n",
    "    \n",
    "    B : array-like\n",
    "        The second matrix to compute the multiplication.\n",
    "        \n",
    "    in_order : bool, optional\n",
    "        If True, the order in operation is A times B, else the order is B times A.\n",
    "        Default is True.\n",
    "    \n",
    "    Return\n",
    "    ------\n",
    "    \n",
    "    C : array-like\n",
    "        Result of the multiplication of matrices A and B.\n",
    "    \"\"\"\n",
    "    if in_order==True:\n",
    "        if shape(A)[1]!=shape(B)[0]:\n",
    "            raise Exception(\"Matrix are not compatible. Trying to multiply \"+str(shape(A))+\"x\"+str(shape(B)))\n",
    "        else:\n",
    "            C=[]\n",
    "            \"\"\"\n",
    "            Since a matrix in Python is an array of arrays, one can perform the multiplication by\n",
    "            filling first each row with its respective elementes, then construct the result by \n",
    "            grouping the rows in an array.\n",
    "            \"\"\"\n",
    "            for i in range (0,shape(A)[0]):\n",
    "                #i-th row of the result.\n",
    "                ci=[]\n",
    "                for j in range(0,shape(B)[1]):\n",
    "                    cij=0\n",
    "                    for k in range(0,shape(A)[1]):\n",
    "                        #This is the ij element of C.\n",
    "                        cij+=A[i][k]*B[k][j]\n",
    "                    #Fill each row first. \n",
    "                    ci.append(cij)\n",
    "                #Each row is put in the result array.      \n",
    "                C.append(ci)\n",
    "    else:\n",
    "        if shape(B)[1]!=shape(A)[0]:\n",
    "            raise Exception(\"Matrix are not compatible. Trying to multiply \"+str(shape(B))+\"x\"+str(shape(A)))\n",
    "        else:\n",
    "            C=[]\n",
    "            \"\"\"\n",
    "            Since a matrix in Python is an array of arrays, one can perform the multiplication by\n",
    "            filling first each row with its respective elementes, then construct the result by \n",
    "            grouping the rows in an array.\n",
    "            \"\"\"\n",
    "            for i in range (0,shape(B)[0]):\n",
    "                #i-th row of the result.\n",
    "                ci=[]\n",
    "                for j in range(0,shape(A)[1]):\n",
    "                    cij=0\n",
    "                    for k in range(0,shape(B)[1]):\n",
    "                        #This is the ij element of C.\n",
    "                        cij+=B[i][k]*A[k][j]\n",
    "                    #Fill each row first. \n",
    "                    ci.append(cij)\n",
    "                #Each row is put in the result array.      \n",
    "                C.append(ci)\n",
    "        \n",
    "    return C"
   ]
  },
  {
   "cell_type": "code",
   "execution_count": 1,
   "metadata": {},
   "outputs": [
    {
     "name": "stdout",
     "output_type": "stream",
     "text": [
      "Populating the interactive namespace from numpy and matplotlib\n"
     ]
    }
   ],
   "source": [
    "%pylab inline"
   ]
  },
  {
   "cell_type": "code",
   "execution_count": 2,
   "metadata": {},
   "outputs": [],
   "source": [
    "#Example.\n",
    "A=[[0,1],[1,2]]\n",
    "B=[[0,0,1],[-1,2,1]]"
   ]
  },
  {
   "cell_type": "code",
   "execution_count": 43,
   "metadata": {},
   "outputs": [
    {
     "data": {
      "text/plain": [
       "[[-1, 2, 1], [-2, 4, 3]]"
      ]
     },
     "execution_count": 43,
     "metadata": {},
     "output_type": "execute_result"
    }
   ],
   "source": [
    "#Calculating AB=C\n",
    "Mdot(A,B)"
   ]
  },
  {
   "cell_type": "code",
   "execution_count": 22,
   "metadata": {},
   "outputs": [
    {
     "data": {
      "text/plain": [
       "array([[-1,  2,  1],\n",
       "       [-2,  4,  3]])"
      ]
     },
     "execution_count": 22,
     "metadata": {},
     "output_type": "execute_result"
    }
   ],
   "source": [
    "#Comparing with numpy result.\n",
    "np.array(A)@np.array(B)"
   ]
  },
  {
   "cell_type": "code",
   "execution_count": 41,
   "metadata": {},
   "outputs": [
    {
     "data": {
      "text/plain": [
       "[[-1, 2, 1], [-2, 4, 3]]"
      ]
     },
     "execution_count": 41,
     "metadata": {},
     "output_type": "execute_result"
    }
   ],
   "source": [
    "#Application of in_order, the result is AB, although the matrices are given in the order BA;\n",
    "#since in_order is False, the real order to the product is AB not BA.\n",
    "Mdot(B,A,in_order=False)"
   ]
  }
 ],
 "metadata": {
  "kernelspec": {
   "display_name": "Python 3",
   "language": "python",
   "name": "python3"
  },
  "language_info": {
   "codemirror_mode": {
    "name": "ipython",
    "version": 3
   },
   "file_extension": ".py",
   "mimetype": "text/x-python",
   "name": "python",
   "nbconvert_exporter": "python",
   "pygments_lexer": "ipython3",
   "version": "3.7.1"
  }
 },
 "nbformat": 4,
 "nbformat_minor": 4
}
