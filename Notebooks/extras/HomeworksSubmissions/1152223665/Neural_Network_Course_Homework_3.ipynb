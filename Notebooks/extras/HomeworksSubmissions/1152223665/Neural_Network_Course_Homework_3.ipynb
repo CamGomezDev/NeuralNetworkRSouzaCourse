{
  "nbformat": 4,
  "nbformat_minor": 0,
  "metadata": {
    "colab": {
      "name": "Neural_Network_Course_Homework_3.ipynb",
      "provenance": []
    },
    "kernelspec": {
      "name": "python3",
      "display_name": "Python 3"
    },
    "language_info": {
      "name": "python"
    }
  },
  "cells": [
    {
      "cell_type": "markdown",
      "source": [
        "# **Samuel Vasco Vasco González**  Cc. 1152223665"
      ],
      "metadata": {
        "id": "Lcbl3x5jDJxY"
      }
    },
    {
      "cell_type": "code",
      "execution_count": 1,
      "metadata": {
        "colab": {
          "base_uri": "https://localhost:8080/"
        },
        "id": "XI07ripUVEHE",
        "outputId": "b08bb0ae-7c31-46b4-fd3c-cea8882723a2"
      },
      "outputs": [
        {
          "output_type": "stream",
          "name": "stdout",
          "text": [
            "Drive already mounted at /content/drive; to attempt to forcibly remount, call drive.mount(\"/content/drive\", force_remount=True).\n"
          ]
        }
      ],
      "source": [
        "from google.colab import drive\n",
        "drive.mount('/content/drive')"
      ]
    },
    {
      "cell_type": "code",
      "source": [
        "%pylab inline\n",
        "import pandas as pd\n",
        "from scipy.optimize import curve_fit"
      ],
      "metadata": {
        "colab": {
          "base_uri": "https://localhost:8080/"
        },
        "id": "0XN3ULXgXdO-",
        "outputId": "872a4ce6-c1ff-41c6-a929-a0f25f4cffad"
      },
      "execution_count": 2,
      "outputs": [
        {
          "output_type": "stream",
          "name": "stdout",
          "text": [
            "Populating the interactive namespace from numpy and matplotlib\n"
          ]
        }
      ]
    },
    {
      "cell_type": "code",
      "source": [
        "#import and show dataset\n",
        "data=pd.read_csv('/content/drive/MyDrive/Colab Notebooks/Neural_Network_Course/Homework 3/data.csv',header=None)\n",
        "data.columns=[\"X\",\"y\"]\n",
        "data"
      ],
      "metadata": {
        "colab": {
          "base_uri": "https://localhost:8080/",
          "height": 423
        },
        "id": "dZjkHi-QXOlU",
        "outputId": "33def3cd-b967-42e2-fc89-5011d4b218b7"
      },
      "execution_count": 3,
      "outputs": [
        {
          "output_type": "execute_result",
          "data": {
            "text/html": [
              "\n",
              "  <div id=\"df-cd199299-48ca-4139-ae2f-94663e255dc0\">\n",
              "    <div class=\"colab-df-container\">\n",
              "      <div>\n",
              "<style scoped>\n",
              "    .dataframe tbody tr th:only-of-type {\n",
              "        vertical-align: middle;\n",
              "    }\n",
              "\n",
              "    .dataframe tbody tr th {\n",
              "        vertical-align: top;\n",
              "    }\n",
              "\n",
              "    .dataframe thead th {\n",
              "        text-align: right;\n",
              "    }\n",
              "</style>\n",
              "<table border=\"1\" class=\"dataframe\">\n",
              "  <thead>\n",
              "    <tr style=\"text-align: right;\">\n",
              "      <th></th>\n",
              "      <th>X</th>\n",
              "      <th>y</th>\n",
              "    </tr>\n",
              "  </thead>\n",
              "  <tbody>\n",
              "    <tr>\n",
              "      <th>0</th>\n",
              "      <td>32.502345</td>\n",
              "      <td>31.707006</td>\n",
              "    </tr>\n",
              "    <tr>\n",
              "      <th>1</th>\n",
              "      <td>53.426804</td>\n",
              "      <td>68.777596</td>\n",
              "    </tr>\n",
              "    <tr>\n",
              "      <th>2</th>\n",
              "      <td>61.530358</td>\n",
              "      <td>62.562382</td>\n",
              "    </tr>\n",
              "    <tr>\n",
              "      <th>3</th>\n",
              "      <td>47.475640</td>\n",
              "      <td>71.546632</td>\n",
              "    </tr>\n",
              "    <tr>\n",
              "      <th>4</th>\n",
              "      <td>59.813208</td>\n",
              "      <td>87.230925</td>\n",
              "    </tr>\n",
              "    <tr>\n",
              "      <th>...</th>\n",
              "      <td>...</td>\n",
              "      <td>...</td>\n",
              "    </tr>\n",
              "    <tr>\n",
              "      <th>95</th>\n",
              "      <td>50.030174</td>\n",
              "      <td>81.536991</td>\n",
              "    </tr>\n",
              "    <tr>\n",
              "      <th>96</th>\n",
              "      <td>49.239765</td>\n",
              "      <td>72.111832</td>\n",
              "    </tr>\n",
              "    <tr>\n",
              "      <th>97</th>\n",
              "      <td>50.039576</td>\n",
              "      <td>85.232007</td>\n",
              "    </tr>\n",
              "    <tr>\n",
              "      <th>98</th>\n",
              "      <td>48.149859</td>\n",
              "      <td>66.224958</td>\n",
              "    </tr>\n",
              "    <tr>\n",
              "      <th>99</th>\n",
              "      <td>25.128485</td>\n",
              "      <td>53.454394</td>\n",
              "    </tr>\n",
              "  </tbody>\n",
              "</table>\n",
              "<p>100 rows × 2 columns</p>\n",
              "</div>\n",
              "      <button class=\"colab-df-convert\" onclick=\"convertToInteractive('df-cd199299-48ca-4139-ae2f-94663e255dc0')\"\n",
              "              title=\"Convert this dataframe to an interactive table.\"\n",
              "              style=\"display:none;\">\n",
              "        \n",
              "  <svg xmlns=\"http://www.w3.org/2000/svg\" height=\"24px\"viewBox=\"0 0 24 24\"\n",
              "       width=\"24px\">\n",
              "    <path d=\"M0 0h24v24H0V0z\" fill=\"none\"/>\n",
              "    <path d=\"M18.56 5.44l.94 2.06.94-2.06 2.06-.94-2.06-.94-.94-2.06-.94 2.06-2.06.94zm-11 1L8.5 8.5l.94-2.06 2.06-.94-2.06-.94L8.5 2.5l-.94 2.06-2.06.94zm10 10l.94 2.06.94-2.06 2.06-.94-2.06-.94-.94-2.06-.94 2.06-2.06.94z\"/><path d=\"M17.41 7.96l-1.37-1.37c-.4-.4-.92-.59-1.43-.59-.52 0-1.04.2-1.43.59L10.3 9.45l-7.72 7.72c-.78.78-.78 2.05 0 2.83L4 21.41c.39.39.9.59 1.41.59.51 0 1.02-.2 1.41-.59l7.78-7.78 2.81-2.81c.8-.78.8-2.07 0-2.86zM5.41 20L4 18.59l7.72-7.72 1.47 1.35L5.41 20z\"/>\n",
              "  </svg>\n",
              "      </button>\n",
              "      \n",
              "  <style>\n",
              "    .colab-df-container {\n",
              "      display:flex;\n",
              "      flex-wrap:wrap;\n",
              "      gap: 12px;\n",
              "    }\n",
              "\n",
              "    .colab-df-convert {\n",
              "      background-color: #E8F0FE;\n",
              "      border: none;\n",
              "      border-radius: 50%;\n",
              "      cursor: pointer;\n",
              "      display: none;\n",
              "      fill: #1967D2;\n",
              "      height: 32px;\n",
              "      padding: 0 0 0 0;\n",
              "      width: 32px;\n",
              "    }\n",
              "\n",
              "    .colab-df-convert:hover {\n",
              "      background-color: #E2EBFA;\n",
              "      box-shadow: 0px 1px 2px rgba(60, 64, 67, 0.3), 0px 1px 3px 1px rgba(60, 64, 67, 0.15);\n",
              "      fill: #174EA6;\n",
              "    }\n",
              "\n",
              "    [theme=dark] .colab-df-convert {\n",
              "      background-color: #3B4455;\n",
              "      fill: #D2E3FC;\n",
              "    }\n",
              "\n",
              "    [theme=dark] .colab-df-convert:hover {\n",
              "      background-color: #434B5C;\n",
              "      box-shadow: 0px 1px 3px 1px rgba(0, 0, 0, 0.15);\n",
              "      filter: drop-shadow(0px 1px 2px rgba(0, 0, 0, 0.3));\n",
              "      fill: #FFFFFF;\n",
              "    }\n",
              "  </style>\n",
              "\n",
              "      <script>\n",
              "        const buttonEl =\n",
              "          document.querySelector('#df-cd199299-48ca-4139-ae2f-94663e255dc0 button.colab-df-convert');\n",
              "        buttonEl.style.display =\n",
              "          google.colab.kernel.accessAllowed ? 'block' : 'none';\n",
              "\n",
              "        async function convertToInteractive(key) {\n",
              "          const element = document.querySelector('#df-cd199299-48ca-4139-ae2f-94663e255dc0');\n",
              "          const dataTable =\n",
              "            await google.colab.kernel.invokeFunction('convertToInteractive',\n",
              "                                                     [key], {});\n",
              "          if (!dataTable) return;\n",
              "\n",
              "          const docLinkHtml = 'Like what you see? Visit the ' +\n",
              "            '<a target=\"_blank\" href=https://colab.research.google.com/notebooks/data_table.ipynb>data table notebook</a>'\n",
              "            + ' to learn more about interactive tables.';\n",
              "          element.innerHTML = '';\n",
              "          dataTable['output_type'] = 'display_data';\n",
              "          await google.colab.output.renderOutput(dataTable, element);\n",
              "          const docLink = document.createElement('div');\n",
              "          docLink.innerHTML = docLinkHtml;\n",
              "          element.appendChild(docLink);\n",
              "        }\n",
              "      </script>\n",
              "    </div>\n",
              "  </div>\n",
              "  "
            ],
            "text/plain": [
              "            X          y\n",
              "0   32.502345  31.707006\n",
              "1   53.426804  68.777596\n",
              "2   61.530358  62.562382\n",
              "3   47.475640  71.546632\n",
              "4   59.813208  87.230925\n",
              "..        ...        ...\n",
              "95  50.030174  81.536991\n",
              "96  49.239765  72.111832\n",
              "97  50.039576  85.232007\n",
              "98  48.149859  66.224958\n",
              "99  25.128485  53.454394\n",
              "\n",
              "[100 rows x 2 columns]"
            ]
          },
          "metadata": {},
          "execution_count": 3
        }
      ]
    },
    {
      "cell_type": "markdown",
      "source": [
        "## We go to implement numerically gradient descent whit 100 iterations on the \"data.csv\" which represent some linear regression problem (fitting).\n",
        "\n",
        "The parameters are:\n",
        "\n",
        "* $\\theta_1 = 10$      initial values of $y=\\theta_1*x + \\theta_0$  \n",
        "* $\\theta_0 = 10$        \n",
        "* $\\alpha = 0.0001$    The learning Rate  \n",
        "* $epochs = 100$      The number of iterations\n",
        "\n",
        "After finding the optimal $\\theta_0$ and $\\theta_1$ that minimized the MSE function.\n",
        "\n",
        "Hypotesis: $$h_\\theta(x)=\\theta_1x+\\theta_0$$\n",
        "\n",
        "Ecuation of recurrency for $\\theta$'s:\n",
        "\n",
        "$$ \\theta_0:=\\theta_0 -\\alpha \\frac{1}{m} \\sum_{i=1}^{m}[ h_{\\theta}(x_i) - y_i]$$\n",
        "\n",
        "$$ \\theta_1:=\\theta_1 - \\alpha \\frac{1}{m} \\sum_{i=1}^{m}\\left[ h_{\\theta}(x_i) - y_i\\right] x_i$$\n",
        "\n",
        "The loss functions that we use are: \n",
        "\n",
        "$$MSE = \\frac{1}{m} \\sum_{i=1}^{m}[y_i - h_{\\theta}(x_i)]^2$$\n",
        "\n",
        "$$MAE = \\frac{1}{m} \\sum_{i=1}^{m}|y_i - h_{\\theta}(x_i)| $$\n",
        "\n",
        "$$MAPE = \\frac{100}{m} \\sum_{i=1}^{m} \\left|\\frac{y_i - h_{\\theta}(x_i)}{y_i}\\right| $$\n",
        "\n",
        "Where $h_{\\theta}(x_i)$ is the value predicted by model or $y_{pred}$. "
      ],
      "metadata": {
        "id": "_wyK7zHJdwB9"
      }
    },
    {
      "cell_type": "code",
      "source": [
        "def Gradient_descent_plus(X,y,alpha,theta0,theta1,epochs):\n",
        "  iterations=np.arange(epochs)\n",
        "  m=len(X)\n",
        "  MSE=[]\n",
        "  MAE=[]\n",
        "  MAPE=[]\n",
        "  for i in iterations:\n",
        "    pred=theta1*X+theta0\n",
        "\n",
        "    mse=1/m*np.sum((y-pred)**2)\n",
        "    mae=1/m*np.sum(np.abs(y-pred))\n",
        "    mape=100/m*np.sum(np.abs((y-pred)/y))\n",
        "\n",
        "    MSE.append(mse)\n",
        "    MAE.append(mae)\n",
        "    MAPE.append(mape)\n",
        "\n",
        "    theta0=theta0-alpha/m*np.sum(pred-y)\n",
        "    theta1=theta1-alpha/m*np.sum((pred-y)*X)\n",
        "  \n",
        "  return theta0,theta1,MSE,MAE,MAPE\n",
        "\n",
        "X=data[\"X\"].values\n",
        "y=data[\"y\"].values\n",
        "theta0=10\n",
        "theta1=10\n",
        "alpha=0.0001\n",
        "epochs=100\n",
        "\n",
        "theta0_1,theta1_1,MSE1,MAE1,MAPE1= Gradient_descent_plus(X,y,alpha,theta0,theta1,epochs)\n",
        "\n",
        "alpha=0.0007\n",
        "\n",
        "theta0_2,theta1_2,MSE2,MAE2,MAPE2= Gradient_descent_plus(X,y,alpha,theta0,theta1,epochs)\n",
        "\n",
        "X_fit=np.linspace(np.min(X),np.max(X),100)\n",
        "y_fit1=theta1_1*X_fit + theta0_1\n",
        "\n",
        "y_fit2=theta1_2*X_fit + theta0_2\n",
        "\n",
        "def f(x,theta1,theta0):\n",
        "  return theta1*x + theta0\n",
        "param, cov = curve_fit(f, X, y)\n",
        "\n",
        "fig, axs = plt.subplots(2, 2)\n",
        "fig=figsize(12,11)\n",
        "iterations=np.arange(epochs)\n",
        "axs[0,0].plot(X,y,\"bo\",label=\"Data\")\n",
        "axs[0,0].plot(X_fit,y_fit1,\"k--\" ,linewidth=3.5, label=\"Gradient Descent Alpha=0.0001\")\n",
        "axs[0,0].plot(X_fit,y_fit2,\"y--\" ,linewidth=1.5, label=\"Gradient Descent Alpha=0.0007\")\n",
        "axs[0,0].plot(X_fit,f(X_fit,param[0],param[1]),\"r\",label=\"Curve Fit\")\n",
        "axs[0,0].set_xlabel(\"X\")\n",
        "axs[0,0].set_ylabel(\"y\")\n",
        "axs[0,0].legend()\n",
        "axs[0,1].plot(iterations,MSE1,\"bs\" ,linewidth=2, label=\"MSE Alpha=0.0001\")\n",
        "axs[0,1].plot(iterations,MSE2,\"r--\" ,linewidth=2, label=\"MSE Alpha=0.0007\")\n",
        "axs[0,1].set_xlabel(\"Number of iteration\")\n",
        "axs[0,1].set_ylabel(\"MSE\")\n",
        "axs[0,1].set_title(\"MSE\")\n",
        "axs[0,1].legend()\n",
        "axs[1,0].plot(iterations,MAE1,\"bs\" ,linewidth=2, label=\"MAE Alpha=0.0001\")\n",
        "axs[1,0].plot(iterations,MAE2,\"r--\" ,linewidth=2, label=\"MAE Alpha=0.0007\")\n",
        "axs[1,0].set_xlabel(\"Number of iteration\")\n",
        "axs[1,0].set_ylabel(\"MAE\")\n",
        "axs[1,0].set_title(\"MAE\")\n",
        "axs[1,0].legend()\n",
        "axs[1,1].plot(iterations,MAPE1,\"bs\" ,linewidth=2, label=\"MAPE Alpha=0.0001\")\n",
        "axs[1,1].plot(iterations,MAPE2,\"r--\" ,linewidth=2, label=\"MAPE Alpha=0.0007\")\n",
        "axs[1,1].set_xlabel(\"Number of iteration\")\n",
        "axs[1,1].set_ylabel(\"MAPE\")\n",
        "axs[1,1].set_title(\"MAPE\")\n",
        "axs[1,1].legend()\n",
        "\n",
        "print(\"The values of parameters using Descent Gradient and Curve Fit are: \\n\")\n",
        "print(\"Descent Gradient Alpha=0.0001 \\n theta_0= {:.5} \\n theta_1= {:.5} \\n\".format(theta0_1,theta1_1))\n",
        "print(\"Descent Gradient Alpha=0.0007 \\n theta_0= {:.5} \\n theta_1= {:.5} \\n\".format(theta0_2,theta1_2))\n",
        "print(\"Curve Fit \\n theta_0= {:.5} \\n theta_1= {:.5}\".format(param[1],param[0]))\n"
      ],
      "metadata": {
        "colab": {
          "base_uri": "https://localhost:8080/",
          "height": 902
        },
        "id": "t-IL8ThZoVLy",
        "outputId": "7de4f97b-edac-4624-dc98-cf5f32ed8af4"
      },
      "execution_count": 6,
      "outputs": [
        {
          "output_type": "stream",
          "name": "stdout",
          "text": [
            "The values of parameters using Descent Gradient and Curve Fit are: \n",
            "\n",
            "Descent Gradient Alpha=0.0001 \n",
            " theta_0= 9.828 \n",
            " theta_1= 1.2863 \n",
            "\n",
            "Descent Gradient Alpha=0.0007 \n",
            " theta_0= 9.8239 \n",
            " theta_1= 1.2864 \n",
            "\n",
            "Curve Fit \n",
            " theta_0= 7.991 \n",
            " theta_1= 1.3224\n"
          ]
        },
        {
          "output_type": "display_data",
          "data": {
            "image/png": "[encoded data removed]",
            "text/plain": [
              "<Figure size 864x792 with 4 Axes>"
            ]
          },
          "metadata": {
            "needs_background": "light"
          }
        }
      ]
    }
  ]
}