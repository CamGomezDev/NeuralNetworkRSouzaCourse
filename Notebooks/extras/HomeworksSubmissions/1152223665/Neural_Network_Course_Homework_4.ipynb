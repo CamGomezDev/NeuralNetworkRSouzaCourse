{
  "nbformat": 4,
  "nbformat_minor": 0,
  "metadata": {
    "colab": {
      "name": "Neural_Network_Course_Homework_4.ipynb",
      "provenance": [],
      "collapsed_sections": []
    },
    "kernelspec": {
      "name": "python3",
      "display_name": "Python 3"
    },
    "language_info": {
      "name": "python"
    }
  },
  "cells": [
    {
      "cell_type": "markdown",
      "source": [
        "# **Samuel Vasco Vasco González**  Cc. 1152223665"
      ],
      "metadata": {
        "id": "a7l8qVnl1HyO"
      }
    },
    {
      "cell_type": "code",
      "execution_count": 1,
      "metadata": {
        "id": "CMj-yM6_aj6l",
        "colab": {
          "base_uri": "https://localhost:8080/"
        },
        "outputId": "02fbcc35-7324-4742-9362-d497c43f8734"
      },
      "outputs": [
        {
          "output_type": "stream",
          "name": "stdout",
          "text": [
            "Mounted at /content/drive\n"
          ]
        }
      ],
      "source": [
        "from google.colab import drive\n",
        "drive.mount('/content/drive')"
      ]
    },
    {
      "cell_type": "code",
      "source": [
        "#lybraries\n",
        "%pylab inline\n",
        "import pandas as pd\n",
        "from mpl_toolkits import mplot3d\n",
        "from sklearn.preprocessing import StandardScaler\n",
        "from sklearn.model_selection import train_test_split\n",
        "from sklearn.linear_model import LinearRegression\n",
        "from sklearn.metrics import mean_absolute_percentage_error\n",
        "from sklearn.metrics import mean_absolute_error\n",
        "from tabulate import tabulate"
      ],
      "metadata": {
        "colab": {
          "base_uri": "https://localhost:8080/"
        },
        "id": "HTvaEWiuc3rz",
        "outputId": "b10783ba-3818-4855-be5e-e39702c7f513"
      },
      "execution_count": 16,
      "outputs": [
        {
          "output_type": "stream",
          "name": "stdout",
          "text": [
            "Populating the interactive namespace from numpy and matplotlib\n"
          ]
        },
        {
          "output_type": "stream",
          "name": "stderr",
          "text": [
            "/usr/local/lib/python3.7/dist-packages/IPython/core/magics/pylab.py:161: UserWarning: pylab import has clobbered these variables: ['random']\n",
            "`%matplotlib` prevents importing * from pylab and numpy\n",
            "  \"\\n`%matplotlib` prevents importing * from pylab and numpy\"\n"
          ]
        }
      ]
    },
    {
      "cell_type": "code",
      "source": [
        "data=pd.read_csv(\"/content/drive/MyDrive/Colab Notebooks/Neural_Network_Course/Homework 4/FuelConsumption.csv\")\n",
        "data"
      ],
      "metadata": {
        "colab": {
          "base_uri": "https://localhost:8080/",
          "height": 626
        },
        "id": "pkLYQwmsc6gD",
        "outputId": "a3f9b259-d442-476d-8e38-299f601dcdd9"
      },
      "execution_count": 3,
      "outputs": [
        {
          "output_type": "execute_result",
          "data": {
            "text/html": [
              "\n",
              "  <div id=\"df-0e391ff7-a657-495d-9501-fbc3f75ccb8e\">\n",
              "    <div class=\"colab-df-container\">\n",
              "      <div>\n",
              "<style scoped>\n",
              "    .dataframe tbody tr th:only-of-type {\n",
              "        vertical-align: middle;\n",
              "    }\n",
              "\n",
              "    .dataframe tbody tr th {\n",
              "        vertical-align: top;\n",
              "    }\n",
              "\n",
              "    .dataframe thead th {\n",
              "        text-align: right;\n",
              "    }\n",
              "</style>\n",
              "<table border=\"1\" class=\"dataframe\">\n",
              "  <thead>\n",
              "    <tr style=\"text-align: right;\">\n",
              "      <th></th>\n",
              "      <th>MODELYEAR</th>\n",
              "      <th>MAKE</th>\n",
              "      <th>MODEL</th>\n",
              "      <th>VEHICLECLASS</th>\n",
              "      <th>ENGINESIZE</th>\n",
              "      <th>CYLINDERS</th>\n",
              "      <th>TRANSMISSION</th>\n",
              "      <th>FUELTYPE</th>\n",
              "      <th>FUELCONSUMPTION_CITY</th>\n",
              "      <th>FUELCONSUMPTION_HWY</th>\n",
              "      <th>FUELCONSUMPTION_COMB</th>\n",
              "      <th>FUELCONSUMPTION_COMB_MPG</th>\n",
              "      <th>CO2EMISSIONS</th>\n",
              "    </tr>\n",
              "  </thead>\n",
              "  <tbody>\n",
              "    <tr>\n",
              "      <th>0</th>\n",
              "      <td>2014</td>\n",
              "      <td>ACURA</td>\n",
              "      <td>ILX</td>\n",
              "      <td>COMPACT</td>\n",
              "      <td>2.0</td>\n",
              "      <td>4</td>\n",
              "      <td>AS5</td>\n",
              "      <td>Z</td>\n",
              "      <td>9.9</td>\n",
              "      <td>6.7</td>\n",
              "      <td>8.5</td>\n",
              "      <td>33</td>\n",
              "      <td>196</td>\n",
              "    </tr>\n",
              "    <tr>\n",
              "      <th>1</th>\n",
              "      <td>2014</td>\n",
              "      <td>ACURA</td>\n",
              "      <td>ILX</td>\n",
              "      <td>COMPACT</td>\n",
              "      <td>2.4</td>\n",
              "      <td>4</td>\n",
              "      <td>M6</td>\n",
              "      <td>Z</td>\n",
              "      <td>11.2</td>\n",
              "      <td>7.7</td>\n",
              "      <td>9.6</td>\n",
              "      <td>29</td>\n",
              "      <td>221</td>\n",
              "    </tr>\n",
              "    <tr>\n",
              "      <th>2</th>\n",
              "      <td>2014</td>\n",
              "      <td>ACURA</td>\n",
              "      <td>ILX HYBRID</td>\n",
              "      <td>COMPACT</td>\n",
              "      <td>1.5</td>\n",
              "      <td>4</td>\n",
              "      <td>AV7</td>\n",
              "      <td>Z</td>\n",
              "      <td>6.0</td>\n",
              "      <td>5.8</td>\n",
              "      <td>5.9</td>\n",
              "      <td>48</td>\n",
              "      <td>136</td>\n",
              "    </tr>\n",
              "    <tr>\n",
              "      <th>3</th>\n",
              "      <td>2014</td>\n",
              "      <td>ACURA</td>\n",
              "      <td>MDX 4WD</td>\n",
              "      <td>SUV - SMALL</td>\n",
              "      <td>3.5</td>\n",
              "      <td>6</td>\n",
              "      <td>AS6</td>\n",
              "      <td>Z</td>\n",
              "      <td>12.7</td>\n",
              "      <td>9.1</td>\n",
              "      <td>11.1</td>\n",
              "      <td>25</td>\n",
              "      <td>255</td>\n",
              "    </tr>\n",
              "    <tr>\n",
              "      <th>4</th>\n",
              "      <td>2014</td>\n",
              "      <td>ACURA</td>\n",
              "      <td>RDX AWD</td>\n",
              "      <td>SUV - SMALL</td>\n",
              "      <td>3.5</td>\n",
              "      <td>6</td>\n",
              "      <td>AS6</td>\n",
              "      <td>Z</td>\n",
              "      <td>12.1</td>\n",
              "      <td>8.7</td>\n",
              "      <td>10.6</td>\n",
              "      <td>27</td>\n",
              "      <td>244</td>\n",
              "    </tr>\n",
              "    <tr>\n",
              "      <th>...</th>\n",
              "      <td>...</td>\n",
              "      <td>...</td>\n",
              "      <td>...</td>\n",
              "      <td>...</td>\n",
              "      <td>...</td>\n",
              "      <td>...</td>\n",
              "      <td>...</td>\n",
              "      <td>...</td>\n",
              "      <td>...</td>\n",
              "      <td>...</td>\n",
              "      <td>...</td>\n",
              "      <td>...</td>\n",
              "      <td>...</td>\n",
              "    </tr>\n",
              "    <tr>\n",
              "      <th>1062</th>\n",
              "      <td>2014</td>\n",
              "      <td>VOLVO</td>\n",
              "      <td>XC60 AWD</td>\n",
              "      <td>SUV - SMALL</td>\n",
              "      <td>3.0</td>\n",
              "      <td>6</td>\n",
              "      <td>AS6</td>\n",
              "      <td>X</td>\n",
              "      <td>13.4</td>\n",
              "      <td>9.8</td>\n",
              "      <td>11.8</td>\n",
              "      <td>24</td>\n",
              "      <td>271</td>\n",
              "    </tr>\n",
              "    <tr>\n",
              "      <th>1063</th>\n",
              "      <td>2014</td>\n",
              "      <td>VOLVO</td>\n",
              "      <td>XC60 AWD</td>\n",
              "      <td>SUV - SMALL</td>\n",
              "      <td>3.2</td>\n",
              "      <td>6</td>\n",
              "      <td>AS6</td>\n",
              "      <td>X</td>\n",
              "      <td>13.2</td>\n",
              "      <td>9.5</td>\n",
              "      <td>11.5</td>\n",
              "      <td>25</td>\n",
              "      <td>264</td>\n",
              "    </tr>\n",
              "    <tr>\n",
              "      <th>1064</th>\n",
              "      <td>2014</td>\n",
              "      <td>VOLVO</td>\n",
              "      <td>XC70 AWD</td>\n",
              "      <td>SUV - SMALL</td>\n",
              "      <td>3.0</td>\n",
              "      <td>6</td>\n",
              "      <td>AS6</td>\n",
              "      <td>X</td>\n",
              "      <td>13.4</td>\n",
              "      <td>9.8</td>\n",
              "      <td>11.8</td>\n",
              "      <td>24</td>\n",
              "      <td>271</td>\n",
              "    </tr>\n",
              "    <tr>\n",
              "      <th>1065</th>\n",
              "      <td>2014</td>\n",
              "      <td>VOLVO</td>\n",
              "      <td>XC70 AWD</td>\n",
              "      <td>SUV - SMALL</td>\n",
              "      <td>3.2</td>\n",
              "      <td>6</td>\n",
              "      <td>AS6</td>\n",
              "      <td>X</td>\n",
              "      <td>12.9</td>\n",
              "      <td>9.3</td>\n",
              "      <td>11.3</td>\n",
              "      <td>25</td>\n",
              "      <td>260</td>\n",
              "    </tr>\n",
              "    <tr>\n",
              "      <th>1066</th>\n",
              "      <td>2014</td>\n",
              "      <td>VOLVO</td>\n",
              "      <td>XC90 AWD</td>\n",
              "      <td>SUV - STANDARD</td>\n",
              "      <td>3.2</td>\n",
              "      <td>6</td>\n",
              "      <td>AS6</td>\n",
              "      <td>X</td>\n",
              "      <td>14.9</td>\n",
              "      <td>10.2</td>\n",
              "      <td>12.8</td>\n",
              "      <td>22</td>\n",
              "      <td>294</td>\n",
              "    </tr>\n",
              "  </tbody>\n",
              "</table>\n",
              "<p>1067 rows × 13 columns</p>\n",
              "</div>\n",
              "      <button class=\"colab-df-convert\" onclick=\"convertToInteractive('df-0e391ff7-a657-495d-9501-fbc3f75ccb8e')\"\n",
              "              title=\"Convert this dataframe to an interactive table.\"\n",
              "              style=\"display:none;\">\n",
              "        \n",
              "  <svg xmlns=\"http://www.w3.org/2000/svg\" height=\"24px\"viewBox=\"0 0 24 24\"\n",
              "       width=\"24px\">\n",
              "    <path d=\"M0 0h24v24H0V0z\" fill=\"none\"/>\n",
              "    <path d=\"M18.56 5.44l.94 2.06.94-2.06 2.06-.94-2.06-.94-.94-2.06-.94 2.06-2.06.94zm-11 1L8.5 8.5l.94-2.06 2.06-.94-2.06-.94L8.5 2.5l-.94 2.06-2.06.94zm10 10l.94 2.06.94-2.06 2.06-.94-2.06-.94-.94-2.06-.94 2.06-2.06.94z\"/><path d=\"M17.41 7.96l-1.37-1.37c-.4-.4-.92-.59-1.43-.59-.52 0-1.04.2-1.43.59L10.3 9.45l-7.72 7.72c-.78.78-.78 2.05 0 2.83L4 21.41c.39.39.9.59 1.41.59.51 0 1.02-.2 1.41-.59l7.78-7.78 2.81-2.81c.8-.78.8-2.07 0-2.86zM5.41 20L4 18.59l7.72-7.72 1.47 1.35L5.41 20z\"/>\n",
              "  </svg>\n",
              "      </button>\n",
              "      \n",
              "  <style>\n",
              "    .colab-df-container {\n",
              "      display:flex;\n",
              "      flex-wrap:wrap;\n",
              "      gap: 12px;\n",
              "    }\n",
              "\n",
              "    .colab-df-convert {\n",
              "      background-color: #E8F0FE;\n",
              "      border: none;\n",
              "      border-radius: 50%;\n",
              "      cursor: pointer;\n",
              "      display: none;\n",
              "      fill: #1967D2;\n",
              "      height: 32px;\n",
              "      padding: 0 0 0 0;\n",
              "      width: 32px;\n",
              "    }\n",
              "\n",
              "    .colab-df-convert:hover {\n",
              "      background-color: #E2EBFA;\n",
              "      box-shadow: 0px 1px 2px rgba(60, 64, 67, 0.3), 0px 1px 3px 1px rgba(60, 64, 67, 0.15);\n",
              "      fill: #174EA6;\n",
              "    }\n",
              "\n",
              "    [theme=dark] .colab-df-convert {\n",
              "      background-color: #3B4455;\n",
              "      fill: #D2E3FC;\n",
              "    }\n",
              "\n",
              "    [theme=dark] .colab-df-convert:hover {\n",
              "      background-color: #434B5C;\n",
              "      box-shadow: 0px 1px 3px 1px rgba(0, 0, 0, 0.15);\n",
              "      filter: drop-shadow(0px 1px 2px rgba(0, 0, 0, 0.3));\n",
              "      fill: #FFFFFF;\n",
              "    }\n",
              "  </style>\n",
              "\n",
              "      <script>\n",
              "        const buttonEl =\n",
              "          document.querySelector('#df-0e391ff7-a657-495d-9501-fbc3f75ccb8e button.colab-df-convert');\n",
              "        buttonEl.style.display =\n",
              "          google.colab.kernel.accessAllowed ? 'block' : 'none';\n",
              "\n",
              "        async function convertToInteractive(key) {\n",
              "          const element = document.querySelector('#df-0e391ff7-a657-495d-9501-fbc3f75ccb8e');\n",
              "          const dataTable =\n",
              "            await google.colab.kernel.invokeFunction('convertToInteractive',\n",
              "                                                     [key], {});\n",
              "          if (!dataTable) return;\n",
              "\n",
              "          const docLinkHtml = 'Like what you see? Visit the ' +\n",
              "            '<a target=\"_blank\" href=https://colab.research.google.com/notebooks/data_table.ipynb>data table notebook</a>'\n",
              "            + ' to learn more about interactive tables.';\n",
              "          element.innerHTML = '';\n",
              "          dataTable['output_type'] = 'display_data';\n",
              "          await google.colab.output.renderOutput(dataTable, element);\n",
              "          const docLink = document.createElement('div');\n",
              "          docLink.innerHTML = docLinkHtml;\n",
              "          element.appendChild(docLink);\n",
              "        }\n",
              "      </script>\n",
              "    </div>\n",
              "  </div>\n",
              "  "
            ],
            "text/plain": [
              "      MODELYEAR   MAKE  ... FUELCONSUMPTION_COMB_MPG CO2EMISSIONS\n",
              "0          2014  ACURA  ...                       33          196\n",
              "1          2014  ACURA  ...                       29          221\n",
              "2          2014  ACURA  ...                       48          136\n",
              "3          2014  ACURA  ...                       25          255\n",
              "4          2014  ACURA  ...                       27          244\n",
              "...         ...    ...  ...                      ...          ...\n",
              "1062       2014  VOLVO  ...                       24          271\n",
              "1063       2014  VOLVO  ...                       25          264\n",
              "1064       2014  VOLVO  ...                       24          271\n",
              "1065       2014  VOLVO  ...                       25          260\n",
              "1066       2014  VOLVO  ...                       22          294\n",
              "\n",
              "[1067 rows x 13 columns]"
            ]
          },
          "metadata": {},
          "execution_count": 3
        }
      ]
    },
    {
      "cell_type": "markdown",
      "source": [
        "Este data set contiene el índice de consumo de combustible de modelos específicos y un estimado de las emisiones de Dióxido de carbono para vehículos ligeros nuevos para la venta al por menor en Canadá."
      ],
      "metadata": {
        "id": "I8aeYSxY_3ty"
      }
    },
    {
      "cell_type": "code",
      "source": [
        "data_extract=data[['CO2EMISSIONS','ENGINESIZE','CYLINDERS','FUELCONSUMPTION_CITY','FUELCONSUMPTION_HWY','FUELCONSUMPTION_COMB']]\n",
        "data_extract"
      ],
      "metadata": {
        "colab": {
          "base_uri": "https://localhost:8080/",
          "height": 423
        },
        "id": "ckaL9LQNuuaK",
        "outputId": "22200394-e7a6-4c53-9bac-986e50922911"
      },
      "execution_count": 4,
      "outputs": [
        {
          "output_type": "execute_result",
          "data": {
            "text/html": [
              "\n",
              "  <div id=\"df-6d8572bd-46e3-4bfe-a847-11e397c53cce\">\n",
              "    <div class=\"colab-df-container\">\n",
              "      <div>\n",
              "<style scoped>\n",
              "    .dataframe tbody tr th:only-of-type {\n",
              "        vertical-align: middle;\n",
              "    }\n",
              "\n",
              "    .dataframe tbody tr th {\n",
              "        vertical-align: top;\n",
              "    }\n",
              "\n",
              "    .dataframe thead th {\n",
              "        text-align: right;\n",
              "    }\n",
              "</style>\n",
              "<table border=\"1\" class=\"dataframe\">\n",
              "  <thead>\n",
              "    <tr style=\"text-align: right;\">\n",
              "      <th></th>\n",
              "      <th>CO2EMISSIONS</th>\n",
              "      <th>ENGINESIZE</th>\n",
              "      <th>CYLINDERS</th>\n",
              "      <th>FUELCONSUMPTION_CITY</th>\n",
              "      <th>FUELCONSUMPTION_HWY</th>\n",
              "      <th>FUELCONSUMPTION_COMB</th>\n",
              "    </tr>\n",
              "  </thead>\n",
              "  <tbody>\n",
              "    <tr>\n",
              "      <th>0</th>\n",
              "      <td>196</td>\n",
              "      <td>2.0</td>\n",
              "      <td>4</td>\n",
              "      <td>9.9</td>\n",
              "      <td>6.7</td>\n",
              "      <td>8.5</td>\n",
              "    </tr>\n",
              "    <tr>\n",
              "      <th>1</th>\n",
              "      <td>221</td>\n",
              "      <td>2.4</td>\n",
              "      <td>4</td>\n",
              "      <td>11.2</td>\n",
              "      <td>7.7</td>\n",
              "      <td>9.6</td>\n",
              "    </tr>\n",
              "    <tr>\n",
              "      <th>2</th>\n",
              "      <td>136</td>\n",
              "      <td>1.5</td>\n",
              "      <td>4</td>\n",
              "      <td>6.0</td>\n",
              "      <td>5.8</td>\n",
              "      <td>5.9</td>\n",
              "    </tr>\n",
              "    <tr>\n",
              "      <th>3</th>\n",
              "      <td>255</td>\n",
              "      <td>3.5</td>\n",
              "      <td>6</td>\n",
              "      <td>12.7</td>\n",
              "      <td>9.1</td>\n",
              "      <td>11.1</td>\n",
              "    </tr>\n",
              "    <tr>\n",
              "      <th>4</th>\n",
              "      <td>244</td>\n",
              "      <td>3.5</td>\n",
              "      <td>6</td>\n",
              "      <td>12.1</td>\n",
              "      <td>8.7</td>\n",
              "      <td>10.6</td>\n",
              "    </tr>\n",
              "    <tr>\n",
              "      <th>...</th>\n",
              "      <td>...</td>\n",
              "      <td>...</td>\n",
              "      <td>...</td>\n",
              "      <td>...</td>\n",
              "      <td>...</td>\n",
              "      <td>...</td>\n",
              "    </tr>\n",
              "    <tr>\n",
              "      <th>1062</th>\n",
              "      <td>271</td>\n",
              "      <td>3.0</td>\n",
              "      <td>6</td>\n",
              "      <td>13.4</td>\n",
              "      <td>9.8</td>\n",
              "      <td>11.8</td>\n",
              "    </tr>\n",
              "    <tr>\n",
              "      <th>1063</th>\n",
              "      <td>264</td>\n",
              "      <td>3.2</td>\n",
              "      <td>6</td>\n",
              "      <td>13.2</td>\n",
              "      <td>9.5</td>\n",
              "      <td>11.5</td>\n",
              "    </tr>\n",
              "    <tr>\n",
              "      <th>1064</th>\n",
              "      <td>271</td>\n",
              "      <td>3.0</td>\n",
              "      <td>6</td>\n",
              "      <td>13.4</td>\n",
              "      <td>9.8</td>\n",
              "      <td>11.8</td>\n",
              "    </tr>\n",
              "    <tr>\n",
              "      <th>1065</th>\n",
              "      <td>260</td>\n",
              "      <td>3.2</td>\n",
              "      <td>6</td>\n",
              "      <td>12.9</td>\n",
              "      <td>9.3</td>\n",
              "      <td>11.3</td>\n",
              "    </tr>\n",
              "    <tr>\n",
              "      <th>1066</th>\n",
              "      <td>294</td>\n",
              "      <td>3.2</td>\n",
              "      <td>6</td>\n",
              "      <td>14.9</td>\n",
              "      <td>10.2</td>\n",
              "      <td>12.8</td>\n",
              "    </tr>\n",
              "  </tbody>\n",
              "</table>\n",
              "<p>1067 rows × 6 columns</p>\n",
              "</div>\n",
              "      <button class=\"colab-df-convert\" onclick=\"convertToInteractive('df-6d8572bd-46e3-4bfe-a847-11e397c53cce')\"\n",
              "              title=\"Convert this dataframe to an interactive table.\"\n",
              "              style=\"display:none;\">\n",
              "        \n",
              "  <svg xmlns=\"http://www.w3.org/2000/svg\" height=\"24px\"viewBox=\"0 0 24 24\"\n",
              "       width=\"24px\">\n",
              "    <path d=\"M0 0h24v24H0V0z\" fill=\"none\"/>\n",
              "    <path d=\"M18.56 5.44l.94 2.06.94-2.06 2.06-.94-2.06-.94-.94-2.06-.94 2.06-2.06.94zm-11 1L8.5 8.5l.94-2.06 2.06-.94-2.06-.94L8.5 2.5l-.94 2.06-2.06.94zm10 10l.94 2.06.94-2.06 2.06-.94-2.06-.94-.94-2.06-.94 2.06-2.06.94z\"/><path d=\"M17.41 7.96l-1.37-1.37c-.4-.4-.92-.59-1.43-.59-.52 0-1.04.2-1.43.59L10.3 9.45l-7.72 7.72c-.78.78-.78 2.05 0 2.83L4 21.41c.39.39.9.59 1.41.59.51 0 1.02-.2 1.41-.59l7.78-7.78 2.81-2.81c.8-.78.8-2.07 0-2.86zM5.41 20L4 18.59l7.72-7.72 1.47 1.35L5.41 20z\"/>\n",
              "  </svg>\n",
              "      </button>\n",
              "      \n",
              "  <style>\n",
              "    .colab-df-container {\n",
              "      display:flex;\n",
              "      flex-wrap:wrap;\n",
              "      gap: 12px;\n",
              "    }\n",
              "\n",
              "    .colab-df-convert {\n",
              "      background-color: #E8F0FE;\n",
              "      border: none;\n",
              "      border-radius: 50%;\n",
              "      cursor: pointer;\n",
              "      display: none;\n",
              "      fill: #1967D2;\n",
              "      height: 32px;\n",
              "      padding: 0 0 0 0;\n",
              "      width: 32px;\n",
              "    }\n",
              "\n",
              "    .colab-df-convert:hover {\n",
              "      background-color: #E2EBFA;\n",
              "      box-shadow: 0px 1px 2px rgba(60, 64, 67, 0.3), 0px 1px 3px 1px rgba(60, 64, 67, 0.15);\n",
              "      fill: #174EA6;\n",
              "    }\n",
              "\n",
              "    [theme=dark] .colab-df-convert {\n",
              "      background-color: #3B4455;\n",
              "      fill: #D2E3FC;\n",
              "    }\n",
              "\n",
              "    [theme=dark] .colab-df-convert:hover {\n",
              "      background-color: #434B5C;\n",
              "      box-shadow: 0px 1px 3px 1px rgba(0, 0, 0, 0.15);\n",
              "      filter: drop-shadow(0px 1px 2px rgba(0, 0, 0, 0.3));\n",
              "      fill: #FFFFFF;\n",
              "    }\n",
              "  </style>\n",
              "\n",
              "      <script>\n",
              "        const buttonEl =\n",
              "          document.querySelector('#df-6d8572bd-46e3-4bfe-a847-11e397c53cce button.colab-df-convert');\n",
              "        buttonEl.style.display =\n",
              "          google.colab.kernel.accessAllowed ? 'block' : 'none';\n",
              "\n",
              "        async function convertToInteractive(key) {\n",
              "          const element = document.querySelector('#df-6d8572bd-46e3-4bfe-a847-11e397c53cce');\n",
              "          const dataTable =\n",
              "            await google.colab.kernel.invokeFunction('convertToInteractive',\n",
              "                                                     [key], {});\n",
              "          if (!dataTable) return;\n",
              "\n",
              "          const docLinkHtml = 'Like what you see? Visit the ' +\n",
              "            '<a target=\"_blank\" href=https://colab.research.google.com/notebooks/data_table.ipynb>data table notebook</a>'\n",
              "            + ' to learn more about interactive tables.';\n",
              "          element.innerHTML = '';\n",
              "          dataTable['output_type'] = 'display_data';\n",
              "          await google.colab.output.renderOutput(dataTable, element);\n",
              "          const docLink = document.createElement('div');\n",
              "          docLink.innerHTML = docLinkHtml;\n",
              "          element.appendChild(docLink);\n",
              "        }\n",
              "      </script>\n",
              "    </div>\n",
              "  </div>\n",
              "  "
            ],
            "text/plain": [
              "      CO2EMISSIONS  ENGINESIZE  ...  FUELCONSUMPTION_HWY  FUELCONSUMPTION_COMB\n",
              "0              196         2.0  ...                  6.7                   8.5\n",
              "1              221         2.4  ...                  7.7                   9.6\n",
              "2              136         1.5  ...                  5.8                   5.9\n",
              "3              255         3.5  ...                  9.1                  11.1\n",
              "4              244         3.5  ...                  8.7                  10.6\n",
              "...            ...         ...  ...                  ...                   ...\n",
              "1062           271         3.0  ...                  9.8                  11.8\n",
              "1063           264         3.2  ...                  9.5                  11.5\n",
              "1064           271         3.0  ...                  9.8                  11.8\n",
              "1065           260         3.2  ...                  9.3                  11.3\n",
              "1066           294         3.2  ...                 10.2                  12.8\n",
              "\n",
              "[1067 rows x 6 columns]"
            ]
          },
          "metadata": {},
          "execution_count": 4
        }
      ]
    },
    {
      "cell_type": "markdown",
      "source": [
        "Una vez seleccionadas estas características, implementaremos un modelo de regresión lineal que busca predecir las emisiones de CO2 (CO2EMISSIONS) a partir de características o predictores como el tamaño del motor (ENGINESIZE), el número de cilindros (CYLINDERS), consumo de gasolina en la ciudad (FUELCONSUMPTION_CITY), consumo de gasolina en carretera (FUELCONSUMPTION_HWY) y FUELCONSUMPTION_COMB."
      ],
      "metadata": {
        "id": "48oqcxseAa36"
      }
    },
    {
      "cell_type": "markdown",
      "source": [
        "# Visualize the data in 2D\n"
      ],
      "metadata": {
        "id": "9cteGq38Nrds"
      }
    },
    {
      "cell_type": "code",
      "source": [
        "Enginesize=data_extract[\"ENGINESIZE\"].values\n",
        "Cylinders=data_extract[\"CYLINDERS\"].values\n",
        "Co2emissions=data_extract[\"CO2EMISSIONS\"].values\n",
        "\n",
        "fig,axs=plt.subplots(1,2)\n",
        "fig=figsize(15,8)\n",
        "\n",
        "axs[0].plot(Enginesize,Co2emissions,\"bo\")\n",
        "axs[0].set_xlabel(\"Engine Size\")\n",
        "axs[0].set_ylabel(\"Co2 Emissions\")\n",
        "axs[0].set_title(\"CO2 EMISSIONS vs ENGINE SIZE \")\n",
        "axs[1].plot(Cylinders,Co2emissions,\"bo\")\n",
        "axs[1].set_xlabel(\"Cylinders\")\n",
        "axs[1].set_ylabel(\"Co2 Emissions\")\n",
        "axs[1].set_title(\"CO2 EMISSIONS vs CYLINDERS\")"
      ],
      "metadata": {
        "colab": {
          "base_uri": "https://localhost:8080/",
          "height": 312
        },
        "id": "sbNFj8RMei7j",
        "outputId": "13736ac9-57f5-4ed4-b243-fd8e4581fe7b"
      },
      "execution_count": 5,
      "outputs": [
        {
          "output_type": "execute_result",
          "data": {
            "text/plain": [
              "Text(0.5, 1.0, 'CO2 EMISSIONS vs CYLINDERS')"
            ]
          },
          "metadata": {},
          "execution_count": 5
        },
        {
          "output_type": "display_data",
          "data": {
            "image/png": "[encoded data removed]",
            "text/plain": [
              "<Figure size 432x288 with 2 Axes>"
            ]
          },
          "metadata": {
            "needs_background": "light"
          }
        }
      ]
    },
    {
      "cell_type": "markdown",
      "source": [
        "Podemos notar que en ambas gráficas la dispersión de los puntos parecen tener un comportamiento lineal."
      ],
      "metadata": {
        "id": "ivsQopZb7qCR"
      }
    },
    {
      "cell_type": "markdown",
      "source": [
        "# Plot 3D"
      ],
      "metadata": {
        "id": "LHqIKzxmT0uL"
      }
    },
    {
      "cell_type": "code",
      "source": [
        "fig = plt.figure(figsize=(10,8))\n",
        "ax = plt.axes(projection ='3d')\n",
        " \n",
        "x = Enginesize\n",
        "y = Cylinders\n",
        "z = Co2emissions\n",
        "ax.plot(x, y, z,\"bo\") \n",
        "\n",
        "ax.set_xlabel('ENGINE SIZE')\n",
        "ax.set_ylabel('CYLINDERS')\n",
        "ax.set_zlabel('CO2 EMISSIONS') \n",
        "ax.set_title('ENGINE SIZE and CYLINDERS vs CO2 EMISSIONS')\n",
        "plt.show()"
      ],
      "metadata": {
        "colab": {
          "base_uri": "https://localhost:8080/",
          "height": 466
        },
        "id": "La2UMnG2PqFk",
        "outputId": "51d7e775-dcfc-4873-fc3c-e67a8677c1fb"
      },
      "execution_count": 6,
      "outputs": [
        {
          "output_type": "display_data",
          "data": {
            "image/png": "[encoded data removed]",
            "text/plain": [
              "<Figure size 720x576 with 1 Axes>"
            ]
          },
          "metadata": {
            "needs_background": "light"
          }
        }
      ]
    },
    {
      "cell_type": "markdown",
      "source": [
        "Es posible apreciar que existe un plano al cual se pueden ajustar los puntos."
      ],
      "metadata": {
        "id": "VfjXEsFQ_dPK"
      }
    },
    {
      "cell_type": "markdown",
      "source": [
        "# Apply feature scaling.\n",
        "\n",
        "##  It is a step of Data Pre Processing that is applied to independent variables or features of data. It basically helps to normalize the data within a particular range. Sometimes, it also helps in **speeding up the calculations in an algorithm.**\n",
        "\n",
        "We use Standarscaler, it replace the values with their Z score. \n",
        "**Z score** is the number of standard desviations that the values is far away from the mean.\n",
        "\n",
        "$$Z=\\dfrac{x-\\mu}{\\sigma}$$"
      ],
      "metadata": {
        "id": "agd8UExbsaZK"
      }
    },
    {
      "cell_type": "code",
      "source": [
        "# Initialise the Scaler\n",
        "scaler = StandardScaler()\n",
        " \n",
        "# To scale data\n",
        "df=scaler.fit_transform(data_extract)\n",
        "df"
      ],
      "metadata": {
        "id": "bdnYT-4SWmuy",
        "colab": {
          "base_uri": "https://localhost:8080/"
        },
        "outputId": "7cac902d-bcdb-4c54-9d81-be3d217fc802"
      },
      "execution_count": 7,
      "outputs": [
        {
          "output_type": "execute_result",
          "data": {
            "text/plain": [
              "array([[-0.95084   , -0.9512918 , -0.99896853, -0.82855772, -0.99334135,\n",
              "        -0.88430407],\n",
              "       [-0.55616091, -0.66865251, -0.99896853, -0.5114328 , -0.63532912,\n",
              "        -0.5685715 ],\n",
              "       [-1.89806981, -1.30459092, -0.99896853, -1.77993246, -1.31555236,\n",
              "        -1.63058106],\n",
              "       ...,\n",
              "       [ 0.23319727, -0.24469358,  0.11424235,  0.02524013,  0.11649658,\n",
              "         0.06289365],\n",
              "       [ 0.05953847, -0.10337393,  0.11424235, -0.09673099, -0.06250954,\n",
              "        -0.08062116],\n",
              "       [ 0.59630203, -0.10337393,  0.11424235,  0.3911535 ,  0.25970147,\n",
              "         0.34992326]])"
            ]
          },
          "metadata": {},
          "execution_count": 7
        }
      ]
    },
    {
      "cell_type": "markdown",
      "source": [
        "Now each column of data is scaled to mean $\\mu=0$ and standard desviation $\\sigma=1$. This values are equivalents to the initials values. The distribution of data stay equal, it is invariant under scale transformation."
      ],
      "metadata": {
        "id": "MC4xqfw-yAUx"
      }
    },
    {
      "cell_type": "code",
      "source": [
        "#Data without Scaler\n",
        "#data_scaler=data_extract\n",
        "\n",
        "#Data with Scaler\n",
        "data_scaler=pd.DataFrame(df,columns=['CO2EMISSIONS','ENGINESIZE','CYLINDERS','FUELCONSUMPTION_CITY','FUELCONSUMPTION_HWY','FUELCONSUMPTION_COMB'])\n",
        "data_scaler"
      ],
      "metadata": {
        "colab": {
          "base_uri": "https://localhost:8080/",
          "height": 423
        },
        "id": "dennBSbjwetp",
        "outputId": "f837a46a-5127-445b-da48-1d8694aab4c1"
      },
      "execution_count": 8,
      "outputs": [
        {
          "output_type": "execute_result",
          "data": {
            "text/html": [
              "\n",
              "  <div id=\"df-407c1ddf-1e7d-4771-9fdb-8fe8975673b6\">\n",
              "    <div class=\"colab-df-container\">\n",
              "      <div>\n",
              "<style scoped>\n",
              "    .dataframe tbody tr th:only-of-type {\n",
              "        vertical-align: middle;\n",
              "    }\n",
              "\n",
              "    .dataframe tbody tr th {\n",
              "        vertical-align: top;\n",
              "    }\n",
              "\n",
              "    .dataframe thead th {\n",
              "        text-align: right;\n",
              "    }\n",
              "</style>\n",
              "<table border=\"1\" class=\"dataframe\">\n",
              "  <thead>\n",
              "    <tr style=\"text-align: right;\">\n",
              "      <th></th>\n",
              "      <th>CO2EMISSIONS</th>\n",
              "      <th>ENGINESIZE</th>\n",
              "      <th>CYLINDERS</th>\n",
              "      <th>FUELCONSUMPTION_CITY</th>\n",
              "      <th>FUELCONSUMPTION_HWY</th>\n",
              "      <th>FUELCONSUMPTION_COMB</th>\n",
              "    </tr>\n",
              "  </thead>\n",
              "  <tbody>\n",
              "    <tr>\n",
              "      <th>0</th>\n",
              "      <td>-0.950840</td>\n",
              "      <td>-0.951292</td>\n",
              "      <td>-0.998969</td>\n",
              "      <td>-0.828558</td>\n",
              "      <td>-0.993341</td>\n",
              "      <td>-0.884304</td>\n",
              "    </tr>\n",
              "    <tr>\n",
              "      <th>1</th>\n",
              "      <td>-0.556161</td>\n",
              "      <td>-0.668653</td>\n",
              "      <td>-0.998969</td>\n",
              "      <td>-0.511433</td>\n",
              "      <td>-0.635329</td>\n",
              "      <td>-0.568571</td>\n",
              "    </tr>\n",
              "    <tr>\n",
              "      <th>2</th>\n",
              "      <td>-1.898070</td>\n",
              "      <td>-1.304591</td>\n",
              "      <td>-0.998969</td>\n",
              "      <td>-1.779932</td>\n",
              "      <td>-1.315552</td>\n",
              "      <td>-1.630581</td>\n",
              "    </tr>\n",
              "    <tr>\n",
              "      <th>3</th>\n",
              "      <td>-0.019397</td>\n",
              "      <td>0.108606</td>\n",
              "      <td>0.114242</td>\n",
              "      <td>-0.145519</td>\n",
              "      <td>-0.134112</td>\n",
              "      <td>-0.138027</td>\n",
              "    </tr>\n",
              "    <tr>\n",
              "      <th>4</th>\n",
              "      <td>-0.193056</td>\n",
              "      <td>0.108606</td>\n",
              "      <td>0.114242</td>\n",
              "      <td>-0.291885</td>\n",
              "      <td>-0.277317</td>\n",
              "      <td>-0.281542</td>\n",
              "    </tr>\n",
              "    <tr>\n",
              "      <th>...</th>\n",
              "      <td>...</td>\n",
              "      <td>...</td>\n",
              "      <td>...</td>\n",
              "      <td>...</td>\n",
              "      <td>...</td>\n",
              "      <td>...</td>\n",
              "    </tr>\n",
              "    <tr>\n",
              "      <th>1062</th>\n",
              "      <td>0.233197</td>\n",
              "      <td>-0.244694</td>\n",
              "      <td>0.114242</td>\n",
              "      <td>0.025240</td>\n",
              "      <td>0.116497</td>\n",
              "      <td>0.062894</td>\n",
              "    </tr>\n",
              "    <tr>\n",
              "      <th>1063</th>\n",
              "      <td>0.122687</td>\n",
              "      <td>-0.103374</td>\n",
              "      <td>0.114242</td>\n",
              "      <td>-0.023548</td>\n",
              "      <td>0.009093</td>\n",
              "      <td>-0.023215</td>\n",
              "    </tr>\n",
              "    <tr>\n",
              "      <th>1064</th>\n",
              "      <td>0.233197</td>\n",
              "      <td>-0.244694</td>\n",
              "      <td>0.114242</td>\n",
              "      <td>0.025240</td>\n",
              "      <td>0.116497</td>\n",
              "      <td>0.062894</td>\n",
              "    </tr>\n",
              "    <tr>\n",
              "      <th>1065</th>\n",
              "      <td>0.059538</td>\n",
              "      <td>-0.103374</td>\n",
              "      <td>0.114242</td>\n",
              "      <td>-0.096731</td>\n",
              "      <td>-0.062510</td>\n",
              "      <td>-0.080621</td>\n",
              "    </tr>\n",
              "    <tr>\n",
              "      <th>1066</th>\n",
              "      <td>0.596302</td>\n",
              "      <td>-0.103374</td>\n",
              "      <td>0.114242</td>\n",
              "      <td>0.391153</td>\n",
              "      <td>0.259701</td>\n",
              "      <td>0.349923</td>\n",
              "    </tr>\n",
              "  </tbody>\n",
              "</table>\n",
              "<p>1067 rows × 6 columns</p>\n",
              "</div>\n",
              "      <button class=\"colab-df-convert\" onclick=\"convertToInteractive('df-407c1ddf-1e7d-4771-9fdb-8fe8975673b6')\"\n",
              "              title=\"Convert this dataframe to an interactive table.\"\n",
              "              style=\"display:none;\">\n",
              "        \n",
              "  <svg xmlns=\"http://www.w3.org/2000/svg\" height=\"24px\"viewBox=\"0 0 24 24\"\n",
              "       width=\"24px\">\n",
              "    <path d=\"M0 0h24v24H0V0z\" fill=\"none\"/>\n",
              "    <path d=\"M18.56 5.44l.94 2.06.94-2.06 2.06-.94-2.06-.94-.94-2.06-.94 2.06-2.06.94zm-11 1L8.5 8.5l.94-2.06 2.06-.94-2.06-.94L8.5 2.5l-.94 2.06-2.06.94zm10 10l.94 2.06.94-2.06 2.06-.94-2.06-.94-.94-2.06-.94 2.06-2.06.94z\"/><path d=\"M17.41 7.96l-1.37-1.37c-.4-.4-.92-.59-1.43-.59-.52 0-1.04.2-1.43.59L10.3 9.45l-7.72 7.72c-.78.78-.78 2.05 0 2.83L4 21.41c.39.39.9.59 1.41.59.51 0 1.02-.2 1.41-.59l7.78-7.78 2.81-2.81c.8-.78.8-2.07 0-2.86zM5.41 20L4 18.59l7.72-7.72 1.47 1.35L5.41 20z\"/>\n",
              "  </svg>\n",
              "      </button>\n",
              "      \n",
              "  <style>\n",
              "    .colab-df-container {\n",
              "      display:flex;\n",
              "      flex-wrap:wrap;\n",
              "      gap: 12px;\n",
              "    }\n",
              "\n",
              "    .colab-df-convert {\n",
              "      background-color: #E8F0FE;\n",
              "      border: none;\n",
              "      border-radius: 50%;\n",
              "      cursor: pointer;\n",
              "      display: none;\n",
              "      fill: #1967D2;\n",
              "      height: 32px;\n",
              "      padding: 0 0 0 0;\n",
              "      width: 32px;\n",
              "    }\n",
              "\n",
              "    .colab-df-convert:hover {\n",
              "      background-color: #E2EBFA;\n",
              "      box-shadow: 0px 1px 2px rgba(60, 64, 67, 0.3), 0px 1px 3px 1px rgba(60, 64, 67, 0.15);\n",
              "      fill: #174EA6;\n",
              "    }\n",
              "\n",
              "    [theme=dark] .colab-df-convert {\n",
              "      background-color: #3B4455;\n",
              "      fill: #D2E3FC;\n",
              "    }\n",
              "\n",
              "    [theme=dark] .colab-df-convert:hover {\n",
              "      background-color: #434B5C;\n",
              "      box-shadow: 0px 1px 3px 1px rgba(0, 0, 0, 0.15);\n",
              "      filter: drop-shadow(0px 1px 2px rgba(0, 0, 0, 0.3));\n",
              "      fill: #FFFFFF;\n",
              "    }\n",
              "  </style>\n",
              "\n",
              "      <script>\n",
              "        const buttonEl =\n",
              "          document.querySelector('#df-407c1ddf-1e7d-4771-9fdb-8fe8975673b6 button.colab-df-convert');\n",
              "        buttonEl.style.display =\n",
              "          google.colab.kernel.accessAllowed ? 'block' : 'none';\n",
              "\n",
              "        async function convertToInteractive(key) {\n",
              "          const element = document.querySelector('#df-407c1ddf-1e7d-4771-9fdb-8fe8975673b6');\n",
              "          const dataTable =\n",
              "            await google.colab.kernel.invokeFunction('convertToInteractive',\n",
              "                                                     [key], {});\n",
              "          if (!dataTable) return;\n",
              "\n",
              "          const docLinkHtml = 'Like what you see? Visit the ' +\n",
              "            '<a target=\"_blank\" href=https://colab.research.google.com/notebooks/data_table.ipynb>data table notebook</a>'\n",
              "            + ' to learn more about interactive tables.';\n",
              "          element.innerHTML = '';\n",
              "          dataTable['output_type'] = 'display_data';\n",
              "          await google.colab.output.renderOutput(dataTable, element);\n",
              "          const docLink = document.createElement('div');\n",
              "          docLink.innerHTML = docLinkHtml;\n",
              "          element.appendChild(docLink);\n",
              "        }\n",
              "      </script>\n",
              "    </div>\n",
              "  </div>\n",
              "  "
            ],
            "text/plain": [
              "      CO2EMISSIONS  ENGINESIZE  ...  FUELCONSUMPTION_HWY  FUELCONSUMPTION_COMB\n",
              "0        -0.950840   -0.951292  ...            -0.993341             -0.884304\n",
              "1        -0.556161   -0.668653  ...            -0.635329             -0.568571\n",
              "2        -1.898070   -1.304591  ...            -1.315552             -1.630581\n",
              "3        -0.019397    0.108606  ...            -0.134112             -0.138027\n",
              "4        -0.193056    0.108606  ...            -0.277317             -0.281542\n",
              "...            ...         ...  ...                  ...                   ...\n",
              "1062      0.233197   -0.244694  ...             0.116497              0.062894\n",
              "1063      0.122687   -0.103374  ...             0.009093             -0.023215\n",
              "1064      0.233197   -0.244694  ...             0.116497              0.062894\n",
              "1065      0.059538   -0.103374  ...            -0.062510             -0.080621\n",
              "1066      0.596302   -0.103374  ...             0.259701              0.349923\n",
              "\n",
              "[1067 rows x 6 columns]"
            ]
          },
          "metadata": {},
          "execution_count": 8
        }
      ]
    },
    {
      "cell_type": "markdown",
      "source": [
        "# Split the data into train and test using scikit-learn"
      ],
      "metadata": {
        "id": "09mHzPaD3J4g"
      }
    },
    {
      "cell_type": "code",
      "source": [
        "# División de los datos en train y test\n",
        "# ==============================================================================\n",
        "#Features \n",
        "X = data_scaler[['ENGINESIZE','CYLINDERS','FUELCONSUMPTION_CITY','FUELCONSUMPTION_HWY','FUELCONSUMPTION_COMB']]\n",
        "#Target variable\n",
        "y = data_scaler[['CO2EMISSIONS']]\n",
        "\n",
        "X_train, X_test, y_train, y_test = train_test_split(X, y, test_size=0.2,\n",
        "                                                  random_state=43,shuffle=True)"
      ],
      "metadata": {
        "id": "peVxRN8w3XPo"
      },
      "execution_count": 9,
      "outputs": []
    },
    {
      "cell_type": "markdown",
      "source": [
        "División de los datos en Train y Test con una distribución del 80% y 20% del total de datos respectivamente."
      ],
      "metadata": {
        "id": "45CPm1HfB0pM"
      }
    },
    {
      "cell_type": "markdown",
      "source": [
        "# Train the Linear Model, Predictions from model and Print the Metrics $R^2$, MAE and MAPE. "
      ],
      "metadata": {
        "id": "dQikdMSpn7Go"
      }
    },
    {
      "cell_type": "code",
      "source": [
        "#Modelo\n",
        "#==============================================================================\n",
        "linear_regression = LinearRegression()\n",
        "\n",
        "#Entrenamiento del modelo\n",
        "# ==============================================================================\n",
        "linear_regression.fit(X_train,y_train)\n",
        "\n",
        "# Predicciones test\n",
        "# ==============================================================================\n",
        "predicciones = linear_regression.predict(X=X_test)\n",
        "predicciones = predicciones.flatten()\n",
        "\n",
        "#Metric R2\n",
        "# ==============================================================================\n",
        "R2_Train=linear_regression.score(X_train,y_train)\n",
        "R2_Test=linear_regression.score(X_test,y_test)\n",
        "\n",
        "print(\"The R2 for Train set is: {:.4}\".format(R2_Train))\n",
        "print(\"The R2 for Test set is: {:.4} \\n\".format(R2_Test))\n",
        "\n",
        "#Metric MAE\n",
        "# ==============================================================================\n",
        "MAE=mean_absolute_error(y_test,predicciones)\n",
        "\n",
        "print(\"Metric MAE is: {:.4} \\n\".format(MAE))\n",
        "\n",
        "#Metric MAPE\n",
        "# ==============================================================================\n",
        "MAPE=mean_absolute_percentage_error(y_test,predicciones)\n",
        "\n",
        "print(\"Metric MAPE is: {:.4} \\n\".format(MAPE))"
      ],
      "metadata": {
        "colab": {
          "base_uri": "https://localhost:8080/"
        },
        "id": "dDp2FTxln_Vw",
        "outputId": "efb1e4c2-3c08-4164-c80e-7396d5684fa1"
      },
      "execution_count": 10,
      "outputs": [
        {
          "output_type": "stream",
          "name": "stdout",
          "text": [
            "The R2 for Train set is: 0.8611\n",
            "The R2 for Test set is: 0.8708 \n",
            "\n",
            "Metric MAE is: 0.2691 \n",
            "\n",
            "Metric MAPE is: 0.742 \n",
            "\n"
          ]
        }
      ]
    },
    {
      "cell_type": "markdown",
      "source": [
        "El modelo tiene un Score $R^2=0.87$ para Test lo cual resulta bastante bien. "
      ],
      "metadata": {
        "id": "fthoMJFACD-i"
      }
    },
    {
      "cell_type": "code",
      "source": [
        "#Parameters from Linear Model\n",
        "# ==============================================================================\n",
        "Coef=linear_regression.coef_.flatten()\n",
        "Interc=linear_regression.intercept_.flatten()\n",
        "\n",
        "print(\"Vector of Coeficients from Linear Regression Model: \\n {} \\n\".format(Coef))\n",
        "print(\"Intercept from Linear Regression Model: \\n {}\".format(Interc))"
      ],
      "metadata": {
        "colab": {
          "base_uri": "https://localhost:8080/"
        },
        "id": "wvAAXut3v_z_",
        "outputId": "642df33f-fa16-4e28-b6b6-f5e3209f8fbd"
      },
      "execution_count": 11,
      "outputs": [
        {
          "output_type": "stream",
          "name": "stdout",
          "text": [
            "Vector of Coeficients from Linear Regression Model: \n",
            " [ 0.22747155  0.20902058 -0.63563957 -0.44404269  1.61796971] \n",
            "\n",
            "Intercept from Linear Regression Model: \n",
            " [-0.01069005]\n"
          ]
        }
      ]
    },
    {
      "cell_type": "markdown",
      "source": [
        "# Predict CO2 emission of the 10 randomly chosen cars, compare with the true values"
      ],
      "metadata": {
        "id": "-apt5GZQuT5e"
      }
    },
    {
      "cell_type": "code",
      "source": [
        "\n",
        "y_test_array=y_test.values.flatten()\n",
        "\n",
        "#choose 10 randomly cars\n",
        "random=np.random.randint(len(y_test_array), size=10)\n",
        "random_True=[]\n",
        "random_pred=[]\n",
        "for i in random:\n",
        "  random_True.append(y_test_array[i])\n",
        "  random_pred.append(predicciones[i])\n",
        "\n",
        "dict={\"CO2 emission True\":random_True, \"CO2 emission Predict\":random_pred}\n",
        "\n",
        "print(tabulate(dict, headers='keys', tablefmt='fancy_grid')) \n",
        "  "
      ],
      "metadata": {
        "colab": {
          "base_uri": "https://localhost:8080/"
        },
        "id": "RMshCzbtvNOX",
        "outputId": "0f78a8d5-e176-41d9-b3c7-f7cef428ac14"
      },
      "execution_count": 12,
      "outputs": [
        {
          "output_type": "stream",
          "name": "stdout",
          "text": [
            "╒═════════════════════╤════════════════════════╕\n",
            "│   CO2 emission True │   CO2 emission Predict │\n",
            "╞═════════════════════╪════════════════════════╡\n",
            "│           0.233197  │              0.106199  │\n",
            "├─────────────────────┼────────────────────────┤\n",
            "│          -0.777181  │             -0.840407  │\n",
            "├─────────────────────┼────────────────────────┤\n",
            "│           1.48038   │              2.01838   │\n",
            "├─────────────────────┼────────────────────────┤\n",
            "│           2.77493   │              1.81257   │\n",
            "├─────────────────────┼────────────────────────┤\n",
            "│           0.0595385 │             -0.0817148 │\n",
            "├─────────────────────┼────────────────────────┤\n",
            "│          -0.745607  │             -0.841659  │\n",
            "├─────────────────────┼────────────────────────┤\n",
            "│           1.00677   │              0.782038  │\n",
            "├─────────────────────┼────────────────────────┤\n",
            "│          -1.21922   │             -1.02046   │\n",
            "├─────────────────────┼────────────────────────┤\n",
            "│           2.41183   │              1.76707   │\n",
            "├─────────────────────┼────────────────────────┤\n",
            "│           1.66983   │              2.25401   │\n",
            "╘═════════════════════╧════════════════════════╛\n"
          ]
        }
      ]
    },
    {
      "cell_type": "markdown",
      "source": [
        "Notamos que hay valores bastante cercanos entre el predicho y el real, mientras que hay otros bastante lejanos entre el predicho y el real. \n",
        "\n",
        "Interpretando el MAE, tenemos que en promedio los datos predichos tienen un error de masomenos 0.2691, es decir, los valores predichos deben interpretarse así: $CO2emission_{pred}\\pm MAE = valor$ $predicho \\pm 0.2691$. \n",
        "\n",
        "Y como en este caso los valores estaban escalados como el número de desviaciones típicas que un valor dado toma con respecto a la media, entonces tenemos un error en el valor predicho bastante significativo.\n",
        "\n",
        "Esto nos lo confirma el MAPE, pues nos está indicando un error porcentual en la predicción de cada emsion de CO2 del $74.2$%, un error significativamente grande.\n"
      ],
      "metadata": {
        "id": "UX7yAyl-D12T"
      }
    },
    {
      "cell_type": "code",
      "source": [
        "#Data without Scaler\n",
        "data_scaler=data_extract\n",
        "\n",
        "# División de los datos en train y test\n",
        "# ==============================================================================\n",
        "#Features \n",
        "X = data_scaler[['ENGINESIZE','CYLINDERS','FUELCONSUMPTION_CITY','FUELCONSUMPTION_HWY','FUELCONSUMPTION_COMB']]\n",
        "#Target variable\n",
        "y = data_scaler[['CO2EMISSIONS']]\n",
        "\n",
        "X_train, X_test, y_train, y_test = train_test_split(X, y, test_size=0.2,\n",
        "                                                  random_state=43,shuffle=True)\n",
        "\n",
        "#Modelo\n",
        "#==============================================================================\n",
        "linear_regression = LinearRegression()\n",
        "\n",
        "#Entrenamiento del modelo\n",
        "# ==============================================================================\n",
        "linear_regression.fit(X_train,y_train)\n",
        "\n",
        "# Predicciones test\n",
        "# ==============================================================================\n",
        "predicciones = linear_regression.predict(X=X_test)\n",
        "predicciones = predicciones.flatten()\n",
        "\n",
        "#Metric R2\n",
        "# ==============================================================================\n",
        "R2_Train=linear_regression.score(X_train,y_train)\n",
        "R2_Test=linear_regression.score(X_test,y_test)\n",
        "\n",
        "print(\"The R2 for Train set is: {:.4}\".format(R2_Train))\n",
        "print(\"The R2 for Test set is: {:.4} \\n\".format(R2_Test))\n",
        "\n",
        "#Metric MAE\n",
        "# ==============================================================================\n",
        "MAE=mean_absolute_error(y_test,predicciones)\n",
        "\n",
        "print(\"Metric MAE is: {:.4} \\n\".format(MAE))\n",
        "\n",
        "#Metric MAPE\n",
        "# ==============================================================================\n",
        "MAPE=mean_absolute_percentage_error(y_test,predicciones)\n",
        "\n",
        "print(\"Metric MAPE is: {:.4} \\n\".format(MAPE))\n",
        "\n",
        "#Parameters from Linear Model\n",
        "# ==============================================================================\n",
        "Coef=linear_regression.coef_.flatten()\n",
        "Interc=linear_regression.intercept_.flatten()\n",
        "\n",
        "print(\"Vector of Coeficients from Linear Regression Model: \\n {} \\n\".format(Coef))\n",
        "print(\"Intercept from Linear Regression Model: \\n {}\".format(Interc))\n",
        "\n",
        "y_test_array=y_test.values.flatten()\n",
        "\n",
        "#choose 10 randomly cars\n",
        "random=np.random.randint(len(y_test_array), size=10)\n",
        "random_True=[]\n",
        "random_pred=[]\n",
        "for i in random:\n",
        "  random_True.append(y_test_array[i])\n",
        "  random_pred.append(predicciones[i])\n",
        "\n",
        "dict={\"CO2 emission True\":random_True, \"CO2 emission Predict\":random_pred}\n",
        "\n",
        "print(tabulate(dict, headers='keys', tablefmt='fancy_grid')) "
      ],
      "metadata": {
        "id": "ufwr2lUFxleP",
        "colab": {
          "base_uri": "https://localhost:8080/"
        },
        "outputId": "02ba2301-51aa-489b-be59-d1f92600aa9a"
      },
      "execution_count": 17,
      "outputs": [
        {
          "output_type": "stream",
          "name": "stdout",
          "text": [
            "The R2 for Train set is: 0.8611\n",
            "The R2 for Test set is: 0.8708 \n",
            "\n",
            "Metric MAE is: 17.05 \n",
            "\n",
            "Metric MAPE is: 0.06274 \n",
            "\n",
            "Vector of Coeficients from Linear Regression Model: \n",
            " [ 10.18111912   7.36940432  -9.82186209 -10.06974538  29.41663433] \n",
            "\n",
            "Intercept from Linear Regression Model: \n",
            " [64.11160894]\n",
            "╒═════════════════════╤════════════════════════╕\n",
            "│   CO2 emission True │   CO2 emission Predict │\n",
            "╞═════════════════════╪════════════════════════╡\n",
            "│                 264 │                283.923 │\n",
            "├─────────────────────┼────────────────────────┤\n",
            "│                 290 │                299.518 │\n",
            "├─────────────────────┼────────────────────────┤\n",
            "│                 230 │                213.601 │\n",
            "├─────────────────────┼────────────────────────┤\n",
            "│                 214 │                203.715 │\n",
            "├─────────────────────┼────────────────────────┤\n",
            "│                 294 │                300.518 │\n",
            "├─────────────────────┼────────────────────────┤\n",
            "│                 260 │                251.053 │\n",
            "├─────────────────────┼────────────────────────┤\n",
            "│                 380 │                339.671 │\n",
            "├─────────────────────┼────────────────────────┤\n",
            "│                 262 │                226.887 │\n",
            "├─────────────────────┼────────────────────────┤\n",
            "│                 294 │                313.765 │\n",
            "├─────────────────────┼────────────────────────┤\n",
            "│                 225 │                213.705 │\n",
            "╘═════════════════════╧════════════════════════╛\n"
          ]
        }
      ]
    },
    {
      "cell_type": "markdown",
      "source": [
        "Para los datos sin Escalar, obtenemos resultados más acordes con las métricas obtenidas. Pues en la predicción de cada valor tenemos un error así: \n",
        "\n",
        "$$valor_{predicho} \\pm 17.05$$\n",
        "\n",
        "Cabe recalcar qeu MAE está en la misma escala que la variable objetivo.\n",
        "\n",
        "E interpretando MAPE, en cada valor predicho tenemos un $6.274$% de error respecto a los valores reales.\n",
        "\n",
        "Todo esto resulta genial, nuestro modelo sirve para predecir CO2 emissions. Y ahora sí, podemos decir que todo el modelo tiene un rendimiento muy bueno, el cual es reportado por $R^2$ $Score=87$%.\n",
        "\n",
        "###**En Conclusión**\n",
        "\n",
        "Para estos datos es más conveniente no usar un escalador de los datos, pues aunque estamos en una regresión lineal y usar esto supone un mejor rendimiento del algorimo, en este caso nos lleva a pérdidas de interpretabilidad. "
      ],
      "metadata": {
        "id": "UsbrMlGBHmHs"
      }
    },
    {
      "cell_type": "code",
      "source": [
        ""
      ],
      "metadata": {
        "id": "pSnIUtqDHDrc"
      },
      "execution_count": 14,
      "outputs": []
    },
    {
      "cell_type": "code",
      "source": [
        ""
      ],
      "metadata": {
        "id": "8pXRgPUoHKT7"
      },
      "execution_count": null,
      "outputs": []
    }
  ]
}