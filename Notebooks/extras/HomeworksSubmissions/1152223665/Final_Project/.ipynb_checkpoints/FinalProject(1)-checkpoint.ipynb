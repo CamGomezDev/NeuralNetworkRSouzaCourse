{
 "cells": [
  {
   "cell_type": "markdown",
   "id": "686b1acc",
   "metadata": {
    "id": "686b1acc"
   },
   "source": [
    "# Final Project\n",
    "### MODELADO DE DATOS CON REDES NEURONALES \n",
    "*Professor:* Michal Hemmerling \\\n",
    "*e-mail:* michal.hemmerling@udea.edu.co \n",
    "\n",
    "*Student:* Camilo José Torres Castaño \\\n",
    "*e-mail:* cjose.torres@udea.edu.co \\\n",
    "*C.c.* 1036401258"
   ]
  },
  {
   "cell_type": "code",
   "execution_count": 1,
   "id": "4bfb2f0c",
   "metadata": {
    "id": "4bfb2f0c"
   },
   "outputs": [],
   "source": [
    "import pandas as pd\n",
    "import numpy as np\n",
    "import matplotlib.pyplot as plts\n",
    "import matplotlib.image as mpimg\n",
    "import matplotlib.pyplot as plt\n",
    "import tensorflow as tf\n",
    "import cv2 # For the circles"
   ]
  },
  {
   "cell_type": "code",
   "execution_count": 2,
   "id": "389ba426",
   "metadata": {
    "colab": {
     "base_uri": "https://localhost:8080/",
     "height": 285
    },
    "id": "389ba426",
    "outputId": "bf6515bc-1f1f-45e1-a0c0-ac1cb297e431"
   },
   "outputs": [
    {
     "data": {
      "text/plain": [
       "(100,)"
      ]
     },
     "execution_count": 2,
     "metadata": {},
     "output_type": "execute_result"
    },
    {
     "data": {
      "image/png": "[encoded data removed]",
      "text/plain": [
       "<Figure size 432x288 with 1 Axes>"
      ]
     },
     "metadata": {
      "needs_background": "light"
     },
     "output_type": "display_data"
    }
   ],
   "source": [
    "fig,ax=plt.subplots(1,1)\n",
    "\n",
    "img = np.zeros([100, 100])\n",
    "color = (1, 0, 0)\n",
    "cv2.circle(img, (50,50), 30, color,2)\n",
    "\n",
    "ax.imshow(img[:,:])\n",
    "\n",
    "img[0].shape"
   ]
  },
  {
   "cell_type": "code",
   "execution_count": 3,
   "id": "df441a44",
   "metadata": {
    "colab": {
     "base_uri": "https://localhost:8080/"
    },
    "id": "df441a44",
    "outputId": "ab7fb287-b0cb-4b71-e366-6aa7dbebb81a"
   },
   "outputs": [
    {
     "name": "stdout",
     "output_type": "stream",
     "text": [
      "(10000, 150, 150)\n",
      "(10000,)\n"
     ]
    }
   ],
   "source": [
    "def draw_circle(x,y,r,c,th):\n",
    "    cv2.circle(img, center = (x,y), radius = r, color = c, thickness=th)\n",
    "\n",
    "all_circle=[]\n",
    "all_area=[]\n",
    "\n",
    "ncircles=10000\n",
    "for i in range(ncircles):   \n",
    "    img = np.zeros([150, 150])\n",
    "    x,y=np.random.randint(10,90,2)\n",
    "    r=np.random.randint(10,30)\n",
    "    c= (1, 0, 0)\n",
    "    th=2    \n",
    "    draw_circle(x,y,r,c,th) \n",
    "    \n",
    "    #img_flat=img.reshape(1,img.size)\n",
    "    all_circle.append(img)\n",
    "    all_area.append(round(np.pi*r**2, 0))\n",
    "    \n",
    "all_circle_array=np.array(all_circle)    \n",
    "all_area_array=np.array(all_area)\n",
    "\n",
    "print(all_circle_array.shape)\n",
    "print(all_area_array.shape)"
   ]
  },
  {
   "cell_type": "code",
   "execution_count": 4,
   "id": "9be3b4d9",
   "metadata": {
    "colab": {
     "base_uri": "https://localhost:8080/",
     "height": 298
    },
    "id": "9be3b4d9",
    "outputId": "484d14d4-6514-48df-db9c-1d601e2abd57"
   },
   "outputs": [
    {
     "data": {
      "text/plain": [
       "Text(0.5, 1.0, '908.0')"
      ]
     },
     "execution_count": 4,
     "metadata": {},
     "output_type": "execute_result"
    },
    {
     "data": {
      "image/png": "[encoded data removed]",
      "text/plain": [
       "<Figure size 432x288 with 1 Axes>"
      ]
     },
     "metadata": {
      "needs_background": "light"
     },
     "output_type": "display_data"
    }
   ],
   "source": [
    "fig,ax=plt.subplots(1,1)\n",
    "idx=np.random.randint(0,ncircles)\n",
    "ax.imshow(all_circle_array[idx])\n",
    "ax.set_title(str(all_area_array[idx]))"
   ]
  },
  {
   "cell_type": "code",
   "execution_count": 51,
   "id": "d4ad1184",
   "metadata": {
    "colab": {
     "base_uri": "https://localhost:8080/"
    },
    "id": "d4ad1184",
    "outputId": "12e32b2e-6e7e-41b7-fa0a-b9c08b697962"
   },
   "outputs": [
    {
     "name": "stdout",
     "output_type": "stream",
     "text": [
      "X_data shape:  (10000, 150, 150)\n",
      "y_data shape:  (10000,)\n"
     ]
    }
   ],
   "source": [
    "# Divide my data into X data and y data\n",
    "X_data = all_circle_array\n",
    "y_data = all_area_array\n",
    "\n",
    "print(\"X_data shape: \",X_data.shape)\n",
    "print(\"y_data shape: \",y_data.shape)"
   ]
  },
  {
   "cell_type": "code",
   "execution_count": 52,
   "id": "opposite-boundary",
   "metadata": {},
   "outputs": [],
   "source": [
    "X_data = X_data[...,None]   "
   ]
  },
  {
   "cell_type": "code",
   "execution_count": 53,
   "id": "ea787072",
   "metadata": {
    "id": "ea787072"
   },
   "outputs": [],
   "source": [
    "# Split my data into test and train samples\n",
    "from sklearn.model_selection import train_test_split\n",
    "(X_train, X_test, y_train, y_test) = train_test_split(X_data, y_data, test_size=0.2, random_state=1)"
   ]
  },
  {
   "cell_type": "code",
   "execution_count": 54,
   "id": "45ba507d",
   "metadata": {
    "colab": {
     "base_uri": "https://localhost:8080/"
    },
    "id": "45ba507d",
    "outputId": "a27c20fc-e936-423f-daa6-320e06e95ff0"
   },
   "outputs": [
    {
     "name": "stdout",
     "output_type": "stream",
     "text": [
      "Shape of a single sample:  (150, 150, 1)\n"
     ]
    }
   ],
   "source": [
    "# input_shape \n",
    "\n",
    "print(\"Shape of a single sample: \", X_train[0].shape)"
   ]
  },
  {
   "cell_type": "code",
   "execution_count": 55,
   "id": "d703d46d",
   "metadata": {
    "id": "d703d46d"
   },
   "outputs": [],
   "source": [
    "# Import a sequential model\n",
    "from tensorflow.keras.models import Sequential\n",
    "\n",
    "# Import the models to solve the problems\n",
    "from tensorflow.keras.layers import InputLayer, Dense, Flatten, Dropout,Conv2D, MaxPooling2D\n",
    "\n",
    "# Import regularizers\n",
    "from tensorflow.keras import regularizers\n",
    "\n",
    "# Import optimizers\n",
    "from tensorflow.keras import optimizers\n",
    "\n",
    "# Import EarlyStopping\n",
    "from tensorflow.keras.callbacks import EarlyStopping\n"
   ]
  },
  {
   "cell_type": "code",
   "execution_count": 56,
   "id": "e26ba8c7",
   "metadata": {
    "id": "e26ba8c7"
   },
   "outputs": [],
   "source": [
    "# Create a function with the Sequential model\n",
    "def get_model1(units, input_shape = X_train[0].shape, dr = 0.2, wd=0.01):\n",
    "    model = Sequential([\n",
    "                        InputLayer(input_shape = input_shape, name='input'),\n",
    "        \n",
    "                        Conv2D(filters=64,kernel_size=1,  activation='relu'),\n",
    "                        Conv2D(filters=64,kernel_size=1,  activation='relu'),\n",
    "        \n",
    "                        MaxPooling2D((2, 2)),\n",
    "                        \n",
    "                        Conv2D(filters=128,kernel_size=1,  activation='relu'),\n",
    "                        Conv2D(filters=128,kernel_size=1,  activation='relu'),\n",
    "\n",
    "                        MaxPooling2D((2, 2)),\n",
    "                        \n",
    "                        Conv2D(filters=256,kernel_size=1,  activation='relu'),\n",
    "                        Conv2D(filters=256,kernel_size=1,  activation='relu'),\n",
    "                        Conv2D(filters=256,kernel_size=1,  activation='relu'),\n",
    "\n",
    "                        MaxPooling2D((2, 2)),\n",
    "\n",
    "                        Conv2D(filters=512,kernel_size=1,  activation='relu'),\n",
    "                        Conv2D(filters=512,kernel_size=1,  activation='relu'),\n",
    "                        Conv2D(filters=512,kernel_size=1,  activation='relu'),\n",
    "\n",
    "                        MaxPooling2D((2, 2)),\n",
    "\n",
    "                        Conv2D(filters=512,kernel_size=1,  activation='relu'),\n",
    "                        Conv2D(filters=512,kernel_size=1,  activation='relu'),\n",
    "                        Conv2D(filters=512,kernel_size=1,  activation='relu'),\n",
    "        \n",
    "                        Flatten(),\n",
    "\n",
    "                        Dense(units=units/2, activation='relu'),\n",
    "                        Dropout(dr),\n",
    "                        Dense(units=units, activation='relu'),\n",
    "                        #Dropout(dr),\n",
    "\n",
    "                        Dense(units=1, activation='linear')\n",
    "                        \n",
    "                        ])\n",
    "    return model"
   ]
  },
  {
   "cell_type": "code",
   "execution_count": 57,
   "id": "r7cGe5YljUhl",
   "metadata": {
    "id": "r7cGe5YljUhl"
   },
   "outputs": [],
   "source": [
    "# Create a function with the Sequential model\n",
    "def get_model(input_shape):\n",
    "    model = Sequential([InputLayer(input_shape=input_shape),\n",
    "                        Conv2D(filters=25, kernel_size=(3, 3), activation='relu'),\n",
    "                        MaxPooling2D((2, 2)),\n",
    "\n",
    "                        Conv2D(filters=64,kernel_size=(3, 3),  activation='relu'),\n",
    "                        MaxPooling2D((2, 2)),\n",
    "\n",
    "                        Conv2D(filters=64,kernel_size=(3, 3),  activation='relu'),\n",
    "                        MaxPooling2D((2, 2)),\n",
    "\n",
    "                        Flatten(),\n",
    "\n",
    "                        Dense(units=64, activation='relu'),\n",
    "                        #Dropout(dr),\n",
    "                        Dense(units=1, activation='linear')\n",
    "\n",
    "                        ])\n",
    "    return model"
   ]
  },
  {
   "cell_type": "code",
   "execution_count": 58,
   "id": "guided-positive",
   "metadata": {},
   "outputs": [
    {
     "data": {
      "text/plain": [
       "(150, 150, 1)"
      ]
     },
     "execution_count": 58,
     "metadata": {},
     "output_type": "execute_result"
    }
   ],
   "source": [
    "X_train[0].shape"
   ]
  },
  {
   "cell_type": "code",
   "execution_count": 60,
   "id": "2b775927",
   "metadata": {
    "id": "2b775927"
   },
   "outputs": [],
   "source": [
    "# Intance a Sequen|tial model\n",
    "model = get_model(X_train[0].shape)"
   ]
  },
  {
   "cell_type": "code",
   "execution_count": 61,
   "id": "8689662d",
   "metadata": {
    "colab": {
     "base_uri": "https://localhost:8080/"
    },
    "id": "8689662d",
    "outputId": "135a695e-fb76-4d19-e365-5a487e733b67"
   },
   "outputs": [
    {
     "name": "stdout",
     "output_type": "stream",
     "text": [
      "Model: \"sequential_9\"\n",
      "_________________________________________________________________\n",
      "Layer (type)                 Output Shape              Param #   \n",
      "=================================================================\n",
      "conv2d_27 (Conv2D)           (None, 148, 148, 25)      250       \n",
      "_________________________________________________________________\n",
      "max_pooling2d_27 (MaxPooling (None, 74, 74, 25)        0         \n",
      "_________________________________________________________________\n",
      "conv2d_28 (Conv2D)           (None, 72, 72, 64)        14464     \n",
      "_________________________________________________________________\n",
      "max_pooling2d_28 (MaxPooling (None, 36, 36, 64)        0         \n",
      "_________________________________________________________________\n",
      "conv2d_29 (Conv2D)           (None, 34, 34, 64)        36928     \n",
      "_________________________________________________________________\n",
      "max_pooling2d_29 (MaxPooling (None, 17, 17, 64)        0         \n",
      "_________________________________________________________________\n",
      "flatten_9 (Flatten)          (None, 18496)             0         \n",
      "_________________________________________________________________\n",
      "dense_18 (Dense)             (None, 64)                1183808   \n",
      "_________________________________________________________________\n",
      "dense_19 (Dense)             (None, 1)                 65        \n",
      "=================================================================\n",
      "Total params: 1,235,515\n",
      "Trainable params: 1,235,515\n",
      "Non-trainable params: 0\n",
      "_________________________________________________________________\n"
     ]
    }
   ],
   "source": [
    "model.summary()"
   ]
  },
  {
   "cell_type": "code",
   "execution_count": 62,
   "id": "a132bb6d",
   "metadata": {
    "id": "a132bb6d"
   },
   "outputs": [],
   "source": [
    "def compile_model(model, optimizer, loss):\n",
    "    model.compile(optimizer=optimizer,\n",
    "                  loss=loss, # For clasification problem with digits, not with one-hot encoding\n",
    "                  metrics=[loss]\n",
    "                 )"
   ]
  },
  {
   "cell_type": "code",
   "execution_count": 63,
   "id": "4fbd48e6",
   "metadata": {
    "id": "4fbd48e6"
   },
   "outputs": [],
   "source": [
    "\n",
    "#compile_model(model, optimizers.RMSprop(learning_rate=0.0001), 'mape')\n",
    "compile_model(model, 'adam', ['mape'])"
   ]
  },
  {
   "cell_type": "code",
   "execution_count": 64,
   "id": "1ad24cfe",
   "metadata": {
    "colab": {
     "base_uri": "https://localhost:8080/"
    },
    "id": "1ad24cfe",
    "outputId": "e957e49a-5e10-4353-e342-afd92bb263f0"
   },
   "outputs": [
    {
     "name": "stdout",
     "output_type": "stream",
     "text": [
      "Epoch 1/200\n",
      "42/68 [=================>............] - ETA: 53s - loss: 60.9346 - mape: 60.9346"
     ]
    },
    {
     "ename": "KeyboardInterrupt",
     "evalue": "",
     "output_type": "error",
     "traceback": [
      "\u001b[0;31m---------------------------------------------------------------------------\u001b[0m",
      "\u001b[0;31mKeyboardInterrupt\u001b[0m                         Traceback (most recent call last)",
      "\u001b[0;32m<ipython-input-64-6ae318f0e1a5>\u001b[0m in \u001b[0;36m<module>\u001b[0;34m\u001b[0m\n\u001b[1;32m      1\u001b[0m \u001b[0mepochs\u001b[0m \u001b[0;34m=\u001b[0m \u001b[0;36m200\u001b[0m\u001b[0;34m\u001b[0m\u001b[0;34m\u001b[0m\u001b[0m\n\u001b[0;32m----> 2\u001b[0;31m \u001b[0mmyhistory\u001b[0m \u001b[0;34m=\u001b[0m \u001b[0mmodel\u001b[0m\u001b[0;34m.\u001b[0m\u001b[0mfit\u001b[0m\u001b[0;34m(\u001b[0m\u001b[0mX_train\u001b[0m\u001b[0;34m,\u001b[0m \u001b[0my_train\u001b[0m\u001b[0;34m,\u001b[0m \u001b[0mepochs\u001b[0m\u001b[0;34m=\u001b[0m\u001b[0mepochs\u001b[0m\u001b[0;34m,\u001b[0m \u001b[0mbatch_size\u001b[0m \u001b[0;34m=\u001b[0m \u001b[0;36m100\u001b[0m\u001b[0;34m,\u001b[0m \u001b[0mvalidation_split\u001b[0m\u001b[0;34m=\u001b[0m\u001b[0;36m0.15\u001b[0m\u001b[0;34m,\u001b[0m \u001b[0mcallbacks\u001b[0m\u001b[0;34m=\u001b[0m\u001b[0;34m[\u001b[0m\u001b[0mEarlyStopping\u001b[0m\u001b[0;34m(\u001b[0m\u001b[0mmonitor\u001b[0m\u001b[0;34m=\u001b[0m\u001b[0;34m'val_loss'\u001b[0m\u001b[0;34m,\u001b[0m \u001b[0mpatience\u001b[0m\u001b[0;34m=\u001b[0m\u001b[0;36m10\u001b[0m\u001b[0;34m)\u001b[0m\u001b[0;34m]\u001b[0m\u001b[0;34m)\u001b[0m\u001b[0;34m\u001b[0m\u001b[0;34m\u001b[0m\u001b[0m\n\u001b[0m",
      "\u001b[0;32m~/.local/lib/python3.7/site-packages/tensorflow/python/keras/engine/training.py\u001b[0m in \u001b[0;36mfit\u001b[0;34m(self, x, y, batch_size, epochs, verbose, callbacks, validation_split, validation_data, shuffle, class_weight, sample_weight, initial_epoch, steps_per_epoch, validation_steps, validation_batch_size, validation_freq, max_queue_size, workers, use_multiprocessing)\u001b[0m\n\u001b[1;32m   1181\u001b[0m                 _r=1):\n\u001b[1;32m   1182\u001b[0m               \u001b[0mcallbacks\u001b[0m\u001b[0;34m.\u001b[0m\u001b[0mon_train_batch_begin\u001b[0m\u001b[0;34m(\u001b[0m\u001b[0mstep\u001b[0m\u001b[0;34m)\u001b[0m\u001b[0;34m\u001b[0m\u001b[0;34m\u001b[0m\u001b[0m\n\u001b[0;32m-> 1183\u001b[0;31m               \u001b[0mtmp_logs\u001b[0m \u001b[0;34m=\u001b[0m \u001b[0mself\u001b[0m\u001b[0;34m.\u001b[0m\u001b[0mtrain_function\u001b[0m\u001b[0;34m(\u001b[0m\u001b[0miterator\u001b[0m\u001b[0;34m)\u001b[0m\u001b[0;34m\u001b[0m\u001b[0;34m\u001b[0m\u001b[0m\n\u001b[0m\u001b[1;32m   1184\u001b[0m               \u001b[0;32mif\u001b[0m \u001b[0mdata_handler\u001b[0m\u001b[0;34m.\u001b[0m\u001b[0mshould_sync\u001b[0m\u001b[0;34m:\u001b[0m\u001b[0;34m\u001b[0m\u001b[0;34m\u001b[0m\u001b[0m\n\u001b[1;32m   1185\u001b[0m                 \u001b[0mcontext\u001b[0m\u001b[0;34m.\u001b[0m\u001b[0masync_wait\u001b[0m\u001b[0;34m(\u001b[0m\u001b[0;34m)\u001b[0m\u001b[0;34m\u001b[0m\u001b[0;34m\u001b[0m\u001b[0m\n",
      "\u001b[0;32m~/.local/lib/python3.7/site-packages/tensorflow/python/eager/def_function.py\u001b[0m in \u001b[0;36m__call__\u001b[0;34m(self, *args, **kwds)\u001b[0m\n\u001b[1;32m    887\u001b[0m \u001b[0;34m\u001b[0m\u001b[0m\n\u001b[1;32m    888\u001b[0m       \u001b[0;32mwith\u001b[0m \u001b[0mOptionalXlaContext\u001b[0m\u001b[0;34m(\u001b[0m\u001b[0mself\u001b[0m\u001b[0;34m.\u001b[0m\u001b[0m_jit_compile\u001b[0m\u001b[0;34m)\u001b[0m\u001b[0;34m:\u001b[0m\u001b[0;34m\u001b[0m\u001b[0;34m\u001b[0m\u001b[0m\n\u001b[0;32m--> 889\u001b[0;31m         \u001b[0mresult\u001b[0m \u001b[0;34m=\u001b[0m \u001b[0mself\u001b[0m\u001b[0;34m.\u001b[0m\u001b[0m_call\u001b[0m\u001b[0;34m(\u001b[0m\u001b[0;34m*\u001b[0m\u001b[0margs\u001b[0m\u001b[0;34m,\u001b[0m \u001b[0;34m**\u001b[0m\u001b[0mkwds\u001b[0m\u001b[0;34m)\u001b[0m\u001b[0;34m\u001b[0m\u001b[0;34m\u001b[0m\u001b[0m\n\u001b[0m\u001b[1;32m    890\u001b[0m \u001b[0;34m\u001b[0m\u001b[0m\n\u001b[1;32m    891\u001b[0m       \u001b[0mnew_tracing_count\u001b[0m \u001b[0;34m=\u001b[0m \u001b[0mself\u001b[0m\u001b[0;34m.\u001b[0m\u001b[0mexperimental_get_tracing_count\u001b[0m\u001b[0;34m(\u001b[0m\u001b[0;34m)\u001b[0m\u001b[0;34m\u001b[0m\u001b[0;34m\u001b[0m\u001b[0m\n",
      "\u001b[0;32m~/.local/lib/python3.7/site-packages/tensorflow/python/eager/def_function.py\u001b[0m in \u001b[0;36m_call\u001b[0;34m(self, *args, **kwds)\u001b[0m\n\u001b[1;32m    915\u001b[0m       \u001b[0;31m# In this case we have created variables on the first call, so we run the\u001b[0m\u001b[0;34m\u001b[0m\u001b[0;34m\u001b[0m\u001b[0;34m\u001b[0m\u001b[0m\n\u001b[1;32m    916\u001b[0m       \u001b[0;31m# defunned version which is guaranteed to never create variables.\u001b[0m\u001b[0;34m\u001b[0m\u001b[0;34m\u001b[0m\u001b[0;34m\u001b[0m\u001b[0m\n\u001b[0;32m--> 917\u001b[0;31m       \u001b[0;32mreturn\u001b[0m \u001b[0mself\u001b[0m\u001b[0;34m.\u001b[0m\u001b[0m_stateless_fn\u001b[0m\u001b[0;34m(\u001b[0m\u001b[0;34m*\u001b[0m\u001b[0margs\u001b[0m\u001b[0;34m,\u001b[0m \u001b[0;34m**\u001b[0m\u001b[0mkwds\u001b[0m\u001b[0;34m)\u001b[0m  \u001b[0;31m# pylint: disable=not-callable\u001b[0m\u001b[0;34m\u001b[0m\u001b[0;34m\u001b[0m\u001b[0m\n\u001b[0m\u001b[1;32m    918\u001b[0m     \u001b[0;32melif\u001b[0m \u001b[0mself\u001b[0m\u001b[0;34m.\u001b[0m\u001b[0m_stateful_fn\u001b[0m \u001b[0;32mis\u001b[0m \u001b[0;32mnot\u001b[0m \u001b[0;32mNone\u001b[0m\u001b[0;34m:\u001b[0m\u001b[0;34m\u001b[0m\u001b[0;34m\u001b[0m\u001b[0m\n\u001b[1;32m    919\u001b[0m       \u001b[0;31m# Release the lock early so that multiple threads can perform the call\u001b[0m\u001b[0;34m\u001b[0m\u001b[0;34m\u001b[0m\u001b[0;34m\u001b[0m\u001b[0m\n",
      "\u001b[0;32m~/.local/lib/python3.7/site-packages/tensorflow/python/eager/function.py\u001b[0m in \u001b[0;36m__call__\u001b[0;34m(self, *args, **kwargs)\u001b[0m\n\u001b[1;32m   3022\u001b[0m        filtered_flat_args) = self._maybe_define_function(args, kwargs)\n\u001b[1;32m   3023\u001b[0m     return graph_function._call_flat(\n\u001b[0;32m-> 3024\u001b[0;31m         filtered_flat_args, captured_inputs=graph_function.captured_inputs)  # pylint: disable=protected-access\n\u001b[0m\u001b[1;32m   3025\u001b[0m \u001b[0;34m\u001b[0m\u001b[0m\n\u001b[1;32m   3026\u001b[0m   \u001b[0;34m@\u001b[0m\u001b[0mproperty\u001b[0m\u001b[0;34m\u001b[0m\u001b[0;34m\u001b[0m\u001b[0m\n",
      "\u001b[0;32m~/.local/lib/python3.7/site-packages/tensorflow/python/eager/function.py\u001b[0m in \u001b[0;36m_call_flat\u001b[0;34m(self, args, captured_inputs, cancellation_manager)\u001b[0m\n\u001b[1;32m   1959\u001b[0m       \u001b[0;31m# No tape is watching; skip to running the function.\u001b[0m\u001b[0;34m\u001b[0m\u001b[0;34m\u001b[0m\u001b[0;34m\u001b[0m\u001b[0m\n\u001b[1;32m   1960\u001b[0m       return self._build_call_outputs(self._inference_function.call(\n\u001b[0;32m-> 1961\u001b[0;31m           ctx, args, cancellation_manager=cancellation_manager))\n\u001b[0m\u001b[1;32m   1962\u001b[0m     forward_backward = self._select_forward_and_backward_functions(\n\u001b[1;32m   1963\u001b[0m         \u001b[0margs\u001b[0m\u001b[0;34m,\u001b[0m\u001b[0;34m\u001b[0m\u001b[0;34m\u001b[0m\u001b[0m\n",
      "\u001b[0;32m~/.local/lib/python3.7/site-packages/tensorflow/python/eager/function.py\u001b[0m in \u001b[0;36mcall\u001b[0;34m(self, ctx, args, cancellation_manager)\u001b[0m\n\u001b[1;32m    594\u001b[0m               \u001b[0minputs\u001b[0m\u001b[0;34m=\u001b[0m\u001b[0margs\u001b[0m\u001b[0;34m,\u001b[0m\u001b[0;34m\u001b[0m\u001b[0;34m\u001b[0m\u001b[0m\n\u001b[1;32m    595\u001b[0m               \u001b[0mattrs\u001b[0m\u001b[0;34m=\u001b[0m\u001b[0mattrs\u001b[0m\u001b[0;34m,\u001b[0m\u001b[0;34m\u001b[0m\u001b[0;34m\u001b[0m\u001b[0m\n\u001b[0;32m--> 596\u001b[0;31m               ctx=ctx)\n\u001b[0m\u001b[1;32m    597\u001b[0m         \u001b[0;32melse\u001b[0m\u001b[0;34m:\u001b[0m\u001b[0;34m\u001b[0m\u001b[0;34m\u001b[0m\u001b[0m\n\u001b[1;32m    598\u001b[0m           outputs = execute.execute_with_cancellation(\n",
      "\u001b[0;32m~/.local/lib/python3.7/site-packages/tensorflow/python/eager/execute.py\u001b[0m in \u001b[0;36mquick_execute\u001b[0;34m(op_name, num_outputs, inputs, attrs, ctx, name)\u001b[0m\n\u001b[1;32m     58\u001b[0m     \u001b[0mctx\u001b[0m\u001b[0;34m.\u001b[0m\u001b[0mensure_initialized\u001b[0m\u001b[0;34m(\u001b[0m\u001b[0;34m)\u001b[0m\u001b[0;34m\u001b[0m\u001b[0;34m\u001b[0m\u001b[0m\n\u001b[1;32m     59\u001b[0m     tensors = pywrap_tfe.TFE_Py_Execute(ctx._handle, device_name, op_name,\n\u001b[0;32m---> 60\u001b[0;31m                                         inputs, attrs, num_outputs)\n\u001b[0m\u001b[1;32m     61\u001b[0m   \u001b[0;32mexcept\u001b[0m \u001b[0mcore\u001b[0m\u001b[0;34m.\u001b[0m\u001b[0m_NotOkStatusException\u001b[0m \u001b[0;32mas\u001b[0m \u001b[0me\u001b[0m\u001b[0;34m:\u001b[0m\u001b[0;34m\u001b[0m\u001b[0;34m\u001b[0m\u001b[0m\n\u001b[1;32m     62\u001b[0m     \u001b[0;32mif\u001b[0m \u001b[0mname\u001b[0m \u001b[0;32mis\u001b[0m \u001b[0;32mnot\u001b[0m \u001b[0;32mNone\u001b[0m\u001b[0;34m:\u001b[0m\u001b[0;34m\u001b[0m\u001b[0;34m\u001b[0m\u001b[0m\n",
      "\u001b[0;31mKeyboardInterrupt\u001b[0m: "
     ]
    }
   ],
   "source": [
    "epochs = 200\n",
    "myhistory = model.fit(X_train, y_train, epochs=epochs, batch_size = 100, validation_split=0.15, callbacks=[EarlyStopping(monitor='val_loss', patience=10)])"
   ]
  },
  {
   "cell_type": "code",
   "execution_count": null,
   "id": "HgbvO80yF57E",
   "metadata": {
    "colab": {
     "base_uri": "https://localhost:8080/"
    },
    "id": "HgbvO80yF57E",
    "outputId": "532752ee-5424-4ac7-d7e2-27c5b012fb0d"
   },
   "outputs": [],
   "source": [
    "myhistory.history.keys()"
   ]
  },
  {
   "cell_type": "code",
   "execution_count": null,
   "id": "QG_0V9D3GZPl",
   "metadata": {
    "colab": {
     "base_uri": "https://localhost:8080/",
     "height": 428
    },
    "id": "QG_0V9D3GZPl",
    "outputId": "f6f430e4-b658-4867-f8a2-9388c4ed39fb"
   },
   "outputs": [],
   "source": [
    "xvals = range(len(myhistory.history['loss']))\n",
    "\n",
    "fig, ax = plt.subplots(1,1,figsize=(10,7))\n",
    "ax.plot(xvals, myhistory.history['val_mape'], '-o', label='test set accuracy')\n",
    "ax.plot(xvals, myhistory.history['mape'], '-o', label='train set accuracy')\n",
    "ax.legend()\n",
    "plt.show()"
   ]
  },
  {
   "cell_type": "code",
   "execution_count": null,
   "id": "LWluqlCKHAyI",
   "metadata": {
    "colab": {
     "base_uri": "https://localhost:8080/"
    },
    "id": "LWluqlCKHAyI",
    "outputId": "676dccd4-69e1-4174-b9e0-3254ae9471c6"
   },
   "outputs": [],
   "source": [
    "y_pred = model.predict(X_test)\n",
    "\n",
    "from sklearn import metrics\n",
    "\n",
    "print('MAE:', metrics.mean_absolute_error(y_test, y_pred))  \n",
    "print('MSE:', metrics.mean_squared_error(y_test, y_pred))  \n",
    "print('MAPE:', np.sqrt(metrics.mean_absolute_percentage_error(y_test, y_pred)))\n",
    "print('R2:', np.sqrt(metrics.r2_score(y_test, y_pred)))\n",
    "print('VarScore:',metrics.explained_variance_score(y_test,y_pred))"
   ]
  },
  {
   "cell_type": "code",
   "execution_count": 16,
   "id": "LBwaN2QuI47Z",
   "metadata": {
    "colab": {
     "base_uri": "https://localhost:8080/",
     "height": 351
    },
    "id": "LBwaN2QuI47Z",
    "outputId": "bff3f509-0393-47f7-9ce1-efe3e8cf0bd0"
   },
   "outputs": [
    {
     "ename": "NameError",
     "evalue": "name 'y_pred' is not defined",
     "output_type": "error",
     "traceback": [
      "\u001b[0;31m---------------------------------------------------------------------------\u001b[0m",
      "\u001b[0;31mNameError\u001b[0m                                 Traceback (most recent call last)",
      "\u001b[0;32m<ipython-input-16-68952d801a92>\u001b[0m in \u001b[0;36m<module>\u001b[0;34m\u001b[0m\n\u001b[1;32m      1\u001b[0m \u001b[0;31m# Visualizing Our predictions\u001b[0m\u001b[0;34m\u001b[0m\u001b[0;34m\u001b[0m\u001b[0;34m\u001b[0m\u001b[0m\n\u001b[1;32m      2\u001b[0m \u001b[0mfig\u001b[0m \u001b[0;34m=\u001b[0m \u001b[0mplt\u001b[0m\u001b[0;34m.\u001b[0m\u001b[0mfigure\u001b[0m\u001b[0;34m(\u001b[0m\u001b[0mfigsize\u001b[0m\u001b[0;34m=\u001b[0m\u001b[0;34m(\u001b[0m\u001b[0;36m10\u001b[0m\u001b[0;34m,\u001b[0m\u001b[0;36m5\u001b[0m\u001b[0;34m)\u001b[0m\u001b[0;34m)\u001b[0m\u001b[0;34m\u001b[0m\u001b[0;34m\u001b[0m\u001b[0m\n\u001b[0;32m----> 3\u001b[0;31m \u001b[0mplt\u001b[0m\u001b[0;34m.\u001b[0m\u001b[0mscatter\u001b[0m\u001b[0;34m(\u001b[0m\u001b[0my_test\u001b[0m\u001b[0;34m,\u001b[0m\u001b[0my_pred\u001b[0m\u001b[0;34m)\u001b[0m\u001b[0;34m\u001b[0m\u001b[0;34m\u001b[0m\u001b[0m\n\u001b[0m\u001b[1;32m      4\u001b[0m \u001b[0;31m# Perfect predictions\u001b[0m\u001b[0;34m\u001b[0m\u001b[0;34m\u001b[0m\u001b[0;34m\u001b[0m\u001b[0m\n\u001b[1;32m      5\u001b[0m \u001b[0mplt\u001b[0m\u001b[0;34m.\u001b[0m\u001b[0mplot\u001b[0m\u001b[0;34m(\u001b[0m\u001b[0my_test\u001b[0m\u001b[0;34m,\u001b[0m\u001b[0my_test\u001b[0m\u001b[0;34m,\u001b[0m\u001b[0;34m'r'\u001b[0m\u001b[0;34m)\u001b[0m\u001b[0;34m\u001b[0m\u001b[0;34m\u001b[0m\u001b[0m\n",
      "\u001b[0;31mNameError\u001b[0m: name 'y_pred' is not defined"
     ]
    },
    {
     "data": {
      "text/plain": [
       "<Figure size 720x360 with 0 Axes>"
      ]
     },
     "metadata": {},
     "output_type": "display_data"
    }
   ],
   "source": [
    "# Visualizing Our predictions\n",
    "fig = plt.figure(figsize=(10,5))\n",
    "plt.scatter(y_test,y_pred)\n",
    "# Perfect predictions\n",
    "plt.plot(y_test,y_test,'r')\n",
    "plt.xlabel('y_test')\n",
    "plt.ylabel('y_pred')"
   ]
  },
  {
   "cell_type": "code",
   "execution_count": 17,
   "id": "PMZQcNkSOwGi",
   "metadata": {
    "colab": {
     "base_uri": "https://localhost:8080/"
    },
    "id": "PMZQcNkSOwGi",
    "outputId": "fae44316-5f9c-47ba-c912-505c06d1b5c2"
   },
   "outputs": [
    {
     "name": "stdout",
     "output_type": "stream",
     "text": [
      "(10000, 150, 150)\n",
      "(10000,)\n"
     ]
    }
   ],
   "source": [
    "def draw_circle(x,y,r,c,th):\n",
    "    cv2.circle(img, center = (x,y), radius = r, color = c, thickness=th)\n",
    "\n",
    "all_circle=[]\n",
    "all_area=[]\n",
    "\n",
    "ncircles=10000\n",
    "for i in range(ncircles):   \n",
    "    img = np.zeros([150, 150])\n",
    "    radious_list = []\n",
    "    c= (1, 0, 0)\n",
    "    th=1\n",
    "\n",
    "    num_circles = np.random.randint(3,6)\n",
    "\n",
    "    control = np.random.randint(1,6)\n",
    "\n",
    "    for j in range(num_circles):\n",
    "        x,y=np.random.randint(10,90,2)\n",
    "\n",
    "        if(control == 1):\n",
    "            r=np.random.randint(10,15)\n",
    "        if(control == 2):\n",
    "            r=np.random.randint(15,20)\n",
    "        if(control == 3):\n",
    "            r=np.random.randint(20,25)\n",
    "        if(control == 4):\n",
    "            r=np.random.randint(25,30)\n",
    "        if(control == 5):\n",
    "            r=np.random.randint(30,35)\n",
    "\n",
    "        draw_circle(x,y,r,c,th) \n",
    "        radious_list.append(round(np.pi*r**2, 0))\n",
    "    \n",
    "    radious_list =np.array(radious_list)\n",
    "    #img_flat=img.reshape(1,img.size)\n",
    "    all_circle.append(img)\n",
    "    all_area.append(radious_list.mean())\n",
    "    \n",
    "all_circle_array=np.array(all_circle)    \n",
    "all_area_array=np.array(all_area)\n",
    "\n",
    "print(all_circle_array.shape)\n",
    "print(all_area_array.shape)"
   ]
  },
  {
   "cell_type": "code",
   "execution_count": 18,
   "id": "nxk6G7_ePhst",
   "metadata": {
    "colab": {
     "base_uri": "https://localhost:8080/",
     "height": 298
    },
    "id": "nxk6G7_ePhst",
    "outputId": "f9071f00-037e-42b7-ea19-c2987c3cfe48"
   },
   "outputs": [
    {
     "data": {
      "text/plain": [
       "Text(0.5, 1.0, '1594.5')"
      ]
     },
     "execution_count": 18,
     "metadata": {},
     "output_type": "execute_result"
    },
    {
     "data": {
      "image/png": "[encoded data removed]",
      "text/plain": [
       "<Figure size 432x288 with 1 Axes>"
      ]
     },
     "metadata": {
      "needs_background": "light"
     },
     "output_type": "display_data"
    }
   ],
   "source": [
    "fig,ax=plt.subplots(1,1)\n",
    "idx=np.random.randint(0,ncircles)\n",
    "ax.imshow(all_circle_array[idx])\n",
    "ax.set_title(str(all_area_array[idx]))"
   ]
  },
  {
   "cell_type": "code",
   "execution_count": 65,
   "id": "NcFr1JdMQjrb",
   "metadata": {
    "colab": {
     "base_uri": "https://localhost:8080/"
    },
    "id": "NcFr1JdMQjrb",
    "outputId": "5b4c32e6-e167-4107-d0f7-2625ec75779a"
   },
   "outputs": [
    {
     "name": "stdout",
     "output_type": "stream",
     "text": [
      "X_data shape:  (10000, 150, 150)\n",
      "y_data shape:  (10000,)\n"
     ]
    }
   ],
   "source": [
    "# Divide my data into X data and y data\n",
    "X_data = all_circle_array\n",
    "y_data = all_area_array\n",
    "\n",
    "print(\"X_data shape: \",X_data.shape)\n",
    "print(\"y_data shape: \",y_data.shape)"
   ]
  },
  {
   "cell_type": "code",
   "execution_count": 66,
   "id": "national-framework",
   "metadata": {},
   "outputs": [],
   "source": [
    "X_data=X_data[...,None]"
   ]
  },
  {
   "cell_type": "code",
   "execution_count": null,
   "id": "communist-format",
   "metadata": {},
   "outputs": [],
   "source": []
  },
  {
   "cell_type": "code",
   "execution_count": 67,
   "id": "67EzB4TuQ0fC",
   "metadata": {
    "id": "67EzB4TuQ0fC"
   },
   "outputs": [],
   "source": [
    "# Split my data into test and train samples\n",
    "(X_train, X_test, y_train, y_test) = train_test_split(X_data, y_data, test_size=0.2, random_state=1)"
   ]
  },
  {
   "cell_type": "code",
   "execution_count": 69,
   "id": "bEFBDg50Q7pF",
   "metadata": {
    "id": "bEFBDg50Q7pF"
   },
   "outputs": [],
   "source": [
    "# Intance a Sequen|tial model\n",
    "units=2048\n",
    "model = get_model(X_train[0].shape)"
   ]
  },
  {
   "cell_type": "code",
   "execution_count": 70,
   "id": "izVWSdECRALu",
   "metadata": {
    "colab": {
     "base_uri": "https://localhost:8080/"
    },
    "id": "izVWSdECRALu",
    "outputId": "6237c146-a752-42be-d036-49df23c6e14d"
   },
   "outputs": [
    {
     "name": "stdout",
     "output_type": "stream",
     "text": [
      "Model: \"sequential_10\"\n",
      "_________________________________________________________________\n",
      "Layer (type)                 Output Shape              Param #   \n",
      "=================================================================\n",
      "conv2d_30 (Conv2D)           (None, 148, 148, 25)      250       \n",
      "_________________________________________________________________\n",
      "max_pooling2d_30 (MaxPooling (None, 74, 74, 25)        0         \n",
      "_________________________________________________________________\n",
      "conv2d_31 (Conv2D)           (None, 72, 72, 64)        14464     \n",
      "_________________________________________________________________\n",
      "max_pooling2d_31 (MaxPooling (None, 36, 36, 64)        0         \n",
      "_________________________________________________________________\n",
      "conv2d_32 (Conv2D)           (None, 34, 34, 64)        36928     \n",
      "_________________________________________________________________\n",
      "max_pooling2d_32 (MaxPooling (None, 17, 17, 64)        0         \n",
      "_________________________________________________________________\n",
      "flatten_10 (Flatten)         (None, 18496)             0         \n",
      "_________________________________________________________________\n",
      "dense_20 (Dense)             (None, 64)                1183808   \n",
      "_________________________________________________________________\n",
      "dense_21 (Dense)             (None, 1)                 65        \n",
      "=================================================================\n",
      "Total params: 1,235,515\n",
      "Trainable params: 1,235,515\n",
      "Non-trainable params: 0\n",
      "_________________________________________________________________\n"
     ]
    }
   ],
   "source": [
    "model.summary()"
   ]
  },
  {
   "cell_type": "code",
   "execution_count": null,
   "id": "Z7EdRyVtREnh",
   "metadata": {
    "id": "Z7EdRyVtREnh"
   },
   "outputs": [],
   "source": [
    "#compile_model(model, optimizers.RMSprop(learning_rate=0.0001), 'mape')\n",
    "compile_model(model, 'adam', 'mape')"
   ]
  },
  {
   "cell_type": "code",
   "execution_count": null,
   "id": "MzE4K6p5RIzX",
   "metadata": {
    "colab": {
     "base_uri": "https://localhost:8080/"
    },
    "id": "MzE4K6p5RIzX",
    "outputId": "31bda525-3d3c-4c5a-c6af-97c1d710e13a"
   },
   "outputs": [],
   "source": [
    "epochs = 200\n",
    "myhistory = model.fit(X_train, y_train, epochs=epochs, batch_size = 64, validation_split=0.15, callbacks=[EarlyStopping(monitor='val_loss', patience=10)])"
   ]
  },
  {
   "cell_type": "code",
   "execution_count": null,
   "id": "22j0CMAPSzbr",
   "metadata": {
    "colab": {
     "base_uri": "https://localhost:8080/",
     "height": 428
    },
    "id": "22j0CMAPSzbr",
    "outputId": "50c57cac-7bd7-428c-ac5b-e0b062e22edc"
   },
   "outputs": [],
   "source": [
    "xvals = range(len(myhistory.history['loss']))\n",
    "\n",
    "fig, ax = plt.subplots(1,1,figsize=(10,7))\n",
    "ax.plot(xvals, myhistory.history['val_mape'], '-o', label='test set accuracy')\n",
    "ax.plot(xvals, myhistory.history['mape'], '-o', label='train set accuracy')\n",
    "ax.legend()\n",
    "plt.show()\n",
    "\n"
   ]
  },
  {
   "cell_type": "code",
   "execution_count": null,
   "id": "iJOKT0QPS5AJ",
   "metadata": {
    "colab": {
     "base_uri": "https://localhost:8080/"
    },
    "id": "iJOKT0QPS5AJ",
    "outputId": "4d05c8b4-5130-457d-ece8-7b13d2abf045"
   },
   "outputs": [],
   "source": [
    "y_pred = model.predict(X_test)\n",
    "\n",
    "from sklearn import metrics\n",
    "\n",
    "print('MAE:', metrics.mean_absolute_error(y_test, y_pred))  \n",
    "print('MSE:', metrics.mean_squared_error(y_test, y_pred))  \n",
    "print('MAPE:', np.sqrt(metrics.mean_absolute_percentage_error(y_test, y_pred)))\n",
    "print('R2:', np.sqrt(metrics.r2_score(y_test, y_pred)))\n",
    "print('VarScore:',metrics.explained_variance_score(y_test,y_pred))"
   ]
  },
  {
   "cell_type": "code",
   "execution_count": null,
   "id": "u7R-KqYlTAod",
   "metadata": {
    "colab": {
     "base_uri": "https://localhost:8080/",
     "height": 351
    },
    "id": "u7R-KqYlTAod",
    "outputId": "0fae9b58-2f56-4efe-d9d2-5201f6fb08b0"
   },
   "outputs": [],
   "source": [
    "# Visualizing Our predictions\n",
    "fig = plt.figure(figsize=(10,5))\n",
    "plt.scatter(y_test,y_pred)\n",
    "# Perfect predictions\n",
    "plt.plot(y_test,y_test,'r')\n",
    "plt.xlabel('y_test')\n",
    "plt.ylabel('y_pred')"
   ]
  },
  {
   "cell_type": "code",
   "execution_count": null,
   "id": "D-ho-UfI_zFq",
   "metadata": {
    "id": "D-ho-UfI_zFq"
   },
   "outputs": [],
   "source": []
  },
  {
   "cell_type": "code",
   "execution_count": null,
   "id": "favorite-prerequisite",
   "metadata": {},
   "outputs": [],
   "source": []
  },
  {
   "cell_type": "code",
   "execution_count": null,
   "id": "supported-positive",
   "metadata": {},
   "outputs": [],
   "source": []
  },
  {
   "cell_type": "code",
   "execution_count": null,
   "id": "cardiac-privacy",
   "metadata": {},
   "outputs": [],
   "source": []
  },
  {
   "cell_type": "code",
   "execution_count": null,
   "id": "potential-renewal",
   "metadata": {},
   "outputs": [],
   "source": []
  },
  {
   "cell_type": "code",
   "execution_count": null,
   "id": "australian-turner",
   "metadata": {},
   "outputs": [],
   "source": []
  },
  {
   "cell_type": "code",
   "execution_count": null,
   "id": "valued-massage",
   "metadata": {},
   "outputs": [],
   "source": []
  },
  {
   "cell_type": "code",
   "execution_count": null,
   "id": "upper-buying",
   "metadata": {},
   "outputs": [],
   "source": []
  },
  {
   "cell_type": "code",
   "execution_count": null,
   "id": "infrared-brooks",
   "metadata": {},
   "outputs": [],
   "source": []
  },
  {
   "cell_type": "code",
   "execution_count": null,
   "id": "affecting-scene",
   "metadata": {},
   "outputs": [],
   "source": []
  },
  {
   "cell_type": "code",
   "execution_count": null,
   "id": "infinite-prescription",
   "metadata": {},
   "outputs": [],
   "source": []
  }
 ],
 "metadata": {
  "accelerator": "GPU",
  "colab": {
   "collapsed_sections": [],
   "name": "FinalProject.ipynb",
   "provenance": []
  },
  "kernelspec": {
   "display_name": "Python 3",
   "language": "python",
   "name": "python3"
  },
  "language_info": {
   "codemirror_mode": {
    "name": "ipython",
    "version": 3
   },
   "file_extension": ".py",
   "mimetype": "text/x-python",
   "name": "python",
   "nbconvert_exporter": "python",
   "pygments_lexer": "ipython3",
   "version": "3.7.2"
  }
 },
 "nbformat": 4,
 "nbformat_minor": 5
}
