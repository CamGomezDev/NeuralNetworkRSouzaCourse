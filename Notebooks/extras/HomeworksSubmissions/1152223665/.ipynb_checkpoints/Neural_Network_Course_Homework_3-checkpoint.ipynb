{
 "cells": [
  {
   "cell_type": "markdown",
   "metadata": {
    "id": "Lcbl3x5jDJxY"
   },
   "source": [
    "# **Samuel Vasco Vasco González**  Cc. 1152223665"
   ]
  },
  {
   "cell_type": "code",
   "execution_count": 1,
   "metadata": {
    "colab": {
     "base_uri": "https://localhost:8080/"
    },
    "id": "XI07ripUVEHE",
    "outputId": "b08bb0ae-7c31-46b4-fd3c-cea8882723a2"
   },
   "outputs": [],
   "source": [
    "#from google.colab import drive\n",
    "#drive.mount('/content/drive')"
   ]
  },
  {
   "cell_type": "code",
   "execution_count": 2,
   "metadata": {
    "colab": {
     "base_uri": "https://localhost:8080/"
    },
    "id": "0XN3ULXgXdO-",
    "outputId": "872a4ce6-c1ff-41c6-a929-a0f25f4cffad"
   },
   "outputs": [
    {
     "name": "stdout",
     "output_type": "stream",
     "text": [
      "Populating the interactive namespace from numpy and matplotlib\n"
     ]
    }
   ],
   "source": [
    "%pylab inline\n",
    "import pandas as pd\n",
    "from scipy.optimize import curve_fit"
   ]
  },
  {
   "cell_type": "code",
   "execution_count": 3,
   "metadata": {
    "colab": {
     "base_uri": "https://localhost:8080/",
     "height": 423
    },
    "id": "dZjkHi-QXOlU",
    "outputId": "33def3cd-b967-42e2-fc89-5011d4b218b7"
   },
   "outputs": [
    {
     "ename": "FileNotFoundError",
     "evalue": "[Errno 2] File b'/content/drive/MyDrive/Colab Notebooks/Neural_Network_Course/Homework 3/data.csv' does not exist: b'/content/drive/MyDrive/Colab Notebooks/Neural_Network_Course/Homework 3/data.csv'",
     "output_type": "error",
     "traceback": [
      "\u001b[0;31m---------------------------------------------------------------------------\u001b[0m",
      "\u001b[0;31mFileNotFoundError\u001b[0m                         Traceback (most recent call last)",
      "\u001b[0;32m<ipython-input-3-dfad6b15a5a1>\u001b[0m in \u001b[0;36m<module>\u001b[0;34m\u001b[0m\n\u001b[1;32m      1\u001b[0m \u001b[0;31m#import and show dataset\u001b[0m\u001b[0;34m\u001b[0m\u001b[0;34m\u001b[0m\u001b[0;34m\u001b[0m\u001b[0m\n\u001b[0;32m----> 2\u001b[0;31m \u001b[0mdata\u001b[0m\u001b[0;34m=\u001b[0m\u001b[0mpd\u001b[0m\u001b[0;34m.\u001b[0m\u001b[0mread_csv\u001b[0m\u001b[0;34m(\u001b[0m\u001b[0;34m'/content/drive/MyDrive/Colab Notebooks/Neural_Network_Course/Homework 3/data.csv'\u001b[0m\u001b[0;34m,\u001b[0m\u001b[0mheader\u001b[0m\u001b[0;34m=\u001b[0m\u001b[0;32mNone\u001b[0m\u001b[0;34m)\u001b[0m\u001b[0;34m\u001b[0m\u001b[0;34m\u001b[0m\u001b[0m\n\u001b[0m\u001b[1;32m      3\u001b[0m \u001b[0mdata\u001b[0m\u001b[0;34m.\u001b[0m\u001b[0mcolumns\u001b[0m\u001b[0;34m=\u001b[0m\u001b[0;34m[\u001b[0m\u001b[0;34m\"X\"\u001b[0m\u001b[0;34m,\u001b[0m\u001b[0;34m\"y\"\u001b[0m\u001b[0;34m]\u001b[0m\u001b[0;34m\u001b[0m\u001b[0;34m\u001b[0m\u001b[0m\n\u001b[1;32m      4\u001b[0m \u001b[0mdata\u001b[0m\u001b[0;34m\u001b[0m\u001b[0;34m\u001b[0m\u001b[0m\n",
      "\u001b[0;32m/usr/lib64/python3.7/site-packages/pandas/io/parsers.py\u001b[0m in \u001b[0;36mparser_f\u001b[0;34m(filepath_or_buffer, sep, delimiter, header, names, index_col, usecols, squeeze, prefix, mangle_dupe_cols, dtype, engine, converters, true_values, false_values, skipinitialspace, skiprows, skipfooter, nrows, na_values, keep_default_na, na_filter, verbose, skip_blank_lines, parse_dates, infer_datetime_format, keep_date_col, date_parser, dayfirst, cache_dates, iterator, chunksize, compression, thousands, decimal, lineterminator, quotechar, quoting, doublequote, escapechar, comment, encoding, dialect, error_bad_lines, warn_bad_lines, delim_whitespace, low_memory, memory_map, float_precision)\u001b[0m\n\u001b[1;32m    683\u001b[0m         )\n\u001b[1;32m    684\u001b[0m \u001b[0;34m\u001b[0m\u001b[0m\n\u001b[0;32m--> 685\u001b[0;31m         \u001b[0;32mreturn\u001b[0m \u001b[0m_read\u001b[0m\u001b[0;34m(\u001b[0m\u001b[0mfilepath_or_buffer\u001b[0m\u001b[0;34m,\u001b[0m \u001b[0mkwds\u001b[0m\u001b[0;34m)\u001b[0m\u001b[0;34m\u001b[0m\u001b[0;34m\u001b[0m\u001b[0m\n\u001b[0m\u001b[1;32m    686\u001b[0m \u001b[0;34m\u001b[0m\u001b[0m\n\u001b[1;32m    687\u001b[0m     \u001b[0mparser_f\u001b[0m\u001b[0;34m.\u001b[0m\u001b[0m__name__\u001b[0m \u001b[0;34m=\u001b[0m \u001b[0mname\u001b[0m\u001b[0;34m\u001b[0m\u001b[0;34m\u001b[0m\u001b[0m\n",
      "\u001b[0;32m/usr/lib64/python3.7/site-packages/pandas/io/parsers.py\u001b[0m in \u001b[0;36m_read\u001b[0;34m(filepath_or_buffer, kwds)\u001b[0m\n\u001b[1;32m    455\u001b[0m \u001b[0;34m\u001b[0m\u001b[0m\n\u001b[1;32m    456\u001b[0m     \u001b[0;31m# Create the parser.\u001b[0m\u001b[0;34m\u001b[0m\u001b[0;34m\u001b[0m\u001b[0;34m\u001b[0m\u001b[0m\n\u001b[0;32m--> 457\u001b[0;31m     \u001b[0mparser\u001b[0m \u001b[0;34m=\u001b[0m \u001b[0mTextFileReader\u001b[0m\u001b[0;34m(\u001b[0m\u001b[0mfp_or_buf\u001b[0m\u001b[0;34m,\u001b[0m \u001b[0;34m**\u001b[0m\u001b[0mkwds\u001b[0m\u001b[0;34m)\u001b[0m\u001b[0;34m\u001b[0m\u001b[0;34m\u001b[0m\u001b[0m\n\u001b[0m\u001b[1;32m    458\u001b[0m \u001b[0;34m\u001b[0m\u001b[0m\n\u001b[1;32m    459\u001b[0m     \u001b[0;32mif\u001b[0m \u001b[0mchunksize\u001b[0m \u001b[0;32mor\u001b[0m \u001b[0miterator\u001b[0m\u001b[0;34m:\u001b[0m\u001b[0;34m\u001b[0m\u001b[0;34m\u001b[0m\u001b[0m\n",
      "\u001b[0;32m/usr/lib64/python3.7/site-packages/pandas/io/parsers.py\u001b[0m in \u001b[0;36m__init__\u001b[0;34m(self, f, engine, **kwds)\u001b[0m\n\u001b[1;32m    893\u001b[0m             \u001b[0mself\u001b[0m\u001b[0;34m.\u001b[0m\u001b[0moptions\u001b[0m\u001b[0;34m[\u001b[0m\u001b[0;34m\"has_index_names\"\u001b[0m\u001b[0;34m]\u001b[0m \u001b[0;34m=\u001b[0m \u001b[0mkwds\u001b[0m\u001b[0;34m[\u001b[0m\u001b[0;34m\"has_index_names\"\u001b[0m\u001b[0;34m]\u001b[0m\u001b[0;34m\u001b[0m\u001b[0;34m\u001b[0m\u001b[0m\n\u001b[1;32m    894\u001b[0m \u001b[0;34m\u001b[0m\u001b[0m\n\u001b[0;32m--> 895\u001b[0;31m         \u001b[0mself\u001b[0m\u001b[0;34m.\u001b[0m\u001b[0m_make_engine\u001b[0m\u001b[0;34m(\u001b[0m\u001b[0mself\u001b[0m\u001b[0;34m.\u001b[0m\u001b[0mengine\u001b[0m\u001b[0;34m)\u001b[0m\u001b[0;34m\u001b[0m\u001b[0;34m\u001b[0m\u001b[0m\n\u001b[0m\u001b[1;32m    896\u001b[0m \u001b[0;34m\u001b[0m\u001b[0m\n\u001b[1;32m    897\u001b[0m     \u001b[0;32mdef\u001b[0m \u001b[0mclose\u001b[0m\u001b[0;34m(\u001b[0m\u001b[0mself\u001b[0m\u001b[0;34m)\u001b[0m\u001b[0;34m:\u001b[0m\u001b[0;34m\u001b[0m\u001b[0;34m\u001b[0m\u001b[0m\n",
      "\u001b[0;32m/usr/lib64/python3.7/site-packages/pandas/io/parsers.py\u001b[0m in \u001b[0;36m_make_engine\u001b[0;34m(self, engine)\u001b[0m\n\u001b[1;32m   1133\u001b[0m     \u001b[0;32mdef\u001b[0m \u001b[0m_make_engine\u001b[0m\u001b[0;34m(\u001b[0m\u001b[0mself\u001b[0m\u001b[0;34m,\u001b[0m \u001b[0mengine\u001b[0m\u001b[0;34m=\u001b[0m\u001b[0;34m\"c\"\u001b[0m\u001b[0;34m)\u001b[0m\u001b[0;34m:\u001b[0m\u001b[0;34m\u001b[0m\u001b[0;34m\u001b[0m\u001b[0m\n\u001b[1;32m   1134\u001b[0m         \u001b[0;32mif\u001b[0m \u001b[0mengine\u001b[0m \u001b[0;34m==\u001b[0m \u001b[0;34m\"c\"\u001b[0m\u001b[0;34m:\u001b[0m\u001b[0;34m\u001b[0m\u001b[0;34m\u001b[0m\u001b[0m\n\u001b[0;32m-> 1135\u001b[0;31m             \u001b[0mself\u001b[0m\u001b[0;34m.\u001b[0m\u001b[0m_engine\u001b[0m \u001b[0;34m=\u001b[0m \u001b[0mCParserWrapper\u001b[0m\u001b[0;34m(\u001b[0m\u001b[0mself\u001b[0m\u001b[0;34m.\u001b[0m\u001b[0mf\u001b[0m\u001b[0;34m,\u001b[0m \u001b[0;34m**\u001b[0m\u001b[0mself\u001b[0m\u001b[0;34m.\u001b[0m\u001b[0moptions\u001b[0m\u001b[0;34m)\u001b[0m\u001b[0;34m\u001b[0m\u001b[0;34m\u001b[0m\u001b[0m\n\u001b[0m\u001b[1;32m   1136\u001b[0m         \u001b[0;32melse\u001b[0m\u001b[0;34m:\u001b[0m\u001b[0;34m\u001b[0m\u001b[0;34m\u001b[0m\u001b[0m\n\u001b[1;32m   1137\u001b[0m             \u001b[0;32mif\u001b[0m \u001b[0mengine\u001b[0m \u001b[0;34m==\u001b[0m \u001b[0;34m\"python\"\u001b[0m\u001b[0;34m:\u001b[0m\u001b[0;34m\u001b[0m\u001b[0;34m\u001b[0m\u001b[0m\n",
      "\u001b[0;32m/usr/lib64/python3.7/site-packages/pandas/io/parsers.py\u001b[0m in \u001b[0;36m__init__\u001b[0;34m(self, src, **kwds)\u001b[0m\n\u001b[1;32m   1915\u001b[0m         \u001b[0mkwds\u001b[0m\u001b[0;34m[\u001b[0m\u001b[0;34m\"usecols\"\u001b[0m\u001b[0;34m]\u001b[0m \u001b[0;34m=\u001b[0m \u001b[0mself\u001b[0m\u001b[0;34m.\u001b[0m\u001b[0musecols\u001b[0m\u001b[0;34m\u001b[0m\u001b[0;34m\u001b[0m\u001b[0m\n\u001b[1;32m   1916\u001b[0m \u001b[0;34m\u001b[0m\u001b[0m\n\u001b[0;32m-> 1917\u001b[0;31m         \u001b[0mself\u001b[0m\u001b[0;34m.\u001b[0m\u001b[0m_reader\u001b[0m \u001b[0;34m=\u001b[0m \u001b[0mparsers\u001b[0m\u001b[0;34m.\u001b[0m\u001b[0mTextReader\u001b[0m\u001b[0;34m(\u001b[0m\u001b[0msrc\u001b[0m\u001b[0;34m,\u001b[0m \u001b[0;34m**\u001b[0m\u001b[0mkwds\u001b[0m\u001b[0;34m)\u001b[0m\u001b[0;34m\u001b[0m\u001b[0;34m\u001b[0m\u001b[0m\n\u001b[0m\u001b[1;32m   1918\u001b[0m         \u001b[0mself\u001b[0m\u001b[0;34m.\u001b[0m\u001b[0munnamed_cols\u001b[0m \u001b[0;34m=\u001b[0m \u001b[0mself\u001b[0m\u001b[0;34m.\u001b[0m\u001b[0m_reader\u001b[0m\u001b[0;34m.\u001b[0m\u001b[0munnamed_cols\u001b[0m\u001b[0;34m\u001b[0m\u001b[0;34m\u001b[0m\u001b[0m\n\u001b[1;32m   1919\u001b[0m \u001b[0;34m\u001b[0m\u001b[0m\n",
      "\u001b[0;32mpandas/_libs/parsers.pyx\u001b[0m in \u001b[0;36mpandas._libs.parsers.TextReader.__cinit__\u001b[0;34m()\u001b[0m\n",
      "\u001b[0;32mpandas/_libs/parsers.pyx\u001b[0m in \u001b[0;36mpandas._libs.parsers.TextReader._setup_parser_source\u001b[0;34m()\u001b[0m\n",
      "\u001b[0;31mFileNotFoundError\u001b[0m: [Errno 2] File b'/content/drive/MyDrive/Colab Notebooks/Neural_Network_Course/Homework 3/data.csv' does not exist: b'/content/drive/MyDrive/Colab Notebooks/Neural_Network_Course/Homework 3/data.csv'"
     ]
    }
   ],
   "source": [
    "#import and show dataset\n",
    "data=pd.read_csv('data.csv',header=None)\n",
    "data.columns=[\"X\",\"y\"]\n",
    "data"
   ]
  },
  {
   "cell_type": "markdown",
   "metadata": {
    "id": "_wyK7zHJdwB9"
   },
   "source": [
    "## We go to implement numerically gradient descent whit 100 iterations on the \"data.csv\" which represent some linear regression problem (fitting).\n",
    "\n",
    "The parameters are:\n",
    "\n",
    "* $\\theta_1 = 10$      initial values of $y=\\theta_1*x + \\theta_0$  \n",
    "* $\\theta_0 = 10$        \n",
    "* $\\alpha = 0.0001$    The learning Rate  \n",
    "* $epochs = 100$      The number of iterations\n",
    "\n",
    "After finding the optimal $\\theta_0$ and $\\theta_1$ that minimized the MSE function.\n",
    "\n",
    "Hypotesis: $$h_\\theta(x)=\\theta_1x+\\theta_0$$\n",
    "\n",
    "Ecuation of recurrency for $\\theta$'s:\n",
    "\n",
    "$$ \\theta_0:=\\theta_0 -\\alpha \\frac{1}{m} \\sum_{i=1}^{m}[ h_{\\theta}(x_i) - y_i]$$\n",
    "\n",
    "$$ \\theta_1:=\\theta_1 - \\alpha \\frac{1}{m} \\sum_{i=1}^{m}\\left[ h_{\\theta}(x_i) - y_i\\right] x_i$$\n",
    "\n",
    "The loss functions that we use are: \n",
    "\n",
    "$$MSE = \\frac{1}{m} \\sum_{i=1}^{m}[y_i - h_{\\theta}(x_i)]^2$$\n",
    "\n",
    "$$MAE = \\frac{1}{m} \\sum_{i=1}^{m}|y_i - h_{\\theta}(x_i)| $$\n",
    "\n",
    "$$MAPE = \\frac{100}{m} \\sum_{i=1}^{m} \\left|\\frac{y_i - h_{\\theta}(x_i)}{y_i}\\right| $$\n",
    "\n",
    "Where $h_{\\theta}(x_i)$ is the value predicted by model or $y_{pred}$. "
   ]
  },
  {
   "cell_type": "code",
   "execution_count": null,
   "metadata": {
    "colab": {
     "base_uri": "https://localhost:8080/",
     "height": 902
    },
    "id": "t-IL8ThZoVLy",
    "outputId": "7de4f97b-edac-4624-dc98-cf5f32ed8af4"
   },
   "outputs": [],
   "source": [
    "def Gradient_descent_plus(X,y,alpha,theta0,theta1,epochs):\n",
    "  iterations=np.arange(epochs)\n",
    "  m=len(X)\n",
    "  MSE=[]\n",
    "  MAE=[]\n",
    "  MAPE=[]\n",
    "  for i in iterations:\n",
    "    pred=theta1*X+theta0\n",
    "\n",
    "    mse=1/m*np.sum((y-pred)**2)\n",
    "    mae=1/m*np.sum(np.abs(y-pred))\n",
    "    mape=100/m*np.sum(np.abs((y-pred)/y))\n",
    "\n",
    "    MSE.append(mse)\n",
    "    MAE.append(mae)\n",
    "    MAPE.append(mape)\n",
    "\n",
    "    theta0=theta0-alpha/m*np.sum(pred-y)\n",
    "    theta1=theta1-alpha/m*np.sum((pred-y)*X)\n",
    "  \n",
    "  return theta0,theta1,MSE,MAE,MAPE\n",
    "\n",
    "X=data[\"X\"].values\n",
    "y=data[\"y\"].values\n",
    "theta0=10\n",
    "theta1=10\n",
    "alpha=0.0001\n",
    "epochs=100\n",
    "\n",
    "theta0_1,theta1_1,MSE1,MAE1,MAPE1= Gradient_descent_plus(X,y,alpha,theta0,theta1,epochs)\n",
    "\n",
    "alpha=0.0007\n",
    "\n",
    "theta0_2,theta1_2,MSE2,MAE2,MAPE2= Gradient_descent_plus(X,y,alpha,theta0,theta1,epochs)\n",
    "\n",
    "X_fit=np.linspace(np.min(X),np.max(X),100)\n",
    "y_fit1=theta1_1*X_fit + theta0_1\n",
    "\n",
    "y_fit2=theta1_2*X_fit + theta0_2\n",
    "\n",
    "def f(x,theta1,theta0):\n",
    "  return theta1*x + theta0\n",
    "param, cov = curve_fit(f, X, y)\n",
    "\n",
    "fig, axs = plt.subplots(2, 2)\n",
    "fig=figsize(12,11)\n",
    "iterations=np.arange(epochs)\n",
    "axs[0,0].plot(X,y,\"bo\",label=\"Data\")\n",
    "axs[0,0].plot(X_fit,y_fit1,\"k--\" ,linewidth=3.5, label=\"Gradient Descent Alpha=0.0001\")\n",
    "axs[0,0].plot(X_fit,y_fit2,\"y--\" ,linewidth=1.5, label=\"Gradient Descent Alpha=0.0007\")\n",
    "axs[0,0].plot(X_fit,f(X_fit,param[0],param[1]),\"r\",label=\"Curve Fit\")\n",
    "axs[0,0].set_xlabel(\"X\")\n",
    "axs[0,0].set_ylabel(\"y\")\n",
    "axs[0,0].legend()\n",
    "axs[0,1].plot(iterations,MSE1,\"bs\" ,linewidth=2, label=\"MSE Alpha=0.0001\")\n",
    "axs[0,1].plot(iterations,MSE2,\"r--\" ,linewidth=2, label=\"MSE Alpha=0.0007\")\n",
    "axs[0,1].set_xlabel(\"Number of iteration\")\n",
    "axs[0,1].set_ylabel(\"MSE\")\n",
    "axs[0,1].set_title(\"MSE\")\n",
    "axs[0,1].legend()\n",
    "axs[1,0].plot(iterations,MAE1,\"bs\" ,linewidth=2, label=\"MAE Alpha=0.0001\")\n",
    "axs[1,0].plot(iterations,MAE2,\"r--\" ,linewidth=2, label=\"MAE Alpha=0.0007\")\n",
    "axs[1,0].set_xlabel(\"Number of iteration\")\n",
    "axs[1,0].set_ylabel(\"MAE\")\n",
    "axs[1,0].set_title(\"MAE\")\n",
    "axs[1,0].legend()\n",
    "axs[1,1].plot(iterations,MAPE1,\"bs\" ,linewidth=2, label=\"MAPE Alpha=0.0001\")\n",
    "axs[1,1].plot(iterations,MAPE2,\"r--\" ,linewidth=2, label=\"MAPE Alpha=0.0007\")\n",
    "axs[1,1].set_xlabel(\"Number of iteration\")\n",
    "axs[1,1].set_ylabel(\"MAPE\")\n",
    "axs[1,1].set_title(\"MAPE\")\n",
    "axs[1,1].legend()\n",
    "\n",
    "print(\"The values of parameters using Descent Gradient and Curve Fit are: \\n\")\n",
    "print(\"Descent Gradient Alpha=0.0001 \\n theta_0= {:.5} \\n theta_1= {:.5} \\n\".format(theta0_1,theta1_1))\n",
    "print(\"Descent Gradient Alpha=0.0007 \\n theta_0= {:.5} \\n theta_1= {:.5} \\n\".format(theta0_2,theta1_2))\n",
    "print(\"Curve Fit \\n theta_0= {:.5} \\n theta_1= {:.5}\".format(param[1],param[0]))\n"
   ]
  }
 ],
 "metadata": {
  "colab": {
   "name": "Neural_Network_Course_Homework_3.ipynb",
   "provenance": []
  },
  "kernelspec": {
   "display_name": "Python 3",
   "language": "python",
   "name": "python3"
  },
  "language_info": {
   "codemirror_mode": {
    "name": "ipython",
    "version": 3
   },
   "file_extension": ".py",
   "mimetype": "text/x-python",
   "name": "python",
   "nbconvert_exporter": "python",
   "pygments_lexer": "ipython3",
   "version": "3.7.2"
  }
 },
 "nbformat": 4,
 "nbformat_minor": 1
}
