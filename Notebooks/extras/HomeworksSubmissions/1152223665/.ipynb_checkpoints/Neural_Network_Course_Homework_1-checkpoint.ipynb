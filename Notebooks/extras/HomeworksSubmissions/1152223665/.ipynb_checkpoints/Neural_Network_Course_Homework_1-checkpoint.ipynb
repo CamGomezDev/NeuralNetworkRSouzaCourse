{
 "cells": [
  {
   "cell_type": "markdown",
   "metadata": {
    "id": "Dp5mLaOc_fLG"
   },
   "source": [
    "# **Samuel Vasco Gonzalez  CC.1152223665**\n",
    "\n",
    "Code in python that multiplies two matrixes using loops only "
   ]
  },
  {
   "cell_type": "code",
   "execution_count": 1,
   "metadata": {
    "id": "Ef9ZFPsSAQCz"
   },
   "outputs": [],
   "source": [
    "import numpy as np"
   ]
  },
  {
   "cell_type": "code",
   "execution_count": 2,
   "metadata": {
    "id": "_9RP78Pj-ynQ"
   },
   "outputs": [],
   "source": [
    "def AbyB(A,B):\n",
    "  dimA=np.shape(A)\n",
    "  dimB=np.shape(B)\n",
    "  dimC=(dimA[0],dimB[1])\n",
    "\n",
    "  if dimA[1]==dimB[0]:\n",
    "    C=np.ones(dimC)\n",
    "\n",
    "    for i in range(dimC[0]):\n",
    "      for j in range(dimC[1]):\n",
    "        sum=0\n",
    "        for k in range(dimA[1]):\n",
    "          sum+=A[i][k]*B[k][j]\n",
    "        C[i][j]=sum\n",
    "    return C\n",
    "  else:\n",
    "    return print(\"The matrix A and B are incompatible for multiplication\")"
   ]
  },
  {
   "cell_type": "code",
   "execution_count": 3,
   "metadata": {
    "colab": {
     "base_uri": "https://localhost:8080/"
    },
    "id": "SFvTDJxXCP8f",
    "outputId": "9c37355e-e9ac-4a12-a961-f758b5fd52f6"
   },
   "outputs": [
    {
     "name": "stdout",
     "output_type": "stream",
     "text": [
      "[[14. 32.]\n",
      " [32. 77.]]\n",
      "[[14 32]\n",
      " [32 77]]\n"
     ]
    }
   ],
   "source": [
    "A=np.array([[1,2,3],[4,5,6]])\n",
    "B=A.T\n",
    "print(AbyB(A,B))\n",
    "print(A@B)"
   ]
  },
  {
   "cell_type": "code",
   "execution_count": null,
   "metadata": {
    "id": "VrYYd2PuCs7E"
   },
   "outputs": [],
   "source": []
  }
 ],
 "metadata": {
  "colab": {
   "name": "Neural-Network_Course-Homework_1.ipynb",
   "provenance": []
  },
  "kernelspec": {
   "display_name": "Python 3",
   "language": "python",
   "name": "python3"
  },
  "language_info": {
   "codemirror_mode": {
    "name": "ipython",
    "version": 3
   },
   "file_extension": ".py",
   "mimetype": "text/x-python",
   "name": "python",
   "nbconvert_exporter": "python",
   "pygments_lexer": "ipython3",
   "version": "3.7.2"
  }
 },
 "nbformat": 4,
 "nbformat_minor": 1
}
