{
  "nbformat": 4,
  "nbformat_minor": 0,
  "metadata": {
    "colab": {
      "name": "Neural-Network_Course-Homework_1.ipynb",
      "provenance": []
    },
    "kernelspec": {
      "name": "python3",
      "display_name": "Python 3"
    },
    "language_info": {
      "name": "python"
    }
  },
  "cells": [
    {
      "cell_type": "markdown",
      "metadata": {
        "id": "Dp5mLaOc_fLG"
      },
      "source": [
        "# **Samuel Vasco Gonzalez  CC.1152223665**\n",
        "\n",
        "Code in python that multiplies two matrixes using loops only "
      ]
    },
    {
      "cell_type": "code",
      "metadata": {
        "id": "Ef9ZFPsSAQCz"
      },
      "source": [
        "import numpy as np"
      ],
      "execution_count": 4,
      "outputs": []
    },
    {
      "cell_type": "code",
      "metadata": {
        "id": "_9RP78Pj-ynQ"
      },
      "source": [
        "def AbyB(A,B):\n",
        "  dimA=np.shape(A)\n",
        "  dimB=np.shape(B)\n",
        "  dimC=(dimA[0],dimB[1])\n",
        "\n",
        "  if dimA[1]==dimB[0]:\n",
        "    C=np.ones(dimC)\n",
        "\n",
        "    for i in range(dimC[0]):\n",
        "      for j in range(dimC[1]):\n",
        "        sum=0\n",
        "        for k in range(dimA[1]):\n",
        "          sum+=A[i][k]*B[k][j]\n",
        "        C[i][j]=sum\n",
        "    return C\n",
        "  else:\n",
        "    return print(\"The matrix A and B are incompatible for multiplication\")"
      ],
      "execution_count": 10,
      "outputs": []
    },
    {
      "cell_type": "code",
      "metadata": {
        "colab": {
          "base_uri": "https://localhost:8080/"
        },
        "id": "SFvTDJxXCP8f",
        "outputId": "9c37355e-e9ac-4a12-a961-f758b5fd52f6"
      },
      "source": [
        "A=np.array([[1,2,3],[4,5,6]])\n",
        "B=A.T\n",
        "print(AbyB(A,B))\n",
        "print(A@B)"
      ],
      "execution_count": 15,
      "outputs": [
        {
          "output_type": "stream",
          "name": "stdout",
          "text": [
            "[[14. 32.]\n",
            " [32. 77.]]\n",
            "[[14 32]\n",
            " [32 77]]\n"
          ]
        }
      ]
    },
    {
      "cell_type": "code",
      "metadata": {
        "id": "VrYYd2PuCs7E"
      },
      "source": [
        ""
      ],
      "execution_count": null,
      "outputs": []
    }
  ]
}