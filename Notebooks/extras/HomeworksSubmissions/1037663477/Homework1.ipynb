{
 "cells": [
  {
   "cell_type": "markdown",
   "id": "eb871ddb",
   "metadata": {},
   "source": [
    "# Homework 1\n",
    "\n",
    "Andrés Muñoz Acevedo\n",
    "\n",
    "cc :1037663477"
   ]
  },
  {
   "cell_type": "markdown",
   "id": "bc2ab5d0",
   "metadata": {},
   "source": [
    "* Write on a piece of paper an algorithm that multiplies two matrices A, B (using loops only)\n",
    "* implement your code using python and check if your result is correct using A@B.\n"
   ]
  },
  {
   "cell_type": "code",
   "execution_count": 39,
   "id": "1a42c84e",
   "metadata": {},
   "outputs": [],
   "source": [
    "def matrix_multiplie(A,B):\n",
    "    \n",
    "    \n",
    "    C = np.zeros((len(A),len(B[0])))\n",
    "    for i in range(len(A)):\n",
    "        \n",
    "        if len(A[i]) != len(B): \n",
    "            print('The operation fails. Check the dimensions!')\n",
    "            return \n",
    "        \n",
    "        for h in range(len(B[i])):\n",
    "            c = 0\n",
    "            for j in range(len(A[i])): \n",
    "            \n",
    "                c += A[i,j]*B[j,h]\n",
    "            C[i,h] = c\n",
    "        \n",
    "    return C"
   ]
  },
  {
   "cell_type": "code",
   "execution_count": 40,
   "id": "69b7205c",
   "metadata": {},
   "outputs": [
    {
     "name": "stdout",
     "output_type": "stream",
     "text": [
      "[[14. 32.]\n",
      " [32. 77.]]\n",
      "[[14 32]\n",
      " [32 77]]\n",
      "[[ True  True]\n",
      " [ True  True]]\n"
     ]
    }
   ],
   "source": [
    "import numpy as np\n",
    "A=np.array([[1,2,3],[4,5,6]])\n",
    "B=A.T # ([1,4],[2,5],[3,6])\n",
    "print(matrix_multiplie(A,B))\n",
    "print(A@B)\n",
    "\n",
    "print(matrix_multiplie(A,B) == A@B)"
   ]
  },
  {
   "cell_type": "code",
   "execution_count": 43,
   "id": "cfe7fcf8",
   "metadata": {},
   "outputs": [
    {
     "name": "stdout",
     "output_type": "stream",
     "text": [
      "[[29193.  1951.  4630.]\n",
      " [36376.  2451.  6079.]\n",
      " [59482.  6638. 46876.]]\n",
      "[[29193  1951  4630]\n",
      " [36376  2451  6079]\n",
      " [59482  6638 46876]]\n",
      "[[ True  True  True]\n",
      " [ True  True  True]\n",
      " [ True  True  True]]\n"
     ]
    }
   ],
   "source": [
    "A=np.array([[1,2,3,54],[4,5,6,65],[90,512,34,78]])\n",
    "B=np.array([[1,3,54],[4,5,65],[512,34,78],[512,34,78]]) # ([1,4],[2,5],[3,6])\n",
    "\n",
    "print(matrix_multiplie(A,B))\n",
    "print(A@B)\n",
    "\n",
    "print(matrix_multiplie(A,B) == A@B)"
   ]
  },
  {
   "cell_type": "code",
   "execution_count": null,
   "id": "e8f29375",
   "metadata": {},
   "outputs": [],
   "source": []
  }
 ],
 "metadata": {
  "kernelspec": {
   "display_name": "Python 3",
   "language": "python",
   "name": "python3"
  },
  "language_info": {
   "codemirror_mode": {
    "name": "ipython",
    "version": 3
   },
   "file_extension": ".py",
   "mimetype": "text/x-python",
   "name": "python",
   "nbconvert_exporter": "python",
   "pygments_lexer": "ipython3",
   "version": "3.8.8"
  }
 },
 "nbformat": 4,
 "nbformat_minor": 5
}
