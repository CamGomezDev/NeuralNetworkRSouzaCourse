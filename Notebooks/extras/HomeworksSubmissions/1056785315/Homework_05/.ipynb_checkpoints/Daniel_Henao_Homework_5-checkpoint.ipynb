{
 "cells": [
  {
   "cell_type": "markdown",
   "metadata": {
    "id": "ooUSPi037yMm"
   },
   "source": [
    "# Homework 5\n",
    "\n",
    "Digit classification using logistic regression on data in the file mnist_test.csv."
   ]
  },
  {
   "cell_type": "code",
   "execution_count": 1,
   "metadata": {
    "id": "geku1aGh5FFe"
   },
   "outputs": [],
   "source": [
    "import numpy as np\n",
    "import matplotlib.pyplot as plt\n",
    "from sklearn.linear_model import LogisticRegression\n",
    "from sklearn.model_selection import train_test_split\n",
    "import pandas as pd"
   ]
  },
  {
   "cell_type": "code",
   "execution_count": 2,
   "metadata": {
    "id": "UYMsyQ6H_3JJ"
   },
   "outputs": [],
   "source": [
    "digits = pd.read_csv('mnist_test.csv')"
   ]
  },
  {
   "cell_type": "code",
   "execution_count": 3,
   "metadata": {
    "id": "HZVzePee8Oyd"
   },
   "outputs": [],
   "source": [
    "# To separate the labels and the pixel values\n",
    "Y_data = digits.to_numpy()[:,0]\n",
    "X_data = digits.to_numpy()[:,1:785]"
   ]
  },
  {
   "cell_type": "code",
   "execution_count": 4,
   "metadata": {
    "id": "tGz9Us4nCeWS"
   },
   "outputs": [],
   "source": [
    "# Here we split the data in test and train sets\n",
    "X_train, X_test, Y_train, Y_test = train_test_split(X_data, Y_data, test_size=0.2)"
   ]
  },
  {
   "cell_type": "code",
   "execution_count": 5,
   "metadata": {
    "colab": {
     "base_uri": "https://localhost:8080/"
    },
    "id": "Lf7QNVP98x_S",
    "outputId": "0b3271db-e098-4ac7-edd2-febbfd20430f"
   },
   "outputs": [
    {
     "name": "stderr",
     "output_type": "stream",
     "text": [
      "/usr/lib64/python3.7/site-packages/sklearn/linear_model/_sag.py:329: ConvergenceWarning: The max_iter was reached which means the coef_ did not converge\n",
      "  \"the coef_ did not converge\", ConvergenceWarning)\n"
     ]
    }
   ],
   "source": [
    "# Logistic regression for multiclass case, applying L2 regularization\n",
    "log = LogisticRegression(penalty='l2',multi_class='multinomial', solver='saga').fit(X_train, Y_train)"
   ]
  },
  {
   "cell_type": "code",
   "execution_count": 6,
   "metadata": {
    "colab": {
     "base_uri": "https://localhost:8080/"
    },
    "id": "apFTDNzvHAx9",
    "outputId": "2c999e9e-9906-4542-bfac-74f99804d34d"
   },
   "outputs": [
    {
     "name": "stdout",
     "output_type": "stream",
     "text": [
      "Accuracy on training set: 0.982625\n",
      "Accuracy on test set: 0.8905\n"
     ]
    }
   ],
   "source": [
    "print('Accuracy on training set:', log.score(X_train, Y_train))\n",
    "print('Accuracy on test set:', log.score(X_test, Y_test))"
   ]
  },
  {
   "cell_type": "markdown",
   "metadata": {
    "id": "zazST5mpWLMW"
   },
   "source": [
    "El modelo funcionó bastante bien sobre los datos de entrenamiento, pero la diferencia de precisión entre ambos conjuntos de datos es considerable, por lo que parece que sigue presentando *overfitting*, aún cuando ya está aplicando regularización en el proceso."
   ]
  },
  {
   "cell_type": "code",
   "execution_count": 7,
   "metadata": {
    "colab": {
     "base_uri": "https://localhost:8080/"
    },
    "id": "LslUXCPoYOJ4",
    "outputId": "ccdd3863-b08b-4736-bd8f-8cd3d7f4125f"
   },
   "outputs": [
    {
     "name": "stdout",
     "output_type": "stream",
     "text": [
      "Predicted labels on 20 test images:\n",
      " [9 3 8 9 6 6 3 2 9 7 3 4 5 2 8 3 6 2 2 7]\n",
      "\n",
      "Real labels on 20 test images:\n",
      " [9 3 8 9 6 6 3 6 9 7 3 4 5 2 8 8 6 2 2 3]\n"
     ]
    }
   ],
   "source": [
    "print('Predicted labels on 20 test images:\\n',log.predict(X_test[:20]))\n",
    "print('\\nReal labels on 20 test images:\\n',Y_test[:20])"
   ]
  },
  {
   "cell_type": "code",
   "execution_count": null,
   "metadata": {
    "id": "beDwc3PqYq7l"
   },
   "outputs": [],
   "source": []
  }
 ],
 "metadata": {
  "colab": {
   "name": "Daniel_Henao_Homework_5.ipynb",
   "provenance": []
  },
  "kernelspec": {
   "display_name": "Python 3",
   "language": "python",
   "name": "python3"
  },
  "language_info": {
   "codemirror_mode": {
    "name": "ipython",
    "version": 3
   },
   "file_extension": ".py",
   "mimetype": "text/x-python",
   "name": "python",
   "nbconvert_exporter": "python",
   "pygments_lexer": "ipython3",
   "version": "3.7.2"
  }
 },
 "nbformat": 4,
 "nbformat_minor": 1
}
