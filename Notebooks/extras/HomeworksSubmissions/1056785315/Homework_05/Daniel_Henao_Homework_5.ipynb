{
  "cells": [
    {
      "cell_type": "markdown",
      "metadata": {
        "id": "ooUSPi037yMm"
      },
      "source": [
        "# Homework 5\n",
        "\n",
        "Digit classification using logistic regression on data in the file mnist_test.csv."
      ]
    },
    {
      "cell_type": "code",
      "execution_count": 5,
      "metadata": {
        "id": "geku1aGh5FFe"
      },
      "outputs": [],
      "source": [
        "import numpy as np\n",
        "import matplotlib.pyplot as plt\n",
        "from sklearn.linear_model import LogisticRegression\n",
        "from sklearn.model_selection import train_test_split\n",
        "import pandas as pd"
      ]
    },
    {
      "cell_type": "code",
      "execution_count": 33,
      "metadata": {
        "id": "UYMsyQ6H_3JJ"
      },
      "outputs": [],
      "source": [
        "digits = pd.read_csv('mnist_test.csv')"
      ]
    },
    {
      "cell_type": "code",
      "source": [
        "# To separate the labels and the pixel values\n",
        "Y_data = digits.to_numpy()[:,0]\n",
        "X_data = digits.to_numpy()[:,1:785]"
      ],
      "metadata": {
        "id": "HZVzePee8Oyd"
      },
      "execution_count": 34,
      "outputs": []
    },
    {
      "cell_type": "code",
      "execution_count": 63,
      "metadata": {
        "id": "tGz9Us4nCeWS"
      },
      "outputs": [],
      "source": [
        "# Here we split the data in test and train sets\n",
        "X_train, X_test, Y_train, Y_test = train_test_split(X_data, Y_data, test_size=0.2)"
      ]
    },
    {
      "cell_type": "code",
      "source": [
        "# Logistic regression for multiclass case, applying L2 regularization\n",
        "log = LogisticRegression(penalty='l2',multi_class='multinomial', solver='saga').fit(X_train, Y_train)"
      ],
      "metadata": {
        "colab": {
          "base_uri": "https://localhost:8080/"
        },
        "id": "Lf7QNVP98x_S",
        "outputId": "0b3271db-e098-4ac7-edd2-febbfd20430f"
      },
      "execution_count": 69,
      "outputs": [
        {
          "output_type": "stream",
          "name": "stderr",
          "text": [
            "/usr/local/lib/python3.7/dist-packages/sklearn/linear_model/_sag.py:354: ConvergenceWarning: The max_iter was reached which means the coef_ did not converge\n",
            "  ConvergenceWarning,\n"
          ]
        }
      ]
    },
    {
      "cell_type": "code",
      "source": [
        "print('Accuracy on training set:', log.score(X_train, Y_train))\n",
        "print('Accuracy on test set:', log.score(X_test, Y_test))"
      ],
      "metadata": {
        "colab": {
          "base_uri": "https://localhost:8080/"
        },
        "id": "apFTDNzvHAx9",
        "outputId": "2c999e9e-9906-4542-bfac-74f99804d34d"
      },
      "execution_count": 70,
      "outputs": [
        {
          "output_type": "stream",
          "name": "stdout",
          "text": [
            "Accuracy on training set: 0.982125\n",
            "Accuracy on test set: 0.9005\n"
          ]
        }
      ]
    },
    {
      "cell_type": "markdown",
      "source": [
        "El modelo funcionó bastante bien sobre los datos de entrenamiento, pero la diferencia de precisión entre ambos conjuntos de datos es considerable, por lo que parece que sigue presentando *overfitting*, aún cuando ya está aplicando regularización en el proceso."
      ],
      "metadata": {
        "id": "zazST5mpWLMW"
      }
    },
    {
      "cell_type": "code",
      "source": [
        "print('Predicted labels on 20 test images:\\n',log.predict(X_test[:20]))\n",
        "print('\\nReal labels on 20 test images:\\n',Y_test[:20])"
      ],
      "metadata": {
        "colab": {
          "base_uri": "https://localhost:8080/"
        },
        "id": "LslUXCPoYOJ4",
        "outputId": "ccdd3863-b08b-4736-bd8f-8cd3d7f4125f"
      },
      "execution_count": 73,
      "outputs": [
        {
          "output_type": "stream",
          "name": "stdout",
          "text": [
            "Predicted labels on 20 test images:\n",
            " [2 0 5 8 3 9 7 6 6 9 9 0 9 0 8 7 9 0 4 1]\n",
            "\n",
            "Real labels on 20 test images:\n",
            " [2 0 5 2 3 9 7 5 6 9 9 0 9 0 8 4 9 0 4 1]\n"
          ]
        }
      ]
    },
    {
      "cell_type": "code",
      "source": [
        ""
      ],
      "metadata": {
        "id": "beDwc3PqYq7l"
      },
      "execution_count": null,
      "outputs": []
    }
  ],
  "metadata": {
    "colab": {
      "name": "Daniel_Henao_Homework_5.ipynb",
      "provenance": []
    },
    "kernelspec": {
      "display_name": "Python 3",
      "name": "python3"
    },
    "language_info": {
      "name": "python"
    }
  },
  "nbformat": 4,
  "nbformat_minor": 0
}