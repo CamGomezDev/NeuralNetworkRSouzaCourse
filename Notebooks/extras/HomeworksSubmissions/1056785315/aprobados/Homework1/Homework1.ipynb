{
  "nbformat": 4,
  "nbformat_minor": 0,
  "metadata": {
    "colab": {
      "name": "Homework1.ipynb",
      "provenance": []
    },
    "kernelspec": {
      "name": "python3",
      "display_name": "Python 3"
    },
    "language_info": {
      "name": "python"
    }
  },
  "cells": [
    {
      "cell_type": "code",
      "metadata": {
        "id": "P-JiHm5SMult"
      },
      "source": [
        "# Tarea 1 - Daniel Henao\n",
        "import numpy as np"
      ],
      "execution_count": 1,
      "outputs": []
    },
    {
      "cell_type": "code",
      "metadata": {
        "colab": {
          "base_uri": "https://localhost:8080/"
        },
        "id": "3u4UmTF2NOQC",
        "outputId": "c1195514-3bbe-43ab-caee-e42b61b93a8b"
      },
      "source": [
        "A = np.array([[3,9,8], [4,16,2]])\n",
        "B = np.array([[6,18], [17,4], [0,10]])\n",
        "a = len(A) # Numero de filas de A\n",
        "b = len(B[0]) # Numero de columnas de B\n",
        "n = len(A[0]) # Numero de columnas de A. Debe ser igual al numero de filas de B para realizar la multiplicacion\n",
        "C = np.zeros((a,b)) # Matriz de ceros para sobreescribir el resultado\n",
        "\n",
        "for i in range(a):\n",
        "  for j in range(b):\n",
        "    for k in range(n):\n",
        "      C[i][j] += A[i][k]*B[k][j]\n",
        "\n",
        "print(\"Resultado usando solo for:\\n\", C)\n",
        "print(\"\\nResultado usando el operador @:\\n\", A@B)"
      ],
      "execution_count": 4,
      "outputs": [
        {
          "output_type": "stream",
          "name": "stdout",
          "text": [
            "Resultado usando solo for:\n",
            " [[171. 170.]\n",
            " [296. 156.]]\n",
            "\n",
            "Resultado usando el operador @:\n",
            " [[171 170]\n",
            " [296 156]]\n"
          ]
        }
      ]
    }
  ]
}