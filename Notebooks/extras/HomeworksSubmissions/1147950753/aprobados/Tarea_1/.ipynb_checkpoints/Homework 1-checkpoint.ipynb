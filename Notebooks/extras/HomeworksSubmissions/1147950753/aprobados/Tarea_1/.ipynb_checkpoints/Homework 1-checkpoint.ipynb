{
 "cells": [
  {
   "cell_type": "markdown",
   "id": "c3b52b4a",
   "metadata": {},
   "source": [
    "## Home work 1 \n",
    "### Edwin Dair Zapata Duque C.c 1147950753\n",
    "write an algorithm that multiple two matrix A, B using only loops"
   ]
  },
  {
   "cell_type": "code",
   "execution_count": 1,
   "id": "5551a3c3",
   "metadata": {},
   "outputs": [],
   "source": [
    "import numpy as np\n",
    "\n",
    "# Defino las matrices A,B\n",
    "A = np.array([[1,2],[3,4]])\n",
    "B = np.array([[5,6],[0,7]])\n",
    "\n",
    "# Matriz vacia 2x2\n",
    "C =  np.empty((2,2)) \n",
    "\n",
    "for i in range(0,2):\n",
    "    for j in range(0,2):\n",
    "        C[i,j] = A[i,0]*B[0,j] + A[i,1]*B[1,j]       \n",
    "    "
   ]
  },
  {
   "cell_type": "code",
   "execution_count": 2,
   "id": "a01136f3",
   "metadata": {},
   "outputs": [
    {
     "name": "stdout",
     "output_type": "stream",
     "text": [
      "[[ 5. 20.]\n",
      " [15. 46.]]\n"
     ]
    }
   ],
   "source": [
    "# imprimo \n",
    "print(C)"
   ]
  },
  {
   "cell_type": "code",
   "execution_count": 3,
   "id": "2749304e",
   "metadata": {},
   "outputs": [
    {
     "name": "stdout",
     "output_type": "stream",
     "text": [
      "[[ 5 20]\n",
      " [15 46]]\n"
     ]
    }
   ],
   "source": [
    "# i check it and the result is the same that above\n",
    "print(A@B)"
   ]
  },
  {
   "cell_type": "code",
   "execution_count": null,
   "id": "4c0b95ce",
   "metadata": {},
   "outputs": [],
   "source": []
  }
 ],
 "metadata": {
  "kernelspec": {
   "display_name": "Python 3",
   "language": "python",
   "name": "python3"
  },
  "language_info": {
   "codemirror_mode": {
    "name": "ipython",
    "version": 3
   },
   "file_extension": ".py",
   "mimetype": "text/x-python",
   "name": "python",
   "nbconvert_exporter": "python",
   "pygments_lexer": "ipython3",
   "version": "3.7.2"
  }
 },
 "nbformat": 4,
 "nbformat_minor": 5
}
