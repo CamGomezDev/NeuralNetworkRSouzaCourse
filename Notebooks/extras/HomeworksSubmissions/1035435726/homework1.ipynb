{
 "cells": [
  {
   "cell_type": "code",
   "execution_count": null,
   "metadata": {},
   "outputs": [],
   "source": [
    "#Written by John Alexander Osorio Henao - 1035435726"
   ]
  },
  {
   "cell_type": "code",
   "execution_count": 16,
   "metadata": {},
   "outputs": [
    {
     "name": "stdout",
     "output_type": "stream",
     "text": [
      "[[1, 2], [3, 4]] [[5, 6], [0, 7]]\n"
     ]
    }
   ],
   "source": [
    "#Matrices to multiply\n",
    "\n",
    "A = [[1, 2], [3, 4]]\n",
    "B = [[5, 6], [0, 7]]\n",
    "print(A, B)"
   ]
  },
  {
   "cell_type": "code",
   "execution_count": 17,
   "metadata": {},
   "outputs": [
    {
     "name": "stdout",
     "output_type": "stream",
     "text": [
      "[[ 5. 20.]\n",
      " [15. 46.]]\n"
     ]
    }
   ],
   "source": [
    "#Algorithm\n",
    "import numpy as np\n",
    "m = len(A)\n",
    "n = len(A[0])\n",
    "p = len(B)\n",
    "q = len(B[0])\n",
    "C = np.empty((m, q))\n",
    "if(n!=p):\n",
    "    print(\"The matrices cannot be multiplied.\")\n",
    "else:\n",
    "    for i in range(0, m):\n",
    "        for j in range(0, q):\n",
    "            C_ij = 0\n",
    "            for k in range(0, n):\n",
    "                C_ij += A[i][k]*B[k][j]\n",
    "            C[i][j] = C_ij\n",
    "    print(C)\n",
    "    "
   ]
  },
  {
   "cell_type": "code",
   "execution_count": 21,
   "metadata": {},
   "outputs": [
    {
     "data": {
      "text/plain": [
       "array([[ 5, 20],\n",
       "       [15, 46]])"
      ]
     },
     "execution_count": 21,
     "metadata": {},
     "output_type": "execute_result"
    }
   ],
   "source": [
    "#Python\n",
    "np.array(A)@np.array(B)"
   ]
  }
 ],
 "metadata": {
  "kernelspec": {
   "display_name": "Python 3",
   "language": "python",
   "name": "python3"
  },
  "language_info": {
   "codemirror_mode": {
    "name": "ipython",
    "version": 3
   },
   "file_extension": ".py",
   "mimetype": "text/x-python",
   "name": "python",
   "nbconvert_exporter": "python",
   "pygments_lexer": "ipython3",
   "version": "3.8.5"
  }
 },
 "nbformat": 4,
 "nbformat_minor": 4
}
