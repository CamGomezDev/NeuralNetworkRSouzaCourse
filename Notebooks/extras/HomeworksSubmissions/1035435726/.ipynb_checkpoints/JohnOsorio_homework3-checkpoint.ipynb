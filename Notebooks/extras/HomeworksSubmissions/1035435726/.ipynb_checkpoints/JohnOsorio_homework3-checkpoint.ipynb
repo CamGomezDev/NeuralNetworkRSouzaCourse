{
 "cells": [
  {
   "cell_type": "markdown",
   "metadata": {},
   "source": [
    "## Gradient Descent\n",
    "Por John Osorio C.C. 1035435726"
   ]
  },
  {
   "cell_type": "markdown",
   "metadata": {},
   "source": [
    "### Ajuste inicial"
   ]
  },
  {
   "cell_type": "code",
   "execution_count": 1,
   "metadata": {},
   "outputs": [],
   "source": [
    "import pandas as pd\n",
    "import matplotlib.pyplot as plt\n",
    "import numpy as np\n",
    "import time\n",
    "plt.rcParams['figure.figsize'] = (12.0, 9.0)\n",
    "\n",
    "# Preprocessing Input data\n",
    "data = pd.read_csv('data.csv')\n",
    "X = data.iloc[:, 0]\n",
    "Y = data.iloc[:, 1]\n"
   ]
  },
  {
   "cell_type": "code",
   "execution_count": 2,
   "metadata": {},
   "outputs": [],
   "source": [
    "#this method returns theta0, theta1, MSE, MAE and MAPE for a given alpha\n",
    "def vals_alpha(alpha):\n",
    "    #Initial parameters\n",
    "    theta_1 = 10     # initial values of   \n",
    "    theta_0 = 10     # y=theta_1*x + theta_0  \n",
    "    epochs = 100     # The number of iterations  \n",
    "    m = len(X)\n",
    "    MSE = [] #array to store MSE values\n",
    "    MAE = []\n",
    "    MAPE = []\n",
    "    for i in range(epochs): \n",
    "        #hypothesis\n",
    "        hx = theta_1*X + theta_0\n",
    "        #calculating errors with formula\n",
    "        MSE.append(1/(m)*np.sum((hx - Y)**2))\n",
    "        MAE.append(1/(m)*np.sum(abs(hx-Y)))\n",
    "        MAPE.append(100/m*np.sum(abs((hx-Y)/Y)))\n",
    "        #calculating parameters\n",
    "        d_theta0 = -1/m * np.sum(Y - hx)\n",
    "        d_theta1 = -1/m * np.sum((Y - hx)*X)\n",
    "        #updating values\n",
    "        theta_0 = theta_0 - alpha*d_theta0\n",
    "        theta_1 = theta_1 - alpha*d_theta1\n",
    "    return theta_0, theta_1, MSE, MAE, MAPE"
   ]
  },
  {
   "cell_type": "code",
   "execution_count": 3,
   "metadata": {},
   "outputs": [
    {
     "ename": "NameError",
     "evalue": "name 'theta_1' is not defined",
     "output_type": "error",
     "traceback": [
      "\u001b[0;31m---------------------------------------------------------------------------\u001b[0m",
      "\u001b[0;31mNameError\u001b[0m                                 Traceback (most recent call last)",
      "\u001b[0;32m<ipython-input-3-b51cfd229f0e>\u001b[0m in \u001b[0;36m<module>\u001b[0;34m\u001b[0m\n\u001b[1;32m      3\u001b[0m \u001b[0;32mdef\u001b[0m \u001b[0mfunc\u001b[0m\u001b[0;34m(\u001b[0m\u001b[0mx\u001b[0m\u001b[0;34m,\u001b[0m \u001b[0ma1\u001b[0m\u001b[0;34m,\u001b[0m \u001b[0ma0\u001b[0m\u001b[0;34m)\u001b[0m\u001b[0;34m:\u001b[0m\u001b[0;34m\u001b[0m\u001b[0;34m\u001b[0m\u001b[0m\n\u001b[1;32m      4\u001b[0m     \u001b[0;32mreturn\u001b[0m \u001b[0ma1\u001b[0m \u001b[0;34m*\u001b[0m \u001b[0mx\u001b[0m \u001b[0;34m+\u001b[0m \u001b[0ma0\u001b[0m\u001b[0;34m\u001b[0m\u001b[0;34m\u001b[0m\u001b[0m\n\u001b[0;32m----> 5\u001b[0;31m \u001b[0mp0\u001b[0m \u001b[0;34m=\u001b[0m \u001b[0;34m[\u001b[0m\u001b[0mtheta_1\u001b[0m\u001b[0;34m,\u001b[0m \u001b[0mtheta_0\u001b[0m\u001b[0;34m]\u001b[0m\u001b[0;34m\u001b[0m\u001b[0;34m\u001b[0m\u001b[0m\n\u001b[0m\u001b[1;32m      6\u001b[0m \u001b[0;32mfrom\u001b[0m \u001b[0mscipy\u001b[0m\u001b[0;34m.\u001b[0m\u001b[0moptimize\u001b[0m \u001b[0;32mimport\u001b[0m \u001b[0mcurve_fit\u001b[0m\u001b[0;34m\u001b[0m\u001b[0;34m\u001b[0m\u001b[0m\n\u001b[1;32m      7\u001b[0m \u001b[0mpopt\u001b[0m\u001b[0;34m,\u001b[0m \u001b[0mpcov\u001b[0m \u001b[0;34m=\u001b[0m \u001b[0mcurve_fit\u001b[0m\u001b[0;34m(\u001b[0m\u001b[0mfunc\u001b[0m\u001b[0;34m,\u001b[0m \u001b[0mX\u001b[0m\u001b[0;34m,\u001b[0m \u001b[0mY\u001b[0m\u001b[0;34m,\u001b[0m \u001b[0mp0\u001b[0m\u001b[0;34m,\u001b[0m \u001b[0mmethod\u001b[0m\u001b[0;34m=\u001b[0m\u001b[0;34m'lm'\u001b[0m\u001b[0;34m)\u001b[0m\u001b[0;34m\u001b[0m\u001b[0;34m\u001b[0m\u001b[0m\n",
      "\u001b[0;31mNameError\u001b[0m: name 'theta_1' is not defined"
     ]
    }
   ],
   "source": [
    "#LM fitting\n",
    "\n",
    "def func(x, a1, a0):\n",
    "    return a1 * x + a0\n",
    "p0 = [theta_1, theta_0]\n",
    "from scipy.optimize import curve_fit\n",
    "popt, pcov = curve_fit(func, X, Y, p0, method='lm')"
   ]
  },
  {
   "cell_type": "code",
   "execution_count": null,
   "metadata": {},
   "outputs": [],
   "source": [
    "alpha = 0.0001   # The learning Rate  \n",
    "\n",
    "theta_0, theta_1, MSE, MAE, MAPE = vals_alpha(alpha)\n",
    "fig, axs = plt.subplots(2, 2, figsize=(10, 10))\n",
    "#plotting data\n",
    "axs[0, 0].plot(X, Y, 'go', label=\"Data\")\n",
    "axs[0, 0].plot(X, theta_1*X + theta_0, 'r-', label=\"Gradient Descent\")\n",
    "axs[0, 0].plot(X, popt[0]*X + popt[1],'b--', label=\"Scipy LM\")\n",
    "axs[0, 0].set_xlabel(\"X\")\n",
    "axs[0, 0].set_ylabel(\"Y\")\n",
    "axs[0, 0].grid(True)\n",
    "axs[0, 0].set_title(\"Fitting Data\")\n",
    "axs[0, 0].legend(loc = 0)\n",
    "#plotting errors \n",
    "iterations = range(epochs)\n",
    "#using log scale in y axis because the values are too big\n",
    "axs[0, 1].semilogy(iterations, MSE)\n",
    "axs[0, 1].set_ylabel(\"MSE\")\n",
    "axs[0, 1].set_xlabel(\"iteration\")\n",
    "axs[0, 1].grid(True)\n",
    "axs[0, 1].set_title(\"MSE evolution\")\n",
    "\n",
    "axs[1, 0].plot(iterations, MAE)\n",
    "axs[1, 0].set_ylabel(\"MAE\")\n",
    "axs[1, 0].set_xlabel(\"iteration\")\n",
    "axs[1, 0].grid(True)\n",
    "axs[1, 0].set_title(\"MAE evolution\")\n",
    "\n",
    "\n",
    "axs[1, 1].plot(iterations, MAPE)\n",
    "axs[1, 1].set_ylabel(\"MAPE\")\n",
    "axs[1, 1].set_xlabel(\"iteration\")\n",
    "axs[1, 1].grid(True)\n",
    "axs[1, 1].set_title(\"MAPE evolution\")\n"
   ]
  },
  {
   "cell_type": "markdown",
   "metadata": {},
   "source": [
    "### Variation of $\\alpha$"
   ]
  },
  {
   "cell_type": "code",
   "execution_count": null,
   "metadata": {},
   "outputs": [],
   "source": [
    "alpha_arr = [0.00001, 0.00007, 0.0001, 0.0007]   # The learning Rate  \n",
    "\n",
    "fig, axs = plt.subplots(2, 2, figsize=(10, 10))\n",
    "\n",
    "iterations = range(epochs)\n",
    "for alpha in alpha_arr:\n",
    "    theta_0, theta_1, MSE, MAE, MAPE = vals_alpha(alpha)    \n",
    "    #plotting data\n",
    "    \n",
    "    axs[0, 0].plot(X, theta_1*X + theta_0, label=\"Gradient Descent, alpha = %0f\"%alpha)\n",
    "    #plotting errors \n",
    "   \n",
    "    #using log scale in y axis because the values are too big\n",
    "    axs[0, 1].semilogy(iterations, MSE, label=\"alpha = %f\"%alpha)  \n",
    "    axs[1, 0].plot(iterations, MAE, label=\"alpha = %f\"%alpha)   \n",
    "    axs[1, 1].plot(iterations, MAPE, label=\"alpha = %f\"%alpha)\n",
    "    \n",
    "axs[0, 0].plot(X, Y, 'go', label=\"Data\")\n",
    "axs[0, 0].plot(X, popt[0]*X + popt[1],'b--', label=\"Scipy LM\")\n",
    "axs[0, 0].set_xlabel(\"X\")\n",
    "axs[0, 0].set_ylabel(\"Y\")\n",
    "axs[0, 0].grid(True)\n",
    "axs[0, 0].set_title(\"Fitting Data\")\n",
    "axs[0, 0].legend(loc = 0)\n",
    "\n",
    "axs[0, 1].set_ylabel(\"MSE\")\n",
    "axs[0, 1].set_xlabel(\"iteration\")\n",
    "axs[0, 1].grid(True)\n",
    "axs[0, 1].set_title(\"MSE evolution\")\n",
    "axs[0, 1].legend(loc = 0)\n",
    "\n",
    "axs[1, 0].set_ylabel(\"MAE\")\n",
    "axs[1, 0].set_xlabel(\"iteration\")\n",
    "axs[1, 0].grid(True)\n",
    "axs[1, 0].set_title(\"MAE evolution\")\n",
    "axs[1, 0].legend(loc = 0)\n",
    "\n",
    "axs[1, 1].set_ylabel(\"MAPE\")\n",
    "axs[1, 1].set_xlabel(\"iteration\")\n",
    "axs[1, 1].grid(True)\n",
    "axs[1, 1].set_title(\"MAPE evolution\")\n",
    "axs[1, 1].legend(loc = 0)\n"
   ]
  },
  {
   "cell_type": "code",
   "execution_count": null,
   "metadata": {},
   "outputs": [],
   "source": [
    "# MH comments\n",
    "# the program doesnt compile: NameError: name 'theta_1' is not defined"
   ]
  }
 ],
 "metadata": {
  "kernelspec": {
   "display_name": "Python 3",
   "language": "python",
   "name": "python3"
  },
  "language_info": {
   "codemirror_mode": {
    "name": "ipython",
    "version": 3
   },
   "file_extension": ".py",
   "mimetype": "text/x-python",
   "name": "python",
   "nbconvert_exporter": "python",
   "pygments_lexer": "ipython3",
   "version": "3.7.2"
  }
 },
 "nbformat": 4,
 "nbformat_minor": 4
}
