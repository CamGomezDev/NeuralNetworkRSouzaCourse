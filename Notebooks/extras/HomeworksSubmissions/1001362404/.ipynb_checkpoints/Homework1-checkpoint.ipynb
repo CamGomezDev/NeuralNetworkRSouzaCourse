{
 "cells": [
  {
   "cell_type": "markdown",
   "id": "9df0aa5a",
   "metadata": {},
   "source": [
    "# Home work 1\n",
    "\n",
    "### Student name:\n",
    "    Joseph Nicolay Ruiz Alvarez\n",
    "    \n",
    "#### Description\n",
    "    Construct an algorithm to compute the matrix multiplication using loops."
   ]
  },
  {
   "cell_type": "code",
   "execution_count": 4,
   "id": "8196eb0d",
   "metadata": {},
   "outputs": [],
   "source": [
    "#Chargin uselful libraries\n",
    "import numpy as np"
   ]
  },
  {
   "cell_type": "code",
   "execution_count": 65,
   "id": "7ee54396",
   "metadata": {},
   "outputs": [],
   "source": [
    "class Matrix:\n",
    "    \n",
    "    \"It is a class of matrix of orden nxm. Input a list with dimensio (n,m)\"\n",
    "    \n",
    "    def __init__(self, data):\n",
    "        self.data = np.array(data)\n",
    "        self.size = np.array(data).shape\n",
    "        \n",
    "        \n",
    "    def __mul__(self, other):\n",
    "        \"\"\" Return the matrix product. If 'other' is scalar, it multiplies each component by the input\"\"\"\n",
    "        \n",
    "        if type(other) == type(self):        \n",
    "                   \n",
    "            if self.size[1]==other.size[0]:\n",
    "                M = np.zeros((self.size[0],other.size[1]))\n",
    "\n",
    "                for i in range(self.size[0]):\n",
    "                    for j in range(other.size[1]):\n",
    "                        sum=0\n",
    "                        for k in range(self.size[1]):\n",
    "                            sum+=self.data[i][k]*other.data[k][j]\n",
    "                        M[i][j]=sum\n",
    "                return Matrix(M)\n",
    "            else:\n",
    "                return print(\"Error, invalid multiplication. The matrices dimensions are incompatible\")\n",
    "            \n",
    "        \n",
    "        elif type(other) == type(1) or type(other) == type(1.0) or type(other)==type(1.0j):\n",
    "            M = other*self.data\n",
    "            return Matrix(M)\n",
    "        \n",
    "        else:\n",
    "            return print('Invalid input. Check, and try again')\n",
    "\n",
    "    def print(self):\n",
    "        '''Print the matrix'''\n",
    "        return print('Matrix \\n {}'.format(self.data))\n",
    "\n",
    "    \n",
    "\n"
   ]
  },
  {
   "cell_type": "code",
   "execution_count": 67,
   "id": "d58398b5",
   "metadata": {},
   "outputs": [
    {
     "name": "stdout",
     "output_type": "stream",
     "text": [
      "Matrix \n",
      " [[1 2 3]\n",
      " [1 0 0]\n",
      " [1 1 1]]\n",
      "Matrix \n",
      " [[1 2]\n",
      " [2 3]\n",
      " [5 6]]\n",
      "Matrix \n",
      " [[20. 26.]\n",
      " [ 1.  2.]\n",
      " [ 8. 11.]]\n",
      "Dimension of matrix is: (3, 2)\n",
      "Matrix \n",
      " [[40.+20.j 52.+26.j]\n",
      " [ 2. +1.j  4. +2.j]\n",
      " [16. +8.j 22.+11.j]]\n"
     ]
    }
   ],
   "source": [
    "#instance a object A and B\n",
    "A = Matrix([[1,2,3],[1,0,0],[1,1,1]])\n",
    "A.print()\n",
    "B = Matrix([[1,2],[2,3],[5,6]])\n",
    "B.print()\n",
    "#Multiply them\n",
    "C = A.__mul__(B)\n",
    "C.print()\n",
    "print('Dimension of matrix is: {}'.format(C.size))\n",
    "\n",
    "#Scalar multiplication \n",
    "D = C.__mul__(2.0+1j)\n",
    "D.print()\n"
   ]
  },
  {
   "cell_type": "code",
   "execution_count": null,
   "id": "654f9502",
   "metadata": {},
   "outputs": [],
   "source": []
  },
  {
   "cell_type": "code",
   "execution_count": null,
   "id": "9edfb97a",
   "metadata": {},
   "outputs": [],
   "source": []
  }
 ],
 "metadata": {
  "kernelspec": {
   "display_name": "Python 3 (ipykernel)",
   "language": "python",
   "name": "python3"
  },
  "language_info": {
   "codemirror_mode": {
    "name": "ipython",
    "version": 3
   },
   "file_extension": ".py",
   "mimetype": "text/x-python",
   "name": "python",
   "nbconvert_exporter": "python",
   "pygments_lexer": "ipython3",
   "version": "3.8.10"
  }
 },
 "nbformat": 4,
 "nbformat_minor": 5
}
