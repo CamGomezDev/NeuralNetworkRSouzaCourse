{
 "cells": [
  {
   "cell_type": "markdown",
   "id": "9df0aa5a",
   "metadata": {},
   "source": [
    "# Home work 1\n",
    "\n",
    "### Student name:\n",
    "    Joseph Nicolay Ruiz Alvarez\n",
    "    \n",
    "#### Description\n",
    "    Construct an algorithm to compute the matrix multiplication using loops."
   ]
  },
  {
   "cell_type": "code",
   "execution_count": 4,
   "id": "8196eb0d",
   "metadata": {},
   "outputs": [],
   "source": [
    "#Chargin uselful libraries\n",
    "import numpy as np"
   ]
  },
  {
   "cell_type": "code",
   "execution_count": 5,
   "id": "7ee54396",
   "metadata": {},
   "outputs": [],
   "source": [
    "class Matrix:\n",
    "    \n",
    "    \"It is a class of matrix of orden nxm. Input a list with dimensio (n,m)\"\n",
    "    \n",
    "    def __init__(self, data):\n",
    "        self.data = np.array(data)\n",
    "        self.size = np.array(data).shape\n",
    "        \n",
    "        \n",
    "    def __mul__(self, other):\n",
    "        \"\"\" Return the matrix product. If 'other' is scalar, it multiplies each component by the input\"\"\"\n",
    "        \n",
    "        if type(other) == type(self):        \n",
    "                   \n",
    "            if self.size[1]==other.size[0]:\n",
    "                M = np.zeros((self.size[0],other.size[1]))\n",
    "\n",
    "                for i in range(self.size[0]):\n",
    "                    for j in range(other.size[1]):\n",
    "                        sum=0\n",
    "                        for k in range(self.size[1]):\n",
    "                            sum+=self.data[i][k]*other.data[k][j]\n",
    "                        M[i][j]=sum\n",
    "                return Matrix(M)\n",
    "            else:\n",
    "                return print(\"Error, invalid multiplication. The matrices dimensions are incompatible\")\n",
    "            \n",
    "        \n",
    "        elif type(other) == type(1) or type(other) == type(1.0) or type(other)==type(1.0j):\n",
    "            M = other*self.data\n",
    "            return Matrix(M)\n",
    "        \n",
    "        else:\n",
    "            return print('Invalid input. Check, and try again')\n",
    "\n",
    "    def print(self):\n",
    "        '''Print the matrix'''\n",
    "        return print('Matrix \\n {}'.format(self.data))\n",
    "\n",
    "    \n",
    "\n"
   ]
  },
  {
   "cell_type": "code",
   "execution_count": 3,
   "id": "d58398b5",
   "metadata": {},
   "outputs": [
    {
     "name": "stdout",
     "output_type": "stream",
     "text": [
      "Matrix \n",
      " [[1 2 3]\n",
      " [1 0 0]\n",
      " [1 1 1]]\n",
      "Matrix \n",
      " [[1 2]\n",
      " [2 3]\n",
      " [5 6]]\n",
      "Matrix \n",
      " [[20. 26.]\n",
      " [ 1.  2.]\n",
      " [ 8. 11.]]\n",
      "Dimension of matrix is: (3, 2)\n",
      "Matrix \n",
      " [[40.+20.j 52.+26.j]\n",
      " [ 2. +1.j  4. +2.j]\n",
      " [16. +8.j 22.+11.j]]\n"
     ]
    }
   ],
   "source": [
    "#instance a object A and B\n",
    "A = Matrix([[1,2,3],[1,0,0],[1,1,1]])\n",
    "A.print()\n",
    "B = Matrix([[1,2],[2,3],[5,6]])\n",
    "B.print()\n",
    "#Multiply them\n",
    "C = A.__mul__(B)\n",
    "C.print()\n",
    "print('Dimension of matrix is: {}'.format(C.size))\n",
    "\n",
    "#Scalar multiplication\n",
    "D = C.__mul__(2.0+1j)\n",
    "D.print()\n"
   ]
  },
  {
   "cell_type": "code",
   "execution_count": 8,
   "id": "average-cinema",
   "metadata": {},
   "outputs": [
    {
     "data": {
      "text/plain": [
       "<__main__.Matrix at 0x7fe8fedef048>"
      ]
     },
     "execution_count": 8,
     "metadata": {},
     "output_type": "execute_result"
    }
   ],
   "source": [
    "A"
   ]
  },
  {
   "cell_type": "code",
   "execution_count": 7,
   "id": "quarterly-winning",
   "metadata": {},
   "outputs": [
    {
     "ename": "ValueError",
     "evalue": "matmul: Input operand 0 does not have enough dimensions (has 0, gufunc core with signature (n?,k),(k,m?)->(n?,m?) requires 1)",
     "output_type": "error",
     "traceback": [
      "\u001b[0;31m---------------------------------------------------------------------------\u001b[0m",
      "\u001b[0;31mValueError\u001b[0m                                Traceback (most recent call last)",
      "\u001b[0;32m<ipython-input-7-ed92e353882c>\u001b[0m in \u001b[0;36m<module>\u001b[0;34m\u001b[0m\n\u001b[0;32m----> 1\u001b[0;31m \u001b[0mnp\u001b[0m\u001b[0;34m.\u001b[0m\u001b[0mmatmul\u001b[0m\u001b[0;34m(\u001b[0m\u001b[0mA\u001b[0m\u001b[0;34m,\u001b[0m\u001b[0mB\u001b[0m\u001b[0;34m)\u001b[0m\u001b[0;34m\u001b[0m\u001b[0;34m\u001b[0m\u001b[0m\n\u001b[0m",
      "\u001b[0;31mValueError\u001b[0m: matmul: Input operand 0 does not have enough dimensions (has 0, gufunc core with signature (n?,k),(k,m?)->(n?,m?) requires 1)"
     ]
    }
   ],
   "source": [
    "np.matmul(A,B)"
   ]
  },
  {
   "cell_type": "code",
   "execution_count": 9,
   "id": "pretty-crime",
   "metadata": {},
   "outputs": [],
   "source": [
    "A = np.array([[1,2,3],[1,0,0],[1,1,1]])"
   ]
  },
  {
   "cell_type": "code",
   "execution_count": 10,
   "id": "subsequent-match",
   "metadata": {},
   "outputs": [],
   "source": [
    "B = np.array([[1,2],[2,3],[5,6]])"
   ]
  },
  {
   "cell_type": "code",
   "execution_count": 11,
   "id": "superb-connection",
   "metadata": {},
   "outputs": [
    {
     "data": {
      "text/plain": [
       "array([[20, 26],\n",
       "       [ 1,  2],\n",
       "       [ 8, 11]])"
      ]
     },
     "execution_count": 11,
     "metadata": {},
     "output_type": "execute_result"
    }
   ],
   "source": [
    "A@B"
   ]
  },
  {
   "cell_type": "code",
   "execution_count": 13,
   "id": "streaming-experiment",
   "metadata": {},
   "outputs": [],
   "source": [
    "# good job!"
   ]
  },
  {
   "cell_type": "code",
   "execution_count": null,
   "id": "equal-patio",
   "metadata": {},
   "outputs": [],
   "source": []
  }
 ],
 "metadata": {
  "kernelspec": {
   "display_name": "Python 3",
   "language": "python",
   "name": "python3"
  },
  "language_info": {
   "codemirror_mode": {
    "name": "ipython",
    "version": 3
   },
   "file_extension": ".py",
   "mimetype": "text/x-python",
   "name": "python",
   "nbconvert_exporter": "python",
   "pygments_lexer": "ipython3",
   "version": "3.7.2"
  }
 },
 "nbformat": 4,
 "nbformat_minor": 5
}
