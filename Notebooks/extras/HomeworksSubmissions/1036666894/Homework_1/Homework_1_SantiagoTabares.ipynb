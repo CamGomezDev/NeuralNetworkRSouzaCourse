{
 "cells": [
  {
   "cell_type": "markdown",
   "metadata": {
    "id": "L3jlAP9yBKfK"
   },
   "source": [
    "### Homework 1\n",
    "\n",
    "**Santiago Tabares Garcés**\n",
    "\n",
    "**1036666894**"
   ]
  },
  {
   "cell_type": "markdown",
   "metadata": {
    "id": "irnlMN0FBXhz"
   },
   "source": [
    "* write on a piece of paper an algorithm that multiplies two matrices A, B (using loops only)\n",
    "\n",
    "* implement your code using python and check if your result is correct using A@B."
   ]
  },
  {
   "cell_type": "code",
   "execution_count": 5,
   "metadata": {
    "id": "pUn7LDHpALXE"
   },
   "outputs": [],
   "source": [
    "import numpy as np"
   ]
  },
  {
   "cell_type": "code",
   "execution_count": 6,
   "metadata": {
    "id": "5Fb0sKYTBakd"
   },
   "outputs": [],
   "source": [
    "def mult(A,B):\n",
    "    result = np.zeros((np.shape(A)[0],np.shape(B)[1]))\n",
    "    if np.shape(A)[1] != np.shape(B)[0]:\n",
    "        print(\"Can't multiply, check dimensions..\")\n",
    "    for i in range(len(A)):\n",
    "        for j in range(len(B[0])):\n",
    "            for k in range(len(B)):\n",
    "                result[i][j] += A[i][k] * B[k][j] \n",
    "    return result\n"
   ]
  },
  {
   "cell_type": "code",
   "execution_count": 7,
   "metadata": {
    "colab": {
     "base_uri": "https://localhost:8080/"
    },
    "id": "owsfrU4QARuz",
    "outputId": "2102fd94-582e-48a7-c76c-acb482a7c49a"
   },
   "outputs": [
    {
     "name": "stdout",
     "output_type": "stream",
     "text": [
      "Matrix A:\n",
      " [[1 2 3]\n",
      " [4 5 6]]\n",
      "\n",
      "Matrix B:\n",
      " [[1 4]\n",
      " [2 5]\n",
      " [3 6]]\n",
      "\n",
      "The result A*B using the function is: \n",
      " [[14. 32.]\n",
      " [32. 77.]]\n",
      "\n",
      "The result A*B using A@B is:\n",
      " [[14 32]\n",
      " [32 77]]\n"
     ]
    }
   ],
   "source": [
    "A=np.array([[1,2,3],[4,5,6]])\n",
    "B=A.T\n",
    "\n",
    "C = mult(A,B)\n",
    "\n",
    "print(\"Matrix A:\\n\",A)\n",
    "print(\"\")\n",
    "print(\"Matrix B:\\n\",B)\n",
    "print(\"\")\n",
    "\n",
    "print(\"The result A*B using the function is: \\n\", C)\n",
    "print(\"\")\n",
    "print(\"The result A*B using A@B is:\\n\", A@B)\n"
   ]
  },
  {
   "cell_type": "markdown",
   "metadata": {
    "id": "fte0rCKCRWCx"
   },
   "source": [
    "-----------------\n"
   ]
  },
  {
   "cell_type": "code",
   "execution_count": 8,
   "metadata": {
    "colab": {
     "base_uri": "https://localhost:8080/"
    },
    "id": "MOiimV4WQr66",
    "outputId": "a866ff68-67f5-4613-c4ef-f3e873dacb97"
   },
   "outputs": [
    {
     "name": "stdout",
     "output_type": "stream",
     "text": [
      "The result A*B using the function is: \n",
      " [[ 103.   45.  116.   73.]\n",
      " [ 882.  203. 1545.  187.]\n",
      " [ 848.  168. 1448.  176.]\n",
      " [ 130.   54.  131.  100.]]\n",
      "\n",
      "The result A*B using A@B is: \n",
      " [[ 103   45  116   73]\n",
      " [ 882  203 1545  187]\n",
      " [ 848  168 1448  176]\n",
      " [ 130   54  131  100]]\n"
     ]
    }
   ],
   "source": [
    "# Using other values of A and B\n",
    "A = np.array([[1,3,5,6],[8,92,19,1],[8,90,10,2],[1,3,5,9]])\n",
    "B = np.array([[10,4,1,6],[8,1,15,1],[3,4,8,2],[9,3,5,9]])\n",
    "\n",
    "C = mult(A,B)\n",
    "\n",
    "print(\"The result A*B using the function is: \\n\", C)\n",
    "print(\"\")\n",
    "print(\"The result A*B using A@B is: \\n\", A@B)\n",
    "\n",
    "\n"
   ]
  }
 ],
 "metadata": {
  "colab": {
   "collapsed_sections": [],
   "name": "MatrixMultiplication.ipynb",
   "provenance": []
  },
  "kernelspec": {
   "display_name": "Python 3 (ipykernel)",
   "language": "python",
   "name": "python3"
  },
  "language_info": {
   "codemirror_mode": {
    "name": "ipython",
    "version": 3
   },
   "file_extension": ".py",
   "mimetype": "text/x-python",
   "name": "python",
   "nbconvert_exporter": "python",
   "pygments_lexer": "ipython3",
   "version": "3.9.7"
  }
 },
 "nbformat": 4,
 "nbformat_minor": 1
}
