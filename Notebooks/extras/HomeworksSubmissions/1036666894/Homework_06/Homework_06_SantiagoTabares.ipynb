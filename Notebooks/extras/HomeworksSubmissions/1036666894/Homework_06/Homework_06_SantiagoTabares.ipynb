{
 "cells": [
  {
   "cell_type": "markdown",
   "id": "74a17819",
   "metadata": {},
   "source": [
    "### Homework_06 - Santiago Tabares\n",
    "**1036666894**"
   ]
  },
  {
   "cell_type": "code",
   "execution_count": 69,
   "id": "43d3a1bd",
   "metadata": {},
   "outputs": [],
   "source": [
    "import pandas as pd\n",
    "import matplotlib.pyplot as plt\n",
    "import numpy as np\n",
    "from sklearn.model_selection import train_test_split"
   ]
  },
  {
   "cell_type": "code",
   "execution_count": 70,
   "id": "405324a1",
   "metadata": {},
   "outputs": [],
   "source": [
    "import tensorflow as tf\n",
    "from tensorflow.keras.models import Sequential\n",
    "from tensorflow.keras.layers import InputLayer, Dense, Flatten\n",
    "from tensorflow import one_hot\n",
    "from tensorflow.keras import regularizers"
   ]
  },
  {
   "cell_type": "code",
   "execution_count": 71,
   "id": "a711492d",
   "metadata": {},
   "outputs": [],
   "source": [
    "df = pd.read_csv(\"mnist_test.csv\", sep=',')\n",
    "X_data = df.drop(['label'], axis=1).to_numpy()\n",
    "y_data = df[['label']].to_numpy()\n",
    "\n",
    "X_train, X_test, y_train, y_test = train_test_split(X_data, y_data, test_size=0.2) # Split the data \n",
    "\n",
    "# One-hot encoding\n",
    "y_train_hot = one_hot(y_train, depth=10)\n",
    "y_test_hot = one_hot(y_test, depth=10)\n",
    "\n",
    "tf.random.set_seed(42) # Establish a seed"
   ]
  },
  {
   "cell_type": "code",
   "execution_count": 72,
   "id": "e6ec38a6",
   "metadata": {},
   "outputs": [
    {
     "data": {
      "text/plain": [
       "(10000, 784)"
      ]
     },
     "execution_count": 72,
     "metadata": {},
     "output_type": "execute_result"
    }
   ],
   "source": [
    "X_data.shape"
   ]
  },
  {
   "cell_type": "markdown",
   "id": "67d702af",
   "metadata": {},
   "source": [
    "## Neural Network Model"
   ]
  },
  {
   "cell_type": "code",
   "execution_count": 91,
   "id": "db04ee0f",
   "metadata": {},
   "outputs": [],
   "source": [
    "def get_model(input_shape):\n",
    "    model=Sequential([\n",
    "                  InputLayer(input_shape=input_shape),\n",
    "                  Dense(units=64,kernel_regularizer = regularizers.l1(1e-3), activation='relu',name='layer_hidden1'),\n",
    "                  Dense(units=64,kernel_regularizer = regularizers.l1(1e-3), activation='relu',name='layer_hidden2'),   \n",
    "                  Dense(units=20, activation='relu',name='layer_hidden3'),   \n",
    "                  Dense(units=10,activation='softmax',name='output_layer')\n",
    "                 ])\n",
    "    return model"
   ]
  },
  {
   "cell_type": "code",
   "execution_count": 92,
   "id": "5103212d",
   "metadata": {},
   "outputs": [
    {
     "name": "stdout",
     "output_type": "stream",
     "text": [
      "Model: \"sequential_15\"\n",
      "_________________________________________________________________\n",
      " Layer (type)                Output Shape              Param #   \n",
      "=================================================================\n",
      " layer_hidden1 (Dense)       (None, 64)                50240     \n",
      "                                                                 \n",
      " layer_hidden2 (Dense)       (None, 64)                4160      \n",
      "                                                                 \n",
      " layer_hidden3 (Dense)       (None, 20)                1300      \n",
      "                                                                 \n",
      " output_layer (Dense)        (None, 10)                210       \n",
      "                                                                 \n",
      "=================================================================\n",
      "Total params: 55,910\n",
      "Trainable params: 55,910\n",
      "Non-trainable params: 0\n",
      "_________________________________________________________________\n"
     ]
    }
   ],
   "source": [
    "model.summary()"
   ]
  },
  {
   "cell_type": "code",
   "execution_count": 93,
   "id": "ed7b4467",
   "metadata": {},
   "outputs": [],
   "source": [
    "def compile_model(model):\n",
    "        model.compile(optimizer=\"adam\",\n",
    "              loss='categorical_crossentropy', #one-hot  \n",
    "              metrics=['accuracy'])"
   ]
  },
  {
   "cell_type": "code",
   "execution_count": 94,
   "id": "1d5e32ef",
   "metadata": {},
   "outputs": [
    {
     "name": "stdout",
     "output_type": "stream",
     "text": [
      "Epoch 1/70\n",
      "200/200 [==============================] - 1s 3ms/step - loss: 7.3402 - accuracy: 0.5022 - val_loss: 3.1304 - val_accuracy: 0.6594\n",
      "Epoch 2/70\n",
      "200/200 [==============================] - 0s 2ms/step - loss: 2.7154 - accuracy: 0.7305 - val_loss: 2.6761 - val_accuracy: 0.7513\n",
      "Epoch 3/70\n",
      "200/200 [==============================] - 0s 2ms/step - loss: 2.3395 - accuracy: 0.8086 - val_loss: 2.5093 - val_accuracy: 0.7837\n",
      "Epoch 4/70\n",
      "200/200 [==============================] - 0s 2ms/step - loss: 2.1209 - accuracy: 0.8481 - val_loss: 2.3246 - val_accuracy: 0.8400\n",
      "Epoch 5/70\n",
      "200/200 [==============================] - 0s 2ms/step - loss: 1.9384 - accuracy: 0.8747 - val_loss: 2.2825 - val_accuracy: 0.8369\n",
      "Epoch 6/70\n",
      "200/200 [==============================] - 1s 3ms/step - loss: 1.8370 - accuracy: 0.8858 - val_loss: 2.0411 - val_accuracy: 0.8587\n",
      "Epoch 7/70\n",
      "200/200 [==============================] - 0s 2ms/step - loss: 1.7290 - accuracy: 0.8948 - val_loss: 1.9827 - val_accuracy: 0.8687\n",
      "Epoch 8/70\n",
      "200/200 [==============================] - 0s 2ms/step - loss: 1.6539 - accuracy: 0.9089 - val_loss: 1.8721 - val_accuracy: 0.8838\n",
      "Epoch 9/70\n",
      "200/200 [==============================] - 1s 3ms/step - loss: 1.5237 - accuracy: 0.9194 - val_loss: 1.7997 - val_accuracy: 0.8806\n",
      "Epoch 10/70\n",
      "200/200 [==============================] - 0s 2ms/step - loss: 1.4168 - accuracy: 0.9312 - val_loss: 1.6843 - val_accuracy: 0.9019\n",
      "Epoch 11/70\n",
      "200/200 [==============================] - 0s 2ms/step - loss: 1.3569 - accuracy: 0.9362 - val_loss: 1.6269 - val_accuracy: 0.9038\n",
      "Epoch 12/70\n",
      "200/200 [==============================] - 0s 2ms/step - loss: 1.2587 - accuracy: 0.9467 - val_loss: 1.5860 - val_accuracy: 0.9069\n",
      "Epoch 13/70\n",
      "200/200 [==============================] - 0s 2ms/step - loss: 1.2545 - accuracy: 0.9339 - val_loss: 1.5996 - val_accuracy: 0.8875\n",
      "Epoch 14/70\n",
      "200/200 [==============================] - 0s 2ms/step - loss: 1.2526 - accuracy: 0.9256 - val_loss: 1.5022 - val_accuracy: 0.9019\n",
      "Epoch 15/70\n",
      "200/200 [==============================] - 0s 2ms/step - loss: 1.1175 - accuracy: 0.9453 - val_loss: 1.3922 - val_accuracy: 0.9050\n",
      "Epoch 16/70\n",
      "200/200 [==============================] - 0s 2ms/step - loss: 1.0820 - accuracy: 0.9422 - val_loss: 1.3938 - val_accuracy: 0.8969\n",
      "Epoch 17/70\n",
      "200/200 [==============================] - 0s 2ms/step - loss: 1.0526 - accuracy: 0.9455 - val_loss: 1.3752 - val_accuracy: 0.8925\n",
      "Epoch 18/70\n",
      "200/200 [==============================] - 0s 2ms/step - loss: 1.0434 - accuracy: 0.9438 - val_loss: 1.4010 - val_accuracy: 0.8919\n",
      "Epoch 19/70\n",
      "200/200 [==============================] - 0s 2ms/step - loss: 1.0237 - accuracy: 0.9420 - val_loss: 1.3335 - val_accuracy: 0.8981\n",
      "Epoch 20/70\n",
      "200/200 [==============================] - 1s 3ms/step - loss: 0.9060 - accuracy: 0.9555 - val_loss: 1.1787 - val_accuracy: 0.9212\n",
      "Epoch 21/70\n",
      "200/200 [==============================] - 1s 3ms/step - loss: 0.8429 - accuracy: 0.9608 - val_loss: 1.1458 - val_accuracy: 0.9137\n",
      "Epoch 22/70\n",
      "200/200 [==============================] - 1s 3ms/step - loss: 0.7885 - accuracy: 0.9658 - val_loss: 1.0646 - val_accuracy: 0.9219\n",
      "Epoch 23/70\n",
      "200/200 [==============================] - 0s 2ms/step - loss: 0.7744 - accuracy: 0.9611 - val_loss: 1.1428 - val_accuracy: 0.9038\n",
      "Epoch 24/70\n",
      "200/200 [==============================] - 0s 2ms/step - loss: 0.7683 - accuracy: 0.9575 - val_loss: 0.9956 - val_accuracy: 0.9194\n",
      "Epoch 25/70\n",
      "200/200 [==============================] - 0s 2ms/step - loss: 0.7514 - accuracy: 0.9586 - val_loss: 0.9808 - val_accuracy: 0.9200\n",
      "Epoch 26/70\n",
      "200/200 [==============================] - 1s 3ms/step - loss: 0.7248 - accuracy: 0.9638 - val_loss: 0.9701 - val_accuracy: 0.9200\n",
      "Epoch 27/70\n",
      "200/200 [==============================] - 1s 3ms/step - loss: 0.7025 - accuracy: 0.9583 - val_loss: 0.9534 - val_accuracy: 0.9175\n",
      "Epoch 28/70\n",
      "200/200 [==============================] - 1s 3ms/step - loss: 0.6646 - accuracy: 0.9638 - val_loss: 0.9576 - val_accuracy: 0.9169\n",
      "Epoch 29/70\n",
      "200/200 [==============================] - 0s 2ms/step - loss: 0.6559 - accuracy: 0.9619 - val_loss: 0.8324 - val_accuracy: 0.9275\n",
      "Epoch 30/70\n",
      "200/200 [==============================] - 0s 2ms/step - loss: 0.6792 - accuracy: 0.9556 - val_loss: 0.8494 - val_accuracy: 0.9269\n",
      "Epoch 31/70\n",
      "200/200 [==============================] - 0s 2ms/step - loss: 0.6447 - accuracy: 0.9573 - val_loss: 0.9098 - val_accuracy: 0.9269\n",
      "Epoch 32/70\n",
      "200/200 [==============================] - 0s 2ms/step - loss: 0.5735 - accuracy: 0.9716 - val_loss: 0.8166 - val_accuracy: 0.9325\n",
      "Epoch 33/70\n",
      "200/200 [==============================] - 0s 2ms/step - loss: 0.6408 - accuracy: 0.9544 - val_loss: 0.8690 - val_accuracy: 0.9181\n",
      "Epoch 34/70\n",
      "200/200 [==============================] - 0s 2ms/step - loss: 0.5369 - accuracy: 0.9731 - val_loss: 0.9165 - val_accuracy: 0.9144\n",
      "Epoch 35/70\n",
      "200/200 [==============================] - 0s 2ms/step - loss: 0.5240 - accuracy: 0.9705 - val_loss: 0.8025 - val_accuracy: 0.9319\n",
      "Epoch 36/70\n",
      "200/200 [==============================] - 0s 2ms/step - loss: 0.5316 - accuracy: 0.9667 - val_loss: 0.7441 - val_accuracy: 0.9219\n",
      "Epoch 37/70\n",
      "200/200 [==============================] - 0s 2ms/step - loss: 0.5302 - accuracy: 0.9706 - val_loss: 0.7087 - val_accuracy: 0.9325\n",
      "Epoch 38/70\n",
      "200/200 [==============================] - 0s 2ms/step - loss: 0.4842 - accuracy: 0.9748 - val_loss: 0.8728 - val_accuracy: 0.9038\n",
      "Epoch 39/70\n",
      "200/200 [==============================] - 0s 2ms/step - loss: 0.5351 - accuracy: 0.9592 - val_loss: 0.6949 - val_accuracy: 0.9281\n",
      "Epoch 40/70\n",
      "200/200 [==============================] - 0s 2ms/step - loss: 0.4935 - accuracy: 0.9712 - val_loss: 0.6918 - val_accuracy: 0.9362\n",
      "Epoch 41/70\n",
      "200/200 [==============================] - 0s 2ms/step - loss: 0.4631 - accuracy: 0.9712 - val_loss: 0.7009 - val_accuracy: 0.9325\n",
      "Epoch 42/70\n",
      "200/200 [==============================] - 0s 2ms/step - loss: 0.4468 - accuracy: 0.9753 - val_loss: 0.7184 - val_accuracy: 0.9350\n",
      "Epoch 43/70\n",
      "200/200 [==============================] - 0s 2ms/step - loss: 0.4787 - accuracy: 0.9664 - val_loss: 0.8259 - val_accuracy: 0.8950\n",
      "Epoch 44/70\n",
      "200/200 [==============================] - 0s 2ms/step - loss: 0.5223 - accuracy: 0.9603 - val_loss: 0.6959 - val_accuracy: 0.9281\n",
      "Epoch 45/70\n",
      "200/200 [==============================] - 0s 2ms/step - loss: 0.4410 - accuracy: 0.9786 - val_loss: 0.6099 - val_accuracy: 0.9431\n",
      "Epoch 46/70\n",
      "200/200 [==============================] - 0s 2ms/step - loss: 0.3665 - accuracy: 0.9856 - val_loss: 0.6170 - val_accuracy: 0.9312\n",
      "Epoch 47/70\n",
      "200/200 [==============================] - 0s 2ms/step - loss: 0.4565 - accuracy: 0.9633 - val_loss: 0.7121 - val_accuracy: 0.9219\n",
      "Epoch 48/70\n",
      "200/200 [==============================] - 0s 2ms/step - loss: 0.4707 - accuracy: 0.9625 - val_loss: 0.6915 - val_accuracy: 0.9244\n",
      "Epoch 49/70\n",
      "200/200 [==============================] - 0s 2ms/step - loss: 0.4430 - accuracy: 0.9706 - val_loss: 0.6275 - val_accuracy: 0.9337\n",
      "Epoch 50/70\n",
      "200/200 [==============================] - 0s 2ms/step - loss: 0.3864 - accuracy: 0.9778 - val_loss: 0.6135 - val_accuracy: 0.9337\n",
      "Epoch 51/70\n",
      "200/200 [==============================] - 0s 2ms/step - loss: 0.4382 - accuracy: 0.9683 - val_loss: 0.6732 - val_accuracy: 0.9269\n",
      "Epoch 52/70\n",
      "200/200 [==============================] - 0s 2ms/step - loss: 0.4218 - accuracy: 0.9705 - val_loss: 0.5593 - val_accuracy: 0.9369\n",
      "Epoch 53/70\n",
      "200/200 [==============================] - 0s 2ms/step - loss: 0.3614 - accuracy: 0.9808 - val_loss: 0.5310 - val_accuracy: 0.9425\n",
      "Epoch 54/70\n",
      "200/200 [==============================] - 0s 2ms/step - loss: 0.3507 - accuracy: 0.9786 - val_loss: 0.6628 - val_accuracy: 0.9194\n",
      "Epoch 55/70\n",
      "200/200 [==============================] - 0s 2ms/step - loss: 0.3870 - accuracy: 0.9730 - val_loss: 0.6029 - val_accuracy: 0.9362\n",
      "Epoch 56/70\n",
      "200/200 [==============================] - 0s 2ms/step - loss: 0.4263 - accuracy: 0.9656 - val_loss: 0.5825 - val_accuracy: 0.9356\n",
      "Epoch 57/70\n",
      "200/200 [==============================] - 0s 2ms/step - loss: 0.3816 - accuracy: 0.9758 - val_loss: 0.5418 - val_accuracy: 0.9413\n",
      "Epoch 58/70\n",
      "200/200 [==============================] - 0s 2ms/step - loss: 0.3719 - accuracy: 0.9756 - val_loss: 0.5609 - val_accuracy: 0.9419\n",
      "Epoch 59/70\n",
      "200/200 [==============================] - 0s 2ms/step - loss: 0.3675 - accuracy: 0.9756 - val_loss: 0.5980 - val_accuracy: 0.9344\n",
      "Epoch 60/70\n",
      "200/200 [==============================] - 0s 2ms/step - loss: 0.3946 - accuracy: 0.9712 - val_loss: 0.5618 - val_accuracy: 0.9369\n",
      "Epoch 61/70\n",
      "200/200 [==============================] - 0s 2ms/step - loss: 0.3812 - accuracy: 0.9730 - val_loss: 0.6460 - val_accuracy: 0.9169\n",
      "Epoch 62/70\n",
      "200/200 [==============================] - 0s 2ms/step - loss: 0.4344 - accuracy: 0.9628 - val_loss: 0.5554 - val_accuracy: 0.9444\n",
      "Epoch 63/70\n",
      "200/200 [==============================] - 0s 2ms/step - loss: 0.3573 - accuracy: 0.9817 - val_loss: 0.5524 - val_accuracy: 0.9400\n",
      "Epoch 64/70\n",
      "200/200 [==============================] - 1s 3ms/step - loss: 0.3354 - accuracy: 0.9809 - val_loss: 0.5365 - val_accuracy: 0.9394\n",
      "Epoch 65/70\n",
      "200/200 [==============================] - 1s 3ms/step - loss: 0.3432 - accuracy: 0.9792 - val_loss: 0.5566 - val_accuracy: 0.9256\n",
      "Epoch 66/70\n",
      "200/200 [==============================] - 1s 3ms/step - loss: 0.3071 - accuracy: 0.9833 - val_loss: 0.5673 - val_accuracy: 0.9306\n",
      "Epoch 67/70\n",
      "200/200 [==============================] - 0s 2ms/step - loss: 0.3679 - accuracy: 0.9719 - val_loss: 0.5622 - val_accuracy: 0.9344\n",
      "Epoch 68/70\n",
      "200/200 [==============================] - 0s 2ms/step - loss: 0.3560 - accuracy: 0.9789 - val_loss: 0.5119 - val_accuracy: 0.9394\n",
      "Epoch 69/70\n",
      "200/200 [==============================] - 0s 2ms/step - loss: 0.3176 - accuracy: 0.9817 - val_loss: 0.5383 - val_accuracy: 0.9281\n",
      "Epoch 70/70\n",
      "200/200 [==============================] - 0s 2ms/step - loss: 0.3644 - accuracy: 0.9719 - val_loss: 0.5667 - val_accuracy: 0.9312\n"
     ]
    }
   ],
   "source": [
    "model = get_model(X_train[0].shape)\n",
    "compile_model(model)\n",
    "\n",
    "epochs=70\n",
    "history=model.fit(X_train, y_train_hot[:,0],  epochs=epochs, validation_split=0.2, verbose=True)"
   ]
  },
  {
   "cell_type": "markdown",
   "id": "2118fb69",
   "metadata": {},
   "source": [
    "### Evaluation of the Model"
   ]
  },
  {
   "cell_type": "code",
   "execution_count": 95,
   "id": "52dd34d4",
   "metadata": {},
   "outputs": [
    {
     "data": {
      "image/png": "[encoded data removed]",
      "text/plain": [
       "<Figure size 864x360 with 2 Axes>"
      ]
     },
     "metadata": {
      "needs_background": "light"
     },
     "output_type": "display_data"
    }
   ],
   "source": [
    "fig,ax=plt.subplots(1,2,figsize=(12,5))\n",
    "\n",
    "ax[0].plot(history.history['accuracy'],label='train set accuracy')\n",
    "ax[0].plot(history.history['val_accuracy'],label='validation set accuracy')\n",
    "ax[0].set_title('Accuracy vs Epochs', fontsize=16)\n",
    "ax[0].set_xlabel('epochs', fontsize=15)\n",
    "ax[0].set_ylabel('accuracy', fontsize=15)\n",
    "ax[0].legend()\n",
    "ax[0].grid()\n",
    "\n",
    "ax[1].plot(history.history['loss'],label='train set loss')\n",
    "ax[1].plot(history.history['val_loss'],label='validation set loss')\n",
    "ax[1].set_title('Loss vs Epochs', fontsize=16)\n",
    "ax[1].set_xlabel('epochs', fontsize=15)\n",
    "ax[1].set_ylabel('loss', fontsize=15)\n",
    "ax[1].legend()\n",
    "ax[1].grid()\n"
   ]
  },
  {
   "cell_type": "code",
   "execution_count": 97,
   "id": "cf9b9645",
   "metadata": {},
   "outputs": [
    {
     "name": "stdout",
     "output_type": "stream",
     "text": [
      "accuracy 0.925000011920929\n"
     ]
    }
   ],
   "source": [
    "loss, accuracy=model.evaluate(X_test, y_test_hot[:,0], verbose=False)\n",
    "print('accuracy',accuracy)"
   ]
  },
  {
   "cell_type": "markdown",
   "id": "5fe50baf",
   "metadata": {},
   "source": [
    "The built model has good accuracy and it can predcit very well. It doesn't show overfitting and it has good learning curves."
   ]
  },
  {
   "cell_type": "code",
   "execution_count": null,
   "id": "6571abdb",
   "metadata": {},
   "outputs": [],
   "source": []
  }
 ],
 "metadata": {
  "kernelspec": {
   "display_name": "Python 3 (ipykernel)",
   "language": "python",
   "name": "python3"
  },
  "language_info": {
   "codemirror_mode": {
    "name": "ipython",
    "version": 3
   },
   "file_extension": ".py",
   "mimetype": "text/x-python",
   "name": "python",
   "nbconvert_exporter": "python",
   "pygments_lexer": "ipython3",
   "version": "3.9.7"
  }
 },
 "nbformat": 4,
 "nbformat_minor": 5
}
