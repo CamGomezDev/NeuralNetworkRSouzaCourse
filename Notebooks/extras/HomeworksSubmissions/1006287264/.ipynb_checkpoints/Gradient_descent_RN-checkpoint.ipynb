{
 "cells": [
  {
   "cell_type": "code",
   "execution_count": 1,
   "metadata": {
    "colab": {
     "base_uri": "https://localhost:8080/",
     "height": 624
    },
    "id": "hdF56C_6Ky5P",
    "outputId": "50529bba-7db1-4c0d-a3d6-6ca844cefc92"
   },
   "outputs": [
    {
     "name": "stdout",
     "output_type": "stream",
     "text": [
      "a1=  1.287357358541719\n",
      "a0=  9.90860654749229\n",
      "[0.10960367 5.48615518]\n"
     ]
    },
    {
     "data": {
      "text/plain": [
       "<matplotlib.legend.Legend at 0x7fd74ced8390>"
      ]
     },
     "execution_count": 1,
     "metadata": {},
     "output_type": "execute_result"
    },
    {
     "data": {
      "image/png": "[encoded data removed]",
      "text/plain": [
       "<Figure size 864x648 with 1 Axes>"
      ]
     },
     "metadata": {
      "needs_background": "light"
     },
     "output_type": "display_data"
    }
   ],
   "source": [
    "import numpy as np\n",
    "import pandas as pd\n",
    "import matplotlib.pyplot as plt\n",
    "import time\n",
    "plt.rcParams['figure.figsize'] = (12.0, 9.0)\n",
    "\n",
    "# Preprocessing Input data\n",
    "data = pd.read_csv(\"https://raw.githubusercontent.com/mhemmg/NeuralNetworkRSouzaCourse/master/Notebooks/extras/classes_MH/class_7/data.csv\")\n",
    "X = data.iloc[:, 0]\n",
    "y = data.iloc[:, 1]\n",
    "\n",
    "X=X.to_numpy()\n",
    "y=y.to_numpy()\n",
    "\n",
    "def func(x, a1, a0):\n",
    "    return a1 * x + a0\n",
    "\n",
    "p0=np.array([10.0,10.0])\n",
    "from scipy.optimize import curve_fit\n",
    "popt, pcov = curve_fit(func, X, y, p0, method='lm')\n",
    "perr = np.sqrt(np.diag(pcov))\n",
    "print('a1= ',popt[0])\n",
    "print('a0= ',popt[1])\n",
    "print(perr)\n",
    "\n",
    "t_mesh=np.linspace(np.min(X),np.max(X),100)\n",
    "v_fit=popt[0]*t_mesh + popt[1]\n",
    "\n",
    "fig,ax=plt.subplots(1,1)\n",
    "ax.plot(X,y,'sb', label='data')\n",
    "ax.plot(t_mesh,v_fit,'-r', label='fitting LM')\n",
    "\n",
    "ax.set_xlabel('t')\n",
    "ax.set_ylabel('v(t)')\n",
    "ax.legend()"
   ]
  },
  {
   "cell_type": "code",
   "execution_count": 2,
   "metadata": {
    "id": "4U7zo487K1fJ"
   },
   "outputs": [],
   "source": [
    "# Definiendo las funciones de costo MSE,MAE, Y MAPE\n",
    "def  MSE(theta,X,y):\n",
    "   \n",
    "   \n",
    "    m = len(y)\n",
    "    \n",
    "    predictions = X.dot(theta)\n",
    "    cost = (1/2*m) * np.sum(np.square(predictions-y))\n",
    "    return cost\n",
    "def  MAE(theta,X,y):\n",
    "    \n",
    "    m = len(y)\n",
    "    \n",
    "    predictions = X.dot(theta)\n",
    "    cost = (1/m) * np.sum(np.abs(predictions-y))\n",
    "    return cost    \n",
    "def  MAPE(theta,X,y):\n",
    "    \n",
    "    m = len(y)\n",
    "    \n",
    "    predictions = X.dot(theta)\n",
    "    \n",
    "    cost = np.mean(np.abs((predictions-y)/y))*100\n",
    "    return cost\n"
   ]
  },
  {
   "cell_type": "code",
   "execution_count": 3,
   "metadata": {
    "colab": {
     "base_uri": "https://localhost:8080/"
    },
    "id": "ucZ1T8CW5J8d",
    "outputId": "9129c03d-d9ef-4ee1-ea6e-9dd5d04c364e"
   },
   "outputs": [
    {
     "ename": "NameError",
     "evalue": "name 'X_b' is not defined",
     "output_type": "error",
     "traceback": [
      "\u001b[0;31m---------------------------------------------------------------------------\u001b[0m",
      "\u001b[0;31mNameError\u001b[0m                                 Traceback (most recent call last)",
      "\u001b[0;32m<ipython-input-3-d72e4ee9c0bf>\u001b[0m in \u001b[0;36m<module>\u001b[0;34m\u001b[0m\n\u001b[1;32m      1\u001b[0m \u001b[0mtheta\u001b[0m\u001b[0;34m=\u001b[0m \u001b[0mnp\u001b[0m\u001b[0;34m.\u001b[0m\u001b[0marray\u001b[0m\u001b[0;34m(\u001b[0m\u001b[0;34m[\u001b[0m\u001b[0;36m9.8\u001b[0m\u001b[0;34m,\u001b[0m\u001b[0;36m1.14\u001b[0m\u001b[0;34m]\u001b[0m\u001b[0;34m)\u001b[0m\u001b[0;34m.\u001b[0m\u001b[0mreshape\u001b[0m\u001b[0;34m(\u001b[0m\u001b[0;36m2\u001b[0m\u001b[0;34m,\u001b[0m\u001b[0;36m1\u001b[0m\u001b[0;34m)\u001b[0m\u001b[0;34m\u001b[0m\u001b[0;34m\u001b[0m\u001b[0m\n\u001b[0;32m----> 2\u001b[0;31m \u001b[0mMSE\u001b[0m\u001b[0;34m(\u001b[0m\u001b[0mtheta\u001b[0m\u001b[0;34m,\u001b[0m\u001b[0mX_b\u001b[0m\u001b[0;34m,\u001b[0m\u001b[0my\u001b[0m\u001b[0;34m)\u001b[0m\u001b[0;34m\u001b[0m\u001b[0;34m\u001b[0m\u001b[0m\n\u001b[0m",
      "\u001b[0;31mNameError\u001b[0m: name 'X_b' is not defined"
     ]
    }
   ],
   "source": [
    "theta= np.array([9.8,1.14]).reshape(2,1)\n",
    "MSE(theta,X_b,y)"
   ]
  },
  {
   "cell_type": "code",
   "execution_count": null,
   "metadata": {
    "id": "jx2hv6acMkzP"
   },
   "outputs": [],
   "source": [
    "\n",
    "#Intanciando el descenso del gradiente \n",
    "def gradient_descent(f,X,y,theta,learning_rate=0.01,iterations=100):\n",
    "    n = len(y)\n",
    "    cost_history = np.zeros(iterations)\n",
    "    theta_history = np.zeros((iterations,2))\n",
    "    for it in range(iterations):\n",
    "        \n",
    "        prediction = np.dot(X,theta)\n",
    "        \n",
    "        theta = theta -(1/n)*learning_rate*( X.T.dot((prediction - y)))\n",
    "        \n",
    "        cost_history[it]  = f(theta,X,y)\n",
    "        \n",
    "    return theta,cost_history\n",
    "        \n"
   ]
  },
  {
   "cell_type": "code",
   "execution_count": null,
   "metadata": {
    "colab": {
     "base_uri": "https://localhost:8080/"
    },
    "id": "4ruTRa2uohEE",
    "outputId": "348c110c-1df7-4bf1-e4cb-a656e0c2aca4"
   },
   "outputs": [],
   "source": [
    "# Valores para evaluar gradient descent\n",
    "n_iter= 100\n",
    "lr= 0.0001\n",
    "\n",
    "\n",
    "theta = np.array([10,10]).reshape(2,1)\n",
    "\n",
    "X_b = np.c_[np.ones((len(X),1)),X]\n",
    "theta,cost_history = gradient_descent(MSE,X_b,y,theta,lr,n_iter)\n",
    "theta1,cost_history1 = gradient_descent(MAE,X_b,y,theta,lr,n_iter)\n",
    "theta2,cost_history2 = gradient_descent(MAPE,X_b,y,theta,lr,n_iter)\n",
    "\n",
    "\n",
    "print('Intercepción:          {:0.3f},\\nPendiente:          {:0.3f}'.format(theta[0][0],theta[1][0]))\n",
    "print('Función de costo:  {:0.3f}'.format(cost_history[-1]))\n",
    "\n",
    "\n"
   ]
  },
  {
   "cell_type": "code",
   "execution_count": null,
   "metadata": {
    "colab": {
     "base_uri": "https://localhost:8080/",
     "height": 508
    },
    "id": "69-kFuuOh5SZ",
    "outputId": "105dadbd-547f-43b3-936e-fcdc4b16b15a"
   },
   "outputs": [],
   "source": [
    "# plot de los resultados obtenidos \n",
    "\n",
    "fig,ax = plt.subplots(2,2,figsize=(12,8))\n",
    "\n",
    "ax[0][0].plot(range(n_iter),cost_history,'b.',label= \" MSE\")\n",
    "ax[0][1].plot(range(n_iter),cost_history1,'b.',label=\" MAE\")\n",
    "ax[1][0].plot(range(n_iter),cost_history2,'b.',label=\" MAPE\")\n",
    "\n",
    "# Plot de la regresión lineal con gradient descent y scipy \n",
    "X_mesh=np.linspace(np.min(X),np.max(X),100)\n",
    "y_fit=theta[1][0]*X_mesh + theta[0][0]\n",
    "scipy_fit=popt[0]*X_mesh + popt[1]\n",
    "ax[1][1].plot(X,y,'b.')\n",
    "ax[1][1].set_xlabel('t')\n",
    "ax[1][1].set_ylabel('v(t)')\n",
    "\n",
    "ax[1][1].plot(X_mesh,y_fit,'-r', label='Ajuste con gradient descent')\n",
    "ax[1][1].plot(X_mesh,scipy_fit,'-b', label='Ajuste con scipy')\n",
    "for i in range(0,2):\n",
    "  for j in range(0,1):\n",
    "    ax[i][j+1].legend()\n",
    "    ax[i][j].set_xlabel('Iterations')\n",
    "    ax[i][j].set_ylabel(r'$J(\\theta)$')\n",
    "    \n",
    "\n",
    "\n",
    "\n"
   ]
  },
  {
   "cell_type": "markdown",
   "metadata": {
    "id": "fhqN6MT5WC6l"
   },
   "source": [
    "### Si el learning rate es grande, es decir 0.1(esto depende de los datos), entonces la función de costo no converge a un valor mínimo, y por el contrario se obtienen valores grandes. \n",
    "### Con lr= 0.007 no hay mayor cambio "
   ]
  },
  {
   "cell_type": "code",
   "execution_count": null,
   "metadata": {
    "colab": {
     "base_uri": "https://localhost:8080/"
    },
    "id": "ZItV1RW2sMr7",
    "outputId": "70c3c5f4-707f-4847-db2b-ef6c9916fce8"
   },
   "outputs": [],
   "source": [
    "popt[1]\n",
    "#theta[0][0]\n"
   ]
  },
  {
   "cell_type": "code",
   "execution_count": null,
   "metadata": {
    "id": "T5opIRJCzwpf"
   },
   "outputs": [],
   "source": []
  },
  {
   "cell_type": "code",
   "execution_count": null,
   "metadata": {
    "id": "MVQQWQPwEuOs"
   },
   "outputs": [],
   "source": [
    "# comments from MH\n",
    "# the code doesnt compile\n",
    "# in [3] NameError: name 'X_b' is not defined"
   ]
  }
 ],
 "metadata": {
  "colab": {
   "collapsed_sections": [],
   "name": "Gradient descent RN.ipynb",
   "provenance": []
  },
  "kernelspec": {
   "display_name": "Python 3",
   "language": "python",
   "name": "python3"
  },
  "language_info": {
   "codemirror_mode": {
    "name": "ipython",
    "version": 3
   },
   "file_extension": ".py",
   "mimetype": "text/x-python",
   "name": "python",
   "nbconvert_exporter": "python",
   "pygments_lexer": "ipython3",
   "version": "3.7.2"
  }
 },
 "nbformat": 4,
 "nbformat_minor": 1
}
