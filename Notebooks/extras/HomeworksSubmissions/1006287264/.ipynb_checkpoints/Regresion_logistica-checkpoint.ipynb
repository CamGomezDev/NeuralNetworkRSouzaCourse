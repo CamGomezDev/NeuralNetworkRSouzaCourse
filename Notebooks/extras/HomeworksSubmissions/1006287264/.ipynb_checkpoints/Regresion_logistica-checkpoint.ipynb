{
 "cells": [
  {
   "cell_type": "code",
   "execution_count": null,
   "metadata": {
    "colab": {
     "base_uri": "https://localhost:8080/",
     "height": 299
    },
    "id": "1DQShY_Bb-o3",
    "outputId": "eb0a939c-a2b0-40d4-aa46-09a3a81ce4ac"
   },
   "outputs": [],
   "source": [
    "import pandas as pd \n",
    "\n",
    "#%matplotlib inline\n",
    "import numpy as np\n",
    "import matplotlib.pyplot as plt\n",
    "import seaborn as sns; sns.set()\n",
    "import pandas as pd\n",
    "\n",
    "\n",
    "df= pd.read_csv(\"https://raw.githubusercontent.com/mhemmg/NeuralNetworkRSouzaCourse/master/Notebooks/extras/classes_MH/class_08/mnist_test.csv\")\n",
    "df.head()"
   ]
  },
  {
   "cell_type": "code",
   "execution_count": null,
   "metadata": {
    "id": "E3HJltEOcQx9"
   },
   "outputs": [],
   "source": [
    "# Convirtiendo datos a formato numpy\n",
    "df_np = df.to_numpy()\n",
    "df_np.shape\n",
    "# el array y tiene las etiquetas \n",
    "y_data = df[['label']].to_numpy()\n",
    "# El array que contiene los números \n",
    "X_data=df.loc[:, df.columns.drop('label')].to_numpy()"
   ]
  },
  {
   "cell_type": "code",
   "execution_count": null,
   "metadata": {
    "colab": {
     "base_uri": "https://localhost:8080/",
     "height": 482
    },
    "id": "Jg_Lpp_0j720",
    "outputId": "4d128b73-d672-4e02-eece-18a2c6a4c6d5"
   },
   "outputs": [],
   "source": [
    "#Graficas \n",
    "_, axes = plt.subplots(nrows=5,ncols=5, figsize=(10, 8))\n",
    "for ax, image, label in zip(axes.ravel(),X_data, y_data):\n",
    "    ax.set_axis_off()\n",
    "    image = image.reshape(28, 28)\n",
    "    ax.imshow(image, cmap=plt.cm.gray_r, interpolation=\"none\" )\n",
    "    ax.set_title(\"Número: %i\" % label)\n",
    "\n"
   ]
  },
  {
   "cell_type": "code",
   "execution_count": null,
   "metadata": {
    "id": "nhLI864hdiaU"
   },
   "outputs": [],
   "source": [
    "# Dividimos los datos en entrenamiento y prueba\n",
    "from sklearn.model_selection import train_test_split\n",
    "\n",
    "Xtrain, Xtest, ytrain, ytest = train_test_split(X_data, y_data,random_state=0)\n",
    "\n",
    "ytrain= ytrain.ravel()\n"
   ]
  },
  {
   "cell_type": "code",
   "execution_count": null,
   "metadata": {
    "id": "YjSP4pNst9U-"
   },
   "outputs": [],
   "source": [
    "# Definimos la configuración del clasificador\n",
    "from sklearn.linear_model import LogisticRegression\n",
    "\n",
    "logisticRegr = LogisticRegression(solver='saga')"
   ]
  },
  {
   "cell_type": "code",
   "execution_count": null,
   "metadata": {
    "colab": {
     "base_uri": "https://localhost:8080/"
    },
    "id": "UTL7p3r6FYxu",
    "outputId": "bc980afc-4b4d-4e81-dd65-40e13e06bf22"
   },
   "outputs": [],
   "source": [
    "#Entrenamiento\n",
    "logisticRegr.fit(Xtrain,ytrain )"
   ]
  },
  {
   "cell_type": "code",
   "execution_count": null,
   "metadata": {
    "colab": {
     "base_uri": "https://localhost:8080/",
     "height": 437
    },
    "id": "1Og704zaHqQb",
    "outputId": "4c9c08b8-b3b1-4266-ff67-b3f8620d8613"
   },
   "outputs": [],
   "source": [
    "# Matriz de confusión \n",
    "\n",
    "\n",
    "from mlxtend.plotting import plot_confusion_matrix\n",
    "from sklearn.metrics import confusion_matrix\n",
    "ypred = logisticRegr.predict(Xtest)\n",
    "matriz = confusion_matrix(ytest,ypred)\n",
    "\n",
    "plot_confusion_matrix(conf_mat=matriz, figsize=(6,6), show_normed=False)\n",
    "plt.tight_layout()\n",
    "\n"
   ]
  },
  {
   "cell_type": "code",
   "execution_count": null,
   "metadata": {
    "colab": {
     "base_uri": "https://localhost:8080/"
    },
    "id": "zirrlEbEJeWv",
    "outputId": "54e80473-151f-4d32-eda4-4ab63d858369"
   },
   "outputs": [],
   "source": [
    "#Métricas para evaluar la calidad de nuestra predicción\n",
    "from sklearn.metrics import classification_report\n",
    "print(classification_report(ytest, ypred,))\n",
    "\n",
    "\n"
   ]
  },
  {
   "cell_type": "code",
   "execution_count": null,
   "metadata": {
    "id": "vokQC4jZJhPh"
   },
   "outputs": [],
   "source": [
    "\n",
    "\n",
    "\n"
   ]
  },
  {
   "cell_type": "code",
   "execution_count": null,
   "metadata": {
    "colab": {
     "base_uri": "https://localhost:8080/"
    },
    "id": "1cIb1gV7Jn2A",
    "outputId": "334d6a56-cb76-42b9-a6a5-6fe59acc3078"
   },
   "outputs": [],
   "source": []
  },
  {
   "cell_type": "code",
   "execution_count": null,
   "metadata": {
    "colab": {
     "base_uri": "https://localhost:8080/"
    },
    "id": "rl0Yn8sMJqeB",
    "outputId": "4dddd3ff-f6d6-40fd-add9-dcbeb0266c7f"
   },
   "outputs": [],
   "source": [
    "Xtrain.shape"
   ]
  },
  {
   "cell_type": "code",
   "execution_count": null,
   "metadata": {
    "id": "7E2GJPcXKMs4"
   },
   "outputs": [],
   "source": []
  }
 ],
 "metadata": {
  "colab": {
   "collapsed_sections": [],
   "name": "Regresion_logistica.ipynb",
   "provenance": []
  },
  "kernelspec": {
   "display_name": "Python 3",
   "language": "python",
   "name": "python3"
  },
  "language_info": {
   "codemirror_mode": {
    "name": "ipython",
    "version": 3
   },
   "file_extension": ".py",
   "mimetype": "text/x-python",
   "name": "python",
   "nbconvert_exporter": "python",
   "pygments_lexer": "ipython3",
   "version": "3.7.2"
  }
 },
 "nbformat": 4,
 "nbformat_minor": 1
}
