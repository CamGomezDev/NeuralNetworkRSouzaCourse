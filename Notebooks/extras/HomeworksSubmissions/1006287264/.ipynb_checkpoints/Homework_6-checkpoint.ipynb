{
 "cells": [
  {
   "cell_type": "code",
   "execution_count": 1,
   "metadata": {
    "id": "WOradQMLrYtj"
   },
   "outputs": [],
   "source": [
    "import numpy as np \n",
    "import matplotlib.pyplot as plt\n",
    "import pandas as pd"
   ]
  },
  {
   "cell_type": "code",
   "execution_count": 2,
   "metadata": {
    "id": "hzelrzqjB0us"
   },
   "outputs": [],
   "source": [
    "#data= pd.read_csv()\n",
    "#https://www.shanelynn.ie/pandas-iloc-loc-select-rows-and-columns-dataframe/"
   ]
  },
  {
   "cell_type": "code",
   "execution_count": 3,
   "metadata": {
    "id": "ruQnLF6_zq2V"
   },
   "outputs": [],
   "source": [
    "import numpy as np\n",
    "import pandas as pd\n",
    "data = pd.read_csv('https://raw.githubusercontent.com/mhemmg/NeuralNetworkRSouzaCourse/master/Notebooks/extras/classes_MH/class_15/mnist_test.csv')\n",
    "data = data.to_numpy()\n",
    "X_data = data[:, 1:]\n",
    "y_data = data[:, 0]\n",
    "\n",
    "from sklearn.model_selection import train_test_split\n",
    "(X_train,X_test,y_train,y_test)=train_test_split(X_data,y_data,test_size=0.1, random_state=3)\n",
    "\n"
   ]
  },
  {
   "cell_type": "code",
   "execution_count": 4,
   "metadata": {
    "colab": {
     "base_uri": "https://localhost:8080/"
    },
    "id": "G-ARsvHCDRPp",
    "outputId": "578d1a89-0b3c-4862-acf4-870ba5571979"
   },
   "outputs": [
    {
     "name": "stdout",
     "output_type": "stream",
     "text": [
      "shape of the train dataset: (9000, 784)\n"
     ]
    }
   ],
   "source": [
    "y_data\n",
    "print('shape of the train dataset:',X_train.shape)\n"
   ]
  },
  {
   "cell_type": "code",
   "execution_count": 5,
   "metadata": {
    "id": "YglD_4xUDYBo"
   },
   "outputs": [],
   "source": [
    "import tensorflow as tf\n",
    "from tensorflow.keras.models import Sequential\n",
    "from tensorflow.keras.layers import InputLayer, Dense, Flatten\n"
   ]
  },
  {
   "cell_type": "code",
   "execution_count": 6,
   "metadata": {
    "id": "mp7MOx9CEUWy"
   },
   "outputs": [],
   "source": [
    "tf.random.set_seed(1234)"
   ]
  },
  {
   "cell_type": "code",
   "execution_count": 7,
   "metadata": {
    "id": "s0LeiwLmEdSv"
   },
   "outputs": [],
   "source": [
    "def get_model(input_shape):\n",
    "    model=Sequential([\n",
    "                  InputLayer(input_shape=input_shape),\n",
    "                  Dense(units=16,activation='relu',name='layer_hidden'),\n",
    "                  Dense(units=10,activation='softmax',name='output_layer')\n",
    "                 ])\n",
    "    return model\n",
    "\n"
   ]
  },
  {
   "cell_type": "code",
   "execution_count": 8,
   "metadata": {
    "id": "NC3OIQr9FGrR"
   },
   "outputs": [],
   "source": [
    "#model = get_model(X_train[0].shape)"
   ]
  },
  {
   "cell_type": "code",
   "execution_count": 9,
   "metadata": {
    "id": "6-9sRaguFLQw"
   },
   "outputs": [],
   "source": [
    "from keras.utils.np_utils import to_categorical   \n",
    "y_train_tf_one_hot = to_categorical(y_train, num_classes=10)\n",
    "y_test_tf_one_hot = to_categorical(y_test, num_classes=10)"
   ]
  },
  {
   "cell_type": "code",
   "execution_count": 10,
   "metadata": {
    "id": "P_lGRFwMLUH1"
   },
   "outputs": [],
   "source": [
    "def compile_model(model):\n",
    "        model.compile(optimizer=tf.keras.optimizers.Adam(learning_rate=0.001),\n",
    "              loss='sparse_categorical_crossentropy',metrics=['accuracy'] )\n",
    "tf.random.set_seed(1234)"
   ]
  },
  {
   "cell_type": "code",
   "execution_count": 11,
   "metadata": {
    "id": "-98-l0cwLXC0"
   },
   "outputs": [],
   "source": [
    "image_size = 784 # tamaño de cada imagen  \n",
    "num_classes = 10 # número de clases\n",
    "def create_dense(layer_sizes):\n",
    "    tf.random.set_seed(1234)\n",
    "    model = Sequential()\n",
    "    model.add(Dense(layer_sizes[0], activation='sigmoid', input_shape=(image_size,)))\n",
    "\n",
    "    for s in layer_sizes[1:]:\n",
    "        model.add(Dense(units = s, activation = 'relu'))\n",
    "    \n",
    "    model.add(Dense(units=num_classes, activation='softmax'))\n",
    "    return model\n",
    "\n",
    "def evaluate(model, batch_size=64, epochs=5):\n",
    "    model.summary()\n",
    "    model.compile(optimizer=tf.keras.optimizers.SGD(learning_rate=0.01), loss='categorical_crossentropy', metrics=['accuracy'])\n",
    "    history = model.fit(X_train, y_train_tf_one_hot, batch_size=batch_size, epochs=epochs, validation_split=.1, verbose=False)\n",
    "    loss, accuracy  = model.evaluate(X_test, y_test_tf_one_hot, verbose=False)\n",
    "    \n",
    "    plt.plot(history.history['accuracy'])\n",
    "    plt.plot(history.history['val_accuracy'])\n",
    "    plt.title('Accuracy del modelo')\n",
    "    plt.ylabel('Accuracy')\n",
    "    plt.xlabel('Epocas')\n",
    "    plt.legend(['training', 'validation'], loc='best')\n",
    "    plt.show()\n",
    "\n",
    "    print()\n",
    "    print(f'Test loss: {loss:.3}')\n",
    "    print(f'Test accuracy: {accuracy:.3}')\n",
    "    validation_accuracy= (history.history['accuracy'][-1])\n",
    "    print(f'Max Validation accuracy: {validation_accuracy:.3}')"
   ]
  },
  {
   "cell_type": "code",
   "execution_count": 12,
   "metadata": {
    "colab": {
     "base_uri": "https://localhost:8080/",
     "height": 677
    },
    "id": "USgkqq1KLZvD",
    "outputId": "914371c6-ab8e-464a-a83d-802fe5e24d75"
   },
   "outputs": [
    {
     "name": "stdout",
     "output_type": "stream",
     "text": [
      "Model: \"sequential\"\n",
      "_________________________________________________________________\n",
      "Layer (type)                 Output Shape              Param #   \n",
      "=================================================================\n",
      "dense (Dense)                (None, 64)                50240     \n",
      "_________________________________________________________________\n",
      "dense_1 (Dense)              (None, 64)                4160      \n",
      "_________________________________________________________________\n",
      "dense_2 (Dense)              (None, 64)                4160      \n",
      "_________________________________________________________________\n",
      "dense_3 (Dense)              (None, 10)                650       \n",
      "=================================================================\n",
      "Total params: 59,210\n",
      "Trainable params: 59,210\n",
      "Non-trainable params: 0\n",
      "_________________________________________________________________\n"
     ]
    },
    {
     "data": {
      "image/png": "[encoded data removed]",
      "text/plain": [
       "<Figure size 432x288 with 1 Axes>"
      ]
     },
     "metadata": {
      "needs_background": "light"
     },
     "output_type": "display_data"
    },
    {
     "name": "stdout",
     "output_type": "stream",
     "text": [
      "\n",
      "Test loss: 0.309\n",
      "Test accuracy: 0.906\n",
      "Max Validation accuracy: 0.942\n"
     ]
    }
   ],
   "source": [
    "layers=3\n",
    "model = create_dense([64]*layers)\n",
    "evaluate(model,epochs=60)"
   ]
  },
  {
   "cell_type": "code",
   "execution_count": null,
   "metadata": {
    "id": "pcGMSJvpPq0z"
   },
   "outputs": [],
   "source": []
  }
 ],
 "metadata": {
  "colab": {
   "collapsed_sections": [],
   "name": "Homework_6.ipynb",
   "provenance": []
  },
  "kernelspec": {
   "display_name": "Python 3",
   "language": "python",
   "name": "python3"
  },
  "language_info": {
   "codemirror_mode": {
    "name": "ipython",
    "version": 3
   },
   "file_extension": ".py",
   "mimetype": "text/x-python",
   "name": "python",
   "nbconvert_exporter": "python",
   "pygments_lexer": "ipython3",
   "version": "3.7.2"
  }
 },
 "nbformat": 4,
 "nbformat_minor": 1
}
