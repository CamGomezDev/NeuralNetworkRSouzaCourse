{
 "cells": [
  {
   "cell_type": "code",
   "execution_count": 1,
   "id": "7c4970ef",
   "metadata": {},
   "outputs": [],
   "source": [
    "import numpy as np\n",
    "#import matplotlib.pyplot as plt\n",
    "#%matplotlib inline"
   ]
  },
  {
   "cell_type": "code",
   "execution_count": 2,
   "id": "fcf5c6ef",
   "metadata": {},
   "outputs": [],
   "source": [
    "\n",
    "def matriz_mult(A,B):# multiplicación de matrices AB = C\n",
    "    C = [] \n",
    "\n",
    "    for i in range(len(A)):\n",
    "\n",
    "        fila = [] # fila de la nueva matriz\n",
    "        for j in range(len(B[0])):\n",
    "\n",
    "            producto = 0 # Se inicia para almacenar los elementos de la nueva matriz  \n",
    "\n",
    "            for k in range(len(A[i])):\n",
    "                 producto += A[i][k] * B[k][j]#se fija un i y un j, se itera sobre k para cada elemento  \n",
    "            fila.append(producto) # se llena la lista fila de cada una de los elementos  \n",
    "\n",
    "        C.append(fila) # se llena la nueva matriz con las filas en el loop anterior  \n",
    "    return C "
   ]
  },
  {
   "cell_type": "code",
   "execution_count": 3,
   "id": "b7407634",
   "metadata": {},
   "outputs": [
    {
     "data": {
      "text/plain": [
       "array([[ 5,  8],\n",
       "       [ 8, 13]])"
      ]
     },
     "execution_count": 3,
     "metadata": {},
     "output_type": "execute_result"
    }
   ],
   "source": [
    "A=np.array([[1,2],[2,3]])\n",
    "B=np.array([[1,2],[2,3]])\n",
    "\n",
    "range(len(A))\n",
    "C_= A@B\n",
    "C_"
   ]
  },
  {
   "cell_type": "code",
   "execution_count": 4,
   "id": "102c6129",
   "metadata": {},
   "outputs": [
    {
     "data": {
      "text/plain": [
       "array([[ 5,  8],\n",
       "       [ 8, 13]])"
      ]
     },
     "execution_count": 4,
     "metadata": {},
     "output_type": "execute_result"
    }
   ],
   "source": [
    "C= np.array(matriz_mult(A,B))\n",
    "C"
   ]
  },
  {
   "cell_type": "code",
   "execution_count": 5,
   "id": "b47a046a",
   "metadata": {},
   "outputs": [
    {
     "data": {
      "text/plain": [
       "array([[ True,  True],\n",
       "       [ True,  True]])"
      ]
     },
     "execution_count": 5,
     "metadata": {},
     "output_type": "execute_result"
    }
   ],
   "source": [
    "C==C_"
   ]
  },
  {
   "cell_type": "code",
   "execution_count": null,
   "id": "6af4bad1",
   "metadata": {},
   "outputs": [],
   "source": []
  }
 ],
 "metadata": {
  "kernelspec": {
   "display_name": "Python 3",
   "language": "python",
   "name": "python3"
  },
  "language_info": {
   "codemirror_mode": {
    "name": "ipython",
    "version": 3
   },
   "file_extension": ".py",
   "mimetype": "text/x-python",
   "name": "python",
   "nbconvert_exporter": "python",
   "pygments_lexer": "ipython3",
   "version": "3.7.2"
  }
 },
 "nbformat": 4,
 "nbformat_minor": 5
}
