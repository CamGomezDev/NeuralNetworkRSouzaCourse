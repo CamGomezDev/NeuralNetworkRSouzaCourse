{
  "nbformat": 4,
  "nbformat_minor": 0,
  "metadata": {
    "colab": {
      "name": "Proyecto.ipynb",
      "provenance": [],
      "collapsed_sections": []
    },
    "kernelspec": {
      "name": "python3",
      "display_name": "Python 3"
    },
    "language_info": {
      "name": "python"
    }
  },
  "cells": [
    {
      "cell_type": "markdown",
      "source": [
        "#**Proyecto: Modelado de datos**\n",
        "\n",
        "\n",
        "###**Nombre:Jordan Hernández Daza\n",
        "###**Código:1006287264 "
      ],
      "metadata": {
        "id": "M7zYXS5zzzSx"
      }
    },
    {
      "cell_type": "code",
      "execution_count": null,
      "metadata": {
        "id": "plIGtb8PJxh9"
      },
      "outputs": [],
      "source": [
        "\n",
        "import pandas as pd \n",
        "import matplotlib.pyplot as plt\n",
        "import numpy as np \n",
        "import math \n",
        "import datetime"
      ]
    },
    {
      "cell_type": "code",
      "source": [
        "data= pd.read_csv(\"dataset.csv\")"
      ],
      "metadata": {
        "id": "rfBleB19J4Gw"
      },
      "execution_count": null,
      "outputs": []
    },
    {
      "cell_type": "code",
      "source": [
        ""
      ],
      "metadata": {
        "id": "lpwSw10NxWTz"
      },
      "execution_count": null,
      "outputs": []
    },
    {
      "cell_type": "code",
      "source": [
        "data.head(5)"
      ],
      "metadata": {
        "id": "Zyroc8T0KQGx",
        "colab": {
          "base_uri": "https://localhost:8080/",
          "height": 337
        },
        "outputId": "e730b117-4505-4e64-f540-181cae96cf30"
      },
      "execution_count": null,
      "outputs": [
        {
          "output_type": "execute_result",
          "data": {
            "text/plain": [
              "    shp_code            departure  city_from       city_to country_from  \\\n",
              "0  SHP263573  2019-03-14 11:57:42  Rotterdam  Kuala Lumpur           NL   \n",
              "1   SHP90587  2019-06-13 09:32:47  Rotterdam  Kuala Lumpur           NL   \n",
              "2  SHP607571  2019-03-07 11:39:49  Rotterdam  Kuala Lumpur           NL   \n",
              "3  SHP291606  2020-02-05 23:00:32  Rotterdam  Kuala Lumpur           NL   \n",
              "4  SHP774605  2020-01-04 17:02:40  Rotterdam  Kuala Lumpur           NL   \n",
              "\n",
              "  country_to  cost_per_kg  gross_weight  carrier_charge   mode  \\\n",
              "0         MY      93.8600         665.0             0.9  Ocean   \n",
              "1         MY      87.2343         180.0             0.9  Ocean   \n",
              "2         MY      92.4500          97.0             0.9  Ocean   \n",
              "3         MY      92.9000        1000.0             0.9  Ocean   \n",
              "4         MY      91.9500        1406.0             0.9  Ocean   \n",
              "\n",
              "               carrier  duration  \n",
              "0  Neele-Vat Logistics  29.34514  \n",
              "1  Neele-Vat Logistics  18.33877  \n",
              "2  Neele-Vat Logistics   9.22095  \n",
              "3  Neele-Vat Logistics  13.94815  \n",
              "4  Neele-Vat Logistics  11.46296  "
            ],
            "text/html": [
              "\n",
              "  <div id=\"df-73c17cbd-9ced-412c-b2cf-04a9ec1180cb\">\n",
              "    <div class=\"colab-df-container\">\n",
              "      <div>\n",
              "<style scoped>\n",
              "    .dataframe tbody tr th:only-of-type {\n",
              "        vertical-align: middle;\n",
              "    }\n",
              "\n",
              "    .dataframe tbody tr th {\n",
              "        vertical-align: top;\n",
              "    }\n",
              "\n",
              "    .dataframe thead th {\n",
              "        text-align: right;\n",
              "    }\n",
              "</style>\n",
              "<table border=\"1\" class=\"dataframe\">\n",
              "  <thead>\n",
              "    <tr style=\"text-align: right;\">\n",
              "      <th></th>\n",
              "      <th>shp_code</th>\n",
              "      <th>departure</th>\n",
              "      <th>city_from</th>\n",
              "      <th>city_to</th>\n",
              "      <th>country_from</th>\n",
              "      <th>country_to</th>\n",
              "      <th>cost_per_kg</th>\n",
              "      <th>gross_weight</th>\n",
              "      <th>carrier_charge</th>\n",
              "      <th>mode</th>\n",
              "      <th>carrier</th>\n",
              "      <th>duration</th>\n",
              "    </tr>\n",
              "  </thead>\n",
              "  <tbody>\n",
              "    <tr>\n",
              "      <th>0</th>\n",
              "      <td>SHP263573</td>\n",
              "      <td>2019-03-14 11:57:42</td>\n",
              "      <td>Rotterdam</td>\n",
              "      <td>Kuala Lumpur</td>\n",
              "      <td>NL</td>\n",
              "      <td>MY</td>\n",
              "      <td>93.8600</td>\n",
              "      <td>665.0</td>\n",
              "      <td>0.9</td>\n",
              "      <td>Ocean</td>\n",
              "      <td>Neele-Vat Logistics</td>\n",
              "      <td>29.34514</td>\n",
              "    </tr>\n",
              "    <tr>\n",
              "      <th>1</th>\n",
              "      <td>SHP90587</td>\n",
              "      <td>2019-06-13 09:32:47</td>\n",
              "      <td>Rotterdam</td>\n",
              "      <td>Kuala Lumpur</td>\n",
              "      <td>NL</td>\n",
              "      <td>MY</td>\n",
              "      <td>87.2343</td>\n",
              "      <td>180.0</td>\n",
              "      <td>0.9</td>\n",
              "      <td>Ocean</td>\n",
              "      <td>Neele-Vat Logistics</td>\n",
              "      <td>18.33877</td>\n",
              "    </tr>\n",
              "    <tr>\n",
              "      <th>2</th>\n",
              "      <td>SHP607571</td>\n",
              "      <td>2019-03-07 11:39:49</td>\n",
              "      <td>Rotterdam</td>\n",
              "      <td>Kuala Lumpur</td>\n",
              "      <td>NL</td>\n",
              "      <td>MY</td>\n",
              "      <td>92.4500</td>\n",
              "      <td>97.0</td>\n",
              "      <td>0.9</td>\n",
              "      <td>Ocean</td>\n",
              "      <td>Neele-Vat Logistics</td>\n",
              "      <td>9.22095</td>\n",
              "    </tr>\n",
              "    <tr>\n",
              "      <th>3</th>\n",
              "      <td>SHP291606</td>\n",
              "      <td>2020-02-05 23:00:32</td>\n",
              "      <td>Rotterdam</td>\n",
              "      <td>Kuala Lumpur</td>\n",
              "      <td>NL</td>\n",
              "      <td>MY</td>\n",
              "      <td>92.9000</td>\n",
              "      <td>1000.0</td>\n",
              "      <td>0.9</td>\n",
              "      <td>Ocean</td>\n",
              "      <td>Neele-Vat Logistics</td>\n",
              "      <td>13.94815</td>\n",
              "    </tr>\n",
              "    <tr>\n",
              "      <th>4</th>\n",
              "      <td>SHP774605</td>\n",
              "      <td>2020-01-04 17:02:40</td>\n",
              "      <td>Rotterdam</td>\n",
              "      <td>Kuala Lumpur</td>\n",
              "      <td>NL</td>\n",
              "      <td>MY</td>\n",
              "      <td>91.9500</td>\n",
              "      <td>1406.0</td>\n",
              "      <td>0.9</td>\n",
              "      <td>Ocean</td>\n",
              "      <td>Neele-Vat Logistics</td>\n",
              "      <td>11.46296</td>\n",
              "    </tr>\n",
              "  </tbody>\n",
              "</table>\n",
              "</div>\n",
              "      <button class=\"colab-df-convert\" onclick=\"convertToInteractive('df-73c17cbd-9ced-412c-b2cf-04a9ec1180cb')\"\n",
              "              title=\"Convert this dataframe to an interactive table.\"\n",
              "              style=\"display:none;\">\n",
              "        \n",
              "  <svg xmlns=\"http://www.w3.org/2000/svg\" height=\"24px\"viewBox=\"0 0 24 24\"\n",
              "       width=\"24px\">\n",
              "    <path d=\"M0 0h24v24H0V0z\" fill=\"none\"/>\n",
              "    <path d=\"M18.56 5.44l.94 2.06.94-2.06 2.06-.94-2.06-.94-.94-2.06-.94 2.06-2.06.94zm-11 1L8.5 8.5l.94-2.06 2.06-.94-2.06-.94L8.5 2.5l-.94 2.06-2.06.94zm10 10l.94 2.06.94-2.06 2.06-.94-2.06-.94-.94-2.06-.94 2.06-2.06.94z\"/><path d=\"M17.41 7.96l-1.37-1.37c-.4-.4-.92-.59-1.43-.59-.52 0-1.04.2-1.43.59L10.3 9.45l-7.72 7.72c-.78.78-.78 2.05 0 2.83L4 21.41c.39.39.9.59 1.41.59.51 0 1.02-.2 1.41-.59l7.78-7.78 2.81-2.81c.8-.78.8-2.07 0-2.86zM5.41 20L4 18.59l7.72-7.72 1.47 1.35L5.41 20z\"/>\n",
              "  </svg>\n",
              "      </button>\n",
              "      \n",
              "  <style>\n",
              "    .colab-df-container {\n",
              "      display:flex;\n",
              "      flex-wrap:wrap;\n",
              "      gap: 12px;\n",
              "    }\n",
              "\n",
              "    .colab-df-convert {\n",
              "      background-color: #E8F0FE;\n",
              "      border: none;\n",
              "      border-radius: 50%;\n",
              "      cursor: pointer;\n",
              "      display: none;\n",
              "      fill: #1967D2;\n",
              "      height: 32px;\n",
              "      padding: 0 0 0 0;\n",
              "      width: 32px;\n",
              "    }\n",
              "\n",
              "    .colab-df-convert:hover {\n",
              "      background-color: #E2EBFA;\n",
              "      box-shadow: 0px 1px 2px rgba(60, 64, 67, 0.3), 0px 1px 3px 1px rgba(60, 64, 67, 0.15);\n",
              "      fill: #174EA6;\n",
              "    }\n",
              "\n",
              "    [theme=dark] .colab-df-convert {\n",
              "      background-color: #3B4455;\n",
              "      fill: #D2E3FC;\n",
              "    }\n",
              "\n",
              "    [theme=dark] .colab-df-convert:hover {\n",
              "      background-color: #434B5C;\n",
              "      box-shadow: 0px 1px 3px 1px rgba(0, 0, 0, 0.15);\n",
              "      filter: drop-shadow(0px 1px 2px rgba(0, 0, 0, 0.3));\n",
              "      fill: #FFFFFF;\n",
              "    }\n",
              "  </style>\n",
              "\n",
              "      <script>\n",
              "        const buttonEl =\n",
              "          document.querySelector('#df-73c17cbd-9ced-412c-b2cf-04a9ec1180cb button.colab-df-convert');\n",
              "        buttonEl.style.display =\n",
              "          google.colab.kernel.accessAllowed ? 'block' : 'none';\n",
              "\n",
              "        async function convertToInteractive(key) {\n",
              "          const element = document.querySelector('#df-73c17cbd-9ced-412c-b2cf-04a9ec1180cb');\n",
              "          const dataTable =\n",
              "            await google.colab.kernel.invokeFunction('convertToInteractive',\n",
              "                                                     [key], {});\n",
              "          if (!dataTable) return;\n",
              "\n",
              "          const docLinkHtml = 'Like what you see? Visit the ' +\n",
              "            '<a target=\"_blank\" href=https://colab.research.google.com/notebooks/data_table.ipynb>data table notebook</a>'\n",
              "            + ' to learn more about interactive tables.';\n",
              "          element.innerHTML = '';\n",
              "          dataTable['output_type'] = 'display_data';\n",
              "          await google.colab.output.renderOutput(dataTable, element);\n",
              "          const docLink = document.createElement('div');\n",
              "          docLink.innerHTML = docLinkHtml;\n",
              "          element.appendChild(docLink);\n",
              "        }\n",
              "      </script>\n",
              "    </div>\n",
              "  </div>\n",
              "  "
            ]
          },
          "metadata": {},
          "execution_count": 3
        }
      ]
    },
    {
      "cell_type": "code",
      "source": [
        "data.dtypes"
      ],
      "metadata": {
        "id": "Wbq4lHhNKQ2D",
        "colab": {
          "base_uri": "https://localhost:8080/"
        },
        "outputId": "181581f5-b1d2-4d3d-b979-5e44e8895553"
      },
      "execution_count": null,
      "outputs": [
        {
          "output_type": "execute_result",
          "data": {
            "text/plain": [
              "shp_code           object\n",
              "departure          object\n",
              "city_from          object\n",
              "city_to            object\n",
              "country_from       object\n",
              "country_to         object\n",
              "cost_per_kg       float64\n",
              "gross_weight      float64\n",
              "carrier_charge    float64\n",
              "mode               object\n",
              "carrier            object\n",
              "duration          float64\n",
              "dtype: object"
            ]
          },
          "metadata": {},
          "execution_count": 4
        }
      ]
    },
    {
      "cell_type": "markdown",
      "source": [
        "###2.1"
      ],
      "metadata": {
        "id": "IbECl8UirbON"
      }
    },
    {
      "cell_type": "code",
      "source": [
        "#Se cambia el formato de la columna \"departure\" para operar\n",
        "data[\"departure\"] = pd.to_datetime(data[\"departure\"])#, infer_datetime_format=True  )#format='%Y%m%d%H:%M:%S' )"
      ],
      "metadata": {
        "id": "PryQVZLSLTfE"
      },
      "execution_count": null,
      "outputs": []
    },
    {
      "cell_type": "code",
      "source": [
        "from datetime import timedelta\n",
        "#data[\"departure\"][0] +  timedelta(days=4.1)\n",
        "#data=data.assign(arrival=lambda x: x[\"departure\"] +x[\"duration\"].map(timedelta))"
      ],
      "metadata": {
        "id": "droUIHvLxfZm"
      },
      "execution_count": null,
      "outputs": []
    },
    {
      "cell_type": "code",
      "source": [
        "data[\"arrival\"]=data[\"departure\"] + data[\"duration\"].map(timedelta) #se suma el número de días que tarda el shipment"
      ],
      "metadata": {
        "id": "IKOXTSbtMppZ"
      },
      "execution_count": null,
      "outputs": []
    },
    {
      "cell_type": "code",
      "source": [
        "data.dtypes"
      ],
      "metadata": {
        "id": "YzDaxM9RnIM4",
        "colab": {
          "base_uri": "https://localhost:8080/"
        },
        "outputId": "2cc504f9-099d-4c54-fa24-ff3af338d167"
      },
      "execution_count": null,
      "outputs": [
        {
          "output_type": "execute_result",
          "data": {
            "text/plain": [
              "shp_code                  object\n",
              "departure         datetime64[ns]\n",
              "city_from                 object\n",
              "city_to                   object\n",
              "country_from              object\n",
              "country_to                object\n",
              "cost_per_kg              float64\n",
              "gross_weight             float64\n",
              "carrier_charge           float64\n",
              "mode                      object\n",
              "carrier                   object\n",
              "duration                 float64\n",
              "arrival           datetime64[ns]\n",
              "dtype: object"
            ]
          },
          "metadata": {},
          "execution_count": 8
        }
      ]
    },
    {
      "cell_type": "code",
      "source": [
        "data[\"customer_price\"]= data[\"cost_per_kg\"]*data[\"duration\"] # price customer depends on duration of Shipping time()"
      ],
      "metadata": {
        "id": "fQqr0E1g2_Fy"
      },
      "execution_count": null,
      "outputs": []
    },
    {
      "cell_type": "code",
      "source": [
        "data.sample(5)"
      ],
      "metadata": {
        "id": "--DLGOur9JLt",
        "colab": {
          "base_uri": "https://localhost:8080/",
          "height": 392
        },
        "outputId": "33aafffc-1b8c-43c0-eb01-e9ae37d61c2e"
      },
      "execution_count": null,
      "outputs": [
        {
          "output_type": "execute_result",
          "data": {
            "text/plain": [
              "       shp_code           departure  city_from       city_to country_from  \\\n",
              "5019  SHP338606 2020-02-11 11:19:43  Rotterdam  Kuala Lumpur           NL   \n",
              "118   SHP660603 2019-09-29 11:56:15  Rotterdam  Kuala Lumpur           NL   \n",
              "1683  SHP990604 2019-11-29 17:16:23  Rotterdam  Kuala Lumpur           NL   \n",
              "3008   SHP80578 2019-04-15 12:46:51  Rotterdam  Kuala Lumpur           NL   \n",
              "4665  SHP713604 2019-11-16 08:20:42  Rotterdam  Kuala Lumpur           NL   \n",
              "\n",
              "     country_to  cost_per_kg  gross_weight  carrier_charge   mode  \\\n",
              "5019         MY    93.970000         270.5            0.75    Air   \n",
              "118          MY    88.750000         150.0            0.75    Air   \n",
              "1683         MY    92.797754         330.0            0.75    Air   \n",
              "3008         MY    89.850000        5000.0            0.90  Ocean   \n",
              "4665         MY    90.956200        1006.0            0.90  Ocean   \n",
              "\n",
              "                  carrier  duration                 arrival  customer_price  \n",
              "5019      NTG Air & Ocean   5.04884 2020-02-16 12:30:02.776      474.439495  \n",
              "118       NTG Air & Ocean   5.23854 2019-10-04 17:39:44.856      464.920425  \n",
              "1683      NTG Air & Ocean   5.01921 2019-12-04 17:44:02.744      465.771415  \n",
              "3008  Neele-Vat Logistics  29.68646 2019-05-15 05:15:21.144     2667.328431  \n",
              "4665  Neele-Vat Logistics   7.83819 2019-11-24 04:27:41.616      712.931977  "
            ],
            "text/html": [
              "\n",
              "  <div id=\"df-75200d00-7781-4370-9182-f5ffc6978eaf\">\n",
              "    <div class=\"colab-df-container\">\n",
              "      <div>\n",
              "<style scoped>\n",
              "    .dataframe tbody tr th:only-of-type {\n",
              "        vertical-align: middle;\n",
              "    }\n",
              "\n",
              "    .dataframe tbody tr th {\n",
              "        vertical-align: top;\n",
              "    }\n",
              "\n",
              "    .dataframe thead th {\n",
              "        text-align: right;\n",
              "    }\n",
              "</style>\n",
              "<table border=\"1\" class=\"dataframe\">\n",
              "  <thead>\n",
              "    <tr style=\"text-align: right;\">\n",
              "      <th></th>\n",
              "      <th>shp_code</th>\n",
              "      <th>departure</th>\n",
              "      <th>city_from</th>\n",
              "      <th>city_to</th>\n",
              "      <th>country_from</th>\n",
              "      <th>country_to</th>\n",
              "      <th>cost_per_kg</th>\n",
              "      <th>gross_weight</th>\n",
              "      <th>carrier_charge</th>\n",
              "      <th>mode</th>\n",
              "      <th>carrier</th>\n",
              "      <th>duration</th>\n",
              "      <th>arrival</th>\n",
              "      <th>customer_price</th>\n",
              "    </tr>\n",
              "  </thead>\n",
              "  <tbody>\n",
              "    <tr>\n",
              "      <th>5019</th>\n",
              "      <td>SHP338606</td>\n",
              "      <td>2020-02-11 11:19:43</td>\n",
              "      <td>Rotterdam</td>\n",
              "      <td>Kuala Lumpur</td>\n",
              "      <td>NL</td>\n",
              "      <td>MY</td>\n",
              "      <td>93.970000</td>\n",
              "      <td>270.5</td>\n",
              "      <td>0.75</td>\n",
              "      <td>Air</td>\n",
              "      <td>NTG Air &amp; Ocean</td>\n",
              "      <td>5.04884</td>\n",
              "      <td>2020-02-16 12:30:02.776</td>\n",
              "      <td>474.439495</td>\n",
              "    </tr>\n",
              "    <tr>\n",
              "      <th>118</th>\n",
              "      <td>SHP660603</td>\n",
              "      <td>2019-09-29 11:56:15</td>\n",
              "      <td>Rotterdam</td>\n",
              "      <td>Kuala Lumpur</td>\n",
              "      <td>NL</td>\n",
              "      <td>MY</td>\n",
              "      <td>88.750000</td>\n",
              "      <td>150.0</td>\n",
              "      <td>0.75</td>\n",
              "      <td>Air</td>\n",
              "      <td>NTG Air &amp; Ocean</td>\n",
              "      <td>5.23854</td>\n",
              "      <td>2019-10-04 17:39:44.856</td>\n",
              "      <td>464.920425</td>\n",
              "    </tr>\n",
              "    <tr>\n",
              "      <th>1683</th>\n",
              "      <td>SHP990604</td>\n",
              "      <td>2019-11-29 17:16:23</td>\n",
              "      <td>Rotterdam</td>\n",
              "      <td>Kuala Lumpur</td>\n",
              "      <td>NL</td>\n",
              "      <td>MY</td>\n",
              "      <td>92.797754</td>\n",
              "      <td>330.0</td>\n",
              "      <td>0.75</td>\n",
              "      <td>Air</td>\n",
              "      <td>NTG Air &amp; Ocean</td>\n",
              "      <td>5.01921</td>\n",
              "      <td>2019-12-04 17:44:02.744</td>\n",
              "      <td>465.771415</td>\n",
              "    </tr>\n",
              "    <tr>\n",
              "      <th>3008</th>\n",
              "      <td>SHP80578</td>\n",
              "      <td>2019-04-15 12:46:51</td>\n",
              "      <td>Rotterdam</td>\n",
              "      <td>Kuala Lumpur</td>\n",
              "      <td>NL</td>\n",
              "      <td>MY</td>\n",
              "      <td>89.850000</td>\n",
              "      <td>5000.0</td>\n",
              "      <td>0.90</td>\n",
              "      <td>Ocean</td>\n",
              "      <td>Neele-Vat Logistics</td>\n",
              "      <td>29.68646</td>\n",
              "      <td>2019-05-15 05:15:21.144</td>\n",
              "      <td>2667.328431</td>\n",
              "    </tr>\n",
              "    <tr>\n",
              "      <th>4665</th>\n",
              "      <td>SHP713604</td>\n",
              "      <td>2019-11-16 08:20:42</td>\n",
              "      <td>Rotterdam</td>\n",
              "      <td>Kuala Lumpur</td>\n",
              "      <td>NL</td>\n",
              "      <td>MY</td>\n",
              "      <td>90.956200</td>\n",
              "      <td>1006.0</td>\n",
              "      <td>0.90</td>\n",
              "      <td>Ocean</td>\n",
              "      <td>Neele-Vat Logistics</td>\n",
              "      <td>7.83819</td>\n",
              "      <td>2019-11-24 04:27:41.616</td>\n",
              "      <td>712.931977</td>\n",
              "    </tr>\n",
              "  </tbody>\n",
              "</table>\n",
              "</div>\n",
              "      <button class=\"colab-df-convert\" onclick=\"convertToInteractive('df-75200d00-7781-4370-9182-f5ffc6978eaf')\"\n",
              "              title=\"Convert this dataframe to an interactive table.\"\n",
              "              style=\"display:none;\">\n",
              "        \n",
              "  <svg xmlns=\"http://www.w3.org/2000/svg\" height=\"24px\"viewBox=\"0 0 24 24\"\n",
              "       width=\"24px\">\n",
              "    <path d=\"M0 0h24v24H0V0z\" fill=\"none\"/>\n",
              "    <path d=\"M18.56 5.44l.94 2.06.94-2.06 2.06-.94-2.06-.94-.94-2.06-.94 2.06-2.06.94zm-11 1L8.5 8.5l.94-2.06 2.06-.94-2.06-.94L8.5 2.5l-.94 2.06-2.06.94zm10 10l.94 2.06.94-2.06 2.06-.94-2.06-.94-.94-2.06-.94 2.06-2.06.94z\"/><path d=\"M17.41 7.96l-1.37-1.37c-.4-.4-.92-.59-1.43-.59-.52 0-1.04.2-1.43.59L10.3 9.45l-7.72 7.72c-.78.78-.78 2.05 0 2.83L4 21.41c.39.39.9.59 1.41.59.51 0 1.02-.2 1.41-.59l7.78-7.78 2.81-2.81c.8-.78.8-2.07 0-2.86zM5.41 20L4 18.59l7.72-7.72 1.47 1.35L5.41 20z\"/>\n",
              "  </svg>\n",
              "      </button>\n",
              "      \n",
              "  <style>\n",
              "    .colab-df-container {\n",
              "      display:flex;\n",
              "      flex-wrap:wrap;\n",
              "      gap: 12px;\n",
              "    }\n",
              "\n",
              "    .colab-df-convert {\n",
              "      background-color: #E8F0FE;\n",
              "      border: none;\n",
              "      border-radius: 50%;\n",
              "      cursor: pointer;\n",
              "      display: none;\n",
              "      fill: #1967D2;\n",
              "      height: 32px;\n",
              "      padding: 0 0 0 0;\n",
              "      width: 32px;\n",
              "    }\n",
              "\n",
              "    .colab-df-convert:hover {\n",
              "      background-color: #E2EBFA;\n",
              "      box-shadow: 0px 1px 2px rgba(60, 64, 67, 0.3), 0px 1px 3px 1px rgba(60, 64, 67, 0.15);\n",
              "      fill: #174EA6;\n",
              "    }\n",
              "\n",
              "    [theme=dark] .colab-df-convert {\n",
              "      background-color: #3B4455;\n",
              "      fill: #D2E3FC;\n",
              "    }\n",
              "\n",
              "    [theme=dark] .colab-df-convert:hover {\n",
              "      background-color: #434B5C;\n",
              "      box-shadow: 0px 1px 3px 1px rgba(0, 0, 0, 0.15);\n",
              "      filter: drop-shadow(0px 1px 2px rgba(0, 0, 0, 0.3));\n",
              "      fill: #FFFFFF;\n",
              "    }\n",
              "  </style>\n",
              "\n",
              "      <script>\n",
              "        const buttonEl =\n",
              "          document.querySelector('#df-75200d00-7781-4370-9182-f5ffc6978eaf button.colab-df-convert');\n",
              "        buttonEl.style.display =\n",
              "          google.colab.kernel.accessAllowed ? 'block' : 'none';\n",
              "\n",
              "        async function convertToInteractive(key) {\n",
              "          const element = document.querySelector('#df-75200d00-7781-4370-9182-f5ffc6978eaf');\n",
              "          const dataTable =\n",
              "            await google.colab.kernel.invokeFunction('convertToInteractive',\n",
              "                                                     [key], {});\n",
              "          if (!dataTable) return;\n",
              "\n",
              "          const docLinkHtml = 'Like what you see? Visit the ' +\n",
              "            '<a target=\"_blank\" href=https://colab.research.google.com/notebooks/data_table.ipynb>data table notebook</a>'\n",
              "            + ' to learn more about interactive tables.';\n",
              "          element.innerHTML = '';\n",
              "          dataTable['output_type'] = 'display_data';\n",
              "          await google.colab.output.renderOutput(dataTable, element);\n",
              "          const docLink = document.createElement('div');\n",
              "          docLink.innerHTML = docLinkHtml;\n",
              "          element.appendChild(docLink);\n",
              "        }\n",
              "      </script>\n",
              "    </div>\n",
              "  </div>\n",
              "  "
            ]
          },
          "metadata": {},
          "execution_count": 10
        }
      ]
    },
    {
      "cell_type": "markdown",
      "source": [
        "### 2.2"
      ],
      "metadata": {
        "id": "adzekgdt8E2P"
      }
    },
    {
      "cell_type": "markdown",
      "source": [
        "\n",
        "*  En la primera distribución se puede apreciar que los datos se acumulan entre 5 y 5.4 y presenta simetría respecto a su valor medio.Tal como se puede evidenciar con los valores de \"skweness\" y \"kurtosis\". \n",
        "*  En la distribución para \"gross_weight\" se presenta poca simetría y por lo tanto el valor de la \"skweness\" es alta y además los datos se distribuyen en la cola, tal como lo evidencia el valor de \"kurtosis\"\n",
        "* La ditribución final presenta 2 picos entre 85 y 95. Es simétrica de acuerdo al de \"skweness\" y se acumulan pocos valores en las colas ya que el valor de \"kurtosis\" es negativo. "
      ],
      "metadata": {
        "id": "rxGR9u4_-08P"
      }
    },
    {
      "cell_type": "code",
      "source": [
        "#Se define data1 con el fin de tener el dataset con las condiciones requeridas\n",
        "data1= data[(data[\"carrier\"]==\"NTG Air & Ocean\") & (data[\"country_to\"]==\"MY\")]\n",
        "\n",
        "data1[\"duration\"].plot(kind=\"density\", figsize=(5,5));\n",
        "\n",
        "\n",
        "plt.vlines(data1[\"duration\"].mean(),     # media = línea negra\n",
        "           ymin=0, \n",
        "           ymax=2.5,\n",
        "           linewidth=5.0);\n",
        "\n",
        "plt.vlines(data1[\"duration\"].median(),   # mediana = línea roja\n",
        "           ymin=0, \n",
        "           ymax=2.5, \n",
        "           linewidth=2.0,\n",
        "           color=\"red\");\n",
        "print(\"Skew:\",data1[\"duration\"].skew())           \n",
        "print(\"Kurtosis:\",data1[\"duration\"].kurt()) "
      ],
      "metadata": {
        "id": "y-X45NGx8Feo",
        "colab": {
          "base_uri": "https://localhost:8080/",
          "height": 355
        },
        "outputId": "056539e2-339b-4faa-d978-ac4e49391b01"
      },
      "execution_count": null,
      "outputs": [
        {
          "output_type": "stream",
          "name": "stdout",
          "text": [
            "Skew: -0.013458581743356438\n",
            "Kurtosis: -1.236268865752557\n"
          ]
        },
        {
          "output_type": "display_data",
          "data": {
            "text/plain": [
              "<Figure size 360x360 with 1 Axes>"
            ],
            "image/png": "[encoded data removed]"
          },
          "metadata": {
            "needs_background": "light"
          }
        }
      ]
    },
    {
      "cell_type": "code",
      "source": [
        "#data[(data[\"carrier\"]==\"NTG Air & Ocean\") & (data[\"country_to\"]==\"MY\")].groupby([\"carrier\",\"country_to\"])[\"gross_weight\"].plot.kde()\n",
        "data1[\"gross_weight\"].plot(kind=\"density\", figsize=(5,5));\n",
        "\n",
        "\n",
        "plt.vlines(data1[\"gross_weight\"].mean(),     # media = línea negra\n",
        "           ymin=0, \n",
        "           ymax=0.0012,\n",
        "           linewidth=1.0);\n",
        "\n",
        "plt.vlines(data1[\"gross_weight\"].median(),   # mediana = línea roja\n",
        "           ymin=0, \n",
        "           ymax=0.0012, \n",
        "           linewidth=1.0,\n",
        "           color=\"red\");\n",
        "print(\"Skew:\",data1[\"gross_weight\"].skew())           \n",
        "print(\"Kurtosis:\",data1[\"gross_weight\"].kurt()) "
      ],
      "metadata": {
        "id": "zIoOh0jI8PC6",
        "colab": {
          "base_uri": "https://localhost:8080/",
          "height": 355
        },
        "outputId": "940c12b2-365a-4ae0-90f2-aa47a4235ac0"
      },
      "execution_count": null,
      "outputs": [
        {
          "output_type": "stream",
          "name": "stdout",
          "text": [
            "Skew: 1.1561025910249785\n",
            "Kurtosis: 0.6338053776831489\n"
          ]
        },
        {
          "output_type": "display_data",
          "data": {
            "text/plain": [
              "<Figure size 360x360 with 1 Axes>"
            ],
            "image/png": "[encoded data removed]"
          },
          "metadata": {
            "needs_background": "light"
          }
        }
      ]
    },
    {
      "cell_type": "code",
      "source": [
        "#data[(data[\"carrier\"]==\"NTG Air & Ocean\") & (data[\"country_to\"]==\"MY\")].groupby([\"carrier\",\"country_to\"])[\"cost_per_kg\"].plot.kde()\n",
        "data1[\"cost_per_kg\"].plot(kind=\"density\", figsize=(5,5));\n",
        "\n",
        "\n",
        "plt.vlines(data1[\"cost_per_kg\"].mean(),     # media = línea negra\n",
        "           ymin=0, \n",
        "           ymax=0.14,\n",
        "           linewidth=1.0);\n",
        "\n",
        "plt.vlines(data1[\"cost_per_kg\"].median(),   # mediana = línea roja\n",
        "           ymin=0, \n",
        "           ymax=0.14, \n",
        "           linewidth=1.0,\n",
        "           color=\"red\");\n",
        "print(\"Skew:\",data1[\"cost_per_kg\"].skew())           \n",
        "print(\"Kurtosis:\",data1[\"cost_per_kg\"].kurt()) "
      ],
      "metadata": {
        "id": "bn4hrZAVMVAk",
        "colab": {
          "base_uri": "https://localhost:8080/",
          "height": 355
        },
        "outputId": "de4128df-f0bd-42fa-dfb6-1004475e5c2e"
      },
      "execution_count": null,
      "outputs": [
        {
          "output_type": "stream",
          "name": "stdout",
          "text": [
            "Skew: -0.3050532365952068\n",
            "Kurtosis: -0.9711987460982057\n"
          ]
        },
        {
          "output_type": "display_data",
          "data": {
            "text/plain": [
              "<Figure size 360x360 with 1 Axes>"
            ],
            "image/png": "[encoded data removed]"
          },
          "metadata": {
            "needs_background": "light"
          }
        }
      ]
    },
    {
      "cell_type": "markdown",
      "source": [
        "En el promedio de los meses y los días se observa la misma tendencia, sin embargo cuando se tiene el promedio del costo por kg en días se observa mayor cambio de estos valores que se \"suavizan\" cuando se toma el promedio del costo mensualmente   "
      ],
      "metadata": {
        "id": "TIDarxqvUfHJ"
      }
    },
    {
      "cell_type": "code",
      "source": [
        "import datetime as dt\n",
        "import seaborn as sns\n",
        "data1= data[(data[\"carrier\"]==\"NTG Air & Ocean\") & (data[\"country_to\"]==\"MY\")]\n",
        "\n",
        "data_month1=data.groupby(pd.Grouper(key='departure',freq='M'))\n"
      ],
      "metadata": {
        "id": "j80iIOUeSIUq"
      },
      "execution_count": null,
      "outputs": []
    },
    {
      "cell_type": "code",
      "source": [
        "data_month1[\"cost_per_kg\"].mean().plot()\n",
        "plt.ylabel(\"cost_per_kg\")\n",
        "\n",
        "plt.show()"
      ],
      "metadata": {
        "id": "KHXxv0oCetyO",
        "colab": {
          "base_uri": "https://localhost:8080/",
          "height": 291
        },
        "outputId": "7b9a9dce-ef4c-4230-fa24-e4c69187f7a5"
      },
      "execution_count": null,
      "outputs": [
        {
          "output_type": "display_data",
          "data": {
            "text/plain": [
              "<Figure size 432x288 with 1 Axes>"
            ],
            "image/png": "[encoded data removed]"
          },
          "metadata": {
            "needs_background": "light"
          }
        }
      ]
    },
    {
      "cell_type": "code",
      "source": [
        "# Dos formas de tomar los días  \n",
        "data_day= data1.groupby([data1.departure.dt.year.rename('year'),data1.departure.dt.month.rename('month'),data1.departure.dt.day.rename('day')])\n",
        "\n",
        "\n",
        "data_day1=data1.groupby(data1.departure.dt.to_period(\"d\") )\n"
      ],
      "metadata": {
        "id": "VCoQp_i5fhbh"
      },
      "execution_count": null,
      "outputs": []
    },
    {
      "cell_type": "code",
      "source": [
        "# comparando diferentes métodos para el promedio de cost_per_kg diario \n",
        "data_day[\"cost_per_kg\"].mean().plot()\n",
        "plt.ylabel(\"cost_per_kg\")\n",
        "plt.show()\n",
        "\n",
        "data_day1[\"cost_per_kg\"].mean().plot()\n",
        "plt.ylabel(\"cost_per_kg\")\n",
        "plt.show()"
      ],
      "metadata": {
        "id": "MWq4fvqBhDff",
        "colab": {
          "base_uri": "https://localhost:8080/",
          "height": 553
        },
        "outputId": "2c6ef0cb-54a9-4fd9-f6e7-85d5c67540e8"
      },
      "execution_count": null,
      "outputs": [
        {
          "output_type": "display_data",
          "data": {
            "text/plain": [
              "<Figure size 432x288 with 1 Axes>"
            ],
            "image/png": "[encoded data removed]"
          },
          "metadata": {
            "needs_background": "light"
          }
        },
        {
          "output_type": "display_data",
          "data": {
            "text/plain": [
              "<Figure size 432x288 with 1 Axes>"
            ],
            "image/png": "[encoded data removed]"
          },
          "metadata": {
            "needs_background": "light"
          }
        }
      ]
    },
    {
      "cell_type": "code",
      "source": [
        ""
      ],
      "metadata": {
        "id": "Btqew7Fxbkes"
      },
      "execution_count": null,
      "outputs": []
    },
    {
      "cell_type": "markdown",
      "source": [
        "En este caso se puede observar que estos valores no tienden a crecer o decrecer con el tiempo. Para los meses de noviembre y enero se alcanzan valores maxímos para el peso bruto. Para el número de envíos hechos cada 2 horas se obtienen valores parecidos durante todo el periodo de tiempo tomado."
      ],
      "metadata": {
        "id": "CRmiQt5IVqpo"
      }
    },
    {
      "cell_type": "code",
      "source": [
        "# Se define un nuevo dataset para tomar los valores de septiembre en adelante\n",
        "\n",
        "data_sep= data[(data[\"carrier\"]==\"NTG Air & Ocean\") & (data[\"country_to\"]==\"MY\")& (data.departure.dt.date.values>datetime.date(2019, 9, 1)) ]"
      ],
      "metadata": {
        "id": "jh6cb622czkv"
      },
      "execution_count": null,
      "outputs": []
    },
    {
      "cell_type": "code",
      "source": [
        "# se contabliliza el número de codigos shp para determinar el número de envíos hechos cada 2 horas\n",
        "data_hour_sep= data_sep.groupby([data_sep.departure.dt.to_period(\"2h\")] )\n",
        "data_hour_sep[\"shp_code\"].sum().apply(lambda x: x.count(\"SHP\")).plot()"
      ],
      "metadata": {
        "id": "W1acYzu8dJWw",
        "colab": {
          "base_uri": "https://localhost:8080/",
          "height": 308
        },
        "outputId": "27efda22-f85a-4555-f44b-c5ea0f67e32c"
      },
      "execution_count": null,
      "outputs": [
        {
          "output_type": "execute_result",
          "data": {
            "text/plain": [
              "<matplotlib.axes._subplots.AxesSubplot at 0x7fa20529c7d0>"
            ]
          },
          "metadata": {},
          "execution_count": 19
        },
        {
          "output_type": "display_data",
          "data": {
            "text/plain": [
              "<Figure size 432x288 with 1 Axes>"
            ],
            "image/png": "[encoded data removed]"
          },
          "metadata": {
            "needs_background": "light"
          }
        }
      ]
    },
    {
      "cell_type": "code",
      "source": [
        "data_hour_sep[\"gross_weight\"].sum().plot()\n"
      ],
      "metadata": {
        "id": "3gBud5joeCIt",
        "colab": {
          "base_uri": "https://localhost:8080/",
          "height": 308
        },
        "outputId": "549ff738-6d12-4fbe-cfa3-248d89486acc"
      },
      "execution_count": null,
      "outputs": [
        {
          "output_type": "execute_result",
          "data": {
            "text/plain": [
              "<matplotlib.axes._subplots.AxesSubplot at 0x7fa205238f50>"
            ]
          },
          "metadata": {},
          "execution_count": 20
        },
        {
          "output_type": "display_data",
          "data": {
            "text/plain": [
              "<Figure size 432x288 with 1 Axes>"
            ],
            "image/png": "[encoded data removed]"
          },
          "metadata": {
            "needs_background": "light"
          }
        }
      ]
    },
    {
      "cell_type": "markdown",
      "source": [
        "###2.3"
      ],
      "metadata": {
        "id": "MFV3l2nprWeR"
      }
    },
    {
      "cell_type": "code",
      "source": [
        "import tensorflow as tf\n"
      ],
      "metadata": {
        "id": "YVlMcpUpuYPl"
      },
      "execution_count": null,
      "outputs": []
    },
    {
      "cell_type": "code",
      "source": [
        "df=pd.DataFrame(data_day1[\"cost_per_kg\"].mean() )\n",
        "df.shape # número de datos "
      ],
      "metadata": {
        "id": "GgEUrfpYa1CR",
        "colab": {
          "base_uri": "https://localhost:8080/"
        },
        "outputId": "b261f8cd-a496-4af0-f33f-213a11c95011"
      },
      "execution_count": null,
      "outputs": [
        {
          "output_type": "execute_result",
          "data": {
            "text/plain": [
              "(430, 1)"
            ]
          },
          "metadata": {},
          "execution_count": 22
        }
      ]
    },
    {
      "cell_type": "code",
      "source": [
        "from sklearn.preprocessing import  MinMaxScaler\n",
        "\n",
        "look_back=2\n",
        "# split into train and test sets\n",
        "train_size = int(len(df) * 0.67)\n",
        "test_size = len(df) - train_size\n",
        "train, test = df[0:train_size], df[train_size:len(df)]\n",
        "\n",
        "# Escalamiento de datos entre 0 y 1 \n",
        "scaler = MinMaxScaler(feature_range=(0, 1))\n",
        "trainN = scaler.fit_transform(train)\n",
        "testN = scaler.transform(test)\n"
      ],
      "metadata": {
        "id": "f6-HiTzUrtmR"
      },
      "execution_count": null,
      "outputs": []
    },
    {
      "cell_type": "code",
      "source": [
        ""
      ],
      "metadata": {
        "id": "MWNBzbzp6I1_"
      },
      "execution_count": null,
      "outputs": []
    },
    {
      "cell_type": "code",
      "source": [
        "\n",
        "# se utiliza la función split_sequence con el fin de tomar 2 valores para predecir el siguiente (one-step model) \n",
        "def split_sequence(sequence, n_steps):\n",
        "\tX, y = list(), list()\n",
        "\tfor i in range(len(sequence)):\n",
        "\t\tend_ix = i + n_steps\n",
        "\t\tif end_ix > len(sequence)-1:\n",
        "\t\t\tbreak\n",
        "\t\tseq_x, seq_y = sequence[i:end_ix], sequence[end_ix]\n",
        "\t\tX.append(seq_x)\n",
        "\t\ty.append(seq_y)\n",
        "\treturn np.array(X), np.array(y)\n",
        "\n",
        "X_train, y_train = split_sequence(trainN, look_back)\n",
        "X_test, y_test = split_sequence(testN, look_back)\n"
      ],
      "metadata": {
        "id": "k536YIhy67XZ"
      },
      "execution_count": null,
      "outputs": []
    },
    {
      "cell_type": "code",
      "source": [
        "X_train"
      ],
      "metadata": {
        "id": "-dqZAAMSl1Bq",
        "colab": {
          "base_uri": "https://localhost:8080/"
        },
        "outputId": "ac2de27d-0a29-44f3-8eb2-f704be0e750c"
      },
      "execution_count": null,
      "outputs": [
        {
          "output_type": "execute_result",
          "data": {
            "text/plain": [
              "array([[[0.67983497],\n",
              "        [0.67748809]],\n",
              "\n",
              "       [[0.67748809],\n",
              "        [0.69288948]],\n",
              "\n",
              "       [[0.69288948],\n",
              "        [0.70314592]],\n",
              "\n",
              "       [[0.70314592],\n",
              "        [0.78544787]],\n",
              "\n",
              "       [[0.78544787],\n",
              "        [0.75753901]],\n",
              "\n",
              "       [[0.75753901],\n",
              "        [0.83135525]],\n",
              "\n",
              "       [[0.83135525],\n",
              "        [0.79057825]],\n",
              "\n",
              "       [[0.79057825],\n",
              "        [0.79483527]],\n",
              "\n",
              "       [[0.79483527],\n",
              "        [0.81991422]],\n",
              "\n",
              "       [[0.81991422],\n",
              "        [0.76593604]],\n",
              "\n",
              "       [[0.76593604],\n",
              "        [0.86354906]],\n",
              "\n",
              "       [[0.86354906],\n",
              "        [1.        ]],\n",
              "\n",
              "       [[1.        ],\n",
              "        [0.9408422 ]],\n",
              "\n",
              "       [[0.9408422 ],\n",
              "        [0.88550766]],\n",
              "\n",
              "       [[0.88550766],\n",
              "        [0.88978272]],\n",
              "\n",
              "       [[0.88978272],\n",
              "        [0.88991718]],\n",
              "\n",
              "       [[0.88991718],\n",
              "        [0.88756297]],\n",
              "\n",
              "       [[0.88756297],\n",
              "        [0.81978276]],\n",
              "\n",
              "       [[0.81978276],\n",
              "        [0.78225359]],\n",
              "\n",
              "       [[0.78225359],\n",
              "        [0.75339571]],\n",
              "\n",
              "       [[0.75339571],\n",
              "        [0.69381824]],\n",
              "\n",
              "       [[0.69381824],\n",
              "        [0.63920465]],\n",
              "\n",
              "       [[0.63920465],\n",
              "        [0.63172398]],\n",
              "\n",
              "       [[0.63172398],\n",
              "        [0.63509762]],\n",
              "\n",
              "       [[0.63509762],\n",
              "        [0.65498756]],\n",
              "\n",
              "       [[0.65498756],\n",
              "        [0.74217391]],\n",
              "\n",
              "       [[0.74217391],\n",
              "        [0.72306264]],\n",
              "\n",
              "       [[0.72306264],\n",
              "        [0.70834294]],\n",
              "\n",
              "       [[0.70834294],\n",
              "        [0.72495058]],\n",
              "\n",
              "       [[0.72495058],\n",
              "        [0.73531698]],\n",
              "\n",
              "       [[0.73531698],\n",
              "        [0.63150396]],\n",
              "\n",
              "       [[0.63150396],\n",
              "        [0.62528513]],\n",
              "\n",
              "       [[0.62528513],\n",
              "        [0.62571011]],\n",
              "\n",
              "       [[0.62571011],\n",
              "        [0.5900112 ]],\n",
              "\n",
              "       [[0.5900112 ],\n",
              "        [0.56015378]],\n",
              "\n",
              "       [[0.56015378],\n",
              "        [0.64536521]],\n",
              "\n",
              "       [[0.64536521],\n",
              "        [0.64093466]],\n",
              "\n",
              "       [[0.64093466],\n",
              "        [0.62286949]],\n",
              "\n",
              "       [[0.62286949],\n",
              "        [0.6237987 ]],\n",
              "\n",
              "       [[0.6237987 ],\n",
              "        [0.62298802]],\n",
              "\n",
              "       [[0.62298802],\n",
              "        [0.617687  ]],\n",
              "\n",
              "       [[0.617687  ],\n",
              "        [0.51984287]],\n",
              "\n",
              "       [[0.51984287],\n",
              "        [0.54591627]],\n",
              "\n",
              "       [[0.54591627],\n",
              "        [0.54855651]],\n",
              "\n",
              "       [[0.54855651],\n",
              "        [0.57521033]],\n",
              "\n",
              "       [[0.57521033],\n",
              "        [0.54362807]],\n",
              "\n",
              "       [[0.54362807],\n",
              "        [0.53423672]],\n",
              "\n",
              "       [[0.53423672],\n",
              "        [0.60970485]],\n",
              "\n",
              "       [[0.60970485],\n",
              "        [0.58317295]],\n",
              "\n",
              "       [[0.58317295],\n",
              "        [0.55749777]],\n",
              "\n",
              "       [[0.55749777],\n",
              "        [0.55603718]],\n",
              "\n",
              "       [[0.55603718],\n",
              "        [0.62276093]],\n",
              "\n",
              "       [[0.62276093],\n",
              "        [0.6212396 ]],\n",
              "\n",
              "       [[0.6212396 ],\n",
              "        [0.57644305]],\n",
              "\n",
              "       [[0.57644305],\n",
              "        [0.56615809]],\n",
              "\n",
              "       [[0.56615809],\n",
              "        [0.62127304]],\n",
              "\n",
              "       [[0.62127304],\n",
              "        [0.6301105 ]],\n",
              "\n",
              "       [[0.6301105 ],\n",
              "        [0.61984291]],\n",
              "\n",
              "       [[0.61984291],\n",
              "        [0.60068032]],\n",
              "\n",
              "       [[0.60068032],\n",
              "        [0.62942527]],\n",
              "\n",
              "       [[0.62942527],\n",
              "        [0.61456244]],\n",
              "\n",
              "       [[0.61456244],\n",
              "        [0.59344054]],\n",
              "\n",
              "       [[0.59344054],\n",
              "        [0.50231885]],\n",
              "\n",
              "       [[0.50231885],\n",
              "        [0.56879833]],\n",
              "\n",
              "       [[0.56879833],\n",
              "        [0.65240584]],\n",
              "\n",
              "       [[0.65240584],\n",
              "        [0.62336323]],\n",
              "\n",
              "       [[0.62336323],\n",
              "        [0.51712842]],\n",
              "\n",
              "       [[0.51712842],\n",
              "        [0.53221261]],\n",
              "\n",
              "       [[0.53221261],\n",
              "        [0.6240646 ]],\n",
              "\n",
              "       [[0.6240646 ],\n",
              "        [0.60664173]],\n",
              "\n",
              "       [[0.60664173],\n",
              "        [0.59542072]],\n",
              "\n",
              "       [[0.59542072],\n",
              "        [0.55953606]],\n",
              "\n",
              "       [[0.55953606],\n",
              "        [0.59818595]],\n",
              "\n",
              "       [[0.59818595],\n",
              "        [0.59204007]],\n",
              "\n",
              "       [[0.59204007],\n",
              "        [0.60606351]],\n",
              "\n",
              "       [[0.60606351],\n",
              "        [0.54616772]],\n",
              "\n",
              "       [[0.54616772],\n",
              "        [0.63832457]],\n",
              "\n",
              "       [[0.63832457],\n",
              "        [0.62028295]],\n",
              "\n",
              "       [[0.62028295],\n",
              "        [0.61466687]],\n",
              "\n",
              "       [[0.61466687],\n",
              "        [0.63509762]],\n",
              "\n",
              "       [[0.63509762],\n",
              "        [0.58713331]],\n",
              "\n",
              "       [[0.58713331],\n",
              "        [0.62800895]],\n",
              "\n",
              "       [[0.62800895],\n",
              "        [0.61661596]],\n",
              "\n",
              "       [[0.61661596],\n",
              "        [0.57713139]],\n",
              "\n",
              "       [[0.57713139],\n",
              "        [0.62424331]],\n",
              "\n",
              "       [[0.62424331],\n",
              "        [0.66538701]],\n",
              "\n",
              "       [[0.66538701],\n",
              "        [0.62761753]],\n",
              "\n",
              "       [[0.62761753],\n",
              "        [0.57771693]],\n",
              "\n",
              "       [[0.57771693],\n",
              "        [0.51629695]],\n",
              "\n",
              "       [[0.51629695],\n",
              "        [0.55501042]],\n",
              "\n",
              "       [[0.55501042],\n",
              "        [0.5239143 ]],\n",
              "\n",
              "       [[0.5239143 ],\n",
              "        [0.43992961]],\n",
              "\n",
              "       [[0.43992961],\n",
              "        [0.45556149]],\n",
              "\n",
              "       [[0.45556149],\n",
              "        [0.38574188]],\n",
              "\n",
              "       [[0.38574188],\n",
              "        [0.39166588]],\n",
              "\n",
              "       [[0.39166588],\n",
              "        [0.44112292]],\n",
              "\n",
              "       [[0.44112292],\n",
              "        [0.35682584]],\n",
              "\n",
              "       [[0.35682584],\n",
              "        [0.33217856]],\n",
              "\n",
              "       [[0.33217856],\n",
              "        [0.37980135]],\n",
              "\n",
              "       [[0.37980135],\n",
              "        [0.38456844]],\n",
              "\n",
              "       [[0.38456844],\n",
              "        [0.39043564]],\n",
              "\n",
              "       [[0.39043564],\n",
              "        [0.36532965]],\n",
              "\n",
              "       [[0.36532965],\n",
              "        [0.36771984]],\n",
              "\n",
              "       [[0.36771984],\n",
              "        [0.34454372]],\n",
              "\n",
              "       [[0.34454372],\n",
              "        [0.3356406 ]],\n",
              "\n",
              "       [[0.3356406 ],\n",
              "        [0.35361899]],\n",
              "\n",
              "       [[0.35361899],\n",
              "        [0.34983465]],\n",
              "\n",
              "       [[0.34983465],\n",
              "        [0.36109967]],\n",
              "\n",
              "       [[0.36109967],\n",
              "        [0.36507554]],\n",
              "\n",
              "       [[0.36507554],\n",
              "        [0.4068329 ]],\n",
              "\n",
              "       [[0.4068329 ],\n",
              "        [0.43795991]],\n",
              "\n",
              "       [[0.43795991],\n",
              "        [0.45680827]],\n",
              "\n",
              "       [[0.45680827],\n",
              "        [0.38823544]],\n",
              "\n",
              "       [[0.38823544],\n",
              "        [0.33777757]],\n",
              "\n",
              "       [[0.33777757],\n",
              "        [0.34525824]],\n",
              "\n",
              "       [[0.34525824],\n",
              "        [0.3791555 ]],\n",
              "\n",
              "       [[0.3791555 ],\n",
              "        [0.36542628]],\n",
              "\n",
              "       [[0.36542628],\n",
              "        [0.36703418]],\n",
              "\n",
              "       [[0.36703418],\n",
              "        [0.39843595]],\n",
              "\n",
              "       [[0.39843595],\n",
              "        [0.35060344]],\n",
              "\n",
              "       [[0.35060344],\n",
              "        [0.34478334]],\n",
              "\n",
              "       [[0.34478334],\n",
              "        [0.33689749]],\n",
              "\n",
              "       [[0.33689749],\n",
              "        [0.33381721]],\n",
              "\n",
              "       [[0.33381721],\n",
              "        [0.36109504]],\n",
              "\n",
              "       [[0.36109504],\n",
              "        [0.42323563]],\n",
              "\n",
              "       [[0.42323563],\n",
              "        [0.437747  ]],\n",
              "\n",
              "       [[0.437747  ],\n",
              "        [0.44998765]],\n",
              "\n",
              "       [[0.44998765],\n",
              "        [0.41060411]],\n",
              "\n",
              "       [[0.41060411],\n",
              "        [0.35982538]],\n",
              "\n",
              "       [[0.35982538],\n",
              "        [0.39238297]],\n",
              "\n",
              "       [[0.39238297],\n",
              "        [0.34642205]],\n",
              "\n",
              "       [[0.34642205],\n",
              "        [0.37078054]],\n",
              "\n",
              "       [[0.37078054],\n",
              "        [0.35671958]],\n",
              "\n",
              "       [[0.35671958],\n",
              "        [0.30207209]],\n",
              "\n",
              "       [[0.30207209],\n",
              "        [0.28356174]],\n",
              "\n",
              "       [[0.28356174],\n",
              "        [0.25064974]],\n",
              "\n",
              "       [[0.25064974],\n",
              "        [0.23370822]],\n",
              "\n",
              "       [[0.23370822],\n",
              "        [0.19560181]],\n",
              "\n",
              "       [[0.19560181],\n",
              "        [0.20414621]],\n",
              "\n",
              "       [[0.20414621],\n",
              "        [0.2000452 ]],\n",
              "\n",
              "       [[0.2000452 ],\n",
              "        [0.18757741]],\n",
              "\n",
              "       [[0.18757741],\n",
              "        [0.16583408]],\n",
              "\n",
              "       [[0.16583408],\n",
              "        [0.18948425]],\n",
              "\n",
              "       [[0.18948425],\n",
              "        [0.17899407]],\n",
              "\n",
              "       [[0.17899407],\n",
              "        [0.19194562]],\n",
              "\n",
              "       [[0.19194562],\n",
              "        [0.1912444 ]],\n",
              "\n",
              "       [[0.1912444 ],\n",
              "        [0.18420377]],\n",
              "\n",
              "       [[0.18420377],\n",
              "        [0.20855263]],\n",
              "\n",
              "       [[0.20855263],\n",
              "        [0.17588849]],\n",
              "\n",
              "       [[0.17588849],\n",
              "        [0.18361705]],\n",
              "\n",
              "       [[0.18361705],\n",
              "        [0.20817814]],\n",
              "\n",
              "       [[0.20817814],\n",
              "        [0.20643812]],\n",
              "\n",
              "       [[0.20643812],\n",
              "        [0.20738755]],\n",
              "\n",
              "       [[0.20738755],\n",
              "        [0.19476472]],\n",
              "\n",
              "       [[0.19476472],\n",
              "        [0.19973208]],\n",
              "\n",
              "       [[0.19973208],\n",
              "        [0.19546878]],\n",
              "\n",
              "       [[0.19546878],\n",
              "        [0.19265253]],\n",
              "\n",
              "       [[0.19265253],\n",
              "        [0.19637964]],\n",
              "\n",
              "       [[0.19637964],\n",
              "        [0.17029932]],\n",
              "\n",
              "       [[0.17029932],\n",
              "        [0.17181733]],\n",
              "\n",
              "       [[0.17181733],\n",
              "        [0.19300456]],\n",
              "\n",
              "       [[0.19300456],\n",
              "        [0.11819784]],\n",
              "\n",
              "       [[0.11819784],\n",
              "        [0.02930985]],\n",
              "\n",
              "       [[0.02930985],\n",
              "        [0.        ]],\n",
              "\n",
              "       [[0.        ],\n",
              "        [0.02724314]],\n",
              "\n",
              "       [[0.02724314],\n",
              "        [0.07734651]],\n",
              "\n",
              "       [[0.07734651],\n",
              "        [0.08740692]],\n",
              "\n",
              "       [[0.08740692],\n",
              "        [0.08669101]],\n",
              "\n",
              "       [[0.08669101],\n",
              "        [0.18962115]],\n",
              "\n",
              "       [[0.18962115],\n",
              "        [0.19014424]],\n",
              "\n",
              "       [[0.19014424],\n",
              "        [0.17889456]],\n",
              "\n",
              "       [[0.17889456],\n",
              "        [0.18566608]],\n",
              "\n",
              "       [[0.18566608],\n",
              "        [0.1567956 ]],\n",
              "\n",
              "       [[0.1567956 ],\n",
              "        [0.14063986]],\n",
              "\n",
              "       [[0.14063986],\n",
              "        [0.12523847]],\n",
              "\n",
              "       [[0.12523847],\n",
              "        [0.15779634]],\n",
              "\n",
              "       [[0.15779634],\n",
              "        [0.18723054]],\n",
              "\n",
              "       [[0.18723054],\n",
              "        [0.17768612]],\n",
              "\n",
              "       [[0.17768612],\n",
              "        [0.20268543]],\n",
              "\n",
              "       [[0.20268543],\n",
              "        [0.2672607 ]],\n",
              "\n",
              "       [[0.2672607 ],\n",
              "        [0.35169734]],\n",
              "\n",
              "       [[0.35169734],\n",
              "        [0.29759669]],\n",
              "\n",
              "       [[0.29759669],\n",
              "        [0.30134092]],\n",
              "\n",
              "       [[0.30134092],\n",
              "        [0.28003193]],\n",
              "\n",
              "       [[0.28003193],\n",
              "        [0.29421366]],\n",
              "\n",
              "       [[0.29421366],\n",
              "        [0.2713316 ]],\n",
              "\n",
              "       [[0.2713316 ],\n",
              "        [0.36069297]],\n",
              "\n",
              "       [[0.36069297],\n",
              "        [0.39516134]],\n",
              "\n",
              "       [[0.39516134],\n",
              "        [0.40468681]],\n",
              "\n",
              "       [[0.40468681],\n",
              "        [0.36417994]],\n",
              "\n",
              "       [[0.36417994],\n",
              "        [0.38574188]],\n",
              "\n",
              "       [[0.38574188],\n",
              "        [0.41429555]],\n",
              "\n",
              "       [[0.41429555],\n",
              "        [0.4337234 ]],\n",
              "\n",
              "       [[0.4337234 ],\n",
              "        [0.43778694]],\n",
              "\n",
              "       [[0.43778694],\n",
              "        [0.32844448]],\n",
              "\n",
              "       [[0.32844448],\n",
              "        [0.43572012]],\n",
              "\n",
              "       [[0.43572012],\n",
              "        [0.45017162]],\n",
              "\n",
              "       [[0.45017162],\n",
              "        [0.40890234]],\n",
              "\n",
              "       [[0.40890234],\n",
              "        [0.44910757]],\n",
              "\n",
              "       [[0.44910757],\n",
              "        [0.5529569 ]],\n",
              "\n",
              "       [[0.5529569 ],\n",
              "        [0.46872813]],\n",
              "\n",
              "       [[0.46872813],\n",
              "        [0.45818655]],\n",
              "\n",
              "       [[0.45818655],\n",
              "        [0.41936468]],\n",
              "\n",
              "       [[0.41936468],\n",
              "        [0.4620154 ]],\n",
              "\n",
              "       [[0.4620154 ],\n",
              "        [0.42915911]],\n",
              "\n",
              "       [[0.42915911],\n",
              "        [0.3748289 ]],\n",
              "\n",
              "       [[0.3748289 ],\n",
              "        [0.38398172]],\n",
              "\n",
              "       [[0.38398172],\n",
              "        [0.40275674]],\n",
              "\n",
              "       [[0.40275674],\n",
              "        [0.36913905]],\n",
              "\n",
              "       [[0.36913905],\n",
              "        [0.32456474]],\n",
              "\n",
              "       [[0.32456474],\n",
              "        [0.28518361]],\n",
              "\n",
              "       [[0.28518361],\n",
              "        [0.26456536]],\n",
              "\n",
              "       [[0.26456536],\n",
              "        [0.26629323]],\n",
              "\n",
              "       [[0.26629323],\n",
              "        [0.30074047]],\n",
              "\n",
              "       [[0.30074047],\n",
              "        [0.30073655]],\n",
              "\n",
              "       [[0.30073655],\n",
              "        [0.34124056]],\n",
              "\n",
              "       [[0.34124056],\n",
              "        [0.30166858]],\n",
              "\n",
              "       [[0.30166858],\n",
              "        [0.33874566]],\n",
              "\n",
              "       [[0.33874566],\n",
              "        [0.3659401 ]],\n",
              "\n",
              "       [[0.3659401 ],\n",
              "        [0.38104813]],\n",
              "\n",
              "       [[0.38104813],\n",
              "        [0.32202416]],\n",
              "\n",
              "       [[0.32202416],\n",
              "        [0.29047332]],\n",
              "\n",
              "       [[0.29047332],\n",
              "        [0.27396424]],\n",
              "\n",
              "       [[0.27396424],\n",
              "        [0.51171891]],\n",
              "\n",
              "       [[0.51171891],\n",
              "        [0.53315513]],\n",
              "\n",
              "       [[0.53315513],\n",
              "        [0.54750682]],\n",
              "\n",
              "       [[0.54750682],\n",
              "        [0.54000563]],\n",
              "\n",
              "       [[0.54000563],\n",
              "        [0.64712537]],\n",
              "\n",
              "       [[0.64712537],\n",
              "        [0.66340683]],\n",
              "\n",
              "       [[0.66340683],\n",
              "        [0.69288948]],\n",
              "\n",
              "       [[0.69288948],\n",
              "        [0.72492436]],\n",
              "\n",
              "       [[0.72492436],\n",
              "        [0.73073288]],\n",
              "\n",
              "       [[0.73073288],\n",
              "        [0.73271306]],\n",
              "\n",
              "       [[0.73271306],\n",
              "        [0.76102866]],\n",
              "\n",
              "       [[0.76102866],\n",
              "        [0.72897272]],\n",
              "\n",
              "       [[0.72897272],\n",
              "        [0.64888552]],\n",
              "\n",
              "       [[0.64888552],\n",
              "        [0.66575371]],\n",
              "\n",
              "       [[0.66575371],\n",
              "        [0.63103719]],\n",
              "\n",
              "       [[0.63103719],\n",
              "        [0.57979277]],\n",
              "\n",
              "       [[0.57979277],\n",
              "        [0.62742953]],\n",
              "\n",
              "       [[0.62742953],\n",
              "        [0.7071114 ]],\n",
              "\n",
              "       [[0.7071114 ],\n",
              "        [0.69969608]],\n",
              "\n",
              "       [[0.69969608],\n",
              "        [0.70902426]],\n",
              "\n",
              "       [[0.70902426],\n",
              "        [0.72774061]],\n",
              "\n",
              "       [[0.72774061],\n",
              "        [0.71559552]],\n",
              "\n",
              "       [[0.71559552],\n",
              "        [0.66552813]],\n",
              "\n",
              "       [[0.66552813],\n",
              "        [0.61260926]],\n",
              "\n",
              "       [[0.61260926],\n",
              "        [0.6708875 ]],\n",
              "\n",
              "       [[0.6708875 ],\n",
              "        [0.71357134]],\n",
              "\n",
              "       [[0.71357134],\n",
              "        [0.65909444]],\n",
              "\n",
              "       [[0.65909444],\n",
              "        [0.64536521]],\n",
              "\n",
              "       [[0.64536521],\n",
              "        [0.61826797]],\n",
              "\n",
              "       [[0.61826797],\n",
              "        [0.72772064]],\n",
              "\n",
              "       [[0.72772064],\n",
              "        [0.71495202]],\n",
              "\n",
              "       [[0.71495202],\n",
              "        [0.72312267]],\n",
              "\n",
              "       [[0.72312267],\n",
              "        [0.76918524]],\n",
              "\n",
              "       [[0.76918524],\n",
              "        [0.77924671]],\n",
              "\n",
              "       [[0.77924671],\n",
              "        [0.66892348]],\n",
              "\n",
              "       [[0.66892348],\n",
              "        [0.80125212]],\n",
              "\n",
              "       [[0.80125212],\n",
              "        [0.80307909]],\n",
              "\n",
              "       [[0.80307909],\n",
              "        [0.79849692]],\n",
              "\n",
              "       [[0.79849692],\n",
              "        [0.80949995]],\n",
              "\n",
              "       [[0.80949995],\n",
              "        [0.81105835]],\n",
              "\n",
              "       [[0.81105835],\n",
              "        [0.77153446]],\n",
              "\n",
              "       [[0.77153446],\n",
              "        [0.71841177]],\n",
              "\n",
              "       [[0.71841177],\n",
              "        [0.79179161]],\n",
              "\n",
              "       [[0.79179161],\n",
              "        [0.80536358]],\n",
              "\n",
              "       [[0.80536358],\n",
              "        [0.732053  ]],\n",
              "\n",
              "       [[0.732053  ],\n",
              "        [0.77825715]],\n",
              "\n",
              "       [[0.77825715],\n",
              "        [0.79999582]],\n",
              "\n",
              "       [[0.79999582],\n",
              "        [0.80289936]],\n",
              "\n",
              "       [[0.80289936],\n",
              "        [0.79761889]],\n",
              "\n",
              "       [[0.79761889],\n",
              "        [0.79355381]],\n",
              "\n",
              "       [[0.79355381],\n",
              "        [0.79930698]],\n",
              "\n",
              "       [[0.79930698],\n",
              "        [0.8721838 ]],\n",
              "\n",
              "       [[0.8721838 ],\n",
              "        [0.89516098]],\n",
              "\n",
              "       [[0.89516098],\n",
              "        [0.8857368 ]],\n",
              "\n",
              "       [[0.8857368 ],\n",
              "        [0.89337149]],\n",
              "\n",
              "       [[0.89337149],\n",
              "        [0.8394531 ]],\n",
              "\n",
              "       [[0.8394531 ],\n",
              "        [0.87726604]],\n",
              "\n",
              "       [[0.87726604],\n",
              "        [0.85372393]],\n",
              "\n",
              "       [[0.85372393],\n",
              "        [0.82245658]],\n",
              "\n",
              "       [[0.82245658],\n",
              "        [0.84571489]],\n",
              "\n",
              "       [[0.84571489],\n",
              "        [0.92358021]],\n",
              "\n",
              "       [[0.92358021],\n",
              "        [0.95653911]],\n",
              "\n",
              "       [[0.95653911],\n",
              "        [0.94988886]]])"
            ]
          },
          "metadata": {},
          "execution_count": 25
        }
      ]
    },
    {
      "cell_type": "code",
      "source": [
        "from keras.models import Sequential\n",
        "from keras.layers import Dense\n",
        "from keras.layers import LSTM\n",
        "X_train.shape, y_train.shape\n",
        "#modelo utilizado \n",
        "#keras.backend.clear_session()\n",
        "model1 = Sequential()\n",
        "model1.add(Dense(5,activation = 'relu',input_dim=look_back))\n",
        "model1.add(Dense(1))\n",
        "model1.summary()"
      ],
      "metadata": {
        "id": "PhC44yQa9weF",
        "colab": {
          "base_uri": "https://localhost:8080/"
        },
        "outputId": "39f940d2-170b-45ad-a2a6-1ce19b65afc6"
      },
      "execution_count": null,
      "outputs": [
        {
          "output_type": "stream",
          "name": "stdout",
          "text": [
            "Model: \"sequential\"\n",
            "_________________________________________________________________\n",
            " Layer (type)                Output Shape              Param #   \n",
            "=================================================================\n",
            " dense (Dense)               (None, 5)                 15        \n",
            "                                                                 \n",
            " dense_1 (Dense)             (None, 1)                 6         \n",
            "                                                                 \n",
            "=================================================================\n",
            "Total params: 21\n",
            "Trainable params: 21\n",
            "Non-trainable params: 0\n",
            "_________________________________________________________________\n"
          ]
        }
      ]
    },
    {
      "cell_type": "code",
      "source": [
        "import math\n",
        "from sklearn.metrics import mean_squared_error\n",
        "from sklearn.metrics import mean_absolute_percentage_error\n",
        "\n",
        "def Prediction(model,X_train,X_test,y_train,y_test,scaler,look_back):\n",
        "\t# make predictions\n",
        "\ttrainPredict = model.predict(X_train.reshape(X_train.shape[0],look_back))\n",
        "\ttestPredict = model.predict(X_test.reshape(X_test.shape[0],look_back))\n",
        "\t# invert predictions\n",
        "\ttrainPredict = scaler.inverse_transform(trainPredict)\n",
        "\ttrainY = scaler.inverse_transform([y_train.flatten()])\n",
        "\ttestPredict = scaler.inverse_transform(testPredict)\n",
        "\ttestY = scaler.inverse_transform([y_test.flatten()])\n",
        "\treturn trainPredict, testPredict\n",
        "\n",
        "def Plot(dataset,trainPredict,testPredict,look_back):\n",
        "\ttrainPredictPlot = np.empty_like(dataset)\n",
        "\ttrainPredictPlot[:, :] = np.nan\n",
        "\ttrainPredictPlot[look_back:len(trainPredict)+look_back, :] = trainPredict\n",
        "\t# shift test predictions for plotting\n",
        "\ttestPredictPlot = np.empty_like(dataset+1)\n",
        "\ttestPredictPlot[:, :] = np.nan\n",
        "\tNtest = len(testPredict)\n",
        "\tNtestSpace = len(dataset)+1 - (len(trainPredict)+(look_back*2))\n",
        "\trestante = NtestSpace - Ntest\n",
        "\tprint(restante)\n",
        "\ttestPredictPlot[len(trainPredict)+(look_back*2):len(dataset)+1-restante, :] = testPredict\n",
        "\t\n",
        "\t# plot baseline and predictions\n",
        "\tplt.figure(figsize=(10,4))\n",
        "\tplt.plot(trainPredictPlot,label='Training prediction')\n",
        "\tplt.plot(testPredictPlot,label='Test prediction')\n",
        "\tplt.legend()\n",
        "\tplt.show()\n",
        "\n",
        "model1.compile(optimizer='adam',loss='mse') # se define la función de perdida y el optimizer adam para actualizar los pesos\n",
        "model1.fit(X_train.reshape(X_train.shape[0],look_back),y_train.flatten(),epochs=200, verbose=0) #entrenamiento de la red\n",
        "trainPredict, testPredict = Prediction(model1,X_train,X_test,y_train,y_test,scaler,look_back)\n",
        "Plot(df,trainPredict,testPredict,look_back)"
      ],
      "metadata": {
        "id": "LW4iIyOmsBUP",
        "colab": {
          "base_uri": "https://localhost:8080/",
          "height": 282
        },
        "outputId": "548831ae-175e-4c53-c981-012495512388"
      },
      "execution_count": null,
      "outputs": [
        {
          "output_type": "stream",
          "name": "stdout",
          "text": [
            "1\n"
          ]
        },
        {
          "output_type": "display_data",
          "data": {
            "text/plain": [
              "<Figure size 720x288 with 1 Axes>"
            ],
            "image/png": "[encoded data removed]"
          },
          "metadata": {
            "needs_background": "light"
          }
        }
      ]
    },
    {
      "cell_type": "code",
      "source": [
        ""
      ],
      "metadata": {
        "id": "pyDp9EC2sBGn"
      },
      "execution_count": null,
      "outputs": []
    },
    {
      "cell_type": "markdown",
      "source": [
        "*   Elemento de lista\n",
        "*   Elemento de lista\n",
        "\n",
        "\n"
      ],
      "metadata": {
        "id": "GheUnRi0_Ubj"
      }
    },
    {
      "cell_type": "code",
      "source": [
        "data_hour= data1.groupby([data1.departure.dt.to_period(\"h\")] )\n",
        "\n",
        "raw=pd.DataFrame(data_hour[\"cost_per_kg\"].mean() )\n",
        "raw.shape #número de datos "
      ],
      "metadata": {
        "id": "8VcvOc_MsBC2",
        "colab": {
          "base_uri": "https://localhost:8080/"
        },
        "outputId": "489613cf-5002-4dc1-8fee-c2fc96142e98"
      },
      "execution_count": null,
      "outputs": [
        {
          "output_type": "execute_result",
          "data": {
            "text/plain": [
              "(1408, 1)"
            ]
          },
          "metadata": {},
          "execution_count": 28
        }
      ]
    },
    {
      "cell_type": "code",
      "source": [
        "scaler = MinMaxScaler(feature_range=(-1, 1))\n",
        "raw = scaler.fit_transform(raw)\n",
        "\n",
        "time_shift = 7 #shift es el número de pasos por delante que se esta prediciendo\n",
        "n_rows = raw.shape[0] #n_rows es el número de pasos de tiempo de nuestra secuencia \n",
        "n_feats = raw.shape[1]\n",
        "train_size = int(n_rows * 0.8)\n",
        "\n",
        "\n",
        "\n",
        "#data de entrenamiento y test\n",
        "train_data = raw[:train_size, :] #definiendo el set de entrenamiento\n",
        "test_data = raw[train_size:, :] # \n",
        "\n",
        "\n",
        "x_train = train_data[:-time_shift, :] # \n",
        "x_test = test_data[:-time_shift,:] #\n",
        "x_predict = raw[:-time_shift,:] #\n",
        "\n",
        "Y_train = train_data[time_shift:, :] \n",
        "Y_test = test_data[time_shift:,:]\n",
        "y_predict_true = raw[time_shift:,:]\n",
        "\n",
        "x_train = x_train.reshape(1, x_train.shape[0], x_train.shape[1]) #\n",
        "Y_train = Y_train.reshape(1, Y_train.shape[0], Y_train.shape[1])\n",
        "x_test = x_test.reshape(1, x_test.shape[0], x_test.shape[1])\n",
        "Y_test = Y_test.reshape(1, Y_test.shape[0], Y_test.shape[1])\n",
        "x_predict = x_predict.reshape(1, x_predict.shape[0], x_predict.shape[1])\n",
        "y_predict_true = y_predict_true.reshape(1, y_predict_true.shape[0], y_predict_true.shape[1])\n",
        "\n"
      ],
      "metadata": {
        "id": "t4cq7dNk-IfE"
      },
      "execution_count": null,
      "outputs": []
    },
    {
      "cell_type": "code",
      "source": [
        "x_train.shape   "
      ],
      "metadata": {
        "id": "ty0t6dS1mqil",
        "colab": {
          "base_uri": "https://localhost:8080/"
        },
        "outputId": "2c753b66-f2ae-428b-ae60-dd876db9c220"
      },
      "execution_count": null,
      "outputs": [
        {
          "output_type": "execute_result",
          "data": {
            "text/plain": [
              "(1, 1119, 1)"
            ]
          },
          "metadata": {},
          "execution_count": 30
        }
      ]
    },
    {
      "cell_type": "code",
      "source": [
        "from keras.layers import Dropout\n",
        "\"\"\"\n",
        "model = Sequential()\n",
        "model.add(LSTM(32, return_sequences=True, input_shape=(None, x_train.shape[2])))\n",
        "model.add(LSTM(32, return_sequences=True))\n",
        "#model.add(Dropout(0.5))\n",
        "model.add(LSTM(64, return_sequences=True))\n",
        "#model.add(Dropout(0.5))\n",
        "model.add(LSTM(32, return_sequences=True))\n",
        "#model.add(Dropout(0.5))\n",
        "model.add(LSTM(32, return_sequences=True))\n",
        "#model.add(Dropout(0.5))\n",
        "model.add(LSTM(n_feats, return_sequences=True)) \n",
        "\n",
        "model.compile(loss='mse', optimizer='adam')#,metrics=['acc']) #optimizer='adam',metrics=['acc'])\n",
        "\"\"\"\n",
        "model = Sequential()\n",
        "model.add(LSTM(64, return_sequences=True, input_shape=(None, x_train.shape[2])))\n",
        "model.add(Dropout(0.5))\n",
        "model.add(LSTM(128, return_sequences=True))\n",
        "model.add(Dropout(0.5))\n",
        "model.add(LSTM(256, return_sequences=True))\n",
        "model.add(Dropout(0.5))\n",
        "model.add(LSTM(128, return_sequences=True))\n",
        "model.add(Dropout(0.5))\n",
        "model.add(LSTM(64, return_sequences=True))\n",
        "model.add(Dropout(0.5))\n",
        "model.add(LSTM(n_feats, return_sequences=True)) \n",
        "\n",
        "model.compile(loss='mse', optimizer=tf.keras.optimizers.Adam(0.001))"
      ],
      "metadata": {
        "id": "nmN2xOFc-LhF"
      },
      "execution_count": null,
      "outputs": []
    },
    {
      "cell_type": "code",
      "source": [
        "history =model.fit(x_train, Y_train, epochs=100, batch_size=1, verbose=2, validation_data=(x_test,Y_test))  "
      ],
      "metadata": {
        "id": "xw_pnHzX-Vlo",
        "colab": {
          "base_uri": "https://localhost:8080/"
        },
        "outputId": "917d44a6-6756-428c-f5bd-0f63133de771"
      },
      "execution_count": null,
      "outputs": [
        {
          "output_type": "stream",
          "name": "stdout",
          "text": [
            "Epoch 1/100\n",
            "1/1 - 14s - loss: 0.1878 - val_loss: 0.2195 - 14s/epoch - 14s/step\n",
            "Epoch 2/100\n",
            "1/1 - 3s - loss: 0.1005 - val_loss: 0.1404 - 3s/epoch - 3s/step\n",
            "Epoch 3/100\n",
            "1/1 - 3s - loss: 0.0563 - val_loss: 0.0791 - 3s/epoch - 3s/step\n",
            "Epoch 4/100\n",
            "1/1 - 3s - loss: 0.0484 - val_loss: 0.0605 - 3s/epoch - 3s/step\n",
            "Epoch 5/100\n",
            "1/1 - 3s - loss: 0.0554 - val_loss: 0.0573 - 3s/epoch - 3s/step\n",
            "Epoch 6/100\n",
            "1/1 - 3s - loss: 0.0559 - val_loss: 0.0592 - 3s/epoch - 3s/step\n",
            "Epoch 7/100\n",
            "1/1 - 3s - loss: 0.0479 - val_loss: 0.0665 - 3s/epoch - 3s/step\n",
            "Epoch 8/100\n",
            "1/1 - 3s - loss: 0.0425 - val_loss: 0.0834 - 3s/epoch - 3s/step\n",
            "Epoch 9/100\n",
            "1/1 - 3s - loss: 0.0380 - val_loss: 0.1048 - 3s/epoch - 3s/step\n",
            "Epoch 10/100\n",
            "1/1 - 3s - loss: 0.0427 - val_loss: 0.1055 - 3s/epoch - 3s/step\n",
            "Epoch 11/100\n",
            "1/1 - 3s - loss: 0.0447 - val_loss: 0.0900 - 3s/epoch - 3s/step\n",
            "Epoch 12/100\n",
            "1/1 - 3s - loss: 0.0373 - val_loss: 0.0751 - 3s/epoch - 3s/step\n",
            "Epoch 13/100\n",
            "1/1 - 3s - loss: 0.0341 - val_loss: 0.0662 - 3s/epoch - 3s/step\n",
            "Epoch 14/100\n",
            "1/1 - 3s - loss: 0.0346 - val_loss: 0.0624 - 3s/epoch - 3s/step\n",
            "Epoch 15/100\n",
            "1/1 - 3s - loss: 0.0367 - val_loss: 0.0616 - 3s/epoch - 3s/step\n",
            "Epoch 16/100\n",
            "1/1 - 3s - loss: 0.0333 - val_loss: 0.0628 - 3s/epoch - 3s/step\n",
            "Epoch 17/100\n",
            "1/1 - 3s - loss: 0.0319 - val_loss: 0.0655 - 3s/epoch - 3s/step\n",
            "Epoch 18/100\n",
            "1/1 - 3s - loss: 0.0317 - val_loss: 0.0683 - 3s/epoch - 3s/step\n",
            "Epoch 19/100\n",
            "1/1 - 3s - loss: 0.0304 - val_loss: 0.0701 - 3s/epoch - 3s/step\n",
            "Epoch 20/100\n",
            "1/1 - 3s - loss: 0.0284 - val_loss: 0.0723 - 3s/epoch - 3s/step\n",
            "Epoch 21/100\n",
            "1/1 - 3s - loss: 0.0304 - val_loss: 0.0758 - 3s/epoch - 3s/step\n",
            "Epoch 22/100\n",
            "1/1 - 3s - loss: 0.0271 - val_loss: 0.0789 - 3s/epoch - 3s/step\n",
            "Epoch 23/100\n",
            "1/1 - 3s - loss: 0.0271 - val_loss: 0.0788 - 3s/epoch - 3s/step\n",
            "Epoch 24/100\n",
            "1/1 - 3s - loss: 0.0288 - val_loss: 0.0746 - 3s/epoch - 3s/step\n",
            "Epoch 25/100\n",
            "1/1 - 3s - loss: 0.0244 - val_loss: 0.0725 - 3s/epoch - 3s/step\n",
            "Epoch 26/100\n",
            "1/1 - 3s - loss: 0.0276 - val_loss: 0.0726 - 3s/epoch - 3s/step\n",
            "Epoch 27/100\n",
            "1/1 - 3s - loss: 0.0239 - val_loss: 0.0720 - 3s/epoch - 3s/step\n",
            "Epoch 28/100\n",
            "1/1 - 3s - loss: 0.0262 - val_loss: 0.0700 - 3s/epoch - 3s/step\n",
            "Epoch 29/100\n",
            "1/1 - 3s - loss: 0.0304 - val_loss: 0.0697 - 3s/epoch - 3s/step\n",
            "Epoch 30/100\n",
            "1/1 - 3s - loss: 0.0256 - val_loss: 0.0716 - 3s/epoch - 3s/step\n",
            "Epoch 31/100\n",
            "1/1 - 3s - loss: 0.0246 - val_loss: 0.0730 - 3s/epoch - 3s/step\n",
            "Epoch 32/100\n",
            "1/1 - 3s - loss: 0.0256 - val_loss: 0.0708 - 3s/epoch - 3s/step\n",
            "Epoch 33/100\n",
            "1/1 - 3s - loss: 0.0229 - val_loss: 0.0683 - 3s/epoch - 3s/step\n",
            "Epoch 34/100\n",
            "1/1 - 3s - loss: 0.0252 - val_loss: 0.0668 - 3s/epoch - 3s/step\n",
            "Epoch 35/100\n",
            "1/1 - 3s - loss: 0.0236 - val_loss: 0.0661 - 3s/epoch - 3s/step\n",
            "Epoch 36/100\n",
            "1/1 - 3s - loss: 0.0219 - val_loss: 0.0656 - 3s/epoch - 3s/step\n",
            "Epoch 37/100\n",
            "1/1 - 3s - loss: 0.0243 - val_loss: 0.0641 - 3s/epoch - 3s/step\n",
            "Epoch 38/100\n",
            "1/1 - 3s - loss: 0.0238 - val_loss: 0.0623 - 3s/epoch - 3s/step\n",
            "Epoch 39/100\n",
            "1/1 - 3s - loss: 0.0241 - val_loss: 0.0614 - 3s/epoch - 3s/step\n",
            "Epoch 40/100\n",
            "1/1 - 3s - loss: 0.0254 - val_loss: 0.0620 - 3s/epoch - 3s/step\n",
            "Epoch 41/100\n",
            "1/1 - 3s - loss: 0.0224 - val_loss: 0.0635 - 3s/epoch - 3s/step\n",
            "Epoch 42/100\n",
            "1/1 - 3s - loss: 0.0201 - val_loss: 0.0653 - 3s/epoch - 3s/step\n",
            "Epoch 43/100\n",
            "1/1 - 3s - loss: 0.0229 - val_loss: 0.0653 - 3s/epoch - 3s/step\n",
            "Epoch 44/100\n",
            "1/1 - 3s - loss: 0.0224 - val_loss: 0.0636 - 3s/epoch - 3s/step\n",
            "Epoch 45/100\n",
            "1/1 - 3s - loss: 0.0224 - val_loss: 0.0615 - 3s/epoch - 3s/step\n",
            "Epoch 46/100\n",
            "1/1 - 3s - loss: 0.0205 - val_loss: 0.0596 - 3s/epoch - 3s/step\n",
            "Epoch 47/100\n",
            "1/1 - 3s - loss: 0.0221 - val_loss: 0.0589 - 3s/epoch - 3s/step\n",
            "Epoch 48/100\n",
            "1/1 - 3s - loss: 0.0225 - val_loss: 0.0593 - 3s/epoch - 3s/step\n",
            "Epoch 49/100\n",
            "1/1 - 3s - loss: 0.0213 - val_loss: 0.0599 - 3s/epoch - 3s/step\n",
            "Epoch 50/100\n",
            "1/1 - 3s - loss: 0.0215 - val_loss: 0.0598 - 3s/epoch - 3s/step\n",
            "Epoch 51/100\n",
            "1/1 - 3s - loss: 0.0207 - val_loss: 0.0596 - 3s/epoch - 3s/step\n",
            "Epoch 52/100\n",
            "1/1 - 3s - loss: 0.0217 - val_loss: 0.0596 - 3s/epoch - 3s/step\n",
            "Epoch 53/100\n",
            "1/1 - 3s - loss: 0.0210 - val_loss: 0.0599 - 3s/epoch - 3s/step\n",
            "Epoch 54/100\n",
            "1/1 - 3s - loss: 0.0229 - val_loss: 0.0593 - 3s/epoch - 3s/step\n",
            "Epoch 55/100\n",
            "1/1 - 3s - loss: 0.0201 - val_loss: 0.0584 - 3s/epoch - 3s/step\n",
            "Epoch 56/100\n",
            "1/1 - 3s - loss: 0.0210 - val_loss: 0.0577 - 3s/epoch - 3s/step\n",
            "Epoch 57/100\n",
            "1/1 - 3s - loss: 0.0205 - val_loss: 0.0576 - 3s/epoch - 3s/step\n",
            "Epoch 58/100\n",
            "1/1 - 3s - loss: 0.0201 - val_loss: 0.0578 - 3s/epoch - 3s/step\n",
            "Epoch 59/100\n",
            "1/1 - 3s - loss: 0.0201 - val_loss: 0.0582 - 3s/epoch - 3s/step\n",
            "Epoch 60/100\n",
            "1/1 - 3s - loss: 0.0211 - val_loss: 0.0588 - 3s/epoch - 3s/step\n",
            "Epoch 61/100\n",
            "1/1 - 3s - loss: 0.0201 - val_loss: 0.0595 - 3s/epoch - 3s/step\n",
            "Epoch 62/100\n",
            "1/1 - 3s - loss: 0.0202 - val_loss: 0.0601 - 3s/epoch - 3s/step\n",
            "Epoch 63/100\n",
            "1/1 - 3s - loss: 0.0199 - val_loss: 0.0599 - 3s/epoch - 3s/step\n",
            "Epoch 64/100\n",
            "1/1 - 3s - loss: 0.0192 - val_loss: 0.0587 - 3s/epoch - 3s/step\n",
            "Epoch 65/100\n",
            "1/1 - 3s - loss: 0.0186 - val_loss: 0.0573 - 3s/epoch - 3s/step\n",
            "Epoch 66/100\n",
            "1/1 - 3s - loss: 0.0214 - val_loss: 0.0565 - 3s/epoch - 3s/step\n",
            "Epoch 67/100\n",
            "1/1 - 3s - loss: 0.0191 - val_loss: 0.0565 - 3s/epoch - 3s/step\n",
            "Epoch 68/100\n",
            "1/1 - 3s - loss: 0.0184 - val_loss: 0.0575 - 3s/epoch - 3s/step\n",
            "Epoch 69/100\n",
            "1/1 - 3s - loss: 0.0189 - val_loss: 0.0584 - 3s/epoch - 3s/step\n",
            "Epoch 70/100\n",
            "1/1 - 3s - loss: 0.0197 - val_loss: 0.0581 - 3s/epoch - 3s/step\n",
            "Epoch 71/100\n",
            "1/1 - 3s - loss: 0.0194 - val_loss: 0.0572 - 3s/epoch - 3s/step\n",
            "Epoch 72/100\n",
            "1/1 - 3s - loss: 0.0189 - val_loss: 0.0564 - 3s/epoch - 3s/step\n",
            "Epoch 73/100\n",
            "1/1 - 3s - loss: 0.0187 - val_loss: 0.0567 - 3s/epoch - 3s/step\n",
            "Epoch 74/100\n",
            "1/1 - 3s - loss: 0.0186 - val_loss: 0.0572 - 3s/epoch - 3s/step\n",
            "Epoch 75/100\n",
            "1/1 - 3s - loss: 0.0184 - val_loss: 0.0574 - 3s/epoch - 3s/step\n",
            "Epoch 76/100\n",
            "1/1 - 3s - loss: 0.0183 - val_loss: 0.0564 - 3s/epoch - 3s/step\n",
            "Epoch 77/100\n",
            "1/1 - 3s - loss: 0.0191 - val_loss: 0.0562 - 3s/epoch - 3s/step\n",
            "Epoch 78/100\n",
            "1/1 - 3s - loss: 0.0207 - val_loss: 0.0557 - 3s/epoch - 3s/step\n",
            "Epoch 79/100\n",
            "1/1 - 3s - loss: 0.0182 - val_loss: 0.0558 - 3s/epoch - 3s/step\n",
            "Epoch 80/100\n",
            "1/1 - 3s - loss: 0.0171 - val_loss: 0.0571 - 3s/epoch - 3s/step\n",
            "Epoch 81/100\n",
            "1/1 - 3s - loss: 0.0196 - val_loss: 0.0568 - 3s/epoch - 3s/step\n",
            "Epoch 82/100\n",
            "1/1 - 3s - loss: 0.0200 - val_loss: 0.0567 - 3s/epoch - 3s/step\n",
            "Epoch 83/100\n",
            "1/1 - 3s - loss: 0.0199 - val_loss: 0.0580 - 3s/epoch - 3s/step\n",
            "Epoch 84/100\n",
            "1/1 - 3s - loss: 0.0194 - val_loss: 0.0564 - 3s/epoch - 3s/step\n",
            "Epoch 85/100\n",
            "1/1 - 3s - loss: 0.0183 - val_loss: 0.0550 - 3s/epoch - 3s/step\n",
            "Epoch 86/100\n",
            "1/1 - 3s - loss: 0.0188 - val_loss: 0.0553 - 3s/epoch - 3s/step\n",
            "Epoch 87/100\n",
            "1/1 - 3s - loss: 0.0181 - val_loss: 0.0563 - 3s/epoch - 3s/step\n",
            "Epoch 88/100\n",
            "1/1 - 3s - loss: 0.0184 - val_loss: 0.0553 - 3s/epoch - 3s/step\n",
            "Epoch 89/100\n",
            "1/1 - 3s - loss: 0.0192 - val_loss: 0.0537 - 3s/epoch - 3s/step\n",
            "Epoch 90/100\n",
            "1/1 - 3s - loss: 0.0195 - val_loss: 0.0544 - 3s/epoch - 3s/step\n",
            "Epoch 91/100\n",
            "1/1 - 3s - loss: 0.0191 - val_loss: 0.0575 - 3s/epoch - 3s/step\n",
            "Epoch 92/100\n",
            "1/1 - 3s - loss: 0.0176 - val_loss: 0.0587 - 3s/epoch - 3s/step\n",
            "Epoch 93/100\n",
            "1/1 - 3s - loss: 0.0190 - val_loss: 0.0571 - 3s/epoch - 3s/step\n",
            "Epoch 94/100\n",
            "1/1 - 3s - loss: 0.0176 - val_loss: 0.0557 - 3s/epoch - 3s/step\n",
            "Epoch 95/100\n",
            "1/1 - 3s - loss: 0.0191 - val_loss: 0.0539 - 3s/epoch - 3s/step\n",
            "Epoch 96/100\n",
            "1/1 - 3s - loss: 0.0186 - val_loss: 0.0545 - 3s/epoch - 3s/step\n",
            "Epoch 97/100\n",
            "1/1 - 3s - loss: 0.0183 - val_loss: 0.0537 - 3s/epoch - 3s/step\n",
            "Epoch 98/100\n",
            "1/1 - 3s - loss: 0.0183 - val_loss: 0.0537 - 3s/epoch - 3s/step\n",
            "Epoch 99/100\n",
            "1/1 - 3s - loss: 0.0176 - val_loss: 0.0562 - 3s/epoch - 3s/step\n",
            "Epoch 100/100\n",
            "1/1 - 3s - loss: 0.0176 - val_loss: 0.0590 - 3s/epoch - 3s/step\n"
          ]
        }
      ]
    },
    {
      "cell_type": "code",
      "source": [
        "hist_df = pd.DataFrame(history.history)\n",
        "hist_df.head()"
      ],
      "metadata": {
        "id": "MPcnr0qkFiej",
        "colab": {
          "base_uri": "https://localhost:8080/",
          "height": 206
        },
        "outputId": "0103b9e1-e473-4bf8-a44f-5f84cb603140"
      },
      "execution_count": null,
      "outputs": [
        {
          "output_type": "execute_result",
          "data": {
            "text/plain": [
              "       loss  val_loss\n",
              "0  0.187786  0.219542\n",
              "1  0.100541  0.140440\n",
              "2  0.056317  0.079088\n",
              "3  0.048433  0.060496\n",
              "4  0.055417  0.057281"
            ],
            "text/html": [
              "\n",
              "  <div id=\"df-93728e83-0333-47c8-b144-88404d056609\">\n",
              "    <div class=\"colab-df-container\">\n",
              "      <div>\n",
              "<style scoped>\n",
              "    .dataframe tbody tr th:only-of-type {\n",
              "        vertical-align: middle;\n",
              "    }\n",
              "\n",
              "    .dataframe tbody tr th {\n",
              "        vertical-align: top;\n",
              "    }\n",
              "\n",
              "    .dataframe thead th {\n",
              "        text-align: right;\n",
              "    }\n",
              "</style>\n",
              "<table border=\"1\" class=\"dataframe\">\n",
              "  <thead>\n",
              "    <tr style=\"text-align: right;\">\n",
              "      <th></th>\n",
              "      <th>loss</th>\n",
              "      <th>val_loss</th>\n",
              "    </tr>\n",
              "  </thead>\n",
              "  <tbody>\n",
              "    <tr>\n",
              "      <th>0</th>\n",
              "      <td>0.187786</td>\n",
              "      <td>0.219542</td>\n",
              "    </tr>\n",
              "    <tr>\n",
              "      <th>1</th>\n",
              "      <td>0.100541</td>\n",
              "      <td>0.140440</td>\n",
              "    </tr>\n",
              "    <tr>\n",
              "      <th>2</th>\n",
              "      <td>0.056317</td>\n",
              "      <td>0.079088</td>\n",
              "    </tr>\n",
              "    <tr>\n",
              "      <th>3</th>\n",
              "      <td>0.048433</td>\n",
              "      <td>0.060496</td>\n",
              "    </tr>\n",
              "    <tr>\n",
              "      <th>4</th>\n",
              "      <td>0.055417</td>\n",
              "      <td>0.057281</td>\n",
              "    </tr>\n",
              "  </tbody>\n",
              "</table>\n",
              "</div>\n",
              "      <button class=\"colab-df-convert\" onclick=\"convertToInteractive('df-93728e83-0333-47c8-b144-88404d056609')\"\n",
              "              title=\"Convert this dataframe to an interactive table.\"\n",
              "              style=\"display:none;\">\n",
              "        \n",
              "  <svg xmlns=\"http://www.w3.org/2000/svg\" height=\"24px\"viewBox=\"0 0 24 24\"\n",
              "       width=\"24px\">\n",
              "    <path d=\"M0 0h24v24H0V0z\" fill=\"none\"/>\n",
              "    <path d=\"M18.56 5.44l.94 2.06.94-2.06 2.06-.94-2.06-.94-.94-2.06-.94 2.06-2.06.94zm-11 1L8.5 8.5l.94-2.06 2.06-.94-2.06-.94L8.5 2.5l-.94 2.06-2.06.94zm10 10l.94 2.06.94-2.06 2.06-.94-2.06-.94-.94-2.06-.94 2.06-2.06.94z\"/><path d=\"M17.41 7.96l-1.37-1.37c-.4-.4-.92-.59-1.43-.59-.52 0-1.04.2-1.43.59L10.3 9.45l-7.72 7.72c-.78.78-.78 2.05 0 2.83L4 21.41c.39.39.9.59 1.41.59.51 0 1.02-.2 1.41-.59l7.78-7.78 2.81-2.81c.8-.78.8-2.07 0-2.86zM5.41 20L4 18.59l7.72-7.72 1.47 1.35L5.41 20z\"/>\n",
              "  </svg>\n",
              "      </button>\n",
              "      \n",
              "  <style>\n",
              "    .colab-df-container {\n",
              "      display:flex;\n",
              "      flex-wrap:wrap;\n",
              "      gap: 12px;\n",
              "    }\n",
              "\n",
              "    .colab-df-convert {\n",
              "      background-color: #E8F0FE;\n",
              "      border: none;\n",
              "      border-radius: 50%;\n",
              "      cursor: pointer;\n",
              "      display: none;\n",
              "      fill: #1967D2;\n",
              "      height: 32px;\n",
              "      padding: 0 0 0 0;\n",
              "      width: 32px;\n",
              "    }\n",
              "\n",
              "    .colab-df-convert:hover {\n",
              "      background-color: #E2EBFA;\n",
              "      box-shadow: 0px 1px 2px rgba(60, 64, 67, 0.3), 0px 1px 3px 1px rgba(60, 64, 67, 0.15);\n",
              "      fill: #174EA6;\n",
              "    }\n",
              "\n",
              "    [theme=dark] .colab-df-convert {\n",
              "      background-color: #3B4455;\n",
              "      fill: #D2E3FC;\n",
              "    }\n",
              "\n",
              "    [theme=dark] .colab-df-convert:hover {\n",
              "      background-color: #434B5C;\n",
              "      box-shadow: 0px 1px 3px 1px rgba(0, 0, 0, 0.15);\n",
              "      filter: drop-shadow(0px 1px 2px rgba(0, 0, 0, 0.3));\n",
              "      fill: #FFFFFF;\n",
              "    }\n",
              "  </style>\n",
              "\n",
              "      <script>\n",
              "        const buttonEl =\n",
              "          document.querySelector('#df-93728e83-0333-47c8-b144-88404d056609 button.colab-df-convert');\n",
              "        buttonEl.style.display =\n",
              "          google.colab.kernel.accessAllowed ? 'block' : 'none';\n",
              "\n",
              "        async function convertToInteractive(key) {\n",
              "          const element = document.querySelector('#df-93728e83-0333-47c8-b144-88404d056609');\n",
              "          const dataTable =\n",
              "            await google.colab.kernel.invokeFunction('convertToInteractive',\n",
              "                                                     [key], {});\n",
              "          if (!dataTable) return;\n",
              "\n",
              "          const docLinkHtml = 'Like what you see? Visit the ' +\n",
              "            '<a target=\"_blank\" href=https://colab.research.google.com/notebooks/data_table.ipynb>data table notebook</a>'\n",
              "            + ' to learn more about interactive tables.';\n",
              "          element.innerHTML = '';\n",
              "          dataTable['output_type'] = 'display_data';\n",
              "          await google.colab.output.renderOutput(dataTable, element);\n",
              "          const docLink = document.createElement('div');\n",
              "          docLink.innerHTML = docLinkHtml;\n",
              "          element.appendChild(docLink);\n",
              "        }\n",
              "      </script>\n",
              "    </div>\n",
              "  </div>\n",
              "  "
            ]
          },
          "metadata": {},
          "execution_count": 33
        }
      ]
    },
    {
      "cell_type": "code",
      "source": [
        "fig = plt.figure(figsize=(14,6))\n",
        "plt.style.use('bmh')\n",
        "params_dict = dict(linestyle='solid', linewidth=0.25, marker='o', markersize=6)\n",
        "\n",
        "plt.subplot(121)\n",
        "plt.plot(hist_df.loss, label='Training loss', **params_dict)\n",
        "plt.plot(hist_df.val_loss, label='Validation loss', **params_dict)\n",
        "plt.title('Loss for ' + str(len(history.epoch)) + ' epochs')\n",
        "plt.xlabel('Epoch')\n",
        "plt.ylabel('Loss')\n",
        "plt.legend()\n"
      ],
      "metadata": {
        "id": "M0yLvzquG3bN",
        "colab": {
          "base_uri": "https://localhost:8080/",
          "height": 422
        },
        "outputId": "7e038452-6eb5-4ffe-fbbb-54fcf13d0a7d"
      },
      "execution_count": null,
      "outputs": [
        {
          "output_type": "execute_result",
          "data": {
            "text/plain": [
              "<matplotlib.legend.Legend at 0x7fa193a31b90>"
            ]
          },
          "metadata": {},
          "execution_count": 34
        },
        {
          "output_type": "display_data",
          "data": {
            "text/plain": [
              "<Figure size 1008x432 with 1 Axes>"
            ],
            "image/png": "[encoded data removed]"
          },
          "metadata": {
            "needs_background": "light"
          }
        }
      ]
    },
    {
      "cell_type": "code",
      "source": [
        "y_predict_model = model.predict(x_predict)\n",
        "\n",
        "print(\"\\ny_predict_true:\")\n",
        "print (y_predict_true.shape)\n",
        "print(\"y_predict_model: \")\n",
        "print (y_predict_model.shape)\n",
        "\n",
        "\n",
        "def plot(true, predicted, divider):\n",
        "\n",
        "    predict_plot = scaler.inverse_transform(predicted[0])\n",
        "    true_plot = scaler.inverse_transform(true[0])\n",
        "\n",
        "    predict_plot = predict_plot[:,0]\n",
        "    true_plot = true_plot[:,0]\n",
        "\n",
        "    plt.figure(figsize=(16,6))\n",
        "    plt.plot(true_plot, label='True',linewidth=5)\n",
        "    plt.plot(predict_plot,  label='Predict',color='y')\n",
        "\n",
        "    if divider > 0:\n",
        "        maxVal = max(true_plot.max(),predict_plot.max())\n",
        "        minVal = min(true_plot.min(),predict_plot.min())\n",
        "\n",
        "        plt.plot([divider,divider],[minVal,maxVal],label='train/test limit',color='k')\n",
        "\n",
        "    plt.legend()\n",
        "    plt.show()\n",
        "\n",
        "test_size = n_rows - train_size\n",
        "print(\"test length: \" + str(test_size))\n",
        "\n",
        "plot(y_predict_true,y_predict_model,train_size)\n"
      ],
      "metadata": {
        "id": "7UmkavXA-YXc",
        "colab": {
          "base_uri": "https://localhost:8080/",
          "height": 475
        },
        "outputId": "1c3ea975-9e86-43fd-cbdf-c144269314f7"
      },
      "execution_count": null,
      "outputs": [
        {
          "output_type": "stream",
          "name": "stdout",
          "text": [
            "\n",
            "y_predict_true:\n",
            "(1, 1401, 1)\n",
            "y_predict_model: \n",
            "(1, 1401, 1)\n",
            "test length: 282\n"
          ]
        },
        {
          "output_type": "display_data",
          "data": {
            "text/plain": [
              "<Figure size 1152x432 with 1 Axes>"
            ],
            "image/png": "[encoded data removed]"
          },
          "metadata": {
            "needs_background": "light"
          }
        }
      ]
    },
    {
      "cell_type": "markdown",
      "source": [
        "\n",
        "\n",
        "*   Para el modelo de predicción de un paso se tomo un perceptrón multicapa ya que se tiene un problema de series de tiempo univariadas y de un solo paso y mlp resulta ser util.\n",
        "Para el modelo de predicción multipaso se tomo una LSTM ya que estas están diseñadas para problemas de predicción de secuencia de objetos con dependencia estadística entre ellas.. Además la ventaja significativa de las redes neuronales es que son capaces de aprender y generalizar el conocimiento acumulado. \n",
        "*   Por la estructura de las redes neuronales recurrentes resulta buena idea hacer predicciones de series de tiempo.Y el perceptrón multicapa porque puede ser idoneo para problema de regresión.   \n",
        "*  Se puede decir que los modelos diseñados son buenos respecto al \"tradeoff\" sesgo-varianza ya que las prediccion de los datos de entrenamiento son tan buenas como las de los datos de test.\n",
        "* Haciendo cambio de los hiperparametros, aumentar el número de epocas, agregar una capa de dropout... en general realizar regularización.\n",
        "\n"
      ],
      "metadata": {
        "id": "QdF1Gc7wdR78"
      }
    },
    {
      "cell_type": "code",
      "source": [
        ""
      ],
      "metadata": {
        "id": "pJ2Rn6CJACcz"
      },
      "execution_count": null,
      "outputs": []
    },
    {
      "cell_type": "code",
      "source": [
        ""
      ],
      "metadata": {
        "id": "hDm1bvU_AIam"
      },
      "execution_count": null,
      "outputs": []
    },
    {
      "cell_type": "code",
      "source": [
        ""
      ],
      "metadata": {
        "id": "Kmg6u6HlAZqS",
        "colab": {
          "base_uri": "https://localhost:8080/"
        },
        "outputId": "943c022e-1a02-447a-c0e7-2f72077241e0"
      },
      "execution_count": null,
      "outputs": [
        {
          "output_type": "execute_result",
          "data": {
            "text/plain": [
              "0.10012492197250394"
            ]
          },
          "metadata": {},
          "execution_count": 66
        }
      ]
    },
    {
      "cell_type": "code",
      "source": [
        ""
      ],
      "metadata": {
        "id": "3nEVxPR8BZQi"
      },
      "execution_count": null,
      "outputs": []
    },
    {
      "cell_type": "code",
      "source": [
        ""
      ],
      "metadata": {
        "id": "9_6CnyMWED9n"
      },
      "execution_count": null,
      "outputs": []
    },
    {
      "cell_type": "code",
      "source": [
        ""
      ],
      "metadata": {
        "id": "3cVHiHIhFrNy"
      },
      "execution_count": null,
      "outputs": []
    },
    {
      "cell_type": "code",
      "source": [
        ""
      ],
      "metadata": {
        "id": "sGZvv0YDHtlk"
      },
      "execution_count": null,
      "outputs": []
    },
    {
      "cell_type": "code",
      "source": [
        ""
      ],
      "metadata": {
        "id": "vAMcv_YMMdDx"
      },
      "execution_count": null,
      "outputs": []
    },
    {
      "cell_type": "markdown",
      "source": [
        "### Multistep"
      ],
      "metadata": {
        "id": "cI4hd-Yab-3g"
      }
    },
    {
      "cell_type": "code",
      "source": [
        ""
      ],
      "metadata": {
        "id": "HOZbzaHINovs"
      },
      "execution_count": null,
      "outputs": []
    },
    {
      "cell_type": "code",
      "source": [
        ""
      ],
      "metadata": {
        "id": "Uw8TrzC8i9WP"
      },
      "execution_count": null,
      "outputs": []
    }
  ]
}