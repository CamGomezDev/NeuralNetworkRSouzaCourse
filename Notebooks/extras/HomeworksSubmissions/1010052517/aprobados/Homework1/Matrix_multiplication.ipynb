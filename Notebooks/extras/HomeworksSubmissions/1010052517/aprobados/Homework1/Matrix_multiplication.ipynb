{
 "cells": [
  {
   "cell_type": "markdown",
   "id": "efcd9ca4",
   "metadata": {},
   "source": [
    "## Homework 1\n",
    "\n",
    "- Write on a piece of paper an algorithm that multiplies two matrices.\n",
    "\n",
    "- Implement your code using Python."
   ]
  },
  {
   "cell_type": "code",
   "execution_count": 1,
   "id": "5b451570",
   "metadata": {},
   "outputs": [
    {
     "name": "stdout",
     "output_type": "stream",
     "text": [
      "[[1.43872973 2.40885669 1.25236109]\n",
      " [1.13953359 1.47445019 1.12836444]\n",
      " [0.91732539 1.41636587 1.06020018]\n",
      " [1.95388201 2.72197717 1.67680468]\n",
      " [0.77539634 1.23473318 0.56441482]]\n",
      "[[1.43872973 2.40885669 1.25236109]\n",
      " [1.13953359 1.47445019 1.12836444]\n",
      " [0.91732539 1.41636587 1.06020018]\n",
      " [1.95388201 2.72197717 1.67680468]\n",
      " [0.77539634 1.23473318 0.56441482]]\n"
     ]
    }
   ],
   "source": [
    "import numpy as np\n",
    "# We use numpy for generating random matrices, but it is not necessary\n",
    "# Lists can be used instead.\n",
    "\n",
    "# This script multiplies two matrices using loops.\n",
    "\n",
    "# Generate random Matrices. The dimensions can be changed or\n",
    "# you can enter the matrices manually\n",
    "A = np.random.rand(5,7)\n",
    "B = np.random.rand(7,3)\n",
    "\n",
    "# Define the matrix for the results\n",
    "C = np.zeros((len(A),len(B[0])))\n",
    "\n",
    "# Iterate over rows\n",
    "for i in range(len(A)):\n",
    "    # Iterate over columns\n",
    "    for j in range(len(B[0])):\n",
    "        val = 0\n",
    "        # Iterate on chosen row and column\n",
    "        for k in range(len(A[i])):\n",
    "            val += A[i,k]*B[k,j]\n",
    "        C[i,j] = val\n",
    "\n",
    "print(C)\n",
    "print(A@B)"
   ]
  },
  {
   "cell_type": "code",
   "execution_count": null,
   "id": "ce7b4d00",
   "metadata": {},
   "outputs": [],
   "source": []
  }
 ],
 "metadata": {
  "kernelspec": {
   "display_name": "Python 3",
   "language": "python",
   "name": "python3"
  },
  "language_info": {
   "codemirror_mode": {
    "name": "ipython",
    "version": 3
   },
   "file_extension": ".py",
   "mimetype": "text/x-python",
   "name": "python",
   "nbconvert_exporter": "python",
   "pygments_lexer": "ipython3",
   "version": "3.7.2"
  }
 },
 "nbformat": 4,
 "nbformat_minor": 5
}
