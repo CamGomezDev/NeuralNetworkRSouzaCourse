{
 "cells": [
  {
   "cell_type": "markdown",
   "id": "efcd9ca4",
   "metadata": {},
   "source": [
    "## Homework 1\n",
    "\n",
    "- Write on a piece of paper an algorithm that multiplies two matrices.\n",
    "\n",
    "- Implement your code using Python."
   ]
  },
  {
   "cell_type": "code",
   "execution_count": 23,
   "id": "5b451570",
   "metadata": {},
   "outputs": [
    {
     "name": "stdout",
     "output_type": "stream",
     "text": [
      "This script multiplies two matrices using loops.\n",
      "[[1.90338911 1.76784091 1.76609576]\n",
      " [2.35782192 2.72173262 1.86105162]\n",
      " [2.97168019 3.39295398 2.54883051]\n",
      " [2.54673393 2.96388873 2.1809978 ]\n",
      " [2.58953443 2.62190967 2.07872195]]\n",
      "[[1.90338911 1.76784091 1.76609576]\n",
      " [2.35782192 2.72173262 1.86105162]\n",
      " [2.97168019 3.39295398 2.54883051]\n",
      " [2.54673393 2.96388873 2.1809978 ]\n",
      " [2.58953443 2.62190967 2.07872195]]\n"
     ]
    }
   ],
   "source": [
    "import numpy as np\n",
    "# We use numpy for generating random matrices, but it is not necessary\n",
    "# Lists can be used instead.\n",
    "\n",
    "# This script multiplies two matrices using loops.\n",
    "\n",
    "# Generate random Matrices. The dimensions can be changed or\n",
    "# you can enter the matrices manually\n",
    "A = np.random.rand(5,7)\n",
    "B = np.random.rand(7,3)\n",
    "\n",
    "# Define the matrix for the results\n",
    "C = np.zeros((len(A),len(B[0])))\n",
    "\n",
    "# Iterate over rows\n",
    "for i in range(len(A)):\n",
    "    # Iterate over columns\n",
    "    for j in range(len(B[0])):\n",
    "        val = 0\n",
    "        # Iterate on chosen row and column\n",
    "        for k in range(len(A[i])):\n",
    "            val += A[i,k]*B[k,j]\n",
    "        C[i,j] = val\n",
    "\n",
    "print(C)\n",
    "print(A@B)"
   ]
  },
  {
   "cell_type": "code",
   "execution_count": null,
   "id": "ce7b4d00",
   "metadata": {},
   "outputs": [],
   "source": []
  }
 ],
 "metadata": {
  "kernelspec": {
   "display_name": "Python 3",
   "language": "python",
   "name": "python3"
  },
  "language_info": {
   "codemirror_mode": {
    "name": "ipython",
    "version": 3
   },
   "file_extension": ".py",
   "mimetype": "text/x-python",
   "name": "python",
   "nbconvert_exporter": "python",
   "pygments_lexer": "ipython3",
   "version": "3.8.8"
  }
 },
 "nbformat": 4,
 "nbformat_minor": 5
}
