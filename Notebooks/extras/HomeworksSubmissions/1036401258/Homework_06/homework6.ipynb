{
 "cells": [
  {
   "cell_type": "markdown",
   "id": "0bf4ccaf",
   "metadata": {},
   "source": [
    "# Homework 6\n",
    "### MODELADO DE DATOS CON REDES NEURONALES \n",
    "*Professor:* Michal Hemmerling \\\n",
    "*e-mail:* michal.hemmerling@udea.edu.co \n",
    "\n",
    "*Student:* Camilo José Torres Castaño \\\n",
    "*e-mail:* cjose.torres@udea.edu.co \\\n",
    "*C.c.* 1036401258\n"
   ]
  },
  {
   "cell_type": "code",
   "execution_count": 1,
   "id": "ff7c6f9a",
   "metadata": {},
   "outputs": [
    {
     "name": "stderr",
     "output_type": "stream",
     "text": [
      "2022-02-24 18:44:26.846775: W tensorflow/stream_executor/platform/default/dso_loader.cc:64] Could not load dynamic library 'libcudart.so.11.0'; dlerror: libcudart.so.11.0: cannot open shared object file: No such file or directory; LD_LIBRARY_PATH: /home/user/Products/root/lib\n",
      "2022-02-24 18:44:26.846801: I tensorflow/stream_executor/cuda/cudart_stub.cc:29] Ignore above cudart dlerror if you do not have a GPU set up on your machine.\n"
     ]
    }
   ],
   "source": [
    "import pandas as pd\n",
    "import numpy as np\n",
    "import matplotlib.pyplot as plts\n",
    "import matplotlib.image as mpimg\n",
    "import matplotlib.pyplot as plt\n",
    "import tensorflow as tf"
   ]
  },
  {
   "cell_type": "code",
   "execution_count": 2,
   "id": "13a27c7e",
   "metadata": {},
   "outputs": [
    {
     "name": "stdout",
     "output_type": "stream",
     "text": [
      "homework6.ipynb  mnist_test.csv\r\n"
     ]
    }
   ],
   "source": [
    "!ls"
   ]
  },
  {
   "cell_type": "code",
   "execution_count": 3,
   "id": "8e5709ca",
   "metadata": {},
   "outputs": [],
   "source": [
    "# Upload my data set\n",
    "dataset = pd.read_csv('mnist_test.csv', sep = ',')\n",
    "dataset = dataset.to_numpy()"
   ]
  },
  {
   "cell_type": "code",
   "execution_count": 33,
   "id": "1a33b70d",
   "metadata": {},
   "outputs": [
    {
     "data": {
      "text/plain": [
       "array([7, 2, 1, ..., 4, 5, 6])"
      ]
     },
     "execution_count": 33,
     "metadata": {},
     "output_type": "execute_result"
    }
   ],
   "source": [
    "# Divide my data into X data and y data\n",
    "X_data = dataset[:,1:]\n",
    "y_data = dataset[:,0]\n",
    "y_data"
   ]
  },
  {
   "cell_type": "markdown",
   "id": "68c5b02d",
   "metadata": {},
   "source": [
    "### Scale the data with the sklearn.preprocessing.StandardScaler"
   ]
  },
  {
   "cell_type": "code",
   "execution_count": 5,
   "id": "7b0a9eae",
   "metadata": {},
   "outputs": [],
   "source": [
    "from sklearn.preprocessing import StandardScaler\n",
    "\n",
    "scaler = StandardScaler() # Scale\n",
    "X_data = scaler.fit_transform(X_data) "
   ]
  },
  {
   "cell_type": "code",
   "execution_count": 6,
   "id": "241b83b9",
   "metadata": {},
   "outputs": [],
   "source": [
    "# Split my data into test and train samples\n",
    "from sklearn.model_selection import train_test_split\n",
    "(X_train, X_test, y_train, y_test) = train_test_split(X_data, y_data, test_size=0.1)"
   ]
  },
  {
   "cell_type": "code",
   "execution_count": 7,
   "id": "6c88b90c",
   "metadata": {},
   "outputs": [
    {
     "name": "stdout",
     "output_type": "stream",
     "text": [
      "train data shape:  (9000, 784)\n",
      "test data shape:   (1000, 784)\n"
     ]
    }
   ],
   "source": [
    "print(\"train data shape: \", X_train.shape)\n",
    "print(\"test data shape:  \", X_test.shape)"
   ]
  },
  {
   "cell_type": "code",
   "execution_count": 8,
   "id": "789a8e1f",
   "metadata": {},
   "outputs": [
    {
     "name": "stdout",
     "output_type": "stream",
     "text": [
      "Shape of a single sample:  (784,)\n"
     ]
    }
   ],
   "source": [
    "# input_shape \n",
    "\n",
    "print(\"Shape of a single sample: \", X_train[0].shape)"
   ]
  },
  {
   "cell_type": "code",
   "execution_count": 9,
   "id": "5f8f8090",
   "metadata": {},
   "outputs": [],
   "source": [
    "# Import a sequential model\n",
    "from tensorflow.keras.models import Sequential\n",
    "\n",
    "# Import the models to solve the problems\n",
    "from tensorflow.keras.layers import InputLayer, Dense, Flatten, Dropout\n",
    "\n",
    "# Import regularizers\n",
    "from tensorflow.keras import regularizers"
   ]
  },
  {
   "cell_type": "code",
   "execution_count": 10,
   "id": "eb50fa36",
   "metadata": {},
   "outputs": [],
   "source": [
    "# Setting a fixed seed\n",
    "tf.random.set_seed(1234)"
   ]
  },
  {
   "cell_type": "code",
   "execution_count": 11,
   "id": "ccb2b86b",
   "metadata": {},
   "outputs": [],
   "source": [
    "# Create a function with the Sequential model\n",
    "def get_model(input_shape, units=100, activation_hidden_layer='relu', activation_output_layer='softmax', drate=0.3, wd=0.01):\n",
    "    model = Sequential([\n",
    "                        InputLayer(input_shape = input_shape),\n",
    "                        #Flatten(),\n",
    "                        Dense(units=units, activation = activation_hidden_layer, kernel_regularizer = regularizers.l2(wd), name='layer_1'),\n",
    "                        Dropout(drate),\n",
    "                        Dense(units=units, activation = activation_hidden_layer, kernel_regularizer = regularizers.l2(wd), name='layer_2'),\n",
    "                        Dropout(drate),\n",
    "                        Dense(units=units, activation = activation_hidden_layer, kernel_regularizer = regularizers.l2(wd), name='layer_3'),\n",
    "                        Dropout(drate),\n",
    "                        Dense(units=units, activation = activation_hidden_layer, kernel_regularizer = regularizers.l2(wd), name='layer_4'),\n",
    "                        \n",
    "                        Dense(units=10, activation = activation_output_layer, name='output_layer') # The units in the output layer must be the number of posibilities they_data can take into account\n",
    "                        ])\n",
    "    return model"
   ]
  },
  {
   "cell_type": "code",
   "execution_count": 12,
   "id": "3b0b3482",
   "metadata": {},
   "outputs": [
    {
     "name": "stderr",
     "output_type": "stream",
     "text": [
      "2022-02-24 18:44:29.685508: W tensorflow/stream_executor/platform/default/dso_loader.cc:64] Could not load dynamic library 'libcuda.so.1'; dlerror: libcuda.so.1: cannot open shared object file: No such file or directory; LD_LIBRARY_PATH: /home/user/Products/root/lib\n",
      "2022-02-24 18:44:29.685539: W tensorflow/stream_executor/cuda/cuda_driver.cc:269] failed call to cuInit: UNKNOWN ERROR (303)\n",
      "2022-02-24 18:44:29.685561: I tensorflow/stream_executor/cuda/cuda_diagnostics.cc:156] kernel driver does not appear to be running on this host (user-Lenovo-ideapad-330S-14IKB): /proc/driver/nvidia/version does not exist\n",
      "2022-02-24 18:44:29.685844: I tensorflow/core/platform/cpu_feature_guard.cc:151] This TensorFlow binary is optimized with oneAPI Deep Neural Network Library (oneDNN) to use the following CPU instructions in performance-critical operations:  AVX2 FMA\n",
      "To enable them in other operations, rebuild TensorFlow with the appropriate compiler flags.\n"
     ]
    }
   ],
   "source": [
    "# Intance a Sequential model\n",
    "model = get_model(X_train[0].shape, 100, 'relu','softmax',0.3,0.01)"
   ]
  },
  {
   "cell_type": "markdown",
   "id": "18d37de0",
   "metadata": {},
   "source": [
    "## Summary"
   ]
  },
  {
   "cell_type": "code",
   "execution_count": 13,
   "id": "9375b24f",
   "metadata": {},
   "outputs": [
    {
     "name": "stdout",
     "output_type": "stream",
     "text": [
      "Model: \"sequential\"\n",
      "_________________________________________________________________\n",
      " Layer (type)                Output Shape              Param #   \n",
      "=================================================================\n",
      " layer_1 (Dense)             (None, 100)               78500     \n",
      "                                                                 \n",
      " dropout (Dropout)           (None, 100)               0         \n",
      "                                                                 \n",
      " layer_2 (Dense)             (None, 100)               10100     \n",
      "                                                                 \n",
      " dropout_1 (Dropout)         (None, 100)               0         \n",
      "                                                                 \n",
      " layer_3 (Dense)             (None, 100)               10100     \n",
      "                                                                 \n",
      " dropout_2 (Dropout)         (None, 100)               0         \n",
      "                                                                 \n",
      " layer_4 (Dense)             (None, 100)               10100     \n",
      "                                                                 \n",
      " output_layer (Dense)        (None, 10)                1010      \n",
      "                                                                 \n",
      "=================================================================\n",
      "Total params: 109,810\n",
      "Trainable params: 109,810\n",
      "Non-trainable params: 0\n",
      "_________________________________________________________________\n"
     ]
    }
   ],
   "source": [
    "# Summary\n",
    "model.summary()"
   ]
  },
  {
   "cell_type": "markdown",
   "id": "f67b87ea",
   "metadata": {},
   "source": [
    "## Compile the model"
   ]
  },
  {
   "cell_type": "code",
   "execution_count": 14,
   "id": "ff86ed47",
   "metadata": {},
   "outputs": [],
   "source": [
    "def compile_model(model, optimizer):\n",
    "    model.compile(optimizer=optimizer,\n",
    "                  loss='sparse_categorical_crossentropy', # For clasification problem with digits, not with one-hot encoding\n",
    "                  metrics=['accuracy']\n",
    "                 )"
   ]
  },
  {
   "cell_type": "code",
   "execution_count": 15,
   "id": "c96a9c57",
   "metadata": {},
   "outputs": [],
   "source": [
    "compile_model(model,'adam')"
   ]
  },
  {
   "cell_type": "markdown",
   "id": "a053eca2",
   "metadata": {},
   "source": [
    "## Fit the model"
   ]
  },
  {
   "cell_type": "code",
   "execution_count": 16,
   "id": "4a623f86",
   "metadata": {},
   "outputs": [
    {
     "name": "stdout",
     "output_type": "stream",
     "text": [
      "Epoch 1/20\n",
      "240/240 [==============================] - 1s 4ms/step - loss: 3.6890 - accuracy: 0.6753 - val_loss: 2.0194 - val_accuracy: 0.8889\n",
      "Epoch 2/20\n",
      "240/240 [==============================] - 1s 3ms/step - loss: 1.6595 - accuracy: 0.8685 - val_loss: 1.2053 - val_accuracy: 0.8985\n",
      "Epoch 3/20\n",
      "240/240 [==============================] - 1s 3ms/step - loss: 1.1413 - accuracy: 0.8833 - val_loss: 0.9319 - val_accuracy: 0.9067\n",
      "Epoch 4/20\n",
      "240/240 [==============================] - 1s 3ms/step - loss: 0.9116 - accuracy: 0.8949 - val_loss: 0.8190 - val_accuracy: 0.9030\n",
      "Epoch 5/20\n",
      "240/240 [==============================] - 1s 3ms/step - loss: 0.8128 - accuracy: 0.9018 - val_loss: 0.7368 - val_accuracy: 0.9230\n",
      "Epoch 6/20\n",
      "240/240 [==============================] - 1s 3ms/step - loss: 0.7533 - accuracy: 0.9085 - val_loss: 0.7315 - val_accuracy: 0.9193\n",
      "Epoch 7/20\n",
      "240/240 [==============================] - 1s 3ms/step - loss: 0.7413 - accuracy: 0.9030 - val_loss: 0.7092 - val_accuracy: 0.9163\n",
      "Epoch 8/20\n",
      "240/240 [==============================] - 1s 3ms/step - loss: 0.7299 - accuracy: 0.9092 - val_loss: 0.6705 - val_accuracy: 0.9267\n",
      "Epoch 9/20\n",
      "240/240 [==============================] - 1s 3ms/step - loss: 0.7261 - accuracy: 0.9059 - val_loss: 0.6800 - val_accuracy: 0.9156\n",
      "Epoch 10/20\n",
      "240/240 [==============================] - 1s 3ms/step - loss: 0.6925 - accuracy: 0.9159 - val_loss: 0.6691 - val_accuracy: 0.9207\n",
      "Epoch 11/20\n",
      "240/240 [==============================] - 1s 3ms/step - loss: 0.6874 - accuracy: 0.9178 - val_loss: 0.6567 - val_accuracy: 0.9237\n",
      "Epoch 12/20\n",
      "240/240 [==============================] - 1s 3ms/step - loss: 0.6753 - accuracy: 0.9159 - val_loss: 0.6551 - val_accuracy: 0.9170\n",
      "Epoch 13/20\n",
      "240/240 [==============================] - 1s 3ms/step - loss: 0.6642 - accuracy: 0.9166 - val_loss: 0.6761 - val_accuracy: 0.9193\n",
      "Epoch 14/20\n",
      "240/240 [==============================] - 1s 3ms/step - loss: 0.6719 - accuracy: 0.9139 - val_loss: 0.6625 - val_accuracy: 0.9222\n",
      "Epoch 15/20\n",
      "240/240 [==============================] - 1s 3ms/step - loss: 0.6538 - accuracy: 0.9153 - val_loss: 0.6709 - val_accuracy: 0.9207\n",
      "Epoch 16/20\n",
      "240/240 [==============================] - 1s 3ms/step - loss: 0.6814 - accuracy: 0.9159 - val_loss: 0.6580 - val_accuracy: 0.9156\n",
      "Epoch 17/20\n",
      "240/240 [==============================] - 1s 3ms/step - loss: 0.6764 - accuracy: 0.9150 - val_loss: 0.6547 - val_accuracy: 0.9252\n",
      "Epoch 18/20\n",
      "240/240 [==============================] - 1s 3ms/step - loss: 0.6564 - accuracy: 0.9217 - val_loss: 0.6120 - val_accuracy: 0.9311\n",
      "Epoch 19/20\n",
      "240/240 [==============================] - 1s 3ms/step - loss: 0.6355 - accuracy: 0.9263 - val_loss: 0.6149 - val_accuracy: 0.9237\n",
      "Epoch 20/20\n",
      "240/240 [==============================] - 1s 3ms/step - loss: 0.6248 - accuracy: 0.9246 - val_loss: 0.6210 - val_accuracy: 0.9319\n"
     ]
    }
   ],
   "source": [
    "epochs = 20\n",
    "myhistory = model.fit(X_train, y_train, epochs=epochs, batch_size = 32, validation_split=0.15)"
   ]
  },
  {
   "cell_type": "code",
   "execution_count": 17,
   "id": "fabec0c5",
   "metadata": {},
   "outputs": [
    {
     "data": {
      "text/plain": [
       "dict_keys(['loss', 'accuracy', 'val_loss', 'val_accuracy'])"
      ]
     },
     "execution_count": 17,
     "metadata": {},
     "output_type": "execute_result"
    }
   ],
   "source": [
    "myhistory.history.keys()"
   ]
  },
  {
   "cell_type": "code",
   "execution_count": 18,
   "id": "74561595",
   "metadata": {},
   "outputs": [
    {
     "data": {
      "image/png": "[encoded data removed]",
      "text/plain": [
       "<Figure size 432x288 with 1 Axes>"
      ]
     },
     "metadata": {
      "needs_background": "light"
     },
     "output_type": "display_data"
    }
   ],
   "source": [
    "xvals = range(epochs)\n",
    "\n",
    "fig, ax = plt.subplots(1,1)\n",
    "ax.plot(xvals, myhistory.history['val_accuracy'], '-o', label='test set accuracy')\n",
    "ax.plot(xvals, myhistory.history['accuracy'], '-o', label='train set accuracy')\n",
    "ax.legend()\n",
    "plt.show()\n",
    "\n"
   ]
  },
  {
   "cell_type": "code",
   "execution_count": 19,
   "id": "f6fe67e8",
   "metadata": {},
   "outputs": [
    {
     "data": {
      "image/png": "[encoded data removed]",
      "text/plain": [
       "<Figure size 432x288 with 1 Axes>"
      ]
     },
     "metadata": {
      "needs_background": "light"
     },
     "output_type": "display_data"
    }
   ],
   "source": [
    "fig, ax = plt.subplots(1,1)\n",
    "\n",
    "ax.plot(xvals, myhistory.history['val_loss'], '-o', label='test set loss')\n",
    "ax.plot(xvals, myhistory.history['loss'], '-o', label='train set loss')\n",
    "ax.legend()\n",
    "plt.show()\n",
    "\n",
    "\n"
   ]
  },
  {
   "cell_type": "markdown",
   "id": "e51cdd6c",
   "metadata": {},
   "source": [
    "## Evaluate the model"
   ]
  },
  {
   "cell_type": "code",
   "execution_count": 20,
   "id": "edb1caa6",
   "metadata": {},
   "outputs": [
    {
     "name": "stdout",
     "output_type": "stream",
     "text": [
      "32/32 [==============================] - 0s 2ms/step - loss: 0.5751 - accuracy: 0.9420\n"
     ]
    }
   ],
   "source": [
    "loss, accuracy = model.evaluate(X_test, y_test)"
   ]
  },
  {
   "cell_type": "code",
   "execution_count": 30,
   "id": "419ff709",
   "metadata": {},
   "outputs": [
    {
     "name": "stdout",
     "output_type": "stream",
     "text": [
      "Model accuracy =  0.9419999718666077\n"
     ]
    }
   ],
   "source": [
    "print(\"Model accuracy = \", accuracy)"
   ]
  },
  {
   "cell_type": "markdown",
   "id": "deb89484",
   "metadata": {},
   "source": [
    "## Compare with untrained model"
   ]
  },
  {
   "cell_type": "code",
   "execution_count": 22,
   "id": "b6fa256f",
   "metadata": {},
   "outputs": [
    {
     "name": "stdout",
     "output_type": "stream",
     "text": [
      "282/282 [==============================] - 1s 2ms/step - loss: 7.1464 - accuracy: 0.0861\n"
     ]
    }
   ],
   "source": [
    "untrained_model = get_model(X_train[0].shape)\n",
    "compile_model(untrained_model,'adam')\n",
    "\n",
    "loss_untrained, accuracy_untrained = untrained_model.evaluate(X_train, y_train)"
   ]
  },
  {
   "cell_type": "code",
   "execution_count": 23,
   "id": "7924a2e1",
   "metadata": {},
   "outputs": [
    {
     "name": "stdout",
     "output_type": "stream",
     "text": [
      "0.08611111342906952\n"
     ]
    }
   ],
   "source": [
    "print(accuracy_untrained)"
   ]
  },
  {
   "cell_type": "markdown",
   "id": "7b437f4b",
   "metadata": {},
   "source": [
    "## Predict"
   ]
  },
  {
   "cell_type": "code",
   "execution_count": 24,
   "id": "9f0c173e",
   "metadata": {},
   "outputs": [
    {
     "data": {
      "text/plain": [
       "(9000, 784)"
      ]
     },
     "execution_count": 24,
     "metadata": {},
     "output_type": "execute_result"
    }
   ],
   "source": [
    "# We need the same dimension of X_train to predict a sample\n",
    "X_train.shape"
   ]
  },
  {
   "cell_type": "code",
   "execution_count": 25,
   "id": "b2305f2c",
   "metadata": {},
   "outputs": [
    {
     "name": "stdout",
     "output_type": "stream",
     "text": [
      "(1, 784)\n"
     ]
    }
   ],
   "source": [
    "# Same dimension but different number of samples\n",
    "print(X_test[0:1].shape)"
   ]
  },
  {
   "cell_type": "code",
   "execution_count": 29,
   "id": "ee5b8380",
   "metadata": {},
   "outputs": [
    {
     "data": {
      "text/plain": [
       "array([[2.7563428e-03, 6.6748582e-04, 4.1332960e-02, 8.8073602e-03,\n",
       "        3.1331247e-03, 1.1123316e-03, 6.4847548e-04, 2.8092891e-03,\n",
       "        9.1495025e-01, 2.3782350e-02]], dtype=float32)"
      ]
     },
     "execution_count": 29,
     "metadata": {},
     "output_type": "execute_result"
    }
   ],
   "source": [
    "pred = model.predict(X_test[0:1,:])\n",
    "pred"
   ]
  }
 ],
 "metadata": {
  "kernelspec": {
   "display_name": "Python 3 (ipykernel)",
   "language": "python",
   "name": "python3"
  },
  "language_info": {
   "codemirror_mode": {
    "name": "ipython",
    "version": 3
   },
   "file_extension": ".py",
   "mimetype": "text/x-python",
   "name": "python",
   "nbconvert_exporter": "python",
   "pygments_lexer": "ipython3",
   "version": "3.8.10"
  }
 },
 "nbformat": 4,
 "nbformat_minor": 5
}
