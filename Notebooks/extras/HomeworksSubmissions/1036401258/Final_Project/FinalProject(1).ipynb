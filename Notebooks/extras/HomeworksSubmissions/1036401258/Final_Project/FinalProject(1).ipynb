{
  "cells": [
    {
      "cell_type": "markdown",
      "id": "686b1acc",
      "metadata": {
        "id": "686b1acc"
      },
      "source": [
        "# Final Project\n",
        "### MODELADO DE DATOS CON REDES NEURONALES \n",
        "*Professor:* Michal Hemmerling \\\n",
        "*e-mail:* michal.hemmerling@udea.edu.co \n",
        "\n",
        "*Student:* Camilo José Torres Castaño \\\n",
        "*e-mail:* cjose.torres@udea.edu.co \\\n",
        "*C.c.* 1036401258"
      ]
    },
    {
      "cell_type": "code",
      "execution_count": null,
      "id": "4bfb2f0c",
      "metadata": {
        "id": "4bfb2f0c"
      },
      "outputs": [],
      "source": [
        "import pandas as pd\n",
        "import numpy as np\n",
        "import matplotlib.pyplot as plts\n",
        "import matplotlib.image as mpimg\n",
        "import matplotlib.pyplot as plt\n",
        "import tensorflow as tf\n",
        "import cv2 # For the circles"
      ]
    },
    {
      "cell_type": "code",
      "execution_count": null,
      "id": "389ba426",
      "metadata": {
        "colab": {
          "base_uri": "https://localhost:8080/",
          "height": 285
        },
        "id": "389ba426",
        "outputId": "bf6515bc-1f1f-45e1-a0c0-ac1cb297e431"
      },
      "outputs": [
        {
          "output_type": "execute_result",
          "data": {
            "text/plain": [
              "(100,)"
            ]
          },
          "metadata": {},
          "execution_count": 27
        },
        {
          "output_type": "display_data",
          "data": {
            "text/plain": [
              "<Figure size 432x288 with 1 Axes>"
            ],
            "image/png": "[encoded data removed]"
          },
          "metadata": {
            "needs_background": "light"
          }
        }
      ],
      "source": [
        "fig,ax=plt.subplots(1,1)\n",
        "\n",
        "img = np.zeros([100, 100])\n",
        "color = (1, 0, 0)\n",
        "cv2.circle(img, (50,50), 30, color,2)\n",
        "\n",
        "ax.imshow(img[:,:])\n",
        "\n",
        "img[0].shape"
      ]
    },
    {
      "cell_type": "code",
      "execution_count": null,
      "id": "df441a44",
      "metadata": {
        "colab": {
          "base_uri": "https://localhost:8080/"
        },
        "id": "df441a44",
        "outputId": "ab7fb287-b0cb-4b71-e366-6aa7dbebb81a"
      },
      "outputs": [
        {
          "output_type": "stream",
          "name": "stdout",
          "text": [
            "(10000, 150, 150)\n",
            "(10000,)\n"
          ]
        }
      ],
      "source": [
        "def draw_circle(x,y,r,c,th):\n",
        "    cv2.circle(img, center = (x,y), radius = r, color = c, thickness=th)\n",
        "\n",
        "all_circle=[]\n",
        "all_area=[]\n",
        "\n",
        "ncircles=10000\n",
        "for i in range(ncircles):   \n",
        "    img = np.zeros([150, 150])\n",
        "    x,y=np.random.randint(10,90,2)\n",
        "    r=np.random.randint(10,30)\n",
        "    c= (1, 0, 0)\n",
        "    th=2    \n",
        "    draw_circle(x,y,r,c,th) \n",
        "    \n",
        "    #img_flat=img.reshape(1,img.size)\n",
        "    all_circle.append(img)\n",
        "    all_area.append(round(np.pi*r**2, 0))\n",
        "    \n",
        "all_circle_array=np.array(all_circle)    \n",
        "all_area_array=np.array(all_area)\n",
        "\n",
        "print(all_circle_array.shape)\n",
        "print(all_area_array.shape)"
      ]
    },
    {
      "cell_type": "code",
      "execution_count": null,
      "id": "9be3b4d9",
      "metadata": {
        "colab": {
          "base_uri": "https://localhost:8080/",
          "height": 298
        },
        "id": "9be3b4d9",
        "outputId": "484d14d4-6514-48df-db9c-1d601e2abd57"
      },
      "outputs": [
        {
          "output_type": "execute_result",
          "data": {
            "text/plain": [
              "Text(0.5, 1.0, '908.0')"
            ]
          },
          "metadata": {},
          "execution_count": 32
        },
        {
          "output_type": "display_data",
          "data": {
            "text/plain": [
              "<Figure size 432x288 with 1 Axes>"
            ],
            "image/png": "[encoded data removed]"
          },
          "metadata": {
            "needs_background": "light"
          }
        }
      ],
      "source": [
        "fig,ax=plt.subplots(1,1)\n",
        "idx=np.random.randint(0,ncircles)\n",
        "ax.imshow(all_circle_array[idx])\n",
        "ax.set_title(str(all_area_array[idx]))"
      ]
    },
    {
      "cell_type": "code",
      "execution_count": null,
      "id": "d4ad1184",
      "metadata": {
        "colab": {
          "base_uri": "https://localhost:8080/"
        },
        "id": "d4ad1184",
        "outputId": "12e32b2e-6e7e-41b7-fa0a-b9c08b697962"
      },
      "outputs": [
        {
          "output_type": "stream",
          "name": "stdout",
          "text": [
            "X_data shape:  (10000, 150, 150)\n",
            "y_data shape:  (10000,)\n"
          ]
        }
      ],
      "source": [
        "# Divide my data into X data and y data\n",
        "X_data = all_circle_array\n",
        "y_data = all_area_array\n",
        "\n",
        "print(\"X_data shape: \",X_data.shape)\n",
        "print(\"y_data shape: \",y_data.shape)"
      ]
    },
    {
      "cell_type": "code",
      "execution_count": null,
      "id": "ea787072",
      "metadata": {
        "id": "ea787072"
      },
      "outputs": [],
      "source": [
        "# Split my data into test and train samples\n",
        "from sklearn.model_selection import train_test_split\n",
        "(X_train, X_test, y_train, y_test) = train_test_split(X_data, y_data, test_size=0.2, random_state=1)"
      ]
    },
    {
      "cell_type": "code",
      "execution_count": null,
      "id": "45ba507d",
      "metadata": {
        "colab": {
          "base_uri": "https://localhost:8080/"
        },
        "id": "45ba507d",
        "outputId": "a27c20fc-e936-423f-daa6-320e06e95ff0"
      },
      "outputs": [
        {
          "output_type": "stream",
          "name": "stdout",
          "text": [
            "Shape of a single sample:  (150, 150)\n"
          ]
        }
      ],
      "source": [
        "# input_shape \n",
        "\n",
        "print(\"Shape of a single sample: \", X_train[0].shape)"
      ]
    },
    {
      "cell_type": "code",
      "execution_count": null,
      "id": "d703d46d",
      "metadata": {
        "id": "d703d46d"
      },
      "outputs": [],
      "source": [
        "# Import a sequential model\n",
        "from tensorflow.keras.models import Sequential\n",
        "\n",
        "# Import the models to solve the problems\n",
        "from tensorflow.keras.layers import InputLayer, Dense, Flatten, Dropout,Conv2D, MaxPooling2D\n",
        "\n",
        "# Import regularizers\n",
        "from tensorflow.keras import regularizers\n",
        "\n",
        "# Import optimizers\n",
        "from tensorflow.keras import optimizers\n",
        "\n",
        "# Import EarlyStopping\n",
        "from tensorflow.keras.callbacks import EarlyStopping\n"
      ]
    },
    {
      "cell_type": "code",
      "execution_count": null,
      "id": "e26ba8c7",
      "metadata": {
        "id": "e26ba8c7"
      },
      "outputs": [],
      "source": [
        "# Create a function with the Sequential model\n",
        "def get_model1(units, input_shape = X_train[0].shape, dr = 0.2, wd=0.01):\n",
        "    model = Sequential([\n",
        "                        InputLayer(input_shape = input_shape, name='input'),\n",
        "        \n",
        "                        Conv2D(filters=64,kernel_size=1,  activation='relu'),\n",
        "                        Conv2D(filters=64,kernel_size=1,  activation='relu'),\n",
        "        \n",
        "                        MaxPooling2D((2, 2)),\n",
        "                        \n",
        "                        Conv2D(filters=128,kernel_size=1,  activation='relu'),\n",
        "                        Conv2D(filters=128,kernel_size=1,  activation='relu'),\n",
        "\n",
        "                        MaxPooling2D((2, 2)),\n",
        "                        \n",
        "                        Conv2D(filters=256,kernel_size=1,  activation='relu'),\n",
        "                        Conv2D(filters=256,kernel_size=1,  activation='relu'),\n",
        "                        Conv2D(filters=256,kernel_size=1,  activation='relu'),\n",
        "\n",
        "                        MaxPooling2D((2, 2)),\n",
        "\n",
        "                        Conv2D(filters=512,kernel_size=1,  activation='relu'),\n",
        "                        Conv2D(filters=512,kernel_size=1,  activation='relu'),\n",
        "                        Conv2D(filters=512,kernel_size=1,  activation='relu'),\n",
        "\n",
        "                        MaxPooling2D((2, 2)),\n",
        "\n",
        "                        Conv2D(filters=512,kernel_size=1,  activation='relu'),\n",
        "                        Conv2D(filters=512,kernel_size=1,  activation='relu'),\n",
        "                        Conv2D(filters=512,kernel_size=1,  activation='relu'),\n",
        "        \n",
        "                        Flatten(),\n",
        "\n",
        "                        Dense(units=units/2, activation='relu'),\n",
        "                        Dropout(dr),\n",
        "                        Dense(units=units, activation='relu'),\n",
        "                        #Dropout(dr),\n",
        "\n",
        "                        Dense(units=1, activation='linear')\n",
        "                        \n",
        "                        ])\n",
        "    return model"
      ]
    },
    {
      "cell_type": "code",
      "source": [
        "# Create a function with the Sequential model\n",
        "def get_model():\n",
        "    model = Sequential([\n",
        "                        Conv2D(filters=25, kernel_size=(3, 3), activation='relu', input_shape=(150, 150, 1)),\n",
        "                        MaxPooling2D((2, 2)),\n",
        "\n",
        "                        Conv2D(filters=64,kernel_size=(3, 3),  activation='relu'),\n",
        "                        MaxPooling2D((2, 2)),\n",
        "\n",
        "                        Conv2D(filters=64,kernel_size=(3, 3),  activation='relu'),\n",
        "                        MaxPooling2D((2, 2)),\n",
        "\n",
        "                        Flatten(),\n",
        "\n",
        "                        Dense(units=64, activation='relu'),\n",
        "                        #Dropout(dr),\n",
        "                        Dense(units=1, activation='linear')\n",
        "\n",
        "                        ])\n",
        "    return model"
      ],
      "metadata": {
        "id": "r7cGe5YljUhl"
      },
      "id": "r7cGe5YljUhl",
      "execution_count": null,
      "outputs": []
    },
    {
      "cell_type": "code",
      "execution_count": null,
      "id": "2b775927",
      "metadata": {
        "id": "2b775927"
      },
      "outputs": [],
      "source": [
        "# Intance a Sequen|tial model\n",
        "model = get_model()"
      ]
    },
    {
      "cell_type": "code",
      "execution_count": null,
      "id": "8689662d",
      "metadata": {
        "colab": {
          "base_uri": "https://localhost:8080/"
        },
        "id": "8689662d",
        "outputId": "135a695e-fb76-4d19-e365-5a487e733b67"
      },
      "outputs": [
        {
          "output_type": "stream",
          "name": "stdout",
          "text": [
            "Model: \"sequential_3\"\n",
            "_________________________________________________________________\n",
            " Layer (type)                Output Shape              Param #   \n",
            "=================================================================\n",
            " conv2d_10 (Conv2D)          (None, 148, 148, 25)      250       \n",
            "                                                                 \n",
            " max_pooling2d_9 (MaxPooling  (None, 74, 74, 25)       0         \n",
            " 2D)                                                             \n",
            "                                                                 \n",
            " conv2d_11 (Conv2D)          (None, 72, 72, 64)        14464     \n",
            "                                                                 \n",
            " max_pooling2d_10 (MaxPoolin  (None, 36, 36, 64)       0         \n",
            " g2D)                                                            \n",
            "                                                                 \n",
            " conv2d_12 (Conv2D)          (None, 34, 34, 64)        36928     \n",
            "                                                                 \n",
            " max_pooling2d_11 (MaxPoolin  (None, 17, 17, 64)       0         \n",
            " g2D)                                                            \n",
            "                                                                 \n",
            " flatten_3 (Flatten)         (None, 18496)             0         \n",
            "                                                                 \n",
            " dense_6 (Dense)             (None, 64)                1183808   \n",
            "                                                                 \n",
            " dense_7 (Dense)             (None, 1)                 65        \n",
            "                                                                 \n",
            "=================================================================\n",
            "Total params: 1,235,515\n",
            "Trainable params: 1,235,515\n",
            "Non-trainable params: 0\n",
            "_________________________________________________________________\n"
          ]
        }
      ],
      "source": [
        "model.summary()"
      ]
    },
    {
      "cell_type": "code",
      "execution_count": null,
      "id": "a132bb6d",
      "metadata": {
        "id": "a132bb6d"
      },
      "outputs": [],
      "source": [
        "def compile_model(model, optimizer, loss):\n",
        "    model.compile(optimizer=optimizer,\n",
        "                  loss=loss, # For clasification problem with digits, not with one-hot encoding\n",
        "                  metrics=[loss]\n",
        "                 )"
      ]
    },
    {
      "cell_type": "code",
      "execution_count": null,
      "id": "4fbd48e6",
      "metadata": {
        "id": "4fbd48e6"
      },
      "outputs": [],
      "source": [
        "\n",
        "#compile_model(model, optimizers.RMSprop(learning_rate=0.0001), 'mape')\n",
        "compile_model(model, 'adam', ['mape'])"
      ]
    },
    {
      "cell_type": "code",
      "execution_count": null,
      "id": "1ad24cfe",
      "metadata": {
        "colab": {
          "base_uri": "https://localhost:8080/"
        },
        "id": "1ad24cfe",
        "outputId": "e957e49a-5e10-4353-e342-afd92bb263f0"
      },
      "outputs": [
        {
          "output_type": "stream",
          "name": "stdout",
          "text": [
            "Epoch 1/200\n",
            "68/68 [==============================] - 20s 124ms/step - loss: 52.5168 - mape: 52.5168 - val_loss: 31.7675 - val_mape: 31.7675\n",
            "Epoch 2/200\n",
            "68/68 [==============================] - 8s 118ms/step - loss: 27.3683 - mape: 27.3683 - val_loss: 25.4708 - val_mape: 25.4708\n",
            "Epoch 3/200\n",
            "68/68 [==============================] - 8s 116ms/step - loss: 24.5627 - mape: 24.5627 - val_loss: 24.4749 - val_mape: 24.4749\n",
            "Epoch 4/200\n",
            "68/68 [==============================] - 8s 116ms/step - loss: 24.0114 - mape: 24.0114 - val_loss: 24.5116 - val_mape: 24.5116\n",
            "Epoch 5/200\n",
            "68/68 [==============================] - 8s 116ms/step - loss: 23.6363 - mape: 23.6363 - val_loss: 24.2374 - val_mape: 24.2374\n",
            "Epoch 6/200\n",
            "68/68 [==============================] - 8s 118ms/step - loss: 23.3439 - mape: 23.3439 - val_loss: 23.7481 - val_mape: 23.7481\n",
            "Epoch 7/200\n",
            "68/68 [==============================] - 8s 116ms/step - loss: 22.9040 - mape: 22.9040 - val_loss: 23.5116 - val_mape: 23.5116\n",
            "Epoch 8/200\n",
            "68/68 [==============================] - 8s 119ms/step - loss: 22.7892 - mape: 22.7892 - val_loss: 23.3558 - val_mape: 23.3558\n",
            "Epoch 9/200\n",
            "68/68 [==============================] - 8s 116ms/step - loss: 22.6086 - mape: 22.6086 - val_loss: 22.8898 - val_mape: 22.8898\n",
            "Epoch 10/200\n",
            "68/68 [==============================] - 8s 118ms/step - loss: 22.3692 - mape: 22.3692 - val_loss: 22.9492 - val_mape: 22.9492\n",
            "Epoch 11/200\n",
            "68/68 [==============================] - 8s 119ms/step - loss: 22.3366 - mape: 22.3366 - val_loss: 22.5631 - val_mape: 22.5631\n",
            "Epoch 12/200\n",
            "68/68 [==============================] - 8s 116ms/step - loss: 22.1706 - mape: 22.1706 - val_loss: 22.3339 - val_mape: 22.3339\n",
            "Epoch 13/200\n",
            "68/68 [==============================] - 8s 119ms/step - loss: 21.3906 - mape: 21.3906 - val_loss: 22.2555 - val_mape: 22.2555\n",
            "Epoch 14/200\n",
            "68/68 [==============================] - 8s 119ms/step - loss: 20.7120 - mape: 20.7120 - val_loss: 21.0705 - val_mape: 21.0705\n",
            "Epoch 15/200\n",
            "68/68 [==============================] - 8s 119ms/step - loss: 19.4979 - mape: 19.4979 - val_loss: 19.4396 - val_mape: 19.4396\n",
            "Epoch 16/200\n",
            "68/68 [==============================] - 8s 119ms/step - loss: 18.3888 - mape: 18.3888 - val_loss: 18.7040 - val_mape: 18.7040\n",
            "Epoch 17/200\n",
            "68/68 [==============================] - 8s 119ms/step - loss: 17.4189 - mape: 17.4189 - val_loss: 17.2079 - val_mape: 17.2079\n",
            "Epoch 18/200\n",
            "68/68 [==============================] - 8s 119ms/step - loss: 16.3352 - mape: 16.3352 - val_loss: 16.4006 - val_mape: 16.4006\n",
            "Epoch 19/200\n",
            "68/68 [==============================] - 8s 119ms/step - loss: 15.4658 - mape: 15.4658 - val_loss: 15.5905 - val_mape: 15.5905\n",
            "Epoch 20/200\n",
            "68/68 [==============================] - 8s 117ms/step - loss: 14.6202 - mape: 14.6202 - val_loss: 15.0433 - val_mape: 15.0433\n",
            "Epoch 21/200\n",
            "68/68 [==============================] - 8s 116ms/step - loss: 13.6683 - mape: 13.6683 - val_loss: 14.2358 - val_mape: 14.2358\n",
            "Epoch 22/200\n",
            "68/68 [==============================] - 8s 116ms/step - loss: 12.6684 - mape: 12.6684 - val_loss: 14.0959 - val_mape: 14.0959\n",
            "Epoch 23/200\n",
            "68/68 [==============================] - 8s 119ms/step - loss: 11.9128 - mape: 11.9128 - val_loss: 12.1495 - val_mape: 12.1495\n",
            "Epoch 24/200\n",
            "68/68 [==============================] - 8s 119ms/step - loss: 11.5303 - mape: 11.5303 - val_loss: 12.8988 - val_mape: 12.8988\n",
            "Epoch 25/200\n",
            "68/68 [==============================] - 8s 117ms/step - loss: 10.2783 - mape: 10.2783 - val_loss: 10.3772 - val_mape: 10.3772\n",
            "Epoch 26/200\n",
            "68/68 [==============================] - 8s 119ms/step - loss: 9.5245 - mape: 9.5245 - val_loss: 9.7540 - val_mape: 9.7540\n",
            "Epoch 27/200\n",
            "68/68 [==============================] - 8s 117ms/step - loss: 8.8204 - mape: 8.8204 - val_loss: 10.4180 - val_mape: 10.4180\n",
            "Epoch 28/200\n",
            "68/68 [==============================] - 8s 119ms/step - loss: 8.3549 - mape: 8.3549 - val_loss: 10.3129 - val_mape: 10.3129\n",
            "Epoch 29/200\n",
            "68/68 [==============================] - 8s 116ms/step - loss: 7.9271 - mape: 7.9271 - val_loss: 8.2341 - val_mape: 8.2341\n",
            "Epoch 30/200\n",
            "68/68 [==============================] - 8s 117ms/step - loss: 7.5434 - mape: 7.5434 - val_loss: 8.5609 - val_mape: 8.5609\n",
            "Epoch 31/200\n",
            "68/68 [==============================] - 8s 119ms/step - loss: 7.3941 - mape: 7.3941 - val_loss: 7.9893 - val_mape: 7.9893\n",
            "Epoch 32/200\n",
            "68/68 [==============================] - 8s 119ms/step - loss: 7.0204 - mape: 7.0204 - val_loss: 8.3951 - val_mape: 8.3951\n",
            "Epoch 33/200\n",
            "68/68 [==============================] - 8s 119ms/step - loss: 6.9650 - mape: 6.9650 - val_loss: 7.7461 - val_mape: 7.7461\n",
            "Epoch 34/200\n",
            "68/68 [==============================] - 8s 117ms/step - loss: 6.9391 - mape: 6.9391 - val_loss: 7.8023 - val_mape: 7.8023\n",
            "Epoch 35/200\n",
            "68/68 [==============================] - 8s 117ms/step - loss: 6.5279 - mape: 6.5279 - val_loss: 7.4544 - val_mape: 7.4544\n",
            "Epoch 36/200\n",
            "68/68 [==============================] - 8s 117ms/step - loss: 6.3184 - mape: 6.3184 - val_loss: 6.7311 - val_mape: 6.7311\n",
            "Epoch 37/200\n",
            "68/68 [==============================] - 8s 119ms/step - loss: 5.9235 - mape: 5.9235 - val_loss: 6.9510 - val_mape: 6.9510\n",
            "Epoch 38/200\n",
            "68/68 [==============================] - 8s 119ms/step - loss: 5.9748 - mape: 5.9748 - val_loss: 6.6338 - val_mape: 6.6338\n",
            "Epoch 39/200\n",
            "68/68 [==============================] - 8s 119ms/step - loss: 6.3166 - mape: 6.3166 - val_loss: 6.4548 - val_mape: 6.4548\n",
            "Epoch 40/200\n",
            "68/68 [==============================] - 8s 117ms/step - loss: 5.7074 - mape: 5.7074 - val_loss: 6.6628 - val_mape: 6.6628\n",
            "Epoch 41/200\n",
            "68/68 [==============================] - 8s 117ms/step - loss: 5.6982 - mape: 5.6982 - val_loss: 6.4510 - val_mape: 6.4510\n",
            "Epoch 42/200\n",
            "68/68 [==============================] - 8s 117ms/step - loss: 5.3476 - mape: 5.3476 - val_loss: 5.9881 - val_mape: 5.9881\n",
            "Epoch 43/200\n",
            "68/68 [==============================] - 8s 119ms/step - loss: 5.7291 - mape: 5.7291 - val_loss: 6.0950 - val_mape: 6.0950\n",
            "Epoch 44/200\n",
            "68/68 [==============================] - 8s 117ms/step - loss: 5.3265 - mape: 5.3265 - val_loss: 5.9137 - val_mape: 5.9137\n",
            "Epoch 45/200\n",
            "68/68 [==============================] - 8s 117ms/step - loss: 5.0764 - mape: 5.0764 - val_loss: 5.8970 - val_mape: 5.8970\n",
            "Epoch 46/200\n",
            "68/68 [==============================] - 8s 119ms/step - loss: 5.0923 - mape: 5.0923 - val_loss: 6.7106 - val_mape: 6.7106\n",
            "Epoch 47/200\n",
            "68/68 [==============================] - 8s 119ms/step - loss: 5.3700 - mape: 5.3700 - val_loss: 5.8342 - val_mape: 5.8342\n",
            "Epoch 48/200\n",
            "68/68 [==============================] - 8s 119ms/step - loss: 4.8824 - mape: 4.8824 - val_loss: 5.5851 - val_mape: 5.5851\n",
            "Epoch 49/200\n",
            "68/68 [==============================] - 8s 117ms/step - loss: 4.7521 - mape: 4.7521 - val_loss: 5.2723 - val_mape: 5.2723\n",
            "Epoch 50/200\n",
            "68/68 [==============================] - 8s 123ms/step - loss: 4.6272 - mape: 4.6272 - val_loss: 5.2057 - val_mape: 5.2057\n",
            "Epoch 51/200\n",
            "68/68 [==============================] - 8s 120ms/step - loss: 4.5354 - mape: 4.5354 - val_loss: 5.8942 - val_mape: 5.8942\n",
            "Epoch 52/200\n",
            "68/68 [==============================] - 8s 117ms/step - loss: 4.6182 - mape: 4.6182 - val_loss: 5.6180 - val_mape: 5.6180\n",
            "Epoch 53/200\n",
            "68/68 [==============================] - 8s 119ms/step - loss: 4.8086 - mape: 4.8086 - val_loss: 6.0232 - val_mape: 6.0232\n",
            "Epoch 54/200\n",
            "68/68 [==============================] - 8s 117ms/step - loss: 4.5538 - mape: 4.5538 - val_loss: 5.0206 - val_mape: 5.0206\n",
            "Epoch 55/200\n",
            "68/68 [==============================] - 8s 117ms/step - loss: 4.3927 - mape: 4.3927 - val_loss: 5.4388 - val_mape: 5.4388\n",
            "Epoch 56/200\n",
            "68/68 [==============================] - 8s 117ms/step - loss: 4.6366 - mape: 4.6366 - val_loss: 5.1133 - val_mape: 5.1133\n",
            "Epoch 57/200\n",
            "68/68 [==============================] - 8s 117ms/step - loss: 4.3693 - mape: 4.3693 - val_loss: 5.0862 - val_mape: 5.0862\n",
            "Epoch 58/200\n",
            "68/68 [==============================] - 8s 117ms/step - loss: 4.0462 - mape: 4.0462 - val_loss: 4.8918 - val_mape: 4.8918\n",
            "Epoch 59/200\n",
            "68/68 [==============================] - 8s 117ms/step - loss: 4.1684 - mape: 4.1684 - val_loss: 4.6584 - val_mape: 4.6584\n",
            "Epoch 60/200\n",
            "68/68 [==============================] - 8s 119ms/step - loss: 3.8932 - mape: 3.8932 - val_loss: 5.1153 - val_mape: 5.1153\n",
            "Epoch 61/200\n",
            "68/68 [==============================] - 8s 117ms/step - loss: 4.0097 - mape: 4.0097 - val_loss: 4.9506 - val_mape: 4.9506\n",
            "Epoch 62/200\n",
            "68/68 [==============================] - 8s 119ms/step - loss: 3.9369 - mape: 3.9369 - val_loss: 4.5489 - val_mape: 4.5489\n",
            "Epoch 63/200\n",
            "68/68 [==============================] - 8s 117ms/step - loss: 3.9571 - mape: 3.9571 - val_loss: 4.4615 - val_mape: 4.4615\n",
            "Epoch 64/200\n",
            "68/68 [==============================] - 8s 119ms/step - loss: 4.0295 - mape: 4.0295 - val_loss: 5.2665 - val_mape: 5.2665\n",
            "Epoch 65/200\n",
            "68/68 [==============================] - 8s 117ms/step - loss: 3.7636 - mape: 3.7636 - val_loss: 4.8520 - val_mape: 4.8520\n",
            "Epoch 66/200\n",
            "68/68 [==============================] - 8s 119ms/step - loss: 3.6312 - mape: 3.6312 - val_loss: 4.4933 - val_mape: 4.4933\n",
            "Epoch 67/200\n",
            "68/68 [==============================] - 8s 117ms/step - loss: 3.8150 - mape: 3.8150 - val_loss: 5.7560 - val_mape: 5.7560\n",
            "Epoch 68/200\n",
            "68/68 [==============================] - 8s 117ms/step - loss: 3.6412 - mape: 3.6412 - val_loss: 4.4956 - val_mape: 4.4956\n",
            "Epoch 69/200\n",
            "68/68 [==============================] - 8s 117ms/step - loss: 3.9263 - mape: 3.9263 - val_loss: 4.3555 - val_mape: 4.3555\n",
            "Epoch 70/200\n",
            "68/68 [==============================] - 8s 117ms/step - loss: 3.6291 - mape: 3.6291 - val_loss: 4.1453 - val_mape: 4.1453\n",
            "Epoch 71/200\n",
            "68/68 [==============================] - 8s 117ms/step - loss: 3.7046 - mape: 3.7046 - val_loss: 4.5119 - val_mape: 4.5119\n",
            "Epoch 72/200\n",
            "68/68 [==============================] - 8s 117ms/step - loss: 3.5829 - mape: 3.5829 - val_loss: 4.3667 - val_mape: 4.3667\n",
            "Epoch 73/200\n",
            "68/68 [==============================] - 8s 119ms/step - loss: 3.4759 - mape: 3.4759 - val_loss: 5.4377 - val_mape: 5.4377\n",
            "Epoch 74/200\n",
            "68/68 [==============================] - 8s 119ms/step - loss: 3.7108 - mape: 3.7108 - val_loss: 4.6030 - val_mape: 4.6030\n",
            "Epoch 75/200\n",
            "68/68 [==============================] - 8s 119ms/step - loss: 3.5474 - mape: 3.5474 - val_loss: 4.1181 - val_mape: 4.1181\n",
            "Epoch 76/200\n",
            "68/68 [==============================] - 8s 117ms/step - loss: 3.1712 - mape: 3.1712 - val_loss: 4.0514 - val_mape: 4.0514\n",
            "Epoch 77/200\n",
            "68/68 [==============================] - 8s 119ms/step - loss: 3.1057 - mape: 3.1057 - val_loss: 4.0097 - val_mape: 4.0097\n",
            "Epoch 78/200\n",
            "68/68 [==============================] - 8s 119ms/step - loss: 3.2288 - mape: 3.2288 - val_loss: 4.3073 - val_mape: 4.3073\n",
            "Epoch 79/200\n",
            "68/68 [==============================] - 8s 117ms/step - loss: 3.4618 - mape: 3.4618 - val_loss: 4.1438 - val_mape: 4.1438\n",
            "Epoch 80/200\n",
            "68/68 [==============================] - 8s 119ms/step - loss: 3.2897 - mape: 3.2897 - val_loss: 3.8876 - val_mape: 3.8876\n",
            "Epoch 81/200\n",
            "68/68 [==============================] - 8s 117ms/step - loss: 3.2857 - mape: 3.2857 - val_loss: 4.6243 - val_mape: 4.6243\n",
            "Epoch 82/200\n",
            "68/68 [==============================] - 8s 119ms/step - loss: 3.1319 - mape: 3.1319 - val_loss: 3.7480 - val_mape: 3.7480\n",
            "Epoch 83/200\n",
            "68/68 [==============================] - 8s 117ms/step - loss: 2.9555 - mape: 2.9555 - val_loss: 3.8305 - val_mape: 3.8305\n",
            "Epoch 84/200\n",
            "68/68 [==============================] - 8s 120ms/step - loss: 3.1367 - mape: 3.1367 - val_loss: 4.7544 - val_mape: 4.7544\n",
            "Epoch 85/200\n",
            "68/68 [==============================] - 8s 119ms/step - loss: 3.2033 - mape: 3.2033 - val_loss: 3.9878 - val_mape: 3.9878\n",
            "Epoch 86/200\n",
            "68/68 [==============================] - 8s 117ms/step - loss: 3.4702 - mape: 3.4702 - val_loss: 3.8755 - val_mape: 3.8755\n",
            "Epoch 87/200\n",
            "68/68 [==============================] - 8s 119ms/step - loss: 2.9578 - mape: 2.9578 - val_loss: 4.1175 - val_mape: 4.1175\n",
            "Epoch 88/200\n",
            "68/68 [==============================] - 8s 119ms/step - loss: 2.8811 - mape: 2.8811 - val_loss: 4.1297 - val_mape: 4.1297\n",
            "Epoch 89/200\n",
            "68/68 [==============================] - 8s 117ms/step - loss: 3.0139 - mape: 3.0139 - val_loss: 3.7662 - val_mape: 3.7662\n",
            "Epoch 90/200\n",
            "68/68 [==============================] - 8s 119ms/step - loss: 2.9807 - mape: 2.9807 - val_loss: 4.0489 - val_mape: 4.0489\n",
            "Epoch 91/200\n",
            "68/68 [==============================] - 8s 117ms/step - loss: 3.0839 - mape: 3.0839 - val_loss: 4.1603 - val_mape: 4.1603\n",
            "Epoch 92/200\n",
            "68/68 [==============================] - 8s 117ms/step - loss: 2.8782 - mape: 2.8782 - val_loss: 3.9623 - val_mape: 3.9623\n"
          ]
        }
      ],
      "source": [
        "epochs = 200\n",
        "myhistory = model.fit(X_train, y_train, epochs=epochs, batch_size = 100, validation_split=0.15, callbacks=[EarlyStopping(monitor='val_loss', patience=10)])"
      ]
    },
    {
      "cell_type": "code",
      "source": [
        "myhistory.history.keys()"
      ],
      "metadata": {
        "colab": {
          "base_uri": "https://localhost:8080/"
        },
        "id": "HgbvO80yF57E",
        "outputId": "532752ee-5424-4ac7-d7e2-27c5b012fb0d"
      },
      "id": "HgbvO80yF57E",
      "execution_count": null,
      "outputs": [
        {
          "output_type": "execute_result",
          "data": {
            "text/plain": [
              "dict_keys(['loss', 'mape', 'val_loss', 'val_mape'])"
            ]
          },
          "metadata": {},
          "execution_count": 35
        }
      ]
    },
    {
      "cell_type": "code",
      "source": [
        "xvals = range(len(myhistory.history['loss']))\n",
        "\n",
        "fig, ax = plt.subplots(1,1,figsize=(10,7))\n",
        "ax.plot(xvals, myhistory.history['val_mape'], '-o', label='test set accuracy')\n",
        "ax.plot(xvals, myhistory.history['mape'], '-o', label='train set accuracy')\n",
        "ax.legend()\n",
        "plt.show()"
      ],
      "metadata": {
        "colab": {
          "base_uri": "https://localhost:8080/",
          "height": 428
        },
        "id": "QG_0V9D3GZPl",
        "outputId": "f6f430e4-b658-4867-f8a2-9388c4ed39fb"
      },
      "id": "QG_0V9D3GZPl",
      "execution_count": null,
      "outputs": [
        {
          "output_type": "display_data",
          "data": {
            "text/plain": [
              "<Figure size 720x504 with 1 Axes>"
            ],
            "image/png": "[encoded data removed]"
          },
          "metadata": {
            "needs_background": "light"
          }
        }
      ]
    },
    {
      "cell_type": "code",
      "source": [
        "y_pred = model.predict(X_test)\n",
        "\n",
        "from sklearn import metrics\n",
        "\n",
        "print('MAE:', metrics.mean_absolute_error(y_test, y_pred))  \n",
        "print('MSE:', metrics.mean_squared_error(y_test, y_pred))  \n",
        "print('MAPE:', np.sqrt(metrics.mean_absolute_percentage_error(y_test, y_pred)))\n",
        "print('R2:', np.sqrt(metrics.r2_score(y_test, y_pred)))\n",
        "print('VarScore:',metrics.explained_variance_score(y_test,y_pred))"
      ],
      "metadata": {
        "colab": {
          "base_uri": "https://localhost:8080/"
        },
        "id": "LWluqlCKHAyI",
        "outputId": "676dccd4-69e1-4174-b9e0-3254ae9471c6"
      },
      "id": "LWluqlCKHAyI",
      "execution_count": null,
      "outputs": [
        {
          "output_type": "stream",
          "name": "stdout",
          "text": [
            "MAE: 43.081844161987306\n",
            "MSE: 15328.17430800554\n",
            "MAPE: 0.18788157583707982\n",
            "R2: 0.9850118332990391\n",
            "VarScore: 0.970273769319542\n"
          ]
        }
      ]
    },
    {
      "cell_type": "code",
      "source": [
        "# Visualizing Our predictions\n",
        "fig = plt.figure(figsize=(10,5))\n",
        "plt.scatter(y_test,y_pred)\n",
        "# Perfect predictions\n",
        "plt.plot(y_test,y_test,'r')\n",
        "plt.xlabel('y_test')\n",
        "plt.ylabel('y_pred')"
      ],
      "metadata": {
        "colab": {
          "base_uri": "https://localhost:8080/",
          "height": 351
        },
        "id": "LBwaN2QuI47Z",
        "outputId": "bff3f509-0393-47f7-9ce1-efe3e8cf0bd0"
      },
      "id": "LBwaN2QuI47Z",
      "execution_count": null,
      "outputs": [
        {
          "output_type": "execute_result",
          "data": {
            "text/plain": [
              "Text(0, 0.5, 'y_pred')"
            ]
          },
          "metadata": {},
          "execution_count": 39
        },
        {
          "output_type": "display_data",
          "data": {
            "text/plain": [
              "<Figure size 720x360 with 1 Axes>"
            ],
            "image/png": "[encoded data removed]"
          },
          "metadata": {
            "needs_background": "light"
          }
        }
      ]
    },
    {
      "cell_type": "code",
      "source": [
        "def draw_circle(x,y,r,c,th):\n",
        "    cv2.circle(img, center = (x,y), radius = r, color = c, thickness=th)\n",
        "\n",
        "all_circle=[]\n",
        "all_area=[]\n",
        "\n",
        "ncircles=10000\n",
        "for i in range(ncircles):   \n",
        "    img = np.zeros([150, 150])\n",
        "    radious_list = []\n",
        "    c= (1, 0, 0)\n",
        "    th=1\n",
        "\n",
        "    num_circles = np.random.randint(3,6)\n",
        "\n",
        "    control = np.random.randint(1,6)\n",
        "\n",
        "    for j in range(num_circles):\n",
        "        x,y=np.random.randint(10,90,2)\n",
        "\n",
        "        if(control == 1):\n",
        "            r=np.random.randint(10,15)\n",
        "        if(control == 2):\n",
        "            r=np.random.randint(15,20)\n",
        "        if(control == 3):\n",
        "            r=np.random.randint(20,25)\n",
        "        if(control == 4):\n",
        "            r=np.random.randint(25,30)\n",
        "        if(control == 5):\n",
        "            r=np.random.randint(30,35)\n",
        "\n",
        "        draw_circle(x,y,r,c,th) \n",
        "        radious_list.append(round(np.pi*r**2, 0))\n",
        "    \n",
        "    radious_list =np.array(radious_list)\n",
        "    #img_flat=img.reshape(1,img.size)\n",
        "    all_circle.append(img)\n",
        "    all_area.append(radious_list.mean())\n",
        "    \n",
        "all_circle_array=np.array(all_circle)    \n",
        "all_area_array=np.array(all_area)\n",
        "\n",
        "print(all_circle_array.shape)\n",
        "print(all_area_array.shape)"
      ],
      "metadata": {
        "colab": {
          "base_uri": "https://localhost:8080/"
        },
        "id": "PMZQcNkSOwGi",
        "outputId": "fae44316-5f9c-47ba-c912-505c06d1b5c2"
      },
      "id": "PMZQcNkSOwGi",
      "execution_count": null,
      "outputs": [
        {
          "output_type": "stream",
          "name": "stdout",
          "text": [
            "(10000, 150, 150)\n",
            "(10000,)\n"
          ]
        }
      ]
    },
    {
      "cell_type": "code",
      "source": [
        "fig,ax=plt.subplots(1,1)\n",
        "idx=np.random.randint(0,ncircles)\n",
        "ax.imshow(all_circle_array[idx])\n",
        "ax.set_title(str(all_area_array[idx]))"
      ],
      "metadata": {
        "colab": {
          "base_uri": "https://localhost:8080/",
          "height": 298
        },
        "id": "nxk6G7_ePhst",
        "outputId": "f9071f00-037e-42b7-ea19-c2987c3cfe48"
      },
      "id": "nxk6G7_ePhst",
      "execution_count": null,
      "outputs": [
        {
          "output_type": "execute_result",
          "data": {
            "text/plain": [
              "Text(0.5, 1.0, '2213.0')"
            ]
          },
          "metadata": {},
          "execution_count": 40
        },
        {
          "output_type": "display_data",
          "data": {
            "text/plain": [
              "<Figure size 432x288 with 1 Axes>"
            ],
            "image/png": "[encoded data removed]"
          },
          "metadata": {
            "needs_background": "light"
          }
        }
      ]
    },
    {
      "cell_type": "code",
      "source": [
        "# Divide my data into X data and y data\n",
        "X_data = all_circle_array\n",
        "y_data = all_area_array\n",
        "\n",
        "print(\"X_data shape: \",X_data.shape)\n",
        "print(\"y_data shape: \",y_data.shape)"
      ],
      "metadata": {
        "colab": {
          "base_uri": "https://localhost:8080/"
        },
        "id": "NcFr1JdMQjrb",
        "outputId": "5b4c32e6-e167-4107-d0f7-2625ec75779a"
      },
      "id": "NcFr1JdMQjrb",
      "execution_count": null,
      "outputs": [
        {
          "output_type": "stream",
          "name": "stdout",
          "text": [
            "X_data shape:  (10000, 150, 150)\n",
            "y_data shape:  (10000,)\n"
          ]
        }
      ]
    },
    {
      "cell_type": "code",
      "source": [
        "# Split my data into test and train samples\n",
        "(X_train, X_test, y_train, y_test) = train_test_split(X_data, y_data, test_size=0.2, random_state=1)"
      ],
      "metadata": {
        "id": "67EzB4TuQ0fC"
      },
      "id": "67EzB4TuQ0fC",
      "execution_count": null,
      "outputs": []
    },
    {
      "cell_type": "code",
      "source": [
        "# Intance a Sequen|tial model\n",
        "units=2048\n",
        "model = get_model()"
      ],
      "metadata": {
        "id": "bEFBDg50Q7pF"
      },
      "id": "bEFBDg50Q7pF",
      "execution_count": null,
      "outputs": []
    },
    {
      "cell_type": "code",
      "source": [
        "model.summary()"
      ],
      "metadata": {
        "colab": {
          "base_uri": "https://localhost:8080/"
        },
        "id": "izVWSdECRALu",
        "outputId": "6237c146-a752-42be-d036-49df23c6e14d"
      },
      "id": "izVWSdECRALu",
      "execution_count": null,
      "outputs": [
        {
          "output_type": "stream",
          "name": "stdout",
          "text": [
            "Model: \"sequential\"\n",
            "_________________________________________________________________\n",
            " Layer (type)                Output Shape              Param #   \n",
            "=================================================================\n",
            " conv2d (Conv2D)             (None, 148, 148, 25)      250       \n",
            "                                                                 \n",
            " max_pooling2d (MaxPooling2D  (None, 74, 74, 25)       0         \n",
            " )                                                               \n",
            "                                                                 \n",
            " conv2d_1 (Conv2D)           (None, 72, 72, 64)        14464     \n",
            "                                                                 \n",
            " max_pooling2d_1 (MaxPooling  (None, 36, 36, 64)       0         \n",
            " 2D)                                                             \n",
            "                                                                 \n",
            " conv2d_2 (Conv2D)           (None, 34, 34, 64)        36928     \n",
            "                                                                 \n",
            " max_pooling2d_2 (MaxPooling  (None, 17, 17, 64)       0         \n",
            " 2D)                                                             \n",
            "                                                                 \n",
            " flatten (Flatten)           (None, 18496)             0         \n",
            "                                                                 \n",
            " dense (Dense)               (None, 64)                1183808   \n",
            "                                                                 \n",
            " dense_1 (Dense)             (None, 1)                 65        \n",
            "                                                                 \n",
            "=================================================================\n",
            "Total params: 1,235,515\n",
            "Trainable params: 1,235,515\n",
            "Non-trainable params: 0\n",
            "_________________________________________________________________\n"
          ]
        }
      ]
    },
    {
      "cell_type": "code",
      "source": [
        "#compile_model(model, optimizers.RMSprop(learning_rate=0.0001), 'mape')\n",
        "compile_model(model, 'adam', 'mape')"
      ],
      "metadata": {
        "id": "Z7EdRyVtREnh"
      },
      "id": "Z7EdRyVtREnh",
      "execution_count": null,
      "outputs": []
    },
    {
      "cell_type": "code",
      "source": [
        "epochs = 200\n",
        "myhistory = model.fit(X_train, y_train, epochs=epochs, batch_size = 64, validation_split=0.15, callbacks=[EarlyStopping(monitor='val_loss', patience=10)])"
      ],
      "metadata": {
        "colab": {
          "base_uri": "https://localhost:8080/"
        },
        "id": "MzE4K6p5RIzX",
        "outputId": "31bda525-3d3c-4c5a-c6af-97c1d710e13a"
      },
      "id": "MzE4K6p5RIzX",
      "execution_count": null,
      "outputs": [
        {
          "output_type": "stream",
          "name": "stdout",
          "text": [
            "Epoch 1/200\n",
            "107/107 [==============================] - 19s 83ms/step - loss: 40.7910 - mape: 40.7910 - val_loss: 26.5011 - val_mape: 26.5011\n",
            "Epoch 2/200\n",
            "107/107 [==============================] - 8s 74ms/step - loss: 27.1969 - mape: 27.1969 - val_loss: 25.9991 - val_mape: 25.9991\n",
            "Epoch 3/200\n",
            "107/107 [==============================] - 8s 74ms/step - loss: 26.6240 - mape: 26.6240 - val_loss: 25.6892 - val_mape: 25.6892\n",
            "Epoch 4/200\n",
            "107/107 [==============================] - 8s 79ms/step - loss: 26.3285 - mape: 26.3285 - val_loss: 24.9715 - val_mape: 24.9715\n",
            "Epoch 5/200\n",
            "107/107 [==============================] - 9s 85ms/step - loss: 26.3452 - mape: 26.3452 - val_loss: 25.6540 - val_mape: 25.6540\n",
            "Epoch 6/200\n",
            "107/107 [==============================] - 8s 77ms/step - loss: 26.2200 - mape: 26.2200 - val_loss: 25.4651 - val_mape: 25.4651\n",
            "Epoch 7/200\n",
            "107/107 [==============================] - 8s 76ms/step - loss: 26.5319 - mape: 26.5319 - val_loss: 26.6068 - val_mape: 26.6068\n",
            "Epoch 8/200\n",
            "107/107 [==============================] - 8s 74ms/step - loss: 25.6907 - mape: 25.6907 - val_loss: 25.0658 - val_mape: 25.0658\n",
            "Epoch 9/200\n",
            "107/107 [==============================] - 8s 74ms/step - loss: 25.1884 - mape: 25.1884 - val_loss: 23.8455 - val_mape: 23.8455\n",
            "Epoch 10/200\n",
            "107/107 [==============================] - 8s 74ms/step - loss: 24.8508 - mape: 24.8508 - val_loss: 23.7425 - val_mape: 23.7425\n",
            "Epoch 11/200\n",
            "107/107 [==============================] - 8s 74ms/step - loss: 24.0310 - mape: 24.0310 - val_loss: 24.5062 - val_mape: 24.5062\n",
            "Epoch 12/200\n",
            "107/107 [==============================] - 8s 74ms/step - loss: 23.4590 - mape: 23.4590 - val_loss: 25.9340 - val_mape: 25.9340\n",
            "Epoch 13/200\n",
            "107/107 [==============================] - 8s 74ms/step - loss: 22.0871 - mape: 22.0871 - val_loss: 21.4157 - val_mape: 21.4157\n",
            "Epoch 14/200\n",
            "107/107 [==============================] - 8s 74ms/step - loss: 21.0070 - mape: 21.0070 - val_loss: 19.4601 - val_mape: 19.4601\n",
            "Epoch 15/200\n",
            "107/107 [==============================] - 8s 74ms/step - loss: 19.1824 - mape: 19.1824 - val_loss: 18.0513 - val_mape: 18.0513\n",
            "Epoch 16/200\n",
            "107/107 [==============================] - 8s 74ms/step - loss: 17.8789 - mape: 17.8789 - val_loss: 17.5700 - val_mape: 17.5700\n",
            "Epoch 17/200\n",
            "107/107 [==============================] - 8s 74ms/step - loss: 16.8347 - mape: 16.8347 - val_loss: 15.8980 - val_mape: 15.8980\n",
            "Epoch 18/200\n",
            "107/107 [==============================] - 8s 76ms/step - loss: 15.9866 - mape: 15.9866 - val_loss: 16.1901 - val_mape: 16.1901\n",
            "Epoch 19/200\n",
            "107/107 [==============================] - 8s 74ms/step - loss: 15.1833 - mape: 15.1833 - val_loss: 14.7632 - val_mape: 14.7632\n",
            "Epoch 20/200\n",
            "107/107 [==============================] - 8s 74ms/step - loss: 14.3314 - mape: 14.3314 - val_loss: 14.1848 - val_mape: 14.1848\n",
            "Epoch 21/200\n",
            "107/107 [==============================] - 8s 74ms/step - loss: 13.4717 - mape: 13.4717 - val_loss: 14.7614 - val_mape: 14.7614\n",
            "Epoch 22/200\n",
            "107/107 [==============================] - 8s 74ms/step - loss: 12.8590 - mape: 12.8590 - val_loss: 13.8637 - val_mape: 13.8637\n",
            "Epoch 23/200\n",
            "107/107 [==============================] - 8s 74ms/step - loss: 12.1984 - mape: 12.1984 - val_loss: 12.6601 - val_mape: 12.6601\n",
            "Epoch 24/200\n",
            "107/107 [==============================] - 8s 74ms/step - loss: 11.7094 - mape: 11.7094 - val_loss: 13.0543 - val_mape: 13.0543\n",
            "Epoch 25/200\n",
            "107/107 [==============================] - 8s 74ms/step - loss: 11.0597 - mape: 11.0597 - val_loss: 11.7319 - val_mape: 11.7319\n",
            "Epoch 26/200\n",
            "107/107 [==============================] - 8s 74ms/step - loss: 10.5262 - mape: 10.5262 - val_loss: 11.6312 - val_mape: 11.6312\n",
            "Epoch 27/200\n",
            "107/107 [==============================] - 8s 74ms/step - loss: 10.0967 - mape: 10.0967 - val_loss: 11.2034 - val_mape: 11.2034\n",
            "Epoch 28/200\n",
            "107/107 [==============================] - 8s 74ms/step - loss: 9.6088 - mape: 9.6088 - val_loss: 10.9821 - val_mape: 10.9821\n",
            "Epoch 29/200\n",
            "107/107 [==============================] - 8s 74ms/step - loss: 9.3612 - mape: 9.3612 - val_loss: 12.5418 - val_mape: 12.5418\n",
            "Epoch 30/200\n",
            "107/107 [==============================] - 8s 75ms/step - loss: 9.1196 - mape: 9.1196 - val_loss: 10.4979 - val_mape: 10.4979\n",
            "Epoch 31/200\n",
            "107/107 [==============================] - 8s 74ms/step - loss: 8.7786 - mape: 8.7786 - val_loss: 10.2064 - val_mape: 10.2064\n",
            "Epoch 32/200\n",
            "107/107 [==============================] - 8s 75ms/step - loss: 8.2529 - mape: 8.2529 - val_loss: 10.1993 - val_mape: 10.1993\n",
            "Epoch 33/200\n",
            "107/107 [==============================] - 8s 74ms/step - loss: 8.0088 - mape: 8.0088 - val_loss: 9.9238 - val_mape: 9.9238\n",
            "Epoch 34/200\n",
            "107/107 [==============================] - 8s 74ms/step - loss: 7.8626 - mape: 7.8626 - val_loss: 10.0052 - val_mape: 10.0052\n",
            "Epoch 35/200\n",
            "107/107 [==============================] - 8s 74ms/step - loss: 7.4511 - mape: 7.4511 - val_loss: 9.7282 - val_mape: 9.7282\n",
            "Epoch 36/200\n",
            "107/107 [==============================] - 8s 74ms/step - loss: 7.3370 - mape: 7.3370 - val_loss: 9.4745 - val_mape: 9.4745\n",
            "Epoch 37/200\n",
            "107/107 [==============================] - 8s 74ms/step - loss: 7.1049 - mape: 7.1049 - val_loss: 9.6824 - val_mape: 9.6824\n",
            "Epoch 38/200\n",
            "107/107 [==============================] - 8s 75ms/step - loss: 6.9373 - mape: 6.9373 - val_loss: 9.3790 - val_mape: 9.3790\n",
            "Epoch 39/200\n",
            "107/107 [==============================] - 8s 74ms/step - loss: 6.6850 - mape: 6.6850 - val_loss: 8.8821 - val_mape: 8.8821\n",
            "Epoch 40/200\n",
            "107/107 [==============================] - 8s 74ms/step - loss: 6.3705 - mape: 6.3705 - val_loss: 9.0452 - val_mape: 9.0452\n",
            "Epoch 41/200\n",
            "107/107 [==============================] - 8s 74ms/step - loss: 6.3338 - mape: 6.3338 - val_loss: 8.9798 - val_mape: 8.9798\n",
            "Epoch 42/200\n",
            "107/107 [==============================] - 8s 75ms/step - loss: 6.1086 - mape: 6.1086 - val_loss: 8.8873 - val_mape: 8.8873\n",
            "Epoch 43/200\n",
            "107/107 [==============================] - 8s 76ms/step - loss: 5.9314 - mape: 5.9314 - val_loss: 8.9165 - val_mape: 8.9165\n",
            "Epoch 44/200\n",
            "107/107 [==============================] - 8s 74ms/step - loss: 5.8061 - mape: 5.8061 - val_loss: 8.9168 - val_mape: 8.9168\n",
            "Epoch 45/200\n",
            "107/107 [==============================] - 8s 75ms/step - loss: 5.7649 - mape: 5.7649 - val_loss: 8.7687 - val_mape: 8.7687\n",
            "Epoch 46/200\n",
            "107/107 [==============================] - 8s 75ms/step - loss: 5.4320 - mape: 5.4320 - val_loss: 8.6006 - val_mape: 8.6006\n",
            "Epoch 47/200\n",
            "107/107 [==============================] - 8s 75ms/step - loss: 5.4389 - mape: 5.4389 - val_loss: 8.7531 - val_mape: 8.7531\n",
            "Epoch 48/200\n",
            "107/107 [==============================] - 8s 74ms/step - loss: 5.2964 - mape: 5.2964 - val_loss: 8.8031 - val_mape: 8.8031\n",
            "Epoch 49/200\n",
            "107/107 [==============================] - 8s 75ms/step - loss: 5.3101 - mape: 5.3101 - val_loss: 8.5384 - val_mape: 8.5384\n",
            "Epoch 50/200\n",
            "107/107 [==============================] - 8s 76ms/step - loss: 5.0474 - mape: 5.0474 - val_loss: 8.4525 - val_mape: 8.4525\n",
            "Epoch 51/200\n",
            "107/107 [==============================] - 8s 75ms/step - loss: 4.9703 - mape: 4.9703 - val_loss: 8.3490 - val_mape: 8.3490\n",
            "Epoch 52/200\n",
            "107/107 [==============================] - 8s 74ms/step - loss: 4.7981 - mape: 4.7981 - val_loss: 8.6899 - val_mape: 8.6899\n",
            "Epoch 53/200\n",
            "107/107 [==============================] - 8s 75ms/step - loss: 4.7509 - mape: 4.7509 - val_loss: 8.6100 - val_mape: 8.6100\n",
            "Epoch 54/200\n",
            "107/107 [==============================] - 8s 75ms/step - loss: 4.6229 - mape: 4.6229 - val_loss: 8.6773 - val_mape: 8.6773\n",
            "Epoch 55/200\n",
            "107/107 [==============================] - 8s 75ms/step - loss: 4.7525 - mape: 4.7525 - val_loss: 8.2897 - val_mape: 8.2897\n",
            "Epoch 56/200\n",
            "107/107 [==============================] - 8s 75ms/step - loss: 4.4416 - mape: 4.4416 - val_loss: 8.4109 - val_mape: 8.4109\n",
            "Epoch 57/200\n",
            "107/107 [==============================] - 8s 75ms/step - loss: 4.4767 - mape: 4.4767 - val_loss: 8.2445 - val_mape: 8.2445\n",
            "Epoch 58/200\n",
            "107/107 [==============================] - 8s 75ms/step - loss: 4.4539 - mape: 4.4539 - val_loss: 8.4467 - val_mape: 8.4467\n",
            "Epoch 59/200\n",
            "107/107 [==============================] - 8s 75ms/step - loss: 4.4506 - mape: 4.4506 - val_loss: 8.2452 - val_mape: 8.2452\n",
            "Epoch 60/200\n",
            "107/107 [==============================] - 8s 75ms/step - loss: 4.2107 - mape: 4.2107 - val_loss: 8.1796 - val_mape: 8.1796\n",
            "Epoch 61/200\n",
            "107/107 [==============================] - 8s 75ms/step - loss: 3.9265 - mape: 3.9265 - val_loss: 8.1459 - val_mape: 8.1459\n",
            "Epoch 62/200\n",
            "107/107 [==============================] - 8s 75ms/step - loss: 3.7590 - mape: 3.7590 - val_loss: 8.1893 - val_mape: 8.1893\n",
            "Epoch 63/200\n",
            "107/107 [==============================] - 8s 76ms/step - loss: 3.7961 - mape: 3.7961 - val_loss: 8.0452 - val_mape: 8.0452\n",
            "Epoch 64/200\n",
            "107/107 [==============================] - 8s 75ms/step - loss: 3.7255 - mape: 3.7255 - val_loss: 8.0864 - val_mape: 8.0864\n",
            "Epoch 65/200\n",
            "107/107 [==============================] - 8s 75ms/step - loss: 3.7494 - mape: 3.7494 - val_loss: 8.0642 - val_mape: 8.0642\n",
            "Epoch 66/200\n",
            "107/107 [==============================] - 8s 75ms/step - loss: 3.5429 - mape: 3.5429 - val_loss: 8.0850 - val_mape: 8.0850\n",
            "Epoch 67/200\n",
            "107/107 [==============================] - 8s 75ms/step - loss: 3.4935 - mape: 3.4935 - val_loss: 8.0253 - val_mape: 8.0253\n",
            "Epoch 68/200\n",
            "107/107 [==============================] - 8s 75ms/step - loss: 3.5621 - mape: 3.5621 - val_loss: 7.8260 - val_mape: 7.8260\n",
            "Epoch 69/200\n",
            "107/107 [==============================] - 8s 75ms/step - loss: 3.5005 - mape: 3.5005 - val_loss: 8.2845 - val_mape: 8.2845\n",
            "Epoch 70/200\n",
            "107/107 [==============================] - 8s 75ms/step - loss: 3.3708 - mape: 3.3708 - val_loss: 8.0197 - val_mape: 8.0197\n",
            "Epoch 71/200\n",
            "107/107 [==============================] - 8s 75ms/step - loss: 3.2661 - mape: 3.2661 - val_loss: 8.1010 - val_mape: 8.1010\n",
            "Epoch 72/200\n",
            "107/107 [==============================] - 8s 76ms/step - loss: 3.2723 - mape: 3.2723 - val_loss: 8.0555 - val_mape: 8.0555\n",
            "Epoch 73/200\n",
            "107/107 [==============================] - 8s 75ms/step - loss: 3.1112 - mape: 3.1112 - val_loss: 8.1864 - val_mape: 8.1864\n",
            "Epoch 74/200\n",
            "107/107 [==============================] - 8s 75ms/step - loss: 3.1838 - mape: 3.1838 - val_loss: 7.9141 - val_mape: 7.9141\n",
            "Epoch 75/200\n",
            "107/107 [==============================] - 8s 75ms/step - loss: 3.0228 - mape: 3.0228 - val_loss: 7.9554 - val_mape: 7.9554\n",
            "Epoch 76/200\n",
            "107/107 [==============================] - 8s 75ms/step - loss: 2.8581 - mape: 2.8581 - val_loss: 7.9133 - val_mape: 7.9133\n",
            "Epoch 77/200\n",
            "107/107 [==============================] - 8s 75ms/step - loss: 2.9456 - mape: 2.9456 - val_loss: 7.7311 - val_mape: 7.7311\n",
            "Epoch 78/200\n",
            "107/107 [==============================] - 8s 77ms/step - loss: 3.0604 - mape: 3.0604 - val_loss: 7.6861 - val_mape: 7.6861\n",
            "Epoch 79/200\n",
            "107/107 [==============================] - 8s 75ms/step - loss: 2.6948 - mape: 2.6948 - val_loss: 7.7138 - val_mape: 7.7138\n",
            "Epoch 80/200\n",
            "107/107 [==============================] - 8s 75ms/step - loss: 2.8251 - mape: 2.8251 - val_loss: 7.8807 - val_mape: 7.8807\n",
            "Epoch 81/200\n",
            "107/107 [==============================] - 8s 75ms/step - loss: 2.7859 - mape: 2.7859 - val_loss: 7.6866 - val_mape: 7.6866\n",
            "Epoch 82/200\n",
            "107/107 [==============================] - 8s 75ms/step - loss: 2.6182 - mape: 2.6182 - val_loss: 7.7356 - val_mape: 7.7356\n",
            "Epoch 83/200\n",
            "107/107 [==============================] - 8s 75ms/step - loss: 2.4108 - mape: 2.4108 - val_loss: 7.7496 - val_mape: 7.7496\n",
            "Epoch 84/200\n",
            "107/107 [==============================] - 8s 75ms/step - loss: 2.5521 - mape: 2.5521 - val_loss: 7.7178 - val_mape: 7.7178\n",
            "Epoch 85/200\n",
            "107/107 [==============================] - 8s 75ms/step - loss: 2.4597 - mape: 2.4597 - val_loss: 7.7731 - val_mape: 7.7731\n",
            "Epoch 86/200\n",
            "107/107 [==============================] - 8s 76ms/step - loss: 2.4708 - mape: 2.4708 - val_loss: 7.6117 - val_mape: 7.6117\n",
            "Epoch 87/200\n",
            "107/107 [==============================] - 8s 75ms/step - loss: 2.4290 - mape: 2.4290 - val_loss: 7.8901 - val_mape: 7.8901\n",
            "Epoch 88/200\n",
            "107/107 [==============================] - 8s 75ms/step - loss: 2.4766 - mape: 2.4766 - val_loss: 7.7105 - val_mape: 7.7105\n",
            "Epoch 89/200\n",
            "107/107 [==============================] - 8s 75ms/step - loss: 2.4031 - mape: 2.4031 - val_loss: 7.6929 - val_mape: 7.6929\n",
            "Epoch 90/200\n",
            "107/107 [==============================] - 8s 76ms/step - loss: 2.2881 - mape: 2.2881 - val_loss: 7.6982 - val_mape: 7.6982\n",
            "Epoch 91/200\n",
            "107/107 [==============================] - 8s 75ms/step - loss: 2.2513 - mape: 2.2513 - val_loss: 7.5410 - val_mape: 7.5410\n",
            "Epoch 92/200\n",
            "107/107 [==============================] - 8s 75ms/step - loss: 2.3350 - mape: 2.3350 - val_loss: 7.4829 - val_mape: 7.4829\n",
            "Epoch 93/200\n",
            "107/107 [==============================] - 8s 76ms/step - loss: 2.2767 - mape: 2.2767 - val_loss: 7.5221 - val_mape: 7.5221\n",
            "Epoch 94/200\n",
            "107/107 [==============================] - 8s 75ms/step - loss: 2.1995 - mape: 2.1995 - val_loss: 7.7134 - val_mape: 7.7134\n",
            "Epoch 95/200\n",
            "107/107 [==============================] - 8s 75ms/step - loss: 2.1333 - mape: 2.1333 - val_loss: 7.5258 - val_mape: 7.5258\n",
            "Epoch 96/200\n",
            "107/107 [==============================] - 8s 75ms/step - loss: 2.2473 - mape: 2.2473 - val_loss: 7.5372 - val_mape: 7.5372\n",
            "Epoch 97/200\n",
            "107/107 [==============================] - 8s 75ms/step - loss: 2.0014 - mape: 2.0014 - val_loss: 7.5362 - val_mape: 7.5362\n",
            "Epoch 98/200\n",
            "107/107 [==============================] - 8s 75ms/step - loss: 2.2335 - mape: 2.2335 - val_loss: 7.6522 - val_mape: 7.6522\n",
            "Epoch 99/200\n",
            "107/107 [==============================] - 8s 75ms/step - loss: 2.1235 - mape: 2.1235 - val_loss: 7.5923 - val_mape: 7.5923\n",
            "Epoch 100/200\n",
            "107/107 [==============================] - 8s 75ms/step - loss: 2.0627 - mape: 2.0627 - val_loss: 7.8134 - val_mape: 7.8134\n",
            "Epoch 101/200\n",
            "107/107 [==============================] - 8s 75ms/step - loss: 1.9254 - mape: 1.9254 - val_loss: 7.4445 - val_mape: 7.4445\n",
            "Epoch 102/200\n",
            "107/107 [==============================] - 8s 75ms/step - loss: 1.9213 - mape: 1.9213 - val_loss: 7.4747 - val_mape: 7.4747\n",
            "Epoch 103/200\n",
            "107/107 [==============================] - 8s 75ms/step - loss: 1.9314 - mape: 1.9314 - val_loss: 7.4587 - val_mape: 7.4587\n",
            "Epoch 104/200\n",
            "107/107 [==============================] - 8s 75ms/step - loss: 1.8924 - mape: 1.8924 - val_loss: 7.5458 - val_mape: 7.5458\n",
            "Epoch 105/200\n",
            "107/107 [==============================] - 8s 76ms/step - loss: 1.8682 - mape: 1.8682 - val_loss: 7.3164 - val_mape: 7.3164\n",
            "Epoch 106/200\n",
            "107/107 [==============================] - 8s 76ms/step - loss: 1.9779 - mape: 1.9779 - val_loss: 7.4129 - val_mape: 7.4129\n",
            "Epoch 107/200\n",
            "107/107 [==============================] - 8s 77ms/step - loss: 1.8423 - mape: 1.8423 - val_loss: 7.4990 - val_mape: 7.4990\n",
            "Epoch 108/200\n",
            "107/107 [==============================] - 8s 74ms/step - loss: 1.8504 - mape: 1.8504 - val_loss: 7.3649 - val_mape: 7.3649\n",
            "Epoch 109/200\n",
            "107/107 [==============================] - 8s 75ms/step - loss: 1.7500 - mape: 1.7500 - val_loss: 7.4539 - val_mape: 7.4539\n",
            "Epoch 110/200\n",
            "107/107 [==============================] - 8s 75ms/step - loss: 1.7527 - mape: 1.7527 - val_loss: 7.4926 - val_mape: 7.4926\n",
            "Epoch 111/200\n",
            "107/107 [==============================] - 8s 75ms/step - loss: 1.8113 - mape: 1.8113 - val_loss: 7.5157 - val_mape: 7.5157\n",
            "Epoch 112/200\n",
            "107/107 [==============================] - 8s 75ms/step - loss: 1.7772 - mape: 1.7772 - val_loss: 7.4530 - val_mape: 7.4530\n",
            "Epoch 113/200\n",
            "107/107 [==============================] - 8s 75ms/step - loss: 1.6733 - mape: 1.6733 - val_loss: 7.3803 - val_mape: 7.3803\n",
            "Epoch 114/200\n",
            "107/107 [==============================] - 8s 75ms/step - loss: 1.7565 - mape: 1.7565 - val_loss: 7.4824 - val_mape: 7.4824\n",
            "Epoch 115/200\n",
            "107/107 [==============================] - 8s 75ms/step - loss: 1.7657 - mape: 1.7657 - val_loss: 7.4532 - val_mape: 7.4532\n"
          ]
        }
      ]
    },
    {
      "cell_type": "code",
      "source": [
        "xvals = range(len(myhistory.history['loss']))\n",
        "\n",
        "fig, ax = plt.subplots(1,1,figsize=(10,7))\n",
        "ax.plot(xvals, myhistory.history['val_mape'], '-o', label='test set accuracy')\n",
        "ax.plot(xvals, myhistory.history['mape'], '-o', label='train set accuracy')\n",
        "ax.legend()\n",
        "plt.show()\n",
        "\n"
      ],
      "metadata": {
        "colab": {
          "base_uri": "https://localhost:8080/",
          "height": 428
        },
        "id": "22j0CMAPSzbr",
        "outputId": "50c57cac-7bd7-428c-ac5b-e0b062e22edc"
      },
      "id": "22j0CMAPSzbr",
      "execution_count": null,
      "outputs": [
        {
          "output_type": "display_data",
          "data": {
            "text/plain": [
              "<Figure size 720x504 with 1 Axes>"
            ],
            "image/png": "[encoded data removed]"
          },
          "metadata": {
            "needs_background": "light"
          }
        }
      ]
    },
    {
      "cell_type": "code",
      "source": [
        "y_pred = model.predict(X_test)\n",
        "\n",
        "from sklearn import metrics\n",
        "\n",
        "print('MAE:', metrics.mean_absolute_error(y_test, y_pred))  \n",
        "print('MSE:', metrics.mean_squared_error(y_test, y_pred))  \n",
        "print('MAPE:', np.sqrt(metrics.mean_absolute_percentage_error(y_test, y_pred)))\n",
        "print('R2:', np.sqrt(metrics.r2_score(y_test, y_pred)))\n",
        "print('VarScore:',metrics.explained_variance_score(y_test,y_pred))"
      ],
      "metadata": {
        "colab": {
          "base_uri": "https://localhost:8080/"
        },
        "id": "iJOKT0QPS5AJ",
        "outputId": "4d05c8b4-5130-457d-ece8-7b13d2abf045"
      },
      "id": "iJOKT0QPS5AJ",
      "execution_count": null,
      "outputs": [
        {
          "output_type": "stream",
          "name": "stdout",
          "text": [
            "MAE: 118.27807211303711\n",
            "MSE: 28211.408900340622\n",
            "MAPE: 0.27074898530152647\n",
            "R2: 0.9860817425932544\n",
            "VarScore: 0.972408484635627\n"
          ]
        }
      ]
    },
    {
      "cell_type": "code",
      "source": [
        "# Visualizing Our predictions\n",
        "fig = plt.figure(figsize=(10,5))\n",
        "plt.scatter(y_test,y_pred)\n",
        "# Perfect predictions\n",
        "plt.plot(y_test,y_test,'r')\n",
        "plt.xlabel('y_test')\n",
        "plt.ylabel('y_pred')"
      ],
      "metadata": {
        "colab": {
          "base_uri": "https://localhost:8080/",
          "height": 351
        },
        "id": "u7R-KqYlTAod",
        "outputId": "0fae9b58-2f56-4efe-d9d2-5201f6fb08b0"
      },
      "id": "u7R-KqYlTAod",
      "execution_count": null,
      "outputs": [
        {
          "output_type": "execute_result",
          "data": {
            "text/plain": [
              "Text(0, 0.5, 'y_pred')"
            ]
          },
          "metadata": {},
          "execution_count": 26
        },
        {
          "output_type": "display_data",
          "data": {
            "text/plain": [
              "<Figure size 720x360 with 1 Axes>"
            ],
            "image/png": "[encoded data removed]"
          },
          "metadata": {
            "needs_background": "light"
          }
        }
      ]
    },
    {
      "cell_type": "code",
      "source": [
        ""
      ],
      "metadata": {
        "id": "D-ho-UfI_zFq"
      },
      "id": "D-ho-UfI_zFq",
      "execution_count": null,
      "outputs": []
    }
  ],
  "metadata": {
    "kernelspec": {
      "display_name": "Python 3 (ipykernel)",
      "language": "python",
      "name": "python3"
    },
    "language_info": {
      "codemirror_mode": {
        "name": "ipython",
        "version": 3
      },
      "file_extension": ".py",
      "mimetype": "text/x-python",
      "name": "python",
      "nbconvert_exporter": "python",
      "pygments_lexer": "ipython3",
      "version": "3.8.10"
    },
    "colab": {
      "name": "FinalProject.ipynb",
      "provenance": [],
      "collapsed_sections": []
    },
    "accelerator": "GPU"
  },
  "nbformat": 4,
  "nbformat_minor": 5
}