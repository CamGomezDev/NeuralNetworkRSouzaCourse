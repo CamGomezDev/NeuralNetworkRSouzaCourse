{
 "cells": [
  {
   "cell_type": "markdown",
   "metadata": {},
   "source": [
    "# Homework 1: Matrix Multiplication\n",
    "### MODELADO DE DATOS CON REDES NEURONALES \n",
    "*Professor:* Michal Hemmerling \\\n",
    "*e-mail:* michal.hemmerling@udea.edu.co \n",
    "\n",
    "*Student:* Camilo José Torres Castaño \\\n",
    "*e-mail:* cjose.torres@udea.edu.co \\\n",
    "*C.c.* 1036401258\n"
   ]
  },
  {
   "cell_type": "code",
   "execution_count": 1,
   "metadata": {},
   "outputs": [],
   "source": [
    "import numpy as np"
   ]
  },
  {
   "cell_type": "code",
   "execution_count": 2,
   "metadata": {},
   "outputs": [],
   "source": [
    "A = np.array([[2, 6, -1],\n",
    "             [ 3,-8, -5]])\n",
    "\n",
    "B = np.array([[-1, 9, 5, 0],\n",
    "              [ 7, 4, -4, 2],\n",
    "              [-6, 9,  1, 6]])\n",
    "\n",
    "C =  np.array([[-1, 9, 5, 0],\n",
    "              [ 7, 4, -4, 2]])"
   ]
  },
  {
   "cell_type": "code",
   "execution_count": 3,
   "metadata": {},
   "outputs": [],
   "source": [
    "def MatrixMultiplication(M, N):\n",
    "    finalmatrix = []\n",
    "    if(len(M[0])==len(N)):\n",
    "        \n",
    "        for i in range(len(M)):\n",
    "            rows = []\n",
    "            for j in range(len(N[0])):\n",
    "               \n",
    "                suma = 0\n",
    "                \n",
    "                for k in range(len(N)):\n",
    "                    multiplication = M[i][k]*N[:,j][k]\n",
    "                \n",
    "                    suma = suma + multiplication\n",
    "                \n",
    "                rows.append(suma)\n",
    "            finalmatrix.append(rows)\n",
    "    else:\n",
    "        print(\"ERROR: The matrices columns and rows are not the correct to proceed with the multiplication.\" )\n",
    "    return finalmatrix"
   ]
  },
  {
   "cell_type": "code",
   "execution_count": 4,
   "metadata": {},
   "outputs": [
    {
     "name": "stdout",
     "output_type": "stream",
     "text": [
      "ERROR: The matrices columns and rows are not the correct to proceed with the multiplication.\n"
     ]
    },
    {
     "data": {
      "text/plain": [
       "[]"
      ]
     },
     "execution_count": 4,
     "metadata": {},
     "output_type": "execute_result"
    }
   ],
   "source": [
    "MatrixMultiplication(B,A)"
   ]
  },
  {
   "cell_type": "code",
   "execution_count": 5,
   "metadata": {},
   "outputs": [
    {
     "data": {
      "text/plain": [
       "array([[ 46,  33, -15,   6],\n",
       "       [-29, -50,  42, -46]])"
      ]
     },
     "execution_count": 5,
     "metadata": {},
     "output_type": "execute_result"
    }
   ],
   "source": [
    "np.array(MatrixMultiplication(A,B))"
   ]
  },
  {
   "cell_type": "code",
   "execution_count": 6,
   "metadata": {},
   "outputs": [
    {
     "data": {
      "text/plain": [
       "array([[ 46,  33, -15,   6],\n",
       "       [-29, -50,  42, -46]])"
      ]
     },
     "execution_count": 6,
     "metadata": {},
     "output_type": "execute_result"
    }
   ],
   "source": [
    "A@B"
   ]
  }
 ],
 "metadata": {
  "kernelspec": {
   "display_name": "Python 3",
   "language": "python",
   "name": "python3"
  },
  "language_info": {
   "codemirror_mode": {
    "name": "ipython",
    "version": 3
   },
   "file_extension": ".py",
   "mimetype": "text/x-python",
   "name": "python",
   "nbconvert_exporter": "python",
   "pygments_lexer": "ipython3",
   "version": "3.8.10"
  }
 },
 "nbformat": 4,
 "nbformat_minor": 4
}
