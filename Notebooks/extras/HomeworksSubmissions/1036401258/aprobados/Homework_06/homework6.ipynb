{
 "cells": [
  {
   "cell_type": "markdown",
   "id": "0bf4ccaf",
   "metadata": {},
   "source": [
    "# Homework 6\n",
    "### MODELADO DE DATOS CON REDES NEURONALES \n",
    "*Professor:* Michal Hemmerling \\\n",
    "*e-mail:* michal.hemmerling@udea.edu.co \n",
    "\n",
    "*Student:* Camilo José Torres Castaño \\\n",
    "*e-mail:* cjose.torres@udea.edu.co \\\n",
    "*C.c.* 1036401258\n"
   ]
  },
  {
   "cell_type": "code",
   "execution_count": 1,
   "id": "ff7c6f9a",
   "metadata": {},
   "outputs": [],
   "source": [
    "import pandas as pd\n",
    "import numpy as np\n",
    "import matplotlib.pyplot as plts\n",
    "import matplotlib.image as mpimg\n",
    "import matplotlib.pyplot as plt\n",
    "import tensorflow as tf"
   ]
  },
  {
   "cell_type": "code",
   "execution_count": 2,
   "id": "13a27c7e",
   "metadata": {},
   "outputs": [
    {
     "name": "stdout",
     "output_type": "stream",
     "text": [
      "homework6.ipynb  mnist_test.csv\r\n"
     ]
    }
   ],
   "source": [
    "!ls"
   ]
  },
  {
   "cell_type": "code",
   "execution_count": 3,
   "id": "8e5709ca",
   "metadata": {},
   "outputs": [],
   "source": [
    "# Upload my data set\n",
    "dataset = pd.read_csv('mnist_test.csv', sep = ',')\n",
    "dataset = dataset.to_numpy()"
   ]
  },
  {
   "cell_type": "code",
   "execution_count": 4,
   "id": "1a33b70d",
   "metadata": {},
   "outputs": [
    {
     "data": {
      "text/plain": [
       "array([7, 2, 1, ..., 4, 5, 6])"
      ]
     },
     "execution_count": 4,
     "metadata": {},
     "output_type": "execute_result"
    }
   ],
   "source": [
    "# Divide my data into X data and y data\n",
    "X_data = dataset[:,1:]\n",
    "y_data = dataset[:,0]\n",
    "y_data"
   ]
  },
  {
   "cell_type": "markdown",
   "id": "68c5b02d",
   "metadata": {},
   "source": [
    "### Scale the data with the sklearn.preprocessing.StandardScaler"
   ]
  },
  {
   "cell_type": "code",
   "execution_count": 5,
   "id": "7b0a9eae",
   "metadata": {},
   "outputs": [],
   "source": [
    "from sklearn.preprocessing import StandardScaler\n",
    "\n",
    "scaler = StandardScaler() # Scale\n",
    "X_data = scaler.fit_transform(X_data) "
   ]
  },
  {
   "cell_type": "code",
   "execution_count": 6,
   "id": "241b83b9",
   "metadata": {},
   "outputs": [],
   "source": [
    "# Split my data into test and train samples\n",
    "from sklearn.model_selection import train_test_split\n",
    "(X_train, X_test, y_train, y_test) = train_test_split(X_data, y_data, test_size=0.1)"
   ]
  },
  {
   "cell_type": "code",
   "execution_count": 7,
   "id": "6c88b90c",
   "metadata": {},
   "outputs": [
    {
     "name": "stdout",
     "output_type": "stream",
     "text": [
      "train data shape:  (9000, 784)\n",
      "test data shape:   (1000, 784)\n"
     ]
    }
   ],
   "source": [
    "print(\"train data shape: \", X_train.shape)\n",
    "print(\"test data shape:  \", X_test.shape)"
   ]
  },
  {
   "cell_type": "code",
   "execution_count": 8,
   "id": "789a8e1f",
   "metadata": {},
   "outputs": [
    {
     "name": "stdout",
     "output_type": "stream",
     "text": [
      "Shape of a single sample:  (784,)\n"
     ]
    }
   ],
   "source": [
    "# input_shape \n",
    "\n",
    "print(\"Shape of a single sample: \", X_train[0].shape)"
   ]
  },
  {
   "cell_type": "code",
   "execution_count": 9,
   "id": "5f8f8090",
   "metadata": {},
   "outputs": [],
   "source": [
    "# Import a sequential model\n",
    "from tensorflow.keras.models import Sequential\n",
    "\n",
    "# Import the models to solve the problems\n",
    "from tensorflow.keras.layers import InputLayer, Dense, Flatten, Dropout\n",
    "\n",
    "# Import regularizers\n",
    "from tensorflow.keras import regularizers"
   ]
  },
  {
   "cell_type": "code",
   "execution_count": 10,
   "id": "eb50fa36",
   "metadata": {},
   "outputs": [],
   "source": [
    "# Setting a fixed seed\n",
    "tf.random.set_seed(1234)"
   ]
  },
  {
   "cell_type": "code",
   "execution_count": 11,
   "id": "ccb2b86b",
   "metadata": {},
   "outputs": [],
   "source": [
    "# Create a function with the Sequential model\n",
    "def get_model(input_shape, units=100, activation_hidden_layer='relu', activation_output_layer='softmax', drate=0.3, wd=0.01):\n",
    "    model = Sequential([\n",
    "                        InputLayer(input_shape = input_shape),\n",
    "                        #Flatten(),\n",
    "                        Dense(units=units, activation = activation_hidden_layer, kernel_regularizer = regularizers.l2(wd), name='layer_1'),\n",
    "                        Dropout(drate),\n",
    "                        Dense(units=units, activation = activation_hidden_layer, kernel_regularizer = regularizers.l2(wd), name='layer_2'),\n",
    "                        Dropout(drate),\n",
    "                        Dense(units=units, activation = activation_hidden_layer, kernel_regularizer = regularizers.l2(wd), name='layer_3'),\n",
    "                        Dropout(drate),\n",
    "                        Dense(units=units, activation = activation_hidden_layer, kernel_regularizer = regularizers.l2(wd), name='layer_4'),\n",
    "                        \n",
    "                        Dense(units=10, activation = activation_output_layer, name='output_layer') # The units in the output layer must be the number of posibilities they_data can take into account\n",
    "                        ])\n",
    "    return model"
   ]
  },
  {
   "cell_type": "code",
   "execution_count": 12,
   "id": "3b0b3482",
   "metadata": {},
   "outputs": [],
   "source": [
    "# Intance a Sequential model\n",
    "model = get_model(X_train[0].shape, 100, 'relu','softmax',0.3,0.01)"
   ]
  },
  {
   "cell_type": "markdown",
   "id": "18d37de0",
   "metadata": {},
   "source": [
    "## Summary"
   ]
  },
  {
   "cell_type": "code",
   "execution_count": 13,
   "id": "9375b24f",
   "metadata": {},
   "outputs": [
    {
     "name": "stdout",
     "output_type": "stream",
     "text": [
      "Model: \"sequential\"\n",
      "_________________________________________________________________\n",
      "Layer (type)                 Output Shape              Param #   \n",
      "=================================================================\n",
      "layer_1 (Dense)              (None, 100)               78500     \n",
      "_________________________________________________________________\n",
      "dropout (Dropout)            (None, 100)               0         \n",
      "_________________________________________________________________\n",
      "layer_2 (Dense)              (None, 100)               10100     \n",
      "_________________________________________________________________\n",
      "dropout_1 (Dropout)          (None, 100)               0         \n",
      "_________________________________________________________________\n",
      "layer_3 (Dense)              (None, 100)               10100     \n",
      "_________________________________________________________________\n",
      "dropout_2 (Dropout)          (None, 100)               0         \n",
      "_________________________________________________________________\n",
      "layer_4 (Dense)              (None, 100)               10100     \n",
      "_________________________________________________________________\n",
      "output_layer (Dense)         (None, 10)                1010      \n",
      "=================================================================\n",
      "Total params: 109,810\n",
      "Trainable params: 109,810\n",
      "Non-trainable params: 0\n",
      "_________________________________________________________________\n"
     ]
    }
   ],
   "source": [
    "# Summary\n",
    "model.summary()"
   ]
  },
  {
   "cell_type": "markdown",
   "id": "f67b87ea",
   "metadata": {},
   "source": [
    "## Compile the model"
   ]
  },
  {
   "cell_type": "code",
   "execution_count": 14,
   "id": "ff86ed47",
   "metadata": {},
   "outputs": [],
   "source": [
    "def compile_model(model, optimizer):\n",
    "    model.compile(optimizer=optimizer,\n",
    "                  loss='sparse_categorical_crossentropy', # For clasification problem with digits, not with one-hot encoding\n",
    "                  metrics=['accuracy']\n",
    "                 )"
   ]
  },
  {
   "cell_type": "code",
   "execution_count": 15,
   "id": "c96a9c57",
   "metadata": {},
   "outputs": [],
   "source": [
    "compile_model(model,'adam')"
   ]
  },
  {
   "cell_type": "markdown",
   "id": "a053eca2",
   "metadata": {},
   "source": [
    "## Fit the model"
   ]
  },
  {
   "cell_type": "code",
   "execution_count": 16,
   "id": "4a623f86",
   "metadata": {},
   "outputs": [
    {
     "name": "stdout",
     "output_type": "stream",
     "text": [
      "Epoch 1/20\n",
      "240/240 [==============================] - 1s 3ms/step - loss: 3.7069 - accuracy: 0.6769 - val_loss: 2.0622 - val_accuracy: 0.8911\n",
      "Epoch 2/20\n",
      "240/240 [==============================] - 1s 3ms/step - loss: 1.6838 - accuracy: 0.8676 - val_loss: 1.2690 - val_accuracy: 0.8881\n",
      "Epoch 3/20\n",
      "240/240 [==============================] - 1s 3ms/step - loss: 1.1176 - accuracy: 0.8920 - val_loss: 0.9403 - val_accuracy: 0.9096\n",
      "Epoch 4/20\n",
      "240/240 [==============================] - 1s 3ms/step - loss: 0.9094 - accuracy: 0.8949 - val_loss: 0.8211 - val_accuracy: 0.9119\n",
      "Epoch 5/20\n",
      "240/240 [==============================] - 1s 3ms/step - loss: 0.7985 - accuracy: 0.9034 - val_loss: 0.7482 - val_accuracy: 0.9170\n",
      "Epoch 6/20\n",
      "240/240 [==============================] - 1s 3ms/step - loss: 0.7729 - accuracy: 0.8997 - val_loss: 0.7479 - val_accuracy: 0.9111\n",
      "Epoch 7/20\n",
      "240/240 [==============================] - 1s 3ms/step - loss: 0.7374 - accuracy: 0.9108 - val_loss: 0.7403 - val_accuracy: 0.9059\n",
      "Epoch 8/20\n",
      "240/240 [==============================] - 1s 3ms/step - loss: 0.7162 - accuracy: 0.9115 - val_loss: 0.6923 - val_accuracy: 0.9163\n",
      "Epoch 9/20\n",
      "240/240 [==============================] - 1s 3ms/step - loss: 0.7090 - accuracy: 0.9135 - val_loss: 0.6932 - val_accuracy: 0.9207\n",
      "Epoch 10/20\n",
      "240/240 [==============================] - 1s 3ms/step - loss: 0.7116 - accuracy: 0.9122 - val_loss: 0.7224 - val_accuracy: 0.8963\n",
      "Epoch 11/20\n",
      "240/240 [==============================] - 1s 3ms/step - loss: 0.6697 - accuracy: 0.9167 - val_loss: 0.6884 - val_accuracy: 0.9148\n",
      "Epoch 12/20\n",
      "240/240 [==============================] - 1s 3ms/step - loss: 0.6638 - accuracy: 0.9208 - val_loss: 0.6715 - val_accuracy: 0.9237\n",
      "Epoch 13/20\n",
      "240/240 [==============================] - 1s 3ms/step - loss: 0.6766 - accuracy: 0.9123 - val_loss: 0.6790 - val_accuracy: 0.9148\n",
      "Epoch 14/20\n",
      "240/240 [==============================] - 1s 3ms/step - loss: 0.6560 - accuracy: 0.9197 - val_loss: 0.6955 - val_accuracy: 0.9096\n",
      "Epoch 15/20\n",
      "240/240 [==============================] - 1s 3ms/step - loss: 0.6617 - accuracy: 0.9171 - val_loss: 0.6383 - val_accuracy: 0.9252\n",
      "Epoch 16/20\n",
      "240/240 [==============================] - 1s 3ms/step - loss: 0.6479 - accuracy: 0.9225 - val_loss: 0.6403 - val_accuracy: 0.9252\n",
      "Epoch 17/20\n",
      "240/240 [==============================] - 1s 3ms/step - loss: 0.6369 - accuracy: 0.9203 - val_loss: 0.6489 - val_accuracy: 0.9104\n",
      "Epoch 18/20\n",
      "240/240 [==============================] - 1s 2ms/step - loss: 0.6363 - accuracy: 0.9193 - val_loss: 0.6531 - val_accuracy: 0.9230\n",
      "Epoch 19/20\n",
      "240/240 [==============================] - 1s 3ms/step - loss: 0.6452 - accuracy: 0.9217 - val_loss: 0.6535 - val_accuracy: 0.9200\n",
      "Epoch 20/20\n",
      "240/240 [==============================] - 1s 3ms/step - loss: 0.6176 - accuracy: 0.9246 - val_loss: 0.6297 - val_accuracy: 0.9170\n"
     ]
    }
   ],
   "source": [
    "epochs = 20\n",
    "myhistory = model.fit(X_train, y_train, epochs=epochs, batch_size = 32, validation_split=0.15)"
   ]
  },
  {
   "cell_type": "code",
   "execution_count": 17,
   "id": "fabec0c5",
   "metadata": {},
   "outputs": [
    {
     "data": {
      "text/plain": [
       "dict_keys(['loss', 'accuracy', 'val_loss', 'val_accuracy'])"
      ]
     },
     "execution_count": 17,
     "metadata": {},
     "output_type": "execute_result"
    }
   ],
   "source": [
    "myhistory.history.keys()"
   ]
  },
  {
   "cell_type": "code",
   "execution_count": 18,
   "id": "74561595",
   "metadata": {},
   "outputs": [
    {
     "data": {
      "image/png": "[encoded data removed]",
      "text/plain": [
       "<Figure size 432x288 with 1 Axes>"
      ]
     },
     "metadata": {
      "needs_background": "light"
     },
     "output_type": "display_data"
    }
   ],
   "source": [
    "xvals = range(epochs)\n",
    "\n",
    "fig, ax = plt.subplots(1,1)\n",
    "ax.plot(xvals, myhistory.history['val_accuracy'], '-o', label='test set accuracy')\n",
    "ax.plot(xvals, myhistory.history['accuracy'], '-o', label='train set accuracy')\n",
    "ax.legend()\n",
    "plt.show()\n",
    "\n"
   ]
  },
  {
   "cell_type": "code",
   "execution_count": 19,
   "id": "f6fe67e8",
   "metadata": {},
   "outputs": [
    {
     "data": {
      "image/png": "[encoded data removed]",
      "text/plain": [
       "<Figure size 432x288 with 1 Axes>"
      ]
     },
     "metadata": {
      "needs_background": "light"
     },
     "output_type": "display_data"
    }
   ],
   "source": [
    "fig, ax = plt.subplots(1,1)\n",
    "\n",
    "ax.plot(xvals, myhistory.history['val_loss'], '-o', label='test set loss')\n",
    "ax.plot(xvals, myhistory.history['loss'], '-o', label='train set loss')\n",
    "ax.legend()\n",
    "plt.show()\n",
    "\n",
    "\n"
   ]
  },
  {
   "cell_type": "markdown",
   "id": "e51cdd6c",
   "metadata": {},
   "source": [
    "## Evaluate the model"
   ]
  },
  {
   "cell_type": "code",
   "execution_count": 20,
   "id": "edb1caa6",
   "metadata": {},
   "outputs": [
    {
     "name": "stdout",
     "output_type": "stream",
     "text": [
      "32/32 [==============================] - 0s 1ms/step - loss: 0.6533 - accuracy: 0.9080\n"
     ]
    }
   ],
   "source": [
    "loss, accuracy = model.evaluate(X_test, y_test)"
   ]
  },
  {
   "cell_type": "code",
   "execution_count": 21,
   "id": "419ff709",
   "metadata": {},
   "outputs": [
    {
     "name": "stdout",
     "output_type": "stream",
     "text": [
      "Model accuracy =  0.9079999923706055\n"
     ]
    }
   ],
   "source": [
    "print(\"Model accuracy = \", accuracy)"
   ]
  },
  {
   "cell_type": "markdown",
   "id": "deb89484",
   "metadata": {},
   "source": [
    "## Compare with untrained model"
   ]
  },
  {
   "cell_type": "code",
   "execution_count": 22,
   "id": "b6fa256f",
   "metadata": {},
   "outputs": [
    {
     "name": "stdout",
     "output_type": "stream",
     "text": [
      "282/282 [==============================] - 1s 1ms/step - loss: 7.1459 - accuracy: 0.0857\n"
     ]
    }
   ],
   "source": [
    "untrained_model = get_model(X_train[0].shape)\n",
    "compile_model(untrained_model,'adam')\n",
    "\n",
    "loss_untrained, accuracy_untrained = untrained_model.evaluate(X_train, y_train)"
   ]
  },
  {
   "cell_type": "code",
   "execution_count": 23,
   "id": "7924a2e1",
   "metadata": {},
   "outputs": [
    {
     "name": "stdout",
     "output_type": "stream",
     "text": [
      "0.08566666394472122\n"
     ]
    }
   ],
   "source": [
    "print(accuracy_untrained)"
   ]
  },
  {
   "cell_type": "markdown",
   "id": "7b437f4b",
   "metadata": {},
   "source": [
    "## Predict"
   ]
  },
  {
   "cell_type": "code",
   "execution_count": 24,
   "id": "9f0c173e",
   "metadata": {},
   "outputs": [
    {
     "data": {
      "text/plain": [
       "(9000, 784)"
      ]
     },
     "execution_count": 24,
     "metadata": {},
     "output_type": "execute_result"
    }
   ],
   "source": [
    "# We need the same dimension of X_train to predict a sample\n",
    "X_train.shape"
   ]
  },
  {
   "cell_type": "code",
   "execution_count": 25,
   "id": "b2305f2c",
   "metadata": {},
   "outputs": [
    {
     "name": "stdout",
     "output_type": "stream",
     "text": [
      "(1, 784)\n"
     ]
    }
   ],
   "source": [
    "# Same dimension but different number of samples\n",
    "print(X_test[0:1].shape)"
   ]
  },
  {
   "cell_type": "code",
   "execution_count": 26,
   "id": "ee5b8380",
   "metadata": {},
   "outputs": [
    {
     "data": {
      "text/plain": [
       "array([[5.9224576e-06, 7.2345883e-04, 1.3407270e-04, 2.3296222e-06,\n",
       "        9.9195802e-01, 1.6056323e-04, 7.8126398e-04, 7.3123106e-04,\n",
       "        2.9396545e-04, 5.2091321e-03]], dtype=float32)"
      ]
     },
     "execution_count": 26,
     "metadata": {},
     "output_type": "execute_result"
    }
   ],
   "source": [
    "pred = model.predict(X_test[0:1,:])\n",
    "pred"
   ]
  }
 ],
 "metadata": {
  "kernelspec": {
   "display_name": "Python 3",
   "language": "python",
   "name": "python3"
  },
  "language_info": {
   "codemirror_mode": {
    "name": "ipython",
    "version": 3
   },
   "file_extension": ".py",
   "mimetype": "text/x-python",
   "name": "python",
   "nbconvert_exporter": "python",
   "pygments_lexer": "ipython3",
   "version": "3.7.2"
  }
 },
 "nbformat": 4,
 "nbformat_minor": 5
}
