{
 "cells": [
  {
   "cell_type": "markdown",
   "id": "d94a42f3",
   "metadata": {},
   "source": [
    "## Homework 6: Digit detection with TensorFlow\n",
    "\n",
    "## Nicolás Echeverri Rojas"
   ]
  },
  {
   "cell_type": "code",
   "execution_count": 1,
   "id": "7b1b8949",
   "metadata": {},
   "outputs": [],
   "source": [
    "import numpy as np\n",
    "import pandas as pd\n",
    "import matplotlib.pyplot as plt\n",
    "pd.set_option('display.max_columns', None)"
   ]
  },
  {
   "cell_type": "code",
   "execution_count": 2,
   "id": "297002f0",
   "metadata": {},
   "outputs": [],
   "source": [
    "from sklearn.model_selection import train_test_split"
   ]
  },
  {
   "cell_type": "code",
   "execution_count": 3,
   "id": "1f95b7c6",
   "metadata": {},
   "outputs": [],
   "source": [
    "import tensorflow as tf"
   ]
  },
  {
   "cell_type": "code",
   "execution_count": 4,
   "id": "f13237e7",
   "metadata": {},
   "outputs": [
    {
     "data": {
      "text/plain": [
       "'2.5.0'"
      ]
     },
     "execution_count": 4,
     "metadata": {},
     "output_type": "execute_result"
    }
   ],
   "source": [
    "tf.__version__"
   ]
  },
  {
   "cell_type": "code",
   "execution_count": 5,
   "id": "857d246d",
   "metadata": {},
   "outputs": [],
   "source": [
    "from tensorflow.keras.models import Sequential\n",
    "from tensorflow.keras.layers import InputLayer, Dense, Flatten"
   ]
  },
  {
   "cell_type": "markdown",
   "id": "8aa1d224",
   "metadata": {},
   "source": [
    "## 0) Primer modelo\n",
    "\n",
    "### 0.1) Carga de datos"
   ]
  },
  {
   "cell_type": "code",
   "execution_count": 6,
   "id": "b439fac2",
   "metadata": {},
   "outputs": [],
   "source": [
    "(X_train, y_train), (X_test, y_test) = tf.keras.datasets.mnist.load_data()"
   ]
  },
  {
   "cell_type": "code",
   "execution_count": 7,
   "id": "fdf40e14",
   "metadata": {},
   "outputs": [
    {
     "ename": "NameError",
     "evalue": "name 'featureMatrix' is not defined",
     "output_type": "error",
     "traceback": [
      "\u001b[0;31m---------------------------------------------------------------------------\u001b[0m",
      "\u001b[0;31mNameError\u001b[0m                                 Traceback (most recent call last)",
      "\u001b[0;32m<ipython-input-7-6665b5f6838e>\u001b[0m in \u001b[0;36m<module>\u001b[0;34m\u001b[0m\n\u001b[0;32m----> 1\u001b[0;31m \u001b[0mX_train\u001b[0m\u001b[0;34m,\u001b[0m \u001b[0mX_test\u001b[0m\u001b[0;34m,\u001b[0m\u001b[0my_train\u001b[0m\u001b[0;34m,\u001b[0m\u001b[0my_test\u001b[0m\u001b[0;34m=\u001b[0m\u001b[0mtrain_test_split\u001b[0m\u001b[0;34m(\u001b[0m\u001b[0mfeatureMatrix\u001b[0m\u001b[0;34m,\u001b[0m\u001b[0mtarget\u001b[0m\u001b[0;34m,\u001b[0m\u001b[0mtest_size\u001b[0m\u001b[0;34m=\u001b[0m\u001b[0;36m0.2\u001b[0m\u001b[0;34m)\u001b[0m\u001b[0;34m\u001b[0m\u001b[0;34m\u001b[0m\u001b[0m\n\u001b[0m",
      "\u001b[0;31mNameError\u001b[0m: name 'featureMatrix' is not defined"
     ]
    }
   ],
   "source": [
    "X_train, X_test,y_train,y_test=train_test_split(featureMatrix,target,test_size=0.2)"
   ]
  },
  {
   "cell_type": "code",
   "execution_count": null,
   "id": "bc8e53b6",
   "metadata": {},
   "outputs": [],
   "source": [
    "X_train.shape"
   ]
  },
  {
   "cell_type": "markdown",
   "id": "90bb34e0",
   "metadata": {},
   "source": [
    "### 0.2) Creación del modelo"
   ]
  },
  {
   "cell_type": "code",
   "execution_count": null,
   "id": "f823985d",
   "metadata": {},
   "outputs": [],
   "source": [
    "tf.random.set_seed(1234)\n",
    "\n",
    "model = Sequential([\n",
    "                  Flatten(input_shape=(28,28)), #Para aplanar el arreglo de 28x28\n",
    "                  Dense(units=100,activation='relu',name='layer_1'),\n",
    "                  Dense(units=10,activation='softmax',name='output_layer') #10 neuronas porque se tiene 10 categorias\n",
    "                 ])"
   ]
  },
  {
   "cell_type": "code",
   "execution_count": null,
   "id": "e08894db",
   "metadata": {},
   "outputs": [],
   "source": [
    "model.summary()"
   ]
  },
  {
   "cell_type": "code",
   "execution_count": null,
   "id": "8ee32987",
   "metadata": {},
   "outputs": [],
   "source": [
    "model.compile(optimizer='adam',\n",
    "              loss='sparse_categorical_crossentropy',\n",
    "              metrics=['accuracy'])"
   ]
  },
  {
   "cell_type": "code",
   "execution_count": null,
   "id": "ccdb6770",
   "metadata": {},
   "outputs": [],
   "source": [
    "myhistory=model.fit(X_train, y_train,  epochs=10, batch_size=32, validation_split=0.1, verbose=2)"
   ]
  },
  {
   "cell_type": "markdown",
   "id": "5a3cf278",
   "metadata": {},
   "source": [
    "### 0.3 Evaluación del modelo"
   ]
  },
  {
   "cell_type": "code",
   "execution_count": null,
   "id": "2d1ec137",
   "metadata": {},
   "outputs": [],
   "source": [
    "model.evaluate( X_train,y_train)"
   ]
  },
  {
   "cell_type": "code",
   "execution_count": null,
   "id": "45fda804",
   "metadata": {},
   "outputs": [],
   "source": [
    "model.evaluate( X_test,y_test)"
   ]
  },
  {
   "cell_type": "markdown",
   "id": "e1b35750",
   "metadata": {},
   "source": [
    "Se observa que el primer modelo alcanza una precisión bastante buena puesto que en los datos de train alcanza una precisión de 0.953, en los de validación 0.953 y en los de test de 0.942 sin embargo se va a intentar estos valores"
   ]
  },
  {
   "cell_type": "markdown",
   "id": "7cebb0f6",
   "metadata": {},
   "source": [
    "## Aumentando el Performace del modelo de red neuronal"
   ]
  },
  {
   "cell_type": "markdown",
   "id": "4cb399fd",
   "metadata": {},
   "source": [
    "### 1) Normalización de los datos\n",
    "\n",
    "Primero se realiza una normalización de los datos de tal manera que se evite vanish gradient o exploding gradient "
   ]
  },
  {
   "cell_type": "markdown",
   "id": "563218f2",
   "metadata": {},
   "source": [
    "\n",
    "### 1.1) Normalización a Gaussiana estandar"
   ]
  },
  {
   "cell_type": "code",
   "execution_count": null,
   "id": "e60c30a9",
   "metadata": {},
   "outputs": [],
   "source": [
    "from sklearn import preprocessing"
   ]
  },
  {
   "cell_type": "code",
   "execution_count": null,
   "id": "3003c056",
   "metadata": {},
   "outputs": [],
   "source": [
    "X_train_reshaped=X_train.reshape(len(X_train),28*28)\n",
    "X_test_reshaped=X_test.reshape(len(X_test),28*28)"
   ]
  },
  {
   "cell_type": "code",
   "execution_count": null,
   "id": "73b9351f",
   "metadata": {},
   "outputs": [],
   "source": [
    "X_train_normalized=preprocessing.StandardScaler().fit(X_train_reshaped).transform( X_train_reshaped)\n",
    "X_test_normalized=preprocessing.StandardScaler().fit(X_test_reshaped).transform( X_test_reshaped)"
   ]
  },
  {
   "cell_type": "code",
   "execution_count": null,
   "id": "f5634418",
   "metadata": {},
   "outputs": [],
   "source": [
    "tf.random.set_seed(1234)\n",
    "model = Sequential([\n",
    "                  InputLayer(input_shape=(28*28,)),\n",
    "                  Dense(units=100,activation='relu',name='layer_1'),\n",
    "                  Dense(units=10,activation='softmax',name='output_layer') #10 neuronas porque se tiene 10 categorias\n",
    "                 ])\n",
    "\n",
    "model.compile(optimizer='adam',\n",
    "              loss='sparse_categorical_crossentropy',\n",
    "              metrics=['accuracy'])\n",
    "\n",
    "model.fit(X_train_normalized, y_train,  epochs=10, batch_size=32, validation_split=0.1, verbose=2)"
   ]
  },
  {
   "cell_type": "code",
   "execution_count": null,
   "id": "61395d38",
   "metadata": {},
   "outputs": [],
   "source": [
    "model.evaluate( X_test_normalized,y_test)"
   ]
  },
  {
   "cell_type": "markdown",
   "id": "de62513b",
   "metadata": {},
   "source": [
    "Al normalizar los datos las predicciones del modelo mejoran en gran medida pues alcanza una precisión del 0.993 en los datos de entranamiento, 0.968 en los datos de validación y 0.967 en los datos de test"
   ]
  },
  {
   "cell_type": "markdown",
   "id": "62a5bcc3",
   "metadata": {},
   "source": [
    "### 1.2) Normalización por escalamiento"
   ]
  },
  {
   "cell_type": "code",
   "execution_count": null,
   "id": "5eaa1fdd",
   "metadata": {},
   "outputs": [],
   "source": [
    "maxValue=np.max(X_train)"
   ]
  },
  {
   "cell_type": "code",
   "execution_count": null,
   "id": "ef147f52",
   "metadata": {},
   "outputs": [],
   "source": [
    "X_train_scaled, X_test_scaled=X_train/maxValue, X_test/maxValue"
   ]
  },
  {
   "cell_type": "code",
   "execution_count": null,
   "id": "aeac6238",
   "metadata": {},
   "outputs": [],
   "source": [
    "model = Sequential([\n",
    "                  Flatten(input_shape=(28,28)), #Para aplanar el arreglo de 28x28\n",
    "                  Dense(units=100,activation='relu',name='layer_1'),\n",
    "                  Dense(units=10,activation='softmax',name='output_layer') #10 neuronas porque se tiene 10 categorias\n",
    "                 ])\n",
    "\n",
    "model.compile(optimizer='adam',\n",
    "              loss='sparse_categorical_crossentropy',\n",
    "              metrics=['accuracy'])\n",
    "\n",
    "myHistory=model.fit(X_train_scaled, y_train,  epochs=10, batch_size=32, validation_split=0.1, verbose=2)"
   ]
  },
  {
   "cell_type": "code",
   "execution_count": null,
   "id": "ad39b770",
   "metadata": {},
   "outputs": [],
   "source": [
    "myhistory.history['val_accuracy'][-1],myhistory.history['accuracy'][-1]"
   ]
  },
  {
   "cell_type": "code",
   "execution_count": null,
   "id": "834bce5a",
   "metadata": {},
   "outputs": [],
   "source": [
    "myhistory.history.keys()"
   ]
  },
  {
   "cell_type": "code",
   "execution_count": null,
   "id": "c135b66b",
   "metadata": {},
   "outputs": [],
   "source": [
    "model.evaluate( X_test_scaled,y_test)"
   ]
  },
  {
   "cell_type": "markdown",
   "id": "ba00a106",
   "metadata": {},
   "source": [
    "Se obseva que este modelo posee una precisión de 0.9932 en datos de train,0.9772 en datos de validación y 0.9772 en datos de test, de tal manera que este escalamiento es el que mejor resultados ha arrojado"
   ]
  },
  {
   "cell_type": "markdown",
   "id": "e9ceb2fd",
   "metadata": {},
   "source": [
    "## 2) Variando hiperparámetros del modelo"
   ]
  },
  {
   "cell_type": "code",
   "execution_count": null,
   "id": "0d5eac76",
   "metadata": {},
   "outputs": [],
   "source": [
    "def my_model(X_train, y_train,X_test, y_test, optimizerName,numberEpoch=10, plot=False,verbose=0):\n",
    "        \n",
    "        model = Sequential([\n",
    "                  Flatten(input_shape=(28,28)), #Para aplanar el arreglo de 28x28\n",
    "                  Dense(units=100,activation='relu',name='layer_hidden'),\n",
    "                  Dense(units=10,activation='softmax',name='output_layer') #10 neuronas porque se tiene 10 categorias\n",
    "                 ])\n",
    "        \n",
    "        model.compile(optimizer=optimizerName,\n",
    "              loss='sparse_categorical_crossentropy',\n",
    "              metrics=['accuracy'])\n",
    "        \n",
    "        myhistory=model.fit(X_train, y_train,  epochs=numberEpoch, batch_size=32, validation_split=0.1, verbose=verbose)\n",
    "        \n",
    "        TrainAccuracy=myhistory.history['accuracy'][-1]\n",
    "        LossTrain=myhistory.history['loss'][-1]\n",
    "        \n",
    "        ValidationAccuracy=myhistory.history['val_accuracy'][-1]\n",
    "        LossValidation=myhistory.history['val_loss'][-1]\n",
    "        \n",
    "        LossTest,AccuracyTest=model.evaluate( X_test,y_test)\n",
    "        \n",
    "        \n",
    "        if plot is True:\n",
    "            xvals=range(numberEpoch)\n",
    "            fig,ax=plt.subplots(1,1)\n",
    "            ax.plot(xvals, myhistory.history['val_accuracy'],label='validation set accuracy')\n",
    "            ax.plot(xvals, myhistory.history['accuracy'],label='train set accuracy')\n",
    "            ax.set_xlabel('epochs')\n",
    "            ax.set_ylabel('accuracy')\n",
    "            ax.legend()\n",
    "        \n",
    "        return [ [LossTrain,TrainAccuracy],\n",
    "                [LossValidation,ValidationAccuracy],\n",
    "                [LossTest,AccuracyTest] ]\n",
    "        \n"
   ]
  },
  {
   "cell_type": "markdown",
   "id": "75b36ac0",
   "metadata": {},
   "source": [
    "### 2.1) Probando optimizadores"
   ]
  },
  {
   "cell_type": "markdown",
   "id": "d0878874",
   "metadata": {},
   "source": [
    "### 2.1.1) adam"
   ]
  },
  {
   "cell_type": "code",
   "execution_count": null,
   "id": "e0edc7fa",
   "metadata": {},
   "outputs": [],
   "source": [
    "my_model(X_train_scaled, y_train,X_test_scaled, y_test, optimizerName='adam',plot=True,verbose=2)"
   ]
  },
  {
   "cell_type": "markdown",
   "id": "5a1acc6b",
   "metadata": {},
   "source": [
    "### 2.1.2) SGD"
   ]
  },
  {
   "cell_type": "code",
   "execution_count": null,
   "id": "5eca4e55",
   "metadata": {},
   "outputs": [],
   "source": [
    "my_model(X_train_scaled, y_train,X_test_scaled, y_test, optimizerName='SGD',plot=True)\n"
   ]
  },
  {
   "cell_type": "markdown",
   "id": "5f3fd887",
   "metadata": {},
   "source": [
    "### 2.1.3) RMSprop"
   ]
  },
  {
   "cell_type": "code",
   "execution_count": null,
   "id": "4b3975d2",
   "metadata": {},
   "outputs": [],
   "source": [
    "my_model(X_train_scaled, y_train,X_test_scaled, y_test, optimizerName='RMSprop',plot=True)\n"
   ]
  },
  {
   "cell_type": "markdown",
   "id": "400465d3",
   "metadata": {},
   "source": [
    "### 2.1.3) Adagrad"
   ]
  },
  {
   "cell_type": "code",
   "execution_count": null,
   "id": "560eb46f",
   "metadata": {},
   "outputs": [],
   "source": [
    "my_model(X_train_scaled, y_train,X_test_scaled, y_test, optimizerName='Adagrad',plot=True)"
   ]
  },
  {
   "cell_type": "markdown",
   "id": "49776668",
   "metadata": {},
   "source": [
    "### 2.1.4) Adadelta"
   ]
  },
  {
   "cell_type": "code",
   "execution_count": null,
   "id": "23d4a514",
   "metadata": {},
   "outputs": [],
   "source": [
    "my_model(X_train_scaled, y_train,X_test_scaled, y_test, optimizerName='Adadelta',plot=True)"
   ]
  },
  {
   "cell_type": "markdown",
   "id": "04e48189",
   "metadata": {},
   "source": [
    "### 2.1.5) Adamax"
   ]
  },
  {
   "cell_type": "code",
   "execution_count": null,
   "id": "da50475a",
   "metadata": {},
   "outputs": [],
   "source": [
    "my_model(X_train_scaled, y_train,X_test_scaled, y_test, optimizerName='Adamax',plot=True)"
   ]
  },
  {
   "cell_type": "markdown",
   "id": "633bb0f6",
   "metadata": {},
   "source": [
    "Se observa que el mejor optimizador es RMSprop puesto que posee la mayor precisión en el conjunto de test pues alcanza a poseer 0.9763\n",
    "\n",
    "En la siguiente tabla se resumen los resultados\n",
    "\n",
    "| Optimizador | Train accuracy | Validation accuracy | Test accuracy |\n",
    "| --- | --- | --- | --- |\n",
    "| adam | 0.9940 | 0.9761 |  0.9722  |\n",
    "| SGD | 0.9486 | 0.9599 |    0.9478 | \n",
    "| RMSprop | 0.9894 | 0.9750 |   0.9750 |\n",
    "| Adagrad | 0.8998 | 0.9231 |  0.9070  |\n",
    "| Adadelta | 0.7555 | 0.79983 |0.7835    |\n",
    "| Adamax | 0.9773 | 0.97516 |   0.9715  |\n",
    "\n",
    "\n"
   ]
  },
  {
   "cell_type": "markdown",
   "id": "5cc4b152",
   "metadata": {},
   "source": [
    "### 2.2) Variando número de épocas del mejor optimizador"
   ]
  },
  {
   "cell_type": "markdown",
   "id": "04910d14",
   "metadata": {},
   "source": [
    "### 2.2.1) 20 épocas"
   ]
  },
  {
   "cell_type": "code",
   "execution_count": null,
   "id": "3cb0b6f2",
   "metadata": {},
   "outputs": [],
   "source": [
    "my_model(X_train_scaled, y_train,X_test_scaled, y_test, optimizerName='RMSprop',numberEpoch=20,plot=True)"
   ]
  },
  {
   "cell_type": "markdown",
   "id": "02f1d806",
   "metadata": {},
   "source": [
    "### 2.2.2) 25 épocas"
   ]
  },
  {
   "cell_type": "code",
   "execution_count": null,
   "id": "3a6f4382",
   "metadata": {},
   "outputs": [],
   "source": [
    "my_model(X_train_scaled, y_train,X_test_scaled, y_test, optimizerName='RMSprop',numberEpoch=25,plot=True)"
   ]
  },
  {
   "cell_type": "markdown",
   "id": "c303f5df",
   "metadata": {},
   "source": [
    "### 2.2.3) 40 épocas"
   ]
  },
  {
   "cell_type": "code",
   "execution_count": null,
   "id": "38f79670",
   "metadata": {},
   "outputs": [],
   "source": [
    "my_model(X_train_scaled, y_train,X_test_scaled, y_test, optimizerName='RMSprop',numberEpoch=40,plot=True)"
   ]
  },
  {
   "cell_type": "markdown",
   "id": "04219b92",
   "metadata": {},
   "source": [
    "Se observa que en alrededor de 8 épocas se empieza a estabilizar la precisión en el conjunto de validación por tanto se opta por entrenar el modelo en 12 épocas ya que no se observa un incremento sustancial en la precisión al incrementar más estas"
   ]
  },
  {
   "cell_type": "markdown",
   "id": "f804d35e",
   "metadata": {},
   "source": [
    "### 2.3) Variando la arquitectura de la red\n",
    "\n",
    "### 2.3.1) Variando número de neuronas"
   ]
  },
  {
   "cell_type": "code",
   "execution_count": null,
   "id": "8908446d",
   "metadata": {},
   "outputs": [],
   "source": [
    "def my_model2(model,X_train, y_train,X_test, y_test, optimizerName,numberEpoch=10, plot=False,verbose=0, lossF='sparse_categorical_crossentropy'):\n",
    "        tf.random.set_seed(1234)\n",
    "        model.compile(optimizer=optimizerName,\n",
    "              loss=lossF,\n",
    "              metrics=['accuracy'])\n",
    "        \n",
    "        myhistory=model.fit(X_train, y_train,  epochs=numberEpoch, batch_size=32, validation_split=0.1, verbose=verbose)\n",
    "        \n",
    "        TrainAccuracy=myhistory.history['accuracy'][-1]\n",
    "        LossTrain=myhistory.history['loss'][-1]\n",
    "        \n",
    "        ValidationAccuracy=myhistory.history['val_accuracy'][-1]\n",
    "        LossValidation=myhistory.history['val_loss'][-1]\n",
    "        \n",
    "        LossTest,AccuracyTest=model.evaluate( X_test,y_test)\n",
    "        \n",
    "        \n",
    "        if plot is True:\n",
    "            xvals=range(numberEpoch)\n",
    "            fig,ax=plt.subplots(1,1)\n",
    "            ax.plot(xvals, myhistory.history['val_accuracy'],label='validation set accuracy')\n",
    "            ax.plot(xvals, myhistory.history['accuracy'],label='train set accuracy')\n",
    "            ax.set_xlabel('epochs')\n",
    "            ax.set_ylabel('accuracy')\n",
    "            ax.legend()\n",
    "        \n",
    "        return [ [LossTrain,TrainAccuracy],\n",
    "                [LossValidation,ValidationAccuracy],\n",
    "                [LossTest,AccuracyTest] ]"
   ]
  },
  {
   "cell_type": "markdown",
   "id": "f19f3c19",
   "metadata": {},
   "source": [
    "### 2.3.1.1)  50 neuronas"
   ]
  },
  {
   "cell_type": "code",
   "execution_count": null,
   "id": "570e2c58",
   "metadata": {},
   "outputs": [],
   "source": [
    "model = Sequential([\n",
    "        Flatten(input_shape=(28,28)), #Para aplanar el arreglo de 28x28\n",
    "        Dense(units=50,activation='relu',name='layer_hidden'),\n",
    "        Dense(units=10,activation='softmax',name='output_layer') #10 neuronas porque se tiene 10 categorias\n",
    "                ])\n",
    "my_model2(model,X_train_scaled, y_train,X_test_scaled, y_test, optimizerName='RMSprop',numberEpoch=12,plot=True)"
   ]
  },
  {
   "cell_type": "markdown",
   "id": "7662e804",
   "metadata": {},
   "source": [
    "### 2.3.1.2)   150 neuronas"
   ]
  },
  {
   "cell_type": "code",
   "execution_count": null,
   "id": "49370478",
   "metadata": {},
   "outputs": [],
   "source": [
    "model = Sequential([\n",
    "        Flatten(input_shape=(28,28)), #Para aplanar el arreglo de 28x28\n",
    "        Dense(units=150,activation='relu',name='layer_hidden'),\n",
    "        Dense(units=10,activation='softmax',name='output_layer') #10 neuronas porque se tiene 10 categorias\n",
    "                ])\n",
    "my_model2(model,X_train_scaled, y_train,X_test_scaled, y_test, optimizerName='RMSprop',numberEpoch=12,plot=True)"
   ]
  },
  {
   "cell_type": "markdown",
   "id": "b3e309f7",
   "metadata": {},
   "source": [
    "### 2.3.1.3)   200 neuronas"
   ]
  },
  {
   "cell_type": "code",
   "execution_count": null,
   "id": "00b980cb",
   "metadata": {},
   "outputs": [],
   "source": [
    "model = Sequential([\n",
    "        Flatten(input_shape=(28,28)), #Para aplanar el arreglo de 28x28\n",
    "        Dense(units=200,activation='relu',name='layer_hidden'),\n",
    "        Dense(units=10,activation='softmax',name='output_layer') #10 neuronas porque se tiene 10 categorias\n",
    "                ])\n",
    "my_model2(model,X_train_scaled, y_train,X_test_scaled, y_test, optimizerName='RMSprop',numberEpoch=12,plot=True)"
   ]
  },
  {
   "cell_type": "markdown",
   "id": "a93a31d9",
   "metadata": {},
   "source": [
    "Se observa que al aumentar el número de neuronas también aumenta la precisión puesto que usando 200 neuronas se alcanza una precisión de 0.979 en los datos de test, sin embargo el tiempo de cómputo ha empezado a ser considerable\n",
    "\n",
    "En la siguiente tabla se resumen los resultados\n",
    "\n",
    "| número neuronas | Train accuracy | Validation accuracy | Test accuracy |\n",
    "| --- | --- | --- | --- |\n",
    "| 50 | 0.9839 | 0.9743 |   0.9708  |\n",
    "| 100 | 0.9894 | 0.9750 |   0.9750 |\n",
    "| 150 | 0.9943 |  0.9778 |    0.9783 | \n",
    "| 200 | 0.9951 | 0.9819 |  0.9793  |"
   ]
  },
  {
   "cell_type": "markdown",
   "id": "3e0c9568",
   "metadata": {},
   "source": [
    "### 2.3.2) Variando número de capas y número de neuronas"
   ]
  },
  {
   "cell_type": "markdown",
   "id": "badcdb5d",
   "metadata": {},
   "source": [
    "### 2.3.2.1) modelo 1: 50-50"
   ]
  },
  {
   "cell_type": "code",
   "execution_count": null,
   "id": "d544a194",
   "metadata": {},
   "outputs": [],
   "source": [
    "model = Sequential([\n",
    "        Flatten(input_shape=(28,28)), #Para aplanar el arreglo de 28x28\n",
    "        Dense(units=50,activation='relu',name='layer1_hidden'),\n",
    "        Dense(units=50,activation='relu',name='layer2_hidden'),\n",
    "        Dense(units=10,activation='softmax',name='output_layer') #10 neuronas porque se tiene 10 categorias\n",
    "                ])\n",
    "my_model2(model,X_train_scaled, y_train,X_test_scaled, y_test, optimizerName='RMSprop',numberEpoch=12,plot=True)"
   ]
  },
  {
   "cell_type": "markdown",
   "id": "5249bfcc",
   "metadata": {},
   "source": [
    "### 2.3.2.2) modelo 2: 100-50"
   ]
  },
  {
   "cell_type": "code",
   "execution_count": null,
   "id": "9e7f12d8",
   "metadata": {},
   "outputs": [],
   "source": [
    "model = Sequential([\n",
    "        Flatten(input_shape=(28,28)), #Para aplanar el arreglo de 28x28\n",
    "        Dense(units=100,activation='relu',name='layer1_hidden'),\n",
    "        Dense(units=50,activation='relu',name='layer2_hidden'),\n",
    "        Dense(units=10,activation='softmax',name='output_layer') #10 neuronas porque se tiene 10 categorias\n",
    "                ])\n",
    "my_model2(model,X_train_scaled, y_train,X_test_scaled, y_test, optimizerName='RMSprop',numberEpoch=12,plot=True)"
   ]
  },
  {
   "cell_type": "markdown",
   "id": "211dcc8b",
   "metadata": {},
   "source": [
    "Se observa que el modelo de dos capas, la primera de 100 y la segunda de 50 da un resultado de 0.9775, en comparación con el modelo de una capa de 150 neuronas con un resultado de  0.9783, de tal manera que este segundo modelo aunque tienen el mismo número de neuronas, posee mayor precisión"
   ]
  },
  {
   "cell_type": "markdown",
   "id": "4fc2cee7",
   "metadata": {},
   "source": [
    "### 2.3.2.3) modelo 3: 100-50-25"
   ]
  },
  {
   "cell_type": "code",
   "execution_count": null,
   "id": "432d085b",
   "metadata": {},
   "outputs": [],
   "source": [
    "model = Sequential([\n",
    "        Flatten(input_shape=(28,28)), #Para aplanar el arreglo de 28x28\n",
    "        Dense(units=100,activation='relu',name='layer1_hidden'),\n",
    "        Dense(units=50,activation='relu',name='layer2_hidden'),\n",
    "        Dense(units=25,activation='relu',name='layer3_hidden'),\n",
    "        Dense(units=10,activation='softmax',name='output_layer') #10 neuronas porque se tiene 10 categorias\n",
    "                ])\n",
    "my_model2(model,X_train_scaled, y_train,X_test_scaled, y_test, optimizerName='RMSprop',numberEpoch=12,plot=True)"
   ]
  },
  {
   "cell_type": "markdown",
   "id": "e766b93c",
   "metadata": {},
   "source": [
    "### 2.3.2.4) modelo 4: 100-100"
   ]
  },
  {
   "cell_type": "code",
   "execution_count": null,
   "id": "e1f60c8c",
   "metadata": {},
   "outputs": [],
   "source": [
    "model = Sequential([\n",
    "        Flatten(input_shape=(28,28)), #Para aplanar el arreglo de 28x28\n",
    "        Dense(units=100,activation='relu',name='layer1_hidden'),\n",
    "        Dense(units=100,activation='relu',name='layer2_hidden'),\n",
    "        Dense(units=10,activation='softmax',name='output_layer') #10 neuronas porque se tiene 10 categorias\n",
    "                ])\n",
    "my_model2(model,X_train_scaled, y_train,X_test_scaled, y_test, optimizerName='RMSprop',numberEpoch=12,plot=True)"
   ]
  },
  {
   "cell_type": "markdown",
   "id": "34caef3f",
   "metadata": {},
   "source": [
    "el modelo de dos capas de cada uno de de 100 neuronas posee una precisión de 0.9782 en comparación con el modelo de 200 neuronas en una sola capa que da como resultado 0.9793, de tal manera que este segundo modelo posee una mayor precisión"
   ]
  },
  {
   "cell_type": "markdown",
   "id": "c3f2b166",
   "metadata": {},
   "source": [
    "### 2.3.2.5) modelo 5: 200-150"
   ]
  },
  {
   "cell_type": "code",
   "execution_count": null,
   "id": "a0823b49",
   "metadata": {},
   "outputs": [],
   "source": [
    "model = Sequential([\n",
    "        Flatten(input_shape=(28,28)), #Para aplanar el arreglo de 28x28\n",
    "        Dense(units=200,activation='relu',name='layer1_hidden'),\n",
    "        Dense(units=150,activation='relu',name='layer2_hidden'),\n",
    "        Dense(units=10,activation='softmax',name='output_layer') #10 neuronas porque se tiene 10 categorias\n",
    "                ])\n",
    "my_model2(model,X_train_scaled, y_train,X_test_scaled, y_test, optimizerName='RMSprop',numberEpoch=12,plot=True)"
   ]
  },
  {
   "cell_type": "markdown",
   "id": "9e222843",
   "metadata": {},
   "source": [
    "### 2.3.2.6) modelo 6: 200-200"
   ]
  },
  {
   "cell_type": "code",
   "execution_count": null,
   "id": "12918f7d",
   "metadata": {},
   "outputs": [],
   "source": [
    "model = Sequential([\n",
    "        Flatten(input_shape=(28,28)), #Para aplanar el arreglo de 28x28\n",
    "        Dense(units=200,activation='relu',name='layer1_hidden'),\n",
    "        Dense(units=200,activation='relu',name='layer2_hidden'),\n",
    "        Dense(units=10,activation='softmax',name='output_layer') #10 neuronas porque se tiene 10 categorias\n",
    "                ])\n",
    "my_model2(model,X_train_scaled, y_train,X_test_scaled, y_test, optimizerName='RMSprop',numberEpoch=12,plot=True)"
   ]
  },
  {
   "cell_type": "markdown",
   "id": "49f47c6f",
   "metadata": {},
   "source": [
    "### 2.3.2.7) modelo 7: 200-150-50"
   ]
  },
  {
   "cell_type": "code",
   "execution_count": null,
   "id": "fb774db5",
   "metadata": {},
   "outputs": [],
   "source": [
    "model = Sequential([\n",
    "        Flatten(input_shape=(28,28)), #Para aplanar el arreglo de 28x28\n",
    "        Dense(units=200,activation='relu',name='layer1_hidden'),\n",
    "        Dense(units=150,activation='relu',name='layer2_hidden'),\n",
    "        Dense(units=50,activation='relu',name='layer3_hidden'),\n",
    "        Dense(units=10,activation='softmax',name='output_layer') #10 neuronas porque se tiene 10 categorias\n",
    "                ])\n",
    "my_model2(model,X_train_scaled, y_train,X_test_scaled, y_test, optimizerName='RMSprop',numberEpoch=12,plot=True)"
   ]
  },
  {
   "cell_type": "markdown",
   "id": "480d45f5",
   "metadata": {},
   "source": [
    "Se observa que aunque se haya incrementado el número de capas y de neuronas, el desemepeño de este sigue siendo menor al del una capa cocon 200 neuronas pues este alcanzó 0.979 en precisión en los datos de test, por tanto, se sigue usando este modelo para las siguientes variaciones de hiperparámetros\n",
    "\n",
    "En la siguiente tabla se resumen los resultados"
   ]
  },
  {
   "cell_type": "markdown",
   "id": "ec1beca6",
   "metadata": {},
   "source": [
    "| Arquitectura | Train accuracy | Validation accuracy | Test accuracy |\n",
    "| --- | --- | --- | --- |\n",
    "| Arquitectura 0: 200 | 0.9951 | 0.9819 |  0.9793  |\n",
    "| Arquitectura 1: 50-50 | 0.9879 | 0.9773 |   0.9732 |\n",
    "| Arquitectura 2:100-50 | 0.9927 | 0.9796 |   0.9775 |\n",
    "| Arquitectura 3: 100-50-25| 0.9912 |  0.9791 |  0.9753 | \n",
    "| Arquitectura 4: 100-100| 0.9935 | 0.97983 |  0.9782 |\n",
    "| Arquitectura 5: 200-150| 0.9950 | 0.9801 |  0.9789  |\n",
    "| Arquitectura 6: 200-200| 0.9946 | 0.9785 |  0.9768  |\n",
    "| Arquitectura 7: 200-150-50| 0.9951 | 0.9819 |  0.9781  |"
   ]
  },
  {
   "cell_type": "markdown",
   "id": "29f55d89",
   "metadata": {},
   "source": [
    "## 2.4) Usando one-hot encoding para la clasificación"
   ]
  },
  {
   "cell_type": "code",
   "execution_count": null,
   "id": "a5fd6bb4",
   "metadata": {},
   "outputs": [],
   "source": [
    "from keras.utils.np_utils import to_categorical   \n",
    "y_train_tf_one_hot = to_categorical(y_train, num_classes=10)\n",
    "y_test_tf_one_hot = to_categorical(y_test, num_classes=10)"
   ]
  },
  {
   "cell_type": "code",
   "execution_count": null,
   "id": "48fcbfc4",
   "metadata": {},
   "outputs": [],
   "source": [
    "model = Sequential([\n",
    "        Flatten(input_shape=(28,28)), #Para aplanar el arreglo de 28x28\n",
    "        Dense(units=200,activation='relu',name='layer1_hidden'),\n",
    "        Dense(units=10,activation='softmax',name='output_layer') #10 neuronas porque se tiene 10 categorias\n",
    "                ])\n",
    "my_model2(model,X_train_scaled, y_train_tf_one_hot ,X_test_scaled, y_test_tf_one_hot, \n",
    "          optimizerName='RMSprop',numberEpoch=12,lossF='categorical_crossentropy',plot=True)"
   ]
  },
  {
   "cell_type": "markdown",
   "id": "8a0242b5",
   "metadata": {},
   "source": [
    "Se observa que al utilizar codificación one-hot encoding se aumenta un poco la precisión (0.04%) en los datos de test\n",
    "\n",
    "| modelo | Train accuracy | Validation accuracy | Test accuracy |\n",
    "| --- | --- | --- | --- |\n",
    "| Sin one-hot | 0.9951 | 0.9819 |  0.9793  |\n",
    "| con one-hot | 0.9952 | 0.9816 |  0.9797 |"
   ]
  },
  {
   "cell_type": "markdown",
   "id": "341b0293",
   "metadata": {},
   "source": [
    "## 3) Conclusiones\n",
    "\n",
    "Luego de explorar el espacio de los hiperparámetros para realizar la clasificación de dígitos se encontró que el mejor modelo prediciendo los datos posee las características:\n",
    "\n",
    "- Escalamiento de datos: Escalamiento usando valor máximo de los datos\n",
    "\n",
    "- Codificación: one-hot-encoding\n",
    "\n",
    "- optimizador: RMSprop\n",
    "\n",
    "- arquitectura: MLP, 1 hidden layer de 200 neuronas\n",
    "\n",
    "- número épocas: 12\n",
    "\n",
    "Dando como resultado:\n",
    "\n",
    "\n",
    "| Model | Train accuracy | Validation accuracy | Test accuracy |\n",
    "| --- | --- | --- | --- |\n",
    "| First model | 0.9554 |  0.9527 |  0.9419  |\n",
    "| Best model | 0.9952 | 0.9816 |  0.9797 |\n",
    "|      Improvement      |    4%    |   3%     |     4%    |\n",
    "\n",
    "De tal manera que se mejoró el modelo un 4% realizando la variación de los hiperparámetros.\n",
    "\n",
    "En ningún modelo de los presentado se presentó underfitting o overfitting puesto que el error en los datos de validación jamás empezó a incrementar.\n"
   ]
  }
 ],
 "metadata": {
  "kernelspec": {
   "display_name": "Python 3",
   "language": "python",
   "name": "python3"
  },
  "language_info": {
   "codemirror_mode": {
    "name": "ipython",
    "version": 3
   },
   "file_extension": ".py",
   "mimetype": "text/x-python",
   "name": "python",
   "nbconvert_exporter": "python",
   "pygments_lexer": "ipython3",
   "version": "3.7.2"
  }
 },
 "nbformat": 4,
 "nbformat_minor": 5
}
