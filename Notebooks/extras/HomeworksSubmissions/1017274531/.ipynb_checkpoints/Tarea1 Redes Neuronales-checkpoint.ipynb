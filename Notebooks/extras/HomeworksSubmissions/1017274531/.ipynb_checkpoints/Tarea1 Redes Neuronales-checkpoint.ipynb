{
 "cells": [
  {
   "cell_type": "markdown",
   "id": "bb7a29cd",
   "metadata": {},
   "source": [
    "## Multiplicación de matrices\n",
    "\n",
    "## Nicolás Echeverri Rojas"
   ]
  },
  {
   "cell_type": "code",
   "execution_count": 7,
   "id": "3903fecf",
   "metadata": {},
   "outputs": [],
   "source": [
    "import numpy as np"
   ]
  },
  {
   "cell_type": "code",
   "execution_count": 30,
   "id": "f6cf737d",
   "metadata": {},
   "outputs": [],
   "source": [
    "def Matrix_multiplication(A,B):\n",
    "    \n",
    "    A=np.array(A)\n",
    "    B=np.array(B)\n",
    "    \n",
    "    n,m=A.shape\n",
    "    l,k=B.shape\n",
    "    \n",
    "    C=np.zeros((n,k) )\n",
    "    \n",
    "    if m!=l:\n",
    "        print(\"No se pueden multiplicar\")\n",
    "    \n",
    "    else:\n",
    "        for i in range(n):\n",
    "            for j in range(k):\n",
    "                C[i,j]=sum(A[i]*B[:,j])\n",
    "                \n",
    "    return C\n"
   ]
  },
  {
   "cell_type": "markdown",
   "id": "44d3d849",
   "metadata": {},
   "source": [
    "## Realizando pruebas"
   ]
  },
  {
   "cell_type": "code",
   "execution_count": 17,
   "id": "3075acd9",
   "metadata": {},
   "outputs": [],
   "source": [
    "A=np.array([[1,2],[3,4]])\n",
    "B=np.array([[3,4],[5,6]])"
   ]
  },
  {
   "cell_type": "code",
   "execution_count": 24,
   "id": "72625a08",
   "metadata": {},
   "outputs": [
    {
     "data": {
      "text/plain": [
       "array([[13., 16.],\n",
       "       [29., 36.]])"
      ]
     },
     "execution_count": 24,
     "metadata": {},
     "output_type": "execute_result"
    }
   ],
   "source": [
    "Matrix_multiplication(A,B)"
   ]
  },
  {
   "cell_type": "code",
   "execution_count": 36,
   "id": "7a4dd61c",
   "metadata": {},
   "outputs": [
    {
     "data": {
      "text/plain": [
       "array([[-20.,  63.,  -7.],\n",
       "       [ -2.,  26., -19.]])"
      ]
     },
     "execution_count": 36,
     "metadata": {},
     "output_type": "execute_result"
    }
   ],
   "source": [
    "A=np.array([[5,3,-4,-2],[8,-1,0,-3]])\n",
    "B=np.array([[1,4,0],[-5,3,7],[0,-9,5],[5,1,4]])\n",
    "\n",
    "Matrix_multiplication(A,B)"
   ]
  },
  {
   "cell_type": "code",
   "execution_count": 37,
   "id": "87a72cc7",
   "metadata": {},
   "outputs": [
    {
     "data": {
      "text/plain": [
       "array([[-20,  63,  -7],\n",
       "       [ -2,  26, -19]])"
      ]
     },
     "execution_count": 37,
     "metadata": {},
     "output_type": "execute_result"
    }
   ],
   "source": [
    "A@B"
   ]
  },
  {
   "cell_type": "code",
   "execution_count": 38,
   "id": "af9d1c7d",
   "metadata": {},
   "outputs": [
    {
     "name": "stdout",
     "output_type": "stream",
     "text": [
      "8.15 µs ± 153 ns per loop (mean ± std. dev. of 7 runs, 100000 loops each)\n"
     ]
    }
   ],
   "source": [
    "%timeit A@B"
   ]
  },
  {
   "cell_type": "code",
   "execution_count": 39,
   "id": "69be99ec",
   "metadata": {},
   "outputs": [
    {
     "name": "stdout",
     "output_type": "stream",
     "text": [
      "11.2 µs ± 279 ns per loop (mean ± std. dev. of 7 runs, 100000 loops each)\n"
     ]
    }
   ],
   "source": [
    "%timeit np.dot(A,B)"
   ]
  },
  {
   "cell_type": "code",
   "execution_count": 40,
   "id": "333374a7",
   "metadata": {},
   "outputs": [
    {
     "name": "stdout",
     "output_type": "stream",
     "text": [
      "160 µs ± 10.5 µs per loop (mean ± std. dev. of 7 runs, 10000 loops each)\n"
     ]
    }
   ],
   "source": [
    "%timeit Matrix_multiplication(A,B)"
   ]
  }
 ],
 "metadata": {
  "kernelspec": {
   "display_name": "Python 3",
   "language": "python",
   "name": "python3"
  },
  "language_info": {
   "codemirror_mode": {
    "name": "ipython",
    "version": 3
   },
   "file_extension": ".py",
   "mimetype": "text/x-python",
   "name": "python",
   "nbconvert_exporter": "python",
   "pygments_lexer": "ipython3",
   "version": "3.7.2"
  }
 },
 "nbformat": 4,
 "nbformat_minor": 5
}
