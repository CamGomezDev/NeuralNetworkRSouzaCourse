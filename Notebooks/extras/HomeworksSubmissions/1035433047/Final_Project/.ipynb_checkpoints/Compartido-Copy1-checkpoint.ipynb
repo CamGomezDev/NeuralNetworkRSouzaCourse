{
 "cells": [
  {
   "cell_type": "code",
   "execution_count": 73,
   "metadata": {
    "executionInfo": {
     "elapsed": 249,
     "status": "ok",
     "timestamp": 1649717726090,
     "user": {
      "displayName": "RAFAEL BARRERA QUIROZ",
      "userId": "07827520137781809235"
     },
     "user_tz": 300
    },
    "id": "s1VYEXVC0JSW"
   },
   "outputs": [],
   "source": [
    "import pandas as pd\n",
    "from scipy.io import loadmat\n",
    "import numpy as np\n",
    "import matplotlib.pyplot as plt\n",
    "import seaborn as sns\n",
    "from scipy import stats\n",
    "import tensorflow as tf\n",
    "from sklearn import preprocessing\n",
    "from sklearn.model_selection import train_test_split\n",
    "from tensorflow.keras.models import Sequential, load_model, Model\n",
    "from tensorflow.keras.layers import InputLayer, Dense, Dropout, Flatten, Conv1D, MaxPooling1D, Concatenate, Input\n",
    "from tensorflow.keras import regularizers\n",
    "from tensorflow.keras.callbacks import ModelCheckpoint\n",
    "from sklearn.metrics import r2_score\n",
    "from scipy.optimize import curve_fit"
   ]
  },
  {
   "cell_type": "code",
   "execution_count": 74,
   "metadata": {
    "executionInfo": {
     "elapsed": 598,
     "status": "ok",
     "timestamp": 1649717522946,
     "user": {
      "displayName": "RAFAEL BARRERA QUIROZ",
      "userId": "07827520137781809235"
     },
     "user_tz": 300
    },
    "id": "Ww5ep_UY0Og2"
   },
   "outputs": [],
   "source": [
    "mat=loadmat('corn.mat')"
   ]
  },
  {
   "cell_type": "code",
   "execution_count": 75,
   "metadata": {
    "executionInfo": {
     "elapsed": 43,
     "status": "ok",
     "timestamp": 1649717522947,
     "user": {
      "displayName": "RAFAEL BARRERA QUIROZ",
      "userId": "07827520137781809235"
     },
     "user_tz": 300
    },
    "id": "9MBpoe8J0TTP"
   },
   "outputs": [],
   "source": [
    "df_m5=pd.DataFrame(data=mat['m5spec'][0][0][7], index=mat['m5spec'][0][0][12][0][0][0], columns=mat['m5spec'][0][0][12][1][0][0])\n",
    "df_mp5=pd.DataFrame(data=mat['mp5spec'][0][0][7], index=mat['mp5spec'][0][0][12][0][0][0], columns=mat['mp5spec'][0][0][12][1][0][0])\n",
    "df_mp6=pd.DataFrame(data=mat['mp6spec'][0][0][7], index=mat['mp6spec'][0][0][12][0][0][0], columns=mat['mp6spec'][0][0][12][1][0][0])"
   ]
  },
  {
   "cell_type": "code",
   "execution_count": 76,
   "metadata": {
    "executionInfo": {
     "elapsed": 40,
     "status": "ok",
     "timestamp": 1649717522948,
     "user": {
      "displayName": "RAFAEL BARRERA QUIROZ",
      "userId": "07827520137781809235"
     },
     "user_tz": 300
    },
    "id": "2wj2YDjW0VUp"
   },
   "outputs": [],
   "source": [
    "df_m5=df_m5.assign(**{'moisture':mat['propvals'][0][0][7][:,0],'oil':mat['propvals'][0][0][7][:,1],\\\n",
    "                'protein':mat['propvals'][0][0][7][:,2],'starch':mat['propvals'][0][0][7][:,3]})\n",
    "df_mp5=df_mp5.assign(**{'moisture':mat['propvals'][0][0][7][:,0],'oil':mat['propvals'][0][0][7][:,1],\\\n",
    "                'protein':mat['propvals'][0][0][7][:,2],'starch':mat['propvals'][0][0][7][:,3]})\n",
    "df_mp6=df_mp6.assign(**{'moisture':mat['propvals'][0][0][7][:,0],'oil':mat['propvals'][0][0][7][:,1],\\\n",
    "                'protein':mat['propvals'][0][0][7][:,2],'starch':mat['propvals'][0][0][7][:,3]})"
   ]
  },
  {
   "cell_type": "code",
   "execution_count": 77,
   "metadata": {
    "executionInfo": {
     "elapsed": 40,
     "status": "ok",
     "timestamp": 1649717522949,
     "user": {
      "displayName": "RAFAEL BARRERA QUIROZ",
      "userId": "07827520137781809235"
     },
     "user_tz": 300
    },
    "id": "OTyfAf-n0YxV"
   },
   "outputs": [],
   "source": [
    "df_m5_target=df_m5[df_m5.columns[-4:]]\n",
    "df_m5_data=df_m5[df_m5.columns[:700]]"
   ]
  },
  {
   "cell_type": "code",
   "execution_count": 78,
   "metadata": {},
   "outputs": [],
   "source": [
    "df_mp5_target=df_mp5[df_mp5.columns[-4:]]\n",
    "df_mp5_data=df_mp5[df_mp5.columns[:700]]"
   ]
  },
  {
   "cell_type": "code",
   "execution_count": 79,
   "metadata": {},
   "outputs": [],
   "source": [
    "df_mp6_target=df_mp6[df_mp6.columns[-4:]]\n",
    "df_mp6_data=df_mp6[df_mp6.columns[:700]]"
   ]
  },
  {
   "cell_type": "code",
   "execution_count": null,
   "metadata": {},
   "outputs": [],
   "source": []
  },
  {
   "cell_type": "code",
   "execution_count": 80,
   "metadata": {
    "executionInfo": {
     "elapsed": 40,
     "status": "ok",
     "timestamp": 1649717522950,
     "user": {
      "displayName": "RAFAEL BARRERA QUIROZ",
      "userId": "07827520137781809235"
     },
     "user_tz": 300
    },
    "id": "l9bD14zA0bMG"
   },
   "outputs": [],
   "source": [
    "X_data_1=df_m5_data.to_numpy()\n",
    "y_data_1=df_m5_target['protein'].to_numpy()"
   ]
  },
  {
   "cell_type": "code",
   "execution_count": 81,
   "metadata": {},
   "outputs": [],
   "source": [
    "X_data_2=df_mp5_data.to_numpy()\n",
    "y_data_2=df_mp5_target['protein'].to_numpy()"
   ]
  },
  {
   "cell_type": "code",
   "execution_count": 82,
   "metadata": {},
   "outputs": [],
   "source": [
    "X_data_3=df_mp6_data.to_numpy()\n",
    "y_data_3=df_mp6_target['protein'].to_numpy()"
   ]
  },
  {
   "cell_type": "code",
   "execution_count": 83,
   "metadata": {},
   "outputs": [
    {
     "data": {
      "text/plain": [
       "(80, 700)"
      ]
     },
     "execution_count": 83,
     "metadata": {},
     "output_type": "execute_result"
    }
   ],
   "source": [
    "X_data_3.shape"
   ]
  },
  {
   "cell_type": "code",
   "execution_count": 84,
   "metadata": {},
   "outputs": [],
   "source": [
    "X_data=np.vstack((X_data_1,X_data_2,X_data_3))\n",
    "y_data=np.hstack((y_data_1,y_data_2,y_data_3))"
   ]
  },
  {
   "cell_type": "code",
   "execution_count": 85,
   "metadata": {},
   "outputs": [
    {
     "data": {
      "text/plain": [
       "(240, 700)"
      ]
     },
     "execution_count": 85,
     "metadata": {},
     "output_type": "execute_result"
    }
   ],
   "source": [
    "X_data.shape"
   ]
  },
  {
   "cell_type": "code",
   "execution_count": 86,
   "metadata": {},
   "outputs": [
    {
     "data": {
      "text/plain": [
       "(80,)"
      ]
     },
     "execution_count": 86,
     "metadata": {},
     "output_type": "execute_result"
    }
   ],
   "source": [
    "y_data_3.shape"
   ]
  },
  {
   "cell_type": "code",
   "execution_count": 87,
   "metadata": {},
   "outputs": [
    {
     "data": {
      "text/plain": [
       "(240,)"
      ]
     },
     "execution_count": 87,
     "metadata": {},
     "output_type": "execute_result"
    }
   ],
   "source": [
    "y_data.shape"
   ]
  },
  {
   "cell_type": "code",
   "execution_count": 88,
   "metadata": {},
   "outputs": [],
   "source": [
    "#X_data=np.delete(X_data, list(range(0, X_data.shape[1], 2)), axis=1)"
   ]
  },
  {
   "cell_type": "code",
   "execution_count": null,
   "metadata": {},
   "outputs": [],
   "source": []
  },
  {
   "cell_type": "code",
   "execution_count": null,
   "metadata": {},
   "outputs": [],
   "source": []
  },
  {
   "cell_type": "code",
   "execution_count": null,
   "metadata": {},
   "outputs": [],
   "source": []
  },
  {
   "cell_type": "code",
   "execution_count": 89,
   "metadata": {
    "executionInfo": {
     "elapsed": 38,
     "status": "ok",
     "timestamp": 1649717522950,
     "user": {
      "displayName": "RAFAEL BARRERA QUIROZ",
      "userId": "07827520137781809235"
     },
     "user_tz": 300
    },
    "id": "_XBH56wf0dfg"
   },
   "outputs": [],
   "source": [
    "X_train, X_test, y_train, y_test = train_test_split(X_data_1, y_data_1, test_size=0.2,random_state=2)"
   ]
  },
  {
   "cell_type": "code",
   "execution_count": 90,
   "metadata": {},
   "outputs": [],
   "source": [
    "#from sklearn.preprocessing import MinMaxScaler\n",
    "#sc = MinMaxScaler(feature_range=(0,1))\n",
    "#X_train = sc.fit_transform(X_train)\n",
    "#X_test = sc.fit_transform(X_test)"
   ]
  },
  {
   "cell_type": "code",
   "execution_count": 91,
   "metadata": {},
   "outputs": [],
   "source": [
    "X_train = X_train[..., None]"
   ]
  },
  {
   "cell_type": "code",
   "execution_count": 92,
   "metadata": {},
   "outputs": [],
   "source": [
    "X_test = X_test[..., None]"
   ]
  },
  {
   "cell_type": "code",
   "execution_count": 93,
   "metadata": {},
   "outputs": [
    {
     "data": {
      "text/plain": [
       "(64, 700, 1)"
      ]
     },
     "execution_count": 93,
     "metadata": {},
     "output_type": "execute_result"
    }
   ],
   "source": [
    "X_train.shape"
   ]
  },
  {
   "cell_type": "code",
   "execution_count": 94,
   "metadata": {},
   "outputs": [
    {
     "data": {
      "text/plain": [
       "(16, 700, 1)"
      ]
     },
     "execution_count": 94,
     "metadata": {},
     "output_type": "execute_result"
    }
   ],
   "source": [
    "X_test.shape"
   ]
  },
  {
   "cell_type": "code",
   "execution_count": null,
   "metadata": {},
   "outputs": [],
   "source": []
  },
  {
   "cell_type": "code",
   "execution_count": 95,
   "metadata": {},
   "outputs": [
    {
     "data": {
      "text/plain": [
       "[<matplotlib.lines.Line2D at 0x7f1fb82e30b8>]"
      ]
     },
     "execution_count": 95,
     "metadata": {},
     "output_type": "execute_result"
    },
    {
     "data": {
      "image/png": "[encoded data removed]",
      "text/plain": [
       "<Figure size 432x288 with 1 Axes>"
      ]
     },
     "metadata": {
      "needs_background": "light"
     },
     "output_type": "display_data"
    }
   ],
   "source": [
    "import matplotlib.pyplot as plt\n",
    "fig, ax = plt.subplots(1,1)\n",
    "ax.plot(X_train[0])"
   ]
  },
  {
   "cell_type": "code",
   "execution_count": 135,
   "metadata": {
    "executionInfo": {
     "elapsed": 38,
     "status": "ok",
     "timestamp": 1649717522951,
     "user": {
      "displayName": "RAFAEL BARRERA QUIROZ",
      "userId": "07827520137781809235"
     },
     "user_tz": 300
    },
    "id": "vYMnLBim0fYR"
   },
   "outputs": [],
   "source": [
    "def get_model(input_shape):\n",
    "  model = Sequential([Conv1D(filters=8, kernel_size=3, strides=3, activation='relu',input_shape=(700,1)),\n",
    "                      Flatten(),\n",
    "                      Dense(units=8,activation='relu'),\n",
    "                      Dense(units=1,activation='linear')                 \n",
    "  ])\n",
    "  return model"
   ]
  },
  {
   "cell_type": "code",
   "execution_count": 136,
   "metadata": {
    "executionInfo": {
     "elapsed": 37,
     "status": "ok",
     "timestamp": 1649717522952,
     "user": {
      "displayName": "RAFAEL BARRERA QUIROZ",
      "userId": "07827520137781809235"
     },
     "user_tz": 300
    },
    "id": "CdS0asp70f79"
   },
   "outputs": [],
   "source": [
    "def compile_model(model):\n",
    "  model.compile(optimizer='adam',loss='mse',metrics=['mse'])"
   ]
  },
  {
   "cell_type": "code",
   "execution_count": 137,
   "metadata": {},
   "outputs": [],
   "source": [
    "#def compile_model(model):\n",
    "#        model.compile(optimizer=tf.keras.optimizers.Adam(learning_rate = 0.001),\n",
    "#              loss='mse' )\n",
    "#tf.random.set_seed(1234)"
   ]
  },
  {
   "cell_type": "code",
   "execution_count": 138,
   "metadata": {},
   "outputs": [
    {
     "data": {
      "text/plain": [
       "(700, 1)"
      ]
     },
     "execution_count": 138,
     "metadata": {},
     "output_type": "execute_result"
    }
   ],
   "source": [
    "X_train[0].shape"
   ]
  },
  {
   "cell_type": "code",
   "execution_count": 139,
   "metadata": {
    "colab": {
     "base_uri": "https://localhost:8080/"
    },
    "executionInfo": {
     "elapsed": 36,
     "status": "ok",
     "timestamp": 1649717522953,
     "user": {
      "displayName": "RAFAEL BARRERA QUIROZ",
      "userId": "07827520137781809235"
     },
     "user_tz": 300
    },
    "id": "pml8W5mV0h1t",
    "outputId": "59ebf1f0-cdef-4c15-d83a-3b150c04324d"
   },
   "outputs": [
    {
     "name": "stdout",
     "output_type": "stream",
     "text": [
      "Model: \"sequential_5\"\n",
      "_________________________________________________________________\n",
      "Layer (type)                 Output Shape              Param #   \n",
      "=================================================================\n",
      "conv1d_5 (Conv1D)            (None, 233, 8)            32        \n",
      "_________________________________________________________________\n",
      "flatten_5 (Flatten)          (None, 1864)              0         \n",
      "_________________________________________________________________\n",
      "dense_10 (Dense)             (None, 8)                 14920     \n",
      "_________________________________________________________________\n",
      "dense_11 (Dense)             (None, 1)                 9         \n",
      "=================================================================\n",
      "Total params: 14,961\n",
      "Trainable params: 14,961\n",
      "Non-trainable params: 0\n",
      "_________________________________________________________________\n"
     ]
    }
   ],
   "source": [
    "model=get_model(X_train[0].shape)\n",
    "model.summary()"
   ]
  },
  {
   "cell_type": "code",
   "execution_count": 140,
   "metadata": {
    "executionInfo": {
     "elapsed": 2237,
     "status": "ok",
     "timestamp": 1649717525172,
     "user": {
      "displayName": "RAFAEL BARRERA QUIROZ",
      "userId": "07827520137781809235"
     },
     "user_tz": 300
    },
    "id": "GLdz8MKz0l-B"
   },
   "outputs": [],
   "source": [
    "compile_model(model)\n",
    "history=model.fit(X_train,y_train,batch_size=32,epochs=50,validation_split=0.1,verbose=0)"
   ]
  },
  {
   "cell_type": "code",
   "execution_count": 141,
   "metadata": {
    "colab": {
     "base_uri": "https://localhost:8080/",
     "height": 350
    },
    "executionInfo": {
     "elapsed": 724,
     "status": "ok",
     "timestamp": 1649717525889,
     "user": {
      "displayName": "RAFAEL BARRERA QUIROZ",
      "userId": "07827520137781809235"
     },
     "user_tz": 300
    },
    "id": "vQvz83et0npP",
    "outputId": "f9426b6c-519c-492b-8924-72c5f7b39bcd"
   },
   "outputs": [
    {
     "data": {
      "image/png": "[encoded data removed]",
      "text/plain": [
       "<Figure size 1008x360 with 1 Axes>"
      ]
     },
     "metadata": {
      "needs_background": "light"
     },
     "output_type": "display_data"
    }
   ],
   "source": [
    "fig, ax = plt.subplots(1,1,figsize=(14,5))\n",
    "ax.plot(history.history['loss'])\n",
    "ax.plot(history.history['val_loss'])\n",
    "ax.set_title('Loss vs Epochs')\n",
    "ax.set(xlabel='Epoch',ylabel='Loss')\n",
    "ax.legend(['Training','Validation'], loc='upper right')\n",
    "plt.show()"
   ]
  },
  {
   "cell_type": "code",
   "execution_count": 142,
   "metadata": {},
   "outputs": [
    {
     "name": "stdout",
     "output_type": "stream",
     "text": [
      "WARNING:tensorflow:6 out of the last 8 calls to <function Model.make_predict_function.<locals>.predict_function at 0x7f1f880df950> triggered tf.function retracing. Tracing is expensive and the excessive number of tracings could be due to (1) creating @tf.function repeatedly in a loop, (2) passing tensors with different shapes, (3) passing Python objects instead of tensors. For (1), please define your @tf.function outside of the loop. For (2), @tf.function has experimental_relax_shapes=True option that relaxes argument shapes that can avoid unnecessary retracing. For (3), please refer to https://www.tensorflow.org/guide/function#controlling_retracing and https://www.tensorflow.org/api_docs/python/tf/function for  more details.\n"
     ]
    }
   ],
   "source": [
    "y_pred=model.predict(X_test)"
   ]
  },
  {
   "cell_type": "code",
   "execution_count": 143,
   "metadata": {},
   "outputs": [
    {
     "data": {
      "text/plain": [
       "[<matplotlib.lines.Line2D at 0x7f1f88097cc0>]"
      ]
     },
     "execution_count": 143,
     "metadata": {},
     "output_type": "execute_result"
    },
    {
     "data": {
      "image/png": "[encoded data removed]",
      "text/plain": [
       "<Figure size 432x288 with 1 Axes>"
      ]
     },
     "metadata": {
      "needs_background": "light"
     },
     "output_type": "display_data"
    }
   ],
   "source": [
    "import matplotlib.pyplot as plt\n",
    "\n",
    "fig,ax=plt.subplots(1,1)\n",
    "ax.plot(y_test,y_pred,'ok')"
   ]
  },
  {
   "cell_type": "code",
   "execution_count": 144,
   "metadata": {},
   "outputs": [
    {
     "data": {
      "text/plain": [
       "array([ 8.786117 ,  7.912531 ,  7.8344793,  8.810918 , 10.674622 ,\n",
       "        8.704423 ,  7.7280755,  8.702526 ,  9.272225 ,  9.58752  ,\n",
       "        9.272542 ,  7.8903008,  8.605398 ,  8.515075 ,  8.146493 ,\n",
       "        8.140941 ], dtype=float32)"
      ]
     },
     "execution_count": 144,
     "metadata": {},
     "output_type": "execute_result"
    }
   ],
   "source": [
    "y_pred[:,0]"
   ]
  },
  {
   "cell_type": "code",
   "execution_count": 145,
   "metadata": {},
   "outputs": [],
   "source": [
    "from sklearn.metrics import r2_score"
   ]
  },
  {
   "cell_type": "code",
   "execution_count": 146,
   "metadata": {},
   "outputs": [
    {
     "data": {
      "text/plain": [
       "-0.8628506270179455"
      ]
     },
     "execution_count": 146,
     "metadata": {},
     "output_type": "execute_result"
    }
   ],
   "source": [
    "r2_score(y_test, y_pred)"
   ]
  },
  {
   "cell_type": "code",
   "execution_count": 147,
   "metadata": {
    "id": "h0EK6jfF5WZb"
   },
   "outputs": [
    {
     "data": {
      "text/plain": [
       "-0.038299371156962136"
      ]
     },
     "execution_count": 147,
     "metadata": {},
     "output_type": "execute_result"
    }
   ],
   "source": [
    "r2_score(y_pred, y_test)"
   ]
  },
  {
   "cell_type": "code",
   "execution_count": null,
   "metadata": {},
   "outputs": [],
   "source": []
  },
  {
   "cell_type": "code",
   "execution_count": null,
   "metadata": {},
   "outputs": [],
   "source": []
  },
  {
   "cell_type": "code",
   "execution_count": null,
   "metadata": {},
   "outputs": [],
   "source": []
  },
  {
   "cell_type": "code",
   "execution_count": null,
   "metadata": {},
   "outputs": [],
   "source": []
  },
  {
   "cell_type": "code",
   "execution_count": null,
   "metadata": {},
   "outputs": [],
   "source": []
  },
  {
   "cell_type": "code",
   "execution_count": null,
   "metadata": {},
   "outputs": [],
   "source": []
  },
  {
   "cell_type": "code",
   "execution_count": null,
   "metadata": {},
   "outputs": [],
   "source": []
  },
  {
   "cell_type": "code",
   "execution_count": null,
   "metadata": {},
   "outputs": [],
   "source": []
  },
  {
   "cell_type": "code",
   "execution_count": null,
   "metadata": {},
   "outputs": [],
   "source": []
  },
  {
   "cell_type": "code",
   "execution_count": null,
   "metadata": {},
   "outputs": [],
   "source": []
  },
  {
   "cell_type": "code",
   "execution_count": 150,
   "metadata": {},
   "outputs": [],
   "source": [
    "# https://stackoverflow.com/questions/49877422/keras-conv1d-input-data-reshape\n",
    "\n",
    "\n",
    "from keras.layers import Input, Conv1D, Dense, concatenate, Flatten\n",
    "from keras.models import Model\n",
    "\n",
    "s1_input = Input((100, 1))\n",
    "s2_input = Input((100, 1))\n",
    "s3_input = Input((100, 1))\n",
    "s4_input = Input((100, 1))\n",
    "\n",
    "conv1 = Conv1D(filters=64, kernel_size=5, activation='relu')(s1_input)\n",
    "conv2 = Conv1D(filters=64, kernel_size=5, activation='relu')(s2_input)\n",
    "conv3 = Conv1D(filters=64, kernel_size=5, activation='relu')(s3_input)\n",
    "conv4 = Conv1D(filters=64, kernel_size=5, activation='relu')(s4_input)\n",
    "\n",
    "f1 = Flatten()(conv1)\n",
    "f2 = Flatten()(conv2)\n",
    "f3 = Flatten()(conv3)\n",
    "f4 = Flatten()(conv4)\n",
    "\n",
    "dense_in = concatenate([f1, f2, f3, f4])\n",
    "output = Dense(1, activation='sigmoid')(dense_in)\n",
    "\n",
    "model = Model(inputs=[s1_input, s2_input, s3_input, s4_input], outputs=[output])\n"
   ]
  },
  {
   "cell_type": "code",
   "execution_count": null,
   "metadata": {},
   "outputs": [],
   "source": []
  }
 ],
 "metadata": {
  "colab": {
   "authorship_tag": "ABX9TyOq3FiXrDkcXkU5aPtzSrNG",
   "name": "Compartido.ipynb",
   "provenance": []
  },
  "kernelspec": {
   "display_name": "Python 3",
   "language": "python",
   "name": "python3"
  },
  "language_info": {
   "codemirror_mode": {
    "name": "ipython",
    "version": 3
   },
   "file_extension": ".py",
   "mimetype": "text/x-python",
   "name": "python",
   "nbconvert_exporter": "python",
   "pygments_lexer": "ipython3",
   "version": "3.7.2"
  }
 },
 "nbformat": 4,
 "nbformat_minor": 1
}
