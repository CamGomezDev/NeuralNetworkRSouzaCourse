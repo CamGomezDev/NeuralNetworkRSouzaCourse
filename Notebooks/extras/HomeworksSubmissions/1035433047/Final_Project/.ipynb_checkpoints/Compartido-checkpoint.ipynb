{
 "cells": [
  {
   "cell_type": "code",
   "execution_count": 18,
   "metadata": {
    "executionInfo": {
     "elapsed": 249,
     "status": "ok",
     "timestamp": 1649717726090,
     "user": {
      "displayName": "RAFAEL BARRERA QUIROZ",
      "userId": "07827520137781809235"
     },
     "user_tz": 300
    },
    "id": "s1VYEXVC0JSW"
   },
   "outputs": [],
   "source": [
    "import pandas as pd\n",
    "from scipy.io import loadmat\n",
    "import numpy as np\n",
    "import matplotlib.pyplot as plt\n",
    "import seaborn as sns\n",
    "from scipy import stats\n",
    "import tensorflow as tf\n",
    "from sklearn import preprocessing\n",
    "from sklearn.model_selection import train_test_split\n",
    "from tensorflow.keras.models import Sequential, load_model, Model\n",
    "from tensorflow.keras.layers import InputLayer, Dense, Dropout, Flatten, Conv1D, MaxPooling1D, Concatenate, Input\n",
    "from tensorflow.keras import regularizers\n",
    "from tensorflow.keras.callbacks import ModelCheckpoint\n",
    "from sklearn.metrics import r2_score\n",
    "from scipy.optimize import curve_fit"
   ]
  },
  {
   "cell_type": "code",
   "execution_count": 3,
   "metadata": {
    "executionInfo": {
     "elapsed": 598,
     "status": "ok",
     "timestamp": 1649717522946,
     "user": {
      "displayName": "RAFAEL BARRERA QUIROZ",
      "userId": "07827520137781809235"
     },
     "user_tz": 300
    },
    "id": "Ww5ep_UY0Og2"
   },
   "outputs": [],
   "source": [
    "mat=loadmat('corn.mat')"
   ]
  },
  {
   "cell_type": "code",
   "execution_count": 4,
   "metadata": {
    "executionInfo": {
     "elapsed": 43,
     "status": "ok",
     "timestamp": 1649717522947,
     "user": {
      "displayName": "RAFAEL BARRERA QUIROZ",
      "userId": "07827520137781809235"
     },
     "user_tz": 300
    },
    "id": "9MBpoe8J0TTP"
   },
   "outputs": [],
   "source": [
    "df_m5=pd.DataFrame(data=mat['m5spec'][0][0][7], index=mat['m5spec'][0][0][12][0][0][0], columns=mat['m5spec'][0][0][12][1][0][0])\n",
    "df_mp5=pd.DataFrame(data=mat['mp5spec'][0][0][7], index=mat['mp5spec'][0][0][12][0][0][0], columns=mat['mp5spec'][0][0][12][1][0][0])\n",
    "df_mp6=pd.DataFrame(data=mat['mp6spec'][0][0][7], index=mat['mp6spec'][0][0][12][0][0][0], columns=mat['mp6spec'][0][0][12][1][0][0])"
   ]
  },
  {
   "cell_type": "code",
   "execution_count": 5,
   "metadata": {
    "executionInfo": {
     "elapsed": 40,
     "status": "ok",
     "timestamp": 1649717522948,
     "user": {
      "displayName": "RAFAEL BARRERA QUIROZ",
      "userId": "07827520137781809235"
     },
     "user_tz": 300
    },
    "id": "2wj2YDjW0VUp"
   },
   "outputs": [],
   "source": [
    "df_m5=df_m5.assign(**{'moisture':mat['propvals'][0][0][7][:,0],'oil':mat['propvals'][0][0][7][:,1],\\\n",
    "                'protein':mat['propvals'][0][0][7][:,2],'starch':mat['propvals'][0][0][7][:,3]})\n",
    "df_mp5=df_mp5.assign(**{'moisture':mat['propvals'][0][0][7][:,0],'oil':mat['propvals'][0][0][7][:,1],\\\n",
    "                'protein':mat['propvals'][0][0][7][:,2],'starch':mat['propvals'][0][0][7][:,3]})\n",
    "df_mp6=df_mp6.assign(**{'moisture':mat['propvals'][0][0][7][:,0],'oil':mat['propvals'][0][0][7][:,1],\\\n",
    "                'protein':mat['propvals'][0][0][7][:,2],'starch':mat['propvals'][0][0][7][:,3]})"
   ]
  },
  {
   "cell_type": "code",
   "execution_count": 6,
   "metadata": {
    "executionInfo": {
     "elapsed": 40,
     "status": "ok",
     "timestamp": 1649717522949,
     "user": {
      "displayName": "RAFAEL BARRERA QUIROZ",
      "userId": "07827520137781809235"
     },
     "user_tz": 300
    },
    "id": "OTyfAf-n0YxV"
   },
   "outputs": [],
   "source": [
    "df_m5_target=df_m5[df_m5.columns[-4:]]\n",
    "df_m5_data=df_m5[df_m5.columns[:700]]"
   ]
  },
  {
   "cell_type": "code",
   "execution_count": 7,
   "metadata": {
    "executionInfo": {
     "elapsed": 40,
     "status": "ok",
     "timestamp": 1649717522950,
     "user": {
      "displayName": "RAFAEL BARRERA QUIROZ",
      "userId": "07827520137781809235"
     },
     "user_tz": 300
    },
    "id": "l9bD14zA0bMG"
   },
   "outputs": [],
   "source": [
    "X_data=df_m5_data.to_numpy()\n",
    "y_data_1=df_m5_target['moisture'].to_numpy()"
   ]
  },
  {
   "cell_type": "code",
   "execution_count": 8,
   "metadata": {
    "executionInfo": {
     "elapsed": 38,
     "status": "ok",
     "timestamp": 1649717522950,
     "user": {
      "displayName": "RAFAEL BARRERA QUIROZ",
      "userId": "07827520137781809235"
     },
     "user_tz": 300
    },
    "id": "_XBH56wf0dfg"
   },
   "outputs": [],
   "source": [
    "X_train, X_test, y_train, y_test = train_test_split(X_data, y_data_1, test_size=0.2,random_state=1234)"
   ]
  },
  {
   "cell_type": "code",
   "execution_count": 9,
   "metadata": {
    "executionInfo": {
     "elapsed": 38,
     "status": "ok",
     "timestamp": 1649717522951,
     "user": {
      "displayName": "RAFAEL BARRERA QUIROZ",
      "userId": "07827520137781809235"
     },
     "user_tz": 300
    },
    "id": "vYMnLBim0fYR"
   },
   "outputs": [],
   "source": [
    "def get_model(input_shape):\n",
    "  model = Sequential([InputLayer(input_shape=input_shape),\n",
    "                      Dense(units=50,activation='relu'),\n",
    "                      Dense(units=50,activation='relu'),\n",
    "                      Dense(units=50,activation='relu'),\n",
    "                      Dense(units=1,activation='linear')                 \n",
    "  ])\n",
    "  return model"
   ]
  },
  {
   "cell_type": "code",
   "execution_count": 10,
   "metadata": {
    "executionInfo": {
     "elapsed": 37,
     "status": "ok",
     "timestamp": 1649717522952,
     "user": {
      "displayName": "RAFAEL BARRERA QUIROZ",
      "userId": "07827520137781809235"
     },
     "user_tz": 300
    },
    "id": "CdS0asp70f79"
   },
   "outputs": [],
   "source": [
    "def compile_model(model):\n",
    "  model.compile(optimizer='adam',loss='mse',metrics=['mape'])"
   ]
  },
  {
   "cell_type": "code",
   "execution_count": 11,
   "metadata": {
    "colab": {
     "base_uri": "https://localhost:8080/"
    },
    "executionInfo": {
     "elapsed": 36,
     "status": "ok",
     "timestamp": 1649717522953,
     "user": {
      "displayName": "RAFAEL BARRERA QUIROZ",
      "userId": "07827520137781809235"
     },
     "user_tz": 300
    },
    "id": "pml8W5mV0h1t",
    "outputId": "59ebf1f0-cdef-4c15-d83a-3b150c04324d"
   },
   "outputs": [
    {
     "name": "stdout",
     "output_type": "stream",
     "text": [
      "Model: \"sequential\"\n",
      "_________________________________________________________________\n",
      " Layer (type)                Output Shape              Param #   \n",
      "=================================================================\n",
      " dense (Dense)               (None, 50)                35050     \n",
      "                                                                 \n",
      " dense_1 (Dense)             (None, 50)                2550      \n",
      "                                                                 \n",
      " dense_2 (Dense)             (None, 50)                2550      \n",
      "                                                                 \n",
      " dense_3 (Dense)             (None, 1)                 51        \n",
      "                                                                 \n",
      "=================================================================\n",
      "Total params: 40,201\n",
      "Trainable params: 40,201\n",
      "Non-trainable params: 0\n",
      "_________________________________________________________________\n"
     ]
    }
   ],
   "source": [
    "model=get_model(X_train[0].shape)\n",
    "model.summary()"
   ]
  },
  {
   "cell_type": "code",
   "execution_count": 12,
   "metadata": {
    "executionInfo": {
     "elapsed": 2237,
     "status": "ok",
     "timestamp": 1649717525172,
     "user": {
      "displayName": "RAFAEL BARRERA QUIROZ",
      "userId": "07827520137781809235"
     },
     "user_tz": 300
    },
    "id": "GLdz8MKz0l-B"
   },
   "outputs": [],
   "source": [
    "compile_model(model)\n",
    "history=model.fit(X_train,y_train,batch_size=64,epochs=50,validation_split=0.15,verbose=0)"
   ]
  },
  {
   "cell_type": "code",
   "execution_count": 13,
   "metadata": {
    "colab": {
     "base_uri": "https://localhost:8080/",
     "height": 350
    },
    "executionInfo": {
     "elapsed": 724,
     "status": "ok",
     "timestamp": 1649717525889,
     "user": {
      "displayName": "RAFAEL BARRERA QUIROZ",
      "userId": "07827520137781809235"
     },
     "user_tz": 300
    },
    "id": "vQvz83et0npP",
    "outputId": "f9426b6c-519c-492b-8924-72c5f7b39bcd"
   },
   "outputs": [
    {
     "data": {
      "image/png": "[encoded data removed]",
      "text/plain": [
       "<Figure size 1008x360 with 2 Axes>"
      ]
     },
     "metadata": {
      "needs_background": "light"
     },
     "output_type": "display_data"
    }
   ],
   "source": [
    "fig, ax = plt.subplots(1,2,figsize=(14,5))\n",
    "ax[0].plot(history.history['loss'])\n",
    "ax[0].plot(history.history['val_loss'])\n",
    "ax[0].set_title('Loss vs Epochs')\n",
    "ax[0].set(xlabel='Epoch',ylabel='Loss')\n",
    "ax[0].legend(['Training','Validation'], loc='upper right')\n",
    "ax[1].plot(history.history['mape'])\n",
    "ax[1].plot(history.history['val_mape'])\n",
    "ax[1].set_title('Mape vs epochs')\n",
    "ax[1].set(xlabel='Epoch',ylabel='Mape')\n",
    "ax[1].legend(['Training','Validation'], loc='upper right')\n",
    "plt.show()"
   ]
  },
  {
   "cell_type": "code",
   "execution_count": 14,
   "metadata": {
    "colab": {
     "base_uri": "https://localhost:8080/"
    },
    "executionInfo": {
     "elapsed": 36,
     "status": "ok",
     "timestamp": 1649717525891,
     "user": {
      "displayName": "RAFAEL BARRERA QUIROZ",
      "userId": "07827520137781809235"
     },
     "user_tz": 300
    },
    "id": "hfhmZjxI0p4J",
    "outputId": "1a8c21e5-7c50-47b8-f1da-bf75fa263cd4"
   },
   "outputs": [
    {
     "name": "stdout",
     "output_type": "stream",
     "text": [
      "2/2 [==============================] - 0s 7ms/step - loss: 1.4324 - mape: 9.6338\n",
      "Train_mape:9.63 \t Train_loss:1.43 \n",
      "\n",
      "1/1 [==============================] - 0s 17ms/step - loss: 1.1707 - mape: 8.7291\n",
      "Test_mape:8.73 \t Test_loss:1.17\n"
     ]
    }
   ],
   "source": [
    "train_result=dict(zip(model.metrics_names,model.evaluate(X_train, y_train)))\n",
    "mape_train=train_result['mape']\n",
    "loss_train=train_result['loss']\n",
    "print(f'Train_mape:{mape_train:.2f}','\\t',f'Train_loss:{loss_train:.2f}','\\n')\n",
    "test_result=dict(zip(model.metrics_names,model.evaluate(X_test, y_test)))\n",
    "mape_test=test_result['mape']\n",
    "loss_test=test_result['loss']\n",
    "print(f'Test_mape:{mape_test:.2f}','\\t',f'Test_loss:{loss_test:.2f}')"
   ]
  },
  {
   "cell_type": "code",
   "execution_count": 15,
   "metadata": {
    "colab": {
     "base_uri": "https://localhost:8080/"
    },
    "executionInfo": {
     "elapsed": 648,
     "status": "ok",
     "timestamp": 1649717526513,
     "user": {
      "displayName": "RAFAEL BARRERA QUIROZ",
      "userId": "07827520137781809235"
     },
     "user_tz": 300
    },
    "id": "y9pIdSYN0sTp",
    "outputId": "889ab294-bc3c-4e4d-d56f-f5551a0bd02e"
   },
   "outputs": [
    {
     "name": "stdout",
     "output_type": "stream",
     "text": [
      "predicted house price value:11 \t real value:10\n",
      "predicted house price value:10 \t real value:10\n",
      "predicted house price value:10 \t real value:10\n",
      "predicted house price value:10 \t real value:10\n",
      "predicted house price value:10 \t real value:10\n",
      "predicted house price value:10 \t real value:11\n",
      "predicted house price value:10 \t real value:10\n",
      "predicted house price value:11 \t real value:10\n",
      "predicted house price value:10 \t real value:11\n",
      "predicted house price value:10 \t real value:10\n"
     ]
    }
   ],
   "source": [
    "n=np.random.randint(0,X_test.shape[0],10)\n",
    "for i in range(10):\n",
    "  prediction=model.predict(X_test[n[i]:n[i]+1])[0][0]\n",
    "  real=y_test[n[i]]\n",
    "  print(f'predicted house price value:{prediction:.0f}','\\t',f'real value:{real:.0f}')"
   ]
  },
  {
   "cell_type": "code",
   "execution_count": 16,
   "metadata": {
    "colab": {
     "base_uri": "https://localhost:8080/"
    },
    "executionInfo": {
     "elapsed": 21,
     "status": "ok",
     "timestamp": 1649717526515,
     "user": {
      "displayName": "RAFAEL BARRERA QUIROZ",
      "userId": "07827520137781809235"
     },
     "user_tz": 300
    },
    "id": "WT9-sMgA0uZK",
    "outputId": "fc7c9be5-643b-4adc-8e8b-b2aef6bf7db2"
   },
   "outputs": [
    {
     "data": {
      "text/plain": [
       "-8.670771682155566"
      ]
     },
     "execution_count": 16,
     "metadata": {},
     "output_type": "execute_result"
    }
   ],
   "source": [
    "r2_score(y_test, model.predict(X_test))"
   ]
  },
  {
   "cell_type": "code",
   "execution_count": 44,
   "metadata": {
    "colab": {
     "base_uri": "https://localhost:8080/",
     "height": 265
    },
    "executionInfo": {
     "elapsed": 877,
     "status": "ok",
     "timestamp": 1649718481502,
     "user": {
      "displayName": "RAFAEL BARRERA QUIROZ",
      "userId": "07827520137781809235"
     },
     "user_tz": 300
    },
    "id": "lxBqUJAO0xQJ",
    "outputId": "21e2de69-b294-44cb-a2ff-ed201fccd0ce"
   },
   "outputs": [
    {
     "data": {
      "image/png": "[encoded data removed]",
      "text/plain": [
       "<Figure size 432x288 with 1 Axes>"
      ]
     },
     "metadata": {
      "needs_background": "light"
     },
     "output_type": "display_data"
    }
   ],
   "source": [
    "plt.plot(y_test,model.predict(X_test),'o')\n",
    "plt.show()"
   ]
  },
  {
   "cell_type": "code",
   "execution_count": 31,
   "metadata": {
    "executionInfo": {
     "elapsed": 220,
     "status": "ok",
     "timestamp": 1649717972977,
     "user": {
      "displayName": "RAFAEL BARRERA QUIROZ",
      "userId": "07827520137781809235"
     },
     "user_tz": 300
    },
    "id": "0trWAuag1xnG"
   },
   "outputs": [],
   "source": [
    "def my_func(x,a1,a0):\n",
    "  return a1*x+a0\n",
    "\n",
    "xdata=y_test\n",
    "ydata=model.predict(X_test).reshape(16,)\n",
    "p0=np.array([1.0,1.0])"
   ]
  },
  {
   "cell_type": "code",
   "execution_count": 32,
   "metadata": {
    "executionInfo": {
     "elapsed": 194,
     "status": "ok",
     "timestamp": 1649717977603,
     "user": {
      "displayName": "RAFAEL BARRERA QUIROZ",
      "userId": "07827520137781809235"
     },
     "user_tz": 300
    },
    "id": "aFf-pruX15Xm"
   },
   "outputs": [],
   "source": [
    "popt,pcov = curve_fit(my_func,xdata,ydata,p0,method='lm')"
   ]
  },
  {
   "cell_type": "code",
   "execution_count": 38,
   "metadata": {
    "executionInfo": {
     "elapsed": 194,
     "status": "ok",
     "timestamp": 1649718207310,
     "user": {
      "displayName": "RAFAEL BARRERA QUIROZ",
      "userId": "07827520137781809235"
     },
     "user_tz": 300
    },
    "id": "MbVQXf2l2CqA"
   },
   "outputs": [],
   "source": [
    "xfit=np.linspace(9.2,11,50)\n",
    "yfit=my_func(xfit,popt[0],popt[1])"
   ]
  },
  {
   "cell_type": "code",
   "execution_count": 40,
   "metadata": {
    "colab": {
     "base_uri": "https://localhost:8080/",
     "height": 320
    },
    "executionInfo": {
     "elapsed": 619,
     "status": "ok",
     "timestamp": 1649718228457,
     "user": {
      "displayName": "RAFAEL BARRERA QUIROZ",
      "userId": "07827520137781809235"
     },
     "user_tz": 300
    },
    "id": "c0Rd4vi53LNN",
    "outputId": "bc36d9d0-5869-4c04-b182-b20b557c6e20"
   },
   "outputs": [
    {
     "data": {
      "image/png": "[encoded data removed]",
      "text/plain": [
       "<Figure size 576x360 with 1 Axes>"
      ]
     },
     "metadata": {
      "needs_background": "light"
     },
     "output_type": "display_data"
    }
   ],
   "source": [
    "plt.figure(figsize=(8,5))\n",
    "plt.plot(y_test, ydata,'o')\n",
    "plt.plot(xfit,yfit)\n",
    "plt.show()"
   ]
  },
  {
   "cell_type": "code",
   "execution_count": 51,
   "metadata": {
    "colab": {
     "base_uri": "https://localhost:8080/"
    },
    "executionInfo": {
     "elapsed": 7,
     "status": "ok",
     "timestamp": 1649718782565,
     "user": {
      "displayName": "RAFAEL BARRERA QUIROZ",
      "userId": "07827520137781809235"
     },
     "user_tz": 300
    },
    "id": "tJryFhY-4E2x",
    "outputId": "077e73a4-fe51-4967-ebd3-302e6ee59c71"
   },
   "outputs": [
    {
     "name": "stdout",
     "output_type": "stream",
     "text": [
      "10.638236656114964 \t 10.410957 \t 0.2272793196891829\n",
      "10.313705670989009 \t 10.611467 \t -0.2977616904611864\n",
      "10.73245532921605 \t 11.521925 \t -0.7894696433181299\n",
      "10.146205807698195 \t 8.309064 \t 1.8371418962602064\n",
      "9.28328240485176 \t 8.734512 \t 0.5487700757501983\n",
      "9.769331115293861 \t 9.143874 \t 0.6254569468978648\n",
      "9.19055926624435 \t 9.73816 \t -0.5476008671174668\n",
      "10.170134359596883 \t 9.855033 \t 0.3151014387594806\n",
      "9.912902426685989 \t 10.248129 \t -0.3352264643052223\n",
      "9.603326786496714 \t 9.843385 \t -0.2400579562401024\n",
      "9.542009872256326 \t 9.615041 \t -0.07303090685744351\n",
      "9.92785777162267 \t 10.376765 \t -0.4489074795369987\n",
      "9.703527597572469 \t 10.003106 \t -0.2995785196760661\n",
      "10.82667400231713 \t 10.614596 \t 0.21207763543480596\n",
      "10.901450727000531 \t 11.197226 \t -0.2957748436781795\n",
      "9.746898097888842 \t 10.185317 \t -0.43841894160090433\n"
     ]
    }
   ],
   "source": [
    "for i in range(y_test.shape[0]):\n",
    "  lista=my_func(y_test,popt[0],popt[1])\n",
    "  print(lista[i],'\\t',ydata[i],'\\t',lista[i]-ydata[i])"
   ]
  },
  {
   "cell_type": "code",
   "execution_count": null,
   "metadata": {
    "id": "h0EK6jfF5WZb"
   },
   "outputs": [],
   "source": []
  }
 ],
 "metadata": {
  "colab": {
   "authorship_tag": "ABX9TyOq3FiXrDkcXkU5aPtzSrNG",
   "name": "Compartido.ipynb",
   "provenance": []
  },
  "kernelspec": {
   "display_name": "Python 3",
   "language": "python",
   "name": "python3"
  },
  "language_info": {
   "codemirror_mode": {
    "name": "ipython",
    "version": 3
   },
   "file_extension": ".py",
   "mimetype": "text/x-python",
   "name": "python",
   "nbconvert_exporter": "python",
   "pygments_lexer": "ipython3",
   "version": "3.7.2"
  }
 },
 "nbformat": 4,
 "nbformat_minor": 1
}
