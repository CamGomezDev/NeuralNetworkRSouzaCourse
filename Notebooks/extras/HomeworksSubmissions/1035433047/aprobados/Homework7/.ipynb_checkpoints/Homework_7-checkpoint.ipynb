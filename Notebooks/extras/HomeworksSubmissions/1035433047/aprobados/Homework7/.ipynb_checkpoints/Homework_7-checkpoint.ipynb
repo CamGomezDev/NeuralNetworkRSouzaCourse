{
 "cells": [
  {
   "cell_type": "markdown",
   "metadata": {
    "id": "1AFch6p1obFP"
   },
   "source": [
    "#Homerwork 7\n",
    "##Rafael Barrera Quiroz C.C. 1035433047"
   ]
  },
  {
   "cell_type": "code",
   "execution_count": 1,
   "metadata": {
    "id": "F9pihFtd0lXJ"
   },
   "outputs": [],
   "source": [
    "import pandas as pd\n",
    "import numpy as np\n",
    "import seaborn as sns\n",
    "import matplotlib.pyplot as plt\n",
    "from scipy import stats\n",
    "import tensorflow as tf\n",
    "from sklearn import preprocessing\n",
    "from sklearn.model_selection import train_test_split\n",
    "from tensorflow.keras.models import Sequential\n",
    "from tensorflow.keras.layers import InputLayer, Dense, Dropout\n",
    "from tensorflow.keras import regularizers\n",
    "from tensorflow.keras.models import load_model\n",
    "from tensorflow.keras.callbacks import ModelCheckpoint"
   ]
  },
  {
   "cell_type": "markdown",
   "metadata": {
    "id": "dtST1gwP323s"
   },
   "source": [
    "#Explore dataset"
   ]
  },
  {
   "cell_type": "code",
   "execution_count": 2,
   "metadata": {
    "id": "ritdD0wz2JPz"
   },
   "outputs": [],
   "source": [
    "df = pd.read_csv('kc_house_data.txt')"
   ]
  },
  {
   "cell_type": "code",
   "execution_count": 3,
   "metadata": {
    "colab": {
     "base_uri": "https://localhost:8080/",
     "height": 487
    },
    "id": "_ffJ4vLO5s1u",
    "outputId": "ccc2dbbd-fcde-44db-d152-0a75a1c12d1f"
   },
   "outputs": [
    {
     "data": {
      "text/html": [
       "<div>\n",
       "<style scoped>\n",
       "    .dataframe tbody tr th:only-of-type {\n",
       "        vertical-align: middle;\n",
       "    }\n",
       "\n",
       "    .dataframe tbody tr th {\n",
       "        vertical-align: top;\n",
       "    }\n",
       "\n",
       "    .dataframe thead th {\n",
       "        text-align: right;\n",
       "    }\n",
       "</style>\n",
       "<table border=\"1\" class=\"dataframe\">\n",
       "  <thead>\n",
       "    <tr style=\"text-align: right;\">\n",
       "      <th></th>\n",
       "      <th>id</th>\n",
       "      <th>date</th>\n",
       "      <th>price</th>\n",
       "      <th>bedrooms</th>\n",
       "      <th>bathrooms</th>\n",
       "      <th>sqft_living</th>\n",
       "      <th>sqft_lot</th>\n",
       "      <th>floors</th>\n",
       "      <th>waterfront</th>\n",
       "      <th>view</th>\n",
       "      <th>...</th>\n",
       "      <th>grade</th>\n",
       "      <th>sqft_above</th>\n",
       "      <th>sqft_basement</th>\n",
       "      <th>yr_built</th>\n",
       "      <th>yr_renovated</th>\n",
       "      <th>zipcode</th>\n",
       "      <th>lat</th>\n",
       "      <th>long</th>\n",
       "      <th>sqft_living15</th>\n",
       "      <th>sqft_lot15</th>\n",
       "    </tr>\n",
       "  </thead>\n",
       "  <tbody>\n",
       "    <tr>\n",
       "      <th>0</th>\n",
       "      <td>7129300520</td>\n",
       "      <td>20141013T000000</td>\n",
       "      <td>221900.0</td>\n",
       "      <td>3</td>\n",
       "      <td>1.00</td>\n",
       "      <td>1180</td>\n",
       "      <td>5650.0</td>\n",
       "      <td>1.0</td>\n",
       "      <td>0</td>\n",
       "      <td>0</td>\n",
       "      <td>...</td>\n",
       "      <td>7</td>\n",
       "      <td>1180</td>\n",
       "      <td>0</td>\n",
       "      <td>1955</td>\n",
       "      <td>0</td>\n",
       "      <td>98178</td>\n",
       "      <td>47.5112</td>\n",
       "      <td>-122.257</td>\n",
       "      <td>1340</td>\n",
       "      <td>5650</td>\n",
       "    </tr>\n",
       "    <tr>\n",
       "      <th>1</th>\n",
       "      <td>6414100192</td>\n",
       "      <td>20141209T000000</td>\n",
       "      <td>538000.0</td>\n",
       "      <td>3</td>\n",
       "      <td>2.25</td>\n",
       "      <td>2570</td>\n",
       "      <td>7242.0</td>\n",
       "      <td>2.0</td>\n",
       "      <td>0</td>\n",
       "      <td>0</td>\n",
       "      <td>...</td>\n",
       "      <td>7</td>\n",
       "      <td>2170</td>\n",
       "      <td>400</td>\n",
       "      <td>1951</td>\n",
       "      <td>1991</td>\n",
       "      <td>98125</td>\n",
       "      <td>47.7210</td>\n",
       "      <td>-122.319</td>\n",
       "      <td>1690</td>\n",
       "      <td>7639</td>\n",
       "    </tr>\n",
       "    <tr>\n",
       "      <th>2</th>\n",
       "      <td>5631500400</td>\n",
       "      <td>20150225T000000</td>\n",
       "      <td>180000.0</td>\n",
       "      <td>2</td>\n",
       "      <td>1.00</td>\n",
       "      <td>770</td>\n",
       "      <td>10000.0</td>\n",
       "      <td>1.0</td>\n",
       "      <td>0</td>\n",
       "      <td>0</td>\n",
       "      <td>...</td>\n",
       "      <td>6</td>\n",
       "      <td>770</td>\n",
       "      <td>0</td>\n",
       "      <td>1933</td>\n",
       "      <td>0</td>\n",
       "      <td>98028</td>\n",
       "      <td>47.7379</td>\n",
       "      <td>-122.233</td>\n",
       "      <td>2720</td>\n",
       "      <td>8062</td>\n",
       "    </tr>\n",
       "    <tr>\n",
       "      <th>3</th>\n",
       "      <td>2487200875</td>\n",
       "      <td>20141209T000000</td>\n",
       "      <td>604000.0</td>\n",
       "      <td>4</td>\n",
       "      <td>3.00</td>\n",
       "      <td>1960</td>\n",
       "      <td>5000.0</td>\n",
       "      <td>1.0</td>\n",
       "      <td>0</td>\n",
       "      <td>0</td>\n",
       "      <td>...</td>\n",
       "      <td>7</td>\n",
       "      <td>1050</td>\n",
       "      <td>910</td>\n",
       "      <td>1965</td>\n",
       "      <td>0</td>\n",
       "      <td>98136</td>\n",
       "      <td>47.5208</td>\n",
       "      <td>-122.393</td>\n",
       "      <td>1360</td>\n",
       "      <td>5000</td>\n",
       "    </tr>\n",
       "    <tr>\n",
       "      <th>4</th>\n",
       "      <td>1954400510</td>\n",
       "      <td>20150218T000000</td>\n",
       "      <td>510000.0</td>\n",
       "      <td>3</td>\n",
       "      <td>2.00</td>\n",
       "      <td>1680</td>\n",
       "      <td>8080.0</td>\n",
       "      <td>1.0</td>\n",
       "      <td>0</td>\n",
       "      <td>0</td>\n",
       "      <td>...</td>\n",
       "      <td>8</td>\n",
       "      <td>1680</td>\n",
       "      <td>0</td>\n",
       "      <td>1987</td>\n",
       "      <td>0</td>\n",
       "      <td>98074</td>\n",
       "      <td>47.6168</td>\n",
       "      <td>-122.045</td>\n",
       "      <td>1800</td>\n",
       "      <td>7503</td>\n",
       "    </tr>\n",
       "    <tr>\n",
       "      <th>...</th>\n",
       "      <td>...</td>\n",
       "      <td>...</td>\n",
       "      <td>...</td>\n",
       "      <td>...</td>\n",
       "      <td>...</td>\n",
       "      <td>...</td>\n",
       "      <td>...</td>\n",
       "      <td>...</td>\n",
       "      <td>...</td>\n",
       "      <td>...</td>\n",
       "      <td>...</td>\n",
       "      <td>...</td>\n",
       "      <td>...</td>\n",
       "      <td>...</td>\n",
       "      <td>...</td>\n",
       "      <td>...</td>\n",
       "      <td>...</td>\n",
       "      <td>...</td>\n",
       "      <td>...</td>\n",
       "      <td>...</td>\n",
       "      <td>...</td>\n",
       "    </tr>\n",
       "    <tr>\n",
       "      <th>21610</th>\n",
       "      <td>263000018</td>\n",
       "      <td>20140521T000000</td>\n",
       "      <td>360000.0</td>\n",
       "      <td>3</td>\n",
       "      <td>2.50</td>\n",
       "      <td>1530</td>\n",
       "      <td>1131.0</td>\n",
       "      <td>3.0</td>\n",
       "      <td>0</td>\n",
       "      <td>0</td>\n",
       "      <td>...</td>\n",
       "      <td>8</td>\n",
       "      <td>1530</td>\n",
       "      <td>0</td>\n",
       "      <td>2009</td>\n",
       "      <td>0</td>\n",
       "      <td>98103</td>\n",
       "      <td>47.6993</td>\n",
       "      <td>-122.346</td>\n",
       "      <td>1530</td>\n",
       "      <td>1509</td>\n",
       "    </tr>\n",
       "    <tr>\n",
       "      <th>21611</th>\n",
       "      <td>6600060120</td>\n",
       "      <td>20150223T000000</td>\n",
       "      <td>400000.0</td>\n",
       "      <td>4</td>\n",
       "      <td>2.50</td>\n",
       "      <td>2310</td>\n",
       "      <td>5813.0</td>\n",
       "      <td>2.0</td>\n",
       "      <td>0</td>\n",
       "      <td>0</td>\n",
       "      <td>...</td>\n",
       "      <td>8</td>\n",
       "      <td>2310</td>\n",
       "      <td>0</td>\n",
       "      <td>2014</td>\n",
       "      <td>0</td>\n",
       "      <td>98146</td>\n",
       "      <td>47.5107</td>\n",
       "      <td>-122.362</td>\n",
       "      <td>1830</td>\n",
       "      <td>7200</td>\n",
       "    </tr>\n",
       "    <tr>\n",
       "      <th>21612</th>\n",
       "      <td>1523300141</td>\n",
       "      <td>20140623T000000</td>\n",
       "      <td>402101.0</td>\n",
       "      <td>2</td>\n",
       "      <td>0.75</td>\n",
       "      <td>1020</td>\n",
       "      <td>1350.0</td>\n",
       "      <td>2.0</td>\n",
       "      <td>0</td>\n",
       "      <td>0</td>\n",
       "      <td>...</td>\n",
       "      <td>7</td>\n",
       "      <td>1020</td>\n",
       "      <td>0</td>\n",
       "      <td>2009</td>\n",
       "      <td>0</td>\n",
       "      <td>98144</td>\n",
       "      <td>47.5944</td>\n",
       "      <td>-122.299</td>\n",
       "      <td>1020</td>\n",
       "      <td>2007</td>\n",
       "    </tr>\n",
       "    <tr>\n",
       "      <th>21613</th>\n",
       "      <td>291310100</td>\n",
       "      <td>20150116T000000</td>\n",
       "      <td>400000.0</td>\n",
       "      <td>3</td>\n",
       "      <td>2.50</td>\n",
       "      <td>1600</td>\n",
       "      <td>2388.0</td>\n",
       "      <td>2.0</td>\n",
       "      <td>0</td>\n",
       "      <td>0</td>\n",
       "      <td>...</td>\n",
       "      <td>8</td>\n",
       "      <td>1600</td>\n",
       "      <td>0</td>\n",
       "      <td>2004</td>\n",
       "      <td>0</td>\n",
       "      <td>98027</td>\n",
       "      <td>47.5345</td>\n",
       "      <td>-122.069</td>\n",
       "      <td>1410</td>\n",
       "      <td>1287</td>\n",
       "    </tr>\n",
       "    <tr>\n",
       "      <th>21614</th>\n",
       "      <td>1523300157</td>\n",
       "      <td>20141015T000000</td>\n",
       "      <td>325000.0</td>\n",
       "      <td>2</td>\n",
       "      <td>0.75</td>\n",
       "      <td>1020</td>\n",
       "      <td>1076.0</td>\n",
       "      <td>2.0</td>\n",
       "      <td>0</td>\n",
       "      <td>0</td>\n",
       "      <td>...</td>\n",
       "      <td>7</td>\n",
       "      <td>1020</td>\n",
       "      <td>0</td>\n",
       "      <td>2008</td>\n",
       "      <td>0</td>\n",
       "      <td>98144</td>\n",
       "      <td>47.5941</td>\n",
       "      <td>-122.299</td>\n",
       "      <td>1020</td>\n",
       "      <td>1357</td>\n",
       "    </tr>\n",
       "  </tbody>\n",
       "</table>\n",
       "<p>21615 rows × 21 columns</p>\n",
       "</div>"
      ],
      "text/plain": [
       "               id             date     price  bedrooms  bathrooms  \\\n",
       "0      7129300520  20141013T000000  221900.0         3       1.00   \n",
       "1      6414100192  20141209T000000  538000.0         3       2.25   \n",
       "2      5631500400  20150225T000000  180000.0         2       1.00   \n",
       "3      2487200875  20141209T000000  604000.0         4       3.00   \n",
       "4      1954400510  20150218T000000  510000.0         3       2.00   \n",
       "...           ...              ...       ...       ...        ...   \n",
       "21610   263000018  20140521T000000  360000.0         3       2.50   \n",
       "21611  6600060120  20150223T000000  400000.0         4       2.50   \n",
       "21612  1523300141  20140623T000000  402101.0         2       0.75   \n",
       "21613   291310100  20150116T000000  400000.0         3       2.50   \n",
       "21614  1523300157  20141015T000000  325000.0         2       0.75   \n",
       "\n",
       "       sqft_living  sqft_lot  floors  waterfront  view  ...  grade  \\\n",
       "0             1180    5650.0     1.0           0     0  ...      7   \n",
       "1             2570    7242.0     2.0           0     0  ...      7   \n",
       "2              770   10000.0     1.0           0     0  ...      6   \n",
       "3             1960    5000.0     1.0           0     0  ...      7   \n",
       "4             1680    8080.0     1.0           0     0  ...      8   \n",
       "...            ...       ...     ...         ...   ...  ...    ...   \n",
       "21610         1530    1131.0     3.0           0     0  ...      8   \n",
       "21611         2310    5813.0     2.0           0     0  ...      8   \n",
       "21612         1020    1350.0     2.0           0     0  ...      7   \n",
       "21613         1600    2388.0     2.0           0     0  ...      8   \n",
       "21614         1020    1076.0     2.0           0     0  ...      7   \n",
       "\n",
       "       sqft_above  sqft_basement  yr_built  yr_renovated  zipcode      lat  \\\n",
       "0            1180              0      1955             0    98178  47.5112   \n",
       "1            2170            400      1951          1991    98125  47.7210   \n",
       "2             770              0      1933             0    98028  47.7379   \n",
       "3            1050            910      1965             0    98136  47.5208   \n",
       "4            1680              0      1987             0    98074  47.6168   \n",
       "...           ...            ...       ...           ...      ...      ...   \n",
       "21610        1530              0      2009             0    98103  47.6993   \n",
       "21611        2310              0      2014             0    98146  47.5107   \n",
       "21612        1020              0      2009             0    98144  47.5944   \n",
       "21613        1600              0      2004             0    98027  47.5345   \n",
       "21614        1020              0      2008             0    98144  47.5941   \n",
       "\n",
       "          long  sqft_living15  sqft_lot15  \n",
       "0     -122.257           1340        5650  \n",
       "1     -122.319           1690        7639  \n",
       "2     -122.233           2720        8062  \n",
       "3     -122.393           1360        5000  \n",
       "4     -122.045           1800        7503  \n",
       "...        ...            ...         ...  \n",
       "21610 -122.346           1530        1509  \n",
       "21611 -122.362           1830        7200  \n",
       "21612 -122.299           1020        2007  \n",
       "21613 -122.069           1410        1287  \n",
       "21614 -122.299           1020        1357  \n",
       "\n",
       "[21615 rows x 21 columns]"
      ]
     },
     "execution_count": 3,
     "metadata": {},
     "output_type": "execute_result"
    }
   ],
   "source": [
    "df"
   ]
  },
  {
   "cell_type": "markdown",
   "metadata": {
    "id": "mkzXsYyYAxwD"
   },
   "source": [
    "###Description dataset"
   ]
  },
  {
   "cell_type": "code",
   "execution_count": 4,
   "metadata": {
    "colab": {
     "base_uri": "https://localhost:8080/"
    },
    "id": "B8dh-D4x5tdn",
    "outputId": "75f09b9b-c9fd-4810-bd5a-78296f9f98b4"
   },
   "outputs": [
    {
     "data": {
      "text/plain": [
       "id                 int64\n",
       "date              object\n",
       "price            float64\n",
       "bedrooms           int64\n",
       "bathrooms        float64\n",
       "sqft_living        int64\n",
       "sqft_lot         float64\n",
       "floors           float64\n",
       "waterfront         int64\n",
       "view               int64\n",
       "condition          int64\n",
       "grade              int64\n",
       "sqft_above         int64\n",
       "sqft_basement      int64\n",
       "yr_built           int64\n",
       "yr_renovated       int64\n",
       "zipcode            int64\n",
       "lat              float64\n",
       "long             float64\n",
       "sqft_living15      int64\n",
       "sqft_lot15         int64\n",
       "dtype: object"
      ]
     },
     "execution_count": 4,
     "metadata": {},
     "output_type": "execute_result"
    }
   ],
   "source": [
    "df.dtypes"
   ]
  },
  {
   "cell_type": "code",
   "execution_count": 5,
   "metadata": {
    "colab": {
     "base_uri": "https://localhost:8080/"
    },
    "id": "AynEISx2Tjb3",
    "outputId": "f721a90f-0b4e-4142-be71-6368fd98fb46"
   },
   "outputs": [
    {
     "name": "stdout",
     "output_type": "stream",
     "text": [
      "<class 'pandas.core.frame.DataFrame'>\n",
      "RangeIndex: 21615 entries, 0 to 21614\n",
      "Data columns (total 21 columns):\n",
      "id               21615 non-null int64\n",
      "date             21615 non-null object\n",
      "price            21615 non-null float64\n",
      "bedrooms         21615 non-null int64\n",
      "bathrooms        21615 non-null float64\n",
      "sqft_living      21615 non-null int64\n",
      "sqft_lot         21614 non-null float64\n",
      "floors           21615 non-null float64\n",
      "waterfront       21615 non-null int64\n",
      "view             21615 non-null int64\n",
      "condition        21615 non-null int64\n",
      "grade            21615 non-null int64\n",
      "sqft_above       21615 non-null int64\n",
      "sqft_basement    21615 non-null int64\n",
      "yr_built         21615 non-null int64\n",
      "yr_renovated     21615 non-null int64\n",
      "zipcode          21615 non-null int64\n",
      "lat              21615 non-null float64\n",
      "long             21615 non-null float64\n",
      "sqft_living15    21615 non-null int64\n",
      "sqft_lot15       21615 non-null int64\n",
      "dtypes: float64(6), int64(14), object(1)\n",
      "memory usage: 3.5+ MB\n"
     ]
    }
   ],
   "source": [
    "df.info()"
   ]
  },
  {
   "cell_type": "code",
   "execution_count": 6,
   "metadata": {
    "colab": {
     "base_uri": "https://localhost:8080/"
    },
    "id": "TG8pFTua7Xmz",
    "outputId": "f81506a0-d806-462e-baa4-0d82e8845051"
   },
   "outputs": [
    {
     "name": "stdout",
     "output_type": "stream",
     "text": [
      "Número de filas 21615\n",
      "Número de columnas 21\n",
      "Nombres de las columnas Index(['id', 'date', 'price', 'bedrooms', 'bathrooms', 'sqft_living',\n",
      "       'sqft_lot', 'floors', 'waterfront', 'view', 'condition', 'grade',\n",
      "       'sqft_above', 'sqft_basement', 'yr_built', 'yr_renovated', 'zipcode',\n",
      "       'lat', 'long', 'sqft_living15', 'sqft_lot15'],\n",
      "      dtype='object')\n"
     ]
    }
   ],
   "source": [
    "print('Número de filas', df.shape[0])\n",
    "print('Número de columnas', df.shape[1])\n",
    "print('Nombres de las columnas', df.columns)"
   ]
  },
  {
   "cell_type": "code",
   "execution_count": 7,
   "metadata": {
    "colab": {
     "base_uri": "https://localhost:8080/",
     "height": 299
    },
    "id": "0DZCyBP77voE",
    "outputId": "d9880221-39b5-46b4-db96-20c204d3f91b"
   },
   "outputs": [
    {
     "data": {
      "text/html": [
       "<div>\n",
       "<style scoped>\n",
       "    .dataframe tbody tr th:only-of-type {\n",
       "        vertical-align: middle;\n",
       "    }\n",
       "\n",
       "    .dataframe tbody tr th {\n",
       "        vertical-align: top;\n",
       "    }\n",
       "\n",
       "    .dataframe thead th {\n",
       "        text-align: right;\n",
       "    }\n",
       "</style>\n",
       "<table border=\"1\" class=\"dataframe\">\n",
       "  <thead>\n",
       "    <tr style=\"text-align: right;\">\n",
       "      <th></th>\n",
       "      <th>id</th>\n",
       "      <th>date</th>\n",
       "      <th>price</th>\n",
       "      <th>bedrooms</th>\n",
       "      <th>bathrooms</th>\n",
       "      <th>sqft_living</th>\n",
       "      <th>sqft_lot</th>\n",
       "      <th>floors</th>\n",
       "      <th>waterfront</th>\n",
       "      <th>view</th>\n",
       "      <th>...</th>\n",
       "      <th>grade</th>\n",
       "      <th>sqft_above</th>\n",
       "      <th>sqft_basement</th>\n",
       "      <th>yr_built</th>\n",
       "      <th>yr_renovated</th>\n",
       "      <th>zipcode</th>\n",
       "      <th>lat</th>\n",
       "      <th>long</th>\n",
       "      <th>sqft_living15</th>\n",
       "      <th>sqft_lot15</th>\n",
       "    </tr>\n",
       "  </thead>\n",
       "  <tbody>\n",
       "    <tr>\n",
       "      <th>0</th>\n",
       "      <td>7129300520</td>\n",
       "      <td>20141013T000000</td>\n",
       "      <td>221900.0</td>\n",
       "      <td>3</td>\n",
       "      <td>1.00</td>\n",
       "      <td>1180</td>\n",
       "      <td>5650.0</td>\n",
       "      <td>1.0</td>\n",
       "      <td>0</td>\n",
       "      <td>0</td>\n",
       "      <td>...</td>\n",
       "      <td>7</td>\n",
       "      <td>1180</td>\n",
       "      <td>0</td>\n",
       "      <td>1955</td>\n",
       "      <td>0</td>\n",
       "      <td>98178</td>\n",
       "      <td>47.5112</td>\n",
       "      <td>-122.257</td>\n",
       "      <td>1340</td>\n",
       "      <td>5650</td>\n",
       "    </tr>\n",
       "    <tr>\n",
       "      <th>1</th>\n",
       "      <td>6414100192</td>\n",
       "      <td>20141209T000000</td>\n",
       "      <td>538000.0</td>\n",
       "      <td>3</td>\n",
       "      <td>2.25</td>\n",
       "      <td>2570</td>\n",
       "      <td>7242.0</td>\n",
       "      <td>2.0</td>\n",
       "      <td>0</td>\n",
       "      <td>0</td>\n",
       "      <td>...</td>\n",
       "      <td>7</td>\n",
       "      <td>2170</td>\n",
       "      <td>400</td>\n",
       "      <td>1951</td>\n",
       "      <td>1991</td>\n",
       "      <td>98125</td>\n",
       "      <td>47.7210</td>\n",
       "      <td>-122.319</td>\n",
       "      <td>1690</td>\n",
       "      <td>7639</td>\n",
       "    </tr>\n",
       "    <tr>\n",
       "      <th>2</th>\n",
       "      <td>5631500400</td>\n",
       "      <td>20150225T000000</td>\n",
       "      <td>180000.0</td>\n",
       "      <td>2</td>\n",
       "      <td>1.00</td>\n",
       "      <td>770</td>\n",
       "      <td>10000.0</td>\n",
       "      <td>1.0</td>\n",
       "      <td>0</td>\n",
       "      <td>0</td>\n",
       "      <td>...</td>\n",
       "      <td>6</td>\n",
       "      <td>770</td>\n",
       "      <td>0</td>\n",
       "      <td>1933</td>\n",
       "      <td>0</td>\n",
       "      <td>98028</td>\n",
       "      <td>47.7379</td>\n",
       "      <td>-122.233</td>\n",
       "      <td>2720</td>\n",
       "      <td>8062</td>\n",
       "    </tr>\n",
       "    <tr>\n",
       "      <th>3</th>\n",
       "      <td>2487200875</td>\n",
       "      <td>20141209T000000</td>\n",
       "      <td>604000.0</td>\n",
       "      <td>4</td>\n",
       "      <td>3.00</td>\n",
       "      <td>1960</td>\n",
       "      <td>5000.0</td>\n",
       "      <td>1.0</td>\n",
       "      <td>0</td>\n",
       "      <td>0</td>\n",
       "      <td>...</td>\n",
       "      <td>7</td>\n",
       "      <td>1050</td>\n",
       "      <td>910</td>\n",
       "      <td>1965</td>\n",
       "      <td>0</td>\n",
       "      <td>98136</td>\n",
       "      <td>47.5208</td>\n",
       "      <td>-122.393</td>\n",
       "      <td>1360</td>\n",
       "      <td>5000</td>\n",
       "    </tr>\n",
       "    <tr>\n",
       "      <th>4</th>\n",
       "      <td>1954400510</td>\n",
       "      <td>20150218T000000</td>\n",
       "      <td>510000.0</td>\n",
       "      <td>3</td>\n",
       "      <td>2.00</td>\n",
       "      <td>1680</td>\n",
       "      <td>8080.0</td>\n",
       "      <td>1.0</td>\n",
       "      <td>0</td>\n",
       "      <td>0</td>\n",
       "      <td>...</td>\n",
       "      <td>8</td>\n",
       "      <td>1680</td>\n",
       "      <td>0</td>\n",
       "      <td>1987</td>\n",
       "      <td>0</td>\n",
       "      <td>98074</td>\n",
       "      <td>47.6168</td>\n",
       "      <td>-122.045</td>\n",
       "      <td>1800</td>\n",
       "      <td>7503</td>\n",
       "    </tr>\n",
       "  </tbody>\n",
       "</table>\n",
       "<p>5 rows × 21 columns</p>\n",
       "</div>"
      ],
      "text/plain": [
       "           id             date     price  bedrooms  bathrooms  sqft_living  \\\n",
       "0  7129300520  20141013T000000  221900.0         3       1.00         1180   \n",
       "1  6414100192  20141209T000000  538000.0         3       2.25         2570   \n",
       "2  5631500400  20150225T000000  180000.0         2       1.00          770   \n",
       "3  2487200875  20141209T000000  604000.0         4       3.00         1960   \n",
       "4  1954400510  20150218T000000  510000.0         3       2.00         1680   \n",
       "\n",
       "   sqft_lot  floors  waterfront  view  ...  grade  sqft_above  sqft_basement  \\\n",
       "0    5650.0     1.0           0     0  ...      7        1180              0   \n",
       "1    7242.0     2.0           0     0  ...      7        2170            400   \n",
       "2   10000.0     1.0           0     0  ...      6         770              0   \n",
       "3    5000.0     1.0           0     0  ...      7        1050            910   \n",
       "4    8080.0     1.0           0     0  ...      8        1680              0   \n",
       "\n",
       "   yr_built  yr_renovated  zipcode      lat     long  sqft_living15  \\\n",
       "0      1955             0    98178  47.5112 -122.257           1340   \n",
       "1      1951          1991    98125  47.7210 -122.319           1690   \n",
       "2      1933             0    98028  47.7379 -122.233           2720   \n",
       "3      1965             0    98136  47.5208 -122.393           1360   \n",
       "4      1987             0    98074  47.6168 -122.045           1800   \n",
       "\n",
       "   sqft_lot15  \n",
       "0        5650  \n",
       "1        7639  \n",
       "2        8062  \n",
       "3        5000  \n",
       "4        7503  \n",
       "\n",
       "[5 rows x 21 columns]"
      ]
     },
     "execution_count": 7,
     "metadata": {},
     "output_type": "execute_result"
    }
   ],
   "source": [
    "df.head(5)"
   ]
  },
  {
   "cell_type": "code",
   "execution_count": 8,
   "metadata": {
    "colab": {
     "base_uri": "https://localhost:8080/",
     "height": 299
    },
    "id": "WXigVhEf78Gq",
    "outputId": "8dec3e4e-84c1-4c31-c3c2-11bb1c4217ab"
   },
   "outputs": [
    {
     "data": {
      "text/html": [
       "<div>\n",
       "<style scoped>\n",
       "    .dataframe tbody tr th:only-of-type {\n",
       "        vertical-align: middle;\n",
       "    }\n",
       "\n",
       "    .dataframe tbody tr th {\n",
       "        vertical-align: top;\n",
       "    }\n",
       "\n",
       "    .dataframe thead th {\n",
       "        text-align: right;\n",
       "    }\n",
       "</style>\n",
       "<table border=\"1\" class=\"dataframe\">\n",
       "  <thead>\n",
       "    <tr style=\"text-align: right;\">\n",
       "      <th></th>\n",
       "      <th>id</th>\n",
       "      <th>date</th>\n",
       "      <th>price</th>\n",
       "      <th>bedrooms</th>\n",
       "      <th>bathrooms</th>\n",
       "      <th>sqft_living</th>\n",
       "      <th>sqft_lot</th>\n",
       "      <th>floors</th>\n",
       "      <th>waterfront</th>\n",
       "      <th>view</th>\n",
       "      <th>...</th>\n",
       "      <th>grade</th>\n",
       "      <th>sqft_above</th>\n",
       "      <th>sqft_basement</th>\n",
       "      <th>yr_built</th>\n",
       "      <th>yr_renovated</th>\n",
       "      <th>zipcode</th>\n",
       "      <th>lat</th>\n",
       "      <th>long</th>\n",
       "      <th>sqft_living15</th>\n",
       "      <th>sqft_lot15</th>\n",
       "    </tr>\n",
       "  </thead>\n",
       "  <tbody>\n",
       "    <tr>\n",
       "      <th>21610</th>\n",
       "      <td>263000018</td>\n",
       "      <td>20140521T000000</td>\n",
       "      <td>360000.0</td>\n",
       "      <td>3</td>\n",
       "      <td>2.50</td>\n",
       "      <td>1530</td>\n",
       "      <td>1131.0</td>\n",
       "      <td>3.0</td>\n",
       "      <td>0</td>\n",
       "      <td>0</td>\n",
       "      <td>...</td>\n",
       "      <td>8</td>\n",
       "      <td>1530</td>\n",
       "      <td>0</td>\n",
       "      <td>2009</td>\n",
       "      <td>0</td>\n",
       "      <td>98103</td>\n",
       "      <td>47.6993</td>\n",
       "      <td>-122.346</td>\n",
       "      <td>1530</td>\n",
       "      <td>1509</td>\n",
       "    </tr>\n",
       "    <tr>\n",
       "      <th>21611</th>\n",
       "      <td>6600060120</td>\n",
       "      <td>20150223T000000</td>\n",
       "      <td>400000.0</td>\n",
       "      <td>4</td>\n",
       "      <td>2.50</td>\n",
       "      <td>2310</td>\n",
       "      <td>5813.0</td>\n",
       "      <td>2.0</td>\n",
       "      <td>0</td>\n",
       "      <td>0</td>\n",
       "      <td>...</td>\n",
       "      <td>8</td>\n",
       "      <td>2310</td>\n",
       "      <td>0</td>\n",
       "      <td>2014</td>\n",
       "      <td>0</td>\n",
       "      <td>98146</td>\n",
       "      <td>47.5107</td>\n",
       "      <td>-122.362</td>\n",
       "      <td>1830</td>\n",
       "      <td>7200</td>\n",
       "    </tr>\n",
       "    <tr>\n",
       "      <th>21612</th>\n",
       "      <td>1523300141</td>\n",
       "      <td>20140623T000000</td>\n",
       "      <td>402101.0</td>\n",
       "      <td>2</td>\n",
       "      <td>0.75</td>\n",
       "      <td>1020</td>\n",
       "      <td>1350.0</td>\n",
       "      <td>2.0</td>\n",
       "      <td>0</td>\n",
       "      <td>0</td>\n",
       "      <td>...</td>\n",
       "      <td>7</td>\n",
       "      <td>1020</td>\n",
       "      <td>0</td>\n",
       "      <td>2009</td>\n",
       "      <td>0</td>\n",
       "      <td>98144</td>\n",
       "      <td>47.5944</td>\n",
       "      <td>-122.299</td>\n",
       "      <td>1020</td>\n",
       "      <td>2007</td>\n",
       "    </tr>\n",
       "    <tr>\n",
       "      <th>21613</th>\n",
       "      <td>291310100</td>\n",
       "      <td>20150116T000000</td>\n",
       "      <td>400000.0</td>\n",
       "      <td>3</td>\n",
       "      <td>2.50</td>\n",
       "      <td>1600</td>\n",
       "      <td>2388.0</td>\n",
       "      <td>2.0</td>\n",
       "      <td>0</td>\n",
       "      <td>0</td>\n",
       "      <td>...</td>\n",
       "      <td>8</td>\n",
       "      <td>1600</td>\n",
       "      <td>0</td>\n",
       "      <td>2004</td>\n",
       "      <td>0</td>\n",
       "      <td>98027</td>\n",
       "      <td>47.5345</td>\n",
       "      <td>-122.069</td>\n",
       "      <td>1410</td>\n",
       "      <td>1287</td>\n",
       "    </tr>\n",
       "    <tr>\n",
       "      <th>21614</th>\n",
       "      <td>1523300157</td>\n",
       "      <td>20141015T000000</td>\n",
       "      <td>325000.0</td>\n",
       "      <td>2</td>\n",
       "      <td>0.75</td>\n",
       "      <td>1020</td>\n",
       "      <td>1076.0</td>\n",
       "      <td>2.0</td>\n",
       "      <td>0</td>\n",
       "      <td>0</td>\n",
       "      <td>...</td>\n",
       "      <td>7</td>\n",
       "      <td>1020</td>\n",
       "      <td>0</td>\n",
       "      <td>2008</td>\n",
       "      <td>0</td>\n",
       "      <td>98144</td>\n",
       "      <td>47.5941</td>\n",
       "      <td>-122.299</td>\n",
       "      <td>1020</td>\n",
       "      <td>1357</td>\n",
       "    </tr>\n",
       "  </tbody>\n",
       "</table>\n",
       "<p>5 rows × 21 columns</p>\n",
       "</div>"
      ],
      "text/plain": [
       "               id             date     price  bedrooms  bathrooms  \\\n",
       "21610   263000018  20140521T000000  360000.0         3       2.50   \n",
       "21611  6600060120  20150223T000000  400000.0         4       2.50   \n",
       "21612  1523300141  20140623T000000  402101.0         2       0.75   \n",
       "21613   291310100  20150116T000000  400000.0         3       2.50   \n",
       "21614  1523300157  20141015T000000  325000.0         2       0.75   \n",
       "\n",
       "       sqft_living  sqft_lot  floors  waterfront  view  ...  grade  \\\n",
       "21610         1530    1131.0     3.0           0     0  ...      8   \n",
       "21611         2310    5813.0     2.0           0     0  ...      8   \n",
       "21612         1020    1350.0     2.0           0     0  ...      7   \n",
       "21613         1600    2388.0     2.0           0     0  ...      8   \n",
       "21614         1020    1076.0     2.0           0     0  ...      7   \n",
       "\n",
       "       sqft_above  sqft_basement  yr_built  yr_renovated  zipcode      lat  \\\n",
       "21610        1530              0      2009             0    98103  47.6993   \n",
       "21611        2310              0      2014             0    98146  47.5107   \n",
       "21612        1020              0      2009             0    98144  47.5944   \n",
       "21613        1600              0      2004             0    98027  47.5345   \n",
       "21614        1020              0      2008             0    98144  47.5941   \n",
       "\n",
       "          long  sqft_living15  sqft_lot15  \n",
       "21610 -122.346           1530        1509  \n",
       "21611 -122.362           1830        7200  \n",
       "21612 -122.299           1020        2007  \n",
       "21613 -122.069           1410        1287  \n",
       "21614 -122.299           1020        1357  \n",
       "\n",
       "[5 rows x 21 columns]"
      ]
     },
     "execution_count": 8,
     "metadata": {},
     "output_type": "execute_result"
    }
   ],
   "source": [
    "df.tail(5)"
   ]
  },
  {
   "cell_type": "code",
   "execution_count": 9,
   "metadata": {
    "colab": {
     "base_uri": "https://localhost:8080/",
     "height": 364
    },
    "id": "C4vD1DrW7_hl",
    "outputId": "8c6f796e-4153-4e58-c01b-cac804ea37dd"
   },
   "outputs": [
    {
     "data": {
      "text/html": [
       "<div>\n",
       "<style scoped>\n",
       "    .dataframe tbody tr th:only-of-type {\n",
       "        vertical-align: middle;\n",
       "    }\n",
       "\n",
       "    .dataframe tbody tr th {\n",
       "        vertical-align: top;\n",
       "    }\n",
       "\n",
       "    .dataframe thead th {\n",
       "        text-align: right;\n",
       "    }\n",
       "</style>\n",
       "<table border=\"1\" class=\"dataframe\">\n",
       "  <thead>\n",
       "    <tr style=\"text-align: right;\">\n",
       "      <th></th>\n",
       "      <th>id</th>\n",
       "      <th>price</th>\n",
       "      <th>bedrooms</th>\n",
       "      <th>bathrooms</th>\n",
       "      <th>sqft_living</th>\n",
       "      <th>sqft_lot</th>\n",
       "      <th>floors</th>\n",
       "      <th>waterfront</th>\n",
       "      <th>view</th>\n",
       "      <th>condition</th>\n",
       "      <th>grade</th>\n",
       "      <th>sqft_above</th>\n",
       "      <th>sqft_basement</th>\n",
       "      <th>yr_built</th>\n",
       "      <th>yr_renovated</th>\n",
       "      <th>zipcode</th>\n",
       "      <th>lat</th>\n",
       "      <th>long</th>\n",
       "      <th>sqft_living15</th>\n",
       "      <th>sqft_lot15</th>\n",
       "    </tr>\n",
       "  </thead>\n",
       "  <tbody>\n",
       "    <tr>\n",
       "      <th>count</th>\n",
       "      <td>2.161500e+04</td>\n",
       "      <td>2.161500e+04</td>\n",
       "      <td>21615.000000</td>\n",
       "      <td>21615.000000</td>\n",
       "      <td>21615.000000</td>\n",
       "      <td>2.161400e+04</td>\n",
       "      <td>21615.000000</td>\n",
       "      <td>21615.000000</td>\n",
       "      <td>21615.000000</td>\n",
       "      <td>21615.000000</td>\n",
       "      <td>21615.000000</td>\n",
       "      <td>21615.000000</td>\n",
       "      <td>21615.000000</td>\n",
       "      <td>21615.000000</td>\n",
       "      <td>21615.000000</td>\n",
       "      <td>21615.000000</td>\n",
       "      <td>21615.000000</td>\n",
       "      <td>21615.000000</td>\n",
       "      <td>21615.000000</td>\n",
       "      <td>21615.000000</td>\n",
       "    </tr>\n",
       "    <tr>\n",
       "      <th>mean</th>\n",
       "      <td>4.579945e+09</td>\n",
       "      <td>5.400672e+05</td>\n",
       "      <td>3.370807</td>\n",
       "      <td>2.114724</td>\n",
       "      <td>2079.874763</td>\n",
       "      <td>1.511002e+04</td>\n",
       "      <td>1.494263</td>\n",
       "      <td>0.007541</td>\n",
       "      <td>0.234282</td>\n",
       "      <td>3.409577</td>\n",
       "      <td>7.656812</td>\n",
       "      <td>1788.337173</td>\n",
       "      <td>291.537590</td>\n",
       "      <td>1971.005968</td>\n",
       "      <td>84.394448</td>\n",
       "      <td>98077.936109</td>\n",
       "      <td>47.560039</td>\n",
       "      <td>-122.213873</td>\n",
       "      <td>1986.521351</td>\n",
       "      <td>12779.768864</td>\n",
       "    </tr>\n",
       "    <tr>\n",
       "      <th>std</th>\n",
       "      <td>2.876672e+09</td>\n",
       "      <td>3.671167e+05</td>\n",
       "      <td>0.930026</td>\n",
       "      <td>0.770136</td>\n",
       "      <td>918.402073</td>\n",
       "      <td>4.142026e+04</td>\n",
       "      <td>0.539985</td>\n",
       "      <td>0.086513</td>\n",
       "      <td>0.766285</td>\n",
       "      <td>0.650893</td>\n",
       "      <td>1.175421</td>\n",
       "      <td>828.071354</td>\n",
       "      <td>442.564514</td>\n",
       "      <td>29.372179</td>\n",
       "      <td>401.661476</td>\n",
       "      <td>53.503930</td>\n",
       "      <td>0.138565</td>\n",
       "      <td>0.140843</td>\n",
       "      <td>685.367239</td>\n",
       "      <td>27328.234764</td>\n",
       "    </tr>\n",
       "    <tr>\n",
       "      <th>min</th>\n",
       "      <td>1.000102e+06</td>\n",
       "      <td>7.500000e+04</td>\n",
       "      <td>0.000000</td>\n",
       "      <td>0.000000</td>\n",
       "      <td>290.000000</td>\n",
       "      <td>5.200000e+02</td>\n",
       "      <td>1.000000</td>\n",
       "      <td>0.000000</td>\n",
       "      <td>0.000000</td>\n",
       "      <td>1.000000</td>\n",
       "      <td>1.000000</td>\n",
       "      <td>290.000000</td>\n",
       "      <td>0.000000</td>\n",
       "      <td>1900.000000</td>\n",
       "      <td>0.000000</td>\n",
       "      <td>98001.000000</td>\n",
       "      <td>47.155900</td>\n",
       "      <td>-122.519000</td>\n",
       "      <td>399.000000</td>\n",
       "      <td>651.000000</td>\n",
       "    </tr>\n",
       "    <tr>\n",
       "      <th>25%</th>\n",
       "      <td>2.123049e+09</td>\n",
       "      <td>3.215000e+05</td>\n",
       "      <td>3.000000</td>\n",
       "      <td>1.750000</td>\n",
       "      <td>1428.500000</td>\n",
       "      <td>5.040000e+03</td>\n",
       "      <td>1.000000</td>\n",
       "      <td>0.000000</td>\n",
       "      <td>0.000000</td>\n",
       "      <td>3.000000</td>\n",
       "      <td>7.000000</td>\n",
       "      <td>1190.000000</td>\n",
       "      <td>0.000000</td>\n",
       "      <td>1951.000000</td>\n",
       "      <td>0.000000</td>\n",
       "      <td>98033.000000</td>\n",
       "      <td>47.470850</td>\n",
       "      <td>-122.328000</td>\n",
       "      <td>1490.000000</td>\n",
       "      <td>5100.000000</td>\n",
       "    </tr>\n",
       "    <tr>\n",
       "      <th>50%</th>\n",
       "      <td>3.904930e+09</td>\n",
       "      <td>4.500000e+05</td>\n",
       "      <td>3.000000</td>\n",
       "      <td>2.250000</td>\n",
       "      <td>1910.000000</td>\n",
       "      <td>7.620000e+03</td>\n",
       "      <td>1.500000</td>\n",
       "      <td>0.000000</td>\n",
       "      <td>0.000000</td>\n",
       "      <td>3.000000</td>\n",
       "      <td>7.000000</td>\n",
       "      <td>1560.000000</td>\n",
       "      <td>0.000000</td>\n",
       "      <td>1975.000000</td>\n",
       "      <td>0.000000</td>\n",
       "      <td>98065.000000</td>\n",
       "      <td>47.571800</td>\n",
       "      <td>-122.230000</td>\n",
       "      <td>1840.000000</td>\n",
       "      <td>7620.000000</td>\n",
       "    </tr>\n",
       "    <tr>\n",
       "      <th>75%</th>\n",
       "      <td>7.308900e+09</td>\n",
       "      <td>6.450000e+05</td>\n",
       "      <td>4.000000</td>\n",
       "      <td>2.500000</td>\n",
       "      <td>2550.000000</td>\n",
       "      <td>1.069350e+04</td>\n",
       "      <td>2.000000</td>\n",
       "      <td>0.000000</td>\n",
       "      <td>0.000000</td>\n",
       "      <td>4.000000</td>\n",
       "      <td>8.000000</td>\n",
       "      <td>2210.000000</td>\n",
       "      <td>560.000000</td>\n",
       "      <td>1997.000000</td>\n",
       "      <td>0.000000</td>\n",
       "      <td>98118.000000</td>\n",
       "      <td>47.678000</td>\n",
       "      <td>-122.125000</td>\n",
       "      <td>2360.000000</td>\n",
       "      <td>10085.000000</td>\n",
       "    </tr>\n",
       "    <tr>\n",
       "      <th>max</th>\n",
       "      <td>9.900000e+09</td>\n",
       "      <td>7.700000e+06</td>\n",
       "      <td>33.000000</td>\n",
       "      <td>8.000000</td>\n",
       "      <td>13540.000000</td>\n",
       "      <td>1.651359e+06</td>\n",
       "      <td>3.500000</td>\n",
       "      <td>1.000000</td>\n",
       "      <td>4.000000</td>\n",
       "      <td>5.000000</td>\n",
       "      <td>13.000000</td>\n",
       "      <td>9410.000000</td>\n",
       "      <td>4820.000000</td>\n",
       "      <td>2015.000000</td>\n",
       "      <td>2015.000000</td>\n",
       "      <td>98199.000000</td>\n",
       "      <td>47.777600</td>\n",
       "      <td>-121.315000</td>\n",
       "      <td>6210.000000</td>\n",
       "      <td>871200.000000</td>\n",
       "    </tr>\n",
       "  </tbody>\n",
       "</table>\n",
       "</div>"
      ],
      "text/plain": [
       "                 id         price      bedrooms     bathrooms   sqft_living  \\\n",
       "count  2.161500e+04  2.161500e+04  21615.000000  21615.000000  21615.000000   \n",
       "mean   4.579945e+09  5.400672e+05      3.370807      2.114724   2079.874763   \n",
       "std    2.876672e+09  3.671167e+05      0.930026      0.770136    918.402073   \n",
       "min    1.000102e+06  7.500000e+04      0.000000      0.000000    290.000000   \n",
       "25%    2.123049e+09  3.215000e+05      3.000000      1.750000   1428.500000   \n",
       "50%    3.904930e+09  4.500000e+05      3.000000      2.250000   1910.000000   \n",
       "75%    7.308900e+09  6.450000e+05      4.000000      2.500000   2550.000000   \n",
       "max    9.900000e+09  7.700000e+06     33.000000      8.000000  13540.000000   \n",
       "\n",
       "           sqft_lot        floors    waterfront          view     condition  \\\n",
       "count  2.161400e+04  21615.000000  21615.000000  21615.000000  21615.000000   \n",
       "mean   1.511002e+04      1.494263      0.007541      0.234282      3.409577   \n",
       "std    4.142026e+04      0.539985      0.086513      0.766285      0.650893   \n",
       "min    5.200000e+02      1.000000      0.000000      0.000000      1.000000   \n",
       "25%    5.040000e+03      1.000000      0.000000      0.000000      3.000000   \n",
       "50%    7.620000e+03      1.500000      0.000000      0.000000      3.000000   \n",
       "75%    1.069350e+04      2.000000      0.000000      0.000000      4.000000   \n",
       "max    1.651359e+06      3.500000      1.000000      4.000000      5.000000   \n",
       "\n",
       "              grade    sqft_above  sqft_basement      yr_built  yr_renovated  \\\n",
       "count  21615.000000  21615.000000   21615.000000  21615.000000  21615.000000   \n",
       "mean       7.656812   1788.337173     291.537590   1971.005968     84.394448   \n",
       "std        1.175421    828.071354     442.564514     29.372179    401.661476   \n",
       "min        1.000000    290.000000       0.000000   1900.000000      0.000000   \n",
       "25%        7.000000   1190.000000       0.000000   1951.000000      0.000000   \n",
       "50%        7.000000   1560.000000       0.000000   1975.000000      0.000000   \n",
       "75%        8.000000   2210.000000     560.000000   1997.000000      0.000000   \n",
       "max       13.000000   9410.000000    4820.000000   2015.000000   2015.000000   \n",
       "\n",
       "            zipcode           lat          long  sqft_living15     sqft_lot15  \n",
       "count  21615.000000  21615.000000  21615.000000   21615.000000   21615.000000  \n",
       "mean   98077.936109     47.560039   -122.213873    1986.521351   12779.768864  \n",
       "std       53.503930      0.138565      0.140843     685.367239   27328.234764  \n",
       "min    98001.000000     47.155900   -122.519000     399.000000     651.000000  \n",
       "25%    98033.000000     47.470850   -122.328000    1490.000000    5100.000000  \n",
       "50%    98065.000000     47.571800   -122.230000    1840.000000    7620.000000  \n",
       "75%    98118.000000     47.678000   -122.125000    2360.000000   10085.000000  \n",
       "max    98199.000000     47.777600   -121.315000    6210.000000  871200.000000  "
      ]
     },
     "execution_count": 9,
     "metadata": {},
     "output_type": "execute_result"
    }
   ],
   "source": [
    "df.describe()"
   ]
  },
  {
   "cell_type": "markdown",
   "metadata": {
    "id": "GHROOsjpArch"
   },
   "source": [
    "###Duplicate rows"
   ]
  },
  {
   "cell_type": "code",
   "execution_count": 10,
   "metadata": {
    "colab": {
     "base_uri": "https://localhost:8080/"
    },
    "id": "xQ2KuX6LM6KR",
    "outputId": "768223c4-1f71-4af1-81cc-fbfac89b18c0"
   },
   "outputs": [
    {
     "name": "stdout",
     "output_type": "stream",
     "text": [
      "number of duplicate rows:  2\n"
     ]
    }
   ],
   "source": [
    "duplicate_rows_df = df[df.duplicated()]\n",
    "print('number of duplicate rows: ', duplicate_rows_df.shape[0])"
   ]
  },
  {
   "cell_type": "code",
   "execution_count": 11,
   "metadata": {
    "colab": {
     "base_uri": "https://localhost:8080/",
     "height": 205
    },
    "id": "gBRiUYBFT64S",
    "outputId": "feb50d7a-7d66-4631-fbf0-caf9703b33ec"
   },
   "outputs": [
    {
     "data": {
      "text/html": [
       "<div>\n",
       "<style scoped>\n",
       "    .dataframe tbody tr th:only-of-type {\n",
       "        vertical-align: middle;\n",
       "    }\n",
       "\n",
       "    .dataframe tbody tr th {\n",
       "        vertical-align: top;\n",
       "    }\n",
       "\n",
       "    .dataframe thead th {\n",
       "        text-align: right;\n",
       "    }\n",
       "</style>\n",
       "<table border=\"1\" class=\"dataframe\">\n",
       "  <thead>\n",
       "    <tr style=\"text-align: right;\">\n",
       "      <th></th>\n",
       "      <th>id</th>\n",
       "      <th>date</th>\n",
       "      <th>price</th>\n",
       "      <th>bedrooms</th>\n",
       "      <th>bathrooms</th>\n",
       "      <th>sqft_living</th>\n",
       "      <th>sqft_lot</th>\n",
       "      <th>floors</th>\n",
       "      <th>waterfront</th>\n",
       "      <th>view</th>\n",
       "      <th>...</th>\n",
       "      <th>grade</th>\n",
       "      <th>sqft_above</th>\n",
       "      <th>sqft_basement</th>\n",
       "      <th>yr_built</th>\n",
       "      <th>yr_renovated</th>\n",
       "      <th>zipcode</th>\n",
       "      <th>lat</th>\n",
       "      <th>long</th>\n",
       "      <th>sqft_living15</th>\n",
       "      <th>sqft_lot15</th>\n",
       "    </tr>\n",
       "  </thead>\n",
       "  <tbody>\n",
       "    <tr>\n",
       "      <th>99</th>\n",
       "      <td>722079104</td>\n",
       "      <td>20140711T000000</td>\n",
       "      <td>314000.0</td>\n",
       "      <td>3</td>\n",
       "      <td>1.75</td>\n",
       "      <td>1810</td>\n",
       "      <td>41800.0</td>\n",
       "      <td>1.0</td>\n",
       "      <td>0</td>\n",
       "      <td>0</td>\n",
       "      <td>...</td>\n",
       "      <td>7</td>\n",
       "      <td>1210</td>\n",
       "      <td>600</td>\n",
       "      <td>1980</td>\n",
       "      <td>0</td>\n",
       "      <td>98038</td>\n",
       "      <td>47.4109</td>\n",
       "      <td>-121.958</td>\n",
       "      <td>1650</td>\n",
       "      <td>135036</td>\n",
       "    </tr>\n",
       "    <tr>\n",
       "      <th>100</th>\n",
       "      <td>722079104</td>\n",
       "      <td>20140711T000000</td>\n",
       "      <td>314000.0</td>\n",
       "      <td>3</td>\n",
       "      <td>1.75</td>\n",
       "      <td>1810</td>\n",
       "      <td>41800.0</td>\n",
       "      <td>1.0</td>\n",
       "      <td>0</td>\n",
       "      <td>0</td>\n",
       "      <td>...</td>\n",
       "      <td>7</td>\n",
       "      <td>1210</td>\n",
       "      <td>600</td>\n",
       "      <td>1980</td>\n",
       "      <td>0</td>\n",
       "      <td>98038</td>\n",
       "      <td>47.4109</td>\n",
       "      <td>-121.958</td>\n",
       "      <td>1650</td>\n",
       "      <td>135036</td>\n",
       "    </tr>\n",
       "  </tbody>\n",
       "</table>\n",
       "<p>2 rows × 21 columns</p>\n",
       "</div>"
      ],
      "text/plain": [
       "            id             date     price  bedrooms  bathrooms  sqft_living  \\\n",
       "99   722079104  20140711T000000  314000.0         3       1.75         1810   \n",
       "100  722079104  20140711T000000  314000.0         3       1.75         1810   \n",
       "\n",
       "     sqft_lot  floors  waterfront  view  ...  grade  sqft_above  \\\n",
       "99    41800.0     1.0           0     0  ...      7        1210   \n",
       "100   41800.0     1.0           0     0  ...      7        1210   \n",
       "\n",
       "     sqft_basement  yr_built  yr_renovated  zipcode      lat     long  \\\n",
       "99             600      1980             0    98038  47.4109 -121.958   \n",
       "100            600      1980             0    98038  47.4109 -121.958   \n",
       "\n",
       "     sqft_living15  sqft_lot15  \n",
       "99            1650      135036  \n",
       "100           1650      135036  \n",
       "\n",
       "[2 rows x 21 columns]"
      ]
     },
     "execution_count": 11,
     "metadata": {},
     "output_type": "execute_result"
    }
   ],
   "source": [
    "duplicate_rows_df"
   ]
  },
  {
   "cell_type": "code",
   "execution_count": 12,
   "metadata": {
    "colab": {
     "base_uri": "https://localhost:8080/",
     "height": 331
    },
    "id": "kAUuy1hDcW7o",
    "outputId": "7a1a1883-7f0f-45a2-d5b0-a6feb9e49b2d"
   },
   "outputs": [
    {
     "data": {
      "text/html": [
       "<div>\n",
       "<style scoped>\n",
       "    .dataframe tbody tr th:only-of-type {\n",
       "        vertical-align: middle;\n",
       "    }\n",
       "\n",
       "    .dataframe tbody tr th {\n",
       "        vertical-align: top;\n",
       "    }\n",
       "\n",
       "    .dataframe thead th {\n",
       "        text-align: right;\n",
       "    }\n",
       "</style>\n",
       "<table border=\"1\" class=\"dataframe\">\n",
       "  <thead>\n",
       "    <tr style=\"text-align: right;\">\n",
       "      <th></th>\n",
       "      <th>id</th>\n",
       "      <th>date</th>\n",
       "      <th>price</th>\n",
       "      <th>bedrooms</th>\n",
       "      <th>bathrooms</th>\n",
       "      <th>sqft_living</th>\n",
       "      <th>sqft_lot</th>\n",
       "      <th>floors</th>\n",
       "      <th>waterfront</th>\n",
       "      <th>view</th>\n",
       "      <th>...</th>\n",
       "      <th>grade</th>\n",
       "      <th>sqft_above</th>\n",
       "      <th>sqft_basement</th>\n",
       "      <th>yr_built</th>\n",
       "      <th>yr_renovated</th>\n",
       "      <th>zipcode</th>\n",
       "      <th>lat</th>\n",
       "      <th>long</th>\n",
       "      <th>sqft_living15</th>\n",
       "      <th>sqft_lot15</th>\n",
       "    </tr>\n",
       "  </thead>\n",
       "  <tbody>\n",
       "    <tr>\n",
       "      <th>97</th>\n",
       "      <td>1099611230</td>\n",
       "      <td>20140912T000000</td>\n",
       "      <td>199000.0</td>\n",
       "      <td>4</td>\n",
       "      <td>1.50</td>\n",
       "      <td>1160</td>\n",
       "      <td>6400.0</td>\n",
       "      <td>1.0</td>\n",
       "      <td>0</td>\n",
       "      <td>0</td>\n",
       "      <td>...</td>\n",
       "      <td>7</td>\n",
       "      <td>1160</td>\n",
       "      <td>0</td>\n",
       "      <td>1975</td>\n",
       "      <td>0</td>\n",
       "      <td>98023</td>\n",
       "      <td>47.3036</td>\n",
       "      <td>-122.378</td>\n",
       "      <td>1160</td>\n",
       "      <td>6400</td>\n",
       "    </tr>\n",
       "    <tr>\n",
       "      <th>98</th>\n",
       "      <td>722079104</td>\n",
       "      <td>20140711T000000</td>\n",
       "      <td>314000.0</td>\n",
       "      <td>3</td>\n",
       "      <td>1.75</td>\n",
       "      <td>1810</td>\n",
       "      <td>41800.0</td>\n",
       "      <td>1.0</td>\n",
       "      <td>0</td>\n",
       "      <td>0</td>\n",
       "      <td>...</td>\n",
       "      <td>7</td>\n",
       "      <td>1210</td>\n",
       "      <td>600</td>\n",
       "      <td>1980</td>\n",
       "      <td>0</td>\n",
       "      <td>98038</td>\n",
       "      <td>47.4109</td>\n",
       "      <td>-121.958</td>\n",
       "      <td>1650</td>\n",
       "      <td>135036</td>\n",
       "    </tr>\n",
       "    <tr>\n",
       "      <th>99</th>\n",
       "      <td>722079104</td>\n",
       "      <td>20140711T000000</td>\n",
       "      <td>314000.0</td>\n",
       "      <td>3</td>\n",
       "      <td>1.75</td>\n",
       "      <td>1810</td>\n",
       "      <td>41800.0</td>\n",
       "      <td>1.0</td>\n",
       "      <td>0</td>\n",
       "      <td>0</td>\n",
       "      <td>...</td>\n",
       "      <td>7</td>\n",
       "      <td>1210</td>\n",
       "      <td>600</td>\n",
       "      <td>1980</td>\n",
       "      <td>0</td>\n",
       "      <td>98038</td>\n",
       "      <td>47.4109</td>\n",
       "      <td>-121.958</td>\n",
       "      <td>1650</td>\n",
       "      <td>135036</td>\n",
       "    </tr>\n",
       "    <tr>\n",
       "      <th>100</th>\n",
       "      <td>722079104</td>\n",
       "      <td>20140711T000000</td>\n",
       "      <td>314000.0</td>\n",
       "      <td>3</td>\n",
       "      <td>1.75</td>\n",
       "      <td>1810</td>\n",
       "      <td>41800.0</td>\n",
       "      <td>1.0</td>\n",
       "      <td>0</td>\n",
       "      <td>0</td>\n",
       "      <td>...</td>\n",
       "      <td>7</td>\n",
       "      <td>1210</td>\n",
       "      <td>600</td>\n",
       "      <td>1980</td>\n",
       "      <td>0</td>\n",
       "      <td>98038</td>\n",
       "      <td>47.4109</td>\n",
       "      <td>-121.958</td>\n",
       "      <td>1650</td>\n",
       "      <td>135036</td>\n",
       "    </tr>\n",
       "    <tr>\n",
       "      <th>101</th>\n",
       "      <td>7338200240</td>\n",
       "      <td>20140516T000000</td>\n",
       "      <td>437500.0</td>\n",
       "      <td>3</td>\n",
       "      <td>2.50</td>\n",
       "      <td>2320</td>\n",
       "      <td>36847.0</td>\n",
       "      <td>2.0</td>\n",
       "      <td>0</td>\n",
       "      <td>2</td>\n",
       "      <td>...</td>\n",
       "      <td>9</td>\n",
       "      <td>2320</td>\n",
       "      <td>0</td>\n",
       "      <td>1992</td>\n",
       "      <td>0</td>\n",
       "      <td>98045</td>\n",
       "      <td>47.4838</td>\n",
       "      <td>-121.714</td>\n",
       "      <td>2550</td>\n",
       "      <td>35065</td>\n",
       "    </tr>\n",
       "    <tr>\n",
       "      <th>102</th>\n",
       "      <td>1952200240</td>\n",
       "      <td>20140611T000000</td>\n",
       "      <td>850830.0</td>\n",
       "      <td>3</td>\n",
       "      <td>2.50</td>\n",
       "      <td>2070</td>\n",
       "      <td>13241.0</td>\n",
       "      <td>1.5</td>\n",
       "      <td>0</td>\n",
       "      <td>0</td>\n",
       "      <td>...</td>\n",
       "      <td>9</td>\n",
       "      <td>1270</td>\n",
       "      <td>800</td>\n",
       "      <td>1910</td>\n",
       "      <td>0</td>\n",
       "      <td>98102</td>\n",
       "      <td>47.6415</td>\n",
       "      <td>-122.315</td>\n",
       "      <td>2200</td>\n",
       "      <td>4500</td>\n",
       "    </tr>\n",
       "  </tbody>\n",
       "</table>\n",
       "<p>6 rows × 21 columns</p>\n",
       "</div>"
      ],
      "text/plain": [
       "             id             date     price  bedrooms  bathrooms  sqft_living  \\\n",
       "97   1099611230  20140912T000000  199000.0         4       1.50         1160   \n",
       "98    722079104  20140711T000000  314000.0         3       1.75         1810   \n",
       "99    722079104  20140711T000000  314000.0         3       1.75         1810   \n",
       "100   722079104  20140711T000000  314000.0         3       1.75         1810   \n",
       "101  7338200240  20140516T000000  437500.0         3       2.50         2320   \n",
       "102  1952200240  20140611T000000  850830.0         3       2.50         2070   \n",
       "\n",
       "     sqft_lot  floors  waterfront  view  ...  grade  sqft_above  \\\n",
       "97     6400.0     1.0           0     0  ...      7        1160   \n",
       "98    41800.0     1.0           0     0  ...      7        1210   \n",
       "99    41800.0     1.0           0     0  ...      7        1210   \n",
       "100   41800.0     1.0           0     0  ...      7        1210   \n",
       "101   36847.0     2.0           0     2  ...      9        2320   \n",
       "102   13241.0     1.5           0     0  ...      9        1270   \n",
       "\n",
       "     sqft_basement  yr_built  yr_renovated  zipcode      lat     long  \\\n",
       "97               0      1975             0    98023  47.3036 -122.378   \n",
       "98             600      1980             0    98038  47.4109 -121.958   \n",
       "99             600      1980             0    98038  47.4109 -121.958   \n",
       "100            600      1980             0    98038  47.4109 -121.958   \n",
       "101              0      1992             0    98045  47.4838 -121.714   \n",
       "102            800      1910             0    98102  47.6415 -122.315   \n",
       "\n",
       "     sqft_living15  sqft_lot15  \n",
       "97            1160        6400  \n",
       "98            1650      135036  \n",
       "99            1650      135036  \n",
       "100           1650      135036  \n",
       "101           2550       35065  \n",
       "102           2200        4500  \n",
       "\n",
       "[6 rows x 21 columns]"
      ]
     },
     "execution_count": 12,
     "metadata": {},
     "output_type": "execute_result"
    }
   ],
   "source": [
    "df.iloc[97:103,:]"
   ]
  },
  {
   "cell_type": "markdown",
   "metadata": {
    "id": "KHruwf17W0Jl"
   },
   "source": [
    "### Delet duplicate rows"
   ]
  },
  {
   "cell_type": "code",
   "execution_count": 13,
   "metadata": {
    "colab": {
     "base_uri": "https://localhost:8080/"
    },
    "id": "-fqG-sR9UE75",
    "outputId": "2e29a969-5d55-4546-8cbd-df31de50bf8a"
   },
   "outputs": [
    {
     "name": "stdout",
     "output_type": "stream",
     "text": [
      "Número de filas 21613\n",
      "Número de columnas 21\n"
     ]
    }
   ],
   "source": [
    "df=df.drop_duplicates()\n",
    "print('Número de filas', df.shape[0])\n",
    "print('Número de columnas', df.shape[1])"
   ]
  },
  {
   "cell_type": "code",
   "execution_count": 14,
   "metadata": {
    "colab": {
     "base_uri": "https://localhost:8080/",
     "height": 268
    },
    "id": "8a_fWrC3XlQx",
    "outputId": "511c8cc4-ed70-49c1-a484-efee47e099c9"
   },
   "outputs": [
    {
     "data": {
      "text/html": [
       "<div>\n",
       "<style scoped>\n",
       "    .dataframe tbody tr th:only-of-type {\n",
       "        vertical-align: middle;\n",
       "    }\n",
       "\n",
       "    .dataframe tbody tr th {\n",
       "        vertical-align: top;\n",
       "    }\n",
       "\n",
       "    .dataframe thead th {\n",
       "        text-align: right;\n",
       "    }\n",
       "</style>\n",
       "<table border=\"1\" class=\"dataframe\">\n",
       "  <thead>\n",
       "    <tr style=\"text-align: right;\">\n",
       "      <th></th>\n",
       "      <th>id</th>\n",
       "      <th>date</th>\n",
       "      <th>price</th>\n",
       "      <th>bedrooms</th>\n",
       "      <th>bathrooms</th>\n",
       "      <th>sqft_living</th>\n",
       "      <th>sqft_lot</th>\n",
       "      <th>floors</th>\n",
       "      <th>waterfront</th>\n",
       "      <th>view</th>\n",
       "      <th>...</th>\n",
       "      <th>grade</th>\n",
       "      <th>sqft_above</th>\n",
       "      <th>sqft_basement</th>\n",
       "      <th>yr_built</th>\n",
       "      <th>yr_renovated</th>\n",
       "      <th>zipcode</th>\n",
       "      <th>lat</th>\n",
       "      <th>long</th>\n",
       "      <th>sqft_living15</th>\n",
       "      <th>sqft_lot15</th>\n",
       "    </tr>\n",
       "  </thead>\n",
       "  <tbody>\n",
       "    <tr>\n",
       "      <th>97</th>\n",
       "      <td>1099611230</td>\n",
       "      <td>20140912T000000</td>\n",
       "      <td>199000.0</td>\n",
       "      <td>4</td>\n",
       "      <td>1.50</td>\n",
       "      <td>1160</td>\n",
       "      <td>6400.0</td>\n",
       "      <td>1.0</td>\n",
       "      <td>0</td>\n",
       "      <td>0</td>\n",
       "      <td>...</td>\n",
       "      <td>7</td>\n",
       "      <td>1160</td>\n",
       "      <td>0</td>\n",
       "      <td>1975</td>\n",
       "      <td>0</td>\n",
       "      <td>98023</td>\n",
       "      <td>47.3036</td>\n",
       "      <td>-122.378</td>\n",
       "      <td>1160</td>\n",
       "      <td>6400</td>\n",
       "    </tr>\n",
       "    <tr>\n",
       "      <th>98</th>\n",
       "      <td>722079104</td>\n",
       "      <td>20140711T000000</td>\n",
       "      <td>314000.0</td>\n",
       "      <td>3</td>\n",
       "      <td>1.75</td>\n",
       "      <td>1810</td>\n",
       "      <td>41800.0</td>\n",
       "      <td>1.0</td>\n",
       "      <td>0</td>\n",
       "      <td>0</td>\n",
       "      <td>...</td>\n",
       "      <td>7</td>\n",
       "      <td>1210</td>\n",
       "      <td>600</td>\n",
       "      <td>1980</td>\n",
       "      <td>0</td>\n",
       "      <td>98038</td>\n",
       "      <td>47.4109</td>\n",
       "      <td>-121.958</td>\n",
       "      <td>1650</td>\n",
       "      <td>135036</td>\n",
       "    </tr>\n",
       "    <tr>\n",
       "      <th>101</th>\n",
       "      <td>7338200240</td>\n",
       "      <td>20140516T000000</td>\n",
       "      <td>437500.0</td>\n",
       "      <td>3</td>\n",
       "      <td>2.50</td>\n",
       "      <td>2320</td>\n",
       "      <td>36847.0</td>\n",
       "      <td>2.0</td>\n",
       "      <td>0</td>\n",
       "      <td>2</td>\n",
       "      <td>...</td>\n",
       "      <td>9</td>\n",
       "      <td>2320</td>\n",
       "      <td>0</td>\n",
       "      <td>1992</td>\n",
       "      <td>0</td>\n",
       "      <td>98045</td>\n",
       "      <td>47.4838</td>\n",
       "      <td>-121.714</td>\n",
       "      <td>2550</td>\n",
       "      <td>35065</td>\n",
       "    </tr>\n",
       "    <tr>\n",
       "      <th>102</th>\n",
       "      <td>1952200240</td>\n",
       "      <td>20140611T000000</td>\n",
       "      <td>850830.0</td>\n",
       "      <td>3</td>\n",
       "      <td>2.50</td>\n",
       "      <td>2070</td>\n",
       "      <td>13241.0</td>\n",
       "      <td>1.5</td>\n",
       "      <td>0</td>\n",
       "      <td>0</td>\n",
       "      <td>...</td>\n",
       "      <td>9</td>\n",
       "      <td>1270</td>\n",
       "      <td>800</td>\n",
       "      <td>1910</td>\n",
       "      <td>0</td>\n",
       "      <td>98102</td>\n",
       "      <td>47.6415</td>\n",
       "      <td>-122.315</td>\n",
       "      <td>2200</td>\n",
       "      <td>4500</td>\n",
       "    </tr>\n",
       "  </tbody>\n",
       "</table>\n",
       "<p>4 rows × 21 columns</p>\n",
       "</div>"
      ],
      "text/plain": [
       "             id             date     price  bedrooms  bathrooms  sqft_living  \\\n",
       "97   1099611230  20140912T000000  199000.0         4       1.50         1160   \n",
       "98    722079104  20140711T000000  314000.0         3       1.75         1810   \n",
       "101  7338200240  20140516T000000  437500.0         3       2.50         2320   \n",
       "102  1952200240  20140611T000000  850830.0         3       2.50         2070   \n",
       "\n",
       "     sqft_lot  floors  waterfront  view  ...  grade  sqft_above  \\\n",
       "97     6400.0     1.0           0     0  ...      7        1160   \n",
       "98    41800.0     1.0           0     0  ...      7        1210   \n",
       "101   36847.0     2.0           0     2  ...      9        2320   \n",
       "102   13241.0     1.5           0     0  ...      9        1270   \n",
       "\n",
       "     sqft_basement  yr_built  yr_renovated  zipcode      lat     long  \\\n",
       "97               0      1975             0    98023  47.3036 -122.378   \n",
       "98             600      1980             0    98038  47.4109 -121.958   \n",
       "101              0      1992             0    98045  47.4838 -121.714   \n",
       "102            800      1910             0    98102  47.6415 -122.315   \n",
       "\n",
       "     sqft_living15  sqft_lot15  \n",
       "97            1160        6400  \n",
       "98            1650      135036  \n",
       "101           2550       35065  \n",
       "102           2200        4500  \n",
       "\n",
       "[4 rows x 21 columns]"
      ]
     },
     "execution_count": 14,
     "metadata": {},
     "output_type": "execute_result"
    }
   ],
   "source": [
    "df.iloc[97:101,:]"
   ]
  },
  {
   "cell_type": "code",
   "execution_count": 15,
   "metadata": {
    "colab": {
     "base_uri": "https://localhost:8080/",
     "height": 174
    },
    "id": "4IIApzCcX4QP",
    "outputId": "b9681b72-dcc8-4bdf-b338-3a2d053dd84b"
   },
   "outputs": [
    {
     "data": {
      "text/html": [
       "<div>\n",
       "<style scoped>\n",
       "    .dataframe tbody tr th:only-of-type {\n",
       "        vertical-align: middle;\n",
       "    }\n",
       "\n",
       "    .dataframe tbody tr th {\n",
       "        vertical-align: top;\n",
       "    }\n",
       "\n",
       "    .dataframe thead th {\n",
       "        text-align: right;\n",
       "    }\n",
       "</style>\n",
       "<table border=\"1\" class=\"dataframe\">\n",
       "  <thead>\n",
       "    <tr style=\"text-align: right;\">\n",
       "      <th></th>\n",
       "      <th>id</th>\n",
       "      <th>date</th>\n",
       "      <th>price</th>\n",
       "      <th>bedrooms</th>\n",
       "      <th>bathrooms</th>\n",
       "      <th>sqft_living</th>\n",
       "      <th>sqft_lot</th>\n",
       "      <th>floors</th>\n",
       "      <th>waterfront</th>\n",
       "      <th>view</th>\n",
       "      <th>...</th>\n",
       "      <th>grade</th>\n",
       "      <th>sqft_above</th>\n",
       "      <th>sqft_basement</th>\n",
       "      <th>yr_built</th>\n",
       "      <th>yr_renovated</th>\n",
       "      <th>zipcode</th>\n",
       "      <th>lat</th>\n",
       "      <th>long</th>\n",
       "      <th>sqft_living15</th>\n",
       "      <th>sqft_lot15</th>\n",
       "    </tr>\n",
       "  </thead>\n",
       "  <tbody>\n",
       "    <tr>\n",
       "      <th>98</th>\n",
       "      <td>722079104</td>\n",
       "      <td>20140711T000000</td>\n",
       "      <td>314000.0</td>\n",
       "      <td>3</td>\n",
       "      <td>1.75</td>\n",
       "      <td>1810</td>\n",
       "      <td>41800.0</td>\n",
       "      <td>1.0</td>\n",
       "      <td>0</td>\n",
       "      <td>0</td>\n",
       "      <td>...</td>\n",
       "      <td>7</td>\n",
       "      <td>1210</td>\n",
       "      <td>600</td>\n",
       "      <td>1980</td>\n",
       "      <td>0</td>\n",
       "      <td>98038</td>\n",
       "      <td>47.4109</td>\n",
       "      <td>-121.958</td>\n",
       "      <td>1650</td>\n",
       "      <td>135036</td>\n",
       "    </tr>\n",
       "  </tbody>\n",
       "</table>\n",
       "<p>1 rows × 21 columns</p>\n",
       "</div>"
      ],
      "text/plain": [
       "           id             date     price  bedrooms  bathrooms  sqft_living  \\\n",
       "98  722079104  20140711T000000  314000.0         3       1.75         1810   \n",
       "\n",
       "    sqft_lot  floors  waterfront  view  ...  grade  sqft_above  sqft_basement  \\\n",
       "98   41800.0     1.0           0     0  ...      7        1210            600   \n",
       "\n",
       "    yr_built  yr_renovated  zipcode      lat     long  sqft_living15  \\\n",
       "98      1980             0    98038  47.4109 -121.958           1650   \n",
       "\n",
       "    sqft_lot15  \n",
       "98      135036  \n",
       "\n",
       "[1 rows x 21 columns]"
      ]
     },
     "execution_count": 15,
     "metadata": {},
     "output_type": "execute_result"
    }
   ],
   "source": [
    "df[df['id']==722079104]"
   ]
  },
  {
   "cell_type": "markdown",
   "metadata": {
    "id": "gNFTDnjNmqC9"
   },
   "source": [
    "### Missing values and NaN"
   ]
  },
  {
   "cell_type": "code",
   "execution_count": 16,
   "metadata": {
    "colab": {
     "base_uri": "https://localhost:8080/"
    },
    "id": "tcJ5fVIqZ1Um",
    "outputId": "2a12ab9a-28bd-4dd6-c8e0-f25e71b017ff"
   },
   "outputs": [
    {
     "data": {
      "text/plain": [
       "id               0\n",
       "date             0\n",
       "price            0\n",
       "bedrooms         0\n",
       "bathrooms        0\n",
       "sqft_living      0\n",
       "sqft_lot         1\n",
       "floors           0\n",
       "waterfront       0\n",
       "view             0\n",
       "condition        0\n",
       "grade            0\n",
       "sqft_above       0\n",
       "sqft_basement    0\n",
       "yr_built         0\n",
       "yr_renovated     0\n",
       "zipcode          0\n",
       "lat              0\n",
       "long             0\n",
       "sqft_living15    0\n",
       "sqft_lot15       0\n",
       "dtype: int64"
      ]
     },
     "execution_count": 16,
     "metadata": {},
     "output_type": "execute_result"
    }
   ],
   "source": [
    "df.isnull().sum()"
   ]
  },
  {
   "cell_type": "code",
   "execution_count": 17,
   "metadata": {
    "colab": {
     "base_uri": "https://localhost:8080/"
    },
    "id": "i5Qfywz7jyey",
    "outputId": "3ed91d0e-59bf-4819-a8ec-b17f4c8fcc90"
   },
   "outputs": [
    {
     "data": {
      "text/plain": [
       "id               0\n",
       "date             0\n",
       "price            0\n",
       "bedrooms         0\n",
       "bathrooms        0\n",
       "sqft_living      0\n",
       "sqft_lot         1\n",
       "floors           0\n",
       "waterfront       0\n",
       "view             0\n",
       "condition        0\n",
       "grade            0\n",
       "sqft_above       0\n",
       "sqft_basement    0\n",
       "yr_built         0\n",
       "yr_renovated     0\n",
       "zipcode          0\n",
       "lat              0\n",
       "long             0\n",
       "sqft_living15    0\n",
       "sqft_lot15       0\n",
       "dtype: int64"
      ]
     },
     "execution_count": 17,
     "metadata": {},
     "output_type": "execute_result"
    }
   ],
   "source": [
    "df.isna().sum()"
   ]
  },
  {
   "cell_type": "code",
   "execution_count": 18,
   "metadata": {
    "colab": {
     "base_uri": "https://localhost:8080/",
     "height": 174
    },
    "id": "YaPqH2xak7pJ",
    "outputId": "2c9e4617-c8b6-48fb-8f66-db56bee4d0b2"
   },
   "outputs": [
    {
     "data": {
      "text/html": [
       "<div>\n",
       "<style scoped>\n",
       "    .dataframe tbody tr th:only-of-type {\n",
       "        vertical-align: middle;\n",
       "    }\n",
       "\n",
       "    .dataframe tbody tr th {\n",
       "        vertical-align: top;\n",
       "    }\n",
       "\n",
       "    .dataframe thead th {\n",
       "        text-align: right;\n",
       "    }\n",
       "</style>\n",
       "<table border=\"1\" class=\"dataframe\">\n",
       "  <thead>\n",
       "    <tr style=\"text-align: right;\">\n",
       "      <th></th>\n",
       "      <th>id</th>\n",
       "      <th>date</th>\n",
       "      <th>price</th>\n",
       "      <th>bedrooms</th>\n",
       "      <th>bathrooms</th>\n",
       "      <th>sqft_living</th>\n",
       "      <th>sqft_lot</th>\n",
       "      <th>floors</th>\n",
       "      <th>waterfront</th>\n",
       "      <th>view</th>\n",
       "      <th>...</th>\n",
       "      <th>grade</th>\n",
       "      <th>sqft_above</th>\n",
       "      <th>sqft_basement</th>\n",
       "      <th>yr_built</th>\n",
       "      <th>yr_renovated</th>\n",
       "      <th>zipcode</th>\n",
       "      <th>lat</th>\n",
       "      <th>long</th>\n",
       "      <th>sqft_living15</th>\n",
       "      <th>sqft_lot15</th>\n",
       "    </tr>\n",
       "  </thead>\n",
       "  <tbody>\n",
       "    <tr>\n",
       "      <th>109</th>\n",
       "      <td>3530510041</td>\n",
       "      <td>20140723T000000</td>\n",
       "      <td>188500.0</td>\n",
       "      <td>2</td>\n",
       "      <td>1.75</td>\n",
       "      <td>1240</td>\n",
       "      <td>NaN</td>\n",
       "      <td>1.0</td>\n",
       "      <td>0</td>\n",
       "      <td>0</td>\n",
       "      <td>...</td>\n",
       "      <td>8</td>\n",
       "      <td>1240</td>\n",
       "      <td>0</td>\n",
       "      <td>1985</td>\n",
       "      <td>0</td>\n",
       "      <td>98198</td>\n",
       "      <td>47.3813</td>\n",
       "      <td>-122.322</td>\n",
       "      <td>1270</td>\n",
       "      <td>4966</td>\n",
       "    </tr>\n",
       "  </tbody>\n",
       "</table>\n",
       "<p>1 rows × 21 columns</p>\n",
       "</div>"
      ],
      "text/plain": [
       "             id             date     price  bedrooms  bathrooms  sqft_living  \\\n",
       "109  3530510041  20140723T000000  188500.0         2       1.75         1240   \n",
       "\n",
       "     sqft_lot  floors  waterfront  view  ...  grade  sqft_above  \\\n",
       "109       NaN     1.0           0     0  ...      8        1240   \n",
       "\n",
       "     sqft_basement  yr_built  yr_renovated  zipcode      lat     long  \\\n",
       "109              0      1985             0    98198  47.3813 -122.322   \n",
       "\n",
       "     sqft_living15  sqft_lot15  \n",
       "109           1270        4966  \n",
       "\n",
       "[1 rows x 21 columns]"
      ]
     },
     "execution_count": 18,
     "metadata": {},
     "output_type": "execute_result"
    }
   ],
   "source": [
    "df[df['sqft_lot'].isnull()]"
   ]
  },
  {
   "cell_type": "code",
   "execution_count": 19,
   "metadata": {
    "colab": {
     "base_uri": "https://localhost:8080/",
     "height": 174
    },
    "id": "-iDipgzNlLOJ",
    "outputId": "5747aa4d-8edc-4de8-acd0-f14bb009e4cb"
   },
   "outputs": [
    {
     "data": {
      "text/html": [
       "<div>\n",
       "<style scoped>\n",
       "    .dataframe tbody tr th:only-of-type {\n",
       "        vertical-align: middle;\n",
       "    }\n",
       "\n",
       "    .dataframe tbody tr th {\n",
       "        vertical-align: top;\n",
       "    }\n",
       "\n",
       "    .dataframe thead th {\n",
       "        text-align: right;\n",
       "    }\n",
       "</style>\n",
       "<table border=\"1\" class=\"dataframe\">\n",
       "  <thead>\n",
       "    <tr style=\"text-align: right;\">\n",
       "      <th></th>\n",
       "      <th>id</th>\n",
       "      <th>date</th>\n",
       "      <th>price</th>\n",
       "      <th>bedrooms</th>\n",
       "      <th>bathrooms</th>\n",
       "      <th>sqft_living</th>\n",
       "      <th>sqft_lot</th>\n",
       "      <th>floors</th>\n",
       "      <th>waterfront</th>\n",
       "      <th>view</th>\n",
       "      <th>...</th>\n",
       "      <th>grade</th>\n",
       "      <th>sqft_above</th>\n",
       "      <th>sqft_basement</th>\n",
       "      <th>yr_built</th>\n",
       "      <th>yr_renovated</th>\n",
       "      <th>zipcode</th>\n",
       "      <th>lat</th>\n",
       "      <th>long</th>\n",
       "      <th>sqft_living15</th>\n",
       "      <th>sqft_lot15</th>\n",
       "    </tr>\n",
       "  </thead>\n",
       "  <tbody>\n",
       "    <tr>\n",
       "      <th>109</th>\n",
       "      <td>3530510041</td>\n",
       "      <td>20140723T000000</td>\n",
       "      <td>188500.0</td>\n",
       "      <td>2</td>\n",
       "      <td>1.75</td>\n",
       "      <td>1240</td>\n",
       "      <td>NaN</td>\n",
       "      <td>1.0</td>\n",
       "      <td>0</td>\n",
       "      <td>0</td>\n",
       "      <td>...</td>\n",
       "      <td>8</td>\n",
       "      <td>1240</td>\n",
       "      <td>0</td>\n",
       "      <td>1985</td>\n",
       "      <td>0</td>\n",
       "      <td>98198</td>\n",
       "      <td>47.3813</td>\n",
       "      <td>-122.322</td>\n",
       "      <td>1270</td>\n",
       "      <td>4966</td>\n",
       "    </tr>\n",
       "  </tbody>\n",
       "</table>\n",
       "<p>1 rows × 21 columns</p>\n",
       "</div>"
      ],
      "text/plain": [
       "             id             date     price  bedrooms  bathrooms  sqft_living  \\\n",
       "109  3530510041  20140723T000000  188500.0         2       1.75         1240   \n",
       "\n",
       "     sqft_lot  floors  waterfront  view  ...  grade  sqft_above  \\\n",
       "109       NaN     1.0           0     0  ...      8        1240   \n",
       "\n",
       "     sqft_basement  yr_built  yr_renovated  zipcode      lat     long  \\\n",
       "109              0      1985             0    98198  47.3813 -122.322   \n",
       "\n",
       "     sqft_living15  sqft_lot15  \n",
       "109           1270        4966  \n",
       "\n",
       "[1 rows x 21 columns]"
      ]
     },
     "execution_count": 19,
     "metadata": {},
     "output_type": "execute_result"
    }
   ],
   "source": [
    "df[df['sqft_lot'].isna()]"
   ]
  },
  {
   "cell_type": "code",
   "execution_count": 20,
   "metadata": {
    "id": "w6md3VsUlNgW"
   },
   "outputs": [],
   "source": [
    "df=df.dropna()"
   ]
  },
  {
   "cell_type": "code",
   "execution_count": 21,
   "metadata": {
    "colab": {
     "base_uri": "https://localhost:8080/"
    },
    "id": "xgQlha8_lRBR",
    "outputId": "7cf86a94-21da-4ecf-b35e-cb699e1ea6d0"
   },
   "outputs": [
    {
     "name": "stdout",
     "output_type": "stream",
     "text": [
      "Número de filas 21612\n",
      "Número de columnas 21\n"
     ]
    }
   ],
   "source": [
    "print('Número de filas', df.shape[0])\n",
    "print('Número de columnas', df.shape[1])"
   ]
  },
  {
   "cell_type": "markdown",
   "metadata": {
    "id": "mi9xIUtoRyBx"
   },
   "source": [
    "### Histograms"
   ]
  },
  {
   "cell_type": "code",
   "execution_count": 22,
   "metadata": {
    "id": "pXX-T3FgLcQJ"
   },
   "outputs": [],
   "source": [
    "df=df.drop(['id','zipcode'],axis=1)"
   ]
  },
  {
   "cell_type": "code",
   "execution_count": 23,
   "metadata": {
    "colab": {
     "base_uri": "https://localhost:8080/",
     "height": 988
    },
    "id": "Sw8koKSJlVMv",
    "outputId": "c6becc2e-8d5a-4915-bafe-25e042ceb771"
   },
   "outputs": [
    {
     "ename": "AttributeError",
     "evalue": "'AxesSubplot' object has no attribute 'rowNum'",
     "output_type": "error",
     "traceback": [
      "\u001b[0;31m---------------------------------------------------------------------------\u001b[0m",
      "\u001b[0;31mAttributeError\u001b[0m                            Traceback (most recent call last)",
      "\u001b[0;32m<ipython-input-23-915a8ab79c85>\u001b[0m in \u001b[0;36m<module>\u001b[0;34m\u001b[0m\n\u001b[0;32m----> 1\u001b[0;31m \u001b[0mdf\u001b[0m\u001b[0;34m.\u001b[0m\u001b[0mhist\u001b[0m\u001b[0;34m(\u001b[0m\u001b[0mfigsize\u001b[0m\u001b[0;34m=\u001b[0m\u001b[0;34m(\u001b[0m\u001b[0;36m15\u001b[0m\u001b[0;34m,\u001b[0m\u001b[0;36m17\u001b[0m\u001b[0;34m)\u001b[0m\u001b[0;34m)\u001b[0m\u001b[0;34m;\u001b[0m\u001b[0;34m\u001b[0m\u001b[0;34m\u001b[0m\u001b[0m\n\u001b[0m",
      "\u001b[0;32m/usr/lib64/python3.7/site-packages/pandas/plotting/_core.py\u001b[0m in \u001b[0;36mhist_frame\u001b[0;34m(data, column, by, grid, xlabelsize, xrot, ylabelsize, yrot, ax, sharex, sharey, figsize, layout, bins, **kwds)\u001b[0m\n\u001b[1;32m    197\u001b[0m         \u001b[0mlayout\u001b[0m\u001b[0;34m=\u001b[0m\u001b[0mlayout\u001b[0m\u001b[0;34m,\u001b[0m\u001b[0;34m\u001b[0m\u001b[0;34m\u001b[0m\u001b[0m\n\u001b[1;32m    198\u001b[0m         \u001b[0mbins\u001b[0m\u001b[0;34m=\u001b[0m\u001b[0mbins\u001b[0m\u001b[0;34m,\u001b[0m\u001b[0;34m\u001b[0m\u001b[0;34m\u001b[0m\u001b[0m\n\u001b[0;32m--> 199\u001b[0;31m         \u001b[0;34m**\u001b[0m\u001b[0mkwds\u001b[0m\u001b[0;34m\u001b[0m\u001b[0;34m\u001b[0m\u001b[0m\n\u001b[0m\u001b[1;32m    200\u001b[0m     )\n\u001b[1;32m    201\u001b[0m \u001b[0;34m\u001b[0m\u001b[0m\n",
      "\u001b[0;32m/usr/lib64/python3.7/site-packages/pandas/plotting/_matplotlib/hist.py\u001b[0m in \u001b[0;36mhist_frame\u001b[0;34m(data, column, by, grid, xlabelsize, xrot, ylabelsize, yrot, ax, sharex, sharey, figsize, layout, bins, **kwds)\u001b[0m\n\u001b[1;32m    404\u001b[0m         \u001b[0msharey\u001b[0m\u001b[0;34m=\u001b[0m\u001b[0msharey\u001b[0m\u001b[0;34m,\u001b[0m\u001b[0;34m\u001b[0m\u001b[0;34m\u001b[0m\u001b[0m\n\u001b[1;32m    405\u001b[0m         \u001b[0mfigsize\u001b[0m\u001b[0;34m=\u001b[0m\u001b[0mfigsize\u001b[0m\u001b[0;34m,\u001b[0m\u001b[0;34m\u001b[0m\u001b[0;34m\u001b[0m\u001b[0m\n\u001b[0;32m--> 406\u001b[0;31m         \u001b[0mlayout\u001b[0m\u001b[0;34m=\u001b[0m\u001b[0mlayout\u001b[0m\u001b[0;34m,\u001b[0m\u001b[0;34m\u001b[0m\u001b[0;34m\u001b[0m\u001b[0m\n\u001b[0m\u001b[1;32m    407\u001b[0m     )\n\u001b[1;32m    408\u001b[0m     \u001b[0m_axes\u001b[0m \u001b[0;34m=\u001b[0m \u001b[0m_flatten\u001b[0m\u001b[0;34m(\u001b[0m\u001b[0maxes\u001b[0m\u001b[0;34m)\u001b[0m\u001b[0;34m\u001b[0m\u001b[0;34m\u001b[0m\u001b[0m\n",
      "\u001b[0;32m/usr/lib64/python3.7/site-packages/pandas/plotting/_matplotlib/tools.py\u001b[0m in \u001b[0;36m_subplots\u001b[0;34m(naxes, sharex, sharey, squeeze, subplot_kw, ax, layout, layout_type, **fig_kw)\u001b[0m\n\u001b[1;32m    261\u001b[0m             \u001b[0max\u001b[0m\u001b[0;34m.\u001b[0m\u001b[0mset_visible\u001b[0m\u001b[0;34m(\u001b[0m\u001b[0;32mFalse\u001b[0m\u001b[0;34m)\u001b[0m\u001b[0;34m\u001b[0m\u001b[0;34m\u001b[0m\u001b[0m\n\u001b[1;32m    262\u001b[0m \u001b[0;34m\u001b[0m\u001b[0m\n\u001b[0;32m--> 263\u001b[0;31m     \u001b[0m_handle_shared_axes\u001b[0m\u001b[0;34m(\u001b[0m\u001b[0maxarr\u001b[0m\u001b[0;34m,\u001b[0m \u001b[0mnplots\u001b[0m\u001b[0;34m,\u001b[0m \u001b[0mnaxes\u001b[0m\u001b[0;34m,\u001b[0m \u001b[0mnrows\u001b[0m\u001b[0;34m,\u001b[0m \u001b[0mncols\u001b[0m\u001b[0;34m,\u001b[0m \u001b[0msharex\u001b[0m\u001b[0;34m,\u001b[0m \u001b[0msharey\u001b[0m\u001b[0;34m)\u001b[0m\u001b[0;34m\u001b[0m\u001b[0;34m\u001b[0m\u001b[0m\n\u001b[0m\u001b[1;32m    264\u001b[0m \u001b[0;34m\u001b[0m\u001b[0m\n\u001b[1;32m    265\u001b[0m     \u001b[0;32mif\u001b[0m \u001b[0msqueeze\u001b[0m\u001b[0;34m:\u001b[0m\u001b[0;34m\u001b[0m\u001b[0;34m\u001b[0m\u001b[0m\n",
      "\u001b[0;32m/usr/lib64/python3.7/site-packages/pandas/plotting/_matplotlib/tools.py\u001b[0m in \u001b[0;36m_handle_shared_axes\u001b[0;34m(axarr, nplots, naxes, nrows, ncols, sharex, sharey)\u001b[0m\n\u001b[1;32m    305\u001b[0m                 \u001b[0mlayout\u001b[0m \u001b[0;34m=\u001b[0m \u001b[0mnp\u001b[0m\u001b[0;34m.\u001b[0m\u001b[0mzeros\u001b[0m\u001b[0;34m(\u001b[0m\u001b[0;34m(\u001b[0m\u001b[0mnrows\u001b[0m \u001b[0;34m+\u001b[0m \u001b[0;36m1\u001b[0m\u001b[0;34m,\u001b[0m \u001b[0mncols\u001b[0m \u001b[0;34m+\u001b[0m \u001b[0;36m1\u001b[0m\u001b[0;34m)\u001b[0m\u001b[0;34m,\u001b[0m \u001b[0mdtype\u001b[0m\u001b[0;34m=\u001b[0m\u001b[0mnp\u001b[0m\u001b[0;34m.\u001b[0m\u001b[0mbool\u001b[0m\u001b[0;34m)\u001b[0m\u001b[0;34m\u001b[0m\u001b[0;34m\u001b[0m\u001b[0m\n\u001b[1;32m    306\u001b[0m                 \u001b[0;32mfor\u001b[0m \u001b[0max\u001b[0m \u001b[0;32min\u001b[0m \u001b[0maxarr\u001b[0m\u001b[0;34m:\u001b[0m\u001b[0;34m\u001b[0m\u001b[0;34m\u001b[0m\u001b[0m\n\u001b[0;32m--> 307\u001b[0;31m                     \u001b[0mlayout\u001b[0m\u001b[0;34m[\u001b[0m\u001b[0max\u001b[0m\u001b[0;34m.\u001b[0m\u001b[0mrowNum\u001b[0m\u001b[0;34m,\u001b[0m \u001b[0max\u001b[0m\u001b[0;34m.\u001b[0m\u001b[0mcolNum\u001b[0m\u001b[0;34m]\u001b[0m \u001b[0;34m=\u001b[0m \u001b[0max\u001b[0m\u001b[0;34m.\u001b[0m\u001b[0mget_visible\u001b[0m\u001b[0;34m(\u001b[0m\u001b[0;34m)\u001b[0m\u001b[0;34m\u001b[0m\u001b[0;34m\u001b[0m\u001b[0m\n\u001b[0m\u001b[1;32m    308\u001b[0m \u001b[0;34m\u001b[0m\u001b[0m\n\u001b[1;32m    309\u001b[0m                 \u001b[0;32mfor\u001b[0m \u001b[0max\u001b[0m \u001b[0;32min\u001b[0m \u001b[0maxarr\u001b[0m\u001b[0;34m:\u001b[0m\u001b[0;34m\u001b[0m\u001b[0;34m\u001b[0m\u001b[0m\n",
      "\u001b[0;31mAttributeError\u001b[0m: 'AxesSubplot' object has no attribute 'rowNum'"
     ]
    },
    {
     "data": {
      "image/png": "[encoded data removed]",
      "text/plain": [
       "<Figure size 1080x1224 with 20 Axes>"
      ]
     },
     "metadata": {
      "needs_background": "light"
     },
     "output_type": "display_data"
    }
   ],
   "source": [
    "df.hist(figsize=(15,17));"
   ]
  },
  {
   "cell_type": "markdown",
   "metadata": {
    "id": "8PUu22ZwR1Cs"
   },
   "source": [
    "### Box plots"
   ]
  },
  {
   "cell_type": "code",
   "execution_count": 24,
   "metadata": {
    "colab": {
     "base_uri": "https://localhost:8080/",
     "height": 608
    },
    "id": "-9bIs2LKG2zi",
    "outputId": "ee9593ca-90f2-4968-d9f0-d65b088158b6"
   },
   "outputs": [
    {
     "data": {
      "image/png": "[encoded data removed]",
      "text/plain": [
       "<Figure size 1440x720 with 1 Axes>"
      ]
     },
     "metadata": {
      "needs_background": "light"
     },
     "output_type": "display_data"
    }
   ],
   "source": [
    "df.plot(kind='box', figsize=(20,10),title='Histogram all variables');"
   ]
  },
  {
   "cell_type": "code",
   "execution_count": 25,
   "metadata": {
    "colab": {
     "base_uri": "https://localhost:8080/",
     "height": 391
    },
    "id": "IxQoBQcjJb0H",
    "outputId": "5a91431a-6dd3-42f2-cb4a-6ec5191ab10b"
   },
   "outputs": [
    {
     "data": {
      "image/png": "[encoded data removed]",
      "text/plain": [
       "<Figure size 792x432 with 1 Axes>"
      ]
     },
     "metadata": {
      "needs_background": "light"
     },
     "output_type": "display_data"
    }
   ],
   "source": [
    "df[['price','sqft_lot','sqft_lot15']].plot(kind='box',figsize=(11,6),title='price, sqft_lot and sqft_lot15');"
   ]
  },
  {
   "cell_type": "code",
   "execution_count": 26,
   "metadata": {
    "colab": {
     "base_uri": "https://localhost:8080/",
     "height": 587
    },
    "id": "T_l1AQFlODEU",
    "outputId": "ae30b510-34aa-46e5-fcff-7dc97d15fb03"
   },
   "outputs": [
    {
     "data": {
      "image/png": "[encoded data removed]",
      "text/plain": [
       "<Figure size 1440x720 with 1 Axes>"
      ]
     },
     "metadata": {
      "needs_background": "light"
     },
     "output_type": "display_data"
    }
   ],
   "source": [
    "df[['sqft_living', 'sqft_above','sqft_basement','sqft_living15']].plot(kind='box',figsize=(20,10));"
   ]
  },
  {
   "cell_type": "code",
   "execution_count": 27,
   "metadata": {
    "colab": {
     "base_uri": "https://localhost:8080/",
     "height": 428
    },
    "id": "mE03aTTLQcZ_",
    "outputId": "6b843edb-b0c1-43f9-a65a-736a108f2937"
   },
   "outputs": [
    {
     "data": {
      "image/png": "[encoded data removed]",
      "text/plain": [
       "<Figure size 720x504 with 1 Axes>"
      ]
     },
     "metadata": {
      "needs_background": "light"
     },
     "output_type": "display_data"
    }
   ],
   "source": [
    "df[['bedrooms', 'bathrooms','floors', 'waterfront', 'view', 'condition', 'grade']].plot(kind='box', figsize=(10,7));"
   ]
  },
  {
   "cell_type": "code",
   "execution_count": 28,
   "metadata": {
    "colab": {
     "base_uri": "https://localhost:8080/",
     "height": 269
    },
    "id": "N_V0vOJXkYEc",
    "outputId": "acb45b39-d428-4813-c940-aa9654f0208f"
   },
   "outputs": [
    {
     "data": {
      "image/png": "[encoded data removed]",
      "text/plain": [
       "<Figure size 432x288 with 1 Axes>"
      ]
     },
     "metadata": {
      "needs_background": "light"
     },
     "output_type": "display_data"
    }
   ],
   "source": [
    "df['yr_built'].plot(kind='box');"
   ]
  },
  {
   "cell_type": "code",
   "execution_count": 29,
   "metadata": {
    "colab": {
     "base_uri": "https://localhost:8080/",
     "height": 266
    },
    "id": "E7eloj8Xk0Hc",
    "outputId": "ee01fbeb-f805-44c9-d922-8ab8d18aa48b"
   },
   "outputs": [
    {
     "data": {
      "image/png": "[encoded data removed]",
      "text/plain": [
       "<Figure size 432x288 with 1 Axes>"
      ]
     },
     "metadata": {
      "needs_background": "light"
     },
     "output_type": "display_data"
    }
   ],
   "source": [
    "df['yr_renovated'].plot(kind='box');"
   ]
  },
  {
   "cell_type": "markdown",
   "metadata": {
    "id": "m4HNtICp4exl"
   },
   "source": [
    "### Convert to temporal series dataset"
   ]
  },
  {
   "cell_type": "code",
   "execution_count": 30,
   "metadata": {
    "id": "uc4RZI5VRLLZ"
   },
   "outputs": [],
   "source": [
    "df['date']=pd.to_datetime(df['date'])\n",
    "df['year']=pd.DatetimeIndex(df['date']).year\n",
    "df['month']=pd.DatetimeIndex(df['date']).month\n",
    "df['day']=pd.DatetimeIndex(df['date']).day"
   ]
  },
  {
   "cell_type": "code",
   "execution_count": 31,
   "metadata": {
    "colab": {
     "base_uri": "https://localhost:8080/",
     "height": 661
    },
    "id": "gp_bYYFkTKbG",
    "outputId": "8319896e-4d04-40e4-c7db-b071d4a53e8e"
   },
   "outputs": [
    {
     "data": {
      "text/html": [
       "<div>\n",
       "<style scoped>\n",
       "    .dataframe tbody tr th:only-of-type {\n",
       "        vertical-align: middle;\n",
       "    }\n",
       "\n",
       "    .dataframe tbody tr th {\n",
       "        vertical-align: top;\n",
       "    }\n",
       "\n",
       "    .dataframe thead th {\n",
       "        text-align: right;\n",
       "    }\n",
       "</style>\n",
       "<table border=\"1\" class=\"dataframe\">\n",
       "  <thead>\n",
       "    <tr style=\"text-align: right;\">\n",
       "      <th></th>\n",
       "      <th>date</th>\n",
       "      <th>price</th>\n",
       "      <th>bedrooms</th>\n",
       "      <th>bathrooms</th>\n",
       "      <th>sqft_living</th>\n",
       "      <th>sqft_lot</th>\n",
       "      <th>floors</th>\n",
       "      <th>waterfront</th>\n",
       "      <th>view</th>\n",
       "      <th>condition</th>\n",
       "      <th>...</th>\n",
       "      <th>sqft_basement</th>\n",
       "      <th>yr_built</th>\n",
       "      <th>yr_renovated</th>\n",
       "      <th>lat</th>\n",
       "      <th>long</th>\n",
       "      <th>sqft_living15</th>\n",
       "      <th>sqft_lot15</th>\n",
       "      <th>year</th>\n",
       "      <th>month</th>\n",
       "      <th>day</th>\n",
       "    </tr>\n",
       "  </thead>\n",
       "  <tbody>\n",
       "    <tr>\n",
       "      <th>0</th>\n",
       "      <td>2014-10-13</td>\n",
       "      <td>221900.0</td>\n",
       "      <td>3</td>\n",
       "      <td>1.00</td>\n",
       "      <td>1180</td>\n",
       "      <td>5650.0</td>\n",
       "      <td>1.0</td>\n",
       "      <td>0</td>\n",
       "      <td>0</td>\n",
       "      <td>3</td>\n",
       "      <td>...</td>\n",
       "      <td>0</td>\n",
       "      <td>1955</td>\n",
       "      <td>0</td>\n",
       "      <td>47.5112</td>\n",
       "      <td>-122.257</td>\n",
       "      <td>1340</td>\n",
       "      <td>5650</td>\n",
       "      <td>2014</td>\n",
       "      <td>10</td>\n",
       "      <td>13</td>\n",
       "    </tr>\n",
       "    <tr>\n",
       "      <th>1</th>\n",
       "      <td>2014-12-09</td>\n",
       "      <td>538000.0</td>\n",
       "      <td>3</td>\n",
       "      <td>2.25</td>\n",
       "      <td>2570</td>\n",
       "      <td>7242.0</td>\n",
       "      <td>2.0</td>\n",
       "      <td>0</td>\n",
       "      <td>0</td>\n",
       "      <td>3</td>\n",
       "      <td>...</td>\n",
       "      <td>400</td>\n",
       "      <td>1951</td>\n",
       "      <td>1991</td>\n",
       "      <td>47.7210</td>\n",
       "      <td>-122.319</td>\n",
       "      <td>1690</td>\n",
       "      <td>7639</td>\n",
       "      <td>2014</td>\n",
       "      <td>12</td>\n",
       "      <td>9</td>\n",
       "    </tr>\n",
       "    <tr>\n",
       "      <th>2</th>\n",
       "      <td>2015-02-25</td>\n",
       "      <td>180000.0</td>\n",
       "      <td>2</td>\n",
       "      <td>1.00</td>\n",
       "      <td>770</td>\n",
       "      <td>10000.0</td>\n",
       "      <td>1.0</td>\n",
       "      <td>0</td>\n",
       "      <td>0</td>\n",
       "      <td>3</td>\n",
       "      <td>...</td>\n",
       "      <td>0</td>\n",
       "      <td>1933</td>\n",
       "      <td>0</td>\n",
       "      <td>47.7379</td>\n",
       "      <td>-122.233</td>\n",
       "      <td>2720</td>\n",
       "      <td>8062</td>\n",
       "      <td>2015</td>\n",
       "      <td>2</td>\n",
       "      <td>25</td>\n",
       "    </tr>\n",
       "    <tr>\n",
       "      <th>3</th>\n",
       "      <td>2014-12-09</td>\n",
       "      <td>604000.0</td>\n",
       "      <td>4</td>\n",
       "      <td>3.00</td>\n",
       "      <td>1960</td>\n",
       "      <td>5000.0</td>\n",
       "      <td>1.0</td>\n",
       "      <td>0</td>\n",
       "      <td>0</td>\n",
       "      <td>5</td>\n",
       "      <td>...</td>\n",
       "      <td>910</td>\n",
       "      <td>1965</td>\n",
       "      <td>0</td>\n",
       "      <td>47.5208</td>\n",
       "      <td>-122.393</td>\n",
       "      <td>1360</td>\n",
       "      <td>5000</td>\n",
       "      <td>2014</td>\n",
       "      <td>12</td>\n",
       "      <td>9</td>\n",
       "    </tr>\n",
       "    <tr>\n",
       "      <th>4</th>\n",
       "      <td>2015-02-18</td>\n",
       "      <td>510000.0</td>\n",
       "      <td>3</td>\n",
       "      <td>2.00</td>\n",
       "      <td>1680</td>\n",
       "      <td>8080.0</td>\n",
       "      <td>1.0</td>\n",
       "      <td>0</td>\n",
       "      <td>0</td>\n",
       "      <td>3</td>\n",
       "      <td>...</td>\n",
       "      <td>0</td>\n",
       "      <td>1987</td>\n",
       "      <td>0</td>\n",
       "      <td>47.6168</td>\n",
       "      <td>-122.045</td>\n",
       "      <td>1800</td>\n",
       "      <td>7503</td>\n",
       "      <td>2015</td>\n",
       "      <td>2</td>\n",
       "      <td>18</td>\n",
       "    </tr>\n",
       "    <tr>\n",
       "      <th>...</th>\n",
       "      <td>...</td>\n",
       "      <td>...</td>\n",
       "      <td>...</td>\n",
       "      <td>...</td>\n",
       "      <td>...</td>\n",
       "      <td>...</td>\n",
       "      <td>...</td>\n",
       "      <td>...</td>\n",
       "      <td>...</td>\n",
       "      <td>...</td>\n",
       "      <td>...</td>\n",
       "      <td>...</td>\n",
       "      <td>...</td>\n",
       "      <td>...</td>\n",
       "      <td>...</td>\n",
       "      <td>...</td>\n",
       "      <td>...</td>\n",
       "      <td>...</td>\n",
       "      <td>...</td>\n",
       "      <td>...</td>\n",
       "      <td>...</td>\n",
       "    </tr>\n",
       "    <tr>\n",
       "      <th>21610</th>\n",
       "      <td>2014-05-21</td>\n",
       "      <td>360000.0</td>\n",
       "      <td>3</td>\n",
       "      <td>2.50</td>\n",
       "      <td>1530</td>\n",
       "      <td>1131.0</td>\n",
       "      <td>3.0</td>\n",
       "      <td>0</td>\n",
       "      <td>0</td>\n",
       "      <td>3</td>\n",
       "      <td>...</td>\n",
       "      <td>0</td>\n",
       "      <td>2009</td>\n",
       "      <td>0</td>\n",
       "      <td>47.6993</td>\n",
       "      <td>-122.346</td>\n",
       "      <td>1530</td>\n",
       "      <td>1509</td>\n",
       "      <td>2014</td>\n",
       "      <td>5</td>\n",
       "      <td>21</td>\n",
       "    </tr>\n",
       "    <tr>\n",
       "      <th>21611</th>\n",
       "      <td>2015-02-23</td>\n",
       "      <td>400000.0</td>\n",
       "      <td>4</td>\n",
       "      <td>2.50</td>\n",
       "      <td>2310</td>\n",
       "      <td>5813.0</td>\n",
       "      <td>2.0</td>\n",
       "      <td>0</td>\n",
       "      <td>0</td>\n",
       "      <td>3</td>\n",
       "      <td>...</td>\n",
       "      <td>0</td>\n",
       "      <td>2014</td>\n",
       "      <td>0</td>\n",
       "      <td>47.5107</td>\n",
       "      <td>-122.362</td>\n",
       "      <td>1830</td>\n",
       "      <td>7200</td>\n",
       "      <td>2015</td>\n",
       "      <td>2</td>\n",
       "      <td>23</td>\n",
       "    </tr>\n",
       "    <tr>\n",
       "      <th>21612</th>\n",
       "      <td>2014-06-23</td>\n",
       "      <td>402101.0</td>\n",
       "      <td>2</td>\n",
       "      <td>0.75</td>\n",
       "      <td>1020</td>\n",
       "      <td>1350.0</td>\n",
       "      <td>2.0</td>\n",
       "      <td>0</td>\n",
       "      <td>0</td>\n",
       "      <td>3</td>\n",
       "      <td>...</td>\n",
       "      <td>0</td>\n",
       "      <td>2009</td>\n",
       "      <td>0</td>\n",
       "      <td>47.5944</td>\n",
       "      <td>-122.299</td>\n",
       "      <td>1020</td>\n",
       "      <td>2007</td>\n",
       "      <td>2014</td>\n",
       "      <td>6</td>\n",
       "      <td>23</td>\n",
       "    </tr>\n",
       "    <tr>\n",
       "      <th>21613</th>\n",
       "      <td>2015-01-16</td>\n",
       "      <td>400000.0</td>\n",
       "      <td>3</td>\n",
       "      <td>2.50</td>\n",
       "      <td>1600</td>\n",
       "      <td>2388.0</td>\n",
       "      <td>2.0</td>\n",
       "      <td>0</td>\n",
       "      <td>0</td>\n",
       "      <td>3</td>\n",
       "      <td>...</td>\n",
       "      <td>0</td>\n",
       "      <td>2004</td>\n",
       "      <td>0</td>\n",
       "      <td>47.5345</td>\n",
       "      <td>-122.069</td>\n",
       "      <td>1410</td>\n",
       "      <td>1287</td>\n",
       "      <td>2015</td>\n",
       "      <td>1</td>\n",
       "      <td>16</td>\n",
       "    </tr>\n",
       "    <tr>\n",
       "      <th>21614</th>\n",
       "      <td>2014-10-15</td>\n",
       "      <td>325000.0</td>\n",
       "      <td>2</td>\n",
       "      <td>0.75</td>\n",
       "      <td>1020</td>\n",
       "      <td>1076.0</td>\n",
       "      <td>2.0</td>\n",
       "      <td>0</td>\n",
       "      <td>0</td>\n",
       "      <td>3</td>\n",
       "      <td>...</td>\n",
       "      <td>0</td>\n",
       "      <td>2008</td>\n",
       "      <td>0</td>\n",
       "      <td>47.5941</td>\n",
       "      <td>-122.299</td>\n",
       "      <td>1020</td>\n",
       "      <td>1357</td>\n",
       "      <td>2014</td>\n",
       "      <td>10</td>\n",
       "      <td>15</td>\n",
       "    </tr>\n",
       "  </tbody>\n",
       "</table>\n",
       "<p>21612 rows × 22 columns</p>\n",
       "</div>"
      ],
      "text/plain": [
       "            date     price  bedrooms  bathrooms  sqft_living  sqft_lot  \\\n",
       "0     2014-10-13  221900.0         3       1.00         1180    5650.0   \n",
       "1     2014-12-09  538000.0         3       2.25         2570    7242.0   \n",
       "2     2015-02-25  180000.0         2       1.00          770   10000.0   \n",
       "3     2014-12-09  604000.0         4       3.00         1960    5000.0   \n",
       "4     2015-02-18  510000.0         3       2.00         1680    8080.0   \n",
       "...          ...       ...       ...        ...          ...       ...   \n",
       "21610 2014-05-21  360000.0         3       2.50         1530    1131.0   \n",
       "21611 2015-02-23  400000.0         4       2.50         2310    5813.0   \n",
       "21612 2014-06-23  402101.0         2       0.75         1020    1350.0   \n",
       "21613 2015-01-16  400000.0         3       2.50         1600    2388.0   \n",
       "21614 2014-10-15  325000.0         2       0.75         1020    1076.0   \n",
       "\n",
       "       floors  waterfront  view  condition  ...  sqft_basement  yr_built  \\\n",
       "0         1.0           0     0          3  ...              0      1955   \n",
       "1         2.0           0     0          3  ...            400      1951   \n",
       "2         1.0           0     0          3  ...              0      1933   \n",
       "3         1.0           0     0          5  ...            910      1965   \n",
       "4         1.0           0     0          3  ...              0      1987   \n",
       "...       ...         ...   ...        ...  ...            ...       ...   \n",
       "21610     3.0           0     0          3  ...              0      2009   \n",
       "21611     2.0           0     0          3  ...              0      2014   \n",
       "21612     2.0           0     0          3  ...              0      2009   \n",
       "21613     2.0           0     0          3  ...              0      2004   \n",
       "21614     2.0           0     0          3  ...              0      2008   \n",
       "\n",
       "       yr_renovated      lat     long  sqft_living15  sqft_lot15  year  month  \\\n",
       "0                 0  47.5112 -122.257           1340        5650  2014     10   \n",
       "1              1991  47.7210 -122.319           1690        7639  2014     12   \n",
       "2                 0  47.7379 -122.233           2720        8062  2015      2   \n",
       "3                 0  47.5208 -122.393           1360        5000  2014     12   \n",
       "4                 0  47.6168 -122.045           1800        7503  2015      2   \n",
       "...             ...      ...      ...            ...         ...   ...    ...   \n",
       "21610             0  47.6993 -122.346           1530        1509  2014      5   \n",
       "21611             0  47.5107 -122.362           1830        7200  2015      2   \n",
       "21612             0  47.5944 -122.299           1020        2007  2014      6   \n",
       "21613             0  47.5345 -122.069           1410        1287  2015      1   \n",
       "21614             0  47.5941 -122.299           1020        1357  2014     10   \n",
       "\n",
       "       day  \n",
       "0       13  \n",
       "1        9  \n",
       "2       25  \n",
       "3        9  \n",
       "4       18  \n",
       "...    ...  \n",
       "21610   21  \n",
       "21611   23  \n",
       "21612   23  \n",
       "21613   16  \n",
       "21614   15  \n",
       "\n",
       "[21612 rows x 22 columns]"
      ]
     },
     "execution_count": 31,
     "metadata": {},
     "output_type": "execute_result"
    }
   ],
   "source": [
    "df"
   ]
  },
  {
   "cell_type": "markdown",
   "metadata": {
    "id": "gP4AQ__Q47UR"
   },
   "source": [
    "### Plots average price in day, month and year"
   ]
  },
  {
   "cell_type": "code",
   "execution_count": 32,
   "metadata": {
    "colab": {
     "base_uri": "https://localhost:8080/",
     "height": 336
    },
    "id": "nn8czj5QTLP4",
    "outputId": "f292c35a-c018-452a-ce2a-d19e357e9eff"
   },
   "outputs": [
    {
     "data": {
      "image/png": "[encoded data removed]",
      "text/plain": [
       "<Figure size 1296x360 with 3 Axes>"
      ]
     },
     "metadata": {
      "needs_background": "light"
     },
     "output_type": "display_data"
    }
   ],
   "source": [
    "fig, ax = plt.subplots(1,3,figsize=(18,5))\n",
    "ax[0].plot(df.groupby('day').mean()['price'])\n",
    "ax[0].set_title('average price vs day of the month')\n",
    "ax[1].plot(df.groupby('month').mean()['price'])\n",
    "ax[1].set_title('average price vs mont of the year')\n",
    "ax[2].plot(df.groupby('year').mean()['price'])\n",
    "ax[2].set_title('average price vs mont of the year')\n",
    "plt.show()"
   ]
  },
  {
   "cell_type": "markdown",
   "metadata": {
    "id": "dzEXY7JSwd8L"
   },
   "source": [
    "###Clean dataset with 3$σ$ rule"
   ]
  },
  {
   "cell_type": "code",
   "execution_count": 33,
   "metadata": {
    "id": "d1dROl0aiOls"
   },
   "outputs": [],
   "source": [
    "df_2=df.drop(['date'],axis=1)"
   ]
  },
  {
   "cell_type": "code",
   "execution_count": 34,
   "metadata": {
    "id": "vMvq_9V5UAxN"
   },
   "outputs": [],
   "source": [
    "std_dev=3\n",
    "outliers=(np.abs(stats.zscore(df_2))>std_dev).any(axis=1)\n",
    "df_outliers=df_2[outliers]"
   ]
  },
  {
   "cell_type": "code",
   "execution_count": 35,
   "metadata": {
    "colab": {
     "base_uri": "https://localhost:8080/",
     "height": 487
    },
    "id": "ksz0hJ-Pijbu",
    "outputId": "bc8f435b-fadb-4319-d476-76c14da55bcc"
   },
   "outputs": [
    {
     "data": {
      "text/html": [
       "<div>\n",
       "<style scoped>\n",
       "    .dataframe tbody tr th:only-of-type {\n",
       "        vertical-align: middle;\n",
       "    }\n",
       "\n",
       "    .dataframe tbody tr th {\n",
       "        vertical-align: top;\n",
       "    }\n",
       "\n",
       "    .dataframe thead th {\n",
       "        text-align: right;\n",
       "    }\n",
       "</style>\n",
       "<table border=\"1\" class=\"dataframe\">\n",
       "  <thead>\n",
       "    <tr style=\"text-align: right;\">\n",
       "      <th></th>\n",
       "      <th>price</th>\n",
       "      <th>bedrooms</th>\n",
       "      <th>bathrooms</th>\n",
       "      <th>sqft_living</th>\n",
       "      <th>sqft_lot</th>\n",
       "      <th>floors</th>\n",
       "      <th>waterfront</th>\n",
       "      <th>view</th>\n",
       "      <th>condition</th>\n",
       "      <th>grade</th>\n",
       "      <th>...</th>\n",
       "      <th>sqft_basement</th>\n",
       "      <th>yr_built</th>\n",
       "      <th>yr_renovated</th>\n",
       "      <th>lat</th>\n",
       "      <th>long</th>\n",
       "      <th>sqft_living15</th>\n",
       "      <th>sqft_lot15</th>\n",
       "      <th>year</th>\n",
       "      <th>month</th>\n",
       "      <th>day</th>\n",
       "    </tr>\n",
       "  </thead>\n",
       "  <tbody>\n",
       "    <tr>\n",
       "      <th>1</th>\n",
       "      <td>538000.0</td>\n",
       "      <td>3</td>\n",
       "      <td>2.25</td>\n",
       "      <td>2570</td>\n",
       "      <td>7242.0</td>\n",
       "      <td>2.0</td>\n",
       "      <td>0</td>\n",
       "      <td>0</td>\n",
       "      <td>3</td>\n",
       "      <td>7</td>\n",
       "      <td>...</td>\n",
       "      <td>400</td>\n",
       "      <td>1951</td>\n",
       "      <td>1991</td>\n",
       "      <td>47.7210</td>\n",
       "      <td>-122.319</td>\n",
       "      <td>1690</td>\n",
       "      <td>7639</td>\n",
       "      <td>2014</td>\n",
       "      <td>12</td>\n",
       "      <td>9</td>\n",
       "    </tr>\n",
       "    <tr>\n",
       "      <th>5</th>\n",
       "      <td>1225000.0</td>\n",
       "      <td>4</td>\n",
       "      <td>4.50</td>\n",
       "      <td>5420</td>\n",
       "      <td>101930.0</td>\n",
       "      <td>1.0</td>\n",
       "      <td>0</td>\n",
       "      <td>0</td>\n",
       "      <td>3</td>\n",
       "      <td>11</td>\n",
       "      <td>...</td>\n",
       "      <td>1530</td>\n",
       "      <td>2001</td>\n",
       "      <td>0</td>\n",
       "      <td>47.6561</td>\n",
       "      <td>-122.005</td>\n",
       "      <td>4760</td>\n",
       "      <td>101930</td>\n",
       "      <td>2014</td>\n",
       "      <td>5</td>\n",
       "      <td>12</td>\n",
       "    </tr>\n",
       "    <tr>\n",
       "      <th>10</th>\n",
       "      <td>662500.0</td>\n",
       "      <td>3</td>\n",
       "      <td>2.50</td>\n",
       "      <td>3560</td>\n",
       "      <td>9796.0</td>\n",
       "      <td>1.0</td>\n",
       "      <td>0</td>\n",
       "      <td>0</td>\n",
       "      <td>3</td>\n",
       "      <td>8</td>\n",
       "      <td>...</td>\n",
       "      <td>1700</td>\n",
       "      <td>1965</td>\n",
       "      <td>0</td>\n",
       "      <td>47.6007</td>\n",
       "      <td>-122.145</td>\n",
       "      <td>2210</td>\n",
       "      <td>8925</td>\n",
       "      <td>2015</td>\n",
       "      <td>4</td>\n",
       "      <td>3</td>\n",
       "    </tr>\n",
       "    <tr>\n",
       "      <th>15</th>\n",
       "      <td>650000.0</td>\n",
       "      <td>4</td>\n",
       "      <td>3.00</td>\n",
       "      <td>2950</td>\n",
       "      <td>5000.0</td>\n",
       "      <td>2.0</td>\n",
       "      <td>0</td>\n",
       "      <td>3</td>\n",
       "      <td>3</td>\n",
       "      <td>9</td>\n",
       "      <td>...</td>\n",
       "      <td>970</td>\n",
       "      <td>1979</td>\n",
       "      <td>0</td>\n",
       "      <td>47.5714</td>\n",
       "      <td>-122.375</td>\n",
       "      <td>2140</td>\n",
       "      <td>4000</td>\n",
       "      <td>2015</td>\n",
       "      <td>1</td>\n",
       "      <td>24</td>\n",
       "    </tr>\n",
       "    <tr>\n",
       "      <th>21</th>\n",
       "      <td>2000000.0</td>\n",
       "      <td>3</td>\n",
       "      <td>2.75</td>\n",
       "      <td>3050</td>\n",
       "      <td>44867.0</td>\n",
       "      <td>1.0</td>\n",
       "      <td>0</td>\n",
       "      <td>4</td>\n",
       "      <td>3</td>\n",
       "      <td>9</td>\n",
       "      <td>...</td>\n",
       "      <td>720</td>\n",
       "      <td>1968</td>\n",
       "      <td>0</td>\n",
       "      <td>47.5316</td>\n",
       "      <td>-122.233</td>\n",
       "      <td>4110</td>\n",
       "      <td>20336</td>\n",
       "      <td>2014</td>\n",
       "      <td>8</td>\n",
       "      <td>26</td>\n",
       "    </tr>\n",
       "    <tr>\n",
       "      <th>...</th>\n",
       "      <td>...</td>\n",
       "      <td>...</td>\n",
       "      <td>...</td>\n",
       "      <td>...</td>\n",
       "      <td>...</td>\n",
       "      <td>...</td>\n",
       "      <td>...</td>\n",
       "      <td>...</td>\n",
       "      <td>...</td>\n",
       "      <td>...</td>\n",
       "      <td>...</td>\n",
       "      <td>...</td>\n",
       "      <td>...</td>\n",
       "      <td>...</td>\n",
       "      <td>...</td>\n",
       "      <td>...</td>\n",
       "      <td>...</td>\n",
       "      <td>...</td>\n",
       "      <td>...</td>\n",
       "      <td>...</td>\n",
       "      <td>...</td>\n",
       "    </tr>\n",
       "    <tr>\n",
       "      <th>21563</th>\n",
       "      <td>750000.0</td>\n",
       "      <td>5</td>\n",
       "      <td>4.00</td>\n",
       "      <td>4500</td>\n",
       "      <td>8130.0</td>\n",
       "      <td>2.0</td>\n",
       "      <td>0</td>\n",
       "      <td>0</td>\n",
       "      <td>3</td>\n",
       "      <td>10</td>\n",
       "      <td>...</td>\n",
       "      <td>0</td>\n",
       "      <td>2007</td>\n",
       "      <td>0</td>\n",
       "      <td>47.4832</td>\n",
       "      <td>-122.145</td>\n",
       "      <td>2840</td>\n",
       "      <td>8402</td>\n",
       "      <td>2015</td>\n",
       "      <td>1</td>\n",
       "      <td>15</td>\n",
       "    </tr>\n",
       "    <tr>\n",
       "      <th>21570</th>\n",
       "      <td>1700000.0</td>\n",
       "      <td>4</td>\n",
       "      <td>3.50</td>\n",
       "      <td>3830</td>\n",
       "      <td>8963.0</td>\n",
       "      <td>2.0</td>\n",
       "      <td>0</td>\n",
       "      <td>0</td>\n",
       "      <td>3</td>\n",
       "      <td>10</td>\n",
       "      <td>...</td>\n",
       "      <td>710</td>\n",
       "      <td>2014</td>\n",
       "      <td>0</td>\n",
       "      <td>47.5990</td>\n",
       "      <td>-122.197</td>\n",
       "      <td>2190</td>\n",
       "      <td>10777</td>\n",
       "      <td>2015</td>\n",
       "      <td>1</td>\n",
       "      <td>30</td>\n",
       "    </tr>\n",
       "    <tr>\n",
       "      <th>21578</th>\n",
       "      <td>3567000.0</td>\n",
       "      <td>5</td>\n",
       "      <td>4.50</td>\n",
       "      <td>4850</td>\n",
       "      <td>10584.0</td>\n",
       "      <td>2.0</td>\n",
       "      <td>1</td>\n",
       "      <td>4</td>\n",
       "      <td>3</td>\n",
       "      <td>10</td>\n",
       "      <td>...</td>\n",
       "      <td>1310</td>\n",
       "      <td>2007</td>\n",
       "      <td>0</td>\n",
       "      <td>47.5943</td>\n",
       "      <td>-122.110</td>\n",
       "      <td>3470</td>\n",
       "      <td>18270</td>\n",
       "      <td>2015</td>\n",
       "      <td>1</td>\n",
       "      <td>7</td>\n",
       "    </tr>\n",
       "    <tr>\n",
       "      <th>21592</th>\n",
       "      <td>1222500.0</td>\n",
       "      <td>4</td>\n",
       "      <td>3.50</td>\n",
       "      <td>4910</td>\n",
       "      <td>9444.0</td>\n",
       "      <td>1.5</td>\n",
       "      <td>0</td>\n",
       "      <td>0</td>\n",
       "      <td>3</td>\n",
       "      <td>11</td>\n",
       "      <td>...</td>\n",
       "      <td>1800</td>\n",
       "      <td>2007</td>\n",
       "      <td>0</td>\n",
       "      <td>47.6502</td>\n",
       "      <td>-122.066</td>\n",
       "      <td>4560</td>\n",
       "      <td>11063</td>\n",
       "      <td>2014</td>\n",
       "      <td>5</td>\n",
       "      <td>14</td>\n",
       "    </tr>\n",
       "    <tr>\n",
       "      <th>21602</th>\n",
       "      <td>1537000.0</td>\n",
       "      <td>5</td>\n",
       "      <td>3.75</td>\n",
       "      <td>4470</td>\n",
       "      <td>8088.0</td>\n",
       "      <td>2.0</td>\n",
       "      <td>0</td>\n",
       "      <td>0</td>\n",
       "      <td>3</td>\n",
       "      <td>11</td>\n",
       "      <td>...</td>\n",
       "      <td>0</td>\n",
       "      <td>2008</td>\n",
       "      <td>0</td>\n",
       "      <td>47.6321</td>\n",
       "      <td>-122.200</td>\n",
       "      <td>2780</td>\n",
       "      <td>8964</td>\n",
       "      <td>2014</td>\n",
       "      <td>10</td>\n",
       "      <td>15</td>\n",
       "    </tr>\n",
       "  </tbody>\n",
       "</table>\n",
       "<p>2911 rows × 21 columns</p>\n",
       "</div>"
      ],
      "text/plain": [
       "           price  bedrooms  bathrooms  sqft_living  sqft_lot  floors  \\\n",
       "1       538000.0         3       2.25         2570    7242.0     2.0   \n",
       "5      1225000.0         4       4.50         5420  101930.0     1.0   \n",
       "10      662500.0         3       2.50         3560    9796.0     1.0   \n",
       "15      650000.0         4       3.00         2950    5000.0     2.0   \n",
       "21     2000000.0         3       2.75         3050   44867.0     1.0   \n",
       "...          ...       ...        ...          ...       ...     ...   \n",
       "21563   750000.0         5       4.00         4500    8130.0     2.0   \n",
       "21570  1700000.0         4       3.50         3830    8963.0     2.0   \n",
       "21578  3567000.0         5       4.50         4850   10584.0     2.0   \n",
       "21592  1222500.0         4       3.50         4910    9444.0     1.5   \n",
       "21602  1537000.0         5       3.75         4470    8088.0     2.0   \n",
       "\n",
       "       waterfront  view  condition  grade  ...  sqft_basement  yr_built  \\\n",
       "1               0     0          3      7  ...            400      1951   \n",
       "5               0     0          3     11  ...           1530      2001   \n",
       "10              0     0          3      8  ...           1700      1965   \n",
       "15              0     3          3      9  ...            970      1979   \n",
       "21              0     4          3      9  ...            720      1968   \n",
       "...           ...   ...        ...    ...  ...            ...       ...   \n",
       "21563           0     0          3     10  ...              0      2007   \n",
       "21570           0     0          3     10  ...            710      2014   \n",
       "21578           1     4          3     10  ...           1310      2007   \n",
       "21592           0     0          3     11  ...           1800      2007   \n",
       "21602           0     0          3     11  ...              0      2008   \n",
       "\n",
       "       yr_renovated      lat     long  sqft_living15  sqft_lot15  year  month  \\\n",
       "1              1991  47.7210 -122.319           1690        7639  2014     12   \n",
       "5                 0  47.6561 -122.005           4760      101930  2014      5   \n",
       "10                0  47.6007 -122.145           2210        8925  2015      4   \n",
       "15                0  47.5714 -122.375           2140        4000  2015      1   \n",
       "21                0  47.5316 -122.233           4110       20336  2014      8   \n",
       "...             ...      ...      ...            ...         ...   ...    ...   \n",
       "21563             0  47.4832 -122.145           2840        8402  2015      1   \n",
       "21570             0  47.5990 -122.197           2190       10777  2015      1   \n",
       "21578             0  47.5943 -122.110           3470       18270  2015      1   \n",
       "21592             0  47.6502 -122.066           4560       11063  2014      5   \n",
       "21602             0  47.6321 -122.200           2780        8964  2014     10   \n",
       "\n",
       "       day  \n",
       "1        9  \n",
       "5       12  \n",
       "10       3  \n",
       "15      24  \n",
       "21      26  \n",
       "...    ...  \n",
       "21563   15  \n",
       "21570   30  \n",
       "21578    7  \n",
       "21592   14  \n",
       "21602   15  \n",
       "\n",
       "[2911 rows x 21 columns]"
      ]
     },
     "execution_count": 35,
     "metadata": {},
     "output_type": "execute_result"
    }
   ],
   "source": [
    "df_outliers"
   ]
  },
  {
   "cell_type": "code",
   "execution_count": 36,
   "metadata": {
    "id": "Rz85rSzpkLA3"
   },
   "outputs": [],
   "source": [
    "df_clean=df_2[~outliers]"
   ]
  },
  {
   "cell_type": "code",
   "execution_count": 37,
   "metadata": {
    "colab": {
     "base_uri": "https://localhost:8080/",
     "height": 487
    },
    "id": "sH1NjjiwlKin",
    "outputId": "8aea81d5-bf65-4ffc-a3fc-e85bb081431f"
   },
   "outputs": [
    {
     "data": {
      "text/html": [
       "<div>\n",
       "<style scoped>\n",
       "    .dataframe tbody tr th:only-of-type {\n",
       "        vertical-align: middle;\n",
       "    }\n",
       "\n",
       "    .dataframe tbody tr th {\n",
       "        vertical-align: top;\n",
       "    }\n",
       "\n",
       "    .dataframe thead th {\n",
       "        text-align: right;\n",
       "    }\n",
       "</style>\n",
       "<table border=\"1\" class=\"dataframe\">\n",
       "  <thead>\n",
       "    <tr style=\"text-align: right;\">\n",
       "      <th></th>\n",
       "      <th>price</th>\n",
       "      <th>bedrooms</th>\n",
       "      <th>bathrooms</th>\n",
       "      <th>sqft_living</th>\n",
       "      <th>sqft_lot</th>\n",
       "      <th>floors</th>\n",
       "      <th>waterfront</th>\n",
       "      <th>view</th>\n",
       "      <th>condition</th>\n",
       "      <th>grade</th>\n",
       "      <th>...</th>\n",
       "      <th>sqft_basement</th>\n",
       "      <th>yr_built</th>\n",
       "      <th>yr_renovated</th>\n",
       "      <th>lat</th>\n",
       "      <th>long</th>\n",
       "      <th>sqft_living15</th>\n",
       "      <th>sqft_lot15</th>\n",
       "      <th>year</th>\n",
       "      <th>month</th>\n",
       "      <th>day</th>\n",
       "    </tr>\n",
       "  </thead>\n",
       "  <tbody>\n",
       "    <tr>\n",
       "      <th>0</th>\n",
       "      <td>221900.0</td>\n",
       "      <td>3</td>\n",
       "      <td>1.00</td>\n",
       "      <td>1180</td>\n",
       "      <td>5650.0</td>\n",
       "      <td>1.0</td>\n",
       "      <td>0</td>\n",
       "      <td>0</td>\n",
       "      <td>3</td>\n",
       "      <td>7</td>\n",
       "      <td>...</td>\n",
       "      <td>0</td>\n",
       "      <td>1955</td>\n",
       "      <td>0</td>\n",
       "      <td>47.5112</td>\n",
       "      <td>-122.257</td>\n",
       "      <td>1340</td>\n",
       "      <td>5650</td>\n",
       "      <td>2014</td>\n",
       "      <td>10</td>\n",
       "      <td>13</td>\n",
       "    </tr>\n",
       "    <tr>\n",
       "      <th>2</th>\n",
       "      <td>180000.0</td>\n",
       "      <td>2</td>\n",
       "      <td>1.00</td>\n",
       "      <td>770</td>\n",
       "      <td>10000.0</td>\n",
       "      <td>1.0</td>\n",
       "      <td>0</td>\n",
       "      <td>0</td>\n",
       "      <td>3</td>\n",
       "      <td>6</td>\n",
       "      <td>...</td>\n",
       "      <td>0</td>\n",
       "      <td>1933</td>\n",
       "      <td>0</td>\n",
       "      <td>47.7379</td>\n",
       "      <td>-122.233</td>\n",
       "      <td>2720</td>\n",
       "      <td>8062</td>\n",
       "      <td>2015</td>\n",
       "      <td>2</td>\n",
       "      <td>25</td>\n",
       "    </tr>\n",
       "    <tr>\n",
       "      <th>3</th>\n",
       "      <td>604000.0</td>\n",
       "      <td>4</td>\n",
       "      <td>3.00</td>\n",
       "      <td>1960</td>\n",
       "      <td>5000.0</td>\n",
       "      <td>1.0</td>\n",
       "      <td>0</td>\n",
       "      <td>0</td>\n",
       "      <td>5</td>\n",
       "      <td>7</td>\n",
       "      <td>...</td>\n",
       "      <td>910</td>\n",
       "      <td>1965</td>\n",
       "      <td>0</td>\n",
       "      <td>47.5208</td>\n",
       "      <td>-122.393</td>\n",
       "      <td>1360</td>\n",
       "      <td>5000</td>\n",
       "      <td>2014</td>\n",
       "      <td>12</td>\n",
       "      <td>9</td>\n",
       "    </tr>\n",
       "    <tr>\n",
       "      <th>4</th>\n",
       "      <td>510000.0</td>\n",
       "      <td>3</td>\n",
       "      <td>2.00</td>\n",
       "      <td>1680</td>\n",
       "      <td>8080.0</td>\n",
       "      <td>1.0</td>\n",
       "      <td>0</td>\n",
       "      <td>0</td>\n",
       "      <td>3</td>\n",
       "      <td>8</td>\n",
       "      <td>...</td>\n",
       "      <td>0</td>\n",
       "      <td>1987</td>\n",
       "      <td>0</td>\n",
       "      <td>47.6168</td>\n",
       "      <td>-122.045</td>\n",
       "      <td>1800</td>\n",
       "      <td>7503</td>\n",
       "      <td>2015</td>\n",
       "      <td>2</td>\n",
       "      <td>18</td>\n",
       "    </tr>\n",
       "    <tr>\n",
       "      <th>6</th>\n",
       "      <td>257500.0</td>\n",
       "      <td>3</td>\n",
       "      <td>2.25</td>\n",
       "      <td>1715</td>\n",
       "      <td>6819.0</td>\n",
       "      <td>2.0</td>\n",
       "      <td>0</td>\n",
       "      <td>0</td>\n",
       "      <td>3</td>\n",
       "      <td>7</td>\n",
       "      <td>...</td>\n",
       "      <td>0</td>\n",
       "      <td>1995</td>\n",
       "      <td>0</td>\n",
       "      <td>47.3097</td>\n",
       "      <td>-122.327</td>\n",
       "      <td>2238</td>\n",
       "      <td>6819</td>\n",
       "      <td>2014</td>\n",
       "      <td>6</td>\n",
       "      <td>27</td>\n",
       "    </tr>\n",
       "    <tr>\n",
       "      <th>...</th>\n",
       "      <td>...</td>\n",
       "      <td>...</td>\n",
       "      <td>...</td>\n",
       "      <td>...</td>\n",
       "      <td>...</td>\n",
       "      <td>...</td>\n",
       "      <td>...</td>\n",
       "      <td>...</td>\n",
       "      <td>...</td>\n",
       "      <td>...</td>\n",
       "      <td>...</td>\n",
       "      <td>...</td>\n",
       "      <td>...</td>\n",
       "      <td>...</td>\n",
       "      <td>...</td>\n",
       "      <td>...</td>\n",
       "      <td>...</td>\n",
       "      <td>...</td>\n",
       "      <td>...</td>\n",
       "      <td>...</td>\n",
       "      <td>...</td>\n",
       "    </tr>\n",
       "    <tr>\n",
       "      <th>21610</th>\n",
       "      <td>360000.0</td>\n",
       "      <td>3</td>\n",
       "      <td>2.50</td>\n",
       "      <td>1530</td>\n",
       "      <td>1131.0</td>\n",
       "      <td>3.0</td>\n",
       "      <td>0</td>\n",
       "      <td>0</td>\n",
       "      <td>3</td>\n",
       "      <td>8</td>\n",
       "      <td>...</td>\n",
       "      <td>0</td>\n",
       "      <td>2009</td>\n",
       "      <td>0</td>\n",
       "      <td>47.6993</td>\n",
       "      <td>-122.346</td>\n",
       "      <td>1530</td>\n",
       "      <td>1509</td>\n",
       "      <td>2014</td>\n",
       "      <td>5</td>\n",
       "      <td>21</td>\n",
       "    </tr>\n",
       "    <tr>\n",
       "      <th>21611</th>\n",
       "      <td>400000.0</td>\n",
       "      <td>4</td>\n",
       "      <td>2.50</td>\n",
       "      <td>2310</td>\n",
       "      <td>5813.0</td>\n",
       "      <td>2.0</td>\n",
       "      <td>0</td>\n",
       "      <td>0</td>\n",
       "      <td>3</td>\n",
       "      <td>8</td>\n",
       "      <td>...</td>\n",
       "      <td>0</td>\n",
       "      <td>2014</td>\n",
       "      <td>0</td>\n",
       "      <td>47.5107</td>\n",
       "      <td>-122.362</td>\n",
       "      <td>1830</td>\n",
       "      <td>7200</td>\n",
       "      <td>2015</td>\n",
       "      <td>2</td>\n",
       "      <td>23</td>\n",
       "    </tr>\n",
       "    <tr>\n",
       "      <th>21612</th>\n",
       "      <td>402101.0</td>\n",
       "      <td>2</td>\n",
       "      <td>0.75</td>\n",
       "      <td>1020</td>\n",
       "      <td>1350.0</td>\n",
       "      <td>2.0</td>\n",
       "      <td>0</td>\n",
       "      <td>0</td>\n",
       "      <td>3</td>\n",
       "      <td>7</td>\n",
       "      <td>...</td>\n",
       "      <td>0</td>\n",
       "      <td>2009</td>\n",
       "      <td>0</td>\n",
       "      <td>47.5944</td>\n",
       "      <td>-122.299</td>\n",
       "      <td>1020</td>\n",
       "      <td>2007</td>\n",
       "      <td>2014</td>\n",
       "      <td>6</td>\n",
       "      <td>23</td>\n",
       "    </tr>\n",
       "    <tr>\n",
       "      <th>21613</th>\n",
       "      <td>400000.0</td>\n",
       "      <td>3</td>\n",
       "      <td>2.50</td>\n",
       "      <td>1600</td>\n",
       "      <td>2388.0</td>\n",
       "      <td>2.0</td>\n",
       "      <td>0</td>\n",
       "      <td>0</td>\n",
       "      <td>3</td>\n",
       "      <td>8</td>\n",
       "      <td>...</td>\n",
       "      <td>0</td>\n",
       "      <td>2004</td>\n",
       "      <td>0</td>\n",
       "      <td>47.5345</td>\n",
       "      <td>-122.069</td>\n",
       "      <td>1410</td>\n",
       "      <td>1287</td>\n",
       "      <td>2015</td>\n",
       "      <td>1</td>\n",
       "      <td>16</td>\n",
       "    </tr>\n",
       "    <tr>\n",
       "      <th>21614</th>\n",
       "      <td>325000.0</td>\n",
       "      <td>2</td>\n",
       "      <td>0.75</td>\n",
       "      <td>1020</td>\n",
       "      <td>1076.0</td>\n",
       "      <td>2.0</td>\n",
       "      <td>0</td>\n",
       "      <td>0</td>\n",
       "      <td>3</td>\n",
       "      <td>7</td>\n",
       "      <td>...</td>\n",
       "      <td>0</td>\n",
       "      <td>2008</td>\n",
       "      <td>0</td>\n",
       "      <td>47.5941</td>\n",
       "      <td>-122.299</td>\n",
       "      <td>1020</td>\n",
       "      <td>1357</td>\n",
       "      <td>2014</td>\n",
       "      <td>10</td>\n",
       "      <td>15</td>\n",
       "    </tr>\n",
       "  </tbody>\n",
       "</table>\n",
       "<p>18701 rows × 21 columns</p>\n",
       "</div>"
      ],
      "text/plain": [
       "          price  bedrooms  bathrooms  sqft_living  sqft_lot  floors  \\\n",
       "0      221900.0         3       1.00         1180    5650.0     1.0   \n",
       "2      180000.0         2       1.00          770   10000.0     1.0   \n",
       "3      604000.0         4       3.00         1960    5000.0     1.0   \n",
       "4      510000.0         3       2.00         1680    8080.0     1.0   \n",
       "6      257500.0         3       2.25         1715    6819.0     2.0   \n",
       "...         ...       ...        ...          ...       ...     ...   \n",
       "21610  360000.0         3       2.50         1530    1131.0     3.0   \n",
       "21611  400000.0         4       2.50         2310    5813.0     2.0   \n",
       "21612  402101.0         2       0.75         1020    1350.0     2.0   \n",
       "21613  400000.0         3       2.50         1600    2388.0     2.0   \n",
       "21614  325000.0         2       0.75         1020    1076.0     2.0   \n",
       "\n",
       "       waterfront  view  condition  grade  ...  sqft_basement  yr_built  \\\n",
       "0               0     0          3      7  ...              0      1955   \n",
       "2               0     0          3      6  ...              0      1933   \n",
       "3               0     0          5      7  ...            910      1965   \n",
       "4               0     0          3      8  ...              0      1987   \n",
       "6               0     0          3      7  ...              0      1995   \n",
       "...           ...   ...        ...    ...  ...            ...       ...   \n",
       "21610           0     0          3      8  ...              0      2009   \n",
       "21611           0     0          3      8  ...              0      2014   \n",
       "21612           0     0          3      7  ...              0      2009   \n",
       "21613           0     0          3      8  ...              0      2004   \n",
       "21614           0     0          3      7  ...              0      2008   \n",
       "\n",
       "       yr_renovated      lat     long  sqft_living15  sqft_lot15  year  month  \\\n",
       "0                 0  47.5112 -122.257           1340        5650  2014     10   \n",
       "2                 0  47.7379 -122.233           2720        8062  2015      2   \n",
       "3                 0  47.5208 -122.393           1360        5000  2014     12   \n",
       "4                 0  47.6168 -122.045           1800        7503  2015      2   \n",
       "6                 0  47.3097 -122.327           2238        6819  2014      6   \n",
       "...             ...      ...      ...            ...         ...   ...    ...   \n",
       "21610             0  47.6993 -122.346           1530        1509  2014      5   \n",
       "21611             0  47.5107 -122.362           1830        7200  2015      2   \n",
       "21612             0  47.5944 -122.299           1020        2007  2014      6   \n",
       "21613             0  47.5345 -122.069           1410        1287  2015      1   \n",
       "21614             0  47.5941 -122.299           1020        1357  2014     10   \n",
       "\n",
       "       day  \n",
       "0       13  \n",
       "2       25  \n",
       "3        9  \n",
       "4       18  \n",
       "6       27  \n",
       "...    ...  \n",
       "21610   21  \n",
       "21611   23  \n",
       "21612   23  \n",
       "21613   16  \n",
       "21614   15  \n",
       "\n",
       "[18701 rows x 21 columns]"
      ]
     },
     "execution_count": 37,
     "metadata": {},
     "output_type": "execute_result"
    }
   ],
   "source": [
    "df_clean"
   ]
  },
  {
   "cell_type": "markdown",
   "metadata": {
    "id": "kz9uurNo4xzg"
   },
   "source": [
    "### dataset _clean_ box plot"
   ]
  },
  {
   "cell_type": "code",
   "execution_count": 38,
   "metadata": {
    "colab": {
     "base_uri": "https://localhost:8080/",
     "height": 608
    },
    "id": "KSrPydQzwwy9",
    "outputId": "5d0ce845-3b37-49df-9074-66d8d1330166"
   },
   "outputs": [
    {
     "data": {
      "image/png": "[encoded data removed]",
      "text/plain": [
       "<Figure size 1440x720 with 1 Axes>"
      ]
     },
     "metadata": {
      "needs_background": "light"
     },
     "output_type": "display_data"
    }
   ],
   "source": [
    "df_clean.plot(kind='box', figsize=(20,10),title='Histogram all variables');"
   ]
  },
  {
   "cell_type": "markdown",
   "metadata": {
    "id": "AB4xlgAnB9H3"
   },
   "source": [
    "**Observe that not all outliers values was eliminated with 3$\\sigma$ rule**"
   ]
  },
  {
   "cell_type": "markdown",
   "metadata": {
    "id": "2SeF2VNy_O0-"
   },
   "source": [
    "### Plots average price in day, month and year _clean_ datset"
   ]
  },
  {
   "cell_type": "code",
   "execution_count": 39,
   "metadata": {
    "colab": {
     "base_uri": "https://localhost:8080/",
     "height": 336
    },
    "id": "nlfUnnc5wr3r",
    "outputId": "99596cf5-0546-4ca6-fab5-8459e64871be"
   },
   "outputs": [
    {
     "data": {
      "image/png": "[encoded data removed]",
      "text/plain": [
       "<Figure size 1296x360 with 3 Axes>"
      ]
     },
     "metadata": {
      "needs_background": "light"
     },
     "output_type": "display_data"
    }
   ],
   "source": [
    "fig, ax = plt.subplots(1,3,figsize=(18,5))\n",
    "ax[0].plot(df_clean.groupby('day').mean()['price'])\n",
    "ax[0].set_title('average price vs day of the month')\n",
    "ax[1].plot(df_clean.groupby('month').mean()['price'])\n",
    "ax[1].set_title('average price vs mont of the year')\n",
    "ax[2].plot(df_clean.groupby('year').mean()['price'])\n",
    "ax[2].set_title('average price vs mont of the year')\n",
    "plt.show()"
   ]
  },
  {
   "cell_type": "markdown",
   "metadata": {
    "id": "jZA-Z9frxFgu"
   },
   "source": [
    "####Spearman coefficent correlation table _clean_ datset"
   ]
  },
  {
   "cell_type": "code",
   "execution_count": 40,
   "metadata": {
    "id": "L54q-ZkKxft9"
   },
   "outputs": [],
   "source": [
    "df_clean_price=df_clean['price']\n",
    "df_clean_remain=df_clean.drop(['price'],axis=1)"
   ]
  },
  {
   "cell_type": "code",
   "execution_count": null,
   "metadata": {
    "colab": {
     "base_uri": "https://localhost:8080/",
     "height": 659
    },
    "id": "oqWQZNBg9fp7",
    "outputId": "9caa7dd3-caec-4909-b144-8ae26c90af16"
   },
   "outputs": [],
   "source": [
    "plt.figure(figsize=(20,10))\n",
    "correlation_values=df_clean_remain.corr().fillna(0)\n",
    "correlation_values['waterfront']['waterfront']=1\n",
    "correlation_values['yr_renovated']['yr_renovated']=1\n",
    "sns.heatmap(correlation_values, cmap='BrBG', annot=True)\n",
    "plt.show()"
   ]
  },
  {
   "cell_type": "code",
   "execution_count": null,
   "metadata": {
    "colab": {
     "base_uri": "https://localhost:8080/",
     "height": 476
    },
    "id": "JTgzOODOG0B6",
    "outputId": "805a12dd-c904-4a19-fbad-2d5a0a424c61"
   },
   "outputs": [],
   "source": [
    "value=df_clean_remain['sqft_living'].corr(df_clean_remain['sqft_above'])\n",
    "print(f'Pearson Coefficent sqft_above VS sqft_living:{value:.2f}','\\n')\n",
    "sns.jointplot(x='sqft_living', y='sqft_above', data=df_clean_remain, kind='reg',joint_kws={'line_kws':{'color':'red'}});"
   ]
  },
  {
   "cell_type": "code",
   "execution_count": null,
   "metadata": {
    "colab": {
     "base_uri": "https://localhost:8080/",
     "height": 476
    },
    "id": "zFLb2AuGG-uW",
    "outputId": "fbea6527-ba24-4fd5-f2b0-edbce7c54aa5"
   },
   "outputs": [],
   "source": [
    "value=df_clean_remain['sqft_lot15'].corr(df_clean_remain['sqft_lot'])\n",
    "print(f'Pearson Coefficent sqft_lot VS sqft_lot15:{value:.2f}','\\n')\n",
    "sns.jointplot(x='sqft_lot15', y='sqft_lot', data=df_clean_remain, kind='reg',joint_kws={'line_kws':{'color':'red'}});"
   ]
  },
  {
   "cell_type": "markdown",
   "metadata": {
    "id": "RGKMp1Ft12iI"
   },
   "source": [
    "### Delet the variables _sqft_lot15_ and _sqft_above_ according to value of correlation _Pearson_ value obtained, with variables _sqft_lot_ and _sqft_living_ resplectly"
   ]
  },
  {
   "cell_type": "code",
   "execution_count": null,
   "metadata": {
    "id": "qmMdq6RvGjHN"
   },
   "outputs": [],
   "source": [
    "df_clean_remain=df_clean_remain.drop(['sqft_lot15','sqft_above'],axis=1)"
   ]
  },
  {
   "cell_type": "code",
   "execution_count": null,
   "metadata": {
    "colab": {
     "base_uri": "https://localhost:8080/"
    },
    "id": "9GBkxe7n2XjH",
    "outputId": "2ef3d2cb-33bb-46bf-f6e7-9ef0014c2df6"
   },
   "outputs": [],
   "source": [
    "df_clean_remain.shape"
   ]
  },
  {
   "cell_type": "code",
   "execution_count": null,
   "metadata": {
    "colab": {
     "base_uri": "https://localhost:8080/",
     "height": 487
    },
    "id": "3_p5z0CL2y7M",
    "outputId": "763aae55-2d06-4f1c-c992-af6bf91cc4e1"
   },
   "outputs": [],
   "source": [
    "df_clean_remain"
   ]
  },
  {
   "cell_type": "markdown",
   "metadata": {
    "id": "TtzhPDh-7IjR"
   },
   "source": [
    "###Value counts of _bedrooms_"
   ]
  },
  {
   "cell_type": "code",
   "execution_count": null,
   "metadata": {
    "colab": {
     "base_uri": "https://localhost:8080/"
    },
    "id": "IjGfWkr4ebpW",
    "outputId": "6c824894-bdcb-4d92-a65d-b20bfdaee208"
   },
   "outputs": [],
   "source": [
    "df_clean_remain['bedrooms'].unique()"
   ]
  },
  {
   "cell_type": "code",
   "execution_count": null,
   "metadata": {
    "colab": {
     "base_uri": "https://localhost:8080/"
    },
    "id": "lkaCT-Wo3PdR",
    "outputId": "a5deca11-308f-4637-81b0-21271876919e"
   },
   "outputs": [],
   "source": [
    "df_clean_remain['bedrooms'].value_counts()"
   ]
  },
  {
   "cell_type": "code",
   "execution_count": null,
   "metadata": {
    "colab": {
     "base_uri": "https://localhost:8080/"
    },
    "id": "dt5zoqxSenPL",
    "outputId": "61754a18-f292-4250-a8bd-dd4ad1f88625"
   },
   "outputs": [],
   "source": [
    "df_clean_remain['floors'].unique()"
   ]
  },
  {
   "cell_type": "code",
   "execution_count": null,
   "metadata": {
    "colab": {
     "base_uri": "https://localhost:8080/"
    },
    "id": "TLHB3h3c8OkE",
    "outputId": "aa273bdc-0d1d-4ad2-973e-4b10a0aa4912"
   },
   "outputs": [],
   "source": [
    "df_clean_remain['floors'].value_counts()"
   ]
  },
  {
   "cell_type": "markdown",
   "metadata": {
    "id": "sSgk9n8A_prY"
   },
   "source": [
    "# Implementation Neuronal Network with many models"
   ]
  },
  {
   "cell_type": "markdown",
   "metadata": {
    "id": "8-qEWs1x2DY5"
   },
   "source": [
    "##Unnormalized data"
   ]
  },
  {
   "cell_type": "code",
   "execution_count": null,
   "metadata": {
    "id": "obud_jW18lVy"
   },
   "outputs": [],
   "source": [
    "X_data=df_clean_remain.to_numpy()\n",
    "y_data=df_clean_price.to_numpy()"
   ]
  },
  {
   "cell_type": "code",
   "execution_count": null,
   "metadata": {
    "id": "DbQNtejDkqGG"
   },
   "outputs": [],
   "source": [
    "X_train, X_test, y_train,y_test = train_test_split(X_data, y_data, test_size=0.2,random_state=1234)"
   ]
  },
  {
   "cell_type": "markdown",
   "metadata": {
    "id": "4TVaSBHztXkQ"
   },
   "source": [
    "###First Model: four layers (first three layers 50 neurons each one, last layer just one neuron)"
   ]
  },
  {
   "cell_type": "code",
   "execution_count": null,
   "metadata": {
    "id": "s5wIIF6xiINO"
   },
   "outputs": [],
   "source": [
    "def get_model(input_shape):\n",
    "  model = Sequential([InputLayer(input_shape=input_shape),\n",
    "                      Dense(units=50,activation='relu'),\n",
    "                      Dense(units=50,activation='relu'),\n",
    "                      Dense(units=50,activation='relu'),\n",
    "                      Dense(units=1,activation='linear')                 \n",
    "  ])\n",
    "  return model"
   ]
  },
  {
   "cell_type": "code",
   "execution_count": null,
   "metadata": {
    "id": "Qy6rVSLBk1Tz"
   },
   "outputs": [],
   "source": [
    "def compile_model(model):\n",
    "  model.compile(optimizer='adam',loss='mse',metrics=['mape'])"
   ]
  },
  {
   "cell_type": "code",
   "execution_count": null,
   "metadata": {
    "colab": {
     "base_uri": "https://localhost:8080/"
    },
    "id": "qYCwfKEGk0fL",
    "outputId": "22293136-7960-41cc-9967-3d89a615e44c"
   },
   "outputs": [],
   "source": [
    "model=get_model(X_train[0].shape)\n",
    "model.summary()"
   ]
  },
  {
   "cell_type": "code",
   "execution_count": null,
   "metadata": {
    "id": "4flAQyFPk7LI"
   },
   "outputs": [],
   "source": [
    "compile_model(model)\n",
    "history=model.fit(X_train,y_train,batch_size=64,epochs=50,validation_split=0.15,verbose=0)"
   ]
  },
  {
   "cell_type": "code",
   "execution_count": null,
   "metadata": {
    "colab": {
     "base_uri": "https://localhost:8080/",
     "height": 350
    },
    "id": "spgqO5IDlO1m",
    "outputId": "7494c7fb-c9f6-46af-d4bb-f20ad2fcbc5d"
   },
   "outputs": [],
   "source": [
    "fig, ax = plt.subplots(1,2,figsize=(14,5))\n",
    "ax[0].plot(history.history['loss'])\n",
    "ax[0].plot(history.history['val_loss'])\n",
    "ax[0].set_title('Loss vs Epochs')\n",
    "ax[0].set(xlabel='Epoch',ylabel='Loss')\n",
    "ax[0].legend(['Training','Validation'], loc='upper right')\n",
    "ax[1].plot(history.history['mape'])\n",
    "ax[1].plot(history.history['val_mape'])\n",
    "ax[1].set_title('Mape vs epochs')\n",
    "ax[1].set(xlabel='Epoch',ylabel='Mape')\n",
    "ax[1].legend(['Training','Validation'], loc='upper right')\n",
    "plt.show()"
   ]
  },
  {
   "cell_type": "code",
   "execution_count": null,
   "metadata": {
    "colab": {
     "base_uri": "https://localhost:8080/"
    },
    "id": "YeH2rxl2ktXq",
    "outputId": "6c985b58-43b9-4bad-bb0f-3334dd9169cc"
   },
   "outputs": [],
   "source": [
    "train_result=dict(zip(model.metrics_names,model.evaluate(X_train, y_train)))\n",
    "mape_train=train_result['mape']\n",
    "loss_train=train_result['loss']\n",
    "print(f'Train_mape:{mape_train:.2f}','\\t',f'Train_loss:{loss_train:.2f}','\\n')\n",
    "test_result=dict(zip(model.metrics_names,model.evaluate(X_test, y_test)))\n",
    "mape_test=test_result['mape']\n",
    "loss_test=test_result['loss']\n",
    "print(f'Test_mape:{mape_test:.2f}','\\t',f'Test_loss:{loss_test:.2f}')"
   ]
  },
  {
   "cell_type": "code",
   "execution_count": null,
   "metadata": {
    "colab": {
     "base_uri": "https://localhost:8080/"
    },
    "id": "h0eWTawAfXsw",
    "outputId": "d0917ee3-934f-4163-f9c7-555284e3281b"
   },
   "outputs": [],
   "source": [
    "n=np.random.randint(0,X_test.shape[0],10)\n",
    "for i in range(10):\n",
    "  prediction=model.predict(X_test[n[i]:n[i]+1])[0][0]\n",
    "  real=y_test[n[i]]\n",
    "  print(f'predicted house price value:{prediction:.0f}','\\t',f'real value:{real:.0f}')"
   ]
  },
  {
   "cell_type": "markdown",
   "metadata": {
    "id": "BL-Li6mdCv6Q"
   },
   "source": [
    "### Second Model: four layers (first three layers 50 neurons each one, last layer just one neuron) and Regularizer _l1_"
   ]
  },
  {
   "cell_type": "code",
   "execution_count": null,
   "metadata": {
    "id": "sMCG5e6eCyKi"
   },
   "outputs": [],
   "source": [
    "def get_regularized_model_l1(input_shape,wd):\n",
    "  model = Sequential([InputLayer(input_shape=input_shape),\n",
    "                      Dense(units=50,kernel_regularizer=regularizers.l1(wd),activation='relu'),\n",
    "                      Dense(units=50,kernel_regularizer=regularizers.l1(wd),activation='relu'),\n",
    "                      Dense(units=50,kernel_regularizer=regularizers.l1(wd),activation='relu'),\n",
    "                      Dense(units=1,kernel_regularizer=regularizers.l1(wd),activation='linear')                 \n",
    "  ])\n",
    "  return model"
   ]
  },
  {
   "cell_type": "code",
   "execution_count": null,
   "metadata": {
    "colab": {
     "base_uri": "https://localhost:8080/"
    },
    "id": "2LEcqnHMC5A-",
    "outputId": "e92cda9a-032f-4acf-83f9-43f62ed0349f"
   },
   "outputs": [],
   "source": [
    "model_regu_l1=get_regularized_model_l1(X_train[0].shape,1e-3)\n",
    "model_regu_l1.summary()"
   ]
  },
  {
   "cell_type": "code",
   "execution_count": null,
   "metadata": {
    "id": "XtrQGs0zC_u9"
   },
   "outputs": [],
   "source": [
    "compile_model(model_regu_l1)\n",
    "history=model_regu_l1.fit(X_train,y_train,batch_size=64,epochs=50,validation_split=0.15,verbose=0)"
   ]
  },
  {
   "cell_type": "code",
   "execution_count": null,
   "metadata": {
    "colab": {
     "base_uri": "https://localhost:8080/",
     "height": 350
    },
    "id": "LIDntfGjECdr",
    "outputId": "a11933fa-7822-4dff-fdbe-796fb7ae181e"
   },
   "outputs": [],
   "source": [
    "fig, ax = plt.subplots(1,2,figsize=(14,5))\n",
    "ax[0].plot(history.history['loss'])\n",
    "ax[0].plot(history.history['val_loss'])\n",
    "ax[0].set_title('Loss vs Epochs')\n",
    "ax[0].set(xlabel='Epoch',ylabel='Loss')\n",
    "ax[0].legend(['Training','Validation'], loc='upper right')\n",
    "ax[1].plot(history.history['mape'])\n",
    "ax[1].plot(history.history['val_mape'])\n",
    "ax[1].set_title('Mape vs epochs')\n",
    "ax[1].set(xlabel='Epoch',ylabel='Mape')\n",
    "ax[1].legend(['Training','Validation'], loc='upper right')\n",
    "plt.show()"
   ]
  },
  {
   "cell_type": "code",
   "execution_count": null,
   "metadata": {
    "colab": {
     "base_uri": "https://localhost:8080/"
    },
    "id": "cvS7fIjTEFq-",
    "outputId": "a25e99eb-b942-48fb-b6db-735215f436e6"
   },
   "outputs": [],
   "source": [
    "train_result=dict(zip(model_regu_l1.metrics_names,model_regu_l1.evaluate(X_train, y_train)))\n",
    "mape_train=train_result['mape']\n",
    "loss_train=train_result['loss']\n",
    "print(f'Train_mape:{mape_train:.2f}','\\t',f'Train_loss:{loss_train:.2f}','\\n')\n",
    "test_result=dict(zip(model_regu_l1.metrics_names,model_regu_l1.evaluate(X_test, y_test)))\n",
    "mape_test=test_result['mape']\n",
    "loss_test=test_result['loss']\n",
    "print(f'Test_mape:{mape_test:.2f}','\\t',f'Test_loss:{loss_test:.2f}')"
   ]
  },
  {
   "cell_type": "code",
   "execution_count": null,
   "metadata": {
    "id": "FDaaz9l2LbS2"
   },
   "outputs": [],
   "source": [
    "model=load_model('my_keras_model.h5')"
   ]
  },
  {
   "cell_type": "markdown",
   "metadata": {
    "id": "gWWJK4gl_Y4W"
   },
   "source": [
    "###Third Model: four layers (first three layers 50 neurons each one, last layer just one neuron) and Regularizer _l2_"
   ]
  },
  {
   "cell_type": "code",
   "execution_count": null,
   "metadata": {
    "id": "52r4UcZflVcj"
   },
   "outputs": [],
   "source": [
    "def get_regularized_model_l2(input_shape,wd):\n",
    "  model = Sequential([InputLayer(input_shape=input_shape),\n",
    "                      Dense(units=50,kernel_regularizer=regularizers.l2(wd),activation='relu'),\n",
    "                      Dense(units=50,kernel_regularizer=regularizers.l2(wd),activation='relu'),\n",
    "                      Dense(units=50,kernel_regularizer=regularizers.l2(wd),activation='relu'),\n",
    "                      Dense(units=1,kernel_regularizer=regularizers.l2(wd),activation='linear')                 \n",
    "  ])\n",
    "  return model"
   ]
  },
  {
   "cell_type": "code",
   "execution_count": null,
   "metadata": {
    "colab": {
     "base_uri": "https://localhost:8080/"
    },
    "id": "LpTahV2x367g",
    "outputId": "714cafd5-854e-4d99-ef72-83d0990d9db7"
   },
   "outputs": [],
   "source": [
    "model_regu_l2=get_regularized_model_l2(X_train[0].shape,1e-3)\n",
    "model_regu_l2.summary()"
   ]
  },
  {
   "cell_type": "code",
   "execution_count": null,
   "metadata": {
    "id": "Q2ywNywm4z5r"
   },
   "outputs": [],
   "source": [
    "compile_model(model_regu_l2)\n",
    "history=model_regu_l2.fit(X_train,y_train,batch_size=64,epochs=50,validation_split=0.15,verbose=0)"
   ]
  },
  {
   "cell_type": "code",
   "execution_count": null,
   "metadata": {
    "colab": {
     "base_uri": "https://localhost:8080/",
     "height": 350
    },
    "id": "fSrKupi04zub",
    "outputId": "f510488c-03c7-4084-f894-006c2d0f26b9"
   },
   "outputs": [],
   "source": [
    "fig, ax = plt.subplots(1,2,figsize=(14,5))\n",
    "ax[0].plot(history.history['loss'])\n",
    "ax[0].plot(history.history['val_loss'])\n",
    "ax[0].set_title('Loss vs Epochs')\n",
    "ax[0].set(xlabel='Epoch',ylabel='Loss')\n",
    "ax[0].legend(['Training','Validation'], loc='upper right')\n",
    "ax[1].plot(history.history['mape'])\n",
    "ax[1].plot(history.history['val_mape'])\n",
    "ax[1].set_title('Mape vs epochs')\n",
    "ax[1].set(xlabel='Epoch',ylabel='Mape')\n",
    "ax[1].legend(['Training','Validation'], loc='upper right')\n",
    "plt.show()"
   ]
  },
  {
   "cell_type": "code",
   "execution_count": null,
   "metadata": {
    "colab": {
     "base_uri": "https://localhost:8080/"
    },
    "id": "ljyxQo6Mhzp9",
    "outputId": "22728f20-1ee5-42f2-e0b1-df5c168567c9"
   },
   "outputs": [],
   "source": [
    "train_result=dict(zip(model_regu_l2.metrics_names,model_regu_l2.evaluate(X_train, y_train)))\n",
    "mape_train=train_result['mape']\n",
    "loss_train=train_result['loss']\n",
    "print(f'Train_mape:{mape_train:.2f}','\\t',f'Train_loss:{loss_train:.2f}','\\n')\n",
    "test_result=dict(zip(model_regu_l2.metrics_names,model_regu_l2.evaluate(X_test, y_test)))\n",
    "mape_test=test_result['mape']\n",
    "loss_test=test_result['loss']\n",
    "print(f'Test_mape:{mape_test:.2f}','\\t',f'Test_loss:{loss_test:.2f}')"
   ]
  },
  {
   "cell_type": "code",
   "execution_count": null,
   "metadata": {
    "colab": {
     "base_uri": "https://localhost:8080/"
    },
    "id": "uJ4teYLIeXB8",
    "outputId": "66e77984-75ed-4c33-c57f-a05998c241e9"
   },
   "outputs": [],
   "source": [
    "n=np.random.randint(0,X_test.shape[0],10)\n",
    "for i in range(10):\n",
    "  prediction=model_regu_l2.predict(X_test[n[i]:n[i]+1])[0][0]\n",
    "  real=y_test[n[i]]\n",
    "  print(f'predicted house price value:{prediction:.0f}','\\t',f'real value:{real:.0f}')"
   ]
  },
  {
   "cell_type": "markdown",
   "metadata": {
    "id": "N5IYQtP09gLc"
   },
   "source": [
    "###Fourth Model: four layers (first three layers 50 neurons each one, last layer just one neuron) and mixed Regularizers _l1_ and _l2_"
   ]
  },
  {
   "cell_type": "code",
   "execution_count": null,
   "metadata": {
    "id": "xjx1BujU7d7U"
   },
   "outputs": [],
   "source": [
    "def get_regularized_model_l1l2(input_shape,wd):\n",
    "  model = Sequential([InputLayer(input_shape=input_shape),\n",
    "                      Dense(units=50,kernel_regularizer=regularizers.L1L2(wd),activation='relu'),\n",
    "                      Dense(units=50,kernel_regularizer=regularizers.L1L2(wd),activation='relu'),\n",
    "                      Dense(units=50,kernel_regularizer=regularizers.L1L2(wd),activation='relu'),\n",
    "                      Dense(units=1,kernel_regularizer=regularizers.L1L2(wd),activation='linear')                 \n",
    "  ])\n",
    "  return model"
   ]
  },
  {
   "cell_type": "code",
   "execution_count": null,
   "metadata": {
    "colab": {
     "base_uri": "https://localhost:8080/"
    },
    "id": "x84aKsjL-QQ0",
    "outputId": "661efe51-38c2-48e8-d391-9dec6569b159"
   },
   "outputs": [],
   "source": [
    "model_regu_l1l2=get_regularized_model_l1l2(X_train[0].shape,1e-3)\n",
    "model_regu_l1l2.summary()"
   ]
  },
  {
   "cell_type": "code",
   "execution_count": null,
   "metadata": {
    "id": "Y79Csy58-fE8"
   },
   "outputs": [],
   "source": [
    "compile_model(model_regu_l1l2)\n",
    "history=model_regu_l1l2.fit(X_train,y_train,batch_size=64,epochs=50,validation_split=0.15,verbose=0)"
   ]
  },
  {
   "cell_type": "code",
   "execution_count": null,
   "metadata": {
    "colab": {
     "base_uri": "https://localhost:8080/",
     "height": 350
    },
    "id": "6yRRMXdo-lws",
    "outputId": "d9d81003-3b7e-4ef7-ece3-9f17b084529b"
   },
   "outputs": [],
   "source": [
    "fig, ax = plt.subplots(1,2,figsize=(14,5))\n",
    "ax[0].plot(history.history['loss'])\n",
    "ax[0].plot(history.history['val_loss'])\n",
    "ax[0].set_title('Loss vs Epochs')\n",
    "ax[0].set(xlabel='Epoch',ylabel='Loss')\n",
    "ax[0].legend(['Training','Validation'], loc='upper right')\n",
    "ax[1].plot(history.history['mape'])\n",
    "ax[1].plot(history.history['val_mape'])\n",
    "ax[1].set_title('Mape vs epochs')\n",
    "ax[1].set(xlabel='Epoch',ylabel='Mape')\n",
    "ax[1].legend(['Training','Validation'], loc='upper right')\n",
    "plt.show()"
   ]
  },
  {
   "cell_type": "code",
   "execution_count": null,
   "metadata": {
    "colab": {
     "base_uri": "https://localhost:8080/"
    },
    "id": "C9IaWFMa_VMN",
    "outputId": "80520214-3574-4301-e8a4-4021129a1e5d"
   },
   "outputs": [],
   "source": [
    "train_result=dict(zip(model_regu_l1l2.metrics_names,model_regu_l1l2.evaluate(X_train, y_train)))\n",
    "mape_train=train_result['mape']\n",
    "loss_train=train_result['loss']\n",
    "print(f'Train_mape:{mape_train:.2f}','\\t',f'Train_loss:{loss_train:.2f}','\\n')\n",
    "test_result=dict(zip(model_regu_l1l2.metrics_names,model_regu_l1l2.evaluate(X_test, y_test)))\n",
    "mape_test=test_result['mape']\n",
    "loss_test=test_result['loss']\n",
    "print(f'Test_mape:{mape_test:.2f}','\\t',f'Test_loss:{loss_test:.2f}')"
   ]
  },
  {
   "cell_type": "code",
   "execution_count": null,
   "metadata": {
    "colab": {
     "base_uri": "https://localhost:8080/"
    },
    "id": "p7lbNPbP_X9F",
    "outputId": "9142fb0b-d92e-4dfe-86e8-e7c43a89ca28"
   },
   "outputs": [],
   "source": [
    "n=np.random.randint(0,X_test.shape[0],10)\n",
    "for i in range(10):\n",
    "  prediction=model_regu_l1l2.predict(X_test[n[i]:n[i]+1])[0][0]\n",
    "  real=y_test[n[i]]\n",
    "  print(f'predicted house price value:{prediction:.0f}','\\t',f'real value:{real:.0f}')"
   ]
  },
  {
   "cell_type": "markdown",
   "metadata": {
    "id": "MhDVoI3Ov_yT"
   },
   "source": [
    "###Fifth Model: four layers (first three layers 50 neurons each one, last layer just one neuron), Regularizer _l1_ and _dropout_"
   ]
  },
  {
   "cell_type": "code",
   "execution_count": null,
   "metadata": {
    "id": "nkq-48Ldrzud"
   },
   "outputs": [],
   "source": [
    "def get_regularized_model_Do(input_shape,wd,rate):\n",
    "  model = Sequential([InputLayer(input_shape=input_shape),\n",
    "                      Dense(units=50,kernel_regularizer=regularizers.l1(wd),activation='relu'),Dropout(rate),\n",
    "                      Dense(units=50,kernel_regularizer=regularizers.l1(wd),activation='relu'),Dropout(rate),\n",
    "                      Dense(units=50,kernel_regularizer=regularizers.l1(wd),activation='relu'),Dropout(rate),\n",
    "                      Dense(units=1,kernel_regularizer=regularizers.l1(wd),activation='linear'),Dropout(rate)                 \n",
    "  ])\n",
    "  return model"
   ]
  },
  {
   "cell_type": "code",
   "execution_count": null,
   "metadata": {
    "colab": {
     "base_uri": "https://localhost:8080/"
    },
    "id": "gAcq6dV9trqv",
    "outputId": "c816b21c-5972-401e-dd35-ab40239610fa"
   },
   "outputs": [],
   "source": [
    "model_regu_do=get_regularized_model_Do(X_train[0].shape,1e-3,0.5)\n",
    "model_regu_do.summary()"
   ]
  },
  {
   "cell_type": "code",
   "execution_count": null,
   "metadata": {
    "id": "8Y-dlFdTuG34"
   },
   "outputs": [],
   "source": [
    "compile_model(model_regu_do)\n",
    "history=model_regu_do.fit(X_train,y_train,batch_size=64,epochs=50,validation_split=0.15,verbose=0)"
   ]
  },
  {
   "cell_type": "code",
   "execution_count": null,
   "metadata": {
    "colab": {
     "base_uri": "https://localhost:8080/",
     "height": 350
    },
    "id": "M5llXOKhvFVA",
    "outputId": "22454b8e-c2e2-41af-9fdb-411720526742"
   },
   "outputs": [],
   "source": [
    "fig, ax = plt.subplots(1,2,figsize=(14,5))\n",
    "ax[0].plot(history.history['loss'])\n",
    "ax[0].plot(history.history['val_loss'])\n",
    "ax[0].set_title('Loss vs Epochs')\n",
    "ax[0].set(xlabel='Epoch',ylabel='Loss')\n",
    "ax[0].legend(['Training','Validation'], loc='upper right')\n",
    "ax[1].plot(history.history['mape'])\n",
    "ax[1].plot(history.history['val_mape'])\n",
    "ax[1].set_title('Mape vs epochs')\n",
    "ax[1].set(xlabel='Epoch',ylabel='Mape')\n",
    "ax[1].legend(['Training','Validation'], loc='upper right')\n",
    "plt.show()"
   ]
  },
  {
   "cell_type": "code",
   "execution_count": null,
   "metadata": {
    "colab": {
     "base_uri": "https://localhost:8080/"
    },
    "id": "d7brrUsmvIRu",
    "outputId": "8ba07bbc-3155-4f04-b1da-ceb1d8c123c1"
   },
   "outputs": [],
   "source": [
    "train_result=dict(zip(model_regu_do.metrics_names,model_regu_do.evaluate(X_train, y_train)))\n",
    "mape_train=train_result['mape']\n",
    "loss_train=train_result['loss']\n",
    "print(f'Train_mape:{mape_train:.2f}','\\t',f'Train_loss:{loss_train:.2f}','\\n')\n",
    "test_result=dict(zip(model_regu_do.metrics_names,model_regu_do.evaluate(X_test, y_test)))\n",
    "mape_test=test_result['mape']\n",
    "loss_test=test_result['loss']\n",
    "print(f'Test_mape:{mape_test:.2f}','\\t',f'Test_loss:{loss_test:.2f}')"
   ]
  },
  {
   "cell_type": "code",
   "execution_count": null,
   "metadata": {
    "colab": {
     "base_uri": "https://localhost:8080/"
    },
    "id": "qwTLvQjWwPh4",
    "outputId": "fbdbc5c5-52dc-40a2-a28f-c55d4de31264"
   },
   "outputs": [],
   "source": [
    "n=np.random.randint(0,X_test.shape[0],10)\n",
    "for i in range(10):\n",
    "  prediction=model_regu_do.predict(X_test[n[i]:n[i]+1])[0][0]\n",
    "  real=y_test[n[i]]\n",
    "  print(f'predicted house price value:{prediction:.0f}','\\t',f'real value:{real:.0f}')"
   ]
  },
  {
   "cell_type": "markdown",
   "metadata": {
    "id": "Mwq1hMO9DmwU"
   },
   "source": [
    "**Observe that the best model obtained respect the metric _mape_ value was the third model with 28.57 (unnormalized model)**"
   ]
  },
  {
   "cell_type": "markdown",
   "metadata": {
    "id": "ivrZKtnbFJkP"
   },
   "source": [
    "##Normalized data"
   ]
  },
  {
   "cell_type": "code",
   "execution_count": null,
   "metadata": {
    "id": "pWMWxlEvwSqd"
   },
   "outputs": [],
   "source": [
    "X_train_norm=preprocessing.StandardScaler().fit(X_train).transform(X_train)\n",
    "X_test_norm=preprocessing.StandardScaler().fit(X_test).transform(X_test)\n",
    "y_train_norm=np.ndarray.flatten(preprocessing.StandardScaler().fit(np.reshape(y_train,(-1,1))).transform(np.reshape(y_train,(-1,1))))\n",
    "y_test_norm=np.ndarray.flatten(preprocessing.StandardScaler().fit(np.reshape(y_test,(-1,1))).transform(np.reshape(y_test,(-1,1))))"
   ]
  },
  {
   "cell_type": "markdown",
   "metadata": {
    "id": "jTyzm8lQ2itX"
   },
   "source": [
    "### First Model: four layers (first three layers 50 neurons each one, last layer just one neuron) and Regularizer _l1_"
   ]
  },
  {
   "cell_type": "code",
   "execution_count": null,
   "metadata": {
    "id": "vzW8GYhh1ZcX"
   },
   "outputs": [],
   "source": [
    "history=model_regu_l1.fit(X_train_norm,y_train_norm,batch_size=64,epochs=50,validation_split=0.15,verbose=0)"
   ]
  },
  {
   "cell_type": "code",
   "execution_count": null,
   "metadata": {
    "colab": {
     "base_uri": "https://localhost:8080/",
     "height": 350
    },
    "id": "9dbZQiMGGAsM",
    "outputId": "1ca895fe-76f9-460c-b611-fd4b2796fd26"
   },
   "outputs": [],
   "source": [
    "fig, ax = plt.subplots(1,2,figsize=(14,5))\n",
    "ax[0].plot(history.history['loss'])\n",
    "ax[0].plot(history.history['val_loss'])\n",
    "ax[0].set_title('Loss vs Epochs')\n",
    "ax[0].set(xlabel='Epoch',ylabel='Loss')\n",
    "ax[0].legend(['Training','Validation'], loc='upper right')\n",
    "ax[1].plot(history.history['mape'])\n",
    "ax[1].plot(history.history['val_mape'])\n",
    "ax[1].set_title('Mape vs epochs')\n",
    "ax[1].set(xlabel='Epoch',ylabel='Mape')\n",
    "ax[1].legend(['Training','Validation'], loc='upper right')\n",
    "plt.show()"
   ]
  },
  {
   "cell_type": "code",
   "execution_count": null,
   "metadata": {
    "colab": {
     "base_uri": "https://localhost:8080/"
    },
    "id": "7RqSgy6sGWhk",
    "outputId": "f81175aa-deff-41bb-c5a5-1ce37b2c969d"
   },
   "outputs": [],
   "source": [
    "train_result=dict(zip(model_regu_l1.metrics_names,model_regu_l1.evaluate(X_train_norm, y_train_norm)))\n",
    "mape_train=train_result['mape']\n",
    "loss_train=train_result['loss']\n",
    "print(f'Train_mape:{mape_train:.2f}','\\t',f'Train_loss:{loss_train:.2f}','\\n')\n",
    "test_result=dict(zip(model_regu_l1.metrics_names,model_regu_l1.evaluate(X_test_norm, y_test_norm)))\n",
    "mape_test=test_result['mape']\n",
    "loss_test=test_result['loss']\n",
    "print(f'Test_mape:{mape_test:.2f}','\\t',f'Test_loss:{loss_test:.2f}')"
   ]
  },
  {
   "cell_type": "code",
   "execution_count": null,
   "metadata": {
    "colab": {
     "base_uri": "https://localhost:8080/"
    },
    "id": "C32-OAeTGctk",
    "outputId": "15d14506-08ee-4980-ec93-2c5289b06545"
   },
   "outputs": [],
   "source": [
    "n=np.random.randint(0,X_test.shape[0],10)\n",
    "for i in range(10):\n",
    "  prediction=model_regu_l1.predict(X_test_norm[n[i]:n[i]+1])[0][0]\n",
    "  real=y_test_norm[n[i]]\n",
    "  print(f'predicted house price value:{prediction:.2f}','\\t',f'real value:{real:.2f}')"
   ]
  },
  {
   "cell_type": "markdown",
   "metadata": {
    "id": "YwvkaAB-2v75"
   },
   "source": [
    "### Second Model: four layers (first three layers 50 neurons each one, last layer just one neuron), Regularizer _l1_ and _exponential dacay of learning rate_"
   ]
  },
  {
   "cell_type": "code",
   "execution_count": null,
   "metadata": {
    "id": "97DCiAPcvUXa"
   },
   "outputs": [],
   "source": [
    "def compile_model_lr(model):\n",
    "  lr_schedule = tf.keras.optimizers.schedules.ExponentialDecay(initial_learning_rate=1e-2,decay_steps=10000,decay_rate=0.9)\n",
    "  model.compile(optimizer=tf.keras.optimizers.Adam(learning_rate=lr_schedule),loss='mse',metrics=['mape'])\n"
   ]
  },
  {
   "cell_type": "code",
   "execution_count": null,
   "metadata": {
    "id": "lb0k_s1UTaRq"
   },
   "outputs": [],
   "source": [
    "my_checkpoint=ModelCheckpoint('RafaelB_keras_model.h5',\n",
    "                           save_weights_only=False,\n",
    "                           frequency='epoch',\n",
    "                           verbose=1)"
   ]
  },
  {
   "cell_type": "code",
   "execution_count": null,
   "metadata": {
    "colab": {
     "base_uri": "https://localhost:8080/"
    },
    "id": "ptJiM5OJu7me",
    "outputId": "d7bac998-89a1-4041-b00c-4570c64581f3"
   },
   "outputs": [],
   "source": [
    "compile_model_lr(model_regu_l1)\n",
    "history=model_regu_l1.fit(X_train_norm,y_train_norm,batch_size=64,epochs=50,validation_split=0.15,verbose=0,callbacks=[my_checkpoint])"
   ]
  },
  {
   "cell_type": "code",
   "execution_count": null,
   "metadata": {
    "colab": {
     "base_uri": "https://localhost:8080/",
     "height": 350
    },
    "id": "53Sv7__1vRc2",
    "outputId": "cd24c0cb-255c-4ced-e692-cf2f6a60db34"
   },
   "outputs": [],
   "source": [
    "fig, ax = plt.subplots(1,2,figsize=(14,5))\n",
    "ax[0].plot(history.history['loss'])\n",
    "ax[0].plot(history.history['val_loss'])\n",
    "ax[0].set_title('Loss vs Epochs')\n",
    "ax[0].set(xlabel='Epoch',ylabel='Loss')\n",
    "ax[0].legend(['Training','Validation'], loc='upper right')\n",
    "ax[1].plot(history.history['mape'])\n",
    "ax[1].plot(history.history['val_mape'])\n",
    "ax[1].set_title('Mape vs epochs')\n",
    "ax[1].set(xlabel='Epoch',ylabel='Mape')\n",
    "ax[1].legend(['Training','Validation'], loc='upper right')\n",
    "plt.show()"
   ]
  },
  {
   "cell_type": "code",
   "execution_count": null,
   "metadata": {
    "colab": {
     "base_uri": "https://localhost:8080/"
    },
    "id": "0co6ozlxyE4G",
    "outputId": "f1a64677-afac-4b36-d9bb-a2f8ad2b0b72"
   },
   "outputs": [],
   "source": [
    "train_result=dict(zip(model_regu_l1.metrics_names,model_regu_l1.evaluate(X_train_norm, y_train_norm)))\n",
    "mape_train=train_result['mape']\n",
    "loss_train=train_result['loss']\n",
    "print(f'Train_mape:{mape_train:.2f}','\\t',f'Train_loss:{loss_train:.2f}','\\n')\n",
    "test_result=dict(zip(model_regu_l1.metrics_names,model_regu_l1.evaluate(X_test_norm, y_test_norm)))\n",
    "mape_test=test_result['mape']\n",
    "loss_test=test_result['loss']\n",
    "print(f'Test_mape:{mape_test:.2f}','\\t',f'Test_loss:{loss_test:.2f}')"
   ]
  },
  {
   "cell_type": "code",
   "execution_count": null,
   "metadata": {
    "colab": {
     "base_uri": "https://localhost:8080/"
    },
    "id": "h9kI_-gUvT8F",
    "outputId": "0aecdef2-78b2-40db-d59e-83e85c139ab8"
   },
   "outputs": [],
   "source": [
    "n=np.random.randint(0,X_test.shape[0],10)\n",
    "for i in range(10):\n",
    "  prediction=model_regu_l1.predict(X_test_norm[n[i]:n[i]+1])[0][0]\n",
    "  real=y_test_norm[n[i]]\n",
    "  print(f'predicted house price value:{prediction:.2f}','\\t',f'real value:{real:.2f}')"
   ]
  },
  {
   "cell_type": "markdown",
   "metadata": {
    "id": "AOuC_uZnHrR1"
   },
   "source": [
    "**Observe that the best model obtained respect the loss function _mse_ value was the second model with 0.19 (normalized model)**"
   ]
  },
  {
   "cell_type": "markdown",
   "metadata": {
    "id": "H3BIdtRDH9o5"
   },
   "source": [
    "**The most important difference between the unnormalized and normalized model, is the reduction on _mape_ and the increasing on _mse_ in the first model, and the increasing on _mape_ and the reduction on _mse_ in second model**"
   ]
  },
  {
   "cell_type": "markdown",
   "metadata": {
    "id": "HoJeovN7VUfI"
   },
   "source": [
    "###Load Model"
   ]
  },
  {
   "cell_type": "code",
   "execution_count": null,
   "metadata": {
    "colab": {
     "base_uri": "https://localhost:8080/"
    },
    "id": "pB53JJbCUjsp",
    "outputId": "20b2dcd3-84d3-4b3f-fcbd-b7916c0c1fe4"
   },
   "outputs": [],
   "source": [
    "model_RB=load_model('RafaelB_keras_model.h5')\n",
    "scores=model_RB.evaluate(X_test_norm,y_test_norm)\n",
    "print(scores)"
   ]
  },
  {
   "cell_type": "code",
   "execution_count": null,
   "metadata": {
    "id": "ydaomn7jVnO6"
   },
   "outputs": [],
   "source": []
  }
 ],
 "metadata": {
  "colab": {
   "collapsed_sections": [],
   "name": "Homework_7.ipynb",
   "provenance": []
  },
  "kernelspec": {
   "display_name": "Python 3",
   "language": "python",
   "name": "python3"
  },
  "language_info": {
   "codemirror_mode": {
    "name": "ipython",
    "version": 3
   },
   "file_extension": ".py",
   "mimetype": "text/x-python",
   "name": "python",
   "nbconvert_exporter": "python",
   "pygments_lexer": "ipython3",
   "version": "3.7.2"
  }
 },
 "nbformat": 4,
 "nbformat_minor": 1
}
