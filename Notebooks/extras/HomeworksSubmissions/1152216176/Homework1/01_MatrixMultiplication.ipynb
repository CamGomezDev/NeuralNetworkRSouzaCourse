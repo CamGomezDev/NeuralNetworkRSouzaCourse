{
 "cells": [
  {
   "cell_type": "markdown",
   "id": "33f38f49",
   "metadata": {},
   "source": [
    "# Homework 1 Matrix multiplication\n",
    "\n",
    "## Daniel Sierra Botero C.C. 1152216176\n",
    "\n",
    "Write an algorithm that multiplies two matrices A, B (using loops only) check if your result is correct using A@B."
   ]
  },
  {
   "cell_type": "code",
   "execution_count": 20,
   "id": "1a48f56f",
   "metadata": {},
   "outputs": [],
   "source": [
    "import numpy as np"
   ]
  },
  {
   "cell_type": "code",
   "execution_count": 21,
   "id": "30b1a659",
   "metadata": {},
   "outputs": [],
   "source": [
    "#problem matrix\n",
    "A = np.array([[1,2],[3,4]])\n",
    "B = np.array([[5,6],[0,7]])"
   ]
  },
  {
   "cell_type": "code",
   "execution_count": 22,
   "id": "10bdb369",
   "metadata": {},
   "outputs": [],
   "source": [
    "def MatrixMultiplications(matrix_a,matrix_b):\n",
    "    #check if multiplication is possible\n",
    "    if (np.shape(matrix_a)[1] != np.shape(matrix_b)[0]):\n",
    "        print('Error: check dimensions of arrays')\n",
    "        exit()\n",
    "    #multiplication using for loops\n",
    "    else:\n",
    "        C = np.zeros((np.shape(matrix_a)[0],np.shape(matrix_b)[1]))\n",
    "        for i in range(np.shape(matrix_a)[0]):\n",
    "            for j in range(np.shape(matrix_b)[1]):\n",
    "                for k in range(np.shape(matrix_a)[1]):\n",
    "                    C[i,j] = C[i,j] + matrix_a[i,k]*matrix_b[k,j]\n",
    "                    \n",
    "    return(C)"
   ]
  },
  {
   "cell_type": "code",
   "execution_count": 23,
   "id": "29b6945d",
   "metadata": {},
   "outputs": [
    {
     "data": {
      "text/plain": [
       "array([[ 5., 20.],\n",
       "       [15., 46.]])"
      ]
     },
     "execution_count": 23,
     "metadata": {},
     "output_type": "execute_result"
    }
   ],
   "source": [
    "MatrixMultiplications(A,B)"
   ]
  },
  {
   "cell_type": "code",
   "execution_count": 24,
   "id": "4fae3b18",
   "metadata": {},
   "outputs": [
    {
     "data": {
      "text/plain": [
       "array([[ 5, 20],\n",
       "       [15, 46]])"
      ]
     },
     "execution_count": 24,
     "metadata": {},
     "output_type": "execute_result"
    }
   ],
   "source": [
    "A@B"
   ]
  },
  {
   "cell_type": "markdown",
   "id": "ee886338",
   "metadata": {},
   "source": [
    "Other examples"
   ]
  },
  {
   "cell_type": "code",
   "execution_count": 25,
   "id": "2de08c7c",
   "metadata": {},
   "outputs": [],
   "source": [
    "C = np.array([[1,5,2],[3,2,4]])\n",
    "D = np.array([[5,6],[0,7],[3,7]])"
   ]
  },
  {
   "cell_type": "code",
   "execution_count": 26,
   "id": "496ef9d3",
   "metadata": {},
   "outputs": [
    {
     "data": {
      "text/plain": [
       "array([[11., 55.],\n",
       "       [27., 60.]])"
      ]
     },
     "execution_count": 26,
     "metadata": {},
     "output_type": "execute_result"
    }
   ],
   "source": [
    "MatrixMultiplications(C,D)"
   ]
  },
  {
   "cell_type": "code",
   "execution_count": 27,
   "id": "d0298b3d",
   "metadata": {},
   "outputs": [
    {
     "data": {
      "text/plain": [
       "array([[11, 55],\n",
       "       [27, 60]])"
      ]
     },
     "execution_count": 27,
     "metadata": {},
     "output_type": "execute_result"
    }
   ],
   "source": [
    "C@D"
   ]
  },
  {
   "cell_type": "code",
   "execution_count": 28,
   "id": "3d8c66ed",
   "metadata": {},
   "outputs": [],
   "source": [
    "E = np.array([[8,5,0],[3,3,4],[1,0,7]])\n",
    "F = np.array([[2,3],[0,7],[3,7],[0,4]])"
   ]
  },
  {
   "cell_type": "code",
   "execution_count": 29,
   "id": "3b19def4",
   "metadata": {},
   "outputs": [
    {
     "name": "stdout",
     "output_type": "stream",
     "text": [
      "Error: check dimensions of arrays\n"
     ]
    },
    {
     "ename": "SystemExit",
     "evalue": "",
     "output_type": "error",
     "traceback": [
      "An exception has occurred, use %tb to see the full traceback.\n",
      "\u001b[1;31mSystemExit\u001b[0m\n"
     ]
    }
   ],
   "source": [
    "MatrixMultiplications(E,F)"
   ]
  },
  {
   "cell_type": "code",
   "execution_count": 30,
   "id": "b84e47df",
   "metadata": {},
   "outputs": [
    {
     "ename": "ValueError",
     "evalue": "matmul: Input operand 1 has a mismatch in its core dimension 0, with gufunc signature (n?,k),(k,m?)->(n?,m?) (size 4 is different from 3)",
     "output_type": "error",
     "traceback": [
      "\u001b[1;31m---------------------------------------------------------------------------\u001b[0m",
      "\u001b[1;31mValueError\u001b[0m                                Traceback (most recent call last)",
      "\u001b[1;32m<ipython-input-30-985a3bcdba60>\u001b[0m in \u001b[0;36m<module>\u001b[1;34m\u001b[0m\n\u001b[1;32m----> 1\u001b[1;33m \u001b[0mE\u001b[0m\u001b[1;33m@\u001b[0m\u001b[0mF\u001b[0m\u001b[1;33m\u001b[0m\u001b[1;33m\u001b[0m\u001b[0m\n\u001b[0m",
      "\u001b[1;31mValueError\u001b[0m: matmul: Input operand 1 has a mismatch in its core dimension 0, with gufunc signature (n?,k),(k,m?)->(n?,m?) (size 4 is different from 3)"
     ]
    }
   ],
   "source": [
    "E@F"
   ]
  },
  {
   "cell_type": "code",
   "execution_count": null,
   "id": "8de2993a",
   "metadata": {},
   "outputs": [],
   "source": []
  }
 ],
 "metadata": {
  "kernelspec": {
   "display_name": "Python 3",
   "language": "python",
   "name": "python3"
  },
  "language_info": {
   "codemirror_mode": {
    "name": "ipython",
    "version": 3
   },
   "file_extension": ".py",
   "mimetype": "text/x-python",
   "name": "python",
   "nbconvert_exporter": "python",
   "pygments_lexer": "ipython3",
   "version": "3.8.8"
  }
 },
 "nbformat": 4,
 "nbformat_minor": 5
}
