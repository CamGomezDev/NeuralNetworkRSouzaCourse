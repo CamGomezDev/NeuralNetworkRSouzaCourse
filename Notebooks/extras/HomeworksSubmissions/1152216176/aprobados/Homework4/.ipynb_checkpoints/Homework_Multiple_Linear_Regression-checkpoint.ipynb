{
 "cells": [
  {
   "cell_type": "markdown",
   "metadata": {},
   "source": [
    "# Homework - perform multiple linear regression on the `FuelConsumption.csv data`\n",
    "\n",
    "## By: Daniel Sierra Botero C.C: 1152216176\n",
    "\n",
    "* use follwing features: `['ENGINESIZE','CYLINDERS','FUELCONSUMPTION_CITY','FUELCONSUMPTION_HWY','FUELCONSUMPTION_COMB'`\n",
    "* make a two 2D plot of ENGINESIZE vs CO2EMISSIONS and CYLINDERS vs CO2EMISSIONS\n",
    "* make a 3D plot of ENGINESIZE and CYLINDERS vs CO2EMISSIONS\n",
    "* apply feature scaling (be able to swith it off and on) (commented or not commented)\n",
    "* split the data into X_train/y_train and X_test/y_test (80%-20%)\n",
    "  using `from sklearn.model_selection import train_test_split`\n",
    "* train the model using X_train data\n",
    "* evaluate the fit (R-Squared)\n",
    "* print the metrics MAE, MAPE\n",
    "* predict CO2 emission of the 10 randomly chosen cars, compare with the true values\n",
    "* compare results with the simple single feature regression\n",
    "* write short comments on each step"
   ]
  },
  {
   "cell_type": "markdown",
   "metadata": {},
   "source": [
    "# Load python libraries"
   ]
  },
  {
   "cell_type": "code",
   "execution_count": 1,
   "metadata": {},
   "outputs": [],
   "source": [
    "import numpy as np\n",
    "import matplotlib.pyplot as plt\n",
    "import pandas as pd\n",
    "from sklearn.model_selection import train_test_split\n",
    "from sklearn.linear_model import LinearRegression\n",
    "from sklearn import metrics"
   ]
  },
  {
   "cell_type": "markdown",
   "metadata": {
    "button": false,
    "new_sheet": false,
    "run_control": {
     "read_only": false
    }
   },
   "source": [
    "<h2 id=\"understanding_data\">Understanding the Data</h2>\n",
    "\n",
    "### `FuelConsumption.csv`:\n",
    "\n",
    "We have downloaded a fuel consumption dataset, **`FuelConsumption.csv`**, which contains model-specific fuel consumption ratings and estimated carbon dioxide emissions for new light-duty vehicles for retail sale in Canada. [Dataset source](http://open.canada.ca/data/en/dataset/98f1a129-f628-4ce4-b24d-6f16bf24dd64?utm_medium=Exinfluencer&utm_source=Exinfluencer&utm_content=000026UJ&utm_term=10006555&utm_id=NA-SkillsNetwork-Channel-SkillsNetworkCoursesIBMDeveloperSkillsNetworkML0101ENSkillsNetwork20718538-2021-01-01)\n",
    "\n",
    "*   **MODELYEAR** e.g. 2014\n",
    "*   **MAKE** e.g. Acura\n",
    "*   **MODEL** e.g. ILX\n",
    "*   **VEHICLE CLASS** e.g. SUV\n",
    "*   **ENGINE SIZE** e.g. 4.7\n",
    "*   **CYLINDERS** e.g 6\n",
    "*   **TRANSMISSION** e.g. A6\n",
    "*   **FUELTYPE** e.g. z\n",
    "*   **FUEL CONSUMPTION in CITY(L/100 km)** e.g. 9.9\n",
    "*   **FUEL CONSUMPTION in HWY (L/100 km)** e.g. 8.9\n",
    "*   **FUEL CONSUMPTION COMB (L/100 km)** e.g. 9.2\n",
    "*   **CO2 EMISSIONS (g/km)** e.g. 182   --> low --> 0\n"
   ]
  },
  {
   "cell_type": "markdown",
   "metadata": {
    "button": false,
    "new_sheet": false,
    "run_control": {
     "read_only": false
    }
   },
   "source": [
    "<h2 id=\"reading_data\">Reading the data into Pandas</h2>"
   ]
  },
  {
   "cell_type": "code",
   "execution_count": 2,
   "metadata": {
    "button": false,
    "new_sheet": false,
    "run_control": {
     "read_only": false
    }
   },
   "outputs": [
    {
     "data": {
      "text/html": [
       "<div>\n",
       "<style scoped>\n",
       "    .dataframe tbody tr th:only-of-type {\n",
       "        vertical-align: middle;\n",
       "    }\n",
       "\n",
       "    .dataframe tbody tr th {\n",
       "        vertical-align: top;\n",
       "    }\n",
       "\n",
       "    .dataframe thead th {\n",
       "        text-align: right;\n",
       "    }\n",
       "</style>\n",
       "<table border=\"1\" class=\"dataframe\">\n",
       "  <thead>\n",
       "    <tr style=\"text-align: right;\">\n",
       "      <th></th>\n",
       "      <th>MODELYEAR</th>\n",
       "      <th>MAKE</th>\n",
       "      <th>MODEL</th>\n",
       "      <th>VEHICLECLASS</th>\n",
       "      <th>ENGINESIZE</th>\n",
       "      <th>CYLINDERS</th>\n",
       "      <th>TRANSMISSION</th>\n",
       "      <th>FUELTYPE</th>\n",
       "      <th>FUELCONSUMPTION_CITY</th>\n",
       "      <th>FUELCONSUMPTION_HWY</th>\n",
       "      <th>FUELCONSUMPTION_COMB</th>\n",
       "      <th>FUELCONSUMPTION_COMB_MPG</th>\n",
       "      <th>CO2EMISSIONS</th>\n",
       "    </tr>\n",
       "  </thead>\n",
       "  <tbody>\n",
       "    <tr>\n",
       "      <th>0</th>\n",
       "      <td>2014</td>\n",
       "      <td>ACURA</td>\n",
       "      <td>ILX</td>\n",
       "      <td>COMPACT</td>\n",
       "      <td>2.0</td>\n",
       "      <td>4</td>\n",
       "      <td>AS5</td>\n",
       "      <td>Z</td>\n",
       "      <td>9.9</td>\n",
       "      <td>6.7</td>\n",
       "      <td>8.5</td>\n",
       "      <td>33</td>\n",
       "      <td>196</td>\n",
       "    </tr>\n",
       "    <tr>\n",
       "      <th>1</th>\n",
       "      <td>2014</td>\n",
       "      <td>ACURA</td>\n",
       "      <td>ILX</td>\n",
       "      <td>COMPACT</td>\n",
       "      <td>2.4</td>\n",
       "      <td>4</td>\n",
       "      <td>M6</td>\n",
       "      <td>Z</td>\n",
       "      <td>11.2</td>\n",
       "      <td>7.7</td>\n",
       "      <td>9.6</td>\n",
       "      <td>29</td>\n",
       "      <td>221</td>\n",
       "    </tr>\n",
       "    <tr>\n",
       "      <th>2</th>\n",
       "      <td>2014</td>\n",
       "      <td>ACURA</td>\n",
       "      <td>ILX HYBRID</td>\n",
       "      <td>COMPACT</td>\n",
       "      <td>1.5</td>\n",
       "      <td>4</td>\n",
       "      <td>AV7</td>\n",
       "      <td>Z</td>\n",
       "      <td>6.0</td>\n",
       "      <td>5.8</td>\n",
       "      <td>5.9</td>\n",
       "      <td>48</td>\n",
       "      <td>136</td>\n",
       "    </tr>\n",
       "    <tr>\n",
       "      <th>3</th>\n",
       "      <td>2014</td>\n",
       "      <td>ACURA</td>\n",
       "      <td>MDX 4WD</td>\n",
       "      <td>SUV - SMALL</td>\n",
       "      <td>3.5</td>\n",
       "      <td>6</td>\n",
       "      <td>AS6</td>\n",
       "      <td>Z</td>\n",
       "      <td>12.7</td>\n",
       "      <td>9.1</td>\n",
       "      <td>11.1</td>\n",
       "      <td>25</td>\n",
       "      <td>255</td>\n",
       "    </tr>\n",
       "    <tr>\n",
       "      <th>4</th>\n",
       "      <td>2014</td>\n",
       "      <td>ACURA</td>\n",
       "      <td>RDX AWD</td>\n",
       "      <td>SUV - SMALL</td>\n",
       "      <td>3.5</td>\n",
       "      <td>6</td>\n",
       "      <td>AS6</td>\n",
       "      <td>Z</td>\n",
       "      <td>12.1</td>\n",
       "      <td>8.7</td>\n",
       "      <td>10.6</td>\n",
       "      <td>27</td>\n",
       "      <td>244</td>\n",
       "    </tr>\n",
       "    <tr>\n",
       "      <th>5</th>\n",
       "      <td>2014</td>\n",
       "      <td>ACURA</td>\n",
       "      <td>RLX</td>\n",
       "      <td>MID-SIZE</td>\n",
       "      <td>3.5</td>\n",
       "      <td>6</td>\n",
       "      <td>AS6</td>\n",
       "      <td>Z</td>\n",
       "      <td>11.9</td>\n",
       "      <td>7.7</td>\n",
       "      <td>10.0</td>\n",
       "      <td>28</td>\n",
       "      <td>230</td>\n",
       "    </tr>\n",
       "    <tr>\n",
       "      <th>6</th>\n",
       "      <td>2014</td>\n",
       "      <td>ACURA</td>\n",
       "      <td>TL</td>\n",
       "      <td>MID-SIZE</td>\n",
       "      <td>3.5</td>\n",
       "      <td>6</td>\n",
       "      <td>AS6</td>\n",
       "      <td>Z</td>\n",
       "      <td>11.8</td>\n",
       "      <td>8.1</td>\n",
       "      <td>10.1</td>\n",
       "      <td>28</td>\n",
       "      <td>232</td>\n",
       "    </tr>\n",
       "    <tr>\n",
       "      <th>7</th>\n",
       "      <td>2014</td>\n",
       "      <td>ACURA</td>\n",
       "      <td>TL AWD</td>\n",
       "      <td>MID-SIZE</td>\n",
       "      <td>3.7</td>\n",
       "      <td>6</td>\n",
       "      <td>AS6</td>\n",
       "      <td>Z</td>\n",
       "      <td>12.8</td>\n",
       "      <td>9.0</td>\n",
       "      <td>11.1</td>\n",
       "      <td>25</td>\n",
       "      <td>255</td>\n",
       "    </tr>\n",
       "    <tr>\n",
       "      <th>8</th>\n",
       "      <td>2014</td>\n",
       "      <td>ACURA</td>\n",
       "      <td>TL AWD</td>\n",
       "      <td>MID-SIZE</td>\n",
       "      <td>3.7</td>\n",
       "      <td>6</td>\n",
       "      <td>M6</td>\n",
       "      <td>Z</td>\n",
       "      <td>13.4</td>\n",
       "      <td>9.5</td>\n",
       "      <td>11.6</td>\n",
       "      <td>24</td>\n",
       "      <td>267</td>\n",
       "    </tr>\n",
       "    <tr>\n",
       "      <th>9</th>\n",
       "      <td>2014</td>\n",
       "      <td>ACURA</td>\n",
       "      <td>TSX</td>\n",
       "      <td>COMPACT</td>\n",
       "      <td>2.4</td>\n",
       "      <td>4</td>\n",
       "      <td>AS5</td>\n",
       "      <td>Z</td>\n",
       "      <td>10.6</td>\n",
       "      <td>7.5</td>\n",
       "      <td>9.2</td>\n",
       "      <td>31</td>\n",
       "      <td>212</td>\n",
       "    </tr>\n",
       "  </tbody>\n",
       "</table>\n",
       "</div>"
      ],
      "text/plain": [
       "   MODELYEAR   MAKE       MODEL VEHICLECLASS  ENGINESIZE  CYLINDERS  \\\n",
       "0       2014  ACURA         ILX      COMPACT         2.0          4   \n",
       "1       2014  ACURA         ILX      COMPACT         2.4          4   \n",
       "2       2014  ACURA  ILX HYBRID      COMPACT         1.5          4   \n",
       "3       2014  ACURA     MDX 4WD  SUV - SMALL         3.5          6   \n",
       "4       2014  ACURA     RDX AWD  SUV - SMALL         3.5          6   \n",
       "5       2014  ACURA         RLX     MID-SIZE         3.5          6   \n",
       "6       2014  ACURA          TL     MID-SIZE         3.5          6   \n",
       "7       2014  ACURA      TL AWD     MID-SIZE         3.7          6   \n",
       "8       2014  ACURA      TL AWD     MID-SIZE         3.7          6   \n",
       "9       2014  ACURA         TSX      COMPACT         2.4          4   \n",
       "\n",
       "  TRANSMISSION FUELTYPE  FUELCONSUMPTION_CITY  FUELCONSUMPTION_HWY  \\\n",
       "0          AS5        Z                   9.9                  6.7   \n",
       "1           M6        Z                  11.2                  7.7   \n",
       "2          AV7        Z                   6.0                  5.8   \n",
       "3          AS6        Z                  12.7                  9.1   \n",
       "4          AS6        Z                  12.1                  8.7   \n",
       "5          AS6        Z                  11.9                  7.7   \n",
       "6          AS6        Z                  11.8                  8.1   \n",
       "7          AS6        Z                  12.8                  9.0   \n",
       "8           M6        Z                  13.4                  9.5   \n",
       "9          AS5        Z                  10.6                  7.5   \n",
       "\n",
       "   FUELCONSUMPTION_COMB  FUELCONSUMPTION_COMB_MPG  CO2EMISSIONS  \n",
       "0                   8.5                        33           196  \n",
       "1                   9.6                        29           221  \n",
       "2                   5.9                        48           136  \n",
       "3                  11.1                        25           255  \n",
       "4                  10.6                        27           244  \n",
       "5                  10.0                        28           230  \n",
       "6                  10.1                        28           232  \n",
       "7                  11.1                        25           255  \n",
       "8                  11.6                        24           267  \n",
       "9                   9.2                        31           212  "
      ]
     },
     "execution_count": 2,
     "metadata": {},
     "output_type": "execute_result"
    }
   ],
   "source": [
    "fuel_consuption = pd.read_csv('FuelConsumption.csv')\n",
    "\n",
    "# show first 10 rows of the dataframe\n",
    "fuel_consuption.head(10)"
   ]
  },
  {
   "cell_type": "code",
   "execution_count": 3,
   "metadata": {},
   "outputs": [
    {
     "data": {
      "text/plain": [
       "MODELYEAR                   0\n",
       "MAKE                        0\n",
       "MODEL                       0\n",
       "VEHICLECLASS                0\n",
       "ENGINESIZE                  0\n",
       "CYLINDERS                   0\n",
       "TRANSMISSION                0\n",
       "FUELTYPE                    0\n",
       "FUELCONSUMPTION_CITY        0\n",
       "FUELCONSUMPTION_HWY         0\n",
       "FUELCONSUMPTION_COMB        0\n",
       "FUELCONSUMPTION_COMB_MPG    0\n",
       "CO2EMISSIONS                0\n",
       "dtype: int64"
      ]
     },
     "execution_count": 3,
     "metadata": {},
     "output_type": "execute_result"
    }
   ],
   "source": [
    "# check if there is any missing data\n",
    "fuel_consuption.isnull().sum()"
   ]
  },
  {
   "cell_type": "markdown",
   "metadata": {},
   "source": [
    "Let's select some features that we want to use for regression.\n",
    "\n",
    "We generate a new dataframe with the features that we will use for the regression, in this case: `['ENGINESIZE','CYLINDERS','FUELCONSUMPTION_CITY','FUELCONSUMPTION_HWY','FUELCONSUMPTION_COMB']`"
   ]
  },
  {
   "cell_type": "code",
   "execution_count": 4,
   "metadata": {
    "button": false,
    "new_sheet": false,
    "run_control": {
     "read_only": false
    }
   },
   "outputs": [
    {
     "data": {
      "text/html": [
       "<div>\n",
       "<style scoped>\n",
       "    .dataframe tbody tr th:only-of-type {\n",
       "        vertical-align: middle;\n",
       "    }\n",
       "\n",
       "    .dataframe tbody tr th {\n",
       "        vertical-align: top;\n",
       "    }\n",
       "\n",
       "    .dataframe thead th {\n",
       "        text-align: right;\n",
       "    }\n",
       "</style>\n",
       "<table border=\"1\" class=\"dataframe\">\n",
       "  <thead>\n",
       "    <tr style=\"text-align: right;\">\n",
       "      <th></th>\n",
       "      <th>ENGINESIZE</th>\n",
       "      <th>CYLINDERS</th>\n",
       "      <th>FUELCONSUMPTION_CITY</th>\n",
       "      <th>FUELCONSUMPTION_HWY</th>\n",
       "      <th>FUELCONSUMPTION_COMB</th>\n",
       "    </tr>\n",
       "  </thead>\n",
       "  <tbody>\n",
       "    <tr>\n",
       "      <th>0</th>\n",
       "      <td>2.0</td>\n",
       "      <td>4</td>\n",
       "      <td>9.9</td>\n",
       "      <td>6.7</td>\n",
       "      <td>8.5</td>\n",
       "    </tr>\n",
       "    <tr>\n",
       "      <th>1</th>\n",
       "      <td>2.4</td>\n",
       "      <td>4</td>\n",
       "      <td>11.2</td>\n",
       "      <td>7.7</td>\n",
       "      <td>9.6</td>\n",
       "    </tr>\n",
       "    <tr>\n",
       "      <th>2</th>\n",
       "      <td>1.5</td>\n",
       "      <td>4</td>\n",
       "      <td>6.0</td>\n",
       "      <td>5.8</td>\n",
       "      <td>5.9</td>\n",
       "    </tr>\n",
       "    <tr>\n",
       "      <th>3</th>\n",
       "      <td>3.5</td>\n",
       "      <td>6</td>\n",
       "      <td>12.7</td>\n",
       "      <td>9.1</td>\n",
       "      <td>11.1</td>\n",
       "    </tr>\n",
       "    <tr>\n",
       "      <th>4</th>\n",
       "      <td>3.5</td>\n",
       "      <td>6</td>\n",
       "      <td>12.1</td>\n",
       "      <td>8.7</td>\n",
       "      <td>10.6</td>\n",
       "    </tr>\n",
       "    <tr>\n",
       "      <th>5</th>\n",
       "      <td>3.5</td>\n",
       "      <td>6</td>\n",
       "      <td>11.9</td>\n",
       "      <td>7.7</td>\n",
       "      <td>10.0</td>\n",
       "    </tr>\n",
       "    <tr>\n",
       "      <th>6</th>\n",
       "      <td>3.5</td>\n",
       "      <td>6</td>\n",
       "      <td>11.8</td>\n",
       "      <td>8.1</td>\n",
       "      <td>10.1</td>\n",
       "    </tr>\n",
       "    <tr>\n",
       "      <th>7</th>\n",
       "      <td>3.7</td>\n",
       "      <td>6</td>\n",
       "      <td>12.8</td>\n",
       "      <td>9.0</td>\n",
       "      <td>11.1</td>\n",
       "    </tr>\n",
       "    <tr>\n",
       "      <th>8</th>\n",
       "      <td>3.7</td>\n",
       "      <td>6</td>\n",
       "      <td>13.4</td>\n",
       "      <td>9.5</td>\n",
       "      <td>11.6</td>\n",
       "    </tr>\n",
       "    <tr>\n",
       "      <th>9</th>\n",
       "      <td>2.4</td>\n",
       "      <td>4</td>\n",
       "      <td>10.6</td>\n",
       "      <td>7.5</td>\n",
       "      <td>9.2</td>\n",
       "    </tr>\n",
       "  </tbody>\n",
       "</table>\n",
       "</div>"
      ],
      "text/plain": [
       "   ENGINESIZE  CYLINDERS  FUELCONSUMPTION_CITY  FUELCONSUMPTION_HWY  \\\n",
       "0         2.0          4                   9.9                  6.7   \n",
       "1         2.4          4                  11.2                  7.7   \n",
       "2         1.5          4                   6.0                  5.8   \n",
       "3         3.5          6                  12.7                  9.1   \n",
       "4         3.5          6                  12.1                  8.7   \n",
       "5         3.5          6                  11.9                  7.7   \n",
       "6         3.5          6                  11.8                  8.1   \n",
       "7         3.7          6                  12.8                  9.0   \n",
       "8         3.7          6                  13.4                  9.5   \n",
       "9         2.4          4                  10.6                  7.5   \n",
       "\n",
       "   FUELCONSUMPTION_COMB  \n",
       "0                   8.5  \n",
       "1                   9.6  \n",
       "2                   5.9  \n",
       "3                  11.1  \n",
       "4                  10.6  \n",
       "5                  10.0  \n",
       "6                  10.1  \n",
       "7                  11.1  \n",
       "8                  11.6  \n",
       "9                   9.2  "
      ]
     },
     "execution_count": 4,
     "metadata": {},
     "output_type": "execute_result"
    }
   ],
   "source": [
    "X_data = fuel_consuption[['ENGINESIZE','CYLINDERS','FUELCONSUMPTION_CITY','FUELCONSUMPTION_HWY','FUELCONSUMPTION_COMB']]\n",
    "X_data.head(10)"
   ]
  },
  {
   "cell_type": "markdown",
   "metadata": {},
   "source": [
    "Let's plot Emission values with respect to Engine size:\n"
   ]
  },
  {
   "cell_type": "markdown",
   "metadata": {
    "button": false,
    "new_sheet": false,
    "run_control": {
     "read_only": false
    },
    "scrolled": true
   },
   "source": [
    "<h2 id=\"reading_data\">Visualize the data in 2D</h2>"
   ]
  },
  {
   "cell_type": "code",
   "execution_count": 5,
   "metadata": {},
   "outputs": [
    {
     "data": {
      "image/png": "[encoded data removed]",
      "text/plain": [
       "<Figure size 1080x360 with 2 Axes>"
      ]
     },
     "metadata": {
      "needs_background": "light"
     },
     "output_type": "display_data"
    }
   ],
   "source": [
    "y_data = fuel_consuption[['CO2EMISSIONS']]\n",
    "\n",
    "fig, ax = plt.subplots(1,2,figsize=(15,5))\n",
    "\n",
    "ax[0].title.set_text('Engine size')\n",
    "ax[0].plot(X_data['ENGINESIZE'], y_data, '.b')\n",
    "ax[0].set_xlabel('Engine size')\n",
    "ax[0].set_ylabel('CO2 emissions')\n",
    "ax[0].grid('True')\n",
    "\n",
    "ax[1].title.set_text('Cylinders')\n",
    "ax[1].plot(X_data['CYLINDERS'], y_data, '.r')\n",
    "ax[1].set_xlabel('Cylinders')\n",
    "ax[1].set_ylabel('CO2 emissions')\n",
    "ax[1].grid('True')"
   ]
  },
  {
   "cell_type": "markdown",
   "metadata": {},
   "source": [
    "<h2 id=\"reading_data\">Visualize the data in 3D</h2>"
   ]
  },
  {
   "cell_type": "code",
   "execution_count": 6,
   "metadata": {},
   "outputs": [
    {
     "data": {
      "text/plain": [
       "Text(0.5, 0.92, 'Engine size and cylinders vs CO2 emissions')"
      ]
     },
     "execution_count": 6,
     "metadata": {},
     "output_type": "execute_result"
    },
    {
     "data": {
      "image/png": "[encoded data removed]",
      "text/plain": [
       "<Figure size 1008x720 with 1 Axes>"
      ]
     },
     "metadata": {
      "needs_background": "light"
     },
     "output_type": "display_data"
    }
   ],
   "source": [
    "fig = plt.figure(figsize=(14,10))\n",
    "ax = fig.add_subplot(projection='3d')\n",
    "ax.scatter(X_data[\"ENGINESIZE\"], X_data[\"CYLINDERS\"], y_data, '.b', alpha=0.2)\n",
    "ax.set_xlabel(\"Engine Size\")\n",
    "ax.set_ylabel(\"Cylinders\")\n",
    "ax.set_zlabel(\"CO2 Emissions\")\n",
    "ax.set_title(\"Engine size and cylinders vs CO2 emissions\")"
   ]
  },
  {
   "cell_type": "markdown",
   "metadata": {},
   "source": [
    "# Normalize the data by feature-scaling\n",
    "* try to make in a way that you can turn it on and off\n",
    "* if you comment the feature scaling the program should still work"
   ]
  },
  {
   "cell_type": "code",
   "execution_count": 7,
   "metadata": {},
   "outputs": [],
   "source": [
    "#Function to normalize each feature\n",
    "\n",
    "def normalize(df):\n",
    "    # create a copy the dataframe\n",
    "    df_normalized = df.copy()\n",
    "    \n",
    "    for column in df_normalized.columns:\n",
    "        df_normalized[column] = (df_normalized[column] - df_normalized[column].mean())/df_normalized[column].std()\n",
    "        \n",
    "    return(df_normalized)"
   ]
  },
  {
   "cell_type": "code",
   "execution_count": 8,
   "metadata": {},
   "outputs": [],
   "source": [
    "# You can create a new dataframe in which to store the normalized data or save these on 'X_data'\n",
    "# in any case if you do not want to normalize the data you must comment the following line.\n",
    "\n",
    "X_data = normalize(X_data)"
   ]
  },
  {
   "cell_type": "code",
   "execution_count": 9,
   "metadata": {},
   "outputs": [
    {
     "data": {
      "text/html": [
       "<div>\n",
       "<style scoped>\n",
       "    .dataframe tbody tr th:only-of-type {\n",
       "        vertical-align: middle;\n",
       "    }\n",
       "\n",
       "    .dataframe tbody tr th {\n",
       "        vertical-align: top;\n",
       "    }\n",
       "\n",
       "    .dataframe thead th {\n",
       "        text-align: right;\n",
       "    }\n",
       "</style>\n",
       "<table border=\"1\" class=\"dataframe\">\n",
       "  <thead>\n",
       "    <tr style=\"text-align: right;\">\n",
       "      <th></th>\n",
       "      <th>ENGINESIZE</th>\n",
       "      <th>CYLINDERS</th>\n",
       "      <th>FUELCONSUMPTION_CITY</th>\n",
       "      <th>FUELCONSUMPTION_HWY</th>\n",
       "      <th>FUELCONSUMPTION_COMB</th>\n",
       "    </tr>\n",
       "  </thead>\n",
       "  <tbody>\n",
       "    <tr>\n",
       "      <th>0</th>\n",
       "      <td>-0.950846</td>\n",
       "      <td>-0.998500</td>\n",
       "      <td>-0.828169</td>\n",
       "      <td>-0.992876</td>\n",
       "      <td>-0.883890</td>\n",
       "    </tr>\n",
       "    <tr>\n",
       "      <th>1</th>\n",
       "      <td>-0.668339</td>\n",
       "      <td>-0.998500</td>\n",
       "      <td>-0.511193</td>\n",
       "      <td>-0.635031</td>\n",
       "      <td>-0.568305</td>\n",
       "    </tr>\n",
       "    <tr>\n",
       "      <th>2</th>\n",
       "      <td>-1.303979</td>\n",
       "      <td>-0.998500</td>\n",
       "      <td>-1.779098</td>\n",
       "      <td>-1.314936</td>\n",
       "      <td>-1.629817</td>\n",
       "    </tr>\n",
       "    <tr>\n",
       "      <th>3</th>\n",
       "      <td>0.108555</td>\n",
       "      <td>0.114189</td>\n",
       "      <td>-0.145451</td>\n",
       "      <td>-0.134049</td>\n",
       "      <td>-0.137962</td>\n",
       "    </tr>\n",
       "    <tr>\n",
       "      <th>4</th>\n",
       "      <td>0.108555</td>\n",
       "      <td>0.114189</td>\n",
       "      <td>-0.291748</td>\n",
       "      <td>-0.277187</td>\n",
       "      <td>-0.281410</td>\n",
       "    </tr>\n",
       "    <tr>\n",
       "      <th>5</th>\n",
       "      <td>0.108555</td>\n",
       "      <td>0.114189</td>\n",
       "      <td>-0.340514</td>\n",
       "      <td>-0.635031</td>\n",
       "      <td>-0.453547</td>\n",
       "    </tr>\n",
       "    <tr>\n",
       "      <th>6</th>\n",
       "      <td>0.108555</td>\n",
       "      <td>0.114189</td>\n",
       "      <td>-0.364896</td>\n",
       "      <td>-0.491894</td>\n",
       "      <td>-0.424857</td>\n",
       "    </tr>\n",
       "    <tr>\n",
       "      <th>7</th>\n",
       "      <td>0.249808</td>\n",
       "      <td>0.114189</td>\n",
       "      <td>-0.121068</td>\n",
       "      <td>-0.169834</td>\n",
       "      <td>-0.137962</td>\n",
       "    </tr>\n",
       "    <tr>\n",
       "      <th>8</th>\n",
       "      <td>0.249808</td>\n",
       "      <td>0.114189</td>\n",
       "      <td>0.025228</td>\n",
       "      <td>0.009089</td>\n",
       "      <td>0.005485</td>\n",
       "    </tr>\n",
       "    <tr>\n",
       "      <th>9</th>\n",
       "      <td>-0.668339</td>\n",
       "      <td>-0.998500</td>\n",
       "      <td>-0.657490</td>\n",
       "      <td>-0.706600</td>\n",
       "      <td>-0.683063</td>\n",
       "    </tr>\n",
       "  </tbody>\n",
       "</table>\n",
       "</div>"
      ],
      "text/plain": [
       "   ENGINESIZE  CYLINDERS  FUELCONSUMPTION_CITY  FUELCONSUMPTION_HWY  \\\n",
       "0   -0.950846  -0.998500             -0.828169            -0.992876   \n",
       "1   -0.668339  -0.998500             -0.511193            -0.635031   \n",
       "2   -1.303979  -0.998500             -1.779098            -1.314936   \n",
       "3    0.108555   0.114189             -0.145451            -0.134049   \n",
       "4    0.108555   0.114189             -0.291748            -0.277187   \n",
       "5    0.108555   0.114189             -0.340514            -0.635031   \n",
       "6    0.108555   0.114189             -0.364896            -0.491894   \n",
       "7    0.249808   0.114189             -0.121068            -0.169834   \n",
       "8    0.249808   0.114189              0.025228             0.009089   \n",
       "9   -0.668339  -0.998500             -0.657490            -0.706600   \n",
       "\n",
       "   FUELCONSUMPTION_COMB  \n",
       "0             -0.883890  \n",
       "1             -0.568305  \n",
       "2             -1.629817  \n",
       "3             -0.137962  \n",
       "4             -0.281410  \n",
       "5             -0.453547  \n",
       "6             -0.424857  \n",
       "7             -0.137962  \n",
       "8              0.005485  \n",
       "9             -0.683063  "
      ]
     },
     "execution_count": 9,
     "metadata": {},
     "output_type": "execute_result"
    }
   ],
   "source": [
    "X_data.head(10)"
   ]
  },
  {
   "cell_type": "markdown",
   "metadata": {
    "button": false,
    "new_sheet": false,
    "run_control": {
     "read_only": false
    }
   },
   "source": [
    "# Split the data into train and test using scikit-learn\n",
    "\n",
    "Train/Test Split involves splitting the dataset into training and testing sets respectively, which are mutually exclusive. After which, you train with the training set and test with the testing set.\n",
    "This will provide a more accurate evaluation on out-of-sample accuracy because the testing dataset is not part of the dataset that have been used to train the model. Therefore, it gives us a better understanding of how well our model generalizes on new data.\n",
    "\n",
    "We know the outcome of each data point in the testing dataset, making it great to test with! Since this data has not been used to train the model, the model has no knowledge of the outcome of these data points. So, in essence, it is truly an out-of-sample testing."
   ]
  },
  {
   "cell_type": "code",
   "execution_count": 10,
   "metadata": {},
   "outputs": [
    {
     "name": "stdout",
     "output_type": "stream",
     "text": [
      "X_test has: 321 data\n",
      "X_train has: 746 data\n"
     ]
    }
   ],
   "source": [
    "# We use the function train_test_split from sklearn\n",
    "X_train, X_test, y_train, y_test = train_test_split( X_data, y_data, test_size=0.3, random_state=23)\n",
    "\n",
    "print('X_test has:', X_test.shape[0], 'data')\n",
    "print('X_train has:', X_train.shape[0], 'data')"
   ]
  },
  {
   "cell_type": "markdown",
   "metadata": {
    "button": false,
    "new_sheet": false,
    "run_control": {
     "read_only": false
    }
   },
   "source": [
    "<h2 id=\"multiple_regression_model\">Train the model using X_train and y_train sets using scikit-learn</h2>\n"
   ]
  },
  {
   "cell_type": "code",
   "execution_count": 11,
   "metadata": {
    "button": false,
    "new_sheet": false,
    "run_control": {
     "read_only": false
    }
   },
   "outputs": [
    {
     "data": {
      "text/plain": [
       "LinearRegression()"
      ]
     },
     "execution_count": 11,
     "metadata": {},
     "output_type": "execute_result"
    }
   ],
   "source": [
    "#Model trining using LinearRegression from sklearn\n",
    "linear_model = LinearRegression()\n",
    "linear_model.fit(X_train, y_train)"
   ]
  },
  {
   "cell_type": "markdown",
   "metadata": {},
   "source": [
    "As mentioned before, **Coefficient** and **Intercept**  are the parameters of the fitted line.\n",
    "Given that it is a multiple linear regression model with 3 parameters and that the parameters are the intercept and coefficients of the hyperplane, sklearn can estimate them from our data. Scikit-learn uses plain Ordinary Least Squares method to solve this problem.\n",
    "\n",
    "#### Ordinary Least Squares (OLS)\n",
    "\n",
    "OLS is a method for estimating the unknown parameters in a linear regression model. OLS chooses the parameters of a linear function of a set of explanatory variables by minimizing the sum of the squares of the differences between the target dependent variable and those predicted by the linear function. In other words, it tries to minimizes the sum of squared errors (SSE) or mean squared error (MSE) between the target variable (y) and our predicted output ($\\hat{y}$) over all samples in the dataset.\n",
    "\n",
    "OLS can find the best parameters using of the following methods:\n",
    "\n",
    "*   Solving the model parameters analytically using closed-form equations\n",
    "*   Using an optimization algorithm (Gradient Descent, Stochastic Gradient Descent, Newton’s Method, etc.)\n"
   ]
  },
  {
   "cell_type": "markdown",
   "metadata": {},
   "source": [
    "<h2 id=\"prediction\">Print the metrics</h2>\n",
    "\n",
    "* MAE    \n",
    "* MAPE    \n",
    "* R-squared    "
   ]
  },
  {
   "cell_type": "code",
   "execution_count": 12,
   "metadata": {},
   "outputs": [
    {
     "name": "stdout",
     "output_type": "stream",
     "text": [
      "R-squared = 0.8619543188582119\n",
      "MAE = 17.046629132190407\n",
      "MAPE = 0.0663047330270753\n"
     ]
    }
   ],
   "source": [
    "# To obtain the score of our model we use the test data set\n",
    "r2 = linear_model.score(X_test,y_test)\n",
    "\n",
    "print('R-squared =', r2)\n",
    "\n",
    "# To obtain the mean absolute error and the mean absolutepercentage error\n",
    "# the predictions of the model on the X_test set must be obtained and compared with the real values (y_test)\n",
    "\n",
    "y_predict = linear_model.predict(X_test)\n",
    "\n",
    "mae = metrics.mean_absolute_error(y_test, y_predict)\n",
    "\n",
    "print('MAE =', mae)\n",
    "\n",
    "mape = metrics.mean_absolute_percentage_error(y_test, y_predict)\n",
    "\n",
    "print('MAPE =', mape)"
   ]
  },
  {
   "cell_type": "markdown",
   "metadata": {},
   "source": [
    "<h2 id=\"prediction\">Prediction C02 emission from ten random cars</h2>"
   ]
  },
  {
   "cell_type": "code",
   "execution_count": 13,
   "metadata": {
    "button": false,
    "new_sheet": false,
    "run_control": {
     "read_only": false
    }
   },
   "outputs": [
    {
     "data": {
      "text/html": [
       "<div>\n",
       "<style scoped>\n",
       "    .dataframe tbody tr th:only-of-type {\n",
       "        vertical-align: middle;\n",
       "    }\n",
       "\n",
       "    .dataframe tbody tr th {\n",
       "        vertical-align: top;\n",
       "    }\n",
       "\n",
       "    .dataframe thead th {\n",
       "        text-align: right;\n",
       "    }\n",
       "</style>\n",
       "<table border=\"1\" class=\"dataframe\">\n",
       "  <thead>\n",
       "    <tr style=\"text-align: right;\">\n",
       "      <th></th>\n",
       "      <th>ENGINESIZE</th>\n",
       "      <th>CYLINDERS</th>\n",
       "      <th>FUELCONSUMPTION_CITY</th>\n",
       "      <th>FUELCONSUMPTION_HWY</th>\n",
       "      <th>FUELCONSUMPTION_COMB</th>\n",
       "      <th>CO2EMISSIONPREDICTIONS</th>\n",
       "    </tr>\n",
       "  </thead>\n",
       "  <tbody>\n",
       "    <tr>\n",
       "      <th>526</th>\n",
       "      <td>0.249808</td>\n",
       "      <td>0.114189</td>\n",
       "      <td>-0.316131</td>\n",
       "      <td>-0.527678</td>\n",
       "      <td>-0.396168</td>\n",
       "      <td>250.492480</td>\n",
       "    </tr>\n",
       "    <tr>\n",
       "      <th>818</th>\n",
       "      <td>-0.668339</td>\n",
       "      <td>-0.998500</td>\n",
       "      <td>-0.681873</td>\n",
       "      <td>-0.456109</td>\n",
       "      <td>-0.596995</td>\n",
       "      <td>211.037345</td>\n",
       "    </tr>\n",
       "    <tr>\n",
       "      <th>852</th>\n",
       "      <td>0.108555</td>\n",
       "      <td>0.114189</td>\n",
       "      <td>-0.242982</td>\n",
       "      <td>-0.062480</td>\n",
       "      <td>-0.166652</td>\n",
       "      <td>252.280020</td>\n",
       "    </tr>\n",
       "    <tr>\n",
       "      <th>1015</th>\n",
       "      <td>-1.092099</td>\n",
       "      <td>-0.998500</td>\n",
       "      <td>-0.828169</td>\n",
       "      <td>-0.813954</td>\n",
       "      <td>-0.826511</td>\n",
       "      <td>197.672869</td>\n",
       "    </tr>\n",
       "    <tr>\n",
       "      <th>812</th>\n",
       "      <td>-1.233353</td>\n",
       "      <td>-0.998500</td>\n",
       "      <td>-0.803787</td>\n",
       "      <td>-0.599247</td>\n",
       "      <td>-0.740442</td>\n",
       "      <td>196.679227</td>\n",
       "    </tr>\n",
       "    <tr>\n",
       "      <th>260</th>\n",
       "      <td>-1.515860</td>\n",
       "      <td>-0.998500</td>\n",
       "      <td>-1.388974</td>\n",
       "      <td>-1.243367</td>\n",
       "      <td>-1.342922</td>\n",
       "      <td>172.407295</td>\n",
       "    </tr>\n",
       "    <tr>\n",
       "      <th>421</th>\n",
       "      <td>0.249808</td>\n",
       "      <td>0.114189</td>\n",
       "      <td>-0.194217</td>\n",
       "      <td>-0.456109</td>\n",
       "      <td>-0.281410</td>\n",
       "      <td>254.386003</td>\n",
       "    </tr>\n",
       "    <tr>\n",
       "      <th>330</th>\n",
       "      <td>0.179181</td>\n",
       "      <td>0.114189</td>\n",
       "      <td>0.220291</td>\n",
       "      <td>-0.026696</td>\n",
       "      <td>0.120243</td>\n",
       "      <td>266.400190</td>\n",
       "    </tr>\n",
       "    <tr>\n",
       "      <th>441</th>\n",
       "      <td>1.379835</td>\n",
       "      <td>1.226878</td>\n",
       "      <td>1.219985</td>\n",
       "      <td>1.690957</td>\n",
       "      <td>1.411271</td>\n",
       "      <td>337.154997</td>\n",
       "    </tr>\n",
       "    <tr>\n",
       "      <th>776</th>\n",
       "      <td>1.521089</td>\n",
       "      <td>1.226878</td>\n",
       "      <td>-0.242982</td>\n",
       "      <td>-0.277187</td>\n",
       "      <td>-0.252720</td>\n",
       "      <td>289.658008</td>\n",
       "    </tr>\n",
       "  </tbody>\n",
       "</table>\n",
       "</div>"
      ],
      "text/plain": [
       "      ENGINESIZE  CYLINDERS  FUELCONSUMPTION_CITY  FUELCONSUMPTION_HWY  \\\n",
       "526     0.249808   0.114189             -0.316131            -0.527678   \n",
       "818    -0.668339  -0.998500             -0.681873            -0.456109   \n",
       "852     0.108555   0.114189             -0.242982            -0.062480   \n",
       "1015   -1.092099  -0.998500             -0.828169            -0.813954   \n",
       "812    -1.233353  -0.998500             -0.803787            -0.599247   \n",
       "260    -1.515860  -0.998500             -1.388974            -1.243367   \n",
       "421     0.249808   0.114189             -0.194217            -0.456109   \n",
       "330     0.179181   0.114189              0.220291            -0.026696   \n",
       "441     1.379835   1.226878              1.219985             1.690957   \n",
       "776     1.521089   1.226878             -0.242982            -0.277187   \n",
       "\n",
       "      FUELCONSUMPTION_COMB  CO2EMISSIONPREDICTIONS  \n",
       "526              -0.396168              250.492480  \n",
       "818              -0.596995              211.037345  \n",
       "852              -0.166652              252.280020  \n",
       "1015             -0.826511              197.672869  \n",
       "812              -0.740442              196.679227  \n",
       "260              -1.342922              172.407295  \n",
       "421              -0.281410              254.386003  \n",
       "330               0.120243              266.400190  \n",
       "441               1.411271              337.154997  \n",
       "776              -0.252720              289.658008  "
      ]
     },
     "execution_count": 13,
     "metadata": {},
     "output_type": "execute_result"
    }
   ],
   "source": [
    "# We select 10 cars at random (from the test data set to make predictions of data that the model did not receive)\n",
    "X_random = X_test.sample(10)\n",
    "\n",
    "y_random_predict = linear_model.predict(X_random)\n",
    "\n",
    "random_df = X_random.copy()\n",
    "random_df['CO2EMISSIONPREDICTIONS']= y_random_predict\n",
    "\n",
    "random_df"
   ]
  },
  {
   "cell_type": "markdown",
   "metadata": {},
   "source": [
    "# Single feature regression\n",
    "\n",
    "The same process is repeated only using a single feature in the X_data set\n",
    "\n",
    "For feature engine size:"
   ]
  },
  {
   "cell_type": "code",
   "execution_count": 14,
   "metadata": {},
   "outputs": [
    {
     "name": "stdout",
     "output_type": "stream",
     "text": [
      "R-squared = 0.739137447400469\n",
      "MAE = 24.568229380362133\n",
      "MAPE = 0.09727793741775395\n"
     ]
    }
   ],
   "source": [
    "X_data = fuel_consuption[['ENGINESIZE']]\n",
    "\n",
    "# Normalize data\n",
    "X_data = normalize(X_data)\n",
    "\n",
    "# Split data\n",
    "X_train, X_test, y_train, y_test = train_test_split( X_data, y_data, test_size=0.3, random_state=23)\n",
    "\n",
    "# Generate an train model\n",
    "enginesize_model = LinearRegression()\n",
    "enginesize_model.fit(X_train, y_train)\n",
    "\n",
    "# Obtain R-square, MAE and MAPE\n",
    "r2 = enginesize_model.score(X_test,y_test)\n",
    "\n",
    "print('R-squared =', r2)\n",
    "\n",
    "y_predict = enginesize_model.predict(X_test)\n",
    "\n",
    "mae = metrics.mean_absolute_error(y_test, y_predict)\n",
    "\n",
    "print('MAE =', mae)\n",
    "\n",
    "mape = metrics.mean_absolute_percentage_error(y_test, y_predict)\n",
    "\n",
    "print('MAPE =', mape)"
   ]
  },
  {
   "cell_type": "markdown",
   "metadata": {},
   "source": [
    "For feature cylinders:"
   ]
  },
  {
   "cell_type": "code",
   "execution_count": 15,
   "metadata": {},
   "outputs": [
    {
     "name": "stdout",
     "output_type": "stream",
     "text": [
      "R-squared = 0.7081524991043935\n",
      "MAE = 26.283565643681346\n",
      "MAPE = 0.10453910546513626\n"
     ]
    }
   ],
   "source": [
    "X_data = fuel_consuption[['CYLINDERS']]\n",
    "\n",
    "# Normalize data\n",
    "X_data = normalize(X_data)\n",
    "\n",
    "# Split data\n",
    "X_train, X_test, y_train, y_test = train_test_split( X_data, y_data, test_size=0.3, random_state=23)\n",
    "\n",
    "# Generate an train model\n",
    "enginesize_model = LinearRegression()\n",
    "enginesize_model.fit(X_train, y_train)\n",
    "\n",
    "# Obtain R-square, MAE and MAPE\n",
    "r2 = enginesize_model.score(X_test,y_test)\n",
    "\n",
    "print('R-squared =', r2)\n",
    "\n",
    "y_predict = enginesize_model.predict(X_test)\n",
    "\n",
    "mae = metrics.mean_absolute_error(y_test, y_predict)\n",
    "\n",
    "print('MAE =', mae)\n",
    "\n",
    "mape = metrics.mean_absolute_percentage_error(y_test, y_predict)\n",
    "\n",
    "print('MAPE =', mape)"
   ]
  },
  {
   "cell_type": "markdown",
   "metadata": {},
   "source": [
    "For feature fuel consumption city:"
   ]
  },
  {
   "cell_type": "code",
   "execution_count": 16,
   "metadata": {},
   "outputs": [
    {
     "name": "stdout",
     "output_type": "stream",
     "text": [
      "R-squared = 0.8097790672183608\n",
      "MAE = 19.411222616443524\n",
      "MAPE = 0.07248909361113344\n"
     ]
    }
   ],
   "source": [
    "X_data = fuel_consuption[['FUELCONSUMPTION_CITY']]\n",
    "\n",
    "# Normalize data\n",
    "X_data = normalize(X_data)\n",
    "\n",
    "# Split data\n",
    "X_train, X_test, y_train, y_test = train_test_split( X_data, y_data, test_size=0.3, random_state=23)\n",
    "\n",
    "# Generate an train model\n",
    "enginesize_model = LinearRegression()\n",
    "enginesize_model.fit(X_train, y_train)\n",
    "\n",
    "# Obtain R-square, MAE and MAPE\n",
    "r2 = enginesize_model.score(X_test,y_test)\n",
    "\n",
    "print('R-squared =', r2)\n",
    "\n",
    "y_predict = enginesize_model.predict(X_test)\n",
    "\n",
    "mae = metrics.mean_absolute_error(y_test, y_predict)\n",
    "\n",
    "print('MAE =', mae)\n",
    "\n",
    "mape = metrics.mean_absolute_percentage_error(y_test, y_predict)\n",
    "\n",
    "print('MAPE =', mape)"
   ]
  },
  {
   "cell_type": "markdown",
   "metadata": {},
   "source": [
    "For feature fuel consumption hwy:"
   ]
  },
  {
   "cell_type": "code",
   "execution_count": 17,
   "metadata": {},
   "outputs": [
    {
     "name": "stdout",
     "output_type": "stream",
     "text": [
      "R-squared = 0.7563420971153989\n",
      "MAE = 23.62330284306848\n",
      "MAPE = 0.09082596507512608\n"
     ]
    }
   ],
   "source": [
    "X_data = fuel_consuption[['FUELCONSUMPTION_HWY']]\n",
    "\n",
    "# Normalize data\n",
    "X_data = normalize(X_data)\n",
    "\n",
    "# Split data\n",
    "X_train, X_test, y_train, y_test = train_test_split( X_data, y_data, test_size=0.3, random_state=23)\n",
    "\n",
    "# Generate an train model\n",
    "enginesize_model = LinearRegression()\n",
    "enginesize_model.fit(X_train, y_train)\n",
    "\n",
    "# Obtain R-square, MAE and MAPE\n",
    "r2 = enginesize_model.score(X_test,y_test)\n",
    "\n",
    "print('R-squared =', r2)\n",
    "\n",
    "y_predict = enginesize_model.predict(X_test)\n",
    "\n",
    "mae = metrics.mean_absolute_error(y_test, y_predict)\n",
    "\n",
    "print('MAE =', mae)\n",
    "\n",
    "mape = metrics.mean_absolute_percentage_error(y_test, y_predict)\n",
    "\n",
    "print('MAPE =', mape)"
   ]
  },
  {
   "cell_type": "markdown",
   "metadata": {},
   "source": [
    "For feature fuel consumption comb:"
   ]
  },
  {
   "cell_type": "code",
   "execution_count": 18,
   "metadata": {},
   "outputs": [
    {
     "name": "stdout",
     "output_type": "stream",
     "text": [
      "R-squared = 0.8036311118675539\n",
      "MAE = 20.294468286387474\n",
      "MAPE = 0.07628268103\n"
     ]
    }
   ],
   "source": [
    "X_data = fuel_consuption[['FUELCONSUMPTION_COMB']]\n",
    "\n",
    "# Normalize data\n",
    "X_data = normalize(X_data)\n",
    "\n",
    "# Split data\n",
    "X_train, X_test, y_train, y_test = train_test_split( X_data, y_data, test_size=0.3, random_state=23)\n",
    "\n",
    "# Generate an train model\n",
    "enginesize_model = LinearRegression()\n",
    "enginesize_model.fit(X_train, y_train)\n",
    "\n",
    "# Obtain R-square, MAE and MAPE\n",
    "r2 = enginesize_model.score(X_test,y_test)\n",
    "\n",
    "print('R-squared =', r2)\n",
    "\n",
    "y_predict = enginesize_model.predict(X_test)\n",
    "\n",
    "mae = metrics.mean_absolute_error(y_test, y_predict)\n",
    "\n",
    "print('MAE =', mae)\n",
    "\n",
    "mape = metrics.mean_absolute_percentage_error(y_test, y_predict)\n",
    "\n",
    "print('MAPE =', mape)"
   ]
  },
  {
   "cell_type": "markdown",
   "metadata": {},
   "source": [
    "Looking at the results obtained for the single feature regression models, we can see that the features that give models with the best score are: 'FUELCONSUMPTION_COMB' and 'FUELCONSUMPTION_CITY'. However, the multilinear regression model is the one that presents the best results."
   ]
  }
 ],
 "metadata": {
  "kernelspec": {
   "display_name": "Python 3",
   "language": "python",
   "name": "python3"
  },
  "language_info": {
   "codemirror_mode": {
    "name": "ipython",
    "version": 3
   },
   "file_extension": ".py",
   "mimetype": "text/x-python",
   "name": "python",
   "nbconvert_exporter": "python",
   "pygments_lexer": "ipython3",
   "version": "3.7.2"
  },
  "widgets": {
   "state": {},
   "version": "1.1.2"
  }
 },
 "nbformat": 4,
 "nbformat_minor": 2
}
