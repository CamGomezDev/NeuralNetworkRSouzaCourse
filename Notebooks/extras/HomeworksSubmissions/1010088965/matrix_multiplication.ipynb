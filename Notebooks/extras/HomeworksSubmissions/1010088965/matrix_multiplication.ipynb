{
 "cells": [
  {
   "cell_type": "markdown",
   "metadata": {},
   "source": [
    "# Tarea 1 - Camilo Gómez"
   ]
  },
  {
   "cell_type": "markdown",
   "metadata": {},
   "source": [
    "### Algorithm by hand"
   ]
  },
  {
   "cell_type": "markdown",
   "metadata": {},
   "source": [
    "<center><img width=\"700\" src=\"./matrix_multiplication_img.jpg\"><img /><center />"
   ]
  },
  {
   "cell_type": "markdown",
   "metadata": {},
   "source": [
    "### Algorithm implementation"
   ]
  },
  {
   "cell_type": "code",
   "execution_count": 1,
   "metadata": {},
   "outputs": [
    {
     "data": {
      "text/plain": [
       "[[68, 74, 80, 86], [158, 173, 188, 203]]"
      ]
     },
     "execution_count": 1,
     "metadata": {},
     "output_type": "execute_result"
    }
   ],
   "source": [
    "# Matrix A is 2x3\n",
    "A = [[1, 2, 3],\n",
    "     [4, 5, 6]]\n",
    "m = len(A)\n",
    "n = len(A[1])\n",
    "\n",
    "# Matrix B is 3x4\n",
    "B = [[6, 7, 8, 9],\n",
    "     [10, 11, 12, 13],\n",
    "     [14, 15, 16, 17]]\n",
    "p = len(B[1])\n",
    "\n",
    "# Due to this, matrix C must be 2x4\n",
    "C = [[None, None, None, None],\n",
    "     [None, None, None, None]]\n",
    "\n",
    "for i_A in range(m):\n",
    "    for j_B in range(p):\n",
    "        C_cell_val = 0\n",
    "        for k in range(n):\n",
    "            C_cell_val += A[i_A][k] * B[k][j_B]\n",
    "        C[i_A][j_B] = C_cell_val\n",
    "\n",
    "C"
   ]
  },
  {
   "cell_type": "markdown",
   "metadata": {},
   "source": [
    "### Test if it works"
   ]
  },
  {
   "cell_type": "code",
   "execution_count": 2,
   "metadata": {},
   "outputs": [
    {
     "data": {
      "text/plain": [
       "array([[ 68,  74,  80,  86],\n",
       "       [158, 173, 188, 203]])"
      ]
     },
     "execution_count": 2,
     "metadata": {},
     "output_type": "execute_result"
    }
   ],
   "source": [
    "import numpy as np\n",
    "\n",
    "np.array(A)@np.array(B)"
   ]
  },
  {
   "cell_type": "markdown",
   "metadata": {},
   "source": [
    "¡Funciona!"
   ]
  }
 ],
 "metadata": {
  "interpreter": {
   "hash": "31f2aee4e71d21fbe5cf8b01ff0e069b9275f58929596ceb00d14d90e3e16cd6"
  },
  "kernelspec": {
   "display_name": "Python 3.6.9 64-bit",
   "language": "python",
   "name": "python3"
  },
  "language_info": {
   "codemirror_mode": {
    "name": "ipython",
    "version": 3
   },
   "file_extension": ".py",
   "mimetype": "text/x-python",
   "name": "python",
   "nbconvert_exporter": "python",
   "pygments_lexer": "ipython3",
   "version": "3.7.4"
  },
  "orig_nbformat": 4
 },
 "nbformat": 4,
 "nbformat_minor": 2
}
