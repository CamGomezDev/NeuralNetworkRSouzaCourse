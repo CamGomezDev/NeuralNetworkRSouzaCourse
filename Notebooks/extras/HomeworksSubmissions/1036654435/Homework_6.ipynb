{
 "cells": [
  {
   "cell_type": "markdown",
   "metadata": {},
   "source": [
    "##### Sergio Duque Mejía, c.c 1036654435\n",
    "##### Mail: sergio.duquem@udea.edu.co"
   ]
  },
  {
   "cell_type": "markdown",
   "metadata": {},
   "source": [
    "## Import the libraries"
   ]
  },
  {
   "cell_type": "code",
   "execution_count": 72,
   "metadata": {},
   "outputs": [],
   "source": [
    "import pandas as pd\n",
    "import numpy as np\n",
    "import tensorflow as tf\n",
    "from tensorflow.keras.models import Sequential\n",
    "from tensorflow.keras.layers import InputLayer,Dense,Flatten"
   ]
  },
  {
   "cell_type": "markdown",
   "metadata": {},
   "source": [
    "## import the data\n",
    "I used the mnist data from tf.keras.datasets to practice the Flatten layer."
   ]
  },
  {
   "cell_type": "code",
   "execution_count": 73,
   "metadata": {},
   "outputs": [],
   "source": [
    "(X_train, y_train), (X_test, y_test) = tf.keras.datasets.mnist.load_data() # importing mnis from tf.keras.datasets"
   ]
  },
  {
   "cell_type": "markdown",
   "metadata": {},
   "source": [
    "I try to explore the results of the model, with all the most common feature scalers:"
   ]
  },
  {
   "cell_type": "code",
   "execution_count": 98,
   "metadata": {},
   "outputs": [],
   "source": [
    "def standardScaler(image):\n",
    "    return (image - image.mean())/(image.std())\n",
    "\n",
    "def maxAbsScaler(label):\n",
    "    return label/max(abs(label))\n",
    "\n",
    "def minMaxScaler(image):\n",
    "    return (image - min(image))/(max(image) - min(image))"
   ]
  },
  {
   "cell_type": "markdown",
   "metadata": {},
   "source": [
    "The best one for the result is using standard Scaler for the X_train data:"
   ]
  },
  {
   "cell_type": "code",
   "execution_count": 99,
   "metadata": {},
   "outputs": [],
   "source": [
    "nm_x = standardScaler(X_train)\n",
    "#nm_x = maxAbsScaler(X_train)\n",
    "#nm_x = minMaxScaler(image):"
   ]
  },
  {
   "cell_type": "markdown",
   "metadata": {},
   "source": [
    "As we see in class, define a model with InputLayer,Flatten (because the (28,28) shape per unit in X_Train ) and Dense for the hidden and output layer"
   ]
  },
  {
   "cell_type": "code",
   "execution_count": 76,
   "metadata": {},
   "outputs": [],
   "source": [
    "def get_model(input_shape):\n",
    "    model=Sequential([\n",
    "                  InputLayer(input_shape=input_shape),\n",
    "                  Flatten(),\n",
    "                  #Dense(units=50,activation='relu',name='layer_hidden'),\n",
    "                  Dense(units=16,activation='relu',name='layer_hidden'),\n",
    "                  Dense(units=10,activation='softmax',name='output_layer')\n",
    "                 ])\n",
    "    return model"
   ]
  },
  {
   "cell_type": "markdown",
   "metadata": {},
   "source": [
    "Using more than 20 neuron, the result is really slow so I keep the original 16 neurons."
   ]
  },
  {
   "cell_type": "code",
   "execution_count": 77,
   "metadata": {},
   "outputs": [],
   "source": [
    "model = get_model(nm_x[0].shape) # get the Sequential model"
   ]
  },
  {
   "cell_type": "markdown",
   "metadata": {},
   "source": [
    "As we see in the summary, flatten transform a (28,28) data into a (784,) data. This is why we can get 12560 params for the hidden layer and 170 params for the output layer"
   ]
  },
  {
   "cell_type": "code",
   "execution_count": 78,
   "metadata": {},
   "outputs": [
    {
     "name": "stdout",
     "output_type": "stream",
     "text": [
      "Model: \"sequential_1\"\n",
      "_________________________________________________________________\n",
      "Layer (type)                 Output Shape              Param #   \n",
      "=================================================================\n",
      "flatten_1 (Flatten)          (None, 784)               0         \n",
      "_________________________________________________________________\n",
      "layer_hidden (Dense)         (None, 16)                12560     \n",
      "_________________________________________________________________\n",
      "output_layer (Dense)         (None, 10)                170       \n",
      "=================================================================\n",
      "Total params: 12,730\n",
      "Trainable params: 12,730\n",
      "Non-trainable params: 0\n",
      "_________________________________________________________________\n"
     ]
    }
   ],
   "source": [
    "model.summary()"
   ]
  },
  {
   "cell_type": "markdown",
   "metadata": {},
   "source": [
    "* compiling with sgd optimizer (and all of their default parameters) made in my case, the best accuracy model.\n",
    "* I used sparse_categorical_crossentropy because i am passing y_train as a integer vector that describe every label.\n",
    "* I'm looking for the accuracy  in the model so thats my metric"
   ]
  },
  {
   "cell_type": "code",
   "execution_count": 79,
   "metadata": {},
   "outputs": [],
   "source": [
    "model.compile(optimizer='sgd',\n",
    "    loss='sparse_categorical_crossentropy',\n",
    "    metrics=['accuracy'])"
   ]
  },
  {
   "cell_type": "markdown",
   "metadata": {},
   "source": [
    "select a random seed"
   ]
  },
  {
   "cell_type": "code",
   "execution_count": 80,
   "metadata": {},
   "outputs": [],
   "source": [
    "tf.random.set_seed(10)"
   ]
  },
  {
   "cell_type": "markdown",
   "metadata": {},
   "source": [
    "### Fit for epochs=10, validation_split=0.1:"
   ]
  },
  {
   "cell_type": "code",
   "execution_count": 81,
   "metadata": {},
   "outputs": [],
   "source": [
    "epochs=10\n",
    "myhistory=model.fit(nm_x, y_train,  epochs=epochs, batch_size=32, validation_split=0.1, verbose=False)"
   ]
  },
  {
   "cell_type": "code",
   "execution_count": 82,
   "metadata": {},
   "outputs": [
    {
     "name": "stdout",
     "output_type": "stream",
     "text": [
      "0.9558333158493042 validation set accuracy\n",
      "0.951796293258667 training set accuracy\n"
     ]
    }
   ],
   "source": [
    "print(myhistory.history['val_accuracy'][-1], \"validation set accuracy\")\n",
    "print(myhistory.history['accuracy'][-1], \"training set accuracy\")"
   ]
  },
  {
   "cell_type": "code",
   "execution_count": 83,
   "metadata": {},
   "outputs": [
    {
     "data": {
      "text/plain": [
       "<matplotlib.legend.Legend at 0x24b834bb280>"
      ]
     },
     "execution_count": 83,
     "metadata": {},
     "output_type": "execute_result"
    },
    {
     "data": {
      "image/png": "[encoded data removed]",
      "text/plain": [
       "<Figure size 432x288 with 1 Axes>"
      ]
     },
     "metadata": {
      "needs_background": "light"
     },
     "output_type": "display_data"
    }
   ],
   "source": [
    "import matplotlib.pyplot as plt\n",
    "xvals=range(epochs)\n",
    "fig,ax=plt.subplots(1,1)\n",
    "ax.plot(xvals, myhistory.history['val_accuracy'],label='validation set accuracy')\n",
    "ax.plot(xvals, myhistory.history['accuracy'],label='train set accuracy')\n",
    "ax.set_xlabel('epochs')\n",
    "ax.set_ylabel('accuracy')\n",
    "ax.legend()"
   ]
  },
  {
   "cell_type": "code",
   "execution_count": 100,
   "metadata": {},
   "outputs": [
    {
     "name": "stdout",
     "output_type": "stream",
     "text": [
      "313/313 [==============================] - 0s 765us/step - loss: 15.4418 - accuracy: 0.9011\n",
      "0.9010999798774719 accuracy respect to the test data\n"
     ]
    }
   ],
   "source": [
    "loss, accuracy=model.evaluate(X_test, y_test)\n",
    "print(accuracy, \"accuracy respect to the test data\")"
   ]
  },
  {
   "cell_type": "markdown",
   "metadata": {},
   "source": [
    "### Fit for epochs=25, validation_split=0.05:"
   ]
  },
  {
   "cell_type": "code",
   "execution_count": 108,
   "metadata": {},
   "outputs": [],
   "source": [
    "epochs=25\n",
    "myhistory2=model.fit(nm_x, y_train,  epochs=epochs, batch_size=32, validation_split=0.1, verbose=False)"
   ]
  },
  {
   "cell_type": "code",
   "execution_count": 109,
   "metadata": {},
   "outputs": [
    {
     "name": "stdout",
     "output_type": "stream",
     "text": [
      "0.9618333578109741 validation set accuracy\n",
      "0.9746111035346985 training set accuracy\n"
     ]
    }
   ],
   "source": [
    "print(myhistory2.history['val_accuracy'][-1], \"validation set accuracy\")\n",
    "print(myhistory2.history['accuracy'][-1], \"training set accuracy\")"
   ]
  },
  {
   "cell_type": "code",
   "execution_count": 110,
   "metadata": {},
   "outputs": [
    {
     "data": {
      "text/plain": [
       "<matplotlib.legend.Legend at 0x24b85e8aca0>"
      ]
     },
     "execution_count": 110,
     "metadata": {},
     "output_type": "execute_result"
    },
    {
     "data": {
      "image/png": "[encoded data removed]",
      "text/plain": [
       "<Figure size 432x288 with 1 Axes>"
      ]
     },
     "metadata": {
      "needs_background": "light"
     },
     "output_type": "display_data"
    }
   ],
   "source": [
    "xvals=range(epochs)\n",
    "fig,ax=plt.subplots(1,1)\n",
    "ax.plot(xvals, myhistory2.history['val_accuracy'],label='validation set accuracy')\n",
    "ax.plot(xvals, myhistory2.history['accuracy'],label='train set accuracy')\n",
    "ax.set_xlabel('epochs')\n",
    "ax.set_ylabel('accuracy')\n",
    "ax.legend()"
   ]
  },
  {
   "cell_type": "code",
   "execution_count": 111,
   "metadata": {},
   "outputs": [
    {
     "name": "stdout",
     "output_type": "stream",
     "text": [
      "313/313 [==============================] - 0s 726us/step - loss: 18.6105 - accuracy: 0.9191\n",
      "0.9190999865531921 accuracy respect to the test data\n"
     ]
    }
   ],
   "source": [
    "loss, accuracy=model.evaluate(X_test, y_test)\n",
    "print(accuracy, \"accuracy respect to the test data\")"
   ]
  },
  {
   "cell_type": "markdown",
   "metadata": {},
   "source": [
    "Conclution: In this case, training data is getting train but validation data no, this is the case of a overfitting.\n",
    "Clearly, the accuracy is better in a overfit but we can not trust in this result with respect to the test data."
   ]
  },
  {
   "cell_type": "markdown",
   "metadata": {},
   "source": [
    "## make predictions"
   ]
  },
  {
   "cell_type": "markdown",
   "metadata": {},
   "source": [
    "I made a prediction using the result in the epochs=10,validation_split=0.1, this is the results"
   ]
  },
  {
   "cell_type": "code",
   "execution_count": 86,
   "metadata": {},
   "outputs": [
    {
     "data": {
      "text/plain": [
       "array([7, 2, 1, ..., 4, 5, 6], dtype=uint8)"
      ]
     },
     "execution_count": 86,
     "metadata": {},
     "output_type": "execute_result"
    }
   ],
   "source": [
    "y_test # results to compare"
   ]
  },
  {
   "cell_type": "code",
   "execution_count": 85,
   "metadata": {},
   "outputs": [],
   "source": [
    "y_predicted = model.predict(X_test) # make the prediction"
   ]
  },
  {
   "cell_type": "code",
   "execution_count": 95,
   "metadata": {},
   "outputs": [
    {
     "data": {
      "text/plain": [
       "array([[0., 0., 0., ..., 1., 0., 0.],\n",
       "       [0., 0., 1., ..., 0., 0., 0.],\n",
       "       [0., 1., 0., ..., 0., 0., 0.],\n",
       "       ...,\n",
       "       [0., 0., 0., ..., 0., 0., 1.],\n",
       "       [0., 0., 0., ..., 0., 0., 0.],\n",
       "       [0., 0., 0., ..., 0., 0., 0.]], dtype=float32)"
      ]
     },
     "execution_count": 95,
     "metadata": {},
     "output_type": "execute_result"
    }
   ],
   "source": [
    "np.ceil(y_predicted) # the prediction was showed in the one-hot encoding"
   ]
  },
  {
   "cell_type": "code",
   "execution_count": 88,
   "metadata": {},
   "outputs": [
    {
     "data": {
      "text/plain": [
       "array([7, 2, 1, ..., 4, 5, 6], dtype=int64)"
      ]
     },
     "execution_count": 88,
     "metadata": {},
     "output_type": "execute_result"
    }
   ],
   "source": [
    "y_p2 = np.argmax(y_predicted, axis=1) # using np.argmax, I transform one-hot encoding to numerical encoding\n",
    "y_p2"
   ]
  },
  {
   "cell_type": "markdown",
   "metadata": {},
   "source": [
    "### plot the results for the prediction"
   ]
  },
  {
   "cell_type": "code",
   "execution_count": 90,
   "metadata": {},
   "outputs": [
    {
     "data": {
      "image/png": "[encoded data removed]",
      "text/plain": [
       "<Figure size 720x720 with 25 Axes>"
      ]
     },
     "metadata": {
      "needs_background": "light"
     },
     "output_type": "display_data"
    }
   ],
   "source": [
    "fig, ax = plt.subplots(5,5, figsize=(10,10),constrained_layout=True) # figure 5x5 images\n",
    "#np.random.seed(30) # random seed to find bad aproximations.\n",
    "for i in range(5): # horizontal axis\n",
    "    for j in range(5): # vertical axis\n",
    "        r = np.random.randint(len(X_test)) # pick a random number \n",
    "        image = X_test[r][:-1]\n",
    "        ax[i,j].imshow(image,cmap=plt.cm.gray) # divide the random row in 28x28 arrays and draw in a plot. \n",
    "        ax[i,j].set_title('pred={},actual={}'.format(y_p2[r],y_test[r])) # Title of the respective number"
   ]
  },
  {
   "cell_type": "markdown",
   "metadata": {},
   "source": [
    "We can see that using neural networks we can increse the accuracy for the prediction, in the previous homework the accuracy of the nmist prediction was 0.875, using a sequential model with the sgd optimizer, we obtein a accuracy of 0.90."
   ]
  }
 ],
 "metadata": {
  "interpreter": {
   "hash": "d6a77456f75fe6d6c9aa4474b4a015d3323fe86e0563bb51da2b85b23d00b51b"
  },
  "kernelspec": {
   "display_name": "Python 3.8.8 ('base')",
   "language": "python",
   "name": "python3"
  },
  "language_info": {
   "codemirror_mode": {
    "name": "ipython",
    "version": 3
   },
   "file_extension": ".py",
   "mimetype": "text/x-python",
   "name": "python",
   "nbconvert_exporter": "python",
   "pygments_lexer": "ipython3",
   "version": "3.8.8"
  },
  "orig_nbformat": 4
 },
 "nbformat": 4,
 "nbformat_minor": 2
}
