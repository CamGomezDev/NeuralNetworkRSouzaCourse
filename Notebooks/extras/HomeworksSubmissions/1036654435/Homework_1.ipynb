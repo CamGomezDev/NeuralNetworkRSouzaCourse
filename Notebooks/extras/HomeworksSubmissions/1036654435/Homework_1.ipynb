{
 "cells": [
  {
   "cell_type": "code",
   "execution_count": 4,
   "metadata": {},
   "outputs": [],
   "source": [
    "# import library\n",
    "import numpy as np"
   ]
  },
  {
   "cell_type": "markdown",
   "metadata": {},
   "source": [
    "# Example 1"
   ]
  },
  {
   "cell_type": "code",
   "execution_count": 93,
   "metadata": {},
   "outputs": [
    {
     "name": "stdout",
     "output_type": "stream",
     "text": [
      "Matrix A:\n",
      "[[1 2 3]] \n",
      "\n",
      "Matrix B:\n",
      "[[1]\n",
      " [1]\n",
      " [0]]\n"
     ]
    }
   ],
   "source": [
    "A = np.array([[1,2,3]])\n",
    "print(\"Matrix A:\")\n",
    "print(A,\"\\n\")\n",
    "\n",
    "B = np.array([[1],[1],[0]])\n",
    "print(\"Matrix B:\")\n",
    "print(B)"
   ]
  },
  {
   "cell_type": "markdown",
   "metadata": {},
   "source": [
    "# Example 2"
   ]
  },
  {
   "cell_type": "code",
   "execution_count": 94,
   "metadata": {},
   "outputs": [
    {
     "name": "stdout",
     "output_type": "stream",
     "text": [
      "Matrix A:\n",
      "[[1 2 3]\n",
      " [4 5 6]\n",
      " [1 2 3]] \n",
      "\n",
      "Matrix B:\n",
      "[[1 1 0]\n",
      " [1 0 1]\n",
      " [1 1 1]]\n"
     ]
    }
   ],
   "source": [
    "A = np.array([[1,2,3],[4,5,6],[1,2,3]])\n",
    "print(\"Matrix A:\")\n",
    "print(A,\"\\n\")\n",
    "\n",
    "B = np.array([[1,1,0],[1,0,1],[1,1,1]])\n",
    "print(\"Matrix B:\")\n",
    "print(B)"
   ]
  },
  {
   "cell_type": "markdown",
   "metadata": {},
   "source": [
    "# Example 3"
   ]
  },
  {
   "cell_type": "code",
   "execution_count": 95,
   "metadata": {},
   "outputs": [
    {
     "name": "stdout",
     "output_type": "stream",
     "text": [
      "Matrix A:\n",
      "[[1 1 2 2]\n",
      " [2 2 1 1]\n",
      " [1 1 1 2]] \n",
      "\n",
      "Matrix B:\n",
      "[[2 3]\n",
      " [4 5]\n",
      " [6 7]\n",
      " [8 9]]\n"
     ]
    }
   ],
   "source": [
    "A = np.array([[1,1,2,2],[2,2,1,1],[1,1,1,2]])\n",
    "print(\"Matrix A:\")\n",
    "print(A,\"\\n\")\n",
    "\n",
    "B = np.array([[2,3],[4,5],[6,7],[8,9]])\n",
    "print(\"Matrix B:\")\n",
    "print(B)"
   ]
  },
  {
   "cell_type": "markdown",
   "metadata": {},
   "source": [
    "# Matrix Multiplication code"
   ]
  },
  {
   "cell_type": "code",
   "execution_count": 77,
   "metadata": {},
   "outputs": [],
   "source": [
    "def MatrixMultiplication(a,b):\n",
    "    '''\n",
    "    given any matrix A and B, this function perform\n",
    "    a matrix multiplication between them if it can be done.\n",
    "    '''\n",
    "    C = np.zeros([A.shape[0],B.shape[1]]) # Result matrix shape.\n",
    "    if (A.shape[1] != B.shape[0]): return print(\"ERROR\") # if A dim is (n1xm1) and B dim is (n2xm2), multiplication can be done if m1=n2.\n",
    "    else:\n",
    "        r = A.shape[1]\n",
    "        for i in range(A.shape[0]):\n",
    "            for j in range(B.shape[1]):\n",
    "                for k in range(r):\n",
    "                    C[i,j] += A[i,k]*B[k,j] \n",
    "    \n",
    "    return C"
   ]
  },
  {
   "cell_type": "markdown",
   "metadata": {},
   "source": [
    "# Result 1"
   ]
  },
  {
   "cell_type": "code",
   "execution_count": 87,
   "metadata": {},
   "outputs": [
    {
     "name": "stdout",
     "output_type": "stream",
     "text": [
      "[[3.]]\n"
     ]
    }
   ],
   "source": [
    "d = MatrixMultiplication(A,B)\n",
    "print(d)"
   ]
  },
  {
   "cell_type": "markdown",
   "metadata": {},
   "source": [
    "# Result 2"
   ]
  },
  {
   "cell_type": "code",
   "execution_count": 89,
   "metadata": {},
   "outputs": [
    {
     "name": "stdout",
     "output_type": "stream",
     "text": [
      "[[ 6.  4.  5.]\n",
      " [15. 10. 11.]\n",
      " [ 6.  4.  5.]]\n"
     ]
    }
   ],
   "source": [
    "d = MatrixMultiplication(A,B)\n",
    "print(d)"
   ]
  },
  {
   "cell_type": "markdown",
   "metadata": {},
   "source": [
    "# Result 3"
   ]
  },
  {
   "cell_type": "code",
   "execution_count": 91,
   "metadata": {},
   "outputs": [
    {
     "name": "stdout",
     "output_type": "stream",
     "text": [
      "[[34. 40.]\n",
      " [26. 32.]\n",
      " [28. 33.]]\n"
     ]
    }
   ],
   "source": [
    "d = MatrixMultiplication(A,B)\n",
    "print(d)"
   ]
  }
 ],
 "metadata": {
  "interpreter": {
   "hash": "d6a77456f75fe6d6c9aa4474b4a015d3323fe86e0563bb51da2b85b23d00b51b"
  },
  "kernelspec": {
   "display_name": "Python 3.8.8 64-bit ('base': conda)",
   "language": "python",
   "name": "python3"
  },
  "language_info": {
   "codemirror_mode": {
    "name": "ipython",
    "version": 3
   },
   "file_extension": ".py",
   "mimetype": "text/x-python",
   "name": "python",
   "nbconvert_exporter": "python",
   "pygments_lexer": "ipython3",
   "version": "3.8.8"
  },
  "orig_nbformat": 4
 },
 "nbformat": 4,
 "nbformat_minor": 2
}
