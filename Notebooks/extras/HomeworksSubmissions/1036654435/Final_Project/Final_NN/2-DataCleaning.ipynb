{
 "cells": [
  {
   "cell_type": "code",
   "execution_count": 51,
   "metadata": {},
   "outputs": [],
   "source": [
    "# Importamos librerias especificas\n",
    "import os\n",
    "import numpy as np\n",
    "import pandas as pd\n",
    "import matplotlib.pyplot as plt\n",
    "from scipy.interpolate import interp1d"
   ]
  },
  {
   "cell_type": "code",
   "execution_count": 52,
   "metadata": {},
   "outputs": [
    {
     "data": {
      "text/html": [
       "<div>\n",
       "<style scoped>\n",
       "    .dataframe tbody tr th:only-of-type {\n",
       "        vertical-align: middle;\n",
       "    }\n",
       "\n",
       "    .dataframe tbody tr th {\n",
       "        vertical-align: top;\n",
       "    }\n",
       "\n",
       "    .dataframe thead th {\n",
       "        text-align: right;\n",
       "    }\n",
       "</style>\n",
       "<table border=\"1\" class=\"dataframe\">\n",
       "  <thead>\n",
       "    <tr style=\"text-align: right;\">\n",
       "      <th></th>\n",
       "      <th>nombre</th>\n",
       "      <th>smass</th>\n",
       "      <th>file</th>\n",
       "    </tr>\n",
       "  </thead>\n",
       "  <tbody>\n",
       "    <tr>\n",
       "      <th>0</th>\n",
       "      <td>Abehiroshi</td>\n",
       "      <td>V</td>\n",
       "      <td>a005379.sp51.txt</td>\n",
       "    </tr>\n",
       "    <tr>\n",
       "      <th>1</th>\n",
       "      <td>Senrikyu</td>\n",
       "      <td>B</td>\n",
       "      <td>a005330.sp290n1.txt</td>\n",
       "    </tr>\n",
       "    <tr>\n",
       "      <th>2</th>\n",
       "      <td>Burbine</td>\n",
       "      <td>S</td>\n",
       "      <td>a005159.sp201n1.txt</td>\n",
       "    </tr>\n",
       "    <tr>\n",
       "      <th>3</th>\n",
       "      <td>Robinson</td>\n",
       "      <td>Sr</td>\n",
       "      <td>a003819.sp84.txt</td>\n",
       "    </tr>\n",
       "    <tr>\n",
       "      <th>4</th>\n",
       "      <td>Paris</td>\n",
       "      <td>T</td>\n",
       "      <td>a003317.sp50.txt</td>\n",
       "    </tr>\n",
       "  </tbody>\n",
       "</table>\n",
       "</div>"
      ],
      "text/plain": [
       "       nombre smass                 file\n",
       "0  Abehiroshi     V     a005379.sp51.txt\n",
       "1    Senrikyu     B  a005330.sp290n1.txt\n",
       "2     Burbine     S  a005159.sp201n1.txt\n",
       "3    Robinson    Sr     a003819.sp84.txt\n",
       "4       Paris     T     a003317.sp50.txt"
      ]
     },
     "execution_count": 52,
     "metadata": {},
     "output_type": "execute_result"
    }
   ],
   "source": [
    "# importamos la data creada en el WebScrapping.ipynb\n",
    "asteroid_df_final = pd.read_csv(\"Data/asteroid_df_final.txt\",sep=\"\\t\")\n",
    "asteroid_df_final.head()"
   ]
  },
  {
   "cell_type": "code",
   "execution_count": 53,
   "metadata": {},
   "outputs": [],
   "source": [
    "asteroid_df_final.drop(2,axis=0,inplace=True)\n",
    "asteroid_df_final.index = range(len(asteroid_df_final))"
   ]
  },
  {
   "cell_type": "code",
   "execution_count": 54,
   "metadata": {},
   "outputs": [
    {
     "data": {
      "text/plain": [
       "(160, 3)"
      ]
     },
     "execution_count": 54,
     "metadata": {},
     "output_type": "execute_result"
    }
   ],
   "source": [
    "asteroid_df_final.shape"
   ]
  },
  {
   "cell_type": "code",
   "execution_count": 55,
   "metadata": {},
   "outputs": [],
   "source": [
    "# Se crea una lista de los dataframes asociados a cada file de cada espectro con nombre dentro de VIS_NIR/.\n",
    "df_list = []\n",
    "for i in range(asteroid_df_final.shape[0]):\n",
    "    df = pd.read_csv(\"VIS_NIR/{}\".format(asteroid_df_final.file[i]), delim_whitespace=True, names = ['wavelenght', 'intensity', 'error', '-'])\n",
    "    df.drop(['error', '-'], axis=1, inplace=True)\n",
    "    df_list.append(df)"
   ]
  },
  {
   "cell_type": "code",
   "execution_count": 56,
   "metadata": {},
   "outputs": [],
   "source": [
    "# Elimina los valores duplicados en la columna wavelenght que impiden realizar la interpolacion.\n",
    "for i in range(len(df_list)):\n",
    "    df_list[i].index = range(len(df_list[i]))\n",
    "    ast_index = df_list[i][df_list[i].wavelenght.duplicated()].index\n",
    "    df_list[i].drop(ast_index, inplace=True)"
   ]
  },
  {
   "cell_type": "code",
   "execution_count": 57,
   "metadata": {},
   "outputs": [
    {
     "data": {
      "text/html": [
       "<div>\n",
       "<style scoped>\n",
       "    .dataframe tbody tr th:only-of-type {\n",
       "        vertical-align: middle;\n",
       "    }\n",
       "\n",
       "    .dataframe tbody tr th {\n",
       "        vertical-align: top;\n",
       "    }\n",
       "\n",
       "    .dataframe thead th {\n",
       "        text-align: right;\n",
       "    }\n",
       "</style>\n",
       "<table border=\"1\" class=\"dataframe\">\n",
       "  <thead>\n",
       "    <tr style=\"text-align: right;\">\n",
       "      <th></th>\n",
       "      <th>wavelenght</th>\n",
       "      <th>intensity</th>\n",
       "    </tr>\n",
       "  </thead>\n",
       "  <tbody>\n",
       "    <tr>\n",
       "      <th>0</th>\n",
       "      <td>0.4350</td>\n",
       "      <td>0.7190</td>\n",
       "    </tr>\n",
       "    <tr>\n",
       "      <th>1</th>\n",
       "      <td>0.4375</td>\n",
       "      <td>0.7323</td>\n",
       "    </tr>\n",
       "    <tr>\n",
       "      <th>2</th>\n",
       "      <td>0.4400</td>\n",
       "      <td>0.7803</td>\n",
       "    </tr>\n",
       "    <tr>\n",
       "      <th>3</th>\n",
       "      <td>0.4425</td>\n",
       "      <td>0.7416</td>\n",
       "    </tr>\n",
       "    <tr>\n",
       "      <th>4</th>\n",
       "      <td>0.4450</td>\n",
       "      <td>0.7912</td>\n",
       "    </tr>\n",
       "    <tr>\n",
       "      <th>...</th>\n",
       "      <td>...</td>\n",
       "      <td>...</td>\n",
       "    </tr>\n",
       "    <tr>\n",
       "      <th>516</th>\n",
       "      <td>2.4700</td>\n",
       "      <td>-1.0000</td>\n",
       "    </tr>\n",
       "    <tr>\n",
       "      <th>517</th>\n",
       "      <td>2.4750</td>\n",
       "      <td>-1.0000</td>\n",
       "    </tr>\n",
       "    <tr>\n",
       "      <th>518</th>\n",
       "      <td>2.4800</td>\n",
       "      <td>-1.0000</td>\n",
       "    </tr>\n",
       "    <tr>\n",
       "      <th>519</th>\n",
       "      <td>2.4850</td>\n",
       "      <td>-1.0000</td>\n",
       "    </tr>\n",
       "    <tr>\n",
       "      <th>520</th>\n",
       "      <td>2.4900</td>\n",
       "      <td>-1.0000</td>\n",
       "    </tr>\n",
       "  </tbody>\n",
       "</table>\n",
       "<p>492 rows × 2 columns</p>\n",
       "</div>"
      ],
      "text/plain": [
       "     wavelenght  intensity\n",
       "0        0.4350     0.7190\n",
       "1        0.4375     0.7323\n",
       "2        0.4400     0.7803\n",
       "3        0.4425     0.7416\n",
       "4        0.4450     0.7912\n",
       "..          ...        ...\n",
       "516      2.4700    -1.0000\n",
       "517      2.4750    -1.0000\n",
       "518      2.4800    -1.0000\n",
       "519      2.4850    -1.0000\n",
       "520      2.4900    -1.0000\n",
       "\n",
       "[492 rows x 2 columns]"
      ]
     },
     "execution_count": 57,
     "metadata": {},
     "output_type": "execute_result"
    }
   ],
   "source": [
    "df_list[2]"
   ]
  },
  {
   "cell_type": "code",
   "execution_count": 58,
   "metadata": {},
   "outputs": [],
   "source": [
    "# Se define f como la funcion de interpolacion (diferente para cada espectro) por esto es una lista de todas las interpolaciones\n",
    "# Tener en cuenta que y_temp asociado a los valores de intencidad son positivos, por lo que se utiliza valor absoluto\n",
    "# Se utiliza interpolacion cubica para obtener la mejor aproximacion de los nuevos datos a los datos experimentales antiguos.\n",
    "f = []\n",
    "x = []\n",
    "for i in df_list:\n",
    "    x_temp = i.wavelenght\n",
    "    y_temp = np.abs(i.intensity)\n",
    "    f.append(interp1d(x_temp,y_temp,kind='cubic'))"
   ]
  },
  {
   "cell_type": "code",
   "execution_count": 59,
   "metadata": {},
   "outputs": [],
   "source": [
    "# Se define los nuevos valores de x (wavelenght) definidos en un rango especifico que permita asignar a diferentes f, iguales x.\n",
    "x_new = np.linspace(0.45,2.45,1000,endpoint=True)\n",
    "data_spec = [i(x_new) for i in f]"
   ]
  },
  {
   "cell_type": "code",
   "execution_count": 60,
   "metadata": {},
   "outputs": [
    {
     "data": {
      "text/html": [
       "<div>\n",
       "<style scoped>\n",
       "    .dataframe tbody tr th:only-of-type {\n",
       "        vertical-align: middle;\n",
       "    }\n",
       "\n",
       "    .dataframe tbody tr th {\n",
       "        vertical-align: top;\n",
       "    }\n",
       "\n",
       "    .dataframe thead th {\n",
       "        text-align: right;\n",
       "    }\n",
       "</style>\n",
       "<table border=\"1\" class=\"dataframe\">\n",
       "  <thead>\n",
       "    <tr style=\"text-align: right;\">\n",
       "      <th></th>\n",
       "      <th>0.450000</th>\n",
       "      <th>0.452002</th>\n",
       "      <th>0.454004</th>\n",
       "      <th>0.456006</th>\n",
       "      <th>0.458008</th>\n",
       "      <th>0.460010</th>\n",
       "      <th>0.462012</th>\n",
       "      <th>0.464014</th>\n",
       "      <th>0.466016</th>\n",
       "      <th>0.468018</th>\n",
       "      <th>...</th>\n",
       "      <th>2.431982</th>\n",
       "      <th>2.433984</th>\n",
       "      <th>2.435986</th>\n",
       "      <th>2.437988</th>\n",
       "      <th>2.439990</th>\n",
       "      <th>2.441992</th>\n",
       "      <th>2.443994</th>\n",
       "      <th>2.445996</th>\n",
       "      <th>2.447998</th>\n",
       "      <th>2.450000</th>\n",
       "    </tr>\n",
       "  </thead>\n",
       "  <tbody>\n",
       "    <tr>\n",
       "      <th>0</th>\n",
       "      <td>0.9765</td>\n",
       "      <td>0.873727</td>\n",
       "      <td>0.802019</td>\n",
       "      <td>0.908693</td>\n",
       "      <td>0.992507</td>\n",
       "      <td>0.892887</td>\n",
       "      <td>0.806158</td>\n",
       "      <td>0.822114</td>\n",
       "      <td>0.824980</td>\n",
       "      <td>0.798456</td>\n",
       "      <td>...</td>\n",
       "      <td>1.453882</td>\n",
       "      <td>1.428696</td>\n",
       "      <td>1.286868</td>\n",
       "      <td>1.095002</td>\n",
       "      <td>0.999979</td>\n",
       "      <td>1.100082</td>\n",
       "      <td>1.281601</td>\n",
       "      <td>1.382604</td>\n",
       "      <td>1.370983</td>\n",
       "      <td>1.3453</td>\n",
       "    </tr>\n",
       "    <tr>\n",
       "      <th>1</th>\n",
       "      <td>1.1423</td>\n",
       "      <td>1.104633</td>\n",
       "      <td>1.062175</td>\n",
       "      <td>0.996224</td>\n",
       "      <td>0.949799</td>\n",
       "      <td>1.010879</td>\n",
       "      <td>1.060699</td>\n",
       "      <td>1.024171</td>\n",
       "      <td>1.030800</td>\n",
       "      <td>1.106784</td>\n",
       "      <td>...</td>\n",
       "      <td>0.991043</td>\n",
       "      <td>0.997508</td>\n",
       "      <td>1.001280</td>\n",
       "      <td>1.001278</td>\n",
       "      <td>1.000005</td>\n",
       "      <td>0.999570</td>\n",
       "      <td>0.999831</td>\n",
       "      <td>1.000092</td>\n",
       "      <td>1.000091</td>\n",
       "      <td>1.0000</td>\n",
       "    </tr>\n",
       "    <tr>\n",
       "      <th>2</th>\n",
       "      <td>0.8445</td>\n",
       "      <td>0.770504</td>\n",
       "      <td>0.786651</td>\n",
       "      <td>0.801385</td>\n",
       "      <td>0.780085</td>\n",
       "      <td>0.812111</td>\n",
       "      <td>0.815159</td>\n",
       "      <td>0.828218</td>\n",
       "      <td>0.823612</td>\n",
       "      <td>0.821009</td>\n",
       "      <td>...</td>\n",
       "      <td>1.696828</td>\n",
       "      <td>1.687543</td>\n",
       "      <td>1.699685</td>\n",
       "      <td>1.727674</td>\n",
       "      <td>1.741618</td>\n",
       "      <td>1.724284</td>\n",
       "      <td>1.714307</td>\n",
       "      <td>1.760465</td>\n",
       "      <td>1.817740</td>\n",
       "      <td>1.7467</td>\n",
       "    </tr>\n",
       "    <tr>\n",
       "      <th>3</th>\n",
       "      <td>0.9238</td>\n",
       "      <td>0.935045</td>\n",
       "      <td>0.928104</td>\n",
       "      <td>0.933731</td>\n",
       "      <td>0.943692</td>\n",
       "      <td>0.937315</td>\n",
       "      <td>0.953128</td>\n",
       "      <td>0.967190</td>\n",
       "      <td>0.969832</td>\n",
       "      <td>0.959735</td>\n",
       "      <td>...</td>\n",
       "      <td>2.056997</td>\n",
       "      <td>1.990262</td>\n",
       "      <td>1.979909</td>\n",
       "      <td>2.040457</td>\n",
       "      <td>1.958246</td>\n",
       "      <td>1.594457</td>\n",
       "      <td>1.155880</td>\n",
       "      <td>0.926450</td>\n",
       "      <td>0.944271</td>\n",
       "      <td>1.0000</td>\n",
       "    </tr>\n",
       "    <tr>\n",
       "      <th>4</th>\n",
       "      <td>0.8795</td>\n",
       "      <td>0.953828</td>\n",
       "      <td>0.956625</td>\n",
       "      <td>0.849646</td>\n",
       "      <td>0.784283</td>\n",
       "      <td>0.867913</td>\n",
       "      <td>0.938608</td>\n",
       "      <td>0.909334</td>\n",
       "      <td>0.893468</td>\n",
       "      <td>0.906256</td>\n",
       "      <td>...</td>\n",
       "      <td>1.482280</td>\n",
       "      <td>1.065135</td>\n",
       "      <td>1.077220</td>\n",
       "      <td>1.503595</td>\n",
       "      <td>1.945946</td>\n",
       "      <td>2.089067</td>\n",
       "      <td>2.025298</td>\n",
       "      <td>1.945494</td>\n",
       "      <td>1.926199</td>\n",
       "      <td>1.9289</td>\n",
       "    </tr>\n",
       "  </tbody>\n",
       "</table>\n",
       "<p>5 rows × 1000 columns</p>\n",
       "</div>"
      ],
      "text/plain": [
       "   0.450000  0.452002  0.454004  0.456006  0.458008  0.460010  0.462012  \\\n",
       "0    0.9765  0.873727  0.802019  0.908693  0.992507  0.892887  0.806158   \n",
       "1    1.1423  1.104633  1.062175  0.996224  0.949799  1.010879  1.060699   \n",
       "2    0.8445  0.770504  0.786651  0.801385  0.780085  0.812111  0.815159   \n",
       "3    0.9238  0.935045  0.928104  0.933731  0.943692  0.937315  0.953128   \n",
       "4    0.8795  0.953828  0.956625  0.849646  0.784283  0.867913  0.938608   \n",
       "\n",
       "   0.464014  0.466016  0.468018  ...  2.431982  2.433984  2.435986  2.437988  \\\n",
       "0  0.822114  0.824980  0.798456  ...  1.453882  1.428696  1.286868  1.095002   \n",
       "1  1.024171  1.030800  1.106784  ...  0.991043  0.997508  1.001280  1.001278   \n",
       "2  0.828218  0.823612  0.821009  ...  1.696828  1.687543  1.699685  1.727674   \n",
       "3  0.967190  0.969832  0.959735  ...  2.056997  1.990262  1.979909  2.040457   \n",
       "4  0.909334  0.893468  0.906256  ...  1.482280  1.065135  1.077220  1.503595   \n",
       "\n",
       "   2.439990  2.441992  2.443994  2.445996  2.447998  2.450000  \n",
       "0  0.999979  1.100082  1.281601  1.382604  1.370983    1.3453  \n",
       "1  1.000005  0.999570  0.999831  1.000092  1.000091    1.0000  \n",
       "2  1.741618  1.724284  1.714307  1.760465  1.817740    1.7467  \n",
       "3  1.958246  1.594457  1.155880  0.926450  0.944271    1.0000  \n",
       "4  1.945946  2.089067  2.025298  1.945494  1.926199    1.9289  \n",
       "\n",
       "[5 rows x 1000 columns]"
      ]
     },
     "execution_count": 60,
     "metadata": {},
     "output_type": "execute_result"
    }
   ],
   "source": [
    "# Se construye el nuevo y final dataframe con las columnas que requerimos para analizar.\n",
    "data = pd.DataFrame(data_spec,columns=x_new)\n",
    "data.head()"
   ]
  },
  {
   "cell_type": "code",
   "execution_count": 61,
   "metadata": {},
   "outputs": [],
   "source": [
    "# Se agrega al nuevo dataframe la columna predictora \"spect_b\" y el nombre del asteroide respectivo\n",
    "data[\"spect_b\"] = asteroid_df_final.smass\n",
    "data[\"name\"] = asteroid_df_final.nombre"
   ]
  },
  {
   "cell_type": "code",
   "execution_count": 62,
   "metadata": {},
   "outputs": [],
   "source": [
    "# Se crea una lista de columnas con el order adecuado para mostrar \"name\" y \"spect_b\" al inicio.\n",
    "n_col = [data.columns[-1],data.columns[-2]]\n",
    "for i in data.columns[:-2].tolist():\n",
    "    n_col.append(i)\n",
    "\n",
    "# Se reorganiza el dataframe\n",
    "data = data[n_col]"
   ]
  },
  {
   "cell_type": "code",
   "execution_count": 63,
   "metadata": {},
   "outputs": [
    {
     "data": {
      "text/html": [
       "<div>\n",
       "<style scoped>\n",
       "    .dataframe tbody tr th:only-of-type {\n",
       "        vertical-align: middle;\n",
       "    }\n",
       "\n",
       "    .dataframe tbody tr th {\n",
       "        vertical-align: top;\n",
       "    }\n",
       "\n",
       "    .dataframe thead th {\n",
       "        text-align: right;\n",
       "    }\n",
       "</style>\n",
       "<table border=\"1\" class=\"dataframe\">\n",
       "  <thead>\n",
       "    <tr style=\"text-align: right;\">\n",
       "      <th></th>\n",
       "      <th>name</th>\n",
       "      <th>spect_b</th>\n",
       "      <th>0.45</th>\n",
       "      <th>0.452002002002002</th>\n",
       "      <th>0.45400400400400404</th>\n",
       "      <th>0.456006006006006</th>\n",
       "      <th>0.458008008008008</th>\n",
       "      <th>0.46001001001001</th>\n",
       "      <th>0.46201201201201203</th>\n",
       "      <th>0.46401401401401404</th>\n",
       "      <th>...</th>\n",
       "      <th>2.431981981981982</th>\n",
       "      <th>2.433983983983984</th>\n",
       "      <th>2.4359859859859863</th>\n",
       "      <th>2.437987987987988</th>\n",
       "      <th>2.43998998998999</th>\n",
       "      <th>2.441991991991992</th>\n",
       "      <th>2.443993993993994</th>\n",
       "      <th>2.4459959959959963</th>\n",
       "      <th>2.447997997997998</th>\n",
       "      <th>2.45</th>\n",
       "    </tr>\n",
       "  </thead>\n",
       "  <tbody>\n",
       "    <tr>\n",
       "      <th>0</th>\n",
       "      <td>Abehiroshi</td>\n",
       "      <td>V</td>\n",
       "      <td>0.9765</td>\n",
       "      <td>0.873727</td>\n",
       "      <td>0.802019</td>\n",
       "      <td>0.908693</td>\n",
       "      <td>0.992507</td>\n",
       "      <td>0.892887</td>\n",
       "      <td>0.806158</td>\n",
       "      <td>0.822114</td>\n",
       "      <td>...</td>\n",
       "      <td>1.453882</td>\n",
       "      <td>1.428696</td>\n",
       "      <td>1.286868</td>\n",
       "      <td>1.095002</td>\n",
       "      <td>0.999979</td>\n",
       "      <td>1.100082</td>\n",
       "      <td>1.281601</td>\n",
       "      <td>1.382604</td>\n",
       "      <td>1.370983</td>\n",
       "      <td>1.3453</td>\n",
       "    </tr>\n",
       "    <tr>\n",
       "      <th>1</th>\n",
       "      <td>Senrikyu</td>\n",
       "      <td>B</td>\n",
       "      <td>1.1423</td>\n",
       "      <td>1.104633</td>\n",
       "      <td>1.062175</td>\n",
       "      <td>0.996224</td>\n",
       "      <td>0.949799</td>\n",
       "      <td>1.010879</td>\n",
       "      <td>1.060699</td>\n",
       "      <td>1.024171</td>\n",
       "      <td>...</td>\n",
       "      <td>0.991043</td>\n",
       "      <td>0.997508</td>\n",
       "      <td>1.001280</td>\n",
       "      <td>1.001278</td>\n",
       "      <td>1.000005</td>\n",
       "      <td>0.999570</td>\n",
       "      <td>0.999831</td>\n",
       "      <td>1.000092</td>\n",
       "      <td>1.000091</td>\n",
       "      <td>1.0000</td>\n",
       "    </tr>\n",
       "    <tr>\n",
       "      <th>2</th>\n",
       "      <td>Robinson</td>\n",
       "      <td>Sr</td>\n",
       "      <td>0.8445</td>\n",
       "      <td>0.770504</td>\n",
       "      <td>0.786651</td>\n",
       "      <td>0.801385</td>\n",
       "      <td>0.780085</td>\n",
       "      <td>0.812111</td>\n",
       "      <td>0.815159</td>\n",
       "      <td>0.828218</td>\n",
       "      <td>...</td>\n",
       "      <td>1.696828</td>\n",
       "      <td>1.687543</td>\n",
       "      <td>1.699685</td>\n",
       "      <td>1.727674</td>\n",
       "      <td>1.741618</td>\n",
       "      <td>1.724284</td>\n",
       "      <td>1.714307</td>\n",
       "      <td>1.760465</td>\n",
       "      <td>1.817740</td>\n",
       "      <td>1.7467</td>\n",
       "    </tr>\n",
       "    <tr>\n",
       "      <th>3</th>\n",
       "      <td>Paris</td>\n",
       "      <td>T</td>\n",
       "      <td>0.9238</td>\n",
       "      <td>0.935045</td>\n",
       "      <td>0.928104</td>\n",
       "      <td>0.933731</td>\n",
       "      <td>0.943692</td>\n",
       "      <td>0.937315</td>\n",
       "      <td>0.953128</td>\n",
       "      <td>0.967190</td>\n",
       "      <td>...</td>\n",
       "      <td>2.056997</td>\n",
       "      <td>1.990262</td>\n",
       "      <td>1.979909</td>\n",
       "      <td>2.040457</td>\n",
       "      <td>1.958246</td>\n",
       "      <td>1.594457</td>\n",
       "      <td>1.155880</td>\n",
       "      <td>0.926450</td>\n",
       "      <td>0.944271</td>\n",
       "      <td>1.0000</td>\n",
       "    </tr>\n",
       "    <tr>\n",
       "      <th>4</th>\n",
       "      <td>Farinella</td>\n",
       "      <td>D</td>\n",
       "      <td>0.8795</td>\n",
       "      <td>0.953828</td>\n",
       "      <td>0.956625</td>\n",
       "      <td>0.849646</td>\n",
       "      <td>0.784283</td>\n",
       "      <td>0.867913</td>\n",
       "      <td>0.938608</td>\n",
       "      <td>0.909334</td>\n",
       "      <td>...</td>\n",
       "      <td>1.482280</td>\n",
       "      <td>1.065135</td>\n",
       "      <td>1.077220</td>\n",
       "      <td>1.503595</td>\n",
       "      <td>1.945946</td>\n",
       "      <td>2.089067</td>\n",
       "      <td>2.025298</td>\n",
       "      <td>1.945494</td>\n",
       "      <td>1.926199</td>\n",
       "      <td>1.9289</td>\n",
       "    </tr>\n",
       "  </tbody>\n",
       "</table>\n",
       "<p>5 rows × 1002 columns</p>\n",
       "</div>"
      ],
      "text/plain": [
       "         name spect_b    0.45  0.452002002002002  0.45400400400400404  \\\n",
       "0  Abehiroshi       V  0.9765           0.873727             0.802019   \n",
       "1    Senrikyu       B  1.1423           1.104633             1.062175   \n",
       "2    Robinson      Sr  0.8445           0.770504             0.786651   \n",
       "3       Paris       T  0.9238           0.935045             0.928104   \n",
       "4   Farinella       D  0.8795           0.953828             0.956625   \n",
       "\n",
       "   0.456006006006006  0.458008008008008  0.46001001001001  \\\n",
       "0           0.908693           0.992507          0.892887   \n",
       "1           0.996224           0.949799          1.010879   \n",
       "2           0.801385           0.780085          0.812111   \n",
       "3           0.933731           0.943692          0.937315   \n",
       "4           0.849646           0.784283          0.867913   \n",
       "\n",
       "   0.46201201201201203  0.46401401401401404  ...  2.431981981981982  \\\n",
       "0             0.806158             0.822114  ...           1.453882   \n",
       "1             1.060699             1.024171  ...           0.991043   \n",
       "2             0.815159             0.828218  ...           1.696828   \n",
       "3             0.953128             0.967190  ...           2.056997   \n",
       "4             0.938608             0.909334  ...           1.482280   \n",
       "\n",
       "   2.433983983983984  2.4359859859859863  2.437987987987988  2.43998998998999  \\\n",
       "0           1.428696            1.286868           1.095002          0.999979   \n",
       "1           0.997508            1.001280           1.001278          1.000005   \n",
       "2           1.687543            1.699685           1.727674          1.741618   \n",
       "3           1.990262            1.979909           2.040457          1.958246   \n",
       "4           1.065135            1.077220           1.503595          1.945946   \n",
       "\n",
       "   2.441991991991992  2.443993993993994  2.4459959959959963  \\\n",
       "0           1.100082           1.281601            1.382604   \n",
       "1           0.999570           0.999831            1.000092   \n",
       "2           1.724284           1.714307            1.760465   \n",
       "3           1.594457           1.155880            0.926450   \n",
       "4           2.089067           2.025298            1.945494   \n",
       "\n",
       "   2.447997997997998    2.45  \n",
       "0           1.370983  1.3453  \n",
       "1           1.000091  1.0000  \n",
       "2           1.817740  1.7467  \n",
       "3           0.944271  1.0000  \n",
       "4           1.926199  1.9289  \n",
       "\n",
       "[5 rows x 1002 columns]"
      ]
     },
     "execution_count": 63,
     "metadata": {},
     "output_type": "execute_result"
    }
   ],
   "source": [
    "data.head()"
   ]
  },
  {
   "cell_type": "code",
   "execution_count": 64,
   "metadata": {},
   "outputs": [
    {
     "data": {
      "text/plain": [
       "(160, 1002)"
      ]
     },
     "execution_count": 64,
     "metadata": {},
     "output_type": "execute_result"
    }
   ],
   "source": [
    "data.shape # Verificamos que el tamaño sea el acordado."
   ]
  },
  {
   "cell_type": "code",
   "execution_count": 65,
   "metadata": {},
   "outputs": [],
   "source": [
    "# Se crea un archivo de texto que almacene el nuevo dataset que se utilizara para realizar predicciones.\n",
    "data.to_csv(\"Data/data_final.txt\",sep=\"\\t\",index=None)"
   ]
  },
  {
   "cell_type": "markdown",
   "metadata": {},
   "source": [
    "# -----------------------------------\n",
    "## Explicacion de los rangos elegidos:\n"
   ]
  },
  {
   "cell_type": "markdown",
   "metadata": {},
   "source": []
  },
  {
   "cell_type": "code",
   "execution_count": 66,
   "metadata": {},
   "outputs": [],
   "source": [
    "# Se toma los valores maximos y minimos de todos los dataframe de cada espectro y los almacenamos respectivamente en a y b\n",
    "a = []\n",
    "b = []\n",
    "for i in df_list:\n",
    "    a.append(max(i.wavelenght))\n",
    "    b.append(min(i.wavelenght))"
   ]
  },
  {
   "cell_type": "code",
   "execution_count": 67,
   "metadata": {},
   "outputs": [
    {
     "data": {
      "text/plain": [
       "2.49    157\n",
       "2.45      3\n",
       "Name: 0, dtype: int64"
      ]
     },
     "execution_count": 67,
     "metadata": {},
     "output_type": "execute_result"
    }
   ],
   "source": [
    "# Se observa que como el rango de interpolacion debe ser igual para todo, en el maximo existen 3 espectros que generan problemas\n",
    "# Con el fin de conservar los asteroides a costo de perder informacion de longitudes de onda, se limitara el rango de interpolacion a 2.45 como maximo.\n",
    "a_pd = pd.DataFrame({'0':a,'1':b})\n",
    "a_pd['0'].value_counts()"
   ]
  },
  {
   "cell_type": "code",
   "execution_count": 68,
   "metadata": {},
   "outputs": [
    {
     "data": {
      "image/png": "[encoded data removed]",
      "text/plain": [
       "<Figure size 432x288 with 1 Axes>"
      ]
     },
     "metadata": {
      "needs_background": "light"
     },
     "output_type": "display_data"
    }
   ],
   "source": [
    "# graficamente solo se conserva los datos dentro de la franja amarilla\n",
    "xx = df_list[-1].wavelenght\n",
    "yy = np.abs(df_list[-1].intensity)\n",
    "\n",
    "plt.plot(xx,yy)\n",
    "plt.axvline(x=2.45,color='y')\n",
    "plt.fill_between(x=xx[:496],y1=min(yy),y2=max(yy),color='y',alpha=0.2)\n",
    "plt.xlabel(\"wavelenght\")\n",
    "plt.ylabel(\"intensity\")\n",
    "plt.show()"
   ]
  },
  {
   "cell_type": "code",
   "execution_count": 69,
   "metadata": {},
   "outputs": [
    {
     "data": {
      "text/plain": [
       "0.4350    152\n",
       "0.4400      5\n",
       "0.4500      2\n",
       "0.4375      1\n",
       "Name: 1, dtype: int64"
      ]
     },
     "execution_count": 69,
     "metadata": {},
     "output_type": "execute_result"
    }
   ],
   "source": [
    "# Similarmente se observa el rango minimo, donde se utilizara 0.45 como el valor minimo del rango de interpolacion\n",
    "a_pd['1'].value_counts()"
   ]
  },
  {
   "cell_type": "code",
   "execution_count": 70,
   "metadata": {},
   "outputs": [
    {
     "data": {
      "image/png": "[encoded data removed]",
      "text/plain": [
       "<Figure size 432x288 with 1 Axes>"
      ]
     },
     "metadata": {
      "needs_background": "light"
     },
     "output_type": "display_data"
    }
   ],
   "source": [
    "# graficamente solo se conserva los datos dentro de la franja amarilla\n",
    "# notamos que en en total se perdieron 24 datos de longitudes de onda, pero pudimos conservar los asteroides para tener mas datos de analisis.\n",
    "xx = df_list[-1].wavelenght\n",
    "yy = np.abs(df_list[-1].intensity)\n",
    "\n",
    "plt.plot(xx,yy)\n",
    "plt.axvline(x=2.45,color='y')\n",
    "plt.axvline(x=0.45,color='y')\n",
    "plt.fill_between(x=xx[6:496],y1=min(yy),y2=max(yy),color='y',alpha=0.2)\n",
    "\n",
    "plt.xlabel(\"wavelenght\")\n",
    "plt.ylabel(\"intensity\")\n",
    "plt.show()"
   ]
  },
  {
   "cell_type": "code",
   "execution_count": null,
   "metadata": {},
   "outputs": [],
   "source": []
  }
 ],
 "metadata": {
  "interpreter": {
   "hash": "d6a77456f75fe6d6c9aa4474b4a015d3323fe86e0563bb51da2b85b23d00b51b"
  },
  "kernelspec": {
   "display_name": "Python 3.8.8 ('base')",
   "language": "python",
   "name": "python3"
  },
  "language_info": {
   "codemirror_mode": {
    "name": "ipython",
    "version": 3
   },
   "file_extension": ".py",
   "mimetype": "text/x-python",
   "name": "python",
   "nbconvert_exporter": "python",
   "pygments_lexer": "ipython3",
   "version": "3.8.8"
  },
  "orig_nbformat": 4
 },
 "nbformat": 4,
 "nbformat_minor": 2
}
