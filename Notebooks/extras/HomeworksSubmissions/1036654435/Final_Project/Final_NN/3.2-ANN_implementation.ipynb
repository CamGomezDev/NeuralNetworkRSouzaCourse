{
 "cells": [
  {
   "cell_type": "markdown",
   "metadata": {},
   "source": [
    "# Implementacion de redes neuronales para predecir clasificacion de asteroides\n",
    "Se realiza un modelo Secuencial, utilizando softmax como activacion en output, categorical crossentropy como funcion de perdida y 'sgd' como optimizador"
   ]
  },
  {
   "cell_type": "code",
   "execution_count": 1,
   "metadata": {},
   "outputs": [],
   "source": [
    "# Pandas - Numpy - Seaborn - Matplotlib (import data, manipulation, graphication)\n",
    "import pandas as pd\n",
    "import numpy as np\n",
    "import seaborn as sns \n",
    "import matplotlib.pyplot as plt\n",
    "\n",
    "# Scikit-learn (train|test split, scaler)\n",
    "from sklearn.preprocessing import StandardScaler\n",
    "from sklearn.model_selection import train_test_split\n",
    "from sklearn.metrics import confusion_matrix\n",
    "\n",
    "# TensorFlow - Keras (Model, layers)\n",
    "from tensorflow.keras.models import Sequential\n",
    "from tensorflow.keras.layers import InputLayer, Dense"
   ]
  },
  {
   "cell_type": "markdown",
   "metadata": {},
   "source": [
    "### Modelo utilizando los datos generados por el Autoencoder"
   ]
  },
  {
   "cell_type": "code",
   "execution_count": 2,
   "metadata": {},
   "outputs": [],
   "source": [
    "X_train_ae1 = pd.read_csv(\"Data/X_data_autoencoded1.csv\") # Se obtiene el resultado del autoencoder para X_train\n",
    "X_train_ae1 = X_train_ae1.to_numpy() # Se convierte a un arreglo de numpy"
   ]
  },
  {
   "cell_type": "code",
   "execution_count": 3,
   "metadata": {},
   "outputs": [],
   "source": [
    "X_test_ae1 = pd.read_csv(\"Data/X_test_autoencoded1.csv\") # Se obtiene el resultado del autoencoder para X_test\n",
    "X_test_ae1 = X_test_ae1.to_numpy() # Se convierte a un arreglo de numpy"
   ]
  },
  {
   "cell_type": "code",
   "execution_count": 4,
   "metadata": {},
   "outputs": [],
   "source": [
    "y_train = pd.read_csv(\"Data/y_train.csv\").to_numpy() # Se llama los valores de \"y train\" asociados a los X en el autoencode.\n",
    "y_test = pd.read_csv(\"Data/y_test.csv\").to_numpy() # Se llama los valores de \"y test\" asociados a los X en el autoencode."
   ]
  },
  {
   "cell_type": "code",
   "execution_count": 5,
   "metadata": {},
   "outputs": [],
   "source": [
    "def get_model(input_shape): \n",
    "    model=Sequential([ # Se construye el modelo Secuencial\n",
    "                  InputLayer(input_shape=input_shape), # Tamaño del input (100,)\n",
    "                  Dense(units=500,activation='relu',name='layer_hidden1'), # 500 unidades, activacion 'relu'\n",
    "                  Dense(units=250,activation='relu',name='layer_hidden2'), # 250 unidades, activacion 'relu'\n",
    "                  Dense(units=50,activation='relu',name='layer_hidden3'),  # 50 unidades, activacion 'relu'\n",
    "                  Dense(units=6,activation='softmax',name='output_layer')  # 6 unidades (numero de categorias), activacion 'softmax'\n",
    "                 ])\n",
    "    return model"
   ]
  },
  {
   "cell_type": "code",
   "execution_count": 6,
   "metadata": {},
   "outputs": [],
   "source": [
    "model = get_model(X_train_ae1[0].shape) # Se obtiene el modelo secuencial dado el tamaño de los datos de entrenamiento."
   ]
  },
  {
   "cell_type": "code",
   "execution_count": 7,
   "metadata": {},
   "outputs": [
    {
     "name": "stdout",
     "output_type": "stream",
     "text": [
      "Model: \"sequential\"\n",
      "_________________________________________________________________\n",
      "Layer (type)                 Output Shape              Param #   \n",
      "=================================================================\n",
      "layer_hidden1 (Dense)        (None, 500)               50500     \n",
      "_________________________________________________________________\n",
      "layer_hidden2 (Dense)        (None, 250)               125250    \n",
      "_________________________________________________________________\n",
      "layer_hidden3 (Dense)        (None, 50)                12550     \n",
      "_________________________________________________________________\n",
      "output_layer (Dense)         (None, 6)                 306       \n",
      "=================================================================\n",
      "Total params: 188,606\n",
      "Trainable params: 188,606\n",
      "Non-trainable params: 0\n",
      "_________________________________________________________________\n"
     ]
    }
   ],
   "source": [
    "model.summary() # resumen del modelo antes del entrenamiento."
   ]
  },
  {
   "cell_type": "code",
   "execution_count": 8,
   "metadata": {},
   "outputs": [],
   "source": [
    "def compile_model(model): # Compilador\n",
    "        model.compile(optimizer='sgd', # se utilizara sgd por ser bueno en clasificaciones.\n",
    "              loss='categorical_crossentropy', # se utilizara categorical crossentropy por que la variable predictora es un one hot encoding.\n",
    "              metrics=['accuracy']) # Se observara el accuracy de los datos."
   ]
  },
  {
   "cell_type": "code",
   "execution_count": 9,
   "metadata": {},
   "outputs": [],
   "source": [
    "compile_model(model) # compilamos el modelo."
   ]
  },
  {
   "cell_type": "code",
   "execution_count": 10,
   "metadata": {},
   "outputs": [],
   "source": [
    "epochs=100\n",
    "myhistory=model.fit(X_train_ae1,y_train,  epochs=epochs, batch_size=32, validation_split=0.15, verbose=0)"
   ]
  },
  {
   "cell_type": "code",
   "execution_count": 11,
   "metadata": {},
   "outputs": [
    {
     "name": "stdout",
     "output_type": "stream",
     "text": [
      "1.0 validation set accuracy\n",
      "0.8823529481887817 training set accuracy\n"
     ]
    }
   ],
   "source": [
    "print(myhistory.history['val_accuracy'][-1], \"validation set accuracy\") # Se imprime el accuracy del modelo respecto al set de validacion\n",
    "print(myhistory.history['accuracy'][-1], \"training set accuracy\") # Se imprime el accuracy del modelo respecto al set de entrenamiento"
   ]
  },
  {
   "cell_type": "code",
   "execution_count": 12,
   "metadata": {},
   "outputs": [
    {
     "data": {
      "text/plain": [
       "<matplotlib.legend.Legend at 0x1e3bda20580>"
      ]
     },
     "execution_count": 12,
     "metadata": {},
     "output_type": "execute_result"
    },
    {
     "data": {
      "image/png": "[encoded data removed]",
      "text/plain": [
       "<Figure size 432x288 with 1 Axes>"
      ]
     },
     "metadata": {
      "needs_background": "light"
     },
     "output_type": "display_data"
    }
   ],
   "source": [
    "xvals=range(epochs) # Se grafica el accuracy respecto los epochs, vamos que la tendencia indican un buen aprendizaje \n",
    "fig,ax=plt.subplots(1,1)\n",
    "ax.plot(xvals, myhistory.history['val_accuracy'],label='validation set accuracy')\n",
    "ax.plot(xvals, myhistory.history['accuracy'],label='train set accuracy')\n",
    "ax.set_xlabel('epochs')\n",
    "ax.set_ylabel('accuracy')\n",
    "ax.legend()"
   ]
  },
  {
   "cell_type": "code",
   "execution_count": 13,
   "metadata": {},
   "outputs": [
    {
     "name": "stdout",
     "output_type": "stream",
     "text": [
      "1/1 [==============================] - 0s 1ms/step - loss: 0.5062 - accuracy: 0.8500\n",
      "0.8500000238418579\n"
     ]
    }
   ],
   "source": [
    "loss, accuracy=model.evaluate(X_test_ae1, y_test) \n",
    "print(accuracy) # Se evalua el resultado del modelo respecto a los datos de prueba."
   ]
  },
  {
   "cell_type": "code",
   "execution_count": 14,
   "metadata": {},
   "outputs": [],
   "source": [
    "pred = model.predict(X_test_ae1) # Se predice los datos respecto a los datos de prueba"
   ]
  },
  {
   "cell_type": "code",
   "execution_count": 19,
   "metadata": {},
   "outputs": [],
   "source": [
    "def results(y_pred,y_test):\n",
    "    data = pd.read_csv(\"Data/data_final.txt\",sep=\"\\t\")\n",
    "    target = ['spect_b']\n",
    "    target_values = data[target]['spect_b'].unique()\n",
    "    target_numeric = np.arange(0,len(target_values))\n",
    "    dic2_target = {target_numeric[i]:target_values[i] for i in range(len(target_numeric)) }\n",
    "\n",
    "    prediction = [ np.argmax(i) for i in y_pred ]\n",
    "    test = [ np.argmax(i) for i in y_test]\n",
    "\n",
    "    prediction = np.where(prediction == 0,1,prediction)\n",
    "    prediction = np.where(prediction == 1,7,prediction)\n",
    "    prediction = np.where(prediction == 2,8,prediction)\n",
    "    prediction = np.where(prediction == 3,17,prediction)\n",
    "    prediction = np.where(prediction == 4,18,prediction)\n",
    "    prediction = np.where(prediction == 5,19,prediction)\n",
    "\n",
    "    test = np.where(test == 0,1,test)\n",
    "    test = np.where(test == 1,7,test)\n",
    "    test = np.where(test == 2,8,test)\n",
    "    test = np.where(test == 3,17,test)\n",
    "    test = np.where(test == 4,18,test)\n",
    "    test = np.where(test == 5,19,test)\n",
    "\n",
    "    res = pd.DataFrame({\"Test values\":test,\"Prediction values\":prediction})\n",
    "    res['Prediction values'] = res['Prediction values'].apply(lambda x: dic2_target[x])\n",
    "    res['Test values'] = res['Test values'].apply(lambda x: dic2_target[x])\n",
    "\n",
    "    return res"
   ]
  },
  {
   "cell_type": "code",
   "execution_count": 20,
   "metadata": {},
   "outputs": [
    {
     "data": {
      "text/html": [
       "<div>\n",
       "<style scoped>\n",
       "    .dataframe tbody tr th:only-of-type {\n",
       "        vertical-align: middle;\n",
       "    }\n",
       "\n",
       "    .dataframe tbody tr th {\n",
       "        vertical-align: top;\n",
       "    }\n",
       "\n",
       "    .dataframe thead th {\n",
       "        text-align: right;\n",
       "    }\n",
       "</style>\n",
       "<table border=\"1\" class=\"dataframe\">\n",
       "  <thead>\n",
       "    <tr style=\"text-align: right;\">\n",
       "      <th></th>\n",
       "      <th>Test values</th>\n",
       "      <th>Prediction values</th>\n",
       "    </tr>\n",
       "  </thead>\n",
       "  <tbody>\n",
       "    <tr>\n",
       "      <th>0</th>\n",
       "      <td>S</td>\n",
       "      <td>S</td>\n",
       "    </tr>\n",
       "    <tr>\n",
       "      <th>1</th>\n",
       "      <td>Ch</td>\n",
       "      <td>Ch</td>\n",
       "    </tr>\n",
       "    <tr>\n",
       "      <th>2</th>\n",
       "      <td>X</td>\n",
       "      <td>X</td>\n",
       "    </tr>\n",
       "    <tr>\n",
       "      <th>3</th>\n",
       "      <td>S</td>\n",
       "      <td>Sl</td>\n",
       "    </tr>\n",
       "    <tr>\n",
       "      <th>4</th>\n",
       "      <td>C</td>\n",
       "      <td>V</td>\n",
       "    </tr>\n",
       "    <tr>\n",
       "      <th>5</th>\n",
       "      <td>Ch</td>\n",
       "      <td>Ch</td>\n",
       "    </tr>\n",
       "    <tr>\n",
       "      <th>6</th>\n",
       "      <td>S</td>\n",
       "      <td>S</td>\n",
       "    </tr>\n",
       "    <tr>\n",
       "      <th>7</th>\n",
       "      <td>C</td>\n",
       "      <td>Ch</td>\n",
       "    </tr>\n",
       "    <tr>\n",
       "      <th>8</th>\n",
       "      <td>Ch</td>\n",
       "      <td>Ch</td>\n",
       "    </tr>\n",
       "    <tr>\n",
       "      <th>9</th>\n",
       "      <td>S</td>\n",
       "      <td>S</td>\n",
       "    </tr>\n",
       "    <tr>\n",
       "      <th>10</th>\n",
       "      <td>X</td>\n",
       "      <td>X</td>\n",
       "    </tr>\n",
       "    <tr>\n",
       "      <th>11</th>\n",
       "      <td>Ch</td>\n",
       "      <td>Ch</td>\n",
       "    </tr>\n",
       "    <tr>\n",
       "      <th>12</th>\n",
       "      <td>Ch</td>\n",
       "      <td>Ch</td>\n",
       "    </tr>\n",
       "    <tr>\n",
       "      <th>13</th>\n",
       "      <td>S</td>\n",
       "      <td>S</td>\n",
       "    </tr>\n",
       "    <tr>\n",
       "      <th>14</th>\n",
       "      <td>S</td>\n",
       "      <td>S</td>\n",
       "    </tr>\n",
       "    <tr>\n",
       "      <th>15</th>\n",
       "      <td>S</td>\n",
       "      <td>S</td>\n",
       "    </tr>\n",
       "    <tr>\n",
       "      <th>16</th>\n",
       "      <td>S</td>\n",
       "      <td>S</td>\n",
       "    </tr>\n",
       "    <tr>\n",
       "      <th>17</th>\n",
       "      <td>S</td>\n",
       "      <td>S</td>\n",
       "    </tr>\n",
       "    <tr>\n",
       "      <th>18</th>\n",
       "      <td>Sl</td>\n",
       "      <td>Sl</td>\n",
       "    </tr>\n",
       "    <tr>\n",
       "      <th>19</th>\n",
       "      <td>S</td>\n",
       "      <td>S</td>\n",
       "    </tr>\n",
       "  </tbody>\n",
       "</table>\n",
       "</div>"
      ],
      "text/plain": [
       "   Test values Prediction values\n",
       "0            S                 S\n",
       "1           Ch                Ch\n",
       "2            X                 X\n",
       "3            S                Sl\n",
       "4            C                 V\n",
       "5           Ch                Ch\n",
       "6            S                 S\n",
       "7            C                Ch\n",
       "8           Ch                Ch\n",
       "9            S                 S\n",
       "10           X                 X\n",
       "11          Ch                Ch\n",
       "12          Ch                Ch\n",
       "13           S                 S\n",
       "14           S                 S\n",
       "15           S                 S\n",
       "16           S                 S\n",
       "17           S                 S\n",
       "18          Sl                Sl\n",
       "19           S                 S"
      ]
     },
     "execution_count": 20,
     "metadata": {},
     "output_type": "execute_result"
    }
   ],
   "source": [
    "result = results(pred,y_test)\n",
    "result"
   ]
  },
  {
   "cell_type": "code",
   "execution_count": 21,
   "metadata": {},
   "outputs": [
    {
     "data": {
      "text/plain": [
       "Test values  Prediction values\n",
       "S            S                    9\n",
       "Ch           Ch                   5\n",
       "X            X                    2\n",
       "C            Ch                   1\n",
       "             V                    1\n",
       "S            Sl                   1\n",
       "Sl           Sl                   1\n",
       "dtype: int64"
      ]
     },
     "execution_count": 21,
     "metadata": {},
     "output_type": "execute_result"
    }
   ],
   "source": [
    "result.value_counts()"
   ]
  },
  {
   "cell_type": "code",
   "execution_count": 22,
   "metadata": {},
   "outputs": [
    {
     "data": {
      "image/png": "[encoded data removed]",
      "text/plain": [
       "<Figure size 432x288 with 1 Axes>"
      ]
     },
     "metadata": {
      "needs_background": "light"
     },
     "output_type": "display_data"
    }
   ],
   "source": [
    "categorias=[\"C\",\"Ch\",\"S\",\"Sl\",\"X\"]\n",
    "cf_matrix = confusion_matrix(result[\"Test values\"],result[\"Prediction values\"])\n",
    "sns.heatmap(cf_matrix,annot=True,cmap='Blues',cbar=False,xticklabels=categorias,yticklabels=categorias)\n",
    "plt.xlabel(\"True label\")\n",
    "plt.ylabel(\"Predicted label\")\n",
    "plt.show()"
   ]
  },
  {
   "cell_type": "markdown",
   "metadata": {},
   "source": [
    "### Modelo utilizando los datos sin el autoencoder"
   ]
  },
  {
   "cell_type": "code",
   "execution_count": 23,
   "metadata": {},
   "outputs": [],
   "source": [
    "X_data = pd.read_csv(\"Data/X_data.csv\").to_numpy() # Se obtiene los valores de las longitudes de onda.\n",
    "y_data = pd.read_csv(\"Data/y_data.csv\").to_numpy() # Se obtiene las categorias con valores transformados a one hot encode."
   ]
  },
  {
   "cell_type": "code",
   "execution_count": 24,
   "metadata": {},
   "outputs": [
    {
     "name": "stdout",
     "output_type": "stream",
     "text": [
      "(80, 1000)\n",
      "(80, 6)\n",
      "(20, 1000)\n",
      "(20, 6)\n"
     ]
    }
   ],
   "source": [
    "X_train, X_test, y_train, y_test = train_test_split(X_data, y_data, test_size=0.2, random_state=500) # Realizamos un split de los datos a entrenamiento y prueba. Random state = 27\n",
    "print(X_train.shape)\n",
    "print(y_train.shape)\n",
    "print(X_test.shape)\n",
    "print(y_test.shape)"
   ]
  },
  {
   "cell_type": "code",
   "execution_count": 25,
   "metadata": {},
   "outputs": [],
   "source": [
    "scaler = StandardScaler() # Se construye una funcion para escalar los datos predictores \"X\" tanto para training como testing utilizando un Standard Scaler.\n",
    "X_train_scaled = scaler.fit_transform(X_train) # valor escalado de X_train\n",
    "X_test_scaled = scaler.fit_transform(X_test) # valor escalado de X_test"
   ]
  },
  {
   "cell_type": "code",
   "execution_count": 26,
   "metadata": {},
   "outputs": [
    {
     "name": "stdout",
     "output_type": "stream",
     "text": [
      "0.8333333134651184 validation set accuracy\n",
      "0.9558823704719543 training set accuracy\n"
     ]
    },
    {
     "data": {
      "text/plain": [
       "<matplotlib.legend.Legend at 0x1e3bd9d85b0>"
      ]
     },
     "execution_count": 26,
     "metadata": {},
     "output_type": "execute_result"
    },
    {
     "data": {
      "image/png": "[encoded data removed]",
      "text/plain": [
       "<Figure size 432x288 with 1 Axes>"
      ]
     },
     "metadata": {
      "needs_background": "light"
     },
     "output_type": "display_data"
    }
   ],
   "source": [
    "model = get_model(X_train_scaled[0].shape)\n",
    "compile_model(model)\n",
    "myhistory=model.fit(X_train_scaled,y_train,  epochs=100, batch_size=32, validation_split=0.15, verbose=0)\n",
    "print(myhistory.history['val_accuracy'][-1], \"validation set accuracy\") # Se imprime el accuracy del modelo respecto al set de validacion\n",
    "print(myhistory.history['accuracy'][-1], \"training set accuracy\") # Se imprime el accuracy del modelo respecto al set de entrenamiento\n",
    "\n",
    "xvals=range(100) # Se grafica el accuracy respecto los epochs, vamos que la tendencia indican un buen aprendizaje \n",
    "fig,ax=plt.subplots(1,1)\n",
    "ax.plot(xvals, myhistory.history['val_accuracy'],label='validation set accuracy')\n",
    "ax.plot(xvals, myhistory.history['accuracy'],label='train set accuracy')\n",
    "ax.set_xlabel('epochs')\n",
    "ax.set_ylabel('accuracy')\n",
    "ax.legend()"
   ]
  },
  {
   "cell_type": "code",
   "execution_count": 27,
   "metadata": {},
   "outputs": [
    {
     "name": "stdout",
     "output_type": "stream",
     "text": [
      "1/1 [==============================] - 0s 1ms/step - loss: 0.2533 - accuracy: 0.9500\n",
      "0.949999988079071\n"
     ]
    }
   ],
   "source": [
    "loss, accuracy=model.evaluate(X_test_scaled, y_test) \n",
    "print(accuracy) # Se evalua el resultado del modelo respecto a los datos de prueba."
   ]
  },
  {
   "cell_type": "code",
   "execution_count": 28,
   "metadata": {},
   "outputs": [
    {
     "data": {
      "text/html": [
       "<div>\n",
       "<style scoped>\n",
       "    .dataframe tbody tr th:only-of-type {\n",
       "        vertical-align: middle;\n",
       "    }\n",
       "\n",
       "    .dataframe tbody tr th {\n",
       "        vertical-align: top;\n",
       "    }\n",
       "\n",
       "    .dataframe thead th {\n",
       "        text-align: right;\n",
       "    }\n",
       "</style>\n",
       "<table border=\"1\" class=\"dataframe\">\n",
       "  <thead>\n",
       "    <tr style=\"text-align: right;\">\n",
       "      <th></th>\n",
       "      <th>Test values</th>\n",
       "      <th>Prediction values</th>\n",
       "    </tr>\n",
       "  </thead>\n",
       "  <tbody>\n",
       "    <tr>\n",
       "      <th>0</th>\n",
       "      <td>S</td>\n",
       "      <td>S</td>\n",
       "    </tr>\n",
       "    <tr>\n",
       "      <th>1</th>\n",
       "      <td>Ch</td>\n",
       "      <td>Ch</td>\n",
       "    </tr>\n",
       "    <tr>\n",
       "      <th>2</th>\n",
       "      <td>X</td>\n",
       "      <td>X</td>\n",
       "    </tr>\n",
       "    <tr>\n",
       "      <th>3</th>\n",
       "      <td>S</td>\n",
       "      <td>S</td>\n",
       "    </tr>\n",
       "    <tr>\n",
       "      <th>4</th>\n",
       "      <td>C</td>\n",
       "      <td>C</td>\n",
       "    </tr>\n",
       "    <tr>\n",
       "      <th>5</th>\n",
       "      <td>Ch</td>\n",
       "      <td>Ch</td>\n",
       "    </tr>\n",
       "    <tr>\n",
       "      <th>6</th>\n",
       "      <td>S</td>\n",
       "      <td>S</td>\n",
       "    </tr>\n",
       "    <tr>\n",
       "      <th>7</th>\n",
       "      <td>C</td>\n",
       "      <td>Ch</td>\n",
       "    </tr>\n",
       "    <tr>\n",
       "      <th>8</th>\n",
       "      <td>Ch</td>\n",
       "      <td>Ch</td>\n",
       "    </tr>\n",
       "    <tr>\n",
       "      <th>9</th>\n",
       "      <td>S</td>\n",
       "      <td>S</td>\n",
       "    </tr>\n",
       "    <tr>\n",
       "      <th>10</th>\n",
       "      <td>X</td>\n",
       "      <td>X</td>\n",
       "    </tr>\n",
       "    <tr>\n",
       "      <th>11</th>\n",
       "      <td>Ch</td>\n",
       "      <td>Ch</td>\n",
       "    </tr>\n",
       "    <tr>\n",
       "      <th>12</th>\n",
       "      <td>Ch</td>\n",
       "      <td>Ch</td>\n",
       "    </tr>\n",
       "    <tr>\n",
       "      <th>13</th>\n",
       "      <td>S</td>\n",
       "      <td>S</td>\n",
       "    </tr>\n",
       "    <tr>\n",
       "      <th>14</th>\n",
       "      <td>S</td>\n",
       "      <td>S</td>\n",
       "    </tr>\n",
       "    <tr>\n",
       "      <th>15</th>\n",
       "      <td>S</td>\n",
       "      <td>S</td>\n",
       "    </tr>\n",
       "    <tr>\n",
       "      <th>16</th>\n",
       "      <td>S</td>\n",
       "      <td>S</td>\n",
       "    </tr>\n",
       "    <tr>\n",
       "      <th>17</th>\n",
       "      <td>S</td>\n",
       "      <td>S</td>\n",
       "    </tr>\n",
       "    <tr>\n",
       "      <th>18</th>\n",
       "      <td>Sl</td>\n",
       "      <td>Sl</td>\n",
       "    </tr>\n",
       "    <tr>\n",
       "      <th>19</th>\n",
       "      <td>S</td>\n",
       "      <td>S</td>\n",
       "    </tr>\n",
       "  </tbody>\n",
       "</table>\n",
       "</div>"
      ],
      "text/plain": [
       "   Test values Prediction values\n",
       "0            S                 S\n",
       "1           Ch                Ch\n",
       "2            X                 X\n",
       "3            S                 S\n",
       "4            C                 C\n",
       "5           Ch                Ch\n",
       "6            S                 S\n",
       "7            C                Ch\n",
       "8           Ch                Ch\n",
       "9            S                 S\n",
       "10           X                 X\n",
       "11          Ch                Ch\n",
       "12          Ch                Ch\n",
       "13           S                 S\n",
       "14           S                 S\n",
       "15           S                 S\n",
       "16           S                 S\n",
       "17           S                 S\n",
       "18          Sl                Sl\n",
       "19           S                 S"
      ]
     },
     "execution_count": 28,
     "metadata": {},
     "output_type": "execute_result"
    }
   ],
   "source": [
    "pred = model.predict(X_test_scaled) # Se predice los datos respecto a los datos de prueba\n",
    "result = results(pred,y_test)\n",
    "result"
   ]
  },
  {
   "cell_type": "code",
   "execution_count": 29,
   "metadata": {},
   "outputs": [
    {
     "data": {
      "text/plain": [
       "Test values  Prediction values\n",
       "S            S                    10\n",
       "Ch           Ch                    5\n",
       "X            X                     2\n",
       "C            C                     1\n",
       "             Ch                    1\n",
       "Sl           Sl                    1\n",
       "dtype: int64"
      ]
     },
     "execution_count": 29,
     "metadata": {},
     "output_type": "execute_result"
    }
   ],
   "source": [
    "result.value_counts()"
   ]
  },
  {
   "cell_type": "code",
   "execution_count": 30,
   "metadata": {},
   "outputs": [
    {
     "data": {
      "image/png": "[encoded data removed]",
      "text/plain": [
       "<Figure size 432x288 with 1 Axes>"
      ]
     },
     "metadata": {
      "needs_background": "light"
     },
     "output_type": "display_data"
    }
   ],
   "source": [
    "categorias=[\"C\",\"Ch\",\"S\",\"Sl\",\"X\"]\n",
    "cf_matrix = confusion_matrix(result[\"Test values\"],result[\"Prediction values\"])\n",
    "sns.heatmap(cf_matrix,annot=True,cmap='Blues',cbar=False,xticklabels=categorias,yticklabels=categorias)\n",
    "plt.xlabel(\"True label\")\n",
    "plt.ylabel(\"Predicted label\")\n",
    "plt.show()"
   ]
  },
  {
   "cell_type": "markdown",
   "metadata": {},
   "source": [
    "Resultados:\n",
    "* Se observa que el algoritmo de Redes neuronales logra clasificar de mejor forma cuando se hace sin el Autoencode, esto probablemente sea por que pasar de 1000 columnas a 100, se pierda bastante informacion importante.\n",
    "* Es importante tener en cuenta que a pesar de que se perdio informacion en el autoencode, se obtuvo un porcentaje de asteroides clasificados de forma adecuada de 85% que es superior al margen que se buscaba en los objetivos del proyecto.\n",
    "* Se puede observar que los asteroides con clasificacion C tienden a confundirse con los asteroides con clasificacion Ch. Esto es debido a que al graficar ambos, su espectro de reflectancia relativa es bastante similar respecto a las intensidades.\n",
    "* Se logro obtener una prediccion del 95% de los datos utilizando los resultados sin el autoencode, indicando que la limpieza e ingenieria de caracteristicas fue efectiva para poder realizar el modelo.\n",
    "* De los 160 asteroides que se iban a estudiar, unicamente se pudo estudiar 100 debido al sesgo en la clasificacion de datos, este sesgo impide estudiar de forma adecuada los asteroides con menos de 8 muestras por que probablemente al hacer el split de datos, la mayoria se concentren en un el set de testing o training en particular impidiendo evaluarlos o directamente entrenarlos."
   ]
  },
  {
   "cell_type": "code",
   "execution_count": null,
   "metadata": {},
   "outputs": [],
   "source": []
  }
 ],
 "metadata": {
  "interpreter": {
   "hash": "d6a77456f75fe6d6c9aa4474b4a015d3323fe86e0563bb51da2b85b23d00b51b"
  },
  "kernelspec": {
   "display_name": "Python 3.8.8 ('base')",
   "language": "python",
   "name": "python3"
  },
  "language_info": {
   "codemirror_mode": {
    "name": "ipython",
    "version": 3
   },
   "file_extension": ".py",
   "mimetype": "text/x-python",
   "name": "python",
   "nbconvert_exporter": "python",
   "pygments_lexer": "ipython3",
   "version": "3.8.8"
  },
  "orig_nbformat": 4
 },
 "nbformat": 4,
 "nbformat_minor": 2
}
