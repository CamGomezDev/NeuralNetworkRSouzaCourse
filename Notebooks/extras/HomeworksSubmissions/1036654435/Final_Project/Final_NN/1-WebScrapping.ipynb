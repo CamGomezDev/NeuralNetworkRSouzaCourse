{
 "cells": [
  {
   "cell_type": "code",
   "execution_count": 1,
   "metadata": {},
   "outputs": [],
   "source": [
    "import os\n",
    "import numpy as np\n",
    "import pandas as pd\n",
    "import urllib.request\n",
    "import re\n",
    "from bs4 import BeautifulSoup\n",
    "import requests\n",
    "from functools import reduce\n",
    "from wget import download"
   ]
  },
  {
   "cell_type": "code",
   "execution_count": 2,
   "metadata": {},
   "outputs": [],
   "source": [
    "URL = 'http://smass.mit.edu/catalog.php'\n",
    "page = requests.get(URL)"
   ]
  },
  {
   "cell_type": "code",
   "execution_count": 3,
   "metadata": {},
   "outputs": [],
   "source": [
    "soup = BeautifulSoup(page.content, 'html.parser')\n",
    "table = soup.find_all('tr')[2:]\n",
    "name = np.array([])\n",
    "file = np.array([])\n",
    "for i in range(len(table)):\n",
    "    t = table[i].findAll(True, {\"class\":[\"mpname\", \"datalinks\"]})\n",
    "    if len(t) == 3:\n",
    "        n = re.findall('href=\"(data/spex/sp.*txt)\"', str(t[2]))\n",
    "        if len(n)==1 and t[0].text !=\"\":\n",
    "            file = np.append(n, file)\n",
    "            name = np.append(t[0].text, name)"
   ]
  },
  {
   "cell_type": "code",
   "execution_count": 4,
   "metadata": {},
   "outputs": [],
   "source": [
    "asteroid_download = np.hstack((file.reshape(-1,1), name.reshape(-1,1)))"
   ]
  },
  {
   "cell_type": "code",
   "execution_count": 5,
   "metadata": {},
   "outputs": [],
   "source": [
    "for i,f in enumerate(file):\n",
    "    filename = os.path.basename(f)\n",
    "    url = \"http://smass.mit.edu/\"+f\n",
    "    download(url,out=\"VIS_NIR/\")"
   ]
  },
  {
   "cell_type": "code",
   "execution_count": 6,
   "metadata": {},
   "outputs": [
    {
     "data": {
      "text/html": [
       "<div>\n",
       "<style scoped>\n",
       "    .dataframe tbody tr th:only-of-type {\n",
       "        vertical-align: middle;\n",
       "    }\n",
       "\n",
       "    .dataframe tbody tr th {\n",
       "        vertical-align: top;\n",
       "    }\n",
       "\n",
       "    .dataframe thead th {\n",
       "        text-align: right;\n",
       "    }\n",
       "</style>\n",
       "<table border=\"1\" class=\"dataframe\">\n",
       "  <thead>\n",
       "    <tr style=\"text-align: right;\">\n",
       "      <th></th>\n",
       "      <th>nombre</th>\n",
       "      <th>smass</th>\n",
       "      <th>file</th>\n",
       "    </tr>\n",
       "  </thead>\n",
       "  <tbody>\n",
       "    <tr>\n",
       "      <th>0</th>\n",
       "      <td>Abehiroshi</td>\n",
       "      <td>V</td>\n",
       "      <td>a005379.sp51.txt</td>\n",
       "    </tr>\n",
       "    <tr>\n",
       "      <th>1</th>\n",
       "      <td>Senrikyu</td>\n",
       "      <td>B</td>\n",
       "      <td>a005330.sp290n1.txt</td>\n",
       "    </tr>\n",
       "    <tr>\n",
       "      <th>2</th>\n",
       "      <td>Burbine</td>\n",
       "      <td>S</td>\n",
       "      <td>a005159.sp201n1.txt</td>\n",
       "    </tr>\n",
       "    <tr>\n",
       "      <th>3</th>\n",
       "      <td>Robinson</td>\n",
       "      <td>Sr</td>\n",
       "      <td>a003819.sp84.txt</td>\n",
       "    </tr>\n",
       "    <tr>\n",
       "      <th>4</th>\n",
       "      <td>Paris</td>\n",
       "      <td>T</td>\n",
       "      <td>a003317.sp50.txt</td>\n",
       "    </tr>\n",
       "  </tbody>\n",
       "</table>\n",
       "</div>"
      ],
      "text/plain": [
       "       nombre smass                 file\n",
       "0  Abehiroshi     V     a005379.sp51.txt\n",
       "1    Senrikyu     B  a005330.sp290n1.txt\n",
       "2     Burbine     S  a005159.sp201n1.txt\n",
       "3    Robinson    Sr     a003819.sp84.txt\n",
       "4       Paris     T     a003317.sp50.txt"
      ]
     },
     "execution_count": 6,
     "metadata": {},
     "output_type": "execute_result"
    }
   ],
   "source": [
    "asteroid_df = pd.read_csv('Data/sbdb_query_results.csv', sep=',')\n",
    "asteroid_df[\"full_name2\"] = asteroid_df[\"full_name\"].apply( lambda x: x.split(\" \")[-3])\n",
    "spectral_type = np.array([])\n",
    "file2 = np.array([])\n",
    "name2 = np.array([])\n",
    "for i in range(asteroid_df.shape[0]):\n",
    "    for j in range(asteroid_download.shape[0]):\n",
    "        if asteroid_df.full_name2[i] == asteroid_download[j,1]:\n",
    "            spectral_type = np.append(asteroid_df.spec_B[i], spectral_type)\n",
    "            name2 = np.append(asteroid_df.full_name2[i], name2)\n",
    "            file2 = np.append(asteroid_download[j, 0], file2)\n",
    "asteroid_df_final = pd.DataFrame({'nombre': name2, 'smass': spectral_type, 'file': file2})\n",
    "asteroid_df_final['file'] = asteroid_df_final.file.apply(lambda x: x.split('/')[-1])\n",
    "asteroid_df_final.head()"
   ]
  },
  {
   "cell_type": "code",
   "execution_count": 7,
   "metadata": {},
   "outputs": [],
   "source": [
    "asteroid_df_final.to_csv(\"Data/asteroid_df_final.txt\",sep=\"\\t\",index=None)"
   ]
  }
 ],
 "metadata": {
  "interpreter": {
   "hash": "d6a77456f75fe6d6c9aa4474b4a015d3323fe86e0563bb51da2b85b23d00b51b"
  },
  "kernelspec": {
   "display_name": "Python 3.8.8 ('base')",
   "language": "python",
   "name": "python3"
  },
  "language_info": {
   "codemirror_mode": {
    "name": "ipython",
    "version": 3
   },
   "file_extension": ".py",
   "mimetype": "text/x-python",
   "name": "python",
   "nbconvert_exporter": "python",
   "pygments_lexer": "ipython3",
   "version": "3.8.8"
  },
  "orig_nbformat": 4
 },
 "nbformat": 4,
 "nbformat_minor": 2
}
