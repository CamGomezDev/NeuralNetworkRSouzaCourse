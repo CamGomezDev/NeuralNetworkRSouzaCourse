{
 "cells": [
  {
   "cell_type": "markdown",
   "metadata": {},
   "source": [
    "# Implementacion de Algoritmo de Redes Neuronales para clasificacion de asteroides por medio de su espectro de reflectancia relativa\n",
    "Realizado por: <em><strong>Sergio Duque Mejía</strong></em>\n",
    "\n",
    "Universidad de Antioquia - 2022\n",
    "\n",
    "---\n",
    "\n",
    "El estudio de los asteroides permite estudiar las etapas tempranas de la formación del sistema solar. El foco principal de estudio se centra en la composición superficial. En 2002 se desarrolló el proyecto SMASSII con el objetivo de realizar una clasificación de los objetos en el cinturón de asteroides. Está clasificacion taxonómica permitió establecer 24 tipos de asteroides dada su composición superficial.\n",
    "\n",
    "#### Objetivo del proyecto:\n",
    "* Obtener por medio de WebScrapping las muestras de espectros de reflectancia relativa de los asteroides clasificados en el proyecto SMASSII del MIT.\n",
    "* Realizar una ingenieria de caracteristicas que permita la exploracion y posteriormente el modelo que clasifique estos.\n",
    "* Realizar un modelo de redes neuronales que permita clasificar los datos, se busca observar si es viable realizar un autoencoder para reducir la dimension de las columnas.\n",
    "* Obtener un modelo que pueda clasificar un 80% o mas los espectros de reflectancia.\n",
    "\n",
    "#### Instrucciones:\n",
    "Se realizo diferentes etapas distribuidas en notebooks diferentes para tener un orden en el proyecto:\n",
    "* 1-WebScrapping: Se enfoca en descargar los datos del catalogo web del smassII, estos datos se guardan en una carpeta anexa llamada VIS_NIR que representa los VIS: espectro visible y NIR: espetro infrarojo.\n",
    "* 2-DataCleaning: Se enfoca en limpieza e ingenieria de caracteristicas con el proposito de hacer viable el dataset para posteriormente utilizarlo en los algoritmos de Redes neuronales.\n",
    "* 3.1-NN_AutoencoderDimReduction: Se enfoca en realizar un algoritmo de Redes Neuronales que permita disminuir la dimension de las caracteristicas del dataset analizado.\n",
    "* 3.2-ANN_implementation: Se divide en tres secciones:\n",
    "    * Implementacion de algoritmo que clasifica los asteroides, basado en los resultados obtenidos en el dataset con caracteristicas disminuidas debido al autoencoder.\n",
    "    * Implementacion de algoritmo que clasifica los asteroides, utilizando los datos obtenidos directamente despues de la seccion 2-DataCleaning.\n",
    "    * Resultados del Analasis. \n",
    "\n",
    "#### Tener en cuenta:\n",
    "* La carpeta VIS_NIR se encuentra vacia inicialmente debido a que el peso y la cantidad de los archivos de cada espectro son muy grandes, se pide primero ejecutar el notebook 1-WebScrapping para obtener los datos de esta, si no lo desea, la informacion util esta en la carpeta Data.\n",
    "* Todo el codigo se encuentra comentado en ESPAÑOl debido a que se utilizara para una presentacion de muestras de laborarios el dia Miercoles 20 de abril en la Universidad de Antioquia.\n",
    "* Todos los archivos que se guardan, lo hacen en carpetas especificas \"VIS_NIR\" y \"Data\", si no se descargan estas, aparecera un error.\n",
    "* web donde se encuentra el catalogo de los espectros y una exposicion mas especifica acerca del proyecto: [SmassII](http://smass.mit.edu/catalog.php)\n",
    "* Articulo de tesis de doctorado del cual se baso el proyecto: [Theses](https://commons.und.edu/theses/2474/)"
   ]
  },
  {
   "cell_type": "code",
   "execution_count": null,
   "metadata": {},
   "outputs": [],
   "source": []
  }
 ],
 "metadata": {
  "language_info": {
   "name": "python"
  },
  "orig_nbformat": 4
 },
 "nbformat": 4,
 "nbformat_minor": 2
}
