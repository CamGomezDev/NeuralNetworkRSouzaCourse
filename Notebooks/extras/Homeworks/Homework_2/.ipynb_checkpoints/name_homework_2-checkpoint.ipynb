{
 "cells": [
  {
   "cell_type": "markdown",
   "metadata": {},
   "source": [
    "# To do the following exercises you need to know how to use:\n",
    "* pandas dataframes\n",
    "* dictionaries\n",
    "* plotting array of images\n",
    "* convert data to .to_numpy()\n",
    "* assign inputs (features) to **X_data**\n",
    "* assign outputs (labels/targets) to **y_data**\n",
    "* understand the output of attribute .shape (dimensions of the data)\n",
    "* generate random integers np.random.randint()"
   ]
  },
  {
   "cell_type": "markdown",
   "metadata": {},
   "source": [
    "# Exercise 1\n",
    "* the file 'mnist_test.csv' contains 10000 images of digits in grayscale saved as a rows in the csv file\n",
    "* first column contains value of the digits then 784 columns correspond to pixels\n",
    "* make an array of plots of 25 randomly chosen images (5x5) \n",
    "* each plot has to have a title corresponding to a digit "
   ]
  },
  {
   "cell_type": "code",
   "execution_count": 1,
   "metadata": {},
   "outputs": [
    {
     "name": "stdout",
     "output_type": "stream",
     "text": [
      "mnist_test.csv\tname_homework_1.ipynb\r\n"
     ]
    }
   ],
   "source": [
    "!ls"
   ]
  },
  {
   "cell_type": "code",
   "execution_count": null,
   "metadata": {},
   "outputs": [],
   "source": []
  },
  {
   "cell_type": "code",
   "execution_count": null,
   "metadata": {},
   "outputs": [],
   "source": []
  },
  {
   "cell_type": "code",
   "execution_count": null,
   "metadata": {},
   "outputs": [],
   "source": []
  },
  {
   "cell_type": "code",
   "execution_count": null,
   "metadata": {},
   "outputs": [],
   "source": []
  },
  {
   "cell_type": "code",
   "execution_count": null,
   "metadata": {},
   "outputs": [],
   "source": []
  },
  {
   "cell_type": "markdown",
   "metadata": {},
   "source": [
    "# Exercise 2\n",
    "\n",
    "* Sklearn digits dataset (https://scikit-learn.org/stable/modules/generated/sklearn.datasets.load_digits.html) contains 1797 images of digits in grayscale \n",
    "* download the dataset (command is below) and:\n",
    "* make an array of plots of 25 randomly chosen images (5 images x 5 images) \n",
    "* each plot has to have a title corresponding to a digit "
   ]
  },
  {
   "cell_type": "code",
   "execution_count": 5,
   "metadata": {},
   "outputs": [],
   "source": [
    "from sklearn import datasets\n",
    "digits = datasets.load_digits() # digits is a dictionary"
   ]
  },
  {
   "cell_type": "code",
   "execution_count": null,
   "metadata": {},
   "outputs": [],
   "source": []
  },
  {
   "cell_type": "code",
   "execution_count": null,
   "metadata": {},
   "outputs": [],
   "source": []
  },
  {
   "cell_type": "code",
   "execution_count": null,
   "metadata": {},
   "outputs": [],
   "source": []
  },
  {
   "cell_type": "markdown",
   "metadata": {},
   "source": [
    "# Exercise 3\n",
    "The CIFAR-10 dataset consists of, in total, 60000 **color** (three channels) images, each with one of 10 labels: airplane, automobile, bird, cat, deer, dog, frog, horse, ship, truck. For an introduction and a download. \n",
    "\n",
    "http://www.cs.toronto.edu/~kriz/cifar.html\n",
    "\n",
    "* make an array of plots of 25 randomly chosen images (5 images x 5 images) \n",
    "* each plot has to have a title with a corresponding label\n",
    "\n",
    "\n",
    "\n",
    "* convert the images to grayscale by averaging one of the dimensions and again display the images\n",
    "\n",
    "\n",
    "* make an array of plots of 25 randomly chosen images (5 images x 5 images) \n",
    "* each plot has to have a title with a corresponding label"
   ]
  },
  {
   "cell_type": "code",
   "execution_count": 4,
   "metadata": {},
   "outputs": [],
   "source": [
    "import tensorflow as tf\n",
    "(X_data, y_data), (_, _) = tf.keras.datasets.cifar10.load_data()"
   ]
  },
  {
   "cell_type": "code",
   "execution_count": null,
   "metadata": {},
   "outputs": [],
   "source": []
  },
  {
   "cell_type": "code",
   "execution_count": null,
   "metadata": {},
   "outputs": [],
   "source": []
  },
  {
   "cell_type": "code",
   "execution_count": null,
   "metadata": {},
   "outputs": [],
   "source": []
  },
  {
   "cell_type": "code",
   "execution_count": null,
   "metadata": {},
   "outputs": [],
   "source": []
  }
 ],
 "metadata": {
  "kernelspec": {
   "display_name": "Python 3",
   "language": "python",
   "name": "python3"
  },
  "language_info": {
   "codemirror_mode": {
    "name": "ipython",
    "version": 3
   },
   "file_extension": ".py",
   "mimetype": "text/x-python",
   "name": "python",
   "nbconvert_exporter": "python",
   "pygments_lexer": "ipython3",
   "version": "3.7.2"
  }
 },
 "nbformat": 4,
 "nbformat_minor": 2
}
