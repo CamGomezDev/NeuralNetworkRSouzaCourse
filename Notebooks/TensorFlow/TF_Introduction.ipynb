{
 "cells": [
  {
   "cell_type": "markdown",
   "metadata": {
    "id": "wJ6s9hH5gsvW"
   },
   "source": [
    "<h1 style=\"color:rgb(0,120,170)\">Neural Networks and Deep Learning</h1>\n",
    "<h2 style=\"color:rgb(0,120,170)\">Intro to Tensor Flow 2.0</h2>\n"
   ]
  },
  {
   "cell_type": "code",
   "execution_count": 1,
   "metadata": {
    "id": "ZsQVt3TghDWN"
   },
   "outputs": [],
   "source": [
    "import tensorflow as tf\n",
    "import numpy as np"
   ]
  },
  {
   "cell_type": "code",
   "execution_count": 2,
   "metadata": {
    "colab": {
     "base_uri": "https://localhost:8080/",
     "height": 35
    },
    "id": "bjZ7TmxNh3FE",
    "outputId": "4b0803f1-e4b1-4291-a863-545b2a2b1ce7"
   },
   "outputs": [
    {
     "data": {
      "text/plain": [
       "'2.3.0'"
      ]
     },
     "execution_count": 2,
     "metadata": {},
     "output_type": "execute_result"
    }
   ],
   "source": [
    "tf.__version__"
   ]
  },
  {
   "cell_type": "markdown",
   "metadata": {
    "id": "L3jqjCppiB0x"
   },
   "source": [
    "### Constants"
   ]
  },
  {
   "cell_type": "markdown",
   "metadata": {
    "id": "F58hfumftBPK"
   },
   "source": [
    "#### Defining a constant"
   ]
  },
  {
   "cell_type": "code",
   "execution_count": 3,
   "metadata": {
    "id": "EL_NS0EDh4U2"
   },
   "outputs": [],
   "source": [
    "# Defining a constant in TensorFlow 2.0\n",
    "tensor_20 = tf.constant([[23, 4], [32, 51]])"
   ]
  },
  {
   "cell_type": "code",
   "execution_count": 4,
   "metadata": {
    "colab": {
     "base_uri": "https://localhost:8080/",
     "height": 72
    },
    "id": "zu1SK9N-iLj-",
    "outputId": "37bef0cb-59bb-4015-f665-7fc88cc47084"
   },
   "outputs": [
    {
     "data": {
      "text/plain": [
       "<tf.Tensor: shape=(2, 2), dtype=int32, numpy=\n",
       "array([[23,  4],\n",
       "       [32, 51]], dtype=int32)>"
      ]
     },
     "execution_count": 4,
     "metadata": {},
     "output_type": "execute_result"
    }
   ],
   "source": [
    "tensor_20"
   ]
  },
  {
   "cell_type": "code",
   "execution_count": 5,
   "metadata": {
    "colab": {
     "base_uri": "https://localhost:8080/",
     "height": 35
    },
    "id": "Pi1hQ7VYiNoP",
    "outputId": "1e17e0ee-3477-4ce9-e35c-34a9218e1e5d"
   },
   "outputs": [
    {
     "data": {
      "text/plain": [
       "TensorShape([2, 2])"
      ]
     },
     "execution_count": 5,
     "metadata": {},
     "output_type": "execute_result"
    }
   ],
   "source": [
    "# Getting the shape of a tensor\n",
    "tensor_20.shape"
   ]
  },
  {
   "cell_type": "markdown",
   "metadata": {
    "id": "KfR8I7EOituB"
   },
   "source": [
    "#### Getting the values of a constant"
   ]
  },
  {
   "cell_type": "code",
   "execution_count": 6,
   "metadata": {
    "colab": {
     "base_uri": "https://localhost:8080/",
     "height": 54
    },
    "id": "C1mt_C-7iV3l",
    "outputId": "7fd6c3aa-e14e-4f14-dce6-bdb89d21beed"
   },
   "outputs": [
    {
     "data": {
      "text/plain": [
       "array([[23,  4],\n",
       "       [32, 51]], dtype=int32)"
      ]
     },
     "execution_count": 6,
     "metadata": {},
     "output_type": "execute_result"
    }
   ],
   "source": [
    "# Getting the values straight from a TensorFlow constant with numpy, and without the need of a session\n",
    "tensor_20.numpy()"
   ]
  },
  {
   "cell_type": "code",
   "execution_count": 7,
   "metadata": {
    "id": "4yu4Rvo2igb2"
   },
   "outputs": [],
   "source": [
    "# We are able to convert a numpy array back to a TensorFlow tensor as well\n",
    "numpy_tensor = np.array([[23,  4], [32, 51]])"
   ]
  },
  {
   "cell_type": "code",
   "execution_count": 8,
   "metadata": {
    "id": "3uLZ7XAYjOO2"
   },
   "outputs": [],
   "source": [
    "tensor_from_numpy = tf.constant(numpy_tensor)"
   ]
  },
  {
   "cell_type": "code",
   "execution_count": 9,
   "metadata": {
    "colab": {
     "base_uri": "https://localhost:8080/",
     "height": 72
    },
    "id": "ltsz-6FrjWDE",
    "outputId": "213dff42-7a3a-42df-9db5-9678f7497c70"
   },
   "outputs": [
    {
     "data": {
      "text/plain": [
       "<tf.Tensor: shape=(2, 2), dtype=int64, numpy=\n",
       "array([[23,  4],\n",
       "       [32, 51]])>"
      ]
     },
     "execution_count": 9,
     "metadata": {},
     "output_type": "execute_result"
    }
   ],
   "source": [
    "tensor_from_numpy"
   ]
  },
  {
   "cell_type": "markdown",
   "metadata": {
    "id": "uq-atYpaV2mB"
   },
   "source": [
    "### Variables"
   ]
  },
  {
   "cell_type": "markdown",
   "metadata": {
    "id": "SzoCDLwlt8V-"
   },
   "source": [
    "#### Defining a variable"
   ]
  },
  {
   "cell_type": "code",
   "execution_count": 10,
   "metadata": {
    "colab": {
     "base_uri": "https://localhost:8080/",
     "height": 72
    },
    "id": "INUlB5zoIB90",
    "outputId": "8276a637-4633-4433-caaf-097b0784d863"
   },
   "outputs": [
    {
     "data": {
      "text/plain": [
       "<tf.Variable 'Variable:0' shape=(2, 3) dtype=float32, numpy=\n",
       "array([[1., 2., 3.],\n",
       "       [4., 5., 6.]], dtype=float32)>"
      ]
     },
     "execution_count": 10,
     "metadata": {},
     "output_type": "execute_result"
    }
   ],
   "source": [
    "tf2_variable = tf.Variable([[1., 2., 3.], [4., 5., 6.]])\n",
    "tf2_variable"
   ]
  },
  {
   "cell_type": "markdown",
   "metadata": {
    "id": "Oqi-QOsMWo7F"
   },
   "source": [
    "#### Getting the values of a variable"
   ]
  },
  {
   "cell_type": "code",
   "execution_count": 11,
   "metadata": {
    "colab": {
     "base_uri": "https://localhost:8080/",
     "height": 54
    },
    "id": "pCQr70r1IhLF",
    "outputId": "acaa9843-0462-4831-aa22-8850034a30b2"
   },
   "outputs": [
    {
     "data": {
      "text/plain": [
       "array([[1., 2., 3.],\n",
       "       [4., 5., 6.]], dtype=float32)"
      ]
     },
     "execution_count": 11,
     "metadata": {},
     "output_type": "execute_result"
    }
   ],
   "source": [
    "tf2_variable.numpy()"
   ]
  },
  {
   "cell_type": "markdown",
   "metadata": {
    "id": "Ka8Tpnk_WvET"
   },
   "source": [
    "#### Changing a specific value in the variable"
   ]
  },
  {
   "cell_type": "code",
   "execution_count": 12,
   "metadata": {
    "colab": {
     "base_uri": "https://localhost:8080/",
     "height": 72
    },
    "id": "23OsvfbXWtel",
    "outputId": "f171b421-8187-4fb1-ec9b-f94ee38cb44e"
   },
   "outputs": [
    {
     "data": {
      "text/plain": [
       "<tf.Variable 'UnreadVariable' shape=(2, 3) dtype=float32, numpy=\n",
       "array([[  1.,   2., 100.],\n",
       "       [  4.,   5.,   6.]], dtype=float32)>"
      ]
     },
     "execution_count": 12,
     "metadata": {},
     "output_type": "execute_result"
    }
   ],
   "source": [
    "tf2_variable[0, 2].assign(100)"
   ]
  },
  {
   "cell_type": "code",
   "execution_count": 13,
   "metadata": {
    "colab": {
     "base_uri": "https://localhost:8080/",
     "height": 72
    },
    "id": "cSj0YvJkXZu8",
    "outputId": "56f67b34-9320-48d6-8808-35651b2c8ce0"
   },
   "outputs": [
    {
     "data": {
      "text/plain": [
       "<tf.Variable 'Variable:0' shape=(2, 3) dtype=float32, numpy=\n",
       "array([[  1.,   2., 100.],\n",
       "       [  4.,   5.,   6.]], dtype=float32)>"
      ]
     },
     "execution_count": 13,
     "metadata": {},
     "output_type": "execute_result"
    }
   ],
   "source": [
    "tf2_variable"
   ]
  },
  {
   "cell_type": "markdown",
   "metadata": {
    "id": "QdbG1kvXD2O-"
   },
   "source": [
    "### Operations with tensors"
   ]
  },
  {
   "cell_type": "code",
   "execution_count": 14,
   "metadata": {
    "colab": {
     "base_uri": "https://localhost:8080/",
     "height": 72
    },
    "id": "M8TE6VvuFDXd",
    "outputId": "5e87685b-48a6-4a2d-d268-a9b4be2cb769"
   },
   "outputs": [
    {
     "data": {
      "text/plain": [
       "<tf.Tensor: shape=(2, 2), dtype=int32, numpy=\n",
       "array([[1, 2],\n",
       "       [3, 4]], dtype=int32)>"
      ]
     },
     "execution_count": 14,
     "metadata": {},
     "output_type": "execute_result"
    }
   ],
   "source": [
    "tensor = tf.constant([[1, 2], [3, 4]])\n",
    "tensor"
   ]
  },
  {
   "cell_type": "markdown",
   "metadata": {
    "id": "9AelsMJIFYku"
   },
   "source": [
    "#### Addition between a scalar and a tensor"
   ]
  },
  {
   "cell_type": "code",
   "execution_count": 15,
   "metadata": {
    "colab": {
     "base_uri": "https://localhost:8080/",
     "height": 72
    },
    "id": "nBHn9DTVjW6s",
    "outputId": "2e9cf13a-0482-4a05-feba-fc8c3ba20848"
   },
   "outputs": [
    {
     "data": {
      "text/plain": [
       "<tf.Tensor: shape=(2, 2), dtype=int32, numpy=\n",
       "array([[3, 4],\n",
       "       [5, 6]], dtype=int32)>"
      ]
     },
     "execution_count": 15,
     "metadata": {},
     "output_type": "execute_result"
    }
   ],
   "source": [
    "tensor + 2"
   ]
  },
  {
   "cell_type": "markdown",
   "metadata": {
    "id": "oQY7rduwFfEC"
   },
   "source": [
    "#### Multiplication between a scalar and a tensor"
   ]
  },
  {
   "cell_type": "code",
   "execution_count": 16,
   "metadata": {
    "colab": {
     "base_uri": "https://localhost:8080/",
     "height": 72
    },
    "id": "WZkzLDnVFBZF",
    "outputId": "12bffe47-4147-476b-924c-aa15cd262354"
   },
   "outputs": [
    {
     "data": {
      "text/plain": [
       "<tf.Tensor: shape=(2, 2), dtype=int32, numpy=\n",
       "array([[ 5, 10],\n",
       "       [15, 20]], dtype=int32)>"
      ]
     },
     "execution_count": 16,
     "metadata": {},
     "output_type": "execute_result"
    }
   ],
   "source": [
    "tensor * 5"
   ]
  },
  {
   "cell_type": "markdown",
   "metadata": {
    "id": "0algGv7HFrUI"
   },
   "source": [
    "#### Using Numpy functions on TensorFlow tensors"
   ]
  },
  {
   "cell_type": "code",
   "execution_count": 17,
   "metadata": {
    "colab": {
     "base_uri": "https://localhost:8080/",
     "height": 54
    },
    "id": "zTeiyc6HFyIs",
    "outputId": "dff5e640-2e79-4dec-c9ca-3b8aac9357a8"
   },
   "outputs": [
    {
     "data": {
      "text/plain": [
       "array([[ 1,  4],\n",
       "       [ 9, 16]], dtype=int32)"
      ]
     },
     "execution_count": 17,
     "metadata": {},
     "output_type": "execute_result"
    }
   ],
   "source": [
    "# Getting the squares of all numbers in a TensorFlow tensor object\n",
    "np.square(tensor)"
   ]
  },
  {
   "cell_type": "code",
   "execution_count": 18,
   "metadata": {
    "colab": {
     "base_uri": "https://localhost:8080/",
     "height": 54
    },
    "id": "zcR_Z_4vF2wG",
    "outputId": "fc9e42a0-d5e9-436b-8fbe-e24f7bda4c62"
   },
   "outputs": [
    {
     "data": {
      "text/plain": [
       "array([[1.        , 1.41421356],\n",
       "       [1.73205081, 2.        ]])"
      ]
     },
     "execution_count": 18,
     "metadata": {},
     "output_type": "execute_result"
    }
   ],
   "source": [
    "# Getting the square root of all numbers in a tensorflow tensor object\n",
    "np.sqrt(tensor)"
   ]
  },
  {
   "cell_type": "markdown",
   "metadata": {
    "id": "UL--f1anIMRl"
   },
   "source": [
    "#### Dot product between two tensors"
   ]
  },
  {
   "cell_type": "code",
   "execution_count": 19,
   "metadata": {
    "colab": {
     "base_uri": "https://localhost:8080/",
     "height": 54
    },
    "id": "6DGgNB--F6Q1",
    "outputId": "1bcd95b9-2863-45b5-9764-84fb778e6501"
   },
   "outputs": [
    {
     "data": {
      "text/plain": [
       "array([[ 87, 106],\n",
       "       [197, 216]], dtype=int32)"
      ]
     },
     "execution_count": 19,
     "metadata": {},
     "output_type": "execute_result"
    }
   ],
   "source": [
    " np.dot(tensor, tensor_20)"
   ]
  },
  {
   "cell_type": "markdown",
   "metadata": {
    "id": "12dtWEKjXl7l"
   },
   "source": [
    "### Strings in TensorFlow 2.0"
   ]
  },
  {
   "cell_type": "code",
   "execution_count": 20,
   "metadata": {
    "colab": {
     "base_uri": "https://localhost:8080/",
     "height": 35
    },
    "id": "fXj_Be2bXgdj",
    "outputId": "8babd4f5-a504-4950-91b7-8a0dfdbc61f4"
   },
   "outputs": [
    {
     "data": {
      "text/plain": [
       "<tf.Tensor: shape=(), dtype=string, numpy=b'TensorFlow'>"
      ]
     },
     "execution_count": 20,
     "metadata": {},
     "output_type": "execute_result"
    }
   ],
   "source": [
    "tf_string = tf.constant(\"TensorFlow\")\n",
    "tf_string"
   ]
  },
  {
   "cell_type": "markdown",
   "metadata": {
    "id": "R9VXL59XYPDG"
   },
   "source": [
    "#### Simple string operations"
   ]
  },
  {
   "cell_type": "code",
   "execution_count": 21,
   "metadata": {
    "colab": {
     "base_uri": "https://localhost:8080/",
     "height": 35
    },
    "id": "_sIYqcC9YjoS",
    "outputId": "01556bf0-d72c-4fac-d413-190ee80d8ea3"
   },
   "outputs": [
    {
     "data": {
      "text/plain": [
       "<tf.Tensor: shape=(), dtype=int32, numpy=10>"
      ]
     },
     "execution_count": 21,
     "metadata": {},
     "output_type": "execute_result"
    }
   ],
   "source": [
    "tf.strings.length(tf_string)"
   ]
  },
  {
   "cell_type": "code",
   "execution_count": 22,
   "metadata": {
    "colab": {
     "base_uri": "https://localhost:8080/",
     "height": 35
    },
    "id": "vxQRhILBYmiH",
    "outputId": "b5def63f-b3ae-4f65-b9bb-76ae4c867d7e"
   },
   "outputs": [
    {
     "data": {
      "text/plain": [
       "<tf.Tensor: shape=(10,), dtype=int32, numpy=array([ 84, 101, 110, 115, 111, 114,  70, 108, 111, 119], dtype=int32)>"
      ]
     },
     "execution_count": 22,
     "metadata": {},
     "output_type": "execute_result"
    }
   ],
   "source": [
    "tf.strings.unicode_decode(tf_string, \"UTF8\")"
   ]
  },
  {
   "cell_type": "markdown",
   "metadata": {
    "id": "tEjJCCK2ZUzT"
   },
   "source": [
    "#### Storing arrays of strings"
   ]
  },
  {
   "cell_type": "code",
   "execution_count": 23,
   "metadata": {
    "id": "YHvHvS0DZakV"
   },
   "outputs": [],
   "source": [
    "tf_string_array = tf.constant([\"TensorFlow\", \"Deep Learning\", \"AI\"])"
   ]
  },
  {
   "cell_type": "code",
   "execution_count": 24,
   "metadata": {
    "colab": {
     "base_uri": "https://localhost:8080/",
     "height": 72
    },
    "id": "wyFS4E9uZh21",
    "outputId": "5957ba70-c78f-4c9b-8f02-40ebea6a412c"
   },
   "outputs": [
    {
     "name": "stdout",
     "output_type": "stream",
     "text": [
      "tf.Tensor(b'TensorFlow', shape=(), dtype=string)\n",
      "tf.Tensor(b'Deep Learning', shape=(), dtype=string)\n",
      "tf.Tensor(b'AI', shape=(), dtype=string)\n"
     ]
    }
   ],
   "source": [
    "# Iterating through the TF string array\n",
    "for string in tf_string_array:\n",
    "    print(string)"
   ]
  },
  {
   "cell_type": "code",
   "execution_count": null,
   "metadata": {},
   "outputs": [],
   "source": []
  }
 ],
 "metadata": {
  "colab": {
   "collapsed_sections": [],
   "name": "Colab 2 - TensorFlow 2.0 Introduction.ipynb",
   "provenance": [],
   "toc_visible": true
  },
  "kernelspec": {
   "display_name": "Python 3",
   "language": "python",
   "name": "python3"
  },
  "language_info": {
   "codemirror_mode": {
    "name": "ipython",
    "version": 3
   },
   "file_extension": ".py",
   "mimetype": "text/x-python",
   "name": "python",
   "nbconvert_exporter": "python",
   "pygments_lexer": "ipython3",
   "version": "3.6.8"
  }
 },
 "nbformat": 4,
 "nbformat_minor": 4
}
