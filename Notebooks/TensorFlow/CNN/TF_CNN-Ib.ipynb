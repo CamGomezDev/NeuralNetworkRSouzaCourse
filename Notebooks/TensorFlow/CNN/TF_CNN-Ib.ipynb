{
 "cells": [
  {
   "cell_type": "markdown",
   "metadata": {},
   "source": [
    "<h1 style=\"color:rgb(0,120,170)\">Neural Networks and Deep Learning</h1>\n",
    "<h2 style=\"color:rgb(0,120,170)\"> Predictive Analysis - Image Processing</h2>\n",
    "\n",
    "[source](https://medium.com/swlh/classifying-fashion-mnist-dataset-with-convolutional-neural-nets-dd092d755164)"
   ]
  },
  {
   "cell_type": "markdown",
   "metadata": {},
   "source": [
    "!pip3 install -U opencv-python"
   ]
  },
  {
   "cell_type": "code",
   "execution_count": 1,
   "metadata": {},
   "outputs": [],
   "source": [
    "import numpy as np\n",
    "import pandas as pd\n",
    "import matplotlib.pyplot as plt\n",
    "import seaborn as sns\n",
    "\n",
    "import cv2\n",
    "\n",
    "from sklearn.metrics import accuracy_score\n",
    "from keras.datasets import fashion_mnist"
   ]
  },
  {
   "cell_type": "code",
   "execution_count": 2,
   "metadata": {},
   "outputs": [
    {
     "name": "stdout",
     "output_type": "stream",
     "text": [
      "Shape:\n",
      "X_Train (60000, 28, 28)\n",
      "Y_Train (60000,)\n",
      "X_Test (10000, 28, 28)\n",
      "Y_Test (10000,)\n"
     ]
    }
   ],
   "source": [
    "(x_train, y_train), (x_test, y_test) = fashion_mnist.load_data()\n",
    "print('Shape:')\n",
    "print('X_Train {}'.format(x_train.shape))\n",
    "print('Y_Train {}'.format(y_train.shape))\n",
    "print('X_Test {}'.format(x_test.shape))\n",
    "print('Y_Test {}'.format(y_test.shape))"
   ]
  },
  {
   "cell_type": "code",
   "execution_count": 3,
   "metadata": {},
   "outputs": [],
   "source": [
    "def check_samples(sample, plot=True):\n",
    "    counter = {}\n",
    "    for key in sample:\n",
    "        if key not in counter.keys():\n",
    "            counter[key] = 1\n",
    "        else:\n",
    "            counter[key] = counter[key] + 1\n",
    "    df_dict = {'cat':[x for x in counter.keys()], \n",
    "               'cnt':[y for y in  counter.values()]}\n",
    "    cnt_df = pd.DataFrame(df_dict)\n",
    "    if plot:\n",
    "        sns.barplot(data=cnt_df, x='cat', y='cnt')\n",
    "        plt.xlabel('Category')\n",
    "        plt.ylabel('Count')\n",
    "        plt.title('# of Obs. in each Category')\n",
    "        return None\n",
    "    else:\n",
    "        return cnt_df"
   ]
  },
  {
   "cell_type": "code",
   "execution_count": 4,
   "metadata": {},
   "outputs": [
    {
     "data": {
      "image/png": "[encoded data removed]",
      "text/plain": [
       "<Figure size 432x288 with 1 Axes>"
      ]
     },
     "metadata": {
      "needs_background": "light"
     },
     "output_type": "display_data"
    }
   ],
   "source": [
    "check_samples(y_train)"
   ]
  },
  {
   "cell_type": "code",
   "execution_count": 5,
   "metadata": {},
   "outputs": [],
   "source": [
    "#Scale Image\n",
    "def scale_img(dim, img):\n",
    "    resized_img = cv2.resize(np.asarray(img), dim, interpolation = cv2.INTER_AREA)\n",
    "    return resized_img\n",
    "\n",
    "#Normalize Image\n",
    "def normalize_img(img, is_gray = False):\n",
    "    normalized_img = cv2.normalize(img, img, 0, 255, cv2.NORM_MINMAX)\n",
    "    if is_gray:\n",
    "        cvt = cv2.cvtColor(normalized_img, cv2.COLOR_BGR2GRAY)\n",
    "        return cvt\n",
    "    return normalized_img\n",
    "\n",
    "#Rotate Image\n",
    "def rotate_img(img, rot_deg):\n",
    "    rows,cols = img.shape[0], img.shape[1]\n",
    "    M = cv2.getRotationMatrix2D((cols/2,rows/2),rot_deg,1)\n",
    "    dst = cv2.warpAffine(img,M,(cols,rows))\n",
    "    return dst\n",
    "\n",
    "#Translate Image\n",
    "def translate_img(img,x=100,y=50):\n",
    "    rows,cols = img.shape[0], img.shape[1]\n",
    "    M = np.float32([[1,0,x],[0,1,y]])\n",
    "    dst = cv2.warpAffine(img,M,(cols,rows))\n",
    "    return dst"
   ]
  },
  {
   "cell_type": "code",
   "execution_count": null,
   "metadata": {},
   "outputs": [],
   "source": [
    "x_train_tran = x_train.tolist()\n",
    "y_train_tran = y_train.tolist()\n",
    "ctr = 0\n",
    "for img in x_train:\n",
    "    x_train_tran.append(rotate_img(img, 90))\n",
    "    y_train_tran.append(y_train[ctr])\n",
    "    x_train_tran. append(translate_img(img, x=15, y=15))\n",
    "    y_train_tran.append(y_train[ctr])\n",
    "    ctr = ctr + 1\n",
    "    \n",
    "x_train_tran = np.array(x_train_tran).reshape(len(x_train_tran), 28, 28, 1)\n",
    "y_train_tran = to_categorical(np.array(y_train_tran))\n",
    "x_train_tran, y_train_tran = shuffle(x_train_tran, y_train_tran)\n",
    "\n",
    "print('Shape:')\n",
    "print('X_Train {}'.format(x_train_tran.shape))\n",
    "print('Y_Train {}'.format(y_train_tran.shape))"
   ]
  },
  {
   "cell_type": "code",
   "execution_count": null,
   "metadata": {},
   "outputs": [],
   "source": [
    "cnn_model = Sequential()\n",
    "cnn_model.add(Conv2D(filters=128, kernel_size=(5,5), activation='relu',input_shape=(28,28,1)))\n",
    "cnn_model.add(MaxPooling2D(pool_size=(3,3), strides=(3,3)))\n",
    "cnn_model.add(Conv2D(filters=64, kernel_size=(2,2), activation='relu'))\n",
    "cnn_model.add(MaxPooling2D(pool_size=(2,2)))\n",
    "cnn_model.add(Conv2D(filters=32, kernel_size=(2,2), activation='relu'))\n",
    "cnn_model.add(MaxPooling2D(pool_size=(2,2), strides=(2,2)))\n",
    "cnn_model.add(Flatten())\n",
    "cnn_model.add(Dense(32, activation='relu'))\n",
    "cnn_model.add(Dense(to_categorical(y_train).shape[1], activation='softmax'))"
   ]
  },
  {
   "cell_type": "code",
   "execution_count": null,
   "metadata": {},
   "outputs": [],
   "source": [
    "es = EarlyStopping(monitor='loss', min_delta=1e-4, patience=15, verbose=2, mode='auto')\n",
    "\n",
    "cnn_model.compile(optimizer='adam', loss='categorical_crossentropy', metrics=['accuracy'])\n",
    "cnn_model.fit(x_train_tran, y_train_tran, batch_size=32, epochs=150, callbacks=[es])"
   ]
  },
  {
   "cell_type": "code",
   "execution_count": null,
   "metadata": {},
   "outputs": [],
   "source": [
    "preds = cnn_model.predict(x_test_tran)\n",
    "pred_list = []\n",
    "for i in preds:\n",
    "    pred_list.append(np.argmax(i))\n",
    "\n",
    "print('{}%'.format(accuracy_score(y_pred=pred_list,y_true=y_test) * 100))"
   ]
  },
  {
   "cell_type": "code",
   "execution_count": null,
   "metadata": {},
   "outputs": [],
   "source": [
    "class_map = {0:'T-shirt/top',\n",
    "             1:'Trouser',\n",
    "             2:'Pullover',\n",
    "             3:'Dress',\n",
    "             4:'Coat',\n",
    "             5:'Sandal',\n",
    "             6:'Shirt',\n",
    "             7:'Sneaker',\n",
    "             8:'Bag',\n",
    "             9:'Ankle boot'}\n",
    "\n",
    "true_class_ct = {}\n",
    "\n",
    "for i in range(10):\n",
    "    true_class_ct[class_map[i]] = sum(1 for x in incorrect_df['true'] if x == class_map[i])\n",
    "    pred_class_ct = {}\n",
    "for i in range(10):\n",
    "    pred_class_ct[class_map[i]] = sum(1 for x in incorrect_df['pred'] if x == class_map[i])\n",
    "    \n",
    "pred_class_ctop = {}\n",
    "\n",
    "def percentage_error(trueval, changedval, i):\n",
    "    op[class_map[i]] = ((changedval - trueval)/trueval) * 100\n",
    "    \n",
    "for ct in range(10):\n",
    "    tv = true_class_ct[class_map[ct]]\n",
    "    cv = pred_class_ct[class_map[ct]]\n",
    "    percentage_error(tv, cv, ct)\n",
    "    \n",
    "fig, ax = plt.subplots()\n",
    "width = 0.4\n",
    "x = np.arange(10)\n",
    "rects1 = ax.bar(x - width/2, list(true_class_ct.values()), width, label='True')\n",
    "rects2 = ax.bar(x + width/2, list(pred_class_ct.values()), width, label='CNN Predicted')\n",
    "\n",
    "ax.set_ylabel('Count')\n",
    "ax.set_title('Classification Error in each class')\n",
    "ax.set_xticks(x)\n",
    "ax.set_xticklabels(list(op.keys()))\n",
    "ax.legend()\n",
    "plt.xticks(rotation=45)"
   ]
  },
  {
   "cell_type": "code",
   "execution_count": null,
   "metadata": {},
   "outputs": [],
   "source": [
    "sns.barplot(x=list(op.keys()), y=list(op.values()))\n",
    "plt.ylabel(\"Percentage\")\n",
    "plt.title('Percentage error for each class')\n",
    "plt.xticks(rotation=45)\n",
    "plt.xlabel('Classes')"
   ]
  },
  {
   "cell_type": "markdown",
   "metadata": {},
   "source": [
    "Sneakers seems to be a problem. The model classified 60% more samples as sneakers than the original samples that were sneakers. Percentage, however, by itself is not enough. If we consider both bar charts, we can see that our model is overfitting few categories. There are few ways to avoid that.\n",
    "\n",
    "+ Regularization (L1/L2)\n",
    "+ Adding Dropout Layers\n",
    "+ Adding more data by data augmentation (which we did).\n",
    "\n",
    "Model fitting in my opinion is an iterative process. You begin with a model that you think has best hyperparameters to understand data. You then assess the model to see how well it performs on the training data using metrics like accuracy, loss etc. If the model seems to be not doing great, you tweak the hyperparameters and fit the model again until you reach a desired model. Hypothetically, a desired model is the one that has close to 100% accuracy and, that does not over or under-fit on training set and is not biased."
   ]
  },
  {
   "cell_type": "code",
   "execution_count": null,
   "metadata": {},
   "outputs": [],
   "source": []
  }
 ],
 "metadata": {
  "kernelspec": {
   "display_name": "Python 3",
   "language": "python",
   "name": "python3"
  },
  "language_info": {
   "codemirror_mode": {
    "name": "ipython",
    "version": 3
   },
   "file_extension": ".py",
   "mimetype": "text/x-python",
   "name": "python",
   "nbconvert_exporter": "python",
   "pygments_lexer": "ipython3",
   "version": "3.8.5"
  }
 },
 "nbformat": 4,
 "nbformat_minor": 4
}
