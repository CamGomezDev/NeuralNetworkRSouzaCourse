{
 "cells": [
  {
   "cell_type": "markdown",
   "metadata": {
    "colab_type": "text",
    "id": "pdmqqvbyL_sz"
   },
   "source": [
    "<h1 style=\"color:rgb(0,120,170)\">Neural Networks and Deep Learning</h1>\n",
    "\n",
    "## [Implementing Neural Networks with Numpy](https://github.com/SurajDonthi/Neural-Networks-from-Scratch)\n",
    "\n",
    "### Part 4: Neural Networks from Scratch  "
   ]
  },
  {
   "cell_type": "code",
   "execution_count": 1,
   "metadata": {},
   "outputs": [],
   "source": [
    "import numpy as np\n",
    "import matplotlib.pyplot as plt"
   ]
  },
  {
   "cell_type": "markdown",
   "metadata": {},
   "source": [
    "Activation Function\n",
    "\n",
    "In the hidden layer, we will use the tanh activation function and in the output layer, I will use the sigmoid function. It is easy to find information on both the sigmoid function and the tanh function graph. I don’t want to bore you with explanations, so I will just implement it.\n",
    "\n",
    "![Sigmoid](./Images/2nn0.png)"
   ]
  },
  {
   "cell_type": "code",
   "execution_count": 2,
   "metadata": {},
   "outputs": [],
   "source": [
    "def sigmoid(x):\n",
    "    return (1 / (1 + np.exp(-x)))"
   ]
  },
  {
   "cell_type": "markdown",
   "metadata": {},
   "source": [
    "Setting Parameters\n",
    "\n",
    "What are parameters and hyperparameters? Parameters are weights and biases. Hyperparameters effect parameters and are before the learning begins. Setting hyperparameters perfectly correctly at first is not a piece of cake, you’ll need to tinker and tweak your values. The learning rate, number of iterations, and regularization rate, among others, can all be considered as hyperparameters.\n",
    "\n",
    "Wondering how to set the matrices sizes? The answer just below!\n",
    "\n",
    "What does all that mean? For example:\n",
    "(layer 0 so L = 0) number of neurons in input layers = 3\n",
    "(layer 1 so L = 1) number of neurons in hidden layers = 5\n",
    "(layer 2 so L = 2) number of neurons in output layers = 1\n",
    "\n",
    "I hope this all makes sense! Let’s set the parameters:"
   ]
  },
  {
   "cell_type": "code",
   "execution_count": 3,
   "metadata": {},
   "outputs": [],
   "source": [
    "def setParameters(X, Y, hidden_size):\n",
    "    np.random.seed(3)\n",
    "    \n",
    "    input_size = X.shape[0] # number of neurons in input layer\n",
    "    output_size = Y.shape[0] # number of neurons in output layer.\n",
    "    \n",
    "    W1 = np.random.randn(hidden_size, input_size) * np.sqrt(2/input_size)\n",
    "    b1 = np.zeros((hidden_size, 1))\n",
    "    \n",
    "    W2 = np.random.randn(output_size, hidden_size) * np.sqrt(2/hidden_size)\n",
    "    b2 = np.zeros((output_size, 1))\n",
    "    return {'W1': W1, 'W2': W2, 'b1': b1, 'b2': b2}"
   ]
  },
  {
   "cell_type": "markdown",
   "metadata": {},
   "source": [
    "We define W1, b1, W2, and b2. It doesn’t hurt if you set your biases to zero at first. However, be very careful when initializing weights. Never set the weights to zero at first. Why exactly? Well, if you do, then in Z = Wx + b, Z will always be zero. If you are building a multi-layer neural network, neurons in every layer will behave like there is one neuron. So how do we initialize weights at first? I use he initialization.\n",
    "\n",
    "![Sigmoid](./Images/2nn1.png)"
   ]
  },
  {
   "cell_type": "code",
   "execution_count": 4,
   "metadata": {},
   "outputs": [
    {
     "data": {
      "text/plain": [
       "array([[ 0.69781336, -0.04322357, -1.03899755, -1.1808012 ,  0.50424918]])"
      ]
     },
     "execution_count": 4,
     "metadata": {},
     "output_type": "execute_result"
    }
   ],
   "source": [
    "hidden_size = 5\n",
    "output_size = 1\n",
    "np.random.randn(output_size, hidden_size) * np.sqrt(2/hidden_size)"
   ]
  },
  {
   "cell_type": "markdown",
   "metadata": {},
   "source": [
    "Or just use this:"
   ]
  },
  {
   "cell_type": "code",
   "execution_count": 5,
   "metadata": {},
   "outputs": [
    {
     "data": {
      "text/plain": [
       "array([[-0.00464412, -0.00661853,  0.00751112, -0.00775691, -0.00506107]])"
      ]
     },
     "execution_count": 5,
     "metadata": {},
     "output_type": "execute_result"
    }
   ],
   "source": [
    "np.random.randn(output_size, hidden_size) * 0.01"
   ]
  },
  {
   "cell_type": "markdown",
   "metadata": {},
   "source": [
    "![Sigmoid](./Images/2nn2.png)"
   ]
  },
  {
   "cell_type": "code",
   "execution_count": 6,
   "metadata": {},
   "outputs": [],
   "source": [
    "def forwardPropagation(X, params):\n",
    "    Z1 = np.dot(params['W1'], X) + params['b1']\n",
    "    A1 = np.tanh(Z1)\n",
    "  \n",
    "    Z2 = np.dot(params['W2'], A1) + params['b2']\n",
    "    y = sigmoid(Z2)  \n",
    "    return y, {'Z1': Z1, 'Z2': Z2, 'A1': A1, 'y': y}"
   ]
  },
  {
   "cell_type": "markdown",
   "metadata": {},
   "source": [
    "Why we are storing {‘Z1’: Z1, ‘Z2’: Z2, ‘A1’: A1, ‘y’: y}? Because we will use them when back-propagating.\n",
    "\n",
    "Cost function\n",
    "\n",
    "We just looked at forward propagation and obtained a prediction (y). We calculate it using a cost function.\n",
    "\n",
    "![Cost](./Images/2nn3.png)\n",
    "![Cost](./Images/2nn4.png)\n",
    "\n",
    "We update our parameters and find the best parameter that gives us the minimum possible cost. I’m not going to delve into derivatives, but note that on the graph above, if you are on the right sight of the parabola, the derivative (slope) will be positive, so the parameter will decrease and move left approaching the parameter that returns the minimum cost. On the left side, the slope will be negative, so the parameter increases towards the value we want. Let’s look at the cost function we will use:\n",
    "\n",
    "![Cost](./Images/2nn5.png)"
   ]
  },
  {
   "cell_type": "code",
   "execution_count": 7,
   "metadata": {},
   "outputs": [],
   "source": [
    "def cost(predict, actual):\n",
    "    m = actual.shape[1]\n",
    "    cost__ = -np.sum(np.multiply(np.log(predict), actual) + np.multiply((1 - actual), np.log(1 - predict)))/m\n",
    "    return np.squeeze(cost__)"
   ]
  },
  {
   "cell_type": "markdown",
   "metadata": {},
   "source": [
    "Backpropagation\n",
    "\n",
    "We’ve found the cost, now let’s go back and find the derivative of our weights and biases. In a future piece, I plan to show you how to derivate them step by step."
   ]
  },
  {
   "cell_type": "code",
   "execution_count": 8,
   "metadata": {},
   "outputs": [],
   "source": [
    "def backPropagation(X, Y, params, cache):\n",
    "    m = X.shape[1]\n",
    "    \n",
    "    dy = cache['y'] - Y\n",
    "    dW2 = (1 / m) * np.dot(dy, np.transpose(cache['A1']))\n",
    "    db2 = (1 / m) * np.sum(dy, axis=1, keepdims=True)\n",
    "    \n",
    "    dZ1 = np.dot(np.transpose(params['W2']), dy) * (1-np.power(cache['A1'], 2))\n",
    "    dW1 = (1 / m) * np.dot(dZ1, np.transpose(X))\n",
    "    db1 = (1 / m) * np.sum(dZ1, axis=1, keepdims=True)\n",
    "    return {\"dW1\": dW1, \"db1\": db1, \"dW2\": dW2, \"db2\": db2}"
   ]
  },
  {
   "cell_type": "markdown",
   "metadata": {},
   "source": [
    "What are the params and cache in def backPropagation(X, Y, params, cache)? When we use forward propagation, we store values to use during backpropagation. Params are parameters (weight and biases).\n",
    "Updating Parameters\n",
    "\n",
    "Now that we have our derivatives, we can use the equation below:\n",
    "![derivatives](./Images/2nn6.png)\n",
    "\n",
    "In that equation, alpha (α) is the learning rate hyperparameter. We need to set it to some value before the learning begins. The term to the right of the learning rate is the derivative. We know alpha and derivatives, let’s update our parameters."
   ]
  },
  {
   "cell_type": "code",
   "execution_count": 9,
   "metadata": {},
   "outputs": [],
   "source": [
    "def updateParameters(gradients, params, learning_rate = 1.2):\n",
    "    W1 = params['W1'] - learning_rate * gradients['dW1']\n",
    "    b1 = params['b1'] - learning_rate * gradients['db1']\n",
    "    W2 = params['W2'] - learning_rate * gradients['dW2']\n",
    "    b2 = params['b2'] - learning_rate * gradients['db2']\n",
    "    return {'W1': W1, 'W2': W2, 'b1': b1, 'b2': b2}"
   ]
  },
  {
   "cell_type": "markdown",
   "metadata": {},
   "source": [
    "All About Loops\n",
    "\n",
    "We need to run many interations to find the parameters that return the minimum cost. Let’s loops it!"
   ]
  },
  {
   "cell_type": "code",
   "execution_count": 10,
   "metadata": {},
   "outputs": [],
   "source": [
    "def fit(X, Y, learning_rate, hidden_size, number_of_iterations = 5000):\n",
    "    params = setParameters(X, Y, hidden_size)\n",
    "    cost_ = []\n",
    "    for j in range(number_of_iterations):\n",
    "        y, cache = forwardPropagation(X, params)\n",
    "        costit = cost(y, Y)\n",
    "        gradients = backPropagation(X, Y, params, cache)\n",
    "        params = updateParameters(gradients, params, learning_rate)\n",
    "        cost_.append(costit)\n",
    "    return params, cost_"
   ]
  },
  {
   "cell_type": "markdown",
   "metadata": {},
   "source": [
    "Hidden_size means the number of neurons in the hidden layer. It looks like a hyperparameter. Because you set it before learning begins! What return params, cost_ tells us. params are the best parameters we found and cost_ is just cost we estimated in every episode.  \n",
    "\n",
    "Let’s Try Our Code!\n",
    "\n",
    "Use sklearn to create a dataset."
   ]
  },
  {
   "cell_type": "code",
   "execution_count": 11,
   "metadata": {},
   "outputs": [],
   "source": [
    "import sklearn.datasets\n",
    "X, Y = sklearn.datasets.make_moons(n_samples=500, noise=.2)\n",
    "X, Y = X.T, Y.reshape(1, Y.shape[0])"
   ]
  },
  {
   "cell_type": "markdown",
   "metadata": {},
   "source": [
    "X input, Y actual output."
   ]
  },
  {
   "cell_type": "code",
   "execution_count": 12,
   "metadata": {},
   "outputs": [],
   "source": [
    "params, cost_ = fit(X, Y, 0.3, hidden_size, 5000)"
   ]
  },
  {
   "cell_type": "markdown",
   "metadata": {},
   "source": [
    "I set the learning rate to 0.3, the number of neurons in the hidden layer was ser to 5 and the number of iterations to 5000.\n",
    "\n",
    "Feel free to try with different values.\n",
    "\n",
    "Let’s draw a graph showing how the cost function changed with every episode:"
   ]
  },
  {
   "cell_type": "code",
   "execution_count": 13,
   "metadata": {},
   "outputs": [
    {
     "data": {
      "text/plain": [
       "[<matplotlib.lines.Line2D at 0x1a64ee228c8>]"
      ]
     },
     "execution_count": 13,
     "metadata": {},
     "output_type": "execute_result"
    },
    {
     "data": {
      "image/png": "[encoded data removed]",
      "text/plain": [
       "<Figure size 864x576 with 1 Axes>"
      ]
     },
     "metadata": {
      "needs_background": "light"
     },
     "output_type": "display_data"
    }
   ],
   "source": [
    "plt.figure(figsize=(12,8))\n",
    "plt.plot(cost_)"
   ]
  },
  {
   "cell_type": "markdown",
   "metadata": {},
   "source": [
    "Bingo! We did it!"
   ]
  },
  {
   "cell_type": "code",
   "execution_count": 14,
   "metadata": {},
   "outputs": [
    {
     "name": "stdout",
     "output_type": "stream",
     "text": [
      "0.741966337767029\n",
      "0.07587079591697381\n"
     ]
    }
   ],
   "source": [
    "print(cost_[0])\n",
    "print(cost_[-1])"
   ]
  }
 ],
 "metadata": {
  "colab": {
   "collapsed_sections": [],
   "name": "Neural Networks with Numpy for Absolute Beginners - Part 3: Logistic Regression",
   "provenance": [],
   "version": "0.3.2"
  },
  "kernelspec": {
   "display_name": "Python 3",
   "language": "python",
   "name": "python3"
  },
  "language_info": {
   "codemirror_mode": {
    "name": "ipython",
    "version": 3
   },
   "file_extension": ".py",
   "mimetype": "text/x-python",
   "name": "python",
   "nbconvert_exporter": "python",
   "pygments_lexer": "ipython3",
   "version": "3.7.6"
  }
 },
 "nbformat": 4,
 "nbformat_minor": 4
}
