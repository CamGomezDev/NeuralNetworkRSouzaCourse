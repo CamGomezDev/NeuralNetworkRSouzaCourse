{
 "cells": [
  {
   "cell_type": "markdown",
   "metadata": {
    "colab_type": "text",
    "id": "pdmqqvbyL_sz"
   },
   "source": [
    "<h1 style=\"color:rgb(0,120,170)\">Neural Networks and Deep Learning</h1>\n",
    "\n",
    "## [Implementing Neural Networks with Numpy](https://github.com/SurajDonthi/Neural-Networks-from-Scratch)\n",
    "\n",
    "### [Part 1: Introduction](https://towardsdatascience.com/neural-networks-with-numpy-for-absolute-beginners-introduction-c1394639edb2)"
   ]
  },
  {
   "cell_type": "markdown",
   "metadata": {
    "colab_type": "text",
    "id": "f1jup3KQMFW0"
   },
   "source": [
    "##### In this tutorial, you will get a brief understanding of what Neural Networks are and how they have been developed. In the end, you will gain a brief intuition as to how the network learns."
   ]
  },
  {
   "cell_type": "markdown",
   "metadata": {
    "colab_type": "text",
    "id": "MpzbTcXQVutM"
   },
   "source": [
    "The field of Artificial Intelligence has gained a lot of popularity and momentum during the past 10 years, largely due to a huge increase in the computational capacity of computers with the use of GPUs and the availability of gigantic amounts of data. Deep Learning has become the buzzword everywhere!!\n",
    "\n",
    "Although Artificial Intelligence (AI) resonates with the notion of the machines to think and behave impersonating humans, it is rather restricted to very nascent and small task-specific functions while the term Artificial General Intelligence (AGI) obliges to the terms of impersonating a human. Above these is the concept of Artificial Super Intelligence (ASI) which gives me the shrills as it represents intelligence of machines far exceeding human levels!!\n",
    "\n",
    "The main concept for Artificial Intelligence currently holds that you have to train it before it learns to perform the task much like humans, except that here… you have to train it even for the simplest of the tasks like seeing and identifying objects!(This is surely a complex problem for our computers).\n",
    "\n",
    "There are 3 situations that you can encounter in this domain:\n",
    "1. When you have a lot of data...\n",
    "\n",
    "- Either your data is tagged, labelled, maintained or it is not.\n",
    " If the data is available and is fully labelled or tagged, you can train the model based on the given set of input-output pairs and ask the model to predict the output for a new set of data. This type of learning is called **Supervised Learning** (Since, you are giving the input and also mentioning that this is the correct output for the data).\n",
    "<br><br>\n",
    "Supervised Learning can be further divided into the two tasks as below:\n",
    "<br>\n",
    "a. Classifcation - where you predict that the data belongs to a specific class. Eg.: Classfying a cat or a dog.\n",
    "<br>\n",
    "b. Regression - where a real number value is predicted. Eg: Predicting the price of a house given it's dimensions.\n",
    "<br>\n",
    "\n",
    "In the below example, you can see that images are trained against their labels. You test the model by inputting an image and predicting it's class... like a cat.\n",
    "\n",
    "![](./Images/neural-network.gif)\n",
    "\n",
    "- When your data is unlabelled, the only option would be to let your model figure out by itself the patterns in the data. This is called **Unsupervised Learning**. <br><br>In the example shown below, you only provide the datapoints and the number of clusters(classes) that has to be formed and let the algorithm find out the best set of clusters.\n",
    "\n",
    "![](./Images/kmeans.gif)\n",
    "\n",
    "2\\. When you don't have data but instead have the environment itself to learn!\n",
    "\n",
    "Here, a learning agent is put in a predefined environment and made to learn by the actions it takes. It is either rewarded or punished based on its actions. This is the most interesting kind of learning and is also where a lot of exploration and research is happenning.It is called **Reinforcement Learning**.<br><br>As it can clearly be seen from the below image that the agent which is modelled as a person, learns to climb the wall through trial and error.\n",
    "\n",
    "![](./Images/RLJumping.gif)\n",
    "\n",
    "<br><br>This tutorial focuses on Neural Networks which is a part of Supervised Learning."
   ]
  },
  {
   "cell_type": "markdown",
   "metadata": {
    "colab_type": "text",
    "id": "DM9ueUDgMeKV"
   },
   "source": [
    "## A little bit into the history of how Neural Networks evolved"
   ]
  },
  {
   "cell_type": "markdown",
   "metadata": {
    "colab_type": "text",
    "id": "v5jm45gMMkij"
   },
   "source": [
    "The evolution of AI dates to back to 1950 when Alan Turing, the computer genius, came out with the Turing Test to distinguish between a Human and a Robot. He describes that when a machine performs so well, that we humans are not able to distinguish between the response given by a human and a machine, it has passed the Turing Test. Apparently this feat was achieved only in 2012, when a company named Vicarious cracked the captchas. Check out this video below on how Vicarious broke the captchas."
   ]
  },
  {
   "cell_type": "code",
   "execution_count": 1,
   "metadata": {
    "cellView": "form",
    "colab": {
     "base_uri": "https://localhost:8080/",
     "height": 381
    },
    "colab_type": "code",
    "id": "czcALOYnbBLN",
    "outputId": "01dc4a89-f80f-443e-a237-da0826f3cb78"
   },
   "outputs": [
    {
     "data": {
      "text/html": [
       "\n",
       "<iframe src=\"https://player.vimeo.com/video/77431982?title=0&byline=0&portrait=0\" width=\"640\" height=\"360\" frameborder=\"0\" webkitallowfullscreen mozallowfullscreen allowfullscreen></iframe>\n"
      ],
      "text/plain": [
       "<IPython.core.display.HTML object>"
      ]
     },
     "metadata": {},
     "output_type": "display_data"
    }
   ],
   "source": [
    "%%HTML\n",
    "\n",
    "<iframe src=\"https://player.vimeo.com/video/77431982?title=0&byline=0&portrait=0\" width=\"640\" height=\"360\" frameborder=\"0\" webkitallowfullscreen mozallowfullscreen allowfullscreen></iframe>"
   ]
  },
  {
   "cell_type": "markdown",
   "metadata": {
    "colab_type": "text",
    "id": "ZSIRbtHING6h"
   },
   "source": [
    "It must be noted that most of the Algorithms that were developed during that period(1950-2000) and now existing, are highly inspired by the working of our brain, the neurons and their structure with how they learn and transfer data. The most popular works include the Perceptron and the Neocognitron $-$(not covered in this article, but in a future article) based on which the Neural Networks have been developed. \n",
    "\n",
    "Now, before you dive into what a perceptron is,  let's make sure you know a bit of all these... Although not necessarily required!"
   ]
  },
  {
   "cell_type": "markdown",
   "metadata": {
    "colab_type": "text",
    "id": "-1QbB_pdN_uf"
   },
   "source": [
    "## Prerequisites"
   ]
  },
  {
   "cell_type": "markdown",
   "metadata": {
    "colab_type": "text",
    "id": "GhAmIhvpODIK"
   },
   "source": [
    "What you’ll need to know for the course:\n",
    "1.   A little bit of Python &\n",
    "2.   The eagerness to learn Neural Networks.\n",
    "\n",
    "If you are unsure of which environment to use for implementing this, I recommend [Google Colab](https://colab.research.google.com/). The environment comes with many important packages already installed. Installing new packages and also importing and exporting the data is quite simple. Most of all, it also comes with GPU support. So go ahead and get coding with the platform!\n",
    "\n",
    "Lastly, this article is directed for those who want to learn about Neural Networks or just Linear Regression. However, there would be an inclination towards Neural Networks!"
   ]
  },
  {
   "cell_type": "markdown",
   "metadata": {
    "colab_type": "text",
    "id": "tFb7VRpfOX0i"
   },
   "source": [
    "## A biological Neuron"
   ]
  },
  {
   "cell_type": "markdown",
   "metadata": {
    "colab_type": "text",
    "id": "AU2Juo8iYv4v"
   },
   "source": [
    "![Comparison of a Neuron Cell and a Perceptron](./Images/neuron.png)\n",
    "\n",
    "The figure above shows a biological neuron. It has *dendrites* that receive information from neurons. The received information is passed on to the *cell body or the nucleus* of the neuron. The *nucleus* is where the information is processed. The processed information is passed on to the next layer of neurons through the *axons*.\n",
    "\n",
    "Our brain consists of about 100 billion such neurons which communicate through electrochemical signals. Each neuron is connected to 100s and 1000s of other neurons which constantly transmit and recieve signals. When the sum of the signals recieved by a neuron exceeds a set threshold value, the cell is activated (although, it has been speculated that neurons use very complex activations to process the input data) and the signal is further transmitted to other neurons. You'll see that the artificial neuron or the perceptron adopts the same ideology to perform computation and transmit data in the next section.\n",
    "\n",
    "You know that different regions of our brain are activated (/receptive) for different actions like seeing, hearing, creative thinking and so on. This is because the neurons belonging to a specific region in the brain are trained to process a certain kind of information better and hence get activated when only certain kinds of information is being sent.The figure below gives us a better understanding of the different receptive regions of the brain.\n",
    "\n",
    "![Different receptive regions of the brain](./Images/brain-regions-areas.gif)\n",
    "\n",
    "It has also been shown through the concept of Neuroplasticity that the different regions of the brain can be rewired to perform totally different tasks. Such as the neurons responsible for touch sensing can be rewired to become sensitive to smell. Check out this great TEDx video below to know more about neuroplasticity.\n",
    "\n",
    "Similarly, an artificial neuron/perceptron can be trained to recognize some of the most comlplex pattern. Hence, they can be called Universal Function Approximators.\n",
    "\n",
    "In the next section, we'll explore the working of a perceptron and also gain a mathematical intuition."
   ]
  },
  {
   "cell_type": "code",
   "execution_count": 2,
   "metadata": {
    "cellView": "form",
    "colab": {
     "base_uri": "https://localhost:8080/",
     "height": 501
    },
    "colab_type": "code",
    "id": "Q54q6DoBYhl1",
    "outputId": "94115596-8e69-425d-9c92-e5f9d7821626"
   },
   "outputs": [
    {
     "data": {
      "text/html": [
       "\n",
       "'<iframe width=\"854\" height=\"480\" src=\"https://www.youtube.com/embed/xzbHtIrb14s\" frameborder=\"0\" allow=\"autoplay; encrypted-media\" allowfullscreen></iframe>'\n"
      ],
      "text/plain": [
       "<IPython.core.display.HTML object>"
      ]
     },
     "metadata": {},
     "output_type": "display_data"
    }
   ],
   "source": [
    "%%HTML\n",
    "\n",
    "'<iframe width=\"854\" height=\"480\" src=\"https://www.youtube.com/embed/xzbHtIrb14s\" frameborder=\"0\" allow=\"autoplay; encrypted-media\" allowfullscreen></iframe>'"
   ]
  },
  {
   "cell_type": "markdown",
   "metadata": {
    "colab_type": "text",
    "id": "5BcJK7kxOpai"
   },
   "source": [
    "## Perceptron/Artificial Neuron"
   ]
  },
  {
   "cell_type": "markdown",
   "metadata": {
    "colab_type": "text",
    "id": "uaddqWRqY6vm"
   },
   "source": [
    "![Comparison of a Neuron Cell and a Perceptron](./Images/perceptron.png)\n",
    "\n",
    "From the figure, you can observe that the perceptron is a reflection of the biological neuron. The inputs combined with the weights($w_i$) are analogous to dendrites. These values are summed and passed through an activation function (like the thresholding function as shown in fig.). This is analogous to the nucleus. Finally, the activated value is transmitted to the next neuron/perceptron which is analogous to the axons.\n",
    "\n",
    "The latent weights($w_i$) multiplied with each input($x_i$) depicts the significance of the respective input/feature. Larger the value of a weight, more important is the feature. Hence, the weights are what is learned in a perceptron so as to arrive at the required result. An additional bias($b$, here $w_0$) is also learned.\n",
    "\n",
    "Hence, when there are multiple inputs (say n), the equation can be generalized as follows: \n",
    "\\begin{equation}\n",
    "z=w_0+w_1.x_1+w_2.x_2+w_3.x_3+......+w_n.x_n \\\\\n",
    "\\therefore z=\\sum_{i=0}^{n}w_i.x_i \\qquad \\text{where } x_0 = 1\n",
    "\\end{equation}\n",
    "\n",
    "Finally, the output of summation (assume as $z$) is fed to the *thresholding activation function*, where the function outputs $ -1 \\space \\text{if } z < 0 \\space \\& \\space 1 \\space \\text{if } z \\geq 0$."
   ]
  },
  {
   "cell_type": "markdown",
   "metadata": {
    "colab_type": "text",
    "id": "FJdad71eIdVI"
   },
   "source": [
    "### An Example"
   ]
  },
  {
   "cell_type": "markdown",
   "metadata": {
    "colab_type": "text",
    "id": "p1auBuUAIaWL"
   },
   "source": [
    "Let us consider our perceptron to perform as *logic gates* to gain more intuition.\n",
    "\n",
    "Let's choose an $AND \\space gate$. The Truth Table for the $AND \\space gate$ is shown below:\n",
    "\n",
    "\n",
    "![AND Gate](./Images/ANDgate.png)\n",
    "\n",
    "The perceptron for the $AND \\space gate$ can be formed as shown in the figure. It is clear that the perceptron has two inputs (here $x1=A$ and $x2=B$)\n",
    "\n",
    "![AND Gate](./Images/ANDgate2.png)\n",
    "\n",
    "\\begin{equation}\n",
    "\\text{Threshold Function,} \\qquad y = f(z) = \\begin{cases}\n",
    "1,& \\text{if }z \\geq 0.5\\\\\n",
    "0,& \\text{if } z< 0.5\\\\\n",
    "\\end{cases}\n",
    "\\end{equation}\n",
    "\n",
    "We can see that for inputs $x1$, $x2$ & $x_0=1$, setting their weights as \n",
    "\\begin{equation}\n",
    "w_0=-0.5, \\\\\n",
    "w_1=0.6, \\space \\&\\\\\n",
    "w_2=0.6\n",
    "\\end{equation}\n",
    "respectively and keeping the *Threshold function* as the activation function we can arrive at the $AND \\space Gate$.\n",
    "\n",
    "Now, let's get our hands dirty and codify this and test it out!"
   ]
  },
  {
   "cell_type": "code",
   "execution_count": 1,
   "metadata": {
    "colab": {},
    "colab_type": "code",
    "id": "1CxOWQ8MAL9_"
   },
   "outputs": [],
   "source": [
    "def and_perceptron(x1, x2):\n",
    "    \n",
    "    w0 = -0.5\n",
    "    w1 = 0.6\n",
    "    w2 = 0.6\n",
    "    \n",
    "    z = w0 + w1 * x1 + w2 * x2\n",
    "    \n",
    "    thresh = lambda x: 1 if x>= 0.5 else 0\n",
    "\n",
    "    r = thresh(z)\n",
    "    print(r)"
   ]
  },
  {
   "cell_type": "code",
   "execution_count": 2,
   "metadata": {
    "colab": {
     "base_uri": "https://localhost:8080/",
     "height": 34
    },
    "colab_type": "code",
    "id": "2MP1_kyGJFYD",
    "outputId": "ff86cab9-5772-42cb-eae5-a27358491e6c"
   },
   "outputs": [
    {
     "name": "stdout",
     "output_type": "stream",
     "text": [
      "1\n"
     ]
    }
   ],
   "source": [
    "and_perceptron(1, 1)"
   ]
  },
  {
   "cell_type": "markdown",
   "metadata": {
    "colab_type": "text",
    "id": "CdD_khAOHhkJ"
   },
   "source": [
    "Similarly for $NOR \\space Gate$ the Truth Table is,\n",
    "\n",
    "![NOR Gate](./Images/NORgate.png)\n",
    "\n",
    "The perceptron for $NOR \\space Gate$ will be as below:\n",
    "\n",
    "![NOR Gate](./Images/NORgate2.png)\n",
    "\n",
    "\n",
    "You can set the weights as\n",
    "\\begin{equation}\n",
    "w_0 = 0.5 \\\\\n",
    "w_1 = -0.6 \\\\\n",
    "w_2 = -0.6\n",
    "\\end{equation}\n",
    "so that you obtain a $NOR \\space Gate$.\n",
    "\n",
    "You can go ahead and implement this in code."
   ]
  },
  {
   "cell_type": "code",
   "execution_count": 3,
   "metadata": {
    "cellView": "both",
    "colab": {},
    "colab_type": "code",
    "id": "xintrb8WHgaZ"
   },
   "outputs": [],
   "source": [
    "def nor_perceptron(x1, x2):\n",
    "    \n",
    "    w0 = 0.5\n",
    "    w1 = -0.6\n",
    "    w2 = -0.6\n",
    "    \n",
    "    z = w0 + w1 * x1 + w2 * x2\n",
    "    \n",
    "    thresh = lambda x: 1 if x>= 0.5 else 0\n",
    "\n",
    "    r = thresh(z)\n",
    "    print(r)"
   ]
  },
  {
   "cell_type": "code",
   "execution_count": 4,
   "metadata": {
    "colab": {
     "base_uri": "https://localhost:8080/",
     "height": 34
    },
    "colab_type": "code",
    "id": "xrKktcQfJJ_K",
    "outputId": "d9dc65e4-3c23-417d-8ab9-51c8942bab24"
   },
   "outputs": [
    {
     "name": "stdout",
     "output_type": "stream",
     "text": [
      "0\n"
     ]
    }
   ],
   "source": [
    "nor_perceptron(1, 1)"
   ]
  },
  {
   "cell_type": "markdown",
   "metadata": {
    "colab_type": "text",
    "id": "RrFlVhQuV3Tk"
   },
   "source": [
    "Here, is the Truth Table for $NAND \\space Gate$. Go ahead and guess the weights that fits the function and also implement in code."
   ]
  },
  {
   "cell_type": "markdown",
   "metadata": {
    "colab_type": "text",
    "id": "PSPJHzjYDjTh"
   },
   "source": [
    "## What you are actually calculating..."
   ]
  },
  {
   "cell_type": "markdown",
   "metadata": {
    "colab_type": "text",
    "id": "Du6UTC9yD88o"
   },
   "source": [
    "If you analyse what you were trying to do in the above examples, you will realize that you were actually trying to adjust the values of the weights to obtain the required output.\n",
    "\n",
    "Lets consider the NOR Gate example and break it down to very miniscule steps to gain more understanding. \n",
    "\n",
    "What you would usually do first is to simply set some values to the weights and observe the result, say\n",
    "\n",
    "\\begin{equation}\n",
    "w_0 = 0.4 \\\\\n",
    "w_1 = 0.7 \\\\\n",
    "w_2 = -0.2\n",
    "\\end{equation}\n",
    "\n",
    "Then the output will be as shown in below table:  \n",
    "\n",
    "![table](./Images/exampletable.png)\n",
    "\n",
    "So how can you fix the values of weights so that you get the right output?\n",
    "\n",
    "By intuition, you can easily observe that $w_0$ must be increased and $w_1$ and $w_2$ must be reduced or rather made negative so that you obtain the actual output. But if you breakdown this intuition, you will observe that you are actually finding the difference between the actual output and the predicted output and finally reflecting that on the weights...\n",
    "\n",
    "This is a very important concept that you will be digging deeper and will  be the core to formulate the ideas behind *gradient descent* and also *backward propagation*."
   ]
  },
  {
   "cell_type": "markdown",
   "metadata": {
    "colab_type": "text",
    "id": "qeBHiTZsC95B"
   },
   "source": [
    "## Conclusion"
   ]
  },
  {
   "cell_type": "markdown",
   "metadata": {
    "colab_type": "text",
    "id": "7q1_Zc4YDKCZ"
   },
   "source": [
    "In this tutorial you were introduced to the field of AI and went through an overview of perceptron. In the next tutorial, you'll learn to train a perceptron and do some predictions!!"
   ]
  }
 ],
 "metadata": {
  "colab": {
   "collapsed_sections": [],
   "name": "Neural Networks for Absolute beginners - Part 1: Introduction",
   "provenance": [],
   "version": "0.3.2"
  },
  "kernelspec": {
   "display_name": "Python 3",
   "language": "python",
   "name": "python3"
  },
  "language_info": {
   "codemirror_mode": {
    "name": "ipython",
    "version": 3
   },
   "file_extension": ".py",
   "mimetype": "text/x-python",
   "name": "python",
   "nbconvert_exporter": "python",
   "pygments_lexer": "ipython3",
   "version": "3.7.6"
  }
 },
 "nbformat": 4,
 "nbformat_minor": 4
}
