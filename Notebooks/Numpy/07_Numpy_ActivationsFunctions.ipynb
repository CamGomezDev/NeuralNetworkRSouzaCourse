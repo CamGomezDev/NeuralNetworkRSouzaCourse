{
 "cells": [
  {
   "cell_type": "markdown",
   "id": "incomplete-update",
   "metadata": {},
   "source": [
    "# Why Neural Networks Have Activation Functions\n",
    "\n",
    "Based on [this](https://github.com/ChristianWLang/nn-activations) Repository and [this](https://towardsdatascience.com/why-neural-networks-have-activation-functions-9732e5405d4e) article\n",
    "\n",
    "\n",
    "## Scripts\n",
    "### `single_example.py`\n",
    "This script creates 9 univariate linear models, and iteratively fits an OLS model to each. This script produces the `gifs/single_var.gif` file.\n",
    "\n",
    "### `ff_example.py`\n",
    "This script creates a random Multilayer Perceptron and fits an equivalent OLS model to its inputs and outputs. This script produces statistics on the OLS models `r2` and `MSE` when compared to the neural network outputs and it's own outputs.\n",
    "\n",
    "### `cnn_example.py`\n",
    "This script creates a random Convolutional Neural Network and fits an equivalent OLS model to its inputs and outputs. This script produces statistics on the OLS models `r2` and `MSE` when compared to the neural network outputs and it's own outputs.\n",
    "\n",
    "### `rnn_example.py`\n",
    "This script creates a random Recurrent Neural Network and fits an equivalent OLS model to its inputs and outputs. This script produces statistics on the OLS models `r2` and `MSE` when compared to the neural network outputs and it's own outputs.\n",
    "\n",
    "### `xor_example.py`\n",
    "\n",
    "This script takes a command line argument `-a` or `--activation`, this command line argument changes the activation function used by the hidden layer. Usage example:\n",
    "\n",
    "```\n",
    "python3 xor_example.py -a linear\n",
    "```\n",
    "or\n",
    "```\n",
    "python3 xor_example.py -a relu\n",
    "```\n",
    "\n",
    "The value of the argument passed must be one of kera's activation functions. This script products the `gifs/nn_xor_<activation>.gif` files, where `<activation>` corresponds to the command line argument `-a`, the default is `linear`.\n",
    "\n",
    "## Math\n",
    "Below are the proofs presented in the article.\n",
    "![univariate-proof](../images/univariate-proof.svg)\n",
    "![linear-proof](../images/nn-linear-proof.svg)"
   ]
  },
  {
   "cell_type": "code",
   "execution_count": null,
   "id": "portuguese-issue",
   "metadata": {},
   "outputs": [],
   "source": []
  }
 ],
 "metadata": {
  "kernelspec": {
   "display_name": "Python 3",
   "language": "python",
   "name": "python3"
  },
  "language_info": {
   "codemirror_mode": {
    "name": "ipython",
    "version": 3
   },
   "file_extension": ".py",
   "mimetype": "text/x-python",
   "name": "python",
   "nbconvert_exporter": "python",
   "pygments_lexer": "ipython3",
   "version": "3.8.5"
  }
 },
 "nbformat": 4,
 "nbformat_minor": 5
}
