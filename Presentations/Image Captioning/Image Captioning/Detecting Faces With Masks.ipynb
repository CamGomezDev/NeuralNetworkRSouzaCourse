{
 "cells": [
  {
   "cell_type": "markdown",
   "metadata": {},
   "source": [
    "Dataset: https://github.com/prajnasb/observations/tree/master/experiements"
   ]
  },
  {
   "cell_type": "code",
   "execution_count": 1,
   "metadata": {
    "colab": {},
    "colab_type": "code",
    "id": "dn-6c02VmqiN"
   },
   "outputs": [
    {
     "name": "stderr",
     "output_type": "stream",
     "text": [
      "/home/lexlabs/anaconda3/lib/python3.6/site-packages/tensorflow/python/framework/dtypes.py:523: FutureWarning: Passing (type, 1) or '1type' as a synonym of type is deprecated; in a future version of numpy, it will be understood as (type, (1,)) / '(1,)type'.\n",
      "  _np_qint8 = np.dtype([(\"qint8\", np.int8, 1)])\n",
      "/home/lexlabs/anaconda3/lib/python3.6/site-packages/tensorflow/python/framework/dtypes.py:524: FutureWarning: Passing (type, 1) or '1type' as a synonym of type is deprecated; in a future version of numpy, it will be understood as (type, (1,)) / '(1,)type'.\n",
      "  _np_quint8 = np.dtype([(\"quint8\", np.uint8, 1)])\n",
      "/home/lexlabs/anaconda3/lib/python3.6/site-packages/tensorflow/python/framework/dtypes.py:525: FutureWarning: Passing (type, 1) or '1type' as a synonym of type is deprecated; in a future version of numpy, it will be understood as (type, (1,)) / '(1,)type'.\n",
      "  _np_qint16 = np.dtype([(\"qint16\", np.int16, 1)])\n",
      "/home/lexlabs/anaconda3/lib/python3.6/site-packages/tensorflow/python/framework/dtypes.py:526: FutureWarning: Passing (type, 1) or '1type' as a synonym of type is deprecated; in a future version of numpy, it will be understood as (type, (1,)) / '(1,)type'.\n",
      "  _np_quint16 = np.dtype([(\"quint16\", np.uint16, 1)])\n",
      "/home/lexlabs/anaconda3/lib/python3.6/site-packages/tensorflow/python/framework/dtypes.py:527: FutureWarning: Passing (type, 1) or '1type' as a synonym of type is deprecated; in a future version of numpy, it will be understood as (type, (1,)) / '(1,)type'.\n",
      "  _np_qint32 = np.dtype([(\"qint32\", np.int32, 1)])\n",
      "/home/lexlabs/anaconda3/lib/python3.6/site-packages/tensorflow/python/framework/dtypes.py:532: FutureWarning: Passing (type, 1) or '1type' as a synonym of type is deprecated; in a future version of numpy, it will be understood as (type, (1,)) / '(1,)type'.\n",
      "  np_resource = np.dtype([(\"resource\", np.ubyte, 1)])\n",
      "/home/lexlabs/anaconda3/lib/python3.6/site-packages/h5py/__init__.py:36: FutureWarning: Conversion of the second argument of issubdtype from `float` to `np.floating` is deprecated. In future, it will be treated as `np.float64 == np.dtype(float).type`.\n",
      "  from ._conv import register_converters as _register_converters\n",
      "/home/lexlabs/anaconda3/lib/python3.6/site-packages/tensorboard/compat/tensorflow_stub/dtypes.py:541: FutureWarning: Passing (type, 1) or '1type' as a synonym of type is deprecated; in a future version of numpy, it will be understood as (type, (1,)) / '(1,)type'.\n",
      "  _np_qint8 = np.dtype([(\"qint8\", np.int8, 1)])\n",
      "/home/lexlabs/anaconda3/lib/python3.6/site-packages/tensorboard/compat/tensorflow_stub/dtypes.py:542: FutureWarning: Passing (type, 1) or '1type' as a synonym of type is deprecated; in a future version of numpy, it will be understood as (type, (1,)) / '(1,)type'.\n",
      "  _np_quint8 = np.dtype([(\"quint8\", np.uint8, 1)])\n",
      "/home/lexlabs/anaconda3/lib/python3.6/site-packages/tensorboard/compat/tensorflow_stub/dtypes.py:543: FutureWarning: Passing (type, 1) or '1type' as a synonym of type is deprecated; in a future version of numpy, it will be understood as (type, (1,)) / '(1,)type'.\n",
      "  _np_qint16 = np.dtype([(\"qint16\", np.int16, 1)])\n",
      "/home/lexlabs/anaconda3/lib/python3.6/site-packages/tensorboard/compat/tensorflow_stub/dtypes.py:544: FutureWarning: Passing (type, 1) or '1type' as a synonym of type is deprecated; in a future version of numpy, it will be understood as (type, (1,)) / '(1,)type'.\n",
      "  _np_quint16 = np.dtype([(\"quint16\", np.uint16, 1)])\n",
      "/home/lexlabs/anaconda3/lib/python3.6/site-packages/tensorboard/compat/tensorflow_stub/dtypes.py:545: FutureWarning: Passing (type, 1) or '1type' as a synonym of type is deprecated; in a future version of numpy, it will be understood as (type, (1,)) / '(1,)type'.\n",
      "  _np_qint32 = np.dtype([(\"qint32\", np.int32, 1)])\n",
      "/home/lexlabs/anaconda3/lib/python3.6/site-packages/tensorboard/compat/tensorflow_stub/dtypes.py:550: FutureWarning: Passing (type, 1) or '1type' as a synonym of type is deprecated; in a future version of numpy, it will be understood as (type, (1,)) / '(1,)type'.\n",
      "  np_resource = np.dtype([(\"resource\", np.ubyte, 1)])\n"
     ]
    }
   ],
   "source": [
    "import os\n",
    "import random\n",
    "import shutil\n",
    "import tensorflow as tf\n",
    "from tensorflow.keras.optimizers import RMSprop\n",
    "from tensorflow.keras.preprocessing.image import ImageDataGenerator\n",
    "from shutil import copyfile\n",
    "from os import getcwd\n",
    "from tensorflow.keras.models import load_model\n"
   ]
  },
  {
   "cell_type": "code",
   "execution_count": 4,
   "metadata": {},
   "outputs": [],
   "source": [
    "path_faces = \"/home/lexlabs/experiments/\"\n"
   ]
  },
  {
   "cell_type": "code",
   "execution_count": 11,
   "metadata": {
    "colab": {},
    "colab_type": "code",
    "id": "F-QkLjxpmyK2"
   },
   "outputs": [],
   "source": [
    "try:\n",
    "    os.mkdir(path_faces+\"/training\")\n",
    "    os.mkdir(path_faces+\"/testing\")\n",
    "    os.mkdir(path_faces+\"/training/with_mask\")\n",
    "    os.mkdir(path_faces+\"/training/without_mask\")\n",
    "    os.mkdir(path_faces+\"/testing/with_mask\")\n",
    "    os.mkdir(path_faces+\"/testing/without_mask\")\n",
    "except OSError:\n",
    "    pass"
   ]
  },
  {
   "cell_type": "code",
   "execution_count": 12,
   "metadata": {
    "colab": {},
    "colab_type": "code",
    "id": "zvSODo0f9LaU"
   },
   "outputs": [],
   "source": [
    "\n",
    "def split_data(SOURCE, TRAINING, TESTING, SPLIT_SIZE):\n",
    "    images_to_copy = list(os.listdir(SOURCE))\n",
    "    images_to_copy =  [file for file in images_to_copy if os.path.getsize(SOURCE+file)>0]\n",
    "    number_images = len(images_to_copy)\n",
    "    number_images_training = int(SPLIT_SIZE*number_images)\n",
    "    images_to_copy_shuffled = random.sample(images_to_copy, len(images_to_copy))\n",
    "\n",
    "    for image in images_to_copy_shuffled[0:number_images_training]:\n",
    "        copyfile(SOURCE+image, TRAINING+image)\n",
    "    for image in images_to_copy_shuffled[number_images_training:]:\n",
    "        copyfile(SOURCE+image, TESTING+image)\n",
    "        \n",
    "        \n",
    "\n",
    "WITH_MASK_SOURCE_DIR = path_faces+\"with_mask/\"\n",
    "TRAINING_WITH_MASK_DIR = path_faces+\"/training/with_mask/\"\n",
    "TESTING_WITH_MASK_DIR = path_faces+\"/testing/with_mask/\"\n",
    "WITHOUT_MASK_SOURCE_DIR = path_faces+\"without_mask/\"\n",
    "TRAINING_WITHOUT_MASK_DIR =  path_faces+\"/training/without_mask/\"\n",
    "TESTING_WITHOUT_MASK_DIR =  path_faces+\"/testing/without_mask/\"\n",
    "\n",
    "split_size = .9\n",
    "split_data(WITH_MASK_SOURCE_DIR, TRAINING_WITH_MASK_DIR, TESTING_WITH_MASK_DIR, split_size)\n",
    "split_data(WITHOUT_MASK_SOURCE_DIR, TRAINING_WITHOUT_MASK_DIR, TESTING_WITHOUT_MASK_DIR, split_size)"
   ]
  },
  {
   "cell_type": "code",
   "execution_count": 13,
   "metadata": {
    "colab": {},
    "colab_type": "code",
    "id": "luthalB76ufC"
   },
   "outputs": [
    {
     "name": "stdout",
     "output_type": "stream",
     "text": [
      "621\n",
      "69\n",
      "69\n",
      "617\n"
     ]
    }
   ],
   "source": [
    "print(len(os.listdir(TRAINING_WITH_MASK_DIR)))\n",
    "print(len(os.listdir(TESTING_WITH_MASK_DIR)))\n",
    "print(len(os.listdir(TESTING_WITHOUT_MASK_DIR)))\n",
    "print(len(os.listdir(TRAINING_WITHOUT_MASK_DIR)))\n"
   ]
  },
  {
   "cell_type": "code",
   "execution_count": 14,
   "metadata": {
    "colab": {},
    "colab_type": "code",
    "id": "-BQrav4anTmj"
   },
   "outputs": [],
   "source": [
    "model = tf.keras.models.Sequential([\n",
    "    tf.keras.layers.Conv2D(16,(3,3),input_shape=(150,150,3),activation='relu'),\n",
    "    tf.keras.layers.MaxPool2D(2,2),\n",
    "    tf.keras.layers.Conv2D(32,(3,3),activation='relu'),\n",
    "    tf.keras.layers.MaxPool2D(2,2),\n",
    "    tf.keras.layers.Conv2D(64,(3,3),activation='relu'),\n",
    "    tf.keras.layers.MaxPool2D(2,2),\n",
    "    tf.keras.layers.Flatten(),\n",
    "    tf.keras.layers.Dense(512,activation='relu'),\n",
    "    tf.keras.layers.Dense(1,activation='sigmoid')\n",
    "\n",
    "    \n",
    "\n",
    "])\n",
    "\n",
    "model.compile(optimizer=RMSprop(lr=0.001), loss='binary_crossentropy', metrics=['acc'])"
   ]
  },
  {
   "cell_type": "code",
   "execution_count": 15,
   "metadata": {
    "colab": {},
    "colab_type": "code",
    "id": "mlNjoJ5D61N6"
   },
   "outputs": [
    {
     "name": "stdout",
     "output_type": "stream",
     "text": [
      "Found 1238 images belonging to 2 classes.\n",
      "Found 138 images belonging to 2 classes.\n"
     ]
    }
   ],
   "source": [
    "TRAINING_DIR = path_faces+\"/training/\"\n",
    "train_datagen = ImageDataGenerator(rescale=1./255,\n",
    "      rotation_range=40,\n",
    "      width_shift_range=0.2,\n",
    "      height_shift_range=0.2,\n",
    "      shear_range=0.2,\n",
    "      zoom_range=0.2,\n",
    "      horizontal_flip=True,\n",
    "      fill_mode='nearest')\n",
    "\n",
    "\n",
    "train_generator = train_datagen.flow_from_directory(\n",
    "        TRAINING_DIR,  # This is the source directory for training images\n",
    "        target_size=(150, 150),  # All images will be resized to 150x150\n",
    "        batch_size=10,\n",
    "        class_mode='binary')\n",
    "\n",
    "VALIDATION_DIR = path_faces+\"/testing/\"\n",
    "validation_datagen = ImageDataGenerator(rescale=1./255.0)\n",
    "\n",
    "\n",
    "validation_generator = validation_datagen.flow_from_directory(\n",
    "        VALIDATION_DIR,  # This is the source directory for training images\n",
    "        target_size=(150, 150),  # All images will be resized to 150x150\n",
    "        batch_size=10,\n",
    "        class_mode='binary')\n",
    "\n",
    "\n"
   ]
  },
  {
   "cell_type": "code",
   "execution_count": 16,
   "metadata": {
    "colab": {},
    "colab_type": "code",
    "id": "KyS4n53w7DxC"
   },
   "outputs": [
    {
     "name": "stdout",
     "output_type": "stream",
     "text": [
      "Epoch 1/20\n",
      "124/124 [==============================] - 27s 215ms/step - loss: 0.6311 - acc: 0.7601 - val_loss: 0.1617 - val_acc: 0.9565\n",
      "Epoch 2/20\n",
      "124/124 [==============================] - 24s 192ms/step - loss: 0.3357 - acc: 0.8675 - val_loss: 0.0579 - val_acc: 0.9783\n",
      "Epoch 3/20\n",
      "124/124 [==============================] - 24s 190ms/step - loss: 0.2367 - acc: 0.9192 - val_loss: 0.0411 - val_acc: 0.9855\n",
      "Epoch 4/20\n",
      "124/124 [==============================] - 24s 190ms/step - loss: 0.1970 - acc: 0.9273 - val_loss: 0.0366 - val_acc: 0.9928\n",
      "Epoch 5/20\n",
      "124/124 [==============================] - 24s 196ms/step - loss: 0.2247 - acc: 0.9426 - val_loss: 0.0309 - val_acc: 0.9928\n",
      "Epoch 6/20\n",
      "124/124 [==============================] - 23s 185ms/step - loss: 0.1744 - acc: 0.9418 - val_loss: 0.0229 - val_acc: 0.9928\n",
      "Epoch 7/20\n",
      "124/124 [==============================] - 23s 186ms/step - loss: 0.1611 - acc: 0.9459 - val_loss: 0.1294 - val_acc: 0.9275\n",
      "Epoch 8/20\n",
      "124/124 [==============================] - 23s 187ms/step - loss: 0.1387 - acc: 0.9572 - val_loss: 0.0228 - val_acc: 0.9855\n",
      "Epoch 9/20\n",
      "124/124 [==============================] - 23s 184ms/step - loss: 0.1602 - acc: 0.9596 - val_loss: 0.0231 - val_acc: 0.9928\n",
      "Epoch 10/20\n",
      "124/124 [==============================] - 23s 187ms/step - loss: 0.1681 - acc: 0.9507 - val_loss: 0.0326 - val_acc: 0.9855\n",
      "Epoch 11/20\n",
      "124/124 [==============================] - 23s 184ms/step - loss: 0.1311 - acc: 0.9685 - val_loss: 0.0724 - val_acc: 0.9783\n",
      "Epoch 12/20\n",
      "124/124 [==============================] - 23s 183ms/step - loss: 0.1149 - acc: 0.9653 - val_loss: 0.0242 - val_acc: 0.9928\n",
      "Epoch 13/20\n",
      "124/124 [==============================] - 23s 186ms/step - loss: 0.0930 - acc: 0.9733 - val_loss: 0.0294 - val_acc: 0.9928\n",
      "Epoch 14/20\n",
      "124/124 [==============================] - 25s 198ms/step - loss: 0.1352 - acc: 0.9709 - val_loss: 0.0033 - val_acc: 1.0000\n",
      "Epoch 15/20\n",
      "124/124 [==============================] - 23s 185ms/step - loss: 0.1766 - acc: 0.9588 - val_loss: 0.0122 - val_acc: 1.0000\n",
      "Epoch 16/20\n",
      "124/124 [==============================] - 25s 206ms/step - loss: 0.0887 - acc: 0.9766 - val_loss: 0.1793 - val_acc: 0.9638\n",
      "Epoch 17/20\n",
      "124/124 [==============================] - 24s 192ms/step - loss: 0.1158 - acc: 0.9661 - val_loss: 0.0547 - val_acc: 0.9855\n",
      "Epoch 18/20\n",
      "124/124 [==============================] - 23s 185ms/step - loss: 0.1245 - acc: 0.9733 - val_loss: 0.0384 - val_acc: 0.9855\n",
      "Epoch 19/20\n",
      "124/124 [==============================] - 23s 185ms/step - loss: 0.0901 - acc: 0.9725 - val_loss: 0.0417 - val_acc: 0.9783\n",
      "Epoch 20/20\n",
      "124/124 [==============================] - 23s 186ms/step - loss: 0.1069 - acc: 0.9742 - val_loss: 0.0175 - val_acc: 0.9928\n"
     ]
    }
   ],
   "source": [
    "history = model.fit_generator(train_generator,\n",
    "                              epochs=20,\n",
    "                              verbose=1,\n",
    "                              validation_data=validation_generator)\n"
   ]
  },
  {
   "cell_type": "code",
   "execution_count": 17,
   "metadata": {
    "colab": {},
    "colab_type": "code",
    "id": "MWZrJN4-65RC"
   },
   "outputs": [
    {
     "data": {
      "text/plain": [
       "Text(0.5,1,'Training and validation loss')"
      ]
     },
     "execution_count": 17,
     "metadata": {},
     "output_type": "execute_result"
    },
    {
     "data": {
      "image/png": "[encoded data removed]",
      "text/plain": [
       "<Figure size 432x288 with 1 Axes>"
      ]
     },
     "metadata": {},
     "output_type": "display_data"
    },
    {
     "data": {
      "image/png": "[encoded data removed]",
      "text/plain": [
       "<Figure size 432x288 with 1 Axes>"
      ]
     },
     "metadata": {},
     "output_type": "display_data"
    }
   ],
   "source": [
    "# PLOT LOSS AND ACCURACY\n",
    "%matplotlib inline\n",
    "\n",
    "import matplotlib.image  as mpimg\n",
    "import matplotlib.pyplot as plt\n",
    "\n",
    "#-----------------------------------------------------------\n",
    "# Retrieve a list of list results on training and test data\n",
    "# sets for each training epoch\n",
    "#-----------------------------------------------------------\n",
    "acc=history.history['acc']\n",
    "val_acc=history.history['val_acc']\n",
    "loss=history.history['loss']\n",
    "val_loss=history.history['val_loss']\n",
    "\n",
    "epochs=range(len(acc)) # Get number of epochs\n",
    "\n",
    "#------------------------------------------------\n",
    "# Plot training and validation accuracy per epoch\n",
    "#------------------------------------------------\n",
    "plt.plot(epochs, acc, 'r', \"Training Accuracy\")\n",
    "plt.plot(epochs, val_acc, 'b', \"Validation Accuracy\")\n",
    "plt.title('Training and validation accuracy')\n",
    "plt.figure()\n",
    "\n",
    "#------------------------------------------------\n",
    "# Plot training and validation loss per epoch\n",
    "#------------------------------------------------\n",
    "plt.plot(epochs, loss, 'r', \"Training Loss\")\n",
    "plt.plot(epochs, val_loss, 'b', \"Validation Loss\")\n",
    "\n",
    "\n",
    "plt.title('Training and validation loss')\n",
    "\n",
    "# Desired output. Charts with training and validation metrics. No crash :)"
   ]
  },
  {
   "cell_type": "code",
   "execution_count": 42,
   "metadata": {},
   "outputs": [],
   "source": [
    "model.save(\"model-tf-keras-covid-detection.h5\")"
   ]
  },
  {
   "cell_type": "code",
   "execution_count": null,
   "metadata": {},
   "outputs": [],
   "source": []
  }
 ],
 "metadata": {
  "accelerator": "GPU",
  "colab": {
   "collapsed_sections": [],
   "name": "Exercise 6 - Question.ipynb",
   "provenance": []
  },
  "coursera": {
   "course_slug": "convolutional-neural-networks-tensorflow",
   "graded_item_id": "uAPOR",
   "launcher_item_id": "e9lTb"
  },
  "kernelspec": {
   "display_name": "Python 3",
   "language": "python",
   "name": "python3"
  },
  "language_info": {
   "codemirror_mode": {
    "name": "ipython",
    "version": 3
   },
   "file_extension": ".py",
   "mimetype": "text/x-python",
   "name": "python",
   "nbconvert_exporter": "python",
   "pygments_lexer": "ipython3",
   "version": "3.6.9"
  }
 },
 "nbformat": 4,
 "nbformat_minor": 1
}
