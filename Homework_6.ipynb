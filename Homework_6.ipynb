{
  "nbformat": 4,
  "nbformat_minor": 0,
  "metadata": {
    "colab": {
      "name": "Homework_6.ipynb",
      "provenance": [],
      "collapsed_sections": []
    },
    "kernelspec": {
      "name": "python3",
      "display_name": "Python 3"
    },
    "language_info": {
      "name": "python"
    }
  },
  "cells": [
    {
      "cell_type": "code",
      "execution_count": 1,
      "metadata": {
        "id": "WOradQMLrYtj"
      },
      "outputs": [],
      "source": [
        "import numpy as np \n",
        "import matplotlib.pyplot as plt\n",
        "import pandas as pd"
      ]
    },
    {
      "cell_type": "code",
      "source": [
        "#data= pd.read_csv()\n",
        "#https://www.shanelynn.ie/pandas-iloc-loc-select-rows-and-columns-dataframe/"
      ],
      "metadata": {
        "id": "hzelrzqjB0us"
      },
      "execution_count": 2,
      "outputs": []
    },
    {
      "cell_type": "code",
      "source": [
        "import numpy as np\n",
        "import pandas as pd\n",
        "data = pd.read_csv('https://raw.githubusercontent.com/mhemmg/NeuralNetworkRSouzaCourse/master/Notebooks/extras/classes_MH/class_15/mnist_test.csv')\n",
        "data = data.to_numpy()\n",
        "X_data = data[:, 1:]\n",
        "y_data = data[:, 0]\n",
        "\n",
        "from sklearn.model_selection import train_test_split\n",
        "(X_train,X_test,y_train,y_test)=train_test_split(X_data,y_data,test_size=0.1, random_state=3)\n",
        "\n"
      ],
      "metadata": {
        "id": "ruQnLF6_zq2V"
      },
      "execution_count": 3,
      "outputs": []
    },
    {
      "cell_type": "code",
      "source": [
        "y_data\n",
        "print('shape of the train dataset:',X_train.shape)\n"
      ],
      "metadata": {
        "colab": {
          "base_uri": "https://localhost:8080/"
        },
        "id": "G-ARsvHCDRPp",
        "outputId": "578d1a89-0b3c-4862-acf4-870ba5571979"
      },
      "execution_count": 4,
      "outputs": [
        {
          "output_type": "stream",
          "name": "stdout",
          "text": [
            "shape of the train dataset: (9000, 784)\n"
          ]
        }
      ]
    },
    {
      "cell_type": "code",
      "source": [
        "import tensorflow as tf\n",
        "from tensorflow.keras.models import Sequential\n",
        "from tensorflow.keras.layers import InputLayer, Dense, Flatten\n"
      ],
      "metadata": {
        "id": "YglD_4xUDYBo"
      },
      "execution_count": 5,
      "outputs": []
    },
    {
      "cell_type": "code",
      "source": [
        "tf.random.set_seed(1234)"
      ],
      "metadata": {
        "id": "mp7MOx9CEUWy"
      },
      "execution_count": 6,
      "outputs": []
    },
    {
      "cell_type": "code",
      "source": [
        "def get_model(input_shape):\n",
        "    model=Sequential([\n",
        "                  InputLayer(input_shape=input_shape),\n",
        "                  Dense(units=16,activation='relu',name='layer_hidden'),\n",
        "                  Dense(units=10,activation='softmax',name='output_layer')\n",
        "                 ])\n",
        "    return model\n",
        "\n"
      ],
      "metadata": {
        "id": "s0LeiwLmEdSv"
      },
      "execution_count": 7,
      "outputs": []
    },
    {
      "cell_type": "code",
      "source": [
        "#model = get_model(X_train[0].shape)"
      ],
      "metadata": {
        "id": "NC3OIQr9FGrR"
      },
      "execution_count": 8,
      "outputs": []
    },
    {
      "cell_type": "code",
      "source": [
        "from keras.utils.np_utils import to_categorical   \n",
        "y_train_tf_one_hot = to_categorical(y_train, num_classes=10)\n",
        "y_test_tf_one_hot = to_categorical(y_test, num_classes=10)"
      ],
      "metadata": {
        "id": "6-9sRaguFLQw"
      },
      "execution_count": 9,
      "outputs": []
    },
    {
      "cell_type": "code",
      "source": [
        "def compile_model(model):\n",
        "        model.compile(optimizer=tf.keras.optimizers.Adam(learning_rate=0.001),\n",
        "              loss='sparse_categorical_crossentropy',metrics=['accuracy'] )\n",
        "tf.random.set_seed(1234)"
      ],
      "metadata": {
        "id": "P_lGRFwMLUH1"
      },
      "execution_count": 10,
      "outputs": []
    },
    {
      "cell_type": "code",
      "source": [
        "image_size = 784 # tamaño de cada imagen  \n",
        "num_classes = 10 # número de clases\n",
        "def create_dense(layer_sizes):\n",
        "    tf.random.set_seed(1234)\n",
        "    model = Sequential()\n",
        "    model.add(Dense(layer_sizes[0], activation='sigmoid', input_shape=(image_size,)))\n",
        "\n",
        "    for s in layer_sizes[1:]:\n",
        "        model.add(Dense(units = s, activation = 'relu'))\n",
        "    \n",
        "    model.add(Dense(units=num_classes, activation='softmax'))\n",
        "    return model\n",
        "\n",
        "def evaluate(model, batch_size=64, epochs=5):\n",
        "    model.summary()\n",
        "    model.compile(optimizer=tf.keras.optimizers.SGD(learning_rate=0.01), loss='categorical_crossentropy', metrics=['accuracy'])\n",
        "    history = model.fit(X_train, y_train_tf_one_hot, batch_size=batch_size, epochs=epochs, validation_split=.1, verbose=False)\n",
        "    loss, accuracy  = model.evaluate(X_test, y_test_tf_one_hot, verbose=False)\n",
        "    \n",
        "    plt.plot(history.history['accuracy'])\n",
        "    plt.plot(history.history['val_accuracy'])\n",
        "    plt.title('Accuracy del modelo')\n",
        "    plt.ylabel('Accuracy')\n",
        "    plt.xlabel('Epocas')\n",
        "    plt.legend(['training', 'validation'], loc='best')\n",
        "    plt.show()\n",
        "\n",
        "    print()\n",
        "    print(f'Test loss: {loss:.3}')\n",
        "    print(f'Test accuracy: {accuracy:.3}')\n",
        "    validation_accuracy= (history.history['accuracy'][-1])\n",
        "    print(f'Max Validation accuracy: {validation_accuracy:.3}')"
      ],
      "metadata": {
        "id": "-98-l0cwLXC0"
      },
      "execution_count": 13,
      "outputs": []
    },
    {
      "cell_type": "code",
      "source": [
        "layers=3\n",
        "model = create_dense([64]*layers)\n",
        "evaluate(model,epochs=60)"
      ],
      "metadata": {
        "colab": {
          "base_uri": "https://localhost:8080/",
          "height": 677
        },
        "id": "USgkqq1KLZvD",
        "outputId": "914371c6-ab8e-464a-a83d-802fe5e24d75"
      },
      "execution_count": 12,
      "outputs": [
        {
          "output_type": "stream",
          "name": "stdout",
          "text": [
            "Model: \"sequential\"\n",
            "_________________________________________________________________\n",
            " Layer (type)                Output Shape              Param #   \n",
            "=================================================================\n",
            " dense (Dense)               (None, 64)                50240     \n",
            "                                                                 \n",
            " dense_1 (Dense)             (None, 64)                4160      \n",
            "                                                                 \n",
            " dense_2 (Dense)             (None, 64)                4160      \n",
            "                                                                 \n",
            " dense_3 (Dense)             (None, 10)                650       \n",
            "                                                                 \n",
            "=================================================================\n",
            "Total params: 59,210\n",
            "Trainable params: 59,210\n",
            "Non-trainable params: 0\n",
            "_________________________________________________________________\n"
          ]
        },
        {
          "output_type": "display_data",
          "data": {
            "image/png": "[encoded data removed]",
            "text/plain": [
              "<Figure size 432x288 with 1 Axes>"
            ]
          },
          "metadata": {
            "needs_background": "light"
          }
        },
        {
          "output_type": "stream",
          "name": "stdout",
          "text": [
            "\n",
            "Test loss: 0.25\n",
            "Test accuracy: 0.912\n",
            "Validation accuracy: 0.94\n"
          ]
        }
      ]
    },
    {
      "cell_type": "code",
      "source": [
        ""
      ],
      "metadata": {
        "id": "pcGMSJvpPq0z"
      },
      "execution_count": 12,
      "outputs": []
    }
  ]
}